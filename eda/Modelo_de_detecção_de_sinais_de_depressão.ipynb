{
  "nbformat": 4,
  "nbformat_minor": 0,
  "metadata": {
    "colab": {
      "name": "Modelo de detecção de sinais de depressão.ipynb",
      "provenance": [],
      "collapsed_sections": []
    },
    "kernelspec": {
      "name": "python3",
      "display_name": "Python 3"
    }
  },
  "cells": [
    {
      "cell_type": "code",
      "metadata": {
        "id": "fOVcfzHx6p1K",
        "colab": {
          "base_uri": "https://localhost:8080/"
        },
        "outputId": "fdcdeae4-1f99-4b49-8edc-d7764fc8e46f"
      },
      "source": [
        "from google.colab import drive\n",
        "drive.mount('/content/drive')"
      ],
      "execution_count": null,
      "outputs": [
        {
          "output_type": "stream",
          "text": [
            "Drive already mounted at /content/drive; to attempt to forcibly remount, call drive.mount(\"/content/drive\", force_remount=True).\n"
          ],
          "name": "stdout"
        }
      ]
    },
    {
      "cell_type": "markdown",
      "metadata": {
        "id": "TSPh8aFQVWMt"
      },
      "source": [
        "#El tentativa "
      ]
    },
    {
      "cell_type": "code",
      "metadata": {
        "id": "4CE6JN6AVVA9",
        "colab": {
          "base_uri": "https://localhost:8080/"
        },
        "outputId": "8c4f268a-fc42-4eb9-d6a0-2eeee6a24d5e"
      },
      "source": [
        "#Importes\n",
        "\n",
        "#Funções próprias\n",
        "import sys\n",
        "sys.path.append('/content/drive/My Drive/Análise de Sentimentos/Projeto para 08-09/')\n",
        "import utils\n",
        "from utils import *\n",
        "\n",
        "#Visualização de dados\n",
        "import pandas as pd \n",
        "pd.set_option('display.max_colwidth', -1)\n",
        "import matplotlib.pyplot as plt\n",
        "from sklearn.metrics import confusion_matrix, classification_report\n",
        "from sklearn.metrics import precision_score, recall_score, f1_score\n",
        "\n",
        "#Pré-processamento\n",
        "!pip install emot\n",
        "import re\n",
        "from emot.emo_unicode import UNICODE_EMO, EMOTICONS\n",
        "\n",
        "#Manipulação de dados\n",
        "import json\n",
        "from sklearn.model_selection import train_test_split\n",
        "import numpy as np\n",
        "\n",
        "#Redes neurais\n",
        "import torch\n",
        "from torch import nn\n",
        "\n",
        "import time\n",
        "from IPython.display import clear_output\n",
        "import torch.nn.functional as F"
      ],
      "execution_count": null,
      "outputs": [
        {
          "output_type": "stream",
          "text": [
            "/usr/local/lib/python3.6/dist-packages/ipykernel_launcher.py:11: FutureWarning: Passing a negative integer is deprecated in version 1.0 and will not be supported in future version. Instead, use None to not limit the column width.\n",
            "  # This is added back by InteractiveShellApp.init_path()\n"
          ],
          "name": "stderr"
        },
        {
          "output_type": "stream",
          "text": [
            "Requirement already satisfied: emot in /usr/local/lib/python3.6/dist-packages (2.1)\n"
          ],
          "name": "stdout"
        }
      ]
    },
    {
      "cell_type": "code",
      "metadata": {
        "id": "Pgv4VR7x09Tj",
        "colab": {
          "base_uri": "https://localhost:8080/"
        },
        "outputId": "a6c18aca-8680-4abc-fe11-2cbc59bec2a7"
      },
      "source": [
        "np.random.seed(666)\n",
        "torch.manual_seed(666)"
      ],
      "execution_count": null,
      "outputs": [
        {
          "output_type": "execute_result",
          "data": {
            "text/plain": [
              "<torch._C.Generator at 0x7ff0db5de1b0>"
            ]
          },
          "metadata": {
            "tags": []
          },
          "execution_count": 12
        }
      ]
    },
    {
      "cell_type": "code",
      "metadata": {
        "id": "GFEJMDjIkqRW",
        "colab": {
          "base_uri": "https://localhost:8080/",
          "height": 255
        },
        "outputId": "5b6c0930-034b-4bad-a679-60d548569337"
      },
      "source": [
        "dataset = pd.read_csv('/content/drive/My Drive/Análise de Sentimentos/Projeto para 08-09/Dataset_depression_REVISADO.csv', index_col=0)\n",
        "dataset.head()"
      ],
      "execution_count": null,
      "outputs": [
        {
          "output_type": "execute_result",
          "data": {
            "text/html": [
              "<div>\n",
              "<style scoped>\n",
              "    .dataframe tbody tr th:only-of-type {\n",
              "        vertical-align: middle;\n",
              "    }\n",
              "\n",
              "    .dataframe tbody tr th {\n",
              "        vertical-align: top;\n",
              "    }\n",
              "\n",
              "    .dataframe thead th {\n",
              "        text-align: right;\n",
              "    }\n",
              "</style>\n",
              "<table border=\"1\" class=\"dataframe\">\n",
              "  <thead>\n",
              "    <tr style=\"text-align: right;\">\n",
              "      <th></th>\n",
              "      <th>usuario</th>\n",
              "      <th>texto</th>\n",
              "      <th>depressao</th>\n",
              "      <th>texto_traduzido</th>\n",
              "    </tr>\n",
              "  </thead>\n",
              "  <tbody>\n",
              "    <tr>\n",
              "      <th>0</th>\n",
              "      <td>lIlIIIlllllIII</td>\n",
              "      <td>arrombada sem mae querendo cancelar um esquizofrênico\\n\\ndeu de internet por hoje https://t.co/I8SzMHuYV4</td>\n",
              "      <td>1</td>\n",
              "      <td>broken into without a mother wanting to cancel a schizophrenic\\n\\ngave internet for today https://t.co/I8SzMHuYV4</td>\n",
              "    </tr>\n",
              "    <tr>\n",
              "      <th>1</th>\n",
              "      <td>rnnpgn</td>\n",
              "      <td>Não tem nada absolutamente mais SEM GRAÇA do que essa galera comentando em perfis esportivos com a foto do Casagrande</td>\n",
              "      <td>0</td>\n",
              "      <td>There is nothing absolutely NO MORE FREE than this crowd commenting on sports profiles with Casagrande's photo</td>\n",
              "    </tr>\n",
              "    <tr>\n",
              "      <th>2</th>\n",
              "      <td>KMoraez</td>\n",
              "      <td>Abalada com toda a situação da minha vida</td>\n",
              "      <td>0</td>\n",
              "      <td>Shaken by the whole situation of my life</td>\n",
              "    </tr>\n",
              "    <tr>\n",
              "      <th>3</th>\n",
              "      <td>rammassss</td>\n",
              "      <td>aí sempre fico feliz pelas conquistas dos meus amigos sabe.... sério</td>\n",
              "      <td>1</td>\n",
              "      <td>then I am always happy for the achievements of my friends you know .... seriously</td>\n",
              "    </tr>\n",
              "    <tr>\n",
              "      <th>4</th>\n",
              "      <td>fuckjxxnny_oh</td>\n",
              "      <td>respirando fundo pra nao socar a cara de ngm</td>\n",
              "      <td>1</td>\n",
              "      <td>taking a deep breath not to punch anyone in the face</td>\n",
              "    </tr>\n",
              "  </tbody>\n",
              "</table>\n",
              "</div>"
            ],
            "text/plain": [
              "          usuario  ...                                                                                                    texto_traduzido\n",
              "0  lIlIIIlllllIII  ...  broken into without a mother wanting to cancel a schizophrenic\\n\\ngave internet for today https://t.co/I8SzMHuYV4\n",
              "1  rnnpgn          ...  There is nothing absolutely NO MORE FREE than this crowd commenting on sports profiles with Casagrande's photo   \n",
              "2  KMoraez         ...  Shaken by the whole situation of my life                                                                         \n",
              "3  rammassss       ...  then I am always happy for the achievements of my friends you know .... seriously                                \n",
              "4  fuckjxxnny_oh   ...  taking a deep breath not to punch anyone in the face                                                             \n",
              "\n",
              "[5 rows x 4 columns]"
            ]
          },
          "metadata": {
            "tags": []
          },
          "execution_count": 13
        }
      ]
    },
    {
      "cell_type": "code",
      "metadata": {
        "colab": {
          "base_uri": "https://localhost:8080/"
        },
        "id": "uimir6i-c0z-",
        "outputId": "c8441468-a188-4ed1-e6e5-c5a6a30c046f"
      },
      "source": [
        "dataset['texto_traduzido'].dtype"
      ],
      "execution_count": null,
      "outputs": [
        {
          "output_type": "execute_result",
          "data": {
            "text/plain": [
              "dtype('O')"
            ]
          },
          "metadata": {
            "tags": []
          },
          "execution_count": 14
        }
      ]
    },
    {
      "cell_type": "code",
      "metadata": {
        "id": "z8GGQx92dLpf"
      },
      "source": [
        "dataset['texto_traduzido'] = dataset['texto_traduzido'].astype(str)"
      ],
      "execution_count": null,
      "outputs": []
    },
    {
      "cell_type": "markdown",
      "metadata": {
        "id": "vs-u-wU8mVT9"
      },
      "source": [
        "#Pré-processamento\n",
        "\n",
        "##\"Tradução\" de emojis"
      ]
    },
    {
      "cell_type": "code",
      "metadata": {
        "id": "0Cdco_idk3L7"
      },
      "source": [
        "def convert_emojis(text):\n",
        "    for emot in UNICODE_EMO:\n",
        "        text = text.replace(emot, \"_\".join(UNICODE_EMO[emot].replace(\",\",\"\").split()))\n",
        "        text = text.replace(\":\",\" \")\n",
        "    return text"
      ],
      "execution_count": null,
      "outputs": []
    },
    {
      "cell_type": "code",
      "metadata": {
        "id": "XSC8Z9QSmwyQ"
      },
      "source": [
        "dataset['documento_processado'] = dataset['texto_traduzido'].apply(lambda x: convert_emojis(x))"
      ],
      "execution_count": null,
      "outputs": []
    },
    {
      "cell_type": "code",
      "metadata": {
        "id": "50y7FaOsW84e",
        "colab": {
          "base_uri": "https://localhost:8080/",
          "height": 306
        },
        "outputId": "c35bc4bb-bce4-4d9a-9baa-80dc54b303ce"
      },
      "source": [
        "dataset.head()"
      ],
      "execution_count": null,
      "outputs": [
        {
          "output_type": "execute_result",
          "data": {
            "text/html": [
              "<div>\n",
              "<style scoped>\n",
              "    .dataframe tbody tr th:only-of-type {\n",
              "        vertical-align: middle;\n",
              "    }\n",
              "\n",
              "    .dataframe tbody tr th {\n",
              "        vertical-align: top;\n",
              "    }\n",
              "\n",
              "    .dataframe thead th {\n",
              "        text-align: right;\n",
              "    }\n",
              "</style>\n",
              "<table border=\"1\" class=\"dataframe\">\n",
              "  <thead>\n",
              "    <tr style=\"text-align: right;\">\n",
              "      <th></th>\n",
              "      <th>usuario</th>\n",
              "      <th>texto</th>\n",
              "      <th>depressao</th>\n",
              "      <th>texto_traduzido</th>\n",
              "      <th>documento_processado</th>\n",
              "    </tr>\n",
              "  </thead>\n",
              "  <tbody>\n",
              "    <tr>\n",
              "      <th>0</th>\n",
              "      <td>lIlIIIlllllIII</td>\n",
              "      <td>arrombada sem mae querendo cancelar um esquizofrênico\\n\\ndeu de internet por hoje https://t.co/I8SzMHuYV4</td>\n",
              "      <td>1</td>\n",
              "      <td>broken into without a mother wanting to cancel a schizophrenic\\n\\ngave internet for today https://t.co/I8SzMHuYV4</td>\n",
              "      <td>broken into without a mother wanting to cancel a schizophrenic\\n\\ngave internet for today https //t.co/I8SzMHuYV4</td>\n",
              "    </tr>\n",
              "    <tr>\n",
              "      <th>1</th>\n",
              "      <td>rnnpgn</td>\n",
              "      <td>Não tem nada absolutamente mais SEM GRAÇA do que essa galera comentando em perfis esportivos com a foto do Casagrande</td>\n",
              "      <td>0</td>\n",
              "      <td>There is nothing absolutely NO MORE FREE than this crowd commenting on sports profiles with Casagrande's photo</td>\n",
              "      <td>There is nothing absolutely NO MORE FREE than this crowd commenting on sports profiles with Casagrande's photo</td>\n",
              "    </tr>\n",
              "    <tr>\n",
              "      <th>2</th>\n",
              "      <td>KMoraez</td>\n",
              "      <td>Abalada com toda a situação da minha vida</td>\n",
              "      <td>0</td>\n",
              "      <td>Shaken by the whole situation of my life</td>\n",
              "      <td>Shaken by the whole situation of my life</td>\n",
              "    </tr>\n",
              "    <tr>\n",
              "      <th>3</th>\n",
              "      <td>rammassss</td>\n",
              "      <td>aí sempre fico feliz pelas conquistas dos meus amigos sabe.... sério</td>\n",
              "      <td>1</td>\n",
              "      <td>then I am always happy for the achievements of my friends you know .... seriously</td>\n",
              "      <td>then I am always happy for the achievements of my friends you know .... seriously</td>\n",
              "    </tr>\n",
              "    <tr>\n",
              "      <th>4</th>\n",
              "      <td>fuckjxxnny_oh</td>\n",
              "      <td>respirando fundo pra nao socar a cara de ngm</td>\n",
              "      <td>1</td>\n",
              "      <td>taking a deep breath not to punch anyone in the face</td>\n",
              "      <td>taking a deep breath not to punch anyone in the face</td>\n",
              "    </tr>\n",
              "  </tbody>\n",
              "</table>\n",
              "</div>"
            ],
            "text/plain": [
              "          usuario  ...                                                                                               documento_processado\n",
              "0  lIlIIIlllllIII  ...  broken into without a mother wanting to cancel a schizophrenic\\n\\ngave internet for today https //t.co/I8SzMHuYV4\n",
              "1  rnnpgn          ...  There is nothing absolutely NO MORE FREE than this crowd commenting on sports profiles with Casagrande's photo   \n",
              "2  KMoraez         ...  Shaken by the whole situation of my life                                                                         \n",
              "3  rammassss       ...  then I am always happy for the achievements of my friends you know .... seriously                                \n",
              "4  fuckjxxnny_oh   ...  taking a deep breath not to punch anyone in the face                                                             \n",
              "\n",
              "[5 rows x 5 columns]"
            ]
          },
          "metadata": {
            "tags": []
          },
          "execution_count": 18
        }
      ]
    },
    {
      "cell_type": "markdown",
      "metadata": {
        "id": "aymLmDMjnGRD"
      },
      "source": [
        "##Limpeza de texto"
      ]
    },
    {
      "cell_type": "code",
      "metadata": {
        "id": "x4rWVFNhudOd"
      },
      "source": [
        "dataset['documento_processado'] = dataset['documento_processado'].apply(lambda x: clean_text(x))"
      ],
      "execution_count": null,
      "outputs": []
    },
    {
      "cell_type": "code",
      "metadata": {
        "id": "ptFBT-dnnKl5",
        "colab": {
          "base_uri": "https://localhost:8080/",
          "height": 289
        },
        "outputId": "9b8d136d-d718-4a9e-810d-6f2648c12dcd"
      },
      "source": [
        "dataset.head()"
      ],
      "execution_count": null,
      "outputs": [
        {
          "output_type": "execute_result",
          "data": {
            "text/html": [
              "<div>\n",
              "<style scoped>\n",
              "    .dataframe tbody tr th:only-of-type {\n",
              "        vertical-align: middle;\n",
              "    }\n",
              "\n",
              "    .dataframe tbody tr th {\n",
              "        vertical-align: top;\n",
              "    }\n",
              "\n",
              "    .dataframe thead th {\n",
              "        text-align: right;\n",
              "    }\n",
              "</style>\n",
              "<table border=\"1\" class=\"dataframe\">\n",
              "  <thead>\n",
              "    <tr style=\"text-align: right;\">\n",
              "      <th></th>\n",
              "      <th>usuario</th>\n",
              "      <th>texto</th>\n",
              "      <th>depressao</th>\n",
              "      <th>texto_traduzido</th>\n",
              "      <th>documento_processado</th>\n",
              "    </tr>\n",
              "  </thead>\n",
              "  <tbody>\n",
              "    <tr>\n",
              "      <th>0</th>\n",
              "      <td>lIlIIIlllllIII</td>\n",
              "      <td>arrombada sem mae querendo cancelar um esquizofrênico\\n\\ndeu de internet por hoje https://t.co/I8SzMHuYV4</td>\n",
              "      <td>1</td>\n",
              "      <td>broken into without a mother wanting to cancel a schizophrenic\\n\\ngave internet for today https://t.co/I8SzMHuYV4</td>\n",
              "      <td>[broken, without, mother, want, cancel, schizophren, gave, internet, today, http, co, i8szmhuyv4]</td>\n",
              "    </tr>\n",
              "    <tr>\n",
              "      <th>1</th>\n",
              "      <td>rnnpgn</td>\n",
              "      <td>Não tem nada absolutamente mais SEM GRAÇA do que essa galera comentando em perfis esportivos com a foto do Casagrande</td>\n",
              "      <td>0</td>\n",
              "      <td>There is nothing absolutely NO MORE FREE than this crowd commenting on sports profiles with Casagrande's photo</td>\n",
              "      <td>[noth, absolut, free, crowd, comment, sport, profil, casagrand, photo]</td>\n",
              "    </tr>\n",
              "    <tr>\n",
              "      <th>2</th>\n",
              "      <td>KMoraez</td>\n",
              "      <td>Abalada com toda a situação da minha vida</td>\n",
              "      <td>0</td>\n",
              "      <td>Shaken by the whole situation of my life</td>\n",
              "      <td>[shaken, whole, situat, life]</td>\n",
              "    </tr>\n",
              "    <tr>\n",
              "      <th>3</th>\n",
              "      <td>rammassss</td>\n",
              "      <td>aí sempre fico feliz pelas conquistas dos meus amigos sabe.... sério</td>\n",
              "      <td>1</td>\n",
              "      <td>then I am always happy for the achievements of my friends you know .... seriously</td>\n",
              "      <td>[alway, happi, achiev, friend, know, serious]</td>\n",
              "    </tr>\n",
              "    <tr>\n",
              "      <th>4</th>\n",
              "      <td>fuckjxxnny_oh</td>\n",
              "      <td>respirando fundo pra nao socar a cara de ngm</td>\n",
              "      <td>1</td>\n",
              "      <td>taking a deep breath not to punch anyone in the face</td>\n",
              "      <td>[take, deep, breath, punch, anyon, face]</td>\n",
              "    </tr>\n",
              "  </tbody>\n",
              "</table>\n",
              "</div>"
            ],
            "text/plain": [
              "          usuario  ...                                                                               documento_processado\n",
              "0  lIlIIIlllllIII  ...  [broken, without, mother, want, cancel, schizophren, gave, internet, today, http, co, i8szmhuyv4]\n",
              "1  rnnpgn          ...  [noth, absolut, free, crowd, comment, sport, profil, casagrand, photo]                           \n",
              "2  KMoraez         ...  [shaken, whole, situat, life]                                                                    \n",
              "3  rammassss       ...  [alway, happi, achiev, friend, know, serious]                                                    \n",
              "4  fuckjxxnny_oh   ...  [take, deep, breath, punch, anyon, face]                                                         \n",
              "\n",
              "[5 rows x 5 columns]"
            ]
          },
          "metadata": {
            "tags": []
          },
          "execution_count": 20
        }
      ]
    },
    {
      "cell_type": "markdown",
      "metadata": {
        "id": "JtyZsPu3pJyW"
      },
      "source": [
        "##Codificando o texto para o nosso modelo"
      ]
    },
    {
      "cell_type": "code",
      "metadata": {
        "id": "ZBUpGIATXikD"
      },
      "source": [
        "with open('/content/drive/My Drive/Análise de Sentimentos/Projeto para 08-09/vocab.json', 'r') as fp:\n",
        "    word2idx = json.load(fp)"
      ],
      "execution_count": null,
      "outputs": []
    },
    {
      "cell_type": "code",
      "metadata": {
        "id": "1hePZWJCqSkV",
        "colab": {
          "base_uri": "https://localhost:8080/"
        },
        "outputId": "f2c4de89-e60c-42e0-816d-370b8c3228be"
      },
      "source": [
        "idx2word = list(word2idx.keys()) # apenas transforma as chaves (palavras ordenadas) do dicionário word2idx em uma lista\n",
        "\n",
        "# testando a conversão \"index to word\":\n",
        "print(f'word for index 0:    {idx2word[0]}')\n",
        "print(f'word for index 100\": {idx2word[100]}')"
      ],
      "execution_count": null,
      "outputs": [
        {
          "output_type": "stream",
          "text": [
            "word for index 0:    <OOV>\n",
            "word for index 100\": addl\n"
          ],
          "name": "stdout"
        }
      ]
    },
    {
      "cell_type": "code",
      "metadata": {
        "id": "Kqwc7jFLqUTx",
        "colab": {
          "base_uri": "https://localhost:8080/"
        },
        "outputId": "31ec2bd1-0a0c-4dcb-b51c-c61a1443ba58"
      },
      "source": [
        "max_len = 30         # comprimento máximo da mensagem (em número de palavras)\n",
        "encoded_docs = []    # inicializa a lista de documentos codificados\n",
        "\n",
        "for doc in dataset['documento_processado']: # para cada texto\n",
        "  encoded_d = [word2idx.get(t,word2idx['<OOV>']) for t in doc]    # codifica o documento usando o dicionário word2idx\n",
        "  encoded_d += [word2idx['<PAD>']]*max(0, max_len-len(encoded_d))    # adiciona o padding, se necessário\n",
        "  \n",
        "  encoded_docs.append(encoded_d[:max_len])                           # trunca o documento e salva na lista de documentos codificados\n",
        "\n",
        "len(encoded_docs)  "
      ],
      "execution_count": null,
      "outputs": [
        {
          "output_type": "execute_result",
          "data": {
            "text/plain": [
              "1411"
            ]
          },
          "metadata": {
            "tags": []
          },
          "execution_count": 23
        }
      ]
    },
    {
      "cell_type": "code",
      "metadata": {
        "id": "y9kauNgMZB9i",
        "colab": {
          "base_uri": "https://localhost:8080/",
          "height": 340
        },
        "outputId": "5b0967cc-6d83-4334-e4c9-a4525d095cfc"
      },
      "source": [
        "dataset['documento_processado'] = encoded_docs\n",
        "dataset.head()"
      ],
      "execution_count": null,
      "outputs": [
        {
          "output_type": "execute_result",
          "data": {
            "text/html": [
              "<div>\n",
              "<style scoped>\n",
              "    .dataframe tbody tr th:only-of-type {\n",
              "        vertical-align: middle;\n",
              "    }\n",
              "\n",
              "    .dataframe tbody tr th {\n",
              "        vertical-align: top;\n",
              "    }\n",
              "\n",
              "    .dataframe thead th {\n",
              "        text-align: right;\n",
              "    }\n",
              "</style>\n",
              "<table border=\"1\" class=\"dataframe\">\n",
              "  <thead>\n",
              "    <tr style=\"text-align: right;\">\n",
              "      <th></th>\n",
              "      <th>usuario</th>\n",
              "      <th>texto</th>\n",
              "      <th>depressao</th>\n",
              "      <th>texto_traduzido</th>\n",
              "      <th>documento_processado</th>\n",
              "    </tr>\n",
              "  </thead>\n",
              "  <tbody>\n",
              "    <tr>\n",
              "      <th>0</th>\n",
              "      <td>lIlIIIlllllIII</td>\n",
              "      <td>arrombada sem mae querendo cancelar um esquizofrênico\\n\\ndeu de internet por hoje https://t.co/I8SzMHuYV4</td>\n",
              "      <td>1</td>\n",
              "      <td>broken into without a mother wanting to cancel a schizophrenic\\n\\ngave internet for today https://t.co/I8SzMHuYV4</td>\n",
              "      <td>[1107, 9966, 5784, 9757, 1254, 0, 3589, 4550, 9048, 4223, 0, 0, 1, 1, 1, 1, 1, 1, 1, 1, 1, 1, 1, 1, 1, 1, 1, 1, 1, 1]</td>\n",
              "    </tr>\n",
              "    <tr>\n",
              "      <th>1</th>\n",
              "      <td>rnnpgn</td>\n",
              "      <td>Não tem nada absolutamente mais SEM GRAÇA do que essa galera comentando em perfis esportivos com a foto do Casagrande</td>\n",
              "      <td>0</td>\n",
              "      <td>There is nothing absolutely NO MORE FREE than this crowd commenting on sports profiles with Casagrande's photo</td>\n",
              "      <td>[6095, 31, 3460, 2007, 1696, 8350, 6927, 0, 6610, 1, 1, 1, 1, 1, 1, 1, 1, 1, 1, 1, 1, 1, 1, 1, 1, 1, 1, 1, 1, 1]</td>\n",
              "    </tr>\n",
              "    <tr>\n",
              "      <th>2</th>\n",
              "      <td>KMoraez</td>\n",
              "      <td>Abalada com toda a situação da minha vida</td>\n",
              "      <td>0</td>\n",
              "      <td>Shaken by the whole situation of my life</td>\n",
              "      <td>[7851, 9892, 8023, 5128, 1, 1, 1, 1, 1, 1, 1, 1, 1, 1, 1, 1, 1, 1, 1, 1, 1, 1, 1, 1, 1, 1, 1, 1, 1, 1]</td>\n",
              "    </tr>\n",
              "    <tr>\n",
              "      <th>3</th>\n",
              "      <td>rammassss</td>\n",
              "      <td>aí sempre fico feliz pelas conquistas dos meus amigos sabe.... sério</td>\n",
              "      <td>1</td>\n",
              "      <td>then I am always happy for the achievements of my friends you know .... seriously</td>\n",
              "      <td>[269, 3927, 73, 3484, 4922, 7819, 1, 1, 1, 1, 1, 1, 1, 1, 1, 1, 1, 1, 1, 1, 1, 1, 1, 1, 1, 1, 1, 1, 1, 1]</td>\n",
              "    </tr>\n",
              "    <tr>\n",
              "      <th>4</th>\n",
              "      <td>fuckjxxnny_oh</td>\n",
              "      <td>respirando fundo pra nao socar a cara de ngm</td>\n",
              "      <td>1</td>\n",
              "      <td>taking a deep breath not to punch anyone in the face</td>\n",
              "      <td>[8766, 2190, 1074, 7012, 380, 3090, 1, 1, 1, 1, 1, 1, 1, 1, 1, 1, 1, 1, 1, 1, 1, 1, 1, 1, 1, 1, 1, 1, 1, 1]</td>\n",
              "    </tr>\n",
              "  </tbody>\n",
              "</table>\n",
              "</div>"
            ],
            "text/plain": [
              "          usuario  ...                                                                                                   documento_processado\n",
              "0  lIlIIIlllllIII  ...  [1107, 9966, 5784, 9757, 1254, 0, 3589, 4550, 9048, 4223, 0, 0, 1, 1, 1, 1, 1, 1, 1, 1, 1, 1, 1, 1, 1, 1, 1, 1, 1, 1]\n",
              "1  rnnpgn          ...  [6095, 31, 3460, 2007, 1696, 8350, 6927, 0, 6610, 1, 1, 1, 1, 1, 1, 1, 1, 1, 1, 1, 1, 1, 1, 1, 1, 1, 1, 1, 1, 1]     \n",
              "2  KMoraez         ...  [7851, 9892, 8023, 5128, 1, 1, 1, 1, 1, 1, 1, 1, 1, 1, 1, 1, 1, 1, 1, 1, 1, 1, 1, 1, 1, 1, 1, 1, 1, 1]               \n",
              "3  rammassss       ...  [269, 3927, 73, 3484, 4922, 7819, 1, 1, 1, 1, 1, 1, 1, 1, 1, 1, 1, 1, 1, 1, 1, 1, 1, 1, 1, 1, 1, 1, 1, 1]            \n",
              "4  fuckjxxnny_oh   ...  [8766, 2190, 1074, 7012, 380, 3090, 1, 1, 1, 1, 1, 1, 1, 1, 1, 1, 1, 1, 1, 1, 1, 1, 1, 1, 1, 1, 1, 1, 1, 1]          \n",
              "\n",
              "[5 rows x 5 columns]"
            ]
          },
          "metadata": {
            "tags": []
          },
          "execution_count": 24
        }
      ]
    },
    {
      "cell_type": "markdown",
      "metadata": {
        "id": "8zW8Fg9Dqltf"
      },
      "source": [
        "#Chamando o modelo de previsão de emoções"
      ]
    },
    {
      "cell_type": "code",
      "metadata": {
        "id": "oXqe73OzLzuB"
      },
      "source": [
        "import myclass\n",
        "from myclass import *"
      ],
      "execution_count": null,
      "outputs": []
    },
    {
      "cell_type": "code",
      "metadata": {
        "id": "UUBVeYT_qXbK"
      },
      "source": [
        "model = torch.load('/content/drive/My Drive/Análise de Sentimentos/Projeto para 08-09/Models/newmodel.pth')"
      ],
      "execution_count": null,
      "outputs": []
    },
    {
      "cell_type": "code",
      "metadata": {
        "id": "culebAKq-uCR",
        "colab": {
          "base_uri": "https://localhost:8080/"
        },
        "outputId": "c4cfe2b0-69a0-4888-bf79-02e1da219ca5"
      },
      "source": [
        "model.load_state_dict(torch.load('/content/drive/My Drive/Análise de Sentimentos/Projeto para 08-09/Models/newmodel_dict'))\n",
        "model.eval()"
      ],
      "execution_count": null,
      "outputs": [
        {
          "output_type": "execute_result",
          "data": {
            "text/plain": [
              "mood_classifier(\n",
              "  (embedding): Sequential(\n",
              "    (0): Embedding(10154, 50)\n",
              "    (1): Torch_Mean_Layer()\n",
              "  )\n",
              "  (ann): Sequential(\n",
              "    (0): Linear(in_features=50, out_features=100, bias=True)\n",
              "    (1): ReLU(inplace=True)\n",
              "    (2): Linear(in_features=100, out_features=6, bias=True)\n",
              "  )\n",
              "  (soft): Sequential(\n",
              "    (0): LogSoftmax(dim=1)\n",
              "  )\n",
              ")"
            ]
          },
          "metadata": {
            "tags": []
          },
          "execution_count": 27
        }
      ]
    },
    {
      "cell_type": "code",
      "metadata": {
        "id": "mo6osPeIVMmE",
        "colab": {
          "base_uri": "https://localhost:8080/"
        },
        "outputId": "2a8f9b94-c203-4666-a112-e117a19c6851"
      },
      "source": [
        "e = next(model.embedding[0].parameters())\n",
        "e.data"
      ],
      "execution_count": null,
      "outputs": [
        {
          "output_type": "execute_result",
          "data": {
            "text/plain": [
              "tensor([[ 0.0000,  0.0000,  0.0000,  ...,  0.0000,  0.0000,  0.0000],\n",
              "        [ 0.0000,  0.0000,  0.0000,  ...,  0.0000,  0.0000,  0.0000],\n",
              "        [ 0.6488, -1.2422, -2.6443,  ..., -1.4651,  1.4021, -0.5817],\n",
              "        ...,\n",
              "        [ 0.2771,  0.7892,  1.4962,  ..., -0.9299,  1.3295, -0.4340],\n",
              "        [ 0.3833,  0.5704, -0.4672,  ..., -1.8212, -1.9639,  0.2115],\n",
              "        [ 0.4678, -0.7618,  0.9770,  ...,  0.8908,  1.4307, -2.5102]])"
            ]
          },
          "metadata": {
            "tags": []
          },
          "execution_count": 28
        }
      ]
    },
    {
      "cell_type": "markdown",
      "metadata": {
        "id": "GqwtEc3SYUn-"
      },
      "source": [
        "#Adcionando a *feature* do modelo de previsão de emoções"
      ]
    },
    {
      "cell_type": "code",
      "metadata": {
        "id": "mlnNkA6XZXwZ"
      },
      "source": [
        "X_test = np.vstack(dataset['documento_processado'])\n",
        "X_test = torch.LongTensor(X_test)"
      ],
      "execution_count": null,
      "outputs": []
    },
    {
      "cell_type": "code",
      "metadata": {
        "id": "0NWNHn8ebrIm"
      },
      "source": [
        "preds = model.forward(X_test)"
      ],
      "execution_count": null,
      "outputs": []
    },
    {
      "cell_type": "code",
      "metadata": {
        "id": "_G9YYCSwN6X-",
        "colab": {
          "base_uri": "https://localhost:8080/",
          "height": 691
        },
        "outputId": "01d6c568-7c6c-408f-a42a-f79963ae5adb"
      },
      "source": [
        "dataset"
      ],
      "execution_count": null,
      "outputs": [
        {
          "output_type": "execute_result",
          "data": {
            "text/html": [
              "<div>\n",
              "<style scoped>\n",
              "    .dataframe tbody tr th:only-of-type {\n",
              "        vertical-align: middle;\n",
              "    }\n",
              "\n",
              "    .dataframe tbody tr th {\n",
              "        vertical-align: top;\n",
              "    }\n",
              "\n",
              "    .dataframe thead th {\n",
              "        text-align: right;\n",
              "    }\n",
              "</style>\n",
              "<table border=\"1\" class=\"dataframe\">\n",
              "  <thead>\n",
              "    <tr style=\"text-align: right;\">\n",
              "      <th></th>\n",
              "      <th>usuario</th>\n",
              "      <th>texto</th>\n",
              "      <th>depressao</th>\n",
              "      <th>texto_traduzido</th>\n",
              "      <th>documento_processado</th>\n",
              "    </tr>\n",
              "  </thead>\n",
              "  <tbody>\n",
              "    <tr>\n",
              "      <th>0</th>\n",
              "      <td>lIlIIIlllllIII</td>\n",
              "      <td>arrombada sem mae querendo cancelar um esquizofrênico\\n\\ndeu de internet por hoje https://t.co/I8SzMHuYV4</td>\n",
              "      <td>1</td>\n",
              "      <td>broken into without a mother wanting to cancel a schizophrenic\\n\\ngave internet for today https://t.co/I8SzMHuYV4</td>\n",
              "      <td>[1107, 9966, 5784, 9757, 1254, 0, 3589, 4550, 9048, 4223, 0, 0, 1, 1, 1, 1, 1, 1, 1, 1, 1, 1, 1, 1, 1, 1, 1, 1, 1, 1]</td>\n",
              "    </tr>\n",
              "    <tr>\n",
              "      <th>1</th>\n",
              "      <td>rnnpgn</td>\n",
              "      <td>Não tem nada absolutamente mais SEM GRAÇA do que essa galera comentando em perfis esportivos com a foto do Casagrande</td>\n",
              "      <td>0</td>\n",
              "      <td>There is nothing absolutely NO MORE FREE than this crowd commenting on sports profiles with Casagrande's photo</td>\n",
              "      <td>[6095, 31, 3460, 2007, 1696, 8350, 6927, 0, 6610, 1, 1, 1, 1, 1, 1, 1, 1, 1, 1, 1, 1, 1, 1, 1, 1, 1, 1, 1, 1, 1]</td>\n",
              "    </tr>\n",
              "    <tr>\n",
              "      <th>2</th>\n",
              "      <td>KMoraez</td>\n",
              "      <td>Abalada com toda a situação da minha vida</td>\n",
              "      <td>0</td>\n",
              "      <td>Shaken by the whole situation of my life</td>\n",
              "      <td>[7851, 9892, 8023, 5128, 1, 1, 1, 1, 1, 1, 1, 1, 1, 1, 1, 1, 1, 1, 1, 1, 1, 1, 1, 1, 1, 1, 1, 1, 1, 1]</td>\n",
              "    </tr>\n",
              "    <tr>\n",
              "      <th>3</th>\n",
              "      <td>rammassss</td>\n",
              "      <td>aí sempre fico feliz pelas conquistas dos meus amigos sabe.... sério</td>\n",
              "      <td>1</td>\n",
              "      <td>then I am always happy for the achievements of my friends you know .... seriously</td>\n",
              "      <td>[269, 3927, 73, 3484, 4922, 7819, 1, 1, 1, 1, 1, 1, 1, 1, 1, 1, 1, 1, 1, 1, 1, 1, 1, 1, 1, 1, 1, 1, 1, 1]</td>\n",
              "    </tr>\n",
              "    <tr>\n",
              "      <th>4</th>\n",
              "      <td>fuckjxxnny_oh</td>\n",
              "      <td>respirando fundo pra nao socar a cara de ngm</td>\n",
              "      <td>1</td>\n",
              "      <td>taking a deep breath not to punch anyone in the face</td>\n",
              "      <td>[8766, 2190, 1074, 7012, 380, 3090, 1, 1, 1, 1, 1, 1, 1, 1, 1, 1, 1, 1, 1, 1, 1, 1, 1, 1, 1, 1, 1, 1, 1, 1]</td>\n",
              "    </tr>\n",
              "    <tr>\n",
              "      <th>...</th>\n",
              "      <td>...</td>\n",
              "      <td>...</td>\n",
              "      <td>...</td>\n",
              "      <td>...</td>\n",
              "      <td>...</td>\n",
              "    </tr>\n",
              "    <tr>\n",
              "      <th>1406</th>\n",
              "      <td>brandnewgirly</td>\n",
              "      <td>kkkkk reinstalar tudo de novo</td>\n",
              "      <td>1</td>\n",
              "      <td>nan</td>\n",
              "      <td>[0, 1, 1, 1, 1, 1, 1, 1, 1, 1, 1, 1, 1, 1, 1, 1, 1, 1, 1, 1, 1, 1, 1, 1, 1, 1, 1, 1, 1, 1]</td>\n",
              "    </tr>\n",
              "    <tr>\n",
              "      <th>1407</th>\n",
              "      <td>EuPedroliveira</td>\n",
              "      <td>Finalmente... https://t.co/K5JATUfl1L</td>\n",
              "      <td>1</td>\n",
              "      <td>nan</td>\n",
              "      <td>[0, 1, 1, 1, 1, 1, 1, 1, 1, 1, 1, 1, 1, 1, 1, 1, 1, 1, 1, 1, 1, 1, 1, 1, 1, 1, 1, 1, 1, 1]</td>\n",
              "    </tr>\n",
              "    <tr>\n",
              "      <th>1408</th>\n",
              "      <td>brandnewgirly</td>\n",
              "      <td>nessa economia? no meio de uma pandemia??? https://t.co/um1fwYfqvz</td>\n",
              "      <td>1</td>\n",
              "      <td>nan</td>\n",
              "      <td>[0, 1, 1, 1, 1, 1, 1, 1, 1, 1, 1, 1, 1, 1, 1, 1, 1, 1, 1, 1, 1, 1, 1, 1, 1, 1, 1, 1, 1, 1]</td>\n",
              "    </tr>\n",
              "    <tr>\n",
              "      <th>1409</th>\n",
              "      <td>cyberfuckbaby</td>\n",
              "      <td>o meu problema eh que eu fico estressada e me estresso com todo mundo ao meu redor e depois fico estressada sozinha e estressada por estar estressada https://t.co/tyNlFj0aeT</td>\n",
              "      <td>1</td>\n",
              "      <td>nan</td>\n",
              "      <td>[0, 1, 1, 1, 1, 1, 1, 1, 1, 1, 1, 1, 1, 1, 1, 1, 1, 1, 1, 1, 1, 1, 1, 1, 1, 1, 1, 1, 1, 1]</td>\n",
              "    </tr>\n",
              "    <tr>\n",
              "      <th>1410</th>\n",
              "      <td>manoelladamss</td>\n",
              "      <td>Bom dia p qm acabou de fazer três provas 🥳</td>\n",
              "      <td>1</td>\n",
              "      <td>nan</td>\n",
              "      <td>[0, 1, 1, 1, 1, 1, 1, 1, 1, 1, 1, 1, 1, 1, 1, 1, 1, 1, 1, 1, 1, 1, 1, 1, 1, 1, 1, 1, 1, 1]</td>\n",
              "    </tr>\n",
              "  </tbody>\n",
              "</table>\n",
              "<p>1411 rows × 5 columns</p>\n",
              "</div>"
            ],
            "text/plain": [
              "             usuario  ...                                                                                                   documento_processado\n",
              "0     lIlIIIlllllIII  ...  [1107, 9966, 5784, 9757, 1254, 0, 3589, 4550, 9048, 4223, 0, 0, 1, 1, 1, 1, 1, 1, 1, 1, 1, 1, 1, 1, 1, 1, 1, 1, 1, 1]\n",
              "1     rnnpgn          ...  [6095, 31, 3460, 2007, 1696, 8350, 6927, 0, 6610, 1, 1, 1, 1, 1, 1, 1, 1, 1, 1, 1, 1, 1, 1, 1, 1, 1, 1, 1, 1, 1]     \n",
              "2     KMoraez         ...  [7851, 9892, 8023, 5128, 1, 1, 1, 1, 1, 1, 1, 1, 1, 1, 1, 1, 1, 1, 1, 1, 1, 1, 1, 1, 1, 1, 1, 1, 1, 1]               \n",
              "3     rammassss       ...  [269, 3927, 73, 3484, 4922, 7819, 1, 1, 1, 1, 1, 1, 1, 1, 1, 1, 1, 1, 1, 1, 1, 1, 1, 1, 1, 1, 1, 1, 1, 1]            \n",
              "4     fuckjxxnny_oh   ...  [8766, 2190, 1074, 7012, 380, 3090, 1, 1, 1, 1, 1, 1, 1, 1, 1, 1, 1, 1, 1, 1, 1, 1, 1, 1, 1, 1, 1, 1, 1, 1]          \n",
              "...             ...   ...                                                                                                          ...          \n",
              "1406  brandnewgirly   ...  [0, 1, 1, 1, 1, 1, 1, 1, 1, 1, 1, 1, 1, 1, 1, 1, 1, 1, 1, 1, 1, 1, 1, 1, 1, 1, 1, 1, 1, 1]                           \n",
              "1407  EuPedroliveira  ...  [0, 1, 1, 1, 1, 1, 1, 1, 1, 1, 1, 1, 1, 1, 1, 1, 1, 1, 1, 1, 1, 1, 1, 1, 1, 1, 1, 1, 1, 1]                           \n",
              "1408  brandnewgirly   ...  [0, 1, 1, 1, 1, 1, 1, 1, 1, 1, 1, 1, 1, 1, 1, 1, 1, 1, 1, 1, 1, 1, 1, 1, 1, 1, 1, 1, 1, 1]                           \n",
              "1409  cyberfuckbaby   ...  [0, 1, 1, 1, 1, 1, 1, 1, 1, 1, 1, 1, 1, 1, 1, 1, 1, 1, 1, 1, 1, 1, 1, 1, 1, 1, 1, 1, 1, 1]                           \n",
              "1410  manoelladamss   ...  [0, 1, 1, 1, 1, 1, 1, 1, 1, 1, 1, 1, 1, 1, 1, 1, 1, 1, 1, 1, 1, 1, 1, 1, 1, 1, 1, 1, 1, 1]                           \n",
              "\n",
              "[1411 rows x 5 columns]"
            ]
          },
          "metadata": {
            "tags": []
          },
          "execution_count": 31
        }
      ]
    },
    {
      "cell_type": "markdown",
      "metadata": {
        "id": "p6oSVpFP_1fs"
      },
      "source": [
        "## Criando colunas com os preds"
      ]
    },
    {
      "cell_type": "code",
      "metadata": {
        "id": "EWlMjKHG_38E",
        "colab": {
          "base_uri": "https://localhost:8080/",
          "height": 391
        },
        "outputId": "4fa25704-bc6e-4ed9-ad69-6ce1b9ff81a5"
      },
      "source": [
        "dataset[\"previsoes\"] = [torch.exp(pred).detach().numpy() for pred in preds]\n",
        "dataset.head()"
      ],
      "execution_count": null,
      "outputs": [
        {
          "output_type": "execute_result",
          "data": {
            "text/html": [
              "<div>\n",
              "<style scoped>\n",
              "    .dataframe tbody tr th:only-of-type {\n",
              "        vertical-align: middle;\n",
              "    }\n",
              "\n",
              "    .dataframe tbody tr th {\n",
              "        vertical-align: top;\n",
              "    }\n",
              "\n",
              "    .dataframe thead th {\n",
              "        text-align: right;\n",
              "    }\n",
              "</style>\n",
              "<table border=\"1\" class=\"dataframe\">\n",
              "  <thead>\n",
              "    <tr style=\"text-align: right;\">\n",
              "      <th></th>\n",
              "      <th>usuario</th>\n",
              "      <th>texto</th>\n",
              "      <th>depressao</th>\n",
              "      <th>texto_traduzido</th>\n",
              "      <th>documento_processado</th>\n",
              "      <th>previsoes</th>\n",
              "    </tr>\n",
              "  </thead>\n",
              "  <tbody>\n",
              "    <tr>\n",
              "      <th>0</th>\n",
              "      <td>lIlIIIlllllIII</td>\n",
              "      <td>arrombada sem mae querendo cancelar um esquizofrênico\\n\\ndeu de internet por hoje https://t.co/I8SzMHuYV4</td>\n",
              "      <td>1</td>\n",
              "      <td>broken into without a mother wanting to cancel a schizophrenic\\n\\ngave internet for today https://t.co/I8SzMHuYV4</td>\n",
              "      <td>[1107, 9966, 5784, 9757, 1254, 0, 3589, 4550, 9048, 4223, 0, 0, 1, 1, 1, 1, 1, 1, 1, 1, 1, 1, 1, 1, 1, 1, 1, 1, 1, 1]</td>\n",
              "      <td>[0.00074784545, 0.94875383, 9.555406e-07, 1.9359092e-07, 0.0054791006, 0.04501809]</td>\n",
              "    </tr>\n",
              "    <tr>\n",
              "      <th>1</th>\n",
              "      <td>rnnpgn</td>\n",
              "      <td>Não tem nada absolutamente mais SEM GRAÇA do que essa galera comentando em perfis esportivos com a foto do Casagrande</td>\n",
              "      <td>0</td>\n",
              "      <td>There is nothing absolutely NO MORE FREE than this crowd commenting on sports profiles with Casagrande's photo</td>\n",
              "      <td>[6095, 31, 3460, 2007, 1696, 8350, 6927, 0, 6610, 1, 1, 1, 1, 1, 1, 1, 1, 1, 1, 1, 1, 1, 1, 1, 1, 1, 1, 1, 1, 1]</td>\n",
              "      <td>[2.1448923e-09, 7.613771e-19, 0.9994955, 1.1911975e-19, 0.00050445716, 6.7641123e-18]</td>\n",
              "    </tr>\n",
              "    <tr>\n",
              "      <th>2</th>\n",
              "      <td>KMoraez</td>\n",
              "      <td>Abalada com toda a situação da minha vida</td>\n",
              "      <td>0</td>\n",
              "      <td>Shaken by the whole situation of my life</td>\n",
              "      <td>[7851, 9892, 8023, 5128, 1, 1, 1, 1, 1, 1, 1, 1, 1, 1, 1, 1, 1, 1, 1, 1, 1, 1, 1, 1, 1, 1, 1, 1, 1, 1]</td>\n",
              "      <td>[7.0239166e-09, 0.99999857, 5.079531e-12, 2.6927783e-12, 7.3848234e-09, 1.477715e-06]</td>\n",
              "    </tr>\n",
              "    <tr>\n",
              "      <th>3</th>\n",
              "      <td>rammassss</td>\n",
              "      <td>aí sempre fico feliz pelas conquistas dos meus amigos sabe.... sério</td>\n",
              "      <td>1</td>\n",
              "      <td>then I am always happy for the achievements of my friends you know .... seriously</td>\n",
              "      <td>[269, 3927, 73, 3484, 4922, 7819, 1, 1, 1, 1, 1, 1, 1, 1, 1, 1, 1, 1, 1, 1, 1, 1, 1, 1, 1, 1, 1, 1, 1, 1]</td>\n",
              "      <td>[0.72761333, 0.26944298, 9.606568e-08, 7.611875e-10, 1.6464584e-06, 0.002942025]</td>\n",
              "    </tr>\n",
              "    <tr>\n",
              "      <th>4</th>\n",
              "      <td>fuckjxxnny_oh</td>\n",
              "      <td>respirando fundo pra nao socar a cara de ngm</td>\n",
              "      <td>1</td>\n",
              "      <td>taking a deep breath not to punch anyone in the face</td>\n",
              "      <td>[8766, 2190, 1074, 7012, 380, 3090, 1, 1, 1, 1, 1, 1, 1, 1, 1, 1, 1, 1, 1, 1, 1, 1, 1, 1, 1, 1, 1, 1, 1, 1]</td>\n",
              "      <td>[0.04012903, 0.00053922134, 0.95592105, 1.1142848e-05, 0.0033658873, 3.3569224e-05]</td>\n",
              "    </tr>\n",
              "  </tbody>\n",
              "</table>\n",
              "</div>"
            ],
            "text/plain": [
              "          usuario  ...                                                                              previsoes\n",
              "0  lIlIIIlllllIII  ...  [0.00074784545, 0.94875383, 9.555406e-07, 1.9359092e-07, 0.0054791006, 0.04501809]   \n",
              "1  rnnpgn          ...  [2.1448923e-09, 7.613771e-19, 0.9994955, 1.1911975e-19, 0.00050445716, 6.7641123e-18]\n",
              "2  KMoraez         ...  [7.0239166e-09, 0.99999857, 5.079531e-12, 2.6927783e-12, 7.3848234e-09, 1.477715e-06]\n",
              "3  rammassss       ...  [0.72761333, 0.26944298, 9.606568e-08, 7.611875e-10, 1.6464584e-06, 0.002942025]     \n",
              "4  fuckjxxnny_oh   ...  [0.04012903, 0.00053922134, 0.95592105, 1.1142848e-05, 0.0033658873, 3.3569224e-05]  \n",
              "\n",
              "[5 rows x 6 columns]"
            ]
          },
          "metadata": {
            "tags": []
          },
          "execution_count": 32
        }
      ]
    },
    {
      "cell_type": "code",
      "metadata": {
        "id": "RXEBUcVYN-qV",
        "colab": {
          "base_uri": "https://localhost:8080/",
          "height": 946
        },
        "outputId": "628afb75-6bc0-450b-f383-87001f1541da"
      },
      "source": [
        "dataset.query(\"depressao==1\")"
      ],
      "execution_count": null,
      "outputs": [
        {
          "output_type": "execute_result",
          "data": {
            "text/html": [
              "<div>\n",
              "<style scoped>\n",
              "    .dataframe tbody tr th:only-of-type {\n",
              "        vertical-align: middle;\n",
              "    }\n",
              "\n",
              "    .dataframe tbody tr th {\n",
              "        vertical-align: top;\n",
              "    }\n",
              "\n",
              "    .dataframe thead th {\n",
              "        text-align: right;\n",
              "    }\n",
              "</style>\n",
              "<table border=\"1\" class=\"dataframe\">\n",
              "  <thead>\n",
              "    <tr style=\"text-align: right;\">\n",
              "      <th></th>\n",
              "      <th>usuario</th>\n",
              "      <th>texto</th>\n",
              "      <th>depressao</th>\n",
              "      <th>texto_traduzido</th>\n",
              "      <th>documento_processado</th>\n",
              "      <th>previsoes</th>\n",
              "    </tr>\n",
              "  </thead>\n",
              "  <tbody>\n",
              "    <tr>\n",
              "      <th>0</th>\n",
              "      <td>lIlIIIlllllIII</td>\n",
              "      <td>arrombada sem mae querendo cancelar um esquizofrênico\\n\\ndeu de internet por hoje https://t.co/I8SzMHuYV4</td>\n",
              "      <td>1</td>\n",
              "      <td>broken into without a mother wanting to cancel a schizophrenic\\n\\ngave internet for today https://t.co/I8SzMHuYV4</td>\n",
              "      <td>[1107, 9966, 5784, 9757, 1254, 0, 3589, 4550, 9048, 4223, 0, 0, 1, 1, 1, 1, 1, 1, 1, 1, 1, 1, 1, 1, 1, 1, 1, 1, 1, 1]</td>\n",
              "      <td>[0.00074784545, 0.94875383, 9.555406e-07, 1.9359092e-07, 0.0054791006, 0.04501809]</td>\n",
              "    </tr>\n",
              "    <tr>\n",
              "      <th>3</th>\n",
              "      <td>rammassss</td>\n",
              "      <td>aí sempre fico feliz pelas conquistas dos meus amigos sabe.... sério</td>\n",
              "      <td>1</td>\n",
              "      <td>then I am always happy for the achievements of my friends you know .... seriously</td>\n",
              "      <td>[269, 3927, 73, 3484, 4922, 7819, 1, 1, 1, 1, 1, 1, 1, 1, 1, 1, 1, 1, 1, 1, 1, 1, 1, 1, 1, 1, 1, 1, 1, 1]</td>\n",
              "      <td>[0.72761333, 0.26944298, 9.606568e-08, 7.611875e-10, 1.6464584e-06, 0.002942025]</td>\n",
              "    </tr>\n",
              "    <tr>\n",
              "      <th>4</th>\n",
              "      <td>fuckjxxnny_oh</td>\n",
              "      <td>respirando fundo pra nao socar a cara de ngm</td>\n",
              "      <td>1</td>\n",
              "      <td>taking a deep breath not to punch anyone in the face</td>\n",
              "      <td>[8766, 2190, 1074, 7012, 380, 3090, 1, 1, 1, 1, 1, 1, 1, 1, 1, 1, 1, 1, 1, 1, 1, 1, 1, 1, 1, 1, 1, 1, 1, 1]</td>\n",
              "      <td>[0.04012903, 0.00053922134, 0.95592105, 1.1142848e-05, 0.0033658873, 3.3569224e-05]</td>\n",
              "    </tr>\n",
              "    <tr>\n",
              "      <th>8</th>\n",
              "      <td>tarjapretaporra</td>\n",
              "      <td>Amanhã faço exame médico demissional.\\nImagina como tá a cabeça.</td>\n",
              "      <td>1</td>\n",
              "      <td>Tomorrow I have a dismissal medical exam.\\nImagine how your head is doing.</td>\n",
              "      <td>[9070, 2449, 5513, 3004, 4322, 3980, 0, 1, 1, 1, 1, 1, 1, 1, 1, 1, 1, 1, 1, 1, 1, 1, 1, 1, 1, 1, 1, 1, 1, 1]</td>\n",
              "      <td>[0.0011667309, 0.90109473, 1.1840637e-05, 0.003826406, 4.1380456e-05, 0.09385894]</td>\n",
              "    </tr>\n",
              "    <tr>\n",
              "      <th>9</th>\n",
              "      <td>bs_arth</td>\n",
              "      <td>hamsuke eu te odeio\\n\\nPERSONAGEM INSUPORTAVEL</td>\n",
              "      <td>1</td>\n",
              "      <td>hamsuke i hate you\\n\\nINSUPERABLE CHARACTER</td>\n",
              "      <td>[0, 3963, 0, 1422, 1, 1, 1, 1, 1, 1, 1, 1, 1, 1, 1, 1, 1, 1, 1, 1, 1, 1, 1, 1, 1, 1, 1, 1, 1, 1]</td>\n",
              "      <td>[0.7962552, 0.00080459984, 0.00022370701, 3.6735488e-09, 0.20271556, 8.682401e-07]</td>\n",
              "    </tr>\n",
              "    <tr>\n",
              "      <th>...</th>\n",
              "      <td>...</td>\n",
              "      <td>...</td>\n",
              "      <td>...</td>\n",
              "      <td>...</td>\n",
              "      <td>...</td>\n",
              "      <td>...</td>\n",
              "    </tr>\n",
              "    <tr>\n",
              "      <th>1406</th>\n",
              "      <td>brandnewgirly</td>\n",
              "      <td>kkkkk reinstalar tudo de novo</td>\n",
              "      <td>1</td>\n",
              "      <td>nan</td>\n",
              "      <td>[0, 1, 1, 1, 1, 1, 1, 1, 1, 1, 1, 1, 1, 1, 1, 1, 1, 1, 1, 1, 1, 1, 1, 1, 1, 1, 1, 1, 1, 1]</td>\n",
              "      <td>[0.25137547, 0.26347435, 0.14882806, 0.006352847, 0.2708089, 0.059160437]</td>\n",
              "    </tr>\n",
              "    <tr>\n",
              "      <th>1407</th>\n",
              "      <td>EuPedroliveira</td>\n",
              "      <td>Finalmente... https://t.co/K5JATUfl1L</td>\n",
              "      <td>1</td>\n",
              "      <td>nan</td>\n",
              "      <td>[0, 1, 1, 1, 1, 1, 1, 1, 1, 1, 1, 1, 1, 1, 1, 1, 1, 1, 1, 1, 1, 1, 1, 1, 1, 1, 1, 1, 1, 1]</td>\n",
              "      <td>[0.25137547, 0.26347435, 0.14882806, 0.006352847, 0.2708089, 0.059160437]</td>\n",
              "    </tr>\n",
              "    <tr>\n",
              "      <th>1408</th>\n",
              "      <td>brandnewgirly</td>\n",
              "      <td>nessa economia? no meio de uma pandemia??? https://t.co/um1fwYfqvz</td>\n",
              "      <td>1</td>\n",
              "      <td>nan</td>\n",
              "      <td>[0, 1, 1, 1, 1, 1, 1, 1, 1, 1, 1, 1, 1, 1, 1, 1, 1, 1, 1, 1, 1, 1, 1, 1, 1, 1, 1, 1, 1, 1]</td>\n",
              "      <td>[0.25137547, 0.26347435, 0.14882806, 0.006352847, 0.2708089, 0.059160437]</td>\n",
              "    </tr>\n",
              "    <tr>\n",
              "      <th>1409</th>\n",
              "      <td>cyberfuckbaby</td>\n",
              "      <td>o meu problema eh que eu fico estressada e me estresso com todo mundo ao meu redor e depois fico estressada sozinha e estressada por estar estressada https://t.co/tyNlFj0aeT</td>\n",
              "      <td>1</td>\n",
              "      <td>nan</td>\n",
              "      <td>[0, 1, 1, 1, 1, 1, 1, 1, 1, 1, 1, 1, 1, 1, 1, 1, 1, 1, 1, 1, 1, 1, 1, 1, 1, 1, 1, 1, 1, 1]</td>\n",
              "      <td>[0.25137547, 0.26347435, 0.14882806, 0.006352847, 0.2708089, 0.059160437]</td>\n",
              "    </tr>\n",
              "    <tr>\n",
              "      <th>1410</th>\n",
              "      <td>manoelladamss</td>\n",
              "      <td>Bom dia p qm acabou de fazer três provas 🥳</td>\n",
              "      <td>1</td>\n",
              "      <td>nan</td>\n",
              "      <td>[0, 1, 1, 1, 1, 1, 1, 1, 1, 1, 1, 1, 1, 1, 1, 1, 1, 1, 1, 1, 1, 1, 1, 1, 1, 1, 1, 1, 1, 1]</td>\n",
              "      <td>[0.25137547, 0.26347435, 0.14882806, 0.006352847, 0.2708089, 0.059160437]</td>\n",
              "    </tr>\n",
              "  </tbody>\n",
              "</table>\n",
              "<p>875 rows × 6 columns</p>\n",
              "</div>"
            ],
            "text/plain": [
              "              usuario  ...                                                                            previsoes\n",
              "0     lIlIIIlllllIII   ...  [0.00074784545, 0.94875383, 9.555406e-07, 1.9359092e-07, 0.0054791006, 0.04501809] \n",
              "3     rammassss        ...  [0.72761333, 0.26944298, 9.606568e-08, 7.611875e-10, 1.6464584e-06, 0.002942025]   \n",
              "4     fuckjxxnny_oh    ...  [0.04012903, 0.00053922134, 0.95592105, 1.1142848e-05, 0.0033658873, 3.3569224e-05]\n",
              "8     tarjapretaporra  ...  [0.0011667309, 0.90109473, 1.1840637e-05, 0.003826406, 4.1380456e-05, 0.09385894]  \n",
              "9     bs_arth          ...  [0.7962552, 0.00080459984, 0.00022370701, 3.6735488e-09, 0.20271556, 8.682401e-07] \n",
              "...       ...          ...                                                                                 ... \n",
              "1406  brandnewgirly    ...  [0.25137547, 0.26347435, 0.14882806, 0.006352847, 0.2708089, 0.059160437]          \n",
              "1407  EuPedroliveira   ...  [0.25137547, 0.26347435, 0.14882806, 0.006352847, 0.2708089, 0.059160437]          \n",
              "1408  brandnewgirly    ...  [0.25137547, 0.26347435, 0.14882806, 0.006352847, 0.2708089, 0.059160437]          \n",
              "1409  cyberfuckbaby    ...  [0.25137547, 0.26347435, 0.14882806, 0.006352847, 0.2708089, 0.059160437]          \n",
              "1410  manoelladamss    ...  [0.25137547, 0.26347435, 0.14882806, 0.006352847, 0.2708089, 0.059160437]          \n",
              "\n",
              "[875 rows x 6 columns]"
            ]
          },
          "metadata": {
            "tags": []
          },
          "execution_count": 33
        }
      ]
    },
    {
      "cell_type": "markdown",
      "metadata": {
        "id": "coIK0Y8xUmGi"
      },
      "source": [
        "# Tirando a média"
      ]
    },
    {
      "cell_type": "code",
      "metadata": {
        "id": "6n__ap1jn6ng"
      },
      "source": [
        "df = dataset.copy()\n",
        "dataset.set_index('usuario', inplace=True)"
      ],
      "execution_count": null,
      "outputs": []
    },
    {
      "cell_type": "code",
      "metadata": {
        "id": "xWrwvJEdj-O3"
      },
      "source": [
        "#Funções necessárias\n",
        "\n",
        "def get_matriz_user(distributions):\n",
        "  \"\"\"\n",
        "  Pega as distruibuições do usuário (O resultado o modelo de emoções de todos os tweets) e cria uma matriz\n",
        "  \"\"\"\n",
        "  matriz = np.vstack(distributions)\n",
        "\n",
        "  return matriz\n",
        "\n",
        "\n",
        "def get_media_user(matriz):\n",
        "  \"\"\"\n",
        "  Pega a matriz dos vetores resultantes do modelo de previsão de emoções e faz a média\n",
        "  \"\"\"\n",
        "  media = matriz.mean(axis=0).reshape(1,-1)\n",
        "\n",
        "  return media"
      ],
      "execution_count": null,
      "outputs": []
    },
    {
      "cell_type": "code",
      "metadata": {
        "id": "NpzvBEq5jKwk",
        "colab": {
          "base_uri": "https://localhost:8080/",
          "height": 419
        },
        "outputId": "10a5d65a-68dd-4d52-b0bf-d2b685ac6dbc"
      },
      "source": [
        "unique_users1 = df.query('depressao == 1')['usuario'].unique()\n",
        "unique_users0 = df.query('depressao == 0')['usuario'].unique()\n",
        "\n",
        "df_final = pd.DataFrame(columns=['user','emotions_avg_dist', 'depression'])\n",
        "\n",
        "#EL GAMBIARRA (arrumar depois)\n",
        "  \n",
        "for user in unique_users1:\n",
        "  df_user = dataset.loc[user] #Pegando o usuário e seus tweets\n",
        "  distributions_of_user = df_user['previsoes'] #Pegando as distribuições\n",
        "\n",
        "  matriz_de_distribuicao = get_matriz_user(distributions_of_user)\n",
        "  media_usuario = get_media_user(matriz_de_distribuicao)\n",
        "  media_usuario = media_usuario/media_usuario.sum()\n",
        "\n",
        "  df_of_new_row = pd.DataFrame(data=[[user, media_usuario, 1]], columns=['user','emotions_avg_dist','depression']) #Criando uma nova linha\n",
        "  df_final = df_final.append(df_of_new_row,ignore_index=True) #Adcionando a nova linha no dataframe\n",
        "\n",
        "for user in unique_users0:\n",
        "  df_user = dataset.loc[user] #Pegando o usuário e seus tweets\n",
        "  distributions_of_user = df_user['previsoes'] #Pegando as distribuições\n",
        "\n",
        "  matriz_de_distribuicao = get_matriz_user(distributions_of_user)\n",
        "  media_usuario = get_media_user(matriz_de_distribuicao)\n",
        "  media_usuario = media_usuario/media_usuario.sum()\n",
        "\n",
        "  df_of_new_row = pd.DataFrame(data=[[user, media_usuario, 0]], columns=['user','emotions_avg_dist','depression']) #Criando uma nova linha\n",
        "  df_final = df_final.append(df_of_new_row,ignore_index=True) #Adcionando a nova linha no dataframe\n",
        "\n",
        "df_final"
      ],
      "execution_count": null,
      "outputs": [
        {
          "output_type": "execute_result",
          "data": {
            "text/html": [
              "<div>\n",
              "<style scoped>\n",
              "    .dataframe tbody tr th:only-of-type {\n",
              "        vertical-align: middle;\n",
              "    }\n",
              "\n",
              "    .dataframe tbody tr th {\n",
              "        vertical-align: top;\n",
              "    }\n",
              "\n",
              "    .dataframe thead th {\n",
              "        text-align: right;\n",
              "    }\n",
              "</style>\n",
              "<table border=\"1\" class=\"dataframe\">\n",
              "  <thead>\n",
              "    <tr style=\"text-align: right;\">\n",
              "      <th></th>\n",
              "      <th>user</th>\n",
              "      <th>emotions_avg_dist</th>\n",
              "      <th>depression</th>\n",
              "    </tr>\n",
              "  </thead>\n",
              "  <tbody>\n",
              "    <tr>\n",
              "      <th>0</th>\n",
              "      <td>lIlIIIlllllIII</td>\n",
              "      <td>[[0.46291512, 0.15922095, 0.19412252, 0.0022435617, 0.16788732, 0.013610494]]</td>\n",
              "      <td>1</td>\n",
              "    </tr>\n",
              "    <tr>\n",
              "      <th>1</th>\n",
              "      <td>rammassss</td>\n",
              "      <td>[[0.21733761, 0.17177665, 0.28496626, 0.005725668, 0.20115803, 0.11903576]]</td>\n",
              "      <td>1</td>\n",
              "    </tr>\n",
              "    <tr>\n",
              "      <th>2</th>\n",
              "      <td>fuckjxxnny_oh</td>\n",
              "      <td>[[0.270733, 8.24716e-05, 0.39498517, 0.09555822, 0.23389252, 0.004748623]]</td>\n",
              "      <td>1</td>\n",
              "    </tr>\n",
              "    <tr>\n",
              "      <th>3</th>\n",
              "      <td>tarjapretaporra</td>\n",
              "      <td>[[0.041298855, 0.1527894, 0.26767418, 0.0012678651, 0.39912, 0.13784966]]</td>\n",
              "      <td>1</td>\n",
              "    </tr>\n",
              "    <tr>\n",
              "      <th>4</th>\n",
              "      <td>bs_arth</td>\n",
              "      <td>[[0.31950018, 0.09887898, 0.28920445, 0.106392555, 0.14014764, 0.045876205]]</td>\n",
              "      <td>1</td>\n",
              "    </tr>\n",
              "    <tr>\n",
              "      <th>...</th>\n",
              "      <td>...</td>\n",
              "      <td>...</td>\n",
              "      <td>...</td>\n",
              "    </tr>\n",
              "    <tr>\n",
              "      <th>302</th>\n",
              "      <td>idfchae</td>\n",
              "      <td>[[2.7218191e-05, 1.4302323e-07, 0.27173588, 0.35294953, 0.36881867, 0.006468624]]</td>\n",
              "      <td>0</td>\n",
              "    </tr>\n",
              "    <tr>\n",
              "      <th>303</th>\n",
              "      <td>sofiihLsS</td>\n",
              "      <td>[[0.0021630104, 0.0011691652, 0.6569621, 0.006595, 0.33208004, 0.0010307025]]</td>\n",
              "      <td>0</td>\n",
              "    </tr>\n",
              "    <tr>\n",
              "      <th>304</th>\n",
              "      <td>mriasant</td>\n",
              "      <td>[[0.2, 1.4356445e-06, 0.59999263, 4.2141863e-07, 0.2000055, 3.986278e-10]]</td>\n",
              "      <td>0</td>\n",
              "    </tr>\n",
              "    <tr>\n",
              "      <th>305</th>\n",
              "      <td>jacobsafes</td>\n",
              "      <td>[[0.2513755, 0.26347438, 0.14882807, 0.0063528474, 0.27080894, 0.05916044]]</td>\n",
              "      <td>0</td>\n",
              "    </tr>\n",
              "    <tr>\n",
              "      <th>306</th>\n",
              "      <td>mioneswiftt</td>\n",
              "      <td>[[0.2513755, 0.26347438, 0.14882807, 0.0063528474, 0.27080894, 0.05916044]]</td>\n",
              "      <td>0</td>\n",
              "    </tr>\n",
              "  </tbody>\n",
              "</table>\n",
              "<p>307 rows × 3 columns</p>\n",
              "</div>"
            ],
            "text/plain": [
              "                user  ... depression\n",
              "0    lIlIIIlllllIII   ...  1        \n",
              "1    rammassss        ...  1        \n",
              "2    fuckjxxnny_oh    ...  1        \n",
              "3    tarjapretaporra  ...  1        \n",
              "4    bs_arth          ...  1        \n",
              "..       ...          ... ..        \n",
              "302  idfchae          ...  0        \n",
              "303  sofiihLsS        ...  0        \n",
              "304  mriasant         ...  0        \n",
              "305  jacobsafes       ...  0        \n",
              "306  mioneswiftt      ...  0        \n",
              "\n",
              "[307 rows x 3 columns]"
            ]
          },
          "metadata": {
            "tags": []
          },
          "execution_count": 36
        }
      ]
    },
    {
      "cell_type": "code",
      "metadata": {
        "id": "Gi5_yiwey-_K",
        "colab": {
          "base_uri": "https://localhost:8080/"
        },
        "outputId": "a144bd2d-a5d5-412f-c67c-e587a85319d3"
      },
      "source": [
        "df_final.iloc[10]['emotions_avg_dist'].sum()"
      ],
      "execution_count": null,
      "outputs": [
        {
          "output_type": "execute_result",
          "data": {
            "text/plain": [
              "1.0"
            ]
          },
          "metadata": {
            "tags": []
          },
          "execution_count": 37
        }
      ]
    },
    {
      "cell_type": "code",
      "metadata": {
        "id": "VpQ4at9HOc2i",
        "colab": {
          "base_uri": "https://localhost:8080/",
          "height": 419
        },
        "outputId": "b246a68e-6747-46b2-8a7a-c7f07502a0e5"
      },
      "source": [
        "df_final.query('depression==1')"
      ],
      "execution_count": null,
      "outputs": [
        {
          "output_type": "execute_result",
          "data": {
            "text/html": [
              "<div>\n",
              "<style scoped>\n",
              "    .dataframe tbody tr th:only-of-type {\n",
              "        vertical-align: middle;\n",
              "    }\n",
              "\n",
              "    .dataframe tbody tr th {\n",
              "        vertical-align: top;\n",
              "    }\n",
              "\n",
              "    .dataframe thead th {\n",
              "        text-align: right;\n",
              "    }\n",
              "</style>\n",
              "<table border=\"1\" class=\"dataframe\">\n",
              "  <thead>\n",
              "    <tr style=\"text-align: right;\">\n",
              "      <th></th>\n",
              "      <th>user</th>\n",
              "      <th>emotions_avg_dist</th>\n",
              "      <th>depression</th>\n",
              "    </tr>\n",
              "  </thead>\n",
              "  <tbody>\n",
              "    <tr>\n",
              "      <th>0</th>\n",
              "      <td>lIlIIIlllllIII</td>\n",
              "      <td>[[0.46291512, 0.15922095, 0.19412252, 0.0022435617, 0.16788732, 0.013610494]]</td>\n",
              "      <td>1</td>\n",
              "    </tr>\n",
              "    <tr>\n",
              "      <th>1</th>\n",
              "      <td>rammassss</td>\n",
              "      <td>[[0.21733761, 0.17177665, 0.28496626, 0.005725668, 0.20115803, 0.11903576]]</td>\n",
              "      <td>1</td>\n",
              "    </tr>\n",
              "    <tr>\n",
              "      <th>2</th>\n",
              "      <td>fuckjxxnny_oh</td>\n",
              "      <td>[[0.270733, 8.24716e-05, 0.39498517, 0.09555822, 0.23389252, 0.004748623]]</td>\n",
              "      <td>1</td>\n",
              "    </tr>\n",
              "    <tr>\n",
              "      <th>3</th>\n",
              "      <td>tarjapretaporra</td>\n",
              "      <td>[[0.041298855, 0.1527894, 0.26767418, 0.0012678651, 0.39912, 0.13784966]]</td>\n",
              "      <td>1</td>\n",
              "    </tr>\n",
              "    <tr>\n",
              "      <th>4</th>\n",
              "      <td>bs_arth</td>\n",
              "      <td>[[0.31950018, 0.09887898, 0.28920445, 0.106392555, 0.14014764, 0.045876205]]</td>\n",
              "      <td>1</td>\n",
              "    </tr>\n",
              "    <tr>\n",
              "      <th>...</th>\n",
              "      <td>...</td>\n",
              "      <td>...</td>\n",
              "      <td>...</td>\n",
              "    </tr>\n",
              "    <tr>\n",
              "      <th>164</th>\n",
              "      <td>taah_rd</td>\n",
              "      <td>[[0.2513755, 0.26347438, 0.14882806, 0.0063528474, 0.27080894, 0.05916044]]</td>\n",
              "      <td>1</td>\n",
              "    </tr>\n",
              "    <tr>\n",
              "      <th>165</th>\n",
              "      <td>laribasg</td>\n",
              "      <td>[[0.2513755, 0.26347438, 0.14882807, 0.0063528474, 0.27080894, 0.05916044]]</td>\n",
              "      <td>1</td>\n",
              "    </tr>\n",
              "    <tr>\n",
              "      <th>166</th>\n",
              "      <td>brandnewgirly</td>\n",
              "      <td>[[0.2513755, 0.26347438, 0.14882806, 0.006352847, 0.27080894, 0.05916044]]</td>\n",
              "      <td>1</td>\n",
              "    </tr>\n",
              "    <tr>\n",
              "      <th>167</th>\n",
              "      <td>aingridviaja</td>\n",
              "      <td>[[0.25137544, 0.26347435, 0.14882803, 0.0063528456, 0.27080888, 0.059160426]]</td>\n",
              "      <td>1</td>\n",
              "    </tr>\n",
              "    <tr>\n",
              "      <th>168</th>\n",
              "      <td>usedtokcc</td>\n",
              "      <td>[[0.2513755, 0.26347438, 0.14882807, 0.0063528474, 0.27080894, 0.059160437]]</td>\n",
              "      <td>1</td>\n",
              "    </tr>\n",
              "  </tbody>\n",
              "</table>\n",
              "<p>169 rows × 3 columns</p>\n",
              "</div>"
            ],
            "text/plain": [
              "                user  ... depression\n",
              "0    lIlIIIlllllIII   ...  1        \n",
              "1    rammassss        ...  1        \n",
              "2    fuckjxxnny_oh    ...  1        \n",
              "3    tarjapretaporra  ...  1        \n",
              "4    bs_arth          ...  1        \n",
              "..       ...          ... ..        \n",
              "164  taah_rd          ...  1        \n",
              "165  laribasg         ...  1        \n",
              "166  brandnewgirly    ...  1        \n",
              "167  aingridviaja     ...  1        \n",
              "168  usedtokcc        ...  1        \n",
              "\n",
              "[169 rows x 3 columns]"
            ]
          },
          "metadata": {
            "tags": []
          },
          "execution_count": 38
        }
      ]
    },
    {
      "cell_type": "code",
      "metadata": {
        "id": "7TZIQi8iAdOF",
        "colab": {
          "base_uri": "https://localhost:8080/",
          "height": 419
        },
        "outputId": "dfab769b-0ea3-4a18-9e17-bb972336048a"
      },
      "source": [
        "df_final = df_final.sample(frac=1).reset_index(drop=True)\n",
        "df_final"
      ],
      "execution_count": null,
      "outputs": [
        {
          "output_type": "execute_result",
          "data": {
            "text/html": [
              "<div>\n",
              "<style scoped>\n",
              "    .dataframe tbody tr th:only-of-type {\n",
              "        vertical-align: middle;\n",
              "    }\n",
              "\n",
              "    .dataframe tbody tr th {\n",
              "        vertical-align: top;\n",
              "    }\n",
              "\n",
              "    .dataframe thead th {\n",
              "        text-align: right;\n",
              "    }\n",
              "</style>\n",
              "<table border=\"1\" class=\"dataframe\">\n",
              "  <thead>\n",
              "    <tr style=\"text-align: right;\">\n",
              "      <th></th>\n",
              "      <th>user</th>\n",
              "      <th>emotions_avg_dist</th>\n",
              "      <th>depression</th>\n",
              "    </tr>\n",
              "  </thead>\n",
              "  <tbody>\n",
              "    <tr>\n",
              "      <th>0</th>\n",
              "      <td>I_Lunax</td>\n",
              "      <td>[[6.51328e-09, 6.099063e-11, 0.16549878, 0.59537786, 0.23912315, 2.01189e-07]]</td>\n",
              "      <td>0</td>\n",
              "    </tr>\n",
              "    <tr>\n",
              "      <th>1</th>\n",
              "      <td>ughfruit</td>\n",
              "      <td>[[0.34104776, 0.14822173, 0.23406762, 0.0012114466, 0.2524722, 0.022979258]]</td>\n",
              "      <td>0</td>\n",
              "    </tr>\n",
              "    <tr>\n",
              "      <th>2</th>\n",
              "      <td>onlyparrillax</td>\n",
              "      <td>[[0.14924419, 0.1221816, 0.35336807, 0.14405644, 0.12503414, 0.10611556]]</td>\n",
              "      <td>1</td>\n",
              "    </tr>\n",
              "    <tr>\n",
              "      <th>3</th>\n",
              "      <td>habitlaurj</td>\n",
              "      <td>[[0.06527759, 0.30044103, 0.3991806, 0.0009858876, 0.20008437, 0.034030538]]</td>\n",
              "      <td>1</td>\n",
              "    </tr>\n",
              "    <tr>\n",
              "      <th>4</th>\n",
              "      <td>_patyjesuss</td>\n",
              "      <td>[[0.021365114, 0.0014657622, 0.30203113, 0.0070825364, 0.66713, 0.00092549645]]</td>\n",
              "      <td>0</td>\n",
              "    </tr>\n",
              "    <tr>\n",
              "      <th>...</th>\n",
              "      <td>...</td>\n",
              "      <td>...</td>\n",
              "      <td>...</td>\n",
              "    </tr>\n",
              "    <tr>\n",
              "      <th>302</th>\n",
              "      <td>aprilrudgate</td>\n",
              "      <td>[[9.112487e-06, 0.32879505, 0.6709514, 2.1033325e-06, 0.00024206797, 2.849229e-07]]</td>\n",
              "      <td>1</td>\n",
              "    </tr>\n",
              "    <tr>\n",
              "      <th>303</th>\n",
              "      <td>Tita_ffc</td>\n",
              "      <td>[[5.153901e-07, 1.0785996e-06, 0.6667169, 0.12632318, 4.5346198e-08, 0.20695835]]</td>\n",
              "      <td>0</td>\n",
              "    </tr>\n",
              "    <tr>\n",
              "      <th>304</th>\n",
              "      <td>Isadoraasilvaa</td>\n",
              "      <td>[[1.1073225e-05, 0.278951, 0.3335641, 3.1723968e-07, 0.38746697, 6.6398447e-06]]</td>\n",
              "      <td>1</td>\n",
              "    </tr>\n",
              "    <tr>\n",
              "      <th>305</th>\n",
              "      <td>ExAnaPaula</td>\n",
              "      <td>[[0.00044428714, 0.15687403, 0.32374468, 0.14439389, 0.34603873, 0.02850445]]</td>\n",
              "      <td>1</td>\n",
              "    </tr>\n",
              "    <tr>\n",
              "      <th>306</th>\n",
              "      <td>trtrtrg_</td>\n",
              "      <td>[[0.050574843, 0.33342695, 0.27170387, 0.0062009557, 0.33375707, 0.0043362947]]</td>\n",
              "      <td>0</td>\n",
              "    </tr>\n",
              "  </tbody>\n",
              "</table>\n",
              "<p>307 rows × 3 columns</p>\n",
              "</div>"
            ],
            "text/plain": [
              "               user  ... depression\n",
              "0    I_Lunax         ...  0        \n",
              "1    ughfruit        ...  0        \n",
              "2    onlyparrillax   ...  1        \n",
              "3    habitlaurj      ...  1        \n",
              "4    _patyjesuss     ...  0        \n",
              "..           ...     ... ..        \n",
              "302  aprilrudgate    ...  1        \n",
              "303  Tita_ffc        ...  0        \n",
              "304  Isadoraasilvaa  ...  1        \n",
              "305  ExAnaPaula      ...  1        \n",
              "306  trtrtrg_        ...  0        \n",
              "\n",
              "[307 rows x 3 columns]"
            ]
          },
          "metadata": {
            "tags": []
          },
          "execution_count": 39
        }
      ]
    },
    {
      "cell_type": "markdown",
      "metadata": {
        "id": "al4cDeNf4wWb"
      },
      "source": [
        "##Train Test Split"
      ]
    },
    {
      "cell_type": "code",
      "metadata": {
        "id": "gxV7Xxtl5mb5"
      },
      "source": [
        "X = df_final.drop(['depression'], axis=1)\n",
        "y = df_final['depression']"
      ],
      "execution_count": null,
      "outputs": []
    },
    {
      "cell_type": "code",
      "metadata": {
        "id": "rPmwjP6m452Y"
      },
      "source": [
        "X_train_df, X_test_df, y_train, y_test = train_test_split(X, y, stratify=y, test_size=0.25, random_state=666, shuffle=True)"
      ],
      "execution_count": null,
      "outputs": []
    },
    {
      "cell_type": "code",
      "metadata": {
        "id": "dgzSz03CfHwG",
        "colab": {
          "base_uri": "https://localhost:8080/"
        },
        "outputId": "b7c1b573-3e28-4449-f298-7b9dd68cb834"
      },
      "source": [
        "X_train_df.shape, y_train.shape, X_test_df.shape, y_test.shape"
      ],
      "execution_count": null,
      "outputs": [
        {
          "output_type": "execute_result",
          "data": {
            "text/plain": [
              "((230, 2), (230,), (77, 2), (77,))"
            ]
          },
          "metadata": {
            "tags": []
          },
          "execution_count": 42
        }
      ]
    },
    {
      "cell_type": "code",
      "metadata": {
        "id": "QptYjCcjla8x",
        "colab": {
          "base_uri": "https://localhost:8080/"
        },
        "outputId": "b00a1215-5ec7-4878-baef-cf78ec7519db"
      },
      "source": [
        "y_train.value_counts()"
      ],
      "execution_count": null,
      "outputs": [
        {
          "output_type": "execute_result",
          "data": {
            "text/plain": [
              "1    127\n",
              "0    103\n",
              "Name: depression, dtype: int64"
            ]
          },
          "metadata": {
            "tags": []
          },
          "execution_count": 43
        }
      ]
    },
    {
      "cell_type": "code",
      "metadata": {
        "id": "u1qgHfmnCj3q",
        "colab": {
          "base_uri": "https://localhost:8080/"
        },
        "outputId": "d7f7f19b-1801-46db-fdd6-5b6f294224e1"
      },
      "source": [
        "y_train.value_counts(normalize=True) * 100"
      ],
      "execution_count": null,
      "outputs": [
        {
          "output_type": "execute_result",
          "data": {
            "text/plain": [
              "1    55.217391\n",
              "0    44.782609\n",
              "Name: depression, dtype: float64"
            ]
          },
          "metadata": {
            "tags": []
          },
          "execution_count": 44
        }
      ]
    },
    {
      "cell_type": "code",
      "metadata": {
        "id": "v_C-2IRFCt-j",
        "colab": {
          "base_uri": "https://localhost:8080/"
        },
        "outputId": "313f005a-2725-4387-b2e9-a25090632b3c"
      },
      "source": [
        "y_test.value_counts(normalize=True) * 100"
      ],
      "execution_count": null,
      "outputs": [
        {
          "output_type": "execute_result",
          "data": {
            "text/plain": [
              "1    54.545455\n",
              "0    45.454545\n",
              "Name: depression, dtype: float64"
            ]
          },
          "metadata": {
            "tags": []
          },
          "execution_count": 45
        }
      ]
    },
    {
      "cell_type": "code",
      "metadata": {
        "id": "QKX2uUE2lrEP",
        "colab": {
          "base_uri": "https://localhost:8080/"
        },
        "outputId": "32653345-512e-4de7-c0d5-7cdf41890eba"
      },
      "source": [
        "y_test.value_counts()"
      ],
      "execution_count": null,
      "outputs": [
        {
          "output_type": "execute_result",
          "data": {
            "text/plain": [
              "1    42\n",
              "0    35\n",
              "Name: depression, dtype: int64"
            ]
          },
          "metadata": {
            "tags": []
          },
          "execution_count": 46
        }
      ]
    },
    {
      "cell_type": "code",
      "metadata": {
        "id": "h8IfyNkvFsin",
        "colab": {
          "base_uri": "https://localhost:8080/"
        },
        "outputId": "321d8c9c-b89e-49b4-f31f-05e1bd30a179"
      },
      "source": [
        "type(y_test.to_numpy())"
      ],
      "execution_count": null,
      "outputs": [
        {
          "output_type": "execute_result",
          "data": {
            "text/plain": [
              "numpy.ndarray"
            ]
          },
          "metadata": {
            "tags": []
          },
          "execution_count": 47
        }
      ]
    },
    {
      "cell_type": "markdown",
      "metadata": {
        "id": "0XCwT_sSOAjW"
      },
      "source": [
        "## Criando ***El Modelo***"
      ]
    },
    {
      "cell_type": "code",
      "metadata": {
        "id": "ymHu8xlPERUG"
      },
      "source": [
        "class depression_detection(nn.Module):\n",
        "  '''Modelo classificador de emoções\n",
        "  '''\n",
        "  # ----------------------------------------------#\n",
        "  # Método construtor\n",
        "  def __init__(self, n_in, num_layers, num_units): \n",
        "\n",
        "    super().__init__()  \n",
        "    ann_seq       = [] # \n",
        "\n",
        "    #--------------------------------------------------------------------------#\n",
        "    # ANN: Rede Neural Artifical Tradicional, com regressão logística na saída\n",
        "    for i in range(1, num_layers):\n",
        "      ann_seq.append(nn.Linear(in_features=num_units[i-1], out_features=num_units[i]))\n",
        "      ann_seq.append(nn.ReLU(inplace=True))\n",
        "    ann_seq.append(nn.Linear(in_features=num_units[-1], out_features=1))\n",
        "    ann_seq.append(nn.Sigmoid())\n",
        "    \n",
        "    #--------------------------------------------------------------------------#\n",
        "    # \"merge\" de todas as camamadas em uma layer sequencial \n",
        "    # (uma sequência para cada etapa)\n",
        "    self.ann= nn.Sequential(*ann_seq)           # etapa ANN\n",
        "    #--------------------------------------------------------------------------#\n",
        "\n",
        "  def forward(self, x): \n",
        "    '''\n",
        "    Processamento realizado ao chamar y=modelo(x)\n",
        "    '''\n",
        "    x = self.ann(x)        # passa o embedding médio pelas camadas da ANN\n",
        "    return x  "
      ],
      "execution_count": null,
      "outputs": []
    },
    {
      "cell_type": "code",
      "metadata": {
        "id": "eratvuIJQVyG"
      },
      "source": [
        "def train_loop(model, data_train, data_test, max_epochs = 1000, print_iters = 5):\n",
        "  X_train, Y_train = data_train\n",
        "  X_test, Y_test = data_test\n",
        "  losses = []\n",
        "  accs = []\n",
        "  for i in range(max_epochs): # para cada época\n",
        "\n",
        "      #-----------------------------------#\n",
        "      # INÍCIO DO WORKFLOW DO TREINAMENTO #\n",
        "      # \n",
        "      # Add mistura\n",
        "      Y_pred = model.forward(X_train)         # apresente os dados de entrada para o modelo, e obtenha a previsão    \n",
        "      loss = criterion(Y_pred, Y_train)                      # calcule a perda (o custo, o erro)\n",
        "      optimizer.zero_grad()                   # inicialize os gradientes\n",
        "      loss.backward()                         # backpropagation sobre a perda atual (cálculo dos novos gradientes) \n",
        "      optimizer.step()                        # atualização dos parâmetros da rede utilizando a regra do otimizador escolhido\n",
        "\n",
        "      \n",
        "      # FIM DO WORKFLOW DO TREINAMENTO    #\n",
        "      #-----------------------------------#\n",
        "\n",
        "      # ------ Bloco Opcional ------ #\n",
        "      # Salvando métricas\n",
        "      losses.append(loss)                     # salvando a perda atual\n",
        "      acc = calc_accuracy(Y_pred, Y_train)     # calcula a taxa de acerto atual\n",
        "      accs.append(acc)\n",
        "      \n",
        "      # Imprimindo resultados parciais\n",
        "      if i % print_iters ==0: # a cada 10 iterações\n",
        "        print(f'epoch: {i:2}  loss: {loss.item():10.8f}') \n",
        "      #-----------------------------------#\n",
        "\n",
        "  #----------------------------------------------------------------------------# \n",
        "  print('\\n# Finished training!')\n",
        "  print(f'# --> epoch: {i}  \\n# --> initial loss: {losses[0]:10.8f} ,  \\n# --> accuracy: {acc:2.8f} , \\n# --> final loss: {losses[-1]:10.8f}')\n",
        "  \n",
        "  # retornando resultados\n",
        "  return model, losses, accs\n",
        "\n",
        "# Redefinindo cálculo da taxa de acerto \n",
        "def calc_accuracy(y_pred, y_true):\n",
        "  ''' Helper function para calcular a taxa de acerto deste exemplo.\n",
        "  '''\n",
        "  num_hits  = torch.sum(torch.round(y_pred)==y_true).numpy()\n",
        "  num_total =  float(y_true.numel())\n",
        "  acc=  num_hits/num_total\n",
        "  return acc"
      ],
      "execution_count": null,
      "outputs": []
    },
    {
      "cell_type": "code",
      "metadata": {
        "id": "C_PCcktAFwm4",
        "colab": {
          "base_uri": "https://localhost:8080/"
        },
        "outputId": "5f96eec9-d022-46f6-f942-dfeb2b009e9e"
      },
      "source": [
        "\n",
        "X_train = np.vstack(X_train_df['emotions_avg_dist'])\n",
        "Y_train = np.vstack(y_train).reshape(-1,1)\n",
        "X_train.shape, X_train[0].shape, Y_train.shape, Y_train[0].shape\n"
      ],
      "execution_count": null,
      "outputs": [
        {
          "output_type": "execute_result",
          "data": {
            "text/plain": [
              "((230, 6), (6,), (230, 1), (1,))"
            ]
          },
          "metadata": {
            "tags": []
          },
          "execution_count": 50
        }
      ]
    },
    {
      "cell_type": "code",
      "metadata": {
        "id": "oj_U85B9OxwZ",
        "colab": {
          "base_uri": "https://localhost:8080/"
        },
        "outputId": "a763cca6-c180-47b4-e3cc-039e3673fbf5"
      },
      "source": [
        "X_test = np.vstack(X_test_df['emotions_avg_dist'])\n",
        "Y_test = np.vstack(y_test).reshape(-1,1)\n",
        "X_test.shape, X_test[0].shape, Y_test.shape, Y_test[0].shape"
      ],
      "execution_count": null,
      "outputs": [
        {
          "output_type": "execute_result",
          "data": {
            "text/plain": [
              "((77, 6), (6,), (77, 1), (1,))"
            ]
          },
          "metadata": {
            "tags": []
          },
          "execution_count": 51
        }
      ]
    },
    {
      "cell_type": "code",
      "metadata": {
        "id": "Sesjq2jHLFd6"
      },
      "source": [
        "data_train = (torch.FloatTensor(X_train), torch.FloatTensor(Y_train))\n",
        "\n",
        "data_test = (torch.FloatTensor(X_test), torch.FloatTensor(Y_test))"
      ],
      "execution_count": null,
      "outputs": []
    },
    {
      "cell_type": "markdown",
      "metadata": {
        "id": "De4DmcsBzEqV"
      },
      "source": [
        "## Melhorando com hiperparâmetros"
      ]
    },
    {
      "cell_type": "code",
      "metadata": {
        "id": "eb9XeTW1zKME"
      },
      "source": [
        "# Código baseado no github do professor Bruno Fontana. \n",
        "from sklearn.model_selection import ParameterGrid\n",
        "\n",
        "Ajustar_Hiperparametros = True     \n",
        "\n",
        "param_dict = {}\n",
        "param_dict['learning_rate'] = np.linspace(0.01, 0.1, 10) # [0.1, 0.01, 0.001] # exemplos de buscas: np.linspace(1e-2,5e-2,5) ou np.logspace(-3,-1,20)\n",
        "param_dict['layers'] = [\n",
        "                        (2, [6, 40]),\n",
        "                        (2, [6, 48]),\n",
        "                        (2, [6, 52]),\n",
        "                        (3, [6, 48, 8]),\n",
        "                        (3, [6, 48, 16]),\n",
        "                        (3, [6, 48, 32]),\n",
        "                        (3, [6, 48, 48]),\n",
        "                        (3, [6, 48, 64])]\n",
        "                        # (4, [6, 100, 50, 25]), \n",
        "                        # (5, [6, 200, 100, 50, 25]),\n",
        "                        # (6, [6, 400, 200, 100, 50, 25])]              # exemplos de buscas: np.arange(start=1,stop=4)\n",
        "# param_dict['num_units'] = [[6, 100, 50, 25], [6, 200, 100, 50, 25]]         # exemplos de buscas: np.arange(10,15)\n",
        "\n",
        "param_dict['max_epochs']= [3000]     # maximum number of iterations running over the training set\n",
        "\n",
        "Num_HyperParams_to_test = len(ParameterGrid(param_dict))"
      ],
      "execution_count": null,
      "outputs": []
    },
    {
      "cell_type": "code",
      "metadata": {
        "id": "RlKqhXmycVlf",
        "colab": {
          "base_uri": "https://localhost:8080/"
        },
        "outputId": "9d9ba723-5438-420e-da83-736aabad6358"
      },
      "source": [
        "criterion = nn.BCELoss() # binary cross-entropy\n",
        "\n",
        "if Ajustar_Hiperparametros:\n",
        "  acc_test_list = []\n",
        "  max_acc_test = -np.inf\n",
        "  best_params = None\n",
        "  idx_best = None\n",
        "  for idx, params in enumerate(ParameterGrid(param_dict)):\n",
        "    learning_rate = params['learning_rate']      # learning rate for parameter updates\n",
        "    L, num_units = params['layers']                              # depth of ANN (number of hidden layers)\n",
        "    #num_units = params['num_units']                    # 2**Nu_exp = Number of units per HL\n",
        "    max_epochs = params['max_epochs']            # num. of iterations over the full dataset\n",
        "\n",
        "    print(f'Testing parameters {idx}/{Num_HyperParams_to_test}: {params}')\n",
        "\n",
        "    torch.manual_seed(666)\n",
        "    model = depression_detection(n_in=6, num_layers=L, num_units=num_units)\n",
        "    optimizer = torch.optim.Adam(model.parameters(), lr = learning_rate) \n",
        "    model, losses, accs = train_loop(model, data_train, data_test, max_epochs=max_epochs, print_iters=1000)\n",
        "\n",
        "    # print(f'Model {model}',f'Criterion: {criterion}',f'Optimizer: {optimizer}',sep=2*'\\n')\n",
        "\n",
        "    X_test, Y_test = data_test\n",
        "    with torch.no_grad():\n",
        "      Y_pred = model(X_test)\n",
        "      num_hits  = torch.sum(torch.round(Y_pred)==Y_test).numpy()\n",
        "      num_total =  float(Y_test.numel())\n",
        "      acc_test = num_hits/num_total\n",
        "      # print(f'TEST SCORE: Torch loss {acc_test.item():10.6f}  (ANN)')\n",
        "\n",
        "    if acc_test > max_acc_test:\n",
        "      max_acc_test = acc_test\n",
        "      best_params = params\n",
        "      losses_best, acc_best = (losses, accs)\n",
        "      idx_best = idx\n",
        "      best_model = model\n",
        "\n",
        "    acc_test_list.append(acc_test)\n",
        "\n",
        "\n",
        "    # clear_output(wait=True)\n",
        "  print(\"best_params\", best_params, \"acc_test_list\", acc_test_list, \"idx_best\", idx_best, \"acc_best\", acc_test_list[idx_best], sep=\"\\n\")\n",
        "\n",
        "else:\n",
        "  model = depression_detection(n_in=6, num_layers=2, num_units=[6,48])\n",
        "  optimizer = torch.optim.Adam(model.parameters(), lr = 0.1) \n",
        "  best_model, losses_best, acc_best = train_loop(model, data_train, data_test,max_epochs=2000, print_iters=1)"
      ],
      "execution_count": null,
      "outputs": [
        {
          "output_type": "stream",
          "text": [
            "Testing parameters 0/80: {'layers': (2, [6, 40]), 'learning_rate': 0.01, 'max_epochs': 3000}\n",
            "epoch:  0  loss: 0.70156884\n",
            "epoch: 1000  loss: 0.38622493\n",
            "epoch: 2000  loss: 0.34285405\n",
            "\n",
            "# Finished training!\n",
            "# --> epoch: 2999  \n",
            "# --> initial loss: 0.70156884 ,  \n",
            "# --> accuracy: 0.87826087 , \n",
            "# --> final loss: 0.30933931\n",
            "Testing parameters 1/80: {'layers': (2, [6, 40]), 'learning_rate': 0.020000000000000004, 'max_epochs': 3000}\n",
            "epoch:  0  loss: 0.70156884\n",
            "epoch: 1000  loss: 0.43858376\n",
            "epoch: 2000  loss: 0.37706429\n",
            "\n",
            "# Finished training!\n",
            "# --> epoch: 2999  \n",
            "# --> initial loss: 0.70156884 ,  \n",
            "# --> accuracy: 0.81304348 , \n",
            "# --> final loss: 0.35151574\n",
            "Testing parameters 2/80: {'layers': (2, [6, 40]), 'learning_rate': 0.030000000000000006, 'max_epochs': 3000}\n",
            "epoch:  0  loss: 0.70156884\n",
            "epoch: 1000  loss: 0.31776780\n",
            "epoch: 2000  loss: 0.28076723\n",
            "\n",
            "# Finished training!\n",
            "# --> epoch: 2999  \n",
            "# --> initial loss: 0.70156884 ,  \n",
            "# --> accuracy: 0.87826087 , \n",
            "# --> final loss: 0.24936949\n",
            "Testing parameters 3/80: {'layers': (2, [6, 40]), 'learning_rate': 0.04000000000000001, 'max_epochs': 3000}\n",
            "epoch:  0  loss: 0.70156884\n",
            "epoch: 1000  loss: 0.39993513\n",
            "epoch: 2000  loss: 0.37770164\n",
            "\n",
            "# Finished training!\n",
            "# --> epoch: 2999  \n",
            "# --> initial loss: 0.70156884 ,  \n",
            "# --> accuracy: 0.85217391 , \n",
            "# --> final loss: 0.32798350\n",
            "Testing parameters 4/80: {'layers': (2, [6, 40]), 'learning_rate': 0.05000000000000001, 'max_epochs': 3000}\n",
            "epoch:  0  loss: 0.70156884\n",
            "epoch: 1000  loss: 0.36038139\n",
            "epoch: 2000  loss: 0.32539219\n",
            "\n",
            "# Finished training!\n",
            "# --> epoch: 2999  \n",
            "# --> initial loss: 0.70156884 ,  \n",
            "# --> accuracy: 0.86086957 , \n",
            "# --> final loss: 0.29933852\n",
            "Testing parameters 5/80: {'layers': (2, [6, 40]), 'learning_rate': 0.06000000000000001, 'max_epochs': 3000}\n",
            "epoch:  0  loss: 0.70156884\n",
            "epoch: 1000  loss: 0.33002681\n",
            "epoch: 2000  loss: 0.30398378\n",
            "\n",
            "# Finished training!\n",
            "# --> epoch: 2999  \n",
            "# --> initial loss: 0.70156884 ,  \n",
            "# --> accuracy: 0.88260870 , \n",
            "# --> final loss: 0.26638541\n",
            "Testing parameters 6/80: {'layers': (2, [6, 40]), 'learning_rate': 0.07, 'max_epochs': 3000}\n",
            "epoch:  0  loss: 0.70156884\n",
            "epoch: 1000  loss: 0.31612262\n",
            "epoch: 2000  loss: 0.27643517\n",
            "\n",
            "# Finished training!\n",
            "# --> epoch: 2999  \n",
            "# --> initial loss: 0.70156884 ,  \n",
            "# --> accuracy: 0.87391304 , \n",
            "# --> final loss: 0.26375851\n",
            "Testing parameters 7/80: {'layers': (2, [6, 40]), 'learning_rate': 0.08, 'max_epochs': 3000}\n",
            "epoch:  0  loss: 0.70156884\n",
            "epoch: 1000  loss: 0.37023395\n",
            "epoch: 2000  loss: 0.35539585\n",
            "\n",
            "# Finished training!\n",
            "# --> epoch: 2999  \n",
            "# --> initial loss: 0.70156884 ,  \n",
            "# --> accuracy: 0.78695652 , \n",
            "# --> final loss: 0.35972059\n",
            "Testing parameters 8/80: {'layers': (2, [6, 40]), 'learning_rate': 0.09000000000000001, 'max_epochs': 3000}\n",
            "epoch:  0  loss: 0.70156884\n",
            "epoch: 1000  loss: 0.45039362\n",
            "epoch: 2000  loss: 0.39433783\n",
            "\n",
            "# Finished training!\n",
            "# --> epoch: 2999  \n",
            "# --> initial loss: 0.70156884 ,  \n",
            "# --> accuracy: 0.80000000 , \n",
            "# --> final loss: 0.38470250\n",
            "Testing parameters 9/80: {'layers': (2, [6, 40]), 'learning_rate': 0.1, 'max_epochs': 3000}\n",
            "epoch:  0  loss: 0.70156884\n",
            "epoch: 1000  loss: 0.34111971\n",
            "epoch: 2000  loss: 0.33905417\n",
            "\n",
            "# Finished training!\n",
            "# --> epoch: 2999  \n",
            "# --> initial loss: 0.70156884 ,  \n",
            "# --> accuracy: 0.85652174 , \n",
            "# --> final loss: 0.33727446\n",
            "Testing parameters 10/80: {'layers': (2, [6, 48]), 'learning_rate': 0.01, 'max_epochs': 3000}\n",
            "epoch:  0  loss: 0.69099623\n",
            "epoch: 1000  loss: 0.39270815\n",
            "epoch: 2000  loss: 0.34611833\n",
            "\n",
            "# Finished training!\n",
            "# --> epoch: 2999  \n",
            "# --> initial loss: 0.69099623 ,  \n",
            "# --> accuracy: 0.85652174 , \n",
            "# --> final loss: 0.33220249\n",
            "Testing parameters 11/80: {'layers': (2, [6, 48]), 'learning_rate': 0.020000000000000004, 'max_epochs': 3000}\n",
            "epoch:  0  loss: 0.69099623\n",
            "epoch: 1000  loss: 0.32270434\n",
            "epoch: 2000  loss: 0.27160063\n",
            "\n",
            "# Finished training!\n",
            "# --> epoch: 2999  \n",
            "# --> initial loss: 0.69099623 ,  \n",
            "# --> accuracy: 0.89130435 , \n",
            "# --> final loss: 0.25056136\n",
            "Testing parameters 12/80: {'layers': (2, [6, 48]), 'learning_rate': 0.030000000000000006, 'max_epochs': 3000}\n",
            "epoch:  0  loss: 0.69099623\n",
            "epoch: 1000  loss: 0.32237414\n",
            "epoch: 2000  loss: 0.29238287\n",
            "\n",
            "# Finished training!\n",
            "# --> epoch: 2999  \n",
            "# --> initial loss: 0.69099623 ,  \n",
            "# --> accuracy: 0.90000000 , \n",
            "# --> final loss: 0.27035925\n",
            "Testing parameters 13/80: {'layers': (2, [6, 48]), 'learning_rate': 0.04000000000000001, 'max_epochs': 3000}\n",
            "epoch:  0  loss: 0.69099623\n",
            "epoch: 1000  loss: 0.33933836\n",
            "epoch: 2000  loss: 0.28742895\n",
            "\n",
            "# Finished training!\n",
            "# --> epoch: 2999  \n",
            "# --> initial loss: 0.69099623 ,  \n",
            "# --> accuracy: 0.90434783 , \n",
            "# --> final loss: 0.25277659\n",
            "Testing parameters 14/80: {'layers': (2, [6, 48]), 'learning_rate': 0.05000000000000001, 'max_epochs': 3000}\n",
            "epoch:  0  loss: 0.69099623\n",
            "epoch: 1000  loss: 0.32104671\n",
            "epoch: 2000  loss: 0.25154671\n",
            "\n",
            "# Finished training!\n",
            "# --> epoch: 2999  \n",
            "# --> initial loss: 0.69099623 ,  \n",
            "# --> accuracy: 0.88695652 , \n",
            "# --> final loss: 0.22733191\n",
            "Testing parameters 15/80: {'layers': (2, [6, 48]), 'learning_rate': 0.06000000000000001, 'max_epochs': 3000}\n",
            "epoch:  0  loss: 0.69099623\n",
            "epoch: 1000  loss: 0.36923617\n",
            "epoch: 2000  loss: 0.30567855\n",
            "\n",
            "# Finished training!\n",
            "# --> epoch: 2999  \n",
            "# --> initial loss: 0.69099623 ,  \n",
            "# --> accuracy: 0.89130435 , \n",
            "# --> final loss: 0.26640111\n",
            "Testing parameters 16/80: {'layers': (2, [6, 48]), 'learning_rate': 0.07, 'max_epochs': 3000}\n",
            "epoch:  0  loss: 0.69099623\n",
            "epoch: 1000  loss: 0.28602961\n",
            "epoch: 2000  loss: 0.24805026\n",
            "\n",
            "# Finished training!\n",
            "# --> epoch: 2999  \n",
            "# --> initial loss: 0.69099623 ,  \n",
            "# --> accuracy: 0.87826087 , \n",
            "# --> final loss: 0.23855637\n",
            "Testing parameters 17/80: {'layers': (2, [6, 48]), 'learning_rate': 0.08, 'max_epochs': 3000}\n",
            "epoch:  0  loss: 0.69099623\n",
            "epoch: 1000  loss: 0.25272050\n",
            "epoch: 2000  loss: 0.22119854\n",
            "\n",
            "# Finished training!\n",
            "# --> epoch: 2999  \n",
            "# --> initial loss: 0.69099623 ,  \n",
            "# --> accuracy: 0.89565217 , \n",
            "# --> final loss: 0.21405914\n",
            "Testing parameters 18/80: {'layers': (2, [6, 48]), 'learning_rate': 0.09000000000000001, 'max_epochs': 3000}\n",
            "epoch:  0  loss: 0.69099623\n",
            "epoch: 1000  loss: 0.30764860\n",
            "epoch: 2000  loss: 0.29223430\n",
            "\n",
            "# Finished training!\n",
            "# --> epoch: 2999  \n",
            "# --> initial loss: 0.69099623 ,  \n",
            "# --> accuracy: 0.87391304 , \n",
            "# --> final loss: 0.27313089\n",
            "Testing parameters 19/80: {'layers': (2, [6, 48]), 'learning_rate': 0.1, 'max_epochs': 3000}\n",
            "epoch:  0  loss: 0.69099623\n",
            "epoch: 1000  loss: 0.33738291\n",
            "epoch: 2000  loss: 0.29640561\n",
            "\n",
            "# Finished training!\n",
            "# --> epoch: 2999  \n",
            "# --> initial loss: 0.69099623 ,  \n",
            "# --> accuracy: 0.85652174 , \n",
            "# --> final loss: 0.29033008\n",
            "Testing parameters 20/80: {'layers': (2, [6, 52]), 'learning_rate': 0.01, 'max_epochs': 3000}\n",
            "epoch:  0  loss: 0.69017255\n",
            "epoch: 1000  loss: 0.42437357\n",
            "epoch: 2000  loss: 0.38341972\n",
            "\n",
            "# Finished training!\n",
            "# --> epoch: 2999  \n",
            "# --> initial loss: 0.69017255 ,  \n",
            "# --> accuracy: 0.83913043 , \n",
            "# --> final loss: 0.37253752\n",
            "Testing parameters 21/80: {'layers': (2, [6, 52]), 'learning_rate': 0.020000000000000004, 'max_epochs': 3000}\n",
            "epoch:  0  loss: 0.69017255\n",
            "epoch: 1000  loss: 0.40973023\n",
            "epoch: 2000  loss: 0.37953639\n",
            "\n",
            "# Finished training!\n",
            "# --> epoch: 2999  \n",
            "# --> initial loss: 0.69017255 ,  \n",
            "# --> accuracy: 0.83913043 , \n",
            "# --> final loss: 0.35225382\n",
            "Testing parameters 22/80: {'layers': (2, [6, 52]), 'learning_rate': 0.030000000000000006, 'max_epochs': 3000}\n",
            "epoch:  0  loss: 0.69017255\n",
            "epoch: 1000  loss: 0.42162207\n",
            "epoch: 2000  loss: 0.37094620\n",
            "\n",
            "# Finished training!\n",
            "# --> epoch: 2999  \n",
            "# --> initial loss: 0.69017255 ,  \n",
            "# --> accuracy: 0.84782609 , \n",
            "# --> final loss: 0.31517020\n",
            "Testing parameters 23/80: {'layers': (2, [6, 52]), 'learning_rate': 0.04000000000000001, 'max_epochs': 3000}\n",
            "epoch:  0  loss: 0.69017255\n",
            "epoch: 1000  loss: 0.33663025\n",
            "epoch: 2000  loss: 0.30758694\n",
            "\n",
            "# Finished training!\n",
            "# --> epoch: 2999  \n",
            "# --> initial loss: 0.69017255 ,  \n",
            "# --> accuracy: 0.86956522 , \n",
            "# --> final loss: 0.30120742\n",
            "Testing parameters 24/80: {'layers': (2, [6, 52]), 'learning_rate': 0.05000000000000001, 'max_epochs': 3000}\n",
            "epoch:  0  loss: 0.69017255\n",
            "epoch: 1000  loss: 0.34533638\n",
            "epoch: 2000  loss: 0.29193684\n",
            "\n",
            "# Finished training!\n",
            "# --> epoch: 2999  \n",
            "# --> initial loss: 0.69017255 ,  \n",
            "# --> accuracy: 0.87391304 , \n",
            "# --> final loss: 0.28689933\n",
            "Testing parameters 25/80: {'layers': (2, [6, 52]), 'learning_rate': 0.06000000000000001, 'max_epochs': 3000}\n",
            "epoch:  0  loss: 0.69017255\n",
            "epoch: 1000  loss: 0.37000725\n",
            "epoch: 2000  loss: 0.34417951\n",
            "\n",
            "# Finished training!\n",
            "# --> epoch: 2999  \n",
            "# --> initial loss: 0.69017255 ,  \n",
            "# --> accuracy: 0.83478261 , \n",
            "# --> final loss: 0.32127866\n",
            "Testing parameters 26/80: {'layers': (2, [6, 52]), 'learning_rate': 0.07, 'max_epochs': 3000}\n",
            "epoch:  0  loss: 0.69017255\n",
            "epoch: 1000  loss: 0.35728654\n",
            "epoch: 2000  loss: 0.29371989\n",
            "\n",
            "# Finished training!\n",
            "# --> epoch: 2999  \n",
            "# --> initial loss: 0.69017255 ,  \n",
            "# --> accuracy: 0.86521739 , \n",
            "# --> final loss: 0.27260622\n",
            "Testing parameters 27/80: {'layers': (2, [6, 52]), 'learning_rate': 0.08, 'max_epochs': 3000}\n",
            "epoch:  0  loss: 0.69017255\n",
            "epoch: 1000  loss: 0.32266283\n",
            "epoch: 2000  loss: 0.29071450\n",
            "\n",
            "# Finished training!\n",
            "# --> epoch: 2999  \n",
            "# --> initial loss: 0.69017255 ,  \n",
            "# --> accuracy: 0.86086957 , \n",
            "# --> final loss: 0.28231436\n",
            "Testing parameters 28/80: {'layers': (2, [6, 52]), 'learning_rate': 0.09000000000000001, 'max_epochs': 3000}\n",
            "epoch:  0  loss: 0.69017255\n",
            "epoch: 1000  loss: 0.25906643\n",
            "epoch: 2000  loss: 0.23387463\n",
            "\n",
            "# Finished training!\n",
            "# --> epoch: 2999  \n",
            "# --> initial loss: 0.69017255 ,  \n",
            "# --> accuracy: 0.89565217 , \n",
            "# --> final loss: 0.20915703\n",
            "Testing parameters 29/80: {'layers': (2, [6, 52]), 'learning_rate': 0.1, 'max_epochs': 3000}\n",
            "epoch:  0  loss: 0.69017255\n",
            "epoch: 1000  loss: 0.30109423\n",
            "epoch: 2000  loss: 0.25842580\n",
            "\n",
            "# Finished training!\n",
            "# --> epoch: 2999  \n",
            "# --> initial loss: 0.69017255 ,  \n",
            "# --> accuracy: 0.88695652 , \n",
            "# --> final loss: 0.24390475\n",
            "Testing parameters 30/80: {'layers': (3, [6, 48, 8]), 'learning_rate': 0.01, 'max_epochs': 3000}\n",
            "epoch:  0  loss: 0.68817973\n",
            "epoch: 1000  loss: 0.30393231\n",
            "epoch: 2000  loss: 0.25334337\n",
            "\n",
            "# Finished training!\n",
            "# --> epoch: 2999  \n",
            "# --> initial loss: 0.68817973 ,  \n",
            "# --> accuracy: 0.90000000 , \n",
            "# --> final loss: 0.22778001\n",
            "Testing parameters 31/80: {'layers': (3, [6, 48, 8]), 'learning_rate': 0.020000000000000004, 'max_epochs': 3000}\n",
            "epoch:  0  loss: 0.68817973\n",
            "epoch: 1000  loss: 0.21095367\n",
            "epoch: 2000  loss: 0.13573557\n",
            "\n",
            "# Finished training!\n",
            "# --> epoch: 2999  \n",
            "# --> initial loss: 0.68817973 ,  \n",
            "# --> accuracy: 0.95217391 , \n",
            "# --> final loss: 0.11353175\n",
            "Testing parameters 32/80: {'layers': (3, [6, 48, 8]), 'learning_rate': 0.030000000000000006, 'max_epochs': 3000}\n",
            "epoch:  0  loss: 0.68817973\n",
            "epoch: 1000  loss: 0.70449972\n",
            "epoch: 2000  loss: 0.12411326\n",
            "\n",
            "# Finished training!\n",
            "# --> epoch: 2999  \n",
            "# --> initial loss: 0.68817973 ,  \n",
            "# --> accuracy: 0.93043478 , \n",
            "# --> final loss: 1.42557132\n",
            "Testing parameters 33/80: {'layers': (3, [6, 48, 8]), 'learning_rate': 0.04000000000000001, 'max_epochs': 3000}\n",
            "epoch:  0  loss: 0.68817973\n",
            "epoch: 1000  loss: 0.25416705\n",
            "epoch: 2000  loss: 0.22830851\n",
            "\n",
            "# Finished training!\n",
            "# --> epoch: 2999  \n",
            "# --> initial loss: 0.68817973 ,  \n",
            "# --> accuracy: 0.91304348 , \n",
            "# --> final loss: 0.16821632\n",
            "Testing parameters 34/80: {'layers': (3, [6, 48, 8]), 'learning_rate': 0.05000000000000001, 'max_epochs': 3000}\n",
            "epoch:  0  loss: 0.68817973\n",
            "epoch: 1000  loss: 0.14573686\n",
            "epoch: 2000  loss: 0.76670450\n",
            "\n",
            "# Finished training!\n",
            "# --> epoch: 2999  \n",
            "# --> initial loss: 0.68817973 ,  \n",
            "# --> accuracy: 0.95217391 , \n",
            "# --> final loss: 0.11554649\n",
            "Testing parameters 35/80: {'layers': (3, [6, 48, 8]), 'learning_rate': 0.06000000000000001, 'max_epochs': 3000}\n",
            "epoch:  0  loss: 0.68817973\n",
            "epoch: 1000  loss: 0.14601617\n",
            "epoch: 2000  loss: 2.14638758\n",
            "\n",
            "# Finished training!\n",
            "# --> epoch: 2999  \n",
            "# --> initial loss: 0.68817973 ,  \n",
            "# --> accuracy: 0.93043478 , \n",
            "# --> final loss: 0.15260829\n",
            "Testing parameters 36/80: {'layers': (3, [6, 48, 8]), 'learning_rate': 0.07, 'max_epochs': 3000}\n",
            "epoch:  0  loss: 0.68817973\n",
            "epoch: 1000  loss: 0.27807748\n",
            "epoch: 2000  loss: 0.22248076\n",
            "\n",
            "# Finished training!\n",
            "# --> epoch: 2999  \n",
            "# --> initial loss: 0.68817973 ,  \n",
            "# --> accuracy: 0.90000000 , \n",
            "# --> final loss: 0.21844025\n",
            "Testing parameters 37/80: {'layers': (3, [6, 48, 8]), 'learning_rate': 0.08, 'max_epochs': 3000}\n",
            "epoch:  0  loss: 0.68817973\n",
            "epoch: 1000  loss: 0.20865357\n",
            "epoch: 2000  loss: 0.12802902\n",
            "\n",
            "# Finished training!\n",
            "# --> epoch: 2999  \n",
            "# --> initial loss: 0.68817973 ,  \n",
            "# --> accuracy: 0.93043478 , \n",
            "# --> final loss: 0.12987822\n",
            "Testing parameters 38/80: {'layers': (3, [6, 48, 8]), 'learning_rate': 0.09000000000000001, 'max_epochs': 3000}\n",
            "epoch:  0  loss: 0.68817973\n",
            "epoch: 1000  loss: 0.33309820\n",
            "epoch: 2000  loss: 0.33849883\n",
            "\n",
            "# Finished training!\n",
            "# --> epoch: 2999  \n",
            "# --> initial loss: 0.68817973 ,  \n",
            "# --> accuracy: 0.85217391 , \n",
            "# --> final loss: 0.31407109\n",
            "Testing parameters 39/80: {'layers': (3, [6, 48, 8]), 'learning_rate': 0.1, 'max_epochs': 3000}\n",
            "epoch:  0  loss: 0.68817973\n",
            "epoch: 1000  loss: 0.52815199\n",
            "epoch: 2000  loss: 0.52764624\n",
            "\n",
            "# Finished training!\n",
            "# --> epoch: 2999  \n",
            "# --> initial loss: 0.68817973 ,  \n",
            "# --> accuracy: 0.70000000 , \n",
            "# --> final loss: 0.52603924\n",
            "Testing parameters 40/80: {'layers': (3, [6, 48, 16]), 'learning_rate': 0.01, 'max_epochs': 3000}\n",
            "epoch:  0  loss: 0.70787477\n",
            "epoch: 1000  loss: 0.34530610\n",
            "epoch: 2000  loss: 0.27834558\n",
            "\n",
            "# Finished training!\n",
            "# --> epoch: 2999  \n",
            "# --> initial loss: 0.70787477 ,  \n",
            "# --> accuracy: 0.90869565 , \n",
            "# --> final loss: 0.22849393\n",
            "Testing parameters 41/80: {'layers': (3, [6, 48, 16]), 'learning_rate': 0.020000000000000004, 'max_epochs': 3000}\n",
            "epoch:  0  loss: 0.70787477\n",
            "epoch: 1000  loss: 0.26652810\n",
            "epoch: 2000  loss: 0.20285757\n",
            "\n",
            "# Finished training!\n",
            "# --> epoch: 2999  \n",
            "# --> initial loss: 0.70787477 ,  \n",
            "# --> accuracy: 0.90869565 , \n",
            "# --> final loss: 0.19776553\n",
            "Testing parameters 42/80: {'layers': (3, [6, 48, 16]), 'learning_rate': 0.030000000000000006, 'max_epochs': 3000}\n",
            "epoch:  0  loss: 0.70787477\n",
            "epoch: 1000  loss: 0.22179662\n",
            "epoch: 2000  loss: 0.13528110\n",
            "\n",
            "# Finished training!\n",
            "# --> epoch: 2999  \n",
            "# --> initial loss: 0.70787477 ,  \n",
            "# --> accuracy: 0.95217391 , \n",
            "# --> final loss: 0.10781256\n",
            "Testing parameters 43/80: {'layers': (3, [6, 48, 16]), 'learning_rate': 0.04000000000000001, 'max_epochs': 3000}\n",
            "epoch:  0  loss: 0.70787477\n",
            "epoch: 1000  loss: 0.22168818\n",
            "epoch: 2000  loss: 0.20878144\n",
            "\n",
            "# Finished training!\n",
            "# --> epoch: 2999  \n",
            "# --> initial loss: 0.70787477 ,  \n",
            "# --> accuracy: 0.89130435 , \n",
            "# --> final loss: 1.05062377\n",
            "Testing parameters 44/80: {'layers': (3, [6, 48, 16]), 'learning_rate': 0.05000000000000001, 'max_epochs': 3000}\n",
            "epoch:  0  loss: 0.70787477\n",
            "epoch: 1000  loss: 0.22142971\n",
            "epoch: 2000  loss: 0.14274684\n",
            "\n",
            "# Finished training!\n",
            "# --> epoch: 2999  \n",
            "# --> initial loss: 0.70787477 ,  \n",
            "# --> accuracy: 0.94782609 , \n",
            "# --> final loss: 0.12258656\n",
            "Testing parameters 45/80: {'layers': (3, [6, 48, 16]), 'learning_rate': 0.06000000000000001, 'max_epochs': 3000}\n",
            "epoch:  0  loss: 0.70787477\n",
            "epoch: 1000  loss: 0.14348438\n",
            "epoch: 2000  loss: 0.12923853\n",
            "\n",
            "# Finished training!\n",
            "# --> epoch: 2999  \n",
            "# --> initial loss: 0.70787477 ,  \n",
            "# --> accuracy: 0.94347826 , \n",
            "# --> final loss: 0.12674607\n",
            "Testing parameters 46/80: {'layers': (3, [6, 48, 16]), 'learning_rate': 0.07, 'max_epochs': 3000}\n",
            "epoch:  0  loss: 0.70787477\n",
            "epoch: 1000  loss: 0.13961695\n",
            "epoch: 2000  loss: 0.11547986\n",
            "\n",
            "# Finished training!\n",
            "# --> epoch: 2999  \n",
            "# --> initial loss: 0.70787477 ,  \n",
            "# --> accuracy: 0.93043478 , \n",
            "# --> final loss: 0.11816154\n",
            "Testing parameters 47/80: {'layers': (3, [6, 48, 16]), 'learning_rate': 0.08, 'max_epochs': 3000}\n",
            "epoch:  0  loss: 0.70787477\n",
            "epoch: 1000  loss: 0.18826671\n",
            "epoch: 2000  loss: 0.23150107\n",
            "\n",
            "# Finished training!\n",
            "# --> epoch: 2999  \n",
            "# --> initial loss: 0.70787477 ,  \n",
            "# --> accuracy: 0.93043478 , \n",
            "# --> final loss: 0.13906014\n",
            "Testing parameters 48/80: {'layers': (3, [6, 48, 16]), 'learning_rate': 0.09000000000000001, 'max_epochs': 3000}\n",
            "epoch:  0  loss: 0.70787477\n",
            "epoch: 1000  loss: 0.14126143\n",
            "epoch: 2000  loss: 0.11306296\n",
            "\n",
            "# Finished training!\n",
            "# --> epoch: 2999  \n",
            "# --> initial loss: 0.70787477 ,  \n",
            "# --> accuracy: 0.94782609 , \n",
            "# --> final loss: 0.09318750\n",
            "Testing parameters 49/80: {'layers': (3, [6, 48, 16]), 'learning_rate': 0.1, 'max_epochs': 3000}\n",
            "epoch:  0  loss: 0.70787477\n",
            "epoch: 1000  loss: 0.51963109\n",
            "epoch: 2000  loss: 0.48332629\n",
            "\n",
            "# Finished training!\n",
            "# --> epoch: 2999  \n",
            "# --> initial loss: 0.70787477 ,  \n",
            "# --> accuracy: 0.70000000 , \n",
            "# --> final loss: 0.46829167\n",
            "Testing parameters 50/80: {'layers': (3, [6, 48, 32]), 'learning_rate': 0.01, 'max_epochs': 3000}\n",
            "epoch:  0  loss: 0.69992250\n",
            "epoch: 1000  loss: 0.31597888\n",
            "epoch: 2000  loss: 0.27962235\n",
            "\n",
            "# Finished training!\n",
            "# --> epoch: 2999  \n",
            "# --> initial loss: 0.69992250 ,  \n",
            "# --> accuracy: 0.90869565 , \n",
            "# --> final loss: 0.20792846\n",
            "Testing parameters 51/80: {'layers': (3, [6, 48, 32]), 'learning_rate': 0.020000000000000004, 'max_epochs': 3000}\n",
            "epoch:  0  loss: 0.69992250\n",
            "epoch: 1000  loss: 0.31765565\n",
            "epoch: 2000  loss: 0.28026780\n",
            "\n",
            "# Finished training!\n",
            "# --> epoch: 2999  \n",
            "# --> initial loss: 0.69992250 ,  \n",
            "# --> accuracy: 0.84347826 , \n",
            "# --> final loss: 0.28333008\n",
            "Testing parameters 52/80: {'layers': (3, [6, 48, 32]), 'learning_rate': 0.030000000000000006, 'max_epochs': 3000}\n",
            "epoch:  0  loss: 0.69992250\n",
            "epoch: 1000  loss: 0.21853048\n",
            "epoch: 2000  loss: 0.19006060\n",
            "\n",
            "# Finished training!\n",
            "# --> epoch: 2999  \n",
            "# --> initial loss: 0.69992250 ,  \n",
            "# --> accuracy: 0.93478261 , \n",
            "# --> final loss: 0.14015548\n",
            "Testing parameters 53/80: {'layers': (3, [6, 48, 32]), 'learning_rate': 0.04000000000000001, 'max_epochs': 3000}\n",
            "epoch:  0  loss: 0.69992250\n",
            "epoch: 1000  loss: 0.12507780\n",
            "epoch: 2000  loss: 2.91968918\n",
            "\n",
            "# Finished training!\n",
            "# --> epoch: 2999  \n",
            "# --> initial loss: 0.69992250 ,  \n",
            "# --> accuracy: 0.93913043 , \n",
            "# --> final loss: 0.99680144\n",
            "Testing parameters 54/80: {'layers': (3, [6, 48, 32]), 'learning_rate': 0.05000000000000001, 'max_epochs': 3000}\n",
            "epoch:  0  loss: 0.69992250\n",
            "epoch: 1000  loss: 0.16763788\n",
            "epoch: 2000  loss: 0.10262877\n",
            "\n",
            "# Finished training!\n",
            "# --> epoch: 2999  \n",
            "# --> initial loss: 0.69992250 ,  \n",
            "# --> accuracy: 0.93043478 , \n",
            "# --> final loss: 1.42096770\n",
            "Testing parameters 55/80: {'layers': (3, [6, 48, 32]), 'learning_rate': 0.06000000000000001, 'max_epochs': 3000}\n",
            "epoch:  0  loss: 0.69992250\n",
            "epoch: 1000  loss: 0.15745480\n",
            "epoch: 2000  loss: 0.15569349\n",
            "\n",
            "# Finished training!\n",
            "# --> epoch: 2999  \n",
            "# --> initial loss: 0.69992250 ,  \n",
            "# --> accuracy: 0.93913043 , \n",
            "# --> final loss: 0.54385322\n",
            "Testing parameters 56/80: {'layers': (3, [6, 48, 32]), 'learning_rate': 0.07, 'max_epochs': 3000}\n",
            "epoch:  0  loss: 0.69992250\n",
            "epoch: 1000  loss: 0.16000217\n",
            "epoch: 2000  loss: 0.11147096\n",
            "\n",
            "# Finished training!\n",
            "# --> epoch: 2999  \n",
            "# --> initial loss: 0.69992250 ,  \n",
            "# --> accuracy: 0.93043478 , \n",
            "# --> final loss: 0.14038976\n",
            "Testing parameters 57/80: {'layers': (3, [6, 48, 32]), 'learning_rate': 0.08, 'max_epochs': 3000}\n",
            "epoch:  0  loss: 0.69992250\n",
            "epoch: 1000  loss: 0.21033126\n",
            "epoch: 2000  loss: 0.64742851\n",
            "\n",
            "# Finished training!\n",
            "# --> epoch: 2999  \n",
            "# --> initial loss: 0.69992250 ,  \n",
            "# --> accuracy: 0.80434783 , \n",
            "# --> final loss: 0.29102442\n",
            "Testing parameters 58/80: {'layers': (3, [6, 48, 32]), 'learning_rate': 0.09000000000000001, 'max_epochs': 3000}\n",
            "epoch:  0  loss: 0.69992250\n",
            "epoch: 1000  loss: 0.24852116\n",
            "epoch: 2000  loss: 0.22460611\n",
            "\n",
            "# Finished training!\n",
            "# --> epoch: 2999  \n",
            "# --> initial loss: 0.69992250 ,  \n",
            "# --> accuracy: 0.89130435 , \n",
            "# --> final loss: 0.24005485\n",
            "Testing parameters 59/80: {'layers': (3, [6, 48, 32]), 'learning_rate': 0.1, 'max_epochs': 3000}\n",
            "epoch:  0  loss: 0.69992250\n",
            "epoch: 1000  loss: 0.39470267\n",
            "epoch: 2000  loss: 0.40062937\n",
            "\n",
            "# Finished training!\n",
            "# --> epoch: 2999  \n",
            "# --> initial loss: 0.69992250 ,  \n",
            "# --> accuracy: 0.77826087 , \n",
            "# --> final loss: 0.40621778\n",
            "Testing parameters 60/80: {'layers': (3, [6, 48, 48]), 'learning_rate': 0.01, 'max_epochs': 3000}\n",
            "epoch:  0  loss: 0.68993664\n",
            "epoch: 1000  loss: 0.19743861\n",
            "epoch: 2000  loss: 0.13683912\n",
            "\n",
            "# Finished training!\n",
            "# --> epoch: 2999  \n",
            "# --> initial loss: 0.68993664 ,  \n",
            "# --> accuracy: 0.94782609 , \n",
            "# --> final loss: 0.11723320\n",
            "Testing parameters 61/80: {'layers': (3, [6, 48, 48]), 'learning_rate': 0.020000000000000004, 'max_epochs': 3000}\n",
            "epoch:  0  loss: 0.68993664\n",
            "epoch: 1000  loss: 0.21051857\n",
            "epoch: 2000  loss: 0.13847663\n",
            "\n",
            "# Finished training!\n",
            "# --> epoch: 2999  \n",
            "# --> initial loss: 0.68993664 ,  \n",
            "# --> accuracy: 0.93043478 , \n",
            "# --> final loss: 0.13860023\n",
            "Testing parameters 62/80: {'layers': (3, [6, 48, 48]), 'learning_rate': 0.030000000000000006, 'max_epochs': 3000}\n",
            "epoch:  0  loss: 0.68993664\n",
            "epoch: 1000  loss: 0.12857805\n",
            "epoch: 2000  loss: 0.10086315\n",
            "\n",
            "# Finished training!\n",
            "# --> epoch: 2999  \n",
            "# --> initial loss: 0.68993664 ,  \n",
            "# --> accuracy: 0.96086957 , \n",
            "# --> final loss: 0.08952537\n",
            "Testing parameters 63/80: {'layers': (3, [6, 48, 48]), 'learning_rate': 0.04000000000000001, 'max_epochs': 3000}\n",
            "epoch:  0  loss: 0.68993664\n",
            "epoch: 1000  loss: 0.12940659\n",
            "epoch: 2000  loss: 0.12346737\n",
            "\n",
            "# Finished training!\n",
            "# --> epoch: 2999  \n",
            "# --> initial loss: 0.68993664 ,  \n",
            "# --> accuracy: 0.94782609 , \n",
            "# --> final loss: 0.10434514\n",
            "Testing parameters 64/80: {'layers': (3, [6, 48, 48]), 'learning_rate': 0.05000000000000001, 'max_epochs': 3000}\n",
            "epoch:  0  loss: 0.68993664\n",
            "epoch: 1000  loss: 0.24029386\n",
            "epoch: 2000  loss: 0.10346166\n",
            "\n",
            "# Finished training!\n",
            "# --> epoch: 2999  \n",
            "# --> initial loss: 0.68993664 ,  \n",
            "# --> accuracy: 0.94347826 , \n",
            "# --> final loss: 2.26233172\n",
            "Testing parameters 65/80: {'layers': (3, [6, 48, 48]), 'learning_rate': 0.06000000000000001, 'max_epochs': 3000}\n",
            "epoch:  0  loss: 0.68993664\n",
            "epoch: 1000  loss: 0.11770411\n",
            "epoch: 2000  loss: 0.07895184\n",
            "\n",
            "# Finished training!\n",
            "# --> epoch: 2999  \n",
            "# --> initial loss: 0.68993664 ,  \n",
            "# --> accuracy: 0.96086957 , \n",
            "# --> final loss: 0.08429815\n",
            "Testing parameters 66/80: {'layers': (3, [6, 48, 48]), 'learning_rate': 0.07, 'max_epochs': 3000}\n",
            "epoch:  0  loss: 0.68993664\n",
            "epoch: 1000  loss: 0.09918858\n",
            "epoch: 2000  loss: 0.16334419\n",
            "\n",
            "# Finished training!\n",
            "# --> epoch: 2999  \n",
            "# --> initial loss: 0.68993664 ,  \n",
            "# --> accuracy: 0.94347826 , \n",
            "# --> final loss: 1.80377197\n",
            "Testing parameters 67/80: {'layers': (3, [6, 48, 48]), 'learning_rate': 0.08, 'max_epochs': 3000}\n",
            "epoch:  0  loss: 0.68993664\n",
            "epoch: 1000  loss: 0.20785269\n",
            "epoch: 2000  loss: 0.63226104\n",
            "\n",
            "# Finished training!\n",
            "# --> epoch: 2999  \n",
            "# --> initial loss: 0.68993664 ,  \n",
            "# --> accuracy: 0.91739130 , \n",
            "# --> final loss: 0.59638953\n",
            "Testing parameters 68/80: {'layers': (3, [6, 48, 48]), 'learning_rate': 0.09000000000000001, 'max_epochs': 3000}\n",
            "epoch:  0  loss: 0.68993664\n",
            "epoch: 1000  loss: 0.23980552\n",
            "epoch: 2000  loss: 0.21985710\n",
            "\n",
            "# Finished training!\n",
            "# --> epoch: 2999  \n",
            "# --> initial loss: 0.68993664 ,  \n",
            "# --> accuracy: 0.85217391 , \n",
            "# --> final loss: 0.34605131\n",
            "Testing parameters 69/80: {'layers': (3, [6, 48, 48]), 'learning_rate': 0.1, 'max_epochs': 3000}\n",
            "epoch:  0  loss: 0.68993664\n",
            "epoch: 1000  loss: 0.46651477\n",
            "epoch: 2000  loss: 0.46688908\n",
            "\n",
            "# Finished training!\n",
            "# --> epoch: 2999  \n",
            "# --> initial loss: 0.68993664 ,  \n",
            "# --> accuracy: 0.68695652 , \n",
            "# --> final loss: 0.55548173\n",
            "Testing parameters 70/80: {'layers': (3, [6, 48, 64]), 'learning_rate': 0.01, 'max_epochs': 3000}\n",
            "epoch:  0  loss: 0.70032346\n",
            "epoch: 1000  loss: 0.22548555\n",
            "epoch: 2000  loss: 0.15161678\n",
            "\n",
            "# Finished training!\n",
            "# --> epoch: 2999  \n",
            "# --> initial loss: 0.70032346 ,  \n",
            "# --> accuracy: 0.95652174 , \n",
            "# --> final loss: 0.11864583\n",
            "Testing parameters 71/80: {'layers': (3, [6, 48, 64]), 'learning_rate': 0.020000000000000004, 'max_epochs': 3000}\n",
            "epoch:  0  loss: 0.70032346\n",
            "epoch: 1000  loss: 0.22592793\n",
            "epoch: 2000  loss: 0.16127047\n",
            "\n",
            "# Finished training!\n",
            "# --> epoch: 2999  \n",
            "# --> initial loss: 0.70032346 ,  \n",
            "# --> accuracy: 0.92173913 , \n",
            "# --> final loss: 0.14582193\n",
            "Testing parameters 72/80: {'layers': (3, [6, 48, 64]), 'learning_rate': 0.030000000000000006, 'max_epochs': 3000}\n",
            "epoch:  0  loss: 0.70032346\n",
            "epoch: 1000  loss: 0.20798051\n",
            "epoch: 2000  loss: 0.12500548\n",
            "\n",
            "# Finished training!\n",
            "# --> epoch: 2999  \n",
            "# --> initial loss: 0.70032346 ,  \n",
            "# --> accuracy: 0.95652174 , \n",
            "# --> final loss: 0.09571443\n",
            "Testing parameters 73/80: {'layers': (3, [6, 48, 64]), 'learning_rate': 0.04000000000000001, 'max_epochs': 3000}\n",
            "epoch:  0  loss: 0.70032346\n",
            "epoch: 1000  loss: 0.12483054\n",
            "epoch: 2000  loss: 0.08856969\n",
            "\n",
            "# Finished training!\n",
            "# --> epoch: 2999  \n",
            "# --> initial loss: 0.70032346 ,  \n",
            "# --> accuracy: 0.96956522 , \n",
            "# --> final loss: 0.08092714\n",
            "Testing parameters 74/80: {'layers': (3, [6, 48, 64]), 'learning_rate': 0.05000000000000001, 'max_epochs': 3000}\n",
            "epoch:  0  loss: 0.70032346\n",
            "epoch: 1000  loss: 0.10121606\n",
            "epoch: 2000  loss: 0.49143377\n",
            "\n",
            "# Finished training!\n",
            "# --> epoch: 2999  \n",
            "# --> initial loss: 0.70032346 ,  \n",
            "# --> accuracy: 0.98260870 , \n",
            "# --> final loss: 0.47932410\n",
            "Testing parameters 75/80: {'layers': (3, [6, 48, 64]), 'learning_rate': 0.06000000000000001, 'max_epochs': 3000}\n",
            "epoch:  0  loss: 0.70032346\n",
            "epoch: 1000  loss: 0.08789172\n",
            "epoch: 2000  loss: 0.07986392\n",
            "\n",
            "# Finished training!\n",
            "# --> epoch: 2999  \n",
            "# --> initial loss: 0.70032346 ,  \n",
            "# --> accuracy: 0.93913043 , \n",
            "# --> final loss: 0.13250317\n",
            "Testing parameters 76/80: {'layers': (3, [6, 48, 64]), 'learning_rate': 0.07, 'max_epochs': 3000}\n",
            "epoch:  0  loss: 0.70032346\n",
            "epoch: 1000  loss: 0.11611801\n",
            "epoch: 2000  loss: 0.10367683\n",
            "\n",
            "# Finished training!\n",
            "# --> epoch: 2999  \n",
            "# --> initial loss: 0.70032346 ,  \n",
            "# --> accuracy: 0.97391304 , \n",
            "# --> final loss: 0.49658561\n",
            "Testing parameters 77/80: {'layers': (3, [6, 48, 64]), 'learning_rate': 0.08, 'max_epochs': 3000}\n",
            "epoch:  0  loss: 0.70032346\n",
            "epoch: 1000  loss: 0.26299486\n",
            "epoch: 2000  loss: 0.65107089\n",
            "\n",
            "# Finished training!\n",
            "# --> epoch: 2999  \n",
            "# --> initial loss: 0.70032346 ,  \n",
            "# --> accuracy: 0.90000000 , \n",
            "# --> final loss: 0.63675338\n",
            "Testing parameters 78/80: {'layers': (3, [6, 48, 64]), 'learning_rate': 0.09000000000000001, 'max_epochs': 3000}\n",
            "epoch:  0  loss: 0.70032346\n",
            "epoch: 1000  loss: 0.37780473\n",
            "epoch: 2000  loss: 0.31567532\n",
            "\n",
            "# Finished training!\n",
            "# --> epoch: 2999  \n",
            "# --> initial loss: 0.70032346 ,  \n",
            "# --> accuracy: 0.86086957 , \n",
            "# --> final loss: 0.25630847\n",
            "Testing parameters 79/80: {'layers': (3, [6, 48, 64]), 'learning_rate': 0.1, 'max_epochs': 3000}\n",
            "epoch:  0  loss: 0.70032346\n",
            "epoch: 1000  loss: 0.37601358\n",
            "epoch: 2000  loss: 0.37619191\n",
            "\n",
            "# Finished training!\n",
            "# --> epoch: 2999  \n",
            "# --> initial loss: 0.70032346 ,  \n",
            "# --> accuracy: 0.80869565 , \n",
            "# --> final loss: 0.33643031\n",
            "best_params\n",
            "{'layers': (2, [6, 52]), 'learning_rate': 0.07, 'max_epochs': 3000}\n",
            "acc_test_list\n",
            "[0.5714285714285714, 0.5454545454545454, 0.4805194805194805, 0.5584415584415584, 0.5324675324675324, 0.5584415584415584, 0.4935064935064935, 0.5844155844155844, 0.5714285714285714, 0.5714285714285714, 0.5194805194805194, 0.5064935064935064, 0.5714285714285714, 0.6103896103896104, 0.5194805194805194, 0.5844155844155844, 0.5324675324675324, 0.4805194805194805, 0.5454545454545454, 0.5324675324675324, 0.5584415584415584, 0.5584415584415584, 0.5064935064935064, 0.5324675324675324, 0.4935064935064935, 0.5714285714285714, 0.6233766233766234, 0.5194805194805194, 0.5194805194805194, 0.5844155844155844, 0.45454545454545453, 0.5194805194805194, 0.5584415584415584, 0.5194805194805194, 0.4805194805194805, 0.5194805194805194, 0.5324675324675324, 0.4805194805194805, 0.5454545454545454, 0.5714285714285714, 0.45454545454545453, 0.5714285714285714, 0.5454545454545454, 0.4675324675324675, 0.4675324675324675, 0.5584415584415584, 0.5714285714285714, 0.5194805194805194, 0.5324675324675324, 0.5454545454545454, 0.4935064935064935, 0.5064935064935064, 0.5064935064935064, 0.5454545454545454, 0.5324675324675324, 0.4935064935064935, 0.4805194805194805, 0.5584415584415584, 0.5454545454545454, 0.5714285714285714, 0.45454545454545453, 0.5454545454545454, 0.5324675324675324, 0.45454545454545453, 0.5064935064935064, 0.5194805194805194, 0.5454545454545454, 0.5324675324675324, 0.4675324675324675, 0.45454545454545453, 0.5714285714285714, 0.5064935064935064, 0.5064935064935064, 0.5324675324675324, 0.5194805194805194, 0.4675324675324675, 0.5324675324675324, 0.4805194805194805, 0.4935064935064935, 0.5584415584415584]\n",
            "idx_best\n",
            "26\n",
            "acc_best\n",
            "0.6233766233766234\n"
          ],
          "name": "stdout"
        }
      ]
    },
    {
      "cell_type": "code",
      "metadata": {
        "id": "9FX94z1Us1SS",
        "colab": {
          "base_uri": "https://localhost:8080/"
        },
        "outputId": "1c589b63-ef08-4015-e21b-8484535c595f"
      },
      "source": [
        "print(best_model)"
      ],
      "execution_count": null,
      "outputs": [
        {
          "output_type": "stream",
          "text": [
            "depression_detection(\n",
            "  (ann): Sequential(\n",
            "    (0): Linear(in_features=6, out_features=52, bias=True)\n",
            "    (1): ReLU(inplace=True)\n",
            "    (2): Linear(in_features=52, out_features=1, bias=True)\n",
            "    (3): Sigmoid()\n",
            "  )\n",
            ")\n"
          ],
          "name": "stdout"
        }
      ]
    },
    {
      "cell_type": "code",
      "metadata": {
        "id": "LR7Y90AYF3MH"
      },
      "source": [
        "# Model, losses, accs = train_loop(model, data_train, data_test, max_epochs=1000, print_iters=1) # note que o modelo é sobrescrito pela saída treinada"
      ],
      "execution_count": null,
      "outputs": []
    },
    {
      "cell_type": "code",
      "metadata": {
        "id": "nTGzXljDJIf8"
      },
      "source": [
        "X_train = torch.FloatTensor(X_train)"
      ],
      "execution_count": null,
      "outputs": []
    },
    {
      "cell_type": "code",
      "metadata": {
        "id": "yWfkyWf5Io8_"
      },
      "source": [
        "Y_pred = best_model(X_train)"
      ],
      "execution_count": null,
      "outputs": []
    },
    {
      "cell_type": "markdown",
      "metadata": {
        "id": "EnMGabph0Gld"
      },
      "source": [
        "#Visualizando resultados\n",
        "\n",
        "##Gráfico de Loss e Accuracy"
      ]
    },
    {
      "cell_type": "code",
      "metadata": {
        "id": "UxVYd6b3a7V3"
      },
      "source": [
        "def plot_loss_and_accuracy(losses, accs):\n",
        "\n",
        "  fig, ax_tuple = plt.subplots(1, 2, figsize=(16,6))\n",
        "  fig.suptitle('Loss and accuracy')\n",
        "\n",
        "  for i, (y_label, y_values) in enumerate(zip(['BCE loss','Accuracy'],[losses, accs])):\n",
        "    ax_tuple[i].plot(range(len(y_values)),  y_values, label='train')\n",
        "    ax_tuple[i].set_xlabel('epochs')\n",
        "    ax_tuple[i].set_ylabel(y_label)\n",
        "    ax_tuple[i].legend()\n",
        "  \n",
        "  ax_tuple[1].set_ylim([0,1])"
      ],
      "execution_count": null,
      "outputs": []
    },
    {
      "cell_type": "code",
      "metadata": {
        "id": "lwtZIfFHc8wX",
        "colab": {
          "base_uri": "https://localhost:8080/",
          "height": 431
        },
        "outputId": "92b38b95-9555-4ca8-b1a1-635cd158b74e"
      },
      "source": [
        "plot_loss_and_accuracy(losses_best, acc_best)"
      ],
      "execution_count": null,
      "outputs": [
        {
          "output_type": "display_data",
          "data": {
            "image/png": "[encoded data removed]",
            "text/plain": [
              "<Figure size 1152x432 with 2 Axes>"
            ]
          },
          "metadata": {
            "tags": [],
            "needs_background": "light"
          }
        }
      ]
    },
    {
      "cell_type": "markdown",
      "metadata": {
        "id": "mWb_i2uv0Ofg"
      },
      "source": [
        "##Confusion Matrix"
      ]
    },
    {
      "cell_type": "code",
      "metadata": {
        "id": "BOwy__62BvX8",
        "colab": {
          "base_uri": "https://localhost:8080/"
        },
        "outputId": "b57ae0f9-7745-450e-b6f9-c608e35fe75d"
      },
      "source": [
        "X_test = np.vstack(X_test)\n",
        "Y_test = np.vstack(y_test).reshape(-1,1)\n",
        "X_test = torch.FloatTensor(X_test)\n",
        "Y_test =  torch.FloatTensor(Y_test)\n",
        "X_test.shape, Y_test.shape"
      ],
      "execution_count": null,
      "outputs": [
        {
          "output_type": "execute_result",
          "data": {
            "text/plain": [
              "(torch.Size([77, 6]), torch.Size([77, 1]))"
            ]
          },
          "metadata": {
            "tags": []
          },
          "execution_count": 61
        }
      ]
    },
    {
      "cell_type": "code",
      "metadata": {
        "id": "7RLiVrWaBayt"
      },
      "source": [
        "Y_pred = best_model(X_test)\n",
        "#Y_pred[:10]"
      ],
      "execution_count": null,
      "outputs": []
    },
    {
      "cell_type": "code",
      "metadata": {
        "id": "n_KwdHhcUAX7",
        "colab": {
          "base_uri": "https://localhost:8080/"
        },
        "outputId": "0e769448-715c-4172-9e15-8d7625367664"
      },
      "source": [
        "Y_test.dtype"
      ],
      "execution_count": null,
      "outputs": [
        {
          "output_type": "execute_result",
          "data": {
            "text/plain": [
              "torch.float32"
            ]
          },
          "metadata": {
            "tags": []
          },
          "execution_count": 63
        }
      ]
    },
    {
      "cell_type": "code",
      "metadata": {
        "id": "fZjzTNe6oBG8",
        "colab": {
          "base_uri": "https://localhost:8080/"
        },
        "outputId": "852c8e10-cde6-4ccb-9529-8c52d0676028"
      },
      "source": [
        "X, Y = data_test\n",
        "with torch.no_grad():\n",
        "    Y2 = best_model(X)\n",
        "    num_hits  = torch.sum(torch.round(Y2)==Y).numpy()\n",
        "    num_total =  float(Y.numel())\n",
        "    acc_test = num_hits/num_total\n",
        "\n",
        "acc_test"
      ],
      "execution_count": null,
      "outputs": [
        {
          "output_type": "execute_result",
          "data": {
            "text/plain": [
              "0.6233766233766234"
            ]
          },
          "metadata": {
            "tags": []
          },
          "execution_count": 64
        }
      ]
    },
    {
      "cell_type": "code",
      "metadata": {
        "id": "VQmeIj_Lc9hv",
        "colab": {
          "base_uri": "https://localhost:8080/",
          "height": 407
        },
        "outputId": "e93a2a27-9a50-4256-dfcc-462711e9d1ad"
      },
      "source": [
        "import seaborn as sns\n",
        "import matplotlib.pyplot as plt\n",
        "from sklearn.metrics import confusion_matrix\n",
        "\n",
        "sns.set(font_scale=1.5)\n",
        "\n",
        "# confusion matrix daora TEM Q MELHORAR\n",
        "def plot_conf_mat(y_test, y_preds, norm=None):\n",
        "   fig, ax = plt.subplots(figsize=(8, 6))\n",
        "   ax = sns.heatmap(confusion_matrix(y_test, y_preds, normalize=norm),\n",
        "                   annot=True,\n",
        "                    fmt=\"d\",\n",
        "                    cmap=\"YlOrRd\")\n",
        "   plt.xlabel(\"Resultado previsto\")\n",
        "   plt.ylabel(\"Resultado real\")\n",
        "\n",
        "\n",
        "plot_conf_mat(Y_test.detach().numpy(), Y_pred.detach().numpy().round())"
      ],
      "execution_count": null,
      "outputs": [
        {
          "output_type": "display_data",
          "data": {
            "image/png": "[encoded data removed]",
            "text/plain": [
              "<Figure size 576x432 with 2 Axes>"
            ]
          },
          "metadata": {
            "tags": []
          }
        }
      ]
    },
    {
      "cell_type": "code",
      "metadata": {
        "id": "CNIGo_L_QP4X",
        "colab": {
          "base_uri": "https://localhost:8080/",
          "height": 407
        },
        "outputId": "dbff1923-4120-4685-b2df-70f4b415f361"
      },
      "source": [
        "Y_predtrain = best_model(X_train)\n",
        "plot_conf_mat(Y_train, Y_predtrain.detach().numpy().round())"
      ],
      "execution_count": null,
      "outputs": [
        {
          "output_type": "display_data",
          "data": {
            "image/png": "[encoded data removed]",
            "text/plain": [
              "<Figure size 576x432 with 2 Axes>"
            ]
          },
          "metadata": {
            "tags": []
          }
        }
      ]
    },
    {
      "cell_type": "markdown",
      "metadata": {
        "id": "bYY_mw6eV65_"
      },
      "source": [
        "## F1 Score"
      ]
    },
    {
      "cell_type": "code",
      "metadata": {
        "id": "vPLwDoDdB32h",
        "colab": {
          "base_uri": "https://localhost:8080/"
        },
        "outputId": "ec55799c-037d-47d5-f33d-f5ea07f98138"
      },
      "source": [
        "from sklearn.metrics import f1_score\n",
        "\n",
        "f1_score(Y_test.detach().numpy(), Y_pred.detach().numpy().round())"
      ],
      "execution_count": null,
      "outputs": [
        {
          "output_type": "execute_result",
          "data": {
            "text/plain": [
              "0.6506024096385543"
            ]
          },
          "metadata": {
            "tags": []
          },
          "execution_count": 67
        }
      ]
    },
    {
      "cell_type": "markdown",
      "metadata": {
        "id": "FJW2zA8mWniX"
      },
      "source": [
        "## Recall Score"
      ]
    },
    {
      "cell_type": "code",
      "metadata": {
        "id": "IVOHzdViWWjP",
        "colab": {
          "base_uri": "https://localhost:8080/"
        },
        "outputId": "51eee87c-6a81-45d1-d0d3-369b3e17ae0e"
      },
      "source": [
        "from sklearn.metrics import recall_score\n",
        "\n",
        "recall_score(Y_test.detach().numpy(), Y_pred.detach().numpy().round())"
      ],
      "execution_count": null,
      "outputs": [
        {
          "output_type": "execute_result",
          "data": {
            "text/plain": [
              "0.6428571428571429"
            ]
          },
          "metadata": {
            "tags": []
          },
          "execution_count": 68
        }
      ]
    },
    {
      "cell_type": "markdown",
      "metadata": {
        "id": "Zuoy_Rp6Gvzy"
      },
      "source": [
        "##Precision"
      ]
    },
    {
      "cell_type": "code",
      "metadata": {
        "id": "hbTboqG4GqJM",
        "colab": {
          "base_uri": "https://localhost:8080/"
        },
        "outputId": "81086c80-ea2a-4ce5-d237-16e975c218c6"
      },
      "source": [
        "from sklearn.metrics import precision_score\n",
        "\n",
        "precision_score(Y_test.detach().numpy(), Y_pred.detach().numpy().round())"
      ],
      "execution_count": null,
      "outputs": [
        {
          "output_type": "execute_result",
          "data": {
            "text/plain": [
              "0.6585365853658537"
            ]
          },
          "metadata": {
            "tags": []
          },
          "execution_count": 69
        }
      ]
    },
    {
      "cell_type": "markdown",
      "metadata": {
        "id": "kQ9b9nJtXQkS"
      },
      "source": [
        "## ROC Curve"
      ]
    },
    {
      "cell_type": "code",
      "metadata": {
        "id": "WxVthM5PYICd"
      },
      "source": [
        "# função pra plotar a ROC curve\n",
        "\n",
        "def plot_roc_curve(fpr, tpr):\n",
        "    \n",
        "    plt.plot(fpr, tpr, color=\"orange\", label=\"ROC\")  \n",
        "    plt.plot([0,1],[0,1], color=\"darkblue\", linestyle=\"--\", label=\"Guessing\")\n",
        "    \n",
        "    plt.xlabel(\"Taxa de falsos positivos  (fpr)\")\n",
        "    plt.ylabel(\"Taxa verdadeira positiva (tpr)\")\n",
        "    plt.title(\"Receiver Operating Characteristics (ROC) curve\")\n",
        "    plt.legend()\n",
        "    plt.show()"
      ],
      "execution_count": null,
      "outputs": []
    },
    {
      "cell_type": "code",
      "metadata": {
        "id": "yOpJwMuHW3vx",
        "colab": {
          "base_uri": "https://localhost:8080/",
          "height": 322
        },
        "outputId": "d76b35f3-346d-4428-a1cc-094958d92da0"
      },
      "source": [
        "from sklearn.metrics import roc_curve\n",
        "\n",
        "fpr, tpr, thresholds = roc_curve(Y_test.detach().numpy(), Y_pred.detach().numpy())\n",
        "plot_roc_curve(fpr, tpr)"
      ],
      "execution_count": null,
      "outputs": [
        {
          "output_type": "display_data",
          "data": {
            "image/png": "[encoded data removed]",
            "text/plain": [
              "<Figure size 432x288 with 1 Axes>"
            ]
          },
          "metadata": {
            "tags": []
          }
        }
      ]
    },
    {
      "cell_type": "markdown",
      "metadata": {
        "id": "IdVp97y3ZCHs"
      },
      "source": [
        "## ROC/AUC Score"
      ]
    },
    {
      "cell_type": "code",
      "metadata": {
        "id": "QHknSm20XcCq",
        "colab": {
          "base_uri": "https://localhost:8080/"
        },
        "outputId": "412e9b02-0680-4ba9-b18b-4b1be60cbc68"
      },
      "source": [
        "from sklearn.metrics import roc_auc_score\n",
        "\n",
        "roc_auc_score(Y_test.detach().numpy(), Y_pred.detach().numpy())"
      ],
      "execution_count": null,
      "outputs": [
        {
          "output_type": "execute_result",
          "data": {
            "text/plain": [
              "0.6329931972789116"
            ]
          },
          "metadata": {
            "tags": []
          },
          "execution_count": 72
        }
      ]
    },
    {
      "cell_type": "markdown",
      "metadata": {
        "id": "EBfMmQW3Z3wc"
      },
      "source": [
        "## Classification Report"
      ]
    },
    {
      "cell_type": "code",
      "metadata": {
        "id": "OkY7tW2qZJ24",
        "colab": {
          "base_uri": "https://localhost:8080/"
        },
        "outputId": "5da52236-aa0f-48ee-a358-bea72d1ecccd"
      },
      "source": [
        "from sklearn.metrics import classification_report\n",
        "\n",
        "# compare the truth labels to the predicted labels\n",
        "print(classification_report(Y_test.detach().numpy(), Y_pred.detach().numpy().round()))"
      ],
      "execution_count": null,
      "outputs": [
        {
          "output_type": "stream",
          "text": [
            "              precision    recall  f1-score   support\n",
            "\n",
            "         0.0       0.58      0.60      0.59        35\n",
            "         1.0       0.66      0.64      0.65        42\n",
            "\n",
            "    accuracy                           0.62        77\n",
            "   macro avg       0.62      0.62      0.62        77\n",
            "weighted avg       0.62      0.62      0.62        77\n",
            "\n"
          ],
          "name": "stdout"
        }
      ]
    },
    {
      "cell_type": "markdown",
      "metadata": {
        "id": "fNZg8ZXhQK__"
      },
      "source": [
        "##Falsos Negativos"
      ]
    },
    {
      "cell_type": "code",
      "metadata": {
        "id": "ANqqz92QzZSB"
      },
      "source": [
        "moods = {\"Anger\": 0, \"Fear\" : 1, \"Joy\" : 2, \"Love\" : 3, \"Sadness\" : 4, \"Suprise\" : 5}\n",
        "sdoom = {0 : \"Anger\", 1: \"Fear\", 2: \"Joy\", 3: \"Love\", 4: \"Sadness\", 5: \"Suprise\"}\n",
        "emotions = list(moods.keys())"
      ],
      "execution_count": null,
      "outputs": []
    },
    {
      "cell_type": "code",
      "metadata": {
        "id": "neYqSF6Ruzq_"
      },
      "source": [
        "Ytrue1 = Y_test.detach().numpy() == 1\n",
        "Ypred0 = Y_pred.detach().numpy().round() == 0"
      ],
      "execution_count": null,
      "outputs": []
    },
    {
      "cell_type": "code",
      "metadata": {
        "id": "4cDbTP4u0_Ur",
        "colab": {
          "base_uri": "https://localhost:8080/",
          "height": 514
        },
        "outputId": "48af1c1b-5f79-47c6-f0c9-d3d86a63bb02"
      },
      "source": [
        "X_test_df[Ytrue1.reshape(-1) & Ypred0.reshape(-1)]  #Onde era verdadeiro e foi previsto falso  (FALSO NEGATIVO)"
      ],
      "execution_count": null,
      "outputs": [
        {
          "output_type": "execute_result",
          "data": {
            "text/html": [
              "<div>\n",
              "<style scoped>\n",
              "    .dataframe tbody tr th:only-of-type {\n",
              "        vertical-align: middle;\n",
              "    }\n",
              "\n",
              "    .dataframe tbody tr th {\n",
              "        vertical-align: top;\n",
              "    }\n",
              "\n",
              "    .dataframe thead th {\n",
              "        text-align: right;\n",
              "    }\n",
              "</style>\n",
              "<table border=\"1\" class=\"dataframe\">\n",
              "  <thead>\n",
              "    <tr style=\"text-align: right;\">\n",
              "      <th></th>\n",
              "      <th>user</th>\n",
              "      <th>emotions_avg_dist</th>\n",
              "    </tr>\n",
              "  </thead>\n",
              "  <tbody>\n",
              "    <tr>\n",
              "      <th>181</th>\n",
              "      <td>hadassa_rebecah</td>\n",
              "      <td>[[0.5892867, 0.16615497, 0.0019476643, 1.2866371e-07, 0.20165616, 0.040954396]]</td>\n",
              "    </tr>\n",
              "    <tr>\n",
              "      <th>215</th>\n",
              "      <td>taveirao</td>\n",
              "      <td>[[1.17025875e-05, 0.33304593, 0.33332512, 1.0709086e-05, 1.8564011e-06, 0.3336047]]</td>\n",
              "    </tr>\n",
              "    <tr>\n",
              "      <th>136</th>\n",
              "      <td>BielBravo1</td>\n",
              "      <td>[[0.20001686, 0.19964576, 0.39533705, 8.550821e-09, 0.20467141, 0.00032893853]]</td>\n",
              "    </tr>\n",
              "    <tr>\n",
              "      <th>86</th>\n",
              "      <td>hurricanequak</td>\n",
              "      <td>[[0.015836533, 0.0008915385, 0.76328003, 0.01908173, 0.2008048, 0.000105393425]]</td>\n",
              "    </tr>\n",
              "    <tr>\n",
              "      <th>202</th>\n",
              "      <td>GermanaAngelica</td>\n",
              "      <td>[[0.49999997, 9.882278e-09, 0.49999976, 2.5296544e-07, 5.2463996e-08, 5.9253082e-09]]</td>\n",
              "    </tr>\n",
              "    <tr>\n",
              "      <th>147</th>\n",
              "      <td>je_ecobaby</td>\n",
              "      <td>[[9.767108e-10, 2.2128073e-14, 0.6073117, 0.059354957, 0.33333334, 2.2429322e-11]]</td>\n",
              "    </tr>\n",
              "    <tr>\n",
              "      <th>240</th>\n",
              "      <td>RafaelBroly2</td>\n",
              "      <td>[[0.47130758, 0.054409225, 0.0075516882, 0.14208409, 0.31110305, 0.013544374]]</td>\n",
              "    </tr>\n",
              "    <tr>\n",
              "      <th>288</th>\n",
              "      <td>azevedorar</td>\n",
              "      <td>[[0.05445602, 0.15730442, 0.45926425, 0.003067356, 0.2948515, 0.031056445]]</td>\n",
              "    </tr>\n",
              "    <tr>\n",
              "      <th>22</th>\n",
              "      <td>soy_girls</td>\n",
              "      <td>[[0.1655501, 0.019661346, 0.1996145, 0.3948032, 0.21471998, 0.0056508873]]</td>\n",
              "    </tr>\n",
              "    <tr>\n",
              "      <th>254</th>\n",
              "      <td>fariananny1</td>\n",
              "      <td>[[0.33762982, 0.33333364, 2.839114e-09, 1.520844e-11, 0.32888946, 0.00014708366]]</td>\n",
              "    </tr>\n",
              "    <tr>\n",
              "      <th>83</th>\n",
              "      <td>chuuyain</td>\n",
              "      <td>[[0.4898499, 1.1640018e-05, 2.6316213e-06, 0.0005019117, 0.33333352, 0.1763004]]</td>\n",
              "    </tr>\n",
              "    <tr>\n",
              "      <th>133</th>\n",
              "      <td>achrystinaoc</td>\n",
              "      <td>[[0.4345643, 0.00035451958, 0.55031264, 9.82182e-05, 0.009708236, 0.0049620923]]</td>\n",
              "    </tr>\n",
              "    <tr>\n",
              "      <th>233</th>\n",
              "      <td>YaHoshii_ah</td>\n",
              "      <td>[[0.08198941, 0.013957963, 0.676276, 0.034583084, 0.0015389157, 0.19165461]]</td>\n",
              "    </tr>\n",
              "    <tr>\n",
              "      <th>301</th>\n",
              "      <td>MaraMPB</td>\n",
              "      <td>[[0.0001609018, 1.6007309e-07, 0.24512713, 0.2308425, 0.49999988, 0.023869483]]</td>\n",
              "    </tr>\n",
              "    <tr>\n",
              "      <th>149</th>\n",
              "      <td>trutbts</td>\n",
              "      <td>[[0.49984467, 8.645657e-11, 0.49984044, 1.5226401e-06, 0.00031312145, 2.3476002e-07]]</td>\n",
              "    </tr>\n",
              "  </tbody>\n",
              "</table>\n",
              "</div>"
            ],
            "text/plain": [
              "                user                                                                      emotions_avg_dist\n",
              "181  hadassa_rebecah  [[0.5892867, 0.16615497, 0.0019476643, 1.2866371e-07, 0.20165616, 0.040954396]]      \n",
              "215  taveirao         [[1.17025875e-05, 0.33304593, 0.33332512, 1.0709086e-05, 1.8564011e-06, 0.3336047]]  \n",
              "136  BielBravo1       [[0.20001686, 0.19964576, 0.39533705, 8.550821e-09, 0.20467141, 0.00032893853]]      \n",
              "86   hurricanequak    [[0.015836533, 0.0008915385, 0.76328003, 0.01908173, 0.2008048, 0.000105393425]]     \n",
              "202  GermanaAngelica  [[0.49999997, 9.882278e-09, 0.49999976, 2.5296544e-07, 5.2463996e-08, 5.9253082e-09]]\n",
              "147  je_ecobaby       [[9.767108e-10, 2.2128073e-14, 0.6073117, 0.059354957, 0.33333334, 2.2429322e-11]]   \n",
              "240  RafaelBroly2     [[0.47130758, 0.054409225, 0.0075516882, 0.14208409, 0.31110305, 0.013544374]]       \n",
              "288  azevedorar       [[0.05445602, 0.15730442, 0.45926425, 0.003067356, 0.2948515, 0.031056445]]          \n",
              "22   soy_girls        [[0.1655501, 0.019661346, 0.1996145, 0.3948032, 0.21471998, 0.0056508873]]           \n",
              "254  fariananny1      [[0.33762982, 0.33333364, 2.839114e-09, 1.520844e-11, 0.32888946, 0.00014708366]]    \n",
              "83   chuuyain         [[0.4898499, 1.1640018e-05, 2.6316213e-06, 0.0005019117, 0.33333352, 0.1763004]]     \n",
              "133  achrystinaoc     [[0.4345643, 0.00035451958, 0.55031264, 9.82182e-05, 0.009708236, 0.0049620923]]     \n",
              "233  YaHoshii_ah      [[0.08198941, 0.013957963, 0.676276, 0.034583084, 0.0015389157, 0.19165461]]         \n",
              "301  MaraMPB          [[0.0001609018, 1.6007309e-07, 0.24512713, 0.2308425, 0.49999988, 0.023869483]]      \n",
              "149  trutbts          [[0.49984467, 8.645657e-11, 0.49984044, 1.5226401e-06, 0.00031312145, 2.3476002e-07]]"
            ]
          },
          "metadata": {
            "tags": []
          },
          "execution_count": 76
        }
      ]
    },
    {
      "cell_type": "markdown",
      "metadata": {
        "id": "FZmmM0vmSO-d"
      },
      "source": [
        "Primeiro exemplo"
      ]
    },
    {
      "cell_type": "code",
      "metadata": {
        "id": "Anv7P0f6ywSk",
        "colab": {
          "base_uri": "https://localhost:8080/",
          "height": 275
        },
        "outputId": "349454b5-2c4c-4fb2-8624-15583d856ff4"
      },
      "source": [
        "usuario_teste = 'je_ecobaby'\n",
        "dataset.loc[usuario_teste][['texto', 'depressao','previsoes']]"
      ],
      "execution_count": null,
      "outputs": [
        {
          "output_type": "execute_result",
          "data": {
            "text/html": [
              "<div>\n",
              "<style scoped>\n",
              "    .dataframe tbody tr th:only-of-type {\n",
              "        vertical-align: middle;\n",
              "    }\n",
              "\n",
              "    .dataframe tbody tr th {\n",
              "        vertical-align: top;\n",
              "    }\n",
              "\n",
              "    .dataframe thead th {\n",
              "        text-align: right;\n",
              "    }\n",
              "</style>\n",
              "<table border=\"1\" class=\"dataframe\">\n",
              "  <thead>\n",
              "    <tr style=\"text-align: right;\">\n",
              "      <th></th>\n",
              "      <th>texto</th>\n",
              "      <th>depressao</th>\n",
              "      <th>previsoes</th>\n",
              "    </tr>\n",
              "    <tr>\n",
              "      <th>usuario</th>\n",
              "      <th></th>\n",
              "      <th></th>\n",
              "      <th></th>\n",
              "    </tr>\n",
              "  </thead>\n",
              "  <tbody>\n",
              "    <tr>\n",
              "      <th>je_ecobaby</th>\n",
              "      <td>Obrigada gente pelo rtt\\n\\nVocês são um máximo\\n\\nBjos https://t.co/ipdC2Mh6o4</td>\n",
              "      <td>1</td>\n",
              "      <td>[2.9301326e-09, 6.638422e-14, 0.999998, 2.0575803e-06, 1.6134837e-11, 6.138141e-11]</td>\n",
              "    </tr>\n",
              "    <tr>\n",
              "      <th>je_ecobaby</th>\n",
              "      <td>Os tios do João me dando pinga e dizendo \"essa menina é forte\" = tudo pra mim \\n\\nKkkkk</td>\n",
              "      <td>1</td>\n",
              "      <td>[7.924385e-18, 8.8219085e-23, 0.8219372, 0.17806281, 2.1140905e-19, 5.9065595e-12]</td>\n",
              "    </tr>\n",
              "    <tr>\n",
              "      <th>je_ecobaby</th>\n",
              "      <td>Já que é setembro amarelo decidi falar sobre mim\\n\\nTenho depressão e ansiedade diagnósticada a 3 meses, tentei suicídio uma vez e 2 dias atrás iria realizar de novo. Isso tá afetando meu relacionamento, minha família, só não amigos pq não contei a eles, só o Marlito</td>\n",
              "      <td>1</td>\n",
              "      <td>[3.339411e-24, 3.4071498e-22, 1.6748248e-12, 1.6196326e-25, 1.0, 6.0593927e-29]</td>\n",
              "    </tr>\n",
              "  </tbody>\n",
              "</table>\n",
              "</div>"
            ],
            "text/plain": [
              "                                                                                                                                                                                                                                                                                  texto  ...                                                                            previsoes\n",
              "usuario                                                                                                                                                                                                                                                                                  ...                                                                                     \n",
              "je_ecobaby  Obrigada gente pelo rtt\\n\\nVocês são um máximo\\n\\nBjos https://t.co/ipdC2Mh6o4                                                                                                                                                                                               ...  [2.9301326e-09, 6.638422e-14, 0.999998, 2.0575803e-06, 1.6134837e-11, 6.138141e-11]\n",
              "je_ecobaby  Os tios do João me dando pinga e dizendo \"essa menina é forte\" = tudo pra mim \\n\\nKkkkk                                                                                                                                                                                      ...  [7.924385e-18, 8.8219085e-23, 0.8219372, 0.17806281, 2.1140905e-19, 5.9065595e-12] \n",
              "je_ecobaby  Já que é setembro amarelo decidi falar sobre mim\\n\\nTenho depressão e ansiedade diagnósticada a 3 meses, tentei suicídio uma vez e 2 dias atrás iria realizar de novo. Isso tá afetando meu relacionamento, minha família, só não amigos pq não contei a eles, só o Marlito  ...  [3.339411e-24, 3.4071498e-22, 1.6748248e-12, 1.6196326e-25, 1.0, 6.0593927e-29]    \n",
              "\n",
              "[3 rows x 3 columns]"
            ]
          },
          "metadata": {
            "tags": []
          },
          "execution_count": 90
        }
      ]
    },
    {
      "cell_type": "code",
      "metadata": {
        "id": "cjeEU-QBQc5A",
        "colab": {
          "base_uri": "https://localhost:8080/"
        },
        "outputId": "ba05b404-06cc-4c6e-d1d2-301ee5195252"
      },
      "source": [
        "dataset.loc[usuario_teste]['previsoes'].apply(lambda x: sdoom[np.argmax(np.array(x))])"
      ],
      "execution_count": null,
      "outputs": [
        {
          "output_type": "execute_result",
          "data": {
            "text/plain": [
              "usuario\n",
              "je_ecobaby    Joy    \n",
              "je_ecobaby    Joy    \n",
              "je_ecobaby    Sadness\n",
              "Name: previsoes, dtype: object"
            ]
          },
          "metadata": {
            "tags": []
          },
          "execution_count": 91
        }
      ]
    },
    {
      "cell_type": "code",
      "metadata": {
        "id": "1JsJVSXc75dL",
        "colab": {
          "base_uri": "https://localhost:8080/",
          "height": 367
        },
        "outputId": "9d119799-1367-42ec-f47f-1682b7e680c9"
      },
      "source": [
        "plt.figure(figsize=(10, 6))\n",
        "jairo = dataset.set_index('user').loc[usuario_teste][0]\n",
        "jairo = jairo.reshape(-1)\n",
        "plt.bar(emotions, jairo, color=['lightcoral', 'khaki', 'bisque', 'lightsteelblue', 'lightgreen', 'thistle'])\n",
        "plt.show()"
      ],
      "execution_count": null,
      "outputs": [
        {
          "output_type": "error",
          "ename": "KeyError",
          "evalue": "ignored",
          "traceback": [
            "\u001b[0;31m---------------------------------------------------------------------------\u001b[0m",
            "\u001b[0;31mKeyError\u001b[0m                                  Traceback (most recent call last)",
            "\u001b[0;32m<ipython-input-92-244d054088df>\u001b[0m in \u001b[0;36m<module>\u001b[0;34m()\u001b[0m\n\u001b[1;32m      1\u001b[0m \u001b[0mplt\u001b[0m\u001b[0;34m.\u001b[0m\u001b[0mfigure\u001b[0m\u001b[0;34m(\u001b[0m\u001b[0mfigsize\u001b[0m\u001b[0;34m=\u001b[0m\u001b[0;34m(\u001b[0m\u001b[0;36m10\u001b[0m\u001b[0;34m,\u001b[0m \u001b[0;36m6\u001b[0m\u001b[0;34m)\u001b[0m\u001b[0;34m)\u001b[0m\u001b[0;34m\u001b[0m\u001b[0;34m\u001b[0m\u001b[0m\n\u001b[0;32m----> 2\u001b[0;31m \u001b[0mjairo\u001b[0m \u001b[0;34m=\u001b[0m \u001b[0mdataset\u001b[0m\u001b[0;34m.\u001b[0m\u001b[0mset_index\u001b[0m\u001b[0;34m(\u001b[0m\u001b[0;34m'user'\u001b[0m\u001b[0;34m)\u001b[0m\u001b[0;34m.\u001b[0m\u001b[0mloc\u001b[0m\u001b[0;34m[\u001b[0m\u001b[0musuario_teste\u001b[0m\u001b[0;34m]\u001b[0m\u001b[0;34m[\u001b[0m\u001b[0;36m0\u001b[0m\u001b[0;34m]\u001b[0m\u001b[0;34m\u001b[0m\u001b[0;34m\u001b[0m\u001b[0m\n\u001b[0m\u001b[1;32m      3\u001b[0m \u001b[0mjairo\u001b[0m \u001b[0;34m=\u001b[0m \u001b[0mjairo\u001b[0m\u001b[0;34m.\u001b[0m\u001b[0mreshape\u001b[0m\u001b[0;34m(\u001b[0m\u001b[0;34m-\u001b[0m\u001b[0;36m1\u001b[0m\u001b[0;34m)\u001b[0m\u001b[0;34m\u001b[0m\u001b[0;34m\u001b[0m\u001b[0m\n\u001b[1;32m      4\u001b[0m \u001b[0mplt\u001b[0m\u001b[0;34m.\u001b[0m\u001b[0mbar\u001b[0m\u001b[0;34m(\u001b[0m\u001b[0memotions\u001b[0m\u001b[0;34m,\u001b[0m \u001b[0mjairo\u001b[0m\u001b[0;34m,\u001b[0m \u001b[0mcolor\u001b[0m\u001b[0;34m=\u001b[0m\u001b[0;34m[\u001b[0m\u001b[0;34m'lightcoral'\u001b[0m\u001b[0;34m,\u001b[0m \u001b[0;34m'khaki'\u001b[0m\u001b[0;34m,\u001b[0m \u001b[0;34m'bisque'\u001b[0m\u001b[0;34m,\u001b[0m \u001b[0;34m'lightsteelblue'\u001b[0m\u001b[0;34m,\u001b[0m \u001b[0;34m'lightgreen'\u001b[0m\u001b[0;34m,\u001b[0m \u001b[0;34m'thistle'\u001b[0m\u001b[0;34m]\u001b[0m\u001b[0;34m)\u001b[0m\u001b[0;34m\u001b[0m\u001b[0;34m\u001b[0m\u001b[0m\n\u001b[1;32m      5\u001b[0m \u001b[0mplt\u001b[0m\u001b[0;34m.\u001b[0m\u001b[0mshow\u001b[0m\u001b[0;34m(\u001b[0m\u001b[0;34m)\u001b[0m\u001b[0;34m\u001b[0m\u001b[0;34m\u001b[0m\u001b[0m\n",
            "\u001b[0;32m/usr/local/lib/python3.6/dist-packages/pandas/core/frame.py\u001b[0m in \u001b[0;36mset_index\u001b[0;34m(self, keys, drop, append, inplace, verify_integrity)\u001b[0m\n\u001b[1;32m   4553\u001b[0m \u001b[0;34m\u001b[0m\u001b[0m\n\u001b[1;32m   4554\u001b[0m         \u001b[0;32mif\u001b[0m \u001b[0mmissing\u001b[0m\u001b[0;34m:\u001b[0m\u001b[0;34m\u001b[0m\u001b[0;34m\u001b[0m\u001b[0m\n\u001b[0;32m-> 4555\u001b[0;31m             \u001b[0;32mraise\u001b[0m \u001b[0mKeyError\u001b[0m\u001b[0;34m(\u001b[0m\u001b[0;34mf\"None of {missing} are in the columns\"\u001b[0m\u001b[0;34m)\u001b[0m\u001b[0;34m\u001b[0m\u001b[0;34m\u001b[0m\u001b[0m\n\u001b[0m\u001b[1;32m   4556\u001b[0m \u001b[0;34m\u001b[0m\u001b[0m\n\u001b[1;32m   4557\u001b[0m         \u001b[0;32mif\u001b[0m \u001b[0minplace\u001b[0m\u001b[0;34m:\u001b[0m\u001b[0;34m\u001b[0m\u001b[0;34m\u001b[0m\u001b[0m\n",
            "\u001b[0;31mKeyError\u001b[0m: \"None of ['user'] are in the columns\""
          ]
        },
        {
          "output_type": "display_data",
          "data": {
            "text/plain": [
              "<Figure size 720x432 with 0 Axes>"
            ]
          },
          "metadata": {
            "tags": []
          }
        }
      ]
    },
    {
      "cell_type": "code",
      "metadata": {
        "id": "Dwcke9HW1tY-",
        "colab": {
          "base_uri": "https://localhost:8080/",
          "height": 293
        },
        "outputId": "479b416b-a628-4062-a57d-fbfe6a8d0e9b"
      },
      "source": [
        "jairo = X_test_df.set_index('user').loc[usuario_teste][0]\n",
        "jairo = jairo.reshape(-1)\n",
        "sns.barplot(y=jairo,x=emotions)"
      ],
      "execution_count": null,
      "outputs": [
        {
          "output_type": "execute_result",
          "data": {
            "text/plain": [
              "<matplotlib.axes._subplots.AxesSubplot at 0x7ff080f1a2b0>"
            ]
          },
          "metadata": {
            "tags": []
          },
          "execution_count": 93
        },
        {
          "output_type": "display_data",
          "data": {
            "image/png": "[encoded data removed]",
            "text/plain": [
              "<Figure size 432x288 with 1 Axes>"
            ]
          },
          "metadata": {
            "tags": []
          }
        }
      ]
    },
    {
      "cell_type": "markdown",
      "metadata": {
        "id": "BnutD6HhRF6R"
      },
      "source": [
        "##Falsos Positive"
      ]
    },
    {
      "cell_type": "code",
      "metadata": {
        "id": "pCneO4mPRVKN"
      },
      "source": [
        "Ytrue0 = Y_test.detach().numpy() == 0\n",
        "Ypred1 = Y_pred.detach().numpy().round() == 1"
      ],
      "execution_count": null,
      "outputs": []
    },
    {
      "cell_type": "code",
      "metadata": {
        "id": "CC7X33NfRcy4",
        "colab": {
          "base_uri": "https://localhost:8080/",
          "height": 483
        },
        "outputId": "eb6992f2-1e85-44ab-c5e4-92d5d55dddcf"
      },
      "source": [
        "X_test_df[Ytrue0.reshape(-1) & Ypred1.reshape(-1)]  #Onde era falso e foi previsto verdadeiro  (FALSO POSITIVE)"
      ],
      "execution_count": null,
      "outputs": [
        {
          "output_type": "execute_result",
          "data": {
            "text/html": [
              "<div>\n",
              "<style scoped>\n",
              "    .dataframe tbody tr th:only-of-type {\n",
              "        vertical-align: middle;\n",
              "    }\n",
              "\n",
              "    .dataframe tbody tr th {\n",
              "        vertical-align: top;\n",
              "    }\n",
              "\n",
              "    .dataframe thead th {\n",
              "        text-align: right;\n",
              "    }\n",
              "</style>\n",
              "<table border=\"1\" class=\"dataframe\">\n",
              "  <thead>\n",
              "    <tr style=\"text-align: right;\">\n",
              "      <th></th>\n",
              "      <th>user</th>\n",
              "      <th>emotions_avg_dist</th>\n",
              "    </tr>\n",
              "  </thead>\n",
              "  <tbody>\n",
              "    <tr>\n",
              "      <th>95</th>\n",
              "      <td>mioneswiftt</td>\n",
              "      <td>[[0.2513755, 0.26347438, 0.14882807, 0.0063528474, 0.27080894, 0.05916044]]</td>\n",
              "    </tr>\n",
              "    <tr>\n",
              "      <th>52</th>\n",
              "      <td>9256cuIt</td>\n",
              "      <td>[[4.152537e-11, 9.5670256e-11, 0.33111197, 0.0022218332, 0.6666662, 1.1266529e-11]]</td>\n",
              "    </tr>\n",
              "    <tr>\n",
              "      <th>31</th>\n",
              "      <td>puppynee</td>\n",
              "      <td>[[0.457385, 0.042210568, 5.7946306e-07, 3.6330016e-07, 0.5000002, 0.00040323046]]</td>\n",
              "    </tr>\n",
              "    <tr>\n",
              "      <th>249</th>\n",
              "      <td>hurtstolivliv</td>\n",
              "      <td>[[0.03247349, 0.36408243, 0.3018464, 0.031710457, 0.19805217, 0.0718351]]</td>\n",
              "    </tr>\n",
              "    <tr>\n",
              "      <th>163</th>\n",
              "      <td>soseguirai</td>\n",
              "      <td>[[0.25707453, 0.16161557, 0.47203654, 0.0012113766, 0.05069887, 0.057363104]]</td>\n",
              "    </tr>\n",
              "    <tr>\n",
              "      <th>234</th>\n",
              "      <td>weixiLL</td>\n",
              "      <td>[[0.23184773, 0.19995627, 0.54628944, 0.018764671, 0.00045537873, 0.002686498]]</td>\n",
              "    </tr>\n",
              "    <tr>\n",
              "      <th>18</th>\n",
              "      <td>puntztantz</td>\n",
              "      <td>[[0.23931453, 0.20108552, 0.1996382, 0.021557758, 0.20030782, 0.13809618]]</td>\n",
              "    </tr>\n",
              "    <tr>\n",
              "      <th>237</th>\n",
              "      <td>panteraalada</td>\n",
              "      <td>[[0.0013483523, 3.2201086e-08, 0.39859244, 0.19717394, 0.40000013, 0.002885152]]</td>\n",
              "    </tr>\n",
              "    <tr>\n",
              "      <th>201</th>\n",
              "      <td>wtfnatan</td>\n",
              "      <td>[[0.4194082, 0.18837465, 0.062727176, 0.00050113647, 0.32696974, 0.0020190892]]</td>\n",
              "    </tr>\n",
              "    <tr>\n",
              "      <th>186</th>\n",
              "      <td>EuricoAlves15</td>\n",
              "      <td>[[0.31053257, 0.06590121, 0.18918854, 0.00027877084, 0.3927751, 0.04132382]]</td>\n",
              "    </tr>\n",
              "    <tr>\n",
              "      <th>137</th>\n",
              "      <td>swiftiegguk</td>\n",
              "      <td>[[0.38390794, 0.000110627494, 0.27170387, 0.006200951, 0.333757, 0.0043195942]]</td>\n",
              "    </tr>\n",
              "    <tr>\n",
              "      <th>102</th>\n",
              "      <td>gabimarciaofc</td>\n",
              "      <td>[[0.003431802, 3.7895237e-08, 0.24667537, 2.4123072e-08, 0.7498733, 1.9511712e-05]]</td>\n",
              "    </tr>\n",
              "    <tr>\n",
              "      <th>81</th>\n",
              "      <td>KMoraez</td>\n",
              "      <td>[[0.039798476, 0.20608036, 0.0003079551, 0.0035064698, 0.62280494, 0.12750182]]</td>\n",
              "    </tr>\n",
              "    <tr>\n",
              "      <th>23</th>\n",
              "      <td>vitouseless</td>\n",
              "      <td>[[0.057319194, 0.051249802, 0.14709163, 0.13706319, 0.48444146, 0.12283475]]</td>\n",
              "    </tr>\n",
              "  </tbody>\n",
              "</table>\n",
              "</div>"
            ],
            "text/plain": [
              "              user                                                                    emotions_avg_dist\n",
              "95   mioneswiftt    [[0.2513755, 0.26347438, 0.14882807, 0.0063528474, 0.27080894, 0.05916044]]        \n",
              "52   9256cuIt       [[4.152537e-11, 9.5670256e-11, 0.33111197, 0.0022218332, 0.6666662, 1.1266529e-11]]\n",
              "31   puppynee       [[0.457385, 0.042210568, 5.7946306e-07, 3.6330016e-07, 0.5000002, 0.00040323046]]  \n",
              "249  hurtstolivliv  [[0.03247349, 0.36408243, 0.3018464, 0.031710457, 0.19805217, 0.0718351]]          \n",
              "163  soseguirai     [[0.25707453, 0.16161557, 0.47203654, 0.0012113766, 0.05069887, 0.057363104]]      \n",
              "234  weixiLL        [[0.23184773, 0.19995627, 0.54628944, 0.018764671, 0.00045537873, 0.002686498]]    \n",
              "18   puntztantz     [[0.23931453, 0.20108552, 0.1996382, 0.021557758, 0.20030782, 0.13809618]]         \n",
              "237  panteraalada   [[0.0013483523, 3.2201086e-08, 0.39859244, 0.19717394, 0.40000013, 0.002885152]]   \n",
              "201  wtfnatan       [[0.4194082, 0.18837465, 0.062727176, 0.00050113647, 0.32696974, 0.0020190892]]    \n",
              "186  EuricoAlves15  [[0.31053257, 0.06590121, 0.18918854, 0.00027877084, 0.3927751, 0.04132382]]       \n",
              "137  swiftiegguk    [[0.38390794, 0.000110627494, 0.27170387, 0.006200951, 0.333757, 0.0043195942]]    \n",
              "102  gabimarciaofc  [[0.003431802, 3.7895237e-08, 0.24667537, 2.4123072e-08, 0.7498733, 1.9511712e-05]]\n",
              "81   KMoraez        [[0.039798476, 0.20608036, 0.0003079551, 0.0035064698, 0.62280494, 0.12750182]]    \n",
              "23   vitouseless    [[0.057319194, 0.051249802, 0.14709163, 0.13706319, 0.48444146, 0.12283475]]       "
            ]
          },
          "metadata": {
            "tags": []
          },
          "execution_count": 95
        }
      ]
    },
    {
      "cell_type": "markdown",
      "metadata": {
        "id": "WrYun7X4USRE"
      },
      "source": [
        "Primeiro exemplo"
      ]
    },
    {
      "cell_type": "code",
      "metadata": {
        "id": "okq9GLBsUQ_b",
        "colab": {
          "base_uri": "https://localhost:8080/",
          "height": 224
        },
        "outputId": "d141be00-7517-4cc7-eeb3-ea9cd5fb0c3d"
      },
      "source": [
        "usuario_teste = 'litarib'\n",
        "dataset.loc[usuario_teste][['texto', 'depressao','previsoes']]"
      ],
      "execution_count": null,
      "outputs": [
        {
          "output_type": "execute_result",
          "data": {
            "text/html": [
              "<div>\n",
              "<style scoped>\n",
              "    .dataframe tbody tr th:only-of-type {\n",
              "        vertical-align: middle;\n",
              "    }\n",
              "\n",
              "    .dataframe tbody tr th {\n",
              "        vertical-align: top;\n",
              "    }\n",
              "\n",
              "    .dataframe thead th {\n",
              "        text-align: right;\n",
              "    }\n",
              "</style>\n",
              "<table border=\"1\" class=\"dataframe\">\n",
              "  <thead>\n",
              "    <tr style=\"text-align: right;\">\n",
              "      <th></th>\n",
              "      <th>texto</th>\n",
              "      <th>depressao</th>\n",
              "      <th>previsoes</th>\n",
              "    </tr>\n",
              "    <tr>\n",
              "      <th>usuario</th>\n",
              "      <th></th>\n",
              "      <th></th>\n",
              "      <th></th>\n",
              "    </tr>\n",
              "  </thead>\n",
              "  <tbody>\n",
              "    <tr>\n",
              "      <th>litarib</th>\n",
              "      <td>isso que é foda 😂 https://t.co/CSPMWcHi3A</td>\n",
              "      <td>0</td>\n",
              "      <td>[0.0004836629, 8.9673773e-07, 0.89740914, 0.09986274, 8.33803e-07, 0.0022427856]</td>\n",
              "    </tr>\n",
              "    <tr>\n",
              "      <th>litarib</th>\n",
              "      <td>que ódio que meu açaí veio errado uma hr esperando agr to chorando horrores pq já paguei um absurdo</td>\n",
              "      <td>0</td>\n",
              "      <td>[0.20008317, 7.810232e-16, 0.79991686, 3.4410467e-21, 6.0032936e-16, 1.7341485e-18]</td>\n",
              "    </tr>\n",
              "    <tr>\n",
              "      <th>litarib</th>\n",
              "      <td>eu nunca vou ser ela...</td>\n",
              "      <td>0</td>\n",
              "      <td>[0.0008390594, 0.0012788462, 0.011536738, 6.30889e-06, 0.9863085, 3.0554053e-05]</td>\n",
              "    </tr>\n",
              "  </tbody>\n",
              "</table>\n",
              "</div>"
            ],
            "text/plain": [
              "                                                                                                       texto  ...                                                                            previsoes\n",
              "usuario                                                                                                       ...                                                                                     \n",
              "litarib  isso que é foda 😂 https://t.co/CSPMWcHi3A                                                            ...  [0.0004836629, 8.9673773e-07, 0.89740914, 0.09986274, 8.33803e-07, 0.0022427856]   \n",
              "litarib  que ódio que meu açaí veio errado uma hr esperando agr to chorando horrores pq já paguei um absurdo  ...  [0.20008317, 7.810232e-16, 0.79991686, 3.4410467e-21, 6.0032936e-16, 1.7341485e-18]\n",
              "litarib  eu nunca vou ser ela...                                                                              ...  [0.0008390594, 0.0012788462, 0.011536738, 6.30889e-06, 0.9863085, 3.0554053e-05]   \n",
              "\n",
              "[3 rows x 3 columns]"
            ]
          },
          "metadata": {
            "tags": []
          },
          "execution_count": 96
        }
      ]
    },
    {
      "cell_type": "code",
      "metadata": {
        "id": "mxiUUFEeUXCF",
        "colab": {
          "base_uri": "https://localhost:8080/"
        },
        "outputId": "02f463a4-8d55-4645-f8ee-428719d03a43"
      },
      "source": [
        "dataset.loc[usuario_teste]['previsoes'].apply(lambda x: sdoom[np.argmax(np.array(x))])"
      ],
      "execution_count": null,
      "outputs": [
        {
          "output_type": "execute_result",
          "data": {
            "text/plain": [
              "usuario\n",
              "litarib    Joy    \n",
              "litarib    Joy    \n",
              "litarib    Sadness\n",
              "Name: previsoes, dtype: object"
            ]
          },
          "metadata": {
            "tags": []
          },
          "execution_count": 97
        }
      ]
    },
    {
      "cell_type": "code",
      "metadata": {
        "id": "bK-mZC8C_rfE"
      },
      "source": [
        "plt.figure(figsize=(10, 6))\n",
        "jairo = X_test_df.set_index('user').loc[usuario_teste][0]\n",
        "jairo = jairo.reshape(-1)\n",
        "plt.bar(emotions, jairo, color=['lightcoral', 'khaki', 'bisque', 'lightsteelblue', 'lightgreen', 'thistle'])\n",
        "plt.show()"
      ],
      "execution_count": null,
      "outputs": []
    },
    {
      "cell_type": "code",
      "metadata": {
        "id": "q6GbNmVbUak4"
      },
      "source": [
        "jairo = X_test_df.set_index('user').loc[usuario_teste][0]\n",
        "jairo = jairo.reshape(-1)\n",
        "sns.barplot(y=jairo,x=emotions)"
      ],
      "execution_count": null,
      "outputs": []
    },
    {
      "cell_type": "markdown",
      "metadata": {
        "id": "XbjXV7n5RJTX"
      },
      "source": [
        "##True Positive"
      ]
    },
    {
      "cell_type": "code",
      "metadata": {
        "id": "PrWKrg_h3odW"
      },
      "source": [
        "Ytrue1 = Y_test.detach().numpy() == 1\n",
        "Ypred1 = Y_pred.detach().numpy().round() == 1"
      ],
      "execution_count": null,
      "outputs": []
    },
    {
      "cell_type": "code",
      "metadata": {
        "id": "6cjBmizA6I8V"
      },
      "source": [
        "X_test_df[Ytrue1.reshape(-1) & Ypred1.reshape(-1)]  #Onde era verdadeiro e foi previsto verdadeiro  (True positive)"
      ],
      "execution_count": null,
      "outputs": []
    },
    {
      "cell_type": "code",
      "metadata": {
        "id": "DYqJJTJR6h5p"
      },
      "source": [
        "usuario_teste = 'ggukpersona'"
      ],
      "execution_count": null,
      "outputs": []
    },
    {
      "cell_type": "code",
      "metadata": {
        "id": "iofllRO86T-M"
      },
      "source": [
        "dataset.loc[usuario_teste][['texto', 'depressao','previsoes']]"
      ],
      "execution_count": null,
      "outputs": []
    },
    {
      "cell_type": "code",
      "metadata": {
        "id": "wnXu57d_6af6"
      },
      "source": [
        "dataset.loc[usuario_teste]['previsoes'].apply(lambda x: sdoom[np.argmax(np.array(x))])"
      ],
      "execution_count": null,
      "outputs": []
    },
    {
      "cell_type": "code",
      "metadata": {
        "id": "giNigeXg_y5k"
      },
      "source": [
        "plt.figure(figsize=(10, 6))\n",
        "jairo = X_test_df.set_index('user').loc[usuario_teste][0]\n",
        "jairo = jairo.reshape(-1)\n",
        "plt.bar(emotions, jairo, color=['lightcoral', 'khaki', 'bisque', 'lightsteelblue', 'lightgreen', 'thistle'])\n",
        "plt.show()"
      ],
      "execution_count": null,
      "outputs": []
    },
    {
      "cell_type": "code",
      "metadata": {
        "id": "ZbHnCvzY6d7D"
      },
      "source": [
        "jairo = X_test_df.set_index('user').loc[usuario_teste][0]\n",
        "jairo = jairo.reshape(-1)\n",
        "sns.barplot(y=jairo,x=emotions)"
      ],
      "execution_count": null,
      "outputs": []
    },
    {
      "cell_type": "markdown",
      "metadata": {
        "id": "bHVXu3rlXQg4"
      },
      "source": [
        "Segundo exemplo"
      ]
    },
    {
      "cell_type": "code",
      "metadata": {
        "id": "loA2wjWn6re4"
      },
      "source": [
        "usuario_teste = 'barbaraton'"
      ],
      "execution_count": null,
      "outputs": []
    },
    {
      "cell_type": "code",
      "metadata": {
        "id": "TwMo6v7dXcmv"
      },
      "source": [
        "dataset.loc[usuario_teste][['texto', 'depressao','previsoes']]"
      ],
      "execution_count": null,
      "outputs": []
    },
    {
      "cell_type": "code",
      "metadata": {
        "id": "8cCh4BgRXgHk"
      },
      "source": [
        "dataset.loc[usuario_teste]['previsoes'].apply(lambda x: sdoom[np.argmax(np.array(x))])"
      ],
      "execution_count": null,
      "outputs": []
    },
    {
      "cell_type": "code",
      "metadata": {
        "id": "YVBTVgZ__1E2"
      },
      "source": [
        "plt.figure(figsize=(10, 6))\n",
        "jairo = X_test_df.set_index('user').loc[usuario_teste][0]\n",
        "jairo = jairo.reshape(-1)\n",
        "plt.bar(emotions, jairo, color=['lightcoral', 'khaki', 'bisque', 'lightsteelblue', 'lightgreen', 'thistle'])\n",
        "plt.show()"
      ],
      "execution_count": null,
      "outputs": []
    },
    {
      "cell_type": "code",
      "metadata": {
        "id": "pgYmQcF_Xk6k"
      },
      "source": [
        "jairo = X_test_df.set_index('user').loc[usuario_teste][0]\n",
        "jairo = jairo.reshape(-1)\n",
        "sns.barplot(y=jairo,x=emotions)"
      ],
      "execution_count": null,
      "outputs": []
    },
    {
      "cell_type": "code",
      "metadata": {
        "id": "GUu5uITnXsZ7"
      },
      "source": [
        ""
      ],
      "execution_count": null,
      "outputs": []
    }
  ]
}