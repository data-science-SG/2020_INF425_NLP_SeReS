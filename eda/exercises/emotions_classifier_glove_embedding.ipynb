{
 "metadata": {
  "language_info": {
   "codemirror_mode": {
    "name": "ipython",
    "version": 3
   },
   "file_extension": ".py",
   "mimetype": "text/x-python",
   "name": "python",
   "nbconvert_exporter": "python",
   "pygments_lexer": "ipython3",
   "version": "3.7.9-final"
  },
  "orig_nbformat": 2,
  "kernelspec": {
   "name": "python379jvsc74a57bd087208729ed90ceac3456c3150dcf8f8574a040aaeff28d3df5566e1287b044ae",
   "display_name": "Python 3.7.9 64-bit ('machinelearning': conda)"
  }
 },
 "nbformat": 4,
 "nbformat_minor": 2,
 "cells": [
  {
   "cell_type": "code",
   "execution_count": 1,
   "metadata": {},
   "outputs": [],
   "source": [
    "# Import packages\n",
    "import os\n",
    "\n",
    "import pandas as pd\n",
    "import numpy as np\n",
    "\n",
    "import matplotlib.pyplot as plt\n",
    "import seaborn as sns\n",
    "\n",
    "import re\n",
    "import string\n",
    "\n",
    "import nltk\n",
    "from nltk.corpus import stopwords \n",
    "# from nltk.stem import PorterStemmer\n",
    "from nltk.tokenize import TweetTokenizer\n",
    "\n",
    "from gensim.models import KeyedVectors\n",
    "from gensim.test.utils import datapath, get_tmpfile\n",
    "from gensim.scripts.glove2word2vec import glove2word2vec\n",
    "\n",
    "import torch\n",
    "from torch import nn\n",
    "\n",
    "from sklearn.model_selection import train_test_split\n",
    "from sklearn.metrics import confusion_matrix, ConfusionMatrixDisplay\n"
   ]
  },
  {
   "cell_type": "code",
   "execution_count": 2,
   "metadata": {},
   "outputs": [
    {
     "output_type": "stream",
     "name": "stderr",
     "text": [
      "[nltk_data] Downloading package punkt to\n[nltk_data]     C:\\Users\\fonta\\AppData\\Roaming\\nltk_data...\n[nltk_data]   Package punkt is already up-to-date!\n[nltk_data] Downloading package stopwords to\n[nltk_data]     C:\\Users\\fonta\\AppData\\Roaming\\nltk_data...\n[nltk_data]   Package stopwords is already up-to-date!\n"
     ]
    }
   ],
   "source": [
    "# Setup some variables\n",
    "tknzr = TweetTokenizer()\n",
    "# stemmer = PorterStemmer()\n",
    "nltk.download('punkt')\n",
    "nltk.download('stopwords')\n",
    "stopwords = nltk.corpus.stopwords.words(\"english\")"
   ]
  },
  {
   "source": [
    "----------------------------------------------------------------------"
   ],
   "cell_type": "markdown",
   "metadata": {}
  },
  {
   "source": [
    "## Declaring some functions"
   ],
   "cell_type": "markdown",
   "metadata": {}
  },
  {
   "cell_type": "code",
   "execution_count": 3,
   "metadata": {},
   "outputs": [],
   "source": [
    "# função de limpar texto\n",
    "def cleanText(words, stem=False):\n",
    "  \"\"\"\n",
    "    Esta função recebe um text e retorna o mesmo, já tratado com stopwords & punctuation\n",
    "  \"\"\"\n",
    "  newWords = list()\n",
    "  for word in words:\n",
    "    word = re.sub('http[s]?://(?:[a-zA-Z]|[0-9]|[$-_@.&+#]|[!*\\(\\),]|'\\\n",
    "                       '(?:%[0-9a-fA-F][0-9a-fA-F]))+','', word)\n",
    "    word = re.sub(\"(@[A-Za-z0-9_]+)\",\"\", word)\n",
    "    word = word.lower()\n",
    "    if len(word) > 0 and word not in string.punctuation and word not in stopwords and word != \"<br />\":\n",
    "      if stem:\n",
    "        word = stemmer.stem(word)\n",
    "        newWords.append(word)\n",
    "      else:\n",
    "        newWords.append(word)\n",
    "  return newWords"
   ]
  },
  {
   "cell_type": "code",
   "execution_count": 4,
   "metadata": {},
   "outputs": [],
   "source": [
    "# confusion matrix daora\n",
    "def plot_conf_mat(y_test, y_preds, norm=\"false\"):\n",
    "    fig, ax = plt.subplots(figsize=(3, 3))\n",
    "    ax = sns.heatmap(confusion_matrix(y_test, y_preds, normalize=norm),\n",
    "                    annot=True,\n",
    "                    cbar=False)\n",
    "    plt.xlabel(\"True label\")\n",
    "    plt.ylabel(\"Predicted label\")"
   ]
  },
  {
   "cell_type": "code",
   "execution_count": 5,
   "metadata": {},
   "outputs": [],
   "source": [
    "def plot_loss_and_accuracy(losses, accs):\n",
    "\n",
    "  fig, ax_tuple = plt.subplots(1, 2, figsize=(16,6))\n",
    "  fig.suptitle('Loss and accuracy')\n",
    "\n",
    "  for i, (y_label, y_values) in enumerate(zip(['BCE loss','Accuracy'],[losses, accs])):\n",
    "    ax_tuple[i].plot(range(len(y_values)),  y_values, label='train')\n",
    "    ax_tuple[i].set_xlabel('epochs')\n",
    "    ax_tuple[i].set_ylabel(y_label)\n",
    "    ax_tuple[i].legend()"
   ]
  },
  {
   "cell_type": "code",
   "execution_count": 46,
   "metadata": {},
   "outputs": [],
   "source": [
    "def label2Embedding(word):\n",
    "  ''' Recebe uma string (word) e devolve o embedding vector correspondente (se existir).\n",
    "  '''\n",
    "  if word in modelo.vocab:\n",
    "    embed = modelo.get_vector(word)\n",
    "    if embed is not None:\n",
    "      return embed"
   ]
  },
  {
   "source": [
    "-------------------------------------------------------------------------------"
   ],
   "cell_type": "markdown",
   "metadata": {}
  },
  {
   "source": [
    "### Importando o arquivo do GloVE de 50 dimensões e criando a variável *modelo* que será por onde iremos interagir com o *word embedding* já treinado"
   ],
   "cell_type": "markdown",
   "metadata": {}
  },
  {
   "cell_type": "code",
   "execution_count": 7,
   "metadata": {},
   "outputs": [
    {
     "output_type": "execute_result",
     "data": {
      "text/plain": [
       "'d:\\\\Dropbox\\\\GitHub\\\\2020_INF425_NLP_SeReS\\\\eda\\\\exercises'"
      ]
     },
     "metadata": {},
     "execution_count": 7
    }
   ],
   "source": [
    "cwd = os.getcwd()\n",
    "cwd"
   ]
  },
  {
   "cell_type": "code",
   "execution_count": 47,
   "metadata": {},
   "outputs": [],
   "source": [
    "num_dims = 50\n",
    "\n",
    "glove_file = datapath(cwd+'/../data/glove.6B.50d.txt')\n",
    "tmp_file   = get_tmpfile(cwd+\"/../data/glove.6B.50d_word2vec.txt\")\n",
    "_          = glove2word2vec(glove_file, tmp_file)\n",
    "\n",
    "filename_txt = cwd+\"/../data/glove.6B.50d_word2vec.txt\"\n",
    "modelo = KeyedVectors.load_word2vec_format(filename_txt)"
   ]
  },
  {
   "source": [
    "### Lendo o dataset"
   ],
   "cell_type": "markdown",
   "metadata": {}
  },
  {
   "cell_type": "code",
   "execution_count": 14,
   "metadata": {},
   "outputs": [
    {
     "output_type": "execute_result",
     "data": {
      "text/plain": [
       "   Sl no                                             Tweets     Search key  \\\n",
       "0      1   #1: @fe ed \"RT @MirayaDizon1: Time is ticking...  happy moments   \n",
       "1      2   #2: @蓮花 &はすか ed \"RT @ninjaryugo: ＃コナモンの日 だそうで...  happy moments   \n",
       "2      3   #3: @Ris ♡ ed \"Happy birthday to one smokin h...  happy moments   \n",
       "3      4   #4: @월월 [씍쯴사랑로봇] jwinnie is the best, cheer u...  happy moments   \n",
       "4      5   #5: @Madhurima wth u vc♥ ed \"Good morning dea...  happy moments   \n",
       "\n",
       "  Feeling  \n",
       "0   happy  \n",
       "1   happy  \n",
       "2   happy  \n",
       "3   happy  \n",
       "4   happy  "
      ],
      "text/html": "<div>\n<style scoped>\n    .dataframe tbody tr th:only-of-type {\n        vertical-align: middle;\n    }\n\n    .dataframe tbody tr th {\n        vertical-align: top;\n    }\n\n    .dataframe thead th {\n        text-align: right;\n    }\n</style>\n<table border=\"1\" class=\"dataframe\">\n  <thead>\n    <tr style=\"text-align: right;\">\n      <th></th>\n      <th>Sl no</th>\n      <th>Tweets</th>\n      <th>Search key</th>\n      <th>Feeling</th>\n    </tr>\n  </thead>\n  <tbody>\n    <tr>\n      <th>0</th>\n      <td>1</td>\n      <td>#1: @fe ed \"RT @MirayaDizon1: Time is ticking...</td>\n      <td>happy moments</td>\n      <td>happy</td>\n    </tr>\n    <tr>\n      <th>1</th>\n      <td>2</td>\n      <td>#2: @蓮花 &amp;はすか ed \"RT @ninjaryugo: ＃コナモンの日 だそうで...</td>\n      <td>happy moments</td>\n      <td>happy</td>\n    </tr>\n    <tr>\n      <th>2</th>\n      <td>3</td>\n      <td>#3: @Ris ♡ ed \"Happy birthday to one smokin h...</td>\n      <td>happy moments</td>\n      <td>happy</td>\n    </tr>\n    <tr>\n      <th>3</th>\n      <td>4</td>\n      <td>#4: @월월 [씍쯴사랑로봇] jwinnie is the best, cheer u...</td>\n      <td>happy moments</td>\n      <td>happy</td>\n    </tr>\n    <tr>\n      <th>4</th>\n      <td>5</td>\n      <td>#5: @Madhurima wth u vc♥ ed \"Good morning dea...</td>\n      <td>happy moments</td>\n      <td>happy</td>\n    </tr>\n  </tbody>\n</table>\n</div>"
     },
     "metadata": {},
     "execution_count": 14
    }
   ],
   "source": [
    "df = pd.read_csv(\"../data/data.csv\", encoding = \"utf-8\")\n",
    "df.head()"
   ]
  },
  {
   "source": [
    "### Copiando o dataset e fazendo transformações necessárias"
   ],
   "cell_type": "markdown",
   "metadata": {}
  },
  {
   "cell_type": "code",
   "execution_count": 22,
   "metadata": {},
   "outputs": [
    {
     "output_type": "execute_result",
     "data": {
      "text/plain": [
       "                                              Tweets Feeling\n",
       "0   #1: @fe ed \"RT @MirayaDizon1: Time is ticking...   happy\n",
       "1   #2: @蓮花 &はすか ed \"RT @ninjaryugo: ＃コナモンの日 だそうで...   happy\n",
       "2   #3: @Ris ♡ ed \"Happy birthday to one smokin h...   happy\n",
       "3   #4: @월월 [씍쯴사랑로봇] jwinnie is the best, cheer u...   happy\n",
       "4   #5: @Madhurima wth u vc♥ ed \"Good morning dea...   happy"
      ],
      "text/html": "<div>\n<style scoped>\n    .dataframe tbody tr th:only-of-type {\n        vertical-align: middle;\n    }\n\n    .dataframe tbody tr th {\n        vertical-align: top;\n    }\n\n    .dataframe thead th {\n        text-align: right;\n    }\n</style>\n<table border=\"1\" class=\"dataframe\">\n  <thead>\n    <tr style=\"text-align: right;\">\n      <th></th>\n      <th>Tweets</th>\n      <th>Feeling</th>\n    </tr>\n  </thead>\n  <tbody>\n    <tr>\n      <th>0</th>\n      <td>#1: @fe ed \"RT @MirayaDizon1: Time is ticking...</td>\n      <td>happy</td>\n    </tr>\n    <tr>\n      <th>1</th>\n      <td>#2: @蓮花 &amp;はすか ed \"RT @ninjaryugo: ＃コナモンの日 だそうで...</td>\n      <td>happy</td>\n    </tr>\n    <tr>\n      <th>2</th>\n      <td>#3: @Ris ♡ ed \"Happy birthday to one smokin h...</td>\n      <td>happy</td>\n    </tr>\n    <tr>\n      <th>3</th>\n      <td>#4: @월월 [씍쯴사랑로봇] jwinnie is the best, cheer u...</td>\n      <td>happy</td>\n    </tr>\n    <tr>\n      <th>4</th>\n      <td>#5: @Madhurima wth u vc♥ ed \"Good morning dea...</td>\n      <td>happy</td>\n    </tr>\n  </tbody>\n</table>\n</div>"
     },
     "metadata": {},
     "execution_count": 22
    }
   ],
   "source": [
    "dataset = df.copy()\n",
    "\n",
    "dataset = dataset.drop(columns=[\"Sl no\", \"Search key\"])\n",
    "dataset.head()"
   ]
  },
  {
   "cell_type": "code",
   "execution_count": 23,
   "metadata": {},
   "outputs": [
    {
     "output_type": "execute_result",
     "data": {
      "text/plain": [
       "happy       39.213337\n",
       "sad         28.441649\n",
       "angry       13.387242\n",
       "fear         8.615354\n",
       "disgust      6.359189\n",
       "surprise     3.983229\n",
       "Name: Feeling, dtype: float64"
      ]
     },
     "metadata": {},
     "execution_count": 23
    }
   ],
   "source": [
    "dataset['Feeling'].value_counts(normalize=True)*100"
   ]
  },
  {
   "cell_type": "code",
   "execution_count": 24,
   "metadata": {},
   "outputs": [],
   "source": [
    "# CONCATENAR COM O OUTRO DATASET"
   ]
  },
  {
   "source": [
    "### Criando uma categoria com o *pd.Categorical* para cada emoção na tabela de emoções, dessa forma, teremos algo do tipo: happy - 1 | angry - 2 | sad = 3\n",
    "\n",
    "Aplicando essas categorias na coluna *emotion_code*"
   ],
   "cell_type": "markdown",
   "metadata": {}
  },
  {
   "cell_type": "code",
   "execution_count": 25,
   "metadata": {},
   "outputs": [
    {
     "output_type": "stream",
     "name": "stdout",
     "text": [
      "<class 'pandas.core.frame.DataFrame'>\nRangeIndex: 10017 entries, 0 to 10016\nData columns (total 2 columns):\n #   Column   Non-Null Count  Dtype \n---  ------   --------------  ----- \n 0   Tweets   10017 non-null  object\n 1   Feeling  10017 non-null  object\ndtypes: object(2)\nmemory usage: 156.6+ KB\n"
     ]
    }
   ],
   "source": [
    "dataset.info()"
   ]
  },
  {
   "cell_type": "code",
   "execution_count": 26,
   "metadata": {},
   "outputs": [
    {
     "output_type": "execute_result",
     "data": {
      "text/plain": [
       "                                              Tweets Feeling  emotion_code\n",
       "0   #1: @fe ed \"RT @MirayaDizon1: Time is ticking...   happy             3\n",
       "1   #2: @蓮花 &はすか ed \"RT @ninjaryugo: ＃コナモンの日 だそうで...   happy             3\n",
       "2   #3: @Ris ♡ ed \"Happy birthday to one smokin h...   happy             3\n",
       "3   #4: @월월 [씍쯴사랑로봇] jwinnie is the best, cheer u...   happy             3\n",
       "4   #5: @Madhurima wth u vc♥ ed \"Good morning dea...   happy             3"
      ],
      "text/html": "<div>\n<style scoped>\n    .dataframe tbody tr th:only-of-type {\n        vertical-align: middle;\n    }\n\n    .dataframe tbody tr th {\n        vertical-align: top;\n    }\n\n    .dataframe thead th {\n        text-align: right;\n    }\n</style>\n<table border=\"1\" class=\"dataframe\">\n  <thead>\n    <tr style=\"text-align: right;\">\n      <th></th>\n      <th>Tweets</th>\n      <th>Feeling</th>\n      <th>emotion_code</th>\n    </tr>\n  </thead>\n  <tbody>\n    <tr>\n      <th>0</th>\n      <td>#1: @fe ed \"RT @MirayaDizon1: Time is ticking...</td>\n      <td>happy</td>\n      <td>3</td>\n    </tr>\n    <tr>\n      <th>1</th>\n      <td>#2: @蓮花 &amp;はすか ed \"RT @ninjaryugo: ＃コナモンの日 だそうで...</td>\n      <td>happy</td>\n      <td>3</td>\n    </tr>\n    <tr>\n      <th>2</th>\n      <td>#3: @Ris ♡ ed \"Happy birthday to one smokin h...</td>\n      <td>happy</td>\n      <td>3</td>\n    </tr>\n    <tr>\n      <th>3</th>\n      <td>#4: @월월 [씍쯴사랑로봇] jwinnie is the best, cheer u...</td>\n      <td>happy</td>\n      <td>3</td>\n    </tr>\n    <tr>\n      <th>4</th>\n      <td>#5: @Madhurima wth u vc♥ ed \"Good morning dea...</td>\n      <td>happy</td>\n      <td>3</td>\n    </tr>\n  </tbody>\n</table>\n</div>"
     },
     "metadata": {},
     "execution_count": 26
    }
   ],
   "source": [
    "dataset['Feeling'] = pd.Categorical(dataset['Feeling'])\n",
    "dataset['emotion_code'] = dataset['Feeling'].cat.codes\n",
    "dataset.head()"
   ]
  },
  {
   "cell_type": "code",
   "execution_count": 27,
   "metadata": {},
   "outputs": [
    {
     "output_type": "stream",
     "name": "stdout",
     "text": [
      "<class 'pandas.core.frame.DataFrame'>\nRangeIndex: 10017 entries, 0 to 10016\nData columns (total 3 columns):\n #   Column        Non-Null Count  Dtype   \n---  ------        --------------  -----   \n 0   Tweets        10017 non-null  object  \n 1   Feeling       10017 non-null  category\n 2   emotion_code  10017 non-null  int8    \ndtypes: category(1), int8(1), object(1)\nmemory usage: 98.2+ KB\n"
     ]
    }
   ],
   "source": [
    "dataset.info()"
   ]
  },
  {
   "cell_type": "code",
   "execution_count": 34,
   "metadata": {},
   "outputs": [
    {
     "output_type": "execute_result",
     "data": {
      "text/plain": [
       "Feeling   emotion_code\n",
       "angry     0               1341\n",
       "disgust   1                637\n",
       "fear      2                863\n",
       "happy     3               3928\n",
       "sad       4               2849\n",
       "surprise  5                399\n",
       "dtype: int64"
      ]
     },
     "metadata": {},
     "execution_count": 34
    }
   ],
   "source": [
    "dataset[['Feeling','emotion_code']].value_counts().sort_index()\n"
   ]
  },
  {
   "cell_type": "code",
   "execution_count": 37,
   "metadata": {},
   "outputs": [
    {
     "output_type": "execute_result",
     "data": {
      "text/plain": [
       "str"
      ]
     },
     "metadata": {},
     "execution_count": 37
    }
   ],
   "source": [
    "type(dataset['Tweets'][0])"
   ]
  },
  {
   "source": [
    "### Tokenizando os tweets com o *tknzr.tokenize*, e logo após, limpando os tokens com a função *cleanText*"
   ],
   "cell_type": "markdown",
   "metadata": {}
  },
  {
   "cell_type": "code",
   "execution_count": 38,
   "metadata": {},
   "outputs": [
    {
     "output_type": "execute_result",
     "data": {
      "text/plain": [
       "                                              Tweets Feeling  emotion_code  \\\n",
       "0   #1: @fe ed \"RT @MirayaDizon1: Time is ticking...   happy             3   \n",
       "1   #2: @蓮花 &はすか ed \"RT @ninjaryugo: ＃コナモンの日 だそうで...   happy             3   \n",
       "2   #3: @Ris ♡ ed \"Happy birthday to one smokin h...   happy             3   \n",
       "3   #4: @월월 [씍쯴사랑로봇] jwinnie is the best, cheer u...   happy             3   \n",
       "4   #5: @Madhurima wth u vc♥ ed \"Good morning dea...   happy             3   \n",
       "\n",
       "                                           CleanText  \n",
       "0  [1, ed, rt, time, ticking, fast, relive, past,...  \n",
       "1  [2, @蓮花, はすか, ed, rt, ＃, コナモンの日, だそうで, 、, コナモン...  \n",
       "2  [3, ♡, ed, happy, birthday, one, smokin, hot, ...  \n",
       "3  [4, @월월, 씍쯴사랑로봇, jwinnie, best, cheer, jwinnie...  \n",
       "4  [5, wth, u, vc, ♥, ed, good, morning, dear, ❤,...  "
      ],
      "text/html": "<div>\n<style scoped>\n    .dataframe tbody tr th:only-of-type {\n        vertical-align: middle;\n    }\n\n    .dataframe tbody tr th {\n        vertical-align: top;\n    }\n\n    .dataframe thead th {\n        text-align: right;\n    }\n</style>\n<table border=\"1\" class=\"dataframe\">\n  <thead>\n    <tr style=\"text-align: right;\">\n      <th></th>\n      <th>Tweets</th>\n      <th>Feeling</th>\n      <th>emotion_code</th>\n      <th>CleanText</th>\n    </tr>\n  </thead>\n  <tbody>\n    <tr>\n      <th>0</th>\n      <td>#1: @fe ed \"RT @MirayaDizon1: Time is ticking...</td>\n      <td>happy</td>\n      <td>3</td>\n      <td>[1, ed, rt, time, ticking, fast, relive, past,...</td>\n    </tr>\n    <tr>\n      <th>1</th>\n      <td>#2: @蓮花 &amp;はすか ed \"RT @ninjaryugo: ＃コナモンの日 だそうで...</td>\n      <td>happy</td>\n      <td>3</td>\n      <td>[2, @蓮花, はすか, ed, rt, ＃, コナモンの日, だそうで, 、, コナモン...</td>\n    </tr>\n    <tr>\n      <th>2</th>\n      <td>#3: @Ris ♡ ed \"Happy birthday to one smokin h...</td>\n      <td>happy</td>\n      <td>3</td>\n      <td>[3, ♡, ed, happy, birthday, one, smokin, hot, ...</td>\n    </tr>\n    <tr>\n      <th>3</th>\n      <td>#4: @월월 [씍쯴사랑로봇] jwinnie is the best, cheer u...</td>\n      <td>happy</td>\n      <td>3</td>\n      <td>[4, @월월, 씍쯴사랑로봇, jwinnie, best, cheer, jwinnie...</td>\n    </tr>\n    <tr>\n      <th>4</th>\n      <td>#5: @Madhurima wth u vc♥ ed \"Good morning dea...</td>\n      <td>happy</td>\n      <td>3</td>\n      <td>[5, wth, u, vc, ♥, ed, good, morning, dear, ❤,...</td>\n    </tr>\n  </tbody>\n</table>\n</div>"
     },
     "metadata": {},
     "execution_count": 38
    }
   ],
   "source": [
    "dataset[\"CleanText\"] = [tknzr.tokenize(sentence) for sentence in dataset[\"Tweets\"]]\n",
    "dataset[\"CleanText\"] = [cleanText(sentence) for sentence in dataset[\"CleanText\"]]\n",
    "dataset.head()"
   ]
  },
  {
   "cell_type": "code",
   "execution_count": 45,
   "metadata": {},
   "outputs": [],
   "source": [
    "# dataset['CleanText'][50]"
   ]
  },
  {
   "source": [
    "### Conversão dos textos em uma sequência de índices (correspondente ao token do texto)\n",
    "\n",
    "Limitar o tamanho máximo de um texto com ***max_len*** (truncar mensagem) e completar com <PAD> todos os textos que não cumprirem esse tamanho, para então termos variáveis do mesmo tamanho"
   ],
   "cell_type": "markdown",
   "metadata": {}
  },
  {
   "cell_type": "code",
   "execution_count": 57,
   "metadata": {
    "tags": []
   },
   "outputs": [],
   "source": [
    "max_len = 150        # comprimento máximo da mensagem (em número de palavras)\n",
    "encoded_docs = []    # inicializa a lista de documentos codificados\n",
    "\n",
    "for sentence in dataset['CleanText']: # para cada token\n",
    "  encoded_d = [label2Embedding(t) for t in sentence]\n",
    "  encoded_d = [vec.tolist() for vec in encoded_d if vec is not None]\n",
    "\n",
    "  # adiciona o padding, se necessário\n",
    "  padding_word_vecs = [np.zeros(num_dims).tolist()]*max(0, max_len-len(encoded_d)) \n",
    "  encoded_d = padding_word_vecs + encoded_d\n",
    "  \n",
    "  # trunca o documento e salva na lista de documentos codificados\n",
    "  encoded_docs.append(encoded_d[:max_len]) \n",
    "\n",
    "\n",
    "encoded_docs_arrays = [np.vstack(sentence) for sentence in encoded_docs]"
   ]
  },
  {
   "cell_type": "code",
   "execution_count": 77,
   "metadata": {},
   "outputs": [
    {
     "output_type": "execute_result",
     "data": {
      "text/plain": [
       "(list, numpy.ndarray, (150, 50))"
      ]
     },
     "metadata": {},
     "execution_count": 77
    }
   ],
   "source": [
    "type(encoded_docs_arrays), type(encoded_docs_arrays[0]), encoded_docs_arrays[0].shape"
   ]
  },
  {
   "source": [
    "### Agora os textos são os documentos codificados"
   ],
   "cell_type": "markdown",
   "metadata": {}
  },
  {
   "cell_type": "code",
   "execution_count": 82,
   "metadata": {},
   "outputs": [
    {
     "output_type": "execute_result",
     "data": {
      "text/plain": [
       "10012    [[0.0, 0.0, 0.0, 0.0, 0.0, 0.0, 0.0, 0.0, 0.0,...\n",
       "10013    [[0.0, 0.0, 0.0, 0.0, 0.0, 0.0, 0.0, 0.0, 0.0,...\n",
       "10014    [[0.0, 0.0, 0.0, 0.0, 0.0, 0.0, 0.0, 0.0, 0.0,...\n",
       "10015    [[0.0, 0.0, 0.0, 0.0, 0.0, 0.0, 0.0, 0.0, 0.0,...\n",
       "10016    [[0.0, 0.0, 0.0, 0.0, 0.0, 0.0, 0.0, 0.0, 0.0,...\n",
       "Name: X, dtype: object"
      ]
     },
     "metadata": {},
     "execution_count": 82
    }
   ],
   "source": [
    "dataset['X'] = pd.Series(encoded_docs_arrays)\n",
    "dataset['X'].tail() #.iloc[-1].shape"
   ]
  },
  {
   "source": [
    "### Verificando um exemplo de uma frase codificada"
   ],
   "cell_type": "markdown",
   "metadata": {}
  },
  {
   "cell_type": "code",
   "execution_count": 83,
   "metadata": {},
   "outputs": [
    {
     "output_type": "execute_result",
     "data": {
      "text/plain": [
       "((150, 50), dtype('float64'))"
      ]
     },
     "metadata": {},
     "execution_count": 83
    }
   ],
   "source": [
    "dataset['X'][0].shape, dataset['X'][0].dtype"
   ]
  },
  {
   "cell_type": "code",
   "execution_count": 84,
   "metadata": {
    "tags": []
   },
   "outputs": [
    {
     "output_type": "stream",
     "name": "stdout",
     "text": [
      " Mensagem codificada [[ 0.          0.          0.         ...  0.          0.\n   0.        ]\n [ 0.          0.          0.         ...  0.          0.\n   0.        ]\n [ 0.          0.          0.         ...  0.          0.\n   0.        ]\n ...\n [ 0.359       0.72350001  0.15195    ... -0.53805    -1.07599998\n   0.24003001]\n [ 0.067025   -0.010427    0.61778003 ... -0.42741001 -0.19243\n   0.42443001]\n [-0.29115999  1.17639995 -0.20423999 ... -0.58471     0.64288998\n   0.15782   ]] \n Comprimento: 150 Dimensões: 50\n"
     ]
    }
   ],
   "source": [
    "msg_codificada_ex = dataset['X'].iloc[7]\n",
    "print(f' Mensagem codificada {msg_codificada_ex} \\n Comprimento: {msg_codificada_ex.shape[0]} Dimensões: {msg_codificada_ex.shape[1]}')"
   ]
  },
  {
   "source": [
    "### Agora, usaremos apenas as mensagens codificadas (vetores de variáveis categóricas, coluna do DataFrame 'X') e as saídas rotuladas em  das emoções  (coluna 'y' do DataFrame). Também vamos converter os objetos para arrays do numpy."
   ],
   "cell_type": "markdown",
   "metadata": {}
  },
  {
   "cell_type": "code",
   "execution_count": 101,
   "metadata": {},
   "outputs": [
    {
     "output_type": "execute_result",
     "data": {
      "text/plain": [
       "((10017, 150, 50), (150, 50), (10017, 1), (1,))"
      ]
     },
     "metadata": {},
     "execution_count": 101
    }
   ],
   "source": [
    "X = np.dstack(dataset['X'].values).transpose(2,0,1)\n",
    "Y = dataset['emotion_code'].values.reshape(-1,1)\n",
    "X.shape, X[0].shape, Y.shape, Y[0].shape"
   ]
  },
  {
   "source": [
    "### Separando com train_test_split"
   ],
   "cell_type": "markdown",
   "metadata": {}
  },
  {
   "cell_type": "code",
   "execution_count": 102,
   "metadata": {},
   "outputs": [
    {
     "output_type": "execute_result",
     "data": {
      "text/plain": [
       "((8013, 150, 50), (2004, 150, 50))"
      ]
     },
     "metadata": {},
     "execution_count": 102
    }
   ],
   "source": [
    "train_size = 0.8    # percentual de exemplos para o treino\n",
    "\n",
    "X_train, X_test, Y_train, Y_test = train_test_split(X,Y,                       # dataset para ser dividido, entrada X e saída Y\n",
    "                                                    train_size=train_size,     # percentual resevado para o treinamento\n",
    "                                                    stratify=Y,                # estratificação para manter a distribuição dos rótulos igual entre treino e teste\n",
    "                                                    shuffle=True)              # embaralhar os exemplos aleatoriamente\n",
    "\n",
    "X_train.shape, X_test.shape"
   ]
  },
  {
   "source": [
    "### Criando o modelo classificador"
   ],
   "cell_type": "markdown",
   "metadata": {}
  },
  {
   "cell_type": "code",
   "execution_count": 103,
   "metadata": {},
   "outputs": [],
   "source": [
    "\n",
    "class Torch_Mean_Layer(nn.Module):\n",
    "  '''Camada personalizada: calcula a média do tensor dentrada sobre a dimensão 1 (colunas).\n",
    "     Retorna um vetor linha, onde cada elemento é a média dos elementos da coluna correspondente do tensor de entrada.\n",
    "  '''\n",
    "  def forward(self, x, dim=1):\n",
    "    # print(\"-----------------------\",x)\n",
    "    x = torch.mean(x, dim=dim, keepdims=True)\n",
    "    return x\n",
    "\n",
    "class moodClassifier(nn.Module):\n",
    "  '''Modelo classificador de emoções\n",
    "  '''\n",
    "\n",
    "  # ----------------------------------------------#\n",
    "  # Método construtor\n",
    "  def __init__(self, dim_embed, n_units): \n",
    "    super().__init__()  \n",
    "\n",
    "    embedding_seq = [] # \n",
    "    ann_seq       = [] # \n",
    "    soft_seq      = []\n",
    "\n",
    "    #---------------------------------------------------------------#\n",
    "    # Embedding step: sequência de operações para converter X --> h\n",
    "    embedding_seq.append(Torch_Mean_Layer())\n",
    "    #---------------------------------------------------------------#\n",
    "\n",
    "    #--------------------------------------------------------------------------#\n",
    "    # ANN: Rede Neural Artifical Tradicional, com regressão logística na saída\n",
    "    ann_seq.append(nn.Linear(dim_embed, n_units))\n",
    "    ann_seq.append(nn.ReLU(inplace=True))\n",
    "    ann_seq.append(nn.Linear(n_units, 6))\n",
    "    \n",
    "    #--------------------------------------------------------------------------#\n",
    "    # Softmax :)\n",
    "    soft_seq.append(nn.LogSoftmax(dim=1))\n",
    "\n",
    "    #--------------------------------------------------------------------------#\n",
    "\n",
    "    #--------------------------------------------------------------------------#\n",
    "    # \"merge\" de todas as camamadas em uma layer sequencial \n",
    "    # (uma sequência para cada etapa)\n",
    "    self.embedding = nn.Sequential(*embedding_seq)     # etapa de embedding \n",
    "    self.ann       = nn.Sequential(*ann_seq)           # etapa ANN\n",
    "    self.soft      = nn.Sequential(*soft_seq)\n",
    "    #--------------------------------------------------------------------------#\n",
    "\n",
    "\n",
    "  def forward(self, x): \n",
    "    '''Processamento realizado ao chamar y=modelo(x)\n",
    "    '''\n",
    "    x = self.embedding(x)  # aplica a etapa de embedding\n",
    "    x = self.ann(x)        # passa o embedding médio pelas camadas da ANN\n",
    "    x = x.view(-1,6)\n",
    "    x = self.soft(x)\n",
    "    return x  #Adcionar o softmax"
   ]
  },
  {
   "source": [
    "### Função que irá treinar "
   ],
   "cell_type": "markdown",
   "metadata": {}
  },
  {
   "cell_type": "code",
   "execution_count": 104,
   "metadata": {},
   "outputs": [],
   "source": [
    "def train_loop(model, data, max_epochs = 1000, print_iters = 5):\n",
    "  X_train, Y_train = data\n",
    "  losses = []\n",
    "  accs = []\n",
    "  for i in range(max_epochs): # para cada época\n",
    "\n",
    "      #-----------------------------------#\n",
    "      # INÍCIO DO WORKFLOW DO TREINAMENTO #\n",
    "      # \n",
    "      Y_pred = model.forward(X_train)         # apresente os dados de entrada para o modelo, e obtenha a previsão    \n",
    "      loss = criterion(Y_pred.view(-1, 6), Y_train.view(-1))       # calcule a perda (o custo, o erro)\n",
    "      optimizer.zero_grad()                   # inicialize os gradientes\n",
    "      loss.backward()                         # backpropagation sobre a perda atual (cálculo dos novos gradientes) \n",
    "      optimizer.step()                        # atualização dos parâmetros da rede utilizando a regra do otimizador escolhido\n",
    "      # FIM DO WORKFLOW DO TREINAMENTO    #\n",
    "      #-----------------------------------#\n",
    "\n",
    "      # ------ Bloco Opcional ------ #\n",
    "      # Salvando métricas\n",
    "      losses.append(loss)                     # salvando a perda atual\n",
    "      acc = calc_accuracy(Y_pred, Y_train)     # calcula a taxa de acerto atual\n",
    "      accs.append(acc)\n",
    "      \n",
    "      # Imprimindo resultados parciais\n",
    "      if i % print_iters ==0: # a cada 10 iterações\n",
    "        print(f'epoch: {i:2}  loss: {loss.item():10.8f}') \n",
    "      #-----------------------------------#\n",
    "\n",
    "  #----------------------------------------------------------------------------# \n",
    "  print('\\n# Finished training!')\n",
    "  print(f'# --> epoch: {i}  \\n# --> initial loss: {losses[0]:10.8f} ,  \\n# --> accuracy: {acc:2.8f} , \\n# --> final loss: {losses[-1]:10.8f}')\n",
    "  \n",
    "  # retornando resultados\n",
    "  return model, losses, accs\n",
    "\n",
    "# Redefinindo cálculo da taxa de acerto \n",
    "def calc_accuracy(y_pred, y_true):\n",
    "  ''' Helper function para calcular a taxa de acerto deste exemplo.\n",
    "  '''\n",
    "  y_pred = torch.argmax(y_pred, dim=1)\n",
    "  y_pred = y_pred.float()\n",
    "  y_true = torch.squeeze(y_true) # tentar rexplicar dps\n",
    "  y_pred = torch.squeeze(y_pred)\n",
    "  num_hits  = torch.sum(y_pred==y_true).numpy()\n",
    "  num_total =  float(y_true.numel())\n",
    "  acc=  num_hits/num_total\n",
    "  return acc"
   ]
  },
  {
   "source": [
    "### Treinando com o modelo\n",
    "\n",
    "Convertendo os dados para tensores, instanciar o modelo, definir a função custo e o otimizador"
   ],
   "cell_type": "markdown",
   "metadata": {}
  },
  {
   "cell_type": "code",
   "execution_count": 105,
   "metadata": {
    "tags": [
     "outputPrepend"
    ]
   },
   "outputs": [
    {
     "output_type": "stream",
     "name": "stdout",
     "text": [
      "810\n",
      "epoch: 4338  loss: 0.25174466\n",
      "epoch: 4339  loss: 0.25166115\n",
      "epoch: 4340  loss: 0.25157556\n",
      "epoch: 4341  loss: 0.25148544\n",
      "epoch: 4342  loss: 0.25139207\n",
      "epoch: 4343  loss: 0.25130090\n",
      "epoch: 4344  loss: 0.25121620\n",
      "epoch: 4345  loss: 0.25113556\n",
      "epoch: 4346  loss: 0.25105450\n",
      "epoch: 4347  loss: 0.25096413\n",
      "epoch: 4348  loss: 0.25086156\n",
      "epoch: 4349  loss: 0.25075239\n",
      "epoch: 4350  loss: 0.25064939\n",
      "epoch: 4351  loss: 0.25055709\n",
      "epoch: 4352  loss: 0.25047064\n",
      "epoch: 4353  loss: 0.25038731\n",
      "epoch: 4354  loss: 0.25030276\n",
      "epoch: 4355  loss: 0.25021240\n",
      "epoch: 4356  loss: 0.25011522\n",
      "epoch: 4357  loss: 0.25002384\n",
      "epoch: 4358  loss: 0.24993648\n",
      "epoch: 4359  loss: 0.24985591\n",
      "epoch: 4360  loss: 0.24977957\n",
      "epoch: 4361  loss: 0.24969950\n",
      "epoch: 4362  loss: 0.24960670\n",
      "epoch: 4363  loss: 0.24950475\n",
      "epoch: 4364  loss: 0.24940106\n",
      "epoch: 4365  loss: 0.24930426\n",
      "epoch: 4366  loss: 0.24921286\n",
      "epoch: 4367  loss: 0.24912710\n",
      "epoch: 4368  loss: 0.24904245\n",
      "epoch: 4369  loss: 0.24895385\n",
      "epoch: 4370  loss: 0.24885897\n",
      "epoch: 4371  loss: 0.24876384\n",
      "epoch: 4372  loss: 0.24866986\n",
      "epoch: 4373  loss: 0.24857889\n",
      "epoch: 4374  loss: 0.24849123\n",
      "epoch: 4375  loss: 0.24840331\n",
      "epoch: 4376  loss: 0.24831937\n",
      "epoch: 4377  loss: 0.24823591\n",
      "epoch: 4378  loss: 0.24815108\n",
      "epoch: 4379  loss: 0.24806388\n",
      "epoch: 4380  loss: 0.24797961\n",
      "epoch: 4381  loss: 0.24790001\n",
      "epoch: 4382  loss: 0.24782465\n",
      "epoch: 4383  loss: 0.24775158\n",
      "epoch: 4384  loss: 0.24767490\n",
      "epoch: 4385  loss: 0.24758011\n",
      "epoch: 4386  loss: 0.24747042\n",
      "epoch: 4387  loss: 0.24735461\n",
      "epoch: 4388  loss: 0.24725118\n",
      "epoch: 4389  loss: 0.24716386\n",
      "epoch: 4390  loss: 0.24708496\n",
      "epoch: 4391  loss: 0.24701478\n",
      "epoch: 4392  loss: 0.24693608\n",
      "epoch: 4393  loss: 0.24684873\n",
      "epoch: 4394  loss: 0.24675326\n",
      "epoch: 4395  loss: 0.24665108\n",
      "epoch: 4396  loss: 0.24655488\n",
      "epoch: 4397  loss: 0.24646729\n",
      "epoch: 4398  loss: 0.24638307\n",
      "epoch: 4399  loss: 0.24629310\n",
      "epoch: 4400  loss: 0.24620144\n",
      "epoch: 4401  loss: 0.24610974\n",
      "epoch: 4402  loss: 0.24601802\n",
      "epoch: 4403  loss: 0.24593301\n",
      "epoch: 4404  loss: 0.24584946\n",
      "epoch: 4405  loss: 0.24577039\n",
      "epoch: 4406  loss: 0.24569137\n",
      "epoch: 4407  loss: 0.24560747\n",
      "epoch: 4408  loss: 0.24551880\n",
      "epoch: 4409  loss: 0.24542658\n",
      "epoch: 4410  loss: 0.24532981\n",
      "epoch: 4411  loss: 0.24523869\n",
      "epoch: 4412  loss: 0.24514878\n",
      "epoch: 4413  loss: 0.24505921\n",
      "epoch: 4414  loss: 0.24497096\n",
      "epoch: 4415  loss: 0.24487929\n",
      "epoch: 4416  loss: 0.24478687\n",
      "epoch: 4417  loss: 0.24469693\n",
      "epoch: 4418  loss: 0.24460852\n",
      "epoch: 4419  loss: 0.24452053\n",
      "epoch: 4420  loss: 0.24443384\n",
      "epoch: 4421  loss: 0.24435066\n",
      "epoch: 4422  loss: 0.24426900\n",
      "epoch: 4423  loss: 0.24418989\n",
      "epoch: 4424  loss: 0.24411428\n",
      "epoch: 4425  loss: 0.24403962\n",
      "epoch: 4426  loss: 0.24396133\n",
      "epoch: 4427  loss: 0.24387552\n",
      "epoch: 4428  loss: 0.24378173\n",
      "epoch: 4429  loss: 0.24368075\n",
      "epoch: 4430  loss: 0.24358107\n",
      "epoch: 4431  loss: 0.24348399\n",
      "epoch: 4432  loss: 0.24339312\n",
      "epoch: 4433  loss: 0.24330857\n",
      "epoch: 4434  loss: 0.24322544\n",
      "epoch: 4435  loss: 0.24314424\n",
      "epoch: 4436  loss: 0.24306123\n",
      "epoch: 4437  loss: 0.24297623\n",
      "epoch: 4438  loss: 0.24289060\n",
      "epoch: 4439  loss: 0.24280344\n",
      "epoch: 4440  loss: 0.24271563\n",
      "epoch: 4441  loss: 0.24262846\n",
      "epoch: 4442  loss: 0.24253954\n",
      "epoch: 4443  loss: 0.24244842\n",
      "epoch: 4444  loss: 0.24235579\n",
      "epoch: 4445  loss: 0.24226564\n",
      "epoch: 4446  loss: 0.24217558\n",
      "epoch: 4447  loss: 0.24208684\n",
      "epoch: 4448  loss: 0.24200092\n",
      "epoch: 4449  loss: 0.24191533\n",
      "epoch: 4450  loss: 0.24183160\n",
      "epoch: 4451  loss: 0.24174674\n",
      "epoch: 4452  loss: 0.24166693\n",
      "epoch: 4453  loss: 0.24158730\n",
      "epoch: 4454  loss: 0.24150732\n",
      "epoch: 4455  loss: 0.24142590\n",
      "epoch: 4456  loss: 0.24134444\n",
      "epoch: 4457  loss: 0.24125698\n",
      "epoch: 4458  loss: 0.24116395\n",
      "epoch: 4459  loss: 0.24106890\n",
      "epoch: 4460  loss: 0.24097745\n",
      "epoch: 4461  loss: 0.24088521\n",
      "epoch: 4462  loss: 0.24079587\n",
      "epoch: 4463  loss: 0.24071015\n",
      "epoch: 4464  loss: 0.24062562\n",
      "epoch: 4465  loss: 0.24054007\n",
      "epoch: 4466  loss: 0.24045706\n",
      "epoch: 4467  loss: 0.24037409\n",
      "epoch: 4468  loss: 0.24029137\n",
      "epoch: 4469  loss: 0.24020815\n",
      "epoch: 4470  loss: 0.24012409\n",
      "epoch: 4471  loss: 0.24003954\n",
      "epoch: 4472  loss: 0.23995793\n",
      "epoch: 4473  loss: 0.23987092\n",
      "epoch: 4474  loss: 0.23978347\n",
      "epoch: 4475  loss: 0.23969552\n",
      "epoch: 4476  loss: 0.23960313\n",
      "epoch: 4477  loss: 0.23951429\n",
      "epoch: 4478  loss: 0.23942432\n",
      "epoch: 4479  loss: 0.23933539\n",
      "epoch: 4480  loss: 0.23924871\n",
      "epoch: 4481  loss: 0.23916183\n",
      "epoch: 4482  loss: 0.23907480\n",
      "epoch: 4483  loss: 0.23898956\n",
      "epoch: 4484  loss: 0.23890449\n",
      "epoch: 4485  loss: 0.23881920\n",
      "epoch: 4486  loss: 0.23873608\n",
      "epoch: 4487  loss: 0.23865831\n",
      "epoch: 4488  loss: 0.23858137\n",
      "epoch: 4489  loss: 0.23850699\n",
      "epoch: 4490  loss: 0.23843701\n",
      "epoch: 4491  loss: 0.23836222\n",
      "epoch: 4492  loss: 0.23827995\n",
      "epoch: 4493  loss: 0.23819229\n",
      "epoch: 4494  loss: 0.23809750\n",
      "epoch: 4495  loss: 0.23800075\n",
      "epoch: 4496  loss: 0.23790705\n",
      "epoch: 4497  loss: 0.23781580\n",
      "epoch: 4498  loss: 0.23772949\n",
      "epoch: 4499  loss: 0.23764393\n",
      "epoch: 4500  loss: 0.23756237\n",
      "epoch: 4501  loss: 0.23748186\n",
      "epoch: 4502  loss: 0.23740155\n",
      "epoch: 4503  loss: 0.23732348\n",
      "epoch: 4504  loss: 0.23723647\n",
      "epoch: 4505  loss: 0.23714435\n",
      "epoch: 4506  loss: 0.23705117\n",
      "epoch: 4507  loss: 0.23695789\n",
      "epoch: 4508  loss: 0.23686966\n",
      "epoch: 4509  loss: 0.23678131\n",
      "epoch: 4510  loss: 0.23669815\n",
      "epoch: 4511  loss: 0.23661847\n",
      "epoch: 4512  loss: 0.23653989\n",
      "epoch: 4513  loss: 0.23646271\n",
      "epoch: 4514  loss: 0.23638573\n",
      "epoch: 4515  loss: 0.23630415\n",
      "epoch: 4516  loss: 0.23621845\n",
      "epoch: 4517  loss: 0.23612973\n",
      "epoch: 4518  loss: 0.23604102\n",
      "epoch: 4519  loss: 0.23595659\n",
      "epoch: 4520  loss: 0.23586996\n",
      "epoch: 4521  loss: 0.23578481\n",
      "epoch: 4522  loss: 0.23569921\n",
      "epoch: 4523  loss: 0.23561518\n",
      "epoch: 4524  loss: 0.23552771\n",
      "epoch: 4525  loss: 0.23544070\n",
      "epoch: 4526  loss: 0.23535536\n",
      "epoch: 4527  loss: 0.23526810\n",
      "epoch: 4528  loss: 0.23518336\n",
      "epoch: 4529  loss: 0.23509881\n",
      "epoch: 4530  loss: 0.23501460\n",
      "epoch: 4531  loss: 0.23493089\n",
      "epoch: 4532  loss: 0.23485206\n",
      "epoch: 4533  loss: 0.23477426\n",
      "epoch: 4534  loss: 0.23470639\n",
      "epoch: 4535  loss: 0.23464333\n",
      "epoch: 4536  loss: 0.23457326\n",
      "epoch: 4537  loss: 0.23449408\n",
      "epoch: 4538  loss: 0.23440187\n",
      "epoch: 4539  loss: 0.23430021\n",
      "epoch: 4540  loss: 0.23419708\n",
      "epoch: 4541  loss: 0.23410033\n",
      "epoch: 4542  loss: 0.23401245\n",
      "epoch: 4543  loss: 0.23393211\n",
      "epoch: 4544  loss: 0.23385869\n",
      "epoch: 4545  loss: 0.23378798\n",
      "epoch: 4546  loss: 0.23371734\n",
      "epoch: 4547  loss: 0.23363890\n",
      "epoch: 4548  loss: 0.23354973\n",
      "epoch: 4549  loss: 0.23345551\n",
      "epoch: 4550  loss: 0.23335911\n",
      "epoch: 4551  loss: 0.23326834\n",
      "epoch: 4552  loss: 0.23318289\n",
      "epoch: 4553  loss: 0.23310119\n",
      "epoch: 4554  loss: 0.23302339\n",
      "epoch: 4555  loss: 0.23294759\n",
      "epoch: 4556  loss: 0.23287527\n",
      "epoch: 4557  loss: 0.23280112\n",
      "epoch: 4558  loss: 0.23272273\n",
      "epoch: 4559  loss: 0.23263881\n",
      "epoch: 4560  loss: 0.23254932\n",
      "epoch: 4561  loss: 0.23245704\n",
      "epoch: 4562  loss: 0.23236705\n",
      "epoch: 4563  loss: 0.23228069\n",
      "epoch: 4564  loss: 0.23219745\n",
      "epoch: 4565  loss: 0.23211785\n",
      "epoch: 4566  loss: 0.23204027\n",
      "epoch: 4567  loss: 0.23196366\n",
      "epoch: 4568  loss: 0.23188479\n",
      "epoch: 4569  loss: 0.23180206\n",
      "epoch: 4570  loss: 0.23171701\n",
      "epoch: 4571  loss: 0.23162967\n",
      "epoch: 4572  loss: 0.23154157\n",
      "epoch: 4573  loss: 0.23145558\n",
      "epoch: 4574  loss: 0.23137154\n",
      "epoch: 4575  loss: 0.23129229\n",
      "epoch: 4576  loss: 0.23121341\n",
      "epoch: 4577  loss: 0.23113610\n",
      "epoch: 4578  loss: 0.23106183\n",
      "epoch: 4579  loss: 0.23098792\n",
      "epoch: 4580  loss: 0.23091333\n",
      "epoch: 4581  loss: 0.23083632\n",
      "epoch: 4582  loss: 0.23075783\n",
      "epoch: 4583  loss: 0.23067465\n",
      "epoch: 4584  loss: 0.23059103\n",
      "epoch: 4585  loss: 0.23050402\n",
      "epoch: 4586  loss: 0.23041424\n",
      "epoch: 4587  loss: 0.23032780\n",
      "epoch: 4588  loss: 0.23023853\n",
      "epoch: 4589  loss: 0.23015082\n",
      "epoch: 4590  loss: 0.23006754\n",
      "epoch: 4591  loss: 0.22998570\n",
      "epoch: 4592  loss: 0.22990669\n",
      "epoch: 4593  loss: 0.22983082\n",
      "epoch: 4594  loss: 0.22975740\n",
      "epoch: 4595  loss: 0.22968246\n",
      "epoch: 4596  loss: 0.22961013\n",
      "epoch: 4597  loss: 0.22953528\n",
      "epoch: 4598  loss: 0.22945319\n",
      "epoch: 4599  loss: 0.22937052\n",
      "epoch: 4600  loss: 0.22928189\n",
      "epoch: 4601  loss: 0.22919075\n",
      "epoch: 4602  loss: 0.22910139\n",
      "epoch: 4603  loss: 0.22901660\n",
      "epoch: 4604  loss: 0.22893374\n",
      "epoch: 4605  loss: 0.22885314\n",
      "epoch: 4606  loss: 0.22877781\n",
      "epoch: 4607  loss: 0.22870454\n",
      "epoch: 4608  loss: 0.22863165\n",
      "epoch: 4609  loss: 0.22855575\n",
      "epoch: 4610  loss: 0.22847752\n",
      "epoch: 4611  loss: 0.22839794\n",
      "epoch: 4612  loss: 0.22831595\n",
      "epoch: 4613  loss: 0.22823229\n",
      "epoch: 4614  loss: 0.22814919\n",
      "epoch: 4615  loss: 0.22806476\n",
      "epoch: 4616  loss: 0.22798154\n",
      "epoch: 4617  loss: 0.22789766\n",
      "epoch: 4618  loss: 0.22781727\n",
      "epoch: 4619  loss: 0.22773628\n",
      "epoch: 4620  loss: 0.22765464\n",
      "epoch: 4621  loss: 0.22757426\n",
      "epoch: 4622  loss: 0.22749524\n",
      "epoch: 4623  loss: 0.22741927\n",
      "epoch: 4624  loss: 0.22734474\n",
      "epoch: 4625  loss: 0.22727500\n",
      "epoch: 4626  loss: 0.22720130\n",
      "epoch: 4627  loss: 0.22712660\n",
      "epoch: 4628  loss: 0.22704646\n",
      "epoch: 4629  loss: 0.22696146\n",
      "epoch: 4630  loss: 0.22687733\n",
      "epoch: 4631  loss: 0.22679214\n",
      "epoch: 4632  loss: 0.22670560\n",
      "epoch: 4633  loss: 0.22662280\n",
      "epoch: 4634  loss: 0.22654302\n",
      "epoch: 4635  loss: 0.22646181\n",
      "epoch: 4636  loss: 0.22638188\n",
      "epoch: 4637  loss: 0.22630249\n",
      "epoch: 4638  loss: 0.22622755\n",
      "epoch: 4639  loss: 0.22614950\n",
      "epoch: 4640  loss: 0.22607598\n",
      "epoch: 4641  loss: 0.22600323\n",
      "epoch: 4642  loss: 0.22593243\n",
      "epoch: 4643  loss: 0.22585937\n",
      "epoch: 4644  loss: 0.22578341\n",
      "epoch: 4645  loss: 0.22570100\n",
      "epoch: 4646  loss: 0.22561535\n",
      "epoch: 4647  loss: 0.22552620\n",
      "epoch: 4648  loss: 0.22543956\n",
      "epoch: 4649  loss: 0.22535773\n",
      "epoch: 4650  loss: 0.22527760\n",
      "epoch: 4651  loss: 0.22519907\n",
      "epoch: 4652  loss: 0.22512171\n",
      "epoch: 4653  loss: 0.22504602\n",
      "epoch: 4654  loss: 0.22497028\n",
      "epoch: 4655  loss: 0.22489832\n",
      "epoch: 4656  loss: 0.22482531\n",
      "epoch: 4657  loss: 0.22475226\n",
      "epoch: 4658  loss: 0.22468133\n",
      "epoch: 4659  loss: 0.22460635\n",
      "epoch: 4660  loss: 0.22452566\n",
      "epoch: 4661  loss: 0.22444360\n",
      "epoch: 4662  loss: 0.22435847\n",
      "epoch: 4663  loss: 0.22427385\n",
      "epoch: 4664  loss: 0.22418953\n",
      "epoch: 4665  loss: 0.22410919\n",
      "epoch: 4666  loss: 0.22403151\n",
      "epoch: 4667  loss: 0.22395359\n",
      "epoch: 4668  loss: 0.22387828\n",
      "epoch: 4669  loss: 0.22380367\n",
      "epoch: 4670  loss: 0.22372910\n",
      "epoch: 4671  loss: 0.22365595\n",
      "epoch: 4672  loss: 0.22358175\n",
      "epoch: 4673  loss: 0.22350545\n",
      "epoch: 4674  loss: 0.22342438\n",
      "epoch: 4675  loss: 0.22334300\n",
      "epoch: 4676  loss: 0.22326106\n",
      "epoch: 4677  loss: 0.22317876\n",
      "epoch: 4678  loss: 0.22309780\n",
      "epoch: 4679  loss: 0.22301750\n",
      "epoch: 4680  loss: 0.22293819\n",
      "epoch: 4681  loss: 0.22286075\n",
      "epoch: 4682  loss: 0.22278261\n",
      "epoch: 4683  loss: 0.22270755\n",
      "epoch: 4684  loss: 0.22263226\n",
      "epoch: 4685  loss: 0.22255850\n",
      "epoch: 4686  loss: 0.22248887\n",
      "epoch: 4687  loss: 0.22241955\n",
      "epoch: 4688  loss: 0.22235167\n",
      "epoch: 4689  loss: 0.22227959\n",
      "epoch: 4690  loss: 0.22220138\n",
      "epoch: 4691  loss: 0.22211555\n",
      "epoch: 4692  loss: 0.22202843\n",
      "epoch: 4693  loss: 0.22194117\n",
      "epoch: 4694  loss: 0.22185485\n",
      "epoch: 4695  loss: 0.22177404\n",
      "epoch: 4696  loss: 0.22169602\n",
      "epoch: 4697  loss: 0.22162013\n",
      "epoch: 4698  loss: 0.22154672\n",
      "epoch: 4699  loss: 0.22147463\n",
      "epoch: 4700  loss: 0.22140911\n",
      "epoch: 4701  loss: 0.22134188\n",
      "epoch: 4702  loss: 0.22127646\n",
      "epoch: 4703  loss: 0.22120285\n",
      "epoch: 4704  loss: 0.22112107\n",
      "epoch: 4705  loss: 0.22103038\n",
      "epoch: 4706  loss: 0.22093941\n",
      "epoch: 4707  loss: 0.22085385\n",
      "epoch: 4708  loss: 0.22077401\n",
      "epoch: 4709  loss: 0.22069679\n",
      "epoch: 4710  loss: 0.22062568\n",
      "epoch: 4711  loss: 0.22055672\n",
      "epoch: 4712  loss: 0.22048765\n",
      "epoch: 4713  loss: 0.22041866\n",
      "epoch: 4714  loss: 0.22034535\n",
      "epoch: 4715  loss: 0.22026534\n",
      "epoch: 4716  loss: 0.22018570\n",
      "epoch: 4717  loss: 0.22010843\n",
      "epoch: 4718  loss: 0.22003281\n",
      "epoch: 4719  loss: 0.21995832\n",
      "epoch: 4720  loss: 0.21988164\n",
      "epoch: 4721  loss: 0.21980390\n",
      "epoch: 4722  loss: 0.21972053\n",
      "epoch: 4723  loss: 0.21963668\n",
      "epoch: 4724  loss: 0.21955651\n",
      "epoch: 4725  loss: 0.21948223\n",
      "epoch: 4726  loss: 0.21941130\n",
      "epoch: 4727  loss: 0.21934007\n",
      "epoch: 4728  loss: 0.21927066\n",
      "epoch: 4729  loss: 0.21919869\n",
      "epoch: 4730  loss: 0.21912345\n",
      "epoch: 4731  loss: 0.21904470\n",
      "epoch: 4732  loss: 0.21896173\n",
      "epoch: 4733  loss: 0.21887988\n",
      "epoch: 4734  loss: 0.21879990\n",
      "epoch: 4735  loss: 0.21872419\n",
      "epoch: 4736  loss: 0.21864918\n",
      "epoch: 4737  loss: 0.21857496\n",
      "epoch: 4738  loss: 0.21850564\n",
      "epoch: 4739  loss: 0.21843581\n",
      "epoch: 4740  loss: 0.21836215\n",
      "epoch: 4741  loss: 0.21828482\n",
      "epoch: 4742  loss: 0.21820767\n",
      "epoch: 4743  loss: 0.21812688\n",
      "epoch: 4744  loss: 0.21804900\n",
      "epoch: 4745  loss: 0.21797234\n",
      "epoch: 4746  loss: 0.21789953\n",
      "epoch: 4747  loss: 0.21782912\n",
      "epoch: 4748  loss: 0.21776572\n",
      "epoch: 4749  loss: 0.21770158\n",
      "epoch: 4750  loss: 0.21763045\n",
      "epoch: 4751  loss: 0.21755378\n",
      "epoch: 4752  loss: 0.21746773\n",
      "epoch: 4753  loss: 0.21737984\n",
      "epoch: 4754  loss: 0.21729384\n",
      "epoch: 4755  loss: 0.21721268\n",
      "epoch: 4756  loss: 0.21713744\n",
      "epoch: 4757  loss: 0.21706611\n",
      "epoch: 4758  loss: 0.21699782\n",
      "epoch: 4759  loss: 0.21693131\n",
      "epoch: 4760  loss: 0.21685895\n",
      "epoch: 4761  loss: 0.21678512\n",
      "epoch: 4762  loss: 0.21670535\n",
      "epoch: 4763  loss: 0.21662293\n",
      "epoch: 4764  loss: 0.21654423\n",
      "epoch: 4765  loss: 0.21646845\n",
      "epoch: 4766  loss: 0.21639603\n",
      "epoch: 4767  loss: 0.21632659\n",
      "epoch: 4768  loss: 0.21625857\n",
      "epoch: 4769  loss: 0.21619041\n",
      "epoch: 4770  loss: 0.21611975\n",
      "epoch: 4771  loss: 0.21603984\n",
      "epoch: 4772  loss: 0.21595806\n",
      "epoch: 4773  loss: 0.21587950\n",
      "epoch: 4774  loss: 0.21580325\n",
      "epoch: 4775  loss: 0.21573123\n",
      "epoch: 4776  loss: 0.21566221\n",
      "epoch: 4777  loss: 0.21558854\n",
      "epoch: 4778  loss: 0.21550950\n",
      "epoch: 4779  loss: 0.21542928\n",
      "epoch: 4780  loss: 0.21534798\n",
      "epoch: 4781  loss: 0.21527019\n",
      "epoch: 4782  loss: 0.21519519\n",
      "epoch: 4783  loss: 0.21512192\n",
      "epoch: 4784  loss: 0.21505138\n",
      "epoch: 4785  loss: 0.21498072\n",
      "epoch: 4786  loss: 0.21490900\n",
      "epoch: 4787  loss: 0.21484041\n",
      "epoch: 4788  loss: 0.21477129\n",
      "epoch: 4789  loss: 0.21470341\n",
      "epoch: 4790  loss: 0.21463726\n",
      "epoch: 4791  loss: 0.21457280\n",
      "epoch: 4792  loss: 0.21450549\n",
      "epoch: 4793  loss: 0.21442564\n",
      "epoch: 4794  loss: 0.21434073\n",
      "epoch: 4795  loss: 0.21425566\n",
      "epoch: 4796  loss: 0.21417071\n",
      "epoch: 4797  loss: 0.21408992\n",
      "epoch: 4798  loss: 0.21401463\n",
      "epoch: 4799  loss: 0.21394353\n",
      "epoch: 4800  loss: 0.21387790\n",
      "epoch: 4801  loss: 0.21381193\n",
      "epoch: 4802  loss: 0.21374731\n",
      "epoch: 4803  loss: 0.21367753\n",
      "epoch: 4804  loss: 0.21360022\n",
      "epoch: 4805  loss: 0.21352117\n",
      "epoch: 4806  loss: 0.21344011\n",
      "epoch: 4807  loss: 0.21335994\n",
      "epoch: 4808  loss: 0.21328118\n",
      "epoch: 4809  loss: 0.21320696\n",
      "epoch: 4810  loss: 0.21313524\n",
      "epoch: 4811  loss: 0.21306448\n",
      "epoch: 4812  loss: 0.21299610\n",
      "epoch: 4813  loss: 0.21292719\n",
      "epoch: 4814  loss: 0.21285781\n",
      "epoch: 4815  loss: 0.21278615\n",
      "epoch: 4816  loss: 0.21271220\n",
      "epoch: 4817  loss: 0.21263820\n",
      "epoch: 4818  loss: 0.21256718\n",
      "epoch: 4819  loss: 0.21249808\n",
      "epoch: 4820  loss: 0.21242698\n",
      "epoch: 4821  loss: 0.21235770\n",
      "epoch: 4822  loss: 0.21228695\n",
      "epoch: 4823  loss: 0.21220790\n",
      "epoch: 4824  loss: 0.21212815\n",
      "epoch: 4825  loss: 0.21204598\n",
      "epoch: 4826  loss: 0.21196525\n",
      "epoch: 4827  loss: 0.21189047\n",
      "epoch: 4828  loss: 0.21181732\n",
      "epoch: 4829  loss: 0.21174458\n",
      "epoch: 4830  loss: 0.21167558\n",
      "epoch: 4831  loss: 0.21161212\n",
      "epoch: 4832  loss: 0.21154889\n",
      "epoch: 4833  loss: 0.21148835\n",
      "epoch: 4834  loss: 0.21142447\n",
      "epoch: 4835  loss: 0.21135470\n",
      "epoch: 4836  loss: 0.21127471\n",
      "epoch: 4837  loss: 0.21118961\n",
      "epoch: 4838  loss: 0.21110581\n",
      "epoch: 4839  loss: 0.21102281\n",
      "epoch: 4840  loss: 0.21094762\n",
      "epoch: 4841  loss: 0.21087365\n",
      "epoch: 4842  loss: 0.21080074\n",
      "epoch: 4843  loss: 0.21073382\n",
      "epoch: 4844  loss: 0.21066539\n",
      "epoch: 4845  loss: 0.21059977\n",
      "epoch: 4846  loss: 0.21053563\n",
      "epoch: 4847  loss: 0.21046978\n",
      "epoch: 4848  loss: 0.21039790\n",
      "epoch: 4849  loss: 0.21032220\n",
      "epoch: 4850  loss: 0.21024679\n",
      "epoch: 4851  loss: 0.21016668\n",
      "epoch: 4852  loss: 0.21008895\n",
      "epoch: 4853  loss: 0.21001157\n",
      "epoch: 4854  loss: 0.20993733\n",
      "epoch: 4855  loss: 0.20986383\n",
      "epoch: 4856  loss: 0.20979106\n",
      "epoch: 4857  loss: 0.20971881\n",
      "epoch: 4858  loss: 0.20965111\n",
      "epoch: 4859  loss: 0.20958431\n",
      "epoch: 4860  loss: 0.20952149\n",
      "epoch: 4861  loss: 0.20946074\n",
      "epoch: 4862  loss: 0.20939977\n",
      "epoch: 4863  loss: 0.20933111\n",
      "epoch: 4864  loss: 0.20925950\n",
      "epoch: 4865  loss: 0.20917875\n",
      "epoch: 4866  loss: 0.20909609\n",
      "epoch: 4867  loss: 0.20901656\n",
      "epoch: 4868  loss: 0.20893946\n",
      "epoch: 4869  loss: 0.20886959\n",
      "epoch: 4870  loss: 0.20880096\n",
      "epoch: 4871  loss: 0.20873260\n",
      "epoch: 4872  loss: 0.20866156\n",
      "epoch: 4873  loss: 0.20859002\n",
      "epoch: 4874  loss: 0.20851608\n",
      "epoch: 4875  loss: 0.20844583\n",
      "epoch: 4876  loss: 0.20837358\n",
      "epoch: 4877  loss: 0.20830135\n",
      "epoch: 4878  loss: 0.20823154\n",
      "epoch: 4879  loss: 0.20815985\n",
      "epoch: 4880  loss: 0.20808436\n",
      "epoch: 4881  loss: 0.20800854\n",
      "epoch: 4882  loss: 0.20793508\n",
      "epoch: 4883  loss: 0.20786120\n",
      "epoch: 4884  loss: 0.20778897\n",
      "epoch: 4885  loss: 0.20771645\n",
      "epoch: 4886  loss: 0.20764717\n",
      "epoch: 4887  loss: 0.20757587\n",
      "epoch: 4888  loss: 0.20750816\n",
      "epoch: 4889  loss: 0.20744632\n",
      "epoch: 4890  loss: 0.20738696\n",
      "epoch: 4891  loss: 0.20732920\n",
      "epoch: 4892  loss: 0.20726657\n",
      "epoch: 4893  loss: 0.20719349\n",
      "epoch: 4894  loss: 0.20711109\n",
      "epoch: 4895  loss: 0.20702423\n",
      "epoch: 4896  loss: 0.20694032\n",
      "epoch: 4897  loss: 0.20686321\n",
      "epoch: 4898  loss: 0.20679264\n",
      "epoch: 4899  loss: 0.20672549\n",
      "epoch: 4900  loss: 0.20666157\n",
      "epoch: 4901  loss: 0.20659840\n",
      "epoch: 4902  loss: 0.20652951\n",
      "epoch: 4903  loss: 0.20645513\n",
      "epoch: 4904  loss: 0.20637769\n",
      "epoch: 4905  loss: 0.20630011\n",
      "epoch: 4906  loss: 0.20622440\n",
      "epoch: 4907  loss: 0.20615132\n",
      "epoch: 4908  loss: 0.20607987\n",
      "epoch: 4909  loss: 0.20600833\n",
      "epoch: 4910  loss: 0.20594148\n",
      "epoch: 4911  loss: 0.20587657\n",
      "epoch: 4912  loss: 0.20581220\n",
      "epoch: 4913  loss: 0.20574677\n",
      "epoch: 4914  loss: 0.20567793\n",
      "epoch: 4915  loss: 0.20560265\n",
      "epoch: 4916  loss: 0.20552699\n",
      "epoch: 4917  loss: 0.20545101\n",
      "epoch: 4918  loss: 0.20537713\n",
      "epoch: 4919  loss: 0.20530710\n",
      "epoch: 4920  loss: 0.20524131\n",
      "epoch: 4921  loss: 0.20517625\n",
      "epoch: 4922  loss: 0.20510952\n",
      "epoch: 4923  loss: 0.20504065\n",
      "epoch: 4924  loss: 0.20496453\n",
      "epoch: 4925  loss: 0.20488825\n",
      "epoch: 4926  loss: 0.20481214\n",
      "epoch: 4927  loss: 0.20473950\n",
      "epoch: 4928  loss: 0.20467086\n",
      "epoch: 4929  loss: 0.20460241\n",
      "epoch: 4930  loss: 0.20453915\n",
      "epoch: 4931  loss: 0.20447251\n",
      "epoch: 4932  loss: 0.20440176\n",
      "epoch: 4933  loss: 0.20432697\n",
      "epoch: 4934  loss: 0.20425090\n",
      "epoch: 4935  loss: 0.20417275\n",
      "epoch: 4936  loss: 0.20409995\n",
      "epoch: 4937  loss: 0.20403077\n",
      "epoch: 4938  loss: 0.20396054\n",
      "epoch: 4939  loss: 0.20389408\n",
      "epoch: 4940  loss: 0.20383058\n",
      "epoch: 4941  loss: 0.20376949\n",
      "epoch: 4942  loss: 0.20370837\n",
      "epoch: 4943  loss: 0.20364588\n",
      "epoch: 4944  loss: 0.20358230\n",
      "epoch: 4945  loss: 0.20351447\n",
      "epoch: 4946  loss: 0.20344436\n",
      "epoch: 4947  loss: 0.20336802\n",
      "epoch: 4948  loss: 0.20328863\n",
      "epoch: 4949  loss: 0.20320918\n",
      "epoch: 4950  loss: 0.20312880\n",
      "epoch: 4951  loss: 0.20305416\n",
      "epoch: 4952  loss: 0.20298474\n",
      "epoch: 4953  loss: 0.20291930\n",
      "epoch: 4954  loss: 0.20285918\n",
      "epoch: 4955  loss: 0.20280316\n",
      "epoch: 4956  loss: 0.20274004\n",
      "epoch: 4957  loss: 0.20267278\n",
      "epoch: 4958  loss: 0.20259733\n",
      "epoch: 4959  loss: 0.20252098\n",
      "epoch: 4960  loss: 0.20244247\n",
      "epoch: 4961  loss: 0.20236920\n",
      "epoch: 4962  loss: 0.20229755\n",
      "epoch: 4963  loss: 0.20222722\n",
      "epoch: 4964  loss: 0.20215599\n",
      "epoch: 4965  loss: 0.20208357\n",
      "epoch: 4966  loss: 0.20201150\n",
      "epoch: 4967  loss: 0.20194416\n",
      "epoch: 4968  loss: 0.20188151\n",
      "epoch: 4969  loss: 0.20182227\n",
      "epoch: 4970  loss: 0.20176753\n",
      "epoch: 4971  loss: 0.20171133\n",
      "epoch: 4972  loss: 0.20164940\n",
      "epoch: 4973  loss: 0.20157364\n",
      "epoch: 4974  loss: 0.20149355\n",
      "epoch: 4975  loss: 0.20140789\n",
      "epoch: 4976  loss: 0.20132791\n",
      "epoch: 4977  loss: 0.20125574\n",
      "epoch: 4978  loss: 0.20119022\n",
      "epoch: 4979  loss: 0.20112549\n",
      "epoch: 4980  loss: 0.20105995\n",
      "epoch: 4981  loss: 0.20099741\n",
      "epoch: 4982  loss: 0.20093185\n",
      "epoch: 4983  loss: 0.20086361\n",
      "epoch: 4984  loss: 0.20079583\n",
      "epoch: 4985  loss: 0.20072311\n",
      "epoch: 4986  loss: 0.20065087\n",
      "epoch: 4987  loss: 0.20057817\n",
      "epoch: 4988  loss: 0.20050450\n",
      "epoch: 4989  loss: 0.20043203\n",
      "epoch: 4990  loss: 0.20036180\n",
      "epoch: 4991  loss: 0.20029299\n",
      "epoch: 4992  loss: 0.20022704\n",
      "epoch: 4993  loss: 0.20016186\n",
      "epoch: 4994  loss: 0.20009972\n",
      "epoch: 4995  loss: 0.20003997\n",
      "epoch: 4996  loss: 0.19998069\n",
      "epoch: 4997  loss: 0.19992122\n",
      "epoch: 4998  loss: 0.19985445\n",
      "epoch: 4999  loss: 0.19977877\n",
      "\n",
      "# Finished training!\n",
      "# --> epoch: 4999  \n",
      "# --> initial loss: 1.79716027 ,  \n",
      "# --> accuracy: 0.94958193 , \n",
      "# --> final loss: 0.19977877\n"
     ]
    }
   ],
   "source": [
    "data_train = (torch.FloatTensor(X_train), torch.LongTensor(Y_train))\n",
    "\n",
    "Model = moodClassifier(dim_embed=num_dims, n_units=500)\n",
    "print(Model)\n",
    "\n",
    "criterion = nn.NLLLoss() # cross entropy loss\n",
    "optimizer = torch.optim.Adam(Model.parameters(), lr = 0.001) \n",
    "\n",
    "Model, losses, accs = train_loop(Model, data_train, max_epochs=5000, print_iters=1) # note que o modelo é sobrescrito pela saída treinada"
   ]
  },
  {
   "cell_type": "code",
   "execution_count": 106,
   "metadata": {},
   "outputs": [],
   "source": [
    "# Rodando o Modelo treinado com o Dataset de Teste\n",
    "data_test = (torch.FloatTensor(X_test), torch.LongTensor(Y_test))\n",
    "X_test_tensor, Y_test_tensor = data_test\n",
    "Y_pred_tensor = Model.forward(X_test_tensor) \n",
    "\n",
    "# hard-decision e pós-processamento da saída\n",
    "y_pred = torch.argmax(Y_pred_tensor, dim=1)\n",
    "y_pred = y_pred.float()\n",
    "y_true = torch.squeeze(Y_test_tensor) \n",
    "y_pred = torch.squeeze(y_pred)"
   ]
  },
  {
   "source": [
    "### Mostrando a *Confusion Matrix*"
   ],
   "cell_type": "markdown",
   "metadata": {}
  },
  {
   "cell_type": "code",
   "execution_count": 107,
   "metadata": {},
   "outputs": [
    {
     "output_type": "display_data",
     "data": {
      "text/plain": "<Figure size 792x792 with 2 Axes>",
      "image/svg+xml": "<?xml version=\"1.0\" encoding=\"utf-8\" standalone=\"no\"?>\r\n<!DOCTYPE svg PUBLIC \"-//W3C//DTD SVG 1.1//EN\"\r\n  \"http://www.w3.org/Graphics/SVG/1.1/DTD/svg11.dtd\">\r\n<!-- Created with matplotlib (https://matplotlib.org/) -->\r\n<svg height=\"618.238906pt\" version=\"1.1\" viewBox=\"0 0 646.688937 618.238906\" width=\"646.688937pt\" xmlns=\"http://www.w3.org/2000/svg\" xmlns:xlink=\"http://www.w3.org/1999/xlink\">\r\n <metadata>\r\n  <rdf:RDF xmlns:cc=\"http://creativecommons.org/ns#\" xmlns:dc=\"http://purl.org/dc/elements/1.1/\" xmlns:rdf=\"http://www.w3.org/1999/02/22-rdf-syntax-ns#\">\r\n   <cc:Work>\r\n    <dc:type rdf:resource=\"http://purl.org/dc/dcmitype/StillImage\"/>\r\n    <dc:date>2021-04-16T09:53:50.658602</dc:date>\r\n    <dc:format>image/svg+xml</dc:format>\r\n    <dc:creator>\r\n     <cc:Agent>\r\n      <dc:title>Matplotlib v3.3.2, https://matplotlib.org/</dc:title>\r\n     </cc:Agent>\r\n    </dc:creator>\r\n   </cc:Work>\r\n  </rdf:RDF>\r\n </metadata>\r\n <defs>\r\n  <style type=\"text/css\">*{stroke-linecap:butt;stroke-linejoin:round;}</style>\r\n </defs>\r\n <g id=\"figure_1\">\r\n  <g id=\"patch_1\">\r\n   <path d=\"M -0 618.238906 \r\nL 646.688937 618.238906 \r\nL 646.688937 0 \r\nL -0 0 \r\nz\r\n\" style=\"fill:none;\"/>\r\n  </g>\r\n  <g id=\"axes_1\">\r\n   <g id=\"patch_2\">\r\n    <path d=\"M 68.135938 551.7 \r\nL 559.175938 551.7 \r\nL 559.175938 60.66 \r\nL 68.135938 60.66 \r\nz\r\n\" style=\"fill:#ffffff;\"/>\r\n   </g>\r\n   <g clip-path=\"url(#p3bc5c0fd47)\">\r\n    <image height=\"492\" id=\"imageb89c44ed68\" transform=\"scale(1 -1)translate(0 -492)\" width=\"492\" x=\"68.135938\" xlink:href=\"data:image/png;base64,\r\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\" y=\"-59.7\"/>\r\n   </g>\r\n   <g id=\"matplotlib.axis_1\">\r\n    <g id=\"xtick_1\">\r\n     <g id=\"line2d_1\">\r\n      <defs>\r\n       <path d=\"M 0 0 \r\nL 0 3.5 \r\n\" id=\"m73a3e65d04\" style=\"stroke:#000000;stroke-width:0.8;\"/>\r\n      </defs>\r\n      <g>\r\n       <use style=\"stroke:#000000;stroke-width:0.8;\" x=\"109.055938\" xlink:href=\"#m73a3e65d04\" y=\"551.7\"/>\r\n      </g>\r\n     </g>\r\n     <g id=\"text_1\">\r\n      <!-- angry -->\r\n      <g transform=\"translate(94.634063 566.298437)scale(0.1 -0.1)\">\r\n       <defs>\r\n        <path d=\"M 34.28125 27.484375 \r\nQ 23.390625 27.484375 19.1875 25 \r\nQ 14.984375 22.515625 14.984375 16.5 \r\nQ 14.984375 11.71875 18.140625 8.90625 \r\nQ 21.296875 6.109375 26.703125 6.109375 \r\nQ 34.1875 6.109375 38.703125 11.40625 \r\nQ 43.21875 16.703125 43.21875 25.484375 \r\nL 43.21875 27.484375 \r\nz\r\nM 52.203125 31.203125 \r\nL 52.203125 0 \r\nL 43.21875 0 \r\nL 43.21875 8.296875 \r\nQ 40.140625 3.328125 35.546875 0.953125 \r\nQ 30.953125 -1.421875 24.3125 -1.421875 \r\nQ 15.921875 -1.421875 10.953125 3.296875 \r\nQ 6 8.015625 6 15.921875 \r\nQ 6 25.140625 12.171875 29.828125 \r\nQ 18.359375 34.515625 30.609375 34.515625 \r\nL 43.21875 34.515625 \r\nL 43.21875 35.40625 \r\nQ 43.21875 41.609375 39.140625 45 \r\nQ 35.0625 48.390625 27.6875 48.390625 \r\nQ 23 48.390625 18.546875 47.265625 \r\nQ 14.109375 46.140625 10.015625 43.890625 \r\nL 10.015625 52.203125 \r\nQ 14.9375 54.109375 19.578125 55.046875 \r\nQ 24.21875 56 28.609375 56 \r\nQ 40.484375 56 46.34375 49.84375 \r\nQ 52.203125 43.703125 52.203125 31.203125 \r\nz\r\n\" id=\"DejaVuSans-97\"/>\r\n        <path d=\"M 54.890625 33.015625 \r\nL 54.890625 0 \r\nL 45.90625 0 \r\nL 45.90625 32.71875 \r\nQ 45.90625 40.484375 42.875 44.328125 \r\nQ 39.84375 48.1875 33.796875 48.1875 \r\nQ 26.515625 48.1875 22.3125 43.546875 \r\nQ 18.109375 38.921875 18.109375 30.90625 \r\nL 18.109375 0 \r\nL 9.078125 0 \r\nL 9.078125 54.6875 \r\nL 18.109375 54.6875 \r\nL 18.109375 46.1875 \r\nQ 21.34375 51.125 25.703125 53.5625 \r\nQ 30.078125 56 35.796875 56 \r\nQ 45.21875 56 50.046875 50.171875 \r\nQ 54.890625 44.34375 54.890625 33.015625 \r\nz\r\n\" id=\"DejaVuSans-110\"/>\r\n        <path d=\"M 45.40625 27.984375 \r\nQ 45.40625 37.75 41.375 43.109375 \r\nQ 37.359375 48.484375 30.078125 48.484375 \r\nQ 22.859375 48.484375 18.828125 43.109375 \r\nQ 14.796875 37.75 14.796875 27.984375 \r\nQ 14.796875 18.265625 18.828125 12.890625 \r\nQ 22.859375 7.515625 30.078125 7.515625 \r\nQ 37.359375 7.515625 41.375 12.890625 \r\nQ 45.40625 18.265625 45.40625 27.984375 \r\nz\r\nM 54.390625 6.78125 \r\nQ 54.390625 -7.171875 48.1875 -13.984375 \r\nQ 42 -20.796875 29.203125 -20.796875 \r\nQ 24.46875 -20.796875 20.265625 -20.09375 \r\nQ 16.0625 -19.390625 12.109375 -17.921875 \r\nL 12.109375 -9.1875 \r\nQ 16.0625 -11.328125 19.921875 -12.34375 \r\nQ 23.78125 -13.375 27.78125 -13.375 \r\nQ 36.625 -13.375 41.015625 -8.765625 \r\nQ 45.40625 -4.15625 45.40625 5.171875 \r\nL 45.40625 9.625 \r\nQ 42.625 4.78125 38.28125 2.390625 \r\nQ 33.9375 0 27.875 0 \r\nQ 17.828125 0 11.671875 7.65625 \r\nQ 5.515625 15.328125 5.515625 27.984375 \r\nQ 5.515625 40.671875 11.671875 48.328125 \r\nQ 17.828125 56 27.875 56 \r\nQ 33.9375 56 38.28125 53.609375 \r\nQ 42.625 51.21875 45.40625 46.390625 \r\nL 45.40625 54.6875 \r\nL 54.390625 54.6875 \r\nz\r\n\" id=\"DejaVuSans-103\"/>\r\n        <path d=\"M 41.109375 46.296875 \r\nQ 39.59375 47.171875 37.8125 47.578125 \r\nQ 36.03125 48 33.890625 48 \r\nQ 26.265625 48 22.1875 43.046875 \r\nQ 18.109375 38.09375 18.109375 28.8125 \r\nL 18.109375 0 \r\nL 9.078125 0 \r\nL 9.078125 54.6875 \r\nL 18.109375 54.6875 \r\nL 18.109375 46.1875 \r\nQ 20.953125 51.171875 25.484375 53.578125 \r\nQ 30.03125 56 36.53125 56 \r\nQ 37.453125 56 38.578125 55.875 \r\nQ 39.703125 55.765625 41.0625 55.515625 \r\nz\r\n\" id=\"DejaVuSans-114\"/>\r\n        <path d=\"M 32.171875 -5.078125 \r\nQ 28.375 -14.84375 24.75 -17.8125 \r\nQ 21.140625 -20.796875 15.09375 -20.796875 \r\nL 7.90625 -20.796875 \r\nL 7.90625 -13.28125 \r\nL 13.1875 -13.28125 \r\nQ 16.890625 -13.28125 18.9375 -11.515625 \r\nQ 21 -9.765625 23.484375 -3.21875 \r\nL 25.09375 0.875 \r\nL 2.984375 54.6875 \r\nL 12.5 54.6875 \r\nL 29.59375 11.921875 \r\nL 46.6875 54.6875 \r\nL 56.203125 54.6875 \r\nz\r\n\" id=\"DejaVuSans-121\"/>\r\n       </defs>\r\n       <use xlink:href=\"#DejaVuSans-97\"/>\r\n       <use x=\"61.279297\" xlink:href=\"#DejaVuSans-110\"/>\r\n       <use x=\"124.658203\" xlink:href=\"#DejaVuSans-103\"/>\r\n       <use x=\"188.134766\" xlink:href=\"#DejaVuSans-114\"/>\r\n       <use x=\"229.248047\" xlink:href=\"#DejaVuSans-121\"/>\r\n      </g>\r\n     </g>\r\n    </g>\r\n    <g id=\"xtick_2\">\r\n     <g id=\"line2d_2\">\r\n      <g>\r\n       <use style=\"stroke:#000000;stroke-width:0.8;\" x=\"190.895938\" xlink:href=\"#m73a3e65d04\" y=\"551.7\"/>\r\n      </g>\r\n     </g>\r\n     <g id=\"text_2\">\r\n      <!-- disgust -->\r\n      <g transform=\"translate(172.820156 566.298437)scale(0.1 -0.1)\">\r\n       <defs>\r\n        <path d=\"M 45.40625 46.390625 \r\nL 45.40625 75.984375 \r\nL 54.390625 75.984375 \r\nL 54.390625 0 \r\nL 45.40625 0 \r\nL 45.40625 8.203125 \r\nQ 42.578125 3.328125 38.25 0.953125 \r\nQ 33.9375 -1.421875 27.875 -1.421875 \r\nQ 17.96875 -1.421875 11.734375 6.484375 \r\nQ 5.515625 14.40625 5.515625 27.296875 \r\nQ 5.515625 40.1875 11.734375 48.09375 \r\nQ 17.96875 56 27.875 56 \r\nQ 33.9375 56 38.25 53.625 \r\nQ 42.578125 51.265625 45.40625 46.390625 \r\nz\r\nM 14.796875 27.296875 \r\nQ 14.796875 17.390625 18.875 11.75 \r\nQ 22.953125 6.109375 30.078125 6.109375 \r\nQ 37.203125 6.109375 41.296875 11.75 \r\nQ 45.40625 17.390625 45.40625 27.296875 \r\nQ 45.40625 37.203125 41.296875 42.84375 \r\nQ 37.203125 48.484375 30.078125 48.484375 \r\nQ 22.953125 48.484375 18.875 42.84375 \r\nQ 14.796875 37.203125 14.796875 27.296875 \r\nz\r\n\" id=\"DejaVuSans-100\"/>\r\n        <path d=\"M 9.421875 54.6875 \r\nL 18.40625 54.6875 \r\nL 18.40625 0 \r\nL 9.421875 0 \r\nz\r\nM 9.421875 75.984375 \r\nL 18.40625 75.984375 \r\nL 18.40625 64.59375 \r\nL 9.421875 64.59375 \r\nz\r\n\" id=\"DejaVuSans-105\"/>\r\n        <path d=\"M 44.28125 53.078125 \r\nL 44.28125 44.578125 \r\nQ 40.484375 46.53125 36.375 47.5 \r\nQ 32.28125 48.484375 27.875 48.484375 \r\nQ 21.1875 48.484375 17.84375 46.4375 \r\nQ 14.5 44.390625 14.5 40.28125 \r\nQ 14.5 37.15625 16.890625 35.375 \r\nQ 19.28125 33.59375 26.515625 31.984375 \r\nL 29.59375 31.296875 \r\nQ 39.15625 29.25 43.1875 25.515625 \r\nQ 47.21875 21.78125 47.21875 15.09375 \r\nQ 47.21875 7.46875 41.1875 3.015625 \r\nQ 35.15625 -1.421875 24.609375 -1.421875 \r\nQ 20.21875 -1.421875 15.453125 -0.5625 \r\nQ 10.6875 0.296875 5.421875 2 \r\nL 5.421875 11.28125 \r\nQ 10.40625 8.6875 15.234375 7.390625 \r\nQ 20.0625 6.109375 24.8125 6.109375 \r\nQ 31.15625 6.109375 34.5625 8.28125 \r\nQ 37.984375 10.453125 37.984375 14.40625 \r\nQ 37.984375 18.0625 35.515625 20.015625 \r\nQ 33.0625 21.96875 24.703125 23.78125 \r\nL 21.578125 24.515625 \r\nQ 13.234375 26.265625 9.515625 29.90625 \r\nQ 5.8125 33.546875 5.8125 39.890625 \r\nQ 5.8125 47.609375 11.28125 51.796875 \r\nQ 16.75 56 26.8125 56 \r\nQ 31.78125 56 36.171875 55.265625 \r\nQ 40.578125 54.546875 44.28125 53.078125 \r\nz\r\n\" id=\"DejaVuSans-115\"/>\r\n        <path d=\"M 8.5 21.578125 \r\nL 8.5 54.6875 \r\nL 17.484375 54.6875 \r\nL 17.484375 21.921875 \r\nQ 17.484375 14.15625 20.5 10.265625 \r\nQ 23.53125 6.390625 29.59375 6.390625 \r\nQ 36.859375 6.390625 41.078125 11.03125 \r\nQ 45.3125 15.671875 45.3125 23.6875 \r\nL 45.3125 54.6875 \r\nL 54.296875 54.6875 \r\nL 54.296875 0 \r\nL 45.3125 0 \r\nL 45.3125 8.40625 \r\nQ 42.046875 3.421875 37.71875 1 \r\nQ 33.40625 -1.421875 27.6875 -1.421875 \r\nQ 18.265625 -1.421875 13.375 4.4375 \r\nQ 8.5 10.296875 8.5 21.578125 \r\nz\r\nM 31.109375 56 \r\nz\r\n\" id=\"DejaVuSans-117\"/>\r\n        <path d=\"M 18.3125 70.21875 \r\nL 18.3125 54.6875 \r\nL 36.8125 54.6875 \r\nL 36.8125 47.703125 \r\nL 18.3125 47.703125 \r\nL 18.3125 18.015625 \r\nQ 18.3125 11.328125 20.140625 9.421875 \r\nQ 21.96875 7.515625 27.59375 7.515625 \r\nL 36.8125 7.515625 \r\nL 36.8125 0 \r\nL 27.59375 0 \r\nQ 17.1875 0 13.234375 3.875 \r\nQ 9.28125 7.765625 9.28125 18.015625 \r\nL 9.28125 47.703125 \r\nL 2.6875 47.703125 \r\nL 2.6875 54.6875 \r\nL 9.28125 54.6875 \r\nL 9.28125 70.21875 \r\nz\r\n\" id=\"DejaVuSans-116\"/>\r\n       </defs>\r\n       <use xlink:href=\"#DejaVuSans-100\"/>\r\n       <use x=\"63.476562\" xlink:href=\"#DejaVuSans-105\"/>\r\n       <use x=\"91.259766\" xlink:href=\"#DejaVuSans-115\"/>\r\n       <use x=\"143.359375\" xlink:href=\"#DejaVuSans-103\"/>\r\n       <use x=\"206.835938\" xlink:href=\"#DejaVuSans-117\"/>\r\n       <use x=\"270.214844\" xlink:href=\"#DejaVuSans-115\"/>\r\n       <use x=\"322.314453\" xlink:href=\"#DejaVuSans-116\"/>\r\n      </g>\r\n     </g>\r\n    </g>\r\n    <g id=\"xtick_3\">\r\n     <g id=\"line2d_3\">\r\n      <g>\r\n       <use style=\"stroke:#000000;stroke-width:0.8;\" x=\"272.735938\" xlink:href=\"#m73a3e65d04\" y=\"551.7\"/>\r\n      </g>\r\n     </g>\r\n     <g id=\"text_3\">\r\n      <!-- fear -->\r\n      <g transform=\"translate(262.779688 566.298437)scale(0.1 -0.1)\">\r\n       <defs>\r\n        <path d=\"M 37.109375 75.984375 \r\nL 37.109375 68.5 \r\nL 28.515625 68.5 \r\nQ 23.6875 68.5 21.796875 66.546875 \r\nQ 19.921875 64.59375 19.921875 59.515625 \r\nL 19.921875 54.6875 \r\nL 34.71875 54.6875 \r\nL 34.71875 47.703125 \r\nL 19.921875 47.703125 \r\nL 19.921875 0 \r\nL 10.890625 0 \r\nL 10.890625 47.703125 \r\nL 2.296875 47.703125 \r\nL 2.296875 54.6875 \r\nL 10.890625 54.6875 \r\nL 10.890625 58.5 \r\nQ 10.890625 67.625 15.140625 71.796875 \r\nQ 19.390625 75.984375 28.609375 75.984375 \r\nz\r\n\" id=\"DejaVuSans-102\"/>\r\n        <path d=\"M 56.203125 29.59375 \r\nL 56.203125 25.203125 \r\nL 14.890625 25.203125 \r\nQ 15.484375 15.921875 20.484375 11.0625 \r\nQ 25.484375 6.203125 34.421875 6.203125 \r\nQ 39.59375 6.203125 44.453125 7.46875 \r\nQ 49.3125 8.734375 54.109375 11.28125 \r\nL 54.109375 2.78125 \r\nQ 49.265625 0.734375 44.1875 -0.34375 \r\nQ 39.109375 -1.421875 33.890625 -1.421875 \r\nQ 20.796875 -1.421875 13.15625 6.1875 \r\nQ 5.515625 13.8125 5.515625 26.8125 \r\nQ 5.515625 40.234375 12.765625 48.109375 \r\nQ 20.015625 56 32.328125 56 \r\nQ 43.359375 56 49.78125 48.890625 \r\nQ 56.203125 41.796875 56.203125 29.59375 \r\nz\r\nM 47.21875 32.234375 \r\nQ 47.125 39.59375 43.09375 43.984375 \r\nQ 39.0625 48.390625 32.421875 48.390625 \r\nQ 24.90625 48.390625 20.390625 44.140625 \r\nQ 15.875 39.890625 15.1875 32.171875 \r\nz\r\n\" id=\"DejaVuSans-101\"/>\r\n       </defs>\r\n       <use xlink:href=\"#DejaVuSans-102\"/>\r\n       <use x=\"35.205078\" xlink:href=\"#DejaVuSans-101\"/>\r\n       <use x=\"96.728516\" xlink:href=\"#DejaVuSans-97\"/>\r\n       <use x=\"158.007812\" xlink:href=\"#DejaVuSans-114\"/>\r\n      </g>\r\n     </g>\r\n    </g>\r\n    <g id=\"xtick_4\">\r\n     <g id=\"line2d_4\">\r\n      <g>\r\n       <use style=\"stroke:#000000;stroke-width:0.8;\" x=\"354.575938\" xlink:href=\"#m73a3e65d04\" y=\"551.7\"/>\r\n      </g>\r\n     </g>\r\n     <g id=\"text_4\">\r\n      <!-- happy -->\r\n      <g transform=\"translate(339.035313 566.298437)scale(0.1 -0.1)\">\r\n       <defs>\r\n        <path d=\"M 54.890625 33.015625 \r\nL 54.890625 0 \r\nL 45.90625 0 \r\nL 45.90625 32.71875 \r\nQ 45.90625 40.484375 42.875 44.328125 \r\nQ 39.84375 48.1875 33.796875 48.1875 \r\nQ 26.515625 48.1875 22.3125 43.546875 \r\nQ 18.109375 38.921875 18.109375 30.90625 \r\nL 18.109375 0 \r\nL 9.078125 0 \r\nL 9.078125 75.984375 \r\nL 18.109375 75.984375 \r\nL 18.109375 46.1875 \r\nQ 21.34375 51.125 25.703125 53.5625 \r\nQ 30.078125 56 35.796875 56 \r\nQ 45.21875 56 50.046875 50.171875 \r\nQ 54.890625 44.34375 54.890625 33.015625 \r\nz\r\n\" id=\"DejaVuSans-104\"/>\r\n        <path d=\"M 18.109375 8.203125 \r\nL 18.109375 -20.796875 \r\nL 9.078125 -20.796875 \r\nL 9.078125 54.6875 \r\nL 18.109375 54.6875 \r\nL 18.109375 46.390625 \r\nQ 20.953125 51.265625 25.265625 53.625 \r\nQ 29.59375 56 35.59375 56 \r\nQ 45.5625 56 51.78125 48.09375 \r\nQ 58.015625 40.1875 58.015625 27.296875 \r\nQ 58.015625 14.40625 51.78125 6.484375 \r\nQ 45.5625 -1.421875 35.59375 -1.421875 \r\nQ 29.59375 -1.421875 25.265625 0.953125 \r\nQ 20.953125 3.328125 18.109375 8.203125 \r\nz\r\nM 48.6875 27.296875 \r\nQ 48.6875 37.203125 44.609375 42.84375 \r\nQ 40.53125 48.484375 33.40625 48.484375 \r\nQ 26.265625 48.484375 22.1875 42.84375 \r\nQ 18.109375 37.203125 18.109375 27.296875 \r\nQ 18.109375 17.390625 22.1875 11.75 \r\nQ 26.265625 6.109375 33.40625 6.109375 \r\nQ 40.53125 6.109375 44.609375 11.75 \r\nQ 48.6875 17.390625 48.6875 27.296875 \r\nz\r\n\" id=\"DejaVuSans-112\"/>\r\n       </defs>\r\n       <use xlink:href=\"#DejaVuSans-104\"/>\r\n       <use x=\"63.378906\" xlink:href=\"#DejaVuSans-97\"/>\r\n       <use x=\"124.658203\" xlink:href=\"#DejaVuSans-112\"/>\r\n       <use x=\"188.134766\" xlink:href=\"#DejaVuSans-112\"/>\r\n       <use x=\"251.611328\" xlink:href=\"#DejaVuSans-121\"/>\r\n      </g>\r\n     </g>\r\n    </g>\r\n    <g id=\"xtick_5\">\r\n     <g id=\"line2d_5\">\r\n      <g>\r\n       <use style=\"stroke:#000000;stroke-width:0.8;\" x=\"436.415938\" xlink:href=\"#m73a3e65d04\" y=\"551.7\"/>\r\n      </g>\r\n     </g>\r\n     <g id=\"text_5\">\r\n      <!-- sad -->\r\n      <g transform=\"translate(427.572969 566.298437)scale(0.1 -0.1)\">\r\n       <use xlink:href=\"#DejaVuSans-115\"/>\r\n       <use x=\"52.099609\" xlink:href=\"#DejaVuSans-97\"/>\r\n       <use x=\"113.378906\" xlink:href=\"#DejaVuSans-100\"/>\r\n      </g>\r\n     </g>\r\n    </g>\r\n    <g id=\"xtick_6\">\r\n     <g id=\"line2d_6\">\r\n      <g>\r\n       <use style=\"stroke:#000000;stroke-width:0.8;\" x=\"518.255938\" xlink:href=\"#m73a3e65d04\" y=\"551.7\"/>\r\n      </g>\r\n     </g>\r\n     <g id=\"text_6\">\r\n      <!-- surprise -->\r\n      <g transform=\"translate(498.127031 566.298437)scale(0.1 -0.1)\">\r\n       <use xlink:href=\"#DejaVuSans-115\"/>\r\n       <use x=\"52.099609\" xlink:href=\"#DejaVuSans-117\"/>\r\n       <use x=\"115.478516\" xlink:href=\"#DejaVuSans-114\"/>\r\n       <use x=\"156.591797\" xlink:href=\"#DejaVuSans-112\"/>\r\n       <use x=\"220.068359\" xlink:href=\"#DejaVuSans-114\"/>\r\n       <use x=\"261.181641\" xlink:href=\"#DejaVuSans-105\"/>\r\n       <use x=\"288.964844\" xlink:href=\"#DejaVuSans-115\"/>\r\n       <use x=\"341.064453\" xlink:href=\"#DejaVuSans-101\"/>\r\n      </g>\r\n     </g>\r\n    </g>\r\n    <g id=\"text_7\">\r\n     <!-- Predicted label -->\r\n     <g transform=\"translate(276.503594 579.976562)scale(0.1 -0.1)\">\r\n      <defs>\r\n       <path d=\"M 19.671875 64.796875 \r\nL 19.671875 37.40625 \r\nL 32.078125 37.40625 \r\nQ 38.96875 37.40625 42.71875 40.96875 \r\nQ 46.484375 44.53125 46.484375 51.125 \r\nQ 46.484375 57.671875 42.71875 61.234375 \r\nQ 38.96875 64.796875 32.078125 64.796875 \r\nz\r\nM 9.8125 72.90625 \r\nL 32.078125 72.90625 \r\nQ 44.34375 72.90625 50.609375 67.359375 \r\nQ 56.890625 61.8125 56.890625 51.125 \r\nQ 56.890625 40.328125 50.609375 34.8125 \r\nQ 44.34375 29.296875 32.078125 29.296875 \r\nL 19.671875 29.296875 \r\nL 19.671875 0 \r\nL 9.8125 0 \r\nz\r\n\" id=\"DejaVuSans-80\"/>\r\n       <path d=\"M 48.78125 52.59375 \r\nL 48.78125 44.1875 \r\nQ 44.96875 46.296875 41.140625 47.34375 \r\nQ 37.3125 48.390625 33.40625 48.390625 \r\nQ 24.65625 48.390625 19.8125 42.84375 \r\nQ 14.984375 37.3125 14.984375 27.296875 \r\nQ 14.984375 17.28125 19.8125 11.734375 \r\nQ 24.65625 6.203125 33.40625 6.203125 \r\nQ 37.3125 6.203125 41.140625 7.25 \r\nQ 44.96875 8.296875 48.78125 10.40625 \r\nL 48.78125 2.09375 \r\nQ 45.015625 0.34375 40.984375 -0.53125 \r\nQ 36.96875 -1.421875 32.421875 -1.421875 \r\nQ 20.0625 -1.421875 12.78125 6.34375 \r\nQ 5.515625 14.109375 5.515625 27.296875 \r\nQ 5.515625 40.671875 12.859375 48.328125 \r\nQ 20.21875 56 33.015625 56 \r\nQ 37.15625 56 41.109375 55.140625 \r\nQ 45.0625 54.296875 48.78125 52.59375 \r\nz\r\n\" id=\"DejaVuSans-99\"/>\r\n       <path id=\"DejaVuSans-32\"/>\r\n       <path d=\"M 9.421875 75.984375 \r\nL 18.40625 75.984375 \r\nL 18.40625 0 \r\nL 9.421875 0 \r\nz\r\n\" id=\"DejaVuSans-108\"/>\r\n       <path d=\"M 48.6875 27.296875 \r\nQ 48.6875 37.203125 44.609375 42.84375 \r\nQ 40.53125 48.484375 33.40625 48.484375 \r\nQ 26.265625 48.484375 22.1875 42.84375 \r\nQ 18.109375 37.203125 18.109375 27.296875 \r\nQ 18.109375 17.390625 22.1875 11.75 \r\nQ 26.265625 6.109375 33.40625 6.109375 \r\nQ 40.53125 6.109375 44.609375 11.75 \r\nQ 48.6875 17.390625 48.6875 27.296875 \r\nz\r\nM 18.109375 46.390625 \r\nQ 20.953125 51.265625 25.265625 53.625 \r\nQ 29.59375 56 35.59375 56 \r\nQ 45.5625 56 51.78125 48.09375 \r\nQ 58.015625 40.1875 58.015625 27.296875 \r\nQ 58.015625 14.40625 51.78125 6.484375 \r\nQ 45.5625 -1.421875 35.59375 -1.421875 \r\nQ 29.59375 -1.421875 25.265625 0.953125 \r\nQ 20.953125 3.328125 18.109375 8.203125 \r\nL 18.109375 0 \r\nL 9.078125 0 \r\nL 9.078125 75.984375 \r\nL 18.109375 75.984375 \r\nz\r\n\" id=\"DejaVuSans-98\"/>\r\n      </defs>\r\n      <use xlink:href=\"#DejaVuSans-80\"/>\r\n      <use x=\"58.552734\" xlink:href=\"#DejaVuSans-114\"/>\r\n      <use x=\"97.416016\" xlink:href=\"#DejaVuSans-101\"/>\r\n      <use x=\"158.939453\" xlink:href=\"#DejaVuSans-100\"/>\r\n      <use x=\"222.416016\" xlink:href=\"#DejaVuSans-105\"/>\r\n      <use x=\"250.199219\" xlink:href=\"#DejaVuSans-99\"/>\r\n      <use x=\"305.179688\" xlink:href=\"#DejaVuSans-116\"/>\r\n      <use x=\"344.388672\" xlink:href=\"#DejaVuSans-101\"/>\r\n      <use x=\"405.912109\" xlink:href=\"#DejaVuSans-100\"/>\r\n      <use x=\"469.388672\" xlink:href=\"#DejaVuSans-32\"/>\r\n      <use x=\"501.175781\" xlink:href=\"#DejaVuSans-108\"/>\r\n      <use x=\"528.958984\" xlink:href=\"#DejaVuSans-97\"/>\r\n      <use x=\"590.238281\" xlink:href=\"#DejaVuSans-98\"/>\r\n      <use x=\"653.714844\" xlink:href=\"#DejaVuSans-101\"/>\r\n      <use x=\"715.238281\" xlink:href=\"#DejaVuSans-108\"/>\r\n     </g>\r\n    </g>\r\n   </g>\r\n   <g id=\"matplotlib.axis_2\">\r\n    <g id=\"ytick_1\">\r\n     <g id=\"line2d_7\">\r\n      <defs>\r\n       <path d=\"M 0 0 \r\nL -3.5 0 \r\n\" id=\"mdeae3af3ce\" style=\"stroke:#000000;stroke-width:0.8;\"/>\r\n      </defs>\r\n      <g>\r\n       <use style=\"stroke:#000000;stroke-width:0.8;\" x=\"68.135938\" xlink:href=\"#mdeae3af3ce\" y=\"101.58\"/>\r\n      </g>\r\n     </g>\r\n     <g id=\"text_8\">\r\n      <!-- angry -->\r\n      <g transform=\"translate(32.292188 105.379219)scale(0.1 -0.1)\">\r\n       <use xlink:href=\"#DejaVuSans-97\"/>\r\n       <use x=\"61.279297\" xlink:href=\"#DejaVuSans-110\"/>\r\n       <use x=\"124.658203\" xlink:href=\"#DejaVuSans-103\"/>\r\n       <use x=\"188.134766\" xlink:href=\"#DejaVuSans-114\"/>\r\n       <use x=\"229.248047\" xlink:href=\"#DejaVuSans-121\"/>\r\n      </g>\r\n     </g>\r\n    </g>\r\n    <g id=\"ytick_2\">\r\n     <g id=\"line2d_8\">\r\n      <g>\r\n       <use style=\"stroke:#000000;stroke-width:0.8;\" x=\"68.135938\" xlink:href=\"#mdeae3af3ce\" y=\"183.42\"/>\r\n      </g>\r\n     </g>\r\n     <g id=\"text_9\">\r\n      <!-- disgust -->\r\n      <g transform=\"translate(24.984375 187.219219)scale(0.1 -0.1)\">\r\n       <use xlink:href=\"#DejaVuSans-100\"/>\r\n       <use x=\"63.476562\" xlink:href=\"#DejaVuSans-105\"/>\r\n       <use x=\"91.259766\" xlink:href=\"#DejaVuSans-115\"/>\r\n       <use x=\"143.359375\" xlink:href=\"#DejaVuSans-103\"/>\r\n       <use x=\"206.835938\" xlink:href=\"#DejaVuSans-117\"/>\r\n       <use x=\"270.214844\" xlink:href=\"#DejaVuSans-115\"/>\r\n       <use x=\"322.314453\" xlink:href=\"#DejaVuSans-116\"/>\r\n      </g>\r\n     </g>\r\n    </g>\r\n    <g id=\"ytick_3\">\r\n     <g id=\"line2d_9\">\r\n      <g>\r\n       <use style=\"stroke:#000000;stroke-width:0.8;\" x=\"68.135938\" xlink:href=\"#mdeae3af3ce\" y=\"265.26\"/>\r\n      </g>\r\n     </g>\r\n     <g id=\"text_10\">\r\n      <!-- fear -->\r\n      <g transform=\"translate(41.223438 269.059219)scale(0.1 -0.1)\">\r\n       <use xlink:href=\"#DejaVuSans-102\"/>\r\n       <use x=\"35.205078\" xlink:href=\"#DejaVuSans-101\"/>\r\n       <use x=\"96.728516\" xlink:href=\"#DejaVuSans-97\"/>\r\n       <use x=\"158.007812\" xlink:href=\"#DejaVuSans-114\"/>\r\n      </g>\r\n     </g>\r\n    </g>\r\n    <g id=\"ytick_4\">\r\n     <g id=\"line2d_10\">\r\n      <g>\r\n       <use style=\"stroke:#000000;stroke-width:0.8;\" x=\"68.135938\" xlink:href=\"#mdeae3af3ce\" y=\"347.1\"/>\r\n      </g>\r\n     </g>\r\n     <g id=\"text_11\">\r\n      <!-- happy -->\r\n      <g transform=\"translate(30.054688 350.899219)scale(0.1 -0.1)\">\r\n       <use xlink:href=\"#DejaVuSans-104\"/>\r\n       <use x=\"63.378906\" xlink:href=\"#DejaVuSans-97\"/>\r\n       <use x=\"124.658203\" xlink:href=\"#DejaVuSans-112\"/>\r\n       <use x=\"188.134766\" xlink:href=\"#DejaVuSans-112\"/>\r\n       <use x=\"251.611328\" xlink:href=\"#DejaVuSans-121\"/>\r\n      </g>\r\n     </g>\r\n    </g>\r\n    <g id=\"ytick_5\">\r\n     <g id=\"line2d_11\">\r\n      <g>\r\n       <use style=\"stroke:#000000;stroke-width:0.8;\" x=\"68.135938\" xlink:href=\"#mdeae3af3ce\" y=\"428.94\"/>\r\n      </g>\r\n     </g>\r\n     <g id=\"text_12\">\r\n      <!-- sad -->\r\n      <g transform=\"translate(43.45 432.739219)scale(0.1 -0.1)\">\r\n       <use xlink:href=\"#DejaVuSans-115\"/>\r\n       <use x=\"52.099609\" xlink:href=\"#DejaVuSans-97\"/>\r\n       <use x=\"113.378906\" xlink:href=\"#DejaVuSans-100\"/>\r\n      </g>\r\n     </g>\r\n    </g>\r\n    <g id=\"ytick_6\">\r\n     <g id=\"line2d_12\">\r\n      <g>\r\n       <use style=\"stroke:#000000;stroke-width:0.8;\" x=\"68.135938\" xlink:href=\"#mdeae3af3ce\" y=\"510.78\"/>\r\n      </g>\r\n     </g>\r\n     <g id=\"text_13\">\r\n      <!-- surprise -->\r\n      <g transform=\"translate(20.878125 514.579219)scale(0.1 -0.1)\">\r\n       <use xlink:href=\"#DejaVuSans-115\"/>\r\n       <use x=\"52.099609\" xlink:href=\"#DejaVuSans-117\"/>\r\n       <use x=\"115.478516\" xlink:href=\"#DejaVuSans-114\"/>\r\n       <use x=\"156.591797\" xlink:href=\"#DejaVuSans-112\"/>\r\n       <use x=\"220.068359\" xlink:href=\"#DejaVuSans-114\"/>\r\n       <use x=\"261.181641\" xlink:href=\"#DejaVuSans-105\"/>\r\n       <use x=\"288.964844\" xlink:href=\"#DejaVuSans-115\"/>\r\n       <use x=\"341.064453\" xlink:href=\"#DejaVuSans-101\"/>\r\n      </g>\r\n     </g>\r\n    </g>\r\n    <g id=\"text_14\">\r\n     <!-- True label -->\r\n     <g transform=\"translate(14.798438 330.479219)rotate(-90)scale(0.1 -0.1)\">\r\n      <defs>\r\n       <path d=\"M -0.296875 72.90625 \r\nL 61.375 72.90625 \r\nL 61.375 64.59375 \r\nL 35.5 64.59375 \r\nL 35.5 0 \r\nL 25.59375 0 \r\nL 25.59375 64.59375 \r\nL -0.296875 64.59375 \r\nz\r\n\" id=\"DejaVuSans-84\"/>\r\n      </defs>\r\n      <use xlink:href=\"#DejaVuSans-84\"/>\r\n      <use x=\"46.333984\" xlink:href=\"#DejaVuSans-114\"/>\r\n      <use x=\"87.447266\" xlink:href=\"#DejaVuSans-117\"/>\r\n      <use x=\"150.826172\" xlink:href=\"#DejaVuSans-101\"/>\r\n      <use x=\"212.349609\" xlink:href=\"#DejaVuSans-32\"/>\r\n      <use x=\"244.136719\" xlink:href=\"#DejaVuSans-108\"/>\r\n      <use x=\"271.919922\" xlink:href=\"#DejaVuSans-97\"/>\r\n      <use x=\"333.199219\" xlink:href=\"#DejaVuSans-98\"/>\r\n      <use x=\"396.675781\" xlink:href=\"#DejaVuSans-101\"/>\r\n      <use x=\"458.199219\" xlink:href=\"#DejaVuSans-108\"/>\r\n     </g>\r\n    </g>\r\n   </g>\r\n   <g id=\"patch_3\">\r\n    <path d=\"M 68.135938 551.7 \r\nL 68.135938 60.66 \r\n\" style=\"fill:none;stroke:#000000;stroke-linecap:square;stroke-linejoin:miter;stroke-width:0.8;\"/>\r\n   </g>\r\n   <g id=\"patch_4\">\r\n    <path d=\"M 559.175938 551.7 \r\nL 559.175938 60.66 \r\n\" style=\"fill:none;stroke:#000000;stroke-linecap:square;stroke-linejoin:miter;stroke-width:0.8;\"/>\r\n   </g>\r\n   <g id=\"patch_5\">\r\n    <path d=\"M 68.135938 551.7 \r\nL 559.175938 551.7 \r\n\" style=\"fill:none;stroke:#000000;stroke-linecap:square;stroke-linejoin:miter;stroke-width:0.8;\"/>\r\n   </g>\r\n   <g id=\"patch_6\">\r\n    <path d=\"M 68.135938 60.66 \r\nL 559.175938 60.66 \r\n\" style=\"fill:none;stroke:#000000;stroke-linecap:square;stroke-linejoin:miter;stroke-width:0.8;\"/>\r\n   </g>\r\n   <g id=\"text_15\">\r\n    <!-- 62 -->\r\n    <g style=\"fill:#67001f;\" transform=\"translate(102.693438 104.339375)scale(0.1 -0.1)\">\r\n     <defs>\r\n      <path d=\"M 33.015625 40.375 \r\nQ 26.375 40.375 22.484375 35.828125 \r\nQ 18.609375 31.296875 18.609375 23.390625 \r\nQ 18.609375 15.53125 22.484375 10.953125 \r\nQ 26.375 6.390625 33.015625 6.390625 \r\nQ 39.65625 6.390625 43.53125 10.953125 \r\nQ 47.40625 15.53125 47.40625 23.390625 \r\nQ 47.40625 31.296875 43.53125 35.828125 \r\nQ 39.65625 40.375 33.015625 40.375 \r\nz\r\nM 52.59375 71.296875 \r\nL 52.59375 62.3125 \r\nQ 48.875 64.0625 45.09375 64.984375 \r\nQ 41.3125 65.921875 37.59375 65.921875 \r\nQ 27.828125 65.921875 22.671875 59.328125 \r\nQ 17.53125 52.734375 16.796875 39.40625 \r\nQ 19.671875 43.65625 24.015625 45.921875 \r\nQ 28.375 48.1875 33.59375 48.1875 \r\nQ 44.578125 48.1875 50.953125 41.515625 \r\nQ 57.328125 34.859375 57.328125 23.390625 \r\nQ 57.328125 12.15625 50.6875 5.359375 \r\nQ 44.046875 -1.421875 33.015625 -1.421875 \r\nQ 20.359375 -1.421875 13.671875 8.265625 \r\nQ 6.984375 17.96875 6.984375 36.375 \r\nQ 6.984375 53.65625 15.1875 63.9375 \r\nQ 23.390625 74.21875 37.203125 74.21875 \r\nQ 40.921875 74.21875 44.703125 73.484375 \r\nQ 48.484375 72.75 52.59375 71.296875 \r\nz\r\n\" id=\"DejaVuSans-54\"/>\r\n      <path d=\"M 19.1875 8.296875 \r\nL 53.609375 8.296875 \r\nL 53.609375 0 \r\nL 7.328125 0 \r\nL 7.328125 8.296875 \r\nQ 12.9375 14.109375 22.625 23.890625 \r\nQ 32.328125 33.6875 34.8125 36.53125 \r\nQ 39.546875 41.84375 41.421875 45.53125 \r\nQ 43.3125 49.21875 43.3125 52.78125 \r\nQ 43.3125 58.59375 39.234375 62.25 \r\nQ 35.15625 65.921875 28.609375 65.921875 \r\nQ 23.96875 65.921875 18.8125 64.3125 \r\nQ 13.671875 62.703125 7.8125 59.421875 \r\nL 7.8125 69.390625 \r\nQ 13.765625 71.78125 18.9375 73 \r\nQ 24.125 74.21875 28.421875 74.21875 \r\nQ 39.75 74.21875 46.484375 68.546875 \r\nQ 53.21875 62.890625 53.21875 53.421875 \r\nQ 53.21875 48.921875 51.53125 44.890625 \r\nQ 49.859375 40.875 45.40625 35.40625 \r\nQ 44.1875 33.984375 37.640625 27.21875 \r\nQ 31.109375 20.453125 19.1875 8.296875 \r\nz\r\n\" id=\"DejaVuSans-50\"/>\r\n     </defs>\r\n     <use xlink:href=\"#DejaVuSans-54\"/>\r\n     <use x=\"63.623047\" xlink:href=\"#DejaVuSans-50\"/>\r\n    </g>\r\n   </g>\r\n   <g id=\"text_16\">\r\n    <!-- 4.7 -->\r\n    <g style=\"fill:#053061;\" transform=\"translate(182.944375 104.339375)scale(0.1 -0.1)\">\r\n     <defs>\r\n      <path d=\"M 37.796875 64.3125 \r\nL 12.890625 25.390625 \r\nL 37.796875 25.390625 \r\nz\r\nM 35.203125 72.90625 \r\nL 47.609375 72.90625 \r\nL 47.609375 25.390625 \r\nL 58.015625 25.390625 \r\nL 58.015625 17.1875 \r\nL 47.609375 17.1875 \r\nL 47.609375 0 \r\nL 37.796875 0 \r\nL 37.796875 17.1875 \r\nL 4.890625 17.1875 \r\nL 4.890625 26.703125 \r\nz\r\n\" id=\"DejaVuSans-52\"/>\r\n      <path d=\"M 10.6875 12.40625 \r\nL 21 12.40625 \r\nL 21 0 \r\nL 10.6875 0 \r\nz\r\n\" id=\"DejaVuSans-46\"/>\r\n      <path d=\"M 8.203125 72.90625 \r\nL 55.078125 72.90625 \r\nL 55.078125 68.703125 \r\nL 28.609375 0 \r\nL 18.3125 0 \r\nL 43.21875 64.59375 \r\nL 8.203125 64.59375 \r\nz\r\n\" id=\"DejaVuSans-55\"/>\r\n     </defs>\r\n     <use xlink:href=\"#DejaVuSans-52\"/>\r\n     <use x=\"63.623047\" xlink:href=\"#DejaVuSans-46\"/>\r\n     <use x=\"95.410156\" xlink:href=\"#DejaVuSans-55\"/>\r\n    </g>\r\n   </g>\r\n   <g id=\"text_17\">\r\n    <!-- 7.4 -->\r\n    <g style=\"fill:#053061;\" transform=\"translate(264.784375 104.339375)scale(0.1 -0.1)\">\r\n     <use xlink:href=\"#DejaVuSans-55\"/>\r\n     <use x=\"63.623047\" xlink:href=\"#DejaVuSans-46\"/>\r\n     <use x=\"95.410156\" xlink:href=\"#DejaVuSans-52\"/>\r\n    </g>\r\n   </g>\r\n   <g id=\"text_18\">\r\n    <!-- 9.4 -->\r\n    <g style=\"fill:#053061;\" transform=\"translate(346.624375 104.339375)scale(0.1 -0.1)\">\r\n     <defs>\r\n      <path d=\"M 10.984375 1.515625 \r\nL 10.984375 10.5 \r\nQ 14.703125 8.734375 18.5 7.8125 \r\nQ 22.3125 6.890625 25.984375 6.890625 \r\nQ 35.75 6.890625 40.890625 13.453125 \r\nQ 46.046875 20.015625 46.78125 33.40625 \r\nQ 43.953125 29.203125 39.59375 26.953125 \r\nQ 35.25 24.703125 29.984375 24.703125 \r\nQ 19.046875 24.703125 12.671875 31.3125 \r\nQ 6.296875 37.9375 6.296875 49.421875 \r\nQ 6.296875 60.640625 12.9375 67.421875 \r\nQ 19.578125 74.21875 30.609375 74.21875 \r\nQ 43.265625 74.21875 49.921875 64.515625 \r\nQ 56.59375 54.828125 56.59375 36.375 \r\nQ 56.59375 19.140625 48.40625 8.859375 \r\nQ 40.234375 -1.421875 26.421875 -1.421875 \r\nQ 22.703125 -1.421875 18.890625 -0.6875 \r\nQ 15.09375 0.046875 10.984375 1.515625 \r\nz\r\nM 30.609375 32.421875 \r\nQ 37.25 32.421875 41.125 36.953125 \r\nQ 45.015625 41.5 45.015625 49.421875 \r\nQ 45.015625 57.28125 41.125 61.84375 \r\nQ 37.25 66.40625 30.609375 66.40625 \r\nQ 23.96875 66.40625 20.09375 61.84375 \r\nQ 16.21875 57.28125 16.21875 49.421875 \r\nQ 16.21875 41.5 20.09375 36.953125 \r\nQ 23.96875 32.421875 30.609375 32.421875 \r\nz\r\n\" id=\"DejaVuSans-57\"/>\r\n     </defs>\r\n     <use xlink:href=\"#DejaVuSans-57\"/>\r\n     <use x=\"63.623047\" xlink:href=\"#DejaVuSans-46\"/>\r\n     <use x=\"95.410156\" xlink:href=\"#DejaVuSans-52\"/>\r\n    </g>\r\n   </g>\r\n   <g id=\"text_19\">\r\n    <!-- 15 -->\r\n    <g style=\"fill:#053061;\" transform=\"translate(430.053438 104.339375)scale(0.1 -0.1)\">\r\n     <defs>\r\n      <path d=\"M 12.40625 8.296875 \r\nL 28.515625 8.296875 \r\nL 28.515625 63.921875 \r\nL 10.984375 60.40625 \r\nL 10.984375 69.390625 \r\nL 28.421875 72.90625 \r\nL 38.28125 72.90625 \r\nL 38.28125 8.296875 \r\nL 54.390625 8.296875 \r\nL 54.390625 0 \r\nL 12.40625 0 \r\nz\r\n\" id=\"DejaVuSans-49\"/>\r\n      <path d=\"M 10.796875 72.90625 \r\nL 49.515625 72.90625 \r\nL 49.515625 64.59375 \r\nL 19.828125 64.59375 \r\nL 19.828125 46.734375 \r\nQ 21.96875 47.46875 24.109375 47.828125 \r\nQ 26.265625 48.1875 28.421875 48.1875 \r\nQ 40.625 48.1875 47.75 41.5 \r\nQ 54.890625 34.8125 54.890625 23.390625 \r\nQ 54.890625 11.625 47.5625 5.09375 \r\nQ 40.234375 -1.421875 26.90625 -1.421875 \r\nQ 22.3125 -1.421875 17.546875 -0.640625 \r\nQ 12.796875 0.140625 7.71875 1.703125 \r\nL 7.71875 11.625 \r\nQ 12.109375 9.234375 16.796875 8.0625 \r\nQ 21.484375 6.890625 26.703125 6.890625 \r\nQ 35.15625 6.890625 40.078125 11.328125 \r\nQ 45.015625 15.765625 45.015625 23.390625 \r\nQ 45.015625 31 40.078125 35.4375 \r\nQ 35.15625 39.890625 26.703125 39.890625 \r\nQ 22.75 39.890625 18.8125 39.015625 \r\nQ 14.890625 38.140625 10.796875 36.28125 \r\nz\r\n\" id=\"DejaVuSans-53\"/>\r\n     </defs>\r\n     <use xlink:href=\"#DejaVuSans-49\"/>\r\n     <use x=\"63.623047\" xlink:href=\"#DejaVuSans-53\"/>\r\n    </g>\r\n   </g>\r\n   <g id=\"text_20\">\r\n    <!-- 1.2 -->\r\n    <g style=\"fill:#053061;\" transform=\"translate(510.304375 104.339375)scale(0.1 -0.1)\">\r\n     <use xlink:href=\"#DejaVuSans-49\"/>\r\n     <use x=\"63.623047\" xlink:href=\"#DejaVuSans-46\"/>\r\n     <use x=\"95.410156\" xlink:href=\"#DejaVuSans-50\"/>\r\n    </g>\r\n   </g>\r\n   <g id=\"text_21\">\r\n    <!-- 9.2 -->\r\n    <g style=\"fill:#053061;\" transform=\"translate(101.104375 186.179375)scale(0.1 -0.1)\">\r\n     <use xlink:href=\"#DejaVuSans-57\"/>\r\n     <use x=\"63.623047\" xlink:href=\"#DejaVuSans-46\"/>\r\n     <use x=\"95.410156\" xlink:href=\"#DejaVuSans-50\"/>\r\n    </g>\r\n   </g>\r\n   <g id=\"text_22\">\r\n    <!-- 71 -->\r\n    <g style=\"fill:#67001f;\" transform=\"translate(184.533437 186.179375)scale(0.1 -0.1)\">\r\n     <use xlink:href=\"#DejaVuSans-55\"/>\r\n     <use x=\"63.623047\" xlink:href=\"#DejaVuSans-49\"/>\r\n    </g>\r\n   </g>\r\n   <g id=\"text_23\">\r\n    <!-- 1.8 -->\r\n    <g style=\"fill:#053061;\" transform=\"translate(264.784375 186.179375)scale(0.1 -0.1)\">\r\n     <defs>\r\n      <path d=\"M 31.78125 34.625 \r\nQ 24.75 34.625 20.71875 30.859375 \r\nQ 16.703125 27.09375 16.703125 20.515625 \r\nQ 16.703125 13.921875 20.71875 10.15625 \r\nQ 24.75 6.390625 31.78125 6.390625 \r\nQ 38.8125 6.390625 42.859375 10.171875 \r\nQ 46.921875 13.96875 46.921875 20.515625 \r\nQ 46.921875 27.09375 42.890625 30.859375 \r\nQ 38.875 34.625 31.78125 34.625 \r\nz\r\nM 21.921875 38.8125 \r\nQ 15.578125 40.375 12.03125 44.71875 \r\nQ 8.5 49.078125 8.5 55.328125 \r\nQ 8.5 64.0625 14.71875 69.140625 \r\nQ 20.953125 74.21875 31.78125 74.21875 \r\nQ 42.671875 74.21875 48.875 69.140625 \r\nQ 55.078125 64.0625 55.078125 55.328125 \r\nQ 55.078125 49.078125 51.53125 44.71875 \r\nQ 48 40.375 41.703125 38.8125 \r\nQ 48.828125 37.15625 52.796875 32.3125 \r\nQ 56.78125 27.484375 56.78125 20.515625 \r\nQ 56.78125 9.90625 50.3125 4.234375 \r\nQ 43.84375 -1.421875 31.78125 -1.421875 \r\nQ 19.734375 -1.421875 13.25 4.234375 \r\nQ 6.78125 9.90625 6.78125 20.515625 \r\nQ 6.78125 27.484375 10.78125 32.3125 \r\nQ 14.796875 37.15625 21.921875 38.8125 \r\nz\r\nM 18.3125 54.390625 \r\nQ 18.3125 48.734375 21.84375 45.5625 \r\nQ 25.390625 42.390625 31.78125 42.390625 \r\nQ 38.140625 42.390625 41.71875 45.5625 \r\nQ 45.3125 48.734375 45.3125 54.390625 \r\nQ 45.3125 60.0625 41.71875 63.234375 \r\nQ 38.140625 66.40625 31.78125 66.40625 \r\nQ 25.390625 66.40625 21.84375 63.234375 \r\nQ 18.3125 60.0625 18.3125 54.390625 \r\nz\r\n\" id=\"DejaVuSans-56\"/>\r\n     </defs>\r\n     <use xlink:href=\"#DejaVuSans-49\"/>\r\n     <use x=\"63.623047\" xlink:href=\"#DejaVuSans-46\"/>\r\n     <use x=\"95.410156\" xlink:href=\"#DejaVuSans-56\"/>\r\n    </g>\r\n   </g>\r\n   <g id=\"text_24\">\r\n    <!-- 12 -->\r\n    <g style=\"fill:#053061;\" transform=\"translate(348.213437 186.179375)scale(0.1 -0.1)\">\r\n     <use xlink:href=\"#DejaVuSans-49\"/>\r\n     <use x=\"63.623047\" xlink:href=\"#DejaVuSans-50\"/>\r\n    </g>\r\n   </g>\r\n   <g id=\"text_25\">\r\n    <!-- 5.5 -->\r\n    <g style=\"fill:#053061;\" transform=\"translate(428.464375 186.179375)scale(0.1 -0.1)\">\r\n     <use xlink:href=\"#DejaVuSans-53\"/>\r\n     <use x=\"63.623047\" xlink:href=\"#DejaVuSans-46\"/>\r\n     <use x=\"95.410156\" xlink:href=\"#DejaVuSans-53\"/>\r\n    </g>\r\n   </g>\r\n   <g id=\"text_26\">\r\n    <!-- 0.92 -->\r\n    <g style=\"fill:#053061;\" transform=\"translate(507.123125 186.179375)scale(0.1 -0.1)\">\r\n     <defs>\r\n      <path d=\"M 31.78125 66.40625 \r\nQ 24.171875 66.40625 20.328125 58.90625 \r\nQ 16.5 51.421875 16.5 36.375 \r\nQ 16.5 21.390625 20.328125 13.890625 \r\nQ 24.171875 6.390625 31.78125 6.390625 \r\nQ 39.453125 6.390625 43.28125 13.890625 \r\nQ 47.125 21.390625 47.125 36.375 \r\nQ 47.125 51.421875 43.28125 58.90625 \r\nQ 39.453125 66.40625 31.78125 66.40625 \r\nz\r\nM 31.78125 74.21875 \r\nQ 44.046875 74.21875 50.515625 64.515625 \r\nQ 56.984375 54.828125 56.984375 36.375 \r\nQ 56.984375 17.96875 50.515625 8.265625 \r\nQ 44.046875 -1.421875 31.78125 -1.421875 \r\nQ 19.53125 -1.421875 13.0625 8.265625 \r\nQ 6.59375 17.96875 6.59375 36.375 \r\nQ 6.59375 54.828125 13.0625 64.515625 \r\nQ 19.53125 74.21875 31.78125 74.21875 \r\nz\r\n\" id=\"DejaVuSans-48\"/>\r\n     </defs>\r\n     <use xlink:href=\"#DejaVuSans-48\"/>\r\n     <use x=\"63.623047\" xlink:href=\"#DejaVuSans-46\"/>\r\n     <use x=\"95.410156\" xlink:href=\"#DejaVuSans-57\"/>\r\n     <use x=\"159.033203\" xlink:href=\"#DejaVuSans-50\"/>\r\n    </g>\r\n   </g>\r\n   <g id=\"text_27\">\r\n    <!-- 6.7 -->\r\n    <g style=\"fill:#053061;\" transform=\"translate(101.104375 268.019375)scale(0.1 -0.1)\">\r\n     <use xlink:href=\"#DejaVuSans-54\"/>\r\n     <use x=\"63.623047\" xlink:href=\"#DejaVuSans-46\"/>\r\n     <use x=\"95.410156\" xlink:href=\"#DejaVuSans-55\"/>\r\n    </g>\r\n   </g>\r\n   <g id=\"text_28\">\r\n    <!-- 3.7 -->\r\n    <g style=\"fill:#053061;\" transform=\"translate(182.944375 268.019375)scale(0.1 -0.1)\">\r\n     <defs>\r\n      <path d=\"M 40.578125 39.3125 \r\nQ 47.65625 37.796875 51.625 33 \r\nQ 55.609375 28.21875 55.609375 21.1875 \r\nQ 55.609375 10.40625 48.1875 4.484375 \r\nQ 40.765625 -1.421875 27.09375 -1.421875 \r\nQ 22.515625 -1.421875 17.65625 -0.515625 \r\nQ 12.796875 0.390625 7.625 2.203125 \r\nL 7.625 11.71875 \r\nQ 11.71875 9.328125 16.59375 8.109375 \r\nQ 21.484375 6.890625 26.8125 6.890625 \r\nQ 36.078125 6.890625 40.9375 10.546875 \r\nQ 45.796875 14.203125 45.796875 21.1875 \r\nQ 45.796875 27.640625 41.28125 31.265625 \r\nQ 36.765625 34.90625 28.71875 34.90625 \r\nL 20.21875 34.90625 \r\nL 20.21875 43.015625 \r\nL 29.109375 43.015625 \r\nQ 36.375 43.015625 40.234375 45.921875 \r\nQ 44.09375 48.828125 44.09375 54.296875 \r\nQ 44.09375 59.90625 40.109375 62.90625 \r\nQ 36.140625 65.921875 28.71875 65.921875 \r\nQ 24.65625 65.921875 20.015625 65.03125 \r\nQ 15.375 64.15625 9.8125 62.3125 \r\nL 9.8125 71.09375 \r\nQ 15.4375 72.65625 20.34375 73.4375 \r\nQ 25.25 74.21875 29.59375 74.21875 \r\nQ 40.828125 74.21875 47.359375 69.109375 \r\nQ 53.90625 64.015625 53.90625 55.328125 \r\nQ 53.90625 49.265625 50.4375 45.09375 \r\nQ 46.96875 40.921875 40.578125 39.3125 \r\nz\r\n\" id=\"DejaVuSans-51\"/>\r\n     </defs>\r\n     <use xlink:href=\"#DejaVuSans-51\"/>\r\n     <use x=\"63.623047\" xlink:href=\"#DejaVuSans-46\"/>\r\n     <use x=\"95.410156\" xlink:href=\"#DejaVuSans-55\"/>\r\n    </g>\r\n   </g>\r\n   <g id=\"text_29\">\r\n    <!-- 56 -->\r\n    <g style=\"fill:#67001f;\" transform=\"translate(266.373438 268.019375)scale(0.1 -0.1)\">\r\n     <use xlink:href=\"#DejaVuSans-53\"/>\r\n     <use x=\"63.623047\" xlink:href=\"#DejaVuSans-54\"/>\r\n    </g>\r\n   </g>\r\n   <g id=\"text_30\">\r\n    <!-- 16 -->\r\n    <g style=\"fill:#053061;\" transform=\"translate(348.213437 268.019375)scale(0.1 -0.1)\">\r\n     <use xlink:href=\"#DejaVuSans-49\"/>\r\n     <use x=\"63.623047\" xlink:href=\"#DejaVuSans-54\"/>\r\n    </g>\r\n   </g>\r\n   <g id=\"text_31\">\r\n    <!-- 15 -->\r\n    <g style=\"fill:#053061;\" transform=\"translate(430.053438 268.019375)scale(0.1 -0.1)\">\r\n     <use xlink:href=\"#DejaVuSans-49\"/>\r\n     <use x=\"63.623047\" xlink:href=\"#DejaVuSans-53\"/>\r\n    </g>\r\n   </g>\r\n   <g id=\"text_32\">\r\n    <!-- 1.8 -->\r\n    <g style=\"fill:#053061;\" transform=\"translate(510.304375 268.019375)scale(0.1 -0.1)\">\r\n     <use xlink:href=\"#DejaVuSans-49\"/>\r\n     <use x=\"63.623047\" xlink:href=\"#DejaVuSans-46\"/>\r\n     <use x=\"95.410156\" xlink:href=\"#DejaVuSans-56\"/>\r\n    </g>\r\n   </g>\r\n   <g id=\"text_33\">\r\n    <!-- 5.1 -->\r\n    <g style=\"fill:#053061;\" transform=\"translate(101.104375 349.859375)scale(0.1 -0.1)\">\r\n     <use xlink:href=\"#DejaVuSans-53\"/>\r\n     <use x=\"63.623047\" xlink:href=\"#DejaVuSans-46\"/>\r\n     <use x=\"95.410156\" xlink:href=\"#DejaVuSans-49\"/>\r\n    </g>\r\n   </g>\r\n   <g id=\"text_34\">\r\n    <!-- 2.4 -->\r\n    <g style=\"fill:#053061;\" transform=\"translate(182.944375 349.859375)scale(0.1 -0.1)\">\r\n     <use xlink:href=\"#DejaVuSans-50\"/>\r\n     <use x=\"63.623047\" xlink:href=\"#DejaVuSans-46\"/>\r\n     <use x=\"95.410156\" xlink:href=\"#DejaVuSans-52\"/>\r\n    </g>\r\n   </g>\r\n   <g id=\"text_35\">\r\n    <!-- 3.6 -->\r\n    <g style=\"fill:#053061;\" transform=\"translate(264.784375 349.859375)scale(0.1 -0.1)\">\r\n     <use xlink:href=\"#DejaVuSans-51\"/>\r\n     <use x=\"63.623047\" xlink:href=\"#DejaVuSans-46\"/>\r\n     <use x=\"95.410156\" xlink:href=\"#DejaVuSans-54\"/>\r\n    </g>\r\n   </g>\r\n   <g id=\"text_36\">\r\n    <!-- 75 -->\r\n    <g style=\"fill:#67001f;\" transform=\"translate(348.213437 349.859375)scale(0.1 -0.1)\">\r\n     <use xlink:href=\"#DejaVuSans-55\"/>\r\n     <use x=\"63.623047\" xlink:href=\"#DejaVuSans-53\"/>\r\n    </g>\r\n   </g>\r\n   <g id=\"text_37\">\r\n    <!-- 12 -->\r\n    <g style=\"fill:#053061;\" transform=\"translate(430.053438 349.859375)scale(0.1 -0.1)\">\r\n     <use xlink:href=\"#DejaVuSans-49\"/>\r\n     <use x=\"63.623047\" xlink:href=\"#DejaVuSans-50\"/>\r\n    </g>\r\n   </g>\r\n   <g id=\"text_38\">\r\n    <!-- 1.9 -->\r\n    <g style=\"fill:#053061;\" transform=\"translate(510.304375 349.859375)scale(0.1 -0.1)\">\r\n     <use xlink:href=\"#DejaVuSans-49\"/>\r\n     <use x=\"63.623047\" xlink:href=\"#DejaVuSans-46\"/>\r\n     <use x=\"95.410156\" xlink:href=\"#DejaVuSans-57\"/>\r\n    </g>\r\n   </g>\r\n   <g id=\"text_39\">\r\n    <!-- 7.5 -->\r\n    <g style=\"fill:#053061;\" transform=\"translate(101.104375 431.699375)scale(0.1 -0.1)\">\r\n     <use xlink:href=\"#DejaVuSans-55\"/>\r\n     <use x=\"63.623047\" xlink:href=\"#DejaVuSans-46\"/>\r\n     <use x=\"95.410156\" xlink:href=\"#DejaVuSans-53\"/>\r\n    </g>\r\n   </g>\r\n   <g id=\"text_40\">\r\n    <!-- 1.7 -->\r\n    <g style=\"fill:#053061;\" transform=\"translate(182.944375 431.699375)scale(0.1 -0.1)\">\r\n     <use xlink:href=\"#DejaVuSans-49\"/>\r\n     <use x=\"63.623047\" xlink:href=\"#DejaVuSans-46\"/>\r\n     <use x=\"95.410156\" xlink:href=\"#DejaVuSans-55\"/>\r\n    </g>\r\n   </g>\r\n   <g id=\"text_41\">\r\n    <!-- 4.9 -->\r\n    <g style=\"fill:#053061;\" transform=\"translate(264.784375 431.699375)scale(0.1 -0.1)\">\r\n     <use xlink:href=\"#DejaVuSans-52\"/>\r\n     <use x=\"63.623047\" xlink:href=\"#DejaVuSans-46\"/>\r\n     <use x=\"95.410156\" xlink:href=\"#DejaVuSans-57\"/>\r\n    </g>\r\n   </g>\r\n   <g id=\"text_42\">\r\n    <!-- 16 -->\r\n    <g style=\"fill:#053061;\" transform=\"translate(348.213437 431.699375)scale(0.1 -0.1)\">\r\n     <use xlink:href=\"#DejaVuSans-49\"/>\r\n     <use x=\"63.623047\" xlink:href=\"#DejaVuSans-54\"/>\r\n    </g>\r\n   </g>\r\n   <g id=\"text_43\">\r\n    <!-- 66 -->\r\n    <g style=\"fill:#67001f;\" transform=\"translate(430.053438 431.699375)scale(0.1 -0.1)\">\r\n     <use xlink:href=\"#DejaVuSans-54\"/>\r\n     <use x=\"63.623047\" xlink:href=\"#DejaVuSans-54\"/>\r\n    </g>\r\n   </g>\r\n   <g id=\"text_44\">\r\n    <!-- 4 -->\r\n    <g style=\"fill:#053061;\" transform=\"translate(515.074688 431.699375)scale(0.1 -0.1)\">\r\n     <use xlink:href=\"#DejaVuSans-52\"/>\r\n    </g>\r\n   </g>\r\n   <g id=\"text_45\">\r\n    <!-- 0 -->\r\n    <g style=\"fill:#053061;\" transform=\"translate(105.874688 513.539375)scale(0.1 -0.1)\">\r\n     <use xlink:href=\"#DejaVuSans-48\"/>\r\n    </g>\r\n   </g>\r\n   <g id=\"text_46\">\r\n    <!-- 3.8 -->\r\n    <g style=\"fill:#053061;\" transform=\"translate(182.944375 513.539375)scale(0.1 -0.1)\">\r\n     <use xlink:href=\"#DejaVuSans-51\"/>\r\n     <use x=\"63.623047\" xlink:href=\"#DejaVuSans-46\"/>\r\n     <use x=\"95.410156\" xlink:href=\"#DejaVuSans-56\"/>\r\n    </g>\r\n   </g>\r\n   <g id=\"text_47\">\r\n    <!-- 1.9 -->\r\n    <g style=\"fill:#053061;\" transform=\"translate(264.784375 513.539375)scale(0.1 -0.1)\">\r\n     <use xlink:href=\"#DejaVuSans-49\"/>\r\n     <use x=\"63.623047\" xlink:href=\"#DejaVuSans-46\"/>\r\n     <use x=\"95.410156\" xlink:href=\"#DejaVuSans-57\"/>\r\n    </g>\r\n   </g>\r\n   <g id=\"text_48\">\r\n    <!-- 19 -->\r\n    <g style=\"fill:#053061;\" transform=\"translate(348.213437 513.539375)scale(0.1 -0.1)\">\r\n     <use xlink:href=\"#DejaVuSans-49\"/>\r\n     <use x=\"63.623047\" xlink:href=\"#DejaVuSans-57\"/>\r\n    </g>\r\n   </g>\r\n   <g id=\"text_49\">\r\n    <!-- 13 -->\r\n    <g style=\"fill:#053061;\" transform=\"translate(430.053438 513.539375)scale(0.1 -0.1)\">\r\n     <use xlink:href=\"#DejaVuSans-49\"/>\r\n     <use x=\"63.623047\" xlink:href=\"#DejaVuSans-51\"/>\r\n    </g>\r\n   </g>\r\n   <g id=\"text_50\">\r\n    <!-- 62 -->\r\n    <g style=\"fill:#67001f;\" transform=\"translate(511.893438 513.539375)scale(0.1 -0.1)\">\r\n     <use xlink:href=\"#DejaVuSans-54\"/>\r\n     <use x=\"63.623047\" xlink:href=\"#DejaVuSans-50\"/>\r\n    </g>\r\n   </g>\r\n  </g>\r\n  <g id=\"axes_2\">\r\n   <g id=\"patch_7\">\r\n    <path clip-path=\"url(#p86218fbe2b)\" d=\"M 589.865938 605.16 \r\nL 589.865938 602.824219 \r\nL 589.865938 9.535781 \r\nL 589.865938 7.2 \r\nL 619.763937 7.2 \r\nL 619.763937 9.535781 \r\nL 619.763937 602.824219 \r\nL 619.763937 605.16 \r\nz\r\n\" style=\"fill:#ffffff;stroke:#ffffff;stroke-linejoin:miter;stroke-width:0.01;\"/>\r\n   </g>\r\n   <image height=\"598\" id=\"image51db3d6826\" transform=\"scale(1 -1)translate(0 -598)\" width=\"30\" x=\"590\" xlink:href=\"data:image/png;base64,\r\niVBORw0KGgoAAAANSUhEUgAAAB4AAAJWCAYAAABPpDeKAAAC60lEQVR4nO2cwXGEQBDEFtg8HJ7z/xtwFpoqJCUw1bvdzXC+8/G7ft41wDkxdK219nXMDJ5UPCN5THHmwvCZy3fHmQvDZy7fHc8d9dTkzIXhK5DMheEzl++OMxeGz1y+O+6oMYoThjJOmYuhO/7+4MyFMfhxk03x3FEfQ3kaNJdO8XHNzC5OGMUJYx9ncWIwmkuouDgxGON02hSfxQlC2dU2xcWJwmgu3dOpZY/CuOwJFRcnBmOcdE+nlj2KuhqjD8q/P9jXXMY42RTXXBj7uK6RwcXp+4P3KYxTihmEcTI+nVLMIIyT8N2pAoEQxkl31MI4nba3xeKEYVRsK5DMhWFUXJwg9nHKFoG9hIqLE4PwrzDGOMkUtwhg+MzlU1ycMHzm8ilu2cPwvUkUJwzlRxG2OOnuuObCMMbJtoEUJwyhYt37cebC2OvIXAy+o96vTrHujieP2vZTb9+bhK5Aai6MFGMI46RrLp+5fBtI5sIwFohtvS1OGCnGEMZJ2NVCxS17DEJzVSAUwji9tuba7zszeE7xMyTZGKehwZPmmhk8WSDFicForqHB3fH3B/uaaz9Dg1tvvz/Y11wVCIYwTrrm8r2Y+9bbnk4YxgJZsgLJXBgVCIYwTrrm8pnLt97OHfU99J6auTD2bVOcuTAqEAxhnHTNJXx3uockC+Oka6596+Kku+OaC8NnLl+BZC6M/egKpDhRCOMkfFu0FUjNhVGBYBjjZGuuFGMUJ4wUY/gUd9QYKcYoThhziv90inV33FFj+F7MfXfcUWMoFc98TbE4YaQYw7feZi6MFGMUJ4wUY+zXprgvoGAI/5NRcaIwxkn380FdgRQnDF9X+xT3hVAMn7l8ins6YfhWH996W5wwfF3tU9yyh+Ezl09xTycM5bInU1ycMPb73CODU/z9wb6j3u+tU2y7444aI8UYxQljcr2VKc5cGEbFtmUvc2GkGEMZJ9nvFn3m8ilur8bwrT7FCcN31CnG8MXpH0wxak794XJPAAAAAElFTkSuQmCC\" y=\"-7\"/>\r\n   <g id=\"matplotlib.axis_3\"/>\r\n   <g id=\"matplotlib.axis_4\">\r\n    <g id=\"ytick_7\">\r\n     <g id=\"line2d_13\">\r\n      <defs>\r\n       <path d=\"M 0 0 \r\nL 3.5 0 \r\n\" id=\"m544100a17b\" style=\"stroke:#000000;stroke-width:0.8;\"/>\r\n      </defs>\r\n      <g>\r\n       <use style=\"stroke:#000000;stroke-width:0.8;\" x=\"619.763937\" xlink:href=\"#m544100a17b\" y=\"605.16\"/>\r\n      </g>\r\n     </g>\r\n     <g id=\"text_51\">\r\n      <!-- 0 -->\r\n      <g transform=\"translate(626.763937 608.959219)scale(0.1 -0.1)\">\r\n       <use xlink:href=\"#DejaVuSans-48\"/>\r\n      </g>\r\n     </g>\r\n    </g>\r\n    <g id=\"ytick_8\">\r\n     <g id=\"line2d_14\">\r\n      <g>\r\n       <use style=\"stroke:#000000;stroke-width:0.8;\" x=\"619.763937\" xlink:href=\"#m544100a17b\" y=\"524.979\"/>\r\n      </g>\r\n     </g>\r\n     <g id=\"text_52\">\r\n      <!-- 10 -->\r\n      <g transform=\"translate(626.763937 528.778219)scale(0.1 -0.1)\">\r\n       <use xlink:href=\"#DejaVuSans-49\"/>\r\n       <use x=\"63.623047\" xlink:href=\"#DejaVuSans-48\"/>\r\n      </g>\r\n     </g>\r\n    </g>\r\n    <g id=\"ytick_9\">\r\n     <g id=\"line2d_15\">\r\n      <g>\r\n       <use style=\"stroke:#000000;stroke-width:0.8;\" x=\"619.763937\" xlink:href=\"#m544100a17b\" y=\"444.798\"/>\r\n      </g>\r\n     </g>\r\n     <g id=\"text_53\">\r\n      <!-- 20 -->\r\n      <g transform=\"translate(626.763937 448.597219)scale(0.1 -0.1)\">\r\n       <use xlink:href=\"#DejaVuSans-50\"/>\r\n       <use x=\"63.623047\" xlink:href=\"#DejaVuSans-48\"/>\r\n      </g>\r\n     </g>\r\n    </g>\r\n    <g id=\"ytick_10\">\r\n     <g id=\"line2d_16\">\r\n      <g>\r\n       <use style=\"stroke:#000000;stroke-width:0.8;\" x=\"619.763937\" xlink:href=\"#m544100a17b\" y=\"364.617\"/>\r\n      </g>\r\n     </g>\r\n     <g id=\"text_54\">\r\n      <!-- 30 -->\r\n      <g transform=\"translate(626.763937 368.416219)scale(0.1 -0.1)\">\r\n       <use xlink:href=\"#DejaVuSans-51\"/>\r\n       <use x=\"63.623047\" xlink:href=\"#DejaVuSans-48\"/>\r\n      </g>\r\n     </g>\r\n    </g>\r\n    <g id=\"ytick_11\">\r\n     <g id=\"line2d_17\">\r\n      <g>\r\n       <use style=\"stroke:#000000;stroke-width:0.8;\" x=\"619.763937\" xlink:href=\"#m544100a17b\" y=\"284.436\"/>\r\n      </g>\r\n     </g>\r\n     <g id=\"text_55\">\r\n      <!-- 40 -->\r\n      <g transform=\"translate(626.763937 288.235219)scale(0.1 -0.1)\">\r\n       <use xlink:href=\"#DejaVuSans-52\"/>\r\n       <use x=\"63.623047\" xlink:href=\"#DejaVuSans-48\"/>\r\n      </g>\r\n     </g>\r\n    </g>\r\n    <g id=\"ytick_12\">\r\n     <g id=\"line2d_18\">\r\n      <g>\r\n       <use style=\"stroke:#000000;stroke-width:0.8;\" x=\"619.763937\" xlink:href=\"#m544100a17b\" y=\"204.255\"/>\r\n      </g>\r\n     </g>\r\n     <g id=\"text_56\">\r\n      <!-- 50 -->\r\n      <g transform=\"translate(626.763937 208.054219)scale(0.1 -0.1)\">\r\n       <use xlink:href=\"#DejaVuSans-53\"/>\r\n       <use x=\"63.623047\" xlink:href=\"#DejaVuSans-48\"/>\r\n      </g>\r\n     </g>\r\n    </g>\r\n    <g id=\"ytick_13\">\r\n     <g id=\"line2d_19\">\r\n      <g>\r\n       <use style=\"stroke:#000000;stroke-width:0.8;\" x=\"619.763937\" xlink:href=\"#m544100a17b\" y=\"124.074\"/>\r\n      </g>\r\n     </g>\r\n     <g id=\"text_57\">\r\n      <!-- 60 -->\r\n      <g transform=\"translate(626.763937 127.873219)scale(0.1 -0.1)\">\r\n       <use xlink:href=\"#DejaVuSans-54\"/>\r\n       <use x=\"63.623047\" xlink:href=\"#DejaVuSans-48\"/>\r\n      </g>\r\n     </g>\r\n    </g>\r\n    <g id=\"ytick_14\">\r\n     <g id=\"line2d_20\">\r\n      <g>\r\n       <use style=\"stroke:#000000;stroke-width:0.8;\" x=\"619.763937\" xlink:href=\"#m544100a17b\" y=\"43.893\"/>\r\n      </g>\r\n     </g>\r\n     <g id=\"text_58\">\r\n      <!-- 70 -->\r\n      <g transform=\"translate(626.763937 47.692219)scale(0.1 -0.1)\">\r\n       <use xlink:href=\"#DejaVuSans-55\"/>\r\n       <use x=\"63.623047\" xlink:href=\"#DejaVuSans-48\"/>\r\n      </g>\r\n     </g>\r\n    </g>\r\n   </g>\r\n   <g id=\"patch_8\">\r\n    <path d=\"M 589.865938 605.16 \r\nL 589.865938 602.824219 \r\nL 589.865938 9.535781 \r\nL 589.865938 7.2 \r\nL 619.763937 7.2 \r\nL 619.763937 9.535781 \r\nL 619.763937 602.824219 \r\nL 619.763937 605.16 \r\nz\r\n\" style=\"fill:none;stroke:#000000;stroke-linejoin:miter;stroke-width:0.8;\"/>\r\n   </g>\r\n  </g>\r\n </g>\r\n <defs>\r\n  <clipPath id=\"p3bc5c0fd47\">\r\n   <rect height=\"491.04\" width=\"491.04\" x=\"68.135938\" y=\"60.66\"/>\r\n  </clipPath>\r\n  <clipPath id=\"p86218fbe2b\">\r\n   <rect height=\"597.96\" width=\"29.898\" x=\"589.865938\" y=\"7.2\"/>\r\n  </clipPath>\r\n </defs>\r\n</svg>\r\n",
      "image/png": "[encoded data removed]"
     },
     "metadata": {
      "needs_background": "light"
     }
    }
   ],
   "source": [
    "# sns.set(font_scale=1.5)\n",
    "fig, ax = plt.subplots(1,1,figsize=(11,11))\n",
    "\n",
    "cat_dict = dict( enumerate(dataset['Feeling'].cat.categories ) )\n",
    "\n",
    "y_pred_cats = [cat_dict[i] for i in y_pred.numpy().tolist()]\n",
    "y_true_cats = [cat_dict[i] for i in y_true.numpy().tolist()]\n",
    "\n",
    "matriz_de_confusao = 100*confusion_matrix(y_pred_cats, y_true_cats, normalize='true', labels=list(cat_dict.values()))\n",
    "# normalize{‘true’, ‘pred’, ‘all’}, default=None\n",
    "# Normalizes confusion matrix over the true (rows), predicted (columns) conditions or all the population. If None, confusion matrix will not be normalized.\n",
    "\n",
    "#criando list com as emoções\n",
    "emotion_class = ['Angry','Disgust','Fear','Happy','Sad','Surprise']\n",
    "\n",
    "df_matriz_de_confusao = pd.DataFrame(matriz_de_confusao, emotion_class, emotion_class)\n",
    "\n",
    "cfm = ConfusionMatrixDisplay(matriz_de_confusao)\n",
    "\n",
    "cfm.plot(ax=ax, cmap='RdBu')\n",
    "\n",
    "ax.set_xticklabels(labels=list(cat_dict.values()))\n",
    "ax.set_yticklabels(labels=list(cat_dict.values()))\n",
    "\n",
    "ax.grid(False)"
   ]
  },
  {
   "cell_type": "code",
   "execution_count": 108,
   "metadata": {},
   "outputs": [
    {
     "output_type": "execute_result",
     "data": {
      "text/plain": [
       "array([[62.5       ,  4.6875    ,  7.421875  ,  9.375     , 14.84375   ,\n",
       "         1.171875  ],\n",
       "       [ 9.17431193, 70.64220183,  1.83486239, 11.9266055 ,  5.50458716,\n",
       "         0.91743119],\n",
       "       [ 6.74846626,  3.6809816 , 56.44171779, 15.95092025, 15.33742331,\n",
       "         1.8404908 ],\n",
       "       [ 5.08474576,  2.42130751,  3.63196126, 74.57627119, 12.34866828,\n",
       "         1.937046  ],\n",
       "       [ 7.53768844,  1.67504188,  4.85762144, 16.2479062 , 65.66164154,\n",
       "         4.0201005 ],\n",
       "       [ 0.        ,  3.77358491,  1.88679245, 18.86792453, 13.20754717,\n",
       "        62.26415094]])"
      ]
     },
     "metadata": {},
     "execution_count": 108
    }
   ],
   "source": [
    "matriz_de_confusao"
   ]
  },
  {
   "cell_type": "code",
   "execution_count": 108,
   "metadata": {},
   "outputs": [],
   "source": [
    "\n"
   ]
  },
  {
   "source": [
    "### Gráfico de *loss* e *accuracy*"
   ],
   "cell_type": "markdown",
   "metadata": {}
  },
  {
   "cell_type": "code",
   "execution_count": 109,
   "metadata": {},
   "outputs": [
    {
     "output_type": "display_data",
     "data": {
      "text/plain": "<Figure size 1152x432 with 2 Axes>",
      "image/svg+xml": "<?xml version=\"1.0\" encoding=\"utf-8\" standalone=\"no\"?>\r\n<!DOCTYPE svg PUBLIC \"-//W3C//DTD SVG 1.1//EN\"\r\n  \"http://www.w3.org/Graphics/SVG/1.1/DTD/svg11.dtd\">\r\n<!-- Created with matplotlib (https://matplotlib.org/) -->\r\n<svg height=\"414.11625pt\" version=\"1.1\" viewBox=\"0 0 943.78125 414.11625\" width=\"943.78125pt\" xmlns=\"http://www.w3.org/2000/svg\" xmlns:xlink=\"http://www.w3.org/1999/xlink\">\r\n <metadata>\r\n  <rdf:RDF xmlns:cc=\"http://creativecommons.org/ns#\" xmlns:dc=\"http://purl.org/dc/elements/1.1/\" xmlns:rdf=\"http://www.w3.org/1999/02/22-rdf-syntax-ns#\">\r\n   <cc:Work>\r\n    <dc:type rdf:resource=\"http://purl.org/dc/dcmitype/StillImage\"/>\r\n    <dc:date>2021-04-16T09:53:51.146160</dc:date>\r\n    <dc:format>image/svg+xml</dc:format>\r\n    <dc:creator>\r\n     <cc:Agent>\r\n      <dc:title>Matplotlib v3.3.2, https://matplotlib.org/</dc:title>\r\n     </cc:Agent>\r\n    </dc:creator>\r\n   </cc:Work>\r\n  </rdf:RDF>\r\n </metadata>\r\n <defs>\r\n  <style type=\"text/css\">*{stroke-linecap:butt;stroke-linejoin:round;}</style>\r\n </defs>\r\n <g id=\"figure_1\">\r\n  <g id=\"patch_1\">\r\n   <path d=\"M 0 414.11625 \r\nL 943.78125 414.11625 \r\nL 943.78125 0 \r\nL 0 0 \r\nz\r\n\" style=\"fill:none;\"/>\r\n  </g>\r\n  <g id=\"axes_1\">\r\n   <g id=\"patch_2\">\r\n    <path d=\"M 43.78125 376.56 \r\nL 449.599432 376.56 \r\nL 449.599432 50.4 \r\nL 43.78125 50.4 \r\nz\r\n\" style=\"fill:#ffffff;\"/>\r\n   </g>\r\n   <g id=\"matplotlib.axis_1\">\r\n    <g id=\"xtick_1\">\r\n     <g id=\"line2d_1\">\r\n      <defs>\r\n       <path d=\"M 0 0 \r\nL 0 3.5 \r\n\" id=\"m145a0dd835\" style=\"stroke:#000000;stroke-width:0.8;\"/>\r\n      </defs>\r\n      <g>\r\n       <use style=\"stroke:#000000;stroke-width:0.8;\" x=\"62.227531\" xlink:href=\"#m145a0dd835\" y=\"376.56\"/>\r\n      </g>\r\n     </g>\r\n     <g id=\"text_1\">\r\n      <!-- 0 -->\r\n      <g transform=\"translate(59.046281 391.158437)scale(0.1 -0.1)\">\r\n       <defs>\r\n        <path d=\"M 31.78125 66.40625 \r\nQ 24.171875 66.40625 20.328125 58.90625 \r\nQ 16.5 51.421875 16.5 36.375 \r\nQ 16.5 21.390625 20.328125 13.890625 \r\nQ 24.171875 6.390625 31.78125 6.390625 \r\nQ 39.453125 6.390625 43.28125 13.890625 \r\nQ 47.125 21.390625 47.125 36.375 \r\nQ 47.125 51.421875 43.28125 58.90625 \r\nQ 39.453125 66.40625 31.78125 66.40625 \r\nz\r\nM 31.78125 74.21875 \r\nQ 44.046875 74.21875 50.515625 64.515625 \r\nQ 56.984375 54.828125 56.984375 36.375 \r\nQ 56.984375 17.96875 50.515625 8.265625 \r\nQ 44.046875 -1.421875 31.78125 -1.421875 \r\nQ 19.53125 -1.421875 13.0625 8.265625 \r\nQ 6.59375 17.96875 6.59375 36.375 \r\nQ 6.59375 54.828125 13.0625 64.515625 \r\nQ 19.53125 74.21875 31.78125 74.21875 \r\nz\r\n\" id=\"DejaVuSans-48\"/>\r\n       </defs>\r\n       <use xlink:href=\"#DejaVuSans-48\"/>\r\n      </g>\r\n     </g>\r\n    </g>\r\n    <g id=\"xtick_2\">\r\n     <g id=\"line2d_2\">\r\n      <g>\r\n       <use style=\"stroke:#000000;stroke-width:0.8;\" x=\"136.027415\" xlink:href=\"#m145a0dd835\" y=\"376.56\"/>\r\n      </g>\r\n     </g>\r\n     <g id=\"text_2\">\r\n      <!-- 1000 -->\r\n      <g transform=\"translate(123.302415 391.158437)scale(0.1 -0.1)\">\r\n       <defs>\r\n        <path d=\"M 12.40625 8.296875 \r\nL 28.515625 8.296875 \r\nL 28.515625 63.921875 \r\nL 10.984375 60.40625 \r\nL 10.984375 69.390625 \r\nL 28.421875 72.90625 \r\nL 38.28125 72.90625 \r\nL 38.28125 8.296875 \r\nL 54.390625 8.296875 \r\nL 54.390625 0 \r\nL 12.40625 0 \r\nz\r\n\" id=\"DejaVuSans-49\"/>\r\n       </defs>\r\n       <use xlink:href=\"#DejaVuSans-49\"/>\r\n       <use x=\"63.623047\" xlink:href=\"#DejaVuSans-48\"/>\r\n       <use x=\"127.246094\" xlink:href=\"#DejaVuSans-48\"/>\r\n       <use x=\"190.869141\" xlink:href=\"#DejaVuSans-48\"/>\r\n      </g>\r\n     </g>\r\n    </g>\r\n    <g id=\"xtick_3\">\r\n     <g id=\"line2d_3\">\r\n      <g>\r\n       <use style=\"stroke:#000000;stroke-width:0.8;\" x=\"209.827299\" xlink:href=\"#m145a0dd835\" y=\"376.56\"/>\r\n      </g>\r\n     </g>\r\n     <g id=\"text_3\">\r\n      <!-- 2000 -->\r\n      <g transform=\"translate(197.102299 391.158437)scale(0.1 -0.1)\">\r\n       <defs>\r\n        <path d=\"M 19.1875 8.296875 \r\nL 53.609375 8.296875 \r\nL 53.609375 0 \r\nL 7.328125 0 \r\nL 7.328125 8.296875 \r\nQ 12.9375 14.109375 22.625 23.890625 \r\nQ 32.328125 33.6875 34.8125 36.53125 \r\nQ 39.546875 41.84375 41.421875 45.53125 \r\nQ 43.3125 49.21875 43.3125 52.78125 \r\nQ 43.3125 58.59375 39.234375 62.25 \r\nQ 35.15625 65.921875 28.609375 65.921875 \r\nQ 23.96875 65.921875 18.8125 64.3125 \r\nQ 13.671875 62.703125 7.8125 59.421875 \r\nL 7.8125 69.390625 \r\nQ 13.765625 71.78125 18.9375 73 \r\nQ 24.125 74.21875 28.421875 74.21875 \r\nQ 39.75 74.21875 46.484375 68.546875 \r\nQ 53.21875 62.890625 53.21875 53.421875 \r\nQ 53.21875 48.921875 51.53125 44.890625 \r\nQ 49.859375 40.875 45.40625 35.40625 \r\nQ 44.1875 33.984375 37.640625 27.21875 \r\nQ 31.109375 20.453125 19.1875 8.296875 \r\nz\r\n\" id=\"DejaVuSans-50\"/>\r\n       </defs>\r\n       <use xlink:href=\"#DejaVuSans-50\"/>\r\n       <use x=\"63.623047\" xlink:href=\"#DejaVuSans-48\"/>\r\n       <use x=\"127.246094\" xlink:href=\"#DejaVuSans-48\"/>\r\n       <use x=\"190.869141\" xlink:href=\"#DejaVuSans-48\"/>\r\n      </g>\r\n     </g>\r\n    </g>\r\n    <g id=\"xtick_4\">\r\n     <g id=\"line2d_4\">\r\n      <g>\r\n       <use style=\"stroke:#000000;stroke-width:0.8;\" x=\"283.627183\" xlink:href=\"#m145a0dd835\" y=\"376.56\"/>\r\n      </g>\r\n     </g>\r\n     <g id=\"text_4\">\r\n      <!-- 3000 -->\r\n      <g transform=\"translate(270.902183 391.158437)scale(0.1 -0.1)\">\r\n       <defs>\r\n        <path d=\"M 40.578125 39.3125 \r\nQ 47.65625 37.796875 51.625 33 \r\nQ 55.609375 28.21875 55.609375 21.1875 \r\nQ 55.609375 10.40625 48.1875 4.484375 \r\nQ 40.765625 -1.421875 27.09375 -1.421875 \r\nQ 22.515625 -1.421875 17.65625 -0.515625 \r\nQ 12.796875 0.390625 7.625 2.203125 \r\nL 7.625 11.71875 \r\nQ 11.71875 9.328125 16.59375 8.109375 \r\nQ 21.484375 6.890625 26.8125 6.890625 \r\nQ 36.078125 6.890625 40.9375 10.546875 \r\nQ 45.796875 14.203125 45.796875 21.1875 \r\nQ 45.796875 27.640625 41.28125 31.265625 \r\nQ 36.765625 34.90625 28.71875 34.90625 \r\nL 20.21875 34.90625 \r\nL 20.21875 43.015625 \r\nL 29.109375 43.015625 \r\nQ 36.375 43.015625 40.234375 45.921875 \r\nQ 44.09375 48.828125 44.09375 54.296875 \r\nQ 44.09375 59.90625 40.109375 62.90625 \r\nQ 36.140625 65.921875 28.71875 65.921875 \r\nQ 24.65625 65.921875 20.015625 65.03125 \r\nQ 15.375 64.15625 9.8125 62.3125 \r\nL 9.8125 71.09375 \r\nQ 15.4375 72.65625 20.34375 73.4375 \r\nQ 25.25 74.21875 29.59375 74.21875 \r\nQ 40.828125 74.21875 47.359375 69.109375 \r\nQ 53.90625 64.015625 53.90625 55.328125 \r\nQ 53.90625 49.265625 50.4375 45.09375 \r\nQ 46.96875 40.921875 40.578125 39.3125 \r\nz\r\n\" id=\"DejaVuSans-51\"/>\r\n       </defs>\r\n       <use xlink:href=\"#DejaVuSans-51\"/>\r\n       <use x=\"63.623047\" xlink:href=\"#DejaVuSans-48\"/>\r\n       <use x=\"127.246094\" xlink:href=\"#DejaVuSans-48\"/>\r\n       <use x=\"190.869141\" xlink:href=\"#DejaVuSans-48\"/>\r\n      </g>\r\n     </g>\r\n    </g>\r\n    <g id=\"xtick_5\">\r\n     <g id=\"line2d_5\">\r\n      <g>\r\n       <use style=\"stroke:#000000;stroke-width:0.8;\" x=\"357.427067\" xlink:href=\"#m145a0dd835\" y=\"376.56\"/>\r\n      </g>\r\n     </g>\r\n     <g id=\"text_5\">\r\n      <!-- 4000 -->\r\n      <g transform=\"translate(344.702067 391.158437)scale(0.1 -0.1)\">\r\n       <defs>\r\n        <path d=\"M 37.796875 64.3125 \r\nL 12.890625 25.390625 \r\nL 37.796875 25.390625 \r\nz\r\nM 35.203125 72.90625 \r\nL 47.609375 72.90625 \r\nL 47.609375 25.390625 \r\nL 58.015625 25.390625 \r\nL 58.015625 17.1875 \r\nL 47.609375 17.1875 \r\nL 47.609375 0 \r\nL 37.796875 0 \r\nL 37.796875 17.1875 \r\nL 4.890625 17.1875 \r\nL 4.890625 26.703125 \r\nz\r\n\" id=\"DejaVuSans-52\"/>\r\n       </defs>\r\n       <use xlink:href=\"#DejaVuSans-52\"/>\r\n       <use x=\"63.623047\" xlink:href=\"#DejaVuSans-48\"/>\r\n       <use x=\"127.246094\" xlink:href=\"#DejaVuSans-48\"/>\r\n       <use x=\"190.869141\" xlink:href=\"#DejaVuSans-48\"/>\r\n      </g>\r\n     </g>\r\n    </g>\r\n    <g id=\"xtick_6\">\r\n     <g id=\"line2d_6\">\r\n      <g>\r\n       <use style=\"stroke:#000000;stroke-width:0.8;\" x=\"431.226951\" xlink:href=\"#m145a0dd835\" y=\"376.56\"/>\r\n      </g>\r\n     </g>\r\n     <g id=\"text_6\">\r\n      <!-- 5000 -->\r\n      <g transform=\"translate(418.501951 391.158437)scale(0.1 -0.1)\">\r\n       <defs>\r\n        <path d=\"M 10.796875 72.90625 \r\nL 49.515625 72.90625 \r\nL 49.515625 64.59375 \r\nL 19.828125 64.59375 \r\nL 19.828125 46.734375 \r\nQ 21.96875 47.46875 24.109375 47.828125 \r\nQ 26.265625 48.1875 28.421875 48.1875 \r\nQ 40.625 48.1875 47.75 41.5 \r\nQ 54.890625 34.8125 54.890625 23.390625 \r\nQ 54.890625 11.625 47.5625 5.09375 \r\nQ 40.234375 -1.421875 26.90625 -1.421875 \r\nQ 22.3125 -1.421875 17.546875 -0.640625 \r\nQ 12.796875 0.140625 7.71875 1.703125 \r\nL 7.71875 11.625 \r\nQ 12.109375 9.234375 16.796875 8.0625 \r\nQ 21.484375 6.890625 26.703125 6.890625 \r\nQ 35.15625 6.890625 40.078125 11.328125 \r\nQ 45.015625 15.765625 45.015625 23.390625 \r\nQ 45.015625 31 40.078125 35.4375 \r\nQ 35.15625 39.890625 26.703125 39.890625 \r\nQ 22.75 39.890625 18.8125 39.015625 \r\nQ 14.890625 38.140625 10.796875 36.28125 \r\nz\r\n\" id=\"DejaVuSans-53\"/>\r\n       </defs>\r\n       <use xlink:href=\"#DejaVuSans-53\"/>\r\n       <use x=\"63.623047\" xlink:href=\"#DejaVuSans-48\"/>\r\n       <use x=\"127.246094\" xlink:href=\"#DejaVuSans-48\"/>\r\n       <use x=\"190.869141\" xlink:href=\"#DejaVuSans-48\"/>\r\n      </g>\r\n     </g>\r\n    </g>\r\n    <g id=\"text_7\">\r\n     <!-- epochs -->\r\n     <g transform=\"translate(228.857528 404.836562)scale(0.1 -0.1)\">\r\n      <defs>\r\n       <path d=\"M 56.203125 29.59375 \r\nL 56.203125 25.203125 \r\nL 14.890625 25.203125 \r\nQ 15.484375 15.921875 20.484375 11.0625 \r\nQ 25.484375 6.203125 34.421875 6.203125 \r\nQ 39.59375 6.203125 44.453125 7.46875 \r\nQ 49.3125 8.734375 54.109375 11.28125 \r\nL 54.109375 2.78125 \r\nQ 49.265625 0.734375 44.1875 -0.34375 \r\nQ 39.109375 -1.421875 33.890625 -1.421875 \r\nQ 20.796875 -1.421875 13.15625 6.1875 \r\nQ 5.515625 13.8125 5.515625 26.8125 \r\nQ 5.515625 40.234375 12.765625 48.109375 \r\nQ 20.015625 56 32.328125 56 \r\nQ 43.359375 56 49.78125 48.890625 \r\nQ 56.203125 41.796875 56.203125 29.59375 \r\nz\r\nM 47.21875 32.234375 \r\nQ 47.125 39.59375 43.09375 43.984375 \r\nQ 39.0625 48.390625 32.421875 48.390625 \r\nQ 24.90625 48.390625 20.390625 44.140625 \r\nQ 15.875 39.890625 15.1875 32.171875 \r\nz\r\n\" id=\"DejaVuSans-101\"/>\r\n       <path d=\"M 18.109375 8.203125 \r\nL 18.109375 -20.796875 \r\nL 9.078125 -20.796875 \r\nL 9.078125 54.6875 \r\nL 18.109375 54.6875 \r\nL 18.109375 46.390625 \r\nQ 20.953125 51.265625 25.265625 53.625 \r\nQ 29.59375 56 35.59375 56 \r\nQ 45.5625 56 51.78125 48.09375 \r\nQ 58.015625 40.1875 58.015625 27.296875 \r\nQ 58.015625 14.40625 51.78125 6.484375 \r\nQ 45.5625 -1.421875 35.59375 -1.421875 \r\nQ 29.59375 -1.421875 25.265625 0.953125 \r\nQ 20.953125 3.328125 18.109375 8.203125 \r\nz\r\nM 48.6875 27.296875 \r\nQ 48.6875 37.203125 44.609375 42.84375 \r\nQ 40.53125 48.484375 33.40625 48.484375 \r\nQ 26.265625 48.484375 22.1875 42.84375 \r\nQ 18.109375 37.203125 18.109375 27.296875 \r\nQ 18.109375 17.390625 22.1875 11.75 \r\nQ 26.265625 6.109375 33.40625 6.109375 \r\nQ 40.53125 6.109375 44.609375 11.75 \r\nQ 48.6875 17.390625 48.6875 27.296875 \r\nz\r\n\" id=\"DejaVuSans-112\"/>\r\n       <path d=\"M 30.609375 48.390625 \r\nQ 23.390625 48.390625 19.1875 42.75 \r\nQ 14.984375 37.109375 14.984375 27.296875 \r\nQ 14.984375 17.484375 19.15625 11.84375 \r\nQ 23.34375 6.203125 30.609375 6.203125 \r\nQ 37.796875 6.203125 41.984375 11.859375 \r\nQ 46.1875 17.53125 46.1875 27.296875 \r\nQ 46.1875 37.015625 41.984375 42.703125 \r\nQ 37.796875 48.390625 30.609375 48.390625 \r\nz\r\nM 30.609375 56 \r\nQ 42.328125 56 49.015625 48.375 \r\nQ 55.71875 40.765625 55.71875 27.296875 \r\nQ 55.71875 13.875 49.015625 6.21875 \r\nQ 42.328125 -1.421875 30.609375 -1.421875 \r\nQ 18.84375 -1.421875 12.171875 6.21875 \r\nQ 5.515625 13.875 5.515625 27.296875 \r\nQ 5.515625 40.765625 12.171875 48.375 \r\nQ 18.84375 56 30.609375 56 \r\nz\r\n\" id=\"DejaVuSans-111\"/>\r\n       <path d=\"M 48.78125 52.59375 \r\nL 48.78125 44.1875 \r\nQ 44.96875 46.296875 41.140625 47.34375 \r\nQ 37.3125 48.390625 33.40625 48.390625 \r\nQ 24.65625 48.390625 19.8125 42.84375 \r\nQ 14.984375 37.3125 14.984375 27.296875 \r\nQ 14.984375 17.28125 19.8125 11.734375 \r\nQ 24.65625 6.203125 33.40625 6.203125 \r\nQ 37.3125 6.203125 41.140625 7.25 \r\nQ 44.96875 8.296875 48.78125 10.40625 \r\nL 48.78125 2.09375 \r\nQ 45.015625 0.34375 40.984375 -0.53125 \r\nQ 36.96875 -1.421875 32.421875 -1.421875 \r\nQ 20.0625 -1.421875 12.78125 6.34375 \r\nQ 5.515625 14.109375 5.515625 27.296875 \r\nQ 5.515625 40.671875 12.859375 48.328125 \r\nQ 20.21875 56 33.015625 56 \r\nQ 37.15625 56 41.109375 55.140625 \r\nQ 45.0625 54.296875 48.78125 52.59375 \r\nz\r\n\" id=\"DejaVuSans-99\"/>\r\n       <path d=\"M 54.890625 33.015625 \r\nL 54.890625 0 \r\nL 45.90625 0 \r\nL 45.90625 32.71875 \r\nQ 45.90625 40.484375 42.875 44.328125 \r\nQ 39.84375 48.1875 33.796875 48.1875 \r\nQ 26.515625 48.1875 22.3125 43.546875 \r\nQ 18.109375 38.921875 18.109375 30.90625 \r\nL 18.109375 0 \r\nL 9.078125 0 \r\nL 9.078125 75.984375 \r\nL 18.109375 75.984375 \r\nL 18.109375 46.1875 \r\nQ 21.34375 51.125 25.703125 53.5625 \r\nQ 30.078125 56 35.796875 56 \r\nQ 45.21875 56 50.046875 50.171875 \r\nQ 54.890625 44.34375 54.890625 33.015625 \r\nz\r\n\" id=\"DejaVuSans-104\"/>\r\n       <path d=\"M 44.28125 53.078125 \r\nL 44.28125 44.578125 \r\nQ 40.484375 46.53125 36.375 47.5 \r\nQ 32.28125 48.484375 27.875 48.484375 \r\nQ 21.1875 48.484375 17.84375 46.4375 \r\nQ 14.5 44.390625 14.5 40.28125 \r\nQ 14.5 37.15625 16.890625 35.375 \r\nQ 19.28125 33.59375 26.515625 31.984375 \r\nL 29.59375 31.296875 \r\nQ 39.15625 29.25 43.1875 25.515625 \r\nQ 47.21875 21.78125 47.21875 15.09375 \r\nQ 47.21875 7.46875 41.1875 3.015625 \r\nQ 35.15625 -1.421875 24.609375 -1.421875 \r\nQ 20.21875 -1.421875 15.453125 -0.5625 \r\nQ 10.6875 0.296875 5.421875 2 \r\nL 5.421875 11.28125 \r\nQ 10.40625 8.6875 15.234375 7.390625 \r\nQ 20.0625 6.109375 24.8125 6.109375 \r\nQ 31.15625 6.109375 34.5625 8.28125 \r\nQ 37.984375 10.453125 37.984375 14.40625 \r\nQ 37.984375 18.0625 35.515625 20.015625 \r\nQ 33.0625 21.96875 24.703125 23.78125 \r\nL 21.578125 24.515625 \r\nQ 13.234375 26.265625 9.515625 29.90625 \r\nQ 5.8125 33.546875 5.8125 39.890625 \r\nQ 5.8125 47.609375 11.28125 51.796875 \r\nQ 16.75 56 26.8125 56 \r\nQ 31.78125 56 36.171875 55.265625 \r\nQ 40.578125 54.546875 44.28125 53.078125 \r\nz\r\n\" id=\"DejaVuSans-115\"/>\r\n      </defs>\r\n      <use xlink:href=\"#DejaVuSans-101\"/>\r\n      <use x=\"61.523438\" xlink:href=\"#DejaVuSans-112\"/>\r\n      <use x=\"125\" xlink:href=\"#DejaVuSans-111\"/>\r\n      <use x=\"186.181641\" xlink:href=\"#DejaVuSans-99\"/>\r\n      <use x=\"241.162109\" xlink:href=\"#DejaVuSans-104\"/>\r\n      <use x=\"304.541016\" xlink:href=\"#DejaVuSans-115\"/>\r\n     </g>\r\n    </g>\r\n   </g>\r\n   <g id=\"matplotlib.axis_2\">\r\n    <g id=\"ytick_1\">\r\n     <g id=\"line2d_7\">\r\n      <defs>\r\n       <path d=\"M 0 0 \r\nL -3.5 0 \r\n\" id=\"m4658342a92\" style=\"stroke:#000000;stroke-width:0.8;\"/>\r\n      </defs>\r\n      <g>\r\n       <use style=\"stroke:#000000;stroke-width:0.8;\" x=\"43.78125\" xlink:href=\"#m4658342a92\" y=\"361.693479\"/>\r\n      </g>\r\n     </g>\r\n     <g id=\"text_8\">\r\n      <!-- 0.2 -->\r\n      <g transform=\"translate(20.878125 365.492698)scale(0.1 -0.1)\">\r\n       <defs>\r\n        <path d=\"M 10.6875 12.40625 \r\nL 21 12.40625 \r\nL 21 0 \r\nL 10.6875 0 \r\nz\r\n\" id=\"DejaVuSans-46\"/>\r\n       </defs>\r\n       <use xlink:href=\"#DejaVuSans-48\"/>\r\n       <use x=\"63.623047\" xlink:href=\"#DejaVuSans-46\"/>\r\n       <use x=\"95.410156\" xlink:href=\"#DejaVuSans-50\"/>\r\n      </g>\r\n     </g>\r\n    </g>\r\n    <g id=\"ytick_2\">\r\n     <g id=\"line2d_8\">\r\n      <g>\r\n       <use style=\"stroke:#000000;stroke-width:0.8;\" x=\"43.78125\" xlink:href=\"#m4658342a92\" y=\"324.569087\"/>\r\n      </g>\r\n     </g>\r\n     <g id=\"text_9\">\r\n      <!-- 0.4 -->\r\n      <g transform=\"translate(20.878125 328.368306)scale(0.1 -0.1)\">\r\n       <use xlink:href=\"#DejaVuSans-48\"/>\r\n       <use x=\"63.623047\" xlink:href=\"#DejaVuSans-46\"/>\r\n       <use x=\"95.410156\" xlink:href=\"#DejaVuSans-52\"/>\r\n      </g>\r\n     </g>\r\n    </g>\r\n    <g id=\"ytick_3\">\r\n     <g id=\"line2d_9\">\r\n      <g>\r\n       <use style=\"stroke:#000000;stroke-width:0.8;\" x=\"43.78125\" xlink:href=\"#m4658342a92\" y=\"287.444694\"/>\r\n      </g>\r\n     </g>\r\n     <g id=\"text_10\">\r\n      <!-- 0.6 -->\r\n      <g transform=\"translate(20.878125 291.243913)scale(0.1 -0.1)\">\r\n       <defs>\r\n        <path d=\"M 33.015625 40.375 \r\nQ 26.375 40.375 22.484375 35.828125 \r\nQ 18.609375 31.296875 18.609375 23.390625 \r\nQ 18.609375 15.53125 22.484375 10.953125 \r\nQ 26.375 6.390625 33.015625 6.390625 \r\nQ 39.65625 6.390625 43.53125 10.953125 \r\nQ 47.40625 15.53125 47.40625 23.390625 \r\nQ 47.40625 31.296875 43.53125 35.828125 \r\nQ 39.65625 40.375 33.015625 40.375 \r\nz\r\nM 52.59375 71.296875 \r\nL 52.59375 62.3125 \r\nQ 48.875 64.0625 45.09375 64.984375 \r\nQ 41.3125 65.921875 37.59375 65.921875 \r\nQ 27.828125 65.921875 22.671875 59.328125 \r\nQ 17.53125 52.734375 16.796875 39.40625 \r\nQ 19.671875 43.65625 24.015625 45.921875 \r\nQ 28.375 48.1875 33.59375 48.1875 \r\nQ 44.578125 48.1875 50.953125 41.515625 \r\nQ 57.328125 34.859375 57.328125 23.390625 \r\nQ 57.328125 12.15625 50.6875 5.359375 \r\nQ 44.046875 -1.421875 33.015625 -1.421875 \r\nQ 20.359375 -1.421875 13.671875 8.265625 \r\nQ 6.984375 17.96875 6.984375 36.375 \r\nQ 6.984375 53.65625 15.1875 63.9375 \r\nQ 23.390625 74.21875 37.203125 74.21875 \r\nQ 40.921875 74.21875 44.703125 73.484375 \r\nQ 48.484375 72.75 52.59375 71.296875 \r\nz\r\n\" id=\"DejaVuSans-54\"/>\r\n       </defs>\r\n       <use xlink:href=\"#DejaVuSans-48\"/>\r\n       <use x=\"63.623047\" xlink:href=\"#DejaVuSans-46\"/>\r\n       <use x=\"95.410156\" xlink:href=\"#DejaVuSans-54\"/>\r\n      </g>\r\n     </g>\r\n    </g>\r\n    <g id=\"ytick_4\">\r\n     <g id=\"line2d_10\">\r\n      <g>\r\n       <use style=\"stroke:#000000;stroke-width:0.8;\" x=\"43.78125\" xlink:href=\"#m4658342a92\" y=\"250.320301\"/>\r\n      </g>\r\n     </g>\r\n     <g id=\"text_11\">\r\n      <!-- 0.8 -->\r\n      <g transform=\"translate(20.878125 254.11952)scale(0.1 -0.1)\">\r\n       <defs>\r\n        <path d=\"M 31.78125 34.625 \r\nQ 24.75 34.625 20.71875 30.859375 \r\nQ 16.703125 27.09375 16.703125 20.515625 \r\nQ 16.703125 13.921875 20.71875 10.15625 \r\nQ 24.75 6.390625 31.78125 6.390625 \r\nQ 38.8125 6.390625 42.859375 10.171875 \r\nQ 46.921875 13.96875 46.921875 20.515625 \r\nQ 46.921875 27.09375 42.890625 30.859375 \r\nQ 38.875 34.625 31.78125 34.625 \r\nz\r\nM 21.921875 38.8125 \r\nQ 15.578125 40.375 12.03125 44.71875 \r\nQ 8.5 49.078125 8.5 55.328125 \r\nQ 8.5 64.0625 14.71875 69.140625 \r\nQ 20.953125 74.21875 31.78125 74.21875 \r\nQ 42.671875 74.21875 48.875 69.140625 \r\nQ 55.078125 64.0625 55.078125 55.328125 \r\nQ 55.078125 49.078125 51.53125 44.71875 \r\nQ 48 40.375 41.703125 38.8125 \r\nQ 48.828125 37.15625 52.796875 32.3125 \r\nQ 56.78125 27.484375 56.78125 20.515625 \r\nQ 56.78125 9.90625 50.3125 4.234375 \r\nQ 43.84375 -1.421875 31.78125 -1.421875 \r\nQ 19.734375 -1.421875 13.25 4.234375 \r\nQ 6.78125 9.90625 6.78125 20.515625 \r\nQ 6.78125 27.484375 10.78125 32.3125 \r\nQ 14.796875 37.15625 21.921875 38.8125 \r\nz\r\nM 18.3125 54.390625 \r\nQ 18.3125 48.734375 21.84375 45.5625 \r\nQ 25.390625 42.390625 31.78125 42.390625 \r\nQ 38.140625 42.390625 41.71875 45.5625 \r\nQ 45.3125 48.734375 45.3125 54.390625 \r\nQ 45.3125 60.0625 41.71875 63.234375 \r\nQ 38.140625 66.40625 31.78125 66.40625 \r\nQ 25.390625 66.40625 21.84375 63.234375 \r\nQ 18.3125 60.0625 18.3125 54.390625 \r\nz\r\n\" id=\"DejaVuSans-56\"/>\r\n       </defs>\r\n       <use xlink:href=\"#DejaVuSans-48\"/>\r\n       <use x=\"63.623047\" xlink:href=\"#DejaVuSans-46\"/>\r\n       <use x=\"95.410156\" xlink:href=\"#DejaVuSans-56\"/>\r\n      </g>\r\n     </g>\r\n    </g>\r\n    <g id=\"ytick_5\">\r\n     <g id=\"line2d_11\">\r\n      <g>\r\n       <use style=\"stroke:#000000;stroke-width:0.8;\" x=\"43.78125\" xlink:href=\"#m4658342a92\" y=\"213.195909\"/>\r\n      </g>\r\n     </g>\r\n     <g id=\"text_12\">\r\n      <!-- 1.0 -->\r\n      <g transform=\"translate(20.878125 216.995127)scale(0.1 -0.1)\">\r\n       <use xlink:href=\"#DejaVuSans-49\"/>\r\n       <use x=\"63.623047\" xlink:href=\"#DejaVuSans-46\"/>\r\n       <use x=\"95.410156\" xlink:href=\"#DejaVuSans-48\"/>\r\n      </g>\r\n     </g>\r\n    </g>\r\n    <g id=\"ytick_6\">\r\n     <g id=\"line2d_12\">\r\n      <g>\r\n       <use style=\"stroke:#000000;stroke-width:0.8;\" x=\"43.78125\" xlink:href=\"#m4658342a92\" y=\"176.071516\"/>\r\n      </g>\r\n     </g>\r\n     <g id=\"text_13\">\r\n      <!-- 1.2 -->\r\n      <g transform=\"translate(20.878125 179.870735)scale(0.1 -0.1)\">\r\n       <use xlink:href=\"#DejaVuSans-49\"/>\r\n       <use x=\"63.623047\" xlink:href=\"#DejaVuSans-46\"/>\r\n       <use x=\"95.410156\" xlink:href=\"#DejaVuSans-50\"/>\r\n      </g>\r\n     </g>\r\n    </g>\r\n    <g id=\"ytick_7\">\r\n     <g id=\"line2d_13\">\r\n      <g>\r\n       <use style=\"stroke:#000000;stroke-width:0.8;\" x=\"43.78125\" xlink:href=\"#m4658342a92\" y=\"138.947123\"/>\r\n      </g>\r\n     </g>\r\n     <g id=\"text_14\">\r\n      <!-- 1.4 -->\r\n      <g transform=\"translate(20.878125 142.746342)scale(0.1 -0.1)\">\r\n       <use xlink:href=\"#DejaVuSans-49\"/>\r\n       <use x=\"63.623047\" xlink:href=\"#DejaVuSans-46\"/>\r\n       <use x=\"95.410156\" xlink:href=\"#DejaVuSans-52\"/>\r\n      </g>\r\n     </g>\r\n    </g>\r\n    <g id=\"ytick_8\">\r\n     <g id=\"line2d_14\">\r\n      <g>\r\n       <use style=\"stroke:#000000;stroke-width:0.8;\" x=\"43.78125\" xlink:href=\"#m4658342a92\" y=\"101.822731\"/>\r\n      </g>\r\n     </g>\r\n     <g id=\"text_15\">\r\n      <!-- 1.6 -->\r\n      <g transform=\"translate(20.878125 105.621949)scale(0.1 -0.1)\">\r\n       <use xlink:href=\"#DejaVuSans-49\"/>\r\n       <use x=\"63.623047\" xlink:href=\"#DejaVuSans-46\"/>\r\n       <use x=\"95.410156\" xlink:href=\"#DejaVuSans-54\"/>\r\n      </g>\r\n     </g>\r\n    </g>\r\n    <g id=\"ytick_9\">\r\n     <g id=\"line2d_15\">\r\n      <g>\r\n       <use style=\"stroke:#000000;stroke-width:0.8;\" x=\"43.78125\" xlink:href=\"#m4658342a92\" y=\"64.698338\"/>\r\n      </g>\r\n     </g>\r\n     <g id=\"text_16\">\r\n      <!-- 1.8 -->\r\n      <g transform=\"translate(20.878125 68.497557)scale(0.1 -0.1)\">\r\n       <use xlink:href=\"#DejaVuSans-49\"/>\r\n       <use x=\"63.623047\" xlink:href=\"#DejaVuSans-46\"/>\r\n       <use x=\"95.410156\" xlink:href=\"#DejaVuSans-56\"/>\r\n      </g>\r\n     </g>\r\n    </g>\r\n    <g id=\"text_17\">\r\n     <!-- BCE loss -->\r\n     <g transform=\"translate(14.798438 234.720625)rotate(-90)scale(0.1 -0.1)\">\r\n      <defs>\r\n       <path d=\"M 19.671875 34.8125 \r\nL 19.671875 8.109375 \r\nL 35.5 8.109375 \r\nQ 43.453125 8.109375 47.28125 11.40625 \r\nQ 51.125 14.703125 51.125 21.484375 \r\nQ 51.125 28.328125 47.28125 31.5625 \r\nQ 43.453125 34.8125 35.5 34.8125 \r\nz\r\nM 19.671875 64.796875 \r\nL 19.671875 42.828125 \r\nL 34.28125 42.828125 \r\nQ 41.5 42.828125 45.03125 45.53125 \r\nQ 48.578125 48.25 48.578125 53.8125 \r\nQ 48.578125 59.328125 45.03125 62.0625 \r\nQ 41.5 64.796875 34.28125 64.796875 \r\nz\r\nM 9.8125 72.90625 \r\nL 35.015625 72.90625 \r\nQ 46.296875 72.90625 52.390625 68.21875 \r\nQ 58.5 63.53125 58.5 54.890625 \r\nQ 58.5 48.1875 55.375 44.234375 \r\nQ 52.25 40.28125 46.1875 39.3125 \r\nQ 53.46875 37.75 57.5 32.78125 \r\nQ 61.53125 27.828125 61.53125 20.40625 \r\nQ 61.53125 10.640625 54.890625 5.3125 \r\nQ 48.25 0 35.984375 0 \r\nL 9.8125 0 \r\nz\r\n\" id=\"DejaVuSans-66\"/>\r\n       <path d=\"M 64.40625 67.28125 \r\nL 64.40625 56.890625 \r\nQ 59.421875 61.53125 53.78125 63.8125 \r\nQ 48.140625 66.109375 41.796875 66.109375 \r\nQ 29.296875 66.109375 22.65625 58.46875 \r\nQ 16.015625 50.828125 16.015625 36.375 \r\nQ 16.015625 21.96875 22.65625 14.328125 \r\nQ 29.296875 6.6875 41.796875 6.6875 \r\nQ 48.140625 6.6875 53.78125 8.984375 \r\nQ 59.421875 11.28125 64.40625 15.921875 \r\nL 64.40625 5.609375 \r\nQ 59.234375 2.09375 53.4375 0.328125 \r\nQ 47.65625 -1.421875 41.21875 -1.421875 \r\nQ 24.65625 -1.421875 15.125 8.703125 \r\nQ 5.609375 18.84375 5.609375 36.375 \r\nQ 5.609375 53.953125 15.125 64.078125 \r\nQ 24.65625 74.21875 41.21875 74.21875 \r\nQ 47.75 74.21875 53.53125 72.484375 \r\nQ 59.328125 70.75 64.40625 67.28125 \r\nz\r\n\" id=\"DejaVuSans-67\"/>\r\n       <path d=\"M 9.8125 72.90625 \r\nL 55.90625 72.90625 \r\nL 55.90625 64.59375 \r\nL 19.671875 64.59375 \r\nL 19.671875 43.015625 \r\nL 54.390625 43.015625 \r\nL 54.390625 34.71875 \r\nL 19.671875 34.71875 \r\nL 19.671875 8.296875 \r\nL 56.78125 8.296875 \r\nL 56.78125 0 \r\nL 9.8125 0 \r\nz\r\n\" id=\"DejaVuSans-69\"/>\r\n       <path id=\"DejaVuSans-32\"/>\r\n       <path d=\"M 9.421875 75.984375 \r\nL 18.40625 75.984375 \r\nL 18.40625 0 \r\nL 9.421875 0 \r\nz\r\n\" id=\"DejaVuSans-108\"/>\r\n      </defs>\r\n      <use xlink:href=\"#DejaVuSans-66\"/>\r\n      <use x=\"66.853516\" xlink:href=\"#DejaVuSans-67\"/>\r\n      <use x=\"136.677734\" xlink:href=\"#DejaVuSans-69\"/>\r\n      <use x=\"199.861328\" xlink:href=\"#DejaVuSans-32\"/>\r\n      <use x=\"231.648438\" xlink:href=\"#DejaVuSans-108\"/>\r\n      <use x=\"259.431641\" xlink:href=\"#DejaVuSans-111\"/>\r\n      <use x=\"320.613281\" xlink:href=\"#DejaVuSans-115\"/>\r\n      <use x=\"372.712891\" xlink:href=\"#DejaVuSans-115\"/>\r\n     </g>\r\n    </g>\r\n   </g>\r\n   <g id=\"line2d_16\">\r\n    <path clip-path=\"url(#p8eb1fe86b8)\" d=\"M 62.227531 65.225455 \r\nL 63.03933 92.939584 \r\nL 63.703529 108.933847 \r\nL 64.146328 115.401622 \r\nL 64.515327 118.278531 \r\nL 64.884327 119.650747 \r\nL 65.991325 122.661242 \r\nL 68.131522 130.086424 \r\nL 69.31232 135.648372 \r\nL 73.740313 157.607753 \r\nL 75.068711 162.565479 \r\nL 76.397109 166.665041 \r\nL 77.873106 170.480704 \r\nL 79.349104 173.719138 \r\nL 81.194101 177.22417 \r\nL 83.260498 180.654696 \r\nL 85.695894 184.21892 \r\nL 87.98369 187.160288 \r\nL 90.197687 189.667176 \r\nL 93.740081 193.226863 \r\nL 98.094275 197.180005 \r\nL 104.957664 203.106289 \r\nL 126.21203 220.93504 \r\nL 136.322614 229.322651 \r\nL 149.680393 240.019602 \r\nL 159.569578 247.681806 \r\nL 171.598959 256.710062 \r\nL 181.635743 263.967537 \r\nL 189.97513 269.741116 \r\nL 200.011914 276.408186 \r\nL 212.188895 284.072315 \r\nL 220.454482 289.042775 \r\nL 232.926663 296.172538 \r\nL 251.967033 306.278903 \r\nL 260.896819 310.671543 \r\nL 272.8524 316.186454 \r\nL 282.815384 320.536941 \r\nL 290.416772 323.669594 \r\nL 306.209947 329.720341 \r\nL 326.209716 336.542533 \r\nL 337.796298 340.186123 \r\nL 344.438287 342.189928 \r\nL 364.807055 347.812624 \r\nL 368.866049 348.851461 \r\nL 382.223828 352.056847 \r\nL 403.773394 356.673062 \r\nL 410.120184 357.916936 \r\nL 418.607171 359.513428 \r\nL 431.153151 361.734545 \r\nL 431.153151 361.734545 \r\n\" style=\"fill:none;stroke:#1f77b4;stroke-linecap:square;stroke-width:1.5;\"/>\r\n   </g>\r\n   <g id=\"patch_3\">\r\n    <path d=\"M 43.78125 376.56 \r\nL 43.78125 50.4 \r\n\" style=\"fill:none;stroke:#000000;stroke-linecap:square;stroke-linejoin:miter;stroke-width:0.8;\"/>\r\n   </g>\r\n   <g id=\"patch_4\">\r\n    <path d=\"M 449.599432 376.56 \r\nL 449.599432 50.4 \r\n\" style=\"fill:none;stroke:#000000;stroke-linecap:square;stroke-linejoin:miter;stroke-width:0.8;\"/>\r\n   </g>\r\n   <g id=\"patch_5\">\r\n    <path d=\"M 43.78125 376.56 \r\nL 449.599432 376.56 \r\n\" style=\"fill:none;stroke:#000000;stroke-linecap:square;stroke-linejoin:miter;stroke-width:0.8;\"/>\r\n   </g>\r\n   <g id=\"patch_6\">\r\n    <path d=\"M 43.78125 50.4 \r\nL 449.599432 50.4 \r\n\" style=\"fill:none;stroke:#000000;stroke-linecap:square;stroke-linejoin:miter;stroke-width:0.8;\"/>\r\n   </g>\r\n   <g id=\"legend_1\">\r\n    <g id=\"patch_7\">\r\n     <path d=\"M 387.324432 73.078125 \r\nL 442.599432 73.078125 \r\nQ 444.599432 73.078125 444.599432 71.078125 \r\nL 444.599432 57.4 \r\nQ 444.599432 55.4 442.599432 55.4 \r\nL 387.324432 55.4 \r\nQ 385.324432 55.4 385.324432 57.4 \r\nL 385.324432 71.078125 \r\nQ 385.324432 73.078125 387.324432 73.078125 \r\nz\r\n\" style=\"fill:#ffffff;opacity:0.8;stroke:#cccccc;stroke-linejoin:miter;\"/>\r\n    </g>\r\n    <g id=\"line2d_17\">\r\n     <path d=\"M 389.324432 63.498437 \r\nL 409.324432 63.498437 \r\n\" style=\"fill:none;stroke:#1f77b4;stroke-linecap:square;stroke-width:1.5;\"/>\r\n    </g>\r\n    <g id=\"line2d_18\"/>\r\n    <g id=\"text_18\">\r\n     <!-- train -->\r\n     <g transform=\"translate(417.324432 66.998437)scale(0.1 -0.1)\">\r\n      <defs>\r\n       <path d=\"M 18.3125 70.21875 \r\nL 18.3125 54.6875 \r\nL 36.8125 54.6875 \r\nL 36.8125 47.703125 \r\nL 18.3125 47.703125 \r\nL 18.3125 18.015625 \r\nQ 18.3125 11.328125 20.140625 9.421875 \r\nQ 21.96875 7.515625 27.59375 7.515625 \r\nL 36.8125 7.515625 \r\nL 36.8125 0 \r\nL 27.59375 0 \r\nQ 17.1875 0 13.234375 3.875 \r\nQ 9.28125 7.765625 9.28125 18.015625 \r\nL 9.28125 47.703125 \r\nL 2.6875 47.703125 \r\nL 2.6875 54.6875 \r\nL 9.28125 54.6875 \r\nL 9.28125 70.21875 \r\nz\r\n\" id=\"DejaVuSans-116\"/>\r\n       <path d=\"M 41.109375 46.296875 \r\nQ 39.59375 47.171875 37.8125 47.578125 \r\nQ 36.03125 48 33.890625 48 \r\nQ 26.265625 48 22.1875 43.046875 \r\nQ 18.109375 38.09375 18.109375 28.8125 \r\nL 18.109375 0 \r\nL 9.078125 0 \r\nL 9.078125 54.6875 \r\nL 18.109375 54.6875 \r\nL 18.109375 46.1875 \r\nQ 20.953125 51.171875 25.484375 53.578125 \r\nQ 30.03125 56 36.53125 56 \r\nQ 37.453125 56 38.578125 55.875 \r\nQ 39.703125 55.765625 41.0625 55.515625 \r\nz\r\n\" id=\"DejaVuSans-114\"/>\r\n       <path d=\"M 34.28125 27.484375 \r\nQ 23.390625 27.484375 19.1875 25 \r\nQ 14.984375 22.515625 14.984375 16.5 \r\nQ 14.984375 11.71875 18.140625 8.90625 \r\nQ 21.296875 6.109375 26.703125 6.109375 \r\nQ 34.1875 6.109375 38.703125 11.40625 \r\nQ 43.21875 16.703125 43.21875 25.484375 \r\nL 43.21875 27.484375 \r\nz\r\nM 52.203125 31.203125 \r\nL 52.203125 0 \r\nL 43.21875 0 \r\nL 43.21875 8.296875 \r\nQ 40.140625 3.328125 35.546875 0.953125 \r\nQ 30.953125 -1.421875 24.3125 -1.421875 \r\nQ 15.921875 -1.421875 10.953125 3.296875 \r\nQ 6 8.015625 6 15.921875 \r\nQ 6 25.140625 12.171875 29.828125 \r\nQ 18.359375 34.515625 30.609375 34.515625 \r\nL 43.21875 34.515625 \r\nL 43.21875 35.40625 \r\nQ 43.21875 41.609375 39.140625 45 \r\nQ 35.0625 48.390625 27.6875 48.390625 \r\nQ 23 48.390625 18.546875 47.265625 \r\nQ 14.109375 46.140625 10.015625 43.890625 \r\nL 10.015625 52.203125 \r\nQ 14.9375 54.109375 19.578125 55.046875 \r\nQ 24.21875 56 28.609375 56 \r\nQ 40.484375 56 46.34375 49.84375 \r\nQ 52.203125 43.703125 52.203125 31.203125 \r\nz\r\n\" id=\"DejaVuSans-97\"/>\r\n       <path d=\"M 9.421875 54.6875 \r\nL 18.40625 54.6875 \r\nL 18.40625 0 \r\nL 9.421875 0 \r\nz\r\nM 9.421875 75.984375 \r\nL 18.40625 75.984375 \r\nL 18.40625 64.59375 \r\nL 9.421875 64.59375 \r\nz\r\n\" id=\"DejaVuSans-105\"/>\r\n       <path d=\"M 54.890625 33.015625 \r\nL 54.890625 0 \r\nL 45.90625 0 \r\nL 45.90625 32.71875 \r\nQ 45.90625 40.484375 42.875 44.328125 \r\nQ 39.84375 48.1875 33.796875 48.1875 \r\nQ 26.515625 48.1875 22.3125 43.546875 \r\nQ 18.109375 38.921875 18.109375 30.90625 \r\nL 18.109375 0 \r\nL 9.078125 0 \r\nL 9.078125 54.6875 \r\nL 18.109375 54.6875 \r\nL 18.109375 46.1875 \r\nQ 21.34375 51.125 25.703125 53.5625 \r\nQ 30.078125 56 35.796875 56 \r\nQ 45.21875 56 50.046875 50.171875 \r\nQ 54.890625 44.34375 54.890625 33.015625 \r\nz\r\n\" id=\"DejaVuSans-110\"/>\r\n      </defs>\r\n      <use xlink:href=\"#DejaVuSans-116\"/>\r\n      <use x=\"39.208984\" xlink:href=\"#DejaVuSans-114\"/>\r\n      <use x=\"80.322266\" xlink:href=\"#DejaVuSans-97\"/>\r\n      <use x=\"141.601562\" xlink:href=\"#DejaVuSans-105\"/>\r\n      <use x=\"169.384766\" xlink:href=\"#DejaVuSans-110\"/>\r\n     </g>\r\n    </g>\r\n   </g>\r\n  </g>\r\n  <g id=\"axes_2\">\r\n   <g id=\"patch_8\">\r\n    <path d=\"M 530.763068 376.56 \r\nL 936.58125 376.56 \r\nL 936.58125 50.4 \r\nL 530.763068 50.4 \r\nz\r\n\" style=\"fill:#ffffff;\"/>\r\n   </g>\r\n   <g id=\"matplotlib.axis_3\">\r\n    <g id=\"xtick_7\">\r\n     <g id=\"line2d_19\">\r\n      <g>\r\n       <use style=\"stroke:#000000;stroke-width:0.8;\" x=\"549.209349\" xlink:href=\"#m145a0dd835\" y=\"376.56\"/>\r\n      </g>\r\n     </g>\r\n     <g id=\"text_19\">\r\n      <!-- 0 -->\r\n      <g transform=\"translate(546.028099 391.158437)scale(0.1 -0.1)\">\r\n       <use xlink:href=\"#DejaVuSans-48\"/>\r\n      </g>\r\n     </g>\r\n    </g>\r\n    <g id=\"xtick_8\">\r\n     <g id=\"line2d_20\">\r\n      <g>\r\n       <use style=\"stroke:#000000;stroke-width:0.8;\" x=\"623.009233\" xlink:href=\"#m145a0dd835\" y=\"376.56\"/>\r\n      </g>\r\n     </g>\r\n     <g id=\"text_20\">\r\n      <!-- 1000 -->\r\n      <g transform=\"translate(610.284233 391.158437)scale(0.1 -0.1)\">\r\n       <use xlink:href=\"#DejaVuSans-49\"/>\r\n       <use x=\"63.623047\" xlink:href=\"#DejaVuSans-48\"/>\r\n       <use x=\"127.246094\" xlink:href=\"#DejaVuSans-48\"/>\r\n       <use x=\"190.869141\" xlink:href=\"#DejaVuSans-48\"/>\r\n      </g>\r\n     </g>\r\n    </g>\r\n    <g id=\"xtick_9\">\r\n     <g id=\"line2d_21\">\r\n      <g>\r\n       <use style=\"stroke:#000000;stroke-width:0.8;\" x=\"696.809117\" xlink:href=\"#m145a0dd835\" y=\"376.56\"/>\r\n      </g>\r\n     </g>\r\n     <g id=\"text_21\">\r\n      <!-- 2000 -->\r\n      <g transform=\"translate(684.084117 391.158437)scale(0.1 -0.1)\">\r\n       <use xlink:href=\"#DejaVuSans-50\"/>\r\n       <use x=\"63.623047\" xlink:href=\"#DejaVuSans-48\"/>\r\n       <use x=\"127.246094\" xlink:href=\"#DejaVuSans-48\"/>\r\n       <use x=\"190.869141\" xlink:href=\"#DejaVuSans-48\"/>\r\n      </g>\r\n     </g>\r\n    </g>\r\n    <g id=\"xtick_10\">\r\n     <g id=\"line2d_22\">\r\n      <g>\r\n       <use style=\"stroke:#000000;stroke-width:0.8;\" x=\"770.609001\" xlink:href=\"#m145a0dd835\" y=\"376.56\"/>\r\n      </g>\r\n     </g>\r\n     <g id=\"text_22\">\r\n      <!-- 3000 -->\r\n      <g transform=\"translate(757.884001 391.158437)scale(0.1 -0.1)\">\r\n       <use xlink:href=\"#DejaVuSans-51\"/>\r\n       <use x=\"63.623047\" xlink:href=\"#DejaVuSans-48\"/>\r\n       <use x=\"127.246094\" xlink:href=\"#DejaVuSans-48\"/>\r\n       <use x=\"190.869141\" xlink:href=\"#DejaVuSans-48\"/>\r\n      </g>\r\n     </g>\r\n    </g>\r\n    <g id=\"xtick_11\">\r\n     <g id=\"line2d_23\">\r\n      <g>\r\n       <use style=\"stroke:#000000;stroke-width:0.8;\" x=\"844.408885\" xlink:href=\"#m145a0dd835\" y=\"376.56\"/>\r\n      </g>\r\n     </g>\r\n     <g id=\"text_23\">\r\n      <!-- 4000 -->\r\n      <g transform=\"translate(831.683885 391.158437)scale(0.1 -0.1)\">\r\n       <use xlink:href=\"#DejaVuSans-52\"/>\r\n       <use x=\"63.623047\" xlink:href=\"#DejaVuSans-48\"/>\r\n       <use x=\"127.246094\" xlink:href=\"#DejaVuSans-48\"/>\r\n       <use x=\"190.869141\" xlink:href=\"#DejaVuSans-48\"/>\r\n      </g>\r\n     </g>\r\n    </g>\r\n    <g id=\"xtick_12\">\r\n     <g id=\"line2d_24\">\r\n      <g>\r\n       <use style=\"stroke:#000000;stroke-width:0.8;\" x=\"918.208769\" xlink:href=\"#m145a0dd835\" y=\"376.56\"/>\r\n      </g>\r\n     </g>\r\n     <g id=\"text_24\">\r\n      <!-- 5000 -->\r\n      <g transform=\"translate(905.483769 391.158437)scale(0.1 -0.1)\">\r\n       <use xlink:href=\"#DejaVuSans-53\"/>\r\n       <use x=\"63.623047\" xlink:href=\"#DejaVuSans-48\"/>\r\n       <use x=\"127.246094\" xlink:href=\"#DejaVuSans-48\"/>\r\n       <use x=\"190.869141\" xlink:href=\"#DejaVuSans-48\"/>\r\n      </g>\r\n     </g>\r\n    </g>\r\n    <g id=\"text_25\">\r\n     <!-- epochs -->\r\n     <g transform=\"translate(715.839347 404.836562)scale(0.1 -0.1)\">\r\n      <use xlink:href=\"#DejaVuSans-101\"/>\r\n      <use x=\"61.523438\" xlink:href=\"#DejaVuSans-112\"/>\r\n      <use x=\"125\" xlink:href=\"#DejaVuSans-111\"/>\r\n      <use x=\"186.181641\" xlink:href=\"#DejaVuSans-99\"/>\r\n      <use x=\"241.162109\" xlink:href=\"#DejaVuSans-104\"/>\r\n      <use x=\"304.541016\" xlink:href=\"#DejaVuSans-115\"/>\r\n     </g>\r\n    </g>\r\n   </g>\r\n   <g id=\"matplotlib.axis_4\">\r\n    <g id=\"ytick_10\">\r\n     <g id=\"line2d_25\">\r\n      <g>\r\n       <use style=\"stroke:#000000;stroke-width:0.8;\" x=\"530.763068\" xlink:href=\"#m4658342a92\" y=\"323.746605\"/>\r\n      </g>\r\n     </g>\r\n     <g id=\"text_26\">\r\n      <!-- 0.2 -->\r\n      <g transform=\"translate(507.859943 327.545823)scale(0.1 -0.1)\">\r\n       <use xlink:href=\"#DejaVuSans-48\"/>\r\n       <use x=\"63.623047\" xlink:href=\"#DejaVuSans-46\"/>\r\n       <use x=\"95.410156\" xlink:href=\"#DejaVuSans-50\"/>\r\n      </g>\r\n     </g>\r\n    </g>\r\n    <g id=\"ytick_11\">\r\n     <g id=\"line2d_26\">\r\n      <g>\r\n       <use style=\"stroke:#000000;stroke-width:0.8;\" x=\"530.763068\" xlink:href=\"#m4658342a92\" y=\"254.769181\"/>\r\n      </g>\r\n     </g>\r\n     <g id=\"text_27\">\r\n      <!-- 0.4 -->\r\n      <g transform=\"translate(507.859943 258.5684)scale(0.1 -0.1)\">\r\n       <use xlink:href=\"#DejaVuSans-48\"/>\r\n       <use x=\"63.623047\" xlink:href=\"#DejaVuSans-46\"/>\r\n       <use x=\"95.410156\" xlink:href=\"#DejaVuSans-52\"/>\r\n      </g>\r\n     </g>\r\n    </g>\r\n    <g id=\"ytick_12\">\r\n     <g id=\"line2d_27\">\r\n      <g>\r\n       <use style=\"stroke:#000000;stroke-width:0.8;\" x=\"530.763068\" xlink:href=\"#m4658342a92\" y=\"185.791758\"/>\r\n      </g>\r\n     </g>\r\n     <g id=\"text_28\">\r\n      <!-- 0.6 -->\r\n      <g transform=\"translate(507.859943 189.590977)scale(0.1 -0.1)\">\r\n       <use xlink:href=\"#DejaVuSans-48\"/>\r\n       <use x=\"63.623047\" xlink:href=\"#DejaVuSans-46\"/>\r\n       <use x=\"95.410156\" xlink:href=\"#DejaVuSans-54\"/>\r\n      </g>\r\n     </g>\r\n    </g>\r\n    <g id=\"ytick_13\">\r\n     <g id=\"line2d_28\">\r\n      <g>\r\n       <use style=\"stroke:#000000;stroke-width:0.8;\" x=\"530.763068\" xlink:href=\"#m4658342a92\" y=\"116.814335\"/>\r\n      </g>\r\n     </g>\r\n     <g id=\"text_29\">\r\n      <!-- 0.8 -->\r\n      <g transform=\"translate(507.859943 120.613554)scale(0.1 -0.1)\">\r\n       <use xlink:href=\"#DejaVuSans-48\"/>\r\n       <use x=\"63.623047\" xlink:href=\"#DejaVuSans-46\"/>\r\n       <use x=\"95.410156\" xlink:href=\"#DejaVuSans-56\"/>\r\n      </g>\r\n     </g>\r\n    </g>\r\n    <g id=\"text_30\">\r\n     <!-- Accuracy -->\r\n     <g transform=\"translate(501.780256 236.308125)rotate(-90)scale(0.1 -0.1)\">\r\n      <defs>\r\n       <path d=\"M 34.1875 63.1875 \r\nL 20.796875 26.90625 \r\nL 47.609375 26.90625 \r\nz\r\nM 28.609375 72.90625 \r\nL 39.796875 72.90625 \r\nL 67.578125 0 \r\nL 57.328125 0 \r\nL 50.6875 18.703125 \r\nL 17.828125 18.703125 \r\nL 11.1875 0 \r\nL 0.78125 0 \r\nz\r\n\" id=\"DejaVuSans-65\"/>\r\n       <path d=\"M 8.5 21.578125 \r\nL 8.5 54.6875 \r\nL 17.484375 54.6875 \r\nL 17.484375 21.921875 \r\nQ 17.484375 14.15625 20.5 10.265625 \r\nQ 23.53125 6.390625 29.59375 6.390625 \r\nQ 36.859375 6.390625 41.078125 11.03125 \r\nQ 45.3125 15.671875 45.3125 23.6875 \r\nL 45.3125 54.6875 \r\nL 54.296875 54.6875 \r\nL 54.296875 0 \r\nL 45.3125 0 \r\nL 45.3125 8.40625 \r\nQ 42.046875 3.421875 37.71875 1 \r\nQ 33.40625 -1.421875 27.6875 -1.421875 \r\nQ 18.265625 -1.421875 13.375 4.4375 \r\nQ 8.5 10.296875 8.5 21.578125 \r\nz\r\nM 31.109375 56 \r\nz\r\n\" id=\"DejaVuSans-117\"/>\r\n       <path d=\"M 32.171875 -5.078125 \r\nQ 28.375 -14.84375 24.75 -17.8125 \r\nQ 21.140625 -20.796875 15.09375 -20.796875 \r\nL 7.90625 -20.796875 \r\nL 7.90625 -13.28125 \r\nL 13.1875 -13.28125 \r\nQ 16.890625 -13.28125 18.9375 -11.515625 \r\nQ 21 -9.765625 23.484375 -3.21875 \r\nL 25.09375 0.875 \r\nL 2.984375 54.6875 \r\nL 12.5 54.6875 \r\nL 29.59375 11.921875 \r\nL 46.6875 54.6875 \r\nL 56.203125 54.6875 \r\nz\r\n\" id=\"DejaVuSans-121\"/>\r\n      </defs>\r\n      <use xlink:href=\"#DejaVuSans-65\"/>\r\n      <use x=\"66.658203\" xlink:href=\"#DejaVuSans-99\"/>\r\n      <use x=\"121.638672\" xlink:href=\"#DejaVuSans-99\"/>\r\n      <use x=\"176.619141\" xlink:href=\"#DejaVuSans-117\"/>\r\n      <use x=\"239.998047\" xlink:href=\"#DejaVuSans-114\"/>\r\n      <use x=\"281.111328\" xlink:href=\"#DejaVuSans-97\"/>\r\n      <use x=\"342.390625\" xlink:href=\"#DejaVuSans-99\"/>\r\n      <use x=\"397.371094\" xlink:href=\"#DejaVuSans-121\"/>\r\n     </g>\r\n    </g>\r\n   </g>\r\n   <g id=\"line2d_29\">\r\n    <path clip-path=\"url(#pf66a0cef39)\" d=\"M 549.209349 361.734545 \r\nL 549.430749 262.95557 \r\nL 549.725948 251.334514 \r\nL 549.873548 252.582701 \r\nL 550.242548 257.145042 \r\nL 550.980546 257.489369 \r\nL 553.489742 257.403287 \r\nL 553.637342 257.188083 \r\nL 554.375341 254.906912 \r\nL 554.81814 251.894046 \r\nL 555.998938 232.310415 \r\nL 556.810737 224.132635 \r\nL 557.474936 221.464096 \r\nL 557.548736 221.421055 \r\nL 557.696336 220.431113 \r\nL 557.770136 220.474154 \r\nL 558.508135 217.719533 \r\nL 558.581934 217.762574 \r\nL 558.803334 217.504329 \r\nL 559.246133 215.73965 \r\nL 559.541333 214.491462 \r\nL 559.762733 213.200234 \r\nL 559.910332 213.243275 \r\nL 560.131732 213.02807 \r\nL 560.279332 212.941988 \r\nL 560.353132 212.941988 \r\nL 560.722131 211.995087 \r\nL 561.09113 211.65076 \r\nL 561.16493 211.65076 \r\nL 561.38633 211.048186 \r\nL 561.46013 211.177309 \r\nL 561.53393 211.134268 \r\nL 562.124329 209.972163 \r\nL 562.271929 210.015204 \r\nL 562.862328 208.810057 \r\nL 563.009927 208.982221 \r\nL 563.083727 208.982221 \r\nL 563.378927 208.336607 \r\nL 563.452727 208.422689 \r\nL 563.674126 208.810057 \r\nL 563.895526 208.207484 \r\nL 564.043126 208.422689 \r\nL 564.190726 207.647952 \r\nL 564.485925 207.303624 \r\nL 564.559725 207.260583 \r\nL 564.781125 206.916255 \r\nL 564.854925 207.002337 \r\nL 565.002524 206.442805 \r\nL 565.150124 206.399764 \r\nL 565.297724 206.313682 \r\nL 565.519124 206.2276 \r\nL 565.740523 205.711109 \r\nL 565.814323 205.625027 \r\nL 565.888123 205.366781 \r\nL 565.961923 205.581986 \r\nL 566.183322 205.151577 \r\nL 566.404722 204.936372 \r\nL 566.552322 204.678126 \r\nL 566.626122 204.764208 \r\nL 566.847521 204.721167 \r\nL 566.995121 204.721167 \r\nL 567.068921 204.893331 \r\nL 567.142721 204.85029 \r\nL 567.216521 204.721167 \r\nL 567.290321 204.807249 \r\nL 567.364121 204.979413 \r\nL 567.437921 204.893331 \r\nL 567.51172 204.893331 \r\nL 567.73312 204.635085 \r\nL 567.80692 204.592044 \r\nL 567.88072 204.41988 \r\nL 567.95452 204.462921 \r\nL 568.02832 204.376839 \r\nL 568.102119 204.462921 \r\nL 568.175919 204.376839 \r\nL 568.471119 203.731225 \r\nL 568.692519 203.774266 \r\nL 568.766318 203.731225 \r\nL 568.840118 203.817307 \r\nL 569.061518 203.386898 \r\nL 569.135318 203.47298 \r\nL 569.282918 203.04257 \r\nL 569.430517 201.708301 \r\nL 569.578117 201.407014 \r\nL 569.651917 201.536137 \r\nL 569.799517 201.191809 \r\nL 569.873317 200.890523 \r\nL 569.947117 200.933564 \r\nL 570.168516 200.890523 \r\nL 570.316116 200.244908 \r\nL 570.611316 199.986663 \r\nL 570.906515 199.254967 \r\nL 571.054115 198.566312 \r\nL 571.349314 198.265025 \r\nL 571.570714 197.791574 \r\nL 571.792114 197.705493 \r\nL 572.234913 197.14596 \r\nL 572.382513 197.059878 \r\nL 572.456313 196.930755 \r\nL 572.751512 195.897773 \r\nL 572.972912 195.33824 \r\nL 573.046712 195.424322 \r\nL 573.268111 195.295199 \r\nL 573.415711 195.166077 \r\nL 573.710911 194.219176 \r\nL 574.00611 193.788766 \r\nL 574.15371 193.48748 \r\nL 574.22751 193.530521 \r\nL 574.30131 193.530521 \r\nL 574.37511 193.315316 \r\nL 574.448909 193.358357 \r\nL 574.522709 193.358357 \r\nL 574.891709 192.755784 \r\nL 575.113108 192.454497 \r\nL 575.186908 192.497538 \r\nL 575.408308 192.239292 \r\nL 575.555908 190.646777 \r\nL 575.851107 190.474613 \r\nL 575.998707 190.603736 \r\nL 576.146307 190.560695 \r\nL 576.220107 190.603736 \r\nL 576.515306 190.044204 \r\nL 576.589106 190.087245 \r\nL 576.884306 190.087245 \r\nL 577.105705 189.828999 \r\nL 577.253305 189.699876 \r\nL 577.400905 189.785958 \r\nL 577.622304 189.484671 \r\nL 577.696104 189.527712 \r\nL 577.843704 189.441631 \r\nL 578.212704 189.355549 \r\nL 578.286503 189.097303 \r\nL 578.360303 189.140344 \r\nL 578.581703 188.96818 \r\nL 578.950702 188.925139 \r\nL 579.541101 188.322566 \r\nL 579.688701 188.279525 \r\nL 579.983901 187.892156 \r\nL 580.057701 187.935197 \r\nL 580.2791 187.719993 \r\nL 580.3529 187.719993 \r\nL 580.5743 187.461747 \r\nL 580.7219 187.418706 \r\nL 580.7957 187.332624 \r\nL 580.943299 186.816133 \r\nL 581.164699 186.68701 \r\nL 581.312299 186.68701 \r\nL 581.459898 186.342682 \r\nL 581.607498 186.385723 \r\nL 582.124097 185.912273 \r\nL 582.197897 185.869232 \r\nL 582.419297 185.610986 \r\nL 583.083496 184.87929 \r\nL 583.157296 185.008413 \r\nL 583.231096 184.922331 \r\nL 583.452495 184.707126 \r\nL 583.600095 184.664085 \r\nL 583.673895 184.664085 \r\nL 584.042894 184.233676 \r\nL 584.190494 184.319758 \r\nL 584.264294 184.319758 \r\nL 584.485694 184.147594 \r\nL 584.559494 184.319758 \r\nL 584.707093 184.061512 \r\nL 584.780893 184.147594 \r\nL 584.928493 184.061512 \r\nL 585.002293 184.061512 \r\nL 585.149893 183.803266 \r\nL 585.223693 183.889348 \r\nL 585.297492 183.932389 \r\nL 585.371292 183.803266 \r\nL 585.445092 183.846307 \r\nL 585.518892 183.846307 \r\nL 585.666492 183.717184 \r\nL 586.478291 183.717184 \r\nL 586.55209 183.846307 \r\nL 586.77349 183.674143 \r\nL 586.84729 183.674143 \r\nL 586.92109 183.545021 \r\nL 586.99489 183.588062 \r\nL 587.06869 183.588062 \r\nL 587.216289 183.458939 \r\nL 587.437689 183.415898 \r\nL 587.511489 183.329816 \r\nL 587.585289 183.458939 \r\nL 587.659089 183.415898 \r\nL 588.028088 183.114611 \r\nL 588.175688 183.200693 \r\nL 588.323288 183.200693 \r\nL 588.618487 183.07157 \r\nL 588.766087 183.157652 \r\nL 588.913687 182.985488 \r\nL 589.356486 182.985488 \r\nL 589.504086 182.59812 \r\nL 589.651686 182.59812 \r\nL 589.725485 182.59812 \r\nL 589.799285 182.468997 \r\nL 589.873085 182.512038 \r\nL 590.020685 182.555079 \r\nL 590.094485 182.641161 \r\nL 590.242085 182.512038 \r\nL 590.389684 182.555079 \r\nL 590.611084 182.210751 \r\nL 590.758684 182.296833 \r\nL 590.832484 182.210751 \r\nL 590.906284 182.296833 \r\nL 591.349083 181.866424 \r\nL 591.570483 181.780342 \r\nL 591.791882 181.651219 \r\nL 591.939482 181.69426 \r\nL 592.013282 181.651219 \r\nL 592.087082 181.737301 \r\nL 592.382281 181.522096 \r\nL 592.603681 181.436014 \r\nL 592.677481 181.392973 \r\nL 592.89888 180.919523 \r\nL 593.636879 180.833441 \r\nL 593.932079 180.618236 \r\nL 594.079679 180.532154 \r\nL 594.227278 180.35999 \r\nL 594.448678 180.187827 \r\nL 594.522478 179.843499 \r\nL 594.596278 179.88654 \r\nL 594.743878 179.88654 \r\nL 594.965277 179.843499 \r\nL 595.260477 179.628294 \r\nL 595.777076 179.585253 \r\nL 596.219875 179.154844 \r\nL 596.367475 179.068762 \r\nL 596.515075 178.896598 \r\nL 596.588875 178.896598 \r\nL 596.810274 178.724434 \r\nL 596.884074 178.767475 \r\nL 597.326874 178.380107 \r\nL 597.548273 178.294025 \r\nL 597.622073 178.250984 \r\nL 597.769673 178.294025 \r\nL 597.991072 178.121861 \r\nL 598.064872 178.423148 \r\nL 598.138672 178.337066 \r\nL 598.286272 178.121861 \r\nL 598.433872 178.250984 \r\nL 598.655271 178.07882 \r\nL 598.950471 177.992738 \r\nL 599.24567 177.863616 \r\nL 599.31947 177.949697 \r\nL 599.46707 177.777534 \r\nL 599.61467 177.906656 \r\nL 599.83607 177.691452 \r\nL 599.909869 177.734493 \r\nL 600.057469 177.519288 \r\nL 600.131269 177.562329 \r\nL 600.647868 177.088878 \r\nL 600.869268 177.002797 \r\nL 601.016868 176.873674 \r\nL 601.164467 176.873674 \r\nL 601.238267 176.873674 \r\nL 601.533467 176.572387 \r\nL 601.681067 175.496363 \r\nL 601.754867 175.496363 \r\nL 601.902466 175.195077 \r\nL 601.976266 175.3242 \r\nL 602.050066 175.367241 \r\nL 602.197666 175.238118 \r\nL 602.345266 175.367241 \r\nL 603.452264 174.162094 \r\nL 603.599864 174.119053 \r\nL 603.673664 173.98993 \r\nL 603.747463 174.032971 \r\nL 604.264063 173.817766 \r\nL 604.411662 173.731685 \r\nL 604.485462 173.602562 \r\nL 604.559262 173.774725 \r\nL 604.633062 173.688644 \r\nL 604.780662 173.430398 \r\nL 604.854462 173.473439 \r\nL 605.002061 173.387357 \r\nL 605.371061 172.999988 \r\nL 605.592461 173.08607 \r\nL 605.81386 172.956947 \r\nL 606.404259 172.698702 \r\nL 606.551859 172.655661 \r\nL 606.773259 172.440456 \r\nL 608.249256 171.493555 \r\nL 608.396856 171.23531 \r\nL 608.544456 171.407473 \r\nL 608.692056 171.106187 \r\nL 608.913455 171.063146 \r\nL 609.134855 170.934023 \r\nL 609.208655 171.020105 \r\nL 609.430054 170.589695 \r\nL 609.651454 170.632736 \r\nL 609.872854 170.288409 \r\nL 609.946654 170.374491 \r\nL 610.168053 169.987122 \r\nL 610.315653 170.030163 \r\nL 610.389453 169.857999 \r\nL 610.463253 169.944081 \r\nL 610.684652 169.642794 \r\nL 610.832252 169.685835 \r\nL 610.979852 169.599753 \r\nL 611.053652 169.728876 \r\nL 611.201252 169.599753 \r\nL 611.275052 169.642794 \r\nL 611.422651 169.470631 \r\nL 611.570251 169.470631 \r\nL 611.717851 169.42759 \r\nL 611.865451 169.384549 \r\nL 612.08685 168.781975 \r\nL 612.16065 168.738935 \r\nL 612.23445 168.566771 \r\nL 612.30825 168.652853 \r\nL 612.603449 168.308525 \r\nL 612.751049 168.222443 \r\nL 612.898649 168.09332 \r\nL 613.193849 167.533788 \r\nL 613.341448 167.576829 \r\nL 613.415248 167.61987 \r\nL 613.858048 166.974256 \r\nL 614.005647 167.017297 \r\nL 614.227047 166.888174 \r\nL 614.300847 167.103379 \r\nL 614.374647 167.060338 \r\nL 614.596046 167.060338 \r\nL 614.743646 166.931215 \r\nL 614.891246 166.931215 \r\nL 615.776844 166.845133 \r\nL 615.998244 166.71601 \r\nL 616.588643 166.371682 \r\nL 616.736243 166.156478 \r\nL 617.252842 166.070396 \r\nL 617.400442 165.941273 \r\nL 617.548042 165.726068 \r\nL 617.621842 165.941273 \r\nL 618.064641 165.381741 \r\nL 618.212241 165.295659 \r\nL 618.286041 165.123495 \r\nL 618.35984 165.252618 \r\nL 618.50744 165.123495 \r\nL 618.80264 165.037413 \r\nL 618.95024 164.563963 \r\nL 619.245439 164.477881 \r\nL 619.393039 164.477881 \r\nL 619.540639 164.477881 \r\nL 619.983438 164.391799 \r\nL 620.647637 164.00443 \r\nL 620.869036 163.617062 \r\nL 621.164236 163.315775 \r\nL 621.238036 163.358816 \r\nL 621.311836 163.186652 \r\nL 621.385636 163.229693 \r\nL 621.459436 163.186652 \r\nL 621.533235 163.272734 \r\nL 621.754635 162.842325 \r\nL 621.902235 162.799284 \r\nL 622.049835 162.885366 \r\nL 622.345034 162.670161 \r\nL 622.418834 162.756243 \r\nL 622.787833 162.411915 \r\nL 623.009233 162.368874 \r\nL 623.083033 162.239751 \r\nL 623.156833 162.325833 \r\nL 623.230633 162.368874 \r\nL 623.304433 162.153669 \r\nL 623.378233 162.19671 \r\nL 623.673432 161.981506 \r\nL 623.747232 161.766301 \r\nL 623.821032 161.895424 \r\nL 623.968632 161.637178 \r\nL 624.042431 161.637178 \r\nL 624.263831 161.378932 \r\nL 624.337631 161.378932 \r\nL 624.559031 161.163728 \r\nL 624.632831 161.163728 \r\nL 624.78043 160.862441 \r\nL 625.00183 160.604195 \r\nL 625.07563 160.604195 \r\nL 625.370829 160.130745 \r\nL 625.444629 160.259868 \r\nL 625.592229 160.001622 \r\nL 625.813629 159.91554 \r\nL 626.256428 159.657295 \r\nL 626.330228 159.485131 \r\nL 626.404028 159.528172 \r\nL 626.846827 159.356008 \r\nL 627.068227 159.312967 \r\nL 627.215827 158.925598 \r\nL 627.289626 158.925598 \r\nL 627.437226 158.710394 \r\nL 627.511026 158.753435 \r\nL 627.806226 158.667353 \r\nL 628.027625 158.495189 \r\nL 628.175225 158.581271 \r\nL 628.322825 158.279984 \r\nL 628.470425 158.323025 \r\nL 628.544224 158.409107 \r\nL 628.691824 158.279984 \r\nL 628.839424 158.279984 \r\nL 629.134623 158.021738 \r\nL 629.651223 157.548288 \r\nL 629.872622 157.333083 \r\nL 630.020222 157.117879 \r\nL 630.389222 157.031797 \r\nL 630.536821 156.945715 \r\nL 630.684421 156.859633 \r\nL 631.12722 156.515305 \r\nL 631.20102 156.429223 \r\nL 631.27482 156.558346 \r\nL 631.49622 156.300101 \r\nL 631.57002 156.386182 \r\nL 631.865219 156.084896 \r\nL 632.012819 155.998814 \r\nL 632.234219 155.998814 \r\nL 632.308018 155.439282 \r\nL 632.381818 155.869691 \r\nL 632.529418 155.3532 \r\nL 632.677018 155.137995 \r\nL 632.824618 155.310159 \r\nL 633.193617 155.094954 \r\nL 633.267417 154.92279 \r\nL 633.341217 155.051913 \r\nL 633.415017 154.965831 \r\nL 633.636416 154.664545 \r\nL 633.710216 154.836708 \r\nL 633.784016 154.793667 \r\nL 633.857816 154.578463 \r\nL 633.931616 154.621504 \r\nL 634.079216 154.535422 \r\nL 634.300615 154.44934 \r\nL 634.522015 154.277176 \r\nL 634.669615 154.148053 \r\nL 634.743415 154.234135 \r\nL 634.964814 154.061971 \r\nL 635.186214 153.975889 \r\nL 635.407614 153.760685 \r\nL 635.555213 153.717644 \r\nL 635.629013 153.717644 \r\nL 635.702813 153.54548 \r\nL 635.776613 153.588521 \r\nL 635.850413 153.588521 \r\nL 635.924213 153.373316 \r\nL 635.998013 153.588521 \r\nL 636.071813 153.502439 \r\nL 636.293212 153.459398 \r\nL 636.514612 153.244193 \r\nL 636.588412 153.330275 \r\nL 636.957411 152.770743 \r\nL 637.031211 152.813784 \r\nL 637.47401 152.426415 \r\nL 637.62161 152.426415 \r\nL 637.84301 152.254251 \r\nL 637.91681 152.297292 \r\nL 638.433409 151.565596 \r\nL 638.507209 151.565596 \r\nL 638.728608 151.221269 \r\nL 639.023808 150.876941 \r\nL 639.097608 150.963023 \r\nL 639.319007 150.790859 \r\nL 639.466607 150.747818 \r\nL 639.540407 150.790859 \r\nL 639.688007 150.747818 \r\nL 639.835607 150.747818 \r\nL 639.983206 150.704777 \r\nL 640.130806 150.747818 \r\nL 640.426006 150.661736 \r\nL 640.647405 150.575654 \r\nL 640.868805 150.446532 \r\nL 640.942605 150.188286 \r\nL 641.016405 150.274368 \r\nL 641.090205 150.102204 \r\nL 641.164005 150.145245 \r\nL 642.197203 149.45659 \r\nL 642.271003 149.628754 \r\nL 642.344803 149.585713 \r\nL 642.418603 149.542672 \r\nL 642.566202 149.284426 \r\nL 642.861402 149.155303 \r\nL 643.009002 149.241385 \r\nL 643.156601 148.983139 \r\nL 643.304201 148.983139 \r\nL 643.378001 149.02618 \r\nL 643.451801 148.897057 \r\nL 643.525601 148.940098 \r\nL 643.673201 148.810976 \r\nL 643.8208 148.509689 \r\nL 643.8946 148.509689 \r\nL 643.9684 148.380566 \r\nL 644.0422 148.466648 \r\nL 644.411199 148.251443 \r\nL 644.632599 147.950157 \r\nL 645.149198 147.562788 \r\nL 645.665797 147.046297 \r\nL 645.739597 147.089338 \r\nL 646.108597 146.788051 \r\nL 646.329996 146.74501 \r\nL 646.403796 146.486764 \r\nL 646.477596 146.529805 \r\nL 646.551396 146.400683 \r\nL 646.625196 146.529805 \r\nL 646.846596 146.27156 \r\nL 646.920396 146.228519 \r\nL 647.067995 146.27156 \r\nL 647.289395 146.228519 \r\nL 647.510795 145.84115 \r\nL 647.584594 145.84115 \r\nL 647.658394 145.970273 \r\nL 647.879794 145.712027 \r\nL 648.027394 145.582904 \r\nL 648.248793 145.281618 \r\nL 648.322593 145.539864 \r\nL 648.396393 145.023372 \r\nL 648.470193 145.3677 \r\nL 648.543993 144.93729 \r\nL 648.617793 145.152495 \r\nL 648.691593 144.808167 \r\nL 648.765393 145.109454 \r\nL 648.912992 144.549922 \r\nL 649.060592 144.592963 \r\nL 649.355792 144.334717 \r\nL 649.429592 144.46384 \r\nL 649.503391 144.162553 \r\nL 649.577191 144.291676 \r\nL 649.724791 144.162553 \r\nL 649.798591 144.377758 \r\nL 650.019991 143.775185 \r\nL 650.093791 143.990389 \r\nL 650.16759 143.818226 \r\nL 650.24139 143.861267 \r\nL 650.38899 143.732144 \r\nL 650.46279 143.775185 \r\nL 650.53659 143.603021 \r\nL 650.61039 143.732144 \r\nL 650.68419 143.689103 \r\nL 650.905589 143.516939 \r\nL 650.979389 143.603021 \r\nL 651.053189 143.344775 \r\nL 651.126989 143.430857 \r\nL 651.200789 143.344775 \r\nL 651.274589 143.430857 \r\nL 651.422188 143.258693 \r\nL 651.495988 143.215652 \r\nL 651.643588 143.258693 \r\nL 651.791188 143.215652 \r\nL 651.864988 143.08653 \r\nL 651.938788 143.172611 \r\nL 652.012588 143.12957 \r\nL 652.086387 142.871325 \r\nL 652.160187 143.000448 \r\nL 652.529187 142.311792 \r\nL 652.602987 142.397874 \r\nL 652.750586 142.311792 \r\nL 652.898186 142.268752 \r\nL 652.971986 142.311792 \r\nL 653.340985 142.010506 \r\nL 653.562385 141.924424 \r\nL 653.709985 141.967465 \r\nL 653.931384 141.666178 \r\nL 654.005184 141.795301 \r\nL 654.078984 141.364892 \r\nL 654.152784 141.450973 \r\nL 654.300384 141.27881 \r\nL 654.669383 141.063605 \r\nL 654.743183 140.676236 \r\nL 654.816983 140.891441 \r\nL 655.038383 140.461032 \r\nL 655.112183 140.8484 \r\nL 655.185983 140.417991 \r\nL 655.259782 140.504073 \r\nL 655.333582 140.331909 \r\nL 655.407382 140.417991 \r\nL 655.481182 140.504073 \r\nL 655.554982 140.331909 \r\nL 655.628782 140.37495 \r\nL 655.702582 140.288868 \r\nL 655.776382 140.030622 \r\nL 655.850181 140.245827 \r\nL 656.071581 140.030622 \r\nL 656.145381 140.116704 \r\nL 656.292981 139.815417 \r\nL 656.440581 139.772377 \r\nL 656.66198 139.643254 \r\nL 657.03098 139.643254 \r\nL 657.178579 139.47109 \r\nL 657.399979 139.514131 \r\nL 657.547579 139.47109 \r\nL 657.768978 139.298926 \r\nL 657.842778 139.47109 \r\nL 657.916578 139.04068 \r\nL 657.990378 139.298926 \r\nL 658.064178 139.083721 \r\nL 658.137978 139.298926 \r\nL 658.211778 138.911558 \r\nL 658.285578 139.126762 \r\nL 658.359378 138.911558 \r\nL 658.433177 139.04068 \r\nL 658.506977 138.825476 \r\nL 658.580777 139.04068 \r\nL 658.654577 138.653312 \r\nL 658.728377 138.868517 \r\nL 658.802177 138.653312 \r\nL 658.875977 138.696353 \r\nL 658.949777 138.782435 \r\nL 659.023576 138.438107 \r\nL 659.097376 138.739394 \r\nL 659.171176 138.352025 \r\nL 659.244976 138.438107 \r\nL 659.466376 138.09378 \r\nL 659.540176 138.265943 \r\nL 659.761575 137.878575 \r\nL 659.835375 138.007698 \r\nL 659.909175 137.835534 \r\nL 659.982975 137.878575 \r\nL 660.056775 137.792493 \r\nL 660.130575 137.878575 \r\nL 660.351974 137.706411 \r\nL 660.425774 137.792493 \r\nL 660.647174 137.620329 \r\nL 660.868574 137.405124 \r\nL 661.016173 137.491206 \r\nL 661.311373 137.232961 \r\nL 661.385173 137.232961 \r\nL 661.606572 137.060797 \r\nL 661.680372 137.060797 \r\nL 661.754172 136.845592 \r\nL 661.827972 136.974715 \r\nL 662.049372 136.716469 \r\nL 662.123172 136.673428 \r\nL 662.196971 136.75951 \r\nL 662.344571 136.501264 \r\nL 662.418371 136.544305 \r\nL 662.639771 136.156937 \r\nL 662.713571 136.372142 \r\nL 662.787371 136.199978 \r\nL 662.86117 136.329101 \r\nL 662.93497 136.070855 \r\nL 663.00877 136.113896 \r\nL 663.23017 135.898691 \r\nL 663.30397 135.941732 \r\nL 663.37777 135.511323 \r\nL 663.45157 135.812609 \r\nL 663.525369 135.080913 \r\nL 663.599169 135.726527 \r\nL 663.746769 135.253077 \r\nL 663.968169 134.693545 \r\nL 664.115768 134.779627 \r\nL 664.189568 134.822667 \r\nL 664.263368 134.435299 \r\nL 664.337168 134.47834 \r\nL 664.410968 134.392258 \r\nL 664.484768 134.521381 \r\nL 664.558568 134.392258 \r\nL 664.632368 134.908749 \r\nL 664.706168 134.263135 \r\nL 664.779967 134.95179 \r\nL 664.853767 134.220094 \r\nL 664.927567 134.994831 \r\nL 665.001367 134.004889 \r\nL 665.075167 134.95179 \r\nL 665.148967 133.875767 \r\nL 665.222767 134.435299 \r\nL 665.296567 134.134012 \r\nL 665.370367 134.177053 \r\nL 665.444166 134.090971 \r\nL 665.517966 133.832726 \r\nL 665.591766 134.47834 \r\nL 665.665566 133.703603 \r\nL 665.739366 134.090971 \r\nL 665.886966 133.832726 \r\nL 666.477365 133.57448 \r\nL 666.551165 133.617521 \r\nL 666.624965 133.445357 \r\nL 666.698764 133.488398 \r\nL 666.993964 133.402316 \r\nL 667.067764 133.402316 \r\nL 667.141564 133.230152 \r\nL 667.215364 133.273193 \r\nL 667.436763 133.230152 \r\nL 667.584363 133.10103 \r\nL 667.658163 133.273193 \r\nL 667.879563 132.885825 \r\nL 667.953362 133.014948 \r\nL 668.174762 132.67062 \r\nL 668.248562 132.799743 \r\nL 668.322362 132.627579 \r\nL 668.396162 132.67062 \r\nL 668.691361 132.369333 \r\nL 668.765161 132.627579 \r\nL 668.838961 132.283252 \r\nL 668.912761 132.584538 \r\nL 668.986561 132.154129 \r\nL 669.060361 132.412374 \r\nL 669.134161 131.76676 \r\nL 669.20796 132.240211 \r\nL 669.35556 131.852842 \r\nL 669.42936 131.895883 \r\nL 669.50316 131.594596 \r\nL 669.57696 131.895883 \r\nL 669.65076 131.594596 \r\nL 669.72456 131.680678 \r\nL 669.945959 131.551555 \r\nL 670.757758 131.035064 \r\nL 670.831558 131.164187 \r\nL 670.905358 130.948982 \r\nL 670.979158 131.121146 \r\nL 671.052958 131.078105 \r\nL 671.126757 130.905941 \r\nL 671.200557 130.992023 \r\nL 671.274357 130.8629 \r\nL 671.348157 130.992023 \r\nL 671.421957 130.776818 \r\nL 671.495757 130.948982 \r\nL 671.569557 130.905941 \r\nL 671.938556 130.604655 \r\nL 672.012356 130.905941 \r\nL 672.159956 130.690736 \r\nL 672.307556 130.733777 \r\nL 672.381355 130.561614 \r\nL 672.455155 130.647696 \r\nL 672.528955 130.561614 \r\nL 672.602755 130.303368 \r\nL 672.676555 130.432491 \r\nL 672.750355 130.346409 \r\nL 672.824155 130.475532 \r\nL 672.897955 130.260327 \r\nL 672.971755 130.346409 \r\nL 673.045554 130.260327 \r\nL 673.119354 130.346409 \r\nL 673.193154 130.045122 \r\nL 673.266954 130.174245 \r\nL 673.340754 130.045122 \r\nL 673.414554 130.217286 \r\nL 673.488354 130.131204 \r\nL 673.562154 130.217286 \r\nL 673.635954 130.045122 \r\nL 673.709753 130.217286 \r\nL 673.931153 129.872958 \r\nL 674.078753 130.002081 \r\nL 674.152553 129.872958 \r\nL 674.226353 130.131204 \r\nL 674.300152 129.657754 \r\nL 674.373952 129.915999 \r\nL 674.447752 129.657754 \r\nL 674.521552 129.786877 \r\nL 674.595352 129.657754 \r\nL 674.669152 129.829918 \r\nL 674.742952 129.786877 \r\nL 674.816752 129.399508 \r\nL 674.890552 129.743836 \r\nL 674.964351 129.528631 \r\nL 675.038151 129.614713 \r\nL 675.111951 129.442549 \r\nL 675.185751 129.571672 \r\nL 675.259551 129.313426 \r\nL 675.333351 129.356467 \r\nL 675.407151 129.571672 \r\nL 675.480951 129.141262 \r\nL 675.55475 129.528631 \r\nL 675.62855 129.227344 \r\nL 675.70235 129.399508 \r\nL 675.77615 129.270385 \r\nL 675.84995 129.399508 \r\nL 675.99755 129.098221 \r\nL 676.07135 129.098221 \r\nL 676.14515 128.969099 \r\nL 676.218949 129.098221 \r\nL 676.292749 128.710853 \r\nL 676.366549 129.05518 \r\nL 676.440349 128.667812 \r\nL 676.514149 128.969099 \r\nL 676.587949 128.667812 \r\nL 676.661749 128.796935 \r\nL 676.883148 128.624771 \r\nL 676.956948 128.667812 \r\nL 677.104548 128.58173 \r\nL 677.178348 128.624771 \r\nL 677.252148 128.495648 \r\nL 677.325948 128.624771 \r\nL 677.399748 128.409566 \r\nL 677.473547 128.58173 \r\nL 677.547347 128.237402 \r\nL 677.621147 128.538689 \r\nL 677.694947 128.237402 \r\nL 677.768747 128.452607 \r\nL 677.842547 128.237402 \r\nL 677.916347 128.366525 \r\nL 677.990147 128.280443 \r\nL 678.137746 128.151321 \r\nL 678.285346 128.065239 \r\nL 678.359146 127.979157 \r\nL 678.506746 128.065239 \r\nL 678.801945 127.763952 \r\nL 678.875745 127.720911 \r\nL 679.097145 127.376583 \r\nL 679.170945 127.505706 \r\nL 679.244745 126.989215 \r\nL 679.318545 127.333543 \r\nL 679.392344 126.946174 \r\nL 679.466144 127.20442 \r\nL 679.613744 127.032256 \r\nL 679.687544 127.075297 \r\nL 679.761344 126.687928 \r\nL 679.835144 127.075297 \r\nL 679.908944 126.386642 \r\nL 679.982744 127.075297 \r\nL 680.056543 126.343601 \r\nL 680.130343 127.032256 \r\nL 680.204143 126.429683 \r\nL 680.277943 126.730969 \r\nL 680.425543 126.472724 \r\nL 680.499343 126.644887 \r\nL 680.573143 126.429683 \r\nL 680.646942 126.601846 \r\nL 680.720742 126.30056 \r\nL 680.794542 126.687928 \r\nL 680.868342 126.257519 \r\nL 680.942142 126.515765 \r\nL 681.015942 126.214478 \r\nL 681.089742 126.257519 \r\nL 681.163542 126.343601 \r\nL 681.237342 126.171437 \r\nL 681.311141 126.386642 \r\nL 681.384941 126.042314 \r\nL 681.458741 126.429683 \r\nL 681.532541 125.913191 \r\nL 681.606341 125.999273 \r\nL 682.04914 125.913191 \r\nL 682.787139 125.3967 \r\nL 682.860939 125.267577 \r\nL 682.934739 125.439741 \r\nL 683.008539 125.3967 \r\nL 683.229938 125.267577 \r\nL 683.598938 125.052372 \r\nL 683.672738 125.181495 \r\nL 683.746538 125.095413 \r\nL 683.967937 124.665004 \r\nL 684.041737 124.837168 \r\nL 684.115537 124.578922 \r\nL 684.189337 124.794127 \r\nL 684.263137 124.621963 \r\nL 684.336937 124.837168 \r\nL 684.410737 124.578922 \r\nL 684.484536 124.751086 \r\nL 684.632136 124.621963 \r\nL 684.927336 124.621963 \r\nL 685.001136 124.363717 \r\nL 685.074936 124.535881 \r\nL 685.148735 124.234594 \r\nL 685.222535 124.449799 \r\nL 685.296335 124.01939 \r\nL 685.370135 124.449799 \r\nL 685.443935 124.06243 \r\nL 685.517735 124.234594 \r\nL 685.739134 123.804185 \r\nL 685.812934 124.01939 \r\nL 685.886734 123.933308 \r\nL 686.034334 123.761144 \r\nL 686.108134 123.804185 \r\nL 686.181934 123.459857 \r\nL 686.255734 123.718103 \r\nL 686.329534 123.373775 \r\nL 686.403333 123.675062 \r\nL 686.477133 123.373775 \r\nL 686.550933 123.718103 \r\nL 686.624733 123.416816 \r\nL 686.698533 123.459857 \r\nL 686.919933 123.244652 \r\nL 686.993732 123.330734 \r\nL 687.288932 123.029448 \r\nL 687.362732 123.244652 \r\nL 687.584132 122.642079 \r\nL 687.657931 122.986407 \r\nL 687.731731 122.857284 \r\nL 687.953131 122.642079 \r\nL 688.026931 122.728161 \r\nL 688.100731 122.599038 \r\nL 688.174531 122.68512 \r\nL 688.54353 122.340793 \r\nL 688.61733 122.383834 \r\nL 688.69113 122.555997 \r\nL 688.76493 122.297752 \r\nL 688.83873 122.68512 \r\nL 688.912529 122.168629 \r\nL 688.986329 122.555997 \r\nL 689.060129 121.996465 \r\nL 689.133929 122.383834 \r\nL 689.281529 122.082547 \r\nL 689.355329 122.21167 \r\nL 689.429129 121.953424 \r\nL 689.502929 122.254711 \r\nL 689.576728 122.039506 \r\nL 689.650528 122.254711 \r\nL 689.724328 121.867342 \r\nL 689.798128 121.953424 \r\nL 689.871928 121.996465 \r\nL 689.945728 121.910383 \r\nL 690.019528 121.996465 \r\nL 690.093328 121.738219 \r\nL 690.167128 121.824301 \r\nL 690.388527 121.566056 \r\nL 690.831326 121.566056 \r\nL 690.905126 121.393892 \r\nL 690.978926 121.609096 \r\nL 691.052726 121.566056 \r\nL 691.126526 121.350851 \r\nL 691.200326 121.436933 \r\nL 691.274126 121.264769 \r\nL 691.347926 121.436933 \r\nL 691.421726 121.178687 \r\nL 691.495525 121.393892 \r\nL 691.569325 120.791318 \r\nL 691.643125 121.221728 \r\nL 691.716925 120.748277 \r\nL 691.790725 121.178687 \r\nL 691.864525 120.748277 \r\nL 691.938325 121.092605 \r\nL 692.012125 120.619155 \r\nL 692.085924 120.963482 \r\nL 692.159724 120.533073 \r\nL 692.233524 120.576114 \r\nL 692.307324 120.490032 \r\nL 692.381124 120.576114 \r\nL 692.602524 120.40395 \r\nL 692.676324 120.446991 \r\nL 692.750123 120.317868 \r\nL 692.823923 120.490032 \r\nL 692.897723 120.446991 \r\nL 693.561922 120.102663 \r\nL 693.635722 120.188745 \r\nL 693.857122 120.059622 \r\nL 693.930922 120.145704 \r\nL 694.004721 119.97354 \r\nL 694.078521 120.059622 \r\nL 694.299921 119.758336 \r\nL 694.373721 119.887459 \r\nL 694.521321 119.586172 \r\nL 694.595121 119.758336 \r\nL 694.66892 119.543131 \r\nL 694.74272 119.672254 \r\nL 694.96412 119.241844 \r\nL 695.18552 119.414008 \r\nL 695.406919 119.112721 \r\nL 695.480719 119.327926 \r\nL 695.554519 119.02664 \r\nL 695.628319 119.112721 \r\nL 695.702119 119.155762 \r\nL 695.775919 118.983599 \r\nL 695.849719 119.198803 \r\nL 696.071118 118.854476 \r\nL 696.218718 118.854476 \r\nL 696.366318 118.811435 \r\nL 696.587717 118.682312 \r\nL 696.661517 118.811435 \r\nL 696.735317 118.510148 \r\nL 696.809117 118.639271 \r\nL 697.030517 118.467107 \r\nL 697.104317 118.639271 \r\nL 697.178116 118.381025 \r\nL 697.251916 118.639271 \r\nL 697.325716 118.424066 \r\nL 697.399516 118.682312 \r\nL 697.473316 118.381025 \r\nL 697.547116 118.59623 \r\nL 697.620916 118.294943 \r\nL 697.694716 118.381025 \r\nL 698.211315 118.12278 \r\nL 698.285115 118.251903 \r\nL 698.654114 117.735411 \r\nL 698.727914 117.907575 \r\nL 698.801714 117.735411 \r\nL 698.875514 117.821493 \r\nL 698.949314 117.69237 \r\nL 699.023114 117.821493 \r\nL 699.096913 117.735411 \r\nL 699.392113 117.649329 \r\nL 699.613513 117.520206 \r\nL 699.687313 117.348043 \r\nL 699.761112 117.434124 \r\nL 699.908712 117.434124 \r\nL 700.056312 117.348043 \r\nL 700.130112 117.21892 \r\nL 700.203912 117.348043 \r\nL 700.277712 117.132838 \r\nL 700.351511 117.261961 \r\nL 700.425311 117.175879 \r\nL 700.720511 116.874592 \r\nL 700.794311 117.046756 \r\nL 701.01571 116.659387 \r\nL 701.08951 116.831551 \r\nL 701.16331 116.659387 \r\nL 701.23711 116.745469 \r\nL 701.31091 116.616346 \r\nL 701.38471 116.745469 \r\nL 701.60611 116.272019 \r\nL 701.679909 116.401142 \r\nL 701.753709 116.228978 \r\nL 701.827509 116.358101 \r\nL 702.048909 116.099855 \r\nL 702.122709 116.228978 \r\nL 702.344108 116.013773 \r\nL 702.417908 116.099855 \r\nL 702.565508 115.88465 \r\nL 702.639308 116.056814 \r\nL 702.713108 115.841609 \r\nL 702.786908 115.88465 \r\nL 703.008307 115.669446 \r\nL 703.082107 115.755528 \r\nL 703.229707 115.540323 \r\nL 703.303507 115.669446 \r\nL 703.377307 115.4112 \r\nL 703.451107 115.540323 \r\nL 703.524906 115.325118 \r\nL 703.598706 115.497282 \r\nL 703.672506 115.239036 \r\nL 703.746306 115.540323 \r\nL 703.820106 115.239036 \r\nL 703.893906 115.325118 \r\nL 704.262905 114.98079 \r\nL 704.484305 115.023831 \r\nL 704.705705 114.550381 \r\nL 704.853304 114.679504 \r\nL 705.074704 114.378217 \r\nL 705.296104 114.593422 \r\nL 705.369904 114.335176 \r\nL 705.443703 114.50734 \r\nL 705.517503 114.249094 \r\nL 705.591303 114.50734 \r\nL 705.665103 114.206053 \r\nL 705.738903 114.421258 \r\nL 705.812703 114.119971 \r\nL 705.886503 114.249094 \r\nL 705.960303 114.119971 \r\nL 706.034103 114.163012 \r\nL 706.107902 114.119971 \r\nL 706.255502 114.163012 \r\nL 706.329302 114.206053 \r\nL 706.550702 113.947808 \r\nL 706.624502 113.861726 \r\nL 706.698302 113.990849 \r\nL 706.772101 113.818685 \r\nL 706.845901 113.904767 \r\nL 707.067301 113.732603 \r\nL 707.141101 113.861726 \r\nL 707.214901 113.689562 \r\nL 707.288701 113.732603 \r\nL 707.4363 113.646521 \r\nL 707.5101 113.775644 \r\nL 707.5839 113.732603 \r\nL 707.6577 113.60348 \r\nL 707.7315 113.689562 \r\nL 707.8053 113.689562 \r\nL 707.8791 113.517398 \r\nL 707.9529 113.646521 \r\nL 708.174299 113.388275 \r\nL 708.248099 113.431316 \r\nL 708.321899 113.345234 \r\nL 708.395699 113.474357 \r\nL 708.469499 113.345234 \r\nL 708.543299 113.517398 \r\nL 708.617098 113.388275 \r\nL 708.690898 113.560439 \r\nL 708.764698 113.388275 \r\nL 708.838498 113.517398 \r\nL 708.912298 113.474357 \r\nL 708.986098 113.302193 \r\nL 709.059898 113.431316 \r\nL 709.207498 113.259153 \r\nL 709.428897 113.173071 \r\nL 709.502697 113.086989 \r\nL 709.650297 113.13003 \r\nL 710.462096 112.742661 \r\nL 710.609695 112.914825 \r\nL 710.683495 112.613538 \r\nL 710.757295 112.785702 \r\nL 710.831095 112.570497 \r\nL 710.904895 112.656579 \r\nL 711.052495 112.656579 \r\nL 711.126295 112.69962 \r\nL 711.347694 112.398334 \r\nL 711.569094 112.570497 \r\nL 711.642894 112.355293 \r\nL 711.716694 112.613538 \r\nL 711.790494 112.269211 \r\nL 711.864293 112.484415 \r\nL 712.159493 112.010965 \r\nL 712.233293 112.054006 \r\nL 712.307093 112.22617 \r\nL 712.528492 111.967924 \r\nL 712.602292 112.140088 \r\nL 712.676092 111.838801 \r\nL 712.749892 111.881842 \r\nL 712.823692 111.752719 \r\nL 712.897492 111.881842 \r\nL 712.971292 111.709678 \r\nL 713.045092 111.752719 \r\nL 713.192691 111.580556 \r\nL 713.266491 111.709678 \r\nL 713.414091 111.494474 \r\nL 713.561691 111.494474 \r\nL 713.635491 111.623597 \r\nL 713.85689 111.365351 \r\nL 713.93069 111.494474 \r\nL 714.00449 111.279269 \r\nL 714.07829 111.537515 \r\nL 714.29969 111.064064 \r\nL 714.373489 111.408392 \r\nL 714.447289 111.150146 \r\nL 714.521089 111.236228 \r\nL 714.594889 111.32231 \r\nL 714.816289 110.8919 \r\nL 714.890089 111.107105 \r\nL 714.963889 110.805818 \r\nL 715.037688 110.934941 \r\nL 715.480488 110.332368 \r\nL 715.554288 110.504532 \r\nL 715.849487 110.031081 \r\nL 715.923287 110.117163 \r\nL 716.070887 109.98804 \r\nL 716.292286 110.203245 \r\nL 716.366086 110.074122 \r\nL 716.587486 109.686754 \r\nL 716.661286 109.858918 \r\nL 716.735086 109.815877 \r\nL 716.808886 109.51459 \r\nL 716.882685 109.729795 \r\nL 716.956485 109.686754 \r\nL 717.030285 109.729795 \r\nL 717.251685 109.428508 \r\nL 717.325485 109.772836 \r\nL 717.473085 109.342426 \r\nL 717.546884 109.428508 \r\nL 717.768284 109.256344 \r\nL 717.842084 109.385467 \r\nL 717.915884 109.213303 \r\nL 717.989684 109.256344 \r\nL 718.137284 109.127222 \r\nL 718.211083 109.299385 \r\nL 718.284883 109.127222 \r\nL 718.358683 109.342426 \r\nL 718.432483 109.04114 \r\nL 718.506283 109.170262 \r\nL 718.727683 108.955058 \r\nL 718.801482 109.04114 \r\nL 718.875282 108.955058 \r\nL 718.949082 109.084181 \r\nL 719.022882 108.998099 \r\nL 719.096682 109.084181 \r\nL 719.465681 108.782894 \r\nL 719.687081 108.739853 \r\nL 719.760881 108.782894 \r\nL 719.982281 108.524648 \r\nL 720.056081 108.438566 \r\nL 720.12988 108.524648 \r\nL 720.20368 108.395525 \r\nL 720.27748 108.524648 \r\nL 720.35128 108.352484 \r\nL 720.42508 108.524648 \r\nL 720.49888 108.395525 \r\nL 720.57268 108.481607 \r\nL 720.64648 108.61073 \r\nL 720.720279 108.266403 \r\nL 720.794079 108.524648 \r\nL 720.867879 108.051198 \r\nL 720.941679 108.309444 \r\nL 721.163079 107.922075 \r\nL 721.236879 108.094239 \r\nL 721.384478 107.879034 \r\nL 721.458278 107.792952 \r\nL 721.532078 107.879034 \r\nL 721.827278 107.663829 \r\nL 721.974877 107.620788 \r\nL 722.048677 107.362543 \r\nL 722.122477 107.663829 \r\nL 722.196277 107.362543 \r\nL 722.270077 107.663829 \r\nL 722.343877 107.534706 \r\nL 722.417677 107.620788 \r\nL 722.712876 107.147338 \r\nL 722.786676 107.362543 \r\nL 722.860476 106.975174 \r\nL 722.934276 107.405584 \r\nL 723.008076 106.932133 \r\nL 723.081876 107.276461 \r\nL 723.155676 106.889092 \r\nL 723.229476 107.147338 \r\nL 723.303275 106.889092 \r\nL 723.377075 107.147338 \r\nL 723.450875 106.846051 \r\nL 723.524675 106.975174 \r\nL 723.672275 106.80301 \r\nL 723.746075 106.846051 \r\nL 723.967474 106.544765 \r\nL 724.041274 106.716928 \r\nL 724.115074 106.458683 \r\nL 724.188874 106.80301 \r\nL 724.262674 106.372601 \r\nL 724.336474 106.80301 \r\nL 724.410274 106.286519 \r\nL 724.484074 106.458683 \r\nL 724.557873 106.157396 \r\nL 724.631673 106.415642 \r\nL 724.705473 106.071314 \r\nL 724.779273 106.32956 \r\nL 724.853073 105.985232 \r\nL 724.926873 106.243478 \r\nL 725.000673 106.028273 \r\nL 725.074473 106.071314 \r\nL 725.222072 105.813069 \r\nL 725.295872 106.071314 \r\nL 725.369672 105.683946 \r\nL 725.443472 106.071314 \r\nL 725.517272 105.770028 \r\nL 725.591072 106.071314 \r\nL 725.664872 105.554823 \r\nL 725.738672 105.89915 \r\nL 725.812471 105.597864 \r\nL 725.886271 105.813069 \r\nL 725.960071 105.640905 \r\nL 726.033871 105.726987 \r\nL 726.329071 105.382659 \r\nL 726.402871 105.640905 \r\nL 726.47667 105.339618 \r\nL 726.55047 105.597864 \r\nL 726.62427 105.253536 \r\nL 726.69807 105.554823 \r\nL 726.77187 105.296577 \r\nL 726.84567 105.468741 \r\nL 726.91947 105.382659 \r\nL 726.99327 105.511782 \r\nL 727.067069 105.4257 \r\nL 727.362269 105.4257 \r\nL 727.436069 105.253536 \r\nL 727.509869 105.382659 \r\nL 727.583669 105.296577 \r\nL 727.657469 105.339618 \r\nL 727.952668 105.124413 \r\nL 728.026468 105.253536 \r\nL 728.100268 105.038331 \r\nL 728.174068 105.081372 \r\nL 728.321668 105.124413 \r\nL 728.690667 104.780086 \r\nL 728.838267 104.866168 \r\nL 728.912067 104.650963 \r\nL 728.985866 104.866168 \r\nL 729.059666 104.607922 \r\nL 729.133466 104.694004 \r\nL 729.281066 104.694004 \r\nL 729.428666 104.52184 \r\nL 729.650065 104.650963 \r\nL 729.723865 104.478799 \r\nL 729.797665 104.607922 \r\nL 729.945265 104.349676 \r\nL 730.019065 104.478799 \r\nL 730.092865 104.349676 \r\nL 730.166665 104.392717 \r\nL 730.314264 104.392717 \r\nL 730.535664 104.220553 \r\nL 730.683264 104.263594 \r\nL 730.904663 103.876226 \r\nL 730.978463 104.349676 \r\nL 731.052263 103.747103 \r\nL 731.126063 104.134472 \r\nL 731.199863 104.091431 \r\nL 731.273663 104.220553 \r\nL 731.347463 103.833185 \r\nL 731.421263 104.177513 \r\nL 731.495063 103.790144 \r\nL 731.568862 103.962308 \r\nL 731.642662 103.962308 \r\nL 731.716462 103.704062 \r\nL 731.790262 104.04839 \r\nL 731.864062 103.661021 \r\nL 731.937862 104.091431 \r\nL 732.011662 103.661021 \r\nL 732.085462 103.962308 \r\nL 732.233061 103.704062 \r\nL 732.306861 103.833185 \r\nL 732.380661 103.488857 \r\nL 732.454461 103.790144 \r\nL 732.528261 103.445816 \r\nL 732.602061 103.704062 \r\nL 732.675861 103.402775 \r\nL 732.749661 103.574939 \r\nL 732.82346 103.488857 \r\nL 733.11866 103.445816 \r\nL 733.19246 103.230612 \r\nL 733.26626 103.445816 \r\nL 733.34006 103.14453 \r\nL 733.413859 103.273653 \r\nL 733.487659 103.101489 \r\nL 733.561459 103.273653 \r\nL 733.635259 103.187571 \r\nL 733.709059 103.230612 \r\nL 733.930459 102.972366 \r\nL 734.004259 103.14453 \r\nL 734.078058 102.929325 \r\nL 734.151858 103.230612 \r\nL 734.373258 102.843243 \r\nL 734.520858 102.800202 \r\nL 734.594658 102.71412 \r\nL 734.742257 102.800202 \r\nL 734.889857 102.757161 \r\nL 735.111257 102.800202 \r\nL 735.406456 102.584997 \r\nL 735.849256 102.326752 \r\nL 735.923056 102.455875 \r\nL 735.996855 102.326752 \r\nL 736.070655 102.455875 \r\nL 736.144455 102.326752 \r\nL 736.218255 102.455875 \r\nL 736.292055 102.412834 \r\nL 736.734854 102.326752 \r\nL 737.251453 102.068506 \r\nL 737.399053 102.068506 \r\nL 737.694253 102.068506 \r\nL 737.768053 101.853301 \r\nL 737.841853 101.896342 \r\nL 738.284652 101.638097 \r\nL 738.358452 101.81026 \r\nL 738.579851 101.379851 \r\nL 738.653651 101.508974 \r\nL 738.727451 101.379851 \r\nL 738.801251 101.552015 \r\nL 738.875051 101.293769 \r\nL 738.948851 101.379851 \r\nL 739.17025 101.250728 \r\nL 739.61305 101.078564 \r\nL 739.68685 101.207687 \r\nL 739.76065 100.949441 \r\nL 739.834449 100.992482 \r\nL 739.908249 100.992482 \r\nL 740.129649 100.734237 \r\nL 740.203449 100.777278 \r\nL 740.277249 100.691196 \r\nL 740.424848 100.9064 \r\nL 740.498648 100.43295 \r\nL 740.572448 100.820319 \r\nL 740.646248 100.303827 \r\nL 740.720048 100.820319 \r\nL 740.793848 100.389909 \r\nL 740.867648 100.605114 \r\nL 740.941448 100.217745 \r\nL 741.015248 100.43295 \r\nL 741.089047 100.303827 \r\nL 741.162847 100.475991 \r\nL 741.236647 100.43295 \r\nL 741.605647 100.174704 \r\nL 741.679446 100.303827 \r\nL 741.827046 100.174704 \r\nL 742.122246 100.260786 \r\nL 742.343645 99.830377 \r\nL 742.417445 99.9595 \r\nL 742.491245 99.787336 \r\nL 742.565045 100.002541 \r\nL 742.712645 99.744295 \r\nL 742.786445 99.873418 \r\nL 743.007844 99.615172 \r\nL 743.376844 99.443008 \r\nL 743.450644 99.486049 \r\nL 743.524444 99.356926 \r\nL 743.598243 99.52909 \r\nL 743.819643 99.270844 \r\nL 743.967243 99.356926 \r\nL 744.041043 99.270844 \r\nL 744.114843 99.399967 \r\nL 744.188643 99.05564 \r\nL 744.262442 99.399967 \r\nL 744.336242 99.012599 \r\nL 744.410042 99.356926 \r\nL 744.483842 99.05564 \r\nL 744.557642 99.184763 \r\nL 744.705242 98.969558 \r\nL 744.779042 99.270844 \r\nL 744.852842 98.969558 \r\nL 744.926641 99.313885 \r\nL 745.000441 98.840435 \r\nL 745.074241 99.141722 \r\nL 745.148041 98.797394 \r\nL 745.221841 99.227803 \r\nL 745.295641 98.969558 \r\nL 745.369441 99.184763 \r\nL 745.51704 98.797394 \r\nL 745.59084 98.926517 \r\nL 745.66464 98.711312 \r\nL 745.73844 98.883476 \r\nL 745.81224 98.582189 \r\nL 745.88604 98.840435 \r\nL 745.95984 98.539148 \r\nL 746.03364 98.754353 \r\nL 746.10744 98.496107 \r\nL 746.181239 98.668271 \r\nL 746.255039 98.582189 \r\nL 746.402639 98.539148 \r\nL 746.476439 98.323944 \r\nL 746.550239 98.582189 \r\nL 746.624039 98.323944 \r\nL 746.697839 98.539148 \r\nL 746.771638 98.280903 \r\nL 746.845438 98.539148 \r\nL 746.919238 98.237862 \r\nL 746.993038 98.323944 \r\nL 747.214438 98.280903 \r\nL 747.288238 98.194821 \r\nL 747.362038 97.893534 \r\nL 747.435837 98.065698 \r\nL 747.509637 97.893534 \r\nL 747.583437 98.065698 \r\nL 747.804837 97.893534 \r\nL 747.878637 98.108739 \r\nL 747.952437 97.807452 \r\nL 748.026237 98.108739 \r\nL 748.100036 97.764411 \r\nL 748.173836 98.022657 \r\nL 748.247636 97.850493 \r\nL 748.321436 97.936575 \r\nL 748.395236 97.850493 \r\nL 748.469036 97.936575 \r\nL 748.616636 97.72137 \r\nL 748.690435 97.893534 \r\nL 748.764235 97.635288 \r\nL 748.838035 97.678329 \r\nL 748.911835 97.635288 \r\nL 748.985635 97.72137 \r\nL 749.059435 97.592247 \r\nL 749.133235 97.678329 \r\nL 749.428434 97.463125 \r\nL 749.502234 97.592247 \r\nL 749.649834 97.420084 \r\nL 749.797434 97.592247 \r\nL 749.945034 97.290961 \r\nL 750.018833 97.420084 \r\nL 750.092633 97.161838 \r\nL 750.166433 97.334002 \r\nL 750.240233 97.161838 \r\nL 750.314033 97.377043 \r\nL 750.387833 96.903592 \r\nL 750.461633 97.290961 \r\nL 750.535433 96.989674 \r\nL 750.609232 97.204879 \r\nL 750.683032 97.032715 \r\nL 750.756832 97.118797 \r\nL 750.830632 97.118797 \r\nL 751.052032 96.731428 \r\nL 751.125832 96.946633 \r\nL 751.199632 96.903592 \r\nL 751.347231 96.946633 \r\nL 751.421031 96.774469 \r\nL 751.494831 96.903592 \r\nL 751.568631 96.774469 \r\nL 751.642431 96.989674 \r\nL 751.790031 96.688388 \r\nL 751.86383 96.903592 \r\nL 751.93763 96.559265 \r\nL 752.01143 96.774469 \r\nL 752.08523 96.516224 \r\nL 752.15903 96.903592 \r\nL 752.23283 96.602306 \r\nL 752.30663 96.81751 \r\nL 752.601829 96.473183 \r\nL 752.675629 96.688388 \r\nL 752.749429 96.430142 \r\nL 752.823229 96.645347 \r\nL 753.044629 96.387101 \r\nL 753.118429 96.516224 \r\nL 753.192228 96.214937 \r\nL 753.266028 96.516224 \r\nL 753.339828 96.171896 \r\nL 753.413628 96.301019 \r\nL 753.487428 96.042773 \r\nL 753.561228 96.301019 \r\nL 753.635028 95.999732 \r\nL 753.708828 96.214937 \r\nL 753.782627 96.128855 \r\nL 754.004027 95.956691 \r\nL 754.077827 96.085814 \r\nL 754.151627 95.91365 \r\nL 754.225427 96.171896 \r\nL 754.299227 95.956691 \r\nL 754.373027 96.128855 \r\nL 754.594426 95.741487 \r\nL 754.668226 95.87061 \r\nL 754.742026 95.741487 \r\nL 754.889626 95.87061 \r\nL 754.963426 95.87061 \r\nL 755.037225 95.698446 \r\nL 755.111025 95.91365 \r\nL 755.184825 95.784528 \r\nL 755.258625 95.87061 \r\nL 755.480025 95.741487 \r\nL 755.922824 95.569323 \r\nL 755.996624 95.569323 \r\nL 756.218024 95.397159 \r\nL 756.291824 95.4402 \r\nL 756.365623 95.268036 \r\nL 756.439423 95.483241 \r\nL 756.513223 95.268036 \r\nL 756.587023 95.483241 \r\nL 756.660823 95.268036 \r\nL 756.734623 95.4402 \r\nL 756.808423 95.181954 \r\nL 756.882223 95.483241 \r\nL 756.956022 95.052832 \r\nL 757.029822 95.569323 \r\nL 757.103622 95.009791 \r\nL 757.177422 95.311077 \r\nL 757.251222 95.095872 \r\nL 757.325022 95.138913 \r\nL 757.472622 94.96675 \r\nL 757.546422 95.138913 \r\nL 757.620221 94.837627 \r\nL 757.694021 95.181954 \r\nL 757.767821 94.837627 \r\nL 757.841621 95.052832 \r\nL 757.915421 94.794586 \r\nL 757.989221 94.96675 \r\nL 758.210621 94.751545 \r\nL 758.50582 94.53634 \r\nL 758.57962 94.665463 \r\nL 758.65342 94.493299 \r\nL 758.72722 94.665463 \r\nL 758.80102 94.364176 \r\nL 758.874819 94.708504 \r\nL 758.948619 94.321135 \r\nL 759.022419 94.53634 \r\nL 759.096219 94.278094 \r\nL 759.170019 94.407217 \r\nL 759.391419 94.407217 \r\nL 759.465219 94.148972 \r\nL 759.539018 94.235054 \r\nL 759.686618 94.105931 \r\nL 759.908018 94.148972 \r\nL 760.055618 94.148972 \r\nL 760.424617 94.06289 \r\nL 760.498417 93.976808 \r\nL 760.719817 94.235054 \r\nL 760.867416 93.890726 \r\nL 760.941216 93.976808 \r\nL 761.015016 93.761603 \r\nL 761.088816 93.976808 \r\nL 761.310216 93.761603 \r\nL 761.457815 93.761603 \r\nL 761.826815 93.761603 \r\nL 761.900615 93.546398 \r\nL 761.974415 93.675521 \r\nL 762.048214 93.589439 \r\nL 762.122014 93.675521 \r\nL 762.269614 93.63248 \r\nL 762.417214 93.460316 \r\nL 762.491014 93.675521 \r\nL 762.564814 93.374235 \r\nL 762.638614 93.63248 \r\nL 762.712413 93.245112 \r\nL 762.786213 93.546398 \r\nL 762.860013 93.288153 \r\nL 762.933813 93.503357 \r\nL 763.081413 93.288153 \r\nL 763.155213 93.417275 \r\nL 763.376612 93.115989 \r\nL 763.450412 93.460316 \r\nL 763.524212 93.072948 \r\nL 763.598012 93.288153 \r\nL 763.671812 93.072948 \r\nL 763.745612 93.202071 \r\nL 763.893212 92.986866 \r\nL 763.967011 93.115989 \r\nL 764.040811 92.857743 \r\nL 764.114611 93.115989 \r\nL 764.188411 92.771661 \r\nL 764.262211 93.245112 \r\nL 764.336011 92.72862 \r\nL 764.409811 93.15903 \r\nL 764.483611 92.771661 \r\nL 764.557411 93.115989 \r\nL 764.63121 92.814702 \r\nL 764.70501 93.072948 \r\nL 764.77881 92.771661 \r\nL 764.85261 92.814702 \r\nL 764.92641 92.857743 \r\nL 765.00021 92.771661 \r\nL 765.07401 93.072948 \r\nL 765.14781 92.513416 \r\nL 765.221609 92.986866 \r\nL 765.295409 92.642538 \r\nL 765.369209 92.771661 \r\nL 765.516809 92.599497 \r\nL 765.590609 92.900784 \r\nL 765.664409 92.427334 \r\nL 765.738209 92.943825 \r\nL 765.812009 92.384293 \r\nL 765.885808 92.943825 \r\nL 765.959608 92.384293 \r\nL 766.033408 92.72862 \r\nL 766.107208 92.470375 \r\nL 766.181008 92.556457 \r\nL 766.254808 92.599497 \r\nL 766.328608 92.470375 \r\nL 766.402408 92.771661 \r\nL 766.476208 92.384293 \r\nL 766.550007 92.642538 \r\nL 766.623807 92.298211 \r\nL 766.697607 92.341252 \r\nL 766.845207 92.212129 \r\nL 767.066607 92.384293 \r\nL 767.140406 92.169088 \r\nL 767.214206 92.513416 \r\nL 767.288006 92.169088 \r\nL 767.361806 92.427334 \r\nL 767.435606 92.126047 \r\nL 767.509406 92.341252 \r\nL 767.583206 92.039965 \r\nL 767.657006 92.126047 \r\nL 767.804605 92.083006 \r\nL 767.952205 91.996924 \r\nL 768.026005 92.169088 \r\nL 768.099805 91.910842 \r\nL 768.173605 92.039965 \r\nL 768.395004 91.82476 \r\nL 768.468804 91.910842 \r\nL 768.542604 91.695638 \r\nL 768.616404 91.910842 \r\nL 768.690204 91.695638 \r\nL 768.764004 91.82476 \r\nL 768.837804 91.609556 \r\nL 768.911604 91.910842 \r\nL 768.985404 91.480433 \r\nL 769.059203 91.867801 \r\nL 769.133003 91.523474 \r\nL 769.206803 91.867801 \r\nL 769.280603 91.566515 \r\nL 769.354403 91.652597 \r\nL 769.428203 91.566515 \r\nL 769.575803 91.652597 \r\nL 769.649603 91.437392 \r\nL 769.723402 91.523474 \r\nL 769.797202 91.394351 \r\nL 769.871002 91.566515 \r\nL 769.944802 91.35131 \r\nL 770.018602 91.609556 \r\nL 770.240002 91.179146 \r\nL 770.313801 91.437392 \r\nL 770.387601 91.308269 \r\nL 770.461401 91.394351 \r\nL 770.535201 91.222187 \r\nL 770.609001 91.265228 \r\nL 770.904201 91.136105 \r\nL 771.1994 91.222187 \r\nL 771.2732 91.093064 \r\nL 771.347 91.265228 \r\nL 771.4208 91.136105 \r\nL 771.4946 91.222187 \r\nL 771.789799 90.963941 \r\nL 771.863599 91.093064 \r\nL 771.937399 90.963941 \r\nL 772.011199 91.136105 \r\nL 772.084999 90.87786 \r\nL 772.158799 91.050023 \r\nL 772.232598 90.87786 \r\nL 772.306398 91.006982 \r\nL 772.380198 90.791778 \r\nL 772.453998 90.963941 \r\nL 772.527798 90.619614 \r\nL 772.675398 90.834819 \r\nL 772.749198 90.705696 \r\nL 772.822998 90.920901 \r\nL 772.896797 90.748737 \r\nL 772.970597 90.791778 \r\nL 773.044397 90.748737 \r\nL 773.118197 90.834819 \r\nL 773.191997 90.490491 \r\nL 773.265797 90.533532 \r\nL 773.339597 90.576573 \r\nL 773.413397 90.44745 \r\nL 773.487196 90.705696 \r\nL 773.560996 90.318327 \r\nL 773.634796 90.619614 \r\nL 773.708596 90.490491 \r\nL 773.782396 90.533532 \r\nL 773.929996 90.318327 \r\nL 774.298995 90.275286 \r\nL 774.372795 90.189204 \r\nL 774.446595 90.404409 \r\nL 774.520395 90.060082 \r\nL 774.594195 90.361368 \r\nL 774.667995 90.103123 \r\nL 774.741795 90.318327 \r\nL 774.815594 90.060082 \r\nL 774.889394 90.146163 \r\nL 775.036994 90.103123 \r\nL 775.110794 90.146163 \r\nL 775.479793 89.844877 \r\nL 775.627393 89.974 \r\nL 775.701193 89.801836 \r\nL 775.774993 90.146163 \r\nL 775.848793 89.715754 \r\nL 775.922593 90.060082 \r\nL 775.996393 89.586631 \r\nL 776.070192 90.146163 \r\nL 776.143992 89.500549 \r\nL 776.217792 90.103123 \r\nL 776.291592 89.629672 \r\nL 776.365392 89.974 \r\nL 776.439192 89.586631 \r\nL 776.512992 89.844877 \r\nL 776.586792 89.758795 \r\nL 776.734391 89.758795 \r\nL 776.808191 89.586631 \r\nL 776.881991 89.844877 \r\nL 776.955791 89.500549 \r\nL 777.029591 89.758795 \r\nL 777.103391 89.414467 \r\nL 777.177191 89.672713 \r\nL 777.250991 89.371426 \r\nL 777.32479 89.715754 \r\nL 777.39859 89.242304 \r\nL 777.47239 89.672713 \r\nL 777.54619 89.285344 \r\nL 777.61999 89.586631 \r\nL 777.69379 89.328385 \r\nL 777.76759 89.54359 \r\nL 777.84139 89.242304 \r\nL 777.91519 89.54359 \r\nL 777.988989 89.242304 \r\nL 778.062789 89.285344 \r\nL 778.136589 89.328385 \r\nL 778.210389 89.113181 \r\nL 778.284189 89.414467 \r\nL 778.357989 89.113181 \r\nL 778.431789 89.457508 \r\nL 778.505589 89.027099 \r\nL 778.579388 89.500549 \r\nL 778.653188 89.07014 \r\nL 778.726988 89.371426 \r\nL 778.800788 88.984058 \r\nL 778.874588 89.113181 \r\nL 778.948388 88.854935 \r\nL 779.022188 89.027099 \r\nL 779.095988 88.984058 \r\nL 779.169788 88.897976 \r\nL 779.243587 88.984058 \r\nL 779.317387 88.897976 \r\nL 779.391187 89.07014 \r\nL 779.464987 88.854935 \r\nL 779.538787 88.897976 \r\nL 779.686387 88.854935 \r\nL 779.833986 88.768853 \r\nL 779.907786 88.897976 \r\nL 780.129186 88.63973 \r\nL 780.202986 88.854935 \r\nL 780.276786 88.63973 \r\nL 780.350586 88.941017 \r\nL 780.424386 88.553648 \r\nL 780.498185 88.941017 \r\nL 780.571985 88.553648 \r\nL 780.645785 88.596689 \r\nL 781.014785 88.553648 \r\nL 781.088585 88.381485 \r\nL 781.162384 88.553648 \r\nL 781.236184 88.338444 \r\nL 781.309984 88.510607 \r\nL 781.383784 88.252362 \r\nL 781.457584 88.467566 \r\nL 781.531384 88.381485 \r\nL 781.605184 88.16628 \r\nL 781.678984 88.467566 \r\nL 781.752783 88.080198 \r\nL 781.826583 88.510607 \r\nL 781.900383 88.037157 \r\nL 781.974183 88.553648 \r\nL 782.047983 87.994116 \r\nL 782.121783 88.467566 \r\nL 782.195583 88.123239 \r\nL 782.269383 88.209321 \r\nL 782.416982 88.037157 \r\nL 782.490782 88.209321 \r\nL 782.564582 88.123239 \r\nL 782.638382 88.209321 \r\nL 782.712182 87.994116 \r\nL 782.785982 88.037157 \r\nL 782.859782 87.994116 \r\nL 783.007382 88.037157 \r\nL 783.081181 88.037157 \r\nL 783.154981 88.16628 \r\nL 783.228781 87.908034 \r\nL 783.302581 88.037157 \r\nL 783.376381 88.080198 \r\nL 783.523981 88.037157 \r\nL 783.67158 87.951075 \r\nL 783.74538 87.908034 \r\nL 783.81918 88.037157 \r\nL 783.89298 87.864993 \r\nL 783.96678 87.994116 \r\nL 784.04058 87.73587 \r\nL 784.11438 87.994116 \r\nL 784.18818 87.778911 \r\nL 784.26198 87.951075 \r\nL 784.335779 87.821952 \r\nL 784.409579 87.908034 \r\nL 784.630979 87.692829 \r\nL 784.852379 87.520666 \r\nL 785.073778 87.692829 \r\nL 785.147578 87.73587 \r\nL 785.368978 87.391543 \r\nL 785.442778 87.649788 \r\nL 785.590377 87.348502 \r\nL 785.664177 87.434584 \r\nL 785.737977 87.305461 \r\nL 785.959377 87.477625 \r\nL 786.033177 87.520666 \r\nL 786.106977 87.26242 \r\nL 786.180777 87.434584 \r\nL 786.254576 87.391543 \r\nL 786.549776 87.219379 \r\nL 786.697376 87.26242 \r\nL 786.918775 87.047215 \r\nL 786.992575 87.305461 \r\nL 787.066375 87.004174 \r\nL 787.213975 87.219379 \r\nL 787.287775 87.133297 \r\nL 787.361575 86.83201 \r\nL 787.435375 87.133297 \r\nL 787.509174 86.875051 \r\nL 787.582974 87.133297 \r\nL 787.656774 86.875051 \r\nL 787.730574 87.133297 \r\nL 787.804374 87.004174 \r\nL 787.878174 87.090256 \r\nL 788.099573 86.918092 \r\nL 788.247173 87.047215 \r\nL 788.320973 86.83201 \r\nL 788.394773 86.961133 \r\nL 788.468573 86.659847 \r\nL 788.542373 87.004174 \r\nL 788.616173 86.702888 \r\nL 788.689973 86.875051 \r\nL 788.763772 86.444642 \r\nL 788.837572 86.918092 \r\nL 788.911372 86.659847 \r\nL 788.985172 86.745929 \r\nL 789.058972 86.745929 \r\nL 789.132772 86.530724 \r\nL 789.206572 86.659847 \r\nL 789.280372 86.315519 \r\nL 789.354172 86.616806 \r\nL 789.427971 86.401601 \r\nL 789.501771 86.616806 \r\nL 789.575571 86.444642 \r\nL 789.649371 86.487683 \r\nL 789.723171 86.530724 \r\nL 789.796971 86.702888 \r\nL 789.870771 86.530724 \r\nL 789.944571 86.616806 \r\nL 790.01837 86.573765 \r\nL 790.09217 86.315519 \r\nL 790.16597 86.444642 \r\nL 790.38737 86.272478 \r\nL 790.46117 86.659847 \r\nL 790.53497 86.315519 \r\nL 790.60877 86.573765 \r\nL 790.682569 86.315519 \r\nL 790.756369 86.530724 \r\nL 790.903969 86.229437 \r\nL 790.977769 86.143355 \r\nL 791.199169 86.35856 \r\nL 791.272969 86.143355 \r\nL 791.346768 86.35856 \r\nL 791.420568 86.143355 \r\nL 791.494368 86.272478 \r\nL 791.568168 86.014232 \r\nL 791.641968 86.143355 \r\nL 791.715768 86.014232 \r\nL 791.789568 86.143355 \r\nL 791.863368 86.014232 \r\nL 791.937167 86.057273 \r\nL 792.010967 86.014232 \r\nL 792.084767 86.100314 \r\nL 792.306167 85.842069 \r\nL 792.379967 86.014232 \r\nL 792.453767 85.88511 \r\nL 792.527567 86.100314 \r\nL 792.601366 85.842069 \r\nL 792.675166 86.057273 \r\nL 792.748966 85.799028 \r\nL 792.822766 85.971191 \r\nL 792.896566 85.712946 \r\nL 792.970366 85.928151 \r\nL 793.117966 85.712946 \r\nL 793.339365 85.842069 \r\nL 793.413165 85.712946 \r\nL 793.486965 85.755987 \r\nL 793.782165 85.669905 \r\nL 793.855964 85.799028 \r\nL 793.929764 85.540782 \r\nL 794.003564 85.755987 \r\nL 794.077364 85.583823 \r\nL 794.151164 85.669905 \r\nL 794.446364 85.626864 \r\nL 794.520163 85.540782 \r\nL 794.593963 85.626864 \r\nL 794.815363 85.411659 \r\nL 794.889163 85.712946 \r\nL 794.962963 85.368618 \r\nL 795.036763 85.497741 \r\nL 795.184362 85.368618 \r\nL 795.553362 85.325577 \r\nL 795.700962 85.239495 \r\nL 795.774761 85.239495 \r\nL 795.848561 85.067332 \r\nL 795.922361 85.282536 \r\nL 795.996161 85.067332 \r\nL 796.069961 85.282536 \r\nL 796.143761 85.110373 \r\nL 796.217561 85.239495 \r\nL 796.291361 85.024291 \r\nL 796.365161 85.110373 \r\nL 796.51276 85.024291 \r\nL 796.66036 85.024291 \r\nL 797.029359 84.98125 \r\nL 797.103159 84.852127 \r\nL 797.176959 84.98125 \r\nL 797.250759 84.766045 \r\nL 797.324559 84.98125 \r\nL 797.398359 84.766045 \r\nL 797.472159 85.024291 \r\nL 797.545959 84.723004 \r\nL 797.619759 84.938209 \r\nL 797.693558 84.852127 \r\nL 798.210158 84.636922 \r\nL 798.431557 84.766045 \r\nL 798.505357 84.55084 \r\nL 798.579157 84.679963 \r\nL 798.652957 84.636922 \r\nL 798.726757 84.55084 \r\nL 798.800557 84.679963 \r\nL 798.874357 84.507799 \r\nL 798.948156 84.593881 \r\nL 799.169556 84.421717 \r\nL 799.464756 84.507799 \r\nL 799.612355 84.464758 \r\nL 799.907555 84.378676 \r\nL 799.981355 84.421717 \r\nL 800.055155 84.292595 \r\nL 800.128955 84.421717 \r\nL 800.202754 84.249554 \r\nL 800.276554 84.335635 \r\nL 800.571754 84.206513 \r\nL 800.645554 84.292595 \r\nL 800.719354 84.120431 \r\nL 800.793154 84.421717 \r\nL 800.866953 84.034349 \r\nL 800.940753 84.335635 \r\nL 801.014553 84.034349 \r\nL 801.088353 84.206513 \r\nL 801.162153 84.163472 \r\nL 801.309753 84.163472 \r\nL 801.383553 84.163472 \r\nL 801.457352 83.991308 \r\nL 801.531152 84.120431 \r\nL 801.604952 83.948267 \r\nL 801.678752 84.163472 \r\nL 801.752552 83.948267 \r\nL 801.826352 84.120431 \r\nL 801.900152 83.862185 \r\nL 801.973952 84.07739 \r\nL 802.047752 83.948267 \r\nL 802.121551 84.120431 \r\nL 802.195351 83.776103 \r\nL 802.269151 84.120431 \r\nL 802.342951 83.733062 \r\nL 802.416751 84.034349 \r\nL 802.490551 83.733062 \r\nL 802.564351 83.991308 \r\nL 802.638151 83.819144 \r\nL 802.711951 83.948267 \r\nL 802.78575 83.776103 \r\nL 802.85955 83.905226 \r\nL 802.93335 83.776103 \r\nL 803.00715 83.862185 \r\nL 803.15475 83.819144 \r\nL 803.30235 83.776103 \r\nL 803.376149 83.690021 \r\nL 803.449949 83.862185 \r\nL 803.523749 83.474817 \r\nL 803.597549 83.991308 \r\nL 803.671349 83.431776 \r\nL 803.745149 83.905226 \r\nL 803.818949 83.431776 \r\nL 803.892749 83.819144 \r\nL 803.966549 83.474817 \r\nL 804.040348 83.733062 \r\nL 804.114148 83.603939 \r\nL 804.187948 83.517857 \r\nL 804.261748 83.776103 \r\nL 804.335548 83.474817 \r\nL 804.409348 83.64698 \r\nL 804.483148 83.474817 \r\nL 804.556948 83.603939 \r\nL 804.630748 83.474817 \r\nL 804.704547 83.560898 \r\nL 804.852147 83.431776 \r\nL 804.925947 83.603939 \r\nL 804.999747 83.345694 \r\nL 805.073547 83.560898 \r\nL 805.147347 83.302653 \r\nL 805.221147 83.474817 \r\nL 805.294946 83.345694 \r\nL 805.368746 83.560898 \r\nL 805.442546 83.259612 \r\nL 805.516346 83.388735 \r\nL 805.737746 83.259612 \r\nL 805.811546 83.345694 \r\nL 805.959145 83.302653 \r\nL 806.328145 83.130489 \r\nL 806.401945 83.302653 \r\nL 806.475745 83.044407 \r\nL 806.549544 83.259612 \r\nL 806.623344 83.044407 \r\nL 806.697144 83.259612 \r\nL 806.770944 82.958325 \r\nL 806.844744 83.216571 \r\nL 806.918544 82.958325 \r\nL 806.992344 83.17353 \r\nL 807.066144 82.915284 \r\nL 807.139944 83.001366 \r\nL 807.287543 82.958325 \r\nL 807.361343 83.001366 \r\nL 807.435143 82.915284 \r\nL 807.508943 83.001366 \r\nL 807.582743 82.915284 \r\nL 807.656543 83.001366 \r\nL 807.730343 82.786161 \r\nL 807.804143 82.958325 \r\nL 807.877942 82.872243 \r\nL 807.951742 82.958325 \r\nL 808.025542 82.829202 \r\nL 808.099342 82.958325 \r\nL 808.173142 82.786161 \r\nL 808.246942 82.915284 \r\nL 808.320742 82.829202 \r\nL 808.542141 82.872243 \r\nL 808.615941 82.613998 \r\nL 808.689741 82.829202 \r\nL 808.763541 82.657038 \r\nL 808.837341 82.872243 \r\nL 808.911141 82.527916 \r\nL 808.984941 82.829202 \r\nL 809.058741 82.527916 \r\nL 809.13254 82.700079 \r\nL 809.35394 82.527916 \r\nL 809.42774 82.657038 \r\nL 809.50154 82.484875 \r\nL 809.57534 82.700079 \r\nL 809.64914 82.398793 \r\nL 809.722939 82.786161 \r\nL 809.796739 82.441834 \r\nL 809.870539 82.700079 \r\nL 809.944339 82.398793 \r\nL 810.018139 82.570957 \r\nL 810.239539 82.398793 \r\nL 810.387138 82.527916 \r\nL 810.460938 82.312711 \r\nL 810.534738 82.570957 \r\nL 810.608538 82.26967 \r\nL 810.682338 82.570957 \r\nL 810.756138 82.26967 \r\nL 810.829938 82.527916 \r\nL 810.903738 82.226629 \r\nL 810.977538 82.355752 \r\nL 811.051337 82.183588 \r\nL 811.125137 82.355752 \r\nL 811.198937 82.097506 \r\nL 811.272737 82.226629 \r\nL 811.420337 82.226629 \r\nL 811.494137 82.355752 \r\nL 811.567937 82.26967 \r\nL 811.789336 82.097506 \r\nL 811.863136 82.226629 \r\nL 812.010736 82.011424 \r\nL 812.084536 82.054465 \r\nL 812.158336 82.011424 \r\nL 812.232136 82.097506 \r\nL 812.453535 81.882301 \r\nL 812.527335 81.925342 \r\nL 812.601135 81.79622 \r\nL 812.674935 81.968383 \r\nL 812.748735 81.925342 \r\nL 812.970134 81.79622 \r\nL 813.043934 81.882301 \r\nL 813.117734 81.710138 \r\nL 813.191534 81.83926 \r\nL 813.265334 81.710138 \r\nL 813.339134 81.83926 \r\nL 813.412934 81.667097 \r\nL 813.486734 81.79622 \r\nL 813.560533 81.624056 \r\nL 813.634333 81.79622 \r\nL 813.708133 81.581015 \r\nL 813.929533 81.79622 \r\nL 814.224732 81.537974 \r\nL 814.298532 81.710138 \r\nL 814.372332 81.537974 \r\nL 814.446132 81.667097 \r\nL 814.519932 81.537974 \r\nL 814.593732 81.667097 \r\nL 814.667532 81.494933 \r\nL 814.741332 81.624056 \r\nL 814.962731 81.408851 \r\nL 815.036531 81.537974 \r\nL 815.110331 81.408851 \r\nL 815.184131 81.624056 \r\nL 815.257931 81.36581 \r\nL 815.331731 81.494933 \r\nL 815.405531 81.408851 \r\nL 815.55313 81.537974 \r\nL 815.62693 81.408851 \r\nL 815.70073 81.537974 \r\nL 815.77453 81.322769 \r\nL 815.84833 81.494933 \r\nL 816.143529 81.193646 \r\nL 816.512529 81.451892 \r\nL 816.586329 81.193646 \r\nL 816.660129 81.36581 \r\nL 816.733928 81.107564 \r\nL 816.807728 81.236687 \r\nL 817.029128 81.150605 \r\nL 817.250528 81.107564 \r\nL 817.324328 81.193646 \r\nL 817.398127 81.064523 \r\nL 817.471927 81.193646 \r\nL 817.545727 81.064523 \r\nL 817.619527 81.279728 \r\nL 817.693327 80.935401 \r\nL 817.767127 81.236687 \r\nL 817.988526 80.849319 \r\nL 818.357526 80.591073 \r\nL 818.431326 80.806278 \r\nL 818.505126 80.591073 \r\nL 818.578926 80.806278 \r\nL 818.800325 80.46195 \r\nL 818.874125 80.677155 \r\nL 818.947925 80.504991 \r\nL 819.021725 80.720196 \r\nL 819.095525 80.548032 \r\nL 819.169325 80.720196 \r\nL 819.243125 80.46195 \r\nL 819.316924 80.720196 \r\nL 819.390724 80.332827 \r\nL 819.464524 80.46195 \r\nL 819.538324 80.289786 \r\nL 819.612124 80.46195 \r\nL 819.685924 80.289786 \r\nL 819.759724 80.332827 \r\nL 820.054923 80.203704 \r\nL 820.128723 80.246745 \r\nL 820.202523 80.117623 \r\nL 820.276323 80.203704 \r\nL 820.350123 80.117623 \r\nL 820.423923 80.246745 \r\nL 820.497723 80.031541 \r\nL 820.571522 80.375868 \r\nL 820.645322 79.816336 \r\nL 820.719122 80.504991 \r\nL 820.792922 79.773295 \r\nL 820.866722 80.46195 \r\nL 820.940522 79.687213 \r\nL 821.014322 80.203704 \r\nL 821.161922 79.902418 \r\nL 821.235721 79.9885 \r\nL 821.309521 79.773295 \r\nL 821.383321 80.031541 \r\nL 821.457121 79.55809 \r\nL 821.530921 80.074582 \r\nL 821.604721 79.515049 \r\nL 821.678521 80.117623 \r\nL 821.752321 79.601131 \r\nL 821.82612 79.945459 \r\nL 821.89992 79.55809 \r\nL 821.97372 79.644172 \r\nL 822.04752 79.55809 \r\nL 822.12132 79.687213 \r\nL 822.19512 79.55809 \r\nL 822.26892 79.644172 \r\nL 822.34272 79.55809 \r\nL 822.41652 79.644172 \r\nL 822.490319 79.55809 \r\nL 822.564119 79.687213 \r\nL 822.637919 79.515049 \r\nL 822.711719 79.773295 \r\nL 822.785519 79.428967 \r\nL 822.859319 79.601131 \r\nL 822.933119 79.299845 \r\nL 823.006919 79.515049 \r\nL 823.080718 79.256804 \r\nL 823.154518 79.515049 \r\nL 823.228318 79.299845 \r\nL 823.302118 79.472008 \r\nL 823.375918 79.170722 \r\nL 823.449718 79.385926 \r\nL 823.671118 79.213763 \r\nL 823.744917 79.385926 \r\nL 823.966317 79.041599 \r\nL 824.040117 79.213763 \r\nL 824.113917 79.041599 \r\nL 824.187717 79.170722 \r\nL 824.261517 78.955517 \r\nL 824.335317 79.127681 \r\nL 824.409116 78.869435 \r\nL 824.482916 79.170722 \r\nL 824.556716 78.869435 \r\nL 824.630516 79.041599 \r\nL 824.704316 78.912476 \r\nL 824.778116 79.041599 \r\nL 824.851916 78.826394 \r\nL 824.925716 78.869435 \r\nL 824.999515 78.955517 \r\nL 825.073315 78.783353 \r\nL 825.147115 78.955517 \r\nL 825.220915 78.826394 \r\nL 825.294715 78.955517 \r\nL 825.368515 78.869435 \r\nL 825.442315 78.912476 \r\nL 825.516115 78.826394 \r\nL 825.589915 78.998558 \r\nL 825.663714 78.697271 \r\nL 825.737514 78.826394 \r\nL 826.032714 78.697271 \r\nL 826.254113 78.826394 \r\nL 826.401713 78.65423 \r\nL 826.623113 78.697271 \r\nL 827.213512 78.352944 \r\nL 827.287312 78.482067 \r\nL 827.361112 78.266862 \r\nL 827.434912 78.439026 \r\nL 827.508712 78.309903 \r\nL 827.582511 78.482067 \r\nL 827.656311 78.395985 \r\nL 827.730111 78.352944 \r\nL 827.803911 78.482067 \r\nL 827.877711 78.266862 \r\nL 827.951511 78.352944 \r\nL 828.17291 78.223821 \r\nL 828.24671 78.266862 \r\nL 828.54191 78.051657 \r\nL 828.76331 78.352944 \r\nL 828.837109 78.137739 \r\nL 828.910909 78.309903 \r\nL 828.984709 77.965575 \r\nL 829.058509 78.094698 \r\nL 829.132309 78.008616 \r\nL 829.279909 78.051657 \r\nL 829.353709 78.008616 \r\nL 829.427509 78.137739 \r\nL 829.501308 77.965575 \r\nL 829.575108 78.008616 \r\nL 829.796508 77.836452 \r\nL 829.870308 78.008616 \r\nL 829.944108 77.879493 \r\nL 830.017908 78.051657 \r\nL 830.091707 77.836452 \r\nL 830.165507 78.094698 \r\nL 830.239307 77.621248 \r\nL 830.313107 78.008616 \r\nL 830.386907 77.578207 \r\nL 830.460707 77.965575 \r\nL 830.534507 77.621248 \r\nL 830.608307 77.836452 \r\nL 830.682107 77.75037 \r\nL 830.755906 77.664289 \r\nL 830.829706 77.922534 \r\nL 830.903506 77.578207 \r\nL 830.977306 77.879493 \r\nL 831.051106 77.535166 \r\nL 831.124906 77.836452 \r\nL 831.198706 77.664289 \r\nL 831.272506 77.75037 \r\nL 831.420105 77.578207 \r\nL 831.493905 77.75037 \r\nL 831.567705 77.492125 \r\nL 831.641505 77.75037 \r\nL 831.715305 77.449084 \r\nL 831.789105 77.793411 \r\nL 831.862905 77.449084 \r\nL 831.936705 77.707329 \r\nL 832.010504 77.363002 \r\nL 832.084304 77.578207 \r\nL 832.158104 77.406043 \r\nL 832.231904 77.578207 \r\nL 832.305704 77.406043 \r\nL 832.379504 77.492125 \r\nL 832.453304 77.363002 \r\nL 832.527104 77.492125 \r\nL 832.600904 77.406043 \r\nL 832.674703 77.449084 \r\nL 832.748503 77.363002 \r\nL 832.822303 77.492125 \r\nL 832.896103 77.319961 \r\nL 832.969903 77.492125 \r\nL 833.043703 77.27692 \r\nL 833.117503 77.535166 \r\nL 833.191303 77.233879 \r\nL 833.265102 77.492125 \r\nL 833.338902 77.104756 \r\nL 833.412702 77.578207 \r\nL 833.486502 77.233879 \r\nL 833.560302 77.578207 \r\nL 833.634102 77.190838 \r\nL 833.707902 77.363002 \r\nL 833.855502 77.233879 \r\nL 833.929301 77.363002 \r\nL 834.003101 77.061715 \r\nL 834.076901 77.406043 \r\nL 834.150701 77.018674 \r\nL 834.224501 77.492125 \r\nL 834.298301 77.104756 \r\nL 834.372101 77.319961 \r\nL 834.445901 76.975633 \r\nL 834.519701 77.363002 \r\nL 834.5935 77.104756 \r\nL 834.6673 77.190838 \r\nL 834.8149 77.147797 \r\nL 835.1101 76.975633 \r\nL 835.183899 77.190838 \r\nL 835.257699 77.018674 \r\nL 835.331499 77.406043 \r\nL 835.405299 76.80347 \r\nL 835.479099 77.233879 \r\nL 835.552899 76.631306 \r\nL 835.626699 77.104756 \r\nL 835.700499 76.674347 \r\nL 835.774299 77.233879 \r\nL 835.921898 76.889551 \r\nL 835.995698 77.018674 \r\nL 836.069498 76.80347 \r\nL 836.143298 76.975633 \r\nL 836.217098 76.717388 \r\nL 836.290898 77.104756 \r\nL 836.364698 76.80347 \r\nL 836.438497 77.018674 \r\nL 836.512297 76.631306 \r\nL 836.586097 76.932592 \r\nL 836.659897 76.717388 \r\nL 836.733697 76.846511 \r\nL 836.807497 76.80347 \r\nL 836.881297 76.588265 \r\nL 836.955097 76.846511 \r\nL 837.028897 76.588265 \r\nL 837.102696 76.932592 \r\nL 837.324096 76.459142 \r\nL 837.397896 76.80347 \r\nL 837.471696 76.459142 \r\nL 837.545496 76.889551 \r\nL 837.619296 76.502183 \r\nL 837.693096 76.631306 \r\nL 837.840695 76.545224 \r\nL 837.988295 76.459142 \r\nL 838.062095 76.760429 \r\nL 838.135895 76.502183 \r\nL 838.209695 76.674347 \r\nL 838.283495 76.37306 \r\nL 838.357294 76.674347 \r\nL 838.431094 76.330019 \r\nL 838.504894 76.588265 \r\nL 838.578694 76.37306 \r\nL 838.652494 76.416101 \r\nL 838.800094 76.37306 \r\nL 838.873894 76.416101 \r\nL 839.095293 76.286978 \r\nL 839.169093 76.459142 \r\nL 839.242893 76.243937 \r\nL 839.316693 76.416101 \r\nL 839.390493 76.200896 \r\nL 839.464293 76.330019 \r\nL 839.538093 76.114814 \r\nL 839.611892 76.243937 \r\nL 839.685692 76.200896 \r\nL 839.907092 76.071773 \r\nL 839.980892 76.286978 \r\nL 840.054692 76.071773 \r\nL 840.128492 76.243937 \r\nL 840.202292 75.985692 \r\nL 840.276091 76.286978 \r\nL 840.349891 76.028732 \r\nL 840.423691 76.200896 \r\nL 840.571291 76.071773 \r\nL 840.94029 76.071773 \r\nL 841.01409 75.856569 \r\nL 841.08789 76.028732 \r\nL 841.16169 75.813528 \r\nL 841.23549 76.028732 \r\nL 841.30929 75.770487 \r\nL 841.38309 75.985692 \r\nL 841.45689 75.813528 \r\nL 841.604489 75.985692 \r\nL 841.752089 75.942651 \r\nL 841.899689 75.942651 \r\nL 841.973489 75.942651 \r\nL 842.047289 75.727446 \r\nL 842.121089 75.856569 \r\nL 842.194888 75.727446 \r\nL 842.268688 75.813528 \r\nL 842.490088 75.598323 \r\nL 842.563888 75.813528 \r\nL 842.637688 75.598323 \r\nL 842.711488 75.770487 \r\nL 842.785288 75.598323 \r\nL 842.859087 75.770487 \r\nL 842.932887 75.555282 \r\nL 843.006687 75.684405 \r\nL 843.080487 75.641364 \r\nL 843.154287 75.512241 \r\nL 843.228087 75.684405 \r\nL 843.301887 75.4692 \r\nL 843.375687 75.727446 \r\nL 843.449486 75.340077 \r\nL 843.523286 75.770487 \r\nL 843.597086 75.383118 \r\nL 843.670886 75.555282 \r\nL 843.744686 75.340077 \r\nL 843.818486 75.512241 \r\nL 843.892286 75.383118 \r\nL 843.966086 75.426159 \r\nL 844.113685 75.4692 \r\nL 844.187485 75.340077 \r\nL 844.261285 75.555282 \r\nL 844.335085 75.167914 \r\nL 844.408885 75.512241 \r\nL 844.482685 75.383118 \r\nL 844.556485 75.426159 \r\nL 844.630285 75.297036 \r\nL 844.704084 75.383118 \r\nL 844.999284 75.253995 \r\nL 845.073084 75.340077 \r\nL 845.146884 75.167914 \r\nL 845.220684 75.297036 \r\nL 845.294484 74.99575 \r\nL 845.368283 75.297036 \r\nL 845.442083 74.99575 \r\nL 845.515883 75.253995 \r\nL 845.589683 74.866627 \r\nL 845.663483 75.253995 \r\nL 845.737283 74.99575 \r\nL 845.811083 75.081832 \r\nL 846.032482 74.866627 \r\nL 846.106282 74.952709 \r\nL 846.180082 74.823586 \r\nL 846.253882 74.99575 \r\nL 846.327682 74.780545 \r\nL 846.401482 75.038791 \r\nL 846.475282 74.56534 \r\nL 846.549082 74.909668 \r\nL 846.622881 74.694463 \r\nL 846.696681 74.909668 \r\nL 846.770481 74.608381 \r\nL 846.844281 74.823586 \r\nL 846.918081 74.436217 \r\nL 846.991881 74.608381 \r\nL 847.065681 74.651422 \r\nL 847.139481 74.479258 \r\nL 847.213281 74.694463 \r\nL 847.28708 74.436217 \r\nL 847.36088 74.694463 \r\nL 847.43468 74.436217 \r\nL 847.50848 74.651422 \r\nL 847.58228 74.393176 \r\nL 847.65608 74.522299 \r\nL 847.72988 74.436217 \r\nL 847.80368 74.608381 \r\nL 847.951279 74.350136 \r\nL 848.025079 74.436217 \r\nL 848.246479 74.221013 \r\nL 848.320279 74.436217 \r\nL 848.394079 74.177972 \r\nL 848.467879 74.393176 \r\nL 848.541678 74.221013 \r\nL 848.615478 74.479258 \r\nL 848.689278 74.221013 \r\nL 848.763078 74.393176 \r\nL 848.836878 74.350136 \r\nL 849.058278 74.264054 \r\nL 849.279677 74.005808 \r\nL 849.427277 74.134931 \r\nL 849.501077 74.048849 \r\nL 849.574877 74.264054 \r\nL 849.648677 74.048849 \r\nL 849.722477 74.177972 \r\nL 849.870076 74.005808 \r\nL 850.165276 74.09189 \r\nL 850.312876 74.005808 \r\nL 850.534275 73.833644 \r\nL 850.608075 74.005808 \r\nL 850.681875 73.747562 \r\nL 850.755675 73.962767 \r\nL 850.829475 73.66148 \r\nL 850.903275 73.919726 \r\nL 850.977075 73.704521 \r\nL 851.050875 73.790603 \r\nL 851.272274 73.618439 \r\nL 851.419874 73.919726 \r\nL 851.493674 73.704521 \r\nL 851.567474 73.790603 \r\nL 851.788873 73.575398 \r\nL 851.862673 73.790603 \r\nL 851.936473 73.66148 \r\nL 852.010273 73.790603 \r\nL 852.084073 73.704521 \r\nL 852.157873 73.747562 \r\nL 852.231673 73.532358 \r\nL 852.305473 73.747562 \r\nL 852.453072 73.532358 \r\nL 852.526872 73.704521 \r\nL 852.600672 73.489317 \r\nL 852.674472 73.66148 \r\nL 852.748272 73.446276 \r\nL 852.822072 73.66148 \r\nL 852.895872 73.446276 \r\nL 852.969671 73.532358 \r\nL 853.043471 73.403235 \r\nL 853.117271 73.532358 \r\nL 853.191071 73.403235 \r\nL 853.264871 73.532358 \r\nL 853.338671 73.360194 \r\nL 853.412471 73.446276 \r\nL 853.70767 73.231071 \r\nL 853.78147 73.360194 \r\nL 853.85527 73.274112 \r\nL 854.07667 73.317153 \r\nL 854.15047 73.231071 \r\nL 854.22427 73.360194 \r\nL 854.298069 73.18803 \r\nL 854.371869 73.360194 \r\nL 854.445669 73.18803 \r\nL 854.519469 73.317153 \r\nL 854.593269 73.144989 \r\nL 854.667069 73.274112 \r\nL 854.740869 73.144989 \r\nL 854.814669 73.274112 \r\nL 854.888468 73.18803 \r\nL 855.183668 72.929784 \r\nL 855.405068 73.015866 \r\nL 855.552667 72.972825 \r\nL 855.921667 73.101948 \r\nL 856.069267 73.058907 \r\nL 856.364466 72.972825 \r\nL 856.512066 72.929784 \r\nL 856.585866 72.972825 \r\nL 856.659666 72.843702 \r\nL 856.733466 72.929784 \r\nL 856.807265 72.843702 \r\nL 856.881065 72.972825 \r\nL 856.954865 72.886743 \r\nL 857.545264 72.843702 \r\nL 857.766664 72.71458 \r\nL 858.504663 72.75762 \r\nL 858.578463 72.585457 \r\nL 858.652263 72.800661 \r\nL 858.726062 72.71458 \r\nL 858.799862 72.800661 \r\nL 859.021262 72.499375 \r\nL 859.095062 72.542416 \r\nL 859.168862 72.413293 \r\nL 859.390261 72.585457 \r\nL 859.833061 72.327211 \r\nL 859.906861 72.499375 \r\nL 859.98066 72.413293 \r\nL 860.20206 72.542416 \r\nL 860.27586 72.327211 \r\nL 860.34966 72.585457 \r\nL 860.42346 72.28417 \r\nL 860.49726 72.456334 \r\nL 860.57106 72.370252 \r\nL 860.644859 72.327211 \r\nL 860.718659 72.456334 \r\nL 860.792459 72.198088 \r\nL 860.866259 72.499375 \r\nL 860.940059 72.241129 \r\nL 861.013859 72.456334 \r\nL 861.087659 72.155047 \r\nL 861.161459 72.413293 \r\nL 861.235258 72.155047 \r\nL 861.309058 72.327211 \r\nL 861.382858 72.025924 \r\nL 861.456658 72.327211 \r\nL 861.530458 71.982883 \r\nL 861.604258 72.241129 \r\nL 861.678058 71.939842 \r\nL 861.751858 72.28417 \r\nL 861.825658 71.939842 \r\nL 861.899457 72.241129 \r\nL 861.973257 71.982883 \r\nL 862.047057 72.155047 \r\nL 862.120857 71.896801 \r\nL 862.194657 72.155047 \r\nL 862.268457 71.896801 \r\nL 862.342257 72.068965 \r\nL 862.416057 71.767679 \r\nL 862.489857 72.025924 \r\nL 862.563656 71.767679 \r\nL 862.637456 72.025924 \r\nL 862.711256 71.638556 \r\nL 862.785056 72.155047 \r\nL 862.858856 71.638556 \r\nL 862.932656 72.198088 \r\nL 863.006456 71.638556 \r\nL 863.080256 71.982883 \r\nL 863.154055 71.552474 \r\nL 863.227855 71.896801 \r\nL 863.301655 71.595515 \r\nL 863.375455 71.767679 \r\nL 863.449255 71.681597 \r\nL 863.523055 71.638556 \r\nL 863.596855 71.724638 \r\nL 863.670655 71.509433 \r\nL 863.744455 71.724638 \r\nL 863.818254 71.552474 \r\nL 863.892054 71.767679 \r\nL 863.965854 71.509433 \r\nL 864.039654 71.81072 \r\nL 864.113454 71.552474 \r\nL 864.187254 71.939842 \r\nL 864.261054 71.595515 \r\nL 864.334854 71.853761 \r\nL 864.556253 71.466392 \r\nL 864.630053 71.552474 \r\nL 864.703853 71.466392 \r\nL 864.777653 71.595515 \r\nL 864.851453 71.423351 \r\nL 864.925253 71.552474 \r\nL 864.999053 71.423351 \r\nL 865.072852 71.552474 \r\nL 865.146652 71.423351 \r\nL 865.368052 71.595515 \r\nL 865.441852 71.466392 \r\nL 865.515652 71.638556 \r\nL 865.589452 71.423351 \r\nL 865.663252 71.595515 \r\nL 865.737051 71.466392 \r\nL 865.810851 71.595515 \r\nL 865.884651 71.38031 \r\nL 865.958451 71.552474 \r\nL 866.032251 71.423351 \r\nL 866.106051 71.509433 \r\nL 866.179851 71.423351 \r\nL 866.253651 71.509433 \r\nL 866.32745 71.294228 \r\nL 866.40125 71.466392 \r\nL 866.47505 71.294228 \r\nL 866.54885 71.337269 \r\nL 866.69645 71.337269 \r\nL 866.77025 71.423351 \r\nL 866.84405 71.294228 \r\nL 866.91785 71.466392 \r\nL 866.991649 71.294228 \r\nL 867.065449 71.423351 \r\nL 867.139249 71.337269 \r\nL 867.213049 71.38031 \r\nL 867.360649 71.337269 \r\nL 867.434449 71.38031 \r\nL 867.508249 71.251187 \r\nL 867.582049 71.466392 \r\nL 867.655848 71.208146 \r\nL 867.729648 71.423351 \r\nL 867.803448 71.165105 \r\nL 867.877248 71.337269 \r\nL 868.098648 71.122064 \r\nL 868.320047 71.122064 \r\nL 868.393847 70.992942 \r\nL 868.467647 71.079023 \r\nL 868.541447 71.035983 \r\nL 868.615247 71.122064 \r\nL 868.689047 70.992942 \r\nL 868.762847 71.165105 \r\nL 868.836647 70.992942 \r\nL 868.910446 71.079023 \r\nL 869.279446 70.90686 \r\nL 869.353246 70.992942 \r\nL 869.427046 70.820778 \r\nL 869.500845 71.035983 \r\nL 869.574645 70.777737 \r\nL 869.648445 70.949901 \r\nL 869.869845 70.691655 \r\nL 869.943645 70.734696 \r\nL 870.017445 70.605573 \r\nL 870.091245 70.691655 \r\nL 870.312644 70.734696 \r\nL 870.607844 70.648614 \r\nL 870.755444 70.648614 \r\nL 871.788642 70.562532 \r\nL 872.010042 70.519491 \r\nL 872.083841 70.605573 \r\nL 872.305241 70.47645 \r\nL 872.379041 70.605573 \r\nL 872.452841 70.433409 \r\nL 872.526641 70.47645 \r\nL 873.11704 70.390368 \r\nL 873.26464 70.390368 \r\nL 873.412239 70.433409 \r\nL 873.486039 70.47645 \r\nL 873.559839 70.347327 \r\nL 873.633639 70.433409 \r\nL 873.707439 70.47645 \r\nL 873.855039 70.390368 \r\nL 875.478636 70.347327 \r\nL 875.700036 70.132123 \r\nL 875.773836 70.261245 \r\nL 875.847636 70.089082 \r\nL 875.921435 70.261245 \r\nL 875.995235 70.175164 \r\nL 876.069035 70.304286 \r\nL 876.142835 70.175164 \r\nL 876.216635 70.390368 \r\nL 876.290435 70.304286 \r\nL 876.511834 70.089082 \r\nL 876.585634 70.261245 \r\nL 876.659434 70.046041 \r\nL 876.733234 70.175164 \r\nL 876.807034 70.046041 \r\nL 876.880834 70.218205 \r\nL 876.954634 70.046041 \r\nL 877.028434 70.218205 \r\nL 877.102234 70.089082 \r\nL 877.176033 70.218205 \r\nL 877.249833 70.089082 \r\nL 877.323633 70.175164 \r\nL 877.397433 70.089082 \r\nL 877.471233 70.175164 \r\nL 877.545033 70.046041 \r\nL 877.618833 70.175164 \r\nL 877.692633 70.003 \r\nL 877.766432 70.175164 \r\nL 877.840232 69.916918 \r\nL 877.914032 70.089082 \r\nL 877.987832 69.873877 \r\nL 878.061632 70.046041 \r\nL 878.135432 69.873877 \r\nL 878.209232 70.003 \r\nL 878.283032 69.830836 \r\nL 878.430631 70.003 \r\nL 878.578231 70.003 \r\nL 878.652031 69.916918 \r\nL 878.725831 70.003 \r\nL 878.799631 69.830836 \r\nL 878.873431 69.873877 \r\nL 879.09483 69.744754 \r\nL 879.16863 69.916918 \r\nL 879.24243 69.744754 \r\nL 879.31623 69.959959 \r\nL 879.39003 69.787795 \r\nL 879.46383 69.916918 \r\nL 879.53763 69.787795 \r\nL 879.61143 69.916918 \r\nL 879.685229 69.658672 \r\nL 879.759029 69.873877 \r\nL 879.832829 69.701713 \r\nL 879.906629 69.830836 \r\nL 879.980429 69.787795 \r\nL 880.275629 69.830836 \r\nL 880.349428 69.615631 \r\nL 880.423228 69.787795 \r\nL 880.497028 69.57259 \r\nL 880.570828 69.744754 \r\nL 880.644628 69.57259 \r\nL 880.718428 69.615631 \r\nL 880.866028 69.529549 \r\nL 880.939828 69.529549 \r\nL 881.013627 69.658672 \r\nL 881.087427 69.57259 \r\nL 881.161227 69.486508 \r\nL 881.235027 69.615631 \r\nL 881.308827 69.443467 \r\nL 881.382627 69.57259 \r\nL 881.456427 69.486508 \r\nL 882.489625 69.400427 \r\nL 882.563425 69.357386 \r\nL 882.637225 69.529549 \r\nL 882.711025 69.271304 \r\nL 882.784825 69.486508 \r\nL 882.858624 69.271304 \r\nL 882.932424 69.529549 \r\nL 883.006224 69.228263 \r\nL 883.080024 69.400427 \r\nL 883.153824 69.185222 \r\nL 883.227624 69.400427 \r\nL 883.301424 69.228263 \r\nL 883.375224 69.357386 \r\nL 883.449024 69.271304 \r\nL 883.744223 69.228263 \r\nL 883.818023 69.142181 \r\nL 883.891823 69.357386 \r\nL 883.965623 69.09914 \r\nL 884.039423 69.357386 \r\nL 884.113223 69.056099 \r\nL 884.187022 69.228263 \r\nL 884.260822 69.09914 \r\nL 884.334622 69.228263 \r\nL 884.408422 69.142181 \r\nL 884.556022 69.228263 \r\nL 884.629822 68.970017 \r\nL 884.703622 69.228263 \r\nL 884.777421 69.013058 \r\nL 884.851221 69.228263 \r\nL 884.925021 68.970017 \r\nL 884.998821 69.142181 \r\nL 885.072621 68.926976 \r\nL 885.146421 69.09914 \r\nL 885.220221 69.056099 \r\nL 885.294021 68.970017 \r\nL 885.367821 69.09914 \r\nL 885.44162 68.970017 \r\nL 885.51542 69.056099 \r\nL 885.81062 69.013058 \r\nL 886.032019 68.797853 \r\nL 886.105819 68.883935 \r\nL 886.179619 68.797853 \r\nL 886.253419 68.883935 \r\nL 886.327219 68.797853 \r\nL 886.401019 68.883935 \r\nL 886.474819 68.797853 \r\nL 886.548619 68.883935 \r\nL 886.622419 68.711771 \r\nL 886.696218 68.797853 \r\nL 886.843818 68.66873 \r\nL 886.917618 68.840894 \r\nL 886.991418 68.711771 \r\nL 887.065218 68.840894 \r\nL 887.139018 68.711771 \r\nL 887.212818 68.754812 \r\nL 887.286618 68.797853 \r\nL 887.360417 68.711771 \r\nL 887.434217 68.840894 \r\nL 887.508017 68.797853 \r\nL 887.581817 68.797853 \r\nL 887.655617 68.66873 \r\nL 887.729417 68.840894 \r\nL 887.803217 68.625689 \r\nL 887.877017 68.797853 \r\nL 887.950816 68.66873 \r\nL 888.024616 68.754812 \r\nL 888.172216 68.625689 \r\nL 888.246016 68.711771 \r\nL 888.319816 68.625689 \r\nL 888.393616 68.754812 \r\nL 888.615015 68.539608 \r\nL 888.688815 68.625689 \r\nL 888.762615 68.539608 \r\nL 888.836415 68.66873 \r\nL 888.910215 68.625689 \r\nL 889.353014 68.625689 \r\nL 889.426814 68.496567 \r\nL 889.500614 68.582648 \r\nL 889.648214 68.539608 \r\nL 889.722014 68.496567 \r\nL 889.795814 68.625689 \r\nL 889.869613 68.496567 \r\nL 889.943413 68.582648 \r\nL 890.312413 68.625689 \r\nL 890.386213 68.453526 \r\nL 890.460013 68.539608 \r\nL 890.533812 68.453526 \r\nL 890.607612 68.539608 \r\nL 890.681412 68.453526 \r\nL 890.755212 68.539608 \r\nL 890.902812 68.496567 \r\nL 890.976612 68.453526 \r\nL 891.050412 68.539608 \r\nL 891.124211 68.410485 \r\nL 891.198011 68.496567 \r\nL 891.419411 68.453526 \r\nL 891.493211 68.496567 \r\nL 891.567011 68.324403 \r\nL 891.640811 68.410485 \r\nL 891.78841 68.367444 \r\nL 891.86221 68.410485 \r\nL 891.93601 68.324403 \r\nL 892.00981 68.453526 \r\nL 892.08361 68.367444 \r\nL 892.15741 68.410485 \r\nL 892.23121 68.281362 \r\nL 892.30501 68.453526 \r\nL 892.526409 68.281362 \r\nL 892.600209 68.324403 \r\nL 892.821609 68.19528 \r\nL 892.895409 68.281362 \r\nL 892.969209 68.19528 \r\nL 893.043008 68.281362 \r\nL 893.190608 68.152239 \r\nL 893.264408 68.324403 \r\nL 893.338208 68.152239 \r\nL 893.412008 68.367444 \r\nL 893.485808 68.109198 \r\nL 893.559608 68.238321 \r\nL 893.781007 68.19528 \r\nL 893.854807 68.19528 \r\nL 893.928607 68.066157 \r\nL 894.002407 68.109198 \r\nL 894.150007 68.023116 \r\nL 894.371406 68.19528 \r\nL 894.445206 68.066157 \r\nL 894.519006 68.238321 \r\nL 894.592806 68.066157 \r\nL 894.666606 68.152239 \r\nL 894.740406 68.023116 \r\nL 894.814206 68.152239 \r\nL 894.961805 67.980075 \r\nL 895.035605 68.023116 \r\nL 895.183205 67.850952 \r\nL 895.257005 67.980075 \r\nL 895.330805 67.850952 \r\nL 895.404605 67.937034 \r\nL 895.552205 67.893993 \r\nL 895.773604 68.023116 \r\nL 896.290203 67.76487 \r\nL 896.364003 67.807911 \r\nL 896.437803 67.72183 \r\nL 896.511603 67.850952 \r\nL 896.585403 67.76487 \r\nL 896.733003 67.850952 \r\nL 897.028202 67.76487 \r\nL 897.249602 67.635748 \r\nL 897.323402 67.72183 \r\nL 897.397202 67.635748 \r\nL 897.544801 67.850952 \r\nL 897.618601 67.678789 \r\nL 897.692401 67.850952 \r\nL 897.913801 67.678789 \r\nL 898.061401 67.678789 \r\nL 898.578 67.678789 \r\nL 898.7256 67.463584 \r\nL 898.799399 67.506625 \r\nL 899.020799 67.205338 \r\nL 899.094599 67.420543 \r\nL 899.168399 67.248379 \r\nL 899.242199 67.420543 \r\nL 899.315999 67.377502 \r\nL 899.537398 67.592707 \r\nL 899.611198 67.420543 \r\nL 899.758798 67.549666 \r\nL 899.906398 67.506625 \r\nL 899.980198 67.463584 \r\nL 900.053997 67.248379 \r\nL 900.127797 67.334461 \r\nL 900.201597 67.162297 \r\nL 900.275397 67.377502 \r\nL 900.349197 67.334461 \r\nL 900.422997 67.334461 \r\nL 900.496797 67.119256 \r\nL 900.570597 67.334461 \r\nL 900.791996 67.076215 \r\nL 900.939596 67.119256 \r\nL 901.013396 66.947092 \r\nL 901.087196 67.076215 \r\nL 901.160996 66.990133 \r\nL 901.234796 67.076215 \r\nL 901.308595 66.947092 \r\nL 901.456195 67.119256 \r\nL 901.529995 67.033174 \r\nL 901.603795 67.119256 \r\nL 901.677595 66.861011 \r\nL 901.751395 67.248379 \r\nL 901.825195 66.774929 \r\nL 901.898995 67.119256 \r\nL 901.972794 66.904052 \r\nL 902.046594 66.990133 \r\nL 902.415594 66.904052 \r\nL 902.710793 66.81797 \r\nL 902.932193 66.904052 \r\nL 903.005993 66.645806 \r\nL 903.153593 66.947092 \r\nL 903.227392 66.990133 \r\nL 903.448792 66.81797 \r\nL 903.743992 66.731888 \r\nL 904.039191 66.861011 \r\nL 904.112991 66.81797 \r\nL 904.186791 66.645806 \r\nL 904.260591 66.861011 \r\nL 904.334391 66.559724 \r\nL 904.408191 66.688847 \r\nL 904.48199 66.559724 \r\nL 904.70339 66.81797 \r\nL 904.77719 66.645806 \r\nL 904.85099 66.688847 \r\nL 904.99859 66.731888 \r\nL 905.219989 66.559724 \r\nL 905.441389 66.731888 \r\nL 905.515189 66.774929 \r\nL 905.588989 66.645806 \r\nL 905.662789 66.774929 \r\nL 905.736589 66.602765 \r\nL 905.810388 66.688847 \r\nL 905.884188 66.602765 \r\nL 905.957988 66.688847 \r\nL 906.179388 66.38756 \r\nL 906.253188 66.688847 \r\nL 906.326988 66.38756 \r\nL 906.400787 66.473642 \r\nL 906.622187 66.516683 \r\nL 906.695987 66.516683 \r\nL 906.769787 66.645806 \r\nL 906.843587 66.516683 \r\nL 906.917387 66.645806 \r\nL 906.991187 66.344519 \r\nL 907.064986 66.645806 \r\nL 907.138786 66.344519 \r\nL 907.212586 66.559724 \r\nL 907.286386 66.344519 \r\nL 907.360186 66.516683 \r\nL 907.581586 66.344519 \r\nL 907.655385 66.430601 \r\nL 907.729185 66.344519 \r\nL 907.876785 66.559724 \r\nL 907.950585 66.344519 \r\nL 908.024385 66.559724 \r\nL 908.098185 66.172355 \r\nL 908.171985 66.473642 \r\nL 908.245785 66.215396 \r\nL 908.319584 66.430601 \r\nL 908.393384 66.258437 \r\nL 908.467184 66.344519 \r\nL 908.688584 66.38756 \r\nL 908.762384 66.172355 \r\nL 908.836184 66.38756 \r\nL 908.909984 66.129314 \r\nL 908.983783 66.344519 \r\nL 909.057583 66.172355 \r\nL 909.131383 66.301478 \r\nL 909.205183 66.215396 \r\nL 909.795582 66.129314 \r\nL 910.090782 66.000192 \r\nL 910.164582 66.172355 \r\nL 910.238381 65.828028 \r\nL 910.312181 66.172355 \r\nL 910.385981 65.784987 \r\nL 910.459781 66.129314 \r\nL 910.533581 65.828028 \r\nL 910.607381 66.086274 \r\nL 910.681181 66.000192 \r\nL 910.754981 66.043233 \r\nL 910.90258 65.741946 \r\nL 910.97638 66.043233 \r\nL 911.05018 65.655864 \r\nL 911.12398 65.957151 \r\nL 911.19778 65.784987 \r\nL 911.27158 65.957151 \r\nL 911.34538 65.741946 \r\nL 911.41918 66.000192 \r\nL 911.492979 65.784987 \r\nL 911.566779 66.000192 \r\nL 911.640579 65.91411 \r\nL 911.714379 66.000192 \r\nL 911.935779 65.784987 \r\nL 912.009579 65.91411 \r\nL 912.083379 65.526741 \r\nL 912.157178 65.784987 \r\nL 912.230978 65.526741 \r\nL 912.304778 65.698905 \r\nL 912.378578 65.526741 \r\nL 912.452378 65.655864 \r\nL 912.526178 65.526741 \r\nL 912.599978 65.655864 \r\nL 912.673778 65.526741 \r\nL 912.747577 65.741946 \r\nL 912.821377 65.4837 \r\nL 912.895177 65.612823 \r\nL 912.968977 65.526741 \r\nL 913.042777 65.698905 \r\nL 913.116577 65.569782 \r\nL 913.190377 65.612823 \r\nL 913.633176 65.569782 \r\nL 913.706976 65.4837 \r\nL 913.780776 65.612823 \r\nL 913.854576 65.440659 \r\nL 913.928376 65.612823 \r\nL 914.002176 65.354577 \r\nL 914.075975 65.655864 \r\nL 914.149775 65.354577 \r\nL 914.223575 65.655864 \r\nL 914.297375 65.397618 \r\nL 914.371175 65.4837 \r\nL 914.887774 65.4837 \r\nL 914.961574 65.354577 \r\nL 915.035374 65.440659 \r\nL 915.109174 65.354577 \r\nL 915.182974 65.526741 \r\nL 915.256774 65.311536 \r\nL 915.330573 65.526741 \r\nL 915.404373 65.397618 \r\nL 915.478173 65.4837 \r\nL 915.551973 65.397618 \r\nL 915.625773 65.4837 \r\nL 915.773373 65.397618 \r\nL 915.847173 65.4837 \r\nL 915.920972 65.311536 \r\nL 915.994772 65.397618 \r\nL 916.068572 65.311536 \r\nL 916.142372 65.440659 \r\nL 916.216172 65.311536 \r\nL 916.289972 65.440659 \r\nL 916.363772 65.311536 \r\nL 916.437572 65.397618 \r\nL 916.585171 65.397618 \r\nL 916.954171 65.397618 \r\nL 917.101771 65.268495 \r\nL 917.175571 65.268495 \r\nL 917.24937 65.397618 \r\nL 917.32317 65.268495 \r\nL 917.39697 65.354577 \r\nL 917.54457 65.354577 \r\nL 917.839769 65.225455 \r\nL 917.987369 65.225455 \r\nL 918.134969 65.225455 \r\nL 918.134969 65.225455 \r\n\" style=\"fill:none;stroke:#1f77b4;stroke-linecap:square;stroke-width:1.5;\"/>\r\n   </g>\r\n   <g id=\"patch_9\">\r\n    <path d=\"M 530.763068 376.56 \r\nL 530.763068 50.4 \r\n\" style=\"fill:none;stroke:#000000;stroke-linecap:square;stroke-linejoin:miter;stroke-width:0.8;\"/>\r\n   </g>\r\n   <g id=\"patch_10\">\r\n    <path d=\"M 936.58125 376.56 \r\nL 936.58125 50.4 \r\n\" style=\"fill:none;stroke:#000000;stroke-linecap:square;stroke-linejoin:miter;stroke-width:0.8;\"/>\r\n   </g>\r\n   <g id=\"patch_11\">\r\n    <path d=\"M 530.763068 376.56 \r\nL 936.58125 376.56 \r\n\" style=\"fill:none;stroke:#000000;stroke-linecap:square;stroke-linejoin:miter;stroke-width:0.8;\"/>\r\n   </g>\r\n   <g id=\"patch_12\">\r\n    <path d=\"M 530.763068 50.4 \r\nL 936.58125 50.4 \r\n\" style=\"fill:none;stroke:#000000;stroke-linecap:square;stroke-linejoin:miter;stroke-width:0.8;\"/>\r\n   </g>\r\n   <g id=\"legend_2\">\r\n    <g id=\"patch_13\">\r\n     <path d=\"M 537.763068 73.078125 \r\nL 593.038068 73.078125 \r\nQ 595.038068 73.078125 595.038068 71.078125 \r\nL 595.038068 57.4 \r\nQ 595.038068 55.4 593.038068 55.4 \r\nL 537.763068 55.4 \r\nQ 535.763068 55.4 535.763068 57.4 \r\nL 535.763068 71.078125 \r\nQ 535.763068 73.078125 537.763068 73.078125 \r\nz\r\n\" style=\"fill:#ffffff;opacity:0.8;stroke:#cccccc;stroke-linejoin:miter;\"/>\r\n    </g>\r\n    <g id=\"line2d_30\">\r\n     <path d=\"M 539.763068 63.498437 \r\nL 559.763068 63.498437 \r\n\" style=\"fill:none;stroke:#1f77b4;stroke-linecap:square;stroke-width:1.5;\"/>\r\n    </g>\r\n    <g id=\"line2d_31\"/>\r\n    <g id=\"text_31\">\r\n     <!-- train -->\r\n     <g transform=\"translate(567.763068 66.998437)scale(0.1 -0.1)\">\r\n      <use xlink:href=\"#DejaVuSans-116\"/>\r\n      <use x=\"39.208984\" xlink:href=\"#DejaVuSans-114\"/>\r\n      <use x=\"80.322266\" xlink:href=\"#DejaVuSans-97\"/>\r\n      <use x=\"141.601562\" xlink:href=\"#DejaVuSans-105\"/>\r\n      <use x=\"169.384766\" xlink:href=\"#DejaVuSans-110\"/>\r\n     </g>\r\n    </g>\r\n   </g>\r\n  </g>\r\n  <g id=\"text_32\">\r\n   <!-- Loss and accuracy -->\r\n   <g transform=\"translate(420.447187 16.318125)scale(0.12 -0.12)\">\r\n    <defs>\r\n     <path d=\"M 9.8125 72.90625 \r\nL 19.671875 72.90625 \r\nL 19.671875 8.296875 \r\nL 55.171875 8.296875 \r\nL 55.171875 0 \r\nL 9.8125 0 \r\nz\r\n\" id=\"DejaVuSans-76\"/>\r\n     <path d=\"M 45.40625 46.390625 \r\nL 45.40625 75.984375 \r\nL 54.390625 75.984375 \r\nL 54.390625 0 \r\nL 45.40625 0 \r\nL 45.40625 8.203125 \r\nQ 42.578125 3.328125 38.25 0.953125 \r\nQ 33.9375 -1.421875 27.875 -1.421875 \r\nQ 17.96875 -1.421875 11.734375 6.484375 \r\nQ 5.515625 14.40625 5.515625 27.296875 \r\nQ 5.515625 40.1875 11.734375 48.09375 \r\nQ 17.96875 56 27.875 56 \r\nQ 33.9375 56 38.25 53.625 \r\nQ 42.578125 51.265625 45.40625 46.390625 \r\nz\r\nM 14.796875 27.296875 \r\nQ 14.796875 17.390625 18.875 11.75 \r\nQ 22.953125 6.109375 30.078125 6.109375 \r\nQ 37.203125 6.109375 41.296875 11.75 \r\nQ 45.40625 17.390625 45.40625 27.296875 \r\nQ 45.40625 37.203125 41.296875 42.84375 \r\nQ 37.203125 48.484375 30.078125 48.484375 \r\nQ 22.953125 48.484375 18.875 42.84375 \r\nQ 14.796875 37.203125 14.796875 27.296875 \r\nz\r\n\" id=\"DejaVuSans-100\"/>\r\n    </defs>\r\n    <use xlink:href=\"#DejaVuSans-76\"/>\r\n    <use x=\"53.962891\" xlink:href=\"#DejaVuSans-111\"/>\r\n    <use x=\"115.144531\" xlink:href=\"#DejaVuSans-115\"/>\r\n    <use x=\"167.244141\" xlink:href=\"#DejaVuSans-115\"/>\r\n    <use x=\"219.34375\" xlink:href=\"#DejaVuSans-32\"/>\r\n    <use x=\"251.130859\" xlink:href=\"#DejaVuSans-97\"/>\r\n    <use x=\"312.410156\" xlink:href=\"#DejaVuSans-110\"/>\r\n    <use x=\"375.789062\" xlink:href=\"#DejaVuSans-100\"/>\r\n    <use x=\"439.265625\" xlink:href=\"#DejaVuSans-32\"/>\r\n    <use x=\"471.052734\" xlink:href=\"#DejaVuSans-97\"/>\r\n    <use x=\"532.332031\" xlink:href=\"#DejaVuSans-99\"/>\r\n    <use x=\"587.3125\" xlink:href=\"#DejaVuSans-99\"/>\r\n    <use x=\"642.292969\" xlink:href=\"#DejaVuSans-117\"/>\r\n    <use x=\"705.671875\" xlink:href=\"#DejaVuSans-114\"/>\r\n    <use x=\"746.785156\" xlink:href=\"#DejaVuSans-97\"/>\r\n    <use x=\"808.064453\" xlink:href=\"#DejaVuSans-99\"/>\r\n    <use x=\"863.044922\" xlink:href=\"#DejaVuSans-121\"/>\r\n   </g>\r\n  </g>\r\n </g>\r\n <defs>\r\n  <clipPath id=\"p8eb1fe86b8\">\r\n   <rect height=\"326.16\" width=\"405.818182\" x=\"43.78125\" y=\"50.4\"/>\r\n  </clipPath>\r\n  <clipPath id=\"pf66a0cef39\">\r\n   <rect height=\"326.16\" width=\"405.818182\" x=\"530.763068\" y=\"50.4\"/>\r\n  </clipPath>\r\n </defs>\r\n</svg>\r\n",
      "image/png": "[encoded data removed]"
     },
     "metadata": {
      "needs_background": "light"
     }
    }
   ],
   "source": [
    "plot_loss_and_accuracy(losses, accs)"
   ]
  },
  {
   "cell_type": "code",
   "execution_count": 110,
   "metadata": {},
   "outputs": [
    {
     "output_type": "execute_result",
     "data": {
      "text/plain": [
       "0.9495819293647823"
      ]
     },
     "metadata": {},
     "execution_count": 110
    }
   ],
   "source": [
    "accs[-1]"
   ]
  },
  {
   "source": [
    "#### Salvando o modelo"
   ],
   "cell_type": "markdown",
   "metadata": {}
  },
  {
   "cell_type": "code",
   "execution_count": null,
   "metadata": {},
   "outputs": [],
   "source": [
    "torch.save(Model, cwd+\"/../../models/emotions_classifier.pth\")"
   ]
  },
  {
   "source": [
    "#### Salvando o dict"
   ],
   "cell_type": "markdown",
   "metadata": {}
  },
  {
   "cell_type": "code",
   "execution_count": null,
   "metadata": {},
   "outputs": [],
   "source": [
    "torch.save(Model.state_dict(), cwd+\"/../../dicts/emotions_classifier_dict\")"
   ]
  },
  {
   "cell_type": "code",
   "execution_count": null,
   "metadata": {},
   "outputs": [],
   "source": [
    "model = torch.load(cwd+\"/../../models/emotions_classifier.pth\")\n",
    "model.eval()"
   ]
  },
  {
   "cell_type": "code",
   "execution_count": null,
   "metadata": {},
   "outputs": [],
   "source": []
  }
 ]
}