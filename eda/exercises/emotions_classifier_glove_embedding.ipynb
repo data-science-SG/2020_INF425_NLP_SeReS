{
 "metadata": {
  "language_info": {
   "codemirror_mode": {
    "name": "ipython",
    "version": 3
   },
   "file_extension": ".py",
   "mimetype": "text/x-python",
   "name": "python",
   "nbconvert_exporter": "python",
   "pygments_lexer": "ipython3",
   "version": "3.7.9-final"
  },
  "orig_nbformat": 2,
  "kernelspec": {
   "name": "python379jvsc74a57bd087208729ed90ceac3456c3150dcf8f8574a040aaeff28d3df5566e1287b044ae",
   "display_name": "Python 3.7.9 64-bit ('machinelearning': conda)"
  }
 },
 "nbformat": 4,
 "nbformat_minor": 2,
 "cells": [
  {
   "cell_type": "code",
   "execution_count": 1,
   "metadata": {},
   "outputs": [],
   "source": [
    "# Import packages\n",
    "import os\n",
    "\n",
    "import pandas as pd\n",
    "import numpy as np\n",
    "\n",
    "import matplotlib.pyplot as plt\n",
    "import seaborn as sns\n",
    "\n",
    "import re\n",
    "import string\n",
    "\n",
    "import nltk\n",
    "from nltk.corpus import stopwords \n",
    "# from nltk.stem import PorterStemmer\n",
    "from nltk.tokenize import TweetTokenizer\n",
    "\n",
    "from gensim.models import KeyedVectors\n",
    "from gensim.test.utils import datapath, get_tmpfile\n",
    "from gensim.scripts.glove2word2vec import glove2word2vec\n",
    "\n",
    "import torch\n",
    "from torch import nn\n",
    "\n",
    "from sklearn.model_selection import train_test_split\n",
    "from sklearn.metrics import confusion_matrix, ConfusionMatrixDisplay\n"
   ]
  },
  {
   "cell_type": "code",
   "execution_count": 2,
   "metadata": {},
   "outputs": [
    {
     "output_type": "stream",
     "name": "stderr",
     "text": [
      "[nltk_data] Downloading package punkt to\n[nltk_data]     C:\\Users\\fonta\\AppData\\Roaming\\nltk_data...\n[nltk_data]   Package punkt is already up-to-date!\n[nltk_data] Downloading package stopwords to\n[nltk_data]     C:\\Users\\fonta\\AppData\\Roaming\\nltk_data...\n[nltk_data]   Package stopwords is already up-to-date!\n"
     ]
    }
   ],
   "source": [
    "# Setup some variables\n",
    "tknzr = TweetTokenizer()\n",
    "# stemmer = PorterStemmer()\n",
    "nltk.download('punkt')\n",
    "nltk.download('stopwords')\n",
    "stopwords = nltk.corpus.stopwords.words(\"english\")"
   ]
  },
  {
   "source": [
    "----------------------------------------------------------------------"
   ],
   "cell_type": "markdown",
   "metadata": {}
  },
  {
   "source": [
    "## Declaring some functions"
   ],
   "cell_type": "markdown",
   "metadata": {}
  },
  {
   "cell_type": "code",
   "execution_count": 3,
   "metadata": {},
   "outputs": [],
   "source": [
    "# função de limpar texto\n",
    "def cleanText(words, stem=False):\n",
    "  \"\"\"\n",
    "    Esta função recebe um text e retorna o mesmo, já tratado com stopwords & punctuation\n",
    "  \"\"\"\n",
    "  newWords = list()\n",
    "  for word in words:\n",
    "    word = re.sub('http[s]?://(?:[a-zA-Z]|[0-9]|[$-_@.&+#]|[!*\\(\\),]|'\\\n",
    "                       '(?:%[0-9a-fA-F][0-9a-fA-F]))+','', word)\n",
    "    word = re.sub(\"(@[A-Za-z0-9_]+)\",\"\", word)\n",
    "    word = word.lower()\n",
    "    if len(word) > 0 and word not in string.punctuation and word not in stopwords and word != \"<br />\":\n",
    "      if stem:\n",
    "        word = stemmer.stem(word)\n",
    "        newWords.append(word)\n",
    "      else:\n",
    "        newWords.append(word)\n",
    "  return newWords"
   ]
  },
  {
   "cell_type": "code",
   "execution_count": 4,
   "metadata": {},
   "outputs": [],
   "source": [
    "# confusion matrix daora\n",
    "def plot_conf_mat(y_test, y_preds, norm=\"false\"):\n",
    "    fig, ax = plt.subplots(figsize=(3, 3))\n",
    "    ax = sns.heatmap(confusion_matrix(y_test, y_preds, normalize=norm),\n",
    "                    annot=True,\n",
    "                    cbar=False)\n",
    "    plt.xlabel(\"True label\")\n",
    "    plt.ylabel(\"Predicted label\")"
   ]
  },
  {
   "cell_type": "code",
   "execution_count": 5,
   "metadata": {},
   "outputs": [],
   "source": [
    "def plot_loss_and_accuracy(losses, accs):\n",
    "\n",
    "  fig, ax_tuple = plt.subplots(1, 2, figsize=(16,6))\n",
    "  fig.suptitle('Loss and accuracy')\n",
    "\n",
    "  for i, (y_label, y_values) in enumerate(zip(['BCE loss','Accuracy'],[losses, accs])):\n",
    "    ax_tuple[i].plot(range(len(y_values)),  y_values, label='train')\n",
    "    ax_tuple[i].set_xlabel('epochs')\n",
    "    ax_tuple[i].set_ylabel(y_label)\n",
    "    ax_tuple[i].legend()"
   ]
  },
  {
   "cell_type": "code",
   "execution_count": 6,
   "metadata": {},
   "outputs": [],
   "source": [
    "def label2Embedding(word):\n",
    "  ''' Recebe uma string (word) e devolve o embedding vector correspondente (se existir).\n",
    "  '''\n",
    "  if word in modelo.vocab:\n",
    "    embed = modelo.get_vector(word)\n",
    "    if embed is not None:\n",
    "      return embed"
   ]
  },
  {
   "source": [
    "-------------------------------------------------------------------------------"
   ],
   "cell_type": "markdown",
   "metadata": {}
  },
  {
   "source": [
    "### Importando o arquivo do GloVE de 50 dimensões e criando a variável *modelo* que será por onde iremos interagir com o *word embedding* já treinado"
   ],
   "cell_type": "markdown",
   "metadata": {}
  },
  {
   "cell_type": "code",
   "execution_count": 7,
   "metadata": {},
   "outputs": [
    {
     "output_type": "execute_result",
     "data": {
      "text/plain": [
       "'d:\\\\Dropbox\\\\GitHub\\\\2020_INF425_NLP_SeReS\\\\eda\\\\exercises'"
      ]
     },
     "metadata": {},
     "execution_count": 7
    }
   ],
   "source": [
    "cwd = os.getcwd()\n",
    "cwd"
   ]
  },
  {
   "cell_type": "code",
   "execution_count": 8,
   "metadata": {},
   "outputs": [],
   "source": [
    "num_dims = 50\n",
    "\n",
    "glove_file = datapath(cwd+'/../data/glove.6B.50d.txt')\n",
    "tmp_file   = get_tmpfile(cwd+\"/../data/glove.6B.50d_word2vec.txt\")\n",
    "_          = glove2word2vec(glove_file, tmp_file)\n",
    "\n",
    "filename_txt = cwd+\"/../data/glove.6B.50d_word2vec.txt\"\n",
    "modelo = KeyedVectors.load_word2vec_format(filename_txt)"
   ]
  },
  {
   "source": [
    "### Lendo o dataset"
   ],
   "cell_type": "markdown",
   "metadata": {}
  },
  {
   "cell_type": "code",
   "execution_count": 9,
   "metadata": {},
   "outputs": [
    {
     "output_type": "execute_result",
     "data": {
      "text/plain": [
       "   Sl no                                             Tweets     Search key  \\\n",
       "0      1   #1: @fe ed \"RT @MirayaDizon1: Time is ticking...  happy moments   \n",
       "1      2   #2: @蓮花 &はすか ed \"RT @ninjaryugo: ＃コナモンの日 だそうで...  happy moments   \n",
       "2      3   #3: @Ris ♡ ed \"Happy birthday to one smokin h...  happy moments   \n",
       "3      4   #4: @월월 [씍쯴사랑로봇] jwinnie is the best, cheer u...  happy moments   \n",
       "4      5   #5: @Madhurima wth u vc♥ ed \"Good morning dea...  happy moments   \n",
       "\n",
       "  Feeling  \n",
       "0   happy  \n",
       "1   happy  \n",
       "2   happy  \n",
       "3   happy  \n",
       "4   happy  "
      ],
      "text/html": "<div>\n<style scoped>\n    .dataframe tbody tr th:only-of-type {\n        vertical-align: middle;\n    }\n\n    .dataframe tbody tr th {\n        vertical-align: top;\n    }\n\n    .dataframe thead th {\n        text-align: right;\n    }\n</style>\n<table border=\"1\" class=\"dataframe\">\n  <thead>\n    <tr style=\"text-align: right;\">\n      <th></th>\n      <th>Sl no</th>\n      <th>Tweets</th>\n      <th>Search key</th>\n      <th>Feeling</th>\n    </tr>\n  </thead>\n  <tbody>\n    <tr>\n      <th>0</th>\n      <td>1</td>\n      <td>#1: @fe ed \"RT @MirayaDizon1: Time is ticking...</td>\n      <td>happy moments</td>\n      <td>happy</td>\n    </tr>\n    <tr>\n      <th>1</th>\n      <td>2</td>\n      <td>#2: @蓮花 &amp;はすか ed \"RT @ninjaryugo: ＃コナモンの日 だそうで...</td>\n      <td>happy moments</td>\n      <td>happy</td>\n    </tr>\n    <tr>\n      <th>2</th>\n      <td>3</td>\n      <td>#3: @Ris ♡ ed \"Happy birthday to one smokin h...</td>\n      <td>happy moments</td>\n      <td>happy</td>\n    </tr>\n    <tr>\n      <th>3</th>\n      <td>4</td>\n      <td>#4: @월월 [씍쯴사랑로봇] jwinnie is the best, cheer u...</td>\n      <td>happy moments</td>\n      <td>happy</td>\n    </tr>\n    <tr>\n      <th>4</th>\n      <td>5</td>\n      <td>#5: @Madhurima wth u vc♥ ed \"Good morning dea...</td>\n      <td>happy moments</td>\n      <td>happy</td>\n    </tr>\n  </tbody>\n</table>\n</div>"
     },
     "metadata": {},
     "execution_count": 9
    }
   ],
   "source": [
    "df = pd.read_csv(\"../data/data.csv\", encoding = \"utf-8\")\n",
    "df.head()"
   ]
  },
  {
   "source": [
    "### Copiando o dataset e fazendo transformações necessárias"
   ],
   "cell_type": "markdown",
   "metadata": {}
  },
  {
   "cell_type": "code",
   "execution_count": 10,
   "metadata": {},
   "outputs": [
    {
     "output_type": "execute_result",
     "data": {
      "text/plain": [
       "                                              Tweets Feeling\n",
       "0   #1: @fe ed \"RT @MirayaDizon1: Time is ticking...   happy\n",
       "1   #2: @蓮花 &はすか ed \"RT @ninjaryugo: ＃コナモンの日 だそうで...   happy\n",
       "2   #3: @Ris ♡ ed \"Happy birthday to one smokin h...   happy\n",
       "3   #4: @월월 [씍쯴사랑로봇] jwinnie is the best, cheer u...   happy\n",
       "4   #5: @Madhurima wth u vc♥ ed \"Good morning dea...   happy"
      ],
      "text/html": "<div>\n<style scoped>\n    .dataframe tbody tr th:only-of-type {\n        vertical-align: middle;\n    }\n\n    .dataframe tbody tr th {\n        vertical-align: top;\n    }\n\n    .dataframe thead th {\n        text-align: right;\n    }\n</style>\n<table border=\"1\" class=\"dataframe\">\n  <thead>\n    <tr style=\"text-align: right;\">\n      <th></th>\n      <th>Tweets</th>\n      <th>Feeling</th>\n    </tr>\n  </thead>\n  <tbody>\n    <tr>\n      <th>0</th>\n      <td>#1: @fe ed \"RT @MirayaDizon1: Time is ticking...</td>\n      <td>happy</td>\n    </tr>\n    <tr>\n      <th>1</th>\n      <td>#2: @蓮花 &amp;はすか ed \"RT @ninjaryugo: ＃コナモンの日 だそうで...</td>\n      <td>happy</td>\n    </tr>\n    <tr>\n      <th>2</th>\n      <td>#3: @Ris ♡ ed \"Happy birthday to one smokin h...</td>\n      <td>happy</td>\n    </tr>\n    <tr>\n      <th>3</th>\n      <td>#4: @월월 [씍쯴사랑로봇] jwinnie is the best, cheer u...</td>\n      <td>happy</td>\n    </tr>\n    <tr>\n      <th>4</th>\n      <td>#5: @Madhurima wth u vc♥ ed \"Good morning dea...</td>\n      <td>happy</td>\n    </tr>\n  </tbody>\n</table>\n</div>"
     },
     "metadata": {},
     "execution_count": 10
    }
   ],
   "source": [
    "dataset = df.copy()\n",
    "\n",
    "dataset = dataset.drop(columns=[\"Sl no\", \"Search key\"])\n",
    "dataset.head()"
   ]
  },
  {
   "cell_type": "code",
   "execution_count": 11,
   "metadata": {},
   "outputs": [
    {
     "output_type": "execute_result",
     "data": {
      "text/plain": [
       "happy       39.213337\n",
       "sad         28.441649\n",
       "angry       13.387242\n",
       "fear         8.615354\n",
       "disgust      6.359189\n",
       "surprise     3.983229\n",
       "Name: Feeling, dtype: float64"
      ]
     },
     "metadata": {},
     "execution_count": 11
    }
   ],
   "source": [
    "dataset['Feeling'].value_counts(normalize=True)*100"
   ]
  },
  {
   "cell_type": "code",
   "execution_count": 12,
   "metadata": {},
   "outputs": [],
   "source": [
    "# CONCATENAR COM O OUTRO DATASET"
   ]
  },
  {
   "source": [
    "### Criando uma categoria com o *pd.Categorical* para cada emoção na tabela de emoções, dessa forma, teremos algo do tipo: happy - 1 | angry - 2 | sad = 3\n",
    "\n",
    "Aplicando essas categorias na coluna *emotion_code*"
   ],
   "cell_type": "markdown",
   "metadata": {}
  },
  {
   "cell_type": "code",
   "execution_count": 13,
   "metadata": {},
   "outputs": [
    {
     "output_type": "stream",
     "name": "stdout",
     "text": [
      "<class 'pandas.core.frame.DataFrame'>\nRangeIndex: 10017 entries, 0 to 10016\nData columns (total 2 columns):\n #   Column   Non-Null Count  Dtype \n---  ------   --------------  ----- \n 0   Tweets   10017 non-null  object\n 1   Feeling  10017 non-null  object\ndtypes: object(2)\nmemory usage: 156.6+ KB\n"
     ]
    }
   ],
   "source": [
    "dataset.info()"
   ]
  },
  {
   "cell_type": "code",
   "execution_count": 14,
   "metadata": {},
   "outputs": [
    {
     "output_type": "execute_result",
     "data": {
      "text/plain": [
       "                                              Tweets Feeling  emotion_code\n",
       "0   #1: @fe ed \"RT @MirayaDizon1: Time is ticking...   happy             3\n",
       "1   #2: @蓮花 &はすか ed \"RT @ninjaryugo: ＃コナモンの日 だそうで...   happy             3\n",
       "2   #3: @Ris ♡ ed \"Happy birthday to one smokin h...   happy             3\n",
       "3   #4: @월월 [씍쯴사랑로봇] jwinnie is the best, cheer u...   happy             3\n",
       "4   #5: @Madhurima wth u vc♥ ed \"Good morning dea...   happy             3"
      ],
      "text/html": "<div>\n<style scoped>\n    .dataframe tbody tr th:only-of-type {\n        vertical-align: middle;\n    }\n\n    .dataframe tbody tr th {\n        vertical-align: top;\n    }\n\n    .dataframe thead th {\n        text-align: right;\n    }\n</style>\n<table border=\"1\" class=\"dataframe\">\n  <thead>\n    <tr style=\"text-align: right;\">\n      <th></th>\n      <th>Tweets</th>\n      <th>Feeling</th>\n      <th>emotion_code</th>\n    </tr>\n  </thead>\n  <tbody>\n    <tr>\n      <th>0</th>\n      <td>#1: @fe ed \"RT @MirayaDizon1: Time is ticking...</td>\n      <td>happy</td>\n      <td>3</td>\n    </tr>\n    <tr>\n      <th>1</th>\n      <td>#2: @蓮花 &amp;はすか ed \"RT @ninjaryugo: ＃コナモンの日 だそうで...</td>\n      <td>happy</td>\n      <td>3</td>\n    </tr>\n    <tr>\n      <th>2</th>\n      <td>#3: @Ris ♡ ed \"Happy birthday to one smokin h...</td>\n      <td>happy</td>\n      <td>3</td>\n    </tr>\n    <tr>\n      <th>3</th>\n      <td>#4: @월월 [씍쯴사랑로봇] jwinnie is the best, cheer u...</td>\n      <td>happy</td>\n      <td>3</td>\n    </tr>\n    <tr>\n      <th>4</th>\n      <td>#5: @Madhurima wth u vc♥ ed \"Good morning dea...</td>\n      <td>happy</td>\n      <td>3</td>\n    </tr>\n  </tbody>\n</table>\n</div>"
     },
     "metadata": {},
     "execution_count": 14
    }
   ],
   "source": [
    "dataset['Feeling'] = pd.Categorical(dataset['Feeling'])\n",
    "dataset['emotion_code'] = dataset['Feeling'].cat.codes\n",
    "dataset.head()"
   ]
  },
  {
   "cell_type": "code",
   "execution_count": 15,
   "metadata": {},
   "outputs": [
    {
     "output_type": "stream",
     "name": "stdout",
     "text": [
      "<class 'pandas.core.frame.DataFrame'>\nRangeIndex: 10017 entries, 0 to 10016\nData columns (total 3 columns):\n #   Column        Non-Null Count  Dtype   \n---  ------        --------------  -----   \n 0   Tweets        10017 non-null  object  \n 1   Feeling       10017 non-null  category\n 2   emotion_code  10017 non-null  int8    \ndtypes: category(1), int8(1), object(1)\nmemory usage: 98.2+ KB\n"
     ]
    }
   ],
   "source": [
    "dataset.info()"
   ]
  },
  {
   "cell_type": "code",
   "execution_count": 16,
   "metadata": {},
   "outputs": [
    {
     "output_type": "execute_result",
     "data": {
      "text/plain": [
       "Feeling   emotion_code\n",
       "angry     0               1341\n",
       "disgust   1                637\n",
       "fear      2                863\n",
       "happy     3               3928\n",
       "sad       4               2849\n",
       "surprise  5                399\n",
       "dtype: int64"
      ]
     },
     "metadata": {},
     "execution_count": 16
    }
   ],
   "source": [
    "dataset[['Feeling','emotion_code']].value_counts().sort_index()\n"
   ]
  },
  {
   "cell_type": "code",
   "execution_count": 17,
   "metadata": {},
   "outputs": [
    {
     "output_type": "execute_result",
     "data": {
      "text/plain": [
       "str"
      ]
     },
     "metadata": {},
     "execution_count": 17
    }
   ],
   "source": [
    "type(dataset['Tweets'][0])"
   ]
  },
  {
   "source": [
    "### Tokenizando os tweets com o *tknzr.tokenize*, e logo após, limpando os tokens com a função *cleanText*"
   ],
   "cell_type": "markdown",
   "metadata": {}
  },
  {
   "cell_type": "code",
   "execution_count": 18,
   "metadata": {},
   "outputs": [
    {
     "output_type": "execute_result",
     "data": {
      "text/plain": [
       "                                              Tweets Feeling  emotion_code  \\\n",
       "0   #1: @fe ed \"RT @MirayaDizon1: Time is ticking...   happy             3   \n",
       "1   #2: @蓮花 &はすか ed \"RT @ninjaryugo: ＃コナモンの日 だそうで...   happy             3   \n",
       "2   #3: @Ris ♡ ed \"Happy birthday to one smokin h...   happy             3   \n",
       "3   #4: @월월 [씍쯴사랑로봇] jwinnie is the best, cheer u...   happy             3   \n",
       "4   #5: @Madhurima wth u vc♥ ed \"Good morning dea...   happy             3   \n",
       "\n",
       "                                           CleanText  \n",
       "0  [1, ed, rt, time, ticking, fast, relive, past,...  \n",
       "1  [2, @蓮花, はすか, ed, rt, ＃, コナモンの日, だそうで, 、, コナモン...  \n",
       "2  [3, ♡, ed, happy, birthday, one, smokin, hot, ...  \n",
       "3  [4, @월월, 씍쯴사랑로봇, jwinnie, best, cheer, jwinnie...  \n",
       "4  [5, wth, u, vc, ♥, ed, good, morning, dear, ❤,...  "
      ],
      "text/html": "<div>\n<style scoped>\n    .dataframe tbody tr th:only-of-type {\n        vertical-align: middle;\n    }\n\n    .dataframe tbody tr th {\n        vertical-align: top;\n    }\n\n    .dataframe thead th {\n        text-align: right;\n    }\n</style>\n<table border=\"1\" class=\"dataframe\">\n  <thead>\n    <tr style=\"text-align: right;\">\n      <th></th>\n      <th>Tweets</th>\n      <th>Feeling</th>\n      <th>emotion_code</th>\n      <th>CleanText</th>\n    </tr>\n  </thead>\n  <tbody>\n    <tr>\n      <th>0</th>\n      <td>#1: @fe ed \"RT @MirayaDizon1: Time is ticking...</td>\n      <td>happy</td>\n      <td>3</td>\n      <td>[1, ed, rt, time, ticking, fast, relive, past,...</td>\n    </tr>\n    <tr>\n      <th>1</th>\n      <td>#2: @蓮花 &amp;はすか ed \"RT @ninjaryugo: ＃コナモンの日 だそうで...</td>\n      <td>happy</td>\n      <td>3</td>\n      <td>[2, @蓮花, はすか, ed, rt, ＃, コナモンの日, だそうで, 、, コナモン...</td>\n    </tr>\n    <tr>\n      <th>2</th>\n      <td>#3: @Ris ♡ ed \"Happy birthday to one smokin h...</td>\n      <td>happy</td>\n      <td>3</td>\n      <td>[3, ♡, ed, happy, birthday, one, smokin, hot, ...</td>\n    </tr>\n    <tr>\n      <th>3</th>\n      <td>#4: @월월 [씍쯴사랑로봇] jwinnie is the best, cheer u...</td>\n      <td>happy</td>\n      <td>3</td>\n      <td>[4, @월월, 씍쯴사랑로봇, jwinnie, best, cheer, jwinnie...</td>\n    </tr>\n    <tr>\n      <th>4</th>\n      <td>#5: @Madhurima wth u vc♥ ed \"Good morning dea...</td>\n      <td>happy</td>\n      <td>3</td>\n      <td>[5, wth, u, vc, ♥, ed, good, morning, dear, ❤,...</td>\n    </tr>\n  </tbody>\n</table>\n</div>"
     },
     "metadata": {},
     "execution_count": 18
    }
   ],
   "source": [
    "dataset[\"CleanText\"] = [tknzr.tokenize(sentence) for sentence in dataset[\"Tweets\"]]\n",
    "dataset[\"CleanText\"] = [cleanText(sentence) for sentence in dataset[\"CleanText\"]]\n",
    "dataset.head()"
   ]
  },
  {
   "cell_type": "code",
   "execution_count": 19,
   "metadata": {},
   "outputs": [],
   "source": [
    "# dataset['CleanText'][50]"
   ]
  },
  {
   "source": [
    "### Conversão dos textos em uma sequência de índices (correspondente ao token do texto)\n",
    "\n",
    "Limitar o tamanho máximo de um texto com ***max_len*** (truncar mensagem) e completar com <PAD> todos os textos que não cumprirem esse tamanho, para então termos variáveis do mesmo tamanho"
   ],
   "cell_type": "markdown",
   "metadata": {}
  },
  {
   "cell_type": "code",
   "execution_count": 20,
   "metadata": {
    "tags": []
   },
   "outputs": [],
   "source": [
    "max_len = 150        # comprimento máximo da mensagem (em número de palavras)\n",
    "encoded_docs = []    # inicializa a lista de documentos codificados\n",
    "\n",
    "for sentence in dataset['CleanText']: # para cada token\n",
    "  encoded_d = [label2Embedding(t) for t in sentence]\n",
    "  encoded_d = [vec.tolist() for vec in encoded_d if vec is not None]\n",
    "\n",
    "  # adiciona o padding, se necessário\n",
    "  padding_word_vecs = [np.zeros(num_dims).tolist()]*max(0, max_len-len(encoded_d)) \n",
    "  encoded_d = padding_word_vecs + encoded_d\n",
    "  \n",
    "  # trunca o documento e salva na lista de documentos codificados\n",
    "  encoded_docs.append(encoded_d[:max_len]) \n",
    "\n",
    "\n",
    "encoded_docs_arrays = [np.vstack(sentence) for sentence in encoded_docs]"
   ]
  },
  {
   "cell_type": "code",
   "execution_count": 21,
   "metadata": {},
   "outputs": [
    {
     "output_type": "execute_result",
     "data": {
      "text/plain": [
       "(list, numpy.ndarray, (150, 50))"
      ]
     },
     "metadata": {},
     "execution_count": 21
    }
   ],
   "source": [
    "type(encoded_docs_arrays), type(encoded_docs_arrays[0]), encoded_docs_arrays[0].shape"
   ]
  },
  {
   "source": [
    "### Agora os textos são os documentos codificados"
   ],
   "cell_type": "markdown",
   "metadata": {}
  },
  {
   "cell_type": "code",
   "execution_count": 22,
   "metadata": {},
   "outputs": [
    {
     "output_type": "execute_result",
     "data": {
      "text/plain": [
       "10012    [[0.0, 0.0, 0.0, 0.0, 0.0, 0.0, 0.0, 0.0, 0.0,...\n",
       "10013    [[0.0, 0.0, 0.0, 0.0, 0.0, 0.0, 0.0, 0.0, 0.0,...\n",
       "10014    [[0.0, 0.0, 0.0, 0.0, 0.0, 0.0, 0.0, 0.0, 0.0,...\n",
       "10015    [[0.0, 0.0, 0.0, 0.0, 0.0, 0.0, 0.0, 0.0, 0.0,...\n",
       "10016    [[0.0, 0.0, 0.0, 0.0, 0.0, 0.0, 0.0, 0.0, 0.0,...\n",
       "Name: X, dtype: object"
      ]
     },
     "metadata": {},
     "execution_count": 22
    }
   ],
   "source": [
    "dataset['X'] = pd.Series(encoded_docs_arrays)\n",
    "dataset['X'].tail() #.iloc[-1].shape"
   ]
  },
  {
   "source": [
    "### Verificando um exemplo de uma frase codificada"
   ],
   "cell_type": "markdown",
   "metadata": {}
  },
  {
   "cell_type": "code",
   "execution_count": 23,
   "metadata": {},
   "outputs": [
    {
     "output_type": "execute_result",
     "data": {
      "text/plain": [
       "((150, 50), dtype('float64'))"
      ]
     },
     "metadata": {},
     "execution_count": 23
    }
   ],
   "source": [
    "dataset['X'][0].shape, dataset['X'][0].dtype"
   ]
  },
  {
   "cell_type": "code",
   "execution_count": 24,
   "metadata": {
    "tags": []
   },
   "outputs": [
    {
     "output_type": "stream",
     "name": "stdout",
     "text": [
      " Mensagem codificada [[ 0.          0.          0.         ...  0.          0.\n   0.        ]\n [ 0.          0.          0.         ...  0.          0.\n   0.        ]\n [ 0.          0.          0.         ...  0.          0.\n   0.        ]\n ...\n [ 0.359       0.72350001  0.15195    ... -0.53805    -1.07599998\n   0.24003001]\n [ 0.067025   -0.010427    0.61778003 ... -0.42741001 -0.19243\n   0.42443001]\n [-0.29115999  1.17639995 -0.20423999 ... -0.58471     0.64288998\n   0.15782   ]] \n Comprimento: 150 Dimensões: 50\n"
     ]
    }
   ],
   "source": [
    "msg_codificada_ex = dataset['X'].iloc[7]\n",
    "print(f' Mensagem codificada {msg_codificada_ex} \\n Comprimento: {msg_codificada_ex.shape[0]} Dimensões: {msg_codificada_ex.shape[1]}')"
   ]
  },
  {
   "source": [
    "### Agora, usaremos apenas as mensagens codificadas (vetores de variáveis categóricas, coluna do DataFrame 'X') e as saídas rotuladas em  das emoções  (coluna 'y' do DataFrame). Também vamos converter os objetos para arrays do numpy."
   ],
   "cell_type": "markdown",
   "metadata": {}
  },
  {
   "cell_type": "code",
   "execution_count": 25,
   "metadata": {},
   "outputs": [
    {
     "output_type": "execute_result",
     "data": {
      "text/plain": [
       "((10017, 150, 50), (150, 50), (10017, 1), (1,))"
      ]
     },
     "metadata": {},
     "execution_count": 25
    }
   ],
   "source": [
    "X = np.dstack(dataset['X'].values).transpose(2,0,1)\n",
    "Y = dataset['emotion_code'].values.reshape(-1,1)\n",
    "X.shape, X[0].shape, Y.shape, Y[0].shape"
   ]
  },
  {
   "source": [
    "### Separando com train_test_split"
   ],
   "cell_type": "markdown",
   "metadata": {}
  },
  {
   "cell_type": "code",
   "execution_count": 26,
   "metadata": {},
   "outputs": [
    {
     "output_type": "execute_result",
     "data": {
      "text/plain": [
       "((8013, 150, 50), (2004, 150, 50))"
      ]
     },
     "metadata": {},
     "execution_count": 26
    }
   ],
   "source": [
    "train_size = 0.8    # percentual de exemplos para o treino\n",
    "\n",
    "X_train, X_test, Y_train, Y_test = train_test_split(X,Y,                       # dataset para ser dividido, entrada X e saída Y\n",
    "                                                    train_size=train_size,     # percentual resevado para o treinamento\n",
    "                                                    stratify=Y,                # estratificação para manter a distribuição dos rótulos igual entre treino e teste\n",
    "                                                    shuffle=True)              # embaralhar os exemplos aleatoriamente\n",
    "\n",
    "X_train.shape, X_test.shape"
   ]
  },
  {
   "source": [
    "### Criando o modelo classificador"
   ],
   "cell_type": "markdown",
   "metadata": {}
  },
  {
   "cell_type": "code",
   "execution_count": 27,
   "metadata": {},
   "outputs": [],
   "source": [
    "\n",
    "class Torch_Mean_Layer(nn.Module):\n",
    "  '''Camada personalizada: calcula a média do tensor dentrada sobre a dimensão 1 (colunas).\n",
    "     Retorna um vetor linha, onde cada elemento é a média dos elementos da coluna correspondente do tensor de entrada.\n",
    "  '''\n",
    "  def forward(self, x, dim=1):\n",
    "    # print(\"-----------------------\",x)\n",
    "    x = torch.mean(x, dim=dim, keepdims=True)\n",
    "    return x\n",
    "\n",
    "class moodClassifier(nn.Module):\n",
    "  '''Modelo classificador de emoções\n",
    "  '''\n",
    "\n",
    "  # ----------------------------------------------#\n",
    "  # Método construtor\n",
    "  def __init__(self, dim_embed, n_units): \n",
    "    super().__init__()  \n",
    "\n",
    "    embedding_seq = [] # \n",
    "    ann_seq       = [] # \n",
    "    soft_seq      = []\n",
    "\n",
    "    #---------------------------------------------------------------#\n",
    "    # Embedding step: sequência de operações para converter X --> h\n",
    "    embedding_seq.append(Torch_Mean_Layer())\n",
    "    #---------------------------------------------------------------#\n",
    "\n",
    "    #--------------------------------------------------------------------------#\n",
    "    # ANN: Rede Neural Artifical Tradicional, com regressão logística na saída\n",
    "    ann_seq.append(nn.Linear(dim_embed, n_units))\n",
    "    ann_seq.append(nn.ReLU(inplace=True))\n",
    "    ann_seq.append(nn.Linear(n_units, 6))\n",
    "    \n",
    "    #--------------------------------------------------------------------------#\n",
    "    # Softmax :)\n",
    "    soft_seq.append(nn.LogSoftmax(dim=1))\n",
    "\n",
    "    #--------------------------------------------------------------------------#\n",
    "\n",
    "    #--------------------------------------------------------------------------#\n",
    "    # \"merge\" de todas as camamadas em uma layer sequencial \n",
    "    # (uma sequência para cada etapa)\n",
    "    self.embedding = nn.Sequential(*embedding_seq)     # etapa de embedding \n",
    "    self.ann       = nn.Sequential(*ann_seq)           # etapa ANN\n",
    "    self.soft      = nn.Sequential(*soft_seq)\n",
    "    #--------------------------------------------------------------------------#\n",
    "\n",
    "\n",
    "  def forward(self, x): \n",
    "    '''Processamento realizado ao chamar y=modelo(x)\n",
    "    '''\n",
    "    x = self.embedding(x)  # aplica a etapa de embedding\n",
    "    x = self.ann(x)        # passa o embedding médio pelas camadas da ANN\n",
    "    x = x.view(-1,6)\n",
    "    x = self.soft(x)\n",
    "    return x  "
   ]
  },
  {
   "source": [
    "### Função que irá treinar "
   ],
   "cell_type": "markdown",
   "metadata": {}
  },
  {
   "cell_type": "code",
   "execution_count": 28,
   "metadata": {},
   "outputs": [],
   "source": [
    "def train_loop(model, data, max_epochs = 1000, print_iters = 5):\n",
    "  X_train, Y_train = data # desempacotamento de tupla\n",
    "  losses = []\n",
    "  accs = []\n",
    "  for i in range(max_epochs): # para cada época\n",
    "\n",
    "      #-----------------------------------#\n",
    "      # INÍCIO DO WORKFLOW DO TREINAMENTO #\n",
    "      # \n",
    "      Y_pred = model.forward(X_train)         # apresente os dados de entrada para o modelo, e obtenha a previsão    \n",
    "      loss = criterion(Y_pred.view(-1, 6), Y_train.view(-1))       # calcule a perda (o custo, o erro)\n",
    "      optimizer.zero_grad()                   # inicialize os gradientes\n",
    "      loss.backward()                         # backpropagation sobre a perda atual (cálculo dos novos gradientes) \n",
    "      optimizer.step()                        # atualização dos parâmetros da rede utilizando a regra do otimizador escolhido\n",
    "      # FIM DO WORKFLOW DO TREINAMENTO    #\n",
    "      #-----------------------------------#\n",
    "\n",
    "      # ------ Bloco Opcional ------ #\n",
    "      # Salvando métricas\n",
    "      losses.append(loss)                     # salvando a perda atual\n",
    "      acc = calc_accuracy(Y_pred, Y_train)     # calcula a taxa de acerto atual\n",
    "      accs.append(acc)\n",
    "\n",
    "\n",
    "      # INSERIR UM ACOMPANHAMENTO DA ACC DO TESTE\n",
    "      \n",
    "      # Imprimindo resultados parciais\n",
    "      if i % print_iters ==0: # a cada 10 iterações\n",
    "        print(f'epoch: {i:2}  loss: {loss.item():10.8f}') \n",
    "      #-----------------------------------#\n",
    "\n",
    "  #----------------------------------------------------------------------------# \n",
    "  print('\\n# Finished training!')\n",
    "  print(f'# --> epoch: {i}  \\n# --> initial loss: {losses[0]:10.8f} ,  \\n# --> accuracy: {acc:2.8f} , \\n# --> final loss: {losses[-1]:10.8f}')\n",
    "  \n",
    "  # retornando resultados\n",
    "  return model, losses, accs\n",
    "\n",
    "# Redefinindo cálculo da taxa de acerto \n",
    "def calc_accuracy(y_pred, y_true):\n",
    "  ''' Helper function para calcular a taxa de acerto deste exemplo.\n",
    "  '''\n",
    "  y_pred = torch.argmax(y_pred, dim=1)\n",
    "  y_pred = y_pred.float()\n",
    "  y_true = torch.squeeze(y_true) # tentar rexplicar dps\n",
    "  y_pred = torch.squeeze(y_pred)\n",
    "  num_hits  = torch.sum(y_pred==y_true).numpy()\n",
    "  num_total =  float(y_true.numel())\n",
    "  acc=  num_hits/num_total\n",
    "  return acc"
   ]
  },
  {
   "source": [
    "### Treinando com o modelo\n",
    "\n",
    "Convertendo os dados para tensores, instanciar o modelo, definir a função custo e o otimizador"
   ],
   "cell_type": "markdown",
   "metadata": {}
  },
  {
   "cell_type": "code",
   "execution_count": 29,
   "metadata": {
    "tags": [
     "outputPrepend"
    ]
   },
   "outputs": [
    {
     "output_type": "stream",
     "name": "stdout",
     "text": [
      "690\n",
      "epoch: 4338  loss: 0.24201304\n",
      "epoch: 4339  loss: 0.24192075\n",
      "epoch: 4340  loss: 0.24183278\n",
      "epoch: 4341  loss: 0.24174754\n",
      "epoch: 4342  loss: 0.24165882\n",
      "epoch: 4343  loss: 0.24157044\n",
      "epoch: 4344  loss: 0.24148157\n",
      "epoch: 4345  loss: 0.24139091\n",
      "epoch: 4346  loss: 0.24130048\n",
      "epoch: 4347  loss: 0.24121124\n",
      "epoch: 4348  loss: 0.24112032\n",
      "epoch: 4349  loss: 0.24103172\n",
      "epoch: 4350  loss: 0.24094379\n",
      "epoch: 4351  loss: 0.24085833\n",
      "epoch: 4352  loss: 0.24077533\n",
      "epoch: 4353  loss: 0.24069785\n",
      "epoch: 4354  loss: 0.24062319\n",
      "epoch: 4355  loss: 0.24054992\n",
      "epoch: 4356  loss: 0.24047312\n",
      "epoch: 4357  loss: 0.24038108\n",
      "epoch: 4358  loss: 0.24028197\n",
      "epoch: 4359  loss: 0.24017712\n",
      "epoch: 4360  loss: 0.24007598\n",
      "epoch: 4361  loss: 0.23998059\n",
      "epoch: 4362  loss: 0.23989072\n",
      "epoch: 4363  loss: 0.23980568\n",
      "epoch: 4364  loss: 0.23972531\n",
      "epoch: 4365  loss: 0.23964527\n",
      "epoch: 4366  loss: 0.23956420\n",
      "epoch: 4367  loss: 0.23948081\n",
      "epoch: 4368  loss: 0.23939094\n",
      "epoch: 4369  loss: 0.23929794\n",
      "epoch: 4370  loss: 0.23920219\n",
      "epoch: 4371  loss: 0.23910856\n",
      "epoch: 4372  loss: 0.23901585\n",
      "epoch: 4373  loss: 0.23892666\n",
      "epoch: 4374  loss: 0.23883852\n",
      "epoch: 4375  loss: 0.23875211\n",
      "epoch: 4376  loss: 0.23866683\n",
      "epoch: 4377  loss: 0.23858355\n",
      "epoch: 4378  loss: 0.23850192\n",
      "epoch: 4379  loss: 0.23841609\n",
      "epoch: 4380  loss: 0.23833346\n",
      "epoch: 4381  loss: 0.23824927\n",
      "epoch: 4382  loss: 0.23816559\n",
      "epoch: 4383  loss: 0.23808141\n",
      "epoch: 4384  loss: 0.23799454\n",
      "epoch: 4385  loss: 0.23790659\n",
      "epoch: 4386  loss: 0.23781450\n",
      "epoch: 4387  loss: 0.23772162\n",
      "epoch: 4388  loss: 0.23762794\n",
      "epoch: 4389  loss: 0.23753577\n",
      "epoch: 4390  loss: 0.23744488\n",
      "epoch: 4391  loss: 0.23735601\n",
      "epoch: 4392  loss: 0.23727095\n",
      "epoch: 4393  loss: 0.23718926\n",
      "epoch: 4394  loss: 0.23710904\n",
      "epoch: 4395  loss: 0.23703189\n",
      "epoch: 4396  loss: 0.23695460\n",
      "epoch: 4397  loss: 0.23687571\n",
      "epoch: 4398  loss: 0.23678689\n",
      "epoch: 4399  loss: 0.23669240\n",
      "epoch: 4400  loss: 0.23659633\n",
      "epoch: 4401  loss: 0.23649943\n",
      "epoch: 4402  loss: 0.23640634\n",
      "epoch: 4403  loss: 0.23631695\n",
      "epoch: 4404  loss: 0.23623061\n",
      "epoch: 4405  loss: 0.23614538\n",
      "epoch: 4406  loss: 0.23606090\n",
      "epoch: 4407  loss: 0.23598152\n",
      "epoch: 4408  loss: 0.23590356\n",
      "epoch: 4409  loss: 0.23582548\n",
      "epoch: 4410  loss: 0.23574835\n",
      "epoch: 4411  loss: 0.23566657\n",
      "epoch: 4412  loss: 0.23557726\n",
      "epoch: 4413  loss: 0.23548219\n",
      "epoch: 4414  loss: 0.23538919\n",
      "epoch: 4415  loss: 0.23529784\n",
      "epoch: 4416  loss: 0.23520944\n",
      "epoch: 4417  loss: 0.23512505\n",
      "epoch: 4418  loss: 0.23504344\n",
      "epoch: 4419  loss: 0.23495932\n",
      "epoch: 4420  loss: 0.23487407\n",
      "epoch: 4421  loss: 0.23478468\n",
      "epoch: 4422  loss: 0.23469390\n",
      "epoch: 4423  loss: 0.23460457\n",
      "epoch: 4424  loss: 0.23451588\n",
      "epoch: 4425  loss: 0.23443192\n",
      "epoch: 4426  loss: 0.23435120\n",
      "epoch: 4427  loss: 0.23427184\n",
      "epoch: 4428  loss: 0.23419614\n",
      "epoch: 4429  loss: 0.23411910\n",
      "epoch: 4430  loss: 0.23403768\n",
      "epoch: 4431  loss: 0.23395075\n",
      "epoch: 4432  loss: 0.23386174\n",
      "epoch: 4433  loss: 0.23377177\n",
      "epoch: 4434  loss: 0.23368062\n",
      "epoch: 4435  loss: 0.23358968\n",
      "epoch: 4436  loss: 0.23349862\n",
      "epoch: 4437  loss: 0.23340976\n",
      "epoch: 4438  loss: 0.23332120\n",
      "epoch: 4439  loss: 0.23323369\n",
      "epoch: 4440  loss: 0.23314700\n",
      "epoch: 4441  loss: 0.23306064\n",
      "epoch: 4442  loss: 0.23297679\n",
      "epoch: 4443  loss: 0.23289482\n",
      "epoch: 4444  loss: 0.23281351\n",
      "epoch: 4445  loss: 0.23273578\n",
      "epoch: 4446  loss: 0.23266296\n",
      "epoch: 4447  loss: 0.23258707\n",
      "epoch: 4448  loss: 0.23250820\n",
      "epoch: 4449  loss: 0.23241989\n",
      "epoch: 4450  loss: 0.23232383\n",
      "epoch: 4451  loss: 0.23222409\n",
      "epoch: 4452  loss: 0.23212840\n",
      "epoch: 4453  loss: 0.23203619\n",
      "epoch: 4454  loss: 0.23194900\n",
      "epoch: 4455  loss: 0.23186649\n",
      "epoch: 4456  loss: 0.23178525\n",
      "epoch: 4457  loss: 0.23170884\n",
      "epoch: 4458  loss: 0.23163551\n",
      "epoch: 4459  loss: 0.23156109\n",
      "epoch: 4460  loss: 0.23148240\n",
      "epoch: 4461  loss: 0.23139915\n",
      "epoch: 4462  loss: 0.23130754\n",
      "epoch: 4463  loss: 0.23121166\n",
      "epoch: 4464  loss: 0.23111464\n",
      "epoch: 4465  loss: 0.23102202\n",
      "epoch: 4466  loss: 0.23093309\n",
      "epoch: 4467  loss: 0.23084784\n",
      "epoch: 4468  loss: 0.23076379\n",
      "epoch: 4469  loss: 0.23068261\n",
      "epoch: 4470  loss: 0.23060355\n",
      "epoch: 4471  loss: 0.23052628\n",
      "epoch: 4472  loss: 0.23044756\n",
      "epoch: 4473  loss: 0.23036942\n",
      "epoch: 4474  loss: 0.23029035\n",
      "epoch: 4475  loss: 0.23020492\n",
      "epoch: 4476  loss: 0.23011871\n",
      "epoch: 4477  loss: 0.23003079\n",
      "epoch: 4478  loss: 0.22994329\n",
      "epoch: 4479  loss: 0.22985300\n",
      "epoch: 4480  loss: 0.22976477\n",
      "epoch: 4481  loss: 0.22967640\n",
      "epoch: 4482  loss: 0.22958711\n",
      "epoch: 4483  loss: 0.22950004\n",
      "epoch: 4484  loss: 0.22941689\n",
      "epoch: 4485  loss: 0.22933401\n",
      "epoch: 4486  loss: 0.22925292\n",
      "epoch: 4487  loss: 0.22917765\n",
      "epoch: 4488  loss: 0.22910395\n",
      "epoch: 4489  loss: 0.22903118\n",
      "epoch: 4490  loss: 0.22895509\n",
      "epoch: 4491  loss: 0.22886945\n",
      "epoch: 4492  loss: 0.22877771\n",
      "epoch: 4493  loss: 0.22867917\n",
      "epoch: 4494  loss: 0.22858126\n",
      "epoch: 4495  loss: 0.22849104\n",
      "epoch: 4496  loss: 0.22840703\n",
      "epoch: 4497  loss: 0.22832501\n",
      "epoch: 4498  loss: 0.22824651\n",
      "epoch: 4499  loss: 0.22817124\n",
      "epoch: 4500  loss: 0.22809789\n",
      "epoch: 4501  loss: 0.22802278\n",
      "epoch: 4502  loss: 0.22794057\n",
      "epoch: 4503  loss: 0.22785209\n",
      "epoch: 4504  loss: 0.22776003\n",
      "epoch: 4505  loss: 0.22766833\n",
      "epoch: 4506  loss: 0.22757909\n",
      "epoch: 4507  loss: 0.22749385\n",
      "epoch: 4508  loss: 0.22741234\n",
      "epoch: 4509  loss: 0.22733234\n",
      "epoch: 4510  loss: 0.22725214\n",
      "epoch: 4511  loss: 0.22717042\n",
      "epoch: 4512  loss: 0.22708437\n",
      "epoch: 4513  loss: 0.22699754\n",
      "epoch: 4514  loss: 0.22691049\n",
      "epoch: 4515  loss: 0.22682555\n",
      "epoch: 4516  loss: 0.22673981\n",
      "epoch: 4517  loss: 0.22665617\n",
      "epoch: 4518  loss: 0.22657183\n",
      "epoch: 4519  loss: 0.22648937\n",
      "epoch: 4520  loss: 0.22640936\n",
      "epoch: 4521  loss: 0.22632949\n",
      "epoch: 4522  loss: 0.22625582\n",
      "epoch: 4523  loss: 0.22618873\n",
      "epoch: 4524  loss: 0.22612180\n",
      "epoch: 4525  loss: 0.22605164\n",
      "epoch: 4526  loss: 0.22597067\n",
      "epoch: 4527  loss: 0.22587889\n",
      "epoch: 4528  loss: 0.22577736\n",
      "epoch: 4529  loss: 0.22567722\n",
      "epoch: 4530  loss: 0.22558275\n",
      "epoch: 4531  loss: 0.22549562\n",
      "epoch: 4532  loss: 0.22541353\n",
      "epoch: 4533  loss: 0.22533675\n",
      "epoch: 4534  loss: 0.22526275\n",
      "epoch: 4535  loss: 0.22518957\n",
      "epoch: 4536  loss: 0.22511369\n",
      "epoch: 4537  loss: 0.22503443\n",
      "epoch: 4538  loss: 0.22494648\n",
      "epoch: 4539  loss: 0.22485667\n",
      "epoch: 4540  loss: 0.22476617\n",
      "epoch: 4541  loss: 0.22467795\n",
      "epoch: 4542  loss: 0.22459123\n",
      "epoch: 4543  loss: 0.22450772\n",
      "epoch: 4544  loss: 0.22442642\n",
      "epoch: 4545  loss: 0.22434422\n",
      "epoch: 4546  loss: 0.22426568\n",
      "epoch: 4547  loss: 0.22418897\n",
      "epoch: 4548  loss: 0.22411230\n",
      "epoch: 4549  loss: 0.22403871\n",
      "epoch: 4550  loss: 0.22396185\n",
      "epoch: 4551  loss: 0.22387853\n",
      "epoch: 4552  loss: 0.22379138\n",
      "epoch: 4553  loss: 0.22370283\n",
      "epoch: 4554  loss: 0.22361501\n",
      "epoch: 4555  loss: 0.22353221\n",
      "epoch: 4556  loss: 0.22345345\n",
      "epoch: 4557  loss: 0.22338021\n",
      "epoch: 4558  loss: 0.22331037\n",
      "epoch: 4559  loss: 0.22323969\n",
      "epoch: 4560  loss: 0.22315775\n",
      "epoch: 4561  loss: 0.22307046\n",
      "epoch: 4562  loss: 0.22297767\n",
      "epoch: 4563  loss: 0.22288984\n",
      "epoch: 4564  loss: 0.22280678\n",
      "epoch: 4565  loss: 0.22272807\n",
      "epoch: 4566  loss: 0.22264916\n",
      "epoch: 4567  loss: 0.22257014\n",
      "epoch: 4568  loss: 0.22248454\n",
      "epoch: 4569  loss: 0.22239792\n",
      "epoch: 4570  loss: 0.22231309\n",
      "epoch: 4571  loss: 0.22223148\n",
      "epoch: 4572  loss: 0.22215687\n",
      "epoch: 4573  loss: 0.22208613\n",
      "epoch: 4574  loss: 0.22201812\n",
      "epoch: 4575  loss: 0.22194497\n",
      "epoch: 4576  loss: 0.22186959\n",
      "epoch: 4577  loss: 0.22178677\n",
      "epoch: 4578  loss: 0.22169583\n",
      "epoch: 4579  loss: 0.22160378\n",
      "epoch: 4580  loss: 0.22151646\n",
      "epoch: 4581  loss: 0.22143351\n",
      "epoch: 4582  loss: 0.22135478\n",
      "epoch: 4583  loss: 0.22127630\n",
      "epoch: 4584  loss: 0.22119603\n",
      "epoch: 4585  loss: 0.22111461\n",
      "epoch: 4586  loss: 0.22103474\n",
      "epoch: 4587  loss: 0.22095633\n",
      "epoch: 4588  loss: 0.22088125\n",
      "epoch: 4589  loss: 0.22080866\n",
      "epoch: 4590  loss: 0.22073819\n",
      "epoch: 4591  loss: 0.22066382\n",
      "epoch: 4592  loss: 0.22058432\n",
      "epoch: 4593  loss: 0.22049570\n",
      "epoch: 4594  loss: 0.22040536\n",
      "epoch: 4595  loss: 0.22032082\n",
      "epoch: 4596  loss: 0.22023739\n",
      "epoch: 4597  loss: 0.22015829\n",
      "epoch: 4598  loss: 0.22008233\n",
      "epoch: 4599  loss: 0.22000365\n",
      "epoch: 4600  loss: 0.21992351\n",
      "epoch: 4601  loss: 0.21984038\n",
      "epoch: 4602  loss: 0.21975660\n",
      "epoch: 4603  loss: 0.21967651\n",
      "epoch: 4604  loss: 0.21959500\n",
      "epoch: 4605  loss: 0.21951587\n",
      "epoch: 4606  loss: 0.21943806\n",
      "epoch: 4607  loss: 0.21936104\n",
      "epoch: 4608  loss: 0.21928495\n",
      "epoch: 4609  loss: 0.21920967\n",
      "epoch: 4610  loss: 0.21913503\n",
      "epoch: 4611  loss: 0.21905984\n",
      "epoch: 4612  loss: 0.21898361\n",
      "epoch: 4613  loss: 0.21891347\n",
      "epoch: 4614  loss: 0.21884473\n",
      "epoch: 4615  loss: 0.21877839\n",
      "epoch: 4616  loss: 0.21871057\n",
      "epoch: 4617  loss: 0.21863464\n",
      "epoch: 4618  loss: 0.21854635\n",
      "epoch: 4619  loss: 0.21845341\n",
      "epoch: 4620  loss: 0.21835886\n",
      "epoch: 4621  loss: 0.21826787\n",
      "epoch: 4622  loss: 0.21818507\n",
      "epoch: 4623  loss: 0.21811080\n",
      "epoch: 4624  loss: 0.21804124\n",
      "epoch: 4625  loss: 0.21797539\n",
      "epoch: 4626  loss: 0.21790966\n",
      "epoch: 4627  loss: 0.21783699\n",
      "epoch: 4628  loss: 0.21775319\n",
      "epoch: 4629  loss: 0.21766339\n",
      "epoch: 4630  loss: 0.21757330\n",
      "epoch: 4631  loss: 0.21748713\n",
      "epoch: 4632  loss: 0.21740460\n",
      "epoch: 4633  loss: 0.21732603\n",
      "epoch: 4634  loss: 0.21725290\n",
      "epoch: 4635  loss: 0.21718234\n",
      "epoch: 4636  loss: 0.21711349\n",
      "epoch: 4637  loss: 0.21704075\n",
      "epoch: 4638  loss: 0.21696752\n",
      "epoch: 4639  loss: 0.21688966\n",
      "epoch: 4640  loss: 0.21681097\n",
      "epoch: 4641  loss: 0.21672817\n",
      "epoch: 4642  loss: 0.21664721\n",
      "epoch: 4643  loss: 0.21656826\n",
      "epoch: 4644  loss: 0.21648957\n",
      "epoch: 4645  loss: 0.21640967\n",
      "epoch: 4646  loss: 0.21632682\n",
      "epoch: 4647  loss: 0.21624576\n",
      "epoch: 4648  loss: 0.21616617\n",
      "epoch: 4649  loss: 0.21608858\n",
      "epoch: 4650  loss: 0.21601170\n",
      "epoch: 4651  loss: 0.21593690\n",
      "epoch: 4652  loss: 0.21586365\n",
      "epoch: 4653  loss: 0.21579112\n",
      "epoch: 4654  loss: 0.21572156\n",
      "epoch: 4655  loss: 0.21565443\n",
      "epoch: 4656  loss: 0.21558809\n",
      "epoch: 4657  loss: 0.21551882\n",
      "epoch: 4658  loss: 0.21544692\n",
      "epoch: 4659  loss: 0.21536551\n",
      "epoch: 4660  loss: 0.21527916\n",
      "epoch: 4661  loss: 0.21519443\n",
      "epoch: 4662  loss: 0.21510623\n",
      "epoch: 4663  loss: 0.21502177\n",
      "epoch: 4664  loss: 0.21494333\n",
      "epoch: 4665  loss: 0.21486691\n",
      "epoch: 4666  loss: 0.21479213\n",
      "epoch: 4667  loss: 0.21472053\n",
      "epoch: 4668  loss: 0.21465325\n",
      "epoch: 4669  loss: 0.21458457\n",
      "epoch: 4670  loss: 0.21451434\n",
      "epoch: 4671  loss: 0.21444024\n",
      "epoch: 4672  loss: 0.21436319\n",
      "epoch: 4673  loss: 0.21427861\n",
      "epoch: 4674  loss: 0.21419442\n",
      "epoch: 4675  loss: 0.21411121\n",
      "epoch: 4676  loss: 0.21402968\n",
      "epoch: 4677  loss: 0.21395101\n",
      "epoch: 4678  loss: 0.21387272\n",
      "epoch: 4679  loss: 0.21379669\n",
      "epoch: 4680  loss: 0.21372068\n",
      "epoch: 4681  loss: 0.21364599\n",
      "epoch: 4682  loss: 0.21357267\n",
      "epoch: 4683  loss: 0.21349937\n",
      "epoch: 4684  loss: 0.21342795\n",
      "epoch: 4685  loss: 0.21335681\n",
      "epoch: 4686  loss: 0.21328934\n",
      "epoch: 4687  loss: 0.21322212\n",
      "epoch: 4688  loss: 0.21315460\n",
      "epoch: 4689  loss: 0.21308404\n",
      "epoch: 4690  loss: 0.21300825\n",
      "epoch: 4691  loss: 0.21292791\n",
      "epoch: 4692  loss: 0.21284400\n",
      "epoch: 4693  loss: 0.21276115\n",
      "epoch: 4694  loss: 0.21267876\n",
      "epoch: 4695  loss: 0.21259849\n",
      "epoch: 4696  loss: 0.21251892\n",
      "epoch: 4697  loss: 0.21244283\n",
      "epoch: 4698  loss: 0.21236868\n",
      "epoch: 4699  loss: 0.21229830\n",
      "epoch: 4700  loss: 0.21222962\n",
      "epoch: 4701  loss: 0.21216217\n",
      "epoch: 4702  loss: 0.21209355\n",
      "epoch: 4703  loss: 0.21201886\n",
      "epoch: 4704  loss: 0.21194002\n",
      "epoch: 4705  loss: 0.21186085\n",
      "epoch: 4706  loss: 0.21177967\n",
      "epoch: 4707  loss: 0.21169938\n",
      "epoch: 4708  loss: 0.21161899\n",
      "epoch: 4709  loss: 0.21154372\n",
      "epoch: 4710  loss: 0.21146649\n",
      "epoch: 4711  loss: 0.21139148\n",
      "epoch: 4712  loss: 0.21131667\n",
      "epoch: 4713  loss: 0.21124224\n",
      "epoch: 4714  loss: 0.21116967\n",
      "epoch: 4715  loss: 0.21109653\n",
      "epoch: 4716  loss: 0.21102512\n",
      "epoch: 4717  loss: 0.21095677\n",
      "epoch: 4718  loss: 0.21088994\n",
      "epoch: 4719  loss: 0.21081904\n",
      "epoch: 4720  loss: 0.21074714\n",
      "epoch: 4721  loss: 0.21067578\n",
      "epoch: 4722  loss: 0.21060258\n",
      "epoch: 4723  loss: 0.21052767\n",
      "epoch: 4724  loss: 0.21045068\n",
      "epoch: 4725  loss: 0.21037032\n",
      "epoch: 4726  loss: 0.21029016\n",
      "epoch: 4727  loss: 0.21020958\n",
      "epoch: 4728  loss: 0.21013096\n",
      "epoch: 4729  loss: 0.21005552\n",
      "epoch: 4730  loss: 0.20997779\n",
      "epoch: 4731  loss: 0.20990357\n",
      "epoch: 4732  loss: 0.20983063\n",
      "epoch: 4733  loss: 0.20975812\n",
      "epoch: 4734  loss: 0.20968734\n",
      "epoch: 4735  loss: 0.20961919\n",
      "epoch: 4736  loss: 0.20955370\n",
      "epoch: 4737  loss: 0.20949161\n",
      "epoch: 4738  loss: 0.20943150\n",
      "epoch: 4739  loss: 0.20936650\n",
      "epoch: 4740  loss: 0.20929536\n",
      "epoch: 4741  loss: 0.20921610\n",
      "epoch: 4742  loss: 0.20913053\n",
      "epoch: 4743  loss: 0.20904586\n",
      "epoch: 4744  loss: 0.20896292\n",
      "epoch: 4745  loss: 0.20888391\n",
      "epoch: 4746  loss: 0.20880951\n",
      "epoch: 4747  loss: 0.20873909\n",
      "epoch: 4748  loss: 0.20867205\n",
      "epoch: 4749  loss: 0.20860772\n",
      "epoch: 4750  loss: 0.20854202\n",
      "epoch: 4751  loss: 0.20847423\n",
      "epoch: 4752  loss: 0.20840251\n",
      "epoch: 4753  loss: 0.20832609\n",
      "epoch: 4754  loss: 0.20824534\n",
      "epoch: 4755  loss: 0.20816390\n",
      "epoch: 4756  loss: 0.20808266\n",
      "epoch: 4757  loss: 0.20800428\n",
      "epoch: 4758  loss: 0.20793031\n",
      "epoch: 4759  loss: 0.20785685\n",
      "epoch: 4760  loss: 0.20778565\n",
      "epoch: 4761  loss: 0.20771711\n",
      "epoch: 4762  loss: 0.20765400\n",
      "epoch: 4763  loss: 0.20758922\n",
      "epoch: 4764  loss: 0.20752397\n",
      "epoch: 4765  loss: 0.20745435\n",
      "epoch: 4766  loss: 0.20738128\n",
      "epoch: 4767  loss: 0.20730333\n",
      "epoch: 4768  loss: 0.20722501\n",
      "epoch: 4769  loss: 0.20714962\n",
      "epoch: 4770  loss: 0.20707287\n",
      "epoch: 4771  loss: 0.20699489\n",
      "epoch: 4772  loss: 0.20692022\n",
      "epoch: 4773  loss: 0.20684822\n",
      "epoch: 4774  loss: 0.20677541\n",
      "epoch: 4775  loss: 0.20670326\n",
      "epoch: 4776  loss: 0.20663446\n",
      "epoch: 4777  loss: 0.20656830\n",
      "epoch: 4778  loss: 0.20650156\n",
      "epoch: 4779  loss: 0.20643725\n",
      "epoch: 4780  loss: 0.20637193\n",
      "epoch: 4781  loss: 0.20629969\n",
      "epoch: 4782  loss: 0.20622112\n",
      "epoch: 4783  loss: 0.20614050\n",
      "epoch: 4784  loss: 0.20606004\n",
      "epoch: 4785  loss: 0.20597941\n",
      "epoch: 4786  loss: 0.20590244\n",
      "epoch: 4787  loss: 0.20583098\n",
      "epoch: 4788  loss: 0.20576084\n",
      "epoch: 4789  loss: 0.20569392\n",
      "epoch: 4790  loss: 0.20563053\n",
      "epoch: 4791  loss: 0.20556635\n",
      "epoch: 4792  loss: 0.20550039\n",
      "epoch: 4793  loss: 0.20543352\n",
      "epoch: 4794  loss: 0.20535819\n",
      "epoch: 4795  loss: 0.20527974\n",
      "epoch: 4796  loss: 0.20519701\n",
      "epoch: 4797  loss: 0.20511732\n",
      "epoch: 4798  loss: 0.20504080\n",
      "epoch: 4799  loss: 0.20496668\n",
      "epoch: 4800  loss: 0.20489484\n",
      "epoch: 4801  loss: 0.20482549\n",
      "epoch: 4802  loss: 0.20475955\n",
      "epoch: 4803  loss: 0.20469499\n",
      "epoch: 4804  loss: 0.20463103\n",
      "epoch: 4805  loss: 0.20456339\n",
      "epoch: 4806  loss: 0.20449385\n",
      "epoch: 4807  loss: 0.20442013\n",
      "epoch: 4808  loss: 0.20434646\n",
      "epoch: 4809  loss: 0.20427394\n",
      "epoch: 4810  loss: 0.20420183\n",
      "epoch: 4811  loss: 0.20413028\n",
      "epoch: 4812  loss: 0.20405686\n",
      "epoch: 4813  loss: 0.20398271\n",
      "epoch: 4814  loss: 0.20390628\n",
      "epoch: 4815  loss: 0.20383236\n",
      "epoch: 4816  loss: 0.20375964\n",
      "epoch: 4817  loss: 0.20368725\n",
      "epoch: 4818  loss: 0.20361687\n",
      "epoch: 4819  loss: 0.20354742\n",
      "epoch: 4820  loss: 0.20347925\n",
      "epoch: 4821  loss: 0.20341377\n",
      "epoch: 4822  loss: 0.20334928\n",
      "epoch: 4823  loss: 0.20328483\n",
      "epoch: 4824  loss: 0.20322050\n",
      "epoch: 4825  loss: 0.20315380\n",
      "epoch: 4826  loss: 0.20308228\n",
      "epoch: 4827  loss: 0.20301105\n",
      "epoch: 4828  loss: 0.20293495\n",
      "epoch: 4829  loss: 0.20286031\n",
      "epoch: 4830  loss: 0.20278554\n",
      "epoch: 4831  loss: 0.20271210\n",
      "epoch: 4832  loss: 0.20264006\n",
      "epoch: 4833  loss: 0.20256695\n",
      "epoch: 4834  loss: 0.20249178\n",
      "epoch: 4835  loss: 0.20241956\n",
      "epoch: 4836  loss: 0.20234784\n",
      "epoch: 4837  loss: 0.20227712\n",
      "epoch: 4838  loss: 0.20221037\n",
      "epoch: 4839  loss: 0.20214961\n",
      "epoch: 4840  loss: 0.20208992\n",
      "epoch: 4841  loss: 0.20202908\n",
      "epoch: 4842  loss: 0.20196913\n",
      "epoch: 4843  loss: 0.20190060\n",
      "epoch: 4844  loss: 0.20182393\n",
      "epoch: 4845  loss: 0.20174204\n",
      "epoch: 4846  loss: 0.20166019\n",
      "epoch: 4847  loss: 0.20157811\n",
      "epoch: 4848  loss: 0.20150195\n",
      "epoch: 4849  loss: 0.20142996\n",
      "epoch: 4850  loss: 0.20136267\n",
      "epoch: 4851  loss: 0.20129742\n",
      "epoch: 4852  loss: 0.20123698\n",
      "epoch: 4853  loss: 0.20117737\n",
      "epoch: 4854  loss: 0.20111482\n",
      "epoch: 4855  loss: 0.20104641\n",
      "epoch: 4856  loss: 0.20097156\n",
      "epoch: 4857  loss: 0.20089284\n",
      "epoch: 4858  loss: 0.20081449\n",
      "epoch: 4859  loss: 0.20073776\n",
      "epoch: 4860  loss: 0.20066382\n",
      "epoch: 4861  loss: 0.20059338\n",
      "epoch: 4862  loss: 0.20052253\n",
      "epoch: 4863  loss: 0.20045325\n",
      "epoch: 4864  loss: 0.20038301\n",
      "epoch: 4865  loss: 0.20031577\n",
      "epoch: 4866  loss: 0.20025033\n",
      "epoch: 4867  loss: 0.20018572\n",
      "epoch: 4868  loss: 0.20012638\n",
      "epoch: 4869  loss: 0.20006725\n",
      "epoch: 4870  loss: 0.20000790\n",
      "epoch: 4871  loss: 0.19994634\n",
      "epoch: 4872  loss: 0.19987662\n",
      "epoch: 4873  loss: 0.19979757\n",
      "epoch: 4874  loss: 0.19971989\n",
      "epoch: 4875  loss: 0.19963665\n",
      "epoch: 4876  loss: 0.19955766\n",
      "epoch: 4877  loss: 0.19948614\n",
      "epoch: 4878  loss: 0.19941956\n",
      "epoch: 4879  loss: 0.19935262\n",
      "epoch: 4880  loss: 0.19929197\n",
      "epoch: 4881  loss: 0.19923244\n",
      "epoch: 4882  loss: 0.19916621\n",
      "epoch: 4883  loss: 0.19909284\n",
      "epoch: 4884  loss: 0.19901648\n",
      "epoch: 4885  loss: 0.19893807\n",
      "epoch: 4886  loss: 0.19886078\n",
      "epoch: 4887  loss: 0.19878608\n",
      "epoch: 4888  loss: 0.19871554\n",
      "epoch: 4889  loss: 0.19864877\n",
      "epoch: 4890  loss: 0.19858216\n",
      "epoch: 4891  loss: 0.19852096\n",
      "epoch: 4892  loss: 0.19846185\n",
      "epoch: 4893  loss: 0.19840109\n",
      "epoch: 4894  loss: 0.19833694\n",
      "epoch: 4895  loss: 0.19826587\n",
      "epoch: 4896  loss: 0.19819061\n",
      "epoch: 4897  loss: 0.19811054\n",
      "epoch: 4898  loss: 0.19803327\n",
      "epoch: 4899  loss: 0.19795932\n",
      "epoch: 4900  loss: 0.19788761\n",
      "epoch: 4901  loss: 0.19781724\n",
      "epoch: 4902  loss: 0.19774848\n",
      "epoch: 4903  loss: 0.19768007\n",
      "epoch: 4904  loss: 0.19761388\n",
      "epoch: 4905  loss: 0.19754668\n",
      "epoch: 4906  loss: 0.19748059\n",
      "epoch: 4907  loss: 0.19741763\n",
      "epoch: 4908  loss: 0.19735624\n",
      "epoch: 4909  loss: 0.19729473\n",
      "epoch: 4910  loss: 0.19723430\n",
      "epoch: 4911  loss: 0.19716851\n",
      "epoch: 4912  loss: 0.19709703\n",
      "epoch: 4913  loss: 0.19702083\n",
      "epoch: 4914  loss: 0.19694220\n",
      "epoch: 4915  loss: 0.19686380\n",
      "epoch: 4916  loss: 0.19678798\n",
      "epoch: 4917  loss: 0.19671912\n",
      "epoch: 4918  loss: 0.19665018\n",
      "epoch: 4919  loss: 0.19658187\n",
      "epoch: 4920  loss: 0.19651817\n",
      "epoch: 4921  loss: 0.19645353\n",
      "epoch: 4922  loss: 0.19639042\n",
      "epoch: 4923  loss: 0.19632976\n",
      "epoch: 4924  loss: 0.19626662\n",
      "epoch: 4925  loss: 0.19620037\n",
      "epoch: 4926  loss: 0.19613437\n",
      "epoch: 4927  loss: 0.19605865\n",
      "epoch: 4928  loss: 0.19598179\n",
      "epoch: 4929  loss: 0.19590680\n",
      "epoch: 4930  loss: 0.19583261\n",
      "epoch: 4931  loss: 0.19576357\n",
      "epoch: 4932  loss: 0.19569625\n",
      "epoch: 4933  loss: 0.19563037\n",
      "epoch: 4934  loss: 0.19556555\n",
      "epoch: 4935  loss: 0.19550075\n",
      "epoch: 4936  loss: 0.19543676\n",
      "epoch: 4937  loss: 0.19537528\n",
      "epoch: 4938  loss: 0.19531001\n",
      "epoch: 4939  loss: 0.19524433\n",
      "epoch: 4940  loss: 0.19517711\n",
      "epoch: 4941  loss: 0.19510777\n",
      "epoch: 4942  loss: 0.19503614\n",
      "epoch: 4943  loss: 0.19496389\n",
      "epoch: 4944  loss: 0.19489151\n",
      "epoch: 4945  loss: 0.19482118\n",
      "epoch: 4946  loss: 0.19475064\n",
      "epoch: 4947  loss: 0.19468264\n",
      "epoch: 4948  loss: 0.19461390\n",
      "epoch: 4949  loss: 0.19454716\n",
      "epoch: 4950  loss: 0.19448178\n",
      "epoch: 4951  loss: 0.19441627\n",
      "epoch: 4952  loss: 0.19435428\n",
      "epoch: 4953  loss: 0.19429131\n",
      "epoch: 4954  loss: 0.19422950\n",
      "epoch: 4955  loss: 0.19416735\n",
      "epoch: 4956  loss: 0.19410187\n",
      "epoch: 4957  loss: 0.19403307\n",
      "epoch: 4958  loss: 0.19396244\n",
      "epoch: 4959  loss: 0.19389370\n",
      "epoch: 4960  loss: 0.19382446\n",
      "epoch: 4961  loss: 0.19375546\n",
      "epoch: 4962  loss: 0.19368596\n",
      "epoch: 4963  loss: 0.19361399\n",
      "epoch: 4964  loss: 0.19354255\n",
      "epoch: 4965  loss: 0.19347243\n",
      "epoch: 4966  loss: 0.19340082\n",
      "epoch: 4967  loss: 0.19333388\n",
      "epoch: 4968  loss: 0.19327141\n",
      "epoch: 4969  loss: 0.19321042\n",
      "epoch: 4970  loss: 0.19315262\n",
      "epoch: 4971  loss: 0.19309406\n",
      "epoch: 4972  loss: 0.19303489\n",
      "epoch: 4973  loss: 0.19297178\n",
      "epoch: 4974  loss: 0.19290127\n",
      "epoch: 4975  loss: 0.19282794\n",
      "epoch: 4976  loss: 0.19275305\n",
      "epoch: 4977  loss: 0.19267881\n",
      "epoch: 4978  loss: 0.19260976\n",
      "epoch: 4979  loss: 0.19254391\n",
      "epoch: 4980  loss: 0.19247855\n",
      "epoch: 4981  loss: 0.19241297\n",
      "epoch: 4982  loss: 0.19234422\n",
      "epoch: 4983  loss: 0.19227548\n",
      "epoch: 4984  loss: 0.19220398\n",
      "epoch: 4985  loss: 0.19213669\n",
      "epoch: 4986  loss: 0.19207467\n",
      "epoch: 4987  loss: 0.19201671\n",
      "epoch: 4988  loss: 0.19196199\n",
      "epoch: 4989  loss: 0.19190367\n",
      "epoch: 4990  loss: 0.19183907\n",
      "epoch: 4991  loss: 0.19176862\n",
      "epoch: 4992  loss: 0.19169515\n",
      "epoch: 4993  loss: 0.19162260\n",
      "epoch: 4994  loss: 0.19155551\n",
      "epoch: 4995  loss: 0.19148794\n",
      "epoch: 4996  loss: 0.19142029\n",
      "epoch: 4997  loss: 0.19135343\n",
      "epoch: 4998  loss: 0.19128303\n",
      "epoch: 4999  loss: 0.19121212\n",
      "\n",
      "# Finished training!\n",
      "# --> epoch: 4999  \n",
      "# --> initial loss: 1.79076612 ,  \n",
      "# --> accuracy: 0.95045551 , \n",
      "# --> final loss: 0.19121212\n"
     ]
    }
   ],
   "source": [
    "data_train = (torch.FloatTensor(X_train), torch.LongTensor(Y_train))\n",
    "\n",
    "Model = moodClassifier(dim_embed=num_dims, n_units=500)\n",
    "print(Model)\n",
    "\n",
    "criterion = nn.NLLLoss() # cross entropy loss\n",
    "optimizer = torch.optim.Adam(Model.parameters(), lr = 0.001) \n",
    "\n",
    "Model, losses, accs = train_loop(Model, data_train, max_epochs=5000, print_iters=1) # note que o modelo é sobrescrito pela saída treinada"
   ]
  },
  {
   "cell_type": "code",
   "execution_count": 30,
   "metadata": {},
   "outputs": [],
   "source": [
    "# Rodando o Modelo treinado com o Dataset de Teste\n",
    "data_test = (torch.FloatTensor(X_test), torch.LongTensor(Y_test))\n",
    "X_test_tensor, Y_test_tensor = data_test\n",
    "Y_pred_tensor = Model.forward(X_test_tensor) \n",
    "\n",
    "# hard-decision e pós-processamento da saída\n",
    "y_pred = torch.argmax(Y_pred_tensor, dim=1)\n",
    "y_pred = y_pred.float()\n",
    "y_true = torch.squeeze(Y_test_tensor) \n",
    "y_pred = torch.squeeze(y_pred)"
   ]
  },
  {
   "source": [
    "### Mostrando a *Confusion Matrix*"
   ],
   "cell_type": "markdown",
   "metadata": {}
  },
  {
   "cell_type": "code",
   "execution_count": 31,
   "metadata": {},
   "outputs": [
    {
     "output_type": "display_data",
     "data": {
      "text/plain": "<Figure size 792x792 with 2 Axes>",
      "image/svg+xml": "<?xml version=\"1.0\" encoding=\"utf-8\" standalone=\"no\"?>\r\n<!DOCTYPE svg PUBLIC \"-//W3C//DTD SVG 1.1//EN\"\r\n  \"http://www.w3.org/Graphics/SVG/1.1/DTD/svg11.dtd\">\r\n<!-- Created with matplotlib (https://matplotlib.org/) -->\r\n<svg height=\"618.238906pt\" version=\"1.1\" viewBox=\"0 0 646.688937 618.238906\" width=\"646.688937pt\" xmlns=\"http://www.w3.org/2000/svg\" xmlns:xlink=\"http://www.w3.org/1999/xlink\">\r\n <metadata>\r\n  <rdf:RDF xmlns:cc=\"http://creativecommons.org/ns#\" xmlns:dc=\"http://purl.org/dc/elements/1.1/\" xmlns:rdf=\"http://www.w3.org/1999/02/22-rdf-syntax-ns#\">\r\n   <cc:Work>\r\n    <dc:type rdf:resource=\"http://purl.org/dc/dcmitype/StillImage\"/>\r\n    <dc:date>2021-04-20T09:33:32.213191</dc:date>\r\n    <dc:format>image/svg+xml</dc:format>\r\n    <dc:creator>\r\n     <cc:Agent>\r\n      <dc:title>Matplotlib v3.3.2, https://matplotlib.org/</dc:title>\r\n     </cc:Agent>\r\n    </dc:creator>\r\n   </cc:Work>\r\n  </rdf:RDF>\r\n </metadata>\r\n <defs>\r\n  <style type=\"text/css\">*{stroke-linecap:butt;stroke-linejoin:round;}</style>\r\n </defs>\r\n <g id=\"figure_1\">\r\n  <g id=\"patch_1\">\r\n   <path d=\"M -0 618.238906 \r\nL 646.688937 618.238906 \r\nL 646.688937 0 \r\nL -0 0 \r\nz\r\n\" style=\"fill:none;\"/>\r\n  </g>\r\n  <g id=\"axes_1\">\r\n   <g id=\"patch_2\">\r\n    <path d=\"M 68.135938 551.7 \r\nL 559.175938 551.7 \r\nL 559.175938 60.66 \r\nL 68.135938 60.66 \r\nz\r\n\" style=\"fill:#ffffff;\"/>\r\n   </g>\r\n   <g clip-path=\"url(#p63475a2b0d)\">\r\n    <image height=\"492\" id=\"image8bcd3a2837\" transform=\"scale(1 -1)translate(0 -492)\" width=\"492\" x=\"68.135938\" xlink:href=\"data:image/png;base64,\r\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\" y=\"-59.7\"/>\r\n   </g>\r\n   <g id=\"matplotlib.axis_1\">\r\n    <g id=\"xtick_1\">\r\n     <g id=\"line2d_1\">\r\n      <defs>\r\n       <path d=\"M 0 0 \r\nL 0 3.5 \r\n\" id=\"m2127f5f618\" style=\"stroke:#000000;stroke-width:0.8;\"/>\r\n      </defs>\r\n      <g>\r\n       <use style=\"stroke:#000000;stroke-width:0.8;\" x=\"109.055938\" xlink:href=\"#m2127f5f618\" y=\"551.7\"/>\r\n      </g>\r\n     </g>\r\n     <g id=\"text_1\">\r\n      <!-- angry -->\r\n      <g transform=\"translate(94.634063 566.298437)scale(0.1 -0.1)\">\r\n       <defs>\r\n        <path d=\"M 34.28125 27.484375 \r\nQ 23.390625 27.484375 19.1875 25 \r\nQ 14.984375 22.515625 14.984375 16.5 \r\nQ 14.984375 11.71875 18.140625 8.90625 \r\nQ 21.296875 6.109375 26.703125 6.109375 \r\nQ 34.1875 6.109375 38.703125 11.40625 \r\nQ 43.21875 16.703125 43.21875 25.484375 \r\nL 43.21875 27.484375 \r\nz\r\nM 52.203125 31.203125 \r\nL 52.203125 0 \r\nL 43.21875 0 \r\nL 43.21875 8.296875 \r\nQ 40.140625 3.328125 35.546875 0.953125 \r\nQ 30.953125 -1.421875 24.3125 -1.421875 \r\nQ 15.921875 -1.421875 10.953125 3.296875 \r\nQ 6 8.015625 6 15.921875 \r\nQ 6 25.140625 12.171875 29.828125 \r\nQ 18.359375 34.515625 30.609375 34.515625 \r\nL 43.21875 34.515625 \r\nL 43.21875 35.40625 \r\nQ 43.21875 41.609375 39.140625 45 \r\nQ 35.0625 48.390625 27.6875 48.390625 \r\nQ 23 48.390625 18.546875 47.265625 \r\nQ 14.109375 46.140625 10.015625 43.890625 \r\nL 10.015625 52.203125 \r\nQ 14.9375 54.109375 19.578125 55.046875 \r\nQ 24.21875 56 28.609375 56 \r\nQ 40.484375 56 46.34375 49.84375 \r\nQ 52.203125 43.703125 52.203125 31.203125 \r\nz\r\n\" id=\"DejaVuSans-97\"/>\r\n        <path d=\"M 54.890625 33.015625 \r\nL 54.890625 0 \r\nL 45.90625 0 \r\nL 45.90625 32.71875 \r\nQ 45.90625 40.484375 42.875 44.328125 \r\nQ 39.84375 48.1875 33.796875 48.1875 \r\nQ 26.515625 48.1875 22.3125 43.546875 \r\nQ 18.109375 38.921875 18.109375 30.90625 \r\nL 18.109375 0 \r\nL 9.078125 0 \r\nL 9.078125 54.6875 \r\nL 18.109375 54.6875 \r\nL 18.109375 46.1875 \r\nQ 21.34375 51.125 25.703125 53.5625 \r\nQ 30.078125 56 35.796875 56 \r\nQ 45.21875 56 50.046875 50.171875 \r\nQ 54.890625 44.34375 54.890625 33.015625 \r\nz\r\n\" id=\"DejaVuSans-110\"/>\r\n        <path d=\"M 45.40625 27.984375 \r\nQ 45.40625 37.75 41.375 43.109375 \r\nQ 37.359375 48.484375 30.078125 48.484375 \r\nQ 22.859375 48.484375 18.828125 43.109375 \r\nQ 14.796875 37.75 14.796875 27.984375 \r\nQ 14.796875 18.265625 18.828125 12.890625 \r\nQ 22.859375 7.515625 30.078125 7.515625 \r\nQ 37.359375 7.515625 41.375 12.890625 \r\nQ 45.40625 18.265625 45.40625 27.984375 \r\nz\r\nM 54.390625 6.78125 \r\nQ 54.390625 -7.171875 48.1875 -13.984375 \r\nQ 42 -20.796875 29.203125 -20.796875 \r\nQ 24.46875 -20.796875 20.265625 -20.09375 \r\nQ 16.0625 -19.390625 12.109375 -17.921875 \r\nL 12.109375 -9.1875 \r\nQ 16.0625 -11.328125 19.921875 -12.34375 \r\nQ 23.78125 -13.375 27.78125 -13.375 \r\nQ 36.625 -13.375 41.015625 -8.765625 \r\nQ 45.40625 -4.15625 45.40625 5.171875 \r\nL 45.40625 9.625 \r\nQ 42.625 4.78125 38.28125 2.390625 \r\nQ 33.9375 0 27.875 0 \r\nQ 17.828125 0 11.671875 7.65625 \r\nQ 5.515625 15.328125 5.515625 27.984375 \r\nQ 5.515625 40.671875 11.671875 48.328125 \r\nQ 17.828125 56 27.875 56 \r\nQ 33.9375 56 38.28125 53.609375 \r\nQ 42.625 51.21875 45.40625 46.390625 \r\nL 45.40625 54.6875 \r\nL 54.390625 54.6875 \r\nz\r\n\" id=\"DejaVuSans-103\"/>\r\n        <path d=\"M 41.109375 46.296875 \r\nQ 39.59375 47.171875 37.8125 47.578125 \r\nQ 36.03125 48 33.890625 48 \r\nQ 26.265625 48 22.1875 43.046875 \r\nQ 18.109375 38.09375 18.109375 28.8125 \r\nL 18.109375 0 \r\nL 9.078125 0 \r\nL 9.078125 54.6875 \r\nL 18.109375 54.6875 \r\nL 18.109375 46.1875 \r\nQ 20.953125 51.171875 25.484375 53.578125 \r\nQ 30.03125 56 36.53125 56 \r\nQ 37.453125 56 38.578125 55.875 \r\nQ 39.703125 55.765625 41.0625 55.515625 \r\nz\r\n\" id=\"DejaVuSans-114\"/>\r\n        <path d=\"M 32.171875 -5.078125 \r\nQ 28.375 -14.84375 24.75 -17.8125 \r\nQ 21.140625 -20.796875 15.09375 -20.796875 \r\nL 7.90625 -20.796875 \r\nL 7.90625 -13.28125 \r\nL 13.1875 -13.28125 \r\nQ 16.890625 -13.28125 18.9375 -11.515625 \r\nQ 21 -9.765625 23.484375 -3.21875 \r\nL 25.09375 0.875 \r\nL 2.984375 54.6875 \r\nL 12.5 54.6875 \r\nL 29.59375 11.921875 \r\nL 46.6875 54.6875 \r\nL 56.203125 54.6875 \r\nz\r\n\" id=\"DejaVuSans-121\"/>\r\n       </defs>\r\n       <use xlink:href=\"#DejaVuSans-97\"/>\r\n       <use x=\"61.279297\" xlink:href=\"#DejaVuSans-110\"/>\r\n       <use x=\"124.658203\" xlink:href=\"#DejaVuSans-103\"/>\r\n       <use x=\"188.134766\" xlink:href=\"#DejaVuSans-114\"/>\r\n       <use x=\"229.248047\" xlink:href=\"#DejaVuSans-121\"/>\r\n      </g>\r\n     </g>\r\n    </g>\r\n    <g id=\"xtick_2\">\r\n     <g id=\"line2d_2\">\r\n      <g>\r\n       <use style=\"stroke:#000000;stroke-width:0.8;\" x=\"190.895938\" xlink:href=\"#m2127f5f618\" y=\"551.7\"/>\r\n      </g>\r\n     </g>\r\n     <g id=\"text_2\">\r\n      <!-- disgust -->\r\n      <g transform=\"translate(172.820156 566.298437)scale(0.1 -0.1)\">\r\n       <defs>\r\n        <path d=\"M 45.40625 46.390625 \r\nL 45.40625 75.984375 \r\nL 54.390625 75.984375 \r\nL 54.390625 0 \r\nL 45.40625 0 \r\nL 45.40625 8.203125 \r\nQ 42.578125 3.328125 38.25 0.953125 \r\nQ 33.9375 -1.421875 27.875 -1.421875 \r\nQ 17.96875 -1.421875 11.734375 6.484375 \r\nQ 5.515625 14.40625 5.515625 27.296875 \r\nQ 5.515625 40.1875 11.734375 48.09375 \r\nQ 17.96875 56 27.875 56 \r\nQ 33.9375 56 38.25 53.625 \r\nQ 42.578125 51.265625 45.40625 46.390625 \r\nz\r\nM 14.796875 27.296875 \r\nQ 14.796875 17.390625 18.875 11.75 \r\nQ 22.953125 6.109375 30.078125 6.109375 \r\nQ 37.203125 6.109375 41.296875 11.75 \r\nQ 45.40625 17.390625 45.40625 27.296875 \r\nQ 45.40625 37.203125 41.296875 42.84375 \r\nQ 37.203125 48.484375 30.078125 48.484375 \r\nQ 22.953125 48.484375 18.875 42.84375 \r\nQ 14.796875 37.203125 14.796875 27.296875 \r\nz\r\n\" id=\"DejaVuSans-100\"/>\r\n        <path d=\"M 9.421875 54.6875 \r\nL 18.40625 54.6875 \r\nL 18.40625 0 \r\nL 9.421875 0 \r\nz\r\nM 9.421875 75.984375 \r\nL 18.40625 75.984375 \r\nL 18.40625 64.59375 \r\nL 9.421875 64.59375 \r\nz\r\n\" id=\"DejaVuSans-105\"/>\r\n        <path d=\"M 44.28125 53.078125 \r\nL 44.28125 44.578125 \r\nQ 40.484375 46.53125 36.375 47.5 \r\nQ 32.28125 48.484375 27.875 48.484375 \r\nQ 21.1875 48.484375 17.84375 46.4375 \r\nQ 14.5 44.390625 14.5 40.28125 \r\nQ 14.5 37.15625 16.890625 35.375 \r\nQ 19.28125 33.59375 26.515625 31.984375 \r\nL 29.59375 31.296875 \r\nQ 39.15625 29.25 43.1875 25.515625 \r\nQ 47.21875 21.78125 47.21875 15.09375 \r\nQ 47.21875 7.46875 41.1875 3.015625 \r\nQ 35.15625 -1.421875 24.609375 -1.421875 \r\nQ 20.21875 -1.421875 15.453125 -0.5625 \r\nQ 10.6875 0.296875 5.421875 2 \r\nL 5.421875 11.28125 \r\nQ 10.40625 8.6875 15.234375 7.390625 \r\nQ 20.0625 6.109375 24.8125 6.109375 \r\nQ 31.15625 6.109375 34.5625 8.28125 \r\nQ 37.984375 10.453125 37.984375 14.40625 \r\nQ 37.984375 18.0625 35.515625 20.015625 \r\nQ 33.0625 21.96875 24.703125 23.78125 \r\nL 21.578125 24.515625 \r\nQ 13.234375 26.265625 9.515625 29.90625 \r\nQ 5.8125 33.546875 5.8125 39.890625 \r\nQ 5.8125 47.609375 11.28125 51.796875 \r\nQ 16.75 56 26.8125 56 \r\nQ 31.78125 56 36.171875 55.265625 \r\nQ 40.578125 54.546875 44.28125 53.078125 \r\nz\r\n\" id=\"DejaVuSans-115\"/>\r\n        <path d=\"M 8.5 21.578125 \r\nL 8.5 54.6875 \r\nL 17.484375 54.6875 \r\nL 17.484375 21.921875 \r\nQ 17.484375 14.15625 20.5 10.265625 \r\nQ 23.53125 6.390625 29.59375 6.390625 \r\nQ 36.859375 6.390625 41.078125 11.03125 \r\nQ 45.3125 15.671875 45.3125 23.6875 \r\nL 45.3125 54.6875 \r\nL 54.296875 54.6875 \r\nL 54.296875 0 \r\nL 45.3125 0 \r\nL 45.3125 8.40625 \r\nQ 42.046875 3.421875 37.71875 1 \r\nQ 33.40625 -1.421875 27.6875 -1.421875 \r\nQ 18.265625 -1.421875 13.375 4.4375 \r\nQ 8.5 10.296875 8.5 21.578125 \r\nz\r\nM 31.109375 56 \r\nz\r\n\" id=\"DejaVuSans-117\"/>\r\n        <path d=\"M 18.3125 70.21875 \r\nL 18.3125 54.6875 \r\nL 36.8125 54.6875 \r\nL 36.8125 47.703125 \r\nL 18.3125 47.703125 \r\nL 18.3125 18.015625 \r\nQ 18.3125 11.328125 20.140625 9.421875 \r\nQ 21.96875 7.515625 27.59375 7.515625 \r\nL 36.8125 7.515625 \r\nL 36.8125 0 \r\nL 27.59375 0 \r\nQ 17.1875 0 13.234375 3.875 \r\nQ 9.28125 7.765625 9.28125 18.015625 \r\nL 9.28125 47.703125 \r\nL 2.6875 47.703125 \r\nL 2.6875 54.6875 \r\nL 9.28125 54.6875 \r\nL 9.28125 70.21875 \r\nz\r\n\" id=\"DejaVuSans-116\"/>\r\n       </defs>\r\n       <use xlink:href=\"#DejaVuSans-100\"/>\r\n       <use x=\"63.476562\" xlink:href=\"#DejaVuSans-105\"/>\r\n       <use x=\"91.259766\" xlink:href=\"#DejaVuSans-115\"/>\r\n       <use x=\"143.359375\" xlink:href=\"#DejaVuSans-103\"/>\r\n       <use x=\"206.835938\" xlink:href=\"#DejaVuSans-117\"/>\r\n       <use x=\"270.214844\" xlink:href=\"#DejaVuSans-115\"/>\r\n       <use x=\"322.314453\" xlink:href=\"#DejaVuSans-116\"/>\r\n      </g>\r\n     </g>\r\n    </g>\r\n    <g id=\"xtick_3\">\r\n     <g id=\"line2d_3\">\r\n      <g>\r\n       <use style=\"stroke:#000000;stroke-width:0.8;\" x=\"272.735938\" xlink:href=\"#m2127f5f618\" y=\"551.7\"/>\r\n      </g>\r\n     </g>\r\n     <g id=\"text_3\">\r\n      <!-- fear -->\r\n      <g transform=\"translate(262.779688 566.298437)scale(0.1 -0.1)\">\r\n       <defs>\r\n        <path d=\"M 37.109375 75.984375 \r\nL 37.109375 68.5 \r\nL 28.515625 68.5 \r\nQ 23.6875 68.5 21.796875 66.546875 \r\nQ 19.921875 64.59375 19.921875 59.515625 \r\nL 19.921875 54.6875 \r\nL 34.71875 54.6875 \r\nL 34.71875 47.703125 \r\nL 19.921875 47.703125 \r\nL 19.921875 0 \r\nL 10.890625 0 \r\nL 10.890625 47.703125 \r\nL 2.296875 47.703125 \r\nL 2.296875 54.6875 \r\nL 10.890625 54.6875 \r\nL 10.890625 58.5 \r\nQ 10.890625 67.625 15.140625 71.796875 \r\nQ 19.390625 75.984375 28.609375 75.984375 \r\nz\r\n\" id=\"DejaVuSans-102\"/>\r\n        <path d=\"M 56.203125 29.59375 \r\nL 56.203125 25.203125 \r\nL 14.890625 25.203125 \r\nQ 15.484375 15.921875 20.484375 11.0625 \r\nQ 25.484375 6.203125 34.421875 6.203125 \r\nQ 39.59375 6.203125 44.453125 7.46875 \r\nQ 49.3125 8.734375 54.109375 11.28125 \r\nL 54.109375 2.78125 \r\nQ 49.265625 0.734375 44.1875 -0.34375 \r\nQ 39.109375 -1.421875 33.890625 -1.421875 \r\nQ 20.796875 -1.421875 13.15625 6.1875 \r\nQ 5.515625 13.8125 5.515625 26.8125 \r\nQ 5.515625 40.234375 12.765625 48.109375 \r\nQ 20.015625 56 32.328125 56 \r\nQ 43.359375 56 49.78125 48.890625 \r\nQ 56.203125 41.796875 56.203125 29.59375 \r\nz\r\nM 47.21875 32.234375 \r\nQ 47.125 39.59375 43.09375 43.984375 \r\nQ 39.0625 48.390625 32.421875 48.390625 \r\nQ 24.90625 48.390625 20.390625 44.140625 \r\nQ 15.875 39.890625 15.1875 32.171875 \r\nz\r\n\" id=\"DejaVuSans-101\"/>\r\n       </defs>\r\n       <use xlink:href=\"#DejaVuSans-102\"/>\r\n       <use x=\"35.205078\" xlink:href=\"#DejaVuSans-101\"/>\r\n       <use x=\"96.728516\" xlink:href=\"#DejaVuSans-97\"/>\r\n       <use x=\"158.007812\" xlink:href=\"#DejaVuSans-114\"/>\r\n      </g>\r\n     </g>\r\n    </g>\r\n    <g id=\"xtick_4\">\r\n     <g id=\"line2d_4\">\r\n      <g>\r\n       <use style=\"stroke:#000000;stroke-width:0.8;\" x=\"354.575938\" xlink:href=\"#m2127f5f618\" y=\"551.7\"/>\r\n      </g>\r\n     </g>\r\n     <g id=\"text_4\">\r\n      <!-- happy -->\r\n      <g transform=\"translate(339.035313 566.298437)scale(0.1 -0.1)\">\r\n       <defs>\r\n        <path d=\"M 54.890625 33.015625 \r\nL 54.890625 0 \r\nL 45.90625 0 \r\nL 45.90625 32.71875 \r\nQ 45.90625 40.484375 42.875 44.328125 \r\nQ 39.84375 48.1875 33.796875 48.1875 \r\nQ 26.515625 48.1875 22.3125 43.546875 \r\nQ 18.109375 38.921875 18.109375 30.90625 \r\nL 18.109375 0 \r\nL 9.078125 0 \r\nL 9.078125 75.984375 \r\nL 18.109375 75.984375 \r\nL 18.109375 46.1875 \r\nQ 21.34375 51.125 25.703125 53.5625 \r\nQ 30.078125 56 35.796875 56 \r\nQ 45.21875 56 50.046875 50.171875 \r\nQ 54.890625 44.34375 54.890625 33.015625 \r\nz\r\n\" id=\"DejaVuSans-104\"/>\r\n        <path d=\"M 18.109375 8.203125 \r\nL 18.109375 -20.796875 \r\nL 9.078125 -20.796875 \r\nL 9.078125 54.6875 \r\nL 18.109375 54.6875 \r\nL 18.109375 46.390625 \r\nQ 20.953125 51.265625 25.265625 53.625 \r\nQ 29.59375 56 35.59375 56 \r\nQ 45.5625 56 51.78125 48.09375 \r\nQ 58.015625 40.1875 58.015625 27.296875 \r\nQ 58.015625 14.40625 51.78125 6.484375 \r\nQ 45.5625 -1.421875 35.59375 -1.421875 \r\nQ 29.59375 -1.421875 25.265625 0.953125 \r\nQ 20.953125 3.328125 18.109375 8.203125 \r\nz\r\nM 48.6875 27.296875 \r\nQ 48.6875 37.203125 44.609375 42.84375 \r\nQ 40.53125 48.484375 33.40625 48.484375 \r\nQ 26.265625 48.484375 22.1875 42.84375 \r\nQ 18.109375 37.203125 18.109375 27.296875 \r\nQ 18.109375 17.390625 22.1875 11.75 \r\nQ 26.265625 6.109375 33.40625 6.109375 \r\nQ 40.53125 6.109375 44.609375 11.75 \r\nQ 48.6875 17.390625 48.6875 27.296875 \r\nz\r\n\" id=\"DejaVuSans-112\"/>\r\n       </defs>\r\n       <use xlink:href=\"#DejaVuSans-104\"/>\r\n       <use x=\"63.378906\" xlink:href=\"#DejaVuSans-97\"/>\r\n       <use x=\"124.658203\" xlink:href=\"#DejaVuSans-112\"/>\r\n       <use x=\"188.134766\" xlink:href=\"#DejaVuSans-112\"/>\r\n       <use x=\"251.611328\" xlink:href=\"#DejaVuSans-121\"/>\r\n      </g>\r\n     </g>\r\n    </g>\r\n    <g id=\"xtick_5\">\r\n     <g id=\"line2d_5\">\r\n      <g>\r\n       <use style=\"stroke:#000000;stroke-width:0.8;\" x=\"436.415938\" xlink:href=\"#m2127f5f618\" y=\"551.7\"/>\r\n      </g>\r\n     </g>\r\n     <g id=\"text_5\">\r\n      <!-- sad -->\r\n      <g transform=\"translate(427.572969 566.298437)scale(0.1 -0.1)\">\r\n       <use xlink:href=\"#DejaVuSans-115\"/>\r\n       <use x=\"52.099609\" xlink:href=\"#DejaVuSans-97\"/>\r\n       <use x=\"113.378906\" xlink:href=\"#DejaVuSans-100\"/>\r\n      </g>\r\n     </g>\r\n    </g>\r\n    <g id=\"xtick_6\">\r\n     <g id=\"line2d_6\">\r\n      <g>\r\n       <use style=\"stroke:#000000;stroke-width:0.8;\" x=\"518.255938\" xlink:href=\"#m2127f5f618\" y=\"551.7\"/>\r\n      </g>\r\n     </g>\r\n     <g id=\"text_6\">\r\n      <!-- surprise -->\r\n      <g transform=\"translate(498.127031 566.298437)scale(0.1 -0.1)\">\r\n       <use xlink:href=\"#DejaVuSans-115\"/>\r\n       <use x=\"52.099609\" xlink:href=\"#DejaVuSans-117\"/>\r\n       <use x=\"115.478516\" xlink:href=\"#DejaVuSans-114\"/>\r\n       <use x=\"156.591797\" xlink:href=\"#DejaVuSans-112\"/>\r\n       <use x=\"220.068359\" xlink:href=\"#DejaVuSans-114\"/>\r\n       <use x=\"261.181641\" xlink:href=\"#DejaVuSans-105\"/>\r\n       <use x=\"288.964844\" xlink:href=\"#DejaVuSans-115\"/>\r\n       <use x=\"341.064453\" xlink:href=\"#DejaVuSans-101\"/>\r\n      </g>\r\n     </g>\r\n    </g>\r\n    <g id=\"text_7\">\r\n     <!-- Predicted label -->\r\n     <g transform=\"translate(276.503594 579.976562)scale(0.1 -0.1)\">\r\n      <defs>\r\n       <path d=\"M 19.671875 64.796875 \r\nL 19.671875 37.40625 \r\nL 32.078125 37.40625 \r\nQ 38.96875 37.40625 42.71875 40.96875 \r\nQ 46.484375 44.53125 46.484375 51.125 \r\nQ 46.484375 57.671875 42.71875 61.234375 \r\nQ 38.96875 64.796875 32.078125 64.796875 \r\nz\r\nM 9.8125 72.90625 \r\nL 32.078125 72.90625 \r\nQ 44.34375 72.90625 50.609375 67.359375 \r\nQ 56.890625 61.8125 56.890625 51.125 \r\nQ 56.890625 40.328125 50.609375 34.8125 \r\nQ 44.34375 29.296875 32.078125 29.296875 \r\nL 19.671875 29.296875 \r\nL 19.671875 0 \r\nL 9.8125 0 \r\nz\r\n\" id=\"DejaVuSans-80\"/>\r\n       <path d=\"M 48.78125 52.59375 \r\nL 48.78125 44.1875 \r\nQ 44.96875 46.296875 41.140625 47.34375 \r\nQ 37.3125 48.390625 33.40625 48.390625 \r\nQ 24.65625 48.390625 19.8125 42.84375 \r\nQ 14.984375 37.3125 14.984375 27.296875 \r\nQ 14.984375 17.28125 19.8125 11.734375 \r\nQ 24.65625 6.203125 33.40625 6.203125 \r\nQ 37.3125 6.203125 41.140625 7.25 \r\nQ 44.96875 8.296875 48.78125 10.40625 \r\nL 48.78125 2.09375 \r\nQ 45.015625 0.34375 40.984375 -0.53125 \r\nQ 36.96875 -1.421875 32.421875 -1.421875 \r\nQ 20.0625 -1.421875 12.78125 6.34375 \r\nQ 5.515625 14.109375 5.515625 27.296875 \r\nQ 5.515625 40.671875 12.859375 48.328125 \r\nQ 20.21875 56 33.015625 56 \r\nQ 37.15625 56 41.109375 55.140625 \r\nQ 45.0625 54.296875 48.78125 52.59375 \r\nz\r\n\" id=\"DejaVuSans-99\"/>\r\n       <path id=\"DejaVuSans-32\"/>\r\n       <path d=\"M 9.421875 75.984375 \r\nL 18.40625 75.984375 \r\nL 18.40625 0 \r\nL 9.421875 0 \r\nz\r\n\" id=\"DejaVuSans-108\"/>\r\n       <path d=\"M 48.6875 27.296875 \r\nQ 48.6875 37.203125 44.609375 42.84375 \r\nQ 40.53125 48.484375 33.40625 48.484375 \r\nQ 26.265625 48.484375 22.1875 42.84375 \r\nQ 18.109375 37.203125 18.109375 27.296875 \r\nQ 18.109375 17.390625 22.1875 11.75 \r\nQ 26.265625 6.109375 33.40625 6.109375 \r\nQ 40.53125 6.109375 44.609375 11.75 \r\nQ 48.6875 17.390625 48.6875 27.296875 \r\nz\r\nM 18.109375 46.390625 \r\nQ 20.953125 51.265625 25.265625 53.625 \r\nQ 29.59375 56 35.59375 56 \r\nQ 45.5625 56 51.78125 48.09375 \r\nQ 58.015625 40.1875 58.015625 27.296875 \r\nQ 58.015625 14.40625 51.78125 6.484375 \r\nQ 45.5625 -1.421875 35.59375 -1.421875 \r\nQ 29.59375 -1.421875 25.265625 0.953125 \r\nQ 20.953125 3.328125 18.109375 8.203125 \r\nL 18.109375 0 \r\nL 9.078125 0 \r\nL 9.078125 75.984375 \r\nL 18.109375 75.984375 \r\nz\r\n\" id=\"DejaVuSans-98\"/>\r\n      </defs>\r\n      <use xlink:href=\"#DejaVuSans-80\"/>\r\n      <use x=\"58.552734\" xlink:href=\"#DejaVuSans-114\"/>\r\n      <use x=\"97.416016\" xlink:href=\"#DejaVuSans-101\"/>\r\n      <use x=\"158.939453\" xlink:href=\"#DejaVuSans-100\"/>\r\n      <use x=\"222.416016\" xlink:href=\"#DejaVuSans-105\"/>\r\n      <use x=\"250.199219\" xlink:href=\"#DejaVuSans-99\"/>\r\n      <use x=\"305.179688\" xlink:href=\"#DejaVuSans-116\"/>\r\n      <use x=\"344.388672\" xlink:href=\"#DejaVuSans-101\"/>\r\n      <use x=\"405.912109\" xlink:href=\"#DejaVuSans-100\"/>\r\n      <use x=\"469.388672\" xlink:href=\"#DejaVuSans-32\"/>\r\n      <use x=\"501.175781\" xlink:href=\"#DejaVuSans-108\"/>\r\n      <use x=\"528.958984\" xlink:href=\"#DejaVuSans-97\"/>\r\n      <use x=\"590.238281\" xlink:href=\"#DejaVuSans-98\"/>\r\n      <use x=\"653.714844\" xlink:href=\"#DejaVuSans-101\"/>\r\n      <use x=\"715.238281\" xlink:href=\"#DejaVuSans-108\"/>\r\n     </g>\r\n    </g>\r\n   </g>\r\n   <g id=\"matplotlib.axis_2\">\r\n    <g id=\"ytick_1\">\r\n     <g id=\"line2d_7\">\r\n      <defs>\r\n       <path d=\"M 0 0 \r\nL -3.5 0 \r\n\" id=\"m2895fc6a80\" style=\"stroke:#000000;stroke-width:0.8;\"/>\r\n      </defs>\r\n      <g>\r\n       <use style=\"stroke:#000000;stroke-width:0.8;\" x=\"68.135938\" xlink:href=\"#m2895fc6a80\" y=\"101.58\"/>\r\n      </g>\r\n     </g>\r\n     <g id=\"text_8\">\r\n      <!-- angry -->\r\n      <g transform=\"translate(32.292188 105.379219)scale(0.1 -0.1)\">\r\n       <use xlink:href=\"#DejaVuSans-97\"/>\r\n       <use x=\"61.279297\" xlink:href=\"#DejaVuSans-110\"/>\r\n       <use x=\"124.658203\" xlink:href=\"#DejaVuSans-103\"/>\r\n       <use x=\"188.134766\" xlink:href=\"#DejaVuSans-114\"/>\r\n       <use x=\"229.248047\" xlink:href=\"#DejaVuSans-121\"/>\r\n      </g>\r\n     </g>\r\n    </g>\r\n    <g id=\"ytick_2\">\r\n     <g id=\"line2d_8\">\r\n      <g>\r\n       <use style=\"stroke:#000000;stroke-width:0.8;\" x=\"68.135938\" xlink:href=\"#m2895fc6a80\" y=\"183.42\"/>\r\n      </g>\r\n     </g>\r\n     <g id=\"text_9\">\r\n      <!-- disgust -->\r\n      <g transform=\"translate(24.984375 187.219219)scale(0.1 -0.1)\">\r\n       <use xlink:href=\"#DejaVuSans-100\"/>\r\n       <use x=\"63.476562\" xlink:href=\"#DejaVuSans-105\"/>\r\n       <use x=\"91.259766\" xlink:href=\"#DejaVuSans-115\"/>\r\n       <use x=\"143.359375\" xlink:href=\"#DejaVuSans-103\"/>\r\n       <use x=\"206.835938\" xlink:href=\"#DejaVuSans-117\"/>\r\n       <use x=\"270.214844\" xlink:href=\"#DejaVuSans-115\"/>\r\n       <use x=\"322.314453\" xlink:href=\"#DejaVuSans-116\"/>\r\n      </g>\r\n     </g>\r\n    </g>\r\n    <g id=\"ytick_3\">\r\n     <g id=\"line2d_9\">\r\n      <g>\r\n       <use style=\"stroke:#000000;stroke-width:0.8;\" x=\"68.135938\" xlink:href=\"#m2895fc6a80\" y=\"265.26\"/>\r\n      </g>\r\n     </g>\r\n     <g id=\"text_10\">\r\n      <!-- fear -->\r\n      <g transform=\"translate(41.223438 269.059219)scale(0.1 -0.1)\">\r\n       <use xlink:href=\"#DejaVuSans-102\"/>\r\n       <use x=\"35.205078\" xlink:href=\"#DejaVuSans-101\"/>\r\n       <use x=\"96.728516\" xlink:href=\"#DejaVuSans-97\"/>\r\n       <use x=\"158.007812\" xlink:href=\"#DejaVuSans-114\"/>\r\n      </g>\r\n     </g>\r\n    </g>\r\n    <g id=\"ytick_4\">\r\n     <g id=\"line2d_10\">\r\n      <g>\r\n       <use style=\"stroke:#000000;stroke-width:0.8;\" x=\"68.135938\" xlink:href=\"#m2895fc6a80\" y=\"347.1\"/>\r\n      </g>\r\n     </g>\r\n     <g id=\"text_11\">\r\n      <!-- happy -->\r\n      <g transform=\"translate(30.054688 350.899219)scale(0.1 -0.1)\">\r\n       <use xlink:href=\"#DejaVuSans-104\"/>\r\n       <use x=\"63.378906\" xlink:href=\"#DejaVuSans-97\"/>\r\n       <use x=\"124.658203\" xlink:href=\"#DejaVuSans-112\"/>\r\n       <use x=\"188.134766\" xlink:href=\"#DejaVuSans-112\"/>\r\n       <use x=\"251.611328\" xlink:href=\"#DejaVuSans-121\"/>\r\n      </g>\r\n     </g>\r\n    </g>\r\n    <g id=\"ytick_5\">\r\n     <g id=\"line2d_11\">\r\n      <g>\r\n       <use style=\"stroke:#000000;stroke-width:0.8;\" x=\"68.135938\" xlink:href=\"#m2895fc6a80\" y=\"428.94\"/>\r\n      </g>\r\n     </g>\r\n     <g id=\"text_12\">\r\n      <!-- sad -->\r\n      <g transform=\"translate(43.45 432.739219)scale(0.1 -0.1)\">\r\n       <use xlink:href=\"#DejaVuSans-115\"/>\r\n       <use x=\"52.099609\" xlink:href=\"#DejaVuSans-97\"/>\r\n       <use x=\"113.378906\" xlink:href=\"#DejaVuSans-100\"/>\r\n      </g>\r\n     </g>\r\n    </g>\r\n    <g id=\"ytick_6\">\r\n     <g id=\"line2d_12\">\r\n      <g>\r\n       <use style=\"stroke:#000000;stroke-width:0.8;\" x=\"68.135938\" xlink:href=\"#m2895fc6a80\" y=\"510.78\"/>\r\n      </g>\r\n     </g>\r\n     <g id=\"text_13\">\r\n      <!-- surprise -->\r\n      <g transform=\"translate(20.878125 514.579219)scale(0.1 -0.1)\">\r\n       <use xlink:href=\"#DejaVuSans-115\"/>\r\n       <use x=\"52.099609\" xlink:href=\"#DejaVuSans-117\"/>\r\n       <use x=\"115.478516\" xlink:href=\"#DejaVuSans-114\"/>\r\n       <use x=\"156.591797\" xlink:href=\"#DejaVuSans-112\"/>\r\n       <use x=\"220.068359\" xlink:href=\"#DejaVuSans-114\"/>\r\n       <use x=\"261.181641\" xlink:href=\"#DejaVuSans-105\"/>\r\n       <use x=\"288.964844\" xlink:href=\"#DejaVuSans-115\"/>\r\n       <use x=\"341.064453\" xlink:href=\"#DejaVuSans-101\"/>\r\n      </g>\r\n     </g>\r\n    </g>\r\n    <g id=\"text_14\">\r\n     <!-- True label -->\r\n     <g transform=\"translate(14.798438 330.479219)rotate(-90)scale(0.1 -0.1)\">\r\n      <defs>\r\n       <path d=\"M -0.296875 72.90625 \r\nL 61.375 72.90625 \r\nL 61.375 64.59375 \r\nL 35.5 64.59375 \r\nL 35.5 0 \r\nL 25.59375 0 \r\nL 25.59375 64.59375 \r\nL -0.296875 64.59375 \r\nz\r\n\" id=\"DejaVuSans-84\"/>\r\n      </defs>\r\n      <use xlink:href=\"#DejaVuSans-84\"/>\r\n      <use x=\"46.333984\" xlink:href=\"#DejaVuSans-114\"/>\r\n      <use x=\"87.447266\" xlink:href=\"#DejaVuSans-117\"/>\r\n      <use x=\"150.826172\" xlink:href=\"#DejaVuSans-101\"/>\r\n      <use x=\"212.349609\" xlink:href=\"#DejaVuSans-32\"/>\r\n      <use x=\"244.136719\" xlink:href=\"#DejaVuSans-108\"/>\r\n      <use x=\"271.919922\" xlink:href=\"#DejaVuSans-97\"/>\r\n      <use x=\"333.199219\" xlink:href=\"#DejaVuSans-98\"/>\r\n      <use x=\"396.675781\" xlink:href=\"#DejaVuSans-101\"/>\r\n      <use x=\"458.199219\" xlink:href=\"#DejaVuSans-108\"/>\r\n     </g>\r\n    </g>\r\n   </g>\r\n   <g id=\"patch_3\">\r\n    <path d=\"M 68.135938 551.7 \r\nL 68.135938 60.66 \r\n\" style=\"fill:none;stroke:#000000;stroke-linecap:square;stroke-linejoin:miter;stroke-width:0.8;\"/>\r\n   </g>\r\n   <g id=\"patch_4\">\r\n    <path d=\"M 559.175938 551.7 \r\nL 559.175938 60.66 \r\n\" style=\"fill:none;stroke:#000000;stroke-linecap:square;stroke-linejoin:miter;stroke-width:0.8;\"/>\r\n   </g>\r\n   <g id=\"patch_5\">\r\n    <path d=\"M 68.135938 551.7 \r\nL 559.175938 551.7 \r\n\" style=\"fill:none;stroke:#000000;stroke-linecap:square;stroke-linejoin:miter;stroke-width:0.8;\"/>\r\n   </g>\r\n   <g id=\"patch_6\">\r\n    <path d=\"M 68.135938 60.66 \r\nL 559.175938 60.66 \r\n\" style=\"fill:none;stroke:#000000;stroke-linecap:square;stroke-linejoin:miter;stroke-width:0.8;\"/>\r\n   </g>\r\n   <g id=\"text_15\">\r\n    <!-- 62 -->\r\n    <g style=\"fill:#67001f;\" transform=\"translate(102.693438 104.339375)scale(0.1 -0.1)\">\r\n     <defs>\r\n      <path d=\"M 33.015625 40.375 \r\nQ 26.375 40.375 22.484375 35.828125 \r\nQ 18.609375 31.296875 18.609375 23.390625 \r\nQ 18.609375 15.53125 22.484375 10.953125 \r\nQ 26.375 6.390625 33.015625 6.390625 \r\nQ 39.65625 6.390625 43.53125 10.953125 \r\nQ 47.40625 15.53125 47.40625 23.390625 \r\nQ 47.40625 31.296875 43.53125 35.828125 \r\nQ 39.65625 40.375 33.015625 40.375 \r\nz\r\nM 52.59375 71.296875 \r\nL 52.59375 62.3125 \r\nQ 48.875 64.0625 45.09375 64.984375 \r\nQ 41.3125 65.921875 37.59375 65.921875 \r\nQ 27.828125 65.921875 22.671875 59.328125 \r\nQ 17.53125 52.734375 16.796875 39.40625 \r\nQ 19.671875 43.65625 24.015625 45.921875 \r\nQ 28.375 48.1875 33.59375 48.1875 \r\nQ 44.578125 48.1875 50.953125 41.515625 \r\nQ 57.328125 34.859375 57.328125 23.390625 \r\nQ 57.328125 12.15625 50.6875 5.359375 \r\nQ 44.046875 -1.421875 33.015625 -1.421875 \r\nQ 20.359375 -1.421875 13.671875 8.265625 \r\nQ 6.984375 17.96875 6.984375 36.375 \r\nQ 6.984375 53.65625 15.1875 63.9375 \r\nQ 23.390625 74.21875 37.203125 74.21875 \r\nQ 40.921875 74.21875 44.703125 73.484375 \r\nQ 48.484375 72.75 52.59375 71.296875 \r\nz\r\n\" id=\"DejaVuSans-54\"/>\r\n      <path d=\"M 19.1875 8.296875 \r\nL 53.609375 8.296875 \r\nL 53.609375 0 \r\nL 7.328125 0 \r\nL 7.328125 8.296875 \r\nQ 12.9375 14.109375 22.625 23.890625 \r\nQ 32.328125 33.6875 34.8125 36.53125 \r\nQ 39.546875 41.84375 41.421875 45.53125 \r\nQ 43.3125 49.21875 43.3125 52.78125 \r\nQ 43.3125 58.59375 39.234375 62.25 \r\nQ 35.15625 65.921875 28.609375 65.921875 \r\nQ 23.96875 65.921875 18.8125 64.3125 \r\nQ 13.671875 62.703125 7.8125 59.421875 \r\nL 7.8125 69.390625 \r\nQ 13.765625 71.78125 18.9375 73 \r\nQ 24.125 74.21875 28.421875 74.21875 \r\nQ 39.75 74.21875 46.484375 68.546875 \r\nQ 53.21875 62.890625 53.21875 53.421875 \r\nQ 53.21875 48.921875 51.53125 44.890625 \r\nQ 49.859375 40.875 45.40625 35.40625 \r\nQ 44.1875 33.984375 37.640625 27.21875 \r\nQ 31.109375 20.453125 19.1875 8.296875 \r\nz\r\n\" id=\"DejaVuSans-50\"/>\r\n     </defs>\r\n     <use xlink:href=\"#DejaVuSans-54\"/>\r\n     <use x=\"63.623047\" xlink:href=\"#DejaVuSans-50\"/>\r\n    </g>\r\n   </g>\r\n   <g id=\"text_16\">\r\n    <!-- 1.9 -->\r\n    <g style=\"fill:#053061;\" transform=\"translate(182.944375 104.339375)scale(0.1 -0.1)\">\r\n     <defs>\r\n      <path d=\"M 12.40625 8.296875 \r\nL 28.515625 8.296875 \r\nL 28.515625 63.921875 \r\nL 10.984375 60.40625 \r\nL 10.984375 69.390625 \r\nL 28.421875 72.90625 \r\nL 38.28125 72.90625 \r\nL 38.28125 8.296875 \r\nL 54.390625 8.296875 \r\nL 54.390625 0 \r\nL 12.40625 0 \r\nz\r\n\" id=\"DejaVuSans-49\"/>\r\n      <path d=\"M 10.6875 12.40625 \r\nL 21 12.40625 \r\nL 21 0 \r\nL 10.6875 0 \r\nz\r\n\" id=\"DejaVuSans-46\"/>\r\n      <path d=\"M 10.984375 1.515625 \r\nL 10.984375 10.5 \r\nQ 14.703125 8.734375 18.5 7.8125 \r\nQ 22.3125 6.890625 25.984375 6.890625 \r\nQ 35.75 6.890625 40.890625 13.453125 \r\nQ 46.046875 20.015625 46.78125 33.40625 \r\nQ 43.953125 29.203125 39.59375 26.953125 \r\nQ 35.25 24.703125 29.984375 24.703125 \r\nQ 19.046875 24.703125 12.671875 31.3125 \r\nQ 6.296875 37.9375 6.296875 49.421875 \r\nQ 6.296875 60.640625 12.9375 67.421875 \r\nQ 19.578125 74.21875 30.609375 74.21875 \r\nQ 43.265625 74.21875 49.921875 64.515625 \r\nQ 56.59375 54.828125 56.59375 36.375 \r\nQ 56.59375 19.140625 48.40625 8.859375 \r\nQ 40.234375 -1.421875 26.421875 -1.421875 \r\nQ 22.703125 -1.421875 18.890625 -0.6875 \r\nQ 15.09375 0.046875 10.984375 1.515625 \r\nz\r\nM 30.609375 32.421875 \r\nQ 37.25 32.421875 41.125 36.953125 \r\nQ 45.015625 41.5 45.015625 49.421875 \r\nQ 45.015625 57.28125 41.125 61.84375 \r\nQ 37.25 66.40625 30.609375 66.40625 \r\nQ 23.96875 66.40625 20.09375 61.84375 \r\nQ 16.21875 57.28125 16.21875 49.421875 \r\nQ 16.21875 41.5 20.09375 36.953125 \r\nQ 23.96875 32.421875 30.609375 32.421875 \r\nz\r\n\" id=\"DejaVuSans-57\"/>\r\n     </defs>\r\n     <use xlink:href=\"#DejaVuSans-49\"/>\r\n     <use x=\"63.623047\" xlink:href=\"#DejaVuSans-46\"/>\r\n     <use x=\"95.410156\" xlink:href=\"#DejaVuSans-57\"/>\r\n    </g>\r\n   </g>\r\n   <g id=\"text_17\">\r\n    <!-- 4.6 -->\r\n    <g style=\"fill:#053061;\" transform=\"translate(264.784375 104.339375)scale(0.1 -0.1)\">\r\n     <defs>\r\n      <path d=\"M 37.796875 64.3125 \r\nL 12.890625 25.390625 \r\nL 37.796875 25.390625 \r\nz\r\nM 35.203125 72.90625 \r\nL 47.609375 72.90625 \r\nL 47.609375 25.390625 \r\nL 58.015625 25.390625 \r\nL 58.015625 17.1875 \r\nL 47.609375 17.1875 \r\nL 47.609375 0 \r\nL 37.796875 0 \r\nL 37.796875 17.1875 \r\nL 4.890625 17.1875 \r\nL 4.890625 26.703125 \r\nz\r\n\" id=\"DejaVuSans-52\"/>\r\n     </defs>\r\n     <use xlink:href=\"#DejaVuSans-52\"/>\r\n     <use x=\"63.623047\" xlink:href=\"#DejaVuSans-46\"/>\r\n     <use x=\"95.410156\" xlink:href=\"#DejaVuSans-54\"/>\r\n    </g>\r\n   </g>\r\n   <g id=\"text_18\">\r\n    <!-- 15 -->\r\n    <g style=\"fill:#053061;\" transform=\"translate(348.213437 104.339375)scale(0.1 -0.1)\">\r\n     <defs>\r\n      <path d=\"M 10.796875 72.90625 \r\nL 49.515625 72.90625 \r\nL 49.515625 64.59375 \r\nL 19.828125 64.59375 \r\nL 19.828125 46.734375 \r\nQ 21.96875 47.46875 24.109375 47.828125 \r\nQ 26.265625 48.1875 28.421875 48.1875 \r\nQ 40.625 48.1875 47.75 41.5 \r\nQ 54.890625 34.8125 54.890625 23.390625 \r\nQ 54.890625 11.625 47.5625 5.09375 \r\nQ 40.234375 -1.421875 26.90625 -1.421875 \r\nQ 22.3125 -1.421875 17.546875 -0.640625 \r\nQ 12.796875 0.140625 7.71875 1.703125 \r\nL 7.71875 11.625 \r\nQ 12.109375 9.234375 16.796875 8.0625 \r\nQ 21.484375 6.890625 26.703125 6.890625 \r\nQ 35.15625 6.890625 40.078125 11.328125 \r\nQ 45.015625 15.765625 45.015625 23.390625 \r\nQ 45.015625 31 40.078125 35.4375 \r\nQ 35.15625 39.890625 26.703125 39.890625 \r\nQ 22.75 39.890625 18.8125 39.015625 \r\nQ 14.890625 38.140625 10.796875 36.28125 \r\nz\r\n\" id=\"DejaVuSans-53\"/>\r\n     </defs>\r\n     <use xlink:href=\"#DejaVuSans-49\"/>\r\n     <use x=\"63.623047\" xlink:href=\"#DejaVuSans-53\"/>\r\n    </g>\r\n   </g>\r\n   <g id=\"text_19\">\r\n    <!-- 15 -->\r\n    <g style=\"fill:#053061;\" transform=\"translate(430.053438 104.339375)scale(0.1 -0.1)\">\r\n     <use xlink:href=\"#DejaVuSans-49\"/>\r\n     <use x=\"63.623047\" xlink:href=\"#DejaVuSans-53\"/>\r\n    </g>\r\n   </g>\r\n   <g id=\"text_20\">\r\n    <!-- 1.5 -->\r\n    <g style=\"fill:#053061;\" transform=\"translate(510.304375 104.339375)scale(0.1 -0.1)\">\r\n     <use xlink:href=\"#DejaVuSans-49\"/>\r\n     <use x=\"63.623047\" xlink:href=\"#DejaVuSans-46\"/>\r\n     <use x=\"95.410156\" xlink:href=\"#DejaVuSans-53\"/>\r\n    </g>\r\n   </g>\r\n   <g id=\"text_21\">\r\n    <!-- 3.8 -->\r\n    <g style=\"fill:#053061;\" transform=\"translate(101.104375 186.179375)scale(0.1 -0.1)\">\r\n     <defs>\r\n      <path d=\"M 40.578125 39.3125 \r\nQ 47.65625 37.796875 51.625 33 \r\nQ 55.609375 28.21875 55.609375 21.1875 \r\nQ 55.609375 10.40625 48.1875 4.484375 \r\nQ 40.765625 -1.421875 27.09375 -1.421875 \r\nQ 22.515625 -1.421875 17.65625 -0.515625 \r\nQ 12.796875 0.390625 7.625 2.203125 \r\nL 7.625 11.71875 \r\nQ 11.71875 9.328125 16.59375 8.109375 \r\nQ 21.484375 6.890625 26.8125 6.890625 \r\nQ 36.078125 6.890625 40.9375 10.546875 \r\nQ 45.796875 14.203125 45.796875 21.1875 \r\nQ 45.796875 27.640625 41.28125 31.265625 \r\nQ 36.765625 34.90625 28.71875 34.90625 \r\nL 20.21875 34.90625 \r\nL 20.21875 43.015625 \r\nL 29.109375 43.015625 \r\nQ 36.375 43.015625 40.234375 45.921875 \r\nQ 44.09375 48.828125 44.09375 54.296875 \r\nQ 44.09375 59.90625 40.109375 62.90625 \r\nQ 36.140625 65.921875 28.71875 65.921875 \r\nQ 24.65625 65.921875 20.015625 65.03125 \r\nQ 15.375 64.15625 9.8125 62.3125 \r\nL 9.8125 71.09375 \r\nQ 15.4375 72.65625 20.34375 73.4375 \r\nQ 25.25 74.21875 29.59375 74.21875 \r\nQ 40.828125 74.21875 47.359375 69.109375 \r\nQ 53.90625 64.015625 53.90625 55.328125 \r\nQ 53.90625 49.265625 50.4375 45.09375 \r\nQ 46.96875 40.921875 40.578125 39.3125 \r\nz\r\n\" id=\"DejaVuSans-51\"/>\r\n      <path d=\"M 31.78125 34.625 \r\nQ 24.75 34.625 20.71875 30.859375 \r\nQ 16.703125 27.09375 16.703125 20.515625 \r\nQ 16.703125 13.921875 20.71875 10.15625 \r\nQ 24.75 6.390625 31.78125 6.390625 \r\nQ 38.8125 6.390625 42.859375 10.171875 \r\nQ 46.921875 13.96875 46.921875 20.515625 \r\nQ 46.921875 27.09375 42.890625 30.859375 \r\nQ 38.875 34.625 31.78125 34.625 \r\nz\r\nM 21.921875 38.8125 \r\nQ 15.578125 40.375 12.03125 44.71875 \r\nQ 8.5 49.078125 8.5 55.328125 \r\nQ 8.5 64.0625 14.71875 69.140625 \r\nQ 20.953125 74.21875 31.78125 74.21875 \r\nQ 42.671875 74.21875 48.875 69.140625 \r\nQ 55.078125 64.0625 55.078125 55.328125 \r\nQ 55.078125 49.078125 51.53125 44.71875 \r\nQ 48 40.375 41.703125 38.8125 \r\nQ 48.828125 37.15625 52.796875 32.3125 \r\nQ 56.78125 27.484375 56.78125 20.515625 \r\nQ 56.78125 9.90625 50.3125 4.234375 \r\nQ 43.84375 -1.421875 31.78125 -1.421875 \r\nQ 19.734375 -1.421875 13.25 4.234375 \r\nQ 6.78125 9.90625 6.78125 20.515625 \r\nQ 6.78125 27.484375 10.78125 32.3125 \r\nQ 14.796875 37.15625 21.921875 38.8125 \r\nz\r\nM 18.3125 54.390625 \r\nQ 18.3125 48.734375 21.84375 45.5625 \r\nQ 25.390625 42.390625 31.78125 42.390625 \r\nQ 38.140625 42.390625 41.71875 45.5625 \r\nQ 45.3125 48.734375 45.3125 54.390625 \r\nQ 45.3125 60.0625 41.71875 63.234375 \r\nQ 38.140625 66.40625 31.78125 66.40625 \r\nQ 25.390625 66.40625 21.84375 63.234375 \r\nQ 18.3125 60.0625 18.3125 54.390625 \r\nz\r\n\" id=\"DejaVuSans-56\"/>\r\n     </defs>\r\n     <use xlink:href=\"#DejaVuSans-51\"/>\r\n     <use x=\"63.623047\" xlink:href=\"#DejaVuSans-46\"/>\r\n     <use x=\"95.410156\" xlink:href=\"#DejaVuSans-56\"/>\r\n    </g>\r\n   </g>\r\n   <g id=\"text_22\">\r\n    <!-- 67 -->\r\n    <g style=\"fill:#67001f;\" transform=\"translate(184.533437 186.179375)scale(0.1 -0.1)\">\r\n     <defs>\r\n      <path d=\"M 8.203125 72.90625 \r\nL 55.078125 72.90625 \r\nL 55.078125 68.703125 \r\nL 28.609375 0 \r\nL 18.3125 0 \r\nL 43.21875 64.59375 \r\nL 8.203125 64.59375 \r\nz\r\n\" id=\"DejaVuSans-55\"/>\r\n     </defs>\r\n     <use xlink:href=\"#DejaVuSans-54\"/>\r\n     <use x=\"63.623047\" xlink:href=\"#DejaVuSans-55\"/>\r\n    </g>\r\n   </g>\r\n   <g id=\"text_23\">\r\n    <!-- 9.8 -->\r\n    <g style=\"fill:#053061;\" transform=\"translate(264.784375 186.179375)scale(0.1 -0.1)\">\r\n     <use xlink:href=\"#DejaVuSans-57\"/>\r\n     <use x=\"63.623047\" xlink:href=\"#DejaVuSans-46\"/>\r\n     <use x=\"95.410156\" xlink:href=\"#DejaVuSans-56\"/>\r\n    </g>\r\n   </g>\r\n   <g id=\"text_24\">\r\n    <!-- 12 -->\r\n    <g style=\"fill:#053061;\" transform=\"translate(348.213437 186.179375)scale(0.1 -0.1)\">\r\n     <use xlink:href=\"#DejaVuSans-49\"/>\r\n     <use x=\"63.623047\" xlink:href=\"#DejaVuSans-50\"/>\r\n    </g>\r\n   </g>\r\n   <g id=\"text_25\">\r\n    <!-- 6.1 -->\r\n    <g style=\"fill:#053061;\" transform=\"translate(428.464375 186.179375)scale(0.1 -0.1)\">\r\n     <use xlink:href=\"#DejaVuSans-54\"/>\r\n     <use x=\"63.623047\" xlink:href=\"#DejaVuSans-46\"/>\r\n     <use x=\"95.410156\" xlink:href=\"#DejaVuSans-49\"/>\r\n    </g>\r\n   </g>\r\n   <g id=\"text_26\">\r\n    <!-- 1.5 -->\r\n    <g style=\"fill:#053061;\" transform=\"translate(510.304375 186.179375)scale(0.1 -0.1)\">\r\n     <use xlink:href=\"#DejaVuSans-49\"/>\r\n     <use x=\"63.623047\" xlink:href=\"#DejaVuSans-46\"/>\r\n     <use x=\"95.410156\" xlink:href=\"#DejaVuSans-53\"/>\r\n    </g>\r\n   </g>\r\n   <g id=\"text_27\">\r\n    <!-- 4.2 -->\r\n    <g style=\"fill:#053061;\" transform=\"translate(101.104375 268.019375)scale(0.1 -0.1)\">\r\n     <use xlink:href=\"#DejaVuSans-52\"/>\r\n     <use x=\"63.623047\" xlink:href=\"#DejaVuSans-46\"/>\r\n     <use x=\"95.410156\" xlink:href=\"#DejaVuSans-50\"/>\r\n    </g>\r\n   </g>\r\n   <g id=\"text_28\">\r\n    <!-- 4.2 -->\r\n    <g style=\"fill:#053061;\" transform=\"translate(182.944375 268.019375)scale(0.1 -0.1)\">\r\n     <use xlink:href=\"#DejaVuSans-52\"/>\r\n     <use x=\"63.623047\" xlink:href=\"#DejaVuSans-46\"/>\r\n     <use x=\"95.410156\" xlink:href=\"#DejaVuSans-50\"/>\r\n    </g>\r\n   </g>\r\n   <g id=\"text_29\">\r\n    <!-- 59 -->\r\n    <g style=\"fill:#67001f;\" transform=\"translate(266.373438 268.019375)scale(0.1 -0.1)\">\r\n     <use xlink:href=\"#DejaVuSans-53\"/>\r\n     <use x=\"63.623047\" xlink:href=\"#DejaVuSans-57\"/>\r\n    </g>\r\n   </g>\r\n   <g id=\"text_30\">\r\n    <!-- 13 -->\r\n    <g style=\"fill:#053061;\" transform=\"translate(348.213437 268.019375)scale(0.1 -0.1)\">\r\n     <use xlink:href=\"#DejaVuSans-49\"/>\r\n     <use x=\"63.623047\" xlink:href=\"#DejaVuSans-51\"/>\r\n    </g>\r\n   </g>\r\n   <g id=\"text_31\">\r\n    <!-- 17 -->\r\n    <g style=\"fill:#053061;\" transform=\"translate(430.053438 268.019375)scale(0.1 -0.1)\">\r\n     <use xlink:href=\"#DejaVuSans-49\"/>\r\n     <use x=\"63.623047\" xlink:href=\"#DejaVuSans-55\"/>\r\n    </g>\r\n   </g>\r\n   <g id=\"text_32\">\r\n    <!-- 2.1 -->\r\n    <g style=\"fill:#053061;\" transform=\"translate(510.304375 268.019375)scale(0.1 -0.1)\">\r\n     <use xlink:href=\"#DejaVuSans-50\"/>\r\n     <use x=\"63.623047\" xlink:href=\"#DejaVuSans-46\"/>\r\n     <use x=\"95.410156\" xlink:href=\"#DejaVuSans-49\"/>\r\n    </g>\r\n   </g>\r\n   <g id=\"text_33\">\r\n    <!-- 5.6 -->\r\n    <g style=\"fill:#053061;\" transform=\"translate(101.104375 349.859375)scale(0.1 -0.1)\">\r\n     <use xlink:href=\"#DejaVuSans-53\"/>\r\n     <use x=\"63.623047\" xlink:href=\"#DejaVuSans-46\"/>\r\n     <use x=\"95.410156\" xlink:href=\"#DejaVuSans-54\"/>\r\n    </g>\r\n   </g>\r\n   <g id=\"text_34\">\r\n    <!-- 1.9 -->\r\n    <g style=\"fill:#053061;\" transform=\"translate(182.944375 349.859375)scale(0.1 -0.1)\">\r\n     <use xlink:href=\"#DejaVuSans-49\"/>\r\n     <use x=\"63.623047\" xlink:href=\"#DejaVuSans-46\"/>\r\n     <use x=\"95.410156\" xlink:href=\"#DejaVuSans-57\"/>\r\n    </g>\r\n   </g>\r\n   <g id=\"text_35\">\r\n    <!-- 3.8 -->\r\n    <g style=\"fill:#053061;\" transform=\"translate(264.784375 349.859375)scale(0.1 -0.1)\">\r\n     <use xlink:href=\"#DejaVuSans-51\"/>\r\n     <use x=\"63.623047\" xlink:href=\"#DejaVuSans-46\"/>\r\n     <use x=\"95.410156\" xlink:href=\"#DejaVuSans-56\"/>\r\n    </g>\r\n   </g>\r\n   <g id=\"text_36\">\r\n    <!-- 72 -->\r\n    <g style=\"fill:#67001f;\" transform=\"translate(348.213437 349.859375)scale(0.1 -0.1)\">\r\n     <use xlink:href=\"#DejaVuSans-55\"/>\r\n     <use x=\"63.623047\" xlink:href=\"#DejaVuSans-50\"/>\r\n    </g>\r\n   </g>\r\n   <g id=\"text_37\">\r\n    <!-- 13 -->\r\n    <g style=\"fill:#053061;\" transform=\"translate(430.053438 349.859375)scale(0.1 -0.1)\">\r\n     <use xlink:href=\"#DejaVuSans-49\"/>\r\n     <use x=\"63.623047\" xlink:href=\"#DejaVuSans-51\"/>\r\n    </g>\r\n   </g>\r\n   <g id=\"text_38\">\r\n    <!-- 3.3 -->\r\n    <g style=\"fill:#053061;\" transform=\"translate(510.304375 349.859375)scale(0.1 -0.1)\">\r\n     <use xlink:href=\"#DejaVuSans-51\"/>\r\n     <use x=\"63.623047\" xlink:href=\"#DejaVuSans-46\"/>\r\n     <use x=\"95.410156\" xlink:href=\"#DejaVuSans-51\"/>\r\n    </g>\r\n   </g>\r\n   <g id=\"text_39\">\r\n    <!-- 8.3 -->\r\n    <g style=\"fill:#053061;\" transform=\"translate(101.104375 431.699375)scale(0.1 -0.1)\">\r\n     <use xlink:href=\"#DejaVuSans-56\"/>\r\n     <use x=\"63.623047\" xlink:href=\"#DejaVuSans-46\"/>\r\n     <use x=\"95.410156\" xlink:href=\"#DejaVuSans-51\"/>\r\n    </g>\r\n   </g>\r\n   <g id=\"text_40\">\r\n    <!-- 1.7 -->\r\n    <g style=\"fill:#053061;\" transform=\"translate(182.944375 431.699375)scale(0.1 -0.1)\">\r\n     <use xlink:href=\"#DejaVuSans-49\"/>\r\n     <use x=\"63.623047\" xlink:href=\"#DejaVuSans-46\"/>\r\n     <use x=\"95.410156\" xlink:href=\"#DejaVuSans-55\"/>\r\n    </g>\r\n   </g>\r\n   <g id=\"text_41\">\r\n    <!-- 4.8 -->\r\n    <g style=\"fill:#053061;\" transform=\"translate(264.784375 431.699375)scale(0.1 -0.1)\">\r\n     <use xlink:href=\"#DejaVuSans-52\"/>\r\n     <use x=\"63.623047\" xlink:href=\"#DejaVuSans-46\"/>\r\n     <use x=\"95.410156\" xlink:href=\"#DejaVuSans-56\"/>\r\n    </g>\r\n   </g>\r\n   <g id=\"text_42\">\r\n    <!-- 17 -->\r\n    <g style=\"fill:#053061;\" transform=\"translate(348.213437 431.699375)scale(0.1 -0.1)\">\r\n     <use xlink:href=\"#DejaVuSans-49\"/>\r\n     <use x=\"63.623047\" xlink:href=\"#DejaVuSans-55\"/>\r\n    </g>\r\n   </g>\r\n   <g id=\"text_43\">\r\n    <!-- 66 -->\r\n    <g style=\"fill:#67001f;\" transform=\"translate(430.053438 431.699375)scale(0.1 -0.1)\">\r\n     <use xlink:href=\"#DejaVuSans-54\"/>\r\n     <use x=\"63.623047\" xlink:href=\"#DejaVuSans-54\"/>\r\n    </g>\r\n   </g>\r\n   <g id=\"text_44\">\r\n    <!-- 2.9 -->\r\n    <g style=\"fill:#053061;\" transform=\"translate(510.304375 431.699375)scale(0.1 -0.1)\">\r\n     <use xlink:href=\"#DejaVuSans-50\"/>\r\n     <use x=\"63.623047\" xlink:href=\"#DejaVuSans-46\"/>\r\n     <use x=\"95.410156\" xlink:href=\"#DejaVuSans-57\"/>\r\n    </g>\r\n   </g>\r\n   <g id=\"text_45\">\r\n    <!-- 0 -->\r\n    <g style=\"fill:#053061;\" transform=\"translate(105.874688 513.539375)scale(0.1 -0.1)\">\r\n     <defs>\r\n      <path d=\"M 31.78125 66.40625 \r\nQ 24.171875 66.40625 20.328125 58.90625 \r\nQ 16.5 51.421875 16.5 36.375 \r\nQ 16.5 21.390625 20.328125 13.890625 \r\nQ 24.171875 6.390625 31.78125 6.390625 \r\nQ 39.453125 6.390625 43.28125 13.890625 \r\nQ 47.125 21.390625 47.125 36.375 \r\nQ 47.125 51.421875 43.28125 58.90625 \r\nQ 39.453125 66.40625 31.78125 66.40625 \r\nz\r\nM 31.78125 74.21875 \r\nQ 44.046875 74.21875 50.515625 64.515625 \r\nQ 56.984375 54.828125 56.984375 36.375 \r\nQ 56.984375 17.96875 50.515625 8.265625 \r\nQ 44.046875 -1.421875 31.78125 -1.421875 \r\nQ 19.53125 -1.421875 13.0625 8.265625 \r\nQ 6.59375 17.96875 6.59375 36.375 \r\nQ 6.59375 54.828125 13.0625 64.515625 \r\nQ 19.53125 74.21875 31.78125 74.21875 \r\nz\r\n\" id=\"DejaVuSans-48\"/>\r\n     </defs>\r\n     <use xlink:href=\"#DejaVuSans-48\"/>\r\n    </g>\r\n   </g>\r\n   <g id=\"text_46\">\r\n    <!-- 5.4 -->\r\n    <g style=\"fill:#053061;\" transform=\"translate(182.944375 513.539375)scale(0.1 -0.1)\">\r\n     <use xlink:href=\"#DejaVuSans-53\"/>\r\n     <use x=\"63.623047\" xlink:href=\"#DejaVuSans-46\"/>\r\n     <use x=\"95.410156\" xlink:href=\"#DejaVuSans-52\"/>\r\n    </g>\r\n   </g>\r\n   <g id=\"text_47\">\r\n    <!-- 8.1 -->\r\n    <g style=\"fill:#053061;\" transform=\"translate(264.784375 513.539375)scale(0.1 -0.1)\">\r\n     <use xlink:href=\"#DejaVuSans-56\"/>\r\n     <use x=\"63.623047\" xlink:href=\"#DejaVuSans-46\"/>\r\n     <use x=\"95.410156\" xlink:href=\"#DejaVuSans-49\"/>\r\n    </g>\r\n   </g>\r\n   <g id=\"text_48\">\r\n    <!-- 8.1 -->\r\n    <g style=\"fill:#053061;\" transform=\"translate(346.624375 513.539375)scale(0.1 -0.1)\">\r\n     <use xlink:href=\"#DejaVuSans-56\"/>\r\n     <use x=\"63.623047\" xlink:href=\"#DejaVuSans-46\"/>\r\n     <use x=\"95.410156\" xlink:href=\"#DejaVuSans-49\"/>\r\n    </g>\r\n   </g>\r\n   <g id=\"text_49\">\r\n    <!-- 8.1 -->\r\n    <g style=\"fill:#053061;\" transform=\"translate(428.464375 513.539375)scale(0.1 -0.1)\">\r\n     <use xlink:href=\"#DejaVuSans-56\"/>\r\n     <use x=\"63.623047\" xlink:href=\"#DejaVuSans-46\"/>\r\n     <use x=\"95.410156\" xlink:href=\"#DejaVuSans-49\"/>\r\n    </g>\r\n   </g>\r\n   <g id=\"text_50\">\r\n    <!-- 70 -->\r\n    <g style=\"fill:#67001f;\" transform=\"translate(511.893438 513.539375)scale(0.1 -0.1)\">\r\n     <use xlink:href=\"#DejaVuSans-55\"/>\r\n     <use x=\"63.623047\" xlink:href=\"#DejaVuSans-48\"/>\r\n    </g>\r\n   </g>\r\n  </g>\r\n  <g id=\"axes_2\">\r\n   <g id=\"patch_7\">\r\n    <path clip-path=\"url(#p9eec4795b3)\" d=\"M 589.865938 605.16 \r\nL 589.865938 602.824219 \r\nL 589.865938 9.535781 \r\nL 589.865938 7.2 \r\nL 619.763937 7.2 \r\nL 619.763937 9.535781 \r\nL 619.763937 602.824219 \r\nL 619.763937 605.16 \r\nz\r\n\" style=\"fill:#ffffff;stroke:#ffffff;stroke-linejoin:miter;stroke-width:0.01;\"/>\r\n   </g>\r\n   <image height=\"598\" id=\"image74bba38ee7\" transform=\"scale(1 -1)translate(0 -598)\" width=\"30\" x=\"590\" xlink:href=\"data:image/png;base64,\r\niVBORw0KGgoAAAANSUhEUgAAAB4AAAJWCAYAAABPpDeKAAAC60lEQVR4nO2cwXGEQBDEFtg8HJ7z/xtwFpoqJCUw1bvdzXC+8/G7ft41wDkxdK219nXMDJ5UPCN5THHmwvCZy3fHmQvDZy7fHc8d9dTkzIXhK5DMheEzl++OMxeGz1y+O+6oMYoThjJOmYuhO/7+4MyFMfhxk03x3FEfQ3kaNJdO8XHNzC5OGMUJYx9ncWIwmkuouDgxGON02hSfxQlC2dU2xcWJwmgu3dOpZY/CuOwJFRcnBmOcdE+nlj2KuhqjD8q/P9jXXMY42RTXXBj7uK6RwcXp+4P3KYxTihmEcTI+nVLMIIyT8N2pAoEQxkl31MI4nba3xeKEYVRsK5DMhWFUXJwg9nHKFoG9hIqLE4PwrzDGOMkUtwhg+MzlU1ycMHzm8ilu2cPwvUkUJwzlRxG2OOnuuObCMMbJtoEUJwyhYt37cebC2OvIXAy+o96vTrHujieP2vZTb9+bhK5Aai6MFGMI46RrLp+5fBtI5sIwFohtvS1OGCnGEMZJ2NVCxS17DEJzVSAUwji9tuba7zszeE7xMyTZGKehwZPmmhk8WSDFicForqHB3fH3B/uaaz9Dg1tvvz/Y11wVCIYwTrrm8r2Y+9bbnk4YxgJZsgLJXBgVCIYwTrrm8pnLt97OHfU99J6auTD2bVOcuTAqEAxhnHTNJXx3uockC+Oka6596+Kku+OaC8NnLl+BZC6M/egKpDhRCOMkfFu0FUjNhVGBYBjjZGuuFGMUJ4wUY/gUd9QYKcYoThhziv90inV33FFj+F7MfXfcUWMoFc98TbE4YaQYw7feZi6MFGMUJ4wUY+zXprgvoGAI/5NRcaIwxkn380FdgRQnDF9X+xT3hVAMn7l8ins6YfhWH996W5wwfF3tU9yyh+Ezl09xTycM5bInU1ycMPb73CODU/z9wb6j3u+tU2y7444aI8UYxQljcr2VKc5cGEbFtmUvc2GkGEMZJ9nvFn3m8ilur8bwrT7FCcN31CnG8MXpH0wxak794XJPAAAAAElFTkSuQmCC\" y=\"-7\"/>\r\n   <g id=\"matplotlib.axis_3\"/>\r\n   <g id=\"matplotlib.axis_4\">\r\n    <g id=\"ytick_7\">\r\n     <g id=\"line2d_13\">\r\n      <defs>\r\n       <path d=\"M 0 0 \r\nL 3.5 0 \r\n\" id=\"md686821a67\" style=\"stroke:#000000;stroke-width:0.8;\"/>\r\n      </defs>\r\n      <g>\r\n       <use style=\"stroke:#000000;stroke-width:0.8;\" x=\"619.763937\" xlink:href=\"#md686821a67\" y=\"605.16\"/>\r\n      </g>\r\n     </g>\r\n     <g id=\"text_51\">\r\n      <!-- 0 -->\r\n      <g transform=\"translate(626.763937 608.959219)scale(0.1 -0.1)\">\r\n       <use xlink:href=\"#DejaVuSans-48\"/>\r\n      </g>\r\n     </g>\r\n    </g>\r\n    <g id=\"ytick_8\">\r\n     <g id=\"line2d_14\">\r\n      <g>\r\n       <use style=\"stroke:#000000;stroke-width:0.8;\" x=\"619.763937\" xlink:href=\"#md686821a67\" y=\"522.56127\"/>\r\n      </g>\r\n     </g>\r\n     <g id=\"text_52\">\r\n      <!-- 10 -->\r\n      <g transform=\"translate(626.763937 526.360489)scale(0.1 -0.1)\">\r\n       <use xlink:href=\"#DejaVuSans-49\"/>\r\n       <use x=\"63.623047\" xlink:href=\"#DejaVuSans-48\"/>\r\n      </g>\r\n     </g>\r\n    </g>\r\n    <g id=\"ytick_9\">\r\n     <g id=\"line2d_15\">\r\n      <g>\r\n       <use style=\"stroke:#000000;stroke-width:0.8;\" x=\"619.763937\" xlink:href=\"#md686821a67\" y=\"439.96254\"/>\r\n      </g>\r\n     </g>\r\n     <g id=\"text_53\">\r\n      <!-- 20 -->\r\n      <g transform=\"translate(626.763937 443.761759)scale(0.1 -0.1)\">\r\n       <use xlink:href=\"#DejaVuSans-50\"/>\r\n       <use x=\"63.623047\" xlink:href=\"#DejaVuSans-48\"/>\r\n      </g>\r\n     </g>\r\n    </g>\r\n    <g id=\"ytick_10\">\r\n     <g id=\"line2d_16\">\r\n      <g>\r\n       <use style=\"stroke:#000000;stroke-width:0.8;\" x=\"619.763937\" xlink:href=\"#md686821a67\" y=\"357.36381\"/>\r\n      </g>\r\n     </g>\r\n     <g id=\"text_54\">\r\n      <!-- 30 -->\r\n      <g transform=\"translate(626.763937 361.163029)scale(0.1 -0.1)\">\r\n       <use xlink:href=\"#DejaVuSans-51\"/>\r\n       <use x=\"63.623047\" xlink:href=\"#DejaVuSans-48\"/>\r\n      </g>\r\n     </g>\r\n    </g>\r\n    <g id=\"ytick_11\">\r\n     <g id=\"line2d_17\">\r\n      <g>\r\n       <use style=\"stroke:#000000;stroke-width:0.8;\" x=\"619.763937\" xlink:href=\"#md686821a67\" y=\"274.76508\"/>\r\n      </g>\r\n     </g>\r\n     <g id=\"text_55\">\r\n      <!-- 40 -->\r\n      <g transform=\"translate(626.763937 278.564299)scale(0.1 -0.1)\">\r\n       <use xlink:href=\"#DejaVuSans-52\"/>\r\n       <use x=\"63.623047\" xlink:href=\"#DejaVuSans-48\"/>\r\n      </g>\r\n     </g>\r\n    </g>\r\n    <g id=\"ytick_12\">\r\n     <g id=\"line2d_18\">\r\n      <g>\r\n       <use style=\"stroke:#000000;stroke-width:0.8;\" x=\"619.763937\" xlink:href=\"#md686821a67\" y=\"192.16635\"/>\r\n      </g>\r\n     </g>\r\n     <g id=\"text_56\">\r\n      <!-- 50 -->\r\n      <g transform=\"translate(626.763937 195.965569)scale(0.1 -0.1)\">\r\n       <use xlink:href=\"#DejaVuSans-53\"/>\r\n       <use x=\"63.623047\" xlink:href=\"#DejaVuSans-48\"/>\r\n      </g>\r\n     </g>\r\n    </g>\r\n    <g id=\"ytick_13\">\r\n     <g id=\"line2d_19\">\r\n      <g>\r\n       <use style=\"stroke:#000000;stroke-width:0.8;\" x=\"619.763937\" xlink:href=\"#md686821a67\" y=\"109.56762\"/>\r\n      </g>\r\n     </g>\r\n     <g id=\"text_57\">\r\n      <!-- 60 -->\r\n      <g transform=\"translate(626.763937 113.366839)scale(0.1 -0.1)\">\r\n       <use xlink:href=\"#DejaVuSans-54\"/>\r\n       <use x=\"63.623047\" xlink:href=\"#DejaVuSans-48\"/>\r\n      </g>\r\n     </g>\r\n    </g>\r\n    <g id=\"ytick_14\">\r\n     <g id=\"line2d_20\">\r\n      <g>\r\n       <use style=\"stroke:#000000;stroke-width:0.8;\" x=\"619.763937\" xlink:href=\"#md686821a67\" y=\"26.96889\"/>\r\n      </g>\r\n     </g>\r\n     <g id=\"text_58\">\r\n      <!-- 70 -->\r\n      <g transform=\"translate(626.763937 30.768109)scale(0.1 -0.1)\">\r\n       <use xlink:href=\"#DejaVuSans-55\"/>\r\n       <use x=\"63.623047\" xlink:href=\"#DejaVuSans-48\"/>\r\n      </g>\r\n     </g>\r\n    </g>\r\n   </g>\r\n   <g id=\"patch_8\">\r\n    <path d=\"M 589.865938 605.16 \r\nL 589.865938 602.824219 \r\nL 589.865938 9.535781 \r\nL 589.865938 7.2 \r\nL 619.763937 7.2 \r\nL 619.763937 9.535781 \r\nL 619.763937 602.824219 \r\nL 619.763937 605.16 \r\nz\r\n\" style=\"fill:none;stroke:#000000;stroke-linejoin:miter;stroke-width:0.8;\"/>\r\n   </g>\r\n  </g>\r\n </g>\r\n <defs>\r\n  <clipPath id=\"p63475a2b0d\">\r\n   <rect height=\"491.04\" width=\"491.04\" x=\"68.135938\" y=\"60.66\"/>\r\n  </clipPath>\r\n  <clipPath id=\"p9eec4795b3\">\r\n   <rect height=\"597.96\" width=\"29.898\" x=\"589.865938\" y=\"7.2\"/>\r\n  </clipPath>\r\n </defs>\r\n</svg>\r\n",
      "image/png": "[encoded data removed]"
     },
     "metadata": {
      "needs_background": "light"
     }
    }
   ],
   "source": [
    "# sns.set(font_scale=1.5)\n",
    "fig, ax = plt.subplots(1,1,figsize=(11,11))\n",
    "\n",
    "cat_dict = dict( enumerate(dataset['Feeling'].cat.categories ) )\n",
    "\n",
    "y_pred_cats = [cat_dict[i] for i in y_pred.numpy().tolist()]\n",
    "y_true_cats = [cat_dict[i] for i in y_true.numpy().tolist()]\n",
    "\n",
    "matriz_de_confusao = 100*confusion_matrix(y_pred_cats, y_true_cats, normalize='true', labels=list(cat_dict.values()))\n",
    "# normalize{‘true’, ‘pred’, ‘all’}, default=None\n",
    "# Normalizes confusion matrix over the true (rows), predicted (columns) conditions or all the population. If None, confusion matrix will not be normalized.\n",
    "\n",
    "#criando list com as emoções\n",
    "emotion_class = ['Angry','Disgust','Fear','Happy','Sad','Surprise']\n",
    "\n",
    "df_matriz_de_confusao = pd.DataFrame(matriz_de_confusao, emotion_class, emotion_class)\n",
    "\n",
    "cfm = ConfusionMatrixDisplay(matriz_de_confusao)\n",
    "\n",
    "cfm.plot(ax=ax, cmap='RdBu')\n",
    "\n",
    "ax.set_xticklabels(labels=list(cat_dict.values()))\n",
    "ax.set_yticklabels(labels=list(cat_dict.values()))\n",
    "\n",
    "ax.grid(False)"
   ]
  },
  {
   "cell_type": "code",
   "execution_count": 32,
   "metadata": {},
   "outputs": [
    {
     "output_type": "execute_result",
     "data": {
      "text/plain": [
       "array([[61.68582375,  1.91570881,  4.59770115, 15.3256705 , 14.94252874,\n",
       "         1.53256705],\n",
       "       [ 3.78787879, 66.66666667,  9.84848485, 12.12121212,  6.06060606,\n",
       "         1.51515152],\n",
       "       [ 4.1958042 ,  4.1958042 , 59.44055944, 13.28671329, 16.78321678,\n",
       "         2.0979021 ],\n",
       "       [ 5.56872038,  1.8957346 ,  3.79146919, 72.39336493, 13.03317536,\n",
       "         3.31753555],\n",
       "       [ 8.34752981,  1.70357751,  4.77001704, 16.52470187, 65.75809199,\n",
       "         2.89608177],\n",
       "       [ 0.        ,  5.40540541,  8.10810811,  8.10810811,  8.10810811,\n",
       "        70.27027027]])"
      ]
     },
     "metadata": {},
     "execution_count": 32
    }
   ],
   "source": [
    "matriz_de_confusao"
   ]
  },
  {
   "cell_type": "code",
   "execution_count": 32,
   "metadata": {},
   "outputs": [],
   "source": [
    "\n"
   ]
  },
  {
   "source": [
    "### Gráfico de *loss* e *accuracy*"
   ],
   "cell_type": "markdown",
   "metadata": {}
  },
  {
   "cell_type": "code",
   "execution_count": 33,
   "metadata": {},
   "outputs": [
    {
     "output_type": "display_data",
     "data": {
      "text/plain": "<Figure size 1152x432 with 2 Axes>",
      "image/svg+xml": "<?xml version=\"1.0\" encoding=\"utf-8\" standalone=\"no\"?>\r\n<!DOCTYPE svg PUBLIC \"-//W3C//DTD SVG 1.1//EN\"\r\n  \"http://www.w3.org/Graphics/SVG/1.1/DTD/svg11.dtd\">\r\n<!-- Created with matplotlib (https://matplotlib.org/) -->\r\n<svg height=\"414.11625pt\" version=\"1.1\" viewBox=\"0 0 943.78125 414.11625\" width=\"943.78125pt\" xmlns=\"http://www.w3.org/2000/svg\" xmlns:xlink=\"http://www.w3.org/1999/xlink\">\r\n <metadata>\r\n  <rdf:RDF xmlns:cc=\"http://creativecommons.org/ns#\" xmlns:dc=\"http://purl.org/dc/elements/1.1/\" xmlns:rdf=\"http://www.w3.org/1999/02/22-rdf-syntax-ns#\">\r\n   <cc:Work>\r\n    <dc:type rdf:resource=\"http://purl.org/dc/dcmitype/StillImage\"/>\r\n    <dc:date>2021-04-20T09:33:32.686675</dc:date>\r\n    <dc:format>image/svg+xml</dc:format>\r\n    <dc:creator>\r\n     <cc:Agent>\r\n      <dc:title>Matplotlib v3.3.2, https://matplotlib.org/</dc:title>\r\n     </cc:Agent>\r\n    </dc:creator>\r\n   </cc:Work>\r\n  </rdf:RDF>\r\n </metadata>\r\n <defs>\r\n  <style type=\"text/css\">*{stroke-linecap:butt;stroke-linejoin:round;}</style>\r\n </defs>\r\n <g id=\"figure_1\">\r\n  <g id=\"patch_1\">\r\n   <path d=\"M 0 414.11625 \r\nL 943.78125 414.11625 \r\nL 943.78125 0 \r\nL 0 0 \r\nz\r\n\" style=\"fill:none;\"/>\r\n  </g>\r\n  <g id=\"axes_1\">\r\n   <g id=\"patch_2\">\r\n    <path d=\"M 43.78125 376.56 \r\nL 449.599432 376.56 \r\nL 449.599432 50.4 \r\nL 43.78125 50.4 \r\nz\r\n\" style=\"fill:#ffffff;\"/>\r\n   </g>\r\n   <g id=\"matplotlib.axis_1\">\r\n    <g id=\"xtick_1\">\r\n     <g id=\"line2d_1\">\r\n      <defs>\r\n       <path d=\"M 0 0 \r\nL 0 3.5 \r\n\" id=\"mee5e94a738\" style=\"stroke:#000000;stroke-width:0.8;\"/>\r\n      </defs>\r\n      <g>\r\n       <use style=\"stroke:#000000;stroke-width:0.8;\" x=\"62.227531\" xlink:href=\"#mee5e94a738\" y=\"376.56\"/>\r\n      </g>\r\n     </g>\r\n     <g id=\"text_1\">\r\n      <!-- 0 -->\r\n      <g transform=\"translate(59.046281 391.158437)scale(0.1 -0.1)\">\r\n       <defs>\r\n        <path d=\"M 31.78125 66.40625 \r\nQ 24.171875 66.40625 20.328125 58.90625 \r\nQ 16.5 51.421875 16.5 36.375 \r\nQ 16.5 21.390625 20.328125 13.890625 \r\nQ 24.171875 6.390625 31.78125 6.390625 \r\nQ 39.453125 6.390625 43.28125 13.890625 \r\nQ 47.125 21.390625 47.125 36.375 \r\nQ 47.125 51.421875 43.28125 58.90625 \r\nQ 39.453125 66.40625 31.78125 66.40625 \r\nz\r\nM 31.78125 74.21875 \r\nQ 44.046875 74.21875 50.515625 64.515625 \r\nQ 56.984375 54.828125 56.984375 36.375 \r\nQ 56.984375 17.96875 50.515625 8.265625 \r\nQ 44.046875 -1.421875 31.78125 -1.421875 \r\nQ 19.53125 -1.421875 13.0625 8.265625 \r\nQ 6.59375 17.96875 6.59375 36.375 \r\nQ 6.59375 54.828125 13.0625 64.515625 \r\nQ 19.53125 74.21875 31.78125 74.21875 \r\nz\r\n\" id=\"DejaVuSans-48\"/>\r\n       </defs>\r\n       <use xlink:href=\"#DejaVuSans-48\"/>\r\n      </g>\r\n     </g>\r\n    </g>\r\n    <g id=\"xtick_2\">\r\n     <g id=\"line2d_2\">\r\n      <g>\r\n       <use style=\"stroke:#000000;stroke-width:0.8;\" x=\"136.027415\" xlink:href=\"#mee5e94a738\" y=\"376.56\"/>\r\n      </g>\r\n     </g>\r\n     <g id=\"text_2\">\r\n      <!-- 1000 -->\r\n      <g transform=\"translate(123.302415 391.158437)scale(0.1 -0.1)\">\r\n       <defs>\r\n        <path d=\"M 12.40625 8.296875 \r\nL 28.515625 8.296875 \r\nL 28.515625 63.921875 \r\nL 10.984375 60.40625 \r\nL 10.984375 69.390625 \r\nL 28.421875 72.90625 \r\nL 38.28125 72.90625 \r\nL 38.28125 8.296875 \r\nL 54.390625 8.296875 \r\nL 54.390625 0 \r\nL 12.40625 0 \r\nz\r\n\" id=\"DejaVuSans-49\"/>\r\n       </defs>\r\n       <use xlink:href=\"#DejaVuSans-49\"/>\r\n       <use x=\"63.623047\" xlink:href=\"#DejaVuSans-48\"/>\r\n       <use x=\"127.246094\" xlink:href=\"#DejaVuSans-48\"/>\r\n       <use x=\"190.869141\" xlink:href=\"#DejaVuSans-48\"/>\r\n      </g>\r\n     </g>\r\n    </g>\r\n    <g id=\"xtick_3\">\r\n     <g id=\"line2d_3\">\r\n      <g>\r\n       <use style=\"stroke:#000000;stroke-width:0.8;\" x=\"209.827299\" xlink:href=\"#mee5e94a738\" y=\"376.56\"/>\r\n      </g>\r\n     </g>\r\n     <g id=\"text_3\">\r\n      <!-- 2000 -->\r\n      <g transform=\"translate(197.102299 391.158437)scale(0.1 -0.1)\">\r\n       <defs>\r\n        <path d=\"M 19.1875 8.296875 \r\nL 53.609375 8.296875 \r\nL 53.609375 0 \r\nL 7.328125 0 \r\nL 7.328125 8.296875 \r\nQ 12.9375 14.109375 22.625 23.890625 \r\nQ 32.328125 33.6875 34.8125 36.53125 \r\nQ 39.546875 41.84375 41.421875 45.53125 \r\nQ 43.3125 49.21875 43.3125 52.78125 \r\nQ 43.3125 58.59375 39.234375 62.25 \r\nQ 35.15625 65.921875 28.609375 65.921875 \r\nQ 23.96875 65.921875 18.8125 64.3125 \r\nQ 13.671875 62.703125 7.8125 59.421875 \r\nL 7.8125 69.390625 \r\nQ 13.765625 71.78125 18.9375 73 \r\nQ 24.125 74.21875 28.421875 74.21875 \r\nQ 39.75 74.21875 46.484375 68.546875 \r\nQ 53.21875 62.890625 53.21875 53.421875 \r\nQ 53.21875 48.921875 51.53125 44.890625 \r\nQ 49.859375 40.875 45.40625 35.40625 \r\nQ 44.1875 33.984375 37.640625 27.21875 \r\nQ 31.109375 20.453125 19.1875 8.296875 \r\nz\r\n\" id=\"DejaVuSans-50\"/>\r\n       </defs>\r\n       <use xlink:href=\"#DejaVuSans-50\"/>\r\n       <use x=\"63.623047\" xlink:href=\"#DejaVuSans-48\"/>\r\n       <use x=\"127.246094\" xlink:href=\"#DejaVuSans-48\"/>\r\n       <use x=\"190.869141\" xlink:href=\"#DejaVuSans-48\"/>\r\n      </g>\r\n     </g>\r\n    </g>\r\n    <g id=\"xtick_4\">\r\n     <g id=\"line2d_4\">\r\n      <g>\r\n       <use style=\"stroke:#000000;stroke-width:0.8;\" x=\"283.627183\" xlink:href=\"#mee5e94a738\" y=\"376.56\"/>\r\n      </g>\r\n     </g>\r\n     <g id=\"text_4\">\r\n      <!-- 3000 -->\r\n      <g transform=\"translate(270.902183 391.158437)scale(0.1 -0.1)\">\r\n       <defs>\r\n        <path d=\"M 40.578125 39.3125 \r\nQ 47.65625 37.796875 51.625 33 \r\nQ 55.609375 28.21875 55.609375 21.1875 \r\nQ 55.609375 10.40625 48.1875 4.484375 \r\nQ 40.765625 -1.421875 27.09375 -1.421875 \r\nQ 22.515625 -1.421875 17.65625 -0.515625 \r\nQ 12.796875 0.390625 7.625 2.203125 \r\nL 7.625 11.71875 \r\nQ 11.71875 9.328125 16.59375 8.109375 \r\nQ 21.484375 6.890625 26.8125 6.890625 \r\nQ 36.078125 6.890625 40.9375 10.546875 \r\nQ 45.796875 14.203125 45.796875 21.1875 \r\nQ 45.796875 27.640625 41.28125 31.265625 \r\nQ 36.765625 34.90625 28.71875 34.90625 \r\nL 20.21875 34.90625 \r\nL 20.21875 43.015625 \r\nL 29.109375 43.015625 \r\nQ 36.375 43.015625 40.234375 45.921875 \r\nQ 44.09375 48.828125 44.09375 54.296875 \r\nQ 44.09375 59.90625 40.109375 62.90625 \r\nQ 36.140625 65.921875 28.71875 65.921875 \r\nQ 24.65625 65.921875 20.015625 65.03125 \r\nQ 15.375 64.15625 9.8125 62.3125 \r\nL 9.8125 71.09375 \r\nQ 15.4375 72.65625 20.34375 73.4375 \r\nQ 25.25 74.21875 29.59375 74.21875 \r\nQ 40.828125 74.21875 47.359375 69.109375 \r\nQ 53.90625 64.015625 53.90625 55.328125 \r\nQ 53.90625 49.265625 50.4375 45.09375 \r\nQ 46.96875 40.921875 40.578125 39.3125 \r\nz\r\n\" id=\"DejaVuSans-51\"/>\r\n       </defs>\r\n       <use xlink:href=\"#DejaVuSans-51\"/>\r\n       <use x=\"63.623047\" xlink:href=\"#DejaVuSans-48\"/>\r\n       <use x=\"127.246094\" xlink:href=\"#DejaVuSans-48\"/>\r\n       <use x=\"190.869141\" xlink:href=\"#DejaVuSans-48\"/>\r\n      </g>\r\n     </g>\r\n    </g>\r\n    <g id=\"xtick_5\">\r\n     <g id=\"line2d_5\">\r\n      <g>\r\n       <use style=\"stroke:#000000;stroke-width:0.8;\" x=\"357.427067\" xlink:href=\"#mee5e94a738\" y=\"376.56\"/>\r\n      </g>\r\n     </g>\r\n     <g id=\"text_5\">\r\n      <!-- 4000 -->\r\n      <g transform=\"translate(344.702067 391.158437)scale(0.1 -0.1)\">\r\n       <defs>\r\n        <path d=\"M 37.796875 64.3125 \r\nL 12.890625 25.390625 \r\nL 37.796875 25.390625 \r\nz\r\nM 35.203125 72.90625 \r\nL 47.609375 72.90625 \r\nL 47.609375 25.390625 \r\nL 58.015625 25.390625 \r\nL 58.015625 17.1875 \r\nL 47.609375 17.1875 \r\nL 47.609375 0 \r\nL 37.796875 0 \r\nL 37.796875 17.1875 \r\nL 4.890625 17.1875 \r\nL 4.890625 26.703125 \r\nz\r\n\" id=\"DejaVuSans-52\"/>\r\n       </defs>\r\n       <use xlink:href=\"#DejaVuSans-52\"/>\r\n       <use x=\"63.623047\" xlink:href=\"#DejaVuSans-48\"/>\r\n       <use x=\"127.246094\" xlink:href=\"#DejaVuSans-48\"/>\r\n       <use x=\"190.869141\" xlink:href=\"#DejaVuSans-48\"/>\r\n      </g>\r\n     </g>\r\n    </g>\r\n    <g id=\"xtick_6\">\r\n     <g id=\"line2d_6\">\r\n      <g>\r\n       <use style=\"stroke:#000000;stroke-width:0.8;\" x=\"431.226951\" xlink:href=\"#mee5e94a738\" y=\"376.56\"/>\r\n      </g>\r\n     </g>\r\n     <g id=\"text_6\">\r\n      <!-- 5000 -->\r\n      <g transform=\"translate(418.501951 391.158437)scale(0.1 -0.1)\">\r\n       <defs>\r\n        <path d=\"M 10.796875 72.90625 \r\nL 49.515625 72.90625 \r\nL 49.515625 64.59375 \r\nL 19.828125 64.59375 \r\nL 19.828125 46.734375 \r\nQ 21.96875 47.46875 24.109375 47.828125 \r\nQ 26.265625 48.1875 28.421875 48.1875 \r\nQ 40.625 48.1875 47.75 41.5 \r\nQ 54.890625 34.8125 54.890625 23.390625 \r\nQ 54.890625 11.625 47.5625 5.09375 \r\nQ 40.234375 -1.421875 26.90625 -1.421875 \r\nQ 22.3125 -1.421875 17.546875 -0.640625 \r\nQ 12.796875 0.140625 7.71875 1.703125 \r\nL 7.71875 11.625 \r\nQ 12.109375 9.234375 16.796875 8.0625 \r\nQ 21.484375 6.890625 26.703125 6.890625 \r\nQ 35.15625 6.890625 40.078125 11.328125 \r\nQ 45.015625 15.765625 45.015625 23.390625 \r\nQ 45.015625 31 40.078125 35.4375 \r\nQ 35.15625 39.890625 26.703125 39.890625 \r\nQ 22.75 39.890625 18.8125 39.015625 \r\nQ 14.890625 38.140625 10.796875 36.28125 \r\nz\r\n\" id=\"DejaVuSans-53\"/>\r\n       </defs>\r\n       <use xlink:href=\"#DejaVuSans-53\"/>\r\n       <use x=\"63.623047\" xlink:href=\"#DejaVuSans-48\"/>\r\n       <use x=\"127.246094\" xlink:href=\"#DejaVuSans-48\"/>\r\n       <use x=\"190.869141\" xlink:href=\"#DejaVuSans-48\"/>\r\n      </g>\r\n     </g>\r\n    </g>\r\n    <g id=\"text_7\">\r\n     <!-- epochs -->\r\n     <g transform=\"translate(228.857528 404.836562)scale(0.1 -0.1)\">\r\n      <defs>\r\n       <path d=\"M 56.203125 29.59375 \r\nL 56.203125 25.203125 \r\nL 14.890625 25.203125 \r\nQ 15.484375 15.921875 20.484375 11.0625 \r\nQ 25.484375 6.203125 34.421875 6.203125 \r\nQ 39.59375 6.203125 44.453125 7.46875 \r\nQ 49.3125 8.734375 54.109375 11.28125 \r\nL 54.109375 2.78125 \r\nQ 49.265625 0.734375 44.1875 -0.34375 \r\nQ 39.109375 -1.421875 33.890625 -1.421875 \r\nQ 20.796875 -1.421875 13.15625 6.1875 \r\nQ 5.515625 13.8125 5.515625 26.8125 \r\nQ 5.515625 40.234375 12.765625 48.109375 \r\nQ 20.015625 56 32.328125 56 \r\nQ 43.359375 56 49.78125 48.890625 \r\nQ 56.203125 41.796875 56.203125 29.59375 \r\nz\r\nM 47.21875 32.234375 \r\nQ 47.125 39.59375 43.09375 43.984375 \r\nQ 39.0625 48.390625 32.421875 48.390625 \r\nQ 24.90625 48.390625 20.390625 44.140625 \r\nQ 15.875 39.890625 15.1875 32.171875 \r\nz\r\n\" id=\"DejaVuSans-101\"/>\r\n       <path d=\"M 18.109375 8.203125 \r\nL 18.109375 -20.796875 \r\nL 9.078125 -20.796875 \r\nL 9.078125 54.6875 \r\nL 18.109375 54.6875 \r\nL 18.109375 46.390625 \r\nQ 20.953125 51.265625 25.265625 53.625 \r\nQ 29.59375 56 35.59375 56 \r\nQ 45.5625 56 51.78125 48.09375 \r\nQ 58.015625 40.1875 58.015625 27.296875 \r\nQ 58.015625 14.40625 51.78125 6.484375 \r\nQ 45.5625 -1.421875 35.59375 -1.421875 \r\nQ 29.59375 -1.421875 25.265625 0.953125 \r\nQ 20.953125 3.328125 18.109375 8.203125 \r\nz\r\nM 48.6875 27.296875 \r\nQ 48.6875 37.203125 44.609375 42.84375 \r\nQ 40.53125 48.484375 33.40625 48.484375 \r\nQ 26.265625 48.484375 22.1875 42.84375 \r\nQ 18.109375 37.203125 18.109375 27.296875 \r\nQ 18.109375 17.390625 22.1875 11.75 \r\nQ 26.265625 6.109375 33.40625 6.109375 \r\nQ 40.53125 6.109375 44.609375 11.75 \r\nQ 48.6875 17.390625 48.6875 27.296875 \r\nz\r\n\" id=\"DejaVuSans-112\"/>\r\n       <path d=\"M 30.609375 48.390625 \r\nQ 23.390625 48.390625 19.1875 42.75 \r\nQ 14.984375 37.109375 14.984375 27.296875 \r\nQ 14.984375 17.484375 19.15625 11.84375 \r\nQ 23.34375 6.203125 30.609375 6.203125 \r\nQ 37.796875 6.203125 41.984375 11.859375 \r\nQ 46.1875 17.53125 46.1875 27.296875 \r\nQ 46.1875 37.015625 41.984375 42.703125 \r\nQ 37.796875 48.390625 30.609375 48.390625 \r\nz\r\nM 30.609375 56 \r\nQ 42.328125 56 49.015625 48.375 \r\nQ 55.71875 40.765625 55.71875 27.296875 \r\nQ 55.71875 13.875 49.015625 6.21875 \r\nQ 42.328125 -1.421875 30.609375 -1.421875 \r\nQ 18.84375 -1.421875 12.171875 6.21875 \r\nQ 5.515625 13.875 5.515625 27.296875 \r\nQ 5.515625 40.765625 12.171875 48.375 \r\nQ 18.84375 56 30.609375 56 \r\nz\r\n\" id=\"DejaVuSans-111\"/>\r\n       <path d=\"M 48.78125 52.59375 \r\nL 48.78125 44.1875 \r\nQ 44.96875 46.296875 41.140625 47.34375 \r\nQ 37.3125 48.390625 33.40625 48.390625 \r\nQ 24.65625 48.390625 19.8125 42.84375 \r\nQ 14.984375 37.3125 14.984375 27.296875 \r\nQ 14.984375 17.28125 19.8125 11.734375 \r\nQ 24.65625 6.203125 33.40625 6.203125 \r\nQ 37.3125 6.203125 41.140625 7.25 \r\nQ 44.96875 8.296875 48.78125 10.40625 \r\nL 48.78125 2.09375 \r\nQ 45.015625 0.34375 40.984375 -0.53125 \r\nQ 36.96875 -1.421875 32.421875 -1.421875 \r\nQ 20.0625 -1.421875 12.78125 6.34375 \r\nQ 5.515625 14.109375 5.515625 27.296875 \r\nQ 5.515625 40.671875 12.859375 48.328125 \r\nQ 20.21875 56 33.015625 56 \r\nQ 37.15625 56 41.109375 55.140625 \r\nQ 45.0625 54.296875 48.78125 52.59375 \r\nz\r\n\" id=\"DejaVuSans-99\"/>\r\n       <path d=\"M 54.890625 33.015625 \r\nL 54.890625 0 \r\nL 45.90625 0 \r\nL 45.90625 32.71875 \r\nQ 45.90625 40.484375 42.875 44.328125 \r\nQ 39.84375 48.1875 33.796875 48.1875 \r\nQ 26.515625 48.1875 22.3125 43.546875 \r\nQ 18.109375 38.921875 18.109375 30.90625 \r\nL 18.109375 0 \r\nL 9.078125 0 \r\nL 9.078125 75.984375 \r\nL 18.109375 75.984375 \r\nL 18.109375 46.1875 \r\nQ 21.34375 51.125 25.703125 53.5625 \r\nQ 30.078125 56 35.796875 56 \r\nQ 45.21875 56 50.046875 50.171875 \r\nQ 54.890625 44.34375 54.890625 33.015625 \r\nz\r\n\" id=\"DejaVuSans-104\"/>\r\n       <path d=\"M 44.28125 53.078125 \r\nL 44.28125 44.578125 \r\nQ 40.484375 46.53125 36.375 47.5 \r\nQ 32.28125 48.484375 27.875 48.484375 \r\nQ 21.1875 48.484375 17.84375 46.4375 \r\nQ 14.5 44.390625 14.5 40.28125 \r\nQ 14.5 37.15625 16.890625 35.375 \r\nQ 19.28125 33.59375 26.515625 31.984375 \r\nL 29.59375 31.296875 \r\nQ 39.15625 29.25 43.1875 25.515625 \r\nQ 47.21875 21.78125 47.21875 15.09375 \r\nQ 47.21875 7.46875 41.1875 3.015625 \r\nQ 35.15625 -1.421875 24.609375 -1.421875 \r\nQ 20.21875 -1.421875 15.453125 -0.5625 \r\nQ 10.6875 0.296875 5.421875 2 \r\nL 5.421875 11.28125 \r\nQ 10.40625 8.6875 15.234375 7.390625 \r\nQ 20.0625 6.109375 24.8125 6.109375 \r\nQ 31.15625 6.109375 34.5625 8.28125 \r\nQ 37.984375 10.453125 37.984375 14.40625 \r\nQ 37.984375 18.0625 35.515625 20.015625 \r\nQ 33.0625 21.96875 24.703125 23.78125 \r\nL 21.578125 24.515625 \r\nQ 13.234375 26.265625 9.515625 29.90625 \r\nQ 5.8125 33.546875 5.8125 39.890625 \r\nQ 5.8125 47.609375 11.28125 51.796875 \r\nQ 16.75 56 26.8125 56 \r\nQ 31.78125 56 36.171875 55.265625 \r\nQ 40.578125 54.546875 44.28125 53.078125 \r\nz\r\n\" id=\"DejaVuSans-115\"/>\r\n      </defs>\r\n      <use xlink:href=\"#DejaVuSans-101\"/>\r\n      <use x=\"61.523438\" xlink:href=\"#DejaVuSans-112\"/>\r\n      <use x=\"125\" xlink:href=\"#DejaVuSans-111\"/>\r\n      <use x=\"186.181641\" xlink:href=\"#DejaVuSans-99\"/>\r\n      <use x=\"241.162109\" xlink:href=\"#DejaVuSans-104\"/>\r\n      <use x=\"304.541016\" xlink:href=\"#DejaVuSans-115\"/>\r\n     </g>\r\n    </g>\r\n   </g>\r\n   <g id=\"matplotlib.axis_2\">\r\n    <g id=\"ytick_1\">\r\n     <g id=\"line2d_7\">\r\n      <defs>\r\n       <path d=\"M 0 0 \r\nL -3.5 0 \r\n\" id=\"mcfda1e9fa4\" style=\"stroke:#000000;stroke-width:0.8;\"/>\r\n      </defs>\r\n      <g>\r\n       <use style=\"stroke:#000000;stroke-width:0.8;\" x=\"43.78125\" xlink:href=\"#mcfda1e9fa4\" y=\"360.105537\"/>\r\n      </g>\r\n     </g>\r\n     <g id=\"text_8\">\r\n      <!-- 0.2 -->\r\n      <g transform=\"translate(20.878125 363.904756)scale(0.1 -0.1)\">\r\n       <defs>\r\n        <path d=\"M 10.6875 12.40625 \r\nL 21 12.40625 \r\nL 21 0 \r\nL 10.6875 0 \r\nz\r\n\" id=\"DejaVuSans-46\"/>\r\n       </defs>\r\n       <use xlink:href=\"#DejaVuSans-48\"/>\r\n       <use x=\"63.623047\" xlink:href=\"#DejaVuSans-46\"/>\r\n       <use x=\"95.410156\" xlink:href=\"#DejaVuSans-50\"/>\r\n      </g>\r\n     </g>\r\n    </g>\r\n    <g id=\"ytick_2\">\r\n     <g id=\"line2d_8\">\r\n      <g>\r\n       <use style=\"stroke:#000000;stroke-width:0.8;\" x=\"43.78125\" xlink:href=\"#mcfda1e9fa4\" y=\"323.031566\"/>\r\n      </g>\r\n     </g>\r\n     <g id=\"text_9\">\r\n      <!-- 0.4 -->\r\n      <g transform=\"translate(20.878125 326.830785)scale(0.1 -0.1)\">\r\n       <use xlink:href=\"#DejaVuSans-48\"/>\r\n       <use x=\"63.623047\" xlink:href=\"#DejaVuSans-46\"/>\r\n       <use x=\"95.410156\" xlink:href=\"#DejaVuSans-52\"/>\r\n      </g>\r\n     </g>\r\n    </g>\r\n    <g id=\"ytick_3\">\r\n     <g id=\"line2d_9\">\r\n      <g>\r\n       <use style=\"stroke:#000000;stroke-width:0.8;\" x=\"43.78125\" xlink:href=\"#mcfda1e9fa4\" y=\"285.957596\"/>\r\n      </g>\r\n     </g>\r\n     <g id=\"text_10\">\r\n      <!-- 0.6 -->\r\n      <g transform=\"translate(20.878125 289.756814)scale(0.1 -0.1)\">\r\n       <defs>\r\n        <path d=\"M 33.015625 40.375 \r\nQ 26.375 40.375 22.484375 35.828125 \r\nQ 18.609375 31.296875 18.609375 23.390625 \r\nQ 18.609375 15.53125 22.484375 10.953125 \r\nQ 26.375 6.390625 33.015625 6.390625 \r\nQ 39.65625 6.390625 43.53125 10.953125 \r\nQ 47.40625 15.53125 47.40625 23.390625 \r\nQ 47.40625 31.296875 43.53125 35.828125 \r\nQ 39.65625 40.375 33.015625 40.375 \r\nz\r\nM 52.59375 71.296875 \r\nL 52.59375 62.3125 \r\nQ 48.875 64.0625 45.09375 64.984375 \r\nQ 41.3125 65.921875 37.59375 65.921875 \r\nQ 27.828125 65.921875 22.671875 59.328125 \r\nQ 17.53125 52.734375 16.796875 39.40625 \r\nQ 19.671875 43.65625 24.015625 45.921875 \r\nQ 28.375 48.1875 33.59375 48.1875 \r\nQ 44.578125 48.1875 50.953125 41.515625 \r\nQ 57.328125 34.859375 57.328125 23.390625 \r\nQ 57.328125 12.15625 50.6875 5.359375 \r\nQ 44.046875 -1.421875 33.015625 -1.421875 \r\nQ 20.359375 -1.421875 13.671875 8.265625 \r\nQ 6.984375 17.96875 6.984375 36.375 \r\nQ 6.984375 53.65625 15.1875 63.9375 \r\nQ 23.390625 74.21875 37.203125 74.21875 \r\nQ 40.921875 74.21875 44.703125 73.484375 \r\nQ 48.484375 72.75 52.59375 71.296875 \r\nz\r\n\" id=\"DejaVuSans-54\"/>\r\n       </defs>\r\n       <use xlink:href=\"#DejaVuSans-48\"/>\r\n       <use x=\"63.623047\" xlink:href=\"#DejaVuSans-46\"/>\r\n       <use x=\"95.410156\" xlink:href=\"#DejaVuSans-54\"/>\r\n      </g>\r\n     </g>\r\n    </g>\r\n    <g id=\"ytick_4\">\r\n     <g id=\"line2d_10\">\r\n      <g>\r\n       <use style=\"stroke:#000000;stroke-width:0.8;\" x=\"43.78125\" xlink:href=\"#mcfda1e9fa4\" y=\"248.883625\"/>\r\n      </g>\r\n     </g>\r\n     <g id=\"text_11\">\r\n      <!-- 0.8 -->\r\n      <g transform=\"translate(20.878125 252.682844)scale(0.1 -0.1)\">\r\n       <defs>\r\n        <path d=\"M 31.78125 34.625 \r\nQ 24.75 34.625 20.71875 30.859375 \r\nQ 16.703125 27.09375 16.703125 20.515625 \r\nQ 16.703125 13.921875 20.71875 10.15625 \r\nQ 24.75 6.390625 31.78125 6.390625 \r\nQ 38.8125 6.390625 42.859375 10.171875 \r\nQ 46.921875 13.96875 46.921875 20.515625 \r\nQ 46.921875 27.09375 42.890625 30.859375 \r\nQ 38.875 34.625 31.78125 34.625 \r\nz\r\nM 21.921875 38.8125 \r\nQ 15.578125 40.375 12.03125 44.71875 \r\nQ 8.5 49.078125 8.5 55.328125 \r\nQ 8.5 64.0625 14.71875 69.140625 \r\nQ 20.953125 74.21875 31.78125 74.21875 \r\nQ 42.671875 74.21875 48.875 69.140625 \r\nQ 55.078125 64.0625 55.078125 55.328125 \r\nQ 55.078125 49.078125 51.53125 44.71875 \r\nQ 48 40.375 41.703125 38.8125 \r\nQ 48.828125 37.15625 52.796875 32.3125 \r\nQ 56.78125 27.484375 56.78125 20.515625 \r\nQ 56.78125 9.90625 50.3125 4.234375 \r\nQ 43.84375 -1.421875 31.78125 -1.421875 \r\nQ 19.734375 -1.421875 13.25 4.234375 \r\nQ 6.78125 9.90625 6.78125 20.515625 \r\nQ 6.78125 27.484375 10.78125 32.3125 \r\nQ 14.796875 37.15625 21.921875 38.8125 \r\nz\r\nM 18.3125 54.390625 \r\nQ 18.3125 48.734375 21.84375 45.5625 \r\nQ 25.390625 42.390625 31.78125 42.390625 \r\nQ 38.140625 42.390625 41.71875 45.5625 \r\nQ 45.3125 48.734375 45.3125 54.390625 \r\nQ 45.3125 60.0625 41.71875 63.234375 \r\nQ 38.140625 66.40625 31.78125 66.40625 \r\nQ 25.390625 66.40625 21.84375 63.234375 \r\nQ 18.3125 60.0625 18.3125 54.390625 \r\nz\r\n\" id=\"DejaVuSans-56\"/>\r\n       </defs>\r\n       <use xlink:href=\"#DejaVuSans-48\"/>\r\n       <use x=\"63.623047\" xlink:href=\"#DejaVuSans-46\"/>\r\n       <use x=\"95.410156\" xlink:href=\"#DejaVuSans-56\"/>\r\n      </g>\r\n     </g>\r\n    </g>\r\n    <g id=\"ytick_5\">\r\n     <g id=\"line2d_11\">\r\n      <g>\r\n       <use style=\"stroke:#000000;stroke-width:0.8;\" x=\"43.78125\" xlink:href=\"#mcfda1e9fa4\" y=\"211.809654\"/>\r\n      </g>\r\n     </g>\r\n     <g id=\"text_12\">\r\n      <!-- 1.0 -->\r\n      <g transform=\"translate(20.878125 215.608873)scale(0.1 -0.1)\">\r\n       <use xlink:href=\"#DejaVuSans-49\"/>\r\n       <use x=\"63.623047\" xlink:href=\"#DejaVuSans-46\"/>\r\n       <use x=\"95.410156\" xlink:href=\"#DejaVuSans-48\"/>\r\n      </g>\r\n     </g>\r\n    </g>\r\n    <g id=\"ytick_6\">\r\n     <g id=\"line2d_12\">\r\n      <g>\r\n       <use style=\"stroke:#000000;stroke-width:0.8;\" x=\"43.78125\" xlink:href=\"#mcfda1e9fa4\" y=\"174.735684\"/>\r\n      </g>\r\n     </g>\r\n     <g id=\"text_13\">\r\n      <!-- 1.2 -->\r\n      <g transform=\"translate(20.878125 178.534902)scale(0.1 -0.1)\">\r\n       <use xlink:href=\"#DejaVuSans-49\"/>\r\n       <use x=\"63.623047\" xlink:href=\"#DejaVuSans-46\"/>\r\n       <use x=\"95.410156\" xlink:href=\"#DejaVuSans-50\"/>\r\n      </g>\r\n     </g>\r\n    </g>\r\n    <g id=\"ytick_7\">\r\n     <g id=\"line2d_13\">\r\n      <g>\r\n       <use style=\"stroke:#000000;stroke-width:0.8;\" x=\"43.78125\" xlink:href=\"#mcfda1e9fa4\" y=\"137.661713\"/>\r\n      </g>\r\n     </g>\r\n     <g id=\"text_14\">\r\n      <!-- 1.4 -->\r\n      <g transform=\"translate(20.878125 141.460932)scale(0.1 -0.1)\">\r\n       <use xlink:href=\"#DejaVuSans-49\"/>\r\n       <use x=\"63.623047\" xlink:href=\"#DejaVuSans-46\"/>\r\n       <use x=\"95.410156\" xlink:href=\"#DejaVuSans-52\"/>\r\n      </g>\r\n     </g>\r\n    </g>\r\n    <g id=\"ytick_8\">\r\n     <g id=\"line2d_14\">\r\n      <g>\r\n       <use style=\"stroke:#000000;stroke-width:0.8;\" x=\"43.78125\" xlink:href=\"#mcfda1e9fa4\" y=\"100.587742\"/>\r\n      </g>\r\n     </g>\r\n     <g id=\"text_15\">\r\n      <!-- 1.6 -->\r\n      <g transform=\"translate(20.878125 104.386961)scale(0.1 -0.1)\">\r\n       <use xlink:href=\"#DejaVuSans-49\"/>\r\n       <use x=\"63.623047\" xlink:href=\"#DejaVuSans-46\"/>\r\n       <use x=\"95.410156\" xlink:href=\"#DejaVuSans-54\"/>\r\n      </g>\r\n     </g>\r\n    </g>\r\n    <g id=\"ytick_9\">\r\n     <g id=\"line2d_15\">\r\n      <g>\r\n       <use style=\"stroke:#000000;stroke-width:0.8;\" x=\"43.78125\" xlink:href=\"#mcfda1e9fa4\" y=\"63.513772\"/>\r\n      </g>\r\n     </g>\r\n     <g id=\"text_16\">\r\n      <!-- 1.8 -->\r\n      <g transform=\"translate(20.878125 67.31299)scale(0.1 -0.1)\">\r\n       <use xlink:href=\"#DejaVuSans-49\"/>\r\n       <use x=\"63.623047\" xlink:href=\"#DejaVuSans-46\"/>\r\n       <use x=\"95.410156\" xlink:href=\"#DejaVuSans-56\"/>\r\n      </g>\r\n     </g>\r\n    </g>\r\n    <g id=\"text_17\">\r\n     <!-- BCE loss -->\r\n     <g transform=\"translate(14.798438 234.720625)rotate(-90)scale(0.1 -0.1)\">\r\n      <defs>\r\n       <path d=\"M 19.671875 34.8125 \r\nL 19.671875 8.109375 \r\nL 35.5 8.109375 \r\nQ 43.453125 8.109375 47.28125 11.40625 \r\nQ 51.125 14.703125 51.125 21.484375 \r\nQ 51.125 28.328125 47.28125 31.5625 \r\nQ 43.453125 34.8125 35.5 34.8125 \r\nz\r\nM 19.671875 64.796875 \r\nL 19.671875 42.828125 \r\nL 34.28125 42.828125 \r\nQ 41.5 42.828125 45.03125 45.53125 \r\nQ 48.578125 48.25 48.578125 53.8125 \r\nQ 48.578125 59.328125 45.03125 62.0625 \r\nQ 41.5 64.796875 34.28125 64.796875 \r\nz\r\nM 9.8125 72.90625 \r\nL 35.015625 72.90625 \r\nQ 46.296875 72.90625 52.390625 68.21875 \r\nQ 58.5 63.53125 58.5 54.890625 \r\nQ 58.5 48.1875 55.375 44.234375 \r\nQ 52.25 40.28125 46.1875 39.3125 \r\nQ 53.46875 37.75 57.5 32.78125 \r\nQ 61.53125 27.828125 61.53125 20.40625 \r\nQ 61.53125 10.640625 54.890625 5.3125 \r\nQ 48.25 0 35.984375 0 \r\nL 9.8125 0 \r\nz\r\n\" id=\"DejaVuSans-66\"/>\r\n       <path d=\"M 64.40625 67.28125 \r\nL 64.40625 56.890625 \r\nQ 59.421875 61.53125 53.78125 63.8125 \r\nQ 48.140625 66.109375 41.796875 66.109375 \r\nQ 29.296875 66.109375 22.65625 58.46875 \r\nQ 16.015625 50.828125 16.015625 36.375 \r\nQ 16.015625 21.96875 22.65625 14.328125 \r\nQ 29.296875 6.6875 41.796875 6.6875 \r\nQ 48.140625 6.6875 53.78125 8.984375 \r\nQ 59.421875 11.28125 64.40625 15.921875 \r\nL 64.40625 5.609375 \r\nQ 59.234375 2.09375 53.4375 0.328125 \r\nQ 47.65625 -1.421875 41.21875 -1.421875 \r\nQ 24.65625 -1.421875 15.125 8.703125 \r\nQ 5.609375 18.84375 5.609375 36.375 \r\nQ 5.609375 53.953125 15.125 64.078125 \r\nQ 24.65625 74.21875 41.21875 74.21875 \r\nQ 47.75 74.21875 53.53125 72.484375 \r\nQ 59.328125 70.75 64.40625 67.28125 \r\nz\r\n\" id=\"DejaVuSans-67\"/>\r\n       <path d=\"M 9.8125 72.90625 \r\nL 55.90625 72.90625 \r\nL 55.90625 64.59375 \r\nL 19.671875 64.59375 \r\nL 19.671875 43.015625 \r\nL 54.390625 43.015625 \r\nL 54.390625 34.71875 \r\nL 19.671875 34.71875 \r\nL 19.671875 8.296875 \r\nL 56.78125 8.296875 \r\nL 56.78125 0 \r\nL 9.8125 0 \r\nz\r\n\" id=\"DejaVuSans-69\"/>\r\n       <path id=\"DejaVuSans-32\"/>\r\n       <path d=\"M 9.421875 75.984375 \r\nL 18.40625 75.984375 \r\nL 18.40625 0 \r\nL 9.421875 0 \r\nz\r\n\" id=\"DejaVuSans-108\"/>\r\n      </defs>\r\n      <use xlink:href=\"#DejaVuSans-66\"/>\r\n      <use x=\"66.853516\" xlink:href=\"#DejaVuSans-67\"/>\r\n      <use x=\"136.677734\" xlink:href=\"#DejaVuSans-69\"/>\r\n      <use x=\"199.861328\" xlink:href=\"#DejaVuSans-32\"/>\r\n      <use x=\"231.648438\" xlink:href=\"#DejaVuSans-108\"/>\r\n      <use x=\"259.431641\" xlink:href=\"#DejaVuSans-111\"/>\r\n      <use x=\"320.613281\" xlink:href=\"#DejaVuSans-115\"/>\r\n      <use x=\"372.712891\" xlink:href=\"#DejaVuSans-115\"/>\r\n     </g>\r\n    </g>\r\n   </g>\r\n   <g id=\"line2d_16\">\r\n    <path clip-path=\"url(#paac30ea0f9)\" d=\"M 62.227531 65.225455 \r\nL 62.96553 91.571147 \r\nL 63.629729 107.856834 \r\nL 64.072528 114.500717 \r\nL 64.441528 117.498616 \r\nL 64.810527 118.842119 \r\nL 65.548526 120.74843 \r\nL 67.836322 129.242342 \r\nL 69.01712 134.929434 \r\nL 71.304917 147.428639 \r\nL 72.780914 154.700056 \r\nL 74.035512 159.809931 \r\nL 75.29011 164.02469 \r\nL 76.618508 167.719355 \r\nL 78.094506 171.157752 \r\nL 79.791903 174.539535 \r\nL 81.8583 178.114717 \r\nL 83.924697 181.254042 \r\nL 86.286293 184.425122 \r\nL 88.795489 187.437716 \r\nL 92.116484 190.977675 \r\nL 95.142279 193.920882 \r\nL 101.562869 199.761841 \r\nL 121.857837 217.827893 \r\nL 134.846617 228.826381 \r\nL 144.735801 236.900854 \r\nL 155.362985 245.204327 \r\nL 164.88317 252.284818 \r\nL 182.152342 264.712935 \r\nL 189.75373 270.021989 \r\nL 201.118913 277.701209 \r\nL 209.0155 282.888913 \r\nL 218.461885 288.888379 \r\nL 228.941469 295.171383 \r\nL 234.033661 298.051479 \r\nL 243.922845 303.362179 \r\nL 253.959629 308.42677 \r\nL 269.826605 315.888819 \r\nL 291.449971 325.022478 \r\nL 299.715558 328.173311 \r\nL 315.434933 333.813865 \r\nL 331.006708 338.887091 \r\nL 343.847888 342.654657 \r\nL 363.847657 347.934017 \r\nL 371.080045 349.703681 \r\nL 376.246037 350.925568 \r\nL 405.618391 357.178339 \r\nL 415.212376 358.967273 \r\nL 420.083168 359.840465 \r\nL 431.153151 361.734545 \r\nL 431.153151 361.734545 \r\n\" style=\"fill:none;stroke:#1f77b4;stroke-linecap:square;stroke-width:1.5;\"/>\r\n   </g>\r\n   <g id=\"patch_3\">\r\n    <path d=\"M 43.78125 376.56 \r\nL 43.78125 50.4 \r\n\" style=\"fill:none;stroke:#000000;stroke-linecap:square;stroke-linejoin:miter;stroke-width:0.8;\"/>\r\n   </g>\r\n   <g id=\"patch_4\">\r\n    <path d=\"M 449.599432 376.56 \r\nL 449.599432 50.4 \r\n\" style=\"fill:none;stroke:#000000;stroke-linecap:square;stroke-linejoin:miter;stroke-width:0.8;\"/>\r\n   </g>\r\n   <g id=\"patch_5\">\r\n    <path d=\"M 43.78125 376.56 \r\nL 449.599432 376.56 \r\n\" style=\"fill:none;stroke:#000000;stroke-linecap:square;stroke-linejoin:miter;stroke-width:0.8;\"/>\r\n   </g>\r\n   <g id=\"patch_6\">\r\n    <path d=\"M 43.78125 50.4 \r\nL 449.599432 50.4 \r\n\" style=\"fill:none;stroke:#000000;stroke-linecap:square;stroke-linejoin:miter;stroke-width:0.8;\"/>\r\n   </g>\r\n   <g id=\"legend_1\">\r\n    <g id=\"patch_7\">\r\n     <path d=\"M 387.324432 73.078125 \r\nL 442.599432 73.078125 \r\nQ 444.599432 73.078125 444.599432 71.078125 \r\nL 444.599432 57.4 \r\nQ 444.599432 55.4 442.599432 55.4 \r\nL 387.324432 55.4 \r\nQ 385.324432 55.4 385.324432 57.4 \r\nL 385.324432 71.078125 \r\nQ 385.324432 73.078125 387.324432 73.078125 \r\nz\r\n\" style=\"fill:#ffffff;opacity:0.8;stroke:#cccccc;stroke-linejoin:miter;\"/>\r\n    </g>\r\n    <g id=\"line2d_17\">\r\n     <path d=\"M 389.324432 63.498437 \r\nL 409.324432 63.498437 \r\n\" style=\"fill:none;stroke:#1f77b4;stroke-linecap:square;stroke-width:1.5;\"/>\r\n    </g>\r\n    <g id=\"line2d_18\"/>\r\n    <g id=\"text_18\">\r\n     <!-- train -->\r\n     <g transform=\"translate(417.324432 66.998437)scale(0.1 -0.1)\">\r\n      <defs>\r\n       <path d=\"M 18.3125 70.21875 \r\nL 18.3125 54.6875 \r\nL 36.8125 54.6875 \r\nL 36.8125 47.703125 \r\nL 18.3125 47.703125 \r\nL 18.3125 18.015625 \r\nQ 18.3125 11.328125 20.140625 9.421875 \r\nQ 21.96875 7.515625 27.59375 7.515625 \r\nL 36.8125 7.515625 \r\nL 36.8125 0 \r\nL 27.59375 0 \r\nQ 17.1875 0 13.234375 3.875 \r\nQ 9.28125 7.765625 9.28125 18.015625 \r\nL 9.28125 47.703125 \r\nL 2.6875 47.703125 \r\nL 2.6875 54.6875 \r\nL 9.28125 54.6875 \r\nL 9.28125 70.21875 \r\nz\r\n\" id=\"DejaVuSans-116\"/>\r\n       <path d=\"M 41.109375 46.296875 \r\nQ 39.59375 47.171875 37.8125 47.578125 \r\nQ 36.03125 48 33.890625 48 \r\nQ 26.265625 48 22.1875 43.046875 \r\nQ 18.109375 38.09375 18.109375 28.8125 \r\nL 18.109375 0 \r\nL 9.078125 0 \r\nL 9.078125 54.6875 \r\nL 18.109375 54.6875 \r\nL 18.109375 46.1875 \r\nQ 20.953125 51.171875 25.484375 53.578125 \r\nQ 30.03125 56 36.53125 56 \r\nQ 37.453125 56 38.578125 55.875 \r\nQ 39.703125 55.765625 41.0625 55.515625 \r\nz\r\n\" id=\"DejaVuSans-114\"/>\r\n       <path d=\"M 34.28125 27.484375 \r\nQ 23.390625 27.484375 19.1875 25 \r\nQ 14.984375 22.515625 14.984375 16.5 \r\nQ 14.984375 11.71875 18.140625 8.90625 \r\nQ 21.296875 6.109375 26.703125 6.109375 \r\nQ 34.1875 6.109375 38.703125 11.40625 \r\nQ 43.21875 16.703125 43.21875 25.484375 \r\nL 43.21875 27.484375 \r\nz\r\nM 52.203125 31.203125 \r\nL 52.203125 0 \r\nL 43.21875 0 \r\nL 43.21875 8.296875 \r\nQ 40.140625 3.328125 35.546875 0.953125 \r\nQ 30.953125 -1.421875 24.3125 -1.421875 \r\nQ 15.921875 -1.421875 10.953125 3.296875 \r\nQ 6 8.015625 6 15.921875 \r\nQ 6 25.140625 12.171875 29.828125 \r\nQ 18.359375 34.515625 30.609375 34.515625 \r\nL 43.21875 34.515625 \r\nL 43.21875 35.40625 \r\nQ 43.21875 41.609375 39.140625 45 \r\nQ 35.0625 48.390625 27.6875 48.390625 \r\nQ 23 48.390625 18.546875 47.265625 \r\nQ 14.109375 46.140625 10.015625 43.890625 \r\nL 10.015625 52.203125 \r\nQ 14.9375 54.109375 19.578125 55.046875 \r\nQ 24.21875 56 28.609375 56 \r\nQ 40.484375 56 46.34375 49.84375 \r\nQ 52.203125 43.703125 52.203125 31.203125 \r\nz\r\n\" id=\"DejaVuSans-97\"/>\r\n       <path d=\"M 9.421875 54.6875 \r\nL 18.40625 54.6875 \r\nL 18.40625 0 \r\nL 9.421875 0 \r\nz\r\nM 9.421875 75.984375 \r\nL 18.40625 75.984375 \r\nL 18.40625 64.59375 \r\nL 9.421875 64.59375 \r\nz\r\n\" id=\"DejaVuSans-105\"/>\r\n       <path d=\"M 54.890625 33.015625 \r\nL 54.890625 0 \r\nL 45.90625 0 \r\nL 45.90625 32.71875 \r\nQ 45.90625 40.484375 42.875 44.328125 \r\nQ 39.84375 48.1875 33.796875 48.1875 \r\nQ 26.515625 48.1875 22.3125 43.546875 \r\nQ 18.109375 38.921875 18.109375 30.90625 \r\nL 18.109375 0 \r\nL 9.078125 0 \r\nL 9.078125 54.6875 \r\nL 18.109375 54.6875 \r\nL 18.109375 46.1875 \r\nQ 21.34375 51.125 25.703125 53.5625 \r\nQ 30.078125 56 35.796875 56 \r\nQ 45.21875 56 50.046875 50.171875 \r\nQ 54.890625 44.34375 54.890625 33.015625 \r\nz\r\n\" id=\"DejaVuSans-110\"/>\r\n      </defs>\r\n      <use xlink:href=\"#DejaVuSans-116\"/>\r\n      <use x=\"39.208984\" xlink:href=\"#DejaVuSans-114\"/>\r\n      <use x=\"80.322266\" xlink:href=\"#DejaVuSans-97\"/>\r\n      <use x=\"141.601562\" xlink:href=\"#DejaVuSans-105\"/>\r\n      <use x=\"169.384766\" xlink:href=\"#DejaVuSans-110\"/>\r\n     </g>\r\n    </g>\r\n   </g>\r\n  </g>\r\n  <g id=\"axes_2\">\r\n   <g id=\"patch_8\">\r\n    <path d=\"M 530.763068 376.56 \r\nL 936.58125 376.56 \r\nL 936.58125 50.4 \r\nL 530.763068 50.4 \r\nz\r\n\" style=\"fill:#ffffff;\"/>\r\n   </g>\r\n   <g id=\"matplotlib.axis_3\">\r\n    <g id=\"xtick_7\">\r\n     <g id=\"line2d_19\">\r\n      <g>\r\n       <use style=\"stroke:#000000;stroke-width:0.8;\" x=\"549.209349\" xlink:href=\"#mee5e94a738\" y=\"376.56\"/>\r\n      </g>\r\n     </g>\r\n     <g id=\"text_19\">\r\n      <!-- 0 -->\r\n      <g transform=\"translate(546.028099 391.158437)scale(0.1 -0.1)\">\r\n       <use xlink:href=\"#DejaVuSans-48\"/>\r\n      </g>\r\n     </g>\r\n    </g>\r\n    <g id=\"xtick_8\">\r\n     <g id=\"line2d_20\">\r\n      <g>\r\n       <use style=\"stroke:#000000;stroke-width:0.8;\" x=\"623.009233\" xlink:href=\"#mee5e94a738\" y=\"376.56\"/>\r\n      </g>\r\n     </g>\r\n     <g id=\"text_20\">\r\n      <!-- 1000 -->\r\n      <g transform=\"translate(610.284233 391.158437)scale(0.1 -0.1)\">\r\n       <use xlink:href=\"#DejaVuSans-49\"/>\r\n       <use x=\"63.623047\" xlink:href=\"#DejaVuSans-48\"/>\r\n       <use x=\"127.246094\" xlink:href=\"#DejaVuSans-48\"/>\r\n       <use x=\"190.869141\" xlink:href=\"#DejaVuSans-48\"/>\r\n      </g>\r\n     </g>\r\n    </g>\r\n    <g id=\"xtick_9\">\r\n     <g id=\"line2d_21\">\r\n      <g>\r\n       <use style=\"stroke:#000000;stroke-width:0.8;\" x=\"696.809117\" xlink:href=\"#mee5e94a738\" y=\"376.56\"/>\r\n      </g>\r\n     </g>\r\n     <g id=\"text_21\">\r\n      <!-- 2000 -->\r\n      <g transform=\"translate(684.084117 391.158437)scale(0.1 -0.1)\">\r\n       <use xlink:href=\"#DejaVuSans-50\"/>\r\n       <use x=\"63.623047\" xlink:href=\"#DejaVuSans-48\"/>\r\n       <use x=\"127.246094\" xlink:href=\"#DejaVuSans-48\"/>\r\n       <use x=\"190.869141\" xlink:href=\"#DejaVuSans-48\"/>\r\n      </g>\r\n     </g>\r\n    </g>\r\n    <g id=\"xtick_10\">\r\n     <g id=\"line2d_22\">\r\n      <g>\r\n       <use style=\"stroke:#000000;stroke-width:0.8;\" x=\"770.609001\" xlink:href=\"#mee5e94a738\" y=\"376.56\"/>\r\n      </g>\r\n     </g>\r\n     <g id=\"text_22\">\r\n      <!-- 3000 -->\r\n      <g transform=\"translate(757.884001 391.158437)scale(0.1 -0.1)\">\r\n       <use xlink:href=\"#DejaVuSans-51\"/>\r\n       <use x=\"63.623047\" xlink:href=\"#DejaVuSans-48\"/>\r\n       <use x=\"127.246094\" xlink:href=\"#DejaVuSans-48\"/>\r\n       <use x=\"190.869141\" xlink:href=\"#DejaVuSans-48\"/>\r\n      </g>\r\n     </g>\r\n    </g>\r\n    <g id=\"xtick_11\">\r\n     <g id=\"line2d_23\">\r\n      <g>\r\n       <use style=\"stroke:#000000;stroke-width:0.8;\" x=\"844.408885\" xlink:href=\"#mee5e94a738\" y=\"376.56\"/>\r\n      </g>\r\n     </g>\r\n     <g id=\"text_23\">\r\n      <!-- 4000 -->\r\n      <g transform=\"translate(831.683885 391.158437)scale(0.1 -0.1)\">\r\n       <use xlink:href=\"#DejaVuSans-52\"/>\r\n       <use x=\"63.623047\" xlink:href=\"#DejaVuSans-48\"/>\r\n       <use x=\"127.246094\" xlink:href=\"#DejaVuSans-48\"/>\r\n       <use x=\"190.869141\" xlink:href=\"#DejaVuSans-48\"/>\r\n      </g>\r\n     </g>\r\n    </g>\r\n    <g id=\"xtick_12\">\r\n     <g id=\"line2d_24\">\r\n      <g>\r\n       <use style=\"stroke:#000000;stroke-width:0.8;\" x=\"918.208769\" xlink:href=\"#mee5e94a738\" y=\"376.56\"/>\r\n      </g>\r\n     </g>\r\n     <g id=\"text_24\">\r\n      <!-- 5000 -->\r\n      <g transform=\"translate(905.483769 391.158437)scale(0.1 -0.1)\">\r\n       <use xlink:href=\"#DejaVuSans-53\"/>\r\n       <use x=\"63.623047\" xlink:href=\"#DejaVuSans-48\"/>\r\n       <use x=\"127.246094\" xlink:href=\"#DejaVuSans-48\"/>\r\n       <use x=\"190.869141\" xlink:href=\"#DejaVuSans-48\"/>\r\n      </g>\r\n     </g>\r\n    </g>\r\n    <g id=\"text_25\">\r\n     <!-- epochs -->\r\n     <g transform=\"translate(715.839347 404.836562)scale(0.1 -0.1)\">\r\n      <use xlink:href=\"#DejaVuSans-101\"/>\r\n      <use x=\"61.523438\" xlink:href=\"#DejaVuSans-112\"/>\r\n      <use x=\"125\" xlink:href=\"#DejaVuSans-111\"/>\r\n      <use x=\"186.181641\" xlink:href=\"#DejaVuSans-99\"/>\r\n      <use x=\"241.162109\" xlink:href=\"#DejaVuSans-104\"/>\r\n      <use x=\"304.541016\" xlink:href=\"#DejaVuSans-115\"/>\r\n     </g>\r\n    </g>\r\n   </g>\r\n   <g id=\"matplotlib.axis_4\">\r\n    <g id=\"ytick_10\">\r\n     <g id=\"line2d_25\">\r\n      <g>\r\n       <use style=\"stroke:#000000;stroke-width:0.8;\" x=\"530.763068\" xlink:href=\"#mcfda1e9fa4\" y=\"354.150073\"/>\r\n      </g>\r\n     </g>\r\n     <g id=\"text_26\">\r\n      <!-- 0.3 -->\r\n      <g transform=\"translate(507.859943 357.949292)scale(0.1 -0.1)\">\r\n       <use xlink:href=\"#DejaVuSans-48\"/>\r\n       <use x=\"63.623047\" xlink:href=\"#DejaVuSans-46\"/>\r\n       <use x=\"95.410156\" xlink:href=\"#DejaVuSans-51\"/>\r\n      </g>\r\n     </g>\r\n    </g>\r\n    <g id=\"ytick_11\">\r\n     <g id=\"line2d_26\">\r\n      <g>\r\n       <use style=\"stroke:#000000;stroke-width:0.8;\" x=\"530.763068\" xlink:href=\"#mcfda1e9fa4\" y=\"309.756812\"/>\r\n      </g>\r\n     </g>\r\n     <g id=\"text_27\">\r\n      <!-- 0.4 -->\r\n      <g transform=\"translate(507.859943 313.556031)scale(0.1 -0.1)\">\r\n       <use xlink:href=\"#DejaVuSans-48\"/>\r\n       <use x=\"63.623047\" xlink:href=\"#DejaVuSans-46\"/>\r\n       <use x=\"95.410156\" xlink:href=\"#DejaVuSans-52\"/>\r\n      </g>\r\n     </g>\r\n    </g>\r\n    <g id=\"ytick_12\">\r\n     <g id=\"line2d_27\">\r\n      <g>\r\n       <use style=\"stroke:#000000;stroke-width:0.8;\" x=\"530.763068\" xlink:href=\"#mcfda1e9fa4\" y=\"265.363551\"/>\r\n      </g>\r\n     </g>\r\n     <g id=\"text_28\">\r\n      <!-- 0.5 -->\r\n      <g transform=\"translate(507.859943 269.16277)scale(0.1 -0.1)\">\r\n       <use xlink:href=\"#DejaVuSans-48\"/>\r\n       <use x=\"63.623047\" xlink:href=\"#DejaVuSans-46\"/>\r\n       <use x=\"95.410156\" xlink:href=\"#DejaVuSans-53\"/>\r\n      </g>\r\n     </g>\r\n    </g>\r\n    <g id=\"ytick_13\">\r\n     <g id=\"line2d_28\">\r\n      <g>\r\n       <use style=\"stroke:#000000;stroke-width:0.8;\" x=\"530.763068\" xlink:href=\"#mcfda1e9fa4\" y=\"220.970289\"/>\r\n      </g>\r\n     </g>\r\n     <g id=\"text_29\">\r\n      <!-- 0.6 -->\r\n      <g transform=\"translate(507.859943 224.769508)scale(0.1 -0.1)\">\r\n       <use xlink:href=\"#DejaVuSans-48\"/>\r\n       <use x=\"63.623047\" xlink:href=\"#DejaVuSans-46\"/>\r\n       <use x=\"95.410156\" xlink:href=\"#DejaVuSans-54\"/>\r\n      </g>\r\n     </g>\r\n    </g>\r\n    <g id=\"ytick_14\">\r\n     <g id=\"line2d_29\">\r\n      <g>\r\n       <use style=\"stroke:#000000;stroke-width:0.8;\" x=\"530.763068\" xlink:href=\"#mcfda1e9fa4\" y=\"176.577028\"/>\r\n      </g>\r\n     </g>\r\n     <g id=\"text_30\">\r\n      <!-- 0.7 -->\r\n      <g transform=\"translate(507.859943 180.376247)scale(0.1 -0.1)\">\r\n       <defs>\r\n        <path d=\"M 8.203125 72.90625 \r\nL 55.078125 72.90625 \r\nL 55.078125 68.703125 \r\nL 28.609375 0 \r\nL 18.3125 0 \r\nL 43.21875 64.59375 \r\nL 8.203125 64.59375 \r\nz\r\n\" id=\"DejaVuSans-55\"/>\r\n       </defs>\r\n       <use xlink:href=\"#DejaVuSans-48\"/>\r\n       <use x=\"63.623047\" xlink:href=\"#DejaVuSans-46\"/>\r\n       <use x=\"95.410156\" xlink:href=\"#DejaVuSans-55\"/>\r\n      </g>\r\n     </g>\r\n    </g>\r\n    <g id=\"ytick_15\">\r\n     <g id=\"line2d_30\">\r\n      <g>\r\n       <use style=\"stroke:#000000;stroke-width:0.8;\" x=\"530.763068\" xlink:href=\"#mcfda1e9fa4\" y=\"132.183767\"/>\r\n      </g>\r\n     </g>\r\n     <g id=\"text_31\">\r\n      <!-- 0.8 -->\r\n      <g transform=\"translate(507.859943 135.982986)scale(0.1 -0.1)\">\r\n       <use xlink:href=\"#DejaVuSans-48\"/>\r\n       <use x=\"63.623047\" xlink:href=\"#DejaVuSans-46\"/>\r\n       <use x=\"95.410156\" xlink:href=\"#DejaVuSans-56\"/>\r\n      </g>\r\n     </g>\r\n    </g>\r\n    <g id=\"ytick_16\">\r\n     <g id=\"line2d_31\">\r\n      <g>\r\n       <use style=\"stroke:#000000;stroke-width:0.8;\" x=\"530.763068\" xlink:href=\"#mcfda1e9fa4\" y=\"87.790506\"/>\r\n      </g>\r\n     </g>\r\n     <g id=\"text_32\">\r\n      <!-- 0.9 -->\r\n      <g transform=\"translate(507.859943 91.589724)scale(0.1 -0.1)\">\r\n       <defs>\r\n        <path d=\"M 10.984375 1.515625 \r\nL 10.984375 10.5 \r\nQ 14.703125 8.734375 18.5 7.8125 \r\nQ 22.3125 6.890625 25.984375 6.890625 \r\nQ 35.75 6.890625 40.890625 13.453125 \r\nQ 46.046875 20.015625 46.78125 33.40625 \r\nQ 43.953125 29.203125 39.59375 26.953125 \r\nQ 35.25 24.703125 29.984375 24.703125 \r\nQ 19.046875 24.703125 12.671875 31.3125 \r\nQ 6.296875 37.9375 6.296875 49.421875 \r\nQ 6.296875 60.640625 12.9375 67.421875 \r\nQ 19.578125 74.21875 30.609375 74.21875 \r\nQ 43.265625 74.21875 49.921875 64.515625 \r\nQ 56.59375 54.828125 56.59375 36.375 \r\nQ 56.59375 19.140625 48.40625 8.859375 \r\nQ 40.234375 -1.421875 26.421875 -1.421875 \r\nQ 22.703125 -1.421875 18.890625 -0.6875 \r\nQ 15.09375 0.046875 10.984375 1.515625 \r\nz\r\nM 30.609375 32.421875 \r\nQ 37.25 32.421875 41.125 36.953125 \r\nQ 45.015625 41.5 45.015625 49.421875 \r\nQ 45.015625 57.28125 41.125 61.84375 \r\nQ 37.25 66.40625 30.609375 66.40625 \r\nQ 23.96875 66.40625 20.09375 61.84375 \r\nQ 16.21875 57.28125 16.21875 49.421875 \r\nQ 16.21875 41.5 20.09375 36.953125 \r\nQ 23.96875 32.421875 30.609375 32.421875 \r\nz\r\n\" id=\"DejaVuSans-57\"/>\r\n       </defs>\r\n       <use xlink:href=\"#DejaVuSans-48\"/>\r\n       <use x=\"63.623047\" xlink:href=\"#DejaVuSans-46\"/>\r\n       <use x=\"95.410156\" xlink:href=\"#DejaVuSans-57\"/>\r\n      </g>\r\n     </g>\r\n    </g>\r\n    <g id=\"text_33\">\r\n     <!-- Accuracy -->\r\n     <g transform=\"translate(501.780256 236.308125)rotate(-90)scale(0.1 -0.1)\">\r\n      <defs>\r\n       <path d=\"M 34.1875 63.1875 \r\nL 20.796875 26.90625 \r\nL 47.609375 26.90625 \r\nz\r\nM 28.609375 72.90625 \r\nL 39.796875 72.90625 \r\nL 67.578125 0 \r\nL 57.328125 0 \r\nL 50.6875 18.703125 \r\nL 17.828125 18.703125 \r\nL 11.1875 0 \r\nL 0.78125 0 \r\nz\r\n\" id=\"DejaVuSans-65\"/>\r\n       <path d=\"M 8.5 21.578125 \r\nL 8.5 54.6875 \r\nL 17.484375 54.6875 \r\nL 17.484375 21.921875 \r\nQ 17.484375 14.15625 20.5 10.265625 \r\nQ 23.53125 6.390625 29.59375 6.390625 \r\nQ 36.859375 6.390625 41.078125 11.03125 \r\nQ 45.3125 15.671875 45.3125 23.6875 \r\nL 45.3125 54.6875 \r\nL 54.296875 54.6875 \r\nL 54.296875 0 \r\nL 45.3125 0 \r\nL 45.3125 8.40625 \r\nQ 42.046875 3.421875 37.71875 1 \r\nQ 33.40625 -1.421875 27.6875 -1.421875 \r\nQ 18.265625 -1.421875 13.375 4.4375 \r\nQ 8.5 10.296875 8.5 21.578125 \r\nz\r\nM 31.109375 56 \r\nz\r\n\" id=\"DejaVuSans-117\"/>\r\n       <path d=\"M 32.171875 -5.078125 \r\nQ 28.375 -14.84375 24.75 -17.8125 \r\nQ 21.140625 -20.796875 15.09375 -20.796875 \r\nL 7.90625 -20.796875 \r\nL 7.90625 -13.28125 \r\nL 13.1875 -13.28125 \r\nQ 16.890625 -13.28125 18.9375 -11.515625 \r\nQ 21 -9.765625 23.484375 -3.21875 \r\nL 25.09375 0.875 \r\nL 2.984375 54.6875 \r\nL 12.5 54.6875 \r\nL 29.59375 11.921875 \r\nL 46.6875 54.6875 \r\nL 56.203125 54.6875 \r\nz\r\n\" id=\"DejaVuSans-121\"/>\r\n      </defs>\r\n      <use xlink:href=\"#DejaVuSans-65\"/>\r\n      <use x=\"66.658203\" xlink:href=\"#DejaVuSans-99\"/>\r\n      <use x=\"121.638672\" xlink:href=\"#DejaVuSans-99\"/>\r\n      <use x=\"176.619141\" xlink:href=\"#DejaVuSans-117\"/>\r\n      <use x=\"239.998047\" xlink:href=\"#DejaVuSans-114\"/>\r\n      <use x=\"281.111328\" xlink:href=\"#DejaVuSans-97\"/>\r\n      <use x=\"342.390625\" xlink:href=\"#DejaVuSans-99\"/>\r\n      <use x=\"397.371094\" xlink:href=\"#DejaVuSans-121\"/>\r\n     </g>\r\n    </g>\r\n   </g>\r\n   <g id=\"line2d_32\">\r\n    <path clip-path=\"url(#p54f717a2fb)\" d=\"M 549.209349 361.734545 \r\nL 549.356949 361.069727 \r\nL 549.578349 361.069727 \r\nL 549.799748 360.404908 \r\nL 549.873548 359.518483 \r\nL 550.021148 352.427085 \r\nL 550.537747 290.986767 \r\nL 550.906747 312.870379 \r\nL 551.054346 312.981182 \r\nL 551.201946 313.25819 \r\nL 552.973143 313.202788 \r\nL 553.268343 312.371765 \r\nL 553.415943 311.762348 \r\nL 554.301541 303.064305 \r\nL 554.89194 290.044941 \r\nL 555.33474 282.011716 \r\nL 555.482339 280.405071 \r\nL 556.072738 272.48265 \r\nL 556.367938 269.823375 \r\nL 556.589338 267.718117 \r\nL 556.810737 266.665487 \r\nL 556.958337 263.729205 \r\nL 557.179737 262.787379 \r\nL 557.401136 261.734749 \r\nL 558.065335 259.130876 \r\nL 558.139135 259.297081 \r\nL 558.581934 258.466058 \r\nL 558.655734 258.022845 \r\nL 558.729534 256.693208 \r\nL 558.803334 256.970216 \r\nL 558.877134 257.081019 \r\nL 559.098534 256.02839 \r\nL 559.319933 255.363571 \r\nL 559.541333 254.587949 \r\nL 559.836532 253.756926 \r\nL 559.910332 254.089336 \r\nL 559.984132 254.033934 \r\nL 560.057932 254.089336 \r\nL 560.279332 253.479918 \r\nL 560.353132 253.701525 \r\nL 560.426932 253.590722 \r\nL 560.943531 252.981305 \r\nL 561.017331 253.036706 \r\nL 561.23873 252.09488 \r\nL 561.829129 251.76247 \r\nL 561.902929 251.76247 \r\nL 562.198129 251.04225 \r\nL 562.271929 251.153053 \r\nL 562.345729 251.153053 \r\nL 562.419528 251.430061 \r\nL 562.788528 250.543636 \r\nL 562.862328 250.599038 \r\nL 563.083727 250.045022 \r\nL 563.157527 250.211227 \r\nL 563.747926 248.770787 \r\nL 563.821726 248.604582 \r\nL 564.043126 248.936991 \r\nL 564.116926 248.88159 \r\nL 564.190726 248.936991 \r\nL 564.338325 248.715385 \r\nL 564.412125 248.770787 \r\nL 564.781125 247.662756 \r\nL 564.854925 247.607354 \r\nL 565.150124 247.884362 \r\nL 565.223924 247.884362 \r\nL 565.666723 246.499323 \r\nL 565.740523 246.554725 \r\nL 565.888123 246.443922 \r\nL 566.035723 246.277717 \r\nL 566.183322 246.443922 \r\nL 566.257122 246.277717 \r\nL 566.404722 246.443922 \r\nL 566.552322 246.111512 \r\nL 566.626122 246.166914 \r\nL 566.847521 245.723702 \r\nL 566.921321 245.502095 \r\nL 567.068921 243.064427 \r\nL 567.142721 243.064427 \r\nL 567.88072 241.623987 \r\nL 567.95452 241.679389 \r\nL 568.02832 241.513184 \r\nL 568.102119 241.568585 \r\nL 568.249719 241.346979 \r\nL 568.323519 241.513184 \r\nL 568.471119 241.346979 \r\nL 568.544919 241.513184 \r\nL 569.061518 240.848365 \r\nL 569.135318 240.848365 \r\nL 569.430517 240.128145 \r\nL 569.651917 240.072744 \r\nL 569.947117 239.518728 \r\nL 570.094716 239.463327 \r\nL 570.832715 238.244492 \r\nL 570.980315 237.856682 \r\nL 571.054115 237.856682 \r\nL 571.201715 237.302666 \r\nL 571.349314 237.191863 \r\nL 571.570714 236.582446 \r\nL 571.644514 236.416241 \r\nL 571.939713 234.698793 \r\nL 572.161113 234.643392 \r\nL 572.456313 234.200179 \r\nL 572.677712 233.535361 \r\nL 572.972912 233.258353 \r\nL 573.268111 231.319299 \r\nL 573.415711 231.153094 \r\nL 573.489511 231.097693 \r\nL 573.637111 230.266669 \r\nL 573.85851 229.324843 \r\nL 574.07991 228.770828 \r\nL 574.596509 227.884403 \r\nL 574.670309 227.995206 \r\nL 574.817909 227.995206 \r\nL 575.703508 226.72097 \r\nL 575.777307 226.776372 \r\nL 576.072507 226.222356 \r\nL 576.146307 226.333159 \r\nL 576.367706 226.00075 \r\nL 576.441506 226.056152 \r\nL 576.589106 225.889947 \r\nL 576.736706 224.061696 \r\nL 576.810506 224.172499 \r\nL 577.031905 223.784688 \r\nL 577.253305 223.729287 \r\nL 577.327105 223.341476 \r\nL 577.400905 223.452279 \r\nL 577.991304 222.676657 \r\nL 578.065104 222.676657 \r\nL 578.360303 221.790232 \r\nL 578.876903 222.122642 \r\nL 579.098302 221.790232 \r\nL 579.172102 221.901035 \r\nL 579.245902 221.845634 \r\nL 579.467302 221.679429 \r\nL 579.614901 221.901035 \r\nL 580.057701 221.457823 \r\nL 580.2053 221.180815 \r\nL 580.2791 221.291618 \r\nL 580.7219 220.903808 \r\nL 580.943299 220.017383 \r\nL 581.090899 219.684974 \r\nL 581.238499 219.352564 \r\nL 581.533698 219.297163 \r\nL 581.681298 218.964753 \r\nL 581.902698 219.130958 \r\nL 582.124097 218.798549 \r\nL 582.271697 218.798549 \r\nL 582.419297 218.743147 \r\nL 582.640697 218.410738 \r\nL 582.714496 218.410738 \r\nL 582.862096 218.632344 \r\nL 583.009696 218.466139 \r\nL 583.157296 218.632344 \r\nL 583.452495 218.687746 \r\nL 583.600095 218.798549 \r\nL 584.042894 218.078329 \r\nL 584.116694 218.189132 \r\nL 584.190494 218.13373 \r\nL 584.411894 217.801321 \r\nL 584.854693 217.579715 \r\nL 584.928493 217.579715 \r\nL 585.002293 217.41351 \r\nL 585.149893 217.579715 \r\nL 585.814092 216.748691 \r\nL 585.961691 216.637888 \r\nL 586.035491 216.582487 \r\nL 586.109291 216.69329 \r\nL 586.330691 216.527085 \r\nL 586.69969 216.305479 \r\nL 586.84729 216.305479 \r\nL 587.363889 216.028471 \r\nL 587.437689 216.028471 \r\nL 587.659089 215.585259 \r\nL 587.806688 215.585259 \r\nL 588.101888 215.308251 \r\nL 588.175688 215.419054 \r\nL 588.249488 215.308251 \r\nL 588.323288 215.363653 \r\nL 588.913687 214.865039 \r\nL 589.061287 214.477228 \r\nL 589.356486 214.366425 \r\nL 589.651686 214.089417 \r\nL 589.873085 213.978614 \r\nL 589.946885 213.923212 \r\nL 590.168285 214.144819 \r\nL 590.389684 214.034015 \r\nL 590.758684 213.812409 \r\nL 590.832484 213.923212 \r\nL 590.906284 213.867811 \r\nL 591.053883 213.757008 \r\nL 591.201483 213.313795 \r\nL 591.570483 212.925985 \r\nL 591.644282 213.036788 \r\nL 591.791882 212.75978 \r\nL 591.865682 212.815181 \r\nL 592.087082 212.981386 \r\nL 592.234682 212.870583 \r\nL 592.308481 212.870583 \r\nL 592.603681 212.316567 \r\nL 592.89888 212.03956 \r\nL 592.97268 212.094961 \r\nL 593.12028 211.928757 \r\nL 593.34168 212.03956 \r\nL 593.932079 211.651749 \r\nL 594.079679 210.98693 \r\nL 594.817677 210.377513 \r\nL 594.965277 210.211309 \r\nL 595.112877 210.211309 \r\nL 595.186677 209.934301 \r\nL 595.260477 209.989702 \r\nL 595.334277 209.934301 \r\nL 595.481876 210.045104 \r\nL 595.777076 209.712695 \r\nL 595.850876 209.601892 \r\nL 595.924676 209.657293 \r\nL 596.146075 209.601892 \r\nL 596.367475 209.491088 \r\nL 596.515075 209.269482 \r\nL 596.662675 209.214081 \r\nL 596.957874 208.770868 \r\nL 597.105474 208.770868 \r\nL 597.548273 208.770868 \r\nL 597.769673 208.272254 \r\nL 597.991072 208.216853 \r\nL 598.138672 207.718239 \r\nL 598.212472 207.77364 \r\nL 598.360072 207.662837 \r\nL 598.433872 207.219625 \r\nL 598.507672 207.275026 \r\nL 598.581472 207.108822 \r\nL 598.655271 207.164223 \r\nL 599.098071 206.887216 \r\nL 599.31947 206.942617 \r\nL 599.39327 206.942617 \r\nL 599.46707 206.499405 \r\nL 599.54087 206.554806 \r\nL 599.68847 206.166996 \r\nL 599.76227 206.277799 \r\nL 600.205069 206.166996 \r\nL 600.500269 205.668382 \r\nL 600.795468 205.557578 \r\nL 600.869268 205.391374 \r\nL 601.016868 204.117138 \r\nL 601.164467 204.283343 \r\nL 601.238267 204.17254 \r\nL 601.385867 203.950934 \r\nL 601.607267 203.618524 \r\nL 601.681067 203.618524 \r\nL 601.828666 203.396918 \r\nL 601.902466 203.45232 \r\nL 602.123866 203.175312 \r\nL 602.197666 203.286115 \r\nL 602.492865 202.898304 \r\nL 602.566665 202.953706 \r\nL 602.788065 202.732099 \r\nL 603.009465 202.787501 \r\nL 603.157064 202.732099 \r\nL 603.304664 202.565895 \r\nL 603.378464 202.676698 \r\nL 603.673664 202.39969 \r\nL 604.116463 202.011879 \r\nL 604.264063 201.790273 \r\nL 604.633062 201.568667 \r\nL 604.854462 201.624068 \r\nL 605.149661 201.402462 \r\nL 605.297261 201.125455 \r\nL 605.518661 201.014651 \r\nL 605.81386 200.903848 \r\nL 605.96146 200.793045 \r\nL 606.18286 200.626841 \r\nL 606.330459 200.516038 \r\nL 606.478059 200.072825 \r\nL 606.551859 200.183628 \r\nL 606.625659 200.017424 \r\nL 606.699459 200.072825 \r\nL 606.773259 200.183628 \r\nL 606.994658 199.740416 \r\nL 607.068458 199.795817 \r\nL 607.363658 199.51881 \r\nL 607.511257 199.408007 \r\nL 607.732657 199.297203 \r\nL 607.806457 199.352605 \r\nL 608.027857 199.020196 \r\nL 608.175456 199.020196 \r\nL 608.396856 198.909393 \r\nL 608.470656 198.853991 \r\nL 608.544456 198.964794 \r\nL 608.618256 198.909393 \r\nL 608.765856 198.798589 \r\nL 608.839655 199.130999 \r\nL 608.913455 198.964794 \r\nL 609.134855 198.743188 \r\nL 609.356255 198.355377 \r\nL 609.725254 198.410779 \r\nL 609.799054 198.189172 \r\nL 609.872854 198.299976 \r\nL 610.537053 197.856763 \r\nL 610.610853 197.967566 \r\nL 610.684652 197.912165 \r\nL 610.758452 197.967566 \r\nL 610.832252 197.690558 \r\nL 610.906052 197.912165 \r\nL 611.127452 197.413551 \r\nL 611.275052 197.635157 \r\nL 611.791651 197.02574 \r\nL 611.939251 197.02574 \r\nL 612.23445 196.582528 \r\nL 612.30825 196.471724 \r\nL 612.45585 195.862307 \r\nL 612.52965 195.862307 \r\nL 612.824849 195.308292 \r\nL 613.046249 194.975883 \r\nL 613.120049 194.975883 \r\nL 613.341448 194.698875 \r\nL 613.784248 194.477269 \r\nL 613.858048 194.477269 \r\nL 613.931847 194.311064 \r\nL 614.005647 194.366466 \r\nL 614.079447 194.366466 \r\nL 614.227047 194.144859 \r\nL 614.300847 194.200261 \r\nL 614.448447 193.978655 \r\nL 614.596046 194.200261 \r\nL 614.743646 193.867852 \r\nL 614.817446 193.81245 \r\nL 614.891246 194.034056 \r\nL 615.038846 193.867852 \r\nL 615.186445 193.757049 \r\nL 615.998244 192.704419 \r\nL 616.072044 192.815222 \r\nL 616.367244 192.538214 \r\nL 616.441043 192.593616 \r\nL 616.588643 192.482813 \r\nL 616.883843 192.37201 \r\nL 617.179042 192.095002 \r\nL 617.621842 192.0396 \r\nL 617.769441 191.65179 \r\nL 617.843241 191.707191 \r\nL 617.990841 191.596388 \r\nL 618.50744 191.540987 \r\nL 618.80264 191.208577 \r\nL 619.393039 191.097774 \r\nL 619.540639 190.93157 \r\nL 620.352437 190.820766 \r\nL 620.573837 190.709963 \r\nL 620.721437 190.820766 \r\nL 621.164236 190.59916 \r\nL 621.311836 190.59916 \r\nL 621.533235 190.432956 \r\nL 622.197434 189.823539 \r\nL 622.345034 189.657334 \r\nL 622.418834 189.712735 \r\nL 622.492634 189.601932 \r\nL 622.566434 189.657334 \r\nL 622.640234 189.601932 \r\nL 623.009233 188.826311 \r\nL 623.083033 188.826311 \r\nL 623.304433 188.4385 \r\nL 623.599632 188.327697 \r\nL 623.747232 188.383098 \r\nL 624.116231 188.050689 \r\nL 624.190031 187.773681 \r\nL 624.263831 187.995287 \r\nL 624.337631 187.939886 \r\nL 624.559031 187.662878 \r\nL 624.70663 187.330469 \r\nL 624.92803 187.275067 \r\nL 625.00183 187.108863 \r\nL 625.07563 187.219666 \r\nL 625.370829 186.776453 \r\nL 625.518429 186.388642 \r\nL 625.592229 186.277839 \r\nL 625.666029 186.333241 \r\nL 625.887429 186.444044 \r\nL 626.108828 186.222438 \r\nL 626.256428 186.056233 \r\nL 626.625427 185.779225 \r\nL 626.699227 185.890029 \r\nL 626.773027 185.779225 \r\nL 626.846827 185.890029 \r\nL 627.511026 185.003604 \r\nL 627.584826 185.114407 \r\nL 627.732426 184.837399 \r\nL 627.953825 184.50499 \r\nL 628.027625 184.560391 \r\nL 628.101425 183.950974 \r\nL 628.175225 184.006376 \r\nL 628.765624 183.507762 \r\nL 628.987024 183.06455 \r\nL 629.134623 183.119951 \r\nL 629.577423 182.621337 \r\nL 630.536821 182.01192 \r\nL 630.684421 182.067322 \r\nL 630.758221 181.956519 \r\nL 630.832021 182.01192 \r\nL 630.979621 182.01192 \r\nL 631.05342 182.01192 \r\nL 631.20102 181.734912 \r\nL 631.42242 181.790314 \r\nL 631.49622 181.624109 \r\nL 631.64382 181.734912 \r\nL 632.012819 181.457905 \r\nL 632.086619 181.568708 \r\nL 632.308018 181.2917 \r\nL 632.529418 181.236298 \r\nL 632.677018 181.2917 \r\nL 633.046017 180.903889 \r\nL 633.119817 180.793086 \r\nL 633.267417 180.959291 \r\nL 633.341217 180.848488 \r\nL 633.415017 180.903889 \r\nL 633.562617 180.959291 \r\nL 633.931616 180.405275 \r\nL 634.005416 180.516078 \r\nL 634.300615 180.017464 \r\nL 634.374415 179.962063 \r\nL 634.522015 179.629653 \r\nL 634.595815 179.685055 \r\nL 634.891014 179.352646 \r\nL 635.038614 179.352646 \r\nL 635.112414 179.186441 \r\nL 635.186214 179.297244 \r\nL 635.481414 179.020236 \r\nL 635.998013 178.521623 \r\nL 636.071813 178.632426 \r\nL 636.293212 177.967607 \r\nL 636.440812 177.967607 \r\nL 636.588412 177.746001 \r\nL 636.662212 177.746001 \r\nL 636.883611 177.35819 \r\nL 636.957411 177.247387 \r\nL 637.031211 177.468993 \r\nL 637.105011 177.302788 \r\nL 637.178811 177.35819 \r\nL 637.252611 177.413592 \r\nL 637.47401 176.63797 \r\nL 637.69541 176.471765 \r\nL 637.84301 176.527167 \r\nL 638.212009 176.305561 \r\nL 638.433409 176.360962 \r\nL 638.654809 176.194757 \r\nL 638.950008 176.139356 \r\nL 639.023808 176.028553 \r\nL 639.097608 176.139356 \r\nL 639.245208 175.751545 \r\nL 639.466607 175.696143 \r\nL 639.614207 175.696143 \r\nL 640.130806 175.58534 \r\nL 640.352206 175.363734 \r\nL 640.499806 175.363734 \r\nL 640.647405 175.252931 \r\nL 640.942605 174.920522 \r\nL 641.164005 174.532711 \r\nL 641.459204 174.089499 \r\nL 641.533004 174.255703 \r\nL 641.606804 173.867892 \r\nL 641.680604 174.200302 \r\nL 641.754404 174.089499 \r\nL 641.828204 173.757089 \r\nL 641.902003 174.089499 \r\nL 641.975803 173.812491 \r\nL 642.049603 174.034097 \r\nL 642.123403 173.701688 \r\nL 642.197203 173.757089 \r\nL 642.271003 173.701688 \r\nL 642.492402 173.369278 \r\nL 642.640002 173.147672 \r\nL 642.861402 172.593657 \r\nL 642.935202 172.70446 \r\nL 643.230401 172.427452 \r\nL 643.304201 172.427452 \r\nL 643.378001 172.150444 \r\nL 643.451801 172.482854 \r\nL 643.525601 172.150444 \r\nL 643.599401 172.205846 \r\nL 643.9684 171.65183 \r\nL 644.0422 171.762634 \r\nL 644.2636 171.374823 \r\nL 644.3374 171.374823 \r\nL 644.411199 171.208618 \r\nL 644.484999 171.319421 \r\nL 644.632599 171.097815 \r\nL 644.706399 171.208618 \r\nL 645.075398 170.432996 \r\nL 645.149198 170.488398 \r\nL 645.222998 170.377595 \r\nL 645.296798 170.432996 \r\nL 645.370598 170.432996 \r\nL 645.591998 170.100587 \r\nL 645.665797 170.155989 \r\nL 645.960997 169.657375 \r\nL 646.034797 169.989784 \r\nL 646.108597 169.601973 \r\nL 646.182397 169.768178 \r\nL 646.329996 169.435768 \r\nL 646.551396 169.49117 \r\nL 646.625196 169.49117 \r\nL 646.698996 169.269564 \r\nL 646.772796 169.435768 \r\nL 646.994195 168.881753 \r\nL 647.067995 168.937155 \r\nL 647.141795 169.047958 \r\nL 647.215595 168.826351 \r\nL 647.289395 169.047958 \r\nL 647.363195 168.77095 \r\nL 647.436995 168.881753 \r\nL 647.658394 168.549344 \r\nL 647.732194 168.549344 \r\nL 647.805994 168.272336 \r\nL 647.879794 168.383139 \r\nL 648.174994 168.216934 \r\nL 648.248793 168.272336 \r\nL 648.322593 168.106131 \r\nL 648.396393 168.216934 \r\nL 648.470193 168.05073 \r\nL 648.617793 168.272336 \r\nL 648.691593 168.106131 \r\nL 648.765393 168.161533 \r\nL 648.986792 167.995328 \r\nL 649.060592 168.161533 \r\nL 649.208192 167.884525 \r\nL 649.281992 167.995328 \r\nL 649.503391 167.71832 \r\nL 649.577191 167.939927 \r\nL 649.650991 167.552116 \r\nL 649.724791 167.829124 \r\nL 649.798591 167.496714 \r\nL 649.872391 167.552116 \r\nL 650.019991 167.552116 \r\nL 650.093791 167.385911 \r\nL 650.16759 167.496714 \r\nL 650.24139 167.108903 \r\nL 650.31519 167.33051 \r\nL 650.38899 167.219706 \r\nL 650.53659 167.108903 \r\nL 650.757989 167.053502 \r\nL 650.831789 167.164305 \r\nL 651.126989 166.887297 \r\nL 651.274589 166.776494 \r\nL 651.348389 166.887297 \r\nL 651.422188 166.665691 \r\nL 651.495988 166.831896 \r\nL 651.569788 166.610289 \r\nL 651.643588 166.831896 \r\nL 651.791188 166.499486 \r\nL 652.307787 166.222479 \r\nL 652.529187 166.27788 \r\nL 652.602987 166.056274 \r\nL 652.676786 166.222479 \r\nL 652.898186 165.723865 \r\nL 652.971986 165.55766 \r\nL 653.045786 165.890069 \r\nL 653.119586 165.336054 \r\nL 653.193386 165.779266 \r\nL 653.267186 165.169849 \r\nL 653.340985 165.446857 \r\nL 653.414785 165.336054 \r\nL 653.488585 164.615834 \r\nL 653.562385 165.446857 \r\nL 653.636185 164.338826 \r\nL 653.709985 164.948243 \r\nL 653.857585 164.11722 \r\nL 653.931384 164.394227 \r\nL 654.005184 163.951015 \r\nL 654.078984 164.338826 \r\nL 654.152784 163.895614 \r\nL 654.226584 164.061818 \r\nL 654.374184 163.729409 \r\nL 654.447984 163.78481 \r\nL 654.521784 163.674007 \r\nL 654.595583 163.78481 \r\nL 654.743183 163.230795 \r\nL 654.816983 163.397 \r\nL 654.890783 163.175393 \r\nL 654.964583 163.397 \r\nL 655.038383 163.06459 \r\nL 655.112183 163.230795 \r\nL 655.185983 162.953787 \r\nL 655.259782 163.230795 \r\nL 655.333582 162.842984 \r\nL 655.407382 163.286196 \r\nL 655.628782 162.399772 \r\nL 655.702582 162.898386 \r\nL 655.850181 162.34437 \r\nL 655.923981 162.565976 \r\nL 655.997781 161.790355 \r\nL 656.071581 162.565976 \r\nL 656.145381 161.734953 \r\nL 656.219181 162.288969 \r\nL 656.366781 161.62415 \r\nL 656.440581 161.901158 \r\nL 656.51438 161.679552 \r\nL 656.58818 161.956559 \r\nL 656.66198 161.291741 \r\nL 656.73578 161.62415 \r\nL 656.80958 161.125536 \r\nL 656.88338 161.180938 \r\nL 657.252379 161.180938 \r\nL 657.326179 161.014733 \r\nL 657.399979 161.180938 \r\nL 657.473779 161.014733 \r\nL 657.547579 160.294513 \r\nL 657.621379 160.405316 \r\nL 657.695179 160.18371 \r\nL 657.768978 160.239111 \r\nL 657.842778 160.18371 \r\nL 657.916578 160.349914 \r\nL 658.064178 160.072907 \r\nL 658.137978 160.18371 \r\nL 658.211778 159.906702 \r\nL 658.285578 160.239111 \r\nL 658.359378 159.795899 \r\nL 658.433177 160.128308 \r\nL 658.506977 159.795899 \r\nL 658.580777 160.017505 \r\nL 658.654577 159.906702 \r\nL 658.728377 159.740497 \r\nL 658.802177 159.962104 \r\nL 658.875977 159.685096 \r\nL 658.949777 159.8513 \r\nL 659.097376 159.740497 \r\nL 659.392576 159.629694 \r\nL 659.466376 159.574293 \r\nL 659.540176 159.241883 \r\nL 659.613976 159.629694 \r\nL 659.687775 159.241883 \r\nL 659.761575 159.352687 \r\nL 659.835375 159.297285 \r\nL 660.056775 158.964876 \r\nL 660.278175 159.075679 \r\nL 660.351974 158.521663 \r\nL 660.425774 158.743269 \r\nL 660.573374 158.521663 \r\nL 661.163773 158.189254 \r\nL 661.237573 158.244656 \r\nL 661.606572 157.856845 \r\nL 661.901772 157.801443 \r\nL 662.123172 157.469034 \r\nL 662.196971 157.469034 \r\nL 662.270771 157.302829 \r\nL 662.344571 157.469034 \r\nL 662.418371 157.413632 \r\nL 662.492171 157.469034 \r\nL 662.713571 156.915018 \r\nL 662.787371 157.025821 \r\nL 663.00877 156.693412 \r\nL 663.08257 156.804215 \r\nL 663.30397 156.471806 \r\nL 663.37777 156.582609 \r\nL 663.45157 156.305601 \r\nL 663.525369 156.582609 \r\nL 663.599169 156.471806 \r\nL 663.672969 156.638011 \r\nL 663.820569 156.361003 \r\nL 664.115768 156.083995 \r\nL 664.263368 155.91779 \r\nL 664.632368 155.585381 \r\nL 664.706168 155.751586 \r\nL 664.927567 155.474578 \r\nL 665.001367 155.419177 \r\nL 665.075167 155.142169 \r\nL 665.148967 155.474578 \r\nL 665.222767 155.086767 \r\nL 665.296567 155.252972 \r\nL 665.370367 155.031366 \r\nL 665.444166 155.252972 \r\nL 665.591766 155.086767 \r\nL 665.960766 154.920563 \r\nL 666.034565 155.031366 \r\nL 666.108365 154.698956 \r\nL 666.182165 154.920563 \r\nL 666.255965 154.698956 \r\nL 666.329765 154.920563 \r\nL 666.403565 154.698956 \r\nL 666.477365 154.754358 \r\nL 666.698764 154.532752 \r\nL 666.846364 154.532752 \r\nL 667.215364 153.978736 \r\nL 667.289163 154.089539 \r\nL 667.436763 153.75713 \r\nL 667.584363 153.75713 \r\nL 667.658163 153.75713 \r\nL 667.879563 153.313918 \r\nL 667.953362 153.535524 \r\nL 668.100962 153.313918 \r\nL 668.174762 153.313918 \r\nL 668.248562 153.147713 \r\nL 668.322362 153.369319 \r\nL 668.396162 153.147713 \r\nL 668.469962 153.424721 \r\nL 668.543762 153.092311 \r\nL 668.617561 153.203115 \r\nL 668.691361 153.203115 \r\nL 668.765161 153.03691 \r\nL 668.838961 153.258516 \r\nL 669.060361 152.759902 \r\nL 669.20796 152.870705 \r\nL 669.35556 152.926107 \r\nL 669.57696 152.261288 \r\nL 669.65076 152.704501 \r\nL 669.72456 152.150485 \r\nL 669.79836 152.482894 \r\nL 669.945959 152.150485 \r\nL 670.019759 152.31669 \r\nL 670.241159 151.818076 \r\nL 670.536358 151.928879 \r\nL 670.610158 151.651871 \r\nL 670.683958 152.039682 \r\nL 670.757758 151.59647 \r\nL 670.831558 151.873477 \r\nL 670.905358 151.818076 \r\nL 670.979158 151.762674 \r\nL 671.052958 151.873477 \r\nL 671.274357 151.59647 \r\nL 671.348157 151.707273 \r\nL 671.495757 151.374863 \r\nL 671.569557 151.651871 \r\nL 671.643357 151.097856 \r\nL 671.717157 151.374863 \r\nL 671.790956 151.153257 \r\nL 671.864756 151.208659 \r\nL 671.938556 151.208659 \r\nL 672.012356 150.931651 \r\nL 672.086156 151.097856 \r\nL 672.159956 150.876249 \r\nL 672.233756 151.097856 \r\nL 672.381355 150.876249 \r\nL 672.750355 150.54384 \r\nL 672.824155 150.765446 \r\nL 673.045554 150.266832 \r\nL 673.119354 150.654643 \r\nL 673.193154 150.211431 \r\nL 673.266954 150.266832 \r\nL 673.340754 150.377636 \r\nL 673.414554 150.322234 \r\nL 673.562154 150.156029 \r\nL 673.783553 150.045226 \r\nL 673.857353 149.768219 \r\nL 673.931153 149.989825 \r\nL 674.152553 149.712817 \r\nL 674.226353 149.768219 \r\nL 674.447752 149.435809 \r\nL 674.595352 149.546612 \r\nL 674.964351 149.158801 \r\nL 675.111951 149.269605 \r\nL 675.185751 148.937195 \r\nL 675.259551 149.269605 \r\nL 675.333351 148.715589 \r\nL 675.407151 149.158801 \r\nL 675.480951 148.216975 \r\nL 675.55475 149.1034 \r\nL 675.70235 148.38318 \r\nL 675.77615 148.992597 \r\nL 675.84995 148.216975 \r\nL 675.92375 148.715589 \r\nL 675.99755 147.995369 \r\nL 676.07135 148.327778 \r\nL 676.14515 148.05077 \r\nL 676.218949 148.161574 \r\nL 676.440349 148.161574 \r\nL 676.514149 147.773763 \r\nL 676.587949 147.884566 \r\nL 676.661749 147.773763 \r\nL 676.735549 147.829164 \r\nL 676.883148 147.718361 \r\nL 677.104548 147.939967 \r\nL 677.178348 147.718361 \r\nL 677.252148 147.829164 \r\nL 677.473547 147.441353 \r\nL 677.547347 147.718361 \r\nL 677.621147 147.66296 \r\nL 677.694947 147.773763 \r\nL 677.990147 147.164346 \r\nL 678.063947 147.33055 \r\nL 678.137746 147.219747 \r\nL 678.211546 147.33055 \r\nL 678.285346 147.164346 \r\nL 678.359146 147.33055 \r\nL 678.432946 147.164346 \r\nL 678.506746 147.33055 \r\nL 678.728145 147.164346 \r\nL 678.801945 147.219747 \r\nL 678.949545 146.94274 \r\nL 679.097145 146.94274 \r\nL 679.539944 146.94274 \r\nL 679.835144 146.388724 \r\nL 679.908944 146.499527 \r\nL 679.982744 146.277921 \r\nL 680.056543 146.444126 \r\nL 680.130343 146.222519 \r\nL 680.204143 146.277921 \r\nL 680.277943 146.167118 \r\nL 680.351743 146.277921 \r\nL 680.573143 145.89011 \r\nL 680.646942 146.056315 \r\nL 680.794542 145.89011 \r\nL 681.089742 145.89011 \r\nL 681.237342 145.723905 \r\nL 681.532541 145.779307 \r\nL 681.606341 145.391496 \r\nL 681.680141 145.723905 \r\nL 681.753941 145.557701 \r\nL 681.827741 145.834709 \r\nL 681.901541 145.336095 \r\nL 681.97534 145.668504 \r\nL 682.04914 145.336095 \r\nL 682.12294 145.613102 \r\nL 682.34434 145.336095 \r\nL 682.565739 145.225291 \r\nL 682.860939 144.948284 \r\nL 682.934739 145.280693 \r\nL 683.008539 144.837481 \r\nL 683.082339 145.225291 \r\nL 683.156139 144.837481 \r\nL 683.229938 145.16989 \r\nL 683.303738 144.948284 \r\nL 683.377538 145.003685 \r\nL 683.598938 144.837481 \r\nL 683.672738 144.948284 \r\nL 683.746538 144.782079 \r\nL 683.820337 144.892882 \r\nL 683.894137 144.671276 \r\nL 683.967937 144.782079 \r\nL 684.041737 144.615874 \r\nL 684.115537 144.782079 \r\nL 684.189337 144.44967 \r\nL 684.263137 145.114488 \r\nL 684.336937 144.006457 \r\nL 684.410737 145.003685 \r\nL 684.484536 143.840253 \r\nL 684.558336 144.726678 \r\nL 684.632136 144.283465 \r\nL 684.705936 144.338867 \r\nL 684.779736 144.615874 \r\nL 684.853536 143.951056 \r\nL 684.927336 144.394268 \r\nL 685.001136 143.39704 \r\nL 685.074936 144.228064 \r\nL 685.148735 143.452442 \r\nL 685.222535 144.172662 \r\nL 685.370135 143.39704 \r\nL 685.443935 143.674048 \r\nL 685.517735 143.120033 \r\nL 685.591535 143.618647 \r\nL 685.665335 143.00923 \r\nL 685.739134 143.563245 \r\nL 685.812934 142.843025 \r\nL 685.886734 143.39704 \r\nL 685.960534 142.843025 \r\nL 686.034334 143.230836 \r\nL 686.108134 142.953828 \r\nL 686.181934 143.00923 \r\nL 686.255734 143.00923 \r\nL 686.329534 142.67682 \r\nL 686.403333 143.00923 \r\nL 686.477133 142.566017 \r\nL 686.550933 142.843025 \r\nL 686.624733 142.289009 \r\nL 686.698533 142.843025 \r\nL 686.772333 142.178206 \r\nL 686.846133 142.732222 \r\nL 686.919933 142.455214 \r\nL 686.993732 142.621419 \r\nL 687.141332 142.233608 \r\nL 687.215132 142.455214 \r\nL 687.362732 142.122805 \r\nL 687.584132 142.289009 \r\nL 687.953131 141.402585 \r\nL 688.026931 141.568789 \r\nL 688.174531 141.457986 \r\nL 688.248331 141.624191 \r\nL 688.32213 141.568789 \r\nL 688.39593 141.513388 \r\nL 688.46973 141.180978 \r\nL 688.54353 141.457986 \r\nL 688.61733 140.903971 \r\nL 688.69113 141.291781 \r\nL 688.76493 141.125577 \r\nL 688.912529 141.180978 \r\nL 689.133929 140.571561 \r\nL 689.207729 141.014774 \r\nL 689.281529 140.51616 \r\nL 689.355329 140.959372 \r\nL 689.429129 140.51616 \r\nL 689.502929 140.848569 \r\nL 689.576728 140.682364 \r\nL 689.798128 140.571561 \r\nL 689.945728 140.626963 \r\nL 690.388527 140.239152 \r\nL 690.462327 140.072947 \r\nL 690.536127 140.128349 \r\nL 690.609927 140.017546 \r\nL 690.831326 139.46353 \r\nL 690.905126 139.79594 \r\nL 690.978926 139.518932 \r\nL 691.052726 139.740538 \r\nL 691.126526 139.629735 \r\nL 691.200326 139.79594 \r\nL 691.274126 139.518932 \r\nL 691.347926 139.79594 \r\nL 691.790725 138.74331 \r\nL 691.864525 139.07572 \r\nL 691.938325 139.020318 \r\nL 692.012125 139.131121 \r\nL 692.159724 138.632507 \r\nL 692.233524 138.964916 \r\nL 692.307324 138.466302 \r\nL 692.381124 138.909515 \r\nL 692.454924 138.300098 \r\nL 692.528724 138.854113 \r\nL 692.602524 137.967689 \r\nL 692.676324 138.521704 \r\nL 692.750123 137.912287 \r\nL 692.823923 138.410901 \r\nL 692.971523 137.801484 \r\nL 693.192923 137.524476 \r\nL 693.340523 137.801484 \r\nL 693.561922 137.690681 \r\nL 693.635722 137.358272 \r\nL 693.709522 137.690681 \r\nL 693.783322 137.358272 \r\nL 693.857122 137.469075 \r\nL 694.078521 137.30287 \r\nL 694.152321 136.915059 \r\nL 694.226121 137.358272 \r\nL 694.299921 137.192067 \r\nL 694.447521 137.081264 \r\nL 694.521321 137.025862 \r\nL 694.66892 136.804256 \r\nL 694.74272 136.915059 \r\nL 694.81652 136.58265 \r\nL 694.89032 136.915059 \r\nL 694.96412 136.527248 \r\nL 695.03792 136.915059 \r\nL 695.11172 136.416445 \r\nL 695.18552 136.638051 \r\nL 695.333119 136.305642 \r\nL 695.406919 136.361044 \r\nL 695.480719 136.028634 \r\nL 695.554519 136.139437 \r\nL 695.628319 135.973233 \r\nL 695.702119 136.084036 \r\nL 695.775919 135.917831 \r\nL 695.849719 136.028634 \r\nL 695.923518 135.640823 \r\nL 695.997318 135.807028 \r\nL 696.144918 135.53002 \r\nL 696.218718 135.751627 \r\nL 696.292518 135.419217 \r\nL 696.366318 135.751627 \r\nL 696.440118 135.363816 \r\nL 696.513918 135.751627 \r\nL 696.587717 135.308414 \r\nL 696.661517 135.474619 \r\nL 696.882917 135.585422 \r\nL 696.956717 135.253013 \r\nL 697.030517 135.419217 \r\nL 697.251916 135.14221 \r\nL 697.473316 135.031406 \r\nL 697.620916 135.031406 \r\nL 697.694716 134.865202 \r\nL 697.768516 134.920603 \r\nL 697.842315 134.976005 \r\nL 697.916115 134.8098 \r\nL 697.989915 134.920603 \r\nL 698.063715 134.865202 \r\nL 698.358915 134.8098 \r\nL 698.432715 134.588194 \r\nL 698.506514 134.865202 \r\nL 698.580314 134.477391 \r\nL 698.654114 134.8098 \r\nL 698.875514 134.311186 \r\nL 699.023114 134.421989 \r\nL 699.096913 134.255785 \r\nL 699.170713 134.532792 \r\nL 699.244513 134.366588 \r\nL 699.318313 134.532792 \r\nL 699.392113 134.08958 \r\nL 699.465913 134.532792 \r\nL 699.613513 134.144982 \r\nL 699.761112 134.08958 \r\nL 699.834912 134.200383 \r\nL 699.908712 133.812572 \r\nL 699.982512 134.144982 \r\nL 700.056312 133.867974 \r\nL 700.130112 134.08958 \r\nL 700.351511 133.313958 \r\nL 700.425311 133.757171 \r\nL 700.572911 133.313958 \r\nL 700.646711 133.480163 \r\nL 700.720511 133.203155 \r\nL 700.794311 133.646368 \r\nL 700.868111 132.981549 \r\nL 700.941911 133.535565 \r\nL 701.01571 132.815344 \r\nL 701.08951 133.424762 \r\nL 701.16331 132.64914 \r\nL 701.23711 133.203155 \r\nL 701.31091 132.538337 \r\nL 701.38471 133.036951 \r\nL 701.45851 132.593738 \r\nL 701.53231 132.926148 \r\nL 701.60611 132.538337 \r\nL 701.679909 132.926148 \r\nL 701.753709 132.704541 \r\nL 701.901309 132.981549 \r\nL 702.122709 132.261329 \r\nL 702.196509 132.704541 \r\nL 702.270308 132.205927 \r\nL 702.344108 132.538337 \r\nL 702.565508 131.485707 \r\nL 702.639308 131.873518 \r\nL 702.713108 131.430306 \r\nL 702.786908 131.707313 \r\nL 702.860708 131.485707 \r\nL 702.934507 131.541109 \r\nL 703.008307 131.485707 \r\nL 703.155907 131.2087 \r\nL 703.820106 131.097896 \r\nL 703.967706 130.87629 \r\nL 704.041506 131.042495 \r\nL 704.115306 130.765487 \r\nL 704.189105 130.931692 \r\nL 704.262905 130.87629 \r\nL 704.336705 130.820889 \r\nL 704.484305 130.543881 \r\nL 704.631905 130.599283 \r\nL 704.705705 130.377676 \r\nL 704.779505 130.433078 \r\nL 704.853304 130.543881 \r\nL 705.000904 130.045267 \r\nL 705.074704 130.433078 \r\nL 705.148504 130.045267 \r\nL 705.222304 130.266873 \r\nL 705.296104 129.879062 \r\nL 705.369904 130.266873 \r\nL 705.443703 129.768259 \r\nL 705.517503 130.322275 \r\nL 705.591303 129.989865 \r\nL 705.665103 130.322275 \r\nL 705.812703 129.657456 \r\nL 706.034103 129.712858 \r\nL 706.107902 129.380448 \r\nL 706.181702 129.823661 \r\nL 706.255502 129.048039 \r\nL 706.329302 129.712858 \r\nL 706.403102 129.048039 \r\nL 706.476902 129.657456 \r\nL 706.550702 128.937236 \r\nL 706.624502 129.380448 \r\nL 706.698302 128.937236 \r\nL 706.772101 129.269645 \r\nL 706.845901 128.937236 \r\nL 706.919701 128.992638 \r\nL 706.993501 129.048039 \r\nL 707.067301 128.71563 \r\nL 707.141101 128.937236 \r\nL 707.214901 128.71563 \r\nL 707.288701 128.881834 \r\nL 707.3625 128.71563 \r\nL 707.4363 129.048039 \r\nL 707.5101 128.604827 \r\nL 707.5839 128.881834 \r\nL 707.6577 128.604827 \r\nL 707.7315 128.881834 \r\nL 707.8053 128.383221 \r\nL 707.8791 128.660228 \r\nL 708.174299 128.161614 \r\nL 708.248099 128.327819 \r\nL 708.321899 128.272417 \r\nL 708.395699 128.327819 \r\nL 708.469499 128.050811 \r\nL 708.543299 128.383221 \r\nL 708.617098 127.884607 \r\nL 708.690898 128.438622 \r\nL 708.764698 127.718402 \r\nL 708.838498 128.161614 \r\nL 708.986098 127.773804 \r\nL 709.059898 127.99541 \r\nL 709.133698 127.441394 \r\nL 709.207498 127.773804 \r\nL 709.281297 127.496796 \r\nL 709.355097 127.718402 \r\nL 709.428897 127.441394 \r\nL 709.502697 127.552197 \r\nL 709.650297 127.441394 \r\nL 709.871697 127.496796 \r\nL 710.166896 127.27519 \r\nL 710.240696 127.385993 \r\nL 710.314496 127.053583 \r\nL 710.388296 127.441394 \r\nL 710.462096 126.998182 \r\nL 710.535895 127.108985 \r\nL 710.609695 126.94278 \r\nL 710.683495 127.219788 \r\nL 710.757295 126.94278 \r\nL 710.831095 127.27519 \r\nL 711.052495 126.776576 \r\nL 711.126295 126.94278 \r\nL 711.200094 126.665773 \r\nL 711.273894 126.776576 \r\nL 711.347694 126.998182 \r\nL 711.421494 126.721174 \r\nL 711.495294 126.887379 \r\nL 711.716694 126.499568 \r\nL 711.790494 126.610371 \r\nL 711.864293 126.277962 \r\nL 711.938093 126.499568 \r\nL 712.011893 125.945552 \r\nL 712.085693 126.333363 \r\nL 712.159493 125.890151 \r\nL 712.233293 126.388765 \r\nL 712.307093 125.834749 \r\nL 712.380893 126.167159 \r\nL 712.454692 126.111757 \r\nL 712.528492 125.723946 \r\nL 712.602292 125.834749 \r\nL 712.749892 125.613143 \r\nL 712.971292 125.723946 \r\nL 713.118891 125.446938 \r\nL 713.192691 125.557742 \r\nL 713.340291 125.280734 \r\nL 713.85689 125.169931 \r\nL 714.07829 124.837521 \r\nL 714.15209 124.837521 \r\nL 714.22589 124.671317 \r\nL 714.29969 124.837521 \r\nL 714.668689 124.449711 \r\nL 714.742489 124.505112 \r\nL 714.816289 124.338907 \r\nL 714.890089 124.449711 \r\nL 714.963889 123.951097 \r\nL 715.037688 124.283506 \r\nL 715.111488 123.72949 \r\nL 715.185288 124.283506 \r\nL 715.259088 123.72949 \r\nL 715.480488 124.228104 \r\nL 715.628087 123.72949 \r\nL 715.701887 124.0619 \r\nL 715.775687 123.618687 \r\nL 715.849487 124.228104 \r\nL 715.923287 123.563286 \r\nL 715.997087 124.006498 \r\nL 716.070887 123.618687 \r\nL 716.144687 123.840294 \r\nL 716.292286 123.507884 \r\nL 716.366086 123.618687 \r\nL 716.439886 123.452483 \r\nL 716.513686 123.674089 \r\nL 716.587486 123.064672 \r\nL 716.661286 123.674089 \r\nL 716.735086 123.120073 \r\nL 716.808886 123.784892 \r\nL 716.882685 122.898467 \r\nL 716.956485 123.34168 \r\nL 717.104085 123.064672 \r\nL 717.251685 123.120073 \r\nL 717.325485 122.898467 \r\nL 717.399285 123.064672 \r\nL 717.620684 122.676861 \r\nL 717.768284 122.898467 \r\nL 717.842084 122.621459 \r\nL 717.915884 122.898467 \r\nL 717.989684 122.566058 \r\nL 718.063484 122.787664 \r\nL 718.137284 122.566058 \r\nL 718.211083 122.843066 \r\nL 718.284883 122.399853 \r\nL 718.358683 122.566058 \r\nL 718.506283 122.344452 \r\nL 718.580083 122.455255 \r\nL 718.653883 122.344452 \r\nL 718.727683 122.510656 \r\nL 718.801482 122.067444 \r\nL 718.875282 122.455255 \r\nL 718.949082 122.067444 \r\nL 719.022882 122.399853 \r\nL 719.096682 121.901239 \r\nL 719.170482 122.233649 \r\nL 719.244282 122.012042 \r\nL 719.318082 122.233649 \r\nL 719.391882 121.845838 \r\nL 719.465681 122.067444 \r\nL 719.539481 121.901239 \r\nL 719.613281 121.956641 \r\nL 719.687081 121.845838 \r\nL 719.834681 121.956641 \r\nL 719.982281 122.012042 \r\nL 720.056081 121.735035 \r\nL 720.27748 122.067444 \r\nL 720.49888 121.513428 \r\nL 720.57268 121.735035 \r\nL 720.64648 121.347224 \r\nL 720.720279 121.458027 \r\nL 720.794079 121.513428 \r\nL 720.867879 121.291822 \r\nL 720.941679 121.347224 \r\nL 721.163079 121.402625 \r\nL 721.384478 121.125618 \r\nL 721.458278 121.236421 \r\nL 721.532078 120.959413 \r\nL 721.605878 121.181019 \r\nL 721.753478 120.793208 \r\nL 721.827278 120.84861 \r\nL 721.974877 120.904011 \r\nL 722.196277 120.682405 \r\nL 722.270077 120.84861 \r\nL 722.491477 120.405397 \r\nL 722.565277 120.516201 \r\nL 722.786676 120.183791 \r\nL 722.860476 120.349996 \r\nL 723.155676 120.072988 \r\nL 723.450875 120.12839 \r\nL 723.524675 119.851382 \r\nL 723.598475 120.072988 \r\nL 723.672275 119.740579 \r\nL 723.746075 119.906784 \r\nL 723.819875 119.79598 \r\nL 723.893674 119.906784 \r\nL 723.967474 119.685177 \r\nL 724.041274 119.740579 \r\nL 724.262674 119.79598 \r\nL 724.336474 119.518973 \r\nL 724.410274 119.629776 \r\nL 724.484074 119.518973 \r\nL 724.557873 119.629776 \r\nL 724.631673 119.574374 \r\nL 724.705473 119.629776 \r\nL 724.779273 119.352768 \r\nL 724.853073 119.629776 \r\nL 724.926873 119.352768 \r\nL 725.074473 119.518973 \r\nL 725.222072 119.463571 \r\nL 725.295872 119.186563 \r\nL 725.369672 119.40817 \r\nL 725.443472 118.743351 \r\nL 725.517272 119.297366 \r\nL 725.591072 118.798753 \r\nL 725.664872 119.241965 \r\nL 725.738672 118.687949 \r\nL 725.812471 119.131162 \r\nL 725.886271 119.020359 \r\nL 726.181471 119.07576 \r\nL 726.255271 118.632548 \r\nL 726.329071 118.909556 \r\nL 726.402871 118.521745 \r\nL 726.47667 118.909556 \r\nL 726.55047 118.466343 \r\nL 726.62427 118.854154 \r\nL 726.69807 118.410942 \r\nL 726.77187 118.632548 \r\nL 726.99327 118.244737 \r\nL 727.067069 118.244737 \r\nL 727.140869 118.410942 \r\nL 727.214669 118.189336 \r\nL 727.288469 118.35554 \r\nL 727.362269 118.189336 \r\nL 727.436069 118.35554 \r\nL 727.509869 118.023131 \r\nL 727.583669 118.189336 \r\nL 727.657469 118.189336 \r\nL 727.731268 117.912328 \r\nL 727.805068 118.244737 \r\nL 727.878868 117.690722 \r\nL 727.952668 118.133934 \r\nL 728.026468 117.746123 \r\nL 728.100268 117.856926 \r\nL 728.690667 117.524517 \r\nL 728.838267 117.63532 \r\nL 728.912067 117.524517 \r\nL 728.985866 117.690722 \r\nL 729.059666 117.579918 \r\nL 729.133466 117.690722 \r\nL 729.207266 117.358312 \r\nL 729.281066 117.63532 \r\nL 729.354866 117.302911 \r\nL 729.428666 117.469115 \r\nL 729.650065 117.302911 \r\nL 729.945265 117.302911 \r\nL 730.019065 117.081305 \r\nL 730.092865 117.247509 \r\nL 730.166665 117.081305 \r\nL 730.240464 117.192108 \r\nL 730.314264 116.970501 \r\nL 730.388064 117.081305 \r\nL 730.535664 116.859698 \r\nL 730.609464 116.970501 \r\nL 730.757064 116.748895 \r\nL 730.830864 116.748895 \r\nL 730.904663 116.9151 \r\nL 730.978463 116.638092 \r\nL 731.052263 116.748895 \r\nL 731.126063 116.527289 \r\nL 731.199863 116.638092 \r\nL 731.568862 116.471887 \r\nL 731.642662 116.582691 \r\nL 731.716462 116.139478 \r\nL 731.790262 116.416486 \r\nL 731.864062 115.807069 \r\nL 731.937862 116.361084 \r\nL 732.011662 115.807069 \r\nL 732.085462 116.028675 \r\nL 732.306861 115.807069 \r\nL 732.528261 115.47466 \r\nL 732.602061 115.585463 \r\nL 732.675861 115.419258 \r\nL 732.749661 115.585463 \r\nL 732.97106 114.976046 \r\nL 733.04486 115.47466 \r\nL 733.11866 115.086849 \r\nL 733.19246 115.308455 \r\nL 733.26626 115.197652 \r\nL 733.34006 115.308455 \r\nL 733.635259 114.588235 \r\nL 733.709059 114.865243 \r\nL 733.782859 114.532833 \r\nL 733.856659 114.865243 \r\nL 733.930459 114.255826 \r\nL 734.004259 114.532833 \r\nL 734.151858 114.145022 \r\nL 734.225658 114.200424 \r\nL 734.373258 113.978818 \r\nL 734.447058 114.034219 \r\nL 734.668458 113.978818 \r\nL 734.889857 113.70181 \r\nL 735.037457 113.868015 \r\nL 735.185057 113.646408 \r\nL 735.258857 113.646408 \r\nL 735.332656 113.868015 \r\nL 735.406456 113.646408 \r\nL 735.480256 113.812613 \r\nL 735.775456 113.147795 \r\nL 735.849256 113.313999 \r\nL 735.923056 113.203196 \r\nL 735.996855 113.424802 \r\nL 736.070655 113.092393 \r\nL 736.144455 113.480204 \r\nL 736.218255 113.036991 \r\nL 736.292055 113.369401 \r\nL 736.365855 113.203196 \r\nL 736.439655 113.369401 \r\nL 736.513455 113.092393 \r\nL 736.587255 113.480204 \r\nL 736.808654 112.926188 \r\nL 736.882454 113.313999 \r\nL 736.956254 112.815385 \r\nL 737.030054 113.147795 \r\nL 737.103854 112.815385 \r\nL 737.177654 112.98159 \r\nL 737.251453 112.815385 \r\nL 737.325253 112.926188 \r\nL 737.399053 112.759984 \r\nL 737.472853 112.98159 \r\nL 737.546653 112.759984 \r\nL 737.620453 112.926188 \r\nL 737.694253 112.870787 \r\nL 737.768053 112.815385 \r\nL 737.841853 112.98159 \r\nL 737.915652 112.593779 \r\nL 737.989452 113.036991 \r\nL 738.063252 112.482976 \r\nL 738.137052 112.98159 \r\nL 738.210852 112.538377 \r\nL 738.284652 112.704582 \r\nL 738.358452 112.427574 \r\nL 738.432252 112.704582 \r\nL 738.579851 112.482976 \r\nL 738.653651 112.649181 \r\nL 738.727451 112.26137 \r\nL 738.801251 112.372173 \r\nL 738.875051 112.150567 \r\nL 738.948851 112.427574 \r\nL 739.022651 112.205968 \r\nL 739.096451 112.427574 \r\nL 739.17025 112.372173 \r\nL 739.31785 112.205968 \r\nL 739.39165 112.039764 \r\nL 739.46545 112.150567 \r\nL 739.53925 111.984362 \r\nL 739.61305 112.150567 \r\nL 739.68685 111.984362 \r\nL 739.76065 112.039764 \r\nL 740.129649 111.707354 \r\nL 740.203449 111.873559 \r\nL 740.277249 111.54115 \r\nL 740.351049 111.762756 \r\nL 740.424848 111.430347 \r\nL 740.498648 111.596551 \r\nL 740.572448 111.319543 \r\nL 740.646248 111.485748 \r\nL 740.867648 111.20874 \r\nL 741.015248 111.319543 \r\nL 741.384247 110.931733 \r\nL 741.458047 111.042536 \r\nL 741.531847 110.765528 \r\nL 741.605647 110.931733 \r\nL 741.679446 110.710126 \r\nL 741.753246 110.820929 \r\nL 741.827046 110.710126 \r\nL 741.900846 110.876331 \r\nL 742.048446 110.599323 \r\nL 742.343645 110.48852 \r\nL 742.786445 110.211512 \r\nL 742.860245 110.266914 \r\nL 742.934045 110.100709 \r\nL 743.007844 110.322316 \r\nL 743.081644 110.156111 \r\nL 743.155444 110.266914 \r\nL 743.229244 110.100709 \r\nL 743.303044 110.156111 \r\nL 743.376844 110.156111 \r\nL 743.598243 109.823702 \r\nL 743.745843 109.934505 \r\nL 743.967243 109.823702 \r\nL 744.041043 109.989906 \r\nL 744.114843 109.657497 \r\nL 744.188643 109.989906 \r\nL 744.262442 109.712898 \r\nL 744.336242 109.823702 \r\nL 744.483842 109.602095 \r\nL 744.557642 109.602095 \r\nL 744.631442 109.435891 \r\nL 744.705242 109.602095 \r\nL 744.779042 109.491292 \r\nL 744.852842 109.546694 \r\nL 745.000441 109.491292 \r\nL 745.074241 109.325088 \r\nL 745.148041 109.546694 \r\nL 745.221841 109.269686 \r\nL 745.295641 109.491292 \r\nL 745.369441 109.269686 \r\nL 745.443241 109.435891 \r\nL 745.51704 109.103481 \r\nL 745.59084 109.491292 \r\nL 745.66464 108.937277 \r\nL 745.73844 109.380489 \r\nL 745.81224 108.771072 \r\nL 745.88604 109.546694 \r\nL 745.95984 108.771072 \r\nL 746.03364 109.214285 \r\nL 746.10744 108.881875 \r\nL 746.181239 109.269686 \r\nL 746.328839 108.826474 \r\nL 746.402639 109.04808 \r\nL 746.476439 108.881875 \r\nL 746.550239 109.04808 \r\nL 746.771638 108.715671 \r\nL 746.919238 108.715671 \r\nL 747.140638 108.549466 \r\nL 747.214438 108.771072 \r\nL 747.288238 108.604868 \r\nL 747.362038 108.826474 \r\nL 747.435837 108.494064 \r\nL 747.509637 108.660269 \r\nL 747.583437 108.771072 \r\nL 747.657237 108.494064 \r\nL 747.731037 108.771072 \r\nL 747.804837 108.217057 \r\nL 747.878637 108.826474 \r\nL 747.952437 108.106254 \r\nL 748.026237 108.771072 \r\nL 748.100036 108.272458 \r\nL 748.247636 108.604868 \r\nL 748.321436 108.217057 \r\nL 748.395236 108.604868 \r\nL 748.469036 107.773844 \r\nL 748.542836 108.604868 \r\nL 748.616636 107.884647 \r\nL 748.690435 108.438663 \r\nL 748.764235 107.99545 \r\nL 748.838035 108.050852 \r\nL 748.911835 108.32786 \r\nL 748.985635 107.940049 \r\nL 749.059435 108.438663 \r\nL 749.133235 107.718443 \r\nL 749.207035 108.383261 \r\nL 749.280835 107.773844 \r\nL 749.354634 107.884647 \r\nL 749.649834 107.60764 \r\nL 749.723634 107.829246 \r\nL 749.797434 107.552238 \r\nL 749.871234 107.718443 \r\nL 749.945034 107.60764 \r\nL 750.018833 107.940049 \r\nL 750.092633 107.552238 \r\nL 750.166433 107.829246 \r\nL 750.240233 107.496837 \r\nL 750.314033 107.99545 \r\nL 750.387833 107.441435 \r\nL 750.461633 107.829246 \r\nL 750.683032 106.998223 \r\nL 750.756832 107.330632 \r\nL 750.830632 106.942821 \r\nL 750.904432 107.552238 \r\nL 750.978232 106.998223 \r\nL 751.052032 107.496837 \r\nL 751.125832 107.053624 \r\nL 751.199632 107.330632 \r\nL 751.273431 107.219829 \r\nL 751.421031 107.164427 \r\nL 751.494831 106.998223 \r\nL 751.568631 107.164427 \r\nL 751.642431 106.776616 \r\nL 751.716231 107.164427 \r\nL 751.790031 106.610412 \r\nL 751.86383 107.27523 \r\nL 751.93763 106.721215 \r\nL 752.01143 106.832018 \r\nL 752.08523 106.665813 \r\nL 752.15903 106.942821 \r\nL 752.30663 106.721215 \r\nL 752.601829 106.610412 \r\nL 752.675629 106.610412 \r\nL 752.749429 106.388806 \r\nL 752.823229 106.499609 \r\nL 752.897029 106.55501 \r\nL 753.118429 106.333404 \r\nL 753.192228 106.499609 \r\nL 753.266028 106.222601 \r\nL 753.339828 106.665813 \r\nL 753.413628 105.890192 \r\nL 753.487428 106.610412 \r\nL 753.561228 105.779389 \r\nL 753.635028 106.444207 \r\nL 753.708828 105.83479 \r\nL 753.782627 106.333404 \r\nL 753.856427 105.890192 \r\nL 753.930227 106.056396 \r\nL 754.077827 105.945593 \r\nL 754.151627 106.111798 \r\nL 754.225427 105.83479 \r\nL 754.299227 106.111798 \r\nL 754.373027 105.668585 \r\nL 754.446826 105.779389 \r\nL 754.742026 105.613184 \r\nL 754.815826 105.945593 \r\nL 754.889626 105.502381 \r\nL 754.963426 105.83479 \r\nL 755.037225 105.502381 \r\nL 755.111025 105.668585 \r\nL 755.258625 105.557782 \r\nL 755.480025 105.446979 \r\nL 755.553825 105.280775 \r\nL 755.627625 105.502381 \r\nL 755.701424 105.225373 \r\nL 755.775224 105.557782 \r\nL 755.849024 105.169971 \r\nL 755.922824 105.557782 \r\nL 755.996624 105.11457 \r\nL 756.070424 105.446979 \r\nL 756.218024 105.003767 \r\nL 756.291824 105.280775 \r\nL 756.365623 104.948365 \r\nL 756.439423 105.446979 \r\nL 756.513223 104.726759 \r\nL 756.587023 105.225373 \r\nL 756.660823 104.892964 \r\nL 756.734623 105.003767 \r\nL 756.808423 104.782161 \r\nL 756.882223 104.948365 \r\nL 756.956022 104.892964 \r\nL 757.177422 104.782161 \r\nL 757.398822 104.560554 \r\nL 757.472622 104.782161 \r\nL 757.546422 104.39435 \r\nL 757.620221 104.782161 \r\nL 757.694021 104.228145 \r\nL 757.767821 104.726759 \r\nL 757.841621 104.172744 \r\nL 757.915421 104.615956 \r\nL 757.989221 104.338948 \r\nL 758.063021 104.505153 \r\nL 758.136821 104.338948 \r\nL 758.210621 104.39435 \r\nL 758.35822 104.283547 \r\nL 758.43202 103.840334 \r\nL 758.50582 104.283547 \r\nL 758.57962 103.951137 \r\nL 758.65342 104.338948 \r\nL 758.72722 103.895736 \r\nL 758.80102 104.228145 \r\nL 758.874819 103.729531 \r\nL 758.948619 104.117342 \r\nL 759.022419 103.951137 \r\nL 759.170019 103.729531 \r\nL 759.612818 103.67413 \r\nL 759.686618 103.452523 \r\nL 759.760418 103.618728 \r\nL 759.834218 103.563327 \r\nL 759.908018 103.397122 \r\nL 759.981818 103.507925 \r\nL 760.055618 103.230917 \r\nL 760.129417 103.507925 \r\nL 760.203217 103.175516 \r\nL 760.277017 103.286319 \r\nL 760.350817 103.120114 \r\nL 760.424617 103.230917 \r\nL 760.719817 102.898508 \r\nL 760.793616 103.064713 \r\nL 760.867416 102.843106 \r\nL 760.941216 102.898508 \r\nL 761.015016 102.787705 \r\nL 761.088816 102.953909 \r\nL 761.162616 102.510697 \r\nL 761.236416 102.898508 \r\nL 761.310216 102.455296 \r\nL 761.384016 102.953909 \r\nL 761.531615 102.566099 \r\nL 761.605415 102.732303 \r\nL 761.679215 102.399894 \r\nL 761.753015 102.6215 \r\nL 761.826815 102.455296 \r\nL 761.900615 102.6215 \r\nL 761.974415 102.344492 \r\nL 762.048214 102.455296 \r\nL 762.122014 102.289091 \r\nL 762.195814 102.455296 \r\nL 762.491014 101.956682 \r\nL 762.564814 102.289091 \r\nL 762.638614 101.90128 \r\nL 762.712413 102.289091 \r\nL 762.786213 101.90128 \r\nL 762.860013 102.122886 \r\nL 763.007613 101.90128 \r\nL 763.081413 102.067485 \r\nL 763.155213 101.90128 \r\nL 763.229013 101.956682 \r\nL 763.450412 101.735075 \r\nL 763.524212 101.845879 \r\nL 763.819412 101.845879 \r\nL 763.967011 101.624272 \r\nL 764.040811 101.845879 \r\nL 764.114611 101.624272 \r\nL 764.188411 101.956682 \r\nL 764.262211 101.513469 \r\nL 764.336011 101.735075 \r\nL 764.409811 101.347265 \r\nL 764.483611 101.624272 \r\nL 764.557411 101.402666 \r\nL 764.63121 101.458068 \r\nL 764.85261 101.624272 \r\nL 764.92641 101.402666 \r\nL 765.00021 101.624272 \r\nL 765.14781 101.347265 \r\nL 765.221609 101.458068 \r\nL 765.295409 101.125658 \r\nL 765.369209 101.347265 \r\nL 765.443009 100.959454 \r\nL 765.516809 101.347265 \r\nL 765.590609 101.014855 \r\nL 765.664409 101.125658 \r\nL 765.812009 101.125658 \r\nL 765.885808 101.125658 \r\nL 766.033408 100.959454 \r\nL 766.107208 100.904052 \r\nL 766.181008 101.014855 \r\nL 766.402408 100.682446 \r\nL 766.623807 100.848651 \r\nL 766.845207 100.737848 \r\nL 766.919007 100.516241 \r\nL 766.992807 100.571643 \r\nL 767.066607 100.46084 \r\nL 767.140406 100.682446 \r\nL 767.288006 100.405438 \r\nL 767.361806 100.46084 \r\nL 767.509406 100.294635 \r\nL 767.583206 100.239234 \r\nL 767.730806 100.46084 \r\nL 767.878405 100.46084 \r\nL 768.099805 100.073029 \r\nL 768.173605 100.12843 \r\nL 768.247405 99.851423 \r\nL 768.321205 100.073029 \r\nL 768.395004 99.962226 \r\nL 768.542604 100.183832 \r\nL 768.985404 99.851423 \r\nL 769.059203 99.574415 \r\nL 769.133003 99.851423 \r\nL 769.206803 99.685218 \r\nL 769.354403 99.796021 \r\nL 769.575803 99.74062 \r\nL 769.649603 99.74062 \r\nL 769.944802 99.297407 \r\nL 770.018602 99.74062 \r\nL 770.092402 99.186604 \r\nL 770.166202 99.796021 \r\nL 770.240002 99.0204 \r\nL 770.313801 99.519013 \r\nL 770.387601 99.0204 \r\nL 770.461401 99.519013 \r\nL 770.535201 98.964998 \r\nL 770.609001 99.131203 \r\nL 770.682801 99.297407 \r\nL 770.756601 98.798793 \r\nL 770.830401 99.463612 \r\nL 770.904201 98.68799 \r\nL 770.978 99.352809 \r\nL 771.0518 98.68799 \r\nL 771.1256 99.463612 \r\nL 771.1994 98.68799 \r\nL 771.2732 98.909596 \r\nL 771.4946 98.743392 \r\nL 771.568399 98.854195 \r\nL 771.715999 98.632589 \r\nL 772.011199 98.577187 \r\nL 772.084999 98.355581 \r\nL 772.158799 98.743392 \r\nL 772.232598 98.133975 \r\nL 772.306398 98.743392 \r\nL 772.380198 97.801565 \r\nL 772.453998 98.521786 \r\nL 772.527798 97.801565 \r\nL 772.601598 98.466384 \r\nL 772.675398 97.912369 \r\nL 772.749198 98.244778 \r\nL 772.822998 97.912369 \r\nL 772.896797 98.133975 \r\nL 772.970597 98.023172 \r\nL 773.044397 98.189376 \r\nL 773.118197 97.856967 \r\nL 773.191997 98.300179 \r\nL 773.265797 97.635361 \r\nL 773.339597 98.300179 \r\nL 773.413397 97.635361 \r\nL 773.487196 98.244778 \r\nL 773.560996 97.579959 \r\nL 773.634796 97.96777 \r\nL 773.708596 97.524558 \r\nL 773.782396 97.690762 \r\nL 773.856196 97.746164 \r\nL 773.929996 97.413755 \r\nL 774.003796 97.856967 \r\nL 774.077596 97.302951 \r\nL 774.151395 98.023172 \r\nL 774.225195 97.136747 \r\nL 774.298995 97.96777 \r\nL 774.372795 97.192148 \r\nL 774.446595 97.801565 \r\nL 774.520395 97.136747 \r\nL 774.594195 97.358353 \r\nL 774.667995 97.469156 \r\nL 774.741795 97.192148 \r\nL 774.815594 97.579959 \r\nL 774.889394 97.136747 \r\nL 774.963194 97.635361 \r\nL 775.036994 97.136747 \r\nL 775.110794 97.469156 \r\nL 775.184594 96.970542 \r\nL 775.258394 97.136747 \r\nL 775.332194 96.804338 \r\nL 775.405993 97.081345 \r\nL 775.479793 97.025944 \r\nL 775.553593 97.081345 \r\nL 775.774993 96.915141 \r\nL 775.848793 97.081345 \r\nL 775.922593 96.915141 \r\nL 775.996393 97.136747 \r\nL 776.070192 96.748936 \r\nL 776.143992 97.136747 \r\nL 776.217792 96.582731 \r\nL 776.291592 97.025944 \r\nL 776.365392 96.471928 \r\nL 776.439192 96.970542 \r\nL 776.512992 96.416527 \r\nL 776.586792 96.748936 \r\nL 776.660591 96.471928 \r\nL 776.734391 96.748936 \r\nL 776.808191 96.305724 \r\nL 776.881991 96.859739 \r\nL 776.955791 96.139519 \r\nL 777.029591 96.748936 \r\nL 777.103391 96.084117 \r\nL 777.177191 96.471928 \r\nL 777.250991 96.416527 \r\nL 777.47239 96.139519 \r\nL 777.54619 96.361125 \r\nL 777.61999 96.139519 \r\nL 777.69379 96.361125 \r\nL 777.76759 95.917913 \r\nL 777.84139 96.305724 \r\nL 777.91519 96.250322 \r\nL 778.062789 96.250322 \r\nL 778.136589 96.084117 \r\nL 778.210389 96.361125 \r\nL 778.284189 95.973314 \r\nL 778.357989 96.305724 \r\nL 778.431789 95.917913 \r\nL 778.505589 96.194921 \r\nL 778.579388 95.973314 \r\nL 778.726988 96.305724 \r\nL 778.800788 96.028716 \r\nL 778.874588 96.139519 \r\nL 779.095988 95.973314 \r\nL 779.169788 96.139519 \r\nL 779.391187 95.80711 \r\nL 779.464987 95.751708 \r\nL 779.538787 95.530102 \r\nL 779.612587 95.80711 \r\nL 779.686387 95.751708 \r\nL 779.760187 95.80711 \r\nL 779.907786 95.640905 \r\nL 779.981586 95.80711 \r\nL 780.276786 95.530102 \r\nL 780.424386 95.530102 \r\nL 780.571985 95.585503 \r\nL 780.645785 95.197693 \r\nL 780.719585 95.4747 \r\nL 780.793385 95.142291 \r\nL 780.867185 95.585503 \r\nL 780.940985 95.08689 \r\nL 781.014785 95.4747 \r\nL 781.088585 94.976086 \r\nL 781.162384 95.419299 \r\nL 781.236184 94.976086 \r\nL 781.309984 95.363897 \r\nL 781.383784 94.976086 \r\nL 781.457584 95.142291 \r\nL 781.678984 94.920685 \r\nL 782.047983 94.809882 \r\nL 782.121783 95.08689 \r\nL 782.195583 94.588276 \r\nL 782.269383 95.142291 \r\nL 782.343183 94.588276 \r\nL 782.416982 95.08689 \r\nL 782.490782 94.588276 \r\nL 782.564582 94.976086 \r\nL 782.638382 94.809882 \r\nL 782.859782 94.643677 \r\nL 782.933582 94.809882 \r\nL 783.007382 94.699079 \r\nL 783.081181 94.75448 \r\nL 783.302581 94.643677 \r\nL 783.376381 94.809882 \r\nL 783.523981 94.699079 \r\nL 783.597781 94.75448 \r\nL 783.74538 94.532874 \r\nL 783.81918 94.643677 \r\nL 783.89298 94.366669 \r\nL 783.96678 94.699079 \r\nL 784.04058 94.311268 \r\nL 784.11438 94.699079 \r\nL 784.18818 94.422071 \r\nL 784.26198 94.643677 \r\nL 784.335779 94.422071 \r\nL 784.409579 94.588276 \r\nL 784.483379 94.311268 \r\nL 784.630979 94.588276 \r\nL 784.852379 94.200465 \r\nL 784.926178 94.477472 \r\nL 784.999978 94.366669 \r\nL 785.073778 94.422071 \r\nL 785.147578 94.311268 \r\nL 785.221378 94.422071 \r\nL 785.295178 94.311268 \r\nL 785.368978 94.477472 \r\nL 785.442778 94.311268 \r\nL 785.516578 94.477472 \r\nL 785.590377 94.145063 \r\nL 785.664177 94.422071 \r\nL 785.737977 94.145063 \r\nL 785.811777 94.255866 \r\nL 785.885577 94.311268 \r\nL 785.959377 94.145063 \r\nL 786.033177 94.255866 \r\nL 786.180777 93.923457 \r\nL 786.254576 94.200465 \r\nL 786.328376 94.089662 \r\nL 786.549776 94.145063 \r\nL 786.771176 93.868055 \r\nL 786.918775 93.978859 \r\nL 786.992575 94.03426 \r\nL 787.140175 93.868055 \r\nL 787.213975 94.03426 \r\nL 787.435375 93.757252 \r\nL 787.509174 93.978859 \r\nL 787.656774 93.591048 \r\nL 787.730574 93.701851 \r\nL 787.804374 93.369442 \r\nL 787.878174 93.701851 \r\nL 787.951974 93.646449 \r\nL 788.025774 93.591048 \r\nL 788.099573 93.757252 \r\nL 788.173373 93.701851 \r\nL 788.247173 93.646449 \r\nL 788.320973 93.757252 \r\nL 788.689973 93.369442 \r\nL 788.985172 93.369442 \r\nL 789.058972 93.203237 \r\nL 789.132772 93.31404 \r\nL 789.206572 93.258638 \r\nL 789.427971 92.981631 \r\nL 789.501771 93.147835 \r\nL 789.575571 93.092434 \r\nL 789.944571 92.760024 \r\nL 790.01837 93.092434 \r\nL 790.23977 92.372214 \r\nL 790.31357 92.870828 \r\nL 790.38737 92.483017 \r\nL 790.46117 92.870828 \r\nL 790.53497 92.59382 \r\nL 790.60877 92.704623 \r\nL 790.903969 92.483017 \r\nL 790.977769 92.649221 \r\nL 791.051569 92.316812 \r\nL 791.125369 92.59382 \r\nL 791.346768 92.150607 \r\nL 791.420568 92.427615 \r\nL 791.494368 92.150607 \r\nL 791.568168 92.483017 \r\nL 791.641968 92.206009 \r\nL 791.715768 92.427615 \r\nL 791.937167 92.150607 \r\nL 792.379967 92.206009 \r\nL 792.601366 91.707395 \r\nL 792.675166 91.818198 \r\nL 792.748966 91.596592 \r\nL 792.822766 91.8736 \r\nL 793.044166 91.596592 \r\nL 793.191765 91.707395 \r\nL 793.265565 91.596592 \r\nL 793.339365 91.762797 \r\nL 793.413165 91.319584 \r\nL 793.486965 91.54119 \r\nL 793.560765 91.264183 \r\nL 793.634565 91.54119 \r\nL 793.708365 91.15338 \r\nL 793.782165 91.485789 \r\nL 793.855964 91.208781 \r\nL 793.929764 91.485789 \r\nL 794.003564 91.097978 \r\nL 794.077364 91.374986 \r\nL 794.151164 91.15338 \r\nL 794.224964 91.374986 \r\nL 794.298764 91.097978 \r\nL 794.372564 91.208781 \r\nL 794.446364 91.264183 \r\nL 794.667763 90.82097 \r\nL 794.741563 90.931773 \r\nL 794.815363 90.599364 \r\nL 794.889163 90.82097 \r\nL 794.962963 90.543962 \r\nL 795.036763 90.987175 \r\nL 795.110562 90.543962 \r\nL 795.184362 90.710167 \r\nL 795.258162 90.654766 \r\nL 795.331962 90.82097 \r\nL 795.405762 90.599364 \r\nL 795.479562 90.654766 \r\nL 795.553362 90.654766 \r\nL 795.627162 90.377758 \r\nL 795.700962 90.654766 \r\nL 795.774761 90.266955 \r\nL 795.848561 90.710167 \r\nL 795.922361 90.211553 \r\nL 795.996161 90.710167 \r\nL 796.069961 90.211553 \r\nL 796.143761 90.322356 \r\nL 796.291361 90.488561 \r\nL 796.43896 90.10075 \r\nL 796.51276 90.322356 \r\nL 796.58656 89.989947 \r\nL 796.66036 90.322356 \r\nL 796.73416 90.045349 \r\nL 796.80796 90.377758 \r\nL 796.88176 89.879144 \r\nL 796.95556 90.156152 \r\nL 797.029359 89.879144 \r\nL 797.103159 90.045349 \r\nL 797.176959 89.989947 \r\nL 797.472159 90.10075 \r\nL 797.545959 89.823742 \r\nL 797.619759 89.934545 \r\nL 797.693558 89.712939 \r\nL 797.767358 89.934545 \r\nL 797.988758 89.657538 \r\nL 798.062558 89.823742 \r\nL 798.136358 89.657538 \r\nL 798.210158 89.823742 \r\nL 798.357757 89.602136 \r\nL 798.505357 89.879144 \r\nL 798.652957 89.602136 \r\nL 798.726757 89.768341 \r\nL 798.800557 89.546735 \r\nL 798.874357 89.712939 \r\nL 798.948156 89.325128 \r\nL 799.021956 89.712939 \r\nL 799.095756 89.269727 \r\nL 799.169556 89.657538 \r\nL 799.243356 89.435932 \r\nL 799.317156 89.602136 \r\nL 799.538556 89.325128 \r\nL 799.612355 89.435932 \r\nL 799.686155 89.214325 \r\nL 799.759955 89.38053 \r\nL 799.833755 89.158924 \r\nL 799.907555 89.38053 \r\nL 799.981355 89.214325 \r\nL 800.055155 89.325128 \r\nL 800.128955 89.269727 \r\nL 800.350354 88.881916 \r\nL 800.424154 89.103522 \r\nL 800.497954 88.992719 \r\nL 800.571754 89.048121 \r\nL 800.645554 88.881916 \r\nL 800.719354 89.103522 \r\nL 800.793154 88.771113 \r\nL 800.866953 89.048121 \r\nL 800.940753 88.715711 \r\nL 801.014553 88.992719 \r\nL 801.088353 88.881916 \r\nL 801.162153 88.66031 \r\nL 801.235953 88.992719 \r\nL 801.457352 88.549507 \r\nL 801.531152 88.771113 \r\nL 801.604952 88.604908 \r\nL 801.678752 88.771113 \r\nL 801.826352 88.438704 \r\nL 801.900152 88.66031 \r\nL 802.047752 88.327901 \r\nL 802.121551 88.383302 \r\nL 802.416751 88.494105 \r\nL 802.638151 88.161696 \r\nL 802.711951 88.383302 \r\nL 802.78575 88.050893 \r\nL 802.85955 88.272499 \r\nL 802.93335 88.161696 \r\nL 803.30235 88.106294 \r\nL 803.523749 87.94009 \r\nL 804.040348 87.829287 \r\nL 804.261748 87.773885 \r\nL 804.335548 87.884688 \r\nL 804.556948 87.60768 \r\nL 804.704547 87.663082 \r\nL 804.925947 87.552279 \r\nL 804.999747 87.663082 \r\nL 805.147347 87.552279 \r\nL 805.368746 87.663082 \r\nL 805.442546 87.386074 \r\nL 805.516346 87.663082 \r\nL 805.590146 87.275271 \r\nL 805.663946 87.60768 \r\nL 805.737746 87.109066 \r\nL 805.811546 87.60768 \r\nL 805.885346 87.109066 \r\nL 805.959145 87.386074 \r\nL 806.106745 87.164468 \r\nL 806.328145 87.109066 \r\nL 806.623344 87.164468 \r\nL 806.697144 86.942862 \r\nL 806.770944 87.164468 \r\nL 806.844744 86.998263 \r\nL 806.918544 87.109066 \r\nL 806.992344 86.942862 \r\nL 807.066144 87.164468 \r\nL 807.139944 86.832059 \r\nL 807.213743 87.053665 \r\nL 807.361343 86.610453 \r\nL 807.435143 86.942862 \r\nL 807.508943 86.721256 \r\nL 807.582743 87.109066 \r\nL 807.656543 86.610453 \r\nL 807.730343 87.109066 \r\nL 807.804143 86.610453 \r\nL 807.877942 86.942862 \r\nL 807.951742 86.610453 \r\nL 808.025542 86.665854 \r\nL 808.173142 86.555051 \r\nL 808.246942 86.776657 \r\nL 808.320742 86.499649 \r\nL 808.394542 86.776657 \r\nL 808.468341 86.388846 \r\nL 808.542141 86.610453 \r\nL 808.615941 86.388846 \r\nL 808.689741 86.555051 \r\nL 808.763541 86.388846 \r\nL 808.837341 86.499649 \r\nL 809.058741 86.333445 \r\nL 809.28014 86.222642 \r\nL 809.35394 86.278043 \r\nL 809.42774 86.555051 \r\nL 809.50154 86.16724 \r\nL 809.57534 86.444248 \r\nL 809.64914 86.222642 \r\nL 809.722939 86.278043 \r\nL 809.796739 86.388846 \r\nL 809.870539 86.16724 \r\nL 809.944339 86.222642 \r\nL 810.165739 86.16724 \r\nL 810.387138 86.16724 \r\nL 810.460938 86.001035 \r\nL 810.534738 86.111839 \r\nL 810.682338 85.890232 \r\nL 810.829938 85.890232 \r\nL 810.903738 85.834831 \r\nL 811.051337 86.001035 \r\nL 811.125137 85.834831 \r\nL 811.198937 85.945634 \r\nL 811.272737 85.890232 \r\nL 811.420337 85.834831 \r\nL 811.494137 85.945634 \r\nL 811.715536 85.557823 \r\nL 811.789336 85.724028 \r\nL 812.010736 85.44702 \r\nL 812.084536 85.502422 \r\nL 812.158336 85.724028 \r\nL 812.232136 85.502422 \r\nL 812.305935 85.668626 \r\nL 812.379735 85.502422 \r\nL 812.453535 85.668626 \r\nL 812.527335 85.44702 \r\nL 812.601135 85.724028 \r\nL 812.674935 85.225414 \r\nL 812.748735 85.613225 \r\nL 812.822535 85.114611 \r\nL 812.896335 85.170012 \r\nL 813.265334 85.170012 \r\nL 813.339134 84.948406 \r\nL 813.412934 85.225414 \r\nL 813.486734 85.059209 \r\nL 813.560533 85.280815 \r\nL 813.634333 84.837603 \r\nL 813.708133 85.280815 \r\nL 813.781933 84.7268 \r\nL 813.855733 85.003808 \r\nL 814.003333 84.671398 \r\nL 814.077133 85.059209 \r\nL 814.150933 84.7268 \r\nL 814.224732 85.003808 \r\nL 814.298532 84.782201 \r\nL 814.372332 85.003808 \r\nL 814.446132 84.671398 \r\nL 814.519932 84.893004 \r\nL 814.593732 84.505194 \r\nL 814.667532 84.560595 \r\nL 814.741332 84.671398 \r\nL 814.815131 84.394391 \r\nL 814.888931 84.7268 \r\nL 814.962731 84.505194 \r\nL 815.036531 84.671398 \r\nL 815.184131 84.449792 \r\nL 815.47933 84.283587 \r\nL 815.55313 84.394391 \r\nL 815.62693 84.172784 \r\nL 815.70073 84.338989 \r\nL 815.77453 84.283587 \r\nL 815.92213 84.283587 \r\nL 816.586329 84.228186 \r\nL 816.660129 84.061981 \r\nL 816.733928 84.228186 \r\nL 816.881528 83.951178 \r\nL 817.619527 83.895777 \r\nL 817.767127 83.729572 \r\nL 817.840927 83.840375 \r\nL 817.914727 83.784974 \r\nL 818.505126 83.840375 \r\nL 818.578926 83.951178 \r\nL 818.800325 83.784974 \r\nL 819.095525 83.563367 \r\nL 819.169325 83.67417 \r\nL 819.243125 83.618769 \r\nL 819.316924 83.67417 \r\nL 819.464524 83.563367 \r\nL 820.128723 83.507966 \r\nL 820.202523 83.397163 \r\nL 820.276323 83.507966 \r\nL 820.350123 83.341761 \r\nL 820.423923 83.397163 \r\nL 821.088122 83.341761 \r\nL 821.161922 83.175556 \r\nL 821.235721 83.341761 \r\nL 821.309521 83.175556 \r\nL 821.383321 83.230958 \r\nL 821.604721 83.175556 \r\nL 821.678521 83.28636 \r\nL 821.82612 83.120155 \r\nL 821.89992 83.230958 \r\nL 821.97372 82.95395 \r\nL 822.04752 83.28636 \r\nL 822.12132 82.95395 \r\nL 822.19512 83.230958 \r\nL 822.26892 82.95395 \r\nL 822.34272 83.230958 \r\nL 822.41652 82.95395 \r\nL 822.490319 83.064753 \r\nL 822.785519 82.95395 \r\nL 822.859319 83.009352 \r\nL 822.933119 82.843147 \r\nL 823.006919 83.009352 \r\nL 823.228318 82.732344 \r\nL 823.302118 82.676943 \r\nL 823.375918 82.898549 \r\nL 823.449718 82.732344 \r\nL 823.523518 82.843147 \r\nL 823.818717 82.510738 \r\nL 823.892517 82.732344 \r\nL 823.966317 82.566139 \r\nL 824.040117 82.787746 \r\nL 824.261517 82.289132 \r\nL 824.335317 82.566139 \r\nL 824.409116 82.510738 \r\nL 824.556716 82.566139 \r\nL 824.778116 82.289132 \r\nL 824.851916 82.510738 \r\nL 824.925716 82.344533 \r\nL 824.999515 82.455336 \r\nL 825.073315 82.23373 \r\nL 825.147115 82.399935 \r\nL 825.220915 82.344533 \r\nL 825.368515 82.344533 \r\nL 825.958914 82.289132 \r\nL 826.032714 82.012124 \r\nL 826.106514 82.289132 \r\nL 826.180314 82.122927 \r\nL 826.254113 82.289132 \r\nL 826.327913 82.067525 \r\nL 826.401713 82.178329 \r\nL 826.549313 82.178329 \r\nL 826.696913 82.344533 \r\nL 826.844513 82.122927 \r\nL 827.213512 82.012124 \r\nL 827.287312 81.735116 \r\nL 827.361112 82.122927 \r\nL 827.434912 81.735116 \r\nL 827.508712 82.122927 \r\nL 827.656311 81.735116 \r\nL 827.730111 81.790518 \r\nL 827.803911 81.679715 \r\nL 827.877711 81.956722 \r\nL 827.951511 81.624313 \r\nL 828.025311 81.901321 \r\nL 828.099111 81.568912 \r\nL 828.17291 81.845919 \r\nL 828.39431 81.458108 \r\nL 828.46811 81.568912 \r\nL 828.54191 81.402707 \r\nL 828.61571 81.568912 \r\nL 828.68951 81.51351 \r\nL 828.910909 81.568912 \r\nL 828.984709 81.291904 \r\nL 829.058509 81.624313 \r\nL 829.132309 81.291904 \r\nL 829.206109 81.51351 \r\nL 829.279909 81.347305 \r\nL 829.353709 81.402707 \r\nL 829.722708 81.181101 \r\nL 829.796508 81.347305 \r\nL 829.870308 81.070298 \r\nL 829.944108 81.347305 \r\nL 830.017908 81.125699 \r\nL 830.091707 81.347305 \r\nL 830.165507 81.291904 \r\nL 830.239307 81.236502 \r\nL 830.313107 81.402707 \r\nL 830.460707 81.125699 \r\nL 830.534507 81.291904 \r\nL 830.608307 80.848691 \r\nL 830.682107 81.070298 \r\nL 830.829706 80.959494 \r\nL 830.903506 81.181101 \r\nL 830.977306 81.014896 \r\nL 831.051106 81.181101 \r\nL 831.124906 81.014896 \r\nL 831.198706 81.070298 \r\nL 831.272506 81.014896 \r\nL 831.346305 81.125699 \r\nL 831.420105 80.904093 \r\nL 831.493905 81.236502 \r\nL 831.567705 80.737888 \r\nL 831.641505 81.125699 \r\nL 831.715305 80.682487 \r\nL 831.789105 80.904093 \r\nL 831.936705 80.737888 \r\nL 832.158104 80.848691 \r\nL 832.231904 80.571684 \r\nL 832.305704 80.79329 \r\nL 832.379504 80.571684 \r\nL 832.453304 80.79329 \r\nL 832.527104 80.571684 \r\nL 832.600904 80.79329 \r\nL 832.674703 80.571684 \r\nL 832.748503 80.682487 \r\nL 832.896103 80.79329 \r\nL 832.969903 80.904093 \r\nL 833.043703 80.627085 \r\nL 833.117503 80.904093 \r\nL 833.191303 80.571684 \r\nL 833.265102 80.737888 \r\nL 833.412702 80.571684 \r\nL 833.486502 80.571684 \r\nL 833.634102 80.294676 \r\nL 833.781702 80.516282 \r\nL 833.855502 80.405479 \r\nL 833.929301 80.460881 \r\nL 834.003101 80.405479 \r\nL 834.076901 80.516282 \r\nL 834.150701 80.350077 \r\nL 834.224501 80.516282 \r\nL 834.298301 80.294676 \r\nL 834.372101 80.627085 \r\nL 834.445901 80.128471 \r\nL 834.519701 80.516282 \r\nL 834.5935 80.128471 \r\nL 834.6673 80.405479 \r\nL 834.7411 80.294676 \r\nL 834.8149 80.405479 \r\nL 835.0363 80.07307 \r\nL 835.1101 80.183873 \r\nL 835.183899 79.962267 \r\nL 835.257699 80.128471 \r\nL 835.405299 79.906865 \r\nL 835.552899 79.906865 \r\nL 835.626699 79.796062 \r\nL 835.700499 79.962267 \r\nL 835.774299 79.906865 \r\nL 836.069498 79.629857 \r\nL 836.143298 79.851464 \r\nL 836.217098 79.463653 \r\nL 836.290898 79.851464 \r\nL 836.364698 79.463653 \r\nL 836.438497 79.74066 \r\nL 836.512297 79.408251 \r\nL 836.586097 79.74066 \r\nL 836.659897 79.574456 \r\nL 836.733697 79.519054 \r\nL 836.807497 79.629857 \r\nL 836.881297 79.408251 \r\nL 836.955097 79.629857 \r\nL 837.028897 79.242046 \r\nL 837.102696 79.629857 \r\nL 837.176496 79.242046 \r\nL 837.250296 79.463653 \r\nL 837.324096 79.242046 \r\nL 837.397896 79.297448 \r\nL 837.914495 79.297448 \r\nL 837.988295 79.131243 \r\nL 838.062095 79.297448 \r\nL 838.135895 78.965039 \r\nL 838.209695 79.242046 \r\nL 838.283495 78.854236 \r\nL 838.357294 79.35285 \r\nL 838.431094 78.854236 \r\nL 838.504894 79.186645 \r\nL 838.578694 78.909637 \r\nL 838.652494 79.02044 \r\nL 838.726294 78.909637 \r\nL 838.800094 79.075842 \r\nL 838.873894 78.854236 \r\nL 838.947694 78.965039 \r\nL 839.242893 78.798834 \r\nL 839.316693 78.965039 \r\nL 839.390493 78.798834 \r\nL 839.464293 78.965039 \r\nL 839.538093 78.632629 \r\nL 839.611892 78.965039 \r\nL 839.685692 78.521826 \r\nL 839.759492 78.965039 \r\nL 839.833292 78.466425 \r\nL 839.907092 78.854236 \r\nL 839.980892 78.632629 \r\nL 840.054692 78.688031 \r\nL 840.202292 78.577228 \r\nL 840.276091 78.743433 \r\nL 840.349891 78.466425 \r\nL 840.423691 78.743433 \r\nL 840.497491 78.521826 \r\nL 840.571291 78.632629 \r\nL 840.718891 78.411023 \r\nL 840.792691 78.577228 \r\nL 840.866491 78.355622 \r\nL 840.94029 78.521826 \r\nL 841.01409 78.355622 \r\nL 841.08789 78.466425 \r\nL 841.16169 78.355622 \r\nL 841.23549 78.521826 \r\nL 841.30929 78.30022 \r\nL 841.38309 78.411023 \r\nL 841.45689 78.30022 \r\nL 841.530689 78.411023 \r\nL 841.604489 78.244819 \r\nL 841.678289 78.411023 \r\nL 841.752089 78.244819 \r\nL 841.825889 78.355622 \r\nL 841.899689 78.189417 \r\nL 841.973489 78.244819 \r\nL 842.121089 78.134015 \r\nL 842.490088 78.134015 \r\nL 842.563888 77.967811 \r\nL 842.637688 78.134015 \r\nL 842.711488 77.912409 \r\nL 842.785288 78.134015 \r\nL 842.859087 77.801606 \r\nL 842.932887 78.078614 \r\nL 843.006687 77.801606 \r\nL 843.080487 78.023212 \r\nL 843.154287 77.746205 \r\nL 843.228087 77.967811 \r\nL 843.301887 77.635402 \r\nL 843.375687 77.967811 \r\nL 843.449486 77.58 \r\nL 843.523286 77.857008 \r\nL 843.597086 77.469197 \r\nL 843.670886 77.801606 \r\nL 843.744686 77.413795 \r\nL 843.818486 77.746205 \r\nL 843.892286 77.469197 \r\nL 843.966086 77.746205 \r\nL 844.039886 77.469197 \r\nL 844.113685 77.635402 \r\nL 844.335085 77.302992 \r\nL 844.408885 77.524598 \r\nL 844.482685 77.302992 \r\nL 844.556485 77.58 \r\nL 844.630285 77.136788 \r\nL 844.704084 77.690803 \r\nL 844.777884 77.192189 \r\nL 844.851684 77.801606 \r\nL 844.925484 76.970583 \r\nL 844.999284 77.524598 \r\nL 845.073084 77.081386 \r\nL 845.146884 77.413795 \r\nL 845.220684 77.136788 \r\nL 845.294484 77.247591 \r\nL 845.442083 77.136788 \r\nL 845.515883 77.247591 \r\nL 845.589683 77.025985 \r\nL 845.663483 77.247591 \r\nL 845.737283 76.915181 \r\nL 845.811083 77.524598 \r\nL 845.884883 76.693575 \r\nL 845.958683 77.524598 \r\nL 846.032482 76.693575 \r\nL 846.106282 77.358394 \r\nL 846.180082 76.970583 \r\nL 846.253882 77.247591 \r\nL 846.327682 76.915181 \r\nL 846.401482 76.970583 \r\nL 846.475282 77.192189 \r\nL 846.549082 76.915181 \r\nL 846.622881 77.247591 \r\nL 846.696681 76.693575 \r\nL 846.770481 77.247591 \r\nL 846.844281 76.693575 \r\nL 846.918081 77.192189 \r\nL 846.991881 76.804378 \r\nL 847.065681 77.025985 \r\nL 847.139481 76.748977 \r\nL 847.28708 76.970583 \r\nL 847.36088 76.804378 \r\nL 847.43468 77.025985 \r\nL 847.50848 76.638174 \r\nL 847.58228 77.081386 \r\nL 847.65608 76.582772 \r\nL 847.72988 77.081386 \r\nL 847.80368 76.582772 \r\nL 847.877479 76.970583 \r\nL 847.951279 76.471969 \r\nL 848.025079 76.970583 \r\nL 848.098879 76.361166 \r\nL 848.172679 77.025985 \r\nL 848.246479 76.582772 \r\nL 848.320279 76.804378 \r\nL 848.394079 76.471969 \r\nL 848.467879 76.748977 \r\nL 848.541678 76.693575 \r\nL 848.615478 76.471969 \r\nL 848.689278 76.748977 \r\nL 848.763078 76.582772 \r\nL 848.836878 76.804378 \r\nL 848.910678 76.305764 \r\nL 848.984478 76.748977 \r\nL 849.058278 76.194961 \r\nL 849.132078 76.693575 \r\nL 849.205877 76.361166 \r\nL 849.279677 76.582772 \r\nL 849.353477 76.416567 \r\nL 849.427277 76.471969 \r\nL 849.943876 76.416567 \r\nL 850.017676 76.305764 \r\nL 850.091476 76.471969 \r\nL 850.165276 76.028757 \r\nL 850.239076 76.471969 \r\nL 850.312876 75.917954 \r\nL 850.386676 76.305764 \r\nL 850.460475 75.917954 \r\nL 850.534275 76.250363 \r\nL 850.608075 76.084158 \r\nL 850.681875 76.194961 \r\nL 850.755675 76.13956 \r\nL 850.829475 75.973355 \r\nL 850.903275 76.13956 \r\nL 850.977075 75.862552 \r\nL 851.050875 76.084158 \r\nL 851.124674 75.751749 \r\nL 851.198474 76.13956 \r\nL 851.272274 75.862552 \r\nL 851.346074 76.13956 \r\nL 851.419874 75.80715 \r\nL 851.493674 76.084158 \r\nL 851.567474 75.862552 \r\nL 851.641274 75.917954 \r\nL 852.157873 75.862552 \r\nL 852.231673 75.751749 \r\nL 852.305473 75.862552 \r\nL 852.379272 75.751749 \r\nL 852.453072 75.80715 \r\nL 852.748272 75.474741 \r\nL 852.822072 75.751749 \r\nL 852.895872 75.585544 \r\nL 852.969671 75.640946 \r\nL 853.043471 75.530143 \r\nL 853.117271 75.696347 \r\nL 853.191071 75.474741 \r\nL 853.264871 75.530143 \r\nL 853.85527 75.474741 \r\nL 854.00287 75.363938 \r\nL 854.07667 75.530143 \r\nL 854.15047 75.197733 \r\nL 854.22427 75.308536 \r\nL 854.298069 75.41934 \r\nL 854.371869 75.308536 \r\nL 854.445669 75.363938 \r\nL 854.593269 75.41934 \r\nL 854.667069 75.197733 \r\nL 854.740869 75.308536 \r\nL 854.888468 75.197733 \r\nL 855.036068 75.08693 \r\nL 855.183668 75.197733 \r\nL 855.331268 75.142332 \r\nL 855.405068 75.253135 \r\nL 855.552667 75.08693 \r\nL 855.626467 75.197733 \r\nL 855.700267 75.142332 \r\nL 855.921667 74.976127 \r\nL 855.995467 74.920726 \r\nL 856.069267 75.142332 \r\nL 856.143066 74.809923 \r\nL 856.216866 75.142332 \r\nL 856.290666 75.031529 \r\nL 856.438266 75.197733 \r\nL 856.512066 75.08693 \r\nL 856.954865 74.754521 \r\nL 857.102465 74.976127 \r\nL 857.176265 74.865324 \r\nL 857.250065 74.976127 \r\nL 857.397665 74.809923 \r\nL 857.692864 74.643718 \r\nL 857.766664 74.809923 \r\nL 857.840464 74.699119 \r\nL 857.914264 74.865324 \r\nL 857.988064 74.754521 \r\nL 858.061863 74.865324 \r\nL 858.135663 74.588316 \r\nL 858.209463 74.754521 \r\nL 858.283263 74.699119 \r\nL 858.357063 74.532915 \r\nL 858.430863 74.588316 \r\nL 858.504663 74.477513 \r\nL 858.578463 74.588316 \r\nL 858.652263 74.422112 \r\nL 858.799862 74.532915 \r\nL 858.947462 74.532915 \r\nL 859.242662 74.699119 \r\nL 859.316462 74.477513 \r\nL 859.390261 74.699119 \r\nL 859.464061 74.477513 \r\nL 859.537861 74.699119 \r\nL 859.611661 74.588316 \r\nL 859.833061 74.422112 \r\nL 860.49726 74.422112 \r\nL 860.57106 74.200506 \r\nL 860.644859 74.422112 \r\nL 860.718659 74.145104 \r\nL 860.792459 74.422112 \r\nL 860.866259 74.145104 \r\nL 860.940059 74.255907 \r\nL 861.013859 74.145104 \r\nL 861.087659 74.311309 \r\nL 861.235258 74.145104 \r\nL 861.456658 74.034301 \r\nL 861.530458 73.978899 \r\nL 861.604258 74.145104 \r\nL 861.678058 73.923498 \r\nL 861.751858 74.200506 \r\nL 861.825658 73.923498 \r\nL 861.899457 74.255907 \r\nL 862.120857 73.923498 \r\nL 862.194657 73.812695 \r\nL 862.268457 74.034301 \r\nL 862.342257 73.757293 \r\nL 862.416057 74.034301 \r\nL 862.489857 73.757293 \r\nL 862.563656 73.923498 \r\nL 862.637456 73.701892 \r\nL 862.711256 73.923498 \r\nL 862.785056 73.868096 \r\nL 863.080256 73.757293 \r\nL 863.227855 73.757293 \r\nL 863.301655 73.480285 \r\nL 863.375455 73.757293 \r\nL 863.449255 73.480285 \r\nL 863.523055 73.868096 \r\nL 863.596855 73.424884 \r\nL 863.670655 73.868096 \r\nL 863.744455 73.369482 \r\nL 863.818254 73.701892 \r\nL 863.892054 73.369482 \r\nL 863.965854 73.535687 \r\nL 864.187254 73.258679 \r\nL 864.408653 73.369482 \r\nL 864.630053 73.314081 \r\nL 864.925253 73.258679 \r\nL 865.220452 72.981671 \r\nL 865.294252 73.258679 \r\nL 865.368052 73.037073 \r\nL 865.441852 73.147876 \r\nL 865.589452 73.037073 \r\nL 865.810851 73.092475 \r\nL 865.884651 72.981671 \r\nL 865.958451 73.037073 \r\nL 866.032251 73.092475 \r\nL 866.179851 72.92627 \r\nL 866.32745 72.815467 \r\nL 866.40125 73.037073 \r\nL 866.47505 72.870868 \r\nL 866.62265 72.981671 \r\nL 866.77025 72.649262 \r\nL 866.84405 72.870868 \r\nL 866.91785 72.815467 \r\nL 866.991649 72.92627 \r\nL 867.139249 72.760065 \r\nL 867.213049 72.704664 \r\nL 867.286849 72.427656 \r\nL 867.360649 72.649262 \r\nL 867.434449 72.483057 \r\nL 867.508249 72.704664 \r\nL 867.582049 72.483057 \r\nL 867.655848 72.815467 \r\nL 867.729648 72.593861 \r\nL 867.803448 72.92627 \r\nL 867.877248 72.649262 \r\nL 867.951048 72.870868 \r\nL 868.098648 72.372254 \r\nL 868.172448 72.483057 \r\nL 868.246247 72.150648 \r\nL 868.320047 72.760065 \r\nL 868.393847 72.261451 \r\nL 868.467647 72.649262 \r\nL 868.541447 72.316853 \r\nL 868.615247 72.538459 \r\nL 868.689047 72.427656 \r\nL 868.762847 72.150648 \r\nL 868.836647 72.261451 \r\nL 868.910446 72.095247 \r\nL 868.984246 72.316853 \r\nL 869.058046 72.150648 \r\nL 869.131846 72.261451 \r\nL 869.205646 71.984444 \r\nL 869.279446 72.150648 \r\nL 869.353246 72.039845 \r\nL 869.427046 72.20605 \r\nL 869.574645 72.039845 \r\nL 869.648445 72.095247 \r\nL 869.796045 71.984444 \r\nL 870.165044 71.984444 \r\nL 870.238844 71.818239 \r\nL 870.312644 71.929042 \r\nL 870.386444 71.87364 \r\nL 871.050643 71.87364 \r\nL 871.198243 71.652034 \r\nL 871.272043 71.818239 \r\nL 871.345843 71.652034 \r\nL 871.419642 71.818239 \r\nL 871.567242 71.596633 \r\nL 871.714842 71.707436 \r\nL 871.862442 71.596633 \r\nL 871.936242 71.652034 \r\nL 872.010042 71.48583 \r\nL 872.231441 71.707436 \r\nL 872.305241 71.596633 \r\nL 872.379041 71.707436 \r\nL 872.452841 71.541231 \r\nL 872.526641 71.596633 \r\nL 872.74804 71.541231 \r\nL 872.89564 71.541231 \r\nL 873.338439 71.319625 \r\nL 873.633639 71.48583 \r\nL 873.928839 71.375026 \r\nL 874.002638 71.430428 \r\nL 874.224038 71.264223 \r\nL 874.666837 71.208822 \r\nL 874.740637 71.430428 \r\nL 874.814437 71.15342 \r\nL 874.888237 71.319625 \r\nL 874.962037 71.264223 \r\nL 875.035837 71.208822 \r\nL 875.109637 71.319625 \r\nL 875.183437 71.208822 \r\nL 875.257236 71.319625 \r\nL 875.478636 71.098019 \r\nL 875.700036 71.15342 \r\nL 876.733234 71.098019 \r\nL 876.807034 70.987216 \r\nL 876.880834 71.042617 \r\nL 877.102234 70.987216 \r\nL 877.176033 70.876413 \r\nL 877.249833 70.931814 \r\nL 877.692633 70.821011 \r\nL 877.914032 70.765609 \r\nL 877.987832 70.876413 \r\nL 878.209232 70.710208 \r\nL 878.578231 70.765609 \r\nL 878.652031 70.544003 \r\nL 878.725831 70.710208 \r\nL 878.799631 70.599405 \r\nL 878.873431 70.765609 \r\nL 879.021031 70.599405 \r\nL 879.31623 70.544003 \r\nL 879.39003 70.377799 \r\nL 879.46383 70.4332 \r\nL 879.53763 70.599405 \r\nL 879.61143 70.377799 \r\nL 879.685229 70.544003 \r\nL 879.759029 70.488602 \r\nL 880.128029 70.488602 \r\nL 880.201829 70.322397 \r\nL 880.275629 70.377799 \r\nL 880.423228 70.156192 \r\nL 880.497028 70.266996 \r\nL 880.570828 70.100791 \r\nL 880.644628 70.266996 \r\nL 880.718428 70.156192 \r\nL 880.792228 70.266996 \r\nL 880.866028 70.211594 \r\nL 881.161227 70.211594 \r\nL 881.235027 69.989988 \r\nL 881.308827 70.156192 \r\nL 881.382627 69.823783 \r\nL 881.456427 70.211594 \r\nL 881.530227 69.768382 \r\nL 881.604026 70.211594 \r\nL 881.677826 69.768382 \r\nL 881.751626 70.156192 \r\nL 881.825426 69.934586 \r\nL 881.899226 70.045389 \r\nL 881.973026 69.934586 \r\nL 882.046826 70.045389 \r\nL 882.194426 69.879185 \r\nL 882.268225 69.989988 \r\nL 882.342025 69.934586 \r\nL 882.489625 69.934586 \r\nL 882.711025 69.989988 \r\nL 882.784825 69.768382 \r\nL 882.858624 69.934586 \r\nL 882.932424 69.657578 \r\nL 883.006224 69.989988 \r\nL 883.080024 69.602177 \r\nL 883.153824 70.100791 \r\nL 883.227624 69.546775 \r\nL 883.301424 69.989988 \r\nL 883.375224 69.657578 \r\nL 883.449024 69.879185 \r\nL 883.522823 69.546775 \r\nL 883.596623 69.71298 \r\nL 883.670423 69.768382 \r\nL 883.744223 69.546775 \r\nL 883.818023 69.823783 \r\nL 883.891823 69.546775 \r\nL 883.965623 69.768382 \r\nL 884.039423 69.491374 \r\nL 884.113223 69.768382 \r\nL 884.187022 69.657578 \r\nL 884.260822 69.768382 \r\nL 884.334622 69.546775 \r\nL 884.408422 69.71298 \r\nL 884.482222 69.491374 \r\nL 884.556022 69.546775 \r\nL 884.629822 69.546775 \r\nL 884.703622 69.380571 \r\nL 884.777421 69.657578 \r\nL 884.851221 69.380571 \r\nL 884.925021 69.71298 \r\nL 884.998821 69.325169 \r\nL 885.072621 69.71298 \r\nL 885.146421 69.325169 \r\nL 885.220221 69.71298 \r\nL 885.294021 69.435972 \r\nL 885.367821 69.71298 \r\nL 885.44162 69.435972 \r\nL 885.51542 69.602177 \r\nL 885.58922 69.325169 \r\nL 885.66302 69.435972 \r\nL 886.105819 69.546775 \r\nL 886.179619 69.214366 \r\nL 886.253419 69.380571 \r\nL 886.327219 69.214366 \r\nL 886.401019 69.325169 \r\nL 886.474819 69.269768 \r\nL 886.770018 69.546775 \r\nL 886.917618 69.380571 \r\nL 887.139018 69.325169 \r\nL 887.360417 69.048161 \r\nL 887.434217 69.214366 \r\nL 887.508017 69.103563 \r\nL 887.581817 69.158965 \r\nL 887.729417 69.269768 \r\nL 887.803217 69.325169 \r\nL 887.877017 69.158965 \r\nL 887.950816 69.325169 \r\nL 888.024616 69.158965 \r\nL 888.098416 69.325169 \r\nL 888.172216 69.158965 \r\nL 888.246016 69.214366 \r\nL 888.467416 69.103563 \r\nL 888.541216 68.99276 \r\nL 888.615015 69.103563 \r\nL 888.688815 68.99276 \r\nL 888.762615 69.048161 \r\nL 888.984015 68.99276 \r\nL 889.722014 69.103563 \r\nL 889.795814 69.158965 \r\nL 889.869613 69.048161 \r\nL 889.943413 69.214366 \r\nL 890.017213 69.103563 \r\nL 890.091013 69.214366 \r\nL 890.164813 68.937358 \r\nL 890.238613 68.99276 \r\nL 890.312413 68.881957 \r\nL 890.386213 68.937358 \r\nL 890.460013 69.103563 \r\nL 890.533812 68.937358 \r\nL 890.607612 69.158965 \r\nL 890.681412 68.937358 \r\nL 890.755212 69.103563 \r\nL 890.902812 68.937358 \r\nL 891.419411 68.937358 \r\nL 891.493211 68.771154 \r\nL 891.567011 68.99276 \r\nL 891.640811 68.826555 \r\nL 891.714611 68.937358 \r\nL 891.78841 68.881957 \r\nL 892.00981 68.826555 \r\nL 892.23121 68.881957 \r\nL 892.969209 68.826555 \r\nL 893.043008 68.715752 \r\nL 893.116808 68.826555 \r\nL 893.190608 68.771154 \r\nL 893.264408 68.826555 \r\nL 893.338208 68.660351 \r\nL 893.485808 68.826555 \r\nL 893.559608 68.660351 \r\nL 893.707207 68.771154 \r\nL 894.223807 68.771154 \r\nL 894.297606 68.604949 \r\nL 894.371406 68.715752 \r\nL 894.445206 68.549547 \r\nL 894.519006 68.604949 \r\nL 894.961805 68.494146 \r\nL 895.035605 68.771154 \r\nL 895.109405 68.494146 \r\nL 895.183205 68.771154 \r\nL 895.257005 68.549547 \r\nL 895.330805 68.715752 \r\nL 895.404605 68.438744 \r\nL 895.478405 68.660351 \r\nL 895.552205 68.383343 \r\nL 895.626004 68.549547 \r\nL 895.699804 68.494146 \r\nL 896.068804 68.383343 \r\nL 896.142604 68.715752 \r\nL 896.216403 68.327941 \r\nL 896.290203 68.604949 \r\nL 896.364003 68.327941 \r\nL 896.437803 68.660351 \r\nL 896.511603 68.383343 \r\nL 896.585403 68.604949 \r\nL 896.659203 68.383343 \r\nL 896.733003 68.438744 \r\nL 897.323402 68.549547 \r\nL 897.397202 68.161737 \r\nL 897.471002 68.604949 \r\nL 897.544801 68.106335 \r\nL 897.618601 68.549547 \r\nL 897.692401 68.106335 \r\nL 897.766201 68.438744 \r\nL 897.840001 68.161737 \r\nL 897.913801 68.27254 \r\nL 897.987601 68.106335 \r\nL 898.061401 68.327941 \r\nL 898.1352 68.27254 \r\nL 898.2828 68.106335 \r\nL 898.4304 68.161737 \r\nL 898.6518 68.106335 \r\nL 898.7256 68.27254 \r\nL 898.799399 67.94013 \r\nL 898.873199 68.438744 \r\nL 898.946999 67.829327 \r\nL 899.020799 68.438744 \r\nL 899.094599 67.884729 \r\nL 899.168399 68.383343 \r\nL 899.242199 67.884729 \r\nL 899.315999 68.161737 \r\nL 899.389798 67.829327 \r\nL 899.463598 68.106335 \r\nL 899.611198 67.773926 \r\nL 899.684998 67.94013 \r\nL 899.758798 67.773926 \r\nL 899.832598 68.106335 \r\nL 899.906398 67.829327 \r\nL 899.980198 68.161737 \r\nL 900.053997 67.773926 \r\nL 900.127797 68.050934 \r\nL 900.275397 67.829327 \r\nL 900.718196 67.718524 \r\nL 900.791996 68.050934 \r\nL 900.865796 67.718524 \r\nL 900.939596 67.884729 \r\nL 901.013396 67.663123 \r\nL 901.087196 67.773926 \r\nL 901.160996 67.607721 \r\nL 901.234796 67.718524 \r\nL 901.308595 67.663123 \r\nL 901.677595 67.663123 \r\nL 901.751395 67.829327 \r\nL 901.825195 67.55232 \r\nL 901.898995 67.773926 \r\nL 901.972794 67.441517 \r\nL 902.046594 67.663123 \r\nL 902.120394 67.441517 \r\nL 902.194194 67.718524 \r\nL 902.267994 67.386115 \r\nL 902.341794 67.55232 \r\nL 902.563193 67.607721 \r\nL 902.636993 67.496918 \r\nL 902.710793 67.663123 \r\nL 902.784593 67.386115 \r\nL 902.858393 67.607721 \r\nL 902.932193 67.330713 \r\nL 903.005993 67.663123 \r\nL 903.079793 67.330713 \r\nL 903.153593 67.55232 \r\nL 903.301192 67.330713 \r\nL 903.374992 67.441517 \r\nL 903.448792 67.386115 \r\nL 903.522592 67.386115 \r\nL 903.596392 67.164509 \r\nL 903.670192 67.441517 \r\nL 903.743992 67.275312 \r\nL 903.817792 67.386115 \r\nL 903.891591 67.109107 \r\nL 903.965391 67.275312 \r\nL 904.039191 67.164509 \r\nL 904.112991 67.21991 \r\nL 904.85099 67.21991 \r\nL 904.92479 66.998304 \r\nL 904.99859 67.275312 \r\nL 905.07239 66.998304 \r\nL 905.146189 67.109107 \r\nL 905.293789 67.109107 \r\nL 905.810388 67.053706 \r\nL 905.884188 66.887501 \r\nL 905.957988 67.053706 \r\nL 906.031788 66.942903 \r\nL 906.105588 66.998304 \r\nL 906.253188 66.998304 \r\nL 906.474587 66.942903 \r\nL 906.622187 66.776698 \r\nL 906.695987 66.721296 \r\nL 906.991187 66.998304 \r\nL 907.138786 66.832099 \r\nL 907.212586 66.998304 \r\nL 907.433986 66.665895 \r\nL 907.507786 66.721296 \r\nL 907.581586 66.610493 \r\nL 907.655385 66.665895 \r\nL 907.950585 66.887501 \r\nL 908.024385 66.721296 \r\nL 908.098185 66.776698 \r\nL 908.393384 66.555092 \r\nL 908.467184 66.665895 \r\nL 908.540984 66.444289 \r\nL 908.614784 66.610493 \r\nL 908.688584 66.388887 \r\nL 908.762384 66.555092 \r\nL 908.909984 66.444289 \r\nL 909.131383 66.49969 \r\nL 909.205183 66.278084 \r\nL 909.278983 66.49969 \r\nL 909.352783 66.388887 \r\nL 909.426583 66.555092 \r\nL 909.500383 66.278084 \r\nL 909.574182 66.388887 \r\nL 910.016982 66.167281 \r\nL 910.164582 66.222682 \r\nL 910.238381 66.167281 \r\nL 910.385981 66.278084 \r\nL 910.607381 66.111879 \r\nL 910.681181 66.111879 \r\nL 910.754981 65.945675 \r\nL 910.82878 66.001076 \r\nL 911.788179 66.001076 \r\nL 911.935779 65.834872 \r\nL 913.928376 65.77947 \r\nL 914.002176 65.668667 \r\nL 914.075975 65.77947 \r\nL 914.149775 65.668667 \r\nL 914.223575 65.77947 \r\nL 914.297375 65.668667 \r\nL 914.371175 65.77947 \r\nL 914.444975 65.724068 \r\nL 914.518775 65.77947 \r\nL 914.740174 65.613265 \r\nL 914.813974 65.724068 \r\nL 915.035374 65.557864 \r\nL 915.182974 65.557864 \r\nL 915.551973 65.613265 \r\nL 915.625773 65.724068 \r\nL 915.847173 65.557864 \r\nL 916.142372 65.502462 \r\nL 916.216172 65.391659 \r\nL 916.289972 65.502462 \r\nL 916.363772 65.447061 \r\nL 916.585171 65.447061 \r\nL 916.658971 65.613265 \r\nL 916.732771 65.447061 \r\nL 916.880371 65.557864 \r\nL 917.175571 65.391659 \r\nL 917.32317 65.391659 \r\nL 917.47077 65.280856 \r\nL 917.54457 65.447061 \r\nL 917.61837 65.225455 \r\nL 917.69217 65.391659 \r\nL 917.76597 65.225455 \r\nL 917.839769 65.447061 \r\nL 917.913569 65.280856 \r\nL 917.987369 65.447061 \r\nL 918.061169 65.280856 \r\nL 918.134969 65.391659 \r\nL 918.134969 65.391659 \r\n\" style=\"fill:none;stroke:#1f77b4;stroke-linecap:square;stroke-width:1.5;\"/>\r\n   </g>\r\n   <g id=\"patch_9\">\r\n    <path d=\"M 530.763068 376.56 \r\nL 530.763068 50.4 \r\n\" style=\"fill:none;stroke:#000000;stroke-linecap:square;stroke-linejoin:miter;stroke-width:0.8;\"/>\r\n   </g>\r\n   <g id=\"patch_10\">\r\n    <path d=\"M 936.58125 376.56 \r\nL 936.58125 50.4 \r\n\" style=\"fill:none;stroke:#000000;stroke-linecap:square;stroke-linejoin:miter;stroke-width:0.8;\"/>\r\n   </g>\r\n   <g id=\"patch_11\">\r\n    <path d=\"M 530.763068 376.56 \r\nL 936.58125 376.56 \r\n\" style=\"fill:none;stroke:#000000;stroke-linecap:square;stroke-linejoin:miter;stroke-width:0.8;\"/>\r\n   </g>\r\n   <g id=\"patch_12\">\r\n    <path d=\"M 530.763068 50.4 \r\nL 936.58125 50.4 \r\n\" style=\"fill:none;stroke:#000000;stroke-linecap:square;stroke-linejoin:miter;stroke-width:0.8;\"/>\r\n   </g>\r\n   <g id=\"legend_2\">\r\n    <g id=\"patch_13\">\r\n     <path d=\"M 537.763068 73.078125 \r\nL 593.038068 73.078125 \r\nQ 595.038068 73.078125 595.038068 71.078125 \r\nL 595.038068 57.4 \r\nQ 595.038068 55.4 593.038068 55.4 \r\nL 537.763068 55.4 \r\nQ 535.763068 55.4 535.763068 57.4 \r\nL 535.763068 71.078125 \r\nQ 535.763068 73.078125 537.763068 73.078125 \r\nz\r\n\" style=\"fill:#ffffff;opacity:0.8;stroke:#cccccc;stroke-linejoin:miter;\"/>\r\n    </g>\r\n    <g id=\"line2d_33\">\r\n     <path d=\"M 539.763068 63.498437 \r\nL 559.763068 63.498437 \r\n\" style=\"fill:none;stroke:#1f77b4;stroke-linecap:square;stroke-width:1.5;\"/>\r\n    </g>\r\n    <g id=\"line2d_34\"/>\r\n    <g id=\"text_34\">\r\n     <!-- train -->\r\n     <g transform=\"translate(567.763068 66.998437)scale(0.1 -0.1)\">\r\n      <use xlink:href=\"#DejaVuSans-116\"/>\r\n      <use x=\"39.208984\" xlink:href=\"#DejaVuSans-114\"/>\r\n      <use x=\"80.322266\" xlink:href=\"#DejaVuSans-97\"/>\r\n      <use x=\"141.601562\" xlink:href=\"#DejaVuSans-105\"/>\r\n      <use x=\"169.384766\" xlink:href=\"#DejaVuSans-110\"/>\r\n     </g>\r\n    </g>\r\n   </g>\r\n  </g>\r\n  <g id=\"text_35\">\r\n   <!-- Loss and accuracy -->\r\n   <g transform=\"translate(420.447187 16.318125)scale(0.12 -0.12)\">\r\n    <defs>\r\n     <path d=\"M 9.8125 72.90625 \r\nL 19.671875 72.90625 \r\nL 19.671875 8.296875 \r\nL 55.171875 8.296875 \r\nL 55.171875 0 \r\nL 9.8125 0 \r\nz\r\n\" id=\"DejaVuSans-76\"/>\r\n     <path d=\"M 45.40625 46.390625 \r\nL 45.40625 75.984375 \r\nL 54.390625 75.984375 \r\nL 54.390625 0 \r\nL 45.40625 0 \r\nL 45.40625 8.203125 \r\nQ 42.578125 3.328125 38.25 0.953125 \r\nQ 33.9375 -1.421875 27.875 -1.421875 \r\nQ 17.96875 -1.421875 11.734375 6.484375 \r\nQ 5.515625 14.40625 5.515625 27.296875 \r\nQ 5.515625 40.1875 11.734375 48.09375 \r\nQ 17.96875 56 27.875 56 \r\nQ 33.9375 56 38.25 53.625 \r\nQ 42.578125 51.265625 45.40625 46.390625 \r\nz\r\nM 14.796875 27.296875 \r\nQ 14.796875 17.390625 18.875 11.75 \r\nQ 22.953125 6.109375 30.078125 6.109375 \r\nQ 37.203125 6.109375 41.296875 11.75 \r\nQ 45.40625 17.390625 45.40625 27.296875 \r\nQ 45.40625 37.203125 41.296875 42.84375 \r\nQ 37.203125 48.484375 30.078125 48.484375 \r\nQ 22.953125 48.484375 18.875 42.84375 \r\nQ 14.796875 37.203125 14.796875 27.296875 \r\nz\r\n\" id=\"DejaVuSans-100\"/>\r\n    </defs>\r\n    <use xlink:href=\"#DejaVuSans-76\"/>\r\n    <use x=\"53.962891\" xlink:href=\"#DejaVuSans-111\"/>\r\n    <use x=\"115.144531\" xlink:href=\"#DejaVuSans-115\"/>\r\n    <use x=\"167.244141\" xlink:href=\"#DejaVuSans-115\"/>\r\n    <use x=\"219.34375\" xlink:href=\"#DejaVuSans-32\"/>\r\n    <use x=\"251.130859\" xlink:href=\"#DejaVuSans-97\"/>\r\n    <use x=\"312.410156\" xlink:href=\"#DejaVuSans-110\"/>\r\n    <use x=\"375.789062\" xlink:href=\"#DejaVuSans-100\"/>\r\n    <use x=\"439.265625\" xlink:href=\"#DejaVuSans-32\"/>\r\n    <use x=\"471.052734\" xlink:href=\"#DejaVuSans-97\"/>\r\n    <use x=\"532.332031\" xlink:href=\"#DejaVuSans-99\"/>\r\n    <use x=\"587.3125\" xlink:href=\"#DejaVuSans-99\"/>\r\n    <use x=\"642.292969\" xlink:href=\"#DejaVuSans-117\"/>\r\n    <use x=\"705.671875\" xlink:href=\"#DejaVuSans-114\"/>\r\n    <use x=\"746.785156\" xlink:href=\"#DejaVuSans-97\"/>\r\n    <use x=\"808.064453\" xlink:href=\"#DejaVuSans-99\"/>\r\n    <use x=\"863.044922\" xlink:href=\"#DejaVuSans-121\"/>\r\n   </g>\r\n  </g>\r\n </g>\r\n <defs>\r\n  <clipPath id=\"paac30ea0f9\">\r\n   <rect height=\"326.16\" width=\"405.818182\" x=\"43.78125\" y=\"50.4\"/>\r\n  </clipPath>\r\n  <clipPath id=\"p54f717a2fb\">\r\n   <rect height=\"326.16\" width=\"405.818182\" x=\"530.763068\" y=\"50.4\"/>\r\n  </clipPath>\r\n </defs>\r\n</svg>\r\n",
      "image/png": "[encoded data removed]"
     },
     "metadata": {
      "needs_background": "light"
     }
    }
   ],
   "source": [
    "plot_loss_and_accuracy(losses, accs)"
   ]
  },
  {
   "cell_type": "code",
   "execution_count": 34,
   "metadata": {},
   "outputs": [
    {
     "output_type": "execute_result",
     "data": {
      "text/plain": [
       "0.9504555097965806"
      ]
     },
     "metadata": {},
     "execution_count": 34
    }
   ],
   "source": [
    "accs[-1]"
   ]
  },
  {
   "source": [
    "#### Salvando o modelo"
   ],
   "cell_type": "markdown",
   "metadata": {}
  },
  {
   "cell_type": "code",
   "execution_count": 35,
   "metadata": {},
   "outputs": [
    {
     "output_type": "stream",
     "name": "stderr",
     "text": [
      "C:\\Users\\fonta\\.conda\\envs\\machinelearning\\lib\\site-packages\\torch\\serialization.py:292: UserWarning: Couldn't retrieve source code for container of type moodClassifier. It won't be checked for correctness upon loading.\n  \"type \" + obj.__name__ + \". It won't be checked \"\nC:\\Users\\fonta\\.conda\\envs\\machinelearning\\lib\\site-packages\\torch\\serialization.py:292: UserWarning: Couldn't retrieve source code for container of type Sequential. It won't be checked for correctness upon loading.\n  \"type \" + obj.__name__ + \". It won't be checked \"\nC:\\Users\\fonta\\.conda\\envs\\machinelearning\\lib\\site-packages\\torch\\serialization.py:292: UserWarning: Couldn't retrieve source code for container of type Torch_Mean_Layer. It won't be checked for correctness upon loading.\n  \"type \" + obj.__name__ + \". It won't be checked \"\nC:\\Users\\fonta\\.conda\\envs\\machinelearning\\lib\\site-packages\\torch\\serialization.py:292: UserWarning: Couldn't retrieve source code for container of type Linear. It won't be checked for correctness upon loading.\n  \"type \" + obj.__name__ + \". It won't be checked \"\nC:\\Users\\fonta\\.conda\\envs\\machinelearning\\lib\\site-packages\\torch\\serialization.py:292: UserWarning: Couldn't retrieve source code for container of type ReLU. It won't be checked for correctness upon loading.\n  \"type \" + obj.__name__ + \". It won't be checked \"\nC:\\Users\\fonta\\.conda\\envs\\machinelearning\\lib\\site-packages\\torch\\serialization.py:292: UserWarning: Couldn't retrieve source code for container of type LogSoftmax. It won't be checked for correctness upon loading.\n  \"type \" + obj.__name__ + \". It won't be checked \"\n"
     ]
    }
   ],
   "source": [
    "torch.save(Model, cwd+\"/../../models/emotions_classifier.pth\")"
   ]
  },
  {
   "source": [
    "#### Salvando o dict"
   ],
   "cell_type": "markdown",
   "metadata": {}
  },
  {
   "cell_type": "code",
   "execution_count": 36,
   "metadata": {},
   "outputs": [],
   "source": [
    "torch.save(Model.state_dict(), cwd+\"/../../dicts/emotions_classifier_dict\")"
   ]
  },
  {
   "cell_type": "code",
   "execution_count": 37,
   "metadata": {},
   "outputs": [
    {
     "output_type": "execute_result",
     "data": {
      "text/plain": [
       "moodClassifier(\n",
       "  (embedding): Sequential(\n",
       "    (0): Torch_Mean_Layer()\n",
       "  )\n",
       "  (ann): Sequential(\n",
       "    (0): Linear(in_features=50, out_features=500, bias=True)\n",
       "    (1): ReLU(inplace=True)\n",
       "    (2): Linear(in_features=500, out_features=6, bias=True)\n",
       "  )\n",
       "  (soft): Sequential(\n",
       "    (0): LogSoftmax()\n",
       "  )\n",
       ")"
      ]
     },
     "metadata": {},
     "execution_count": 37
    }
   ],
   "source": [
    "model = torch.load(cwd+\"/../../models/emotions_classifier.pth\")\n",
    "model.eval()"
   ]
  },
  {
   "cell_type": "code",
   "execution_count": null,
   "metadata": {},
   "outputs": [],
   "source": []
  }
 ]
}