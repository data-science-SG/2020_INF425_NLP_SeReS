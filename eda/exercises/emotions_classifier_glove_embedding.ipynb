{
 "metadata": {
  "language_info": {
   "codemirror_mode": {
    "name": "ipython",
    "version": 3
   },
   "file_extension": ".py",
   "mimetype": "text/x-python",
   "name": "python",
   "nbconvert_exporter": "python",
   "pygments_lexer": "ipython3",
   "version": "3.7.9"
  },
  "orig_nbformat": 2,
  "kernelspec": {
   "name": "python379jvsc74a57bd087208729ed90ceac3456c3150dcf8f8574a040aaeff28d3df5566e1287b044ae",
   "display_name": "Python 3.7.9 64-bit ('machinelearning': conda)"
  }
 },
 "nbformat": 4,
 "nbformat_minor": 2,
 "cells": [
  {
   "cell_type": "code",
   "execution_count": 1,
   "metadata": {},
   "outputs": [],
   "source": [
    "# Import packages\n",
    "import os\n",
    "\n",
    "import pandas as pd\n",
    "import numpy as np\n",
    "\n",
    "import matplotlib.pyplot as plt\n",
    "import seaborn as sns\n",
    "\n",
    "import re\n",
    "import string\n",
    "\n",
    "import nltk\n",
    "from nltk.corpus import stopwords \n",
    "# from nltk.stem import PorterStemmer\n",
    "from nltk.tokenize import TweetTokenizer\n",
    "\n",
    "from gensim.models import KeyedVectors\n",
    "from gensim.test.utils import datapath, get_tmpfile\n",
    "from gensim.scripts.glove2word2vec import glove2word2vec\n",
    "\n",
    "import torch\n",
    "from torch import nn\n",
    "\n",
    "from sklearn.model_selection import train_test_split\n",
    "from sklearn.metrics import confusion_matrix, ConfusionMatrixDisplay\n"
   ]
  },
  {
   "cell_type": "code",
   "execution_count": 2,
   "metadata": {},
   "outputs": [
    {
     "output_type": "execute_result",
     "data": {
      "text/plain": [
       "True"
      ]
     },
     "metadata": {},
     "execution_count": 2
    }
   ],
   "source": [
    "CUDA_flag = torch.cuda.is_available() # a flag to check if CUDA is available for GPU use\n",
    "CUDA_flag"
   ]
  },
  {
   "cell_type": "code",
   "execution_count": 3,
   "metadata": {},
   "outputs": [
    {
     "output_type": "stream",
     "name": "stderr",
     "text": [
      "[nltk_data] Error loading punkt: <urlopen error [Errno 11001]\n",
      "[nltk_data]     getaddrinfo failed>\n",
      "[nltk_data] Error loading stopwords: <urlopen error [Errno 11001]\n",
      "[nltk_data]     getaddrinfo failed>\n"
     ]
    }
   ],
   "source": [
    "# Setup some variables\n",
    "tknzr = TweetTokenizer()\n",
    "# stemmer = PorterStemmer()\n",
    "nltk.download('punkt')\n",
    "nltk.download('stopwords')\n",
    "stopwords = nltk.corpus.stopwords.words(\"english\")"
   ]
  },
  {
   "source": [
    "----------------------------------------------------------------------"
   ],
   "cell_type": "markdown",
   "metadata": {}
  },
  {
   "source": [
    "## Declaring some functions"
   ],
   "cell_type": "markdown",
   "metadata": {}
  },
  {
   "cell_type": "code",
   "execution_count": 4,
   "metadata": {},
   "outputs": [],
   "source": [
    "# função de limpar texto\n",
    "def cleanText(words, stem=False):\n",
    "  \"\"\"\n",
    "    Esta função recebe um text e retorna o mesmo, já tratado com stopwords & punctuation\n",
    "  \"\"\"\n",
    "  newWords = list()\n",
    "  for word in words:\n",
    "    word = re.sub('http[s]?://(?:[a-zA-Z]|[0-9]|[$-_@.&+#]|[!*\\(\\),]|'\\\n",
    "                       '(?:%[0-9a-fA-F][0-9a-fA-F]))+','', word)\n",
    "    word = re.sub(\"(@[A-Za-z0-9_]+)\",\"\", word)\n",
    "    word = word.lower()\n",
    "    if len(word) > 0 and word not in string.punctuation and word not in stopwords and word != \"<br />\":\n",
    "      if stem:\n",
    "        word = stemmer.stem(word)\n",
    "        newWords.append(word)\n",
    "      else:\n",
    "        newWords.append(word)\n",
    "  return newWords"
   ]
  },
  {
   "cell_type": "code",
   "execution_count": 5,
   "metadata": {},
   "outputs": [],
   "source": [
    "# confusion matrix daora\n",
    "def plot_conf_mat(y_test, y_preds, norm=\"false\"):\n",
    "    fig, ax = plt.subplots(figsize=(3, 3))\n",
    "    ax = sns.heatmap(confusion_matrix(y_test, y_preds, normalize=norm),\n",
    "                    annot=True,\n",
    "                    cbar=False)\n",
    "    plt.xlabel(\"True label\")\n",
    "    plt.ylabel(\"Predicted label\")"
   ]
  },
  {
   "cell_type": "code",
   "execution_count": 6,
   "metadata": {},
   "outputs": [],
   "source": [
    "def plot_loss_and_accuracy(losses, accs):\n",
    "\n",
    "  fig, ax_tuple = plt.subplots(1, 2, figsize=(16,6))\n",
    "  fig.suptitle('Loss and accuracy')\n",
    "\n",
    "  for i, (y_label, y_values) in enumerate(zip(['BCE loss','Accuracy'],[losses, accs])):\n",
    "    ax_tuple[i].plot(range(len(y_values)),  y_values, label='train')\n",
    "    ax_tuple[i].set_xlabel('epochs')\n",
    "    ax_tuple[i].set_ylabel(y_label)\n",
    "    ax_tuple[i].legend()"
   ]
  },
  {
   "cell_type": "code",
   "execution_count": 7,
   "metadata": {},
   "outputs": [],
   "source": [
    "def label2Embedding(word):\n",
    "  ''' Recebe uma string (word) e devolve o embedding vector correspondente (se existir).\n",
    "  '''\n",
    "  if word in modelo.vocab:\n",
    "    embed = modelo.get_vector(word)\n",
    "    if embed is not None:\n",
    "      return embed"
   ]
  },
  {
   "source": [
    "-------------------------------------------------------------------------------"
   ],
   "cell_type": "markdown",
   "metadata": {}
  },
  {
   "source": [
    "### Importando o arquivo do GloVE de 50 dimensões e criando a variável *modelo* que será por onde iremos interagir com o *word embedding* já treinado"
   ],
   "cell_type": "markdown",
   "metadata": {}
  },
  {
   "cell_type": "code",
   "execution_count": 8,
   "metadata": {},
   "outputs": [
    {
     "output_type": "execute_result",
     "data": {
      "text/plain": [
       "'d:\\\\Dropbox\\\\GitHub\\\\2020_INF425_NLP_SeReS\\\\eda\\\\exercises'"
      ]
     },
     "metadata": {},
     "execution_count": 8
    }
   ],
   "source": [
    "cwd = os.getcwd()\n",
    "cwd"
   ]
  },
  {
   "cell_type": "code",
   "execution_count": 9,
   "metadata": {},
   "outputs": [],
   "source": [
    "num_dims = 50\n",
    "\n",
    "glove_file = datapath(cwd+'/../data/glove.6B.50d.txt')\n",
    "tmp_file   = get_tmpfile(cwd+\"/../data/glove.6B.50d_word2vec.txt\")\n",
    "_          = glove2word2vec(glove_file, tmp_file)\n",
    "\n",
    "filename_txt = cwd+\"/../data/glove.6B.50d_word2vec.txt\"\n",
    "modelo = KeyedVectors.load_word2vec_format(filename_txt)"
   ]
  },
  {
   "source": [
    "### Lendo o dataset"
   ],
   "cell_type": "markdown",
   "metadata": {}
  },
  {
   "cell_type": "code",
   "execution_count": 10,
   "metadata": {},
   "outputs": [
    {
     "output_type": "execute_result",
     "data": {
      "text/plain": [
       "   Sl no                                             Tweets     Search key  \\\n",
       "0      1   #1: @fe ed \"RT @MirayaDizon1: Time is ticking...  happy moments   \n",
       "1      2   #2: @蓮花 &はすか ed \"RT @ninjaryugo: ＃コナモンの日 だそうで...  happy moments   \n",
       "2      3   #3: @Ris ♡ ed \"Happy birthday to one smokin h...  happy moments   \n",
       "3      4   #4: @월월 [씍쯴사랑로봇] jwinnie is the best, cheer u...  happy moments   \n",
       "4      5   #5: @Madhurima wth u vc♥ ed \"Good morning dea...  happy moments   \n",
       "\n",
       "  Feeling  \n",
       "0   happy  \n",
       "1   happy  \n",
       "2   happy  \n",
       "3   happy  \n",
       "4   happy  "
      ],
      "text/html": "<div>\n<style scoped>\n    .dataframe tbody tr th:only-of-type {\n        vertical-align: middle;\n    }\n\n    .dataframe tbody tr th {\n        vertical-align: top;\n    }\n\n    .dataframe thead th {\n        text-align: right;\n    }\n</style>\n<table border=\"1\" class=\"dataframe\">\n  <thead>\n    <tr style=\"text-align: right;\">\n      <th></th>\n      <th>Sl no</th>\n      <th>Tweets</th>\n      <th>Search key</th>\n      <th>Feeling</th>\n    </tr>\n  </thead>\n  <tbody>\n    <tr>\n      <th>0</th>\n      <td>1</td>\n      <td>#1: @fe ed \"RT @MirayaDizon1: Time is ticking...</td>\n      <td>happy moments</td>\n      <td>happy</td>\n    </tr>\n    <tr>\n      <th>1</th>\n      <td>2</td>\n      <td>#2: @蓮花 &amp;はすか ed \"RT @ninjaryugo: ＃コナモンの日 だそうで...</td>\n      <td>happy moments</td>\n      <td>happy</td>\n    </tr>\n    <tr>\n      <th>2</th>\n      <td>3</td>\n      <td>#3: @Ris ♡ ed \"Happy birthday to one smokin h...</td>\n      <td>happy moments</td>\n      <td>happy</td>\n    </tr>\n    <tr>\n      <th>3</th>\n      <td>4</td>\n      <td>#4: @월월 [씍쯴사랑로봇] jwinnie is the best, cheer u...</td>\n      <td>happy moments</td>\n      <td>happy</td>\n    </tr>\n    <tr>\n      <th>4</th>\n      <td>5</td>\n      <td>#5: @Madhurima wth u vc♥ ed \"Good morning dea...</td>\n      <td>happy moments</td>\n      <td>happy</td>\n    </tr>\n  </tbody>\n</table>\n</div>"
     },
     "metadata": {},
     "execution_count": 10
    }
   ],
   "source": [
    "df = pd.read_csv(\"../data/data.csv\", encoding = \"utf-8\")\n",
    "df.head()"
   ]
  },
  {
   "source": [
    "### Copiando o dataset e fazendo transformações necessárias"
   ],
   "cell_type": "markdown",
   "metadata": {}
  },
  {
   "cell_type": "code",
   "execution_count": 11,
   "metadata": {},
   "outputs": [
    {
     "output_type": "execute_result",
     "data": {
      "text/plain": [
       "                                              Tweets Feeling\n",
       "0   #1: @fe ed \"RT @MirayaDizon1: Time is ticking...   happy\n",
       "1   #2: @蓮花 &はすか ed \"RT @ninjaryugo: ＃コナモンの日 だそうで...   happy\n",
       "2   #3: @Ris ♡ ed \"Happy birthday to one smokin h...   happy\n",
       "3   #4: @월월 [씍쯴사랑로봇] jwinnie is the best, cheer u...   happy\n",
       "4   #5: @Madhurima wth u vc♥ ed \"Good morning dea...   happy"
      ],
      "text/html": "<div>\n<style scoped>\n    .dataframe tbody tr th:only-of-type {\n        vertical-align: middle;\n    }\n\n    .dataframe tbody tr th {\n        vertical-align: top;\n    }\n\n    .dataframe thead th {\n        text-align: right;\n    }\n</style>\n<table border=\"1\" class=\"dataframe\">\n  <thead>\n    <tr style=\"text-align: right;\">\n      <th></th>\n      <th>Tweets</th>\n      <th>Feeling</th>\n    </tr>\n  </thead>\n  <tbody>\n    <tr>\n      <th>0</th>\n      <td>#1: @fe ed \"RT @MirayaDizon1: Time is ticking...</td>\n      <td>happy</td>\n    </tr>\n    <tr>\n      <th>1</th>\n      <td>#2: @蓮花 &amp;はすか ed \"RT @ninjaryugo: ＃コナモンの日 だそうで...</td>\n      <td>happy</td>\n    </tr>\n    <tr>\n      <th>2</th>\n      <td>#3: @Ris ♡ ed \"Happy birthday to one smokin h...</td>\n      <td>happy</td>\n    </tr>\n    <tr>\n      <th>3</th>\n      <td>#4: @월월 [씍쯴사랑로봇] jwinnie is the best, cheer u...</td>\n      <td>happy</td>\n    </tr>\n    <tr>\n      <th>4</th>\n      <td>#5: @Madhurima wth u vc♥ ed \"Good morning dea...</td>\n      <td>happy</td>\n    </tr>\n  </tbody>\n</table>\n</div>"
     },
     "metadata": {},
     "execution_count": 11
    }
   ],
   "source": [
    "dataset = df.copy()\n",
    "\n",
    "dataset = dataset.drop(columns=[\"Sl no\", \"Search key\"])\n",
    "dataset.head()"
   ]
  },
  {
   "cell_type": "code",
   "execution_count": 12,
   "metadata": {},
   "outputs": [
    {
     "output_type": "execute_result",
     "data": {
      "text/plain": [
       "happy       39.213337\n",
       "sad         28.441649\n",
       "angry       13.387242\n",
       "fear         8.615354\n",
       "disgust      6.359189\n",
       "surprise     3.983229\n",
       "Name: Feeling, dtype: float64"
      ]
     },
     "metadata": {},
     "execution_count": 12
    }
   ],
   "source": [
    "dataset['Feeling'].value_counts(normalize=True)*100"
   ]
  },
  {
   "cell_type": "code",
   "execution_count": 13,
   "metadata": {},
   "outputs": [],
   "source": [
    "# CONCATENAR COM O OUTRO DATASET"
   ]
  },
  {
   "source": [
    "### Criando uma categoria com o *pd.Categorical* para cada emoção na tabela de emoções, dessa forma, teremos algo do tipo: happy - 1 | angry - 2 | sad = 3\n",
    "\n",
    "Aplicando essas categorias na coluna *emotion_code*"
   ],
   "cell_type": "markdown",
   "metadata": {}
  },
  {
   "cell_type": "code",
   "execution_count": 14,
   "metadata": {},
   "outputs": [
    {
     "output_type": "stream",
     "name": "stdout",
     "text": [
      "<class 'pandas.core.frame.DataFrame'>\nRangeIndex: 10017 entries, 0 to 10016\nData columns (total 2 columns):\n #   Column   Non-Null Count  Dtype \n---  ------   --------------  ----- \n 0   Tweets   10017 non-null  object\n 1   Feeling  10017 non-null  object\ndtypes: object(2)\nmemory usage: 156.6+ KB\n"
     ]
    }
   ],
   "source": [
    "dataset.info()"
   ]
  },
  {
   "cell_type": "code",
   "execution_count": 15,
   "metadata": {},
   "outputs": [
    {
     "output_type": "execute_result",
     "data": {
      "text/plain": [
       "                                              Tweets Feeling  emotion_code\n",
       "0   #1: @fe ed \"RT @MirayaDizon1: Time is ticking...   happy             3\n",
       "1   #2: @蓮花 &はすか ed \"RT @ninjaryugo: ＃コナモンの日 だそうで...   happy             3\n",
       "2   #3: @Ris ♡ ed \"Happy birthday to one smokin h...   happy             3\n",
       "3   #4: @월월 [씍쯴사랑로봇] jwinnie is the best, cheer u...   happy             3\n",
       "4   #5: @Madhurima wth u vc♥ ed \"Good morning dea...   happy             3"
      ],
      "text/html": "<div>\n<style scoped>\n    .dataframe tbody tr th:only-of-type {\n        vertical-align: middle;\n    }\n\n    .dataframe tbody tr th {\n        vertical-align: top;\n    }\n\n    .dataframe thead th {\n        text-align: right;\n    }\n</style>\n<table border=\"1\" class=\"dataframe\">\n  <thead>\n    <tr style=\"text-align: right;\">\n      <th></th>\n      <th>Tweets</th>\n      <th>Feeling</th>\n      <th>emotion_code</th>\n    </tr>\n  </thead>\n  <tbody>\n    <tr>\n      <th>0</th>\n      <td>#1: @fe ed \"RT @MirayaDizon1: Time is ticking...</td>\n      <td>happy</td>\n      <td>3</td>\n    </tr>\n    <tr>\n      <th>1</th>\n      <td>#2: @蓮花 &amp;はすか ed \"RT @ninjaryugo: ＃コナモンの日 だそうで...</td>\n      <td>happy</td>\n      <td>3</td>\n    </tr>\n    <tr>\n      <th>2</th>\n      <td>#3: @Ris ♡ ed \"Happy birthday to one smokin h...</td>\n      <td>happy</td>\n      <td>3</td>\n    </tr>\n    <tr>\n      <th>3</th>\n      <td>#4: @월월 [씍쯴사랑로봇] jwinnie is the best, cheer u...</td>\n      <td>happy</td>\n      <td>3</td>\n    </tr>\n    <tr>\n      <th>4</th>\n      <td>#5: @Madhurima wth u vc♥ ed \"Good morning dea...</td>\n      <td>happy</td>\n      <td>3</td>\n    </tr>\n  </tbody>\n</table>\n</div>"
     },
     "metadata": {},
     "execution_count": 15
    }
   ],
   "source": [
    "dataset['Feeling'] = pd.Categorical(dataset['Feeling'])\n",
    "dataset['emotion_code'] = dataset['Feeling'].cat.codes\n",
    "dataset.head()"
   ]
  },
  {
   "cell_type": "code",
   "execution_count": 16,
   "metadata": {},
   "outputs": [
    {
     "output_type": "stream",
     "name": "stdout",
     "text": [
      "<class 'pandas.core.frame.DataFrame'>\nRangeIndex: 10017 entries, 0 to 10016\nData columns (total 3 columns):\n #   Column        Non-Null Count  Dtype   \n---  ------        --------------  -----   \n 0   Tweets        10017 non-null  object  \n 1   Feeling       10017 non-null  category\n 2   emotion_code  10017 non-null  int8    \ndtypes: category(1), int8(1), object(1)\nmemory usage: 98.2+ KB\n"
     ]
    }
   ],
   "source": [
    "dataset.info()"
   ]
  },
  {
   "cell_type": "code",
   "execution_count": 17,
   "metadata": {},
   "outputs": [
    {
     "output_type": "execute_result",
     "data": {
      "text/plain": [
       "Feeling   emotion_code\n",
       "angry     0               1341\n",
       "disgust   1                637\n",
       "fear      2                863\n",
       "happy     3               3928\n",
       "sad       4               2849\n",
       "surprise  5                399\n",
       "dtype: int64"
      ]
     },
     "metadata": {},
     "execution_count": 17
    }
   ],
   "source": [
    "dataset[['Feeling','emotion_code']].value_counts().sort_index()\n"
   ]
  },
  {
   "cell_type": "code",
   "execution_count": 18,
   "metadata": {},
   "outputs": [
    {
     "output_type": "execute_result",
     "data": {
      "text/plain": [
       "str"
      ]
     },
     "metadata": {},
     "execution_count": 18
    }
   ],
   "source": [
    "type(dataset['Tweets'][0])"
   ]
  },
  {
   "source": [
    "### Tokenizando os tweets com o *tknzr.tokenize*, e logo após, limpando os tokens com a função *cleanText*"
   ],
   "cell_type": "markdown",
   "metadata": {}
  },
  {
   "cell_type": "code",
   "execution_count": 19,
   "metadata": {},
   "outputs": [
    {
     "output_type": "execute_result",
     "data": {
      "text/plain": [
       "                                              Tweets Feeling  emotion_code  \\\n",
       "0   #1: @fe ed \"RT @MirayaDizon1: Time is ticking...   happy             3   \n",
       "1   #2: @蓮花 &はすか ed \"RT @ninjaryugo: ＃コナモンの日 だそうで...   happy             3   \n",
       "2   #3: @Ris ♡ ed \"Happy birthday to one smokin h...   happy             3   \n",
       "3   #4: @월월 [씍쯴사랑로봇] jwinnie is the best, cheer u...   happy             3   \n",
       "4   #5: @Madhurima wth u vc♥ ed \"Good morning dea...   happy             3   \n",
       "\n",
       "                                           CleanText  \n",
       "0  [1, ed, rt, time, ticking, fast, relive, past,...  \n",
       "1  [2, @蓮花, はすか, ed, rt, ＃, コナモンの日, だそうで, 、, コナモン...  \n",
       "2  [3, ♡, ed, happy, birthday, one, smokin, hot, ...  \n",
       "3  [4, @월월, 씍쯴사랑로봇, jwinnie, best, cheer, jwinnie...  \n",
       "4  [5, wth, u, vc, ♥, ed, good, morning, dear, ❤,...  "
      ],
      "text/html": "<div>\n<style scoped>\n    .dataframe tbody tr th:only-of-type {\n        vertical-align: middle;\n    }\n\n    .dataframe tbody tr th {\n        vertical-align: top;\n    }\n\n    .dataframe thead th {\n        text-align: right;\n    }\n</style>\n<table border=\"1\" class=\"dataframe\">\n  <thead>\n    <tr style=\"text-align: right;\">\n      <th></th>\n      <th>Tweets</th>\n      <th>Feeling</th>\n      <th>emotion_code</th>\n      <th>CleanText</th>\n    </tr>\n  </thead>\n  <tbody>\n    <tr>\n      <th>0</th>\n      <td>#1: @fe ed \"RT @MirayaDizon1: Time is ticking...</td>\n      <td>happy</td>\n      <td>3</td>\n      <td>[1, ed, rt, time, ticking, fast, relive, past,...</td>\n    </tr>\n    <tr>\n      <th>1</th>\n      <td>#2: @蓮花 &amp;はすか ed \"RT @ninjaryugo: ＃コナモンの日 だそうで...</td>\n      <td>happy</td>\n      <td>3</td>\n      <td>[2, @蓮花, はすか, ed, rt, ＃, コナモンの日, だそうで, 、, コナモン...</td>\n    </tr>\n    <tr>\n      <th>2</th>\n      <td>#3: @Ris ♡ ed \"Happy birthday to one smokin h...</td>\n      <td>happy</td>\n      <td>3</td>\n      <td>[3, ♡, ed, happy, birthday, one, smokin, hot, ...</td>\n    </tr>\n    <tr>\n      <th>3</th>\n      <td>#4: @월월 [씍쯴사랑로봇] jwinnie is the best, cheer u...</td>\n      <td>happy</td>\n      <td>3</td>\n      <td>[4, @월월, 씍쯴사랑로봇, jwinnie, best, cheer, jwinnie...</td>\n    </tr>\n    <tr>\n      <th>4</th>\n      <td>#5: @Madhurima wth u vc♥ ed \"Good morning dea...</td>\n      <td>happy</td>\n      <td>3</td>\n      <td>[5, wth, u, vc, ♥, ed, good, morning, dear, ❤,...</td>\n    </tr>\n  </tbody>\n</table>\n</div>"
     },
     "metadata": {},
     "execution_count": 19
    }
   ],
   "source": [
    "dataset[\"CleanText\"] = [tknzr.tokenize(sentence) for sentence in dataset[\"Tweets\"]]\n",
    "dataset[\"CleanText\"] = [cleanText(sentence) for sentence in dataset[\"CleanText\"]]\n",
    "dataset.head()"
   ]
  },
  {
   "cell_type": "code",
   "execution_count": 20,
   "metadata": {},
   "outputs": [],
   "source": [
    "# dataset['CleanText'][50]"
   ]
  },
  {
   "source": [
    "### Conversão dos textos em uma sequência de índices (correspondente ao token do texto)\n",
    "\n",
    "Limitar o tamanho máximo de um texto com ***max_len*** (truncar mensagem) e completar com <PAD> todos os textos que não cumprirem esse tamanho, para então termos variáveis do mesmo tamanho"
   ],
   "cell_type": "markdown",
   "metadata": {}
  },
  {
   "cell_type": "code",
   "execution_count": 21,
   "metadata": {
    "tags": []
   },
   "outputs": [],
   "source": [
    "max_len = 150        # comprimento máximo da mensagem (em número de palavras)\n",
    "encoded_docs = []    # inicializa a lista de documentos codificados\n",
    "\n",
    "for sentence in dataset['CleanText']: # para cada token\n",
    "  encoded_d = [label2Embedding(t) for t in sentence]\n",
    "  encoded_d = [vec.tolist() for vec in encoded_d if vec is not None]\n",
    "\n",
    "  # adiciona o padding, se necessário\n",
    "  padding_word_vecs = [np.zeros(num_dims).tolist()]*max(0, max_len-len(encoded_d)) \n",
    "  encoded_d = padding_word_vecs + encoded_d\n",
    "  \n",
    "  # trunca o documento e salva na lista de documentos codificados\n",
    "  encoded_docs.append(encoded_d[:max_len]) \n",
    "\n",
    "\n",
    "encoded_docs_arrays = [np.vstack(sentence) for sentence in encoded_docs]"
   ]
  },
  {
   "cell_type": "code",
   "execution_count": 22,
   "metadata": {},
   "outputs": [
    {
     "output_type": "execute_result",
     "data": {
      "text/plain": [
       "(list, numpy.ndarray, (150, 50))"
      ]
     },
     "metadata": {},
     "execution_count": 22
    }
   ],
   "source": [
    "type(encoded_docs_arrays), type(encoded_docs_arrays[0]), encoded_docs_arrays[0].shape"
   ]
  },
  {
   "source": [
    "### Agora os textos são os documentos codificados"
   ],
   "cell_type": "markdown",
   "metadata": {}
  },
  {
   "cell_type": "code",
   "execution_count": 23,
   "metadata": {},
   "outputs": [
    {
     "output_type": "execute_result",
     "data": {
      "text/plain": [
       "10012    [[0.0, 0.0, 0.0, 0.0, 0.0, 0.0, 0.0, 0.0, 0.0,...\n",
       "10013    [[0.0, 0.0, 0.0, 0.0, 0.0, 0.0, 0.0, 0.0, 0.0,...\n",
       "10014    [[0.0, 0.0, 0.0, 0.0, 0.0, 0.0, 0.0, 0.0, 0.0,...\n",
       "10015    [[0.0, 0.0, 0.0, 0.0, 0.0, 0.0, 0.0, 0.0, 0.0,...\n",
       "10016    [[0.0, 0.0, 0.0, 0.0, 0.0, 0.0, 0.0, 0.0, 0.0,...\n",
       "Name: X, dtype: object"
      ]
     },
     "metadata": {},
     "execution_count": 23
    }
   ],
   "source": [
    "dataset['X'] = pd.Series(encoded_docs_arrays)\n",
    "dataset['X'].tail() #.iloc[-1].shape"
   ]
  },
  {
   "source": [
    "### Verificando um exemplo de uma frase codificada"
   ],
   "cell_type": "markdown",
   "metadata": {}
  },
  {
   "cell_type": "code",
   "execution_count": 24,
   "metadata": {},
   "outputs": [
    {
     "output_type": "execute_result",
     "data": {
      "text/plain": [
       "((150, 50), dtype('float64'))"
      ]
     },
     "metadata": {},
     "execution_count": 24
    }
   ],
   "source": [
    "dataset['X'][0].shape, dataset['X'][0].dtype"
   ]
  },
  {
   "cell_type": "code",
   "execution_count": 25,
   "metadata": {
    "tags": []
   },
   "outputs": [
    {
     "output_type": "stream",
     "name": "stdout",
     "text": [
      " Mensagem codificada [[ 0.          0.          0.         ...  0.          0.\n   0.        ]\n [ 0.          0.          0.         ...  0.          0.\n   0.        ]\n [ 0.          0.          0.         ...  0.          0.\n   0.        ]\n ...\n [ 0.359       0.72350001  0.15195    ... -0.53805    -1.07599998\n   0.24003001]\n [ 0.067025   -0.010427    0.61778003 ... -0.42741001 -0.19243\n   0.42443001]\n [-0.29115999  1.17639995 -0.20423999 ... -0.58471     0.64288998\n   0.15782   ]] \n Comprimento: 150 Dimensões: 50\n"
     ]
    }
   ],
   "source": [
    "msg_codificada_ex = dataset['X'].iloc[7]\n",
    "print(f' Mensagem codificada {msg_codificada_ex} \\n Comprimento: {msg_codificada_ex.shape[0]} Dimensões: {msg_codificada_ex.shape[1]}')"
   ]
  },
  {
   "source": [
    "### Agora, usaremos apenas as mensagens codificadas (vetores de variáveis categóricas, coluna do DataFrame 'X') e as saídas rotuladas em  das emoções  (coluna 'y' do DataFrame). Também vamos converter os objetos para arrays do numpy."
   ],
   "cell_type": "markdown",
   "metadata": {}
  },
  {
   "cell_type": "code",
   "execution_count": 26,
   "metadata": {},
   "outputs": [
    {
     "output_type": "execute_result",
     "data": {
      "text/plain": [
       "((10017, 150, 50), (150, 50), (10017, 1), (1,))"
      ]
     },
     "metadata": {},
     "execution_count": 26
    }
   ],
   "source": [
    "X = np.dstack(dataset['X'].values).transpose(2,0,1)\n",
    "Y = dataset['emotion_code'].values.reshape(-1,1)\n",
    "X.shape, X[0].shape, Y.shape, Y[0].shape"
   ]
  },
  {
   "source": [
    "### Separando com train_test_split"
   ],
   "cell_type": "markdown",
   "metadata": {}
  },
  {
   "cell_type": "code",
   "execution_count": 27,
   "metadata": {},
   "outputs": [
    {
     "output_type": "execute_result",
     "data": {
      "text/plain": [
       "((8013, 150, 50), (2004, 150, 50))"
      ]
     },
     "metadata": {},
     "execution_count": 27
    }
   ],
   "source": [
    "train_size = 0.8    # percentual de exemplos para o treino\n",
    "\n",
    "X_train, X_test, Y_train, Y_test = train_test_split(X,Y,                       # dataset para ser dividido, entrada X e saída Y\n",
    "                                                    train_size=train_size,     # percentual resevado para o treinamento\n",
    "                                                    stratify=Y,                # estratificação para manter a distribuição dos rótulos igual entre treino e teste\n",
    "                                                    shuffle=True)              # embaralhar os exemplos aleatoriamente\n",
    "\n",
    "X_train.shape, X_test.shape"
   ]
  },
  {
   "source": [
    "### Criando o modelo classificador"
   ],
   "cell_type": "markdown",
   "metadata": {}
  },
  {
   "cell_type": "code",
   "execution_count": 28,
   "metadata": {},
   "outputs": [],
   "source": [
    "\n",
    "class Torch_Mean_Layer(nn.Module):\n",
    "  '''Camada personalizada: calcula a média do tensor dentrada sobre a dimensão 1 (colunas).\n",
    "     Retorna um vetor linha, onde cada elemento é a média dos elementos da coluna correspondente do tensor de entrada.\n",
    "  '''\n",
    "  def forward(self, x, dim=1):\n",
    "    # print(\"-----------------------\",x)\n",
    "    x = torch.mean(x, dim=dim, keepdims=True)\n",
    "    return x\n",
    "\n",
    "class moodClassifier(nn.Module):\n",
    "  '''Modelo classificador de emoções\n",
    "  '''\n",
    "\n",
    "  # ----------------------------------------------#\n",
    "  # Método construtor\n",
    "  def __init__(self, dim_embed, n_units): \n",
    "    super().__init__()  \n",
    "\n",
    "    embedding_seq = [] # \n",
    "    ann_seq       = [] # \n",
    "    soft_seq      = []\n",
    "\n",
    "    #---------------------------------------------------------------#\n",
    "    # Embedding step: sequência de operações para converter X --> h\n",
    "    embedding_seq.append(Torch_Mean_Layer())\n",
    "    #---------------------------------------------------------------#\n",
    "\n",
    "    #--------------------------------------------------------------------------#\n",
    "    # ANN: Rede Neural Artifical Tradicional, com regressão logística na saída\n",
    "    ann_seq.append(nn.Linear(dim_embed, n_units))\n",
    "    ann_seq.append(nn.ReLU(inplace=True))\n",
    "    ann_seq.append(nn.Linear(n_units, 6))\n",
    "    \n",
    "    #--------------------------------------------------------------------------#\n",
    "    # Softmax :)\n",
    "    soft_seq.append(nn.LogSoftmax(dim=1))\n",
    "\n",
    "    #--------------------------------------------------------------------------#\n",
    "\n",
    "    #--------------------------------------------------------------------------#\n",
    "    # \"merge\" de todas as camamadas em uma layer sequencial \n",
    "    # (uma sequência para cada etapa)\n",
    "    self.embedding = nn.Sequential(*embedding_seq)     # etapa de embedding \n",
    "    self.ann       = nn.Sequential(*ann_seq)           # etapa ANN\n",
    "    self.soft      = nn.Sequential(*soft_seq)\n",
    "    #--------------------------------------------------------------------------#\n",
    "\n",
    "\n",
    "  def forward(self, x): \n",
    "    '''Processamento realizado ao chamar y=modelo(x)\n",
    "    '''\n",
    "    x = self.embedding(x)  # aplica a etapa de embedding\n",
    "    x = self.ann(x)        # passa o embedding médio pelas camadas da ANN\n",
    "    x = x.view(-1,6)\n",
    "    x = self.soft(x)\n",
    "    return x  "
   ]
  },
  {
   "source": [
    "### Função que irá treinar "
   ],
   "cell_type": "markdown",
   "metadata": {}
  },
  {
   "cell_type": "code",
   "execution_count": 29,
   "metadata": {},
   "outputs": [],
   "source": [
    "def train_loop(model, data, max_epochs = 1000, print_iters = 5):\n",
    "  X_train, Y_train = data # desempacotamento de tupla\n",
    "\n",
    "  if CUDA_flag: # usar GPU?\n",
    "      X_train = X_train.cuda()\n",
    "      Y_train = Y_train.cuda()\n",
    "\n",
    "  losses = []\n",
    "  accs = []\n",
    "  for i in range(max_epochs): # para cada época\n",
    "\n",
    "      #-----------------------------------#\n",
    "      # INÍCIO DO WORKFLOW DO TREINAMENTO #\n",
    "      # \n",
    "      Y_pred = model.forward(X_train)         # apresente os dados de entrada para o modelo, e obtenha a previsão    \n",
    "      loss = criterion(Y_pred.view(-1, 6), Y_train.view(-1))       # calcule a perda (o custo, o erro)\n",
    "      optimizer.zero_grad()                   # inicialize os gradientes\n",
    "      loss.backward()                         # backpropagation sobre a perda atual (cálculo dos novos gradientes) \n",
    "      optimizer.step()                        # atualização dos parâmetros da rede utilizando a regra do otimizador escolhido\n",
    "      # FIM DO WORKFLOW DO TREINAMENTO    #\n",
    "      #-----------------------------------#\n",
    "\n",
    "      # ------ Bloco Opcional ------ #\n",
    "      # Salvando métricas\n",
    "      losses.append(loss)                     # salvando a perda atual\n",
    "      acc = calc_accuracy(Y_pred, Y_train)     # calcula a taxa de acerto atual\n",
    "      accs.append(acc)\n",
    "\n",
    "\n",
    "      # INSERIR UM ACOMPANHAMENTO DA ACC DO TESTE\n",
    "      \n",
    "      # Imprimindo resultados parciais\n",
    "      if i % print_iters ==0: # a cada 10 iterações\n",
    "        print(f'epoch: {i:2}  loss: {loss.item():10.8f}') \n",
    "      #-----------------------------------#\n",
    "\n",
    "  #----------------------------------------------------------------------------# \n",
    "  print('\\n# Finished training!')\n",
    "  print(f'# --> epoch: {i}  \\n# --> initial loss: {losses[0]:10.8f} ,  \\n# --> accuracy: {acc:2.8f} , \\n# --> final loss: {losses[-1]:10.8f}')\n",
    "  \n",
    "  # retornando resultados\n",
    "  return model, losses, accs\n",
    "\n",
    "# Redefinindo cálculo da taxa de acerto \n",
    "def calc_accuracy(y_pred, y_true):\n",
    "  ''' Helper function para calcular a taxa de acerto deste exemplo.\n",
    "  '''\n",
    "  y_pred = torch.argmax(y_pred, dim=1)\n",
    "  y_pred = y_pred.float()\n",
    "  y_true = torch.squeeze(y_true) # tentar rexplicar dps\n",
    "  y_pred = torch.squeeze(y_pred)\n",
    "  num_hits  = torch.sum(y_pred==y_true).cpu().numpy()\n",
    "  num_total =  float(y_true.numel())\n",
    "  acc=  num_hits/num_total\n",
    "  return acc"
   ]
  },
  {
   "source": [
    "### Treinando com o modelo\n",
    "\n",
    "Convertendo os dados para tensores, instanciar o modelo, definir a função custo e o otimizador"
   ],
   "cell_type": "markdown",
   "metadata": {}
  },
  {
   "cell_type": "code",
   "execution_count": 30,
   "metadata": {
    "tags": [
     "outputPrepend"
    ]
   },
   "outputs": [
    {
     "output_type": "stream",
     "name": "stdout",
     "text": [
      "885\n",
      "epoch: 4338  loss: 0.25961423\n",
      "epoch: 4339  loss: 0.25951225\n",
      "epoch: 4340  loss: 0.25940859\n",
      "epoch: 4341  loss: 0.25930783\n",
      "epoch: 4342  loss: 0.25921074\n",
      "epoch: 4343  loss: 0.25911772\n",
      "epoch: 4344  loss: 0.25902641\n",
      "epoch: 4345  loss: 0.25893685\n",
      "epoch: 4346  loss: 0.25885049\n",
      "epoch: 4347  loss: 0.25876740\n",
      "epoch: 4348  loss: 0.25868720\n",
      "epoch: 4349  loss: 0.25860614\n",
      "epoch: 4350  loss: 0.25852025\n",
      "epoch: 4351  loss: 0.25843000\n",
      "epoch: 4352  loss: 0.25833261\n",
      "epoch: 4353  loss: 0.25822979\n",
      "epoch: 4354  loss: 0.25812832\n",
      "epoch: 4355  loss: 0.25802913\n",
      "epoch: 4356  loss: 0.25793302\n",
      "epoch: 4357  loss: 0.25783935\n",
      "epoch: 4358  loss: 0.25774819\n",
      "epoch: 4359  loss: 0.25765765\n",
      "epoch: 4360  loss: 0.25756925\n",
      "epoch: 4361  loss: 0.25748298\n",
      "epoch: 4362  loss: 0.25739840\n",
      "epoch: 4363  loss: 0.25731799\n",
      "epoch: 4364  loss: 0.25724065\n",
      "epoch: 4365  loss: 0.25716001\n",
      "epoch: 4366  loss: 0.25707167\n",
      "epoch: 4367  loss: 0.25697607\n",
      "epoch: 4368  loss: 0.25687456\n",
      "epoch: 4369  loss: 0.25677162\n",
      "epoch: 4370  loss: 0.25667140\n",
      "epoch: 4371  loss: 0.25657445\n",
      "epoch: 4372  loss: 0.25648072\n",
      "epoch: 4373  loss: 0.25638911\n",
      "epoch: 4374  loss: 0.25629881\n",
      "epoch: 4375  loss: 0.25620985\n",
      "epoch: 4376  loss: 0.25612271\n",
      "epoch: 4377  loss: 0.25603792\n",
      "epoch: 4378  loss: 0.25595453\n",
      "epoch: 4379  loss: 0.25587574\n",
      "epoch: 4380  loss: 0.25579432\n",
      "epoch: 4381  loss: 0.25570929\n",
      "epoch: 4382  loss: 0.25562102\n",
      "epoch: 4383  loss: 0.25552717\n",
      "epoch: 4384  loss: 0.25543472\n",
      "epoch: 4385  loss: 0.25534001\n",
      "epoch: 4386  loss: 0.25524366\n",
      "epoch: 4387  loss: 0.25514698\n",
      "epoch: 4388  loss: 0.25505018\n",
      "epoch: 4389  loss: 0.25495374\n",
      "epoch: 4390  loss: 0.25486138\n",
      "epoch: 4391  loss: 0.25477588\n",
      "epoch: 4392  loss: 0.25469276\n",
      "epoch: 4393  loss: 0.25460982\n",
      "epoch: 4394  loss: 0.25452772\n",
      "epoch: 4395  loss: 0.25444150\n",
      "epoch: 4396  loss: 0.25434950\n",
      "epoch: 4397  loss: 0.25425610\n",
      "epoch: 4398  loss: 0.25415850\n",
      "epoch: 4399  loss: 0.25406086\n",
      "epoch: 4400  loss: 0.25396502\n",
      "epoch: 4401  loss: 0.25387245\n",
      "epoch: 4402  loss: 0.25378230\n",
      "epoch: 4403  loss: 0.25369194\n",
      "epoch: 4404  loss: 0.25360489\n",
      "epoch: 4405  loss: 0.25351951\n",
      "epoch: 4406  loss: 0.25343198\n",
      "epoch: 4407  loss: 0.25334397\n",
      "epoch: 4408  loss: 0.25325784\n",
      "epoch: 4409  loss: 0.25317147\n",
      "epoch: 4410  loss: 0.25308695\n",
      "epoch: 4411  loss: 0.25300243\n",
      "epoch: 4412  loss: 0.25292191\n",
      "epoch: 4413  loss: 0.25284025\n",
      "epoch: 4414  loss: 0.25275522\n",
      "epoch: 4415  loss: 0.25266287\n",
      "epoch: 4416  loss: 0.25256455\n",
      "epoch: 4417  loss: 0.25246441\n",
      "epoch: 4418  loss: 0.25236320\n",
      "epoch: 4419  loss: 0.25226766\n",
      "epoch: 4420  loss: 0.25217715\n",
      "epoch: 4421  loss: 0.25209215\n",
      "epoch: 4422  loss: 0.25201038\n",
      "epoch: 4423  loss: 0.25193143\n",
      "epoch: 4424  loss: 0.25185239\n",
      "epoch: 4425  loss: 0.25177437\n",
      "epoch: 4426  loss: 0.25168708\n",
      "epoch: 4427  loss: 0.25159475\n",
      "epoch: 4428  loss: 0.25150135\n",
      "epoch: 4429  loss: 0.25140634\n",
      "epoch: 4430  loss: 0.25130942\n",
      "epoch: 4431  loss: 0.25121418\n",
      "epoch: 4432  loss: 0.25112367\n",
      "epoch: 4433  loss: 0.25103319\n",
      "epoch: 4434  loss: 0.25094596\n",
      "epoch: 4435  loss: 0.25086215\n",
      "epoch: 4436  loss: 0.25077862\n",
      "epoch: 4437  loss: 0.25069463\n",
      "epoch: 4438  loss: 0.25061053\n",
      "epoch: 4439  loss: 0.25052482\n",
      "epoch: 4440  loss: 0.25043821\n",
      "epoch: 4441  loss: 0.25035241\n",
      "epoch: 4442  loss: 0.25026479\n",
      "epoch: 4443  loss: 0.25017464\n",
      "epoch: 4444  loss: 0.25008228\n",
      "epoch: 4445  loss: 0.24998857\n",
      "epoch: 4446  loss: 0.24989489\n",
      "epoch: 4447  loss: 0.24980195\n",
      "epoch: 4448  loss: 0.24971068\n",
      "epoch: 4449  loss: 0.24962194\n",
      "epoch: 4450  loss: 0.24953371\n",
      "epoch: 4451  loss: 0.24944670\n",
      "epoch: 4452  loss: 0.24936004\n",
      "epoch: 4453  loss: 0.24927486\n",
      "epoch: 4454  loss: 0.24919336\n",
      "epoch: 4455  loss: 0.24911813\n",
      "epoch: 4456  loss: 0.24904738\n",
      "epoch: 4457  loss: 0.24897708\n",
      "epoch: 4458  loss: 0.24890053\n",
      "epoch: 4459  loss: 0.24881378\n",
      "epoch: 4460  loss: 0.24871260\n",
      "epoch: 4461  loss: 0.24860923\n",
      "epoch: 4462  loss: 0.24850807\n",
      "epoch: 4463  loss: 0.24841554\n",
      "epoch: 4464  loss: 0.24833129\n",
      "epoch: 4465  loss: 0.24825118\n",
      "epoch: 4466  loss: 0.24816950\n",
      "epoch: 4467  loss: 0.24808805\n",
      "epoch: 4468  loss: 0.24800354\n",
      "epoch: 4469  loss: 0.24791306\n",
      "epoch: 4470  loss: 0.24782085\n",
      "epoch: 4471  loss: 0.24772868\n",
      "epoch: 4472  loss: 0.24763921\n",
      "epoch: 4473  loss: 0.24754904\n",
      "epoch: 4474  loss: 0.24745925\n",
      "epoch: 4475  loss: 0.24737300\n",
      "epoch: 4476  loss: 0.24729121\n",
      "epoch: 4477  loss: 0.24721172\n",
      "epoch: 4478  loss: 0.24713252\n",
      "epoch: 4479  loss: 0.24705343\n",
      "epoch: 4480  loss: 0.24696773\n",
      "epoch: 4481  loss: 0.24687797\n",
      "epoch: 4482  loss: 0.24678420\n",
      "epoch: 4483  loss: 0.24669135\n",
      "epoch: 4484  loss: 0.24660000\n",
      "epoch: 4485  loss: 0.24651088\n",
      "epoch: 4486  loss: 0.24642456\n",
      "epoch: 4487  loss: 0.24634105\n",
      "epoch: 4488  loss: 0.24625917\n",
      "epoch: 4489  loss: 0.24617542\n",
      "epoch: 4490  loss: 0.24608983\n",
      "epoch: 4491  loss: 0.24600321\n",
      "epoch: 4492  loss: 0.24591516\n",
      "epoch: 4493  loss: 0.24582566\n",
      "epoch: 4494  loss: 0.24573769\n",
      "epoch: 4495  loss: 0.24565063\n",
      "epoch: 4496  loss: 0.24556373\n",
      "epoch: 4497  loss: 0.24547772\n",
      "epoch: 4498  loss: 0.24539246\n",
      "epoch: 4499  loss: 0.24530666\n",
      "epoch: 4500  loss: 0.24522135\n",
      "epoch: 4501  loss: 0.24513748\n",
      "epoch: 4502  loss: 0.24505396\n",
      "epoch: 4503  loss: 0.24497065\n",
      "epoch: 4504  loss: 0.24489036\n",
      "epoch: 4505  loss: 0.24480858\n",
      "epoch: 4506  loss: 0.24472436\n",
      "epoch: 4507  loss: 0.24463844\n",
      "epoch: 4508  loss: 0.24455033\n",
      "epoch: 4509  loss: 0.24446280\n",
      "epoch: 4510  loss: 0.24438003\n",
      "epoch: 4511  loss: 0.24430381\n",
      "epoch: 4512  loss: 0.24423343\n",
      "epoch: 4513  loss: 0.24416173\n",
      "epoch: 4514  loss: 0.24408142\n",
      "epoch: 4515  loss: 0.24399000\n",
      "epoch: 4516  loss: 0.24389042\n",
      "epoch: 4517  loss: 0.24379037\n",
      "epoch: 4518  loss: 0.24369524\n",
      "epoch: 4519  loss: 0.24360725\n",
      "epoch: 4520  loss: 0.24352303\n",
      "epoch: 4521  loss: 0.24344088\n",
      "epoch: 4522  loss: 0.24335738\n",
      "epoch: 4523  loss: 0.24327083\n",
      "epoch: 4524  loss: 0.24318402\n",
      "epoch: 4525  loss: 0.24310069\n",
      "epoch: 4526  loss: 0.24301828\n",
      "epoch: 4527  loss: 0.24293880\n",
      "epoch: 4528  loss: 0.24285968\n",
      "epoch: 4529  loss: 0.24277805\n",
      "epoch: 4530  loss: 0.24269460\n",
      "epoch: 4531  loss: 0.24260737\n",
      "epoch: 4532  loss: 0.24252117\n",
      "epoch: 4533  loss: 0.24243534\n",
      "epoch: 4534  loss: 0.24234708\n",
      "epoch: 4535  loss: 0.24225837\n",
      "epoch: 4536  loss: 0.24216877\n",
      "epoch: 4537  loss: 0.24207863\n",
      "epoch: 4538  loss: 0.24198921\n",
      "epoch: 4539  loss: 0.24190271\n",
      "epoch: 4540  loss: 0.24181807\n",
      "epoch: 4541  loss: 0.24173580\n",
      "epoch: 4542  loss: 0.24165609\n",
      "epoch: 4543  loss: 0.24158125\n",
      "epoch: 4544  loss: 0.24151048\n",
      "epoch: 4545  loss: 0.24144024\n",
      "epoch: 4546  loss: 0.24136636\n",
      "epoch: 4547  loss: 0.24128139\n",
      "epoch: 4548  loss: 0.24118759\n",
      "epoch: 4549  loss: 0.24108964\n",
      "epoch: 4550  loss: 0.24099140\n",
      "epoch: 4551  loss: 0.24089655\n",
      "epoch: 4552  loss: 0.24080826\n",
      "epoch: 4553  loss: 0.24072360\n",
      "epoch: 4554  loss: 0.24064019\n",
      "epoch: 4555  loss: 0.24056058\n",
      "epoch: 4556  loss: 0.24048126\n",
      "epoch: 4557  loss: 0.24040075\n",
      "epoch: 4558  loss: 0.24032058\n",
      "epoch: 4559  loss: 0.24024098\n",
      "epoch: 4560  loss: 0.24016002\n",
      "epoch: 4561  loss: 0.24008106\n",
      "epoch: 4562  loss: 0.23999806\n",
      "epoch: 4563  loss: 0.23991306\n",
      "epoch: 4564  loss: 0.23982430\n",
      "epoch: 4565  loss: 0.23973490\n",
      "epoch: 4566  loss: 0.23964548\n",
      "epoch: 4567  loss: 0.23955728\n",
      "epoch: 4568  loss: 0.23947050\n",
      "epoch: 4569  loss: 0.23938569\n",
      "epoch: 4570  loss: 0.23930095\n",
      "epoch: 4571  loss: 0.23921742\n",
      "epoch: 4572  loss: 0.23913422\n",
      "epoch: 4573  loss: 0.23905231\n",
      "epoch: 4574  loss: 0.23896977\n",
      "epoch: 4575  loss: 0.23888658\n",
      "epoch: 4576  loss: 0.23880221\n",
      "epoch: 4577  loss: 0.23872039\n",
      "epoch: 4578  loss: 0.23863804\n",
      "epoch: 4579  loss: 0.23855975\n",
      "epoch: 4580  loss: 0.23848683\n",
      "epoch: 4581  loss: 0.23841850\n",
      "epoch: 4582  loss: 0.23834574\n",
      "epoch: 4583  loss: 0.23826656\n",
      "epoch: 4584  loss: 0.23817939\n",
      "epoch: 4585  loss: 0.23808217\n",
      "epoch: 4586  loss: 0.23798168\n",
      "epoch: 4587  loss: 0.23788616\n",
      "epoch: 4588  loss: 0.23779784\n",
      "epoch: 4589  loss: 0.23771469\n",
      "epoch: 4590  loss: 0.23763506\n",
      "epoch: 4591  loss: 0.23756093\n",
      "epoch: 4592  loss: 0.23748857\n",
      "epoch: 4593  loss: 0.23741771\n",
      "epoch: 4594  loss: 0.23734365\n",
      "epoch: 4595  loss: 0.23726106\n",
      "epoch: 4596  loss: 0.23717555\n",
      "epoch: 4597  loss: 0.23708716\n",
      "epoch: 4598  loss: 0.23699619\n",
      "epoch: 4599  loss: 0.23690465\n",
      "epoch: 4600  loss: 0.23681571\n",
      "epoch: 4601  loss: 0.23672885\n",
      "epoch: 4602  loss: 0.23664266\n",
      "epoch: 4603  loss: 0.23655975\n",
      "epoch: 4604  loss: 0.23647925\n",
      "epoch: 4605  loss: 0.23639899\n",
      "epoch: 4606  loss: 0.23632158\n",
      "epoch: 4607  loss: 0.23624772\n",
      "epoch: 4608  loss: 0.23617697\n",
      "epoch: 4609  loss: 0.23610742\n",
      "epoch: 4610  loss: 0.23603329\n",
      "epoch: 4611  loss: 0.23595417\n",
      "epoch: 4612  loss: 0.23586513\n",
      "epoch: 4613  loss: 0.23577124\n",
      "epoch: 4614  loss: 0.23567727\n",
      "epoch: 4615  loss: 0.23558538\n",
      "epoch: 4616  loss: 0.23549928\n",
      "epoch: 4617  loss: 0.23541656\n",
      "epoch: 4618  loss: 0.23533510\n",
      "epoch: 4619  loss: 0.23525886\n",
      "epoch: 4620  loss: 0.23518561\n",
      "epoch: 4621  loss: 0.23511423\n",
      "epoch: 4622  loss: 0.23504393\n",
      "epoch: 4623  loss: 0.23496918\n",
      "epoch: 4624  loss: 0.23488607\n",
      "epoch: 4625  loss: 0.23479854\n",
      "epoch: 4626  loss: 0.23470515\n",
      "epoch: 4627  loss: 0.23461249\n",
      "epoch: 4628  loss: 0.23452482\n",
      "epoch: 4629  loss: 0.23444006\n",
      "epoch: 4630  loss: 0.23435725\n",
      "epoch: 4631  loss: 0.23427923\n",
      "epoch: 4632  loss: 0.23420414\n",
      "epoch: 4633  loss: 0.23413113\n",
      "epoch: 4634  loss: 0.23405741\n",
      "epoch: 4635  loss: 0.23398376\n",
      "epoch: 4636  loss: 0.23390654\n",
      "epoch: 4637  loss: 0.23382276\n",
      "epoch: 4638  loss: 0.23373158\n",
      "epoch: 4639  loss: 0.23364106\n",
      "epoch: 4640  loss: 0.23355027\n",
      "epoch: 4641  loss: 0.23346132\n",
      "epoch: 4642  loss: 0.23337749\n",
      "epoch: 4643  loss: 0.23329464\n",
      "epoch: 4644  loss: 0.23321389\n",
      "epoch: 4645  loss: 0.23313460\n",
      "epoch: 4646  loss: 0.23305537\n",
      "epoch: 4647  loss: 0.23298028\n",
      "epoch: 4648  loss: 0.23290411\n",
      "epoch: 4649  loss: 0.23282972\n",
      "epoch: 4650  loss: 0.23275703\n",
      "epoch: 4651  loss: 0.23268047\n",
      "epoch: 4652  loss: 0.23259987\n",
      "epoch: 4653  loss: 0.23251696\n",
      "epoch: 4654  loss: 0.23243462\n",
      "epoch: 4655  loss: 0.23235014\n",
      "epoch: 4656  loss: 0.23226491\n",
      "epoch: 4657  loss: 0.23217835\n",
      "epoch: 4658  loss: 0.23209053\n",
      "epoch: 4659  loss: 0.23200648\n",
      "epoch: 4660  loss: 0.23192270\n",
      "epoch: 4661  loss: 0.23184116\n",
      "epoch: 4662  loss: 0.23176052\n",
      "epoch: 4663  loss: 0.23168015\n",
      "epoch: 4664  loss: 0.23160069\n",
      "epoch: 4665  loss: 0.23152286\n",
      "epoch: 4666  loss: 0.23144738\n",
      "epoch: 4667  loss: 0.23137572\n",
      "epoch: 4668  loss: 0.23130979\n",
      "epoch: 4669  loss: 0.23124595\n",
      "epoch: 4670  loss: 0.23117626\n",
      "epoch: 4671  loss: 0.23110057\n",
      "epoch: 4672  loss: 0.23100980\n",
      "epoch: 4673  loss: 0.23091216\n",
      "epoch: 4674  loss: 0.23081575\n",
      "epoch: 4675  loss: 0.23072411\n",
      "epoch: 4676  loss: 0.23063995\n",
      "epoch: 4677  loss: 0.23056312\n",
      "epoch: 4678  loss: 0.23049334\n",
      "epoch: 4679  loss: 0.23042847\n",
      "epoch: 4680  loss: 0.23036431\n",
      "epoch: 4681  loss: 0.23029050\n",
      "epoch: 4682  loss: 0.23020656\n",
      "epoch: 4683  loss: 0.23011138\n",
      "epoch: 4684  loss: 0.23001520\n",
      "epoch: 4685  loss: 0.22992544\n",
      "epoch: 4686  loss: 0.22984205\n",
      "epoch: 4687  loss: 0.22976404\n",
      "epoch: 4688  loss: 0.22968885\n",
      "epoch: 4689  loss: 0.22961719\n",
      "epoch: 4690  loss: 0.22954699\n",
      "epoch: 4691  loss: 0.22947408\n",
      "epoch: 4692  loss: 0.22939727\n",
      "epoch: 4693  loss: 0.22931747\n",
      "epoch: 4694  loss: 0.22923255\n",
      "epoch: 4695  loss: 0.22914888\n",
      "epoch: 4696  loss: 0.22906515\n",
      "epoch: 4697  loss: 0.22898264\n",
      "epoch: 4698  loss: 0.22890086\n",
      "epoch: 4699  loss: 0.22881958\n",
      "epoch: 4700  loss: 0.22873819\n",
      "epoch: 4701  loss: 0.22865881\n",
      "epoch: 4702  loss: 0.22858016\n",
      "epoch: 4703  loss: 0.22850268\n",
      "epoch: 4704  loss: 0.22843015\n",
      "epoch: 4705  loss: 0.22835906\n",
      "epoch: 4706  loss: 0.22829205\n",
      "epoch: 4707  loss: 0.22822604\n",
      "epoch: 4708  loss: 0.22815461\n",
      "epoch: 4709  loss: 0.22807284\n",
      "epoch: 4710  loss: 0.22798328\n",
      "epoch: 4711  loss: 0.22788648\n",
      "epoch: 4712  loss: 0.22779371\n",
      "epoch: 4713  loss: 0.22771111\n",
      "epoch: 4714  loss: 0.22763257\n",
      "epoch: 4715  loss: 0.22755826\n",
      "epoch: 4716  loss: 0.22748700\n",
      "epoch: 4717  loss: 0.22741891\n",
      "epoch: 4718  loss: 0.22734663\n",
      "epoch: 4719  loss: 0.22727306\n",
      "epoch: 4720  loss: 0.22719613\n",
      "epoch: 4721  loss: 0.22711463\n",
      "epoch: 4722  loss: 0.22702889\n",
      "epoch: 4723  loss: 0.22694203\n",
      "epoch: 4724  loss: 0.22685659\n",
      "epoch: 4725  loss: 0.22677240\n",
      "epoch: 4726  loss: 0.22669078\n",
      "epoch: 4727  loss: 0.22661236\n",
      "epoch: 4728  loss: 0.22653499\n",
      "epoch: 4729  loss: 0.22646193\n",
      "epoch: 4730  loss: 0.22639170\n",
      "epoch: 4731  loss: 0.22632058\n",
      "epoch: 4732  loss: 0.22624941\n",
      "epoch: 4733  loss: 0.22617416\n",
      "epoch: 4734  loss: 0.22609556\n",
      "epoch: 4735  loss: 0.22601280\n",
      "epoch: 4736  loss: 0.22592872\n",
      "epoch: 4737  loss: 0.22584404\n",
      "epoch: 4738  loss: 0.22576042\n",
      "epoch: 4739  loss: 0.22567751\n",
      "epoch: 4740  loss: 0.22559759\n",
      "epoch: 4741  loss: 0.22551800\n",
      "epoch: 4742  loss: 0.22543991\n",
      "epoch: 4743  loss: 0.22536235\n",
      "epoch: 4744  loss: 0.22528434\n",
      "epoch: 4745  loss: 0.22520719\n",
      "epoch: 4746  loss: 0.22513139\n",
      "epoch: 4747  loss: 0.22505806\n",
      "epoch: 4748  loss: 0.22498916\n",
      "epoch: 4749  loss: 0.22492845\n",
      "epoch: 4750  loss: 0.22487141\n",
      "epoch: 4751  loss: 0.22481094\n",
      "epoch: 4752  loss: 0.22473374\n",
      "epoch: 4753  loss: 0.22464113\n",
      "epoch: 4754  loss: 0.22454420\n",
      "epoch: 4755  loss: 0.22444959\n",
      "epoch: 4756  loss: 0.22436170\n",
      "epoch: 4757  loss: 0.22428557\n",
      "epoch: 4758  loss: 0.22421417\n",
      "epoch: 4759  loss: 0.22414875\n",
      "epoch: 4760  loss: 0.22408800\n",
      "epoch: 4761  loss: 0.22402163\n",
      "epoch: 4762  loss: 0.22394577\n",
      "epoch: 4763  loss: 0.22386205\n",
      "epoch: 4764  loss: 0.22377174\n",
      "epoch: 4765  loss: 0.22368151\n",
      "epoch: 4766  loss: 0.22359677\n",
      "epoch: 4767  loss: 0.22351816\n",
      "epoch: 4768  loss: 0.22344305\n",
      "epoch: 4769  loss: 0.22337116\n",
      "epoch: 4770  loss: 0.22329937\n",
      "epoch: 4771  loss: 0.22322637\n",
      "epoch: 4772  loss: 0.22315261\n",
      "epoch: 4773  loss: 0.22307879\n",
      "epoch: 4774  loss: 0.22300352\n",
      "epoch: 4775  loss: 0.22292684\n",
      "epoch: 4776  loss: 0.22284983\n",
      "epoch: 4777  loss: 0.22277081\n",
      "epoch: 4778  loss: 0.22269200\n",
      "epoch: 4779  loss: 0.22261195\n",
      "epoch: 4780  loss: 0.22253409\n",
      "epoch: 4781  loss: 0.22245562\n",
      "epoch: 4782  loss: 0.22237831\n",
      "epoch: 4783  loss: 0.22230358\n",
      "epoch: 4784  loss: 0.22222880\n",
      "epoch: 4785  loss: 0.22215529\n",
      "epoch: 4786  loss: 0.22208303\n",
      "epoch: 4787  loss: 0.22201195\n",
      "epoch: 4788  loss: 0.22194129\n",
      "epoch: 4789  loss: 0.22187260\n",
      "epoch: 4790  loss: 0.22179838\n",
      "epoch: 4791  loss: 0.22172183\n",
      "epoch: 4792  loss: 0.22164276\n",
      "epoch: 4793  loss: 0.22156103\n",
      "epoch: 4794  loss: 0.22147931\n",
      "epoch: 4795  loss: 0.22139859\n",
      "epoch: 4796  loss: 0.22132000\n",
      "epoch: 4797  loss: 0.22124340\n",
      "epoch: 4798  loss: 0.22116581\n",
      "epoch: 4799  loss: 0.22109054\n",
      "epoch: 4800  loss: 0.22101533\n",
      "epoch: 4801  loss: 0.22094172\n",
      "epoch: 4802  loss: 0.22086784\n",
      "epoch: 4803  loss: 0.22079548\n",
      "epoch: 4804  loss: 0.22072546\n",
      "epoch: 4805  loss: 0.22065717\n",
      "epoch: 4806  loss: 0.22059034\n",
      "epoch: 4807  loss: 0.22051866\n",
      "epoch: 4808  loss: 0.22044139\n",
      "epoch: 4809  loss: 0.22035901\n",
      "epoch: 4810  loss: 0.22027446\n",
      "epoch: 4811  loss: 0.22018830\n",
      "epoch: 4812  loss: 0.22010657\n",
      "epoch: 4813  loss: 0.22002941\n",
      "epoch: 4814  loss: 0.21995205\n",
      "epoch: 4815  loss: 0.21987872\n",
      "epoch: 4816  loss: 0.21980670\n",
      "epoch: 4817  loss: 0.21973638\n",
      "epoch: 4818  loss: 0.21966733\n",
      "epoch: 4819  loss: 0.21959570\n",
      "epoch: 4820  loss: 0.21952429\n",
      "epoch: 4821  loss: 0.21945299\n",
      "epoch: 4822  loss: 0.21937956\n",
      "epoch: 4823  loss: 0.21930763\n",
      "epoch: 4824  loss: 0.21923487\n",
      "epoch: 4825  loss: 0.21915771\n",
      "epoch: 4826  loss: 0.21907622\n",
      "epoch: 4827  loss: 0.21899299\n",
      "epoch: 4828  loss: 0.21890877\n",
      "epoch: 4829  loss: 0.21882848\n",
      "epoch: 4830  loss: 0.21875143\n",
      "epoch: 4831  loss: 0.21867530\n",
      "epoch: 4832  loss: 0.21860115\n",
      "epoch: 4833  loss: 0.21853173\n",
      "epoch: 4834  loss: 0.21846640\n",
      "epoch: 4835  loss: 0.21840377\n",
      "epoch: 4836  loss: 0.21834284\n",
      "epoch: 4837  loss: 0.21828049\n",
      "epoch: 4838  loss: 0.21820888\n",
      "epoch: 4839  loss: 0.21812655\n",
      "epoch: 4840  loss: 0.21803699\n",
      "epoch: 4841  loss: 0.21794568\n",
      "epoch: 4842  loss: 0.21786027\n",
      "epoch: 4843  loss: 0.21778180\n",
      "epoch: 4844  loss: 0.21770993\n",
      "epoch: 4845  loss: 0.21764225\n",
      "epoch: 4846  loss: 0.21757728\n",
      "epoch: 4847  loss: 0.21751367\n",
      "epoch: 4848  loss: 0.21744594\n",
      "epoch: 4849  loss: 0.21737212\n",
      "epoch: 4850  loss: 0.21729322\n",
      "epoch: 4851  loss: 0.21721175\n",
      "epoch: 4852  loss: 0.21712908\n",
      "epoch: 4853  loss: 0.21704990\n",
      "epoch: 4854  loss: 0.21697254\n",
      "epoch: 4855  loss: 0.21689908\n",
      "epoch: 4856  loss: 0.21682693\n",
      "epoch: 4857  loss: 0.21675552\n",
      "epoch: 4858  loss: 0.21668379\n",
      "epoch: 4859  loss: 0.21661109\n",
      "epoch: 4860  loss: 0.21653686\n",
      "epoch: 4861  loss: 0.21646410\n",
      "epoch: 4862  loss: 0.21639249\n",
      "epoch: 4863  loss: 0.21632195\n",
      "epoch: 4864  loss: 0.21625566\n",
      "epoch: 4865  loss: 0.21618702\n",
      "epoch: 4866  loss: 0.21611777\n",
      "epoch: 4867  loss: 0.21604219\n",
      "epoch: 4868  loss: 0.21596459\n",
      "epoch: 4869  loss: 0.21588114\n",
      "epoch: 4870  loss: 0.21579987\n",
      "epoch: 4871  loss: 0.21572010\n",
      "epoch: 4872  loss: 0.21564302\n",
      "epoch: 4873  loss: 0.21556902\n",
      "epoch: 4874  loss: 0.21549618\n",
      "epoch: 4875  loss: 0.21542448\n",
      "epoch: 4876  loss: 0.21535425\n",
      "epoch: 4877  loss: 0.21528427\n",
      "epoch: 4878  loss: 0.21521626\n",
      "epoch: 4879  loss: 0.21514571\n",
      "epoch: 4880  loss: 0.21507457\n",
      "epoch: 4881  loss: 0.21500255\n",
      "epoch: 4882  loss: 0.21492974\n",
      "epoch: 4883  loss: 0.21486001\n",
      "epoch: 4884  loss: 0.21479169\n",
      "epoch: 4885  loss: 0.21472698\n",
      "epoch: 4886  loss: 0.21465690\n",
      "epoch: 4887  loss: 0.21458051\n",
      "epoch: 4888  loss: 0.21449892\n",
      "epoch: 4889  loss: 0.21441433\n",
      "epoch: 4890  loss: 0.21433221\n",
      "epoch: 4891  loss: 0.21425527\n",
      "epoch: 4892  loss: 0.21418303\n",
      "epoch: 4893  loss: 0.21411316\n",
      "epoch: 4894  loss: 0.21404539\n",
      "epoch: 4895  loss: 0.21398059\n",
      "epoch: 4896  loss: 0.21391821\n",
      "epoch: 4897  loss: 0.21385394\n",
      "epoch: 4898  loss: 0.21378674\n",
      "epoch: 4899  loss: 0.21371518\n",
      "epoch: 4900  loss: 0.21363898\n",
      "epoch: 4901  loss: 0.21355557\n",
      "epoch: 4902  loss: 0.21347055\n",
      "epoch: 4903  loss: 0.21338949\n",
      "epoch: 4904  loss: 0.21331321\n",
      "epoch: 4905  loss: 0.21323834\n",
      "epoch: 4906  loss: 0.21316627\n",
      "epoch: 4907  loss: 0.21309520\n",
      "epoch: 4908  loss: 0.21302469\n",
      "epoch: 4909  loss: 0.21295519\n",
      "epoch: 4910  loss: 0.21288861\n",
      "epoch: 4911  loss: 0.21282348\n",
      "epoch: 4912  loss: 0.21276140\n",
      "epoch: 4913  loss: 0.21270178\n",
      "epoch: 4914  loss: 0.21263933\n",
      "epoch: 4915  loss: 0.21257174\n",
      "epoch: 4916  loss: 0.21249548\n",
      "epoch: 4917  loss: 0.21240924\n",
      "epoch: 4918  loss: 0.21231927\n",
      "epoch: 4919  loss: 0.21223709\n",
      "epoch: 4920  loss: 0.21216044\n",
      "epoch: 4921  loss: 0.21209073\n",
      "epoch: 4922  loss: 0.21202524\n",
      "epoch: 4923  loss: 0.21196245\n",
      "epoch: 4924  loss: 0.21190126\n",
      "epoch: 4925  loss: 0.21183592\n",
      "epoch: 4926  loss: 0.21176267\n",
      "epoch: 4927  loss: 0.21168381\n",
      "epoch: 4928  loss: 0.21160294\n",
      "epoch: 4929  loss: 0.21152234\n",
      "epoch: 4930  loss: 0.21144514\n",
      "epoch: 4931  loss: 0.21137226\n",
      "epoch: 4932  loss: 0.21130113\n",
      "epoch: 4933  loss: 0.21123086\n",
      "epoch: 4934  loss: 0.21116312\n",
      "epoch: 4935  loss: 0.21109569\n",
      "epoch: 4936  loss: 0.21103150\n",
      "epoch: 4937  loss: 0.21096927\n",
      "epoch: 4938  loss: 0.21090521\n",
      "epoch: 4939  loss: 0.21083987\n",
      "epoch: 4940  loss: 0.21076733\n",
      "epoch: 4941  loss: 0.21069109\n",
      "epoch: 4942  loss: 0.21061236\n",
      "epoch: 4943  loss: 0.21053346\n",
      "epoch: 4944  loss: 0.21045755\n",
      "epoch: 4945  loss: 0.21038184\n",
      "epoch: 4946  loss: 0.21031035\n",
      "epoch: 4947  loss: 0.21024047\n",
      "epoch: 4948  loss: 0.21017043\n",
      "epoch: 4949  loss: 0.21010068\n",
      "epoch: 4950  loss: 0.21003498\n",
      "epoch: 4951  loss: 0.20996855\n",
      "epoch: 4952  loss: 0.20990026\n",
      "epoch: 4953  loss: 0.20983386\n",
      "epoch: 4954  loss: 0.20976740\n",
      "epoch: 4955  loss: 0.20970276\n",
      "epoch: 4956  loss: 0.20963632\n",
      "epoch: 4957  loss: 0.20956580\n",
      "epoch: 4958  loss: 0.20949128\n",
      "epoch: 4959  loss: 0.20941269\n",
      "epoch: 4960  loss: 0.20933186\n",
      "epoch: 4961  loss: 0.20925328\n",
      "epoch: 4962  loss: 0.20917875\n",
      "epoch: 4963  loss: 0.20910850\n",
      "epoch: 4964  loss: 0.20903908\n",
      "epoch: 4965  loss: 0.20897062\n",
      "epoch: 4966  loss: 0.20890568\n",
      "epoch: 4967  loss: 0.20884199\n",
      "epoch: 4968  loss: 0.20877942\n",
      "epoch: 4969  loss: 0.20871845\n",
      "epoch: 4970  loss: 0.20865510\n",
      "epoch: 4971  loss: 0.20858982\n",
      "epoch: 4972  loss: 0.20852390\n",
      "epoch: 4973  loss: 0.20845425\n",
      "epoch: 4974  loss: 0.20838015\n",
      "epoch: 4975  loss: 0.20830142\n",
      "epoch: 4976  loss: 0.20822097\n",
      "epoch: 4977  loss: 0.20814312\n",
      "epoch: 4978  loss: 0.20806710\n",
      "epoch: 4979  loss: 0.20799534\n",
      "epoch: 4980  loss: 0.20793051\n",
      "epoch: 4981  loss: 0.20786937\n",
      "epoch: 4982  loss: 0.20780976\n",
      "epoch: 4983  loss: 0.20775047\n",
      "epoch: 4984  loss: 0.20768519\n",
      "epoch: 4985  loss: 0.20761101\n",
      "epoch: 4986  loss: 0.20753159\n",
      "epoch: 4987  loss: 0.20745069\n",
      "epoch: 4988  loss: 0.20737490\n",
      "epoch: 4989  loss: 0.20730267\n",
      "epoch: 4990  loss: 0.20723367\n",
      "epoch: 4991  loss: 0.20716551\n",
      "epoch: 4992  loss: 0.20709653\n",
      "epoch: 4993  loss: 0.20702860\n",
      "epoch: 4994  loss: 0.20696166\n",
      "epoch: 4995  loss: 0.20689563\n",
      "epoch: 4996  loss: 0.20682916\n",
      "epoch: 4997  loss: 0.20676486\n",
      "epoch: 4998  loss: 0.20670131\n",
      "epoch: 4999  loss: 0.20663561\n",
      "\n",
      "# Finished training!\n",
      "# --> epoch: 4999  \n",
      "# --> initial loss: 1.79941940 ,  \n",
      "# --> accuracy: 0.94571322 , \n",
      "# --> final loss: 0.20663561\n"
     ]
    }
   ],
   "source": [
    "data_train = (torch.FloatTensor(X_train), torch.LongTensor(Y_train))\n",
    "\n",
    "Model = moodClassifier(dim_embed=num_dims, n_units=500)\n",
    "if CUDA_flag:         # se houver GPUs disponíveis\n",
    "  Model.cuda()       # converte o modelo para CUDA\n",
    "\n",
    "print(Model)\n",
    "\n",
    "criterion = nn.NLLLoss() # cross entropy loss\n",
    "optimizer = torch.optim.Adam(Model.parameters(), lr = 0.001) \n",
    "\n",
    "Model, losses, accs = train_loop(Model, data_train, max_epochs=5000, print_iters=1) # note que o modelo é sobrescrito pela saída treinada"
   ]
  },
  {
   "cell_type": "code",
   "execution_count": 31,
   "metadata": {},
   "outputs": [],
   "source": [
    "# Rodando o Modelo treinado com o Dataset de Teste\n",
    "data_test = (torch.FloatTensor(X_test), torch.LongTensor(Y_test))\n",
    "X_test_tensor, Y_test_tensor = data_test\n",
    "\n",
    "if CUDA_flag: # usar GPU?\n",
    "      X_test_tensor = X_test_tensor.cuda()\n",
    "\n",
    "Y_pred_tensor = Model.forward(X_test_tensor) \n",
    "\n",
    "# hard-decision e pós-processamento da saída \n",
    "y_pred = torch.argmax(Y_pred_tensor, dim=1)\n",
    "y_pred = y_pred.float()\n",
    "y_true = torch.squeeze(Y_test_tensor) \n",
    "y_pred = torch.squeeze(y_pred)"
   ]
  },
  {
   "source": [
    "### Mostrando a *Confusion Matrix*"
   ],
   "cell_type": "markdown",
   "metadata": {}
  },
  {
   "cell_type": "code",
   "execution_count": 32,
   "metadata": {},
   "outputs": [
    {
     "output_type": "display_data",
     "data": {
      "text/plain": "<Figure size 792x792 with 2 Axes>",
      "image/svg+xml": "<?xml version=\"1.0\" encoding=\"utf-8\" standalone=\"no\"?>\r\n<!DOCTYPE svg PUBLIC \"-//W3C//DTD SVG 1.1//EN\"\r\n  \"http://www.w3.org/Graphics/SVG/1.1/DTD/svg11.dtd\">\r\n<!-- Created with matplotlib (https://matplotlib.org/) -->\r\n<svg height=\"618.238906pt\" version=\"1.1\" viewBox=\"0 0 646.688937 618.238906\" width=\"646.688937pt\" xmlns=\"http://www.w3.org/2000/svg\" xmlns:xlink=\"http://www.w3.org/1999/xlink\">\r\n <metadata>\r\n  <rdf:RDF xmlns:cc=\"http://creativecommons.org/ns#\" xmlns:dc=\"http://purl.org/dc/elements/1.1/\" xmlns:rdf=\"http://www.w3.org/1999/02/22-rdf-syntax-ns#\">\r\n   <cc:Work>\r\n    <dc:type rdf:resource=\"http://purl.org/dc/dcmitype/StillImage\"/>\r\n    <dc:date>2021-04-22T18:45:36.522203</dc:date>\r\n    <dc:format>image/svg+xml</dc:format>\r\n    <dc:creator>\r\n     <cc:Agent>\r\n      <dc:title>Matplotlib v3.3.2, https://matplotlib.org/</dc:title>\r\n     </cc:Agent>\r\n    </dc:creator>\r\n   </cc:Work>\r\n  </rdf:RDF>\r\n </metadata>\r\n <defs>\r\n  <style type=\"text/css\">*{stroke-linecap:butt;stroke-linejoin:round;}</style>\r\n </defs>\r\n <g id=\"figure_1\">\r\n  <g id=\"patch_1\">\r\n   <path d=\"M -0 618.238906 \r\nL 646.688937 618.238906 \r\nL 646.688937 0 \r\nL -0 0 \r\nz\r\n\" style=\"fill:none;\"/>\r\n  </g>\r\n  <g id=\"axes_1\">\r\n   <g id=\"patch_2\">\r\n    <path d=\"M 68.135938 551.7 \r\nL 559.175938 551.7 \r\nL 559.175938 60.66 \r\nL 68.135938 60.66 \r\nz\r\n\" style=\"fill:#ffffff;\"/>\r\n   </g>\r\n   <g clip-path=\"url(#p0fc60fad63)\">\r\n    <image height=\"492\" id=\"image2b4c442562\" transform=\"scale(1 -1)translate(0 -492)\" width=\"492\" x=\"68.135938\" xlink:href=\"data:image/png;base64,\r\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\" y=\"-59.7\"/>\r\n   </g>\r\n   <g id=\"matplotlib.axis_1\">\r\n    <g id=\"xtick_1\">\r\n     <g id=\"line2d_1\">\r\n      <defs>\r\n       <path d=\"M 0 0 \r\nL 0 3.5 \r\n\" id=\"m970624c7dc\" style=\"stroke:#000000;stroke-width:0.8;\"/>\r\n      </defs>\r\n      <g>\r\n       <use style=\"stroke:#000000;stroke-width:0.8;\" x=\"109.055938\" xlink:href=\"#m970624c7dc\" y=\"551.7\"/>\r\n      </g>\r\n     </g>\r\n     <g id=\"text_1\">\r\n      <!-- angry -->\r\n      <g transform=\"translate(94.634063 566.298437)scale(0.1 -0.1)\">\r\n       <defs>\r\n        <path d=\"M 34.28125 27.484375 \r\nQ 23.390625 27.484375 19.1875 25 \r\nQ 14.984375 22.515625 14.984375 16.5 \r\nQ 14.984375 11.71875 18.140625 8.90625 \r\nQ 21.296875 6.109375 26.703125 6.109375 \r\nQ 34.1875 6.109375 38.703125 11.40625 \r\nQ 43.21875 16.703125 43.21875 25.484375 \r\nL 43.21875 27.484375 \r\nz\r\nM 52.203125 31.203125 \r\nL 52.203125 0 \r\nL 43.21875 0 \r\nL 43.21875 8.296875 \r\nQ 40.140625 3.328125 35.546875 0.953125 \r\nQ 30.953125 -1.421875 24.3125 -1.421875 \r\nQ 15.921875 -1.421875 10.953125 3.296875 \r\nQ 6 8.015625 6 15.921875 \r\nQ 6 25.140625 12.171875 29.828125 \r\nQ 18.359375 34.515625 30.609375 34.515625 \r\nL 43.21875 34.515625 \r\nL 43.21875 35.40625 \r\nQ 43.21875 41.609375 39.140625 45 \r\nQ 35.0625 48.390625 27.6875 48.390625 \r\nQ 23 48.390625 18.546875 47.265625 \r\nQ 14.109375 46.140625 10.015625 43.890625 \r\nL 10.015625 52.203125 \r\nQ 14.9375 54.109375 19.578125 55.046875 \r\nQ 24.21875 56 28.609375 56 \r\nQ 40.484375 56 46.34375 49.84375 \r\nQ 52.203125 43.703125 52.203125 31.203125 \r\nz\r\n\" id=\"DejaVuSans-97\"/>\r\n        <path d=\"M 54.890625 33.015625 \r\nL 54.890625 0 \r\nL 45.90625 0 \r\nL 45.90625 32.71875 \r\nQ 45.90625 40.484375 42.875 44.328125 \r\nQ 39.84375 48.1875 33.796875 48.1875 \r\nQ 26.515625 48.1875 22.3125 43.546875 \r\nQ 18.109375 38.921875 18.109375 30.90625 \r\nL 18.109375 0 \r\nL 9.078125 0 \r\nL 9.078125 54.6875 \r\nL 18.109375 54.6875 \r\nL 18.109375 46.1875 \r\nQ 21.34375 51.125 25.703125 53.5625 \r\nQ 30.078125 56 35.796875 56 \r\nQ 45.21875 56 50.046875 50.171875 \r\nQ 54.890625 44.34375 54.890625 33.015625 \r\nz\r\n\" id=\"DejaVuSans-110\"/>\r\n        <path d=\"M 45.40625 27.984375 \r\nQ 45.40625 37.75 41.375 43.109375 \r\nQ 37.359375 48.484375 30.078125 48.484375 \r\nQ 22.859375 48.484375 18.828125 43.109375 \r\nQ 14.796875 37.75 14.796875 27.984375 \r\nQ 14.796875 18.265625 18.828125 12.890625 \r\nQ 22.859375 7.515625 30.078125 7.515625 \r\nQ 37.359375 7.515625 41.375 12.890625 \r\nQ 45.40625 18.265625 45.40625 27.984375 \r\nz\r\nM 54.390625 6.78125 \r\nQ 54.390625 -7.171875 48.1875 -13.984375 \r\nQ 42 -20.796875 29.203125 -20.796875 \r\nQ 24.46875 -20.796875 20.265625 -20.09375 \r\nQ 16.0625 -19.390625 12.109375 -17.921875 \r\nL 12.109375 -9.1875 \r\nQ 16.0625 -11.328125 19.921875 -12.34375 \r\nQ 23.78125 -13.375 27.78125 -13.375 \r\nQ 36.625 -13.375 41.015625 -8.765625 \r\nQ 45.40625 -4.15625 45.40625 5.171875 \r\nL 45.40625 9.625 \r\nQ 42.625 4.78125 38.28125 2.390625 \r\nQ 33.9375 0 27.875 0 \r\nQ 17.828125 0 11.671875 7.65625 \r\nQ 5.515625 15.328125 5.515625 27.984375 \r\nQ 5.515625 40.671875 11.671875 48.328125 \r\nQ 17.828125 56 27.875 56 \r\nQ 33.9375 56 38.28125 53.609375 \r\nQ 42.625 51.21875 45.40625 46.390625 \r\nL 45.40625 54.6875 \r\nL 54.390625 54.6875 \r\nz\r\n\" id=\"DejaVuSans-103\"/>\r\n        <path d=\"M 41.109375 46.296875 \r\nQ 39.59375 47.171875 37.8125 47.578125 \r\nQ 36.03125 48 33.890625 48 \r\nQ 26.265625 48 22.1875 43.046875 \r\nQ 18.109375 38.09375 18.109375 28.8125 \r\nL 18.109375 0 \r\nL 9.078125 0 \r\nL 9.078125 54.6875 \r\nL 18.109375 54.6875 \r\nL 18.109375 46.1875 \r\nQ 20.953125 51.171875 25.484375 53.578125 \r\nQ 30.03125 56 36.53125 56 \r\nQ 37.453125 56 38.578125 55.875 \r\nQ 39.703125 55.765625 41.0625 55.515625 \r\nz\r\n\" id=\"DejaVuSans-114\"/>\r\n        <path d=\"M 32.171875 -5.078125 \r\nQ 28.375 -14.84375 24.75 -17.8125 \r\nQ 21.140625 -20.796875 15.09375 -20.796875 \r\nL 7.90625 -20.796875 \r\nL 7.90625 -13.28125 \r\nL 13.1875 -13.28125 \r\nQ 16.890625 -13.28125 18.9375 -11.515625 \r\nQ 21 -9.765625 23.484375 -3.21875 \r\nL 25.09375 0.875 \r\nL 2.984375 54.6875 \r\nL 12.5 54.6875 \r\nL 29.59375 11.921875 \r\nL 46.6875 54.6875 \r\nL 56.203125 54.6875 \r\nz\r\n\" id=\"DejaVuSans-121\"/>\r\n       </defs>\r\n       <use xlink:href=\"#DejaVuSans-97\"/>\r\n       <use x=\"61.279297\" xlink:href=\"#DejaVuSans-110\"/>\r\n       <use x=\"124.658203\" xlink:href=\"#DejaVuSans-103\"/>\r\n       <use x=\"188.134766\" xlink:href=\"#DejaVuSans-114\"/>\r\n       <use x=\"229.248047\" xlink:href=\"#DejaVuSans-121\"/>\r\n      </g>\r\n     </g>\r\n    </g>\r\n    <g id=\"xtick_2\">\r\n     <g id=\"line2d_2\">\r\n      <g>\r\n       <use style=\"stroke:#000000;stroke-width:0.8;\" x=\"190.895938\" xlink:href=\"#m970624c7dc\" y=\"551.7\"/>\r\n      </g>\r\n     </g>\r\n     <g id=\"text_2\">\r\n      <!-- disgust -->\r\n      <g transform=\"translate(172.820156 566.298437)scale(0.1 -0.1)\">\r\n       <defs>\r\n        <path d=\"M 45.40625 46.390625 \r\nL 45.40625 75.984375 \r\nL 54.390625 75.984375 \r\nL 54.390625 0 \r\nL 45.40625 0 \r\nL 45.40625 8.203125 \r\nQ 42.578125 3.328125 38.25 0.953125 \r\nQ 33.9375 -1.421875 27.875 -1.421875 \r\nQ 17.96875 -1.421875 11.734375 6.484375 \r\nQ 5.515625 14.40625 5.515625 27.296875 \r\nQ 5.515625 40.1875 11.734375 48.09375 \r\nQ 17.96875 56 27.875 56 \r\nQ 33.9375 56 38.25 53.625 \r\nQ 42.578125 51.265625 45.40625 46.390625 \r\nz\r\nM 14.796875 27.296875 \r\nQ 14.796875 17.390625 18.875 11.75 \r\nQ 22.953125 6.109375 30.078125 6.109375 \r\nQ 37.203125 6.109375 41.296875 11.75 \r\nQ 45.40625 17.390625 45.40625 27.296875 \r\nQ 45.40625 37.203125 41.296875 42.84375 \r\nQ 37.203125 48.484375 30.078125 48.484375 \r\nQ 22.953125 48.484375 18.875 42.84375 \r\nQ 14.796875 37.203125 14.796875 27.296875 \r\nz\r\n\" id=\"DejaVuSans-100\"/>\r\n        <path d=\"M 9.421875 54.6875 \r\nL 18.40625 54.6875 \r\nL 18.40625 0 \r\nL 9.421875 0 \r\nz\r\nM 9.421875 75.984375 \r\nL 18.40625 75.984375 \r\nL 18.40625 64.59375 \r\nL 9.421875 64.59375 \r\nz\r\n\" id=\"DejaVuSans-105\"/>\r\n        <path d=\"M 44.28125 53.078125 \r\nL 44.28125 44.578125 \r\nQ 40.484375 46.53125 36.375 47.5 \r\nQ 32.28125 48.484375 27.875 48.484375 \r\nQ 21.1875 48.484375 17.84375 46.4375 \r\nQ 14.5 44.390625 14.5 40.28125 \r\nQ 14.5 37.15625 16.890625 35.375 \r\nQ 19.28125 33.59375 26.515625 31.984375 \r\nL 29.59375 31.296875 \r\nQ 39.15625 29.25 43.1875 25.515625 \r\nQ 47.21875 21.78125 47.21875 15.09375 \r\nQ 47.21875 7.46875 41.1875 3.015625 \r\nQ 35.15625 -1.421875 24.609375 -1.421875 \r\nQ 20.21875 -1.421875 15.453125 -0.5625 \r\nQ 10.6875 0.296875 5.421875 2 \r\nL 5.421875 11.28125 \r\nQ 10.40625 8.6875 15.234375 7.390625 \r\nQ 20.0625 6.109375 24.8125 6.109375 \r\nQ 31.15625 6.109375 34.5625 8.28125 \r\nQ 37.984375 10.453125 37.984375 14.40625 \r\nQ 37.984375 18.0625 35.515625 20.015625 \r\nQ 33.0625 21.96875 24.703125 23.78125 \r\nL 21.578125 24.515625 \r\nQ 13.234375 26.265625 9.515625 29.90625 \r\nQ 5.8125 33.546875 5.8125 39.890625 \r\nQ 5.8125 47.609375 11.28125 51.796875 \r\nQ 16.75 56 26.8125 56 \r\nQ 31.78125 56 36.171875 55.265625 \r\nQ 40.578125 54.546875 44.28125 53.078125 \r\nz\r\n\" id=\"DejaVuSans-115\"/>\r\n        <path d=\"M 8.5 21.578125 \r\nL 8.5 54.6875 \r\nL 17.484375 54.6875 \r\nL 17.484375 21.921875 \r\nQ 17.484375 14.15625 20.5 10.265625 \r\nQ 23.53125 6.390625 29.59375 6.390625 \r\nQ 36.859375 6.390625 41.078125 11.03125 \r\nQ 45.3125 15.671875 45.3125 23.6875 \r\nL 45.3125 54.6875 \r\nL 54.296875 54.6875 \r\nL 54.296875 0 \r\nL 45.3125 0 \r\nL 45.3125 8.40625 \r\nQ 42.046875 3.421875 37.71875 1 \r\nQ 33.40625 -1.421875 27.6875 -1.421875 \r\nQ 18.265625 -1.421875 13.375 4.4375 \r\nQ 8.5 10.296875 8.5 21.578125 \r\nz\r\nM 31.109375 56 \r\nz\r\n\" id=\"DejaVuSans-117\"/>\r\n        <path d=\"M 18.3125 70.21875 \r\nL 18.3125 54.6875 \r\nL 36.8125 54.6875 \r\nL 36.8125 47.703125 \r\nL 18.3125 47.703125 \r\nL 18.3125 18.015625 \r\nQ 18.3125 11.328125 20.140625 9.421875 \r\nQ 21.96875 7.515625 27.59375 7.515625 \r\nL 36.8125 7.515625 \r\nL 36.8125 0 \r\nL 27.59375 0 \r\nQ 17.1875 0 13.234375 3.875 \r\nQ 9.28125 7.765625 9.28125 18.015625 \r\nL 9.28125 47.703125 \r\nL 2.6875 47.703125 \r\nL 2.6875 54.6875 \r\nL 9.28125 54.6875 \r\nL 9.28125 70.21875 \r\nz\r\n\" id=\"DejaVuSans-116\"/>\r\n       </defs>\r\n       <use xlink:href=\"#DejaVuSans-100\"/>\r\n       <use x=\"63.476562\" xlink:href=\"#DejaVuSans-105\"/>\r\n       <use x=\"91.259766\" xlink:href=\"#DejaVuSans-115\"/>\r\n       <use x=\"143.359375\" xlink:href=\"#DejaVuSans-103\"/>\r\n       <use x=\"206.835938\" xlink:href=\"#DejaVuSans-117\"/>\r\n       <use x=\"270.214844\" xlink:href=\"#DejaVuSans-115\"/>\r\n       <use x=\"322.314453\" xlink:href=\"#DejaVuSans-116\"/>\r\n      </g>\r\n     </g>\r\n    </g>\r\n    <g id=\"xtick_3\">\r\n     <g id=\"line2d_3\">\r\n      <g>\r\n       <use style=\"stroke:#000000;stroke-width:0.8;\" x=\"272.735938\" xlink:href=\"#m970624c7dc\" y=\"551.7\"/>\r\n      </g>\r\n     </g>\r\n     <g id=\"text_3\">\r\n      <!-- fear -->\r\n      <g transform=\"translate(262.779688 566.298437)scale(0.1 -0.1)\">\r\n       <defs>\r\n        <path d=\"M 37.109375 75.984375 \r\nL 37.109375 68.5 \r\nL 28.515625 68.5 \r\nQ 23.6875 68.5 21.796875 66.546875 \r\nQ 19.921875 64.59375 19.921875 59.515625 \r\nL 19.921875 54.6875 \r\nL 34.71875 54.6875 \r\nL 34.71875 47.703125 \r\nL 19.921875 47.703125 \r\nL 19.921875 0 \r\nL 10.890625 0 \r\nL 10.890625 47.703125 \r\nL 2.296875 47.703125 \r\nL 2.296875 54.6875 \r\nL 10.890625 54.6875 \r\nL 10.890625 58.5 \r\nQ 10.890625 67.625 15.140625 71.796875 \r\nQ 19.390625 75.984375 28.609375 75.984375 \r\nz\r\n\" id=\"DejaVuSans-102\"/>\r\n        <path d=\"M 56.203125 29.59375 \r\nL 56.203125 25.203125 \r\nL 14.890625 25.203125 \r\nQ 15.484375 15.921875 20.484375 11.0625 \r\nQ 25.484375 6.203125 34.421875 6.203125 \r\nQ 39.59375 6.203125 44.453125 7.46875 \r\nQ 49.3125 8.734375 54.109375 11.28125 \r\nL 54.109375 2.78125 \r\nQ 49.265625 0.734375 44.1875 -0.34375 \r\nQ 39.109375 -1.421875 33.890625 -1.421875 \r\nQ 20.796875 -1.421875 13.15625 6.1875 \r\nQ 5.515625 13.8125 5.515625 26.8125 \r\nQ 5.515625 40.234375 12.765625 48.109375 \r\nQ 20.015625 56 32.328125 56 \r\nQ 43.359375 56 49.78125 48.890625 \r\nQ 56.203125 41.796875 56.203125 29.59375 \r\nz\r\nM 47.21875 32.234375 \r\nQ 47.125 39.59375 43.09375 43.984375 \r\nQ 39.0625 48.390625 32.421875 48.390625 \r\nQ 24.90625 48.390625 20.390625 44.140625 \r\nQ 15.875 39.890625 15.1875 32.171875 \r\nz\r\n\" id=\"DejaVuSans-101\"/>\r\n       </defs>\r\n       <use xlink:href=\"#DejaVuSans-102\"/>\r\n       <use x=\"35.205078\" xlink:href=\"#DejaVuSans-101\"/>\r\n       <use x=\"96.728516\" xlink:href=\"#DejaVuSans-97\"/>\r\n       <use x=\"158.007812\" xlink:href=\"#DejaVuSans-114\"/>\r\n      </g>\r\n     </g>\r\n    </g>\r\n    <g id=\"xtick_4\">\r\n     <g id=\"line2d_4\">\r\n      <g>\r\n       <use style=\"stroke:#000000;stroke-width:0.8;\" x=\"354.575938\" xlink:href=\"#m970624c7dc\" y=\"551.7\"/>\r\n      </g>\r\n     </g>\r\n     <g id=\"text_4\">\r\n      <!-- happy -->\r\n      <g transform=\"translate(339.035313 566.298437)scale(0.1 -0.1)\">\r\n       <defs>\r\n        <path d=\"M 54.890625 33.015625 \r\nL 54.890625 0 \r\nL 45.90625 0 \r\nL 45.90625 32.71875 \r\nQ 45.90625 40.484375 42.875 44.328125 \r\nQ 39.84375 48.1875 33.796875 48.1875 \r\nQ 26.515625 48.1875 22.3125 43.546875 \r\nQ 18.109375 38.921875 18.109375 30.90625 \r\nL 18.109375 0 \r\nL 9.078125 0 \r\nL 9.078125 75.984375 \r\nL 18.109375 75.984375 \r\nL 18.109375 46.1875 \r\nQ 21.34375 51.125 25.703125 53.5625 \r\nQ 30.078125 56 35.796875 56 \r\nQ 45.21875 56 50.046875 50.171875 \r\nQ 54.890625 44.34375 54.890625 33.015625 \r\nz\r\n\" id=\"DejaVuSans-104\"/>\r\n        <path d=\"M 18.109375 8.203125 \r\nL 18.109375 -20.796875 \r\nL 9.078125 -20.796875 \r\nL 9.078125 54.6875 \r\nL 18.109375 54.6875 \r\nL 18.109375 46.390625 \r\nQ 20.953125 51.265625 25.265625 53.625 \r\nQ 29.59375 56 35.59375 56 \r\nQ 45.5625 56 51.78125 48.09375 \r\nQ 58.015625 40.1875 58.015625 27.296875 \r\nQ 58.015625 14.40625 51.78125 6.484375 \r\nQ 45.5625 -1.421875 35.59375 -1.421875 \r\nQ 29.59375 -1.421875 25.265625 0.953125 \r\nQ 20.953125 3.328125 18.109375 8.203125 \r\nz\r\nM 48.6875 27.296875 \r\nQ 48.6875 37.203125 44.609375 42.84375 \r\nQ 40.53125 48.484375 33.40625 48.484375 \r\nQ 26.265625 48.484375 22.1875 42.84375 \r\nQ 18.109375 37.203125 18.109375 27.296875 \r\nQ 18.109375 17.390625 22.1875 11.75 \r\nQ 26.265625 6.109375 33.40625 6.109375 \r\nQ 40.53125 6.109375 44.609375 11.75 \r\nQ 48.6875 17.390625 48.6875 27.296875 \r\nz\r\n\" id=\"DejaVuSans-112\"/>\r\n       </defs>\r\n       <use xlink:href=\"#DejaVuSans-104\"/>\r\n       <use x=\"63.378906\" xlink:href=\"#DejaVuSans-97\"/>\r\n       <use x=\"124.658203\" xlink:href=\"#DejaVuSans-112\"/>\r\n       <use x=\"188.134766\" xlink:href=\"#DejaVuSans-112\"/>\r\n       <use x=\"251.611328\" xlink:href=\"#DejaVuSans-121\"/>\r\n      </g>\r\n     </g>\r\n    </g>\r\n    <g id=\"xtick_5\">\r\n     <g id=\"line2d_5\">\r\n      <g>\r\n       <use style=\"stroke:#000000;stroke-width:0.8;\" x=\"436.415938\" xlink:href=\"#m970624c7dc\" y=\"551.7\"/>\r\n      </g>\r\n     </g>\r\n     <g id=\"text_5\">\r\n      <!-- sad -->\r\n      <g transform=\"translate(427.572969 566.298437)scale(0.1 -0.1)\">\r\n       <use xlink:href=\"#DejaVuSans-115\"/>\r\n       <use x=\"52.099609\" xlink:href=\"#DejaVuSans-97\"/>\r\n       <use x=\"113.378906\" xlink:href=\"#DejaVuSans-100\"/>\r\n      </g>\r\n     </g>\r\n    </g>\r\n    <g id=\"xtick_6\">\r\n     <g id=\"line2d_6\">\r\n      <g>\r\n       <use style=\"stroke:#000000;stroke-width:0.8;\" x=\"518.255938\" xlink:href=\"#m970624c7dc\" y=\"551.7\"/>\r\n      </g>\r\n     </g>\r\n     <g id=\"text_6\">\r\n      <!-- surprise -->\r\n      <g transform=\"translate(498.127031 566.298437)scale(0.1 -0.1)\">\r\n       <use xlink:href=\"#DejaVuSans-115\"/>\r\n       <use x=\"52.099609\" xlink:href=\"#DejaVuSans-117\"/>\r\n       <use x=\"115.478516\" xlink:href=\"#DejaVuSans-114\"/>\r\n       <use x=\"156.591797\" xlink:href=\"#DejaVuSans-112\"/>\r\n       <use x=\"220.068359\" xlink:href=\"#DejaVuSans-114\"/>\r\n       <use x=\"261.181641\" xlink:href=\"#DejaVuSans-105\"/>\r\n       <use x=\"288.964844\" xlink:href=\"#DejaVuSans-115\"/>\r\n       <use x=\"341.064453\" xlink:href=\"#DejaVuSans-101\"/>\r\n      </g>\r\n     </g>\r\n    </g>\r\n    <g id=\"text_7\">\r\n     <!-- Predicted label -->\r\n     <g transform=\"translate(276.503594 579.976562)scale(0.1 -0.1)\">\r\n      <defs>\r\n       <path d=\"M 19.671875 64.796875 \r\nL 19.671875 37.40625 \r\nL 32.078125 37.40625 \r\nQ 38.96875 37.40625 42.71875 40.96875 \r\nQ 46.484375 44.53125 46.484375 51.125 \r\nQ 46.484375 57.671875 42.71875 61.234375 \r\nQ 38.96875 64.796875 32.078125 64.796875 \r\nz\r\nM 9.8125 72.90625 \r\nL 32.078125 72.90625 \r\nQ 44.34375 72.90625 50.609375 67.359375 \r\nQ 56.890625 61.8125 56.890625 51.125 \r\nQ 56.890625 40.328125 50.609375 34.8125 \r\nQ 44.34375 29.296875 32.078125 29.296875 \r\nL 19.671875 29.296875 \r\nL 19.671875 0 \r\nL 9.8125 0 \r\nz\r\n\" id=\"DejaVuSans-80\"/>\r\n       <path d=\"M 48.78125 52.59375 \r\nL 48.78125 44.1875 \r\nQ 44.96875 46.296875 41.140625 47.34375 \r\nQ 37.3125 48.390625 33.40625 48.390625 \r\nQ 24.65625 48.390625 19.8125 42.84375 \r\nQ 14.984375 37.3125 14.984375 27.296875 \r\nQ 14.984375 17.28125 19.8125 11.734375 \r\nQ 24.65625 6.203125 33.40625 6.203125 \r\nQ 37.3125 6.203125 41.140625 7.25 \r\nQ 44.96875 8.296875 48.78125 10.40625 \r\nL 48.78125 2.09375 \r\nQ 45.015625 0.34375 40.984375 -0.53125 \r\nQ 36.96875 -1.421875 32.421875 -1.421875 \r\nQ 20.0625 -1.421875 12.78125 6.34375 \r\nQ 5.515625 14.109375 5.515625 27.296875 \r\nQ 5.515625 40.671875 12.859375 48.328125 \r\nQ 20.21875 56 33.015625 56 \r\nQ 37.15625 56 41.109375 55.140625 \r\nQ 45.0625 54.296875 48.78125 52.59375 \r\nz\r\n\" id=\"DejaVuSans-99\"/>\r\n       <path id=\"DejaVuSans-32\"/>\r\n       <path d=\"M 9.421875 75.984375 \r\nL 18.40625 75.984375 \r\nL 18.40625 0 \r\nL 9.421875 0 \r\nz\r\n\" id=\"DejaVuSans-108\"/>\r\n       <path d=\"M 48.6875 27.296875 \r\nQ 48.6875 37.203125 44.609375 42.84375 \r\nQ 40.53125 48.484375 33.40625 48.484375 \r\nQ 26.265625 48.484375 22.1875 42.84375 \r\nQ 18.109375 37.203125 18.109375 27.296875 \r\nQ 18.109375 17.390625 22.1875 11.75 \r\nQ 26.265625 6.109375 33.40625 6.109375 \r\nQ 40.53125 6.109375 44.609375 11.75 \r\nQ 48.6875 17.390625 48.6875 27.296875 \r\nz\r\nM 18.109375 46.390625 \r\nQ 20.953125 51.265625 25.265625 53.625 \r\nQ 29.59375 56 35.59375 56 \r\nQ 45.5625 56 51.78125 48.09375 \r\nQ 58.015625 40.1875 58.015625 27.296875 \r\nQ 58.015625 14.40625 51.78125 6.484375 \r\nQ 45.5625 -1.421875 35.59375 -1.421875 \r\nQ 29.59375 -1.421875 25.265625 0.953125 \r\nQ 20.953125 3.328125 18.109375 8.203125 \r\nL 18.109375 0 \r\nL 9.078125 0 \r\nL 9.078125 75.984375 \r\nL 18.109375 75.984375 \r\nz\r\n\" id=\"DejaVuSans-98\"/>\r\n      </defs>\r\n      <use xlink:href=\"#DejaVuSans-80\"/>\r\n      <use x=\"58.552734\" xlink:href=\"#DejaVuSans-114\"/>\r\n      <use x=\"97.416016\" xlink:href=\"#DejaVuSans-101\"/>\r\n      <use x=\"158.939453\" xlink:href=\"#DejaVuSans-100\"/>\r\n      <use x=\"222.416016\" xlink:href=\"#DejaVuSans-105\"/>\r\n      <use x=\"250.199219\" xlink:href=\"#DejaVuSans-99\"/>\r\n      <use x=\"305.179688\" xlink:href=\"#DejaVuSans-116\"/>\r\n      <use x=\"344.388672\" xlink:href=\"#DejaVuSans-101\"/>\r\n      <use x=\"405.912109\" xlink:href=\"#DejaVuSans-100\"/>\r\n      <use x=\"469.388672\" xlink:href=\"#DejaVuSans-32\"/>\r\n      <use x=\"501.175781\" xlink:href=\"#DejaVuSans-108\"/>\r\n      <use x=\"528.958984\" xlink:href=\"#DejaVuSans-97\"/>\r\n      <use x=\"590.238281\" xlink:href=\"#DejaVuSans-98\"/>\r\n      <use x=\"653.714844\" xlink:href=\"#DejaVuSans-101\"/>\r\n      <use x=\"715.238281\" xlink:href=\"#DejaVuSans-108\"/>\r\n     </g>\r\n    </g>\r\n   </g>\r\n   <g id=\"matplotlib.axis_2\">\r\n    <g id=\"ytick_1\">\r\n     <g id=\"line2d_7\">\r\n      <defs>\r\n       <path d=\"M 0 0 \r\nL -3.5 0 \r\n\" id=\"m63642426c5\" style=\"stroke:#000000;stroke-width:0.8;\"/>\r\n      </defs>\r\n      <g>\r\n       <use style=\"stroke:#000000;stroke-width:0.8;\" x=\"68.135938\" xlink:href=\"#m63642426c5\" y=\"101.58\"/>\r\n      </g>\r\n     </g>\r\n     <g id=\"text_8\">\r\n      <!-- angry -->\r\n      <g transform=\"translate(32.292188 105.379219)scale(0.1 -0.1)\">\r\n       <use xlink:href=\"#DejaVuSans-97\"/>\r\n       <use x=\"61.279297\" xlink:href=\"#DejaVuSans-110\"/>\r\n       <use x=\"124.658203\" xlink:href=\"#DejaVuSans-103\"/>\r\n       <use x=\"188.134766\" xlink:href=\"#DejaVuSans-114\"/>\r\n       <use x=\"229.248047\" xlink:href=\"#DejaVuSans-121\"/>\r\n      </g>\r\n     </g>\r\n    </g>\r\n    <g id=\"ytick_2\">\r\n     <g id=\"line2d_8\">\r\n      <g>\r\n       <use style=\"stroke:#000000;stroke-width:0.8;\" x=\"68.135938\" xlink:href=\"#m63642426c5\" y=\"183.42\"/>\r\n      </g>\r\n     </g>\r\n     <g id=\"text_9\">\r\n      <!-- disgust -->\r\n      <g transform=\"translate(24.984375 187.219219)scale(0.1 -0.1)\">\r\n       <use xlink:href=\"#DejaVuSans-100\"/>\r\n       <use x=\"63.476562\" xlink:href=\"#DejaVuSans-105\"/>\r\n       <use x=\"91.259766\" xlink:href=\"#DejaVuSans-115\"/>\r\n       <use x=\"143.359375\" xlink:href=\"#DejaVuSans-103\"/>\r\n       <use x=\"206.835938\" xlink:href=\"#DejaVuSans-117\"/>\r\n       <use x=\"270.214844\" xlink:href=\"#DejaVuSans-115\"/>\r\n       <use x=\"322.314453\" xlink:href=\"#DejaVuSans-116\"/>\r\n      </g>\r\n     </g>\r\n    </g>\r\n    <g id=\"ytick_3\">\r\n     <g id=\"line2d_9\">\r\n      <g>\r\n       <use style=\"stroke:#000000;stroke-width:0.8;\" x=\"68.135938\" xlink:href=\"#m63642426c5\" y=\"265.26\"/>\r\n      </g>\r\n     </g>\r\n     <g id=\"text_10\">\r\n      <!-- fear -->\r\n      <g transform=\"translate(41.223438 269.059219)scale(0.1 -0.1)\">\r\n       <use xlink:href=\"#DejaVuSans-102\"/>\r\n       <use x=\"35.205078\" xlink:href=\"#DejaVuSans-101\"/>\r\n       <use x=\"96.728516\" xlink:href=\"#DejaVuSans-97\"/>\r\n       <use x=\"158.007812\" xlink:href=\"#DejaVuSans-114\"/>\r\n      </g>\r\n     </g>\r\n    </g>\r\n    <g id=\"ytick_4\">\r\n     <g id=\"line2d_10\">\r\n      <g>\r\n       <use style=\"stroke:#000000;stroke-width:0.8;\" x=\"68.135938\" xlink:href=\"#m63642426c5\" y=\"347.1\"/>\r\n      </g>\r\n     </g>\r\n     <g id=\"text_11\">\r\n      <!-- happy -->\r\n      <g transform=\"translate(30.054688 350.899219)scale(0.1 -0.1)\">\r\n       <use xlink:href=\"#DejaVuSans-104\"/>\r\n       <use x=\"63.378906\" xlink:href=\"#DejaVuSans-97\"/>\r\n       <use x=\"124.658203\" xlink:href=\"#DejaVuSans-112\"/>\r\n       <use x=\"188.134766\" xlink:href=\"#DejaVuSans-112\"/>\r\n       <use x=\"251.611328\" xlink:href=\"#DejaVuSans-121\"/>\r\n      </g>\r\n     </g>\r\n    </g>\r\n    <g id=\"ytick_5\">\r\n     <g id=\"line2d_11\">\r\n      <g>\r\n       <use style=\"stroke:#000000;stroke-width:0.8;\" x=\"68.135938\" xlink:href=\"#m63642426c5\" y=\"428.94\"/>\r\n      </g>\r\n     </g>\r\n     <g id=\"text_12\">\r\n      <!-- sad -->\r\n      <g transform=\"translate(43.45 432.739219)scale(0.1 -0.1)\">\r\n       <use xlink:href=\"#DejaVuSans-115\"/>\r\n       <use x=\"52.099609\" xlink:href=\"#DejaVuSans-97\"/>\r\n       <use x=\"113.378906\" xlink:href=\"#DejaVuSans-100\"/>\r\n      </g>\r\n     </g>\r\n    </g>\r\n    <g id=\"ytick_6\">\r\n     <g id=\"line2d_12\">\r\n      <g>\r\n       <use style=\"stroke:#000000;stroke-width:0.8;\" x=\"68.135938\" xlink:href=\"#m63642426c5\" y=\"510.78\"/>\r\n      </g>\r\n     </g>\r\n     <g id=\"text_13\">\r\n      <!-- surprise -->\r\n      <g transform=\"translate(20.878125 514.579219)scale(0.1 -0.1)\">\r\n       <use xlink:href=\"#DejaVuSans-115\"/>\r\n       <use x=\"52.099609\" xlink:href=\"#DejaVuSans-117\"/>\r\n       <use x=\"115.478516\" xlink:href=\"#DejaVuSans-114\"/>\r\n       <use x=\"156.591797\" xlink:href=\"#DejaVuSans-112\"/>\r\n       <use x=\"220.068359\" xlink:href=\"#DejaVuSans-114\"/>\r\n       <use x=\"261.181641\" xlink:href=\"#DejaVuSans-105\"/>\r\n       <use x=\"288.964844\" xlink:href=\"#DejaVuSans-115\"/>\r\n       <use x=\"341.064453\" xlink:href=\"#DejaVuSans-101\"/>\r\n      </g>\r\n     </g>\r\n    </g>\r\n    <g id=\"text_14\">\r\n     <!-- True label -->\r\n     <g transform=\"translate(14.798438 330.479219)rotate(-90)scale(0.1 -0.1)\">\r\n      <defs>\r\n       <path d=\"M -0.296875 72.90625 \r\nL 61.375 72.90625 \r\nL 61.375 64.59375 \r\nL 35.5 64.59375 \r\nL 35.5 0 \r\nL 25.59375 0 \r\nL 25.59375 64.59375 \r\nL -0.296875 64.59375 \r\nz\r\n\" id=\"DejaVuSans-84\"/>\r\n      </defs>\r\n      <use xlink:href=\"#DejaVuSans-84\"/>\r\n      <use x=\"46.333984\" xlink:href=\"#DejaVuSans-114\"/>\r\n      <use x=\"87.447266\" xlink:href=\"#DejaVuSans-117\"/>\r\n      <use x=\"150.826172\" xlink:href=\"#DejaVuSans-101\"/>\r\n      <use x=\"212.349609\" xlink:href=\"#DejaVuSans-32\"/>\r\n      <use x=\"244.136719\" xlink:href=\"#DejaVuSans-108\"/>\r\n      <use x=\"271.919922\" xlink:href=\"#DejaVuSans-97\"/>\r\n      <use x=\"333.199219\" xlink:href=\"#DejaVuSans-98\"/>\r\n      <use x=\"396.675781\" xlink:href=\"#DejaVuSans-101\"/>\r\n      <use x=\"458.199219\" xlink:href=\"#DejaVuSans-108\"/>\r\n     </g>\r\n    </g>\r\n   </g>\r\n   <g id=\"patch_3\">\r\n    <path d=\"M 68.135938 551.7 \r\nL 68.135938 60.66 \r\n\" style=\"fill:none;stroke:#000000;stroke-linecap:square;stroke-linejoin:miter;stroke-width:0.8;\"/>\r\n   </g>\r\n   <g id=\"patch_4\">\r\n    <path d=\"M 559.175938 551.7 \r\nL 559.175938 60.66 \r\n\" style=\"fill:none;stroke:#000000;stroke-linecap:square;stroke-linejoin:miter;stroke-width:0.8;\"/>\r\n   </g>\r\n   <g id=\"patch_5\">\r\n    <path d=\"M 68.135938 551.7 \r\nL 559.175938 551.7 \r\n\" style=\"fill:none;stroke:#000000;stroke-linecap:square;stroke-linejoin:miter;stroke-width:0.8;\"/>\r\n   </g>\r\n   <g id=\"patch_6\">\r\n    <path d=\"M 68.135938 60.66 \r\nL 559.175938 60.66 \r\n\" style=\"fill:none;stroke:#000000;stroke-linecap:square;stroke-linejoin:miter;stroke-width:0.8;\"/>\r\n   </g>\r\n   <g id=\"text_15\">\r\n    <!-- 62 -->\r\n    <g style=\"fill:#67001f;\" transform=\"translate(102.693438 104.339375)scale(0.1 -0.1)\">\r\n     <defs>\r\n      <path d=\"M 33.015625 40.375 \r\nQ 26.375 40.375 22.484375 35.828125 \r\nQ 18.609375 31.296875 18.609375 23.390625 \r\nQ 18.609375 15.53125 22.484375 10.953125 \r\nQ 26.375 6.390625 33.015625 6.390625 \r\nQ 39.65625 6.390625 43.53125 10.953125 \r\nQ 47.40625 15.53125 47.40625 23.390625 \r\nQ 47.40625 31.296875 43.53125 35.828125 \r\nQ 39.65625 40.375 33.015625 40.375 \r\nz\r\nM 52.59375 71.296875 \r\nL 52.59375 62.3125 \r\nQ 48.875 64.0625 45.09375 64.984375 \r\nQ 41.3125 65.921875 37.59375 65.921875 \r\nQ 27.828125 65.921875 22.671875 59.328125 \r\nQ 17.53125 52.734375 16.796875 39.40625 \r\nQ 19.671875 43.65625 24.015625 45.921875 \r\nQ 28.375 48.1875 33.59375 48.1875 \r\nQ 44.578125 48.1875 50.953125 41.515625 \r\nQ 57.328125 34.859375 57.328125 23.390625 \r\nQ 57.328125 12.15625 50.6875 5.359375 \r\nQ 44.046875 -1.421875 33.015625 -1.421875 \r\nQ 20.359375 -1.421875 13.671875 8.265625 \r\nQ 6.984375 17.96875 6.984375 36.375 \r\nQ 6.984375 53.65625 15.1875 63.9375 \r\nQ 23.390625 74.21875 37.203125 74.21875 \r\nQ 40.921875 74.21875 44.703125 73.484375 \r\nQ 48.484375 72.75 52.59375 71.296875 \r\nz\r\n\" id=\"DejaVuSans-54\"/>\r\n      <path d=\"M 19.1875 8.296875 \r\nL 53.609375 8.296875 \r\nL 53.609375 0 \r\nL 7.328125 0 \r\nL 7.328125 8.296875 \r\nQ 12.9375 14.109375 22.625 23.890625 \r\nQ 32.328125 33.6875 34.8125 36.53125 \r\nQ 39.546875 41.84375 41.421875 45.53125 \r\nQ 43.3125 49.21875 43.3125 52.78125 \r\nQ 43.3125 58.59375 39.234375 62.25 \r\nQ 35.15625 65.921875 28.609375 65.921875 \r\nQ 23.96875 65.921875 18.8125 64.3125 \r\nQ 13.671875 62.703125 7.8125 59.421875 \r\nL 7.8125 69.390625 \r\nQ 13.765625 71.78125 18.9375 73 \r\nQ 24.125 74.21875 28.421875 74.21875 \r\nQ 39.75 74.21875 46.484375 68.546875 \r\nQ 53.21875 62.890625 53.21875 53.421875 \r\nQ 53.21875 48.921875 51.53125 44.890625 \r\nQ 49.859375 40.875 45.40625 35.40625 \r\nQ 44.1875 33.984375 37.640625 27.21875 \r\nQ 31.109375 20.453125 19.1875 8.296875 \r\nz\r\n\" id=\"DejaVuSans-50\"/>\r\n     </defs>\r\n     <use xlink:href=\"#DejaVuSans-54\"/>\r\n     <use x=\"63.623047\" xlink:href=\"#DejaVuSans-50\"/>\r\n    </g>\r\n   </g>\r\n   <g id=\"text_16\">\r\n    <!-- 2.7 -->\r\n    <g style=\"fill:#053061;\" transform=\"translate(182.944375 104.339375)scale(0.1 -0.1)\">\r\n     <defs>\r\n      <path d=\"M 10.6875 12.40625 \r\nL 21 12.40625 \r\nL 21 0 \r\nL 10.6875 0 \r\nz\r\n\" id=\"DejaVuSans-46\"/>\r\n      <path d=\"M 8.203125 72.90625 \r\nL 55.078125 72.90625 \r\nL 55.078125 68.703125 \r\nL 28.609375 0 \r\nL 18.3125 0 \r\nL 43.21875 64.59375 \r\nL 8.203125 64.59375 \r\nz\r\n\" id=\"DejaVuSans-55\"/>\r\n     </defs>\r\n     <use xlink:href=\"#DejaVuSans-50\"/>\r\n     <use x=\"63.623047\" xlink:href=\"#DejaVuSans-46\"/>\r\n     <use x=\"95.410156\" xlink:href=\"#DejaVuSans-55\"/>\r\n    </g>\r\n   </g>\r\n   <g id=\"text_17\">\r\n    <!-- 5.4 -->\r\n    <g style=\"fill:#053061;\" transform=\"translate(264.784375 104.339375)scale(0.1 -0.1)\">\r\n     <defs>\r\n      <path d=\"M 10.796875 72.90625 \r\nL 49.515625 72.90625 \r\nL 49.515625 64.59375 \r\nL 19.828125 64.59375 \r\nL 19.828125 46.734375 \r\nQ 21.96875 47.46875 24.109375 47.828125 \r\nQ 26.265625 48.1875 28.421875 48.1875 \r\nQ 40.625 48.1875 47.75 41.5 \r\nQ 54.890625 34.8125 54.890625 23.390625 \r\nQ 54.890625 11.625 47.5625 5.09375 \r\nQ 40.234375 -1.421875 26.90625 -1.421875 \r\nQ 22.3125 -1.421875 17.546875 -0.640625 \r\nQ 12.796875 0.140625 7.71875 1.703125 \r\nL 7.71875 11.625 \r\nQ 12.109375 9.234375 16.796875 8.0625 \r\nQ 21.484375 6.890625 26.703125 6.890625 \r\nQ 35.15625 6.890625 40.078125 11.328125 \r\nQ 45.015625 15.765625 45.015625 23.390625 \r\nQ 45.015625 31 40.078125 35.4375 \r\nQ 35.15625 39.890625 26.703125 39.890625 \r\nQ 22.75 39.890625 18.8125 39.015625 \r\nQ 14.890625 38.140625 10.796875 36.28125 \r\nz\r\n\" id=\"DejaVuSans-53\"/>\r\n      <path d=\"M 37.796875 64.3125 \r\nL 12.890625 25.390625 \r\nL 37.796875 25.390625 \r\nz\r\nM 35.203125 72.90625 \r\nL 47.609375 72.90625 \r\nL 47.609375 25.390625 \r\nL 58.015625 25.390625 \r\nL 58.015625 17.1875 \r\nL 47.609375 17.1875 \r\nL 47.609375 0 \r\nL 37.796875 0 \r\nL 37.796875 17.1875 \r\nL 4.890625 17.1875 \r\nL 4.890625 26.703125 \r\nz\r\n\" id=\"DejaVuSans-52\"/>\r\n     </defs>\r\n     <use xlink:href=\"#DejaVuSans-53\"/>\r\n     <use x=\"63.623047\" xlink:href=\"#DejaVuSans-46\"/>\r\n     <use x=\"95.410156\" xlink:href=\"#DejaVuSans-52\"/>\r\n    </g>\r\n   </g>\r\n   <g id=\"text_18\">\r\n    <!-- 12 -->\r\n    <g style=\"fill:#053061;\" transform=\"translate(348.213437 104.339375)scale(0.1 -0.1)\">\r\n     <defs>\r\n      <path d=\"M 12.40625 8.296875 \r\nL 28.515625 8.296875 \r\nL 28.515625 63.921875 \r\nL 10.984375 60.40625 \r\nL 10.984375 69.390625 \r\nL 28.421875 72.90625 \r\nL 38.28125 72.90625 \r\nL 38.28125 8.296875 \r\nL 54.390625 8.296875 \r\nL 54.390625 0 \r\nL 12.40625 0 \r\nz\r\n\" id=\"DejaVuSans-49\"/>\r\n     </defs>\r\n     <use xlink:href=\"#DejaVuSans-49\"/>\r\n     <use x=\"63.623047\" xlink:href=\"#DejaVuSans-50\"/>\r\n    </g>\r\n   </g>\r\n   <g id=\"text_19\">\r\n    <!-- 17 -->\r\n    <g style=\"fill:#053061;\" transform=\"translate(430.053438 104.339375)scale(0.1 -0.1)\">\r\n     <use xlink:href=\"#DejaVuSans-49\"/>\r\n     <use x=\"63.623047\" xlink:href=\"#DejaVuSans-55\"/>\r\n    </g>\r\n   </g>\r\n   <g id=\"text_20\">\r\n    <!-- 0.77 -->\r\n    <g style=\"fill:#053061;\" transform=\"translate(507.123125 104.339375)scale(0.1 -0.1)\">\r\n     <defs>\r\n      <path d=\"M 31.78125 66.40625 \r\nQ 24.171875 66.40625 20.328125 58.90625 \r\nQ 16.5 51.421875 16.5 36.375 \r\nQ 16.5 21.390625 20.328125 13.890625 \r\nQ 24.171875 6.390625 31.78125 6.390625 \r\nQ 39.453125 6.390625 43.28125 13.890625 \r\nQ 47.125 21.390625 47.125 36.375 \r\nQ 47.125 51.421875 43.28125 58.90625 \r\nQ 39.453125 66.40625 31.78125 66.40625 \r\nz\r\nM 31.78125 74.21875 \r\nQ 44.046875 74.21875 50.515625 64.515625 \r\nQ 56.984375 54.828125 56.984375 36.375 \r\nQ 56.984375 17.96875 50.515625 8.265625 \r\nQ 44.046875 -1.421875 31.78125 -1.421875 \r\nQ 19.53125 -1.421875 13.0625 8.265625 \r\nQ 6.59375 17.96875 6.59375 36.375 \r\nQ 6.59375 54.828125 13.0625 64.515625 \r\nQ 19.53125 74.21875 31.78125 74.21875 \r\nz\r\n\" id=\"DejaVuSans-48\"/>\r\n     </defs>\r\n     <use xlink:href=\"#DejaVuSans-48\"/>\r\n     <use x=\"63.623047\" xlink:href=\"#DejaVuSans-46\"/>\r\n     <use x=\"95.410156\" xlink:href=\"#DejaVuSans-55\"/>\r\n     <use x=\"159.033203\" xlink:href=\"#DejaVuSans-55\"/>\r\n    </g>\r\n   </g>\r\n   <g id=\"text_21\">\r\n    <!-- 6.7 -->\r\n    <g style=\"fill:#053061;\" transform=\"translate(101.104375 186.179375)scale(0.1 -0.1)\">\r\n     <use xlink:href=\"#DejaVuSans-54\"/>\r\n     <use x=\"63.623047\" xlink:href=\"#DejaVuSans-46\"/>\r\n     <use x=\"95.410156\" xlink:href=\"#DejaVuSans-55\"/>\r\n    </g>\r\n   </g>\r\n   <g id=\"text_22\">\r\n    <!-- 68 -->\r\n    <g style=\"fill:#67001f;\" transform=\"translate(184.533437 186.179375)scale(0.1 -0.1)\">\r\n     <defs>\r\n      <path d=\"M 31.78125 34.625 \r\nQ 24.75 34.625 20.71875 30.859375 \r\nQ 16.703125 27.09375 16.703125 20.515625 \r\nQ 16.703125 13.921875 20.71875 10.15625 \r\nQ 24.75 6.390625 31.78125 6.390625 \r\nQ 38.8125 6.390625 42.859375 10.171875 \r\nQ 46.921875 13.96875 46.921875 20.515625 \r\nQ 46.921875 27.09375 42.890625 30.859375 \r\nQ 38.875 34.625 31.78125 34.625 \r\nz\r\nM 21.921875 38.8125 \r\nQ 15.578125 40.375 12.03125 44.71875 \r\nQ 8.5 49.078125 8.5 55.328125 \r\nQ 8.5 64.0625 14.71875 69.140625 \r\nQ 20.953125 74.21875 31.78125 74.21875 \r\nQ 42.671875 74.21875 48.875 69.140625 \r\nQ 55.078125 64.0625 55.078125 55.328125 \r\nQ 55.078125 49.078125 51.53125 44.71875 \r\nQ 48 40.375 41.703125 38.8125 \r\nQ 48.828125 37.15625 52.796875 32.3125 \r\nQ 56.78125 27.484375 56.78125 20.515625 \r\nQ 56.78125 9.90625 50.3125 4.234375 \r\nQ 43.84375 -1.421875 31.78125 -1.421875 \r\nQ 19.734375 -1.421875 13.25 4.234375 \r\nQ 6.78125 9.90625 6.78125 20.515625 \r\nQ 6.78125 27.484375 10.78125 32.3125 \r\nQ 14.796875 37.15625 21.921875 38.8125 \r\nz\r\nM 18.3125 54.390625 \r\nQ 18.3125 48.734375 21.84375 45.5625 \r\nQ 25.390625 42.390625 31.78125 42.390625 \r\nQ 38.140625 42.390625 41.71875 45.5625 \r\nQ 45.3125 48.734375 45.3125 54.390625 \r\nQ 45.3125 60.0625 41.71875 63.234375 \r\nQ 38.140625 66.40625 31.78125 66.40625 \r\nQ 25.390625 66.40625 21.84375 63.234375 \r\nQ 18.3125 60.0625 18.3125 54.390625 \r\nz\r\n\" id=\"DejaVuSans-56\"/>\r\n     </defs>\r\n     <use xlink:href=\"#DejaVuSans-54\"/>\r\n     <use x=\"63.623047\" xlink:href=\"#DejaVuSans-56\"/>\r\n    </g>\r\n   </g>\r\n   <g id=\"text_23\">\r\n    <!-- 7.5 -->\r\n    <g style=\"fill:#053061;\" transform=\"translate(264.784375 186.179375)scale(0.1 -0.1)\">\r\n     <use xlink:href=\"#DejaVuSans-55\"/>\r\n     <use x=\"63.623047\" xlink:href=\"#DejaVuSans-46\"/>\r\n     <use x=\"95.410156\" xlink:href=\"#DejaVuSans-53\"/>\r\n    </g>\r\n   </g>\r\n   <g id=\"text_24\">\r\n    <!-- 8.3 -->\r\n    <g style=\"fill:#053061;\" transform=\"translate(346.624375 186.179375)scale(0.1 -0.1)\">\r\n     <defs>\r\n      <path d=\"M 40.578125 39.3125 \r\nQ 47.65625 37.796875 51.625 33 \r\nQ 55.609375 28.21875 55.609375 21.1875 \r\nQ 55.609375 10.40625 48.1875 4.484375 \r\nQ 40.765625 -1.421875 27.09375 -1.421875 \r\nQ 22.515625 -1.421875 17.65625 -0.515625 \r\nQ 12.796875 0.390625 7.625 2.203125 \r\nL 7.625 11.71875 \r\nQ 11.71875 9.328125 16.59375 8.109375 \r\nQ 21.484375 6.890625 26.8125 6.890625 \r\nQ 36.078125 6.890625 40.9375 10.546875 \r\nQ 45.796875 14.203125 45.796875 21.1875 \r\nQ 45.796875 27.640625 41.28125 31.265625 \r\nQ 36.765625 34.90625 28.71875 34.90625 \r\nL 20.21875 34.90625 \r\nL 20.21875 43.015625 \r\nL 29.109375 43.015625 \r\nQ 36.375 43.015625 40.234375 45.921875 \r\nQ 44.09375 48.828125 44.09375 54.296875 \r\nQ 44.09375 59.90625 40.109375 62.90625 \r\nQ 36.140625 65.921875 28.71875 65.921875 \r\nQ 24.65625 65.921875 20.015625 65.03125 \r\nQ 15.375 64.15625 9.8125 62.3125 \r\nL 9.8125 71.09375 \r\nQ 15.4375 72.65625 20.34375 73.4375 \r\nQ 25.25 74.21875 29.59375 74.21875 \r\nQ 40.828125 74.21875 47.359375 69.109375 \r\nQ 53.90625 64.015625 53.90625 55.328125 \r\nQ 53.90625 49.265625 50.4375 45.09375 \r\nQ 46.96875 40.921875 40.578125 39.3125 \r\nz\r\n\" id=\"DejaVuSans-51\"/>\r\n     </defs>\r\n     <use xlink:href=\"#DejaVuSans-56\"/>\r\n     <use x=\"63.623047\" xlink:href=\"#DejaVuSans-46\"/>\r\n     <use x=\"95.410156\" xlink:href=\"#DejaVuSans-51\"/>\r\n    </g>\r\n   </g>\r\n   <g id=\"text_25\">\r\n    <!-- 7.5 -->\r\n    <g style=\"fill:#053061;\" transform=\"translate(428.464375 186.179375)scale(0.1 -0.1)\">\r\n     <use xlink:href=\"#DejaVuSans-55\"/>\r\n     <use x=\"63.623047\" xlink:href=\"#DejaVuSans-46\"/>\r\n     <use x=\"95.410156\" xlink:href=\"#DejaVuSans-53\"/>\r\n    </g>\r\n   </g>\r\n   <g id=\"text_26\">\r\n    <!-- 2.5 -->\r\n    <g style=\"fill:#053061;\" transform=\"translate(510.304375 186.179375)scale(0.1 -0.1)\">\r\n     <use xlink:href=\"#DejaVuSans-50\"/>\r\n     <use x=\"63.623047\" xlink:href=\"#DejaVuSans-46\"/>\r\n     <use x=\"95.410156\" xlink:href=\"#DejaVuSans-53\"/>\r\n    </g>\r\n   </g>\r\n   <g id=\"text_27\">\r\n    <!-- 8.2 -->\r\n    <g style=\"fill:#053061;\" transform=\"translate(101.104375 268.019375)scale(0.1 -0.1)\">\r\n     <use xlink:href=\"#DejaVuSans-56\"/>\r\n     <use x=\"63.623047\" xlink:href=\"#DejaVuSans-46\"/>\r\n     <use x=\"95.410156\" xlink:href=\"#DejaVuSans-50\"/>\r\n    </g>\r\n   </g>\r\n   <g id=\"text_28\">\r\n    <!-- 6.4 -->\r\n    <g style=\"fill:#053061;\" transform=\"translate(182.944375 268.019375)scale(0.1 -0.1)\">\r\n     <use xlink:href=\"#DejaVuSans-54\"/>\r\n     <use x=\"63.623047\" xlink:href=\"#DejaVuSans-46\"/>\r\n     <use x=\"95.410156\" xlink:href=\"#DejaVuSans-52\"/>\r\n    </g>\r\n   </g>\r\n   <g id=\"text_29\">\r\n    <!-- 54 -->\r\n    <g style=\"fill:#67001f;\" transform=\"translate(266.373438 268.019375)scale(0.1 -0.1)\">\r\n     <use xlink:href=\"#DejaVuSans-53\"/>\r\n     <use x=\"63.623047\" xlink:href=\"#DejaVuSans-52\"/>\r\n    </g>\r\n   </g>\r\n   <g id=\"text_30\">\r\n    <!-- 15 -->\r\n    <g style=\"fill:#053061;\" transform=\"translate(348.213437 268.019375)scale(0.1 -0.1)\">\r\n     <use xlink:href=\"#DejaVuSans-49\"/>\r\n     <use x=\"63.623047\" xlink:href=\"#DejaVuSans-53\"/>\r\n    </g>\r\n   </g>\r\n   <g id=\"text_31\">\r\n    <!-- 13 -->\r\n    <g style=\"fill:#053061;\" transform=\"translate(430.053438 268.019375)scale(0.1 -0.1)\">\r\n     <use xlink:href=\"#DejaVuSans-49\"/>\r\n     <use x=\"63.623047\" xlink:href=\"#DejaVuSans-51\"/>\r\n    </g>\r\n   </g>\r\n   <g id=\"text_32\">\r\n    <!-- 2.9 -->\r\n    <g style=\"fill:#053061;\" transform=\"translate(510.304375 268.019375)scale(0.1 -0.1)\">\r\n     <defs>\r\n      <path d=\"M 10.984375 1.515625 \r\nL 10.984375 10.5 \r\nQ 14.703125 8.734375 18.5 7.8125 \r\nQ 22.3125 6.890625 25.984375 6.890625 \r\nQ 35.75 6.890625 40.890625 13.453125 \r\nQ 46.046875 20.015625 46.78125 33.40625 \r\nQ 43.953125 29.203125 39.59375 26.953125 \r\nQ 35.25 24.703125 29.984375 24.703125 \r\nQ 19.046875 24.703125 12.671875 31.3125 \r\nQ 6.296875 37.9375 6.296875 49.421875 \r\nQ 6.296875 60.640625 12.9375 67.421875 \r\nQ 19.578125 74.21875 30.609375 74.21875 \r\nQ 43.265625 74.21875 49.921875 64.515625 \r\nQ 56.59375 54.828125 56.59375 36.375 \r\nQ 56.59375 19.140625 48.40625 8.859375 \r\nQ 40.234375 -1.421875 26.421875 -1.421875 \r\nQ 22.703125 -1.421875 18.890625 -0.6875 \r\nQ 15.09375 0.046875 10.984375 1.515625 \r\nz\r\nM 30.609375 32.421875 \r\nQ 37.25 32.421875 41.125 36.953125 \r\nQ 45.015625 41.5 45.015625 49.421875 \r\nQ 45.015625 57.28125 41.125 61.84375 \r\nQ 37.25 66.40625 30.609375 66.40625 \r\nQ 23.96875 66.40625 20.09375 61.84375 \r\nQ 16.21875 57.28125 16.21875 49.421875 \r\nQ 16.21875 41.5 20.09375 36.953125 \r\nQ 23.96875 32.421875 30.609375 32.421875 \r\nz\r\n\" id=\"DejaVuSans-57\"/>\r\n     </defs>\r\n     <use xlink:href=\"#DejaVuSans-50\"/>\r\n     <use x=\"63.623047\" xlink:href=\"#DejaVuSans-46\"/>\r\n     <use x=\"95.410156\" xlink:href=\"#DejaVuSans-57\"/>\r\n    </g>\r\n   </g>\r\n   <g id=\"text_33\">\r\n    <!-- 5.3 -->\r\n    <g style=\"fill:#053061;\" transform=\"translate(101.104375 349.859375)scale(0.1 -0.1)\">\r\n     <use xlink:href=\"#DejaVuSans-53\"/>\r\n     <use x=\"63.623047\" xlink:href=\"#DejaVuSans-46\"/>\r\n     <use x=\"95.410156\" xlink:href=\"#DejaVuSans-51\"/>\r\n    </g>\r\n   </g>\r\n   <g id=\"text_34\">\r\n    <!-- 2.1 -->\r\n    <g style=\"fill:#053061;\" transform=\"translate(182.944375 349.859375)scale(0.1 -0.1)\">\r\n     <use xlink:href=\"#DejaVuSans-50\"/>\r\n     <use x=\"63.623047\" xlink:href=\"#DejaVuSans-46\"/>\r\n     <use x=\"95.410156\" xlink:href=\"#DejaVuSans-49\"/>\r\n    </g>\r\n   </g>\r\n   <g id=\"text_35\">\r\n    <!-- 4 -->\r\n    <g style=\"fill:#053061;\" transform=\"translate(269.554688 349.859375)scale(0.1 -0.1)\">\r\n     <use xlink:href=\"#DejaVuSans-52\"/>\r\n    </g>\r\n   </g>\r\n   <g id=\"text_36\">\r\n    <!-- 76 -->\r\n    <g style=\"fill:#67001f;\" transform=\"translate(348.213437 349.859375)scale(0.1 -0.1)\">\r\n     <use xlink:href=\"#DejaVuSans-55\"/>\r\n     <use x=\"63.623047\" xlink:href=\"#DejaVuSans-54\"/>\r\n    </g>\r\n   </g>\r\n   <g id=\"text_37\">\r\n    <!-- 11 -->\r\n    <g style=\"fill:#053061;\" transform=\"translate(430.053438 349.859375)scale(0.1 -0.1)\">\r\n     <use xlink:href=\"#DejaVuSans-49\"/>\r\n     <use x=\"63.623047\" xlink:href=\"#DejaVuSans-49\"/>\r\n    </g>\r\n   </g>\r\n   <g id=\"text_38\">\r\n    <!-- 1.6 -->\r\n    <g style=\"fill:#053061;\" transform=\"translate(510.304375 349.859375)scale(0.1 -0.1)\">\r\n     <use xlink:href=\"#DejaVuSans-49\"/>\r\n     <use x=\"63.623047\" xlink:href=\"#DejaVuSans-46\"/>\r\n     <use x=\"95.410156\" xlink:href=\"#DejaVuSans-54\"/>\r\n    </g>\r\n   </g>\r\n   <g id=\"text_39\">\r\n    <!-- 6.8 -->\r\n    <g style=\"fill:#053061;\" transform=\"translate(101.104375 431.699375)scale(0.1 -0.1)\">\r\n     <use xlink:href=\"#DejaVuSans-54\"/>\r\n     <use x=\"63.623047\" xlink:href=\"#DejaVuSans-46\"/>\r\n     <use x=\"95.410156\" xlink:href=\"#DejaVuSans-56\"/>\r\n    </g>\r\n   </g>\r\n   <g id=\"text_40\">\r\n    <!-- 1.8 -->\r\n    <g style=\"fill:#053061;\" transform=\"translate(182.944375 431.699375)scale(0.1 -0.1)\">\r\n     <use xlink:href=\"#DejaVuSans-49\"/>\r\n     <use x=\"63.623047\" xlink:href=\"#DejaVuSans-46\"/>\r\n     <use x=\"95.410156\" xlink:href=\"#DejaVuSans-56\"/>\r\n    </g>\r\n   </g>\r\n   <g id=\"text_41\">\r\n    <!-- 3.5 -->\r\n    <g style=\"fill:#053061;\" transform=\"translate(264.784375 431.699375)scale(0.1 -0.1)\">\r\n     <use xlink:href=\"#DejaVuSans-51\"/>\r\n     <use x=\"63.623047\" xlink:href=\"#DejaVuSans-46\"/>\r\n     <use x=\"95.410156\" xlink:href=\"#DejaVuSans-53\"/>\r\n    </g>\r\n   </g>\r\n   <g id=\"text_42\">\r\n    <!-- 18 -->\r\n    <g style=\"fill:#053061;\" transform=\"translate(348.213437 431.699375)scale(0.1 -0.1)\">\r\n     <use xlink:href=\"#DejaVuSans-49\"/>\r\n     <use x=\"63.623047\" xlink:href=\"#DejaVuSans-56\"/>\r\n    </g>\r\n   </g>\r\n   <g id=\"text_43\">\r\n    <!-- 66 -->\r\n    <g style=\"fill:#67001f;\" transform=\"translate(430.053438 431.699375)scale(0.1 -0.1)\">\r\n     <use xlink:href=\"#DejaVuSans-54\"/>\r\n     <use x=\"63.623047\" xlink:href=\"#DejaVuSans-54\"/>\r\n    </g>\r\n   </g>\r\n   <g id=\"text_44\">\r\n    <!-- 4.5 -->\r\n    <g style=\"fill:#053061;\" transform=\"translate(510.304375 431.699375)scale(0.1 -0.1)\">\r\n     <use xlink:href=\"#DejaVuSans-52\"/>\r\n     <use x=\"63.623047\" xlink:href=\"#DejaVuSans-46\"/>\r\n     <use x=\"95.410156\" xlink:href=\"#DejaVuSans-53\"/>\r\n    </g>\r\n   </g>\r\n   <g id=\"text_45\">\r\n    <!-- 6.1 -->\r\n    <g style=\"fill:#053061;\" transform=\"translate(101.104375 513.539375)scale(0.1 -0.1)\">\r\n     <use xlink:href=\"#DejaVuSans-54\"/>\r\n     <use x=\"63.623047\" xlink:href=\"#DejaVuSans-46\"/>\r\n     <use x=\"95.410156\" xlink:href=\"#DejaVuSans-49\"/>\r\n    </g>\r\n   </g>\r\n   <g id=\"text_46\">\r\n    <!-- 0 -->\r\n    <g style=\"fill:#053061;\" transform=\"translate(187.714687 513.539375)scale(0.1 -0.1)\">\r\n     <use xlink:href=\"#DejaVuSans-48\"/>\r\n    </g>\r\n   </g>\r\n   <g id=\"text_47\">\r\n    <!-- 8.2 -->\r\n    <g style=\"fill:#053061;\" transform=\"translate(264.784375 513.539375)scale(0.1 -0.1)\">\r\n     <use xlink:href=\"#DejaVuSans-56\"/>\r\n     <use x=\"63.623047\" xlink:href=\"#DejaVuSans-46\"/>\r\n     <use x=\"95.410156\" xlink:href=\"#DejaVuSans-50\"/>\r\n    </g>\r\n   </g>\r\n   <g id=\"text_48\">\r\n    <!-- 6.1 -->\r\n    <g style=\"fill:#053061;\" transform=\"translate(346.624375 513.539375)scale(0.1 -0.1)\">\r\n     <use xlink:href=\"#DejaVuSans-54\"/>\r\n     <use x=\"63.623047\" xlink:href=\"#DejaVuSans-46\"/>\r\n     <use x=\"95.410156\" xlink:href=\"#DejaVuSans-49\"/>\r\n    </g>\r\n   </g>\r\n   <g id=\"text_49\">\r\n    <!-- 18 -->\r\n    <g style=\"fill:#053061;\" transform=\"translate(430.053438 513.539375)scale(0.1 -0.1)\">\r\n     <use xlink:href=\"#DejaVuSans-49\"/>\r\n     <use x=\"63.623047\" xlink:href=\"#DejaVuSans-56\"/>\r\n    </g>\r\n   </g>\r\n   <g id=\"text_50\">\r\n    <!-- 61 -->\r\n    <g style=\"fill:#67001f;\" transform=\"translate(511.893438 513.539375)scale(0.1 -0.1)\">\r\n     <use xlink:href=\"#DejaVuSans-54\"/>\r\n     <use x=\"63.623047\" xlink:href=\"#DejaVuSans-49\"/>\r\n    </g>\r\n   </g>\r\n  </g>\r\n  <g id=\"axes_2\">\r\n   <g id=\"patch_7\">\r\n    <path clip-path=\"url(#p7a612ccf54)\" d=\"M 589.865938 605.16 \r\nL 589.865938 602.824219 \r\nL 589.865938 9.535781 \r\nL 589.865938 7.2 \r\nL 619.763937 7.2 \r\nL 619.763937 9.535781 \r\nL 619.763937 602.824219 \r\nL 619.763937 605.16 \r\nz\r\n\" style=\"fill:#ffffff;stroke:#ffffff;stroke-linejoin:miter;stroke-width:0.01;\"/>\r\n   </g>\r\n   <image height=\"598\" id=\"imagebbfe26e876\" transform=\"scale(1 -1)translate(0 -598)\" width=\"30\" x=\"590\" xlink:href=\"data:image/png;base64,\r\niVBORw0KGgoAAAANSUhEUgAAAB4AAAJWCAYAAABPpDeKAAAC60lEQVR4nO2cwXGEQBDEFtg8HJ7z/xtwFpoqJCUw1bvdzXC+8/G7ft41wDkxdK219nXMDJ5UPCN5THHmwvCZy3fHmQvDZy7fHc8d9dTkzIXhK5DMheEzl++OMxeGz1y+O+6oMYoThjJOmYuhO/7+4MyFMfhxk03x3FEfQ3kaNJdO8XHNzC5OGMUJYx9ncWIwmkuouDgxGON02hSfxQlC2dU2xcWJwmgu3dOpZY/CuOwJFRcnBmOcdE+nlj2KuhqjD8q/P9jXXMY42RTXXBj7uK6RwcXp+4P3KYxTihmEcTI+nVLMIIyT8N2pAoEQxkl31MI4nba3xeKEYVRsK5DMhWFUXJwg9nHKFoG9hIqLE4PwrzDGOMkUtwhg+MzlU1ycMHzm8ilu2cPwvUkUJwzlRxG2OOnuuObCMMbJtoEUJwyhYt37cebC2OvIXAy+o96vTrHujieP2vZTb9+bhK5Aai6MFGMI46RrLp+5fBtI5sIwFohtvS1OGCnGEMZJ2NVCxS17DEJzVSAUwji9tuba7zszeE7xMyTZGKehwZPmmhk8WSDFicForqHB3fH3B/uaaz9Dg1tvvz/Y11wVCIYwTrrm8r2Y+9bbnk4YxgJZsgLJXBgVCIYwTrrm8pnLt97OHfU99J6auTD2bVOcuTAqEAxhnHTNJXx3uockC+Oka6596+Kku+OaC8NnLl+BZC6M/egKpDhRCOMkfFu0FUjNhVGBYBjjZGuuFGMUJ4wUY/gUd9QYKcYoThhziv90inV33FFj+F7MfXfcUWMoFc98TbE4YaQYw7feZi6MFGMUJ4wUY+zXprgvoGAI/5NRcaIwxkn380FdgRQnDF9X+xT3hVAMn7l8ins6YfhWH996W5wwfF3tU9yyh+Ezl09xTycM5bInU1ycMPb73CODU/z9wb6j3u+tU2y7444aI8UYxQljcr2VKc5cGEbFtmUvc2GkGEMZJ9nvFn3m8ilur8bwrT7FCcN31CnG8MXpH0wxak794XJPAAAAAElFTkSuQmCC\" y=\"-7\"/>\r\n   <g id=\"matplotlib.axis_3\"/>\r\n   <g id=\"matplotlib.axis_4\">\r\n    <g id=\"ytick_7\">\r\n     <g id=\"line2d_13\">\r\n      <defs>\r\n       <path d=\"M 0 0 \r\nL 3.5 0 \r\n\" id=\"maec27a2fe7\" style=\"stroke:#000000;stroke-width:0.8;\"/>\r\n      </defs>\r\n      <g>\r\n       <use style=\"stroke:#000000;stroke-width:0.8;\" x=\"619.763937\" xlink:href=\"#maec27a2fe7\" y=\"605.16\"/>\r\n      </g>\r\n     </g>\r\n     <g id=\"text_51\">\r\n      <!-- 0 -->\r\n      <g transform=\"translate(626.763937 608.959219)scale(0.1 -0.1)\">\r\n       <use xlink:href=\"#DejaVuSans-48\"/>\r\n      </g>\r\n     </g>\r\n    </g>\r\n    <g id=\"ytick_8\">\r\n     <g id=\"line2d_14\">\r\n      <g>\r\n       <use style=\"stroke:#000000;stroke-width:0.8;\" x=\"619.763937\" xlink:href=\"#maec27a2fe7\" y=\"526.708433\"/>\r\n      </g>\r\n     </g>\r\n     <g id=\"text_52\">\r\n      <!-- 10 -->\r\n      <g transform=\"translate(626.763937 530.507652)scale(0.1 -0.1)\">\r\n       <use xlink:href=\"#DejaVuSans-49\"/>\r\n       <use x=\"63.623047\" xlink:href=\"#DejaVuSans-48\"/>\r\n      </g>\r\n     </g>\r\n    </g>\r\n    <g id=\"ytick_9\">\r\n     <g id=\"line2d_15\">\r\n      <g>\r\n       <use style=\"stroke:#000000;stroke-width:0.8;\" x=\"619.763937\" xlink:href=\"#maec27a2fe7\" y=\"448.256867\"/>\r\n      </g>\r\n     </g>\r\n     <g id=\"text_53\">\r\n      <!-- 20 -->\r\n      <g transform=\"translate(626.763937 452.056086)scale(0.1 -0.1)\">\r\n       <use xlink:href=\"#DejaVuSans-50\"/>\r\n       <use x=\"63.623047\" xlink:href=\"#DejaVuSans-48\"/>\r\n      </g>\r\n     </g>\r\n    </g>\r\n    <g id=\"ytick_10\">\r\n     <g id=\"line2d_16\">\r\n      <g>\r\n       <use style=\"stroke:#000000;stroke-width:0.8;\" x=\"619.763937\" xlink:href=\"#maec27a2fe7\" y=\"369.8053\"/>\r\n      </g>\r\n     </g>\r\n     <g id=\"text_54\">\r\n      <!-- 30 -->\r\n      <g transform=\"translate(626.763937 373.604519)scale(0.1 -0.1)\">\r\n       <use xlink:href=\"#DejaVuSans-51\"/>\r\n       <use x=\"63.623047\" xlink:href=\"#DejaVuSans-48\"/>\r\n      </g>\r\n     </g>\r\n    </g>\r\n    <g id=\"ytick_11\">\r\n     <g id=\"line2d_17\">\r\n      <g>\r\n       <use style=\"stroke:#000000;stroke-width:0.8;\" x=\"619.763937\" xlink:href=\"#maec27a2fe7\" y=\"291.353734\"/>\r\n      </g>\r\n     </g>\r\n     <g id=\"text_55\">\r\n      <!-- 40 -->\r\n      <g transform=\"translate(626.763937 295.152953)scale(0.1 -0.1)\">\r\n       <use xlink:href=\"#DejaVuSans-52\"/>\r\n       <use x=\"63.623047\" xlink:href=\"#DejaVuSans-48\"/>\r\n      </g>\r\n     </g>\r\n    </g>\r\n    <g id=\"ytick_12\">\r\n     <g id=\"line2d_18\">\r\n      <g>\r\n       <use style=\"stroke:#000000;stroke-width:0.8;\" x=\"619.763937\" xlink:href=\"#maec27a2fe7\" y=\"212.902167\"/>\r\n      </g>\r\n     </g>\r\n     <g id=\"text_56\">\r\n      <!-- 50 -->\r\n      <g transform=\"translate(626.763937 216.701386)scale(0.1 -0.1)\">\r\n       <use xlink:href=\"#DejaVuSans-53\"/>\r\n       <use x=\"63.623047\" xlink:href=\"#DejaVuSans-48\"/>\r\n      </g>\r\n     </g>\r\n    </g>\r\n    <g id=\"ytick_13\">\r\n     <g id=\"line2d_19\">\r\n      <g>\r\n       <use style=\"stroke:#000000;stroke-width:0.8;\" x=\"619.763937\" xlink:href=\"#maec27a2fe7\" y=\"134.450601\"/>\r\n      </g>\r\n     </g>\r\n     <g id=\"text_57\">\r\n      <!-- 60 -->\r\n      <g transform=\"translate(626.763937 138.24982)scale(0.1 -0.1)\">\r\n       <use xlink:href=\"#DejaVuSans-54\"/>\r\n       <use x=\"63.623047\" xlink:href=\"#DejaVuSans-48\"/>\r\n      </g>\r\n     </g>\r\n    </g>\r\n    <g id=\"ytick_14\">\r\n     <g id=\"line2d_20\">\r\n      <g>\r\n       <use style=\"stroke:#000000;stroke-width:0.8;\" x=\"619.763937\" xlink:href=\"#maec27a2fe7\" y=\"55.999034\"/>\r\n      </g>\r\n     </g>\r\n     <g id=\"text_58\">\r\n      <!-- 70 -->\r\n      <g transform=\"translate(626.763937 59.798253)scale(0.1 -0.1)\">\r\n       <use xlink:href=\"#DejaVuSans-55\"/>\r\n       <use x=\"63.623047\" xlink:href=\"#DejaVuSans-48\"/>\r\n      </g>\r\n     </g>\r\n    </g>\r\n   </g>\r\n   <g id=\"patch_8\">\r\n    <path d=\"M 589.865938 605.16 \r\nL 589.865938 602.824219 \r\nL 589.865938 9.535781 \r\nL 589.865938 7.2 \r\nL 619.763937 7.2 \r\nL 619.763937 9.535781 \r\nL 619.763937 602.824219 \r\nL 619.763937 605.16 \r\nz\r\n\" style=\"fill:none;stroke:#000000;stroke-linejoin:miter;stroke-width:0.8;\"/>\r\n   </g>\r\n  </g>\r\n </g>\r\n <defs>\r\n  <clipPath id=\"p0fc60fad63\">\r\n   <rect height=\"491.04\" width=\"491.04\" x=\"68.135938\" y=\"60.66\"/>\r\n  </clipPath>\r\n  <clipPath id=\"p7a612ccf54\">\r\n   <rect height=\"597.96\" width=\"29.898\" x=\"589.865938\" y=\"7.2\"/>\r\n  </clipPath>\r\n </defs>\r\n</svg>\r\n",
      "image/png": "[encoded data removed]"
     },
     "metadata": {
      "needs_background": "light"
     }
    }
   ],
   "source": [
    "# sns.set(font_scale=1.5)\n",
    "fig, ax = plt.subplots(1,1,figsize=(11,11))\n",
    "\n",
    "cat_dict = dict( enumerate(dataset['Feeling'].cat.categories ) )\n",
    "\n",
    "y_pred_cats = [cat_dict[i] for i in y_pred.cpu().numpy().tolist()]\n",
    "y_true_cats = [cat_dict[i] for i in y_true.cpu().numpy().tolist()]\n",
    "\n",
    "matriz_de_confusao = 100*confusion_matrix(y_pred_cats, y_true_cats, normalize='true', labels=list(cat_dict.values()))\n",
    "# normalize{‘true’, ‘pred’, ‘all’}, default=None\n",
    "# Normalizes confusion matrix over the true (rows), predicted (columns) conditions or all the population. If None, confusion matrix will not be normalized.\n",
    "\n",
    "#criando list com as emoções\n",
    "emotion_class = ['Angry','Disgust','Fear','Happy','Sad','Surprise']\n",
    "\n",
    "df_matriz_de_confusao = pd.DataFrame(matriz_de_confusao, emotion_class, emotion_class)\n",
    "\n",
    "cfm = ConfusionMatrixDisplay(matriz_de_confusao)\n",
    "\n",
    "cfm.plot(ax=ax, cmap='RdBu')\n",
    "\n",
    "ax.set_xticklabels(labels=list(cat_dict.values()))\n",
    "ax.set_yticklabels(labels=list(cat_dict.values()))\n",
    "\n",
    "ax.grid(False)"
   ]
  },
  {
   "cell_type": "code",
   "execution_count": 53,
   "metadata": {},
   "outputs": [],
   "source": [
    "# matriz_de_confusao"
   ]
  },
  {
   "cell_type": "code",
   "execution_count": 34,
   "metadata": {},
   "outputs": [
    {
     "output_type": "execute_result",
     "data": {
      "text/plain": [
       "0.9457132160239611"
      ]
     },
     "metadata": {},
     "execution_count": 34
    }
   ],
   "source": [
    "accs[-1]"
   ]
  },
  {
   "cell_type": "code",
   "execution_count": 35,
   "metadata": {},
   "outputs": [
    {
     "output_type": "stream",
     "name": "stdout",
     "text": [
      "68.41%\n"
     ]
    }
   ],
   "source": [
    "test_acc = calc_accuracy(Y_pred_tensor.cpu(), y_true.cpu())     # calcula a taxa de acerto atual\n",
    "print(f'{100*test_acc:.2f}%')"
   ]
  },
  {
   "source": [
    "### Gráfico de *loss* e *accuracy*"
   ],
   "cell_type": "markdown",
   "metadata": {}
  },
  {
   "cell_type": "code",
   "execution_count": 36,
   "metadata": {},
   "outputs": [
    {
     "output_type": "display_data",
     "data": {
      "text/plain": "<Figure size 1152x432 with 2 Axes>",
      "image/svg+xml": "<?xml version=\"1.0\" encoding=\"utf-8\" standalone=\"no\"?>\r\n<!DOCTYPE svg PUBLIC \"-//W3C//DTD SVG 1.1//EN\"\r\n  \"http://www.w3.org/Graphics/SVG/1.1/DTD/svg11.dtd\">\r\n<!-- Created with matplotlib (https://matplotlib.org/) -->\r\n<svg height=\"414.11625pt\" version=\"1.1\" viewBox=\"0 0 943.78125 414.11625\" width=\"943.78125pt\" xmlns=\"http://www.w3.org/2000/svg\" xmlns:xlink=\"http://www.w3.org/1999/xlink\">\r\n <metadata>\r\n  <rdf:RDF xmlns:cc=\"http://creativecommons.org/ns#\" xmlns:dc=\"http://purl.org/dc/elements/1.1/\" xmlns:rdf=\"http://www.w3.org/1999/02/22-rdf-syntax-ns#\">\r\n   <cc:Work>\r\n    <dc:type rdf:resource=\"http://purl.org/dc/dcmitype/StillImage\"/>\r\n    <dc:date>2021-04-22T18:45:37.187286</dc:date>\r\n    <dc:format>image/svg+xml</dc:format>\r\n    <dc:creator>\r\n     <cc:Agent>\r\n      <dc:title>Matplotlib v3.3.2, https://matplotlib.org/</dc:title>\r\n     </cc:Agent>\r\n    </dc:creator>\r\n   </cc:Work>\r\n  </rdf:RDF>\r\n </metadata>\r\n <defs>\r\n  <style type=\"text/css\">*{stroke-linecap:butt;stroke-linejoin:round;}</style>\r\n </defs>\r\n <g id=\"figure_1\">\r\n  <g id=\"patch_1\">\r\n   <path d=\"M 0 414.11625 \r\nL 943.78125 414.11625 \r\nL 943.78125 0 \r\nL 0 0 \r\nz\r\n\" style=\"fill:none;\"/>\r\n  </g>\r\n  <g id=\"axes_1\">\r\n   <g id=\"patch_2\">\r\n    <path d=\"M 43.78125 376.56 \r\nL 449.599432 376.56 \r\nL 449.599432 50.4 \r\nL 43.78125 50.4 \r\nz\r\n\" style=\"fill:#ffffff;\"/>\r\n   </g>\r\n   <g id=\"matplotlib.axis_1\">\r\n    <g id=\"xtick_1\">\r\n     <g id=\"line2d_1\">\r\n      <defs>\r\n       <path d=\"M 0 0 \r\nL 0 3.5 \r\n\" id=\"mdf6c81620d\" style=\"stroke:#000000;stroke-width:0.8;\"/>\r\n      </defs>\r\n      <g>\r\n       <use style=\"stroke:#000000;stroke-width:0.8;\" x=\"62.227531\" xlink:href=\"#mdf6c81620d\" y=\"376.56\"/>\r\n      </g>\r\n     </g>\r\n     <g id=\"text_1\">\r\n      <!-- 0 -->\r\n      <g transform=\"translate(59.046281 391.158437)scale(0.1 -0.1)\">\r\n       <defs>\r\n        <path d=\"M 31.78125 66.40625 \r\nQ 24.171875 66.40625 20.328125 58.90625 \r\nQ 16.5 51.421875 16.5 36.375 \r\nQ 16.5 21.390625 20.328125 13.890625 \r\nQ 24.171875 6.390625 31.78125 6.390625 \r\nQ 39.453125 6.390625 43.28125 13.890625 \r\nQ 47.125 21.390625 47.125 36.375 \r\nQ 47.125 51.421875 43.28125 58.90625 \r\nQ 39.453125 66.40625 31.78125 66.40625 \r\nz\r\nM 31.78125 74.21875 \r\nQ 44.046875 74.21875 50.515625 64.515625 \r\nQ 56.984375 54.828125 56.984375 36.375 \r\nQ 56.984375 17.96875 50.515625 8.265625 \r\nQ 44.046875 -1.421875 31.78125 -1.421875 \r\nQ 19.53125 -1.421875 13.0625 8.265625 \r\nQ 6.59375 17.96875 6.59375 36.375 \r\nQ 6.59375 54.828125 13.0625 64.515625 \r\nQ 19.53125 74.21875 31.78125 74.21875 \r\nz\r\n\" id=\"DejaVuSans-48\"/>\r\n       </defs>\r\n       <use xlink:href=\"#DejaVuSans-48\"/>\r\n      </g>\r\n     </g>\r\n    </g>\r\n    <g id=\"xtick_2\">\r\n     <g id=\"line2d_2\">\r\n      <g>\r\n       <use style=\"stroke:#000000;stroke-width:0.8;\" x=\"136.027415\" xlink:href=\"#mdf6c81620d\" y=\"376.56\"/>\r\n      </g>\r\n     </g>\r\n     <g id=\"text_2\">\r\n      <!-- 1000 -->\r\n      <g transform=\"translate(123.302415 391.158437)scale(0.1 -0.1)\">\r\n       <defs>\r\n        <path d=\"M 12.40625 8.296875 \r\nL 28.515625 8.296875 \r\nL 28.515625 63.921875 \r\nL 10.984375 60.40625 \r\nL 10.984375 69.390625 \r\nL 28.421875 72.90625 \r\nL 38.28125 72.90625 \r\nL 38.28125 8.296875 \r\nL 54.390625 8.296875 \r\nL 54.390625 0 \r\nL 12.40625 0 \r\nz\r\n\" id=\"DejaVuSans-49\"/>\r\n       </defs>\r\n       <use xlink:href=\"#DejaVuSans-49\"/>\r\n       <use x=\"63.623047\" xlink:href=\"#DejaVuSans-48\"/>\r\n       <use x=\"127.246094\" xlink:href=\"#DejaVuSans-48\"/>\r\n       <use x=\"190.869141\" xlink:href=\"#DejaVuSans-48\"/>\r\n      </g>\r\n     </g>\r\n    </g>\r\n    <g id=\"xtick_3\">\r\n     <g id=\"line2d_3\">\r\n      <g>\r\n       <use style=\"stroke:#000000;stroke-width:0.8;\" x=\"209.827299\" xlink:href=\"#mdf6c81620d\" y=\"376.56\"/>\r\n      </g>\r\n     </g>\r\n     <g id=\"text_3\">\r\n      <!-- 2000 -->\r\n      <g transform=\"translate(197.102299 391.158437)scale(0.1 -0.1)\">\r\n       <defs>\r\n        <path d=\"M 19.1875 8.296875 \r\nL 53.609375 8.296875 \r\nL 53.609375 0 \r\nL 7.328125 0 \r\nL 7.328125 8.296875 \r\nQ 12.9375 14.109375 22.625 23.890625 \r\nQ 32.328125 33.6875 34.8125 36.53125 \r\nQ 39.546875 41.84375 41.421875 45.53125 \r\nQ 43.3125 49.21875 43.3125 52.78125 \r\nQ 43.3125 58.59375 39.234375 62.25 \r\nQ 35.15625 65.921875 28.609375 65.921875 \r\nQ 23.96875 65.921875 18.8125 64.3125 \r\nQ 13.671875 62.703125 7.8125 59.421875 \r\nL 7.8125 69.390625 \r\nQ 13.765625 71.78125 18.9375 73 \r\nQ 24.125 74.21875 28.421875 74.21875 \r\nQ 39.75 74.21875 46.484375 68.546875 \r\nQ 53.21875 62.890625 53.21875 53.421875 \r\nQ 53.21875 48.921875 51.53125 44.890625 \r\nQ 49.859375 40.875 45.40625 35.40625 \r\nQ 44.1875 33.984375 37.640625 27.21875 \r\nQ 31.109375 20.453125 19.1875 8.296875 \r\nz\r\n\" id=\"DejaVuSans-50\"/>\r\n       </defs>\r\n       <use xlink:href=\"#DejaVuSans-50\"/>\r\n       <use x=\"63.623047\" xlink:href=\"#DejaVuSans-48\"/>\r\n       <use x=\"127.246094\" xlink:href=\"#DejaVuSans-48\"/>\r\n       <use x=\"190.869141\" xlink:href=\"#DejaVuSans-48\"/>\r\n      </g>\r\n     </g>\r\n    </g>\r\n    <g id=\"xtick_4\">\r\n     <g id=\"line2d_4\">\r\n      <g>\r\n       <use style=\"stroke:#000000;stroke-width:0.8;\" x=\"283.627183\" xlink:href=\"#mdf6c81620d\" y=\"376.56\"/>\r\n      </g>\r\n     </g>\r\n     <g id=\"text_4\">\r\n      <!-- 3000 -->\r\n      <g transform=\"translate(270.902183 391.158437)scale(0.1 -0.1)\">\r\n       <defs>\r\n        <path d=\"M 40.578125 39.3125 \r\nQ 47.65625 37.796875 51.625 33 \r\nQ 55.609375 28.21875 55.609375 21.1875 \r\nQ 55.609375 10.40625 48.1875 4.484375 \r\nQ 40.765625 -1.421875 27.09375 -1.421875 \r\nQ 22.515625 -1.421875 17.65625 -0.515625 \r\nQ 12.796875 0.390625 7.625 2.203125 \r\nL 7.625 11.71875 \r\nQ 11.71875 9.328125 16.59375 8.109375 \r\nQ 21.484375 6.890625 26.8125 6.890625 \r\nQ 36.078125 6.890625 40.9375 10.546875 \r\nQ 45.796875 14.203125 45.796875 21.1875 \r\nQ 45.796875 27.640625 41.28125 31.265625 \r\nQ 36.765625 34.90625 28.71875 34.90625 \r\nL 20.21875 34.90625 \r\nL 20.21875 43.015625 \r\nL 29.109375 43.015625 \r\nQ 36.375 43.015625 40.234375 45.921875 \r\nQ 44.09375 48.828125 44.09375 54.296875 \r\nQ 44.09375 59.90625 40.109375 62.90625 \r\nQ 36.140625 65.921875 28.71875 65.921875 \r\nQ 24.65625 65.921875 20.015625 65.03125 \r\nQ 15.375 64.15625 9.8125 62.3125 \r\nL 9.8125 71.09375 \r\nQ 15.4375 72.65625 20.34375 73.4375 \r\nQ 25.25 74.21875 29.59375 74.21875 \r\nQ 40.828125 74.21875 47.359375 69.109375 \r\nQ 53.90625 64.015625 53.90625 55.328125 \r\nQ 53.90625 49.265625 50.4375 45.09375 \r\nQ 46.96875 40.921875 40.578125 39.3125 \r\nz\r\n\" id=\"DejaVuSans-51\"/>\r\n       </defs>\r\n       <use xlink:href=\"#DejaVuSans-51\"/>\r\n       <use x=\"63.623047\" xlink:href=\"#DejaVuSans-48\"/>\r\n       <use x=\"127.246094\" xlink:href=\"#DejaVuSans-48\"/>\r\n       <use x=\"190.869141\" xlink:href=\"#DejaVuSans-48\"/>\r\n      </g>\r\n     </g>\r\n    </g>\r\n    <g id=\"xtick_5\">\r\n     <g id=\"line2d_5\">\r\n      <g>\r\n       <use style=\"stroke:#000000;stroke-width:0.8;\" x=\"357.427067\" xlink:href=\"#mdf6c81620d\" y=\"376.56\"/>\r\n      </g>\r\n     </g>\r\n     <g id=\"text_5\">\r\n      <!-- 4000 -->\r\n      <g transform=\"translate(344.702067 391.158437)scale(0.1 -0.1)\">\r\n       <defs>\r\n        <path d=\"M 37.796875 64.3125 \r\nL 12.890625 25.390625 \r\nL 37.796875 25.390625 \r\nz\r\nM 35.203125 72.90625 \r\nL 47.609375 72.90625 \r\nL 47.609375 25.390625 \r\nL 58.015625 25.390625 \r\nL 58.015625 17.1875 \r\nL 47.609375 17.1875 \r\nL 47.609375 0 \r\nL 37.796875 0 \r\nL 37.796875 17.1875 \r\nL 4.890625 17.1875 \r\nL 4.890625 26.703125 \r\nz\r\n\" id=\"DejaVuSans-52\"/>\r\n       </defs>\r\n       <use xlink:href=\"#DejaVuSans-52\"/>\r\n       <use x=\"63.623047\" xlink:href=\"#DejaVuSans-48\"/>\r\n       <use x=\"127.246094\" xlink:href=\"#DejaVuSans-48\"/>\r\n       <use x=\"190.869141\" xlink:href=\"#DejaVuSans-48\"/>\r\n      </g>\r\n     </g>\r\n    </g>\r\n    <g id=\"xtick_6\">\r\n     <g id=\"line2d_6\">\r\n      <g>\r\n       <use style=\"stroke:#000000;stroke-width:0.8;\" x=\"431.226951\" xlink:href=\"#mdf6c81620d\" y=\"376.56\"/>\r\n      </g>\r\n     </g>\r\n     <g id=\"text_6\">\r\n      <!-- 5000 -->\r\n      <g transform=\"translate(418.501951 391.158437)scale(0.1 -0.1)\">\r\n       <defs>\r\n        <path d=\"M 10.796875 72.90625 \r\nL 49.515625 72.90625 \r\nL 49.515625 64.59375 \r\nL 19.828125 64.59375 \r\nL 19.828125 46.734375 \r\nQ 21.96875 47.46875 24.109375 47.828125 \r\nQ 26.265625 48.1875 28.421875 48.1875 \r\nQ 40.625 48.1875 47.75 41.5 \r\nQ 54.890625 34.8125 54.890625 23.390625 \r\nQ 54.890625 11.625 47.5625 5.09375 \r\nQ 40.234375 -1.421875 26.90625 -1.421875 \r\nQ 22.3125 -1.421875 17.546875 -0.640625 \r\nQ 12.796875 0.140625 7.71875 1.703125 \r\nL 7.71875 11.625 \r\nQ 12.109375 9.234375 16.796875 8.0625 \r\nQ 21.484375 6.890625 26.703125 6.890625 \r\nQ 35.15625 6.890625 40.078125 11.328125 \r\nQ 45.015625 15.765625 45.015625 23.390625 \r\nQ 45.015625 31 40.078125 35.4375 \r\nQ 35.15625 39.890625 26.703125 39.890625 \r\nQ 22.75 39.890625 18.8125 39.015625 \r\nQ 14.890625 38.140625 10.796875 36.28125 \r\nz\r\n\" id=\"DejaVuSans-53\"/>\r\n       </defs>\r\n       <use xlink:href=\"#DejaVuSans-53\"/>\r\n       <use x=\"63.623047\" xlink:href=\"#DejaVuSans-48\"/>\r\n       <use x=\"127.246094\" xlink:href=\"#DejaVuSans-48\"/>\r\n       <use x=\"190.869141\" xlink:href=\"#DejaVuSans-48\"/>\r\n      </g>\r\n     </g>\r\n    </g>\r\n    <g id=\"text_7\">\r\n     <!-- epochs -->\r\n     <g transform=\"translate(228.857528 404.836562)scale(0.1 -0.1)\">\r\n      <defs>\r\n       <path d=\"M 56.203125 29.59375 \r\nL 56.203125 25.203125 \r\nL 14.890625 25.203125 \r\nQ 15.484375 15.921875 20.484375 11.0625 \r\nQ 25.484375 6.203125 34.421875 6.203125 \r\nQ 39.59375 6.203125 44.453125 7.46875 \r\nQ 49.3125 8.734375 54.109375 11.28125 \r\nL 54.109375 2.78125 \r\nQ 49.265625 0.734375 44.1875 -0.34375 \r\nQ 39.109375 -1.421875 33.890625 -1.421875 \r\nQ 20.796875 -1.421875 13.15625 6.1875 \r\nQ 5.515625 13.8125 5.515625 26.8125 \r\nQ 5.515625 40.234375 12.765625 48.109375 \r\nQ 20.015625 56 32.328125 56 \r\nQ 43.359375 56 49.78125 48.890625 \r\nQ 56.203125 41.796875 56.203125 29.59375 \r\nz\r\nM 47.21875 32.234375 \r\nQ 47.125 39.59375 43.09375 43.984375 \r\nQ 39.0625 48.390625 32.421875 48.390625 \r\nQ 24.90625 48.390625 20.390625 44.140625 \r\nQ 15.875 39.890625 15.1875 32.171875 \r\nz\r\n\" id=\"DejaVuSans-101\"/>\r\n       <path d=\"M 18.109375 8.203125 \r\nL 18.109375 -20.796875 \r\nL 9.078125 -20.796875 \r\nL 9.078125 54.6875 \r\nL 18.109375 54.6875 \r\nL 18.109375 46.390625 \r\nQ 20.953125 51.265625 25.265625 53.625 \r\nQ 29.59375 56 35.59375 56 \r\nQ 45.5625 56 51.78125 48.09375 \r\nQ 58.015625 40.1875 58.015625 27.296875 \r\nQ 58.015625 14.40625 51.78125 6.484375 \r\nQ 45.5625 -1.421875 35.59375 -1.421875 \r\nQ 29.59375 -1.421875 25.265625 0.953125 \r\nQ 20.953125 3.328125 18.109375 8.203125 \r\nz\r\nM 48.6875 27.296875 \r\nQ 48.6875 37.203125 44.609375 42.84375 \r\nQ 40.53125 48.484375 33.40625 48.484375 \r\nQ 26.265625 48.484375 22.1875 42.84375 \r\nQ 18.109375 37.203125 18.109375 27.296875 \r\nQ 18.109375 17.390625 22.1875 11.75 \r\nQ 26.265625 6.109375 33.40625 6.109375 \r\nQ 40.53125 6.109375 44.609375 11.75 \r\nQ 48.6875 17.390625 48.6875 27.296875 \r\nz\r\n\" id=\"DejaVuSans-112\"/>\r\n       <path d=\"M 30.609375 48.390625 \r\nQ 23.390625 48.390625 19.1875 42.75 \r\nQ 14.984375 37.109375 14.984375 27.296875 \r\nQ 14.984375 17.484375 19.15625 11.84375 \r\nQ 23.34375 6.203125 30.609375 6.203125 \r\nQ 37.796875 6.203125 41.984375 11.859375 \r\nQ 46.1875 17.53125 46.1875 27.296875 \r\nQ 46.1875 37.015625 41.984375 42.703125 \r\nQ 37.796875 48.390625 30.609375 48.390625 \r\nz\r\nM 30.609375 56 \r\nQ 42.328125 56 49.015625 48.375 \r\nQ 55.71875 40.765625 55.71875 27.296875 \r\nQ 55.71875 13.875 49.015625 6.21875 \r\nQ 42.328125 -1.421875 30.609375 -1.421875 \r\nQ 18.84375 -1.421875 12.171875 6.21875 \r\nQ 5.515625 13.875 5.515625 27.296875 \r\nQ 5.515625 40.765625 12.171875 48.375 \r\nQ 18.84375 56 30.609375 56 \r\nz\r\n\" id=\"DejaVuSans-111\"/>\r\n       <path d=\"M 48.78125 52.59375 \r\nL 48.78125 44.1875 \r\nQ 44.96875 46.296875 41.140625 47.34375 \r\nQ 37.3125 48.390625 33.40625 48.390625 \r\nQ 24.65625 48.390625 19.8125 42.84375 \r\nQ 14.984375 37.3125 14.984375 27.296875 \r\nQ 14.984375 17.28125 19.8125 11.734375 \r\nQ 24.65625 6.203125 33.40625 6.203125 \r\nQ 37.3125 6.203125 41.140625 7.25 \r\nQ 44.96875 8.296875 48.78125 10.40625 \r\nL 48.78125 2.09375 \r\nQ 45.015625 0.34375 40.984375 -0.53125 \r\nQ 36.96875 -1.421875 32.421875 -1.421875 \r\nQ 20.0625 -1.421875 12.78125 6.34375 \r\nQ 5.515625 14.109375 5.515625 27.296875 \r\nQ 5.515625 40.671875 12.859375 48.328125 \r\nQ 20.21875 56 33.015625 56 \r\nQ 37.15625 56 41.109375 55.140625 \r\nQ 45.0625 54.296875 48.78125 52.59375 \r\nz\r\n\" id=\"DejaVuSans-99\"/>\r\n       <path d=\"M 54.890625 33.015625 \r\nL 54.890625 0 \r\nL 45.90625 0 \r\nL 45.90625 32.71875 \r\nQ 45.90625 40.484375 42.875 44.328125 \r\nQ 39.84375 48.1875 33.796875 48.1875 \r\nQ 26.515625 48.1875 22.3125 43.546875 \r\nQ 18.109375 38.921875 18.109375 30.90625 \r\nL 18.109375 0 \r\nL 9.078125 0 \r\nL 9.078125 75.984375 \r\nL 18.109375 75.984375 \r\nL 18.109375 46.1875 \r\nQ 21.34375 51.125 25.703125 53.5625 \r\nQ 30.078125 56 35.796875 56 \r\nQ 45.21875 56 50.046875 50.171875 \r\nQ 54.890625 44.34375 54.890625 33.015625 \r\nz\r\n\" id=\"DejaVuSans-104\"/>\r\n       <path d=\"M 44.28125 53.078125 \r\nL 44.28125 44.578125 \r\nQ 40.484375 46.53125 36.375 47.5 \r\nQ 32.28125 48.484375 27.875 48.484375 \r\nQ 21.1875 48.484375 17.84375 46.4375 \r\nQ 14.5 44.390625 14.5 40.28125 \r\nQ 14.5 37.15625 16.890625 35.375 \r\nQ 19.28125 33.59375 26.515625 31.984375 \r\nL 29.59375 31.296875 \r\nQ 39.15625 29.25 43.1875 25.515625 \r\nQ 47.21875 21.78125 47.21875 15.09375 \r\nQ 47.21875 7.46875 41.1875 3.015625 \r\nQ 35.15625 -1.421875 24.609375 -1.421875 \r\nQ 20.21875 -1.421875 15.453125 -0.5625 \r\nQ 10.6875 0.296875 5.421875 2 \r\nL 5.421875 11.28125 \r\nQ 10.40625 8.6875 15.234375 7.390625 \r\nQ 20.0625 6.109375 24.8125 6.109375 \r\nQ 31.15625 6.109375 34.5625 8.28125 \r\nQ 37.984375 10.453125 37.984375 14.40625 \r\nQ 37.984375 18.0625 35.515625 20.015625 \r\nQ 33.0625 21.96875 24.703125 23.78125 \r\nL 21.578125 24.515625 \r\nQ 13.234375 26.265625 9.515625 29.90625 \r\nQ 5.8125 33.546875 5.8125 39.890625 \r\nQ 5.8125 47.609375 11.28125 51.796875 \r\nQ 16.75 56 26.8125 56 \r\nQ 31.78125 56 36.171875 55.265625 \r\nQ 40.578125 54.546875 44.28125 53.078125 \r\nz\r\n\" id=\"DejaVuSans-115\"/>\r\n      </defs>\r\n      <use xlink:href=\"#DejaVuSans-101\"/>\r\n      <use x=\"61.523438\" xlink:href=\"#DejaVuSans-112\"/>\r\n      <use x=\"125\" xlink:href=\"#DejaVuSans-111\"/>\r\n      <use x=\"186.181641\" xlink:href=\"#DejaVuSans-99\"/>\r\n      <use x=\"241.162109\" xlink:href=\"#DejaVuSans-104\"/>\r\n      <use x=\"304.541016\" xlink:href=\"#DejaVuSans-115\"/>\r\n     </g>\r\n    </g>\r\n   </g>\r\n   <g id=\"matplotlib.axis_2\">\r\n    <g id=\"ytick_1\">\r\n     <g id=\"line2d_7\">\r\n      <defs>\r\n       <path d=\"M 0 0 \r\nL -3.5 0 \r\n\" id=\"m14790f9b81\" style=\"stroke:#000000;stroke-width:0.8;\"/>\r\n      </defs>\r\n      <g>\r\n       <use style=\"stroke:#000000;stroke-width:0.8;\" x=\"43.78125\" xlink:href=\"#m14790f9b81\" y=\"362.969816\"/>\r\n      </g>\r\n     </g>\r\n     <g id=\"text_8\">\r\n      <!-- 0.2 -->\r\n      <g transform=\"translate(20.878125 366.769034)scale(0.1 -0.1)\">\r\n       <defs>\r\n        <path d=\"M 10.6875 12.40625 \r\nL 21 12.40625 \r\nL 21 0 \r\nL 10.6875 0 \r\nz\r\n\" id=\"DejaVuSans-46\"/>\r\n       </defs>\r\n       <use xlink:href=\"#DejaVuSans-48\"/>\r\n       <use x=\"63.623047\" xlink:href=\"#DejaVuSans-46\"/>\r\n       <use x=\"95.410156\" xlink:href=\"#DejaVuSans-50\"/>\r\n      </g>\r\n     </g>\r\n    </g>\r\n    <g id=\"ytick_2\">\r\n     <g id=\"line2d_8\">\r\n      <g>\r\n       <use style=\"stroke:#000000;stroke-width:0.8;\" x=\"43.78125\" xlink:href=\"#m14790f9b81\" y=\"325.73826\"/>\r\n      </g>\r\n     </g>\r\n     <g id=\"text_9\">\r\n      <!-- 0.4 -->\r\n      <g transform=\"translate(20.878125 329.537479)scale(0.1 -0.1)\">\r\n       <use xlink:href=\"#DejaVuSans-48\"/>\r\n       <use x=\"63.623047\" xlink:href=\"#DejaVuSans-46\"/>\r\n       <use x=\"95.410156\" xlink:href=\"#DejaVuSans-52\"/>\r\n      </g>\r\n     </g>\r\n    </g>\r\n    <g id=\"ytick_3\">\r\n     <g id=\"line2d_9\">\r\n      <g>\r\n       <use style=\"stroke:#000000;stroke-width:0.8;\" x=\"43.78125\" xlink:href=\"#m14790f9b81\" y=\"288.506705\"/>\r\n      </g>\r\n     </g>\r\n     <g id=\"text_10\">\r\n      <!-- 0.6 -->\r\n      <g transform=\"translate(20.878125 292.305924)scale(0.1 -0.1)\">\r\n       <defs>\r\n        <path d=\"M 33.015625 40.375 \r\nQ 26.375 40.375 22.484375 35.828125 \r\nQ 18.609375 31.296875 18.609375 23.390625 \r\nQ 18.609375 15.53125 22.484375 10.953125 \r\nQ 26.375 6.390625 33.015625 6.390625 \r\nQ 39.65625 6.390625 43.53125 10.953125 \r\nQ 47.40625 15.53125 47.40625 23.390625 \r\nQ 47.40625 31.296875 43.53125 35.828125 \r\nQ 39.65625 40.375 33.015625 40.375 \r\nz\r\nM 52.59375 71.296875 \r\nL 52.59375 62.3125 \r\nQ 48.875 64.0625 45.09375 64.984375 \r\nQ 41.3125 65.921875 37.59375 65.921875 \r\nQ 27.828125 65.921875 22.671875 59.328125 \r\nQ 17.53125 52.734375 16.796875 39.40625 \r\nQ 19.671875 43.65625 24.015625 45.921875 \r\nQ 28.375 48.1875 33.59375 48.1875 \r\nQ 44.578125 48.1875 50.953125 41.515625 \r\nQ 57.328125 34.859375 57.328125 23.390625 \r\nQ 57.328125 12.15625 50.6875 5.359375 \r\nQ 44.046875 -1.421875 33.015625 -1.421875 \r\nQ 20.359375 -1.421875 13.671875 8.265625 \r\nQ 6.984375 17.96875 6.984375 36.375 \r\nQ 6.984375 53.65625 15.1875 63.9375 \r\nQ 23.390625 74.21875 37.203125 74.21875 \r\nQ 40.921875 74.21875 44.703125 73.484375 \r\nQ 48.484375 72.75 52.59375 71.296875 \r\nz\r\n\" id=\"DejaVuSans-54\"/>\r\n       </defs>\r\n       <use xlink:href=\"#DejaVuSans-48\"/>\r\n       <use x=\"63.623047\" xlink:href=\"#DejaVuSans-46\"/>\r\n       <use x=\"95.410156\" xlink:href=\"#DejaVuSans-54\"/>\r\n      </g>\r\n     </g>\r\n    </g>\r\n    <g id=\"ytick_4\">\r\n     <g id=\"line2d_10\">\r\n      <g>\r\n       <use style=\"stroke:#000000;stroke-width:0.8;\" x=\"43.78125\" xlink:href=\"#m14790f9b81\" y=\"251.275149\"/>\r\n      </g>\r\n     </g>\r\n     <g id=\"text_11\">\r\n      <!-- 0.8 -->\r\n      <g transform=\"translate(20.878125 255.074368)scale(0.1 -0.1)\">\r\n       <defs>\r\n        <path d=\"M 31.78125 34.625 \r\nQ 24.75 34.625 20.71875 30.859375 \r\nQ 16.703125 27.09375 16.703125 20.515625 \r\nQ 16.703125 13.921875 20.71875 10.15625 \r\nQ 24.75 6.390625 31.78125 6.390625 \r\nQ 38.8125 6.390625 42.859375 10.171875 \r\nQ 46.921875 13.96875 46.921875 20.515625 \r\nQ 46.921875 27.09375 42.890625 30.859375 \r\nQ 38.875 34.625 31.78125 34.625 \r\nz\r\nM 21.921875 38.8125 \r\nQ 15.578125 40.375 12.03125 44.71875 \r\nQ 8.5 49.078125 8.5 55.328125 \r\nQ 8.5 64.0625 14.71875 69.140625 \r\nQ 20.953125 74.21875 31.78125 74.21875 \r\nQ 42.671875 74.21875 48.875 69.140625 \r\nQ 55.078125 64.0625 55.078125 55.328125 \r\nQ 55.078125 49.078125 51.53125 44.71875 \r\nQ 48 40.375 41.703125 38.8125 \r\nQ 48.828125 37.15625 52.796875 32.3125 \r\nQ 56.78125 27.484375 56.78125 20.515625 \r\nQ 56.78125 9.90625 50.3125 4.234375 \r\nQ 43.84375 -1.421875 31.78125 -1.421875 \r\nQ 19.734375 -1.421875 13.25 4.234375 \r\nQ 6.78125 9.90625 6.78125 20.515625 \r\nQ 6.78125 27.484375 10.78125 32.3125 \r\nQ 14.796875 37.15625 21.921875 38.8125 \r\nz\r\nM 18.3125 54.390625 \r\nQ 18.3125 48.734375 21.84375 45.5625 \r\nQ 25.390625 42.390625 31.78125 42.390625 \r\nQ 38.140625 42.390625 41.71875 45.5625 \r\nQ 45.3125 48.734375 45.3125 54.390625 \r\nQ 45.3125 60.0625 41.71875 63.234375 \r\nQ 38.140625 66.40625 31.78125 66.40625 \r\nQ 25.390625 66.40625 21.84375 63.234375 \r\nQ 18.3125 60.0625 18.3125 54.390625 \r\nz\r\n\" id=\"DejaVuSans-56\"/>\r\n       </defs>\r\n       <use xlink:href=\"#DejaVuSans-48\"/>\r\n       <use x=\"63.623047\" xlink:href=\"#DejaVuSans-46\"/>\r\n       <use x=\"95.410156\" xlink:href=\"#DejaVuSans-56\"/>\r\n      </g>\r\n     </g>\r\n    </g>\r\n    <g id=\"ytick_5\">\r\n     <g id=\"line2d_11\">\r\n      <g>\r\n       <use style=\"stroke:#000000;stroke-width:0.8;\" x=\"43.78125\" xlink:href=\"#m14790f9b81\" y=\"214.043594\"/>\r\n      </g>\r\n     </g>\r\n     <g id=\"text_12\">\r\n      <!-- 1.0 -->\r\n      <g transform=\"translate(20.878125 217.842813)scale(0.1 -0.1)\">\r\n       <use xlink:href=\"#DejaVuSans-49\"/>\r\n       <use x=\"63.623047\" xlink:href=\"#DejaVuSans-46\"/>\r\n       <use x=\"95.410156\" xlink:href=\"#DejaVuSans-48\"/>\r\n      </g>\r\n     </g>\r\n    </g>\r\n    <g id=\"ytick_6\">\r\n     <g id=\"line2d_12\">\r\n      <g>\r\n       <use style=\"stroke:#000000;stroke-width:0.8;\" x=\"43.78125\" xlink:href=\"#m14790f9b81\" y=\"176.812038\"/>\r\n      </g>\r\n     </g>\r\n     <g id=\"text_13\">\r\n      <!-- 1.2 -->\r\n      <g transform=\"translate(20.878125 180.611257)scale(0.1 -0.1)\">\r\n       <use xlink:href=\"#DejaVuSans-49\"/>\r\n       <use x=\"63.623047\" xlink:href=\"#DejaVuSans-46\"/>\r\n       <use x=\"95.410156\" xlink:href=\"#DejaVuSans-50\"/>\r\n      </g>\r\n     </g>\r\n    </g>\r\n    <g id=\"ytick_7\">\r\n     <g id=\"line2d_13\">\r\n      <g>\r\n       <use style=\"stroke:#000000;stroke-width:0.8;\" x=\"43.78125\" xlink:href=\"#m14790f9b81\" y=\"139.580483\"/>\r\n      </g>\r\n     </g>\r\n     <g id=\"text_14\">\r\n      <!-- 1.4 -->\r\n      <g transform=\"translate(20.878125 143.379702)scale(0.1 -0.1)\">\r\n       <use xlink:href=\"#DejaVuSans-49\"/>\r\n       <use x=\"63.623047\" xlink:href=\"#DejaVuSans-46\"/>\r\n       <use x=\"95.410156\" xlink:href=\"#DejaVuSans-52\"/>\r\n      </g>\r\n     </g>\r\n    </g>\r\n    <g id=\"ytick_8\">\r\n     <g id=\"line2d_14\">\r\n      <g>\r\n       <use style=\"stroke:#000000;stroke-width:0.8;\" x=\"43.78125\" xlink:href=\"#m14790f9b81\" y=\"102.348927\"/>\r\n      </g>\r\n     </g>\r\n     <g id=\"text_15\">\r\n      <!-- 1.6 -->\r\n      <g transform=\"translate(20.878125 106.148146)scale(0.1 -0.1)\">\r\n       <use xlink:href=\"#DejaVuSans-49\"/>\r\n       <use x=\"63.623047\" xlink:href=\"#DejaVuSans-46\"/>\r\n       <use x=\"95.410156\" xlink:href=\"#DejaVuSans-54\"/>\r\n      </g>\r\n     </g>\r\n    </g>\r\n    <g id=\"ytick_9\">\r\n     <g id=\"line2d_15\">\r\n      <g>\r\n       <use style=\"stroke:#000000;stroke-width:0.8;\" x=\"43.78125\" xlink:href=\"#m14790f9b81\" y=\"65.117372\"/>\r\n      </g>\r\n     </g>\r\n     <g id=\"text_16\">\r\n      <!-- 1.8 -->\r\n      <g transform=\"translate(20.878125 68.916591)scale(0.1 -0.1)\">\r\n       <use xlink:href=\"#DejaVuSans-49\"/>\r\n       <use x=\"63.623047\" xlink:href=\"#DejaVuSans-46\"/>\r\n       <use x=\"95.410156\" xlink:href=\"#DejaVuSans-56\"/>\r\n      </g>\r\n     </g>\r\n    </g>\r\n    <g id=\"text_17\">\r\n     <!-- BCE loss -->\r\n     <g transform=\"translate(14.798438 234.720625)rotate(-90)scale(0.1 -0.1)\">\r\n      <defs>\r\n       <path d=\"M 19.671875 34.8125 \r\nL 19.671875 8.109375 \r\nL 35.5 8.109375 \r\nQ 43.453125 8.109375 47.28125 11.40625 \r\nQ 51.125 14.703125 51.125 21.484375 \r\nQ 51.125 28.328125 47.28125 31.5625 \r\nQ 43.453125 34.8125 35.5 34.8125 \r\nz\r\nM 19.671875 64.796875 \r\nL 19.671875 42.828125 \r\nL 34.28125 42.828125 \r\nQ 41.5 42.828125 45.03125 45.53125 \r\nQ 48.578125 48.25 48.578125 53.8125 \r\nQ 48.578125 59.328125 45.03125 62.0625 \r\nQ 41.5 64.796875 34.28125 64.796875 \r\nz\r\nM 9.8125 72.90625 \r\nL 35.015625 72.90625 \r\nQ 46.296875 72.90625 52.390625 68.21875 \r\nQ 58.5 63.53125 58.5 54.890625 \r\nQ 58.5 48.1875 55.375 44.234375 \r\nQ 52.25 40.28125 46.1875 39.3125 \r\nQ 53.46875 37.75 57.5 32.78125 \r\nQ 61.53125 27.828125 61.53125 20.40625 \r\nQ 61.53125 10.640625 54.890625 5.3125 \r\nQ 48.25 0 35.984375 0 \r\nL 9.8125 0 \r\nz\r\n\" id=\"DejaVuSans-66\"/>\r\n       <path d=\"M 64.40625 67.28125 \r\nL 64.40625 56.890625 \r\nQ 59.421875 61.53125 53.78125 63.8125 \r\nQ 48.140625 66.109375 41.796875 66.109375 \r\nQ 29.296875 66.109375 22.65625 58.46875 \r\nQ 16.015625 50.828125 16.015625 36.375 \r\nQ 16.015625 21.96875 22.65625 14.328125 \r\nQ 29.296875 6.6875 41.796875 6.6875 \r\nQ 48.140625 6.6875 53.78125 8.984375 \r\nQ 59.421875 11.28125 64.40625 15.921875 \r\nL 64.40625 5.609375 \r\nQ 59.234375 2.09375 53.4375 0.328125 \r\nQ 47.65625 -1.421875 41.21875 -1.421875 \r\nQ 24.65625 -1.421875 15.125 8.703125 \r\nQ 5.609375 18.84375 5.609375 36.375 \r\nQ 5.609375 53.953125 15.125 64.078125 \r\nQ 24.65625 74.21875 41.21875 74.21875 \r\nQ 47.75 74.21875 53.53125 72.484375 \r\nQ 59.328125 70.75 64.40625 67.28125 \r\nz\r\n\" id=\"DejaVuSans-67\"/>\r\n       <path d=\"M 9.8125 72.90625 \r\nL 55.90625 72.90625 \r\nL 55.90625 64.59375 \r\nL 19.671875 64.59375 \r\nL 19.671875 43.015625 \r\nL 54.390625 43.015625 \r\nL 54.390625 34.71875 \r\nL 19.671875 34.71875 \r\nL 19.671875 8.296875 \r\nL 56.78125 8.296875 \r\nL 56.78125 0 \r\nL 9.8125 0 \r\nz\r\n\" id=\"DejaVuSans-69\"/>\r\n       <path id=\"DejaVuSans-32\"/>\r\n       <path d=\"M 9.421875 75.984375 \r\nL 18.40625 75.984375 \r\nL 18.40625 0 \r\nL 9.421875 0 \r\nz\r\n\" id=\"DejaVuSans-108\"/>\r\n      </defs>\r\n      <use xlink:href=\"#DejaVuSans-66\"/>\r\n      <use x=\"66.853516\" xlink:href=\"#DejaVuSans-67\"/>\r\n      <use x=\"136.677734\" xlink:href=\"#DejaVuSans-69\"/>\r\n      <use x=\"199.861328\" xlink:href=\"#DejaVuSans-32\"/>\r\n      <use x=\"231.648438\" xlink:href=\"#DejaVuSans-108\"/>\r\n      <use x=\"259.431641\" xlink:href=\"#DejaVuSans-111\"/>\r\n      <use x=\"320.613281\" xlink:href=\"#DejaVuSans-115\"/>\r\n      <use x=\"372.712891\" xlink:href=\"#DejaVuSans-115\"/>\r\n     </g>\r\n    </g>\r\n   </g>\r\n   <g id=\"line2d_16\">\r\n    <path clip-path=\"url(#p703c7e103c)\" d=\"M 62.227531 65.225455 \r\nL 63.03933 93.053559 \r\nL 63.703529 109.182091 \r\nL 64.220128 116.618498 \r\nL 64.589127 119.344464 \r\nL 64.958127 120.579434 \r\nL 65.622326 122.179192 \r\nL 67.910122 130.085265 \r\nL 69.09092 135.488287 \r\nL 70.788318 144.506875 \r\nL 72.707115 154.381821 \r\nL 74.035512 160.010777 \r\nL 75.29011 164.369323 \r\nL 76.618508 168.210157 \r\nL 78.168306 171.9887 \r\nL 79.865703 175.53019 \r\nL 81.7107 178.86117 \r\nL 83.777097 182.141308 \r\nL 86.138693 185.467073 \r\nL 88.42649 188.312919 \r\nL 90.935686 191.067402 \r\nL 94.330481 194.403153 \r\nL 97.725275 197.432125 \r\nL 102.596068 201.511698 \r\nL 113.44465 210.099812 \r\nL 135.510816 227.224231 \r\nL 149.237594 237.741894 \r\nL 175.510353 257.382324 \r\nL 187.465934 265.832516 \r\nL 200.233314 274.518106 \r\nL 215.878889 284.721534 \r\nL 228.941469 292.71229 \r\nL 238.756853 298.321517 \r\nL 249.826836 304.234983 \r\nL 257.797223 308.275565 \r\nL 265.915211 312.177899 \r\nL 273.442799 315.617917 \r\nL 281.855986 319.279654 \r\nL 304.29115 328.393783 \r\nL 329.309311 337.259704 \r\nL 340.822093 340.873334 \r\nL 355.43447 345.067567 \r\nL 382.666627 351.947277 \r\nL 393.29381 354.327524 \r\nL 414.326777 358.646047 \r\nL 431.153151 361.734545 \r\nL 431.153151 361.734545 \r\n\" style=\"fill:none;stroke:#1f77b4;stroke-linecap:square;stroke-width:1.5;\"/>\r\n   </g>\r\n   <g id=\"patch_3\">\r\n    <path d=\"M 43.78125 376.56 \r\nL 43.78125 50.4 \r\n\" style=\"fill:none;stroke:#000000;stroke-linecap:square;stroke-linejoin:miter;stroke-width:0.8;\"/>\r\n   </g>\r\n   <g id=\"patch_4\">\r\n    <path d=\"M 449.599432 376.56 \r\nL 449.599432 50.4 \r\n\" style=\"fill:none;stroke:#000000;stroke-linecap:square;stroke-linejoin:miter;stroke-width:0.8;\"/>\r\n   </g>\r\n   <g id=\"patch_5\">\r\n    <path d=\"M 43.78125 376.56 \r\nL 449.599432 376.56 \r\n\" style=\"fill:none;stroke:#000000;stroke-linecap:square;stroke-linejoin:miter;stroke-width:0.8;\"/>\r\n   </g>\r\n   <g id=\"patch_6\">\r\n    <path d=\"M 43.78125 50.4 \r\nL 449.599432 50.4 \r\n\" style=\"fill:none;stroke:#000000;stroke-linecap:square;stroke-linejoin:miter;stroke-width:0.8;\"/>\r\n   </g>\r\n   <g id=\"legend_1\">\r\n    <g id=\"patch_7\">\r\n     <path d=\"M 387.324432 73.078125 \r\nL 442.599432 73.078125 \r\nQ 444.599432 73.078125 444.599432 71.078125 \r\nL 444.599432 57.4 \r\nQ 444.599432 55.4 442.599432 55.4 \r\nL 387.324432 55.4 \r\nQ 385.324432 55.4 385.324432 57.4 \r\nL 385.324432 71.078125 \r\nQ 385.324432 73.078125 387.324432 73.078125 \r\nz\r\n\" style=\"fill:#ffffff;opacity:0.8;stroke:#cccccc;stroke-linejoin:miter;\"/>\r\n    </g>\r\n    <g id=\"line2d_17\">\r\n     <path d=\"M 389.324432 63.498437 \r\nL 409.324432 63.498437 \r\n\" style=\"fill:none;stroke:#1f77b4;stroke-linecap:square;stroke-width:1.5;\"/>\r\n    </g>\r\n    <g id=\"line2d_18\"/>\r\n    <g id=\"text_18\">\r\n     <!-- train -->\r\n     <g transform=\"translate(417.324432 66.998437)scale(0.1 -0.1)\">\r\n      <defs>\r\n       <path d=\"M 18.3125 70.21875 \r\nL 18.3125 54.6875 \r\nL 36.8125 54.6875 \r\nL 36.8125 47.703125 \r\nL 18.3125 47.703125 \r\nL 18.3125 18.015625 \r\nQ 18.3125 11.328125 20.140625 9.421875 \r\nQ 21.96875 7.515625 27.59375 7.515625 \r\nL 36.8125 7.515625 \r\nL 36.8125 0 \r\nL 27.59375 0 \r\nQ 17.1875 0 13.234375 3.875 \r\nQ 9.28125 7.765625 9.28125 18.015625 \r\nL 9.28125 47.703125 \r\nL 2.6875 47.703125 \r\nL 2.6875 54.6875 \r\nL 9.28125 54.6875 \r\nL 9.28125 70.21875 \r\nz\r\n\" id=\"DejaVuSans-116\"/>\r\n       <path d=\"M 41.109375 46.296875 \r\nQ 39.59375 47.171875 37.8125 47.578125 \r\nQ 36.03125 48 33.890625 48 \r\nQ 26.265625 48 22.1875 43.046875 \r\nQ 18.109375 38.09375 18.109375 28.8125 \r\nL 18.109375 0 \r\nL 9.078125 0 \r\nL 9.078125 54.6875 \r\nL 18.109375 54.6875 \r\nL 18.109375 46.1875 \r\nQ 20.953125 51.171875 25.484375 53.578125 \r\nQ 30.03125 56 36.53125 56 \r\nQ 37.453125 56 38.578125 55.875 \r\nQ 39.703125 55.765625 41.0625 55.515625 \r\nz\r\n\" id=\"DejaVuSans-114\"/>\r\n       <path d=\"M 34.28125 27.484375 \r\nQ 23.390625 27.484375 19.1875 25 \r\nQ 14.984375 22.515625 14.984375 16.5 \r\nQ 14.984375 11.71875 18.140625 8.90625 \r\nQ 21.296875 6.109375 26.703125 6.109375 \r\nQ 34.1875 6.109375 38.703125 11.40625 \r\nQ 43.21875 16.703125 43.21875 25.484375 \r\nL 43.21875 27.484375 \r\nz\r\nM 52.203125 31.203125 \r\nL 52.203125 0 \r\nL 43.21875 0 \r\nL 43.21875 8.296875 \r\nQ 40.140625 3.328125 35.546875 0.953125 \r\nQ 30.953125 -1.421875 24.3125 -1.421875 \r\nQ 15.921875 -1.421875 10.953125 3.296875 \r\nQ 6 8.015625 6 15.921875 \r\nQ 6 25.140625 12.171875 29.828125 \r\nQ 18.359375 34.515625 30.609375 34.515625 \r\nL 43.21875 34.515625 \r\nL 43.21875 35.40625 \r\nQ 43.21875 41.609375 39.140625 45 \r\nQ 35.0625 48.390625 27.6875 48.390625 \r\nQ 23 48.390625 18.546875 47.265625 \r\nQ 14.109375 46.140625 10.015625 43.890625 \r\nL 10.015625 52.203125 \r\nQ 14.9375 54.109375 19.578125 55.046875 \r\nQ 24.21875 56 28.609375 56 \r\nQ 40.484375 56 46.34375 49.84375 \r\nQ 52.203125 43.703125 52.203125 31.203125 \r\nz\r\n\" id=\"DejaVuSans-97\"/>\r\n       <path d=\"M 9.421875 54.6875 \r\nL 18.40625 54.6875 \r\nL 18.40625 0 \r\nL 9.421875 0 \r\nz\r\nM 9.421875 75.984375 \r\nL 18.40625 75.984375 \r\nL 18.40625 64.59375 \r\nL 9.421875 64.59375 \r\nz\r\n\" id=\"DejaVuSans-105\"/>\r\n       <path d=\"M 54.890625 33.015625 \r\nL 54.890625 0 \r\nL 45.90625 0 \r\nL 45.90625 32.71875 \r\nQ 45.90625 40.484375 42.875 44.328125 \r\nQ 39.84375 48.1875 33.796875 48.1875 \r\nQ 26.515625 48.1875 22.3125 43.546875 \r\nQ 18.109375 38.921875 18.109375 30.90625 \r\nL 18.109375 0 \r\nL 9.078125 0 \r\nL 9.078125 54.6875 \r\nL 18.109375 54.6875 \r\nL 18.109375 46.1875 \r\nQ 21.34375 51.125 25.703125 53.5625 \r\nQ 30.078125 56 35.796875 56 \r\nQ 45.21875 56 50.046875 50.171875 \r\nQ 54.890625 44.34375 54.890625 33.015625 \r\nz\r\n\" id=\"DejaVuSans-110\"/>\r\n      </defs>\r\n      <use xlink:href=\"#DejaVuSans-116\"/>\r\n      <use x=\"39.208984\" xlink:href=\"#DejaVuSans-114\"/>\r\n      <use x=\"80.322266\" xlink:href=\"#DejaVuSans-97\"/>\r\n      <use x=\"141.601562\" xlink:href=\"#DejaVuSans-105\"/>\r\n      <use x=\"169.384766\" xlink:href=\"#DejaVuSans-110\"/>\r\n     </g>\r\n    </g>\r\n   </g>\r\n  </g>\r\n  <g id=\"axes_2\">\r\n   <g id=\"patch_8\">\r\n    <path d=\"M 530.763068 376.56 \r\nL 936.58125 376.56 \r\nL 936.58125 50.4 \r\nL 530.763068 50.4 \r\nz\r\n\" style=\"fill:#ffffff;\"/>\r\n   </g>\r\n   <g id=\"matplotlib.axis_3\">\r\n    <g id=\"xtick_7\">\r\n     <g id=\"line2d_19\">\r\n      <g>\r\n       <use style=\"stroke:#000000;stroke-width:0.8;\" x=\"549.209349\" xlink:href=\"#mdf6c81620d\" y=\"376.56\"/>\r\n      </g>\r\n     </g>\r\n     <g id=\"text_19\">\r\n      <!-- 0 -->\r\n      <g transform=\"translate(546.028099 391.158437)scale(0.1 -0.1)\">\r\n       <use xlink:href=\"#DejaVuSans-48\"/>\r\n      </g>\r\n     </g>\r\n    </g>\r\n    <g id=\"xtick_8\">\r\n     <g id=\"line2d_20\">\r\n      <g>\r\n       <use style=\"stroke:#000000;stroke-width:0.8;\" x=\"623.009233\" xlink:href=\"#mdf6c81620d\" y=\"376.56\"/>\r\n      </g>\r\n     </g>\r\n     <g id=\"text_20\">\r\n      <!-- 1000 -->\r\n      <g transform=\"translate(610.284233 391.158437)scale(0.1 -0.1)\">\r\n       <use xlink:href=\"#DejaVuSans-49\"/>\r\n       <use x=\"63.623047\" xlink:href=\"#DejaVuSans-48\"/>\r\n       <use x=\"127.246094\" xlink:href=\"#DejaVuSans-48\"/>\r\n       <use x=\"190.869141\" xlink:href=\"#DejaVuSans-48\"/>\r\n      </g>\r\n     </g>\r\n    </g>\r\n    <g id=\"xtick_9\">\r\n     <g id=\"line2d_21\">\r\n      <g>\r\n       <use style=\"stroke:#000000;stroke-width:0.8;\" x=\"696.809117\" xlink:href=\"#mdf6c81620d\" y=\"376.56\"/>\r\n      </g>\r\n     </g>\r\n     <g id=\"text_21\">\r\n      <!-- 2000 -->\r\n      <g transform=\"translate(684.084117 391.158437)scale(0.1 -0.1)\">\r\n       <use xlink:href=\"#DejaVuSans-50\"/>\r\n       <use x=\"63.623047\" xlink:href=\"#DejaVuSans-48\"/>\r\n       <use x=\"127.246094\" xlink:href=\"#DejaVuSans-48\"/>\r\n       <use x=\"190.869141\" xlink:href=\"#DejaVuSans-48\"/>\r\n      </g>\r\n     </g>\r\n    </g>\r\n    <g id=\"xtick_10\">\r\n     <g id=\"line2d_22\">\r\n      <g>\r\n       <use style=\"stroke:#000000;stroke-width:0.8;\" x=\"770.609001\" xlink:href=\"#mdf6c81620d\" y=\"376.56\"/>\r\n      </g>\r\n     </g>\r\n     <g id=\"text_22\">\r\n      <!-- 3000 -->\r\n      <g transform=\"translate(757.884001 391.158437)scale(0.1 -0.1)\">\r\n       <use xlink:href=\"#DejaVuSans-51\"/>\r\n       <use x=\"63.623047\" xlink:href=\"#DejaVuSans-48\"/>\r\n       <use x=\"127.246094\" xlink:href=\"#DejaVuSans-48\"/>\r\n       <use x=\"190.869141\" xlink:href=\"#DejaVuSans-48\"/>\r\n      </g>\r\n     </g>\r\n    </g>\r\n    <g id=\"xtick_11\">\r\n     <g id=\"line2d_23\">\r\n      <g>\r\n       <use style=\"stroke:#000000;stroke-width:0.8;\" x=\"844.408885\" xlink:href=\"#mdf6c81620d\" y=\"376.56\"/>\r\n      </g>\r\n     </g>\r\n     <g id=\"text_23\">\r\n      <!-- 4000 -->\r\n      <g transform=\"translate(831.683885 391.158437)scale(0.1 -0.1)\">\r\n       <use xlink:href=\"#DejaVuSans-52\"/>\r\n       <use x=\"63.623047\" xlink:href=\"#DejaVuSans-48\"/>\r\n       <use x=\"127.246094\" xlink:href=\"#DejaVuSans-48\"/>\r\n       <use x=\"190.869141\" xlink:href=\"#DejaVuSans-48\"/>\r\n      </g>\r\n     </g>\r\n    </g>\r\n    <g id=\"xtick_12\">\r\n     <g id=\"line2d_24\">\r\n      <g>\r\n       <use style=\"stroke:#000000;stroke-width:0.8;\" x=\"918.208769\" xlink:href=\"#mdf6c81620d\" y=\"376.56\"/>\r\n      </g>\r\n     </g>\r\n     <g id=\"text_24\">\r\n      <!-- 5000 -->\r\n      <g transform=\"translate(905.483769 391.158437)scale(0.1 -0.1)\">\r\n       <use xlink:href=\"#DejaVuSans-53\"/>\r\n       <use x=\"63.623047\" xlink:href=\"#DejaVuSans-48\"/>\r\n       <use x=\"127.246094\" xlink:href=\"#DejaVuSans-48\"/>\r\n       <use x=\"190.869141\" xlink:href=\"#DejaVuSans-48\"/>\r\n      </g>\r\n     </g>\r\n    </g>\r\n    <g id=\"text_25\">\r\n     <!-- epochs -->\r\n     <g transform=\"translate(715.839347 404.836562)scale(0.1 -0.1)\">\r\n      <use xlink:href=\"#DejaVuSans-101\"/>\r\n      <use x=\"61.523438\" xlink:href=\"#DejaVuSans-112\"/>\r\n      <use x=\"125\" xlink:href=\"#DejaVuSans-111\"/>\r\n      <use x=\"186.181641\" xlink:href=\"#DejaVuSans-99\"/>\r\n      <use x=\"241.162109\" xlink:href=\"#DejaVuSans-104\"/>\r\n      <use x=\"304.541016\" xlink:href=\"#DejaVuSans-115\"/>\r\n     </g>\r\n    </g>\r\n   </g>\r\n   <g id=\"matplotlib.axis_4\">\r\n    <g id=\"ytick_10\">\r\n     <g id=\"line2d_25\">\r\n      <g>\r\n       <use style=\"stroke:#000000;stroke-width:0.8;\" x=\"530.763068\" xlink:href=\"#m14790f9b81\" y=\"372.597029\"/>\r\n      </g>\r\n     </g>\r\n     <g id=\"text_26\">\r\n      <!-- 0.1 -->\r\n      <g transform=\"translate(507.859943 376.396248)scale(0.1 -0.1)\">\r\n       <use xlink:href=\"#DejaVuSans-48\"/>\r\n       <use x=\"63.623047\" xlink:href=\"#DejaVuSans-46\"/>\r\n       <use x=\"95.410156\" xlink:href=\"#DejaVuSans-49\"/>\r\n      </g>\r\n     </g>\r\n    </g>\r\n    <g id=\"ytick_11\">\r\n     <g id=\"line2d_26\">\r\n      <g>\r\n       <use style=\"stroke:#000000;stroke-width:0.8;\" x=\"530.763068\" xlink:href=\"#m14790f9b81\" y=\"336.284522\"/>\r\n      </g>\r\n     </g>\r\n     <g id=\"text_27\">\r\n      <!-- 0.2 -->\r\n      <g transform=\"translate(507.859943 340.08374)scale(0.1 -0.1)\">\r\n       <use xlink:href=\"#DejaVuSans-48\"/>\r\n       <use x=\"63.623047\" xlink:href=\"#DejaVuSans-46\"/>\r\n       <use x=\"95.410156\" xlink:href=\"#DejaVuSans-50\"/>\r\n      </g>\r\n     </g>\r\n    </g>\r\n    <g id=\"ytick_12\">\r\n     <g id=\"line2d_27\">\r\n      <g>\r\n       <use style=\"stroke:#000000;stroke-width:0.8;\" x=\"530.763068\" xlink:href=\"#m14790f9b81\" y=\"299.972015\"/>\r\n      </g>\r\n     </g>\r\n     <g id=\"text_28\">\r\n      <!-- 0.3 -->\r\n      <g transform=\"translate(507.859943 303.771233)scale(0.1 -0.1)\">\r\n       <use xlink:href=\"#DejaVuSans-48\"/>\r\n       <use x=\"63.623047\" xlink:href=\"#DejaVuSans-46\"/>\r\n       <use x=\"95.410156\" xlink:href=\"#DejaVuSans-51\"/>\r\n      </g>\r\n     </g>\r\n    </g>\r\n    <g id=\"ytick_13\">\r\n     <g id=\"line2d_28\">\r\n      <g>\r\n       <use style=\"stroke:#000000;stroke-width:0.8;\" x=\"530.763068\" xlink:href=\"#m14790f9b81\" y=\"263.659507\"/>\r\n      </g>\r\n     </g>\r\n     <g id=\"text_29\">\r\n      <!-- 0.4 -->\r\n      <g transform=\"translate(507.859943 267.458726)scale(0.1 -0.1)\">\r\n       <use xlink:href=\"#DejaVuSans-48\"/>\r\n       <use x=\"63.623047\" xlink:href=\"#DejaVuSans-46\"/>\r\n       <use x=\"95.410156\" xlink:href=\"#DejaVuSans-52\"/>\r\n      </g>\r\n     </g>\r\n    </g>\r\n    <g id=\"ytick_14\">\r\n     <g id=\"line2d_29\">\r\n      <g>\r\n       <use style=\"stroke:#000000;stroke-width:0.8;\" x=\"530.763068\" xlink:href=\"#m14790f9b81\" y=\"227.347\"/>\r\n      </g>\r\n     </g>\r\n     <g id=\"text_30\">\r\n      <!-- 0.5 -->\r\n      <g transform=\"translate(507.859943 231.146219)scale(0.1 -0.1)\">\r\n       <use xlink:href=\"#DejaVuSans-48\"/>\r\n       <use x=\"63.623047\" xlink:href=\"#DejaVuSans-46\"/>\r\n       <use x=\"95.410156\" xlink:href=\"#DejaVuSans-53\"/>\r\n      </g>\r\n     </g>\r\n    </g>\r\n    <g id=\"ytick_15\">\r\n     <g id=\"line2d_30\">\r\n      <g>\r\n       <use style=\"stroke:#000000;stroke-width:0.8;\" x=\"530.763068\" xlink:href=\"#m14790f9b81\" y=\"191.034493\"/>\r\n      </g>\r\n     </g>\r\n     <g id=\"text_31\">\r\n      <!-- 0.6 -->\r\n      <g transform=\"translate(507.859943 194.833712)scale(0.1 -0.1)\">\r\n       <use xlink:href=\"#DejaVuSans-48\"/>\r\n       <use x=\"63.623047\" xlink:href=\"#DejaVuSans-46\"/>\r\n       <use x=\"95.410156\" xlink:href=\"#DejaVuSans-54\"/>\r\n      </g>\r\n     </g>\r\n    </g>\r\n    <g id=\"ytick_16\">\r\n     <g id=\"line2d_31\">\r\n      <g>\r\n       <use style=\"stroke:#000000;stroke-width:0.8;\" x=\"530.763068\" xlink:href=\"#m14790f9b81\" y=\"154.721986\"/>\r\n      </g>\r\n     </g>\r\n     <g id=\"text_32\">\r\n      <!-- 0.7 -->\r\n      <g transform=\"translate(507.859943 158.521204)scale(0.1 -0.1)\">\r\n       <defs>\r\n        <path d=\"M 8.203125 72.90625 \r\nL 55.078125 72.90625 \r\nL 55.078125 68.703125 \r\nL 28.609375 0 \r\nL 18.3125 0 \r\nL 43.21875 64.59375 \r\nL 8.203125 64.59375 \r\nz\r\n\" id=\"DejaVuSans-55\"/>\r\n       </defs>\r\n       <use xlink:href=\"#DejaVuSans-48\"/>\r\n       <use x=\"63.623047\" xlink:href=\"#DejaVuSans-46\"/>\r\n       <use x=\"95.410156\" xlink:href=\"#DejaVuSans-55\"/>\r\n      </g>\r\n     </g>\r\n    </g>\r\n    <g id=\"ytick_17\">\r\n     <g id=\"line2d_32\">\r\n      <g>\r\n       <use style=\"stroke:#000000;stroke-width:0.8;\" x=\"530.763068\" xlink:href=\"#m14790f9b81\" y=\"118.409479\"/>\r\n      </g>\r\n     </g>\r\n     <g id=\"text_33\">\r\n      <!-- 0.8 -->\r\n      <g transform=\"translate(507.859943 122.208697)scale(0.1 -0.1)\">\r\n       <use xlink:href=\"#DejaVuSans-48\"/>\r\n       <use x=\"63.623047\" xlink:href=\"#DejaVuSans-46\"/>\r\n       <use x=\"95.410156\" xlink:href=\"#DejaVuSans-56\"/>\r\n      </g>\r\n     </g>\r\n    </g>\r\n    <g id=\"ytick_18\">\r\n     <g id=\"line2d_33\">\r\n      <g>\r\n       <use style=\"stroke:#000000;stroke-width:0.8;\" x=\"530.763068\" xlink:href=\"#m14790f9b81\" y=\"82.096971\"/>\r\n      </g>\r\n     </g>\r\n     <g id=\"text_34\">\r\n      <!-- 0.9 -->\r\n      <g transform=\"translate(507.859943 85.89619)scale(0.1 -0.1)\">\r\n       <defs>\r\n        <path d=\"M 10.984375 1.515625 \r\nL 10.984375 10.5 \r\nQ 14.703125 8.734375 18.5 7.8125 \r\nQ 22.3125 6.890625 25.984375 6.890625 \r\nQ 35.75 6.890625 40.890625 13.453125 \r\nQ 46.046875 20.015625 46.78125 33.40625 \r\nQ 43.953125 29.203125 39.59375 26.953125 \r\nQ 35.25 24.703125 29.984375 24.703125 \r\nQ 19.046875 24.703125 12.671875 31.3125 \r\nQ 6.296875 37.9375 6.296875 49.421875 \r\nQ 6.296875 60.640625 12.9375 67.421875 \r\nQ 19.578125 74.21875 30.609375 74.21875 \r\nQ 43.265625 74.21875 49.921875 64.515625 \r\nQ 56.59375 54.828125 56.59375 36.375 \r\nQ 56.59375 19.140625 48.40625 8.859375 \r\nQ 40.234375 -1.421875 26.421875 -1.421875 \r\nQ 22.703125 -1.421875 18.890625 -0.6875 \r\nQ 15.09375 0.046875 10.984375 1.515625 \r\nz\r\nM 30.609375 32.421875 \r\nQ 37.25 32.421875 41.125 36.953125 \r\nQ 45.015625 41.5 45.015625 49.421875 \r\nQ 45.015625 57.28125 41.125 61.84375 \r\nQ 37.25 66.40625 30.609375 66.40625 \r\nQ 23.96875 66.40625 20.09375 61.84375 \r\nQ 16.21875 57.28125 16.21875 49.421875 \r\nQ 16.21875 41.5 20.09375 36.953125 \r\nQ 23.96875 32.421875 30.609375 32.421875 \r\nz\r\n\" id=\"DejaVuSans-57\"/>\r\n       </defs>\r\n       <use xlink:href=\"#DejaVuSans-48\"/>\r\n       <use x=\"63.623047\" xlink:href=\"#DejaVuSans-46\"/>\r\n       <use x=\"95.410156\" xlink:href=\"#DejaVuSans-57\"/>\r\n      </g>\r\n     </g>\r\n    </g>\r\n    <g id=\"text_35\">\r\n     <!-- Accuracy -->\r\n     <g transform=\"translate(501.780256 236.308125)rotate(-90)scale(0.1 -0.1)\">\r\n      <defs>\r\n       <path d=\"M 34.1875 63.1875 \r\nL 20.796875 26.90625 \r\nL 47.609375 26.90625 \r\nz\r\nM 28.609375 72.90625 \r\nL 39.796875 72.90625 \r\nL 67.578125 0 \r\nL 57.328125 0 \r\nL 50.6875 18.703125 \r\nL 17.828125 18.703125 \r\nL 11.1875 0 \r\nL 0.78125 0 \r\nz\r\n\" id=\"DejaVuSans-65\"/>\r\n       <path d=\"M 8.5 21.578125 \r\nL 8.5 54.6875 \r\nL 17.484375 54.6875 \r\nL 17.484375 21.921875 \r\nQ 17.484375 14.15625 20.5 10.265625 \r\nQ 23.53125 6.390625 29.59375 6.390625 \r\nQ 36.859375 6.390625 41.078125 11.03125 \r\nQ 45.3125 15.671875 45.3125 23.6875 \r\nL 45.3125 54.6875 \r\nL 54.296875 54.6875 \r\nL 54.296875 0 \r\nL 45.3125 0 \r\nL 45.3125 8.40625 \r\nQ 42.046875 3.421875 37.71875 1 \r\nQ 33.40625 -1.421875 27.6875 -1.421875 \r\nQ 18.265625 -1.421875 13.375 4.4375 \r\nQ 8.5 10.296875 8.5 21.578125 \r\nz\r\nM 31.109375 56 \r\nz\r\n\" id=\"DejaVuSans-117\"/>\r\n       <path d=\"M 32.171875 -5.078125 \r\nQ 28.375 -14.84375 24.75 -17.8125 \r\nQ 21.140625 -20.796875 15.09375 -20.796875 \r\nL 7.90625 -20.796875 \r\nL 7.90625 -13.28125 \r\nL 13.1875 -13.28125 \r\nQ 16.890625 -13.28125 18.9375 -11.515625 \r\nQ 21 -9.765625 23.484375 -3.21875 \r\nL 25.09375 0.875 \r\nL 2.984375 54.6875 \r\nL 12.5 54.6875 \r\nL 29.59375 11.921875 \r\nL 46.6875 54.6875 \r\nL 56.203125 54.6875 \r\nz\r\n\" id=\"DejaVuSans-121\"/>\r\n      </defs>\r\n      <use xlink:href=\"#DejaVuSans-65\"/>\r\n      <use x=\"66.658203\" xlink:href=\"#DejaVuSans-99\"/>\r\n      <use x=\"121.638672\" xlink:href=\"#DejaVuSans-99\"/>\r\n      <use x=\"176.619141\" xlink:href=\"#DejaVuSans-117\"/>\r\n      <use x=\"239.998047\" xlink:href=\"#DejaVuSans-114\"/>\r\n      <use x=\"281.111328\" xlink:href=\"#DejaVuSans-97\"/>\r\n      <use x=\"342.390625\" xlink:href=\"#DejaVuSans-99\"/>\r\n      <use x=\"397.371094\" xlink:href=\"#DejaVuSans-121\"/>\r\n     </g>\r\n    </g>\r\n   </g>\r\n   <g id=\"line2d_34\">\r\n    <path clip-path=\"url(#pc90470cf5b)\" d=\"M 549.209349 361.734545 \r\nL 549.356949 305.632107 \r\nL 549.504549 305.58679 \r\nL 549.725948 305.677424 \r\nL 549.947348 305.58679 \r\nL 550.242548 304.22728 \r\nL 550.316347 303.411574 \r\nL 550.390147 300.194068 \r\nL 550.611547 258.049263 \r\nL 550.759147 243.547825 \r\nL 551.054346 266.432907 \r\nL 551.201946 266.523541 \r\nL 553.415943 266.432907 \r\nL 553.711142 265.571884 \r\nL 553.784942 265.435933 \r\nL 554.227741 263.487303 \r\nL 554.375341 262.852865 \r\nL 555.18714 251.795518 \r\nL 555.482339 246.448113 \r\nL 557.105937 228.638534 \r\nL 557.253537 228.140048 \r\nL 557.401136 227.279025 \r\nL 557.622536 226.871172 \r\nL 558.065335 225.194443 \r\nL 558.286735 224.378737 \r\nL 558.360535 224.560005 \r\nL 558.655734 223.381763 \r\nL 558.729534 223.381763 \r\nL 558.950934 222.97391 \r\nL 559.024734 222.792642 \r\nL 559.098534 221.433132 \r\nL 559.172334 221.523766 \r\nL 559.246133 221.478449 \r\nL 559.319933 221.070596 \r\nL 559.393733 221.206547 \r\nL 559.467533 221.206547 \r\nL 559.984132 220.164257 \r\nL 560.205532 218.940698 \r\nL 560.353132 218.75943 \r\nL 560.426932 218.804747 \r\nL 560.500731 218.714113 \r\nL 560.722131 218.079675 \r\nL 560.869731 218.215626 \r\nL 561.09113 217.762456 \r\nL 561.38633 217.445237 \r\nL 561.46013 217.626505 \r\nL 561.53393 217.581188 \r\nL 561.68153 217.263969 \r\nL 561.829129 217.037384 \r\nL 561.976729 216.901433 \r\nL 562.198129 216.085727 \r\nL 562.567128 215.58724 \r\nL 563.009927 215.270021 \r\nL 563.305127 214.952802 \r\nL 563.526527 214.998119 \r\nL 563.600327 215.13407 \r\nL 563.747926 214.952802 \r\nL 563.969326 215.13407 \r\nL 564.190726 214.544949 \r\nL 564.559725 214.408998 \r\nL 564.707325 214.318364 \r\nL 565.519124 212.097832 \r\nL 565.961923 211.463394 \r\nL 566.183322 211.37276 \r\nL 566.257122 211.599345 \r\nL 566.330922 211.554028 \r\nL 566.404722 211.418077 \r\nL 566.478522 211.508711 \r\nL 566.552322 211.554028 \r\nL 566.773722 211.055541 \r\nL 566.921321 210.602371 \r\nL 567.216521 210.46642 \r\nL 567.290321 210.557054 \r\nL 567.51172 210.421103 \r\nL 567.95452 210.058567 \r\nL 568.175919 209.696031 \r\nL 568.323519 209.877299 \r\nL 568.397319 209.786665 \r\nL 568.471119 209.877299 \r\nL 569.282918 208.472472 \r\nL 569.356717 208.517789 \r\nL 570.094716 207.022328 \r\nL 570.242316 206.297256 \r\nL 570.389916 204.756479 \r\nL 570.537516 204.575211 \r\nL 570.685115 204.575211 \r\nL 570.906515 204.076724 \r\nL 571.127915 203.895456 \r\nL 571.349314 203.215701 \r\nL 571.570714 203.034433 \r\nL 571.865914 202.717214 \r\nL 572.530112 202.037459 \r\nL 572.603912 202.082776 \r\nL 572.972912 201.538972 \r\nL 573.120512 200.768583 \r\nL 574.817909 197.777662 \r\nL 574.965509 197.732345 \r\nL 575.334508 197.279175 \r\nL 575.482108 197.369809 \r\nL 575.851107 196.191567 \r\nL 575.924907 196.100933 \r\nL 575.998707 196.191567 \r\nL 576.072507 196.100933 \r\nL 576.220107 196.191567 \r\nL 576.367706 196.010299 \r\nL 576.662906 195.466495 \r\nL 576.736706 195.69308 \r\nL 576.810506 195.647763 \r\nL 577.179505 195.194593 \r\nL 577.400905 195.23991 \r\nL 577.474705 194.968008 \r\nL 577.622304 193.608498 \r\nL 577.696104 193.472547 \r\nL 577.769904 193.563181 \r\nL 577.843704 193.608498 \r\nL 578.138904 193.381913 \r\nL 578.286503 193.42723 \r\nL 578.507903 193.291279 \r\nL 578.803103 192.838109 \r\nL 579.245902 192.747475 \r\nL 580.4267 192.022403 \r\nL 580.5743 191.841135 \r\nL 580.7957 192.022403 \r\nL 581.017099 191.750501 \r\nL 581.090899 191.705184 \r\nL 581.312299 191.433282 \r\nL 581.533698 191.342648 \r\nL 581.607498 191.252015 \r\nL 581.755098 191.297331 \r\nL 581.902698 191.297331 \r\nL 582.124097 190.889479 \r\nL 582.197897 190.798845 \r\nL 582.419297 190.073773 \r\nL 582.493097 190.11909 \r\nL 582.788296 189.847188 \r\nL 582.935896 189.847188 \r\nL 583.157296 189.756554 \r\nL 583.895295 189.303384 \r\nL 583.969095 188.940848 \r\nL 584.042894 188.986165 \r\nL 584.338094 188.487678 \r\nL 584.559494 188.079825 \r\nL 585.592692 187.445387 \r\nL 585.666492 187.626655 \r\nL 585.740292 187.536021 \r\nL 586.035491 187.218802 \r\nL 586.183091 187.354753 \r\nL 586.330691 187.218802 \r\nL 586.62589 187.218802 \r\nL 586.77349 187.354753 \r\nL 587.06869 187.128168 \r\nL 587.216289 186.9469 \r\nL 587.363889 186.49373 \r\nL 587.437689 186.674998 \r\nL 587.511489 186.629681 \r\nL 587.732889 186.176511 \r\nL 587.806688 186.221828 \r\nL 588.175688 185.904609 \r\nL 588.323288 185.813975 \r\nL 588.397088 185.224854 \r\nL 588.470887 185.270171 \r\nL 588.618487 185.088903 \r\nL 588.766087 185.088903 \r\nL 589.356486 184.998269 \r\nL 589.651686 184.771684 \r\nL 589.725485 184.635733 \r\nL 589.799285 184.68105 \r\nL 590.094485 184.409148 \r\nL 590.315885 184.182563 \r\nL 590.611084 184.273197 \r\nL 590.758684 184.273197 \r\nL 590.906284 184.273197 \r\nL 591.053883 184.137246 \r\nL 591.791882 184.091929 \r\nL 591.939482 184.046612 \r\nL 592.308481 183.729394 \r\nL 592.529881 183.049639 \r\nL 592.603681 183.18559 \r\nL 592.677481 183.140273 \r\nL 592.751281 183.094956 \r\nL 592.89888 183.230907 \r\nL 593.12028 182.73242 \r\nL 593.19408 182.687103 \r\nL 593.48928 182.913688 \r\nL 594.301078 182.369884 \r\nL 594.448678 182.596469 \r\nL 594.522478 182.551152 \r\nL 595.039077 182.460518 \r\nL 595.186677 182.460518 \r\nL 595.703276 182.415201 \r\nL 595.777076 182.233933 \r\nL 595.850876 182.27925 \r\nL 596.146075 182.27925 \r\nL 596.293675 181.82608 \r\nL 597.105474 181.418227 \r\nL 597.326874 181.37291 \r\nL 597.400673 181.191642 \r\nL 597.474473 181.282276 \r\nL 597.548273 181.282276 \r\nL 597.917273 180.829106 \r\nL 597.991072 180.783789 \r\nL 598.064872 180.91974 \r\nL 598.138672 180.829106 \r\nL 598.360072 180.647838 \r\nL 598.507672 180.602521 \r\nL 598.655271 180.647838 \r\nL 598.729071 180.602521 \r\nL 598.876671 180.647838 \r\nL 599.46707 180.602521 \r\nL 599.68847 180.46657 \r\nL 599.83607 180.330619 \r\nL 600.057469 180.058717 \r\nL 600.352669 179.968083 \r\nL 600.574068 179.786815 \r\nL 600.721668 179.696181 \r\nL 601.016868 179.605547 \r\nL 601.090668 179.605547 \r\nL 601.312067 179.424279 \r\nL 601.385867 179.378962 \r\nL 601.533467 179.152377 \r\nL 601.976266 178.699207 \r\nL 602.050066 178.699207 \r\nL 602.197666 178.563256 \r\nL 602.345266 178.563256 \r\nL 602.419065 178.427305 \r\nL 602.492865 178.472622 \r\nL 602.714265 178.563256 \r\nL 603.009465 178.472622 \r\nL 603.157064 178.517939 \r\nL 603.452264 178.291354 \r\nL 603.599864 178.336671 \r\nL 603.747463 178.291354 \r\nL 603.968863 178.246037 \r\nL 604.116463 178.019452 \r\nL 604.928262 177.611599 \r\nL 605.075861 177.520965 \r\nL 605.518661 177.29438 \r\nL 605.88766 176.025505 \r\nL 605.96146 176.161456 \r\nL 606.03526 176.070822 \r\nL 606.256659 175.980188 \r\nL 606.478059 175.572335 \r\nL 606.699459 175.34575 \r\nL 607.142258 175.028531 \r\nL 607.289858 174.801946 \r\nL 607.732657 174.847263 \r\nL 607.880257 174.530044 \r\nL 608.101657 174.43941 \r\nL 608.323056 174.076874 \r\nL 608.839655 174.031557 \r\nL 609.061055 173.804972 \r\nL 609.208655 173.98624 \r\nL 609.577654 173.895606 \r\nL 609.799054 173.623704 \r\nL 610.020454 173.442436 \r\nL 610.241853 173.397119 \r\nL 610.389453 173.442436 \r\nL 610.610853 173.125217 \r\nL 610.758452 173.215851 \r\nL 611.053652 172.943949 \r\nL 611.201252 172.898632 \r\nL 611.275052 172.762681 \r\nL 611.348851 172.853315 \r\nL 611.570251 172.62673 \r\nL 611.791651 172.264194 \r\nL 611.939251 172.218877 \r\nL 612.01305 172.264194 \r\nL 612.16065 172.128243 \r\nL 612.30825 172.128243 \r\nL 612.603449 171.811024 \r\nL 613.046249 171.765707 \r\nL 613.120049 171.629756 \r\nL 613.193849 171.72039 \r\nL 613.267648 171.675073 \r\nL 613.415248 171.312537 \r\nL 613.636648 171.085952 \r\nL 613.931847 170.768733 \r\nL 614.153247 170.859367 \r\nL 614.669846 170.587465 \r\nL 614.817446 170.587465 \r\nL 614.965046 170.496831 \r\nL 615.112646 170.496831 \r\nL 615.260245 170.270246 \r\nL 615.703045 170.088978 \r\nL 616.072044 169.998344 \r\nL 616.514843 169.409223 \r\nL 616.588643 169.545174 \r\nL 616.662443 169.499857 \r\nL 616.810043 169.499857 \r\nL 616.957643 169.545174 \r\nL 617.252842 169.092005 \r\nL 617.326642 169.137321 \r\nL 617.400442 168.910737 \r\nL 617.474242 168.956054 \r\nL 618.064641 168.684152 \r\nL 618.138441 168.684152 \r\nL 618.212241 168.457567 \r\nL 618.286041 168.548201 \r\nL 618.35984 168.593518 \r\nL 618.72884 167.868446 \r\nL 618.80264 167.95908 \r\nL 619.319239 167.732495 \r\nL 619.688238 167.823129 \r\nL 619.835838 167.868446 \r\nL 620.278637 167.687178 \r\nL 620.795237 167.641861 \r\nL 620.869036 167.460593 \r\nL 620.942836 167.50591 \r\nL 621.090436 167.415276 \r\nL 621.238036 167.460593 \r\nL 621.976035 166.690204 \r\nL 622.197434 166.59957 \r\nL 622.271234 166.508936 \r\nL 622.418834 166.554253 \r\nL 622.640234 166.508936 \r\nL 622.714034 166.508936 \r\nL 622.787833 166.372985 \r\nL 622.861633 166.418302 \r\nL 622.935433 166.463619 \r\nL 623.083033 166.372985 \r\nL 623.230633 166.327668 \r\nL 623.378233 166.1464 \r\nL 623.525832 166.1464 \r\nL 623.747232 166.101083 \r\nL 623.821032 166.1464 \r\nL 624.042431 165.965132 \r\nL 624.116231 165.965132 \r\nL 624.263831 165.466645 \r\nL 624.337631 165.466645 \r\nL 624.411431 165.285377 \r\nL 624.485231 165.330694 \r\nL 624.632831 165.149426 \r\nL 624.85423 164.968158 \r\nL 624.92803 165.013475 \r\nL 625.22323 164.650939 \r\nL 625.370829 164.696256 \r\nL 625.518429 164.650939 \r\nL 625.739829 164.560305 \r\nL 625.887429 164.288403 \r\nL 625.961228 164.33372 \r\nL 626.108828 164.061818 \r\nL 626.182628 164.107135 \r\nL 626.256428 163.925867 \r\nL 626.330228 163.971184 \r\nL 626.551628 163.88055 \r\nL 626.699227 163.925867 \r\nL 626.846827 163.835233 \r\nL 626.994427 163.835233 \r\nL 627.215827 163.608648 \r\nL 627.289626 163.608648 \r\nL 627.511026 163.291429 \r\nL 627.806226 163.110161 \r\nL 627.880025 163.200795 \r\nL 627.953825 162.97421 \r\nL 628.027625 163.019527 \r\nL 628.101425 162.883576 \r\nL 628.175225 162.97421 \r\nL 628.396625 162.838259 \r\nL 628.544224 162.838259 \r\nL 628.618024 162.883576 \r\nL 629.134623 162.385089 \r\nL 629.356023 162.385089 \r\nL 629.429823 162.113187 \r\nL 629.503623 162.158504 \r\nL 629.577423 162.158504 \r\nL 629.798822 161.977236 \r\nL 629.872622 161.886602 \r\nL 630.020222 161.931919 \r\nL 630.167822 161.795968 \r\nL 630.389222 161.750651 \r\nL 630.610621 161.569384 \r\nL 630.832021 161.524067 \r\nL 631.12722 161.297482 \r\nL 631.27482 161.252165 \r\nL 631.49622 161.116214 \r\nL 632.308018 160.708361 \r\nL 632.381818 160.708361 \r\nL 632.529418 160.300508 \r\nL 632.677018 160.300508 \r\nL 632.824618 160.255191 \r\nL 633.193617 160.209874 \r\nL 633.341217 160.164557 \r\nL 633.857816 159.756704 \r\nL 634.005416 159.66607 \r\nL 634.079216 159.66607 \r\nL 634.300615 159.167583 \r\nL 634.374415 159.348851 \r\nL 634.522015 159.076949 \r\nL 634.595815 159.167583 \r\nL 634.669615 159.076949 \r\nL 634.817215 159.167583 \r\nL 634.891014 159.031632 \r\nL 634.964814 159.122266 \r\nL 635.333814 158.669096 \r\nL 635.481414 158.940998 \r\nL 635.555213 158.669096 \r\nL 635.629013 158.895681 \r\nL 635.776613 158.578462 \r\nL 635.850413 158.669096 \r\nL 635.998013 158.351877 \r\nL 636.071813 158.442511 \r\nL 636.293212 158.170609 \r\nL 636.588412 158.125292 \r\nL 636.736012 157.717439 \r\nL 636.883611 157.808073 \r\nL 637.031211 157.898707 \r\nL 637.326411 157.536171 \r\nL 637.54781 157.354903 \r\nL 637.69541 157.083001 \r\nL 637.91681 157.128318 \r\nL 638.138209 157.083001 \r\nL 638.507209 156.992367 \r\nL 638.950008 156.675148 \r\nL 639.097608 156.403246 \r\nL 639.540407 156.221978 \r\nL 639.761807 156.176661 \r\nL 640.057006 155.950076 \r\nL 640.278406 155.859442 \r\nL 640.352206 155.814125 \r\nL 640.426006 155.904759 \r\nL 640.573605 155.859442 \r\nL 640.647405 155.814125 \r\nL 640.721205 155.632857 \r\nL 640.795005 155.678174 \r\nL 641.533004 155.315638 \r\nL 641.680604 155.360955 \r\nL 642.123403 155.043736 \r\nL 642.344803 154.6812 \r\nL 642.492402 154.771834 \r\nL 643.230401 154.001446 \r\nL 643.378001 153.910812 \r\nL 643.599401 153.548276 \r\nL 643.673201 153.593593 \r\nL 644.0422 153.231057 \r\nL 644.116 153.276374 \r\nL 644.3374 153.004472 \r\nL 644.706399 152.551302 \r\nL 644.927799 152.505985 \r\nL 645.370598 152.052815 \r\nL 645.518198 152.052815 \r\nL 645.591998 151.871547 \r\nL 645.665797 151.962181 \r\nL 645.813397 151.916864 \r\nL 645.887197 151.916864 \r\nL 646.034797 151.644962 \r\nL 646.256197 151.780913 \r\nL 646.403796 151.599645 \r\nL 646.477596 151.644962 \r\nL 646.698996 151.509011 \r\nL 646.772796 151.509011 \r\nL 647.067995 151.146475 \r\nL 647.510795 150.783939 \r\nL 647.584594 150.512037 \r\nL 647.658394 150.557354 \r\nL 647.879794 150.46672 \r\nL 648.174994 150.240135 \r\nL 648.322593 150.330769 \r\nL 648.396393 150.149501 \r\nL 648.470193 150.194818 \r\nL 648.912992 150.104184 \r\nL 649.060592 149.968233 \r\nL 649.134392 150.058867 \r\nL 649.281992 149.651014 \r\nL 649.355792 149.786965 \r\nL 649.429592 149.56038 \r\nL 649.503391 149.786965 \r\nL 649.577191 149.515063 \r\nL 649.650991 149.651014 \r\nL 649.872391 149.469746 \r\nL 650.019991 149.424429 \r\nL 650.61039 148.835308 \r\nL 650.68419 148.880625 \r\nL 651.126989 148.472772 \r\nL 651.569788 148.427455 \r\nL 651.717388 147.883651 \r\nL 651.864988 147.7477 \r\nL 651.938788 147.838334 \r\nL 652.012588 147.475798 \r\nL 652.086387 147.7477 \r\nL 652.233987 147.339847 \r\nL 652.307787 147.339847 \r\nL 652.381587 146.931994 \r\nL 652.455387 147.022628 \r\nL 652.602987 146.796044 \r\nL 652.971986 146.70541 \r\nL 653.193386 146.388191 \r\nL 653.267186 146.433508 \r\nL 653.340985 146.297557 \r\nL 653.414785 146.388191 \r\nL 653.562385 146.206923 \r\nL 653.636185 146.388191 \r\nL 653.857585 145.889704 \r\nL 653.931384 146.025655 \r\nL 654.078984 145.79907 \r\nL 654.300384 145.753753 \r\nL 654.521784 145.436534 \r\nL 654.595583 145.572485 \r\nL 654.669383 145.527168 \r\nL 654.890783 145.391217 \r\nL 654.964583 145.391217 \r\nL 655.185983 145.164632 \r\nL 655.333582 145.209949 \r\nL 655.407382 145.255266 \r\nL 655.554982 145.028681 \r\nL 655.628782 145.119315 \r\nL 655.702582 144.938047 \r\nL 655.776382 145.119315 \r\nL 655.923981 144.89273 \r\nL 656.51438 144.802096 \r\nL 656.58818 144.711462 \r\nL 656.73578 144.756779 \r\nL 657.104779 144.666145 \r\nL 657.326179 144.484877 \r\nL 657.547579 144.303609 \r\nL 657.621379 144.43956 \r\nL 657.695179 144.303609 \r\nL 657.768978 144.43956 \r\nL 657.842778 144.258292 \r\nL 657.916578 144.348926 \r\nL 658.064178 144.258292 \r\nL 658.137978 144.258292 \r\nL 658.211778 144.122341 \r\nL 658.285578 144.303609 \r\nL 658.359378 144.077024 \r\nL 658.433177 144.212975 \r\nL 658.506977 143.941073 \r\nL 658.580777 144.077024 \r\nL 658.802177 143.850439 \r\nL 659.097376 143.895756 \r\nL 659.318776 143.578537 \r\nL 659.466376 143.669171 \r\nL 659.540176 143.442586 \r\nL 659.613976 143.623854 \r\nL 659.761575 143.170684 \r\nL 659.835375 143.261318 \r\nL 659.909175 143.125367 \r\nL 659.982975 143.261318 \r\nL 660.204375 143.08005 \r\nL 660.278175 143.034733 \r\nL 660.351974 143.170684 \r\nL 660.425774 142.944099 \r\nL 660.499574 143.170684 \r\nL 660.573374 142.989416 \r\nL 660.647174 143.034733 \r\nL 660.720974 143.08005 \r\nL 660.794774 142.853465 \r\nL 660.868574 143.125367 \r\nL 660.942373 142.944099 \r\nL 661.016173 143.08005 \r\nL 661.089973 143.034733 \r\nL 661.163773 142.898782 \r\nL 661.237573 142.989416 \r\nL 661.532773 142.853465 \r\nL 661.606572 142.898782 \r\nL 661.680372 142.717514 \r\nL 661.754172 142.853465 \r\nL 661.827972 142.762831 \r\nL 661.975572 142.762831 \r\nL 662.123172 142.581563 \r\nL 662.270771 142.672197 \r\nL 662.344571 142.581563 \r\nL 662.418371 142.762831 \r\nL 662.639771 142.354978 \r\nL 662.787371 142.400295 \r\nL 662.93497 142.17371 \r\nL 663.00877 142.264344 \r\nL 663.23017 142.037759 \r\nL 663.30397 142.128393 \r\nL 663.45157 141.72054 \r\nL 663.525369 141.856491 \r\nL 663.599169 141.765857 \r\nL 663.968169 141.72054 \r\nL 664.115768 141.403321 \r\nL 664.189568 141.539272 \r\nL 664.337168 141.539272 \r\nL 664.410968 141.312687 \r\nL 664.484768 141.403321 \r\nL 664.706168 141.176736 \r\nL 664.779967 141.26737 \r\nL 665.001367 140.995468 \r\nL 665.148967 140.950151 \r\nL 665.517966 140.587615 \r\nL 665.591766 140.678249 \r\nL 665.813166 140.496981 \r\nL 665.886966 140.542298 \r\nL 666.108365 140.315713 \r\nL 666.182165 140.406347 \r\nL 666.551165 139.90786 \r\nL 666.772564 139.90786 \r\nL 666.846364 139.726592 \r\nL 666.920164 139.817226 \r\nL 667.141564 139.635958 \r\nL 667.215364 139.817226 \r\nL 667.289163 139.409374 \r\nL 667.362963 139.681275 \r\nL 667.436763 139.182789 \r\nL 667.510563 139.726592 \r\nL 667.584363 139.228106 \r\nL 667.658163 139.409374 \r\nL 667.805763 139.137472 \r\nL 667.879563 139.137472 \r\nL 667.953362 139.001521 \r\nL 668.027162 139.182789 \r\nL 668.100962 138.86557 \r\nL 668.174762 139.273423 \r\nL 668.248562 138.86557 \r\nL 668.322362 139.092155 \r\nL 668.396162 138.86557 \r\nL 668.469962 139.137472 \r\nL 668.543762 138.684302 \r\nL 668.617561 138.956204 \r\nL 668.691361 138.729619 \r\nL 668.765161 138.86557 \r\nL 668.838961 138.729619 \r\nL 668.912761 138.820253 \r\nL 669.134161 138.684302 \r\nL 669.35556 138.367083 \r\nL 669.42936 138.321766 \r\nL 669.50316 138.049864 \r\nL 669.57696 138.185815 \r\nL 669.79836 137.95923 \r\nL 670.093559 137.868596 \r\nL 670.167359 137.687328 \r\nL 670.241159 137.868596 \r\nL 670.314959 137.732645 \r\nL 670.388759 137.777962 \r\nL 670.831558 137.551377 \r\nL 670.905358 137.324792 \r\nL 670.979158 137.50606 \r\nL 671.052958 137.143524 \r\nL 671.126757 137.551377 \r\nL 671.348157 137.05289 \r\nL 671.421957 137.234158 \r\nL 671.495757 136.962256 \r\nL 671.569557 137.098207 \r\nL 671.717157 136.871622 \r\nL 671.790956 136.962256 \r\nL 672.233756 136.645037 \r\nL 672.307556 136.418452 \r\nL 672.381355 136.463769 \r\nL 672.602755 136.237184 \r\nL 672.676555 136.418452 \r\nL 672.750355 136.010599 \r\nL 672.824155 136.373135 \r\nL 672.897955 135.919965 \r\nL 672.971755 136.237184 \r\nL 673.045554 136.010599 \r\nL 673.119354 136.237184 \r\nL 673.340754 135.648063 \r\nL 673.414554 135.69338 \r\nL 673.635954 135.512112 \r\nL 673.709753 135.104259 \r\nL 673.783553 135.466795 \r\nL 673.857353 135.013625 \r\nL 673.931153 135.058942 \r\nL 674.004953 134.968308 \r\nL 674.078753 135.104259 \r\nL 674.300152 134.832357 \r\nL 674.373952 135.104259 \r\nL 674.447752 134.78704 \r\nL 674.521552 135.058942 \r\nL 674.595352 134.741723 \r\nL 674.669152 135.013625 \r\nL 674.742952 134.741723 \r\nL 674.816752 134.877674 \r\nL 675.111951 134.560455 \r\nL 675.185751 134.469821 \r\nL 675.259551 134.605772 \r\nL 675.333351 134.243236 \r\nL 675.407151 134.605772 \r\nL 675.480951 134.288553 \r\nL 675.55475 134.560455 \r\nL 675.62855 134.33387 \r\nL 675.70235 134.424504 \r\nL 675.84995 134.107285 \r\nL 675.92375 134.288553 \r\nL 676.14515 133.926017 \r\nL 676.218949 134.197919 \r\nL 676.440349 133.744749 \r\nL 676.661749 133.790066 \r\nL 676.735549 133.8807 \r\nL 676.809349 133.563481 \r\nL 676.883148 133.608798 \r\nL 677.104548 133.42753 \r\nL 677.325948 133.382213 \r\nL 677.399748 133.291579 \r\nL 677.473547 133.382213 \r\nL 677.621147 133.155628 \r\nL 677.694947 133.200945 \r\nL 677.768747 132.929043 \r\nL 677.842547 133.019677 \r\nL 678.063947 132.657141 \r\nL 678.137746 132.929043 \r\nL 678.211546 132.793092 \r\nL 678.285346 132.793092 \r\nL 678.359146 132.97436 \r\nL 678.580546 132.430556 \r\nL 678.654346 132.747775 \r\nL 678.728145 132.339922 \r\nL 678.801945 132.838409 \r\nL 678.875745 132.385239 \r\nL 678.949545 132.838409 \r\nL 679.023345 132.339922 \r\nL 679.097145 132.747775 \r\nL 679.170945 132.294605 \r\nL 679.244745 132.657141 \r\nL 679.318545 132.294605 \r\nL 679.392344 132.611824 \r\nL 679.466144 132.249288 \r\nL 679.539944 132.385239 \r\nL 679.613744 132.113338 \r\nL 679.687544 132.385239 \r\nL 679.761344 132.158654 \r\nL 679.835144 132.385239 \r\nL 679.908944 132.158654 \r\nL 679.982744 132.203971 \r\nL 680.277943 132.068021 \r\nL 680.499343 132.113338 \r\nL 680.573143 131.886753 \r\nL 680.646942 132.203971 \r\nL 680.720742 131.841436 \r\nL 680.794542 132.203971 \r\nL 680.868342 131.796119 \r\nL 680.942142 132.158654 \r\nL 681.015942 131.841436 \r\nL 681.089742 132.068021 \r\nL 681.237342 131.841436 \r\nL 681.311141 132.022704 \r\nL 681.384941 131.750802 \r\nL 681.458741 131.977387 \r\nL 681.532541 131.660168 \r\nL 681.606341 131.886753 \r\nL 681.680141 131.660168 \r\nL 681.753941 131.750802 \r\nL 681.827741 131.569534 \r\nL 681.901541 131.660168 \r\nL 681.97534 131.524217 \r\nL 682.04914 131.569534 \r\nL 682.41814 131.342949 \r\nL 682.49194 131.116364 \r\nL 682.565739 131.161681 \r\nL 682.713339 131.252315 \r\nL 682.860939 131.071047 \r\nL 682.934739 131.116364 \r\nL 683.008539 130.980413 \r\nL 683.082339 131.116364 \r\nL 683.303738 130.935096 \r\nL 683.451338 130.980413 \r\nL 683.525138 130.799145 \r\nL 683.598938 130.935096 \r\nL 683.672738 130.889779 \r\nL 683.746538 130.663194 \r\nL 683.820337 130.844462 \r\nL 683.967937 130.663194 \r\nL 684.115537 130.617877 \r\nL 684.263137 130.527243 \r\nL 684.336937 130.527243 \r\nL 684.410737 130.345975 \r\nL 684.484536 130.57256 \r\nL 684.558336 130.391292 \r\nL 684.632136 130.663194 \r\nL 684.779736 130.345975 \r\nL 684.927336 130.210024 \r\nL 685.001136 130.345975 \r\nL 685.074936 130.11939 \r\nL 685.148735 130.255341 \r\nL 685.591535 129.575586 \r\nL 685.665335 129.802171 \r\nL 685.739134 129.711537 \r\nL 685.812934 129.802171 \r\nL 685.886734 129.66622 \r\nL 685.960534 129.802171 \r\nL 686.034334 129.530269 \r\nL 686.108134 129.847488 \r\nL 686.329534 129.349001 \r\nL 686.403333 129.530269 \r\nL 686.550933 129.394318 \r\nL 686.624733 129.394318 \r\nL 686.846133 129.122416 \r\nL 686.919933 129.258367 \r\nL 686.993732 129.031782 \r\nL 687.067532 129.21305 \r\nL 687.141332 128.941148 \r\nL 687.215132 129.167733 \r\nL 687.288932 128.895831 \r\nL 687.362732 129.031782 \r\nL 687.436532 128.805197 \r\nL 687.510332 129.031782 \r\nL 687.584132 128.669246 \r\nL 687.657931 128.941148 \r\nL 687.731731 128.75988 \r\nL 687.805531 128.895831 \r\nL 687.953131 128.578612 \r\nL 688.026931 128.669246 \r\nL 688.100731 128.487978 \r\nL 688.174531 128.669246 \r\nL 688.248331 128.442661 \r\nL 688.32213 128.578612 \r\nL 688.46973 128.352027 \r\nL 688.61733 128.216076 \r\nL 688.69113 128.397344 \r\nL 688.76493 128.080125 \r\nL 688.83873 128.442661 \r\nL 688.912529 127.989491 \r\nL 688.986329 128.30671 \r\nL 689.060129 127.898857 \r\nL 689.133929 128.216076 \r\nL 689.355329 127.85354 \r\nL 689.576728 127.944174 \r\nL 689.650528 127.762906 \r\nL 689.724328 127.898857 \r\nL 689.945728 127.581638 \r\nL 690.019528 127.672272 \r\nL 690.167128 127.309736 \r\nL 690.240927 127.626955 \r\nL 690.314727 127.264419 \r\nL 690.388527 127.581638 \r\nL 690.462327 127.219102 \r\nL 690.536127 127.491004 \r\nL 690.609927 127.128468 \r\nL 690.683727 127.445687 \r\nL 690.757527 127.083151 \r\nL 690.831326 127.40037 \r\nL 690.978926 127.037834 \r\nL 691.274126 127.083151 \r\nL 691.421726 126.856566 \r\nL 691.495525 126.901883 \r\nL 691.569325 126.811249 \r\nL 691.643125 126.9472 \r\nL 691.716925 126.811249 \r\nL 691.790725 126.901883 \r\nL 691.938325 126.901883 \r\nL 692.085924 126.720615 \r\nL 692.381124 126.675298 \r\nL 692.454924 126.584664 \r\nL 692.528724 126.675298 \r\nL 692.750123 126.267445 \r\nL 692.823923 126.448713 \r\nL 692.971523 126.222128 \r\nL 693.045323 126.267445 \r\nL 693.192923 126.267445 \r\nL 693.414322 126.086177 \r\nL 693.709522 126.04086 \r\nL 693.930922 125.904909 \r\nL 694.078521 125.904909 \r\nL 694.299921 125.678324 \r\nL 694.373721 125.814275 \r\nL 694.447521 125.768958 \r\nL 694.521321 125.768958 \r\nL 694.74272 125.542373 \r\nL 694.81652 125.678324 \r\nL 694.89032 125.497056 \r\nL 694.96412 125.633007 \r\nL 695.18552 125.270471 \r\nL 695.259319 125.406422 \r\nL 695.333119 125.361105 \r\nL 695.554519 125.225154 \r\nL 695.628319 125.315788 \r\nL 695.702119 125.089203 \r\nL 695.775919 125.225154 \r\nL 695.849719 125.13452 \r\nL 696.071118 125.179837 \r\nL 696.218718 124.953252 \r\nL 696.366318 124.953252 \r\nL 696.440118 124.953252 \r\nL 696.513918 124.726668 \r\nL 696.587717 124.862618 \r\nL 696.661517 124.771984 \r\nL 696.809117 124.726668 \r\nL 696.882917 124.726668 \r\nL 697.030517 124.364132 \r\nL 697.104317 124.409449 \r\nL 697.325716 124.409449 \r\nL 697.473316 124.228181 \r\nL 697.547116 124.273498 \r\nL 697.768516 124.046913 \r\nL 697.842315 124.09223 \r\nL 697.916115 124.001596 \r\nL 697.989915 124.182864 \r\nL 698.137515 124.046913 \r\nL 698.211315 124.046913 \r\nL 698.285115 123.865645 \r\nL 698.358915 124.001596 \r\nL 698.432715 123.775011 \r\nL 698.506514 123.865645 \r\nL 699.023114 123.457792 \r\nL 699.170713 123.684377 \r\nL 699.244513 123.412475 \r\nL 699.318313 123.593743 \r\nL 699.392113 123.412475 \r\nL 699.465913 123.63906 \r\nL 699.539713 123.276524 \r\nL 699.613513 123.593743 \r\nL 699.687313 123.140573 \r\nL 699.761112 123.412475 \r\nL 699.834912 123.276524 \r\nL 699.982512 123.412475 \r\nL 700.056312 123.095256 \r\nL 700.130112 123.321841 \r\nL 700.203912 123.049939 \r\nL 700.277712 123.276524 \r\nL 700.351511 123.049939 \r\nL 700.425311 123.18589 \r\nL 700.499111 123.049939 \r\nL 700.572911 123.18589 \r\nL 700.646711 123.095256 \r\nL 700.794311 123.18589 \r\nL 701.08951 122.823354 \r\nL 701.16331 122.913988 \r\nL 701.60611 122.506135 \r\nL 701.679909 122.506135 \r\nL 701.753709 122.324867 \r\nL 701.827509 122.370184 \r\nL 702.196509 122.188916 \r\nL 702.270308 122.324867 \r\nL 702.565508 121.735746 \r\nL 702.639308 121.645112 \r\nL 702.713108 121.781063 \r\nL 702.786908 121.690429 \r\nL 702.860708 121.781063 \r\nL 702.934507 121.554478 \r\nL 703.008307 121.781063 \r\nL 703.082107 121.599795 \r\nL 703.155907 121.781063 \r\nL 703.229707 121.554478 \r\nL 703.377307 121.690429 \r\nL 703.524906 121.690429 \r\nL 703.598706 121.418527 \r\nL 703.672506 121.645112 \r\nL 703.746306 121.463844 \r\nL 703.820106 121.599795 \r\nL 704.041506 121.101308 \r\nL 704.189105 121.282576 \r\nL 704.410505 121.055991 \r\nL 704.484305 121.282576 \r\nL 704.705705 120.738772 \r\nL 704.779505 121.055991 \r\nL 704.853304 120.330919 \r\nL 704.927104 121.191942 \r\nL 705.000904 120.512187 \r\nL 705.074704 121.010674 \r\nL 705.148504 120.648138 \r\nL 705.222304 120.784089 \r\nL 705.517503 120.46687 \r\nL 705.591303 120.512187 \r\nL 705.665103 120.240285 \r\nL 705.738903 120.512187 \r\nL 706.034103 119.787115 \r\nL 706.107902 119.832432 \r\nL 706.181702 119.515213 \r\nL 706.255502 119.696481 \r\nL 706.329302 119.333945 \r\nL 706.403102 119.605847 \r\nL 706.476902 119.288628 \r\nL 706.550702 119.651164 \r\nL 706.624502 119.288628 \r\nL 706.698302 119.741798 \r\nL 706.772101 118.835458 \r\nL 706.845901 119.424579 \r\nL 706.919701 118.790141 \r\nL 706.993501 119.288628 \r\nL 707.067301 118.880775 \r\nL 707.141101 119.10736 \r\nL 707.214901 118.835458 \r\nL 707.288701 119.016726 \r\nL 707.3625 118.926092 \r\nL 707.5839 118.563556 \r\nL 707.6577 118.971409 \r\nL 707.7315 118.382288 \r\nL 707.8053 118.971409 \r\nL 707.8791 118.291654 \r\nL 707.9529 118.971409 \r\nL 708.026699 118.336971 \r\nL 708.100499 118.65419 \r\nL 708.174299 118.246337 \r\nL 708.248099 118.427605 \r\nL 708.543299 118.019752 \r\nL 708.617098 118.20102 \r\nL 708.838498 117.883801 \r\nL 708.912298 118.065069 \r\nL 708.986098 117.883801 \r\nL 709.059898 118.155703 \r\nL 709.133698 117.74785 \r\nL 709.207498 118.155703 \r\nL 709.281297 117.74785 \r\nL 709.355097 117.974435 \r\nL 709.428897 117.702533 \r\nL 709.502697 117.883801 \r\nL 709.576497 117.74785 \r\nL 709.650297 117.793167 \r\nL 709.797897 117.611899 \r\nL 709.871697 117.838484 \r\nL 709.945496 117.475948 \r\nL 710.019296 117.74785 \r\nL 710.093096 117.521265 \r\nL 710.166896 117.838484 \r\nL 710.314496 117.385314 \r\nL 710.388296 117.430631 \r\nL 710.535895 117.385314 \r\nL 710.683495 117.294681 \r\nL 710.757295 117.475948 \r\nL 710.831095 117.385314 \r\nL 711.052495 117.249364 \r\nL 711.126295 117.068096 \r\nL 711.200094 117.15873 \r\nL 711.421494 116.932145 \r\nL 711.569094 117.022779 \r\nL 711.790494 116.796194 \r\nL 711.864293 116.932145 \r\nL 711.938093 116.841511 \r\nL 712.307093 116.660243 \r\nL 712.380893 116.841511 \r\nL 712.528492 116.614926 \r\nL 712.676092 116.660243 \r\nL 712.823692 116.524292 \r\nL 712.971292 116.614926 \r\nL 713.192691 116.388341 \r\nL 713.266491 116.478975 \r\nL 713.487891 116.071122 \r\nL 713.561691 116.343024 \r\nL 713.635491 116.116439 \r\nL 713.70929 116.25239 \r\nL 713.78309 116.207073 \r\nL 713.85689 116.25239 \r\nL 713.93069 116.116439 \r\nL 714.00449 116.25239 \r\nL 714.22589 115.79922 \r\nL 714.29969 116.161756 \r\nL 714.373489 115.617952 \r\nL 714.447289 116.116439 \r\nL 714.521089 115.617952 \r\nL 714.594889 116.116439 \r\nL 714.668689 115.527318 \r\nL 714.742489 116.071122 \r\nL 714.816289 115.572635 \r\nL 714.890089 115.935171 \r\nL 714.963889 115.889854 \r\nL 715.037688 115.708586 \r\nL 715.111488 115.753903 \r\nL 715.185288 115.663269 \r\nL 715.259088 115.844537 \r\nL 715.332888 115.527318 \r\nL 715.406688 115.663269 \r\nL 715.628087 115.527318 \r\nL 715.701887 115.617952 \r\nL 715.775687 115.300733 \r\nL 715.849487 115.436684 \r\nL 715.923287 115.34605 \r\nL 715.997087 115.527318 \r\nL 716.070887 115.119465 \r\nL 716.144687 115.617952 \r\nL 716.218487 114.938197 \r\nL 716.292286 115.527318 \r\nL 716.366086 114.983514 \r\nL 716.439886 115.482001 \r\nL 716.513686 115.119465 \r\nL 716.587486 115.255416 \r\nL 716.661286 115.391367 \r\nL 716.735086 114.847563 \r\nL 716.808886 115.391367 \r\nL 716.882685 114.802246 \r\nL 716.956485 115.572635 \r\nL 717.030285 114.711612 \r\nL 717.104085 115.255416 \r\nL 717.177885 114.711612 \r\nL 717.251685 115.119465 \r\nL 717.399285 114.711612 \r\nL 717.473085 114.983514 \r\nL 717.546884 114.620978 \r\nL 717.620684 115.028831 \r\nL 717.694484 114.394393 \r\nL 717.768284 115.074148 \r\nL 717.842084 114.258442 \r\nL 717.915884 114.983514 \r\nL 717.989684 114.167808 \r\nL 718.063484 114.983514 \r\nL 718.137284 114.213125 \r\nL 718.211083 114.847563 \r\nL 718.284883 114.349076 \r\nL 718.358683 114.666295 \r\nL 718.432483 114.530344 \r\nL 718.506283 114.485027 \r\nL 718.580083 114.666295 \r\nL 718.653883 114.303759 \r\nL 718.727683 114.620978 \r\nL 718.801482 114.077174 \r\nL 718.875282 114.530344 \r\nL 718.949082 114.031857 \r\nL 719.022882 114.303759 \r\nL 719.096682 113.895906 \r\nL 719.170482 114.122491 \r\nL 719.244282 113.759955 \r\nL 719.318082 114.077174 \r\nL 719.391882 113.805272 \r\nL 719.465681 113.98654 \r\nL 719.539481 113.714638 \r\nL 719.613281 113.98654 \r\nL 719.687081 113.624004 \r\nL 719.760881 113.850589 \r\nL 719.834681 113.53337 \r\nL 719.908481 113.850589 \r\nL 719.982281 113.442736 \r\nL 720.056081 113.759955 \r\nL 720.12988 113.397419 \r\nL 720.20368 113.714638 \r\nL 720.27748 113.216151 \r\nL 720.35128 113.578687 \r\nL 720.42508 113.0802 \r\nL 720.49888 113.53337 \r\nL 720.57268 113.170834 \r\nL 720.64648 113.352102 \r\nL 720.720279 113.0802 \r\nL 720.794079 113.261468 \r\nL 720.941679 113.034883 \r\nL 721.015479 113.170834 \r\nL 721.089279 112.808298 \r\nL 721.163079 113.0802 \r\nL 721.236879 112.853615 \r\nL 721.310679 113.0802 \r\nL 721.458278 112.853615 \r\nL 721.532078 112.944249 \r\nL 721.605878 112.672347 \r\nL 721.679678 112.853615 \r\nL 721.753478 112.491079 \r\nL 721.901078 112.717664 \r\nL 722.048677 112.808298 \r\nL 722.122477 112.400445 \r\nL 722.196277 112.898932 \r\nL 722.270077 112.355128 \r\nL 722.343877 112.672347 \r\nL 722.417677 112.355128 \r\nL 722.491477 112.536396 \r\nL 722.565277 112.355128 \r\nL 722.639076 112.536396 \r\nL 722.712876 112.400445 \r\nL 722.786676 112.445762 \r\nL 722.860476 112.445762 \r\nL 722.934276 112.083226 \r\nL 723.008076 112.491079 \r\nL 723.081876 111.992592 \r\nL 723.155676 112.309811 \r\nL 723.229476 111.947275 \r\nL 723.377075 112.17386 \r\nL 723.450875 111.766007 \r\nL 723.524675 112.17386 \r\nL 723.598475 111.675373 \r\nL 723.672275 112.17386 \r\nL 723.746075 111.630056 \r\nL 723.819875 112.037909 \r\nL 723.893674 111.584739 \r\nL 723.967474 111.856641 \r\nL 724.115074 111.584739 \r\nL 724.188874 111.766007 \r\nL 724.262674 111.403471 \r\nL 724.336474 111.811324 \r\nL 724.410274 111.358154 \r\nL 724.484074 111.766007 \r\nL 724.557873 111.131569 \r\nL 724.631673 111.72069 \r\nL 724.705473 111.26752 \r\nL 724.779273 111.584739 \r\nL 724.853073 111.312837 \r\nL 724.926873 111.584739 \r\nL 725.000673 111.494105 \r\nL 725.222072 111.312837 \r\nL 725.369672 111.086252 \r\nL 725.443472 111.176886 \r\nL 725.664872 110.904984 \r\nL 725.738672 111.131569 \r\nL 725.812471 110.859667 \r\nL 725.886271 111.312837 \r\nL 725.960071 110.904984 \r\nL 726.033871 111.26752 \r\nL 726.107671 111.040935 \r\nL 726.181471 111.358154 \r\nL 726.402871 110.950301 \r\nL 726.62427 110.633082 \r\nL 726.69807 110.904984 \r\nL 726.77187 110.678399 \r\nL 726.84567 111.086252 \r\nL 727.067069 110.542448 \r\nL 727.214669 110.723716 \r\nL 727.288469 110.497131 \r\nL 727.362269 110.678399 \r\nL 727.436069 110.497131 \r\nL 727.509869 110.678399 \r\nL 727.583669 110.451814 \r\nL 727.657469 110.678399 \r\nL 727.878868 110.134595 \r\nL 727.952668 110.36118 \r\nL 728.026468 110.179912 \r\nL 728.100268 110.451814 \r\nL 728.174068 110.225229 \r\nL 728.247868 110.587765 \r\nL 728.469267 109.953327 \r\nL 728.543067 110.36118 \r\nL 728.690667 109.908011 \r\nL 729.059666 110.043961 \r\nL 729.133466 110.043961 \r\nL 729.354866 109.681426 \r\nL 729.576266 109.364207 \r\nL 729.650065 109.681426 \r\nL 729.723865 109.273573 \r\nL 729.797665 109.862694 \r\nL 729.871465 109.273573 \r\nL 729.945265 109.77206 \r\nL 730.019065 109.273573 \r\nL 730.092865 109.364207 \r\nL 730.166665 109.31889 \r\nL 730.240464 109.409524 \r\nL 730.314264 109.31889 \r\nL 730.388064 109.046988 \r\nL 730.461864 109.364207 \r\nL 730.535664 109.001671 \r\nL 730.609464 109.31889 \r\nL 730.683264 109.001671 \r\nL 730.757064 109.273573 \r\nL 730.830864 109.001671 \r\nL 730.904663 109.046988 \r\nL 730.978463 109.001671 \r\nL 731.052263 108.820403 \r\nL 731.126063 109.001671 \r\nL 731.199863 108.820403 \r\nL 731.273663 109.001671 \r\nL 731.347463 108.684452 \r\nL 731.421263 109.001671 \r\nL 731.495063 108.729769 \r\nL 731.568862 108.775086 \r\nL 731.790262 108.684452 \r\nL 731.864062 108.548501 \r\nL 731.937862 108.639135 \r\nL 732.159261 108.503184 \r\nL 732.233061 108.639135 \r\nL 732.306861 108.548501 \r\nL 732.454461 108.548501 \r\nL 732.528261 108.185965 \r\nL 732.602061 108.457867 \r\nL 732.675861 108.276599 \r\nL 732.749661 108.41255 \r\nL 732.82346 108.367233 \r\nL 732.89726 108.185965 \r\nL 732.97106 108.367233 \r\nL 733.04486 108.276599 \r\nL 733.11866 108.41255 \r\nL 733.19246 108.095331 \r\nL 733.26626 108.140648 \r\nL 733.34006 108.095331 \r\nL 733.413859 107.914063 \r\nL 733.487659 108.095331 \r\nL 733.561459 107.95938 \r\nL 733.635259 108.140648 \r\nL 733.709059 107.95938 \r\nL 733.782859 108.140648 \r\nL 734.004259 107.642161 \r\nL 734.078058 107.823429 \r\nL 734.299458 107.551527 \r\nL 734.373258 107.95938 \r\nL 734.447058 107.415576 \r\nL 734.520858 107.914063 \r\nL 734.594658 107.415576 \r\nL 734.668458 107.732795 \r\nL 734.742257 107.50621 \r\nL 734.816057 107.687478 \r\nL 734.889857 107.415576 \r\nL 734.963657 107.50621 \r\nL 735.037457 107.687478 \r\nL 735.111257 107.460893 \r\nL 735.185057 107.642161 \r\nL 735.258857 107.279625 \r\nL 735.332656 107.50621 \r\nL 735.406456 107.279625 \r\nL 735.480256 107.370259 \r\nL 735.627856 107.279625 \r\nL 735.701656 107.50621 \r\nL 735.775456 107.234308 \r\nL 735.849256 107.551527 \r\nL 735.923056 107.143674 \r\nL 735.996855 107.50621 \r\nL 736.070655 107.188991 \r\nL 736.144455 107.324942 \r\nL 736.218255 107.098357 \r\nL 736.292055 107.143674 \r\nL 736.365855 107.05304 \r\nL 736.513455 107.143674 \r\nL 736.587255 107.05304 \r\nL 736.661054 107.234308 \r\nL 736.734854 107.05304 \r\nL 736.808654 107.234308 \r\nL 736.882454 107.143674 \r\nL 736.956254 107.188991 \r\nL 737.251453 106.962406 \r\nL 737.325253 107.143674 \r\nL 737.472853 106.871772 \r\nL 737.915652 106.917089 \r\nL 737.989452 106.690504 \r\nL 738.063252 106.871772 \r\nL 738.137052 106.781138 \r\nL 738.210852 106.826455 \r\nL 738.358452 106.781138 \r\nL 738.579851 106.645187 \r\nL 738.727451 106.690504 \r\nL 738.801251 106.690504 \r\nL 738.875051 106.509236 \r\nL 738.948851 106.645187 \r\nL 739.022651 106.327968 \r\nL 739.096451 106.645187 \r\nL 739.17025 106.192017 \r\nL 739.24405 106.327968 \r\nL 739.31785 106.1467 \r\nL 739.39165 106.192017 \r\nL 739.46545 106.192017 \r\nL 739.53925 106.010749 \r\nL 739.61305 106.282651 \r\nL 739.68685 105.965432 \r\nL 739.76065 106.418602 \r\nL 739.834449 105.965432 \r\nL 739.908249 106.282651 \r\nL 739.982049 106.056066 \r\nL 740.055849 106.101383 \r\nL 740.351049 105.784164 \r\nL 740.424848 105.874798 \r\nL 740.498648 105.557579 \r\nL 740.572448 105.920115 \r\nL 740.646248 105.648213 \r\nL 740.720048 105.874798 \r\nL 740.793848 105.512262 \r\nL 740.867648 105.648213 \r\nL 741.015248 105.512262 \r\nL 741.310447 105.421628 \r\nL 741.458047 105.421628 \r\nL 741.531847 105.104409 \r\nL 741.605647 105.285677 \r\nL 741.679446 105.104409 \r\nL 741.753246 105.376311 \r\nL 741.827046 105.149726 \r\nL 741.900846 105.285677 \r\nL 741.974646 105.195043 \r\nL 742.048446 105.285677 \r\nL 742.122246 105.059092 \r\nL 742.196046 105.104409 \r\nL 742.269846 105.149726 \r\nL 742.343645 104.968458 \r\nL 742.417445 105.149726 \r\nL 742.491245 104.741873 \r\nL 742.565045 105.013775 \r\nL 742.638845 104.741873 \r\nL 742.712645 105.013775 \r\nL 742.786445 104.741873 \r\nL 742.860245 104.923141 \r\nL 742.934045 104.651239 \r\nL 743.007844 104.78719 \r\nL 743.303044 104.379337 \r\nL 743.376844 104.651239 \r\nL 743.450644 104.515288 \r\nL 743.524444 104.605922 \r\nL 743.745843 104.288703 \r\nL 743.893443 104.379337 \r\nL 743.967243 104.288703 \r\nL 744.041043 104.379337 \r\nL 744.188643 104.198069 \r\nL 744.262442 104.288703 \r\nL 744.336242 104.198069 \r\nL 744.410042 104.379337 \r\nL 744.483842 104.152752 \r\nL 744.557642 104.288703 \r\nL 744.631442 104.107435 \r\nL 744.705242 104.198069 \r\nL 744.779042 104.062118 \r\nL 744.852842 104.152752 \r\nL 745.000441 104.016801 \r\nL 745.074241 104.107435 \r\nL 745.148041 103.835533 \r\nL 745.221841 103.926167 \r\nL 745.443241 103.744899 \r\nL 745.51704 103.835533 \r\nL 745.59084 103.654265 \r\nL 745.66464 103.699582 \r\nL 745.73844 103.699582 \r\nL 745.81224 103.518314 \r\nL 745.88604 103.608948 \r\nL 746.03364 103.563631 \r\nL 746.10744 103.518314 \r\nL 746.181239 103.790216 \r\nL 746.255039 103.382363 \r\nL 746.328839 103.563631 \r\nL 746.624039 103.246412 \r\nL 746.919238 102.97451 \r\nL 747.066838 103.065144 \r\nL 747.435837 102.883876 \r\nL 747.509637 103.065144 \r\nL 747.583437 102.838559 \r\nL 747.657237 103.110461 \r\nL 747.731037 102.793242 \r\nL 747.804837 103.110461 \r\nL 747.878637 102.747925 \r\nL 747.952437 103.019827 \r\nL 748.026237 102.793242 \r\nL 748.100036 102.929193 \r\nL 748.395236 102.611974 \r\nL 748.469036 102.883876 \r\nL 748.542836 102.476024 \r\nL 748.616636 102.657291 \r\nL 748.764235 102.566657 \r\nL 748.985635 102.657291 \r\nL 749.059435 102.340073 \r\nL 749.133235 102.611974 \r\nL 749.207035 102.294756 \r\nL 749.280835 102.521341 \r\nL 749.354634 102.204122 \r\nL 749.428434 102.38539 \r\nL 749.576034 102.113488 \r\nL 749.797434 102.294756 \r\nL 750.018833 102.022854 \r\nL 750.166433 102.022854 \r\nL 750.240233 101.841586 \r\nL 750.314033 102.068171 \r\nL 750.387833 102.022854 \r\nL 750.535433 102.068171 \r\nL 750.609232 102.022854 \r\nL 750.830632 102.340073 \r\nL 750.904432 102.113488 \r\nL 750.978232 102.340073 \r\nL 751.052032 101.750952 \r\nL 751.125832 101.841586 \r\nL 751.273431 101.750952 \r\nL 751.494831 101.886903 \r\nL 751.568631 101.750952 \r\nL 751.642431 101.886903 \r\nL 751.86383 101.569684 \r\nL 751.93763 101.660318 \r\nL 752.08523 101.569684 \r\nL 752.15903 101.660318 \r\nL 752.23283 101.524367 \r\nL 752.30663 101.705635 \r\nL 752.45423 101.47905 \r\nL 752.528029 101.569684 \r\nL 752.601829 101.297782 \r\nL 752.675629 101.569684 \r\nL 752.749429 101.207148 \r\nL 752.823229 101.569684 \r\nL 752.897029 101.252465 \r\nL 752.970829 101.388416 \r\nL 753.266028 101.116514 \r\nL 753.339828 101.343099 \r\nL 753.413628 101.071197 \r\nL 753.561228 101.252465 \r\nL 753.635028 101.116514 \r\nL 753.708828 101.252465 \r\nL 753.782627 100.889929 \r\nL 753.856427 101.47905 \r\nL 753.930227 100.889929 \r\nL 754.004027 101.388416 \r\nL 754.077827 100.889929 \r\nL 754.151627 101.071197 \r\nL 754.299227 100.663344 \r\nL 754.373027 100.799295 \r\nL 754.446826 100.844612 \r\nL 754.668226 100.708661 \r\nL 755.184825 100.482076 \r\nL 755.258625 100.57271 \r\nL 755.332425 100.255491 \r\nL 755.406225 100.57271 \r\nL 755.480025 100.391442 \r\nL 755.553825 100.663344 \r\nL 755.627625 100.164857 \r\nL 755.701424 100.436759 \r\nL 755.775224 99.892955 \r\nL 755.849024 100.436759 \r\nL 755.922824 100.028906 \r\nL 755.996624 100.11954 \r\nL 756.218024 100.300808 \r\nL 756.291824 100.11954 \r\nL 756.365623 100.255491 \r\nL 756.439423 100.164857 \r\nL 756.513223 100.255491 \r\nL 756.808423 99.757004 \r\nL 756.882223 99.892955 \r\nL 756.956022 99.757004 \r\nL 757.029822 99.892955 \r\nL 757.103622 99.711687 \r\nL 757.177422 99.847638 \r\nL 757.251222 99.621053 \r\nL 757.325022 99.892955 \r\nL 757.398822 99.575736 \r\nL 757.472622 99.847638 \r\nL 757.546422 99.575736 \r\nL 757.620221 99.802321 \r\nL 757.694021 99.711687 \r\nL 757.767821 99.66637 \r\nL 757.841621 99.802321 \r\nL 757.915421 99.439785 \r\nL 757.989221 99.847638 \r\nL 758.063021 99.439785 \r\nL 758.136821 99.711687 \r\nL 758.210621 99.394468 \r\nL 758.28442 99.439785 \r\nL 758.50582 99.66637 \r\nL 758.72722 99.394468 \r\nL 758.80102 99.530419 \r\nL 759.022419 99.258517 \r\nL 759.096219 99.485102 \r\nL 759.170019 99.303834 \r\nL 759.243819 99.485102 \r\nL 759.317619 99.303834 \r\nL 759.391419 99.439785 \r\nL 759.612818 99.167883 \r\nL 759.760418 99.394468 \r\nL 759.834218 99.077249 \r\nL 759.908018 99.258517 \r\nL 759.981818 99.122566 \r\nL 760.055618 99.349151 \r\nL 760.129417 99.077249 \r\nL 760.203217 99.258517 \r\nL 760.277017 99.031932 \r\nL 760.350817 99.122566 \r\nL 760.424617 98.986615 \r\nL 760.498417 99.167883 \r\nL 760.572217 98.941298 \r\nL 760.646017 99.2132 \r\nL 760.867416 98.941298 \r\nL 761.015016 98.941298 \r\nL 761.088816 98.805347 \r\nL 761.162616 98.986615 \r\nL 761.236416 98.624079 \r\nL 761.310216 98.941298 \r\nL 761.384016 98.76003 \r\nL 761.457815 98.986615 \r\nL 761.531615 98.714713 \r\nL 761.605415 98.986615 \r\nL 761.679215 98.669396 \r\nL 761.753015 98.805347 \r\nL 761.826815 98.578762 \r\nL 761.900615 98.805347 \r\nL 761.974415 98.624079 \r\nL 762.048214 98.805347 \r\nL 762.122014 98.578762 \r\nL 762.195814 98.714713 \r\nL 762.269614 98.352177 \r\nL 762.343414 98.578762 \r\nL 762.417214 98.30686 \r\nL 762.564814 98.533445 \r\nL 762.638614 98.578762 \r\nL 762.786213 98.442811 \r\nL 762.860013 98.488128 \r\nL 762.933813 98.30686 \r\nL 763.007613 98.442811 \r\nL 763.229013 98.216226 \r\nL 763.376612 98.216226 \r\nL 763.450412 97.989641 \r\nL 763.524212 98.080275 \r\nL 763.745612 97.85369 \r\nL 763.819412 97.989641 \r\nL 763.893212 97.85369 \r\nL 763.967011 97.989641 \r\nL 764.040811 97.899007 \r\nL 764.188411 97.85369 \r\nL 764.409811 97.763056 \r\nL 764.557411 97.491154 \r\nL 764.63121 97.672422 \r\nL 764.70501 97.536471 \r\nL 764.77881 97.581788 \r\nL 765.221609 97.491154 \r\nL 765.516809 97.355203 \r\nL 765.590609 97.40052 \r\nL 765.812009 97.219252 \r\nL 765.959608 97.219252 \r\nL 766.033408 97.128618 \r\nL 766.107208 97.219252 \r\nL 766.181008 96.992667 \r\nL 766.254808 97.309886 \r\nL 766.328608 97.173935 \r\nL 766.402408 97.083301 \r\nL 766.476208 97.173935 \r\nL 766.623807 96.992667 \r\nL 766.845207 96.902033 \r\nL 766.919007 97.037984 \r\nL 767.066607 96.856716 \r\nL 767.140406 96.94735 \r\nL 767.214206 96.811399 \r\nL 767.288006 96.94735 \r\nL 767.361806 96.766082 \r\nL 767.435606 96.856716 \r\nL 767.509406 96.720765 \r\nL 767.583206 96.902033 \r\nL 767.657006 96.766082 \r\nL 767.730806 96.902033 \r\nL 767.804605 96.675448 \r\nL 767.878405 96.856716 \r\nL 767.952205 96.675448 \r\nL 768.026005 96.720765 \r\nL 768.173605 96.675448 \r\nL 768.395004 96.403546 \r\nL 768.911604 96.04101 \r\nL 768.985404 96.267595 \r\nL 769.059203 95.995693 \r\nL 769.133003 96.312912 \r\nL 769.206803 95.950376 \r\nL 769.280603 96.222278 \r\nL 769.354403 95.995693 \r\nL 769.502003 96.131644 \r\nL 769.575803 96.131644 \r\nL 769.723402 95.769108 \r\nL 769.797202 95.950376 \r\nL 770.092402 95.859742 \r\nL 770.166202 95.995693 \r\nL 770.240002 95.58784 \r\nL 770.313801 95.859742 \r\nL 770.387601 95.497206 \r\nL 770.461401 95.633157 \r\nL 770.609001 95.406572 \r\nL 770.682801 95.542523 \r\nL 770.756601 95.451889 \r\nL 771.1256 95.542523 \r\nL 771.1994 95.179987 \r\nL 771.2732 95.361255 \r\nL 771.4208 95.406572 \r\nL 771.642199 95.225304 \r\nL 771.863599 95.179987 \r\nL 771.937399 95.044037 \r\nL 772.011199 95.179987 \r\nL 772.084999 95.089354 \r\nL 772.158799 94.862769 \r\nL 772.232598 94.953403 \r\nL 772.453998 94.817452 \r\nL 772.527798 94.862769 \r\nL 772.675398 94.817452 \r\nL 772.822998 94.862769 \r\nL 772.970597 94.772135 \r\nL 773.044397 94.590867 \r\nL 773.118197 94.726818 \r\nL 773.191997 94.454916 \r\nL 773.265797 94.726818 \r\nL 773.339597 94.454916 \r\nL 773.413397 94.500233 \r\nL 773.929996 94.228331 \r\nL 774.003796 94.273648 \r\nL 774.077596 94.001746 \r\nL 774.151395 94.047063 \r\nL 774.741795 93.956429 \r\nL 774.889394 93.820478 \r\nL 774.963194 93.911112 \r\nL 775.036994 93.729844 \r\nL 775.110794 93.865795 \r\nL 775.184594 93.775161 \r\nL 775.332194 93.911112 \r\nL 775.479793 93.729844 \r\nL 775.701193 93.865795 \r\nL 775.848793 93.367308 \r\nL 775.922593 93.593893 \r\nL 775.996393 93.367308 \r\nL 776.070192 93.593893 \r\nL 776.143992 93.367308 \r\nL 776.217792 93.63921 \r\nL 776.365392 93.321991 \r\nL 776.439192 93.503259 \r\nL 776.512992 93.276674 \r\nL 776.586792 93.457942 \r\nL 776.660591 93.231357 \r\nL 776.734391 93.503259 \r\nL 776.808191 93.140723 \r\nL 776.881991 93.276674 \r\nL 777.029591 93.050089 \r\nL 777.250991 93.095406 \r\nL 777.32479 92.73287 \r\nL 777.39859 93.050089 \r\nL 777.47239 92.687553 \r\nL 777.54619 93.004772 \r\nL 777.61999 92.687553 \r\nL 777.69379 92.73287 \r\nL 778.062789 92.73287 \r\nL 778.136589 92.460968 \r\nL 778.210389 92.73287 \r\nL 778.284189 92.415651 \r\nL 778.357989 92.551602 \r\nL 778.431789 92.325017 \r\nL 778.505589 92.551602 \r\nL 778.579388 92.2797 \r\nL 778.653188 92.506285 \r\nL 778.726988 92.415651 \r\nL 778.874588 92.415651 \r\nL 778.948388 92.2797 \r\nL 779.022188 92.325017 \r\nL 779.243587 92.143749 \r\nL 779.317387 92.325017 \r\nL 779.391187 92.098432 \r\nL 779.464987 92.234383 \r\nL 779.538787 92.143749 \r\nL 780.129186 92.053115 \r\nL 780.276786 91.871847 \r\nL 780.350586 91.917164 \r\nL 780.424386 91.82653 \r\nL 780.498185 91.917164 \r\nL 780.571985 91.690579 \r\nL 780.645785 91.735896 \r\nL 780.793385 91.690579 \r\nL 780.940985 91.735896 \r\nL 781.014785 91.509311 \r\nL 781.088585 91.690579 \r\nL 781.162384 91.599945 \r\nL 781.236184 91.645262 \r\nL 781.383784 91.509311 \r\nL 781.457584 91.599945 \r\nL 781.531384 91.463994 \r\nL 781.605184 91.645262 \r\nL 781.678984 91.37336 \r\nL 781.752783 91.690579 \r\nL 781.826583 91.37336 \r\nL 781.900383 91.690579 \r\nL 782.047983 91.328043 \r\nL 782.195583 91.237409 \r\nL 782.269383 91.509311 \r\nL 782.343183 91.146775 \r\nL 782.416982 91.418677 \r\nL 782.490782 91.192092 \r\nL 782.564582 91.418677 \r\nL 782.638382 91.146775 \r\nL 782.712182 91.237409 \r\nL 782.859782 90.965507 \r\nL 783.007382 91.056141 \r\nL 783.302581 90.829556 \r\nL 783.376381 91.056141 \r\nL 783.450181 90.784239 \r\nL 783.523981 90.829556 \r\nL 783.597781 90.784239 \r\nL 783.67158 90.92019 \r\nL 783.74538 90.874873 \r\nL 783.81918 90.784239 \r\nL 783.89298 90.874873 \r\nL 783.96678 90.648288 \r\nL 784.04058 90.784239 \r\nL 784.11438 90.512337 \r\nL 784.18818 90.602971 \r\nL 784.335779 90.512337 \r\nL 784.852379 90.557654 \r\nL 784.926178 90.376386 \r\nL 784.999978 90.602971 \r\nL 785.073778 90.331069 \r\nL 785.147578 90.557654 \r\nL 785.221378 90.195118 \r\nL 785.295178 90.421703 \r\nL 785.442778 90.104484 \r\nL 785.590377 90.104484 \r\nL 785.737977 89.968533 \r\nL 785.811777 90.331069 \r\nL 785.885577 89.923216 \r\nL 785.959377 90.149801 \r\nL 786.033177 89.832582 \r\nL 786.106977 90.195118 \r\nL 786.180777 89.968533 \r\nL 786.254576 90.059167 \r\nL 786.623576 89.741948 \r\nL 786.844975 89.651314 \r\nL 786.918775 89.56068 \r\nL 787.066375 89.605997 \r\nL 787.287775 89.651314 \r\nL 787.361575 89.470046 \r\nL 787.435375 89.605997 \r\nL 787.509174 89.424729 \r\nL 787.582974 89.515363 \r\nL 787.730574 89.379412 \r\nL 787.804374 89.605997 \r\nL 787.878174 89.334095 \r\nL 787.951974 89.470046 \r\nL 788.099573 89.515363 \r\nL 788.320973 89.334095 \r\nL 788.394773 89.424729 \r\nL 788.542373 89.10751 \r\nL 788.616173 89.334095 \r\nL 788.689973 89.243461 \r\nL 788.837572 89.288778 \r\nL 788.985172 89.198144 \r\nL 789.132772 88.926242 \r\nL 789.280372 89.10751 \r\nL 789.354172 88.926242 \r\nL 789.427971 88.971559 \r\nL 789.575571 88.926242 \r\nL 789.723171 88.971559 \r\nL 790.09217 88.744974 \r\nL 790.16597 88.926242 \r\nL 790.23977 88.699657 \r\nL 790.31357 88.880925 \r\nL 790.46117 88.65434 \r\nL 790.60877 88.65434 \r\nL 790.830169 88.699657 \r\nL 790.903969 88.518389 \r\nL 790.977769 88.609023 \r\nL 791.125369 88.473072 \r\nL 791.199169 88.65434 \r\nL 791.272969 88.518389 \r\nL 791.346768 88.699657 \r\nL 791.420568 88.518389 \r\nL 791.494368 88.699657 \r\nL 791.715768 88.291804 \r\nL 791.789568 88.427755 \r\nL 791.863368 88.337121 \r\nL 792.232367 88.20117 \r\nL 792.379967 88.382438 \r\nL 792.453767 88.20117 \r\nL 792.527567 88.291804 \r\nL 792.601366 88.20117 \r\nL 792.675166 88.291804 \r\nL 792.896566 88.019902 \r\nL 792.970366 88.110536 \r\nL 793.044166 87.929268 \r\nL 793.117966 88.291804 \r\nL 793.191765 87.883951 \r\nL 793.265565 88.20117 \r\nL 793.413165 87.748001 \r\nL 793.560765 87.793317 \r\nL 794.003564 87.748001 \r\nL 794.077364 87.929268 \r\nL 794.151164 87.61205 \r\nL 794.224964 87.838634 \r\nL 794.298764 87.657367 \r\nL 794.372564 87.838634 \r\nL 794.446364 87.657367 \r\nL 794.520163 87.748001 \r\nL 794.741563 87.566733 \r\nL 795.036763 87.657367 \r\nL 795.110562 87.430782 \r\nL 795.184362 87.702684 \r\nL 795.258162 87.294831 \r\nL 795.331962 87.702684 \r\nL 795.405762 87.294831 \r\nL 795.479562 87.657367 \r\nL 795.553362 87.340148 \r\nL 795.627162 87.476099 \r\nL 795.700962 87.294831 \r\nL 795.774761 87.385465 \r\nL 795.848561 87.430782 \r\nL 795.922361 87.294831 \r\nL 795.996161 87.521416 \r\nL 796.069961 87.113563 \r\nL 796.143761 87.385465 \r\nL 796.217561 87.068246 \r\nL 796.291361 87.340148 \r\nL 796.365161 87.294831 \r\nL 796.43896 87.340148 \r\nL 796.73416 87.022929 \r\nL 796.80796 87.294831 \r\nL 796.88176 86.841661 \r\nL 796.95556 87.15888 \r\nL 797.029359 86.70571 \r\nL 797.103159 86.932295 \r\nL 797.176959 86.70571 \r\nL 797.324559 86.932295 \r\nL 797.398359 86.796344 \r\nL 797.472159 86.977612 \r\nL 797.545959 86.886978 \r\nL 797.619759 86.751027 \r\nL 797.693558 86.841661 \r\nL 797.841158 86.751027 \r\nL 798.136358 86.751027 \r\nL 798.357757 86.433808 \r\nL 798.431557 86.569759 \r\nL 798.579157 86.433808 \r\nL 798.652957 86.524442 \r\nL 798.726757 86.388491 \r\nL 798.800557 86.524442 \r\nL 798.874357 86.343174 \r\nL 798.948156 86.615076 \r\nL 799.021956 86.297857 \r\nL 799.095756 86.433808 \r\nL 799.317156 86.25254 \r\nL 799.390956 86.297857 \r\nL 799.464756 86.116589 \r\nL 799.538556 86.25254 \r\nL 799.612355 86.071272 \r\nL 799.686155 86.207223 \r\nL 799.759955 86.071272 \r\nL 799.833755 86.207223 \r\nL 799.981355 85.980638 \r\nL 800.055155 86.025955 \r\nL 800.276554 86.071272 \r\nL 800.424154 86.161906 \r\nL 800.571754 86.207223 \r\nL 800.866953 85.980638 \r\nL 800.940753 86.025955 \r\nL 801.088353 85.890004 \r\nL 801.309753 85.980638 \r\nL 801.383553 85.890004 \r\nL 801.457352 85.980638 \r\nL 801.531152 85.754053 \r\nL 801.604952 85.935321 \r\nL 801.678752 85.708736 \r\nL 801.752552 85.980638 \r\nL 801.973952 85.482151 \r\nL 802.047752 85.79937 \r\nL 802.121551 85.436834 \r\nL 802.195351 85.844687 \r\nL 802.269151 85.663419 \r\nL 802.342951 85.79937 \r\nL 802.490551 85.527468 \r\nL 802.564351 85.527468 \r\nL 802.638151 85.3462 \r\nL 802.711951 85.482151 \r\nL 802.78575 85.436834 \r\nL 802.85955 85.436834 \r\nL 802.93335 85.572785 \r\nL 803.00715 85.3462 \r\nL 803.08095 85.663419 \r\nL 803.15475 85.255566 \r\nL 803.22855 85.572785 \r\nL 803.30235 85.074298 \r\nL 803.376149 85.436834 \r\nL 803.449949 85.164932 \r\nL 803.523749 85.255566 \r\nL 803.671349 85.210249 \r\nL 803.818949 85.074298 \r\nL 803.892749 85.255566 \r\nL 804.114148 85.028981 \r\nL 804.409348 84.983664 \r\nL 804.483148 84.847713 \r\nL 804.556948 85.028981 \r\nL 804.630748 84.847713 \r\nL 804.704547 84.89303 \r\nL 804.778347 84.938347 \r\nL 804.852147 84.757079 \r\nL 804.925947 84.89303 \r\nL 804.999747 84.575811 \r\nL 805.073547 84.847713 \r\nL 805.147347 84.757079 \r\nL 805.221147 84.757079 \r\nL 805.368746 84.621128 \r\nL 805.516346 84.666445 \r\nL 805.811546 84.530494 \r\nL 805.885346 84.303909 \r\nL 805.959145 84.666445 \r\nL 806.032945 84.303909 \r\nL 806.106745 84.394543 \r\nL 806.180545 84.303909 \r\nL 806.254345 84.394543 \r\nL 806.328145 84.258592 \r\nL 806.401945 84.349226 \r\nL 806.475745 84.43986 \r\nL 806.549544 84.122641 \r\nL 806.623344 84.485177 \r\nL 806.697144 83.896056 \r\nL 806.770944 84.485177 \r\nL 806.844744 83.98669 \r\nL 806.918544 84.394543 \r\nL 806.992344 83.850739 \r\nL 807.066144 84.077324 \r\nL 807.139944 84.213275 \r\nL 807.213743 83.850739 \r\nL 807.287543 84.349226 \r\nL 807.361343 83.850739 \r\nL 807.435143 84.303909 \r\nL 807.508943 83.896056 \r\nL 807.582743 84.077324 \r\nL 807.656543 83.805422 \r\nL 807.730343 83.941373 \r\nL 808.246942 83.624154 \r\nL 808.320742 83.714788 \r\nL 808.468341 83.669471 \r\nL 808.689741 83.669471 \r\nL 808.763541 83.306935 \r\nL 808.837341 83.578837 \r\nL 808.911141 83.397569 \r\nL 808.984941 83.488203 \r\nL 809.13254 83.352252 \r\nL 809.28014 83.488203 \r\nL 809.42774 83.261618 \r\nL 809.50154 83.397569 \r\nL 809.722939 83.216301 \r\nL 809.870539 83.261618 \r\nL 809.944339 83.306935 \r\nL 810.018139 83.125667 \r\nL 810.091939 83.261618 \r\nL 810.239539 83.125667 \r\nL 810.313339 83.170984 \r\nL 810.387138 82.944399 \r\nL 810.460938 82.989716 \r\nL 810.534738 83.035033 \r\nL 810.608538 82.899082 \r\nL 810.682338 83.125667 \r\nL 810.756138 82.944399 \r\nL 810.829938 82.989716 \r\nL 811.272737 82.899082 \r\nL 811.420337 82.853765 \r\nL 811.494137 82.899082 \r\nL 811.567937 82.672497 \r\nL 811.641736 82.808448 \r\nL 811.715536 82.672497 \r\nL 811.789336 82.763131 \r\nL 812.010736 82.808448 \r\nL 812.084536 82.62718 \r\nL 812.158336 82.763131 \r\nL 812.232136 82.581863 \r\nL 812.305935 82.672497 \r\nL 812.527335 82.536546 \r\nL 812.674935 82.62718 \r\nL 812.970134 82.581863 \r\nL 813.043934 82.400595 \r\nL 813.117734 82.672497 \r\nL 813.191534 82.445912 \r\nL 813.265334 82.62718 \r\nL 813.339134 82.219327 \r\nL 813.412934 82.536546 \r\nL 813.486734 82.264644 \r\nL 813.560533 82.491229 \r\nL 813.708133 82.264644 \r\nL 813.929533 82.309961 \r\nL 814.003333 82.083376 \r\nL 814.077133 82.355278 \r\nL 814.150933 82.219327 \r\nL 814.224732 82.355278 \r\nL 814.298532 82.128693 \r\nL 814.372332 82.219327 \r\nL 814.593732 82.038059 \r\nL 814.667532 82.17401 \r\nL 814.741332 82.128693 \r\nL 815.405531 82.128693 \r\nL 815.47933 81.947425 \r\nL 815.55313 82.128693 \r\nL 815.70073 81.947425 \r\nL 815.77453 82.083376 \r\nL 815.84833 81.856791 \r\nL 815.92213 82.17401 \r\nL 815.99593 81.902108 \r\nL 816.06973 82.219327 \r\nL 816.143529 81.766157 \r\nL 816.217329 81.992742 \r\nL 816.291129 81.72084 \r\nL 816.364929 81.902108 \r\nL 816.438729 81.630206 \r\nL 816.512529 82.083376 \r\nL 816.586329 81.448938 \r\nL 816.660129 81.811474 \r\nL 816.733928 81.494255 \r\nL 816.807728 81.584889 \r\nL 816.955328 81.403621 \r\nL 817.029128 81.584889 \r\nL 817.102928 81.177036 \r\nL 817.176728 81.584889 \r\nL 817.250528 81.177036 \r\nL 817.324328 81.584889 \r\nL 817.398127 81.222353 \r\nL 817.471927 81.584889 \r\nL 817.545727 81.26767 \r\nL 817.619527 81.448938 \r\nL 817.693327 81.131719 \r\nL 817.767127 81.403621 \r\nL 817.840927 81.177036 \r\nL 817.914727 81.222353 \r\nL 818.136126 81.26767 \r\nL 818.209926 81.086402 \r\nL 818.283726 81.312987 \r\nL 818.357526 81.131719 \r\nL 818.431326 81.222353 \r\nL 818.652725 81.177036 \r\nL 818.726525 80.995768 \r\nL 818.800325 81.041085 \r\nL 818.874125 81.131719 \r\nL 819.021725 80.950451 \r\nL 819.095525 81.041085 \r\nL 819.169325 80.950451 \r\nL 819.316924 81.041085 \r\nL 819.464524 80.995768 \r\nL 819.612124 80.995768 \r\nL 819.833524 80.769183 \r\nL 820.350123 80.769183 \r\nL 820.423923 80.587915 \r\nL 820.497723 80.678549 \r\nL 820.571522 80.542598 \r\nL 820.645322 80.678549 \r\nL 820.719122 80.633232 \r\nL 820.866722 80.633232 \r\nL 821.161922 80.451964 \r\nL 821.235721 80.678549 \r\nL 821.309521 80.406647 \r\nL 821.383321 80.633232 \r\nL 821.457121 80.316014 \r\nL 821.604721 80.587915 \r\nL 821.82612 80.36133 \r\nL 822.34272 80.406647 \r\nL 822.490319 80.22538 \r\nL 822.711719 80.180063 \r\nL 822.785519 80.270697 \r\nL 822.859319 80.134746 \r\nL 822.933119 80.22538 \r\nL 823.006919 80.22538 \r\nL 823.228318 79.998795 \r\nL 823.302118 80.180063 \r\nL 823.375918 79.998795 \r\nL 823.449718 80.22538 \r\nL 823.523518 80.134746 \r\nL 823.597318 80.180063 \r\nL 823.892517 79.862844 \r\nL 824.113917 80.044112 \r\nL 824.261517 79.953478 \r\nL 824.335317 80.044112 \r\nL 824.556716 79.908161 \r\nL 824.630516 79.908161 \r\nL 824.704316 79.726893 \r\nL 824.778116 79.953478 \r\nL 824.851916 79.681576 \r\nL 824.925716 79.862844 \r\nL 824.999515 79.681576 \r\nL 825.073315 79.817527 \r\nL 825.147115 79.726893 \r\nL 825.663714 79.636259 \r\nL 825.737514 79.500308 \r\nL 825.811314 79.590942 \r\nL 825.958914 79.409674 \r\nL 826.032714 79.500308 \r\nL 826.106514 79.364357 \r\nL 826.180314 79.590942 \r\nL 826.254113 79.409674 \r\nL 826.327913 79.545625 \r\nL 826.401713 79.273723 \r\nL 826.475513 79.409674 \r\nL 826.623113 79.409674 \r\nL 826.844513 79.364357 \r\nL 826.918312 79.228406 \r\nL 826.992112 79.409674 \r\nL 827.065912 79.364357 \r\nL 827.287312 79.273723 \r\nL 827.361112 79.364357 \r\nL 827.434912 79.273723 \r\nL 827.508712 79.364357 \r\nL 827.730111 79.137772 \r\nL 827.877711 79.137772 \r\nL 828.39431 79.092455 \r\nL 828.54191 78.911187 \r\nL 828.61571 79.137772 \r\nL 828.68951 79.001821 \r\nL 828.76331 79.137772 \r\nL 828.910909 78.956504 \r\nL 829.132309 78.86587 \r\nL 829.206109 79.092455 \r\nL 829.279909 78.86587 \r\nL 829.353709 79.137772 \r\nL 829.427509 78.820553 \r\nL 829.501308 79.137772 \r\nL 829.575108 78.86587 \r\nL 829.648908 79.047138 \r\nL 829.722708 78.775236 \r\nL 829.796508 79.001821 \r\nL 829.870308 78.684602 \r\nL 829.944108 78.956504 \r\nL 830.017908 78.729919 \r\nL 830.091707 78.911187 \r\nL 830.165507 78.775236 \r\nL 830.239307 78.911187 \r\nL 830.313107 78.775236 \r\nL 830.386907 78.820553 \r\nL 830.608307 78.911187 \r\nL 830.682107 78.684602 \r\nL 830.755906 78.86587 \r\nL 830.829706 78.729919 \r\nL 830.903506 78.86587 \r\nL 831.124906 78.639285 \r\nL 831.198706 78.729919 \r\nL 831.272506 78.593968 \r\nL 831.346305 78.729919 \r\nL 831.420105 78.548651 \r\nL 831.493905 78.729919 \r\nL 831.567705 78.593968 \r\nL 831.641505 78.639285 \r\nL 832.010504 78.548651 \r\nL 832.084304 78.458017 \r\nL 832.158104 78.593968 \r\nL 832.231904 78.367383 \r\nL 832.305704 78.548651 \r\nL 832.379504 78.322066 \r\nL 832.453304 78.548651 \r\nL 832.527104 78.322066 \r\nL 832.600904 78.4127 \r\nL 832.748503 78.458017 \r\nL 832.896103 78.231432 \r\nL 832.969903 78.458017 \r\nL 833.043703 78.322066 \r\nL 833.117503 78.367383 \r\nL 833.191303 78.322066 \r\nL 833.265102 78.4127 \r\nL 833.338902 78.186115 \r\nL 833.412702 78.367383 \r\nL 833.486502 78.322066 \r\nL 833.707902 78.140798 \r\nL 833.855502 78.231432 \r\nL 834.076901 78.050164 \r\nL 834.150701 78.231432 \r\nL 834.224501 78.050164 \r\nL 834.298301 78.095481 \r\nL 834.372101 78.050164 \r\nL 834.519701 78.140798 \r\nL 834.5935 77.778262 \r\nL 834.6673 77.95953 \r\nL 834.7411 77.687628 \r\nL 834.8149 77.732945 \r\nL 835.0363 77.95953 \r\nL 835.1101 77.778262 \r\nL 835.183899 77.914213 \r\nL 835.257699 77.778262 \r\nL 835.331499 77.868896 \r\nL 835.479099 77.778262 \r\nL 835.626699 77.732945 \r\nL 835.848098 77.642311 \r\nL 835.995698 77.687628 \r\nL 836.069498 77.596994 \r\nL 836.143298 77.732945 \r\nL 836.217098 77.551677 \r\nL 836.438497 77.732945 \r\nL 836.512297 77.642311 \r\nL 836.586097 77.732945 \r\nL 836.659897 77.596994 \r\nL 836.733697 77.732945 \r\nL 836.955097 77.461043 \r\nL 837.028897 77.642311 \r\nL 837.176496 77.415726 \r\nL 837.397896 77.596994 \r\nL 837.619296 77.415726 \r\nL 837.693096 77.50636 \r\nL 837.766895 77.189141 \r\nL 837.840695 77.596994 \r\nL 837.914495 77.189141 \r\nL 837.988295 77.50636 \r\nL 838.062095 77.098507 \r\nL 838.135895 77.325092 \r\nL 838.209695 77.234458 \r\nL 838.283495 77.189141 \r\nL 838.357294 77.325092 \r\nL 838.431094 77.098507 \r\nL 838.504894 77.279775 \r\nL 838.578694 77.143824 \r\nL 838.652494 77.279775 \r\nL 838.873894 77.05319 \r\nL 838.947694 77.143824 \r\nL 839.021493 77.007873 \r\nL 839.095293 77.098507 \r\nL 839.169093 77.189141 \r\nL 839.242893 76.962556 \r\nL 839.316693 77.143824 \r\nL 839.390493 76.917239 \r\nL 839.464293 77.234458 \r\nL 839.538093 76.962556 \r\nL 839.611892 77.143824 \r\nL 839.759492 76.962556 \r\nL 839.833292 77.05319 \r\nL 839.907092 76.962556 \r\nL 839.980892 77.098507 \r\nL 840.054692 76.871922 \r\nL 840.128492 76.962556 \r\nL 840.423691 76.826605 \r\nL 840.497491 76.917239 \r\nL 840.571291 76.735971 \r\nL 840.645091 76.826605 \r\nL 840.792691 76.645337 \r\nL 840.866491 76.826605 \r\nL 840.94029 76.690654 \r\nL 841.01409 76.826605 \r\nL 841.08789 76.509386 \r\nL 841.16169 76.735971 \r\nL 841.38309 76.554703 \r\nL 841.45689 76.826605 \r\nL 841.530689 76.735971 \r\nL 841.752089 76.554703 \r\nL 841.825889 76.690654 \r\nL 841.899689 76.509386 \r\nL 841.973489 76.690654 \r\nL 842.047289 76.60002 \r\nL 842.121089 76.464069 \r\nL 842.194888 76.554703 \r\nL 842.268688 76.554703 \r\nL 842.490088 76.373435 \r\nL 842.563888 76.464069 \r\nL 842.637688 76.373435 \r\nL 842.711488 76.464069 \r\nL 842.859087 76.373435 \r\nL 842.932887 76.373435 \r\nL 843.006687 76.509386 \r\nL 843.080487 76.14685 \r\nL 843.154287 76.418752 \r\nL 843.301887 76.237484 \r\nL 843.597086 76.282801 \r\nL 843.670886 76.373435 \r\nL 843.744686 76.237484 \r\nL 843.818486 76.373435 \r\nL 843.892286 76.056216 \r\nL 843.966086 76.14685 \r\nL 844.408885 75.920265 \r\nL 844.482685 76.14685 \r\nL 844.556485 75.874948 \r\nL 844.630285 76.056216 \r\nL 844.704084 75.829631 \r\nL 844.777884 76.010899 \r\nL 844.851684 75.829631 \r\nL 844.925484 75.920265 \r\nL 845.220684 75.648363 \r\nL 845.442083 76.056216 \r\nL 845.737283 75.648363 \r\nL 845.811083 75.784314 \r\nL 845.884883 75.69368 \r\nL 845.958683 75.738997 \r\nL 846.032482 75.603046 \r\nL 846.106282 75.648363 \r\nL 846.327682 75.738997 \r\nL 846.549082 75.603046 \r\nL 846.622881 75.557729 \r\nL 846.696681 75.648363 \r\nL 846.918081 75.421778 \r\nL 846.991881 75.603046 \r\nL 847.065681 75.376461 \r\nL 847.139481 75.557729 \r\nL 847.213281 75.331144 \r\nL 847.28708 75.557729 \r\nL 847.36088 75.376461 \r\nL 847.43468 75.512412 \r\nL 847.50848 75.331144 \r\nL 847.58228 75.512412 \r\nL 847.80368 75.331144 \r\nL 847.877479 75.285827 \r\nL 847.951279 75.376461 \r\nL 848.025079 75.149876 \r\nL 848.098879 75.421778 \r\nL 848.172679 75.24051 \r\nL 848.246479 75.421778 \r\nL 848.320279 75.285827 \r\nL 848.394079 75.421778 \r\nL 848.467879 75.331144 \r\nL 848.689278 75.149876 \r\nL 848.763078 75.195193 \r\nL 848.836878 75.059242 \r\nL 848.910678 75.195193 \r\nL 849.058278 75.059242 \r\nL 849.132078 75.285827 \r\nL 849.353477 75.059242 \r\nL 849.574877 75.104559 \r\nL 849.943876 75.059242 \r\nL 850.017676 74.923291 \r\nL 850.091476 75.013925 \r\nL 850.312876 74.968608 \r\nL 850.460475 74.923291 \r\nL 850.608075 74.78734 \r\nL 850.681875 74.832657 \r\nL 850.755675 74.560755 \r\nL 850.829475 74.78734 \r\nL 850.903275 74.470121 \r\nL 850.977075 74.696706 \r\nL 851.050875 74.651389 \r\nL 851.198474 74.78734 \r\nL 851.272274 74.560755 \r\nL 851.346074 74.742023 \r\nL 851.419874 74.515438 \r\nL 851.493674 74.606072 \r\nL 851.567474 74.515438 \r\nL 851.641274 74.651389 \r\nL 851.862673 74.288853 \r\nL 852.084073 74.424804 \r\nL 852.305473 74.470121 \r\nL 852.379272 74.198219 \r\nL 852.453072 74.379487 \r\nL 852.526872 74.152902 \r\nL 852.600672 74.33417 \r\nL 852.674472 74.062268 \r\nL 852.748272 74.606072 \r\nL 852.822072 73.926317 \r\nL 852.895872 74.424804 \r\nL 853.043471 73.926317 \r\nL 853.191071 74.198219 \r\nL 853.264871 74.243536 \r\nL 853.63387 73.745049 \r\nL 853.92907 74.062268 \r\nL 854.00287 74.107585 \r\nL 854.445669 73.699732 \r\nL 854.593269 73.745049 \r\nL 854.667069 73.699732 \r\nL 854.888468 73.926317 \r\nL 855.109868 73.745049 \r\nL 855.405068 73.745049 \r\nL 855.478868 73.518464 \r\nL 855.552667 73.609098 \r\nL 855.626467 73.518464 \r\nL 855.700267 73.654415 \r\nL 855.921667 73.473147 \r\nL 856.069267 73.654415 \r\nL 856.290666 73.518464 \r\nL 856.364466 73.473147 \r\nL 856.438266 73.563781 \r\nL 856.659666 73.382513 \r\nL 856.881065 73.473147 \r\nL 857.028665 73.42783 \r\nL 857.250065 73.42783 \r\nL 857.323865 73.609098 \r\nL 857.471464 73.42783 \r\nL 857.766664 73.337196 \r\nL 857.914264 73.246562 \r\nL 857.988064 73.382513 \r\nL 858.061863 73.246562 \r\nL 858.135663 73.291879 \r\nL 858.578463 73.337196 \r\nL 858.652263 73.42783 \r\nL 858.726062 73.201245 \r\nL 858.799862 73.291879 \r\nL 859.095062 73.155928 \r\nL 859.242662 73.246562 \r\nL 859.316462 73.110611 \r\nL 859.390261 73.337196 \r\nL 859.464061 73.201245 \r\nL 859.537861 73.337196 \r\nL 859.611661 73.246562 \r\nL 859.759261 73.201245 \r\nL 859.906861 72.929344 \r\nL 859.98066 73.155928 \r\nL 860.05446 73.065294 \r\nL 860.866259 72.97466 \r\nL 860.940059 72.929344 \r\nL 861.013859 73.065294 \r\nL 861.161459 72.929344 \r\nL 861.235258 72.97466 \r\nL 861.309058 72.884027 \r\nL 861.382858 72.97466 \r\nL 861.456658 72.748076 \r\nL 861.530458 73.019977 \r\nL 861.604258 72.884027 \r\nL 861.678058 73.019977 \r\nL 861.751858 72.929344 \r\nL 861.973257 72.83871 \r\nL 862.047057 72.929344 \r\nL 862.120857 72.657442 \r\nL 862.194657 72.884027 \r\nL 862.268457 72.702759 \r\nL 862.342257 72.884027 \r\nL 862.416057 72.702759 \r\nL 862.489857 72.83871 \r\nL 862.563656 72.612125 \r\nL 862.785056 72.884027 \r\nL 863.227855 72.612125 \r\nL 863.301655 72.748076 \r\nL 863.375455 72.566808 \r\nL 863.449255 72.748076 \r\nL 863.523055 72.612125 \r\nL 863.596855 72.702759 \r\nL 863.744455 72.657442 \r\nL 863.892054 72.702759 \r\nL 863.965854 72.612125 \r\nL 864.039654 72.793393 \r\nL 864.113454 72.566808 \r\nL 864.187254 72.612125 \r\nL 864.261054 72.521491 \r\nL 864.334854 72.657442 \r\nL 864.556253 72.476174 \r\nL 864.777653 72.748076 \r\nL 864.999053 72.612125 \r\nL 865.294252 72.566808 \r\nL 865.368052 72.340223 \r\nL 865.441852 72.476174 \r\nL 865.515652 72.249589 \r\nL 865.589452 72.430857 \r\nL 865.663252 72.204272 \r\nL 865.737051 72.430857 \r\nL 865.810851 72.204272 \r\nL 865.884651 72.430857 \r\nL 865.958451 72.340223 \r\nL 866.032251 72.249589 \r\nL 866.106051 72.38554 \r\nL 866.179851 72.204272 \r\nL 866.253651 72.430857 \r\nL 866.32745 72.158955 \r\nL 866.40125 72.476174 \r\nL 866.47505 72.068321 \r\nL 866.54885 72.476174 \r\nL 866.62265 71.977687 \r\nL 866.69645 72.38554 \r\nL 866.77025 72.068321 \r\nL 866.84405 72.249589 \r\nL 866.91785 72.158955 \r\nL 866.991649 72.068321 \r\nL 867.065449 72.204272 \r\nL 867.139249 72.023004 \r\nL 867.213049 72.068321 \r\nL 867.286849 71.977687 \r\nL 867.360649 72.113638 \r\nL 867.434449 71.841736 \r\nL 867.508249 72.158955 \r\nL 867.582049 71.887053 \r\nL 867.655848 72.113638 \r\nL 867.729648 71.841736 \r\nL 867.803448 72.023004 \r\nL 867.877248 71.93237 \r\nL 867.951048 72.068321 \r\nL 868.024848 71.93237 \r\nL 868.098648 72.068321 \r\nL 868.172448 71.93237 \r\nL 868.246247 72.023004 \r\nL 868.467647 71.841736 \r\nL 868.541447 72.023004 \r\nL 868.615247 71.751102 \r\nL 868.689047 72.068321 \r\nL 868.762847 71.796419 \r\nL 868.836647 71.93237 \r\nL 869.058046 71.615151 \r\nL 869.131846 71.93237 \r\nL 869.205646 71.4792 \r\nL 869.279446 71.93237 \r\nL 869.353246 71.524517 \r\nL 869.427046 71.93237 \r\nL 869.500845 71.615151 \r\nL 869.648445 71.796419 \r\nL 869.722245 71.751102 \r\nL 869.796045 71.841736 \r\nL 869.869845 71.569834 \r\nL 869.943645 71.796419 \r\nL 870.017445 71.4792 \r\nL 870.091245 71.796419 \r\nL 870.165044 71.388566 \r\nL 870.238844 71.841736 \r\nL 870.312644 71.388566 \r\nL 870.386444 71.796419 \r\nL 870.460244 71.4792 \r\nL 870.534044 71.705785 \r\nL 870.607844 71.343249 \r\nL 870.681644 71.751102 \r\nL 870.829243 71.524517 \r\nL 870.903043 71.660468 \r\nL 870.976843 71.388566 \r\nL 871.050643 71.615151 \r\nL 871.124443 71.252615 \r\nL 871.198243 71.705785 \r\nL 871.272043 71.297932 \r\nL 871.345843 71.660468 \r\nL 871.419642 71.297932 \r\nL 871.493442 71.660468 \r\nL 871.567242 71.252615 \r\nL 871.641042 71.569834 \r\nL 871.714842 71.207298 \r\nL 871.788642 71.569834 \r\nL 871.862442 71.297932 \r\nL 871.936242 71.343249 \r\nL 872.231441 71.252615 \r\nL 872.305241 71.433883 \r\nL 872.379041 71.252615 \r\nL 872.452841 71.388566 \r\nL 872.526641 71.116664 \r\nL 872.600441 71.297932 \r\nL 872.67424 71.071347 \r\nL 872.74804 71.343249 \r\nL 872.82184 71.116664 \r\nL 872.89564 71.252615 \r\nL 872.96944 71.02603 \r\nL 873.04324 71.252615 \r\nL 873.11704 71.116664 \r\nL 873.19084 71.161981 \r\nL 873.26464 71.161981 \r\nL 873.338439 71.02603 \r\nL 873.412239 71.161981 \r\nL 873.486039 70.980713 \r\nL 873.559839 71.207298 \r\nL 873.633639 70.980713 \r\nL 873.707439 71.161981 \r\nL 873.928839 70.980713 \r\nL 874.076438 71.116664 \r\nL 874.297838 70.935396 \r\nL 874.371638 71.161981 \r\nL 874.445438 70.844762 \r\nL 874.519238 71.02603 \r\nL 874.666837 70.799445 \r\nL 874.814437 70.935396 \r\nL 874.888237 70.754128 \r\nL 874.962037 70.890079 \r\nL 875.035837 70.799445 \r\nL 875.183437 70.799445 \r\nL 875.257236 70.935396 \r\nL 875.331036 70.799445 \r\nL 875.404836 70.844762 \r\nL 875.700036 70.663494 \r\nL 875.773836 70.799445 \r\nL 875.847636 70.663494 \r\nL 875.921435 70.799445 \r\nL 875.995235 70.618177 \r\nL 876.069035 70.708811 \r\nL 876.142835 70.663494 \r\nL 876.216635 70.844762 \r\nL 876.364235 70.618177 \r\nL 876.438035 70.754128 \r\nL 876.511834 70.618177 \r\nL 876.585634 70.754128 \r\nL 876.733234 70.57286 \r\nL 876.807034 70.618177 \r\nL 876.954634 70.346275 \r\nL 877.028434 70.57286 \r\nL 877.102234 70.346275 \r\nL 877.323633 70.618177 \r\nL 877.545033 70.482226 \r\nL 877.766432 70.482226 \r\nL 877.840232 70.618177 \r\nL 877.914032 70.300958 \r\nL 877.987832 70.346275 \r\nL 878.209232 70.165007 \r\nL 878.283032 70.300958 \r\nL 878.356832 70.210324 \r\nL 878.504431 70.346275 \r\nL 878.578231 70.11969 \r\nL 878.652031 70.300958 \r\nL 878.725831 70.210324 \r\nL 878.799631 70.300958 \r\nL 878.873431 70.11969 \r\nL 878.947231 70.165007 \r\nL 879.09483 70.255641 \r\nL 879.24243 70.074373 \r\nL 879.31623 70.255641 \r\nL 879.39003 70.074373 \r\nL 879.46383 70.165007 \r\nL 879.759029 70.074373 \r\nL 880.201829 70.074373 \r\nL 880.275629 69.893105 \r\nL 880.349428 70.11969 \r\nL 880.423228 69.893105 \r\nL 880.497028 70.165007 \r\nL 880.570828 69.893105 \r\nL 880.644628 70.029056 \r\nL 880.718428 69.893105 \r\nL 880.792228 69.983739 \r\nL 880.939828 69.938422 \r\nL 881.161227 69.893105 \r\nL 881.382627 69.938422 \r\nL 881.456427 69.847788 \r\nL 881.530227 69.938422 \r\nL 881.604026 69.802471 \r\nL 881.677826 69.983739 \r\nL 881.751626 69.711837 \r\nL 881.825426 69.938422 \r\nL 881.899226 69.66652 \r\nL 881.973026 69.802471 \r\nL 882.194426 69.757154 \r\nL 882.268225 69.485252 \r\nL 882.342025 69.893105 \r\nL 882.415825 69.485252 \r\nL 882.489625 69.621203 \r\nL 882.563425 69.575886 \r\nL 882.637225 69.802471 \r\nL 882.784825 69.575886 \r\nL 882.858624 69.757154 \r\nL 882.932424 69.439935 \r\nL 883.006224 69.802471 \r\nL 883.080024 69.394618 \r\nL 883.153824 69.711837 \r\nL 883.227624 69.485252 \r\nL 883.301424 69.621203 \r\nL 883.449024 69.439935 \r\nL 883.522823 69.394618 \r\nL 883.670423 69.439935 \r\nL 883.744223 69.485252 \r\nL 883.818023 69.303984 \r\nL 883.891823 69.575886 \r\nL 883.965623 69.303984 \r\nL 884.039423 69.485252 \r\nL 884.187022 69.349301 \r\nL 884.334622 69.349301 \r\nL 884.482222 69.258667 \r\nL 884.629822 69.258667 \r\nL 884.703622 69.394618 \r\nL 884.777421 69.21335 \r\nL 884.851221 69.303984 \r\nL 884.998821 69.077399 \r\nL 885.146421 69.303984 \r\nL 885.367821 69.21335 \r\nL 885.58922 69.258667 \r\nL 885.66302 68.986765 \r\nL 885.73682 69.122716 \r\nL 885.88442 69.077399 \r\nL 885.95822 69.032082 \r\nL 886.032019 69.122716 \r\nL 886.105819 68.986765 \r\nL 886.327219 69.21335 \r\nL 886.401019 69.077399 \r\nL 886.474819 69.168033 \r\nL 886.622419 69.077399 \r\nL 887.212818 68.986765 \r\nL 887.508017 68.896131 \r\nL 887.877017 68.896131 \r\nL 887.950816 69.032082 \r\nL 888.024616 68.941448 \r\nL 888.246016 68.805497 \r\nL 888.467416 68.76018 \r\nL 888.688815 68.805497 \r\nL 888.984015 68.714863 \r\nL 889.057815 68.805497 \r\nL 889.131615 68.669546 \r\nL 889.205415 68.941448 \r\nL 889.353014 68.76018 \r\nL 889.574414 68.714863 \r\nL 889.648214 68.76018 \r\nL 889.869613 68.533595 \r\nL 890.164813 68.805497 \r\nL 890.238613 68.669546 \r\nL 890.607612 68.578912 \r\nL 890.681412 68.397644 \r\nL 890.755212 68.669546 \r\nL 890.902812 68.442961 \r\nL 890.976612 68.624229 \r\nL 891.050412 68.442961 \r\nL 891.124211 68.578912 \r\nL 891.198011 68.397644 \r\nL 891.271811 68.488278 \r\nL 891.493211 68.352327 \r\nL 891.567011 68.578912 \r\nL 891.640811 68.261693 \r\nL 891.714611 68.578912 \r\nL 891.78841 68.216376 \r\nL 891.86221 68.397644 \r\nL 892.00981 68.216376 \r\nL 892.08361 68.30701 \r\nL 892.15741 68.216376 \r\nL 892.23121 68.352327 \r\nL 892.30501 68.171059 \r\nL 892.37881 68.352327 \r\nL 892.526409 68.171059 \r\nL 892.674009 68.352327 \r\nL 892.747809 68.171059 \r\nL 892.821609 68.352327 \r\nL 892.895409 68.080425 \r\nL 892.969209 68.30701 \r\nL 893.043008 68.125742 \r\nL 893.116808 68.216376 \r\nL 893.190608 68.171059 \r\nL 893.264408 68.261693 \r\nL 893.338208 68.125742 \r\nL 893.412008 68.171059 \r\nL 893.559608 68.080425 \r\nL 893.633408 68.171059 \r\nL 893.707207 68.035108 \r\nL 893.781007 68.080425 \r\nL 893.854807 68.125742 \r\nL 893.928607 68.035108 \r\nL 894.002407 68.125742 \r\nL 894.150007 67.85384 \r\nL 894.223807 68.035108 \r\nL 894.297606 67.989791 \r\nL 894.371406 67.85384 \r\nL 894.445206 68.080425 \r\nL 894.519006 67.899157 \r\nL 894.592806 67.944474 \r\nL 894.740406 67.944474 \r\nL 894.814206 67.85384 \r\nL 894.888006 68.080425 \r\nL 894.961805 67.85384 \r\nL 895.035605 67.944474 \r\nL 895.109405 67.944474 \r\nL 895.183205 67.808523 \r\nL 895.257005 67.989791 \r\nL 895.478405 67.717889 \r\nL 895.552205 67.944474 \r\nL 895.626004 67.717889 \r\nL 895.699804 67.989791 \r\nL 895.773604 67.763206 \r\nL 895.847404 67.808523 \r\nL 895.921204 67.672572 \r\nL 895.995004 67.808523 \r\nL 896.068804 67.763206 \r\nL 896.585403 67.763206 \r\nL 896.659203 67.581938 \r\nL 896.733003 67.717889 \r\nL 896.806803 67.536621 \r\nL 896.954402 67.763206 \r\nL 897.102002 67.672572 \r\nL 897.249602 67.672572 \r\nL 897.471002 67.536621 \r\nL 897.544801 67.627255 \r\nL 897.692401 67.581938 \r\nL 897.840001 67.581938 \r\nL 897.913801 67.627255 \r\nL 897.987601 67.536621 \r\nL 898.1352 67.627255 \r\nL 898.2828 67.536621 \r\nL 898.3566 67.536621 \r\nL 898.4304 67.40067 \r\nL 898.5042 67.536621 \r\nL 898.578 67.40067 \r\nL 898.6518 67.445987 \r\nL 898.946999 67.536621 \r\nL 899.611198 67.445987 \r\nL 899.758798 67.310036 \r\nL 899.832598 67.355353 \r\nL 899.906398 67.219402 \r\nL 899.980198 67.310036 \r\nL 900.201597 67.536621 \r\nL 900.422997 67.264719 \r\nL 900.496797 67.310036 \r\nL 900.570597 67.174085 \r\nL 900.644397 67.219402 \r\nL 900.865796 67.310036 \r\nL 901.013396 67.40067 \r\nL 901.087196 67.264719 \r\nL 901.160996 67.355353 \r\nL 901.382395 67.174085 \r\nL 901.529995 67.174085 \r\nL 902.489394 67.219402 \r\nL 902.636993 67.038134 \r\nL 903.005993 67.128768 \r\nL 903.079793 66.902183 \r\nL 903.153593 67.083451 \r\nL 903.227392 66.992817 \r\nL 903.301192 67.083451 \r\nL 903.448792 66.992817 \r\nL 903.596392 67.038134 \r\nL 903.670192 66.992817 \r\nL 903.743992 66.811549 \r\nL 903.817792 66.992817 \r\nL 903.891591 66.630281 \r\nL 903.965391 66.902183 \r\nL 904.039191 66.584964 \r\nL 904.112991 66.992817 \r\nL 904.186791 66.766232 \r\nL 904.260591 67.038134 \r\nL 904.334391 66.766232 \r\nL 904.408191 66.902183 \r\nL 904.55579 66.766232 \r\nL 904.62959 66.9475 \r\nL 904.70339 66.811549 \r\nL 904.77719 66.9475 \r\nL 904.85099 66.584964 \r\nL 904.92479 66.9475 \r\nL 904.99859 66.630281 \r\nL 905.07239 66.902183 \r\nL 905.146189 66.49433 \r\nL 905.219989 66.902183 \r\nL 905.293789 66.49433 \r\nL 905.367589 66.811549 \r\nL 905.441389 66.539647 \r\nL 905.515189 66.811549 \r\nL 905.588989 66.539647 \r\nL 905.662789 66.675598 \r\nL 906.031788 66.720915 \r\nL 906.105588 66.222428 \r\nL 906.179388 66.675598 \r\nL 906.253188 66.313062 \r\nL 906.326988 66.675598 \r\nL 906.400787 66.267745 \r\nL 906.474587 66.539647 \r\nL 906.548387 66.49433 \r\nL 906.695987 66.630281 \r\nL 906.917387 66.267745 \r\nL 906.991187 66.403696 \r\nL 907.064986 66.222428 \r\nL 907.138786 66.49433 \r\nL 907.212586 66.358379 \r\nL 907.286386 66.449013 \r\nL 907.433986 66.403696 \r\nL 908.245785 66.313062 \r\nL 908.467184 66.267745 \r\nL 908.540984 66.313062 \r\nL 908.688584 66.177111 \r\nL 908.836184 66.313062 \r\nL 909.131383 66.086477 \r\nL 909.205183 66.177111 \r\nL 909.278983 66.04116 \r\nL 909.352783 66.222428 \r\nL 909.426583 66.04116 \r\nL 909.500383 66.222428 \r\nL 909.574182 66.177111 \r\nL 909.647982 66.177111 \r\nL 909.721782 66.04116 \r\nL 909.795582 66.177111 \r\nL 909.869382 66.131794 \r\nL 909.943182 66.086477 \r\nL 910.016982 66.177111 \r\nL 910.090782 65.995843 \r\nL 910.164582 66.04116 \r\nL 910.459781 66.04116 \r\nL 910.533581 66.177111 \r\nL 910.607381 66.086477 \r\nL 910.82878 65.905209 \r\nL 910.97638 66.086477 \r\nL 911.27158 65.859892 \r\nL 911.640579 66.086477 \r\nL 911.714379 65.950526 \r\nL 911.788179 65.995843 \r\nL 912.083379 65.995843 \r\nL 912.304778 65.814575 \r\nL 912.378578 65.814575 \r\nL 912.452378 65.995843 \r\nL 912.526178 65.905209 \r\nL 912.673778 65.905209 \r\nL 912.821377 65.859892 \r\nL 912.895177 65.950526 \r\nL 912.968977 65.769258 \r\nL 913.042777 65.859892 \r\nL 913.190377 65.769258 \r\nL 913.411776 65.814575 \r\nL 913.485576 65.769258 \r\nL 913.559376 65.950526 \r\nL 913.633176 65.769258 \r\nL 913.706976 65.859892 \r\nL 913.780776 65.769258 \r\nL 913.854576 65.995843 \r\nL 913.928376 65.769258 \r\nL 914.002176 65.814575 \r\nL 914.075975 65.678624 \r\nL 914.149775 65.723941 \r\nL 914.371175 65.723941 \r\nL 914.444975 65.58799 \r\nL 914.518775 65.769258 \r\nL 914.592575 65.58799 \r\nL 914.666374 65.814575 \r\nL 914.740174 65.678624 \r\nL 914.813974 65.769258 \r\nL 914.887774 65.678624 \r\nL 914.961574 65.769258 \r\nL 915.035374 65.678624 \r\nL 915.109174 65.769258 \r\nL 915.330573 65.542674 \r\nL 915.551973 65.58799 \r\nL 916.068572 65.542674 \r\nL 916.142372 65.45204 \r\nL 916.363772 65.678624 \r\nL 916.437572 65.45204 \r\nL 916.511372 65.542674 \r\nL 916.658971 65.497357 \r\nL 916.806571 65.406723 \r\nL 916.880371 65.542674 \r\nL 916.954171 65.316089 \r\nL 917.027971 65.497357 \r\nL 917.101771 65.316089 \r\nL 917.175571 65.58799 \r\nL 917.24937 65.316089 \r\nL 917.32317 65.406723 \r\nL 917.39697 65.406723 \r\nL 917.47077 65.225455 \r\nL 917.69217 65.45204 \r\nL 917.76597 65.270772 \r\nL 917.839769 65.406723 \r\nL 917.913569 65.316089 \r\nL 917.987369 65.406723 \r\nL 918.061169 65.316089 \r\nL 918.134969 65.497357 \r\nL 918.134969 65.497357 \r\n\" style=\"fill:none;stroke:#1f77b4;stroke-linecap:square;stroke-width:1.5;\"/>\r\n   </g>\r\n   <g id=\"patch_9\">\r\n    <path d=\"M 530.763068 376.56 \r\nL 530.763068 50.4 \r\n\" style=\"fill:none;stroke:#000000;stroke-linecap:square;stroke-linejoin:miter;stroke-width:0.8;\"/>\r\n   </g>\r\n   <g id=\"patch_10\">\r\n    <path d=\"M 936.58125 376.56 \r\nL 936.58125 50.4 \r\n\" style=\"fill:none;stroke:#000000;stroke-linecap:square;stroke-linejoin:miter;stroke-width:0.8;\"/>\r\n   </g>\r\n   <g id=\"patch_11\">\r\n    <path d=\"M 530.763068 376.56 \r\nL 936.58125 376.56 \r\n\" style=\"fill:none;stroke:#000000;stroke-linecap:square;stroke-linejoin:miter;stroke-width:0.8;\"/>\r\n   </g>\r\n   <g id=\"patch_12\">\r\n    <path d=\"M 530.763068 50.4 \r\nL 936.58125 50.4 \r\n\" style=\"fill:none;stroke:#000000;stroke-linecap:square;stroke-linejoin:miter;stroke-width:0.8;\"/>\r\n   </g>\r\n   <g id=\"legend_2\">\r\n    <g id=\"patch_13\">\r\n     <path d=\"M 537.763068 73.078125 \r\nL 593.038068 73.078125 \r\nQ 595.038068 73.078125 595.038068 71.078125 \r\nL 595.038068 57.4 \r\nQ 595.038068 55.4 593.038068 55.4 \r\nL 537.763068 55.4 \r\nQ 535.763068 55.4 535.763068 57.4 \r\nL 535.763068 71.078125 \r\nQ 535.763068 73.078125 537.763068 73.078125 \r\nz\r\n\" style=\"fill:#ffffff;opacity:0.8;stroke:#cccccc;stroke-linejoin:miter;\"/>\r\n    </g>\r\n    <g id=\"line2d_35\">\r\n     <path d=\"M 539.763068 63.498437 \r\nL 559.763068 63.498437 \r\n\" style=\"fill:none;stroke:#1f77b4;stroke-linecap:square;stroke-width:1.5;\"/>\r\n    </g>\r\n    <g id=\"line2d_36\"/>\r\n    <g id=\"text_36\">\r\n     <!-- train -->\r\n     <g transform=\"translate(567.763068 66.998437)scale(0.1 -0.1)\">\r\n      <use xlink:href=\"#DejaVuSans-116\"/>\r\n      <use x=\"39.208984\" xlink:href=\"#DejaVuSans-114\"/>\r\n      <use x=\"80.322266\" xlink:href=\"#DejaVuSans-97\"/>\r\n      <use x=\"141.601562\" xlink:href=\"#DejaVuSans-105\"/>\r\n      <use x=\"169.384766\" xlink:href=\"#DejaVuSans-110\"/>\r\n     </g>\r\n    </g>\r\n   </g>\r\n  </g>\r\n  <g id=\"text_37\">\r\n   <!-- Loss and accuracy -->\r\n   <g transform=\"translate(420.447187 16.318125)scale(0.12 -0.12)\">\r\n    <defs>\r\n     <path d=\"M 9.8125 72.90625 \r\nL 19.671875 72.90625 \r\nL 19.671875 8.296875 \r\nL 55.171875 8.296875 \r\nL 55.171875 0 \r\nL 9.8125 0 \r\nz\r\n\" id=\"DejaVuSans-76\"/>\r\n     <path d=\"M 45.40625 46.390625 \r\nL 45.40625 75.984375 \r\nL 54.390625 75.984375 \r\nL 54.390625 0 \r\nL 45.40625 0 \r\nL 45.40625 8.203125 \r\nQ 42.578125 3.328125 38.25 0.953125 \r\nQ 33.9375 -1.421875 27.875 -1.421875 \r\nQ 17.96875 -1.421875 11.734375 6.484375 \r\nQ 5.515625 14.40625 5.515625 27.296875 \r\nQ 5.515625 40.1875 11.734375 48.09375 \r\nQ 17.96875 56 27.875 56 \r\nQ 33.9375 56 38.25 53.625 \r\nQ 42.578125 51.265625 45.40625 46.390625 \r\nz\r\nM 14.796875 27.296875 \r\nQ 14.796875 17.390625 18.875 11.75 \r\nQ 22.953125 6.109375 30.078125 6.109375 \r\nQ 37.203125 6.109375 41.296875 11.75 \r\nQ 45.40625 17.390625 45.40625 27.296875 \r\nQ 45.40625 37.203125 41.296875 42.84375 \r\nQ 37.203125 48.484375 30.078125 48.484375 \r\nQ 22.953125 48.484375 18.875 42.84375 \r\nQ 14.796875 37.203125 14.796875 27.296875 \r\nz\r\n\" id=\"DejaVuSans-100\"/>\r\n    </defs>\r\n    <use xlink:href=\"#DejaVuSans-76\"/>\r\n    <use x=\"53.962891\" xlink:href=\"#DejaVuSans-111\"/>\r\n    <use x=\"115.144531\" xlink:href=\"#DejaVuSans-115\"/>\r\n    <use x=\"167.244141\" xlink:href=\"#DejaVuSans-115\"/>\r\n    <use x=\"219.34375\" xlink:href=\"#DejaVuSans-32\"/>\r\n    <use x=\"251.130859\" xlink:href=\"#DejaVuSans-97\"/>\r\n    <use x=\"312.410156\" xlink:href=\"#DejaVuSans-110\"/>\r\n    <use x=\"375.789062\" xlink:href=\"#DejaVuSans-100\"/>\r\n    <use x=\"439.265625\" xlink:href=\"#DejaVuSans-32\"/>\r\n    <use x=\"471.052734\" xlink:href=\"#DejaVuSans-97\"/>\r\n    <use x=\"532.332031\" xlink:href=\"#DejaVuSans-99\"/>\r\n    <use x=\"587.3125\" xlink:href=\"#DejaVuSans-99\"/>\r\n    <use x=\"642.292969\" xlink:href=\"#DejaVuSans-117\"/>\r\n    <use x=\"705.671875\" xlink:href=\"#DejaVuSans-114\"/>\r\n    <use x=\"746.785156\" xlink:href=\"#DejaVuSans-97\"/>\r\n    <use x=\"808.064453\" xlink:href=\"#DejaVuSans-99\"/>\r\n    <use x=\"863.044922\" xlink:href=\"#DejaVuSans-121\"/>\r\n   </g>\r\n  </g>\r\n </g>\r\n <defs>\r\n  <clipPath id=\"p703c7e103c\">\r\n   <rect height=\"326.16\" width=\"405.818182\" x=\"43.78125\" y=\"50.4\"/>\r\n  </clipPath>\r\n  <clipPath id=\"pc90470cf5b\">\r\n   <rect height=\"326.16\" width=\"405.818182\" x=\"530.763068\" y=\"50.4\"/>\r\n  </clipPath>\r\n </defs>\r\n</svg>\r\n",
      "image/png": "[encoded data removed]"
     },
     "metadata": {
      "needs_background": "light"
     }
    }
   ],
   "source": [
    "plot_loss_and_accuracy(losses, accs)"
   ]
  },
  {
   "source": [
    "#### Salvando o modelo"
   ],
   "cell_type": "markdown",
   "metadata": {}
  },
  {
   "cell_type": "code",
   "execution_count": 38,
   "metadata": {},
   "outputs": [],
   "source": [
    "torch.save(Model, cwd+\"/../../models/emotions_classifier.pth\")"
   ]
  },
  {
   "source": [
    "#### Salvando o dict"
   ],
   "cell_type": "markdown",
   "metadata": {}
  },
  {
   "cell_type": "code",
   "execution_count": 39,
   "metadata": {},
   "outputs": [],
   "source": [
    "torch.save(Model.state_dict(), cwd+\"/../../dicts/emotions_classifier_dict\")"
   ]
  },
  {
   "cell_type": "code",
   "execution_count": 40,
   "metadata": {},
   "outputs": [
    {
     "output_type": "execute_result",
     "data": {
      "text/plain": [
       "moodClassifier(\n",
       "  (embedding): Sequential(\n",
       "    (0): Torch_Mean_Layer()\n",
       "  )\n",
       "  (ann): Sequential(\n",
       "    (0): Linear(in_features=50, out_features=500, bias=True)\n",
       "    (1): ReLU(inplace=True)\n",
       "    (2): Linear(in_features=500, out_features=6, bias=True)\n",
       "  )\n",
       "  (soft): Sequential(\n",
       "    (0): LogSoftmax(dim=1)\n",
       "  )\n",
       ")"
      ]
     },
     "metadata": {},
     "execution_count": 40
    }
   ],
   "source": [
    "model = torch.load(cwd+\"/../../models/emotions_classifier.pth\")\n",
    "model.eval()"
   ]
  },
  {
   "cell_type": "code",
   "execution_count": 41,
   "metadata": {},
   "outputs": [
    {
     "output_type": "execute_result",
     "data": {
      "text/plain": [
       "LSTM(3, 5, batch_first=True)"
      ]
     },
     "metadata": {},
     "execution_count": 41
    }
   ],
   "source": [
    "input_size  = 3 # tamanho do embedding: número de dimensões da entrada\n",
    "hidden_size = 5 # arbitrário: número de dimensões da saída da camada\n",
    "num_layers  = 1 # número de LSTMs em cascata \n",
    "# (cada saída h_t de uma hidden-layer é uma entrada na próxima camada, para t = 2, ... , seq_len)\n",
    "\n",
    "lstm = nn.LSTM(input_size=input_size,\n",
    "               hidden_size=hidden_size, \n",
    "               num_layers=num_layers, \n",
    "               batch_first=True) # primeira dimensão é o tamanho da batch (num. de exemplos)\n",
    "lstm"
   ]
  },
  {
   "cell_type": "code",
   "execution_count": 42,
   "metadata": {},
   "outputs": [
    {
     "output_type": "stream",
     "name": "stdout",
     "text": [
      "torch.Size([2, 10, 3]) torch.Size([1, 2, 5]) torch.Size([1, 2, 5])\n\ntensor([[[-0.4954, -0.0571,  0.6195],\n         [ 2.3179,  0.7279, -0.6532],\n         [ 0.9976, -0.4345,  0.3097],\n         [ 0.2973, -0.4992, -0.0495],\n         [-0.6460, -1.4567,  0.6697],\n         [ 0.7898,  1.9322, -0.3079],\n         [-0.5440,  0.5423, -0.0921],\n         [ 1.0570, -0.6811, -0.5203],\n         [-1.0770, -0.0759, -0.3373],\n         [ 1.3033,  0.9682,  0.4209]],\n\n        [[ 0.2836,  0.4882,  0.7794],\n         [-0.6292, -0.2499,  0.2755],\n         [ 0.3125,  0.6547, -0.1678],\n         [ 0.4645, -0.8613, -1.7189],\n         [-0.7862, -3.6163, -0.7095],\n         [-0.6126,  1.3527, -0.3802],\n         [ 0.8155, -0.3195,  1.1322],\n         [-1.1655, -0.3742,  0.2941],\n         [-0.9454, -0.9261, -0.3870],\n         [-0.7970,  2.2638,  0.2522]]])\ntensor([[[0., 0., 0., 0., 0.],\n         [0., 0., 0., 0., 0.]]])\ntensor([[[0., 0., 0., 0., 0.],\n         [0., 0., 0., 0., 0.]]])\n"
     ]
    }
   ],
   "source": [
    "seq_len = 10   # tamanho da sequência\n",
    "batch_size = 2 # num. de exemplos \n",
    "\n",
    "x  = torch.randn( size = (batch_size, seq_len, input_size) ) # 1 exemplo com 10 vetores de 3 dims.\n",
    "h0 = torch.zeros( size = (num_layers, batch_size, hidden_size) ) # hidden-state inicial de cada ex\n",
    "c0 = torch.zeros( size = (num_layers, batch_size, hidden_size) ) # cell-state inicial de cada ex\n",
    "\n",
    "print(x.shape, \n",
    "      h0.shape, \n",
    "      c0.shape, end=2*'\\n')\n",
    "print(*[x,h0,c0], sep='\\n')"
   ]
  },
  {
   "cell_type": "code",
   "execution_count": 43,
   "metadata": {},
   "outputs": [],
   "source": [
    "y, (h_n, c_n) = lstm(x, (h0,c0))"
   ]
  },
  {
   "cell_type": "code",
   "execution_count": 44,
   "metadata": {},
   "outputs": [
    {
     "output_type": "stream",
     "name": "stdout",
     "text": [
      "torch.Size([2, 10, 5]) torch.Size([1, 2, 5]) torch.Size([1, 2, 5])\n"
     ]
    }
   ],
   "source": [
    "print(y.shape, h_n.shape, c_n.shape)"
   ]
  },
  {
   "cell_type": "code",
   "execution_count": 45,
   "metadata": {},
   "outputs": [
    {
     "output_type": "stream",
     "name": "stdout",
     "text": [
      "tensor([[[ 0.1317, -0.0249,  0.1521,  0.0462,  0.0542],\n         [-0.0671, -0.0142,  0.2507, -0.0279,  0.0053],\n         [-0.0309, -0.0963,  0.2622, -0.0645,  0.0902],\n         [ 0.0249, -0.0665,  0.2458, -0.0869,  0.1210],\n         [ 0.1450, -0.1110,  0.1965, -0.0608,  0.1601],\n         [ 0.0386, -0.0378,  0.3254, -0.0273, -0.0653],\n         [ 0.1107,  0.0213,  0.2694,  0.0628, -0.0059],\n         [ 0.0401, -0.0051,  0.1861, -0.0433,  0.1383],\n         [ 0.1122,  0.0569,  0.1814,  0.0252,  0.0935],\n         [ 0.0468, -0.0424,  0.3246, -0.0020,  0.0192]],\n\n        [[ 0.1091, -0.0691,  0.2153,  0.0285,  0.0297],\n         [ 0.1736, -0.0158,  0.2191,  0.0498,  0.0837],\n         [ 0.1115,  0.0173,  0.2556,  0.0423,  0.0405],\n         [ 0.0629,  0.0507,  0.0939, -0.0836,  0.2020],\n         [ 0.1166,  0.0064,  0.0353, -0.1019,  0.3455],\n         [ 0.1001,  0.0911,  0.1561, -0.0286,  0.0210],\n         [ 0.1588, -0.1333,  0.2503, -0.0355,  0.0774],\n         [ 0.2087, -0.0270,  0.2408,  0.0363,  0.0969],\n         [ 0.2327,  0.0411,  0.1416, -0.0008,  0.1873],\n         [ 0.1360,  0.1218,  0.2843,  0.1762, -0.0212]]],\n       grad_fn=<TransposeBackward0>)\ntensor([[[ 0.0468, -0.0424,  0.3246, -0.0020,  0.0192],\n         [ 0.1360,  0.1218,  0.2843,  0.1762, -0.0212]]],\n       grad_fn=<StackBackward>)\ntensor([[[ 0.1291, -0.0806,  0.6734, -0.0057,  0.0440],\n         [ 0.6631,  0.1885,  0.4228,  0.3314, -0.1097]]],\n       grad_fn=<StackBackward>)\n"
     ]
    }
   ],
   "source": [
    "print(*[y, h_n, c_n], sep='\\n')"
   ]
  },
  {
   "cell_type": "code",
   "execution_count": 46,
   "metadata": {},
   "outputs": [
    {
     "output_type": "execute_result",
     "data": {
      "text/plain": [
       "torch.Size([2, 1, 5])"
      ]
     },
     "metadata": {},
     "execution_count": 46
    }
   ],
   "source": [
    "h_n.transpose(1,0).shape"
   ]
  },
  {
   "cell_type": "code",
   "execution_count": 47,
   "metadata": {},
   "outputs": [],
   "source": [
    "class moodClassifierWithLasersOnSteroids(nn.Module):\n",
    "  '''Modelo classificador de emoções com LSTMs.\n",
    "  '''\n",
    "\n",
    "  # ----------------------------------------------#\n",
    "  # Método construtor\n",
    "  def __init__(self, dim_embed, n_units_lstm, n_units_linear): \n",
    "    super().__init__()  \n",
    "\n",
    "    embedding_seq = [] # \n",
    "    ann_seq       = [] # \n",
    "    soft_seq      = []\n",
    "\n",
    "    #---------------------------------------------------------------#\n",
    "    # Embedding step: sequência de operações para converter X --> h\n",
    "    embedding_seq.append(nn.LSTM(input_size=dim_embed,\n",
    "                                  hidden_size=n_units_lstm, \n",
    "                                  num_layers=1,\n",
    "                                  batch_first=True))\n",
    "    #---------------------------------------------------------------#\n",
    "\n",
    "    #--------------------------------------------------------------------------#\n",
    "    # ANN: Rede Neural Artifical Tradicional, com regressão logística na saída\n",
    "    ann_seq.append(nn.Linear(n_units_lstm, n_units_linear))\n",
    "    ann_seq.append(nn.ReLU(inplace=True))\n",
    "    ann_seq.append(nn.Linear(n_units_linear, 6))\n",
    "    \n",
    "    #--------------------------------------------------------------------------#\n",
    "    # Softmax :)\n",
    "    soft_seq.append(nn.LogSoftmax(dim=1))\n",
    "\n",
    "    #--------------------------------------------------------------------------#\n",
    "\n",
    "    #--------------------------------------------------------------------------#\n",
    "    # \"merge\" de todas as camamadas em uma layer sequencial \n",
    "    # (uma sequência para cada etapa)\n",
    "    self.embedding = nn.Sequential(*embedding_seq)     # etapa de embedding \n",
    "    self.ann       = nn.Sequential(*ann_seq)           # etapa ANN\n",
    "    self.soft      = nn.Sequential(*soft_seq)\n",
    "    #--------------------------------------------------------------------------#\n",
    "\n",
    "\n",
    "  def forward(self, x): \n",
    "    '''Processamento realizado ao chamar y=modelo(x)\n",
    "    '''\n",
    "    _, (x, _) = self.embedding(x)  # aplica a etapa de embedding\n",
    "    x = x.transpose(1,0)   # inverte dimensões (força \"batch first\" no hidden state)\n",
    "    x = self.ann(x)        # passa o embedding médio pelas camadas da ANN\n",
    "    x = x.view(-1,6)\n",
    "    x = self.soft(x)\n",
    "    return x  "
   ]
  },
  {
   "cell_type": "code",
   "execution_count": 55,
   "metadata": {
    "tags": [
     "outputPrepend"
    ]
   },
   "outputs": [
    {
     "output_type": "stream",
     "name": "stdout",
     "text": [
      "772\n",
      "epoch: 1338  loss: 0.10628642\n",
      "epoch: 1339  loss: 0.10617555\n",
      "epoch: 1340  loss: 0.10606496\n",
      "epoch: 1341  loss: 0.10595472\n",
      "epoch: 1342  loss: 0.10584477\n",
      "epoch: 1343  loss: 0.10573517\n",
      "epoch: 1344  loss: 0.10562593\n",
      "epoch: 1345  loss: 0.10551699\n",
      "epoch: 1346  loss: 0.10540841\n",
      "epoch: 1347  loss: 0.10530012\n",
      "epoch: 1348  loss: 0.10519229\n",
      "epoch: 1349  loss: 0.10508457\n",
      "epoch: 1350  loss: 0.10497742\n",
      "epoch: 1351  loss: 0.10487048\n",
      "epoch: 1352  loss: 0.10476384\n",
      "epoch: 1353  loss: 0.10465766\n",
      "epoch: 1354  loss: 0.10455165\n",
      "epoch: 1355  loss: 0.10444594\n",
      "epoch: 1356  loss: 0.10434064\n",
      "epoch: 1357  loss: 0.10423562\n",
      "epoch: 1358  loss: 0.10413097\n",
      "epoch: 1359  loss: 0.10402656\n",
      "epoch: 1360  loss: 0.10392252\n",
      "epoch: 1361  loss: 0.10381901\n",
      "epoch: 1362  loss: 0.10371577\n",
      "epoch: 1363  loss: 0.10361286\n",
      "epoch: 1364  loss: 0.10351015\n",
      "epoch: 1365  loss: 0.10340778\n",
      "epoch: 1366  loss: 0.10330562\n",
      "epoch: 1367  loss: 0.10320382\n",
      "epoch: 1368  loss: 0.10310220\n",
      "epoch: 1369  loss: 0.10300072\n",
      "epoch: 1370  loss: 0.10289952\n",
      "epoch: 1371  loss: 0.10279857\n",
      "epoch: 1372  loss: 0.10269778\n",
      "epoch: 1373  loss: 0.10259738\n",
      "epoch: 1374  loss: 0.10249728\n",
      "epoch: 1375  loss: 0.10239725\n",
      "epoch: 1376  loss: 0.10229737\n",
      "epoch: 1377  loss: 0.10219744\n",
      "epoch: 1378  loss: 0.10209781\n",
      "epoch: 1379  loss: 0.10199843\n",
      "epoch: 1380  loss: 0.10189933\n",
      "epoch: 1381  loss: 0.10180043\n",
      "epoch: 1382  loss: 0.10170167\n",
      "epoch: 1383  loss: 0.10160310\n",
      "epoch: 1384  loss: 0.10150483\n",
      "epoch: 1385  loss: 0.10140678\n",
      "epoch: 1386  loss: 0.10130908\n",
      "epoch: 1387  loss: 0.10121164\n",
      "epoch: 1388  loss: 0.10111444\n",
      "epoch: 1389  loss: 0.10101750\n",
      "epoch: 1390  loss: 0.10092082\n",
      "epoch: 1391  loss: 0.10082434\n",
      "epoch: 1392  loss: 0.10072810\n",
      "epoch: 1393  loss: 0.10063225\n",
      "epoch: 1394  loss: 0.10053646\n",
      "epoch: 1395  loss: 0.10044097\n",
      "epoch: 1396  loss: 0.10034577\n",
      "epoch: 1397  loss: 0.10025077\n",
      "epoch: 1398  loss: 0.10015607\n",
      "epoch: 1399  loss: 0.10006158\n",
      "epoch: 1400  loss: 0.09996733\n",
      "epoch: 1401  loss: 0.09987318\n",
      "epoch: 1402  loss: 0.09977900\n",
      "epoch: 1403  loss: 0.09968503\n",
      "epoch: 1404  loss: 0.09959122\n",
      "epoch: 1405  loss: 0.09949780\n",
      "epoch: 1406  loss: 0.09940431\n",
      "epoch: 1407  loss: 0.09931125\n",
      "epoch: 1408  loss: 0.09921835\n",
      "epoch: 1409  loss: 0.09912562\n",
      "epoch: 1410  loss: 0.09903317\n",
      "epoch: 1411  loss: 0.09894063\n",
      "epoch: 1412  loss: 0.09884830\n",
      "epoch: 1413  loss: 0.09875625\n",
      "epoch: 1414  loss: 0.09866405\n",
      "epoch: 1415  loss: 0.09857199\n",
      "epoch: 1416  loss: 0.09848034\n",
      "epoch: 1417  loss: 0.09838855\n",
      "epoch: 1418  loss: 0.09829739\n",
      "epoch: 1419  loss: 0.09820671\n",
      "epoch: 1420  loss: 0.09811612\n",
      "epoch: 1421  loss: 0.09802587\n",
      "epoch: 1422  loss: 0.09793571\n",
      "epoch: 1423  loss: 0.09784582\n",
      "epoch: 1424  loss: 0.09775621\n",
      "epoch: 1425  loss: 0.09766681\n",
      "epoch: 1426  loss: 0.09757755\n",
      "epoch: 1427  loss: 0.09748852\n",
      "epoch: 1428  loss: 0.09739982\n",
      "epoch: 1429  loss: 0.09731126\n",
      "epoch: 1430  loss: 0.09722308\n",
      "epoch: 1431  loss: 0.09713501\n",
      "epoch: 1432  loss: 0.09704714\n",
      "epoch: 1433  loss: 0.09695972\n",
      "epoch: 1434  loss: 0.09687221\n",
      "epoch: 1435  loss: 0.09678513\n",
      "epoch: 1436  loss: 0.09669825\n",
      "epoch: 1437  loss: 0.09661156\n",
      "epoch: 1438  loss: 0.09652514\n",
      "epoch: 1439  loss: 0.09643898\n",
      "epoch: 1440  loss: 0.09635310\n",
      "epoch: 1441  loss: 0.09626724\n",
      "epoch: 1442  loss: 0.09618184\n",
      "epoch: 1443  loss: 0.09609646\n",
      "epoch: 1444  loss: 0.09601137\n",
      "epoch: 1445  loss: 0.09592653\n",
      "epoch: 1446  loss: 0.09584188\n",
      "epoch: 1447  loss: 0.09575755\n",
      "epoch: 1448  loss: 0.09567339\n",
      "epoch: 1449  loss: 0.09558951\n",
      "epoch: 1450  loss: 0.09550577\n",
      "epoch: 1451  loss: 0.09542225\n",
      "epoch: 1452  loss: 0.09533898\n",
      "epoch: 1453  loss: 0.09525590\n",
      "epoch: 1454  loss: 0.09517288\n",
      "epoch: 1455  loss: 0.09509014\n",
      "epoch: 1456  loss: 0.09500769\n",
      "epoch: 1457  loss: 0.09492517\n",
      "epoch: 1458  loss: 0.09484296\n",
      "epoch: 1459  loss: 0.09476088\n",
      "epoch: 1460  loss: 0.09467888\n",
      "epoch: 1461  loss: 0.09459697\n",
      "epoch: 1462  loss: 0.09451536\n",
      "epoch: 1463  loss: 0.09443382\n",
      "epoch: 1464  loss: 0.09435248\n",
      "epoch: 1465  loss: 0.09427138\n",
      "epoch: 1466  loss: 0.09419045\n",
      "epoch: 1467  loss: 0.09410954\n",
      "epoch: 1468  loss: 0.09402894\n",
      "epoch: 1469  loss: 0.09394837\n",
      "epoch: 1470  loss: 0.09386799\n",
      "epoch: 1471  loss: 0.09378772\n",
      "epoch: 1472  loss: 0.09370773\n",
      "epoch: 1473  loss: 0.09362794\n",
      "epoch: 1474  loss: 0.09354836\n",
      "epoch: 1475  loss: 0.09346887\n",
      "epoch: 1476  loss: 0.09338970\n",
      "epoch: 1477  loss: 0.09331059\n",
      "epoch: 1478  loss: 0.09323172\n",
      "epoch: 1479  loss: 0.09315323\n",
      "epoch: 1480  loss: 0.09307481\n",
      "epoch: 1481  loss: 0.09299662\n",
      "epoch: 1482  loss: 0.09291865\n",
      "epoch: 1483  loss: 0.09284085\n",
      "epoch: 1484  loss: 0.09276316\n",
      "epoch: 1485  loss: 0.09268571\n",
      "epoch: 1486  loss: 0.09260866\n",
      "epoch: 1487  loss: 0.09253141\n",
      "epoch: 1488  loss: 0.09245460\n",
      "epoch: 1489  loss: 0.09237800\n",
      "epoch: 1490  loss: 0.09230153\n",
      "epoch: 1491  loss: 0.09222529\n",
      "epoch: 1492  loss: 0.09214939\n",
      "epoch: 1493  loss: 0.09207337\n",
      "epoch: 1494  loss: 0.09199770\n",
      "epoch: 1495  loss: 0.09192224\n",
      "epoch: 1496  loss: 0.09184691\n",
      "epoch: 1497  loss: 0.09177177\n",
      "epoch: 1498  loss: 0.09169703\n",
      "epoch: 1499  loss: 0.09162211\n",
      "epoch: 1500  loss: 0.09154760\n",
      "epoch: 1501  loss: 0.09147320\n",
      "epoch: 1502  loss: 0.09139894\n",
      "epoch: 1503  loss: 0.09132492\n",
      "epoch: 1504  loss: 0.09125122\n",
      "epoch: 1505  loss: 0.09117740\n",
      "epoch: 1506  loss: 0.09110397\n",
      "epoch: 1507  loss: 0.09103063\n",
      "epoch: 1508  loss: 0.09095736\n",
      "epoch: 1509  loss: 0.09088432\n",
      "epoch: 1510  loss: 0.09081142\n",
      "epoch: 1511  loss: 0.09073875\n",
      "epoch: 1512  loss: 0.09066617\n",
      "epoch: 1513  loss: 0.09059379\n",
      "epoch: 1514  loss: 0.09052156\n",
      "epoch: 1515  loss: 0.09044970\n",
      "epoch: 1516  loss: 0.09037770\n",
      "epoch: 1517  loss: 0.09030605\n",
      "epoch: 1518  loss: 0.09023452\n",
      "epoch: 1519  loss: 0.09016313\n",
      "epoch: 1520  loss: 0.09009194\n",
      "epoch: 1521  loss: 0.09002084\n",
      "epoch: 1522  loss: 0.08995001\n",
      "epoch: 1523  loss: 0.08987932\n",
      "epoch: 1524  loss: 0.08980873\n",
      "epoch: 1525  loss: 0.08973829\n",
      "epoch: 1526  loss: 0.08966804\n",
      "epoch: 1527  loss: 0.08959790\n",
      "epoch: 1528  loss: 0.08952793\n",
      "epoch: 1529  loss: 0.08945820\n",
      "epoch: 1530  loss: 0.08938861\n",
      "epoch: 1531  loss: 0.08931894\n",
      "epoch: 1532  loss: 0.08924964\n",
      "epoch: 1533  loss: 0.08918047\n",
      "epoch: 1534  loss: 0.08911125\n",
      "epoch: 1535  loss: 0.08904238\n",
      "epoch: 1536  loss: 0.08897370\n",
      "epoch: 1537  loss: 0.08890489\n",
      "epoch: 1538  loss: 0.08883631\n",
      "epoch: 1539  loss: 0.08876804\n",
      "epoch: 1540  loss: 0.08869972\n",
      "epoch: 1541  loss: 0.08863176\n",
      "epoch: 1542  loss: 0.08856392\n",
      "epoch: 1543  loss: 0.08849610\n",
      "epoch: 1544  loss: 0.08842855\n",
      "epoch: 1545  loss: 0.08836108\n",
      "epoch: 1546  loss: 0.08829366\n",
      "epoch: 1547  loss: 0.08822654\n",
      "epoch: 1548  loss: 0.08815959\n",
      "epoch: 1549  loss: 0.08809255\n",
      "epoch: 1550  loss: 0.08802562\n",
      "epoch: 1551  loss: 0.08795921\n",
      "epoch: 1552  loss: 0.08789241\n",
      "epoch: 1553  loss: 0.08782605\n",
      "epoch: 1554  loss: 0.08775987\n",
      "epoch: 1555  loss: 0.08769366\n",
      "epoch: 1556  loss: 0.08762769\n",
      "epoch: 1557  loss: 0.08756185\n",
      "epoch: 1558  loss: 0.08749612\n",
      "epoch: 1559  loss: 0.08743045\n",
      "epoch: 1560  loss: 0.08736504\n",
      "epoch: 1561  loss: 0.08729955\n",
      "epoch: 1562  loss: 0.08723434\n",
      "epoch: 1563  loss: 0.08716919\n",
      "epoch: 1564  loss: 0.08710413\n",
      "epoch: 1565  loss: 0.08703927\n",
      "epoch: 1566  loss: 0.08697449\n",
      "epoch: 1567  loss: 0.08690979\n",
      "epoch: 1568  loss: 0.08684527\n",
      "epoch: 1569  loss: 0.08678088\n",
      "epoch: 1570  loss: 0.08671664\n",
      "epoch: 1571  loss: 0.08665252\n",
      "epoch: 1572  loss: 0.08658841\n",
      "epoch: 1573  loss: 0.08652449\n",
      "epoch: 1574  loss: 0.08646065\n",
      "epoch: 1575  loss: 0.08639693\n",
      "epoch: 1576  loss: 0.08633340\n",
      "epoch: 1577  loss: 0.08626989\n",
      "epoch: 1578  loss: 0.08620649\n",
      "epoch: 1579  loss: 0.08614327\n",
      "epoch: 1580  loss: 0.08608024\n",
      "epoch: 1581  loss: 0.08601720\n",
      "epoch: 1582  loss: 0.08595443\n",
      "epoch: 1583  loss: 0.08589156\n",
      "epoch: 1584  loss: 0.08582883\n",
      "epoch: 1585  loss: 0.08576638\n",
      "epoch: 1586  loss: 0.08570386\n",
      "epoch: 1587  loss: 0.08564164\n",
      "epoch: 1588  loss: 0.08557945\n",
      "epoch: 1589  loss: 0.08551732\n",
      "epoch: 1590  loss: 0.08545533\n",
      "epoch: 1591  loss: 0.08539352\n",
      "epoch: 1592  loss: 0.08533172\n",
      "epoch: 1593  loss: 0.08527014\n",
      "epoch: 1594  loss: 0.08520856\n",
      "epoch: 1595  loss: 0.08514713\n",
      "epoch: 1596  loss: 0.08508606\n",
      "epoch: 1597  loss: 0.08502461\n",
      "epoch: 1598  loss: 0.08496346\n",
      "epoch: 1599  loss: 0.08490233\n",
      "epoch: 1600  loss: 0.08484126\n",
      "epoch: 1601  loss: 0.08478035\n",
      "epoch: 1602  loss: 0.08471959\n",
      "epoch: 1603  loss: 0.08465901\n",
      "epoch: 1604  loss: 0.08459840\n",
      "epoch: 1605  loss: 0.08453791\n",
      "epoch: 1606  loss: 0.08447749\n",
      "epoch: 1607  loss: 0.08441719\n",
      "epoch: 1608  loss: 0.08435697\n",
      "epoch: 1609  loss: 0.08429697\n",
      "epoch: 1610  loss: 0.08423688\n",
      "epoch: 1611  loss: 0.08417694\n",
      "epoch: 1612  loss: 0.08411710\n",
      "epoch: 1613  loss: 0.08405735\n",
      "epoch: 1614  loss: 0.08399767\n",
      "epoch: 1615  loss: 0.08393818\n",
      "epoch: 1616  loss: 0.08387865\n",
      "epoch: 1617  loss: 0.08381931\n",
      "epoch: 1618  loss: 0.08376011\n",
      "epoch: 1619  loss: 0.08370095\n",
      "epoch: 1620  loss: 0.08364194\n",
      "epoch: 1621  loss: 0.08358302\n",
      "epoch: 1622  loss: 0.08352416\n",
      "epoch: 1623  loss: 0.08346567\n",
      "epoch: 1624  loss: 0.08340684\n",
      "epoch: 1625  loss: 0.08334861\n",
      "epoch: 1626  loss: 0.08329028\n",
      "epoch: 1627  loss: 0.08323196\n",
      "epoch: 1628  loss: 0.08317383\n",
      "epoch: 1629  loss: 0.08311572\n",
      "epoch: 1630  loss: 0.08305760\n",
      "epoch: 1631  loss: 0.08299973\n",
      "epoch: 1632  loss: 0.08294194\n",
      "epoch: 1633  loss: 0.08288448\n",
      "epoch: 1634  loss: 0.08282684\n",
      "epoch: 1635  loss: 0.08276913\n",
      "epoch: 1636  loss: 0.08271188\n",
      "epoch: 1637  loss: 0.08265465\n",
      "epoch: 1638  loss: 0.08259735\n",
      "epoch: 1639  loss: 0.08254007\n",
      "epoch: 1640  loss: 0.08248284\n",
      "epoch: 1641  loss: 0.08242577\n",
      "epoch: 1642  loss: 0.08236873\n",
      "epoch: 1643  loss: 0.08231177\n",
      "epoch: 1644  loss: 0.08225481\n",
      "epoch: 1645  loss: 0.08219812\n",
      "epoch: 1646  loss: 0.08214130\n",
      "epoch: 1647  loss: 0.08208468\n",
      "epoch: 1648  loss: 0.08202809\n",
      "epoch: 1649  loss: 0.08197156\n",
      "epoch: 1650  loss: 0.08191544\n",
      "epoch: 1651  loss: 0.08185896\n",
      "epoch: 1652  loss: 0.08180291\n",
      "epoch: 1653  loss: 0.08174687\n",
      "epoch: 1654  loss: 0.08169087\n",
      "epoch: 1655  loss: 0.08163502\n",
      "epoch: 1656  loss: 0.08157915\n",
      "epoch: 1657  loss: 0.08152334\n",
      "epoch: 1658  loss: 0.08146767\n",
      "epoch: 1659  loss: 0.08141232\n",
      "epoch: 1660  loss: 0.08135687\n",
      "epoch: 1661  loss: 0.08130156\n",
      "epoch: 1662  loss: 0.08124635\n",
      "epoch: 1663  loss: 0.08119127\n",
      "epoch: 1664  loss: 0.08113629\n",
      "epoch: 1665  loss: 0.08108129\n",
      "epoch: 1666  loss: 0.08102662\n",
      "epoch: 1667  loss: 0.08097189\n",
      "epoch: 1668  loss: 0.08091724\n",
      "epoch: 1669  loss: 0.08086277\n",
      "epoch: 1670  loss: 0.08080825\n",
      "epoch: 1671  loss: 0.08075402\n",
      "epoch: 1672  loss: 0.08069996\n",
      "epoch: 1673  loss: 0.08064585\n",
      "epoch: 1674  loss: 0.08059169\n",
      "epoch: 1675  loss: 0.08053768\n",
      "epoch: 1676  loss: 0.08048371\n",
      "epoch: 1677  loss: 0.08042982\n",
      "epoch: 1678  loss: 0.08037632\n",
      "epoch: 1679  loss: 0.08032267\n",
      "epoch: 1680  loss: 0.08026902\n",
      "epoch: 1681  loss: 0.08021545\n",
      "epoch: 1682  loss: 0.08016203\n",
      "epoch: 1683  loss: 0.08010876\n",
      "epoch: 1684  loss: 0.08005536\n",
      "epoch: 1685  loss: 0.08000228\n",
      "epoch: 1686  loss: 0.07994915\n",
      "epoch: 1687  loss: 0.07989602\n",
      "epoch: 1688  loss: 0.07984342\n",
      "epoch: 1689  loss: 0.07979050\n",
      "epoch: 1690  loss: 0.07973754\n",
      "epoch: 1691  loss: 0.07968508\n",
      "epoch: 1692  loss: 0.07963251\n",
      "epoch: 1693  loss: 0.07957990\n",
      "epoch: 1694  loss: 0.07952759\n",
      "epoch: 1695  loss: 0.07947513\n",
      "epoch: 1696  loss: 0.07942311\n",
      "epoch: 1697  loss: 0.07937103\n",
      "epoch: 1698  loss: 0.07931882\n",
      "epoch: 1699  loss: 0.07926683\n",
      "epoch: 1700  loss: 0.07921512\n",
      "epoch: 1701  loss: 0.07916307\n",
      "epoch: 1702  loss: 0.07911149\n",
      "epoch: 1703  loss: 0.07905991\n",
      "epoch: 1704  loss: 0.07900815\n",
      "epoch: 1705  loss: 0.07895663\n",
      "epoch: 1706  loss: 0.07890525\n",
      "epoch: 1707  loss: 0.07885385\n",
      "epoch: 1708  loss: 0.07880265\n",
      "epoch: 1709  loss: 0.07875148\n",
      "epoch: 1710  loss: 0.07870038\n",
      "epoch: 1711  loss: 0.07864934\n",
      "epoch: 1712  loss: 0.07859840\n",
      "epoch: 1713  loss: 0.07854763\n",
      "epoch: 1714  loss: 0.07849671\n",
      "epoch: 1715  loss: 0.07844601\n",
      "epoch: 1716  loss: 0.07839546\n",
      "epoch: 1717  loss: 0.07834484\n",
      "epoch: 1718  loss: 0.07829425\n",
      "epoch: 1719  loss: 0.07824347\n",
      "epoch: 1720  loss: 0.07819273\n",
      "epoch: 1721  loss: 0.07814201\n",
      "epoch: 1722  loss: 0.07809129\n",
      "epoch: 1723  loss: 0.07804055\n",
      "epoch: 1724  loss: 0.07799015\n",
      "epoch: 1725  loss: 0.07793959\n",
      "epoch: 1726  loss: 0.07788890\n",
      "epoch: 1727  loss: 0.07783854\n",
      "epoch: 1728  loss: 0.07778815\n",
      "epoch: 1729  loss: 0.07773771\n",
      "epoch: 1730  loss: 0.07768735\n",
      "epoch: 1731  loss: 0.07763703\n",
      "epoch: 1732  loss: 0.07758705\n",
      "epoch: 1733  loss: 0.07753696\n",
      "epoch: 1734  loss: 0.07748672\n",
      "epoch: 1735  loss: 0.07743679\n",
      "epoch: 1736  loss: 0.07738687\n",
      "epoch: 1737  loss: 0.07733678\n",
      "epoch: 1738  loss: 0.07728723\n",
      "epoch: 1739  loss: 0.07723749\n",
      "epoch: 1740  loss: 0.07718759\n",
      "epoch: 1741  loss: 0.07713805\n",
      "epoch: 1742  loss: 0.07708843\n",
      "epoch: 1743  loss: 0.07703870\n",
      "epoch: 1744  loss: 0.07698958\n",
      "epoch: 1745  loss: 0.07694013\n",
      "epoch: 1746  loss: 0.07689053\n",
      "epoch: 1747  loss: 0.07684153\n",
      "epoch: 1748  loss: 0.07679229\n",
      "epoch: 1749  loss: 0.07674288\n",
      "epoch: 1750  loss: 0.07669407\n",
      "epoch: 1751  loss: 0.07664315\n",
      "epoch: 1752  loss: 0.07659198\n",
      "epoch: 1753  loss: 0.07654133\n",
      "epoch: 1754  loss: 0.07648995\n",
      "epoch: 1755  loss: 0.07643846\n",
      "epoch: 1756  loss: 0.07638726\n",
      "epoch: 1757  loss: 0.07633559\n",
      "epoch: 1758  loss: 0.07628368\n",
      "epoch: 1759  loss: 0.07623214\n",
      "epoch: 1760  loss: 0.07618047\n",
      "epoch: 1761  loss: 0.07612874\n",
      "epoch: 1762  loss: 0.07607698\n",
      "epoch: 1763  loss: 0.07602499\n",
      "epoch: 1764  loss: 0.07597325\n",
      "epoch: 1765  loss: 0.07592148\n",
      "epoch: 1766  loss: 0.07586961\n",
      "epoch: 1767  loss: 0.07581761\n",
      "epoch: 1768  loss: 0.07576559\n",
      "epoch: 1769  loss: 0.07571371\n",
      "epoch: 1770  loss: 0.07566183\n",
      "epoch: 1771  loss: 0.07560991\n",
      "epoch: 1772  loss: 0.07555801\n",
      "epoch: 1773  loss: 0.07550600\n",
      "epoch: 1774  loss: 0.07545407\n",
      "epoch: 1775  loss: 0.07540220\n",
      "epoch: 1776  loss: 0.07535024\n",
      "epoch: 1777  loss: 0.07529800\n",
      "epoch: 1778  loss: 0.07524589\n",
      "epoch: 1779  loss: 0.07519364\n",
      "epoch: 1780  loss: 0.07514134\n",
      "epoch: 1781  loss: 0.07508904\n",
      "epoch: 1782  loss: 0.07503666\n",
      "epoch: 1783  loss: 0.07498441\n",
      "epoch: 1784  loss: 0.07493213\n",
      "epoch: 1785  loss: 0.07487986\n",
      "epoch: 1786  loss: 0.07482757\n",
      "epoch: 1787  loss: 0.07477535\n",
      "epoch: 1788  loss: 0.07472326\n",
      "epoch: 1789  loss: 0.07467102\n",
      "epoch: 1790  loss: 0.07461895\n",
      "epoch: 1791  loss: 0.07456693\n",
      "epoch: 1792  loss: 0.07451488\n",
      "epoch: 1793  loss: 0.07446288\n",
      "epoch: 1794  loss: 0.07441098\n",
      "epoch: 1795  loss: 0.07435909\n",
      "epoch: 1796  loss: 0.07430728\n",
      "epoch: 1797  loss: 0.07425559\n",
      "epoch: 1798  loss: 0.07420383\n",
      "epoch: 1799  loss: 0.07415242\n",
      "epoch: 1800  loss: 0.07410084\n",
      "epoch: 1801  loss: 0.07404935\n",
      "epoch: 1802  loss: 0.07399812\n",
      "epoch: 1803  loss: 0.07394685\n",
      "epoch: 1804  loss: 0.07389596\n",
      "epoch: 1805  loss: 0.07384538\n",
      "epoch: 1806  loss: 0.07379490\n",
      "epoch: 1807  loss: 0.07374464\n",
      "epoch: 1808  loss: 0.07369444\n",
      "epoch: 1809  loss: 0.07364450\n",
      "epoch: 1810  loss: 0.07359467\n",
      "epoch: 1811  loss: 0.07354496\n",
      "epoch: 1812  loss: 0.07349547\n",
      "epoch: 1813  loss: 0.07344611\n",
      "epoch: 1814  loss: 0.07339712\n",
      "epoch: 1815  loss: 0.07334819\n",
      "epoch: 1816  loss: 0.07329933\n",
      "epoch: 1817  loss: 0.07325096\n",
      "epoch: 1818  loss: 0.07320264\n",
      "epoch: 1819  loss: 0.07315446\n",
      "epoch: 1820  loss: 0.07310645\n",
      "epoch: 1821  loss: 0.07305878\n",
      "epoch: 1822  loss: 0.07301121\n",
      "epoch: 1823  loss: 0.07296388\n",
      "epoch: 1824  loss: 0.07291695\n",
      "epoch: 1825  loss: 0.07287000\n",
      "epoch: 1826  loss: 0.07282320\n",
      "epoch: 1827  loss: 0.07277694\n",
      "epoch: 1828  loss: 0.07273059\n",
      "epoch: 1829  loss: 0.07268433\n",
      "epoch: 1830  loss: 0.07263858\n",
      "epoch: 1831  loss: 0.07259289\n",
      "epoch: 1832  loss: 0.07254718\n",
      "epoch: 1833  loss: 0.07250205\n",
      "epoch: 1834  loss: 0.07245698\n",
      "epoch: 1835  loss: 0.07241214\n",
      "epoch: 1836  loss: 0.07236768\n",
      "epoch: 1837  loss: 0.07232336\n",
      "epoch: 1838  loss: 0.07227907\n",
      "epoch: 1839  loss: 0.07223508\n",
      "epoch: 1840  loss: 0.07219122\n",
      "epoch: 1841  loss: 0.07214750\n",
      "epoch: 1842  loss: 0.07210392\n",
      "epoch: 1843  loss: 0.07206048\n",
      "epoch: 1844  loss: 0.07201727\n",
      "epoch: 1845  loss: 0.07197412\n",
      "epoch: 1846  loss: 0.07193115\n",
      "epoch: 1847  loss: 0.07188828\n",
      "epoch: 1848  loss: 0.07184558\n",
      "epoch: 1849  loss: 0.07180294\n",
      "epoch: 1850  loss: 0.07176046\n",
      "epoch: 1851  loss: 0.07171810\n",
      "epoch: 1852  loss: 0.07167583\n",
      "epoch: 1853  loss: 0.07163372\n",
      "epoch: 1854  loss: 0.07159165\n",
      "epoch: 1855  loss: 0.07154980\n",
      "epoch: 1856  loss: 0.07150802\n",
      "epoch: 1857  loss: 0.07146635\n",
      "epoch: 1858  loss: 0.07142480\n",
      "epoch: 1859  loss: 0.07138333\n",
      "epoch: 1860  loss: 0.07134201\n",
      "epoch: 1861  loss: 0.07130076\n",
      "epoch: 1862  loss: 0.07125910\n",
      "epoch: 1863  loss: 0.07121725\n",
      "epoch: 1864  loss: 0.07117535\n",
      "epoch: 1865  loss: 0.07113346\n",
      "epoch: 1866  loss: 0.07109152\n",
      "epoch: 1867  loss: 0.07104973\n",
      "epoch: 1868  loss: 0.07100794\n",
      "epoch: 1869  loss: 0.07096614\n",
      "epoch: 1870  loss: 0.07092447\n",
      "epoch: 1871  loss: 0.07088290\n",
      "epoch: 1872  loss: 0.07084151\n",
      "epoch: 1873  loss: 0.07080024\n",
      "epoch: 1874  loss: 0.07075904\n",
      "epoch: 1875  loss: 0.07071803\n",
      "epoch: 1876  loss: 0.07067709\n",
      "epoch: 1877  loss: 0.07063622\n",
      "epoch: 1878  loss: 0.07059555\n",
      "epoch: 1879  loss: 0.07055499\n",
      "epoch: 1880  loss: 0.07051452\n",
      "epoch: 1881  loss: 0.07047411\n",
      "epoch: 1882  loss: 0.07043387\n",
      "epoch: 1883  loss: 0.07039366\n",
      "epoch: 1884  loss: 0.07035360\n",
      "epoch: 1885  loss: 0.07031363\n",
      "epoch: 1886  loss: 0.07027382\n",
      "epoch: 1887  loss: 0.07023405\n",
      "epoch: 1888  loss: 0.07019437\n",
      "epoch: 1889  loss: 0.07015482\n",
      "epoch: 1890  loss: 0.07011537\n",
      "epoch: 1891  loss: 0.07007599\n",
      "epoch: 1892  loss: 0.07003673\n",
      "epoch: 1893  loss: 0.06999755\n",
      "epoch: 1894  loss: 0.06995847\n",
      "epoch: 1895  loss: 0.06991947\n",
      "epoch: 1896  loss: 0.06988066\n",
      "epoch: 1897  loss: 0.06984189\n",
      "epoch: 1898  loss: 0.06980321\n",
      "epoch: 1899  loss: 0.06976464\n",
      "epoch: 1900  loss: 0.06972613\n",
      "epoch: 1901  loss: 0.06968775\n",
      "epoch: 1902  loss: 0.06964944\n",
      "epoch: 1903  loss: 0.06961123\n",
      "epoch: 1904  loss: 0.06957312\n",
      "epoch: 1905  loss: 0.06953508\n",
      "epoch: 1906  loss: 0.06949712\n",
      "epoch: 1907  loss: 0.06945929\n",
      "epoch: 1908  loss: 0.06942149\n",
      "epoch: 1909  loss: 0.06938378\n",
      "epoch: 1910  loss: 0.06934616\n",
      "epoch: 1911  loss: 0.06930868\n",
      "epoch: 1912  loss: 0.06927128\n",
      "epoch: 1913  loss: 0.06923395\n",
      "epoch: 1914  loss: 0.06919672\n",
      "epoch: 1915  loss: 0.06915957\n",
      "epoch: 1916  loss: 0.06912255\n",
      "epoch: 1917  loss: 0.06908556\n",
      "epoch: 1918  loss: 0.06904866\n",
      "epoch: 1919  loss: 0.06901181\n",
      "epoch: 1920  loss: 0.06897509\n",
      "epoch: 1921  loss: 0.06893845\n",
      "epoch: 1922  loss: 0.06890188\n",
      "epoch: 1923  loss: 0.06886536\n",
      "epoch: 1924  loss: 0.06882896\n",
      "epoch: 1925  loss: 0.06879264\n",
      "epoch: 1926  loss: 0.06875636\n",
      "epoch: 1927  loss: 0.06872015\n",
      "epoch: 1928  loss: 0.06868403\n",
      "epoch: 1929  loss: 0.06864800\n",
      "epoch: 1930  loss: 0.06861203\n",
      "epoch: 1931  loss: 0.06857613\n",
      "epoch: 1932  loss: 0.06854030\n",
      "epoch: 1933  loss: 0.06850456\n",
      "epoch: 1934  loss: 0.06846888\n",
      "epoch: 1935  loss: 0.06843328\n",
      "epoch: 1936  loss: 0.06839778\n",
      "epoch: 1937  loss: 0.06836235\n",
      "epoch: 1938  loss: 0.06832699\n",
      "epoch: 1939  loss: 0.06829172\n",
      "epoch: 1940  loss: 0.06825650\n",
      "epoch: 1941  loss: 0.06822132\n",
      "epoch: 1942  loss: 0.06818622\n",
      "epoch: 1943  loss: 0.06815122\n",
      "epoch: 1944  loss: 0.06811626\n",
      "epoch: 1945  loss: 0.06808136\n",
      "epoch: 1946  loss: 0.06804655\n",
      "epoch: 1947  loss: 0.06801178\n",
      "epoch: 1948  loss: 0.06797713\n",
      "epoch: 1949  loss: 0.06794254\n",
      "epoch: 1950  loss: 0.06790798\n",
      "epoch: 1951  loss: 0.06787350\n",
      "epoch: 1952  loss: 0.06783906\n",
      "epoch: 1953  loss: 0.06780471\n",
      "epoch: 1954  loss: 0.06777042\n",
      "epoch: 1955  loss: 0.06773617\n",
      "epoch: 1956  loss: 0.06770201\n",
      "epoch: 1957  loss: 0.06766792\n",
      "epoch: 1958  loss: 0.06763387\n",
      "epoch: 1959  loss: 0.06759991\n",
      "epoch: 1960  loss: 0.06756599\n",
      "epoch: 1961  loss: 0.06753214\n",
      "epoch: 1962  loss: 0.06749837\n",
      "epoch: 1963  loss: 0.06746466\n",
      "epoch: 1964  loss: 0.06743101\n",
      "epoch: 1965  loss: 0.06739743\n",
      "epoch: 1966  loss: 0.06736391\n",
      "epoch: 1967  loss: 0.06733044\n",
      "epoch: 1968  loss: 0.06729706\n",
      "epoch: 1969  loss: 0.06726372\n",
      "epoch: 1970  loss: 0.06723046\n",
      "epoch: 1971  loss: 0.06719727\n",
      "epoch: 1972  loss: 0.06716412\n",
      "epoch: 1973  loss: 0.06713103\n",
      "epoch: 1974  loss: 0.06709799\n",
      "epoch: 1975  loss: 0.06706503\n",
      "epoch: 1976  loss: 0.06703214\n",
      "epoch: 1977  loss: 0.06699929\n",
      "epoch: 1978  loss: 0.06696653\n",
      "epoch: 1979  loss: 0.06693380\n",
      "epoch: 1980  loss: 0.06690113\n",
      "epoch: 1981  loss: 0.06686854\n",
      "epoch: 1982  loss: 0.06683598\n",
      "epoch: 1983  loss: 0.06680351\n",
      "epoch: 1984  loss: 0.06677107\n",
      "epoch: 1985  loss: 0.06673867\n",
      "epoch: 1986  loss: 0.06670634\n",
      "epoch: 1987  loss: 0.06667404\n",
      "epoch: 1988  loss: 0.06664183\n",
      "epoch: 1989  loss: 0.06660964\n",
      "epoch: 1990  loss: 0.06657754\n",
      "epoch: 1991  loss: 0.06654546\n",
      "epoch: 1992  loss: 0.06651344\n",
      "epoch: 1993  loss: 0.06648149\n",
      "epoch: 1994  loss: 0.06644955\n",
      "epoch: 1995  loss: 0.06641771\n",
      "epoch: 1996  loss: 0.06638590\n",
      "epoch: 1997  loss: 0.06635410\n",
      "epoch: 1998  loss: 0.06632242\n",
      "epoch: 1999  loss: 0.06629080\n",
      "\n",
      "# Finished training!\n",
      "# --> epoch: 1999  \n",
      "# --> initial loss: 1.79193914 ,  \n",
      "# --> accuracy: 0.97591414 , \n",
      "# --> final loss: 0.06629080\n"
     ]
    }
   ],
   "source": [
    "import gc\n",
    "torch.cuda.empty_cache() #free up some memory\n",
    "gc.collect()             #free up some memory\n",
    "\n",
    "data_train = (torch.FloatTensor(X_train), torch.LongTensor(Y_train))\n",
    "\n",
    "Model = moodClassifierWithLasersOnSteroids(dim_embed=num_dims, n_units_lstm=50, n_units_linear=50)\n",
    "if CUDA_flag:         # se houver GPUs disponíveis\n",
    "  Model.cuda()       # converte o modelo para CUDA\n",
    "print(Model)\n",
    "\n",
    "criterion = nn.NLLLoss() # cross entropy loss\n",
    "optimizer = torch.optim.Adam(Model.parameters(), lr = 0.001) \n",
    "\n",
    "Model, losses, accs = train_loop(Model, data_train, max_epochs=2000, print_iters=1) # note que o modelo é sobrescrito pela saída treinada"
   ]
  },
  {
   "cell_type": "code",
   "execution_count": 56,
   "metadata": {},
   "outputs": [
    {
     "output_type": "stream",
     "name": "stdout",
     "text": [
      "moodClassifierWithLasersOnSteroids(\n",
      "  (embedding): Sequential(\n",
      "    (0): LSTM(50, 50, batch_first=True)\n",
      "  )\n",
      "  (ann): Sequential(\n",
      "    (0): Linear(in_features=50, out_features=50, bias=True)\n",
      "    (1): ReLU(inplace=True)\n",
      "    (2): Linear(in_features=50, out_features=6, bias=True)\n",
      "  )\n",
      "  (soft): Sequential(\n",
      "    (0): LogSoftmax(dim=1)\n",
      "  )\n",
      ")\n",
      "0.9759141395232747\n"
     ]
    },
    {
     "output_type": "display_data",
     "data": {
      "text/plain": "<Figure size 1152x432 with 2 Axes>",
      "image/svg+xml": "<?xml version=\"1.0\" encoding=\"utf-8\" standalone=\"no\"?>\r\n<!DOCTYPE svg PUBLIC \"-//W3C//DTD SVG 1.1//EN\"\r\n  \"http://www.w3.org/Graphics/SVG/1.1/DTD/svg11.dtd\">\r\n<!-- Created with matplotlib (https://matplotlib.org/) -->\r\n<svg height=\"414.11625pt\" version=\"1.1\" viewBox=\"0 0 950.14375 414.11625\" width=\"950.14375pt\" xmlns=\"http://www.w3.org/2000/svg\" xmlns:xlink=\"http://www.w3.org/1999/xlink\">\r\n <metadata>\r\n  <rdf:RDF xmlns:cc=\"http://creativecommons.org/ns#\" xmlns:dc=\"http://purl.org/dc/elements/1.1/\" xmlns:rdf=\"http://www.w3.org/1999/02/22-rdf-syntax-ns#\">\r\n   <cc:Work>\r\n    <dc:type rdf:resource=\"http://purl.org/dc/dcmitype/StillImage\"/>\r\n    <dc:date>2021-04-22T18:54:46.467273</dc:date>\r\n    <dc:format>image/svg+xml</dc:format>\r\n    <dc:creator>\r\n     <cc:Agent>\r\n      <dc:title>Matplotlib v3.3.2, https://matplotlib.org/</dc:title>\r\n     </cc:Agent>\r\n    </dc:creator>\r\n   </cc:Work>\r\n  </rdf:RDF>\r\n </metadata>\r\n <defs>\r\n  <style type=\"text/css\">*{stroke-linecap:butt;stroke-linejoin:round;}</style>\r\n </defs>\r\n <g id=\"figure_1\">\r\n  <g id=\"patch_1\">\r\n   <path d=\"M 0 414.11625 \r\nL 950.14375 414.11625 \r\nL 950.14375 0 \r\nL 0 0 \r\nz\r\n\" style=\"fill:none;\"/>\r\n  </g>\r\n  <g id=\"axes_1\">\r\n   <g id=\"patch_2\">\r\n    <path d=\"M 50.14375 376.56 \r\nL 455.961932 376.56 \r\nL 455.961932 50.4 \r\nL 50.14375 50.4 \r\nz\r\n\" style=\"fill:#ffffff;\"/>\r\n   </g>\r\n   <g id=\"matplotlib.axis_1\">\r\n    <g id=\"xtick_1\">\r\n     <g id=\"line2d_1\">\r\n      <defs>\r\n       <path d=\"M 0 0 \r\nL 0 3.5 \r\n\" id=\"m61d73a1f66\" style=\"stroke:#000000;stroke-width:0.8;\"/>\r\n      </defs>\r\n      <g>\r\n       <use style=\"stroke:#000000;stroke-width:0.8;\" x=\"68.590031\" xlink:href=\"#m61d73a1f66\" y=\"376.56\"/>\r\n      </g>\r\n     </g>\r\n     <g id=\"text_1\">\r\n      <!-- 0 -->\r\n      <g transform=\"translate(65.408781 391.158437)scale(0.1 -0.1)\">\r\n       <defs>\r\n        <path d=\"M 31.78125 66.40625 \r\nQ 24.171875 66.40625 20.328125 58.90625 \r\nQ 16.5 51.421875 16.5 36.375 \r\nQ 16.5 21.390625 20.328125 13.890625 \r\nQ 24.171875 6.390625 31.78125 6.390625 \r\nQ 39.453125 6.390625 43.28125 13.890625 \r\nQ 47.125 21.390625 47.125 36.375 \r\nQ 47.125 51.421875 43.28125 58.90625 \r\nQ 39.453125 66.40625 31.78125 66.40625 \r\nz\r\nM 31.78125 74.21875 \r\nQ 44.046875 74.21875 50.515625 64.515625 \r\nQ 56.984375 54.828125 56.984375 36.375 \r\nQ 56.984375 17.96875 50.515625 8.265625 \r\nQ 44.046875 -1.421875 31.78125 -1.421875 \r\nQ 19.53125 -1.421875 13.0625 8.265625 \r\nQ 6.59375 17.96875 6.59375 36.375 \r\nQ 6.59375 54.828125 13.0625 64.515625 \r\nQ 19.53125 74.21875 31.78125 74.21875 \r\nz\r\n\" id=\"DejaVuSans-48\"/>\r\n       </defs>\r\n       <use xlink:href=\"#DejaVuSans-48\"/>\r\n      </g>\r\n     </g>\r\n    </g>\r\n    <g id=\"xtick_2\">\r\n     <g id=\"line2d_2\">\r\n      <g>\r\n       <use style=\"stroke:#000000;stroke-width:0.8;\" x=\"114.728803\" xlink:href=\"#m61d73a1f66\" y=\"376.56\"/>\r\n      </g>\r\n     </g>\r\n     <g id=\"text_2\">\r\n      <!-- 250 -->\r\n      <g transform=\"translate(105.185053 391.158437)scale(0.1 -0.1)\">\r\n       <defs>\r\n        <path d=\"M 19.1875 8.296875 \r\nL 53.609375 8.296875 \r\nL 53.609375 0 \r\nL 7.328125 0 \r\nL 7.328125 8.296875 \r\nQ 12.9375 14.109375 22.625 23.890625 \r\nQ 32.328125 33.6875 34.8125 36.53125 \r\nQ 39.546875 41.84375 41.421875 45.53125 \r\nQ 43.3125 49.21875 43.3125 52.78125 \r\nQ 43.3125 58.59375 39.234375 62.25 \r\nQ 35.15625 65.921875 28.609375 65.921875 \r\nQ 23.96875 65.921875 18.8125 64.3125 \r\nQ 13.671875 62.703125 7.8125 59.421875 \r\nL 7.8125 69.390625 \r\nQ 13.765625 71.78125 18.9375 73 \r\nQ 24.125 74.21875 28.421875 74.21875 \r\nQ 39.75 74.21875 46.484375 68.546875 \r\nQ 53.21875 62.890625 53.21875 53.421875 \r\nQ 53.21875 48.921875 51.53125 44.890625 \r\nQ 49.859375 40.875 45.40625 35.40625 \r\nQ 44.1875 33.984375 37.640625 27.21875 \r\nQ 31.109375 20.453125 19.1875 8.296875 \r\nz\r\n\" id=\"DejaVuSans-50\"/>\r\n        <path d=\"M 10.796875 72.90625 \r\nL 49.515625 72.90625 \r\nL 49.515625 64.59375 \r\nL 19.828125 64.59375 \r\nL 19.828125 46.734375 \r\nQ 21.96875 47.46875 24.109375 47.828125 \r\nQ 26.265625 48.1875 28.421875 48.1875 \r\nQ 40.625 48.1875 47.75 41.5 \r\nQ 54.890625 34.8125 54.890625 23.390625 \r\nQ 54.890625 11.625 47.5625 5.09375 \r\nQ 40.234375 -1.421875 26.90625 -1.421875 \r\nQ 22.3125 -1.421875 17.546875 -0.640625 \r\nQ 12.796875 0.140625 7.71875 1.703125 \r\nL 7.71875 11.625 \r\nQ 12.109375 9.234375 16.796875 8.0625 \r\nQ 21.484375 6.890625 26.703125 6.890625 \r\nQ 35.15625 6.890625 40.078125 11.328125 \r\nQ 45.015625 15.765625 45.015625 23.390625 \r\nQ 45.015625 31 40.078125 35.4375 \r\nQ 35.15625 39.890625 26.703125 39.890625 \r\nQ 22.75 39.890625 18.8125 39.015625 \r\nQ 14.890625 38.140625 10.796875 36.28125 \r\nz\r\n\" id=\"DejaVuSans-53\"/>\r\n       </defs>\r\n       <use xlink:href=\"#DejaVuSans-50\"/>\r\n       <use x=\"63.623047\" xlink:href=\"#DejaVuSans-53\"/>\r\n       <use x=\"127.246094\" xlink:href=\"#DejaVuSans-48\"/>\r\n      </g>\r\n     </g>\r\n    </g>\r\n    <g id=\"xtick_3\">\r\n     <g id=\"line2d_3\">\r\n      <g>\r\n       <use style=\"stroke:#000000;stroke-width:0.8;\" x=\"160.867575\" xlink:href=\"#m61d73a1f66\" y=\"376.56\"/>\r\n      </g>\r\n     </g>\r\n     <g id=\"text_3\">\r\n      <!-- 500 -->\r\n      <g transform=\"translate(151.323825 391.158437)scale(0.1 -0.1)\">\r\n       <use xlink:href=\"#DejaVuSans-53\"/>\r\n       <use x=\"63.623047\" xlink:href=\"#DejaVuSans-48\"/>\r\n       <use x=\"127.246094\" xlink:href=\"#DejaVuSans-48\"/>\r\n      </g>\r\n     </g>\r\n    </g>\r\n    <g id=\"xtick_4\">\r\n     <g id=\"line2d_4\">\r\n      <g>\r\n       <use style=\"stroke:#000000;stroke-width:0.8;\" x=\"207.006347\" xlink:href=\"#m61d73a1f66\" y=\"376.56\"/>\r\n      </g>\r\n     </g>\r\n     <g id=\"text_4\">\r\n      <!-- 750 -->\r\n      <g transform=\"translate(197.462597 391.158437)scale(0.1 -0.1)\">\r\n       <defs>\r\n        <path d=\"M 8.203125 72.90625 \r\nL 55.078125 72.90625 \r\nL 55.078125 68.703125 \r\nL 28.609375 0 \r\nL 18.3125 0 \r\nL 43.21875 64.59375 \r\nL 8.203125 64.59375 \r\nz\r\n\" id=\"DejaVuSans-55\"/>\r\n       </defs>\r\n       <use xlink:href=\"#DejaVuSans-55\"/>\r\n       <use x=\"63.623047\" xlink:href=\"#DejaVuSans-53\"/>\r\n       <use x=\"127.246094\" xlink:href=\"#DejaVuSans-48\"/>\r\n      </g>\r\n     </g>\r\n    </g>\r\n    <g id=\"xtick_5\">\r\n     <g id=\"line2d_5\">\r\n      <g>\r\n       <use style=\"stroke:#000000;stroke-width:0.8;\" x=\"253.145118\" xlink:href=\"#m61d73a1f66\" y=\"376.56\"/>\r\n      </g>\r\n     </g>\r\n     <g id=\"text_5\">\r\n      <!-- 1000 -->\r\n      <g transform=\"translate(240.420118 391.158437)scale(0.1 -0.1)\">\r\n       <defs>\r\n        <path d=\"M 12.40625 8.296875 \r\nL 28.515625 8.296875 \r\nL 28.515625 63.921875 \r\nL 10.984375 60.40625 \r\nL 10.984375 69.390625 \r\nL 28.421875 72.90625 \r\nL 38.28125 72.90625 \r\nL 38.28125 8.296875 \r\nL 54.390625 8.296875 \r\nL 54.390625 0 \r\nL 12.40625 0 \r\nz\r\n\" id=\"DejaVuSans-49\"/>\r\n       </defs>\r\n       <use xlink:href=\"#DejaVuSans-49\"/>\r\n       <use x=\"63.623047\" xlink:href=\"#DejaVuSans-48\"/>\r\n       <use x=\"127.246094\" xlink:href=\"#DejaVuSans-48\"/>\r\n       <use x=\"190.869141\" xlink:href=\"#DejaVuSans-48\"/>\r\n      </g>\r\n     </g>\r\n    </g>\r\n    <g id=\"xtick_6\">\r\n     <g id=\"line2d_6\">\r\n      <g>\r\n       <use style=\"stroke:#000000;stroke-width:0.8;\" x=\"299.28389\" xlink:href=\"#m61d73a1f66\" y=\"376.56\"/>\r\n      </g>\r\n     </g>\r\n     <g id=\"text_6\">\r\n      <!-- 1250 -->\r\n      <g transform=\"translate(286.55889 391.158437)scale(0.1 -0.1)\">\r\n       <use xlink:href=\"#DejaVuSans-49\"/>\r\n       <use x=\"63.623047\" xlink:href=\"#DejaVuSans-50\"/>\r\n       <use x=\"127.246094\" xlink:href=\"#DejaVuSans-53\"/>\r\n       <use x=\"190.869141\" xlink:href=\"#DejaVuSans-48\"/>\r\n      </g>\r\n     </g>\r\n    </g>\r\n    <g id=\"xtick_7\">\r\n     <g id=\"line2d_7\">\r\n      <g>\r\n       <use style=\"stroke:#000000;stroke-width:0.8;\" x=\"345.422662\" xlink:href=\"#m61d73a1f66\" y=\"376.56\"/>\r\n      </g>\r\n     </g>\r\n     <g id=\"text_7\">\r\n      <!-- 1500 -->\r\n      <g transform=\"translate(332.697662 391.158437)scale(0.1 -0.1)\">\r\n       <use xlink:href=\"#DejaVuSans-49\"/>\r\n       <use x=\"63.623047\" xlink:href=\"#DejaVuSans-53\"/>\r\n       <use x=\"127.246094\" xlink:href=\"#DejaVuSans-48\"/>\r\n       <use x=\"190.869141\" xlink:href=\"#DejaVuSans-48\"/>\r\n      </g>\r\n     </g>\r\n    </g>\r\n    <g id=\"xtick_8\">\r\n     <g id=\"line2d_8\">\r\n      <g>\r\n       <use style=\"stroke:#000000;stroke-width:0.8;\" x=\"391.561434\" xlink:href=\"#m61d73a1f66\" y=\"376.56\"/>\r\n      </g>\r\n     </g>\r\n     <g id=\"text_8\">\r\n      <!-- 1750 -->\r\n      <g transform=\"translate(378.836434 391.158437)scale(0.1 -0.1)\">\r\n       <use xlink:href=\"#DejaVuSans-49\"/>\r\n       <use x=\"63.623047\" xlink:href=\"#DejaVuSans-55\"/>\r\n       <use x=\"127.246094\" xlink:href=\"#DejaVuSans-53\"/>\r\n       <use x=\"190.869141\" xlink:href=\"#DejaVuSans-48\"/>\r\n      </g>\r\n     </g>\r\n    </g>\r\n    <g id=\"xtick_9\">\r\n     <g id=\"line2d_9\">\r\n      <g>\r\n       <use style=\"stroke:#000000;stroke-width:0.8;\" x=\"437.700206\" xlink:href=\"#m61d73a1f66\" y=\"376.56\"/>\r\n      </g>\r\n     </g>\r\n     <g id=\"text_9\">\r\n      <!-- 2000 -->\r\n      <g transform=\"translate(424.975206 391.158437)scale(0.1 -0.1)\">\r\n       <use xlink:href=\"#DejaVuSans-50\"/>\r\n       <use x=\"63.623047\" xlink:href=\"#DejaVuSans-48\"/>\r\n       <use x=\"127.246094\" xlink:href=\"#DejaVuSans-48\"/>\r\n       <use x=\"190.869141\" xlink:href=\"#DejaVuSans-48\"/>\r\n      </g>\r\n     </g>\r\n    </g>\r\n    <g id=\"text_10\">\r\n     <!-- epochs -->\r\n     <g transform=\"translate(235.220028 404.836562)scale(0.1 -0.1)\">\r\n      <defs>\r\n       <path d=\"M 56.203125 29.59375 \r\nL 56.203125 25.203125 \r\nL 14.890625 25.203125 \r\nQ 15.484375 15.921875 20.484375 11.0625 \r\nQ 25.484375 6.203125 34.421875 6.203125 \r\nQ 39.59375 6.203125 44.453125 7.46875 \r\nQ 49.3125 8.734375 54.109375 11.28125 \r\nL 54.109375 2.78125 \r\nQ 49.265625 0.734375 44.1875 -0.34375 \r\nQ 39.109375 -1.421875 33.890625 -1.421875 \r\nQ 20.796875 -1.421875 13.15625 6.1875 \r\nQ 5.515625 13.8125 5.515625 26.8125 \r\nQ 5.515625 40.234375 12.765625 48.109375 \r\nQ 20.015625 56 32.328125 56 \r\nQ 43.359375 56 49.78125 48.890625 \r\nQ 56.203125 41.796875 56.203125 29.59375 \r\nz\r\nM 47.21875 32.234375 \r\nQ 47.125 39.59375 43.09375 43.984375 \r\nQ 39.0625 48.390625 32.421875 48.390625 \r\nQ 24.90625 48.390625 20.390625 44.140625 \r\nQ 15.875 39.890625 15.1875 32.171875 \r\nz\r\n\" id=\"DejaVuSans-101\"/>\r\n       <path d=\"M 18.109375 8.203125 \r\nL 18.109375 -20.796875 \r\nL 9.078125 -20.796875 \r\nL 9.078125 54.6875 \r\nL 18.109375 54.6875 \r\nL 18.109375 46.390625 \r\nQ 20.953125 51.265625 25.265625 53.625 \r\nQ 29.59375 56 35.59375 56 \r\nQ 45.5625 56 51.78125 48.09375 \r\nQ 58.015625 40.1875 58.015625 27.296875 \r\nQ 58.015625 14.40625 51.78125 6.484375 \r\nQ 45.5625 -1.421875 35.59375 -1.421875 \r\nQ 29.59375 -1.421875 25.265625 0.953125 \r\nQ 20.953125 3.328125 18.109375 8.203125 \r\nz\r\nM 48.6875 27.296875 \r\nQ 48.6875 37.203125 44.609375 42.84375 \r\nQ 40.53125 48.484375 33.40625 48.484375 \r\nQ 26.265625 48.484375 22.1875 42.84375 \r\nQ 18.109375 37.203125 18.109375 27.296875 \r\nQ 18.109375 17.390625 22.1875 11.75 \r\nQ 26.265625 6.109375 33.40625 6.109375 \r\nQ 40.53125 6.109375 44.609375 11.75 \r\nQ 48.6875 17.390625 48.6875 27.296875 \r\nz\r\n\" id=\"DejaVuSans-112\"/>\r\n       <path d=\"M 30.609375 48.390625 \r\nQ 23.390625 48.390625 19.1875 42.75 \r\nQ 14.984375 37.109375 14.984375 27.296875 \r\nQ 14.984375 17.484375 19.15625 11.84375 \r\nQ 23.34375 6.203125 30.609375 6.203125 \r\nQ 37.796875 6.203125 41.984375 11.859375 \r\nQ 46.1875 17.53125 46.1875 27.296875 \r\nQ 46.1875 37.015625 41.984375 42.703125 \r\nQ 37.796875 48.390625 30.609375 48.390625 \r\nz\r\nM 30.609375 56 \r\nQ 42.328125 56 49.015625 48.375 \r\nQ 55.71875 40.765625 55.71875 27.296875 \r\nQ 55.71875 13.875 49.015625 6.21875 \r\nQ 42.328125 -1.421875 30.609375 -1.421875 \r\nQ 18.84375 -1.421875 12.171875 6.21875 \r\nQ 5.515625 13.875 5.515625 27.296875 \r\nQ 5.515625 40.765625 12.171875 48.375 \r\nQ 18.84375 56 30.609375 56 \r\nz\r\n\" id=\"DejaVuSans-111\"/>\r\n       <path d=\"M 48.78125 52.59375 \r\nL 48.78125 44.1875 \r\nQ 44.96875 46.296875 41.140625 47.34375 \r\nQ 37.3125 48.390625 33.40625 48.390625 \r\nQ 24.65625 48.390625 19.8125 42.84375 \r\nQ 14.984375 37.3125 14.984375 27.296875 \r\nQ 14.984375 17.28125 19.8125 11.734375 \r\nQ 24.65625 6.203125 33.40625 6.203125 \r\nQ 37.3125 6.203125 41.140625 7.25 \r\nQ 44.96875 8.296875 48.78125 10.40625 \r\nL 48.78125 2.09375 \r\nQ 45.015625 0.34375 40.984375 -0.53125 \r\nQ 36.96875 -1.421875 32.421875 -1.421875 \r\nQ 20.0625 -1.421875 12.78125 6.34375 \r\nQ 5.515625 14.109375 5.515625 27.296875 \r\nQ 5.515625 40.671875 12.859375 48.328125 \r\nQ 20.21875 56 33.015625 56 \r\nQ 37.15625 56 41.109375 55.140625 \r\nQ 45.0625 54.296875 48.78125 52.59375 \r\nz\r\n\" id=\"DejaVuSans-99\"/>\r\n       <path d=\"M 54.890625 33.015625 \r\nL 54.890625 0 \r\nL 45.90625 0 \r\nL 45.90625 32.71875 \r\nQ 45.90625 40.484375 42.875 44.328125 \r\nQ 39.84375 48.1875 33.796875 48.1875 \r\nQ 26.515625 48.1875 22.3125 43.546875 \r\nQ 18.109375 38.921875 18.109375 30.90625 \r\nL 18.109375 0 \r\nL 9.078125 0 \r\nL 9.078125 75.984375 \r\nL 18.109375 75.984375 \r\nL 18.109375 46.1875 \r\nQ 21.34375 51.125 25.703125 53.5625 \r\nQ 30.078125 56 35.796875 56 \r\nQ 45.21875 56 50.046875 50.171875 \r\nQ 54.890625 44.34375 54.890625 33.015625 \r\nz\r\n\" id=\"DejaVuSans-104\"/>\r\n       <path d=\"M 44.28125 53.078125 \r\nL 44.28125 44.578125 \r\nQ 40.484375 46.53125 36.375 47.5 \r\nQ 32.28125 48.484375 27.875 48.484375 \r\nQ 21.1875 48.484375 17.84375 46.4375 \r\nQ 14.5 44.390625 14.5 40.28125 \r\nQ 14.5 37.15625 16.890625 35.375 \r\nQ 19.28125 33.59375 26.515625 31.984375 \r\nL 29.59375 31.296875 \r\nQ 39.15625 29.25 43.1875 25.515625 \r\nQ 47.21875 21.78125 47.21875 15.09375 \r\nQ 47.21875 7.46875 41.1875 3.015625 \r\nQ 35.15625 -1.421875 24.609375 -1.421875 \r\nQ 20.21875 -1.421875 15.453125 -0.5625 \r\nQ 10.6875 0.296875 5.421875 2 \r\nL 5.421875 11.28125 \r\nQ 10.40625 8.6875 15.234375 7.390625 \r\nQ 20.0625 6.109375 24.8125 6.109375 \r\nQ 31.15625 6.109375 34.5625 8.28125 \r\nQ 37.984375 10.453125 37.984375 14.40625 \r\nQ 37.984375 18.0625 35.515625 20.015625 \r\nQ 33.0625 21.96875 24.703125 23.78125 \r\nL 21.578125 24.515625 \r\nQ 13.234375 26.265625 9.515625 29.90625 \r\nQ 5.8125 33.546875 5.8125 39.890625 \r\nQ 5.8125 47.609375 11.28125 51.796875 \r\nQ 16.75 56 26.8125 56 \r\nQ 31.78125 56 36.171875 55.265625 \r\nQ 40.578125 54.546875 44.28125 53.078125 \r\nz\r\n\" id=\"DejaVuSans-115\"/>\r\n      </defs>\r\n      <use xlink:href=\"#DejaVuSans-101\"/>\r\n      <use x=\"61.523438\" xlink:href=\"#DejaVuSans-112\"/>\r\n      <use x=\"125\" xlink:href=\"#DejaVuSans-111\"/>\r\n      <use x=\"186.181641\" xlink:href=\"#DejaVuSans-99\"/>\r\n      <use x=\"241.162109\" xlink:href=\"#DejaVuSans-104\"/>\r\n      <use x=\"304.541016\" xlink:href=\"#DejaVuSans-115\"/>\r\n     </g>\r\n    </g>\r\n   </g>\r\n   <g id=\"matplotlib.axis_2\">\r\n    <g id=\"ytick_1\">\r\n     <g id=\"line2d_10\">\r\n      <defs>\r\n       <path d=\"M 0 0 \r\nL -3.5 0 \r\n\" id=\"m2bffb63d3b\" style=\"stroke:#000000;stroke-width:0.8;\"/>\r\n      </defs>\r\n      <g>\r\n       <use style=\"stroke:#000000;stroke-width:0.8;\" x=\"50.14375\" xlink:href=\"#m2bffb63d3b\" y=\"362.869963\"/>\r\n      </g>\r\n     </g>\r\n     <g id=\"text_11\">\r\n      <!-- 0.0 -->\r\n      <g transform=\"translate(27.240625 366.669182)scale(0.1 -0.1)\">\r\n       <defs>\r\n        <path d=\"M 10.6875 12.40625 \r\nL 21 12.40625 \r\nL 21 0 \r\nL 10.6875 0 \r\nz\r\n\" id=\"DejaVuSans-46\"/>\r\n       </defs>\r\n       <use xlink:href=\"#DejaVuSans-48\"/>\r\n       <use x=\"63.623047\" xlink:href=\"#DejaVuSans-46\"/>\r\n       <use x=\"95.410156\" xlink:href=\"#DejaVuSans-48\"/>\r\n      </g>\r\n     </g>\r\n    </g>\r\n    <g id=\"ytick_2\">\r\n     <g id=\"line2d_11\">\r\n      <g>\r\n       <use style=\"stroke:#000000;stroke-width:0.8;\" x=\"50.14375\" xlink:href=\"#m2bffb63d3b\" y=\"320.050381\"/>\r\n      </g>\r\n     </g>\r\n     <g id=\"text_12\">\r\n      <!-- 2.5 -->\r\n      <g transform=\"translate(27.240625 323.8496)scale(0.1 -0.1)\">\r\n       <use xlink:href=\"#DejaVuSans-50\"/>\r\n       <use x=\"63.623047\" xlink:href=\"#DejaVuSans-46\"/>\r\n       <use x=\"95.410156\" xlink:href=\"#DejaVuSans-53\"/>\r\n      </g>\r\n     </g>\r\n    </g>\r\n    <g id=\"ytick_3\">\r\n     <g id=\"line2d_12\">\r\n      <g>\r\n       <use style=\"stroke:#000000;stroke-width:0.8;\" x=\"50.14375\" xlink:href=\"#m2bffb63d3b\" y=\"277.2308\"/>\r\n      </g>\r\n     </g>\r\n     <g id=\"text_13\">\r\n      <!-- 5.0 -->\r\n      <g transform=\"translate(27.240625 281.030018)scale(0.1 -0.1)\">\r\n       <use xlink:href=\"#DejaVuSans-53\"/>\r\n       <use x=\"63.623047\" xlink:href=\"#DejaVuSans-46\"/>\r\n       <use x=\"95.410156\" xlink:href=\"#DejaVuSans-48\"/>\r\n      </g>\r\n     </g>\r\n    </g>\r\n    <g id=\"ytick_4\">\r\n     <g id=\"line2d_13\">\r\n      <g>\r\n       <use style=\"stroke:#000000;stroke-width:0.8;\" x=\"50.14375\" xlink:href=\"#m2bffb63d3b\" y=\"234.411218\"/>\r\n      </g>\r\n     </g>\r\n     <g id=\"text_14\">\r\n      <!-- 7.5 -->\r\n      <g transform=\"translate(27.240625 238.210437)scale(0.1 -0.1)\">\r\n       <use xlink:href=\"#DejaVuSans-55\"/>\r\n       <use x=\"63.623047\" xlink:href=\"#DejaVuSans-46\"/>\r\n       <use x=\"95.410156\" xlink:href=\"#DejaVuSans-53\"/>\r\n      </g>\r\n     </g>\r\n    </g>\r\n    <g id=\"ytick_5\">\r\n     <g id=\"line2d_14\">\r\n      <g>\r\n       <use style=\"stroke:#000000;stroke-width:0.8;\" x=\"50.14375\" xlink:href=\"#m2bffb63d3b\" y=\"191.591636\"/>\r\n      </g>\r\n     </g>\r\n     <g id=\"text_15\">\r\n      <!-- 10.0 -->\r\n      <g transform=\"translate(20.878125 195.390855)scale(0.1 -0.1)\">\r\n       <use xlink:href=\"#DejaVuSans-49\"/>\r\n       <use x=\"63.623047\" xlink:href=\"#DejaVuSans-48\"/>\r\n       <use x=\"127.246094\" xlink:href=\"#DejaVuSans-46\"/>\r\n       <use x=\"159.033203\" xlink:href=\"#DejaVuSans-48\"/>\r\n      </g>\r\n     </g>\r\n    </g>\r\n    <g id=\"ytick_6\">\r\n     <g id=\"line2d_15\">\r\n      <g>\r\n       <use style=\"stroke:#000000;stroke-width:0.8;\" x=\"50.14375\" xlink:href=\"#m2bffb63d3b\" y=\"148.772054\"/>\r\n      </g>\r\n     </g>\r\n     <g id=\"text_16\">\r\n      <!-- 12.5 -->\r\n      <g transform=\"translate(20.878125 152.571273)scale(0.1 -0.1)\">\r\n       <use xlink:href=\"#DejaVuSans-49\"/>\r\n       <use x=\"63.623047\" xlink:href=\"#DejaVuSans-50\"/>\r\n       <use x=\"127.246094\" xlink:href=\"#DejaVuSans-46\"/>\r\n       <use x=\"159.033203\" xlink:href=\"#DejaVuSans-53\"/>\r\n      </g>\r\n     </g>\r\n    </g>\r\n    <g id=\"ytick_7\">\r\n     <g id=\"line2d_16\">\r\n      <g>\r\n       <use style=\"stroke:#000000;stroke-width:0.8;\" x=\"50.14375\" xlink:href=\"#m2bffb63d3b\" y=\"105.952472\"/>\r\n      </g>\r\n     </g>\r\n     <g id=\"text_17\">\r\n      <!-- 15.0 -->\r\n      <g transform=\"translate(20.878125 109.751691)scale(0.1 -0.1)\">\r\n       <use xlink:href=\"#DejaVuSans-49\"/>\r\n       <use x=\"63.623047\" xlink:href=\"#DejaVuSans-53\"/>\r\n       <use x=\"127.246094\" xlink:href=\"#DejaVuSans-46\"/>\r\n       <use x=\"159.033203\" xlink:href=\"#DejaVuSans-48\"/>\r\n      </g>\r\n     </g>\r\n    </g>\r\n    <g id=\"ytick_8\">\r\n     <g id=\"line2d_17\">\r\n      <g>\r\n       <use style=\"stroke:#000000;stroke-width:0.8;\" x=\"50.14375\" xlink:href=\"#m2bffb63d3b\" y=\"63.132891\"/>\r\n      </g>\r\n     </g>\r\n     <g id=\"text_18\">\r\n      <!-- 17.5 -->\r\n      <g transform=\"translate(20.878125 66.932109)scale(0.1 -0.1)\">\r\n       <use xlink:href=\"#DejaVuSans-49\"/>\r\n       <use x=\"63.623047\" xlink:href=\"#DejaVuSans-55\"/>\r\n       <use x=\"127.246094\" xlink:href=\"#DejaVuSans-46\"/>\r\n       <use x=\"159.033203\" xlink:href=\"#DejaVuSans-53\"/>\r\n      </g>\r\n     </g>\r\n    </g>\r\n    <g id=\"text_19\">\r\n     <!-- BCE loss -->\r\n     <g transform=\"translate(14.798438 234.720625)rotate(-90)scale(0.1 -0.1)\">\r\n      <defs>\r\n       <path d=\"M 19.671875 34.8125 \r\nL 19.671875 8.109375 \r\nL 35.5 8.109375 \r\nQ 43.453125 8.109375 47.28125 11.40625 \r\nQ 51.125 14.703125 51.125 21.484375 \r\nQ 51.125 28.328125 47.28125 31.5625 \r\nQ 43.453125 34.8125 35.5 34.8125 \r\nz\r\nM 19.671875 64.796875 \r\nL 19.671875 42.828125 \r\nL 34.28125 42.828125 \r\nQ 41.5 42.828125 45.03125 45.53125 \r\nQ 48.578125 48.25 48.578125 53.8125 \r\nQ 48.578125 59.328125 45.03125 62.0625 \r\nQ 41.5 64.796875 34.28125 64.796875 \r\nz\r\nM 9.8125 72.90625 \r\nL 35.015625 72.90625 \r\nQ 46.296875 72.90625 52.390625 68.21875 \r\nQ 58.5 63.53125 58.5 54.890625 \r\nQ 58.5 48.1875 55.375 44.234375 \r\nQ 52.25 40.28125 46.1875 39.3125 \r\nQ 53.46875 37.75 57.5 32.78125 \r\nQ 61.53125 27.828125 61.53125 20.40625 \r\nQ 61.53125 10.640625 54.890625 5.3125 \r\nQ 48.25 0 35.984375 0 \r\nL 9.8125 0 \r\nz\r\n\" id=\"DejaVuSans-66\"/>\r\n       <path d=\"M 64.40625 67.28125 \r\nL 64.40625 56.890625 \r\nQ 59.421875 61.53125 53.78125 63.8125 \r\nQ 48.140625 66.109375 41.796875 66.109375 \r\nQ 29.296875 66.109375 22.65625 58.46875 \r\nQ 16.015625 50.828125 16.015625 36.375 \r\nQ 16.015625 21.96875 22.65625 14.328125 \r\nQ 29.296875 6.6875 41.796875 6.6875 \r\nQ 48.140625 6.6875 53.78125 8.984375 \r\nQ 59.421875 11.28125 64.40625 15.921875 \r\nL 64.40625 5.609375 \r\nQ 59.234375 2.09375 53.4375 0.328125 \r\nQ 47.65625 -1.421875 41.21875 -1.421875 \r\nQ 24.65625 -1.421875 15.125 8.703125 \r\nQ 5.609375 18.84375 5.609375 36.375 \r\nQ 5.609375 53.953125 15.125 64.078125 \r\nQ 24.65625 74.21875 41.21875 74.21875 \r\nQ 47.75 74.21875 53.53125 72.484375 \r\nQ 59.328125 70.75 64.40625 67.28125 \r\nz\r\n\" id=\"DejaVuSans-67\"/>\r\n       <path d=\"M 9.8125 72.90625 \r\nL 55.90625 72.90625 \r\nL 55.90625 64.59375 \r\nL 19.671875 64.59375 \r\nL 19.671875 43.015625 \r\nL 54.390625 43.015625 \r\nL 54.390625 34.71875 \r\nL 19.671875 34.71875 \r\nL 19.671875 8.296875 \r\nL 56.78125 8.296875 \r\nL 56.78125 0 \r\nL 9.8125 0 \r\nz\r\n\" id=\"DejaVuSans-69\"/>\r\n       <path id=\"DejaVuSans-32\"/>\r\n       <path d=\"M 9.421875 75.984375 \r\nL 18.40625 75.984375 \r\nL 18.40625 0 \r\nL 9.421875 0 \r\nz\r\n\" id=\"DejaVuSans-108\"/>\r\n      </defs>\r\n      <use xlink:href=\"#DejaVuSans-66\"/>\r\n      <use x=\"66.853516\" xlink:href=\"#DejaVuSans-67\"/>\r\n      <use x=\"136.677734\" xlink:href=\"#DejaVuSans-69\"/>\r\n      <use x=\"199.861328\" xlink:href=\"#DejaVuSans-32\"/>\r\n      <use x=\"231.648438\" xlink:href=\"#DejaVuSans-108\"/>\r\n      <use x=\"259.431641\" xlink:href=\"#DejaVuSans-111\"/>\r\n      <use x=\"320.613281\" xlink:href=\"#DejaVuSans-115\"/>\r\n      <use x=\"372.712891\" xlink:href=\"#DejaVuSans-115\"/>\r\n     </g>\r\n    </g>\r\n   </g>\r\n   <g id=\"line2d_18\">\r\n    <path clip-path=\"url(#p47222b7e48)\" d=\"M 68.590031 332.177929 \r\nL 70.251027 333.52115 \r\nL 71.173802 334.605738 \r\nL 72.650243 336.557539 \r\nL 73.203908 336.779845 \r\nL 73.757573 336.981897 \r\nL 74.680349 337.391502 \r\nL 77.63323 337.896055 \r\nL 78.556006 338.266819 \r\nL 79.663336 338.904067 \r\nL 80.770667 339.576929 \r\nL 82.062552 340.18684 \r\nL 84.461769 341.667662 \r\nL 85.569099 342.540842 \r\nL 85.753654 342.424096 \r\nL 85.938209 342.731415 \r\nL 86.122764 342.733621 \r\nL 86.491874 343.102949 \r\nL 86.67643 343.107908 \r\nL 87.04554 343.400919 \r\nL 87.78376 343.771235 \r\nL 87.968315 343.920872 \r\nL 88.52198 343.974161 \r\nL 89.998421 344.632541 \r\nL 90.552086 344.880672 \r\nL 92.213082 345.587391 \r\nL 93.689523 346.196521 \r\nL 99.595286 348.572825 \r\nL 99.779841 348.509894 \r\nL 99.964396 348.780564 \r\nL 100.148951 348.77649 \r\nL 100.887171 349.103906 \r\nL 105.870159 350.822616 \r\nL 108.45393 351.680577 \r\nL 108.638485 351.650743 \r\nL 108.82304 351.453504 \r\nL 109.007595 351.579562 \r\nL 109.19215 351.908868 \r\nL 109.376705 351.798885 \r\nL 109.745815 351.996162 \r\nL 110.484036 352.250659 \r\nL 117.312574 353.953547 \r\nL 117.681684 353.681372 \r\nL 118.050794 354.1514 \r\nL 118.23535 354.027641 \r\nL 118.419905 354.22158 \r\nL 118.789015 354.268 \r\nL 119.34268 354.456784 \r\nL 119.527235 354.436276 \r\nL 120.0809 354.612268 \r\nL 122.849227 355.165371 \r\nL 125.248443 355.620755 \r\nL 128.201324 356.111728 \r\nL 128.385879 356.076294 \r\nL 128.570434 355.857106 \r\nL 128.75499 355.165129 \r\nL 129.1241 355.848825 \r\nL 129.308655 355.535528 \r\nL 129.49321 356.009217 \r\nL 129.677765 355.679603 \r\nL 129.86232 356.13716 \r\nL 130.046875 355.847697 \r\nL 130.23143 356.299786 \r\nL 130.415985 356.001314 \r\nL 130.60054 356.334927 \r\nL 130.785095 356.197362 \r\nL 130.969651 356.347655 \r\nL 131.338761 356.399388 \r\nL 132.446091 356.599956 \r\nL 132.999757 356.654929 \r\nL 133.184312 356.746616 \r\nL 133.368867 356.710792 \r\nL 133.737977 356.772724 \r\nL 134.291642 356.882326 \r\nL 136.875413 357.201856 \r\nL 140.566515 357.632305 \r\nL 144.995837 358.079683 \r\nL 145.180392 357.955218 \r\nL 145.364947 357.513113 \r\nL 145.549502 356.490322 \r\nL 145.734058 358.032482 \r\nL 145.918613 356.968929 \r\nL 146.103168 356.993316 \r\nL 146.287723 356.850195 \r\nL 146.472278 357.88371 \r\nL 146.656833 356.715019 \r\nL 146.841388 357.915797 \r\nL 147.025943 357.274437 \r\nL 147.395053 358.035759 \r\nL 147.579608 357.45514 \r\nL 147.764164 357.943658 \r\nL 147.948719 358.075575 \r\nL 148.133274 357.716634 \r\nL 148.502384 358.18666 \r\nL 148.686939 357.928979 \r\nL 149.056049 358.253135 \r\nL 149.240604 358.123502 \r\nL 149.425159 358.14218 \r\nL 149.609714 358.32039 \r\nL 149.978825 358.221949 \r\nL 150.347935 358.373412 \r\nL 150.53249 358.317812 \r\nL 150.9016 358.447977 \r\nL 151.27071 358.453915 \r\nL 152.008931 358.557032 \r\nL 152.931706 358.611243 \r\nL 153.854481 358.704141 \r\nL 156.807363 358.928623 \r\nL 165.666007 359.491817 \r\nL 166.035117 359.351131 \r\nL 166.219672 358.657728 \r\nL 166.404227 356.453542 \r\nL 166.588782 356.473696 \r\nL 166.773338 359.082466 \r\nL 166.957893 357.377709 \r\nL 167.142448 359.197288 \r\nL 167.327003 358.106402 \r\nL 167.511558 358.897708 \r\nL 167.696113 358.892883 \r\nL 167.880668 358.673989 \r\nL 168.065223 359.227771 \r\nL 168.249778 358.841447 \r\nL 168.434333 359.185627 \r\nL 168.618888 359.09941 \r\nL 168.987999 359.346607 \r\nL 169.172554 359.183116 \r\nL 169.541664 359.416578 \r\nL 169.726219 359.305876 \r\nL 170.095329 359.467693 \r\nL 170.279884 359.427874 \r\nL 170.648994 359.506511 \r\nL 175.262872 359.846533 \r\nL 183.56785 360.20545 \r\nL 203.4998 360.869094 \r\nL 209.774673 360.995727 \r\nL 209.959228 360.859098 \r\nL 210.143783 360.062891 \r\nL 210.328338 357.497877 \r\nL 210.512893 65.225455 \r\nL 210.697448 268.294558 \r\nL 210.882003 329.21753 \r\nL 211.066559 328.309462 \r\nL 211.251114 328.303569 \r\nL 211.435669 339.970324 \r\nL 211.804779 330.593068 \r\nL 212.358444 343.055988 \r\nL 212.542999 341.95121 \r\nL 212.727554 343.527345 \r\nL 212.912109 346.159678 \r\nL 213.096664 347.127675 \r\nL 213.465775 346.452671 \r\nL 213.65033 347.300191 \r\nL 214.01944 350.044031 \r\nL 214.203995 350.410103 \r\nL 214.573105 349.920022 \r\nL 214.75766 349.982687 \r\nL 215.680436 352.079156 \r\nL 216.049546 352.396661 \r\nL 216.603211 353.145838 \r\nL 217.341431 353.610713 \r\nL 217.895097 354.211153 \r\nL 220.847978 355.612226 \r\nL 222.508974 356.174799 \r\nL 225.092745 356.823108 \r\nL 229.152957 357.563223 \r\nL 234.3205 358.23922 \r\nL 240.410817 358.813535 \r\nL 248.900351 359.386327 \r\nL 260.711877 359.936355 \r\nL 274.738064 360.373444 \r\nL 296.331009 360.804855 \r\nL 322.353276 361.11612 \r\nL 370.891264 361.45525 \r\nL 437.515651 361.734545 \r\nL 437.515651 361.734545 \r\n\" style=\"fill:none;stroke:#1f77b4;stroke-linecap:square;stroke-width:1.5;\"/>\r\n   </g>\r\n   <g id=\"patch_3\">\r\n    <path d=\"M 50.14375 376.56 \r\nL 50.14375 50.4 \r\n\" style=\"fill:none;stroke:#000000;stroke-linecap:square;stroke-linejoin:miter;stroke-width:0.8;\"/>\r\n   </g>\r\n   <g id=\"patch_4\">\r\n    <path d=\"M 455.961932 376.56 \r\nL 455.961932 50.4 \r\n\" style=\"fill:none;stroke:#000000;stroke-linecap:square;stroke-linejoin:miter;stroke-width:0.8;\"/>\r\n   </g>\r\n   <g id=\"patch_5\">\r\n    <path d=\"M 50.14375 376.56 \r\nL 455.961932 376.56 \r\n\" style=\"fill:none;stroke:#000000;stroke-linecap:square;stroke-linejoin:miter;stroke-width:0.8;\"/>\r\n   </g>\r\n   <g id=\"patch_6\">\r\n    <path d=\"M 50.14375 50.4 \r\nL 455.961932 50.4 \r\n\" style=\"fill:none;stroke:#000000;stroke-linecap:square;stroke-linejoin:miter;stroke-width:0.8;\"/>\r\n   </g>\r\n   <g id=\"legend_1\">\r\n    <g id=\"patch_7\">\r\n     <path d=\"M 393.686932 73.078125 \r\nL 448.961932 73.078125 \r\nQ 450.961932 73.078125 450.961932 71.078125 \r\nL 450.961932 57.4 \r\nQ 450.961932 55.4 448.961932 55.4 \r\nL 393.686932 55.4 \r\nQ 391.686932 55.4 391.686932 57.4 \r\nL 391.686932 71.078125 \r\nQ 391.686932 73.078125 393.686932 73.078125 \r\nz\r\n\" style=\"fill:#ffffff;opacity:0.8;stroke:#cccccc;stroke-linejoin:miter;\"/>\r\n    </g>\r\n    <g id=\"line2d_19\">\r\n     <path d=\"M 395.686932 63.498437 \r\nL 415.686932 63.498437 \r\n\" style=\"fill:none;stroke:#1f77b4;stroke-linecap:square;stroke-width:1.5;\"/>\r\n    </g>\r\n    <g id=\"line2d_20\"/>\r\n    <g id=\"text_20\">\r\n     <!-- train -->\r\n     <g transform=\"translate(423.686932 66.998437)scale(0.1 -0.1)\">\r\n      <defs>\r\n       <path d=\"M 18.3125 70.21875 \r\nL 18.3125 54.6875 \r\nL 36.8125 54.6875 \r\nL 36.8125 47.703125 \r\nL 18.3125 47.703125 \r\nL 18.3125 18.015625 \r\nQ 18.3125 11.328125 20.140625 9.421875 \r\nQ 21.96875 7.515625 27.59375 7.515625 \r\nL 36.8125 7.515625 \r\nL 36.8125 0 \r\nL 27.59375 0 \r\nQ 17.1875 0 13.234375 3.875 \r\nQ 9.28125 7.765625 9.28125 18.015625 \r\nL 9.28125 47.703125 \r\nL 2.6875 47.703125 \r\nL 2.6875 54.6875 \r\nL 9.28125 54.6875 \r\nL 9.28125 70.21875 \r\nz\r\n\" id=\"DejaVuSans-116\"/>\r\n       <path d=\"M 41.109375 46.296875 \r\nQ 39.59375 47.171875 37.8125 47.578125 \r\nQ 36.03125 48 33.890625 48 \r\nQ 26.265625 48 22.1875 43.046875 \r\nQ 18.109375 38.09375 18.109375 28.8125 \r\nL 18.109375 0 \r\nL 9.078125 0 \r\nL 9.078125 54.6875 \r\nL 18.109375 54.6875 \r\nL 18.109375 46.1875 \r\nQ 20.953125 51.171875 25.484375 53.578125 \r\nQ 30.03125 56 36.53125 56 \r\nQ 37.453125 56 38.578125 55.875 \r\nQ 39.703125 55.765625 41.0625 55.515625 \r\nz\r\n\" id=\"DejaVuSans-114\"/>\r\n       <path d=\"M 34.28125 27.484375 \r\nQ 23.390625 27.484375 19.1875 25 \r\nQ 14.984375 22.515625 14.984375 16.5 \r\nQ 14.984375 11.71875 18.140625 8.90625 \r\nQ 21.296875 6.109375 26.703125 6.109375 \r\nQ 34.1875 6.109375 38.703125 11.40625 \r\nQ 43.21875 16.703125 43.21875 25.484375 \r\nL 43.21875 27.484375 \r\nz\r\nM 52.203125 31.203125 \r\nL 52.203125 0 \r\nL 43.21875 0 \r\nL 43.21875 8.296875 \r\nQ 40.140625 3.328125 35.546875 0.953125 \r\nQ 30.953125 -1.421875 24.3125 -1.421875 \r\nQ 15.921875 -1.421875 10.953125 3.296875 \r\nQ 6 8.015625 6 15.921875 \r\nQ 6 25.140625 12.171875 29.828125 \r\nQ 18.359375 34.515625 30.609375 34.515625 \r\nL 43.21875 34.515625 \r\nL 43.21875 35.40625 \r\nQ 43.21875 41.609375 39.140625 45 \r\nQ 35.0625 48.390625 27.6875 48.390625 \r\nQ 23 48.390625 18.546875 47.265625 \r\nQ 14.109375 46.140625 10.015625 43.890625 \r\nL 10.015625 52.203125 \r\nQ 14.9375 54.109375 19.578125 55.046875 \r\nQ 24.21875 56 28.609375 56 \r\nQ 40.484375 56 46.34375 49.84375 \r\nQ 52.203125 43.703125 52.203125 31.203125 \r\nz\r\n\" id=\"DejaVuSans-97\"/>\r\n       <path d=\"M 9.421875 54.6875 \r\nL 18.40625 54.6875 \r\nL 18.40625 0 \r\nL 9.421875 0 \r\nz\r\nM 9.421875 75.984375 \r\nL 18.40625 75.984375 \r\nL 18.40625 64.59375 \r\nL 9.421875 64.59375 \r\nz\r\n\" id=\"DejaVuSans-105\"/>\r\n       <path d=\"M 54.890625 33.015625 \r\nL 54.890625 0 \r\nL 45.90625 0 \r\nL 45.90625 32.71875 \r\nQ 45.90625 40.484375 42.875 44.328125 \r\nQ 39.84375 48.1875 33.796875 48.1875 \r\nQ 26.515625 48.1875 22.3125 43.546875 \r\nQ 18.109375 38.921875 18.109375 30.90625 \r\nL 18.109375 0 \r\nL 9.078125 0 \r\nL 9.078125 54.6875 \r\nL 18.109375 54.6875 \r\nL 18.109375 46.1875 \r\nQ 21.34375 51.125 25.703125 53.5625 \r\nQ 30.078125 56 35.796875 56 \r\nQ 45.21875 56 50.046875 50.171875 \r\nQ 54.890625 44.34375 54.890625 33.015625 \r\nz\r\n\" id=\"DejaVuSans-110\"/>\r\n      </defs>\r\n      <use xlink:href=\"#DejaVuSans-116\"/>\r\n      <use x=\"39.208984\" xlink:href=\"#DejaVuSans-114\"/>\r\n      <use x=\"80.322266\" xlink:href=\"#DejaVuSans-97\"/>\r\n      <use x=\"141.601562\" xlink:href=\"#DejaVuSans-105\"/>\r\n      <use x=\"169.384766\" xlink:href=\"#DejaVuSans-110\"/>\r\n     </g>\r\n    </g>\r\n   </g>\r\n  </g>\r\n  <g id=\"axes_2\">\r\n   <g id=\"patch_8\">\r\n    <path d=\"M 537.125568 376.56 \r\nL 942.94375 376.56 \r\nL 942.94375 50.4 \r\nL 537.125568 50.4 \r\nz\r\n\" style=\"fill:#ffffff;\"/>\r\n   </g>\r\n   <g id=\"matplotlib.axis_3\">\r\n    <g id=\"xtick_10\">\r\n     <g id=\"line2d_21\">\r\n      <g>\r\n       <use style=\"stroke:#000000;stroke-width:0.8;\" x=\"555.571849\" xlink:href=\"#m61d73a1f66\" y=\"376.56\"/>\r\n      </g>\r\n     </g>\r\n     <g id=\"text_21\">\r\n      <!-- 0 -->\r\n      <g transform=\"translate(552.390599 391.158437)scale(0.1 -0.1)\">\r\n       <use xlink:href=\"#DejaVuSans-48\"/>\r\n      </g>\r\n     </g>\r\n    </g>\r\n    <g id=\"xtick_11\">\r\n     <g id=\"line2d_22\">\r\n      <g>\r\n       <use style=\"stroke:#000000;stroke-width:0.8;\" x=\"601.710621\" xlink:href=\"#m61d73a1f66\" y=\"376.56\"/>\r\n      </g>\r\n     </g>\r\n     <g id=\"text_22\">\r\n      <!-- 250 -->\r\n      <g transform=\"translate(592.166871 391.158437)scale(0.1 -0.1)\">\r\n       <use xlink:href=\"#DejaVuSans-50\"/>\r\n       <use x=\"63.623047\" xlink:href=\"#DejaVuSans-53\"/>\r\n       <use x=\"127.246094\" xlink:href=\"#DejaVuSans-48\"/>\r\n      </g>\r\n     </g>\r\n    </g>\r\n    <g id=\"xtick_12\">\r\n     <g id=\"line2d_23\">\r\n      <g>\r\n       <use style=\"stroke:#000000;stroke-width:0.8;\" x=\"647.849393\" xlink:href=\"#m61d73a1f66\" y=\"376.56\"/>\r\n      </g>\r\n     </g>\r\n     <g id=\"text_23\">\r\n      <!-- 500 -->\r\n      <g transform=\"translate(638.305643 391.158437)scale(0.1 -0.1)\">\r\n       <use xlink:href=\"#DejaVuSans-53\"/>\r\n       <use x=\"63.623047\" xlink:href=\"#DejaVuSans-48\"/>\r\n       <use x=\"127.246094\" xlink:href=\"#DejaVuSans-48\"/>\r\n      </g>\r\n     </g>\r\n    </g>\r\n    <g id=\"xtick_13\">\r\n     <g id=\"line2d_24\">\r\n      <g>\r\n       <use style=\"stroke:#000000;stroke-width:0.8;\" x=\"693.988165\" xlink:href=\"#m61d73a1f66\" y=\"376.56\"/>\r\n      </g>\r\n     </g>\r\n     <g id=\"text_24\">\r\n      <!-- 750 -->\r\n      <g transform=\"translate(684.444415 391.158437)scale(0.1 -0.1)\">\r\n       <use xlink:href=\"#DejaVuSans-55\"/>\r\n       <use x=\"63.623047\" xlink:href=\"#DejaVuSans-53\"/>\r\n       <use x=\"127.246094\" xlink:href=\"#DejaVuSans-48\"/>\r\n      </g>\r\n     </g>\r\n    </g>\r\n    <g id=\"xtick_14\">\r\n     <g id=\"line2d_25\">\r\n      <g>\r\n       <use style=\"stroke:#000000;stroke-width:0.8;\" x=\"740.126937\" xlink:href=\"#m61d73a1f66\" y=\"376.56\"/>\r\n      </g>\r\n     </g>\r\n     <g id=\"text_25\">\r\n      <!-- 1000 -->\r\n      <g transform=\"translate(727.401937 391.158437)scale(0.1 -0.1)\">\r\n       <use xlink:href=\"#DejaVuSans-49\"/>\r\n       <use x=\"63.623047\" xlink:href=\"#DejaVuSans-48\"/>\r\n       <use x=\"127.246094\" xlink:href=\"#DejaVuSans-48\"/>\r\n       <use x=\"190.869141\" xlink:href=\"#DejaVuSans-48\"/>\r\n      </g>\r\n     </g>\r\n    </g>\r\n    <g id=\"xtick_15\">\r\n     <g id=\"line2d_26\">\r\n      <g>\r\n       <use style=\"stroke:#000000;stroke-width:0.8;\" x=\"786.265708\" xlink:href=\"#m61d73a1f66\" y=\"376.56\"/>\r\n      </g>\r\n     </g>\r\n     <g id=\"text_26\">\r\n      <!-- 1250 -->\r\n      <g transform=\"translate(773.540708 391.158437)scale(0.1 -0.1)\">\r\n       <use xlink:href=\"#DejaVuSans-49\"/>\r\n       <use x=\"63.623047\" xlink:href=\"#DejaVuSans-50\"/>\r\n       <use x=\"127.246094\" xlink:href=\"#DejaVuSans-53\"/>\r\n       <use x=\"190.869141\" xlink:href=\"#DejaVuSans-48\"/>\r\n      </g>\r\n     </g>\r\n    </g>\r\n    <g id=\"xtick_16\">\r\n     <g id=\"line2d_27\">\r\n      <g>\r\n       <use style=\"stroke:#000000;stroke-width:0.8;\" x=\"832.40448\" xlink:href=\"#m61d73a1f66\" y=\"376.56\"/>\r\n      </g>\r\n     </g>\r\n     <g id=\"text_27\">\r\n      <!-- 1500 -->\r\n      <g transform=\"translate(819.67948 391.158437)scale(0.1 -0.1)\">\r\n       <use xlink:href=\"#DejaVuSans-49\"/>\r\n       <use x=\"63.623047\" xlink:href=\"#DejaVuSans-53\"/>\r\n       <use x=\"127.246094\" xlink:href=\"#DejaVuSans-48\"/>\r\n       <use x=\"190.869141\" xlink:href=\"#DejaVuSans-48\"/>\r\n      </g>\r\n     </g>\r\n    </g>\r\n    <g id=\"xtick_17\">\r\n     <g id=\"line2d_28\">\r\n      <g>\r\n       <use style=\"stroke:#000000;stroke-width:0.8;\" x=\"878.543252\" xlink:href=\"#m61d73a1f66\" y=\"376.56\"/>\r\n      </g>\r\n     </g>\r\n     <g id=\"text_28\">\r\n      <!-- 1750 -->\r\n      <g transform=\"translate(865.818252 391.158437)scale(0.1 -0.1)\">\r\n       <use xlink:href=\"#DejaVuSans-49\"/>\r\n       <use x=\"63.623047\" xlink:href=\"#DejaVuSans-55\"/>\r\n       <use x=\"127.246094\" xlink:href=\"#DejaVuSans-53\"/>\r\n       <use x=\"190.869141\" xlink:href=\"#DejaVuSans-48\"/>\r\n      </g>\r\n     </g>\r\n    </g>\r\n    <g id=\"xtick_18\">\r\n     <g id=\"line2d_29\">\r\n      <g>\r\n       <use style=\"stroke:#000000;stroke-width:0.8;\" x=\"924.682024\" xlink:href=\"#m61d73a1f66\" y=\"376.56\"/>\r\n      </g>\r\n     </g>\r\n     <g id=\"text_29\">\r\n      <!-- 2000 -->\r\n      <g transform=\"translate(911.957024 391.158437)scale(0.1 -0.1)\">\r\n       <use xlink:href=\"#DejaVuSans-50\"/>\r\n       <use x=\"63.623047\" xlink:href=\"#DejaVuSans-48\"/>\r\n       <use x=\"127.246094\" xlink:href=\"#DejaVuSans-48\"/>\r\n       <use x=\"190.869141\" xlink:href=\"#DejaVuSans-48\"/>\r\n      </g>\r\n     </g>\r\n    </g>\r\n    <g id=\"text_30\">\r\n     <!-- epochs -->\r\n     <g transform=\"translate(722.201847 404.836562)scale(0.1 -0.1)\">\r\n      <use xlink:href=\"#DejaVuSans-101\"/>\r\n      <use x=\"61.523438\" xlink:href=\"#DejaVuSans-112\"/>\r\n      <use x=\"125\" xlink:href=\"#DejaVuSans-111\"/>\r\n      <use x=\"186.181641\" xlink:href=\"#DejaVuSans-99\"/>\r\n      <use x=\"241.162109\" xlink:href=\"#DejaVuSans-104\"/>\r\n      <use x=\"304.541016\" xlink:href=\"#DejaVuSans-115\"/>\r\n     </g>\r\n    </g>\r\n   </g>\r\n   <g id=\"matplotlib.axis_4\">\r\n    <g id=\"ytick_9\">\r\n     <g id=\"line2d_30\">\r\n      <g>\r\n       <use style=\"stroke:#000000;stroke-width:0.8;\" x=\"537.125568\" xlink:href=\"#m2bffb63d3b\" y=\"323.783045\"/>\r\n      </g>\r\n     </g>\r\n     <g id=\"text_31\">\r\n      <!-- 0.2 -->\r\n      <g transform=\"translate(514.222443 327.582264)scale(0.1 -0.1)\">\r\n       <use xlink:href=\"#DejaVuSans-48\"/>\r\n       <use x=\"63.623047\" xlink:href=\"#DejaVuSans-46\"/>\r\n       <use x=\"95.410156\" xlink:href=\"#DejaVuSans-50\"/>\r\n      </g>\r\n     </g>\r\n    </g>\r\n    <g id=\"ytick_10\">\r\n     <g id=\"line2d_31\">\r\n      <g>\r\n       <use style=\"stroke:#000000;stroke-width:0.8;\" x=\"537.125568\" xlink:href=\"#m2bffb63d3b\" y=\"257.137117\"/>\r\n      </g>\r\n     </g>\r\n     <g id=\"text_32\">\r\n      <!-- 0.4 -->\r\n      <g transform=\"translate(514.222443 260.936336)scale(0.1 -0.1)\">\r\n       <defs>\r\n        <path d=\"M 37.796875 64.3125 \r\nL 12.890625 25.390625 \r\nL 37.796875 25.390625 \r\nz\r\nM 35.203125 72.90625 \r\nL 47.609375 72.90625 \r\nL 47.609375 25.390625 \r\nL 58.015625 25.390625 \r\nL 58.015625 17.1875 \r\nL 47.609375 17.1875 \r\nL 47.609375 0 \r\nL 37.796875 0 \r\nL 37.796875 17.1875 \r\nL 4.890625 17.1875 \r\nL 4.890625 26.703125 \r\nz\r\n\" id=\"DejaVuSans-52\"/>\r\n       </defs>\r\n       <use xlink:href=\"#DejaVuSans-48\"/>\r\n       <use x=\"63.623047\" xlink:href=\"#DejaVuSans-46\"/>\r\n       <use x=\"95.410156\" xlink:href=\"#DejaVuSans-52\"/>\r\n      </g>\r\n     </g>\r\n    </g>\r\n    <g id=\"ytick_11\">\r\n     <g id=\"line2d_32\">\r\n      <g>\r\n       <use style=\"stroke:#000000;stroke-width:0.8;\" x=\"537.125568\" xlink:href=\"#m2bffb63d3b\" y=\"190.491189\"/>\r\n      </g>\r\n     </g>\r\n     <g id=\"text_33\">\r\n      <!-- 0.6 -->\r\n      <g transform=\"translate(514.222443 194.290407)scale(0.1 -0.1)\">\r\n       <defs>\r\n        <path d=\"M 33.015625 40.375 \r\nQ 26.375 40.375 22.484375 35.828125 \r\nQ 18.609375 31.296875 18.609375 23.390625 \r\nQ 18.609375 15.53125 22.484375 10.953125 \r\nQ 26.375 6.390625 33.015625 6.390625 \r\nQ 39.65625 6.390625 43.53125 10.953125 \r\nQ 47.40625 15.53125 47.40625 23.390625 \r\nQ 47.40625 31.296875 43.53125 35.828125 \r\nQ 39.65625 40.375 33.015625 40.375 \r\nz\r\nM 52.59375 71.296875 \r\nL 52.59375 62.3125 \r\nQ 48.875 64.0625 45.09375 64.984375 \r\nQ 41.3125 65.921875 37.59375 65.921875 \r\nQ 27.828125 65.921875 22.671875 59.328125 \r\nQ 17.53125 52.734375 16.796875 39.40625 \r\nQ 19.671875 43.65625 24.015625 45.921875 \r\nQ 28.375 48.1875 33.59375 48.1875 \r\nQ 44.578125 48.1875 50.953125 41.515625 \r\nQ 57.328125 34.859375 57.328125 23.390625 \r\nQ 57.328125 12.15625 50.6875 5.359375 \r\nQ 44.046875 -1.421875 33.015625 -1.421875 \r\nQ 20.359375 -1.421875 13.671875 8.265625 \r\nQ 6.984375 17.96875 6.984375 36.375 \r\nQ 6.984375 53.65625 15.1875 63.9375 \r\nQ 23.390625 74.21875 37.203125 74.21875 \r\nQ 40.921875 74.21875 44.703125 73.484375 \r\nQ 48.484375 72.75 52.59375 71.296875 \r\nz\r\n\" id=\"DejaVuSans-54\"/>\r\n       </defs>\r\n       <use xlink:href=\"#DejaVuSans-48\"/>\r\n       <use x=\"63.623047\" xlink:href=\"#DejaVuSans-46\"/>\r\n       <use x=\"95.410156\" xlink:href=\"#DejaVuSans-54\"/>\r\n      </g>\r\n     </g>\r\n    </g>\r\n    <g id=\"ytick_12\">\r\n     <g id=\"line2d_33\">\r\n      <g>\r\n       <use style=\"stroke:#000000;stroke-width:0.8;\" x=\"537.125568\" xlink:href=\"#m2bffb63d3b\" y=\"123.84526\"/>\r\n      </g>\r\n     </g>\r\n     <g id=\"text_34\">\r\n      <!-- 0.8 -->\r\n      <g transform=\"translate(514.222443 127.644479)scale(0.1 -0.1)\">\r\n       <defs>\r\n        <path d=\"M 31.78125 34.625 \r\nQ 24.75 34.625 20.71875 30.859375 \r\nQ 16.703125 27.09375 16.703125 20.515625 \r\nQ 16.703125 13.921875 20.71875 10.15625 \r\nQ 24.75 6.390625 31.78125 6.390625 \r\nQ 38.8125 6.390625 42.859375 10.171875 \r\nQ 46.921875 13.96875 46.921875 20.515625 \r\nQ 46.921875 27.09375 42.890625 30.859375 \r\nQ 38.875 34.625 31.78125 34.625 \r\nz\r\nM 21.921875 38.8125 \r\nQ 15.578125 40.375 12.03125 44.71875 \r\nQ 8.5 49.078125 8.5 55.328125 \r\nQ 8.5 64.0625 14.71875 69.140625 \r\nQ 20.953125 74.21875 31.78125 74.21875 \r\nQ 42.671875 74.21875 48.875 69.140625 \r\nQ 55.078125 64.0625 55.078125 55.328125 \r\nQ 55.078125 49.078125 51.53125 44.71875 \r\nQ 48 40.375 41.703125 38.8125 \r\nQ 48.828125 37.15625 52.796875 32.3125 \r\nQ 56.78125 27.484375 56.78125 20.515625 \r\nQ 56.78125 9.90625 50.3125 4.234375 \r\nQ 43.84375 -1.421875 31.78125 -1.421875 \r\nQ 19.734375 -1.421875 13.25 4.234375 \r\nQ 6.78125 9.90625 6.78125 20.515625 \r\nQ 6.78125 27.484375 10.78125 32.3125 \r\nQ 14.796875 37.15625 21.921875 38.8125 \r\nz\r\nM 18.3125 54.390625 \r\nQ 18.3125 48.734375 21.84375 45.5625 \r\nQ 25.390625 42.390625 31.78125 42.390625 \r\nQ 38.140625 42.390625 41.71875 45.5625 \r\nQ 45.3125 48.734375 45.3125 54.390625 \r\nQ 45.3125 60.0625 41.71875 63.234375 \r\nQ 38.140625 66.40625 31.78125 66.40625 \r\nQ 25.390625 66.40625 21.84375 63.234375 \r\nQ 18.3125 60.0625 18.3125 54.390625 \r\nz\r\n\" id=\"DejaVuSans-56\"/>\r\n       </defs>\r\n       <use xlink:href=\"#DejaVuSans-48\"/>\r\n       <use x=\"63.623047\" xlink:href=\"#DejaVuSans-46\"/>\r\n       <use x=\"95.410156\" xlink:href=\"#DejaVuSans-56\"/>\r\n      </g>\r\n     </g>\r\n    </g>\r\n    <g id=\"ytick_13\">\r\n     <g id=\"line2d_34\">\r\n      <g>\r\n       <use style=\"stroke:#000000;stroke-width:0.8;\" x=\"537.125568\" xlink:href=\"#m2bffb63d3b\" y=\"57.199332\"/>\r\n      </g>\r\n     </g>\r\n     <g id=\"text_35\">\r\n      <!-- 1.0 -->\r\n      <g transform=\"translate(514.222443 60.998551)scale(0.1 -0.1)\">\r\n       <use xlink:href=\"#DejaVuSans-49\"/>\r\n       <use x=\"63.623047\" xlink:href=\"#DejaVuSans-46\"/>\r\n       <use x=\"95.410156\" xlink:href=\"#DejaVuSans-48\"/>\r\n      </g>\r\n     </g>\r\n    </g>\r\n    <g id=\"text_36\">\r\n     <!-- Accuracy -->\r\n     <g transform=\"translate(508.142756 236.308125)rotate(-90)scale(0.1 -0.1)\">\r\n      <defs>\r\n       <path d=\"M 34.1875 63.1875 \r\nL 20.796875 26.90625 \r\nL 47.609375 26.90625 \r\nz\r\nM 28.609375 72.90625 \r\nL 39.796875 72.90625 \r\nL 67.578125 0 \r\nL 57.328125 0 \r\nL 50.6875 18.703125 \r\nL 17.828125 18.703125 \r\nL 11.1875 0 \r\nL 0.78125 0 \r\nz\r\n\" id=\"DejaVuSans-65\"/>\r\n       <path d=\"M 8.5 21.578125 \r\nL 8.5 54.6875 \r\nL 17.484375 54.6875 \r\nL 17.484375 21.921875 \r\nQ 17.484375 14.15625 20.5 10.265625 \r\nQ 23.53125 6.390625 29.59375 6.390625 \r\nQ 36.859375 6.390625 41.078125 11.03125 \r\nQ 45.3125 15.671875 45.3125 23.6875 \r\nL 45.3125 54.6875 \r\nL 54.296875 54.6875 \r\nL 54.296875 0 \r\nL 45.3125 0 \r\nL 45.3125 8.40625 \r\nQ 42.046875 3.421875 37.71875 1 \r\nQ 33.40625 -1.421875 27.6875 -1.421875 \r\nQ 18.265625 -1.421875 13.375 4.4375 \r\nQ 8.5 10.296875 8.5 21.578125 \r\nz\r\nM 31.109375 56 \r\nz\r\n\" id=\"DejaVuSans-117\"/>\r\n       <path d=\"M 32.171875 -5.078125 \r\nQ 28.375 -14.84375 24.75 -17.8125 \r\nQ 21.140625 -20.796875 15.09375 -20.796875 \r\nL 7.90625 -20.796875 \r\nL 7.90625 -13.28125 \r\nL 13.1875 -13.28125 \r\nQ 16.890625 -13.28125 18.9375 -11.515625 \r\nQ 21 -9.765625 23.484375 -3.21875 \r\nL 25.09375 0.875 \r\nL 2.984375 54.6875 \r\nL 12.5 54.6875 \r\nL 29.59375 11.921875 \r\nL 46.6875 54.6875 \r\nL 56.203125 54.6875 \r\nz\r\n\" id=\"DejaVuSans-121\"/>\r\n      </defs>\r\n      <use xlink:href=\"#DejaVuSans-65\"/>\r\n      <use x=\"66.658203\" xlink:href=\"#DejaVuSans-99\"/>\r\n      <use x=\"121.638672\" xlink:href=\"#DejaVuSans-99\"/>\r\n      <use x=\"176.619141\" xlink:href=\"#DejaVuSans-117\"/>\r\n      <use x=\"239.998047\" xlink:href=\"#DejaVuSans-114\"/>\r\n      <use x=\"281.111328\" xlink:href=\"#DejaVuSans-97\"/>\r\n      <use x=\"342.390625\" xlink:href=\"#DejaVuSans-99\"/>\r\n      <use x=\"397.371094\" xlink:href=\"#DejaVuSans-121\"/>\r\n     </g>\r\n    </g>\r\n   </g>\r\n   <g id=\"line2d_35\">\r\n    <path clip-path=\"url(#p05fea87622)\" d=\"M 555.571849 361.734545 \r\nL 555.756404 361.734545 \r\nL 555.940959 361.193926 \r\nL 556.125514 359.197792 \r\nL 556.31007 348.884432 \r\nL 556.67918 278.520704 \r\nL 556.863735 264.547765 \r\nL 557.04829 260.8466 \r\nL 557.4174 259.723774 \r\nL 557.78651 260.30598 \r\nL 558.15562 260.51391 \r\nL 558.524731 259.806946 \r\nL 558.709286 259.931705 \r\nL 559.078396 259.76536 \r\nL 560.923947 259.76536 \r\nL 561.108502 259.640602 \r\nL 561.293057 259.76536 \r\nL 561.662167 259.515843 \r\nL 561.846722 258.850465 \r\nL 562.400387 255.981023 \r\nL 562.584942 255.315645 \r\nL 562.769498 255.440403 \r\nL 563.138608 256.230539 \r\nL 563.323163 257.145434 \r\nL 563.507718 257.18702 \r\nL 563.692273 257.686054 \r\nL 563.876828 258.559362 \r\nL 564.430493 258.725707 \r\nL 564.615048 258.684121 \r\nL 565.168714 256.97909 \r\nL 565.353269 256.147367 \r\nL 565.722379 253.444269 \r\nL 566.460599 248.537106 \r\nL 566.645154 246.66573 \r\nL 567.014265 241.176361 \r\nL 567.383375 236.89299 \r\nL 567.56793 236.934576 \r\nL 567.752485 234.688925 \r\nL 567.93704 234.106719 \r\nL 568.30615 231.73631 \r\nL 568.67526 228.658937 \r\nL 569.044371 227.536111 \r\nL 569.228926 227.245008 \r\nL 569.598036 224.874599 \r\nL 570.336256 221.298192 \r\nL 570.520811 218.387163 \r\nL 571.628142 213.230483 \r\nL 572.366362 204.954844 \r\nL 572.550917 204.705327 \r\nL 572.735472 207.283667 \r\nL 572.920027 202.251746 \r\nL 573.104582 201.960643 \r\nL 573.473693 200.214025 \r\nL 573.658248 200.089267 \r\nL 574.027358 198.217891 \r\nL 574.211913 198.508994 \r\nL 574.396468 196.845549 \r\nL 574.581023 196.762377 \r\nL 574.765578 197.302996 \r\nL 574.950133 197.178238 \r\nL 575.134688 197.344582 \r\nL 575.319244 195.847482 \r\nL 575.503799 195.556379 \r\nL 575.688354 195.805896 \r\nL 575.872909 195.140518 \r\nL 576.057464 191.813627 \r\nL 576.242019 191.772041 \r\nL 576.795684 190.274941 \r\nL 576.980239 190.524457 \r\nL 577.164794 190.399699 \r\nL 577.533905 188.154048 \r\nL 577.71846 186.532189 \r\nL 578.08757 186.074742 \r\nL 578.45668 182.706265 \r\nL 578.82579 181.625026 \r\nL 579.010345 181.541854 \r\nL 579.1949 181.292337 \r\nL 579.748566 179.129858 \r\nL 579.933121 178.506067 \r\nL 580.302231 175.927727 \r\nL 580.671341 174.846487 \r\nL 580.855896 172.725595 \r\nL 581.409561 170.604702 \r\nL 581.594117 170.479944 \r\nL 581.963227 168.899671 \r\nL 582.886002 166.196573 \r\nL 583.255112 164.782644 \r\nL 583.624222 163.826163 \r\nL 584.177888 161.455754 \r\nL 584.362443 161.164651 \r\nL 585.285218 158.212036 \r\nL 585.469773 158.212036 \r\nL 586.023439 155.841627 \r\nL 586.207994 154.178182 \r\nL 586.392549 154.677215 \r\nL 586.577104 154.219768 \r\nL 586.761659 155.841627 \r\nL 586.946214 151.974117 \r\nL 587.130769 151.766186 \r\nL 587.315324 151.849359 \r\nL 587.499879 151.391911 \r\nL 587.868989 149.14626 \r\nL 588.2381 148.896744 \r\nL 588.422655 148.023435 \r\nL 588.791765 147.399643 \r\nL 589.160875 145.569853 \r\nL 589.34543 145.07082 \r\nL 589.529985 145.902542 \r\nL 589.71454 144.031167 \r\nL 589.899095 143.656891 \r\nL 590.083651 142.949927 \r\nL 590.268206 143.490547 \r\nL 590.452761 141.993446 \r\nL 590.637316 141.494413 \r\nL 590.821871 142.159791 \r\nL 591.375536 140.163657 \r\nL 591.560091 140.621104 \r\nL 591.744646 138.832901 \r\nL 591.929201 138.749728 \r\nL 592.113756 138.791315 \r\nL 592.298312 137.543731 \r\nL 592.667422 136.919939 \r\nL 592.851977 136.296147 \r\nL 593.036532 136.504078 \r\nL 593.221087 136.337733 \r\nL 593.405642 135.339666 \r\nL 593.590197 135.29808 \r\nL 593.774752 135.048563 \r\nL 593.959307 134.21684 \r\nL 594.143862 134.383185 \r\nL 594.328418 133.509876 \r\nL 594.882083 132.553395 \r\nL 595.066638 131.804845 \r\nL 595.251193 131.888017 \r\nL 595.435748 130.058228 \r\nL 595.804858 131.804845 \r\nL 595.989413 132.345465 \r\nL 596.173968 128.519541 \r\nL 596.543079 128.394783 \r\nL 596.912189 127.147199 \r\nL 597.096744 126.232304 \r\nL 597.281299 127.313543 \r\nL 597.465854 124.98472 \r\nL 597.650409 125.026306 \r\nL 597.834964 125.691684 \r\nL 598.204074 123.820309 \r\nL 598.388629 123.113344 \r\nL 598.573185 123.653964 \r\nL 598.75774 122.323208 \r\nL 598.942295 121.948933 \r\nL 599.12685 122.489552 \r\nL 599.311405 122.115277 \r\nL 599.49596 121.241969 \r\nL 599.680515 121.366727 \r\nL 600.23418 120.077557 \r\nL 600.418735 118.871559 \r\nL 600.603291 119.412179 \r\nL 600.972401 117.956665 \r\nL 601.156956 117.915078 \r\nL 601.341511 117.748734 \r\nL 602.079731 115.336738 \r\nL 602.264286 115.544669 \r\nL 602.448841 114.920877 \r\nL 602.817952 114.46343 \r\nL 603.002507 114.005982 \r\nL 603.187062 114.130741 \r\nL 603.556172 113.38219 \r\nL 603.740727 113.132674 \r\nL 604.109837 112.259365 \r\nL 604.663502 116.043703 \r\nL 604.848058 112.342537 \r\nL 605.032613 110.928609 \r\nL 605.217168 111.843504 \r\nL 605.401723 111.469229 \r\nL 605.586278 111.469229 \r\nL 605.770833 110.387989 \r\nL 606.509053 109.098819 \r\nL 606.693608 109.223578 \r\nL 606.878163 108.76613 \r\nL 607.062719 107.518546 \r\nL 607.431829 107.892822 \r\nL 607.800939 106.270963 \r\nL 607.985494 105.730343 \r\nL 608.170049 106.603652 \r\nL 608.354604 105.356068 \r\nL 608.723714 105.189723 \r\nL 608.908269 105.314482 \r\nL 609.092825 104.441173 \r\nL 609.27738 104.773862 \r\nL 609.64649 104.565931 \r\nL 609.831045 103.900553 \r\nL 610.0156 103.817381 \r\nL 610.200155 104.191656 \r\nL 610.38471 103.276761 \r\nL 610.569265 102.944072 \r\nL 610.75382 103.235175 \r\nL 611.307486 102.278694 \r\nL 611.492041 102.403453 \r\nL 611.861151 101.946005 \r\nL 612.045706 102.070764 \r\nL 612.414816 101.114283 \r\nL 612.599371 101.072697 \r\nL 613.153036 99.991457 \r\nL 613.337592 100.407319 \r\nL 613.522147 99.575596 \r\nL 613.706702 99.741941 \r\nL 614.075812 98.868632 \r\nL 614.260367 98.99339 \r\nL 614.444922 98.286426 \r\nL 614.629477 98.702287 \r\nL 614.814032 97.787393 \r\nL 614.998587 98.535943 \r\nL 615.183142 97.371531 \r\nL 615.367698 99.53401 \r\nL 615.552253 100.033043 \r\nL 615.736808 106.229377 \r\nL 616.105918 99.949871 \r\nL 616.290473 103.817381 \r\nL 616.475028 99.492424 \r\nL 616.659583 101.654902 \r\nL 616.844138 98.203254 \r\nL 617.028693 101.946005 \r\nL 617.213248 97.038842 \r\nL 617.397803 99.076563 \r\nL 617.582359 96.456636 \r\nL 617.766914 98.161668 \r\nL 617.951469 96.539809 \r\nL 618.136024 96.581395 \r\nL 618.505134 95.749672 \r\nL 618.689689 96.040775 \r\nL 618.874244 94.460502 \r\nL 619.243354 95.167467 \r\nL 619.612465 93.919883 \r\nL 619.79702 93.919883 \r\nL 619.981575 94.543675 \r\nL 620.16613 93.587194 \r\nL 620.350685 93.462435 \r\nL 620.53524 92.963402 \r\nL 620.719795 94.044641 \r\nL 621.088905 92.713885 \r\nL 621.27346 92.672299 \r\nL 621.458015 93.004988 \r\nL 621.827126 92.006921 \r\nL 622.565346 91.216784 \r\nL 622.749901 91.341543 \r\nL 622.934456 90.925681 \r\nL 623.119011 91.05044 \r\nL 623.488121 90.426648 \r\nL 623.672676 90.468234 \r\nL 623.857232 90.135545 \r\nL 624.041787 90.177131 \r\nL 624.226342 89.886028 \r\nL 624.780007 89.678098 \r\nL 625.333672 89.22065 \r\nL 625.518227 89.345409 \r\nL 625.702782 88.971133 \r\nL 625.887337 89.01272 \r\nL 626.441003 88.555272 \r\nL 626.625558 88.721617 \r\nL 626.810113 88.222583 \r\nL 627.179223 88.222583 \r\nL 627.548333 87.557205 \r\nL 627.732888 87.557205 \r\nL 628.840219 86.808655 \r\nL 629.024774 86.933413 \r\nL 629.393884 86.600724 \r\nL 629.578439 86.600724 \r\nL 629.947549 86.351207 \r\nL 630.132105 86.309621 \r\nL 630.31666 86.143277 \r\nL 630.501215 86.143277 \r\nL 630.68577 85.935346 \r\nL 630.870325 85.976932 \r\nL 631.05488 85.769002 \r\nL 631.239435 85.810588 \r\nL 631.42399 85.561071 \r\nL 631.7931 85.602657 \r\nL 631.977655 85.14521 \r\nL 632.346766 90.010787 \r\nL 632.531321 98.161668 \r\nL 632.715876 86.351207 \r\nL 632.900431 94.876364 \r\nL 633.084986 94.585261 \r\nL 633.269541 96.498223 \r\nL 633.454096 87.515619 \r\nL 633.638651 97.205187 \r\nL 633.823206 87.973066 \r\nL 634.007761 93.08816 \r\nL 634.192316 91.092026 \r\nL 634.376872 86.683896 \r\nL 634.561427 91.092026 \r\nL 634.745982 87.598791 \r\nL 634.930537 86.850241 \r\nL 635.115092 90.884095 \r\nL 635.484202 84.854107 \r\nL 635.668757 87.18293 \r\nL 636.037867 85.14521 \r\nL 636.222422 87.307688 \r\nL 636.406977 87.432447 \r\nL 636.591533 84.521418 \r\nL 636.776088 84.563004 \r\nL 636.960643 84.895693 \r\nL 637.145198 84.022384 \r\nL 637.329753 84.355073 \r\nL 637.514308 85.228382 \r\nL 637.883418 83.065903 \r\nL 638.067973 83.564937 \r\nL 638.252528 83.190662 \r\nL 638.437083 83.357006 \r\nL 638.621639 83.814454 \r\nL 638.806194 83.523351 \r\nL 639.175304 82.234181 \r\nL 639.359859 82.109422 \r\nL 639.544414 82.317353 \r\nL 639.728969 82.857973 \r\nL 639.913524 82.941145 \r\nL 640.098079 82.02625 \r\nL 640.282634 81.859906 \r\nL 640.651744 82.02625 \r\nL 640.8363 82.192595 \r\nL 641.020855 82.109422 \r\nL 641.57452 81.402458 \r\nL 641.759075 81.527217 \r\nL 641.94363 81.48563 \r\nL 642.128185 81.2777 \r\nL 642.31274 81.2777 \r\nL 642.497295 80.986597 \r\nL 642.68185 80.986597 \r\nL 642.866406 81.111355 \r\nL 643.050961 80.820252 \r\nL 643.235516 80.778666 \r\nL 643.604626 80.404391 \r\nL 643.789181 80.404391 \r\nL 644.158291 80.279633 \r\nL 644.896512 79.863772 \r\nL 645.081067 79.739013 \r\nL 645.450177 79.780599 \r\nL 645.819287 79.614255 \r\nL 646.003842 79.323152 \r\nL 646.372952 79.406324 \r\nL 647.111173 79.156807 \r\nL 647.480283 79.032049 \r\nL 648.033948 78.616188 \r\nL 648.956723 78.449843 \r\nL 649.325834 78.15874 \r\nL 650.986829 77.826051 \r\nL 651.171384 77.618121 \r\nL 651.35594 77.742879 \r\nL 651.540495 77.41019 \r\nL 651.72505 77.534948 \r\nL 651.909605 77.368604 \r\nL 652.09416 77.451776 \r\nL 652.278715 77.077501 \r\nL 652.46327 77.368604 \r\nL 652.647825 76.994329 \r\nL 652.83238 77.243845 \r\nL 653.016935 77.95081 \r\nL 653.20149 85.103624 \r\nL 653.386046 99.866699 \r\nL 653.570601 100.116216 \r\nL 653.755156 80.653908 \r\nL 653.939711 94.460502 \r\nL 654.124266 79.739013 \r\nL 654.308821 89.054306 \r\nL 654.493376 83.107489 \r\nL 654.677931 82.56687 \r\nL 654.862486 84.770935 \r\nL 655.047041 80.362805 \r\nL 655.231596 83.689695 \r\nL 655.416151 80.653908 \r\nL 655.600707 81.111355 \r\nL 655.969817 78.907291 \r\nL 656.154372 80.445977 \r\nL 656.523482 78.325085 \r\nL 656.708037 78.990463 \r\nL 656.892592 77.992396 \r\nL 657.077147 78.117154 \r\nL 657.261702 78.533015 \r\nL 657.446257 77.41019 \r\nL 657.630813 77.077501 \r\nL 657.999923 76.952743 \r\nL 658.184478 77.867637 \r\nL 658.553588 76.578467 \r\nL 658.738143 76.827984 \r\nL 658.922698 76.453709 \r\nL 659.476363 76.245778 \r\nL 659.660919 75.871503 \r\nL 660.214584 76.037848 \r\nL 660.399139 75.954676 \r\nL 660.583694 75.455642 \r\nL 660.768249 75.497228 \r\nL 660.952804 75.414056 \r\nL 661.321914 75.455642 \r\nL 661.87558 75.206125 \r\nL 662.060135 75.247711 \r\nL 662.98291 74.748678 \r\nL 663.167465 74.582333 \r\nL 663.35202 74.915022 \r\nL 663.536575 74.915022 \r\nL 664.274796 74.540747 \r\nL 664.643906 74.540747 \r\nL 665.013016 74.457575 \r\nL 665.566681 74.208058 \r\nL 666.120347 74.249644 \r\nL 666.489457 74.208058 \r\nL 666.674012 74.249644 \r\nL 667.043122 74.0833 \r\nL 667.227677 74.166472 \r\nL 668.335008 73.916955 \r\nL 668.704118 73.709025 \r\nL 669.073228 73.792197 \r\nL 669.626893 73.584266 \r\nL 670.365114 73.584266 \r\nL 671.103334 73.209991 \r\nL 672.39522 73.126819 \r\nL 674.425325 72.586199 \r\nL 674.794436 72.461441 \r\nL 675.348101 72.419855 \r\nL 675.717211 72.25351 \r\nL 676.270876 72.170338 \r\nL 678.670093 71.629718 \r\nL 679.039203 71.421788 \r\nL 682.730304 70.673237 \r\nL 683.28397 70.590065 \r\nL 683.65308 70.382134 \r\nL 684.3913 70.298962 \r\nL 684.76041 70.174204 \r\nL 685.129521 70.091031 \r\nL 686.790516 69.799929 \r\nL 687.713292 69.716756 \r\nL 690.481618 69.176137 \r\nL 691.773504 69.092964 \r\nL 693.4345 68.801862 \r\nL 694.17272 68.718689 \r\nL 695.095495 68.593931 \r\nL 696.756491 68.552345 \r\nL 696.941046 70.049445 \r\nL 697.125601 74.499161 \r\nL 697.310156 89.054306 \r\nL 697.494711 289.333097 \r\nL 697.679267 258.309846 \r\nL 697.863822 153.970251 \r\nL 698.048377 167.277812 \r\nL 698.232932 171.644355 \r\nL 698.417487 153.679148 \r\nL 698.786597 176.842621 \r\nL 698.971152 167.527329 \r\nL 699.155707 146.734265 \r\nL 699.340262 140.496346 \r\nL 699.524817 144.114339 \r\nL 699.709372 142.575652 \r\nL 699.893928 138.62497 \r\nL 700.078483 139.91414 \r\nL 700.447593 147.940263 \r\nL 700.632148 147.025368 \r\nL 701.001258 132.387051 \r\nL 701.185813 129.642366 \r\nL 701.370368 130.432503 \r\nL 701.554923 130.307744 \r\nL 701.739478 130.432503 \r\nL 701.924034 127.438302 \r\nL 702.293144 125.317409 \r\nL 702.477699 125.275823 \r\nL 702.662254 125.899615 \r\nL 702.846809 125.650098 \r\nL 703.031364 124.901548 \r\nL 703.400474 121.907347 \r\nL 703.585029 121.907347 \r\nL 704.32325 118.455698 \r\nL 704.876915 114.089155 \r\nL 705.06147 113.506949 \r\nL 705.246025 113.299018 \r\nL 705.43058 113.299018 \r\nL 705.615135 113.17426 \r\nL 705.984245 110.720678 \r\nL 706.537911 109.389922 \r\nL 707.276131 106.769996 \r\nL 707.460686 106.645238 \r\nL 707.645241 105.97986 \r\nL 707.829796 105.771929 \r\nL 708.014351 105.189723 \r\nL 708.198907 104.981793 \r\nL 708.383462 104.524345 \r\nL 708.752572 103.40152 \r\nL 708.937127 103.235175 \r\nL 709.675347 101.488558 \r\nL 709.859902 100.615249 \r\nL 710.044457 100.448905 \r\nL 710.413568 99.949871 \r\nL 710.598123 99.949871 \r\nL 711.336343 98.24484 \r\nL 711.520898 98.203254 \r\nL 711.705453 97.953737 \r\nL 712.074563 97.122015 \r\nL 712.628229 96.498223 \r\nL 713.366449 95.458569 \r\nL 713.920114 94.959536 \r\nL 714.104669 94.585261 \r\nL 714.473779 94.37733 \r\nL 715.396555 93.171332 \r\nL 716.134775 92.131679 \r\nL 716.31933 91.507887 \r\nL 716.503885 91.383129 \r\nL 716.872996 90.884095 \r\nL 717.426661 90.592992 \r\nL 718.903102 88.763203 \r\nL 719.087657 88.721617 \r\nL 720.010432 87.973066 \r\nL 720.194987 87.889894 \r\nL 720.564097 87.349275 \r\nL 720.933208 86.850241 \r\nL 721.855983 86.43438 \r\nL 722.225093 86.143277 \r\nL 722.409648 86.060105 \r\nL 722.778758 85.602657 \r\nL 722.963314 85.602657 \r\nL 723.147869 85.436313 \r\nL 723.332424 85.436313 \r\nL 723.701534 85.103624 \r\nL 724.993419 84.563004 \r\nL 725.36253 84.147143 \r\nL 725.73164 83.85604 \r\nL 725.916195 83.85604 \r\nL 726.10075 83.564937 \r\nL 726.285305 83.523351 \r\nL 726.654415 83.31542 \r\nL 727.023525 83.065903 \r\nL 728.684521 82.067836 \r\nL 728.869076 82.067836 \r\nL 729.238186 81.693561 \r\nL 729.791852 81.48563 \r\nL 729.976407 81.48563 \r\nL 730.530072 81.111355 \r\nL 731.083737 80.820252 \r\nL 732.375623 80.445977 \r\nL 736.804945 78.491429 \r\nL 736.9895 78.491429 \r\nL 737.35861 78.325085 \r\nL 737.72772 78.200326 \r\nL 738.096831 78.033982 \r\nL 738.465941 77.867637 \r\nL 739.757826 77.327018 \r\nL 740.126937 77.327018 \r\nL 740.496047 77.119087 \r\nL 741.787932 76.744812 \r\nL 742.157043 76.536881 \r\nL 743.633483 76.12102 \r\nL 744.187149 75.954676 \r\nL 744.556259 75.788331 \r\nL 744.925369 75.621986 \r\nL 745.848144 75.37247 \r\nL 746.40181 75.122953 \r\nL 746.955475 75.164539 \r\nL 747.14003 74.998195 \r\nL 747.324585 74.998195 \r\nL 747.693695 74.790264 \r\nL 748.24736 74.623919 \r\nL 749.170136 74.332817 \r\nL 749.354691 74.249644 \r\nL 749.723801 74.249644 \r\nL 750.092911 74.166472 \r\nL 750.831132 73.958541 \r\nL 751.015687 73.709025 \r\nL 754.891344 72.918888 \r\nL 756.183229 72.835716 \r\nL 760.981662 71.837649 \r\nL 761.350772 71.754477 \r\nL 761.719882 71.629718 \r\nL 762.642657 71.546546 \r\nL 763.011767 71.50496 \r\nL 763.380878 71.213857 \r\nL 766.887424 70.506893 \r\nL 767.994755 70.423721 \r\nL 768.732975 70.340548 \r\nL 770.209416 70.257376 \r\nL 770.578526 70.132618 \r\nL 770.947636 70.049445 \r\nL 771.870412 69.924687 \r\nL 775.192403 69.841515 \r\nL 775.746069 69.799929 \r\nL 776.668844 69.716756 \r\nL 777.776174 69.550412 \r\nL 780.544501 69.508826 \r\nL 780.913611 69.425653 \r\nL 782.020941 69.342481 \r\nL 783.312827 69.134551 \r\nL 784.604713 69.134551 \r\nL 785.158378 68.885034 \r\nL 788.295814 68.801862 \r\nL 788.84948 68.760275 \r\nL 794.017022 68.677103 \r\nL 794.386132 68.593931 \r\nL 795.493463 68.427586 \r\nL 796.416238 68.344414 \r\nL 796.969904 68.302828 \r\nL 798.815454 68.219656 \r\nL 799.36912 68.17807 \r\nL 800.84556 68.094897 \r\nL 801.583781 68.011725 \r\nL 802.875666 67.928553 \r\nL 803.798442 67.803794 \r\nL 804.905772 67.720622 \r\nL 805.459438 67.679036 \r\nL 813.948972 67.595864 \r\nL 814.502637 67.554278 \r\nL 817.270963 67.471105 \r\nL 817.824628 67.429519 \r\nL 820.03929 67.346347 \r\nL 820.77751 67.263175 \r\nL 822.807616 67.180003 \r\nL 823.361281 67.138416 \r\nL 827.052383 67.055244 \r\nL 827.606048 67.013658 \r\nL 832.589035 66.930486 \r\nL 833.142701 66.8889 \r\nL 839.971239 66.805727 \r\nL 840.524904 66.764141 \r\nL 858.795858 66.680969 \r\nL 859.164968 66.556211 \r\nL 861.379629 66.556211 \r\nL 861.564184 66.680969 \r\nL 862.117849 66.473038 \r\nL 865.993506 66.473038 \r\nL 866.178061 66.34828 \r\nL 866.547172 66.473038 \r\nL 866.731727 66.473038 \r\nL 867.100837 66.34828 \r\nL 872.452934 66.34828 \r\nL 872.822045 66.181935 \r\nL 873.191155 66.181935 \r\nL 873.560265 66.306694 \r\nL 874.298485 66.306694 \r\nL 874.667595 66.181935 \r\nL 874.85215 66.181935 \r\nL 875.221261 66.306694 \r\nL 875.774926 66.306694 \r\nL 875.959481 66.140349 \r\nL 876.328591 66.265108 \r\nL 876.513146 66.265108 \r\nL 876.882256 66.140349 \r\nL 877.066812 66.098763 \r\nL 877.251367 66.223522 \r\nL 878.174142 66.057177 \r\nL 878.543252 66.140349 \r\nL 878.912362 66.057177 \r\nL 879.281473 65.974005 \r\nL 886.110011 65.890833 \r\nL 886.663676 65.849246 \r\nL 890.170223 65.849246 \r\nL 890.539333 65.682902 \r\nL 893.492214 65.59973 \r\nL 894.41499 65.474971 \r\nL 903.642744 65.391799 \r\nL 904.196409 65.350213 \r\nL 920.252702 65.267041 \r\nL 920.806367 65.225455 \r\nL 924.497469 65.225455 \r\nL 924.497469 65.225455 \r\n\" style=\"fill:none;stroke:#1f77b4;stroke-linecap:square;stroke-width:1.5;\"/>\r\n   </g>\r\n   <g id=\"patch_9\">\r\n    <path d=\"M 537.125568 376.56 \r\nL 537.125568 50.4 \r\n\" style=\"fill:none;stroke:#000000;stroke-linecap:square;stroke-linejoin:miter;stroke-width:0.8;\"/>\r\n   </g>\r\n   <g id=\"patch_10\">\r\n    <path d=\"M 942.94375 376.56 \r\nL 942.94375 50.4 \r\n\" style=\"fill:none;stroke:#000000;stroke-linecap:square;stroke-linejoin:miter;stroke-width:0.8;\"/>\r\n   </g>\r\n   <g id=\"patch_11\">\r\n    <path d=\"M 537.125568 376.56 \r\nL 942.94375 376.56 \r\n\" style=\"fill:none;stroke:#000000;stroke-linecap:square;stroke-linejoin:miter;stroke-width:0.8;\"/>\r\n   </g>\r\n   <g id=\"patch_12\">\r\n    <path d=\"M 537.125568 50.4 \r\nL 942.94375 50.4 \r\n\" style=\"fill:none;stroke:#000000;stroke-linecap:square;stroke-linejoin:miter;stroke-width:0.8;\"/>\r\n   </g>\r\n   <g id=\"legend_2\">\r\n    <g id=\"patch_13\">\r\n     <path d=\"M 544.125568 73.078125 \r\nL 599.400568 73.078125 \r\nQ 601.400568 73.078125 601.400568 71.078125 \r\nL 601.400568 57.4 \r\nQ 601.400568 55.4 599.400568 55.4 \r\nL 544.125568 55.4 \r\nQ 542.125568 55.4 542.125568 57.4 \r\nL 542.125568 71.078125 \r\nQ 542.125568 73.078125 544.125568 73.078125 \r\nz\r\n\" style=\"fill:#ffffff;opacity:0.8;stroke:#cccccc;stroke-linejoin:miter;\"/>\r\n    </g>\r\n    <g id=\"line2d_36\">\r\n     <path d=\"M 546.125568 63.498437 \r\nL 566.125568 63.498437 \r\n\" style=\"fill:none;stroke:#1f77b4;stroke-linecap:square;stroke-width:1.5;\"/>\r\n    </g>\r\n    <g id=\"line2d_37\"/>\r\n    <g id=\"text_37\">\r\n     <!-- train -->\r\n     <g transform=\"translate(574.125568 66.998437)scale(0.1 -0.1)\">\r\n      <use xlink:href=\"#DejaVuSans-116\"/>\r\n      <use x=\"39.208984\" xlink:href=\"#DejaVuSans-114\"/>\r\n      <use x=\"80.322266\" xlink:href=\"#DejaVuSans-97\"/>\r\n      <use x=\"141.601562\" xlink:href=\"#DejaVuSans-105\"/>\r\n      <use x=\"169.384766\" xlink:href=\"#DejaVuSans-110\"/>\r\n     </g>\r\n    </g>\r\n   </g>\r\n  </g>\r\n  <g id=\"text_38\">\r\n   <!-- Loss and accuracy -->\r\n   <g transform=\"translate(426.809687 16.318125)scale(0.12 -0.12)\">\r\n    <defs>\r\n     <path d=\"M 9.8125 72.90625 \r\nL 19.671875 72.90625 \r\nL 19.671875 8.296875 \r\nL 55.171875 8.296875 \r\nL 55.171875 0 \r\nL 9.8125 0 \r\nz\r\n\" id=\"DejaVuSans-76\"/>\r\n     <path d=\"M 45.40625 46.390625 \r\nL 45.40625 75.984375 \r\nL 54.390625 75.984375 \r\nL 54.390625 0 \r\nL 45.40625 0 \r\nL 45.40625 8.203125 \r\nQ 42.578125 3.328125 38.25 0.953125 \r\nQ 33.9375 -1.421875 27.875 -1.421875 \r\nQ 17.96875 -1.421875 11.734375 6.484375 \r\nQ 5.515625 14.40625 5.515625 27.296875 \r\nQ 5.515625 40.1875 11.734375 48.09375 \r\nQ 17.96875 56 27.875 56 \r\nQ 33.9375 56 38.25 53.625 \r\nQ 42.578125 51.265625 45.40625 46.390625 \r\nz\r\nM 14.796875 27.296875 \r\nQ 14.796875 17.390625 18.875 11.75 \r\nQ 22.953125 6.109375 30.078125 6.109375 \r\nQ 37.203125 6.109375 41.296875 11.75 \r\nQ 45.40625 17.390625 45.40625 27.296875 \r\nQ 45.40625 37.203125 41.296875 42.84375 \r\nQ 37.203125 48.484375 30.078125 48.484375 \r\nQ 22.953125 48.484375 18.875 42.84375 \r\nQ 14.796875 37.203125 14.796875 27.296875 \r\nz\r\n\" id=\"DejaVuSans-100\"/>\r\n    </defs>\r\n    <use xlink:href=\"#DejaVuSans-76\"/>\r\n    <use x=\"53.962891\" xlink:href=\"#DejaVuSans-111\"/>\r\n    <use x=\"115.144531\" xlink:href=\"#DejaVuSans-115\"/>\r\n    <use x=\"167.244141\" xlink:href=\"#DejaVuSans-115\"/>\r\n    <use x=\"219.34375\" xlink:href=\"#DejaVuSans-32\"/>\r\n    <use x=\"251.130859\" xlink:href=\"#DejaVuSans-97\"/>\r\n    <use x=\"312.410156\" xlink:href=\"#DejaVuSans-110\"/>\r\n    <use x=\"375.789062\" xlink:href=\"#DejaVuSans-100\"/>\r\n    <use x=\"439.265625\" xlink:href=\"#DejaVuSans-32\"/>\r\n    <use x=\"471.052734\" xlink:href=\"#DejaVuSans-97\"/>\r\n    <use x=\"532.332031\" xlink:href=\"#DejaVuSans-99\"/>\r\n    <use x=\"587.3125\" xlink:href=\"#DejaVuSans-99\"/>\r\n    <use x=\"642.292969\" xlink:href=\"#DejaVuSans-117\"/>\r\n    <use x=\"705.671875\" xlink:href=\"#DejaVuSans-114\"/>\r\n    <use x=\"746.785156\" xlink:href=\"#DejaVuSans-97\"/>\r\n    <use x=\"808.064453\" xlink:href=\"#DejaVuSans-99\"/>\r\n    <use x=\"863.044922\" xlink:href=\"#DejaVuSans-121\"/>\r\n   </g>\r\n  </g>\r\n </g>\r\n <defs>\r\n  <clipPath id=\"p47222b7e48\">\r\n   <rect height=\"326.16\" width=\"405.818182\" x=\"50.14375\" y=\"50.4\"/>\r\n  </clipPath>\r\n  <clipPath id=\"p05fea87622\">\r\n   <rect height=\"326.16\" width=\"405.818182\" x=\"537.125568\" y=\"50.4\"/>\r\n  </clipPath>\r\n </defs>\r\n</svg>\r\n",
      "image/png": "[encoded data removed]"
     },
     "metadata": {
      "needs_background": "light"
     }
    }
   ],
   "source": [
    "print(Model)\n",
    "plot_loss_and_accuracy(losses, accs)\n",
    "print(accs[-1])"
   ]
  },
  {
   "cell_type": "code",
   "execution_count": 57,
   "metadata": {},
   "outputs": [],
   "source": [
    "# Rodando o Modelo treinado com o Dataset de Teste\n",
    "data_test = (torch.FloatTensor(X_test), torch.LongTensor(Y_test))\n",
    "X_test_tensor, Y_test_tensor = data_test\n",
    "\n",
    "if CUDA_flag: # usar GPU?\n",
    "      X_test_tensor = X_test_tensor.cuda()\n",
    "      \n",
    "Y_pred_tensor = Model.forward(X_test_tensor) \n",
    "\n",
    "# hard-decision e pós-processamento da saída\n",
    "y_pred = torch.argmax(Y_pred_tensor, dim=1)\n",
    "y_pred = y_pred.float()\n",
    "y_true = torch.squeeze(Y_test_tensor) \n",
    "y_pred = torch.squeeze(y_pred)"
   ]
  },
  {
   "cell_type": "code",
   "execution_count": 58,
   "metadata": {},
   "outputs": [
    {
     "output_type": "display_data",
     "data": {
      "text/plain": "<Figure size 792x792 with 2 Axes>",
      "image/svg+xml": "<?xml version=\"1.0\" encoding=\"utf-8\" standalone=\"no\"?>\r\n<!DOCTYPE svg PUBLIC \"-//W3C//DTD SVG 1.1//EN\"\r\n  \"http://www.w3.org/Graphics/SVG/1.1/DTD/svg11.dtd\">\r\n<!-- Created with matplotlib (https://matplotlib.org/) -->\r\n<svg height=\"619.646285pt\" version=\"1.1\" viewBox=\"0 0 646.688937 619.646285\" width=\"646.688937pt\" xmlns=\"http://www.w3.org/2000/svg\" xmlns:xlink=\"http://www.w3.org/1999/xlink\">\r\n <metadata>\r\n  <rdf:RDF xmlns:cc=\"http://creativecommons.org/ns#\" xmlns:dc=\"http://purl.org/dc/elements/1.1/\" xmlns:rdf=\"http://www.w3.org/1999/02/22-rdf-syntax-ns#\">\r\n   <cc:Work>\r\n    <dc:type rdf:resource=\"http://purl.org/dc/dcmitype/StillImage\"/>\r\n    <dc:date>2021-04-22T18:54:46.872916</dc:date>\r\n    <dc:format>image/svg+xml</dc:format>\r\n    <dc:creator>\r\n     <cc:Agent>\r\n      <dc:title>Matplotlib v3.3.2, https://matplotlib.org/</dc:title>\r\n     </cc:Agent>\r\n    </dc:creator>\r\n   </cc:Work>\r\n  </rdf:RDF>\r\n </metadata>\r\n <defs>\r\n  <style type=\"text/css\">*{stroke-linecap:butt;stroke-linejoin:round;}</style>\r\n </defs>\r\n <g id=\"figure_1\">\r\n  <g id=\"patch_1\">\r\n   <path d=\"M -0 619.646285 \r\nL 646.688937 619.646285 \r\nL 646.688937 0 \r\nL -0 0 \r\nz\r\n\" style=\"fill:none;\"/>\r\n  </g>\r\n  <g id=\"axes_1\">\r\n   <g id=\"patch_2\">\r\n    <path d=\"M 68.135938 553.107379 \r\nL 559.175938 553.107379 \r\nL 559.175938 62.067379 \r\nL 68.135938 62.067379 \r\nz\r\n\" style=\"fill:#ffffff;\"/>\r\n   </g>\r\n   <g clip-path=\"url(#p2eced09896)\">\r\n    <image height=\"492\" id=\"imagec8ff056e5f\" transform=\"scale(1 -1)translate(0 -492)\" width=\"492\" x=\"68.135938\" xlink:href=\"data:image/png;base64,\r\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\" y=\"-61.107379\"/>\r\n   </g>\r\n   <g id=\"matplotlib.axis_1\">\r\n    <g id=\"xtick_1\">\r\n     <g id=\"line2d_1\">\r\n      <defs>\r\n       <path d=\"M 0 0 \r\nL 0 3.5 \r\n\" id=\"ma2bce71f30\" style=\"stroke:#000000;stroke-width:0.8;\"/>\r\n      </defs>\r\n      <g>\r\n       <use style=\"stroke:#000000;stroke-width:0.8;\" x=\"109.055938\" xlink:href=\"#ma2bce71f30\" y=\"553.107379\"/>\r\n      </g>\r\n     </g>\r\n     <g id=\"text_1\">\r\n      <!-- angry -->\r\n      <g transform=\"translate(94.634063 567.705816)scale(0.1 -0.1)\">\r\n       <defs>\r\n        <path d=\"M 34.28125 27.484375 \r\nQ 23.390625 27.484375 19.1875 25 \r\nQ 14.984375 22.515625 14.984375 16.5 \r\nQ 14.984375 11.71875 18.140625 8.90625 \r\nQ 21.296875 6.109375 26.703125 6.109375 \r\nQ 34.1875 6.109375 38.703125 11.40625 \r\nQ 43.21875 16.703125 43.21875 25.484375 \r\nL 43.21875 27.484375 \r\nz\r\nM 52.203125 31.203125 \r\nL 52.203125 0 \r\nL 43.21875 0 \r\nL 43.21875 8.296875 \r\nQ 40.140625 3.328125 35.546875 0.953125 \r\nQ 30.953125 -1.421875 24.3125 -1.421875 \r\nQ 15.921875 -1.421875 10.953125 3.296875 \r\nQ 6 8.015625 6 15.921875 \r\nQ 6 25.140625 12.171875 29.828125 \r\nQ 18.359375 34.515625 30.609375 34.515625 \r\nL 43.21875 34.515625 \r\nL 43.21875 35.40625 \r\nQ 43.21875 41.609375 39.140625 45 \r\nQ 35.0625 48.390625 27.6875 48.390625 \r\nQ 23 48.390625 18.546875 47.265625 \r\nQ 14.109375 46.140625 10.015625 43.890625 \r\nL 10.015625 52.203125 \r\nQ 14.9375 54.109375 19.578125 55.046875 \r\nQ 24.21875 56 28.609375 56 \r\nQ 40.484375 56 46.34375 49.84375 \r\nQ 52.203125 43.703125 52.203125 31.203125 \r\nz\r\n\" id=\"DejaVuSans-97\"/>\r\n        <path d=\"M 54.890625 33.015625 \r\nL 54.890625 0 \r\nL 45.90625 0 \r\nL 45.90625 32.71875 \r\nQ 45.90625 40.484375 42.875 44.328125 \r\nQ 39.84375 48.1875 33.796875 48.1875 \r\nQ 26.515625 48.1875 22.3125 43.546875 \r\nQ 18.109375 38.921875 18.109375 30.90625 \r\nL 18.109375 0 \r\nL 9.078125 0 \r\nL 9.078125 54.6875 \r\nL 18.109375 54.6875 \r\nL 18.109375 46.1875 \r\nQ 21.34375 51.125 25.703125 53.5625 \r\nQ 30.078125 56 35.796875 56 \r\nQ 45.21875 56 50.046875 50.171875 \r\nQ 54.890625 44.34375 54.890625 33.015625 \r\nz\r\n\" id=\"DejaVuSans-110\"/>\r\n        <path d=\"M 45.40625 27.984375 \r\nQ 45.40625 37.75 41.375 43.109375 \r\nQ 37.359375 48.484375 30.078125 48.484375 \r\nQ 22.859375 48.484375 18.828125 43.109375 \r\nQ 14.796875 37.75 14.796875 27.984375 \r\nQ 14.796875 18.265625 18.828125 12.890625 \r\nQ 22.859375 7.515625 30.078125 7.515625 \r\nQ 37.359375 7.515625 41.375 12.890625 \r\nQ 45.40625 18.265625 45.40625 27.984375 \r\nz\r\nM 54.390625 6.78125 \r\nQ 54.390625 -7.171875 48.1875 -13.984375 \r\nQ 42 -20.796875 29.203125 -20.796875 \r\nQ 24.46875 -20.796875 20.265625 -20.09375 \r\nQ 16.0625 -19.390625 12.109375 -17.921875 \r\nL 12.109375 -9.1875 \r\nQ 16.0625 -11.328125 19.921875 -12.34375 \r\nQ 23.78125 -13.375 27.78125 -13.375 \r\nQ 36.625 -13.375 41.015625 -8.765625 \r\nQ 45.40625 -4.15625 45.40625 5.171875 \r\nL 45.40625 9.625 \r\nQ 42.625 4.78125 38.28125 2.390625 \r\nQ 33.9375 0 27.875 0 \r\nQ 17.828125 0 11.671875 7.65625 \r\nQ 5.515625 15.328125 5.515625 27.984375 \r\nQ 5.515625 40.671875 11.671875 48.328125 \r\nQ 17.828125 56 27.875 56 \r\nQ 33.9375 56 38.28125 53.609375 \r\nQ 42.625 51.21875 45.40625 46.390625 \r\nL 45.40625 54.6875 \r\nL 54.390625 54.6875 \r\nz\r\n\" id=\"DejaVuSans-103\"/>\r\n        <path d=\"M 41.109375 46.296875 \r\nQ 39.59375 47.171875 37.8125 47.578125 \r\nQ 36.03125 48 33.890625 48 \r\nQ 26.265625 48 22.1875 43.046875 \r\nQ 18.109375 38.09375 18.109375 28.8125 \r\nL 18.109375 0 \r\nL 9.078125 0 \r\nL 9.078125 54.6875 \r\nL 18.109375 54.6875 \r\nL 18.109375 46.1875 \r\nQ 20.953125 51.171875 25.484375 53.578125 \r\nQ 30.03125 56 36.53125 56 \r\nQ 37.453125 56 38.578125 55.875 \r\nQ 39.703125 55.765625 41.0625 55.515625 \r\nz\r\n\" id=\"DejaVuSans-114\"/>\r\n        <path d=\"M 32.171875 -5.078125 \r\nQ 28.375 -14.84375 24.75 -17.8125 \r\nQ 21.140625 -20.796875 15.09375 -20.796875 \r\nL 7.90625 -20.796875 \r\nL 7.90625 -13.28125 \r\nL 13.1875 -13.28125 \r\nQ 16.890625 -13.28125 18.9375 -11.515625 \r\nQ 21 -9.765625 23.484375 -3.21875 \r\nL 25.09375 0.875 \r\nL 2.984375 54.6875 \r\nL 12.5 54.6875 \r\nL 29.59375 11.921875 \r\nL 46.6875 54.6875 \r\nL 56.203125 54.6875 \r\nz\r\n\" id=\"DejaVuSans-121\"/>\r\n       </defs>\r\n       <use xlink:href=\"#DejaVuSans-97\"/>\r\n       <use x=\"61.279297\" xlink:href=\"#DejaVuSans-110\"/>\r\n       <use x=\"124.658203\" xlink:href=\"#DejaVuSans-103\"/>\r\n       <use x=\"188.134766\" xlink:href=\"#DejaVuSans-114\"/>\r\n       <use x=\"229.248047\" xlink:href=\"#DejaVuSans-121\"/>\r\n      </g>\r\n     </g>\r\n    </g>\r\n    <g id=\"xtick_2\">\r\n     <g id=\"line2d_2\">\r\n      <g>\r\n       <use style=\"stroke:#000000;stroke-width:0.8;\" x=\"190.895938\" xlink:href=\"#ma2bce71f30\" y=\"553.107379\"/>\r\n      </g>\r\n     </g>\r\n     <g id=\"text_2\">\r\n      <!-- disgust -->\r\n      <g transform=\"translate(172.820156 567.705816)scale(0.1 -0.1)\">\r\n       <defs>\r\n        <path d=\"M 45.40625 46.390625 \r\nL 45.40625 75.984375 \r\nL 54.390625 75.984375 \r\nL 54.390625 0 \r\nL 45.40625 0 \r\nL 45.40625 8.203125 \r\nQ 42.578125 3.328125 38.25 0.953125 \r\nQ 33.9375 -1.421875 27.875 -1.421875 \r\nQ 17.96875 -1.421875 11.734375 6.484375 \r\nQ 5.515625 14.40625 5.515625 27.296875 \r\nQ 5.515625 40.1875 11.734375 48.09375 \r\nQ 17.96875 56 27.875 56 \r\nQ 33.9375 56 38.25 53.625 \r\nQ 42.578125 51.265625 45.40625 46.390625 \r\nz\r\nM 14.796875 27.296875 \r\nQ 14.796875 17.390625 18.875 11.75 \r\nQ 22.953125 6.109375 30.078125 6.109375 \r\nQ 37.203125 6.109375 41.296875 11.75 \r\nQ 45.40625 17.390625 45.40625 27.296875 \r\nQ 45.40625 37.203125 41.296875 42.84375 \r\nQ 37.203125 48.484375 30.078125 48.484375 \r\nQ 22.953125 48.484375 18.875 42.84375 \r\nQ 14.796875 37.203125 14.796875 27.296875 \r\nz\r\n\" id=\"DejaVuSans-100\"/>\r\n        <path d=\"M 9.421875 54.6875 \r\nL 18.40625 54.6875 \r\nL 18.40625 0 \r\nL 9.421875 0 \r\nz\r\nM 9.421875 75.984375 \r\nL 18.40625 75.984375 \r\nL 18.40625 64.59375 \r\nL 9.421875 64.59375 \r\nz\r\n\" id=\"DejaVuSans-105\"/>\r\n        <path d=\"M 44.28125 53.078125 \r\nL 44.28125 44.578125 \r\nQ 40.484375 46.53125 36.375 47.5 \r\nQ 32.28125 48.484375 27.875 48.484375 \r\nQ 21.1875 48.484375 17.84375 46.4375 \r\nQ 14.5 44.390625 14.5 40.28125 \r\nQ 14.5 37.15625 16.890625 35.375 \r\nQ 19.28125 33.59375 26.515625 31.984375 \r\nL 29.59375 31.296875 \r\nQ 39.15625 29.25 43.1875 25.515625 \r\nQ 47.21875 21.78125 47.21875 15.09375 \r\nQ 47.21875 7.46875 41.1875 3.015625 \r\nQ 35.15625 -1.421875 24.609375 -1.421875 \r\nQ 20.21875 -1.421875 15.453125 -0.5625 \r\nQ 10.6875 0.296875 5.421875 2 \r\nL 5.421875 11.28125 \r\nQ 10.40625 8.6875 15.234375 7.390625 \r\nQ 20.0625 6.109375 24.8125 6.109375 \r\nQ 31.15625 6.109375 34.5625 8.28125 \r\nQ 37.984375 10.453125 37.984375 14.40625 \r\nQ 37.984375 18.0625 35.515625 20.015625 \r\nQ 33.0625 21.96875 24.703125 23.78125 \r\nL 21.578125 24.515625 \r\nQ 13.234375 26.265625 9.515625 29.90625 \r\nQ 5.8125 33.546875 5.8125 39.890625 \r\nQ 5.8125 47.609375 11.28125 51.796875 \r\nQ 16.75 56 26.8125 56 \r\nQ 31.78125 56 36.171875 55.265625 \r\nQ 40.578125 54.546875 44.28125 53.078125 \r\nz\r\n\" id=\"DejaVuSans-115\"/>\r\n        <path d=\"M 8.5 21.578125 \r\nL 8.5 54.6875 \r\nL 17.484375 54.6875 \r\nL 17.484375 21.921875 \r\nQ 17.484375 14.15625 20.5 10.265625 \r\nQ 23.53125 6.390625 29.59375 6.390625 \r\nQ 36.859375 6.390625 41.078125 11.03125 \r\nQ 45.3125 15.671875 45.3125 23.6875 \r\nL 45.3125 54.6875 \r\nL 54.296875 54.6875 \r\nL 54.296875 0 \r\nL 45.3125 0 \r\nL 45.3125 8.40625 \r\nQ 42.046875 3.421875 37.71875 1 \r\nQ 33.40625 -1.421875 27.6875 -1.421875 \r\nQ 18.265625 -1.421875 13.375 4.4375 \r\nQ 8.5 10.296875 8.5 21.578125 \r\nz\r\nM 31.109375 56 \r\nz\r\n\" id=\"DejaVuSans-117\"/>\r\n        <path d=\"M 18.3125 70.21875 \r\nL 18.3125 54.6875 \r\nL 36.8125 54.6875 \r\nL 36.8125 47.703125 \r\nL 18.3125 47.703125 \r\nL 18.3125 18.015625 \r\nQ 18.3125 11.328125 20.140625 9.421875 \r\nQ 21.96875 7.515625 27.59375 7.515625 \r\nL 36.8125 7.515625 \r\nL 36.8125 0 \r\nL 27.59375 0 \r\nQ 17.1875 0 13.234375 3.875 \r\nQ 9.28125 7.765625 9.28125 18.015625 \r\nL 9.28125 47.703125 \r\nL 2.6875 47.703125 \r\nL 2.6875 54.6875 \r\nL 9.28125 54.6875 \r\nL 9.28125 70.21875 \r\nz\r\n\" id=\"DejaVuSans-116\"/>\r\n       </defs>\r\n       <use xlink:href=\"#DejaVuSans-100\"/>\r\n       <use x=\"63.476562\" xlink:href=\"#DejaVuSans-105\"/>\r\n       <use x=\"91.259766\" xlink:href=\"#DejaVuSans-115\"/>\r\n       <use x=\"143.359375\" xlink:href=\"#DejaVuSans-103\"/>\r\n       <use x=\"206.835938\" xlink:href=\"#DejaVuSans-117\"/>\r\n       <use x=\"270.214844\" xlink:href=\"#DejaVuSans-115\"/>\r\n       <use x=\"322.314453\" xlink:href=\"#DejaVuSans-116\"/>\r\n      </g>\r\n     </g>\r\n    </g>\r\n    <g id=\"xtick_3\">\r\n     <g id=\"line2d_3\">\r\n      <g>\r\n       <use style=\"stroke:#000000;stroke-width:0.8;\" x=\"272.735938\" xlink:href=\"#ma2bce71f30\" y=\"553.107379\"/>\r\n      </g>\r\n     </g>\r\n     <g id=\"text_3\">\r\n      <!-- fear -->\r\n      <g transform=\"translate(262.779688 567.705816)scale(0.1 -0.1)\">\r\n       <defs>\r\n        <path d=\"M 37.109375 75.984375 \r\nL 37.109375 68.5 \r\nL 28.515625 68.5 \r\nQ 23.6875 68.5 21.796875 66.546875 \r\nQ 19.921875 64.59375 19.921875 59.515625 \r\nL 19.921875 54.6875 \r\nL 34.71875 54.6875 \r\nL 34.71875 47.703125 \r\nL 19.921875 47.703125 \r\nL 19.921875 0 \r\nL 10.890625 0 \r\nL 10.890625 47.703125 \r\nL 2.296875 47.703125 \r\nL 2.296875 54.6875 \r\nL 10.890625 54.6875 \r\nL 10.890625 58.5 \r\nQ 10.890625 67.625 15.140625 71.796875 \r\nQ 19.390625 75.984375 28.609375 75.984375 \r\nz\r\n\" id=\"DejaVuSans-102\"/>\r\n        <path d=\"M 56.203125 29.59375 \r\nL 56.203125 25.203125 \r\nL 14.890625 25.203125 \r\nQ 15.484375 15.921875 20.484375 11.0625 \r\nQ 25.484375 6.203125 34.421875 6.203125 \r\nQ 39.59375 6.203125 44.453125 7.46875 \r\nQ 49.3125 8.734375 54.109375 11.28125 \r\nL 54.109375 2.78125 \r\nQ 49.265625 0.734375 44.1875 -0.34375 \r\nQ 39.109375 -1.421875 33.890625 -1.421875 \r\nQ 20.796875 -1.421875 13.15625 6.1875 \r\nQ 5.515625 13.8125 5.515625 26.8125 \r\nQ 5.515625 40.234375 12.765625 48.109375 \r\nQ 20.015625 56 32.328125 56 \r\nQ 43.359375 56 49.78125 48.890625 \r\nQ 56.203125 41.796875 56.203125 29.59375 \r\nz\r\nM 47.21875 32.234375 \r\nQ 47.125 39.59375 43.09375 43.984375 \r\nQ 39.0625 48.390625 32.421875 48.390625 \r\nQ 24.90625 48.390625 20.390625 44.140625 \r\nQ 15.875 39.890625 15.1875 32.171875 \r\nz\r\n\" id=\"DejaVuSans-101\"/>\r\n       </defs>\r\n       <use xlink:href=\"#DejaVuSans-102\"/>\r\n       <use x=\"35.205078\" xlink:href=\"#DejaVuSans-101\"/>\r\n       <use x=\"96.728516\" xlink:href=\"#DejaVuSans-97\"/>\r\n       <use x=\"158.007812\" xlink:href=\"#DejaVuSans-114\"/>\r\n      </g>\r\n     </g>\r\n    </g>\r\n    <g id=\"xtick_4\">\r\n     <g id=\"line2d_4\">\r\n      <g>\r\n       <use style=\"stroke:#000000;stroke-width:0.8;\" x=\"354.575938\" xlink:href=\"#ma2bce71f30\" y=\"553.107379\"/>\r\n      </g>\r\n     </g>\r\n     <g id=\"text_4\">\r\n      <!-- happy -->\r\n      <g transform=\"translate(339.035313 567.705816)scale(0.1 -0.1)\">\r\n       <defs>\r\n        <path d=\"M 54.890625 33.015625 \r\nL 54.890625 0 \r\nL 45.90625 0 \r\nL 45.90625 32.71875 \r\nQ 45.90625 40.484375 42.875 44.328125 \r\nQ 39.84375 48.1875 33.796875 48.1875 \r\nQ 26.515625 48.1875 22.3125 43.546875 \r\nQ 18.109375 38.921875 18.109375 30.90625 \r\nL 18.109375 0 \r\nL 9.078125 0 \r\nL 9.078125 75.984375 \r\nL 18.109375 75.984375 \r\nL 18.109375 46.1875 \r\nQ 21.34375 51.125 25.703125 53.5625 \r\nQ 30.078125 56 35.796875 56 \r\nQ 45.21875 56 50.046875 50.171875 \r\nQ 54.890625 44.34375 54.890625 33.015625 \r\nz\r\n\" id=\"DejaVuSans-104\"/>\r\n        <path d=\"M 18.109375 8.203125 \r\nL 18.109375 -20.796875 \r\nL 9.078125 -20.796875 \r\nL 9.078125 54.6875 \r\nL 18.109375 54.6875 \r\nL 18.109375 46.390625 \r\nQ 20.953125 51.265625 25.265625 53.625 \r\nQ 29.59375 56 35.59375 56 \r\nQ 45.5625 56 51.78125 48.09375 \r\nQ 58.015625 40.1875 58.015625 27.296875 \r\nQ 58.015625 14.40625 51.78125 6.484375 \r\nQ 45.5625 -1.421875 35.59375 -1.421875 \r\nQ 29.59375 -1.421875 25.265625 0.953125 \r\nQ 20.953125 3.328125 18.109375 8.203125 \r\nz\r\nM 48.6875 27.296875 \r\nQ 48.6875 37.203125 44.609375 42.84375 \r\nQ 40.53125 48.484375 33.40625 48.484375 \r\nQ 26.265625 48.484375 22.1875 42.84375 \r\nQ 18.109375 37.203125 18.109375 27.296875 \r\nQ 18.109375 17.390625 22.1875 11.75 \r\nQ 26.265625 6.109375 33.40625 6.109375 \r\nQ 40.53125 6.109375 44.609375 11.75 \r\nQ 48.6875 17.390625 48.6875 27.296875 \r\nz\r\n\" id=\"DejaVuSans-112\"/>\r\n       </defs>\r\n       <use xlink:href=\"#DejaVuSans-104\"/>\r\n       <use x=\"63.378906\" xlink:href=\"#DejaVuSans-97\"/>\r\n       <use x=\"124.658203\" xlink:href=\"#DejaVuSans-112\"/>\r\n       <use x=\"188.134766\" xlink:href=\"#DejaVuSans-112\"/>\r\n       <use x=\"251.611328\" xlink:href=\"#DejaVuSans-121\"/>\r\n      </g>\r\n     </g>\r\n    </g>\r\n    <g id=\"xtick_5\">\r\n     <g id=\"line2d_5\">\r\n      <g>\r\n       <use style=\"stroke:#000000;stroke-width:0.8;\" x=\"436.415938\" xlink:href=\"#ma2bce71f30\" y=\"553.107379\"/>\r\n      </g>\r\n     </g>\r\n     <g id=\"text_5\">\r\n      <!-- sad -->\r\n      <g transform=\"translate(427.572969 567.705816)scale(0.1 -0.1)\">\r\n       <use xlink:href=\"#DejaVuSans-115\"/>\r\n       <use x=\"52.099609\" xlink:href=\"#DejaVuSans-97\"/>\r\n       <use x=\"113.378906\" xlink:href=\"#DejaVuSans-100\"/>\r\n      </g>\r\n     </g>\r\n    </g>\r\n    <g id=\"xtick_6\">\r\n     <g id=\"line2d_6\">\r\n      <g>\r\n       <use style=\"stroke:#000000;stroke-width:0.8;\" x=\"518.255938\" xlink:href=\"#ma2bce71f30\" y=\"553.107379\"/>\r\n      </g>\r\n     </g>\r\n     <g id=\"text_6\">\r\n      <!-- surprise -->\r\n      <g transform=\"translate(498.127031 567.705816)scale(0.1 -0.1)\">\r\n       <use xlink:href=\"#DejaVuSans-115\"/>\r\n       <use x=\"52.099609\" xlink:href=\"#DejaVuSans-117\"/>\r\n       <use x=\"115.478516\" xlink:href=\"#DejaVuSans-114\"/>\r\n       <use x=\"156.591797\" xlink:href=\"#DejaVuSans-112\"/>\r\n       <use x=\"220.068359\" xlink:href=\"#DejaVuSans-114\"/>\r\n       <use x=\"261.181641\" xlink:href=\"#DejaVuSans-105\"/>\r\n       <use x=\"288.964844\" xlink:href=\"#DejaVuSans-115\"/>\r\n       <use x=\"341.064453\" xlink:href=\"#DejaVuSans-101\"/>\r\n      </g>\r\n     </g>\r\n    </g>\r\n    <g id=\"text_7\">\r\n     <!-- Predicted label -->\r\n     <g transform=\"translate(276.503594 581.383941)scale(0.1 -0.1)\">\r\n      <defs>\r\n       <path d=\"M 19.671875 64.796875 \r\nL 19.671875 37.40625 \r\nL 32.078125 37.40625 \r\nQ 38.96875 37.40625 42.71875 40.96875 \r\nQ 46.484375 44.53125 46.484375 51.125 \r\nQ 46.484375 57.671875 42.71875 61.234375 \r\nQ 38.96875 64.796875 32.078125 64.796875 \r\nz\r\nM 9.8125 72.90625 \r\nL 32.078125 72.90625 \r\nQ 44.34375 72.90625 50.609375 67.359375 \r\nQ 56.890625 61.8125 56.890625 51.125 \r\nQ 56.890625 40.328125 50.609375 34.8125 \r\nQ 44.34375 29.296875 32.078125 29.296875 \r\nL 19.671875 29.296875 \r\nL 19.671875 0 \r\nL 9.8125 0 \r\nz\r\n\" id=\"DejaVuSans-80\"/>\r\n       <path d=\"M 48.78125 52.59375 \r\nL 48.78125 44.1875 \r\nQ 44.96875 46.296875 41.140625 47.34375 \r\nQ 37.3125 48.390625 33.40625 48.390625 \r\nQ 24.65625 48.390625 19.8125 42.84375 \r\nQ 14.984375 37.3125 14.984375 27.296875 \r\nQ 14.984375 17.28125 19.8125 11.734375 \r\nQ 24.65625 6.203125 33.40625 6.203125 \r\nQ 37.3125 6.203125 41.140625 7.25 \r\nQ 44.96875 8.296875 48.78125 10.40625 \r\nL 48.78125 2.09375 \r\nQ 45.015625 0.34375 40.984375 -0.53125 \r\nQ 36.96875 -1.421875 32.421875 -1.421875 \r\nQ 20.0625 -1.421875 12.78125 6.34375 \r\nQ 5.515625 14.109375 5.515625 27.296875 \r\nQ 5.515625 40.671875 12.859375 48.328125 \r\nQ 20.21875 56 33.015625 56 \r\nQ 37.15625 56 41.109375 55.140625 \r\nQ 45.0625 54.296875 48.78125 52.59375 \r\nz\r\n\" id=\"DejaVuSans-99\"/>\r\n       <path id=\"DejaVuSans-32\"/>\r\n       <path d=\"M 9.421875 75.984375 \r\nL 18.40625 75.984375 \r\nL 18.40625 0 \r\nL 9.421875 0 \r\nz\r\n\" id=\"DejaVuSans-108\"/>\r\n       <path d=\"M 48.6875 27.296875 \r\nQ 48.6875 37.203125 44.609375 42.84375 \r\nQ 40.53125 48.484375 33.40625 48.484375 \r\nQ 26.265625 48.484375 22.1875 42.84375 \r\nQ 18.109375 37.203125 18.109375 27.296875 \r\nQ 18.109375 17.390625 22.1875 11.75 \r\nQ 26.265625 6.109375 33.40625 6.109375 \r\nQ 40.53125 6.109375 44.609375 11.75 \r\nQ 48.6875 17.390625 48.6875 27.296875 \r\nz\r\nM 18.109375 46.390625 \r\nQ 20.953125 51.265625 25.265625 53.625 \r\nQ 29.59375 56 35.59375 56 \r\nQ 45.5625 56 51.78125 48.09375 \r\nQ 58.015625 40.1875 58.015625 27.296875 \r\nQ 58.015625 14.40625 51.78125 6.484375 \r\nQ 45.5625 -1.421875 35.59375 -1.421875 \r\nQ 29.59375 -1.421875 25.265625 0.953125 \r\nQ 20.953125 3.328125 18.109375 8.203125 \r\nL 18.109375 0 \r\nL 9.078125 0 \r\nL 9.078125 75.984375 \r\nL 18.109375 75.984375 \r\nz\r\n\" id=\"DejaVuSans-98\"/>\r\n      </defs>\r\n      <use xlink:href=\"#DejaVuSans-80\"/>\r\n      <use x=\"58.552734\" xlink:href=\"#DejaVuSans-114\"/>\r\n      <use x=\"97.416016\" xlink:href=\"#DejaVuSans-101\"/>\r\n      <use x=\"158.939453\" xlink:href=\"#DejaVuSans-100\"/>\r\n      <use x=\"222.416016\" xlink:href=\"#DejaVuSans-105\"/>\r\n      <use x=\"250.199219\" xlink:href=\"#DejaVuSans-99\"/>\r\n      <use x=\"305.179688\" xlink:href=\"#DejaVuSans-116\"/>\r\n      <use x=\"344.388672\" xlink:href=\"#DejaVuSans-101\"/>\r\n      <use x=\"405.912109\" xlink:href=\"#DejaVuSans-100\"/>\r\n      <use x=\"469.388672\" xlink:href=\"#DejaVuSans-32\"/>\r\n      <use x=\"501.175781\" xlink:href=\"#DejaVuSans-108\"/>\r\n      <use x=\"528.958984\" xlink:href=\"#DejaVuSans-97\"/>\r\n      <use x=\"590.238281\" xlink:href=\"#DejaVuSans-98\"/>\r\n      <use x=\"653.714844\" xlink:href=\"#DejaVuSans-101\"/>\r\n      <use x=\"715.238281\" xlink:href=\"#DejaVuSans-108\"/>\r\n     </g>\r\n    </g>\r\n   </g>\r\n   <g id=\"matplotlib.axis_2\">\r\n    <g id=\"ytick_1\">\r\n     <g id=\"line2d_7\">\r\n      <defs>\r\n       <path d=\"M 0 0 \r\nL -3.5 0 \r\n\" id=\"m913abea242\" style=\"stroke:#000000;stroke-width:0.8;\"/>\r\n      </defs>\r\n      <g>\r\n       <use style=\"stroke:#000000;stroke-width:0.8;\" x=\"68.135938\" xlink:href=\"#m913abea242\" y=\"102.987379\"/>\r\n      </g>\r\n     </g>\r\n     <g id=\"text_8\">\r\n      <!-- angry -->\r\n      <g transform=\"translate(32.292188 106.786598)scale(0.1 -0.1)\">\r\n       <use xlink:href=\"#DejaVuSans-97\"/>\r\n       <use x=\"61.279297\" xlink:href=\"#DejaVuSans-110\"/>\r\n       <use x=\"124.658203\" xlink:href=\"#DejaVuSans-103\"/>\r\n       <use x=\"188.134766\" xlink:href=\"#DejaVuSans-114\"/>\r\n       <use x=\"229.248047\" xlink:href=\"#DejaVuSans-121\"/>\r\n      </g>\r\n     </g>\r\n    </g>\r\n    <g id=\"ytick_2\">\r\n     <g id=\"line2d_8\">\r\n      <g>\r\n       <use style=\"stroke:#000000;stroke-width:0.8;\" x=\"68.135938\" xlink:href=\"#m913abea242\" y=\"184.827379\"/>\r\n      </g>\r\n     </g>\r\n     <g id=\"text_9\">\r\n      <!-- disgust -->\r\n      <g transform=\"translate(24.984375 188.626598)scale(0.1 -0.1)\">\r\n       <use xlink:href=\"#DejaVuSans-100\"/>\r\n       <use x=\"63.476562\" xlink:href=\"#DejaVuSans-105\"/>\r\n       <use x=\"91.259766\" xlink:href=\"#DejaVuSans-115\"/>\r\n       <use x=\"143.359375\" xlink:href=\"#DejaVuSans-103\"/>\r\n       <use x=\"206.835938\" xlink:href=\"#DejaVuSans-117\"/>\r\n       <use x=\"270.214844\" xlink:href=\"#DejaVuSans-115\"/>\r\n       <use x=\"322.314453\" xlink:href=\"#DejaVuSans-116\"/>\r\n      </g>\r\n     </g>\r\n    </g>\r\n    <g id=\"ytick_3\">\r\n     <g id=\"line2d_9\">\r\n      <g>\r\n       <use style=\"stroke:#000000;stroke-width:0.8;\" x=\"68.135938\" xlink:href=\"#m913abea242\" y=\"266.667379\"/>\r\n      </g>\r\n     </g>\r\n     <g id=\"text_10\">\r\n      <!-- fear -->\r\n      <g transform=\"translate(41.223438 270.466598)scale(0.1 -0.1)\">\r\n       <use xlink:href=\"#DejaVuSans-102\"/>\r\n       <use x=\"35.205078\" xlink:href=\"#DejaVuSans-101\"/>\r\n       <use x=\"96.728516\" xlink:href=\"#DejaVuSans-97\"/>\r\n       <use x=\"158.007812\" xlink:href=\"#DejaVuSans-114\"/>\r\n      </g>\r\n     </g>\r\n    </g>\r\n    <g id=\"ytick_4\">\r\n     <g id=\"line2d_10\">\r\n      <g>\r\n       <use style=\"stroke:#000000;stroke-width:0.8;\" x=\"68.135938\" xlink:href=\"#m913abea242\" y=\"348.507379\"/>\r\n      </g>\r\n     </g>\r\n     <g id=\"text_11\">\r\n      <!-- happy -->\r\n      <g transform=\"translate(30.054688 352.306598)scale(0.1 -0.1)\">\r\n       <use xlink:href=\"#DejaVuSans-104\"/>\r\n       <use x=\"63.378906\" xlink:href=\"#DejaVuSans-97\"/>\r\n       <use x=\"124.658203\" xlink:href=\"#DejaVuSans-112\"/>\r\n       <use x=\"188.134766\" xlink:href=\"#DejaVuSans-112\"/>\r\n       <use x=\"251.611328\" xlink:href=\"#DejaVuSans-121\"/>\r\n      </g>\r\n     </g>\r\n    </g>\r\n    <g id=\"ytick_5\">\r\n     <g id=\"line2d_11\">\r\n      <g>\r\n       <use style=\"stroke:#000000;stroke-width:0.8;\" x=\"68.135938\" xlink:href=\"#m913abea242\" y=\"430.347379\"/>\r\n      </g>\r\n     </g>\r\n     <g id=\"text_12\">\r\n      <!-- sad -->\r\n      <g transform=\"translate(43.45 434.146598)scale(0.1 -0.1)\">\r\n       <use xlink:href=\"#DejaVuSans-115\"/>\r\n       <use x=\"52.099609\" xlink:href=\"#DejaVuSans-97\"/>\r\n       <use x=\"113.378906\" xlink:href=\"#DejaVuSans-100\"/>\r\n      </g>\r\n     </g>\r\n    </g>\r\n    <g id=\"ytick_6\">\r\n     <g id=\"line2d_12\">\r\n      <g>\r\n       <use style=\"stroke:#000000;stroke-width:0.8;\" x=\"68.135938\" xlink:href=\"#m913abea242\" y=\"512.187379\"/>\r\n      </g>\r\n     </g>\r\n     <g id=\"text_13\">\r\n      <!-- surprise -->\r\n      <g transform=\"translate(20.878125 515.986598)scale(0.1 -0.1)\">\r\n       <use xlink:href=\"#DejaVuSans-115\"/>\r\n       <use x=\"52.099609\" xlink:href=\"#DejaVuSans-117\"/>\r\n       <use x=\"115.478516\" xlink:href=\"#DejaVuSans-114\"/>\r\n       <use x=\"156.591797\" xlink:href=\"#DejaVuSans-112\"/>\r\n       <use x=\"220.068359\" xlink:href=\"#DejaVuSans-114\"/>\r\n       <use x=\"261.181641\" xlink:href=\"#DejaVuSans-105\"/>\r\n       <use x=\"288.964844\" xlink:href=\"#DejaVuSans-115\"/>\r\n       <use x=\"341.064453\" xlink:href=\"#DejaVuSans-101\"/>\r\n      </g>\r\n     </g>\r\n    </g>\r\n    <g id=\"text_14\">\r\n     <!-- True label -->\r\n     <g transform=\"translate(14.798438 331.886598)rotate(-90)scale(0.1 -0.1)\">\r\n      <defs>\r\n       <path d=\"M -0.296875 72.90625 \r\nL 61.375 72.90625 \r\nL 61.375 64.59375 \r\nL 35.5 64.59375 \r\nL 35.5 0 \r\nL 25.59375 0 \r\nL 25.59375 64.59375 \r\nL -0.296875 64.59375 \r\nz\r\n\" id=\"DejaVuSans-84\"/>\r\n      </defs>\r\n      <use xlink:href=\"#DejaVuSans-84\"/>\r\n      <use x=\"46.333984\" xlink:href=\"#DejaVuSans-114\"/>\r\n      <use x=\"87.447266\" xlink:href=\"#DejaVuSans-117\"/>\r\n      <use x=\"150.826172\" xlink:href=\"#DejaVuSans-101\"/>\r\n      <use x=\"212.349609\" xlink:href=\"#DejaVuSans-32\"/>\r\n      <use x=\"244.136719\" xlink:href=\"#DejaVuSans-108\"/>\r\n      <use x=\"271.919922\" xlink:href=\"#DejaVuSans-97\"/>\r\n      <use x=\"333.199219\" xlink:href=\"#DejaVuSans-98\"/>\r\n      <use x=\"396.675781\" xlink:href=\"#DejaVuSans-101\"/>\r\n      <use x=\"458.199219\" xlink:href=\"#DejaVuSans-108\"/>\r\n     </g>\r\n    </g>\r\n   </g>\r\n   <g id=\"patch_3\">\r\n    <path d=\"M 68.135938 553.107379 \r\nL 68.135938 62.067379 \r\n\" style=\"fill:none;stroke:#000000;stroke-linecap:square;stroke-linejoin:miter;stroke-width:0.8;\"/>\r\n   </g>\r\n   <g id=\"patch_4\">\r\n    <path d=\"M 559.175938 553.107379 \r\nL 559.175938 62.067379 \r\n\" style=\"fill:none;stroke:#000000;stroke-linecap:square;stroke-linejoin:miter;stroke-width:0.8;\"/>\r\n   </g>\r\n   <g id=\"patch_5\">\r\n    <path d=\"M 68.135938 553.107379 \r\nL 559.175938 553.107379 \r\n\" style=\"fill:none;stroke:#000000;stroke-linecap:square;stroke-linejoin:miter;stroke-width:0.8;\"/>\r\n   </g>\r\n   <g id=\"patch_6\">\r\n    <path d=\"M 68.135938 62.067379 \r\nL 559.175938 62.067379 \r\n\" style=\"fill:none;stroke:#000000;stroke-linecap:square;stroke-linejoin:miter;stroke-width:0.8;\"/>\r\n   </g>\r\n   <g id=\"text_15\">\r\n    <!-- 80 -->\r\n    <g style=\"fill:#67001f;\" transform=\"translate(102.693438 105.746754)scale(0.1 -0.1)\">\r\n     <defs>\r\n      <path d=\"M 31.78125 34.625 \r\nQ 24.75 34.625 20.71875 30.859375 \r\nQ 16.703125 27.09375 16.703125 20.515625 \r\nQ 16.703125 13.921875 20.71875 10.15625 \r\nQ 24.75 6.390625 31.78125 6.390625 \r\nQ 38.8125 6.390625 42.859375 10.171875 \r\nQ 46.921875 13.96875 46.921875 20.515625 \r\nQ 46.921875 27.09375 42.890625 30.859375 \r\nQ 38.875 34.625 31.78125 34.625 \r\nz\r\nM 21.921875 38.8125 \r\nQ 15.578125 40.375 12.03125 44.71875 \r\nQ 8.5 49.078125 8.5 55.328125 \r\nQ 8.5 64.0625 14.71875 69.140625 \r\nQ 20.953125 74.21875 31.78125 74.21875 \r\nQ 42.671875 74.21875 48.875 69.140625 \r\nQ 55.078125 64.0625 55.078125 55.328125 \r\nQ 55.078125 49.078125 51.53125 44.71875 \r\nQ 48 40.375 41.703125 38.8125 \r\nQ 48.828125 37.15625 52.796875 32.3125 \r\nQ 56.78125 27.484375 56.78125 20.515625 \r\nQ 56.78125 9.90625 50.3125 4.234375 \r\nQ 43.84375 -1.421875 31.78125 -1.421875 \r\nQ 19.734375 -1.421875 13.25 4.234375 \r\nQ 6.78125 9.90625 6.78125 20.515625 \r\nQ 6.78125 27.484375 10.78125 32.3125 \r\nQ 14.796875 37.15625 21.921875 38.8125 \r\nz\r\nM 18.3125 54.390625 \r\nQ 18.3125 48.734375 21.84375 45.5625 \r\nQ 25.390625 42.390625 31.78125 42.390625 \r\nQ 38.140625 42.390625 41.71875 45.5625 \r\nQ 45.3125 48.734375 45.3125 54.390625 \r\nQ 45.3125 60.0625 41.71875 63.234375 \r\nQ 38.140625 66.40625 31.78125 66.40625 \r\nQ 25.390625 66.40625 21.84375 63.234375 \r\nQ 18.3125 60.0625 18.3125 54.390625 \r\nz\r\n\" id=\"DejaVuSans-56\"/>\r\n      <path d=\"M 31.78125 66.40625 \r\nQ 24.171875 66.40625 20.328125 58.90625 \r\nQ 16.5 51.421875 16.5 36.375 \r\nQ 16.5 21.390625 20.328125 13.890625 \r\nQ 24.171875 6.390625 31.78125 6.390625 \r\nQ 39.453125 6.390625 43.28125 13.890625 \r\nQ 47.125 21.390625 47.125 36.375 \r\nQ 47.125 51.421875 43.28125 58.90625 \r\nQ 39.453125 66.40625 31.78125 66.40625 \r\nz\r\nM 31.78125 74.21875 \r\nQ 44.046875 74.21875 50.515625 64.515625 \r\nQ 56.984375 54.828125 56.984375 36.375 \r\nQ 56.984375 17.96875 50.515625 8.265625 \r\nQ 44.046875 -1.421875 31.78125 -1.421875 \r\nQ 19.53125 -1.421875 13.0625 8.265625 \r\nQ 6.59375 17.96875 6.59375 36.375 \r\nQ 6.59375 54.828125 13.0625 64.515625 \r\nQ 19.53125 74.21875 31.78125 74.21875 \r\nz\r\n\" id=\"DejaVuSans-48\"/>\r\n     </defs>\r\n     <use xlink:href=\"#DejaVuSans-56\"/>\r\n     <use x=\"63.623047\" xlink:href=\"#DejaVuSans-48\"/>\r\n    </g>\r\n   </g>\r\n   <g id=\"text_16\">\r\n    <!-- 2.4 -->\r\n    <g style=\"fill:#053061;\" transform=\"translate(182.944375 105.746754)scale(0.1 -0.1)\">\r\n     <defs>\r\n      <path d=\"M 19.1875 8.296875 \r\nL 53.609375 8.296875 \r\nL 53.609375 0 \r\nL 7.328125 0 \r\nL 7.328125 8.296875 \r\nQ 12.9375 14.109375 22.625 23.890625 \r\nQ 32.328125 33.6875 34.8125 36.53125 \r\nQ 39.546875 41.84375 41.421875 45.53125 \r\nQ 43.3125 49.21875 43.3125 52.78125 \r\nQ 43.3125 58.59375 39.234375 62.25 \r\nQ 35.15625 65.921875 28.609375 65.921875 \r\nQ 23.96875 65.921875 18.8125 64.3125 \r\nQ 13.671875 62.703125 7.8125 59.421875 \r\nL 7.8125 69.390625 \r\nQ 13.765625 71.78125 18.9375 73 \r\nQ 24.125 74.21875 28.421875 74.21875 \r\nQ 39.75 74.21875 46.484375 68.546875 \r\nQ 53.21875 62.890625 53.21875 53.421875 \r\nQ 53.21875 48.921875 51.53125 44.890625 \r\nQ 49.859375 40.875 45.40625 35.40625 \r\nQ 44.1875 33.984375 37.640625 27.21875 \r\nQ 31.109375 20.453125 19.1875 8.296875 \r\nz\r\n\" id=\"DejaVuSans-50\"/>\r\n      <path d=\"M 10.6875 12.40625 \r\nL 21 12.40625 \r\nL 21 0 \r\nL 10.6875 0 \r\nz\r\n\" id=\"DejaVuSans-46\"/>\r\n      <path d=\"M 37.796875 64.3125 \r\nL 12.890625 25.390625 \r\nL 37.796875 25.390625 \r\nz\r\nM 35.203125 72.90625 \r\nL 47.609375 72.90625 \r\nL 47.609375 25.390625 \r\nL 58.015625 25.390625 \r\nL 58.015625 17.1875 \r\nL 47.609375 17.1875 \r\nL 47.609375 0 \r\nL 37.796875 0 \r\nL 37.796875 17.1875 \r\nL 4.890625 17.1875 \r\nL 4.890625 26.703125 \r\nz\r\n\" id=\"DejaVuSans-52\"/>\r\n     </defs>\r\n     <use xlink:href=\"#DejaVuSans-50\"/>\r\n     <use x=\"63.623047\" xlink:href=\"#DejaVuSans-46\"/>\r\n     <use x=\"95.410156\" xlink:href=\"#DejaVuSans-52\"/>\r\n    </g>\r\n   </g>\r\n   <g id=\"text_17\">\r\n    <!-- 3.6 -->\r\n    <g style=\"fill:#053061;\" transform=\"translate(264.784375 105.746754)scale(0.1 -0.1)\">\r\n     <defs>\r\n      <path d=\"M 40.578125 39.3125 \r\nQ 47.65625 37.796875 51.625 33 \r\nQ 55.609375 28.21875 55.609375 21.1875 \r\nQ 55.609375 10.40625 48.1875 4.484375 \r\nQ 40.765625 -1.421875 27.09375 -1.421875 \r\nQ 22.515625 -1.421875 17.65625 -0.515625 \r\nQ 12.796875 0.390625 7.625 2.203125 \r\nL 7.625 11.71875 \r\nQ 11.71875 9.328125 16.59375 8.109375 \r\nQ 21.484375 6.890625 26.8125 6.890625 \r\nQ 36.078125 6.890625 40.9375 10.546875 \r\nQ 45.796875 14.203125 45.796875 21.1875 \r\nQ 45.796875 27.640625 41.28125 31.265625 \r\nQ 36.765625 34.90625 28.71875 34.90625 \r\nL 20.21875 34.90625 \r\nL 20.21875 43.015625 \r\nL 29.109375 43.015625 \r\nQ 36.375 43.015625 40.234375 45.921875 \r\nQ 44.09375 48.828125 44.09375 54.296875 \r\nQ 44.09375 59.90625 40.109375 62.90625 \r\nQ 36.140625 65.921875 28.71875 65.921875 \r\nQ 24.65625 65.921875 20.015625 65.03125 \r\nQ 15.375 64.15625 9.8125 62.3125 \r\nL 9.8125 71.09375 \r\nQ 15.4375 72.65625 20.34375 73.4375 \r\nQ 25.25 74.21875 29.59375 74.21875 \r\nQ 40.828125 74.21875 47.359375 69.109375 \r\nQ 53.90625 64.015625 53.90625 55.328125 \r\nQ 53.90625 49.265625 50.4375 45.09375 \r\nQ 46.96875 40.921875 40.578125 39.3125 \r\nz\r\n\" id=\"DejaVuSans-51\"/>\r\n      <path d=\"M 33.015625 40.375 \r\nQ 26.375 40.375 22.484375 35.828125 \r\nQ 18.609375 31.296875 18.609375 23.390625 \r\nQ 18.609375 15.53125 22.484375 10.953125 \r\nQ 26.375 6.390625 33.015625 6.390625 \r\nQ 39.65625 6.390625 43.53125 10.953125 \r\nQ 47.40625 15.53125 47.40625 23.390625 \r\nQ 47.40625 31.296875 43.53125 35.828125 \r\nQ 39.65625 40.375 33.015625 40.375 \r\nz\r\nM 52.59375 71.296875 \r\nL 52.59375 62.3125 \r\nQ 48.875 64.0625 45.09375 64.984375 \r\nQ 41.3125 65.921875 37.59375 65.921875 \r\nQ 27.828125 65.921875 22.671875 59.328125 \r\nQ 17.53125 52.734375 16.796875 39.40625 \r\nQ 19.671875 43.65625 24.015625 45.921875 \r\nQ 28.375 48.1875 33.59375 48.1875 \r\nQ 44.578125 48.1875 50.953125 41.515625 \r\nQ 57.328125 34.859375 57.328125 23.390625 \r\nQ 57.328125 12.15625 50.6875 5.359375 \r\nQ 44.046875 -1.421875 33.015625 -1.421875 \r\nQ 20.359375 -1.421875 13.671875 8.265625 \r\nQ 6.984375 17.96875 6.984375 36.375 \r\nQ 6.984375 53.65625 15.1875 63.9375 \r\nQ 23.390625 74.21875 37.203125 74.21875 \r\nQ 40.921875 74.21875 44.703125 73.484375 \r\nQ 48.484375 72.75 52.59375 71.296875 \r\nz\r\n\" id=\"DejaVuSans-54\"/>\r\n     </defs>\r\n     <use xlink:href=\"#DejaVuSans-51\"/>\r\n     <use x=\"63.623047\" xlink:href=\"#DejaVuSans-46\"/>\r\n     <use x=\"95.410156\" xlink:href=\"#DejaVuSans-54\"/>\r\n    </g>\r\n   </g>\r\n   <g id=\"text_18\">\r\n    <!-- 6.8 -->\r\n    <g style=\"fill:#053061;\" transform=\"translate(346.624375 105.746754)scale(0.1 -0.1)\">\r\n     <use xlink:href=\"#DejaVuSans-54\"/>\r\n     <use x=\"63.623047\" xlink:href=\"#DejaVuSans-46\"/>\r\n     <use x=\"95.410156\" xlink:href=\"#DejaVuSans-56\"/>\r\n    </g>\r\n   </g>\r\n   <g id=\"text_19\">\r\n    <!-- 6 -->\r\n    <g style=\"fill:#053061;\" transform=\"translate(433.234688 105.746754)scale(0.1 -0.1)\">\r\n     <use xlink:href=\"#DejaVuSans-54\"/>\r\n    </g>\r\n   </g>\r\n   <g id=\"text_20\">\r\n    <!-- 0.8 -->\r\n    <g style=\"fill:#053061;\" transform=\"translate(510.304375 105.746754)scale(0.1 -0.1)\">\r\n     <use xlink:href=\"#DejaVuSans-48\"/>\r\n     <use x=\"63.623047\" xlink:href=\"#DejaVuSans-46\"/>\r\n     <use x=\"95.410156\" xlink:href=\"#DejaVuSans-56\"/>\r\n    </g>\r\n   </g>\r\n   <g id=\"text_21\">\r\n    <!-- 4.8 -->\r\n    <g style=\"fill:#053061;\" transform=\"translate(101.104375 187.586754)scale(0.1 -0.1)\">\r\n     <use xlink:href=\"#DejaVuSans-52\"/>\r\n     <use x=\"63.623047\" xlink:href=\"#DejaVuSans-46\"/>\r\n     <use x=\"95.410156\" xlink:href=\"#DejaVuSans-56\"/>\r\n    </g>\r\n   </g>\r\n   <g id=\"text_22\">\r\n    <!-- 74 -->\r\n    <g style=\"fill:#67001f;\" transform=\"translate(184.533437 187.586754)scale(0.1 -0.1)\">\r\n     <defs>\r\n      <path d=\"M 8.203125 72.90625 \r\nL 55.078125 72.90625 \r\nL 55.078125 68.703125 \r\nL 28.609375 0 \r\nL 18.3125 0 \r\nL 43.21875 64.59375 \r\nL 8.203125 64.59375 \r\nz\r\n\" id=\"DejaVuSans-55\"/>\r\n     </defs>\r\n     <use xlink:href=\"#DejaVuSans-55\"/>\r\n     <use x=\"63.623047\" xlink:href=\"#DejaVuSans-52\"/>\r\n    </g>\r\n   </g>\r\n   <g id=\"text_23\">\r\n    <!-- 4.8 -->\r\n    <g style=\"fill:#053061;\" transform=\"translate(264.784375 187.586754)scale(0.1 -0.1)\">\r\n     <use xlink:href=\"#DejaVuSans-52\"/>\r\n     <use x=\"63.623047\" xlink:href=\"#DejaVuSans-46\"/>\r\n     <use x=\"95.410156\" xlink:href=\"#DejaVuSans-56\"/>\r\n    </g>\r\n   </g>\r\n   <g id=\"text_24\">\r\n    <!-- 9.6 -->\r\n    <g style=\"fill:#053061;\" transform=\"translate(346.624375 187.586754)scale(0.1 -0.1)\">\r\n     <defs>\r\n      <path d=\"M 10.984375 1.515625 \r\nL 10.984375 10.5 \r\nQ 14.703125 8.734375 18.5 7.8125 \r\nQ 22.3125 6.890625 25.984375 6.890625 \r\nQ 35.75 6.890625 40.890625 13.453125 \r\nQ 46.046875 20.015625 46.78125 33.40625 \r\nQ 43.953125 29.203125 39.59375 26.953125 \r\nQ 35.25 24.703125 29.984375 24.703125 \r\nQ 19.046875 24.703125 12.671875 31.3125 \r\nQ 6.296875 37.9375 6.296875 49.421875 \r\nQ 6.296875 60.640625 12.9375 67.421875 \r\nQ 19.578125 74.21875 30.609375 74.21875 \r\nQ 43.265625 74.21875 49.921875 64.515625 \r\nQ 56.59375 54.828125 56.59375 36.375 \r\nQ 56.59375 19.140625 48.40625 8.859375 \r\nQ 40.234375 -1.421875 26.421875 -1.421875 \r\nQ 22.703125 -1.421875 18.890625 -0.6875 \r\nQ 15.09375 0.046875 10.984375 1.515625 \r\nz\r\nM 30.609375 32.421875 \r\nQ 37.25 32.421875 41.125 36.953125 \r\nQ 45.015625 41.5 45.015625 49.421875 \r\nQ 45.015625 57.28125 41.125 61.84375 \r\nQ 37.25 66.40625 30.609375 66.40625 \r\nQ 23.96875 66.40625 20.09375 61.84375 \r\nQ 16.21875 57.28125 16.21875 49.421875 \r\nQ 16.21875 41.5 20.09375 36.953125 \r\nQ 23.96875 32.421875 30.609375 32.421875 \r\nz\r\n\" id=\"DejaVuSans-57\"/>\r\n     </defs>\r\n     <use xlink:href=\"#DejaVuSans-57\"/>\r\n     <use x=\"63.623047\" xlink:href=\"#DejaVuSans-46\"/>\r\n     <use x=\"95.410156\" xlink:href=\"#DejaVuSans-54\"/>\r\n    </g>\r\n   </g>\r\n   <g id=\"text_25\">\r\n    <!-- 6.4 -->\r\n    <g style=\"fill:#053061;\" transform=\"translate(428.464375 187.586754)scale(0.1 -0.1)\">\r\n     <use xlink:href=\"#DejaVuSans-54\"/>\r\n     <use x=\"63.623047\" xlink:href=\"#DejaVuSans-46\"/>\r\n     <use x=\"95.410156\" xlink:href=\"#DejaVuSans-52\"/>\r\n    </g>\r\n   </g>\r\n   <g id=\"text_26\">\r\n    <!-- 0 -->\r\n    <g style=\"fill:#053061;\" transform=\"translate(515.074688 187.586754)scale(0.1 -0.1)\">\r\n     <use xlink:href=\"#DejaVuSans-48\"/>\r\n    </g>\r\n   </g>\r\n   <g id=\"text_27\">\r\n    <!-- 5.4 -->\r\n    <g style=\"fill:#053061;\" transform=\"translate(101.104375 269.426754)scale(0.1 -0.1)\">\r\n     <defs>\r\n      <path d=\"M 10.796875 72.90625 \r\nL 49.515625 72.90625 \r\nL 49.515625 64.59375 \r\nL 19.828125 64.59375 \r\nL 19.828125 46.734375 \r\nQ 21.96875 47.46875 24.109375 47.828125 \r\nQ 26.265625 48.1875 28.421875 48.1875 \r\nQ 40.625 48.1875 47.75 41.5 \r\nQ 54.890625 34.8125 54.890625 23.390625 \r\nQ 54.890625 11.625 47.5625 5.09375 \r\nQ 40.234375 -1.421875 26.90625 -1.421875 \r\nQ 22.3125 -1.421875 17.546875 -0.640625 \r\nQ 12.796875 0.140625 7.71875 1.703125 \r\nL 7.71875 11.625 \r\nQ 12.109375 9.234375 16.796875 8.0625 \r\nQ 21.484375 6.890625 26.703125 6.890625 \r\nQ 35.15625 6.890625 40.078125 11.328125 \r\nQ 45.015625 15.765625 45.015625 23.390625 \r\nQ 45.015625 31 40.078125 35.4375 \r\nQ 35.15625 39.890625 26.703125 39.890625 \r\nQ 22.75 39.890625 18.8125 39.015625 \r\nQ 14.890625 38.140625 10.796875 36.28125 \r\nz\r\n\" id=\"DejaVuSans-53\"/>\r\n     </defs>\r\n     <use xlink:href=\"#DejaVuSans-53\"/>\r\n     <use x=\"63.623047\" xlink:href=\"#DejaVuSans-46\"/>\r\n     <use x=\"95.410156\" xlink:href=\"#DejaVuSans-52\"/>\r\n    </g>\r\n   </g>\r\n   <g id=\"text_28\">\r\n    <!-- 5.4 -->\r\n    <g style=\"fill:#053061;\" transform=\"translate(182.944375 269.426754)scale(0.1 -0.1)\">\r\n     <use xlink:href=\"#DejaVuSans-53\"/>\r\n     <use x=\"63.623047\" xlink:href=\"#DejaVuSans-46\"/>\r\n     <use x=\"95.410156\" xlink:href=\"#DejaVuSans-52\"/>\r\n    </g>\r\n   </g>\r\n   <g id=\"text_29\">\r\n    <!-- 61 -->\r\n    <g style=\"fill:#67001f;\" transform=\"translate(266.373438 269.426754)scale(0.1 -0.1)\">\r\n     <defs>\r\n      <path d=\"M 12.40625 8.296875 \r\nL 28.515625 8.296875 \r\nL 28.515625 63.921875 \r\nL 10.984375 60.40625 \r\nL 10.984375 69.390625 \r\nL 28.421875 72.90625 \r\nL 38.28125 72.90625 \r\nL 38.28125 8.296875 \r\nL 54.390625 8.296875 \r\nL 54.390625 0 \r\nL 12.40625 0 \r\nz\r\n\" id=\"DejaVuSans-49\"/>\r\n     </defs>\r\n     <use xlink:href=\"#DejaVuSans-54\"/>\r\n     <use x=\"63.623047\" xlink:href=\"#DejaVuSans-49\"/>\r\n    </g>\r\n   </g>\r\n   <g id=\"text_30\">\r\n    <!-- 9.6 -->\r\n    <g style=\"fill:#053061;\" transform=\"translate(346.624375 269.426754)scale(0.1 -0.1)\">\r\n     <use xlink:href=\"#DejaVuSans-57\"/>\r\n     <use x=\"63.623047\" xlink:href=\"#DejaVuSans-46\"/>\r\n     <use x=\"95.410156\" xlink:href=\"#DejaVuSans-54\"/>\r\n    </g>\r\n   </g>\r\n   <g id=\"text_31\">\r\n    <!-- 14 -->\r\n    <g style=\"fill:#053061;\" transform=\"translate(430.053438 269.426754)scale(0.1 -0.1)\">\r\n     <use xlink:href=\"#DejaVuSans-49\"/>\r\n     <use x=\"63.623047\" xlink:href=\"#DejaVuSans-52\"/>\r\n    </g>\r\n   </g>\r\n   <g id=\"text_32\">\r\n    <!-- 3.6 -->\r\n    <g style=\"fill:#053061;\" transform=\"translate(510.304375 269.426754)scale(0.1 -0.1)\">\r\n     <use xlink:href=\"#DejaVuSans-51\"/>\r\n     <use x=\"63.623047\" xlink:href=\"#DejaVuSans-46\"/>\r\n     <use x=\"95.410156\" xlink:href=\"#DejaVuSans-54\"/>\r\n    </g>\r\n   </g>\r\n   <g id=\"text_33\">\r\n    <!-- 3.5 -->\r\n    <g style=\"fill:#053061;\" transform=\"translate(101.104375 351.266754)scale(0.1 -0.1)\">\r\n     <use xlink:href=\"#DejaVuSans-51\"/>\r\n     <use x=\"63.623047\" xlink:href=\"#DejaVuSans-46\"/>\r\n     <use x=\"95.410156\" xlink:href=\"#DejaVuSans-53\"/>\r\n    </g>\r\n   </g>\r\n   <g id=\"text_34\">\r\n    <!-- 1.2 -->\r\n    <g style=\"fill:#053061;\" transform=\"translate(182.944375 351.266754)scale(0.1 -0.1)\">\r\n     <use xlink:href=\"#DejaVuSans-49\"/>\r\n     <use x=\"63.623047\" xlink:href=\"#DejaVuSans-46\"/>\r\n     <use x=\"95.410156\" xlink:href=\"#DejaVuSans-50\"/>\r\n    </g>\r\n   </g>\r\n   <g id=\"text_35\">\r\n    <!-- 3.4 -->\r\n    <g style=\"fill:#053061;\" transform=\"translate(264.784375 351.266754)scale(0.1 -0.1)\">\r\n     <use xlink:href=\"#DejaVuSans-51\"/>\r\n     <use x=\"63.623047\" xlink:href=\"#DejaVuSans-46\"/>\r\n     <use x=\"95.410156\" xlink:href=\"#DejaVuSans-52\"/>\r\n    </g>\r\n   </g>\r\n   <g id=\"text_36\">\r\n    <!-- 80 -->\r\n    <g style=\"fill:#67001f;\" transform=\"translate(348.213437 351.266754)scale(0.1 -0.1)\">\r\n     <use xlink:href=\"#DejaVuSans-56\"/>\r\n     <use x=\"63.623047\" xlink:href=\"#DejaVuSans-48\"/>\r\n    </g>\r\n   </g>\r\n   <g id=\"text_37\">\r\n    <!-- 8.7 -->\r\n    <g style=\"fill:#053061;\" transform=\"translate(428.464375 351.266754)scale(0.1 -0.1)\">\r\n     <use xlink:href=\"#DejaVuSans-56\"/>\r\n     <use x=\"63.623047\" xlink:href=\"#DejaVuSans-46\"/>\r\n     <use x=\"95.410156\" xlink:href=\"#DejaVuSans-55\"/>\r\n    </g>\r\n   </g>\r\n   <g id=\"text_38\">\r\n    <!-- 3 -->\r\n    <g style=\"fill:#053061;\" transform=\"translate(515.074688 351.266754)scale(0.1 -0.1)\">\r\n     <use xlink:href=\"#DejaVuSans-51\"/>\r\n    </g>\r\n   </g>\r\n   <g id=\"text_39\">\r\n    <!-- 3.9 -->\r\n    <g style=\"fill:#053061;\" transform=\"translate(101.104375 433.106754)scale(0.1 -0.1)\">\r\n     <use xlink:href=\"#DejaVuSans-51\"/>\r\n     <use x=\"63.623047\" xlink:href=\"#DejaVuSans-46\"/>\r\n     <use x=\"95.410156\" xlink:href=\"#DejaVuSans-57\"/>\r\n    </g>\r\n   </g>\r\n   <g id=\"text_40\">\r\n    <!-- 1.6 -->\r\n    <g style=\"fill:#053061;\" transform=\"translate(182.944375 433.106754)scale(0.1 -0.1)\">\r\n     <use xlink:href=\"#DejaVuSans-49\"/>\r\n     <use x=\"63.623047\" xlink:href=\"#DejaVuSans-46\"/>\r\n     <use x=\"95.410156\" xlink:href=\"#DejaVuSans-54\"/>\r\n    </g>\r\n   </g>\r\n   <g id=\"text_41\">\r\n    <!-- 3.9 -->\r\n    <g style=\"fill:#053061;\" transform=\"translate(264.784375 433.106754)scale(0.1 -0.1)\">\r\n     <use xlink:href=\"#DejaVuSans-51\"/>\r\n     <use x=\"63.623047\" xlink:href=\"#DejaVuSans-46\"/>\r\n     <use x=\"95.410156\" xlink:href=\"#DejaVuSans-57\"/>\r\n    </g>\r\n   </g>\r\n   <g id=\"text_42\">\r\n    <!-- 12 -->\r\n    <g style=\"fill:#053061;\" transform=\"translate(348.213437 433.106754)scale(0.1 -0.1)\">\r\n     <use xlink:href=\"#DejaVuSans-49\"/>\r\n     <use x=\"63.623047\" xlink:href=\"#DejaVuSans-50\"/>\r\n    </g>\r\n   </g>\r\n   <g id=\"text_43\">\r\n    <!-- 77 -->\r\n    <g style=\"fill:#67001f;\" transform=\"translate(430.053438 433.106754)scale(0.1 -0.1)\">\r\n     <use xlink:href=\"#DejaVuSans-55\"/>\r\n     <use x=\"63.623047\" xlink:href=\"#DejaVuSans-55\"/>\r\n    </g>\r\n   </g>\r\n   <g id=\"text_44\">\r\n    <!-- 1.8 -->\r\n    <g style=\"fill:#053061;\" transform=\"translate(510.304375 433.106754)scale(0.1 -0.1)\">\r\n     <use xlink:href=\"#DejaVuSans-49\"/>\r\n     <use x=\"63.623047\" xlink:href=\"#DejaVuSans-46\"/>\r\n     <use x=\"95.410156\" xlink:href=\"#DejaVuSans-56\"/>\r\n    </g>\r\n   </g>\r\n   <g id=\"text_45\">\r\n    <!-- 3.1 -->\r\n    <g style=\"fill:#053061;\" transform=\"translate(101.104375 514.946754)scale(0.1 -0.1)\">\r\n     <use xlink:href=\"#DejaVuSans-51\"/>\r\n     <use x=\"63.623047\" xlink:href=\"#DejaVuSans-46\"/>\r\n     <use x=\"95.410156\" xlink:href=\"#DejaVuSans-49\"/>\r\n    </g>\r\n   </g>\r\n   <g id=\"text_46\">\r\n    <!-- 0 -->\r\n    <g style=\"fill:#053061;\" transform=\"translate(187.714687 514.946754)scale(0.1 -0.1)\">\r\n     <use xlink:href=\"#DejaVuSans-48\"/>\r\n    </g>\r\n   </g>\r\n   <g id=\"text_47\">\r\n    <!-- 9.2 -->\r\n    <g style=\"fill:#053061;\" transform=\"translate(264.784375 514.946754)scale(0.1 -0.1)\">\r\n     <use xlink:href=\"#DejaVuSans-57\"/>\r\n     <use x=\"63.623047\" xlink:href=\"#DejaVuSans-46\"/>\r\n     <use x=\"95.410156\" xlink:href=\"#DejaVuSans-50\"/>\r\n    </g>\r\n   </g>\r\n   <g id=\"text_48\">\r\n    <!-- 15 -->\r\n    <g style=\"fill:#053061;\" transform=\"translate(348.213437 514.946754)scale(0.1 -0.1)\">\r\n     <use xlink:href=\"#DejaVuSans-49\"/>\r\n     <use x=\"63.623047\" xlink:href=\"#DejaVuSans-53\"/>\r\n    </g>\r\n   </g>\r\n   <g id=\"text_49\">\r\n    <!-- 15 -->\r\n    <g style=\"fill:#053061;\" transform=\"translate(430.053438 514.946754)scale(0.1 -0.1)\">\r\n     <use xlink:href=\"#DejaVuSans-49\"/>\r\n     <use x=\"63.623047\" xlink:href=\"#DejaVuSans-53\"/>\r\n    </g>\r\n   </g>\r\n   <g id=\"text_50\">\r\n    <!-- 57 -->\r\n    <g style=\"fill:#67001f;\" transform=\"translate(511.893438 514.946754)scale(0.1 -0.1)\">\r\n     <use xlink:href=\"#DejaVuSans-53\"/>\r\n     <use x=\"63.623047\" xlink:href=\"#DejaVuSans-55\"/>\r\n    </g>\r\n   </g>\r\n  </g>\r\n  <g id=\"axes_2\">\r\n   <g id=\"patch_7\">\r\n    <path clip-path=\"url(#pd1929c560d)\" d=\"M 589.865938 606.567379 \r\nL 589.865938 604.231598 \r\nL 589.865938 10.94316 \r\nL 589.865938 8.607379 \r\nL 619.763937 8.607379 \r\nL 619.763937 10.94316 \r\nL 619.763937 604.231598 \r\nL 619.763937 606.567379 \r\nz\r\n\" style=\"fill:#ffffff;stroke:#ffffff;stroke-linejoin:miter;stroke-width:0.01;\"/>\r\n   </g>\r\n   <image height=\"598\" id=\"imagedbee073914\" transform=\"scale(1 -1)translate(0 -598)\" width=\"30\" x=\"590\" xlink:href=\"data:image/png;base64,\r\niVBORw0KGgoAAAANSUhEUgAAAB4AAAJWCAYAAABPpDeKAAAC60lEQVR4nO2cwXGEQBDEFtg8HJ7z/xtwFpoqJCUw1bvdzXC+8/G7ft41wDkxdK219nXMDJ5UPCN5THHmwvCZy3fHmQvDZy7fHc8d9dTkzIXhK5DMheEzl++OMxeGz1y+O+6oMYoThjJOmYuhO/7+4MyFMfhxk03x3FEfQ3kaNJdO8XHNzC5OGMUJYx9ncWIwmkuouDgxGON02hSfxQlC2dU2xcWJwmgu3dOpZY/CuOwJFRcnBmOcdE+nlj2KuhqjD8q/P9jXXMY42RTXXBj7uK6RwcXp+4P3KYxTihmEcTI+nVLMIIyT8N2pAoEQxkl31MI4nba3xeKEYVRsK5DMhWFUXJwg9nHKFoG9hIqLE4PwrzDGOMkUtwhg+MzlU1ycMHzm8ilu2cPwvUkUJwzlRxG2OOnuuObCMMbJtoEUJwyhYt37cebC2OvIXAy+o96vTrHujieP2vZTb9+bhK5Aai6MFGMI46RrLp+5fBtI5sIwFohtvS1OGCnGEMZJ2NVCxS17DEJzVSAUwji9tuba7zszeE7xMyTZGKehwZPmmhk8WSDFicForqHB3fH3B/uaaz9Dg1tvvz/Y11wVCIYwTrrm8r2Y+9bbnk4YxgJZsgLJXBgVCIYwTrrm8pnLt97OHfU99J6auTD2bVOcuTAqEAxhnHTNJXx3uockC+Oka6596+Kku+OaC8NnLl+BZC6M/egKpDhRCOMkfFu0FUjNhVGBYBjjZGuuFGMUJ4wUY/gUd9QYKcYoThhziv90inV33FFj+F7MfXfcUWMoFc98TbE4YaQYw7feZi6MFGMUJ4wUY+zXprgvoGAI/5NRcaIwxkn380FdgRQnDF9X+xT3hVAMn7l8ins6YfhWH996W5wwfF3tU9yyh+Ezl09xTycM5bInU1ycMPb73CODU/z9wb6j3u+tU2y7444aI8UYxQljcr2VKc5cGEbFtmUvc2GkGEMZJ9nvFn3m8ilur8bwrT7FCcN31CnG8MXpH0wxak794XJPAAAAAElFTkSuQmCC\" y=\"-8\"/>\r\n   <g id=\"matplotlib.axis_3\"/>\r\n   <g id=\"matplotlib.axis_4\">\r\n    <g id=\"ytick_7\">\r\n     <g id=\"line2d_13\">\r\n      <defs>\r\n       <path d=\"M 0 0 \r\nL 3.5 0 \r\n\" id=\"m017325ded8\" style=\"stroke:#000000;stroke-width:0.8;\"/>\r\n      </defs>\r\n      <g>\r\n       <use style=\"stroke:#000000;stroke-width:0.8;\" x=\"619.763937\" xlink:href=\"#m017325ded8\" y=\"606.567379\"/>\r\n      </g>\r\n     </g>\r\n     <g id=\"text_51\">\r\n      <!-- 0 -->\r\n      <g transform=\"translate(626.763937 610.366598)scale(0.1 -0.1)\">\r\n       <use xlink:href=\"#DejaVuSans-48\"/>\r\n      </g>\r\n     </g>\r\n    </g>\r\n    <g id=\"ytick_8\">\r\n     <g id=\"line2d_14\">\r\n      <g>\r\n       <use style=\"stroke:#000000;stroke-width:0.8;\" x=\"619.763937\" xlink:href=\"#m017325ded8\" y=\"532.121359\"/>\r\n      </g>\r\n     </g>\r\n     <g id=\"text_52\">\r\n      <!-- 10 -->\r\n      <g transform=\"translate(626.763937 535.920578)scale(0.1 -0.1)\">\r\n       <use xlink:href=\"#DejaVuSans-49\"/>\r\n       <use x=\"63.623047\" xlink:href=\"#DejaVuSans-48\"/>\r\n      </g>\r\n     </g>\r\n    </g>\r\n    <g id=\"ytick_9\">\r\n     <g id=\"line2d_15\">\r\n      <g>\r\n       <use style=\"stroke:#000000;stroke-width:0.8;\" x=\"619.763937\" xlink:href=\"#m017325ded8\" y=\"457.675339\"/>\r\n      </g>\r\n     </g>\r\n     <g id=\"text_53\">\r\n      <!-- 20 -->\r\n      <g transform=\"translate(626.763937 461.474558)scale(0.1 -0.1)\">\r\n       <use xlink:href=\"#DejaVuSans-50\"/>\r\n       <use x=\"63.623047\" xlink:href=\"#DejaVuSans-48\"/>\r\n      </g>\r\n     </g>\r\n    </g>\r\n    <g id=\"ytick_10\">\r\n     <g id=\"line2d_16\">\r\n      <g>\r\n       <use style=\"stroke:#000000;stroke-width:0.8;\" x=\"619.763937\" xlink:href=\"#m017325ded8\" y=\"383.229319\"/>\r\n      </g>\r\n     </g>\r\n     <g id=\"text_54\">\r\n      <!-- 30 -->\r\n      <g transform=\"translate(626.763937 387.028538)scale(0.1 -0.1)\">\r\n       <use xlink:href=\"#DejaVuSans-51\"/>\r\n       <use x=\"63.623047\" xlink:href=\"#DejaVuSans-48\"/>\r\n      </g>\r\n     </g>\r\n    </g>\r\n    <g id=\"ytick_11\">\r\n     <g id=\"line2d_17\">\r\n      <g>\r\n       <use style=\"stroke:#000000;stroke-width:0.8;\" x=\"619.763937\" xlink:href=\"#m017325ded8\" y=\"308.783299\"/>\r\n      </g>\r\n     </g>\r\n     <g id=\"text_55\">\r\n      <!-- 40 -->\r\n      <g transform=\"translate(626.763937 312.582518)scale(0.1 -0.1)\">\r\n       <use xlink:href=\"#DejaVuSans-52\"/>\r\n       <use x=\"63.623047\" xlink:href=\"#DejaVuSans-48\"/>\r\n      </g>\r\n     </g>\r\n    </g>\r\n    <g id=\"ytick_12\">\r\n     <g id=\"line2d_18\">\r\n      <g>\r\n       <use style=\"stroke:#000000;stroke-width:0.8;\" x=\"619.763937\" xlink:href=\"#m017325ded8\" y=\"234.337279\"/>\r\n      </g>\r\n     </g>\r\n     <g id=\"text_56\">\r\n      <!-- 50 -->\r\n      <g transform=\"translate(626.763937 238.136498)scale(0.1 -0.1)\">\r\n       <use xlink:href=\"#DejaVuSans-53\"/>\r\n       <use x=\"63.623047\" xlink:href=\"#DejaVuSans-48\"/>\r\n      </g>\r\n     </g>\r\n    </g>\r\n    <g id=\"ytick_13\">\r\n     <g id=\"line2d_19\">\r\n      <g>\r\n       <use style=\"stroke:#000000;stroke-width:0.8;\" x=\"619.763937\" xlink:href=\"#m017325ded8\" y=\"159.891259\"/>\r\n      </g>\r\n     </g>\r\n     <g id=\"text_57\">\r\n      <!-- 60 -->\r\n      <g transform=\"translate(626.763937 163.690478)scale(0.1 -0.1)\">\r\n       <use xlink:href=\"#DejaVuSans-54\"/>\r\n       <use x=\"63.623047\" xlink:href=\"#DejaVuSans-48\"/>\r\n      </g>\r\n     </g>\r\n    </g>\r\n    <g id=\"ytick_14\">\r\n     <g id=\"line2d_20\">\r\n      <g>\r\n       <use style=\"stroke:#000000;stroke-width:0.8;\" x=\"619.763937\" xlink:href=\"#m017325ded8\" y=\"85.445239\"/>\r\n      </g>\r\n     </g>\r\n     <g id=\"text_58\">\r\n      <!-- 70 -->\r\n      <g transform=\"translate(626.763937 89.244458)scale(0.1 -0.1)\">\r\n       <use xlink:href=\"#DejaVuSans-55\"/>\r\n       <use x=\"63.623047\" xlink:href=\"#DejaVuSans-48\"/>\r\n      </g>\r\n     </g>\r\n    </g>\r\n    <g id=\"ytick_15\">\r\n     <g id=\"line2d_21\">\r\n      <g>\r\n       <use style=\"stroke:#000000;stroke-width:0.8;\" x=\"619.763937\" xlink:href=\"#m017325ded8\" y=\"10.999219\"/>\r\n      </g>\r\n     </g>\r\n     <g id=\"text_59\">\r\n      <!-- 80 -->\r\n      <g transform=\"translate(626.763937 14.798438)scale(0.1 -0.1)\">\r\n       <use xlink:href=\"#DejaVuSans-56\"/>\r\n       <use x=\"63.623047\" xlink:href=\"#DejaVuSans-48\"/>\r\n      </g>\r\n     </g>\r\n    </g>\r\n   </g>\r\n   <g id=\"patch_8\">\r\n    <path d=\"M 589.865938 606.567379 \r\nL 589.865938 604.231598 \r\nL 589.865938 10.94316 \r\nL 589.865938 8.607379 \r\nL 619.763937 8.607379 \r\nL 619.763937 10.94316 \r\nL 619.763937 604.231598 \r\nL 619.763937 606.567379 \r\nz\r\n\" style=\"fill:none;stroke:#000000;stroke-linejoin:miter;stroke-width:0.8;\"/>\r\n   </g>\r\n  </g>\r\n </g>\r\n <defs>\r\n  <clipPath id=\"p2eced09896\">\r\n   <rect height=\"491.04\" width=\"491.04\" x=\"68.135938\" y=\"62.067379\"/>\r\n  </clipPath>\r\n  <clipPath id=\"pd1929c560d\">\r\n   <rect height=\"597.96\" width=\"29.898\" x=\"589.865938\" y=\"8.607379\"/>\r\n  </clipPath>\r\n </defs>\r\n</svg>\r\n",
      "image/png": "[encoded data removed]"
     },
     "metadata": {
      "needs_background": "light"
     }
    }
   ],
   "source": [
    "# sns.set(font_scale=1.5)\n",
    "fig, ax = plt.subplots(1,1,figsize=(11,11))\n",
    "\n",
    "cat_dict = dict( enumerate(dataset['Feeling'].cat.categories ) )\n",
    "\n",
    "y_pred_cats = [cat_dict[i] for i in y_pred.cpu().numpy().tolist()]\n",
    "y_true_cats = [cat_dict[i] for i in y_true.cpu().numpy().tolist()]\n",
    "\n",
    "matriz_de_confusao = 100*confusion_matrix(y_pred_cats, y_true_cats, normalize='true', labels=list(cat_dict.values()))\n",
    "# normalize{‘true’, ‘pred’, ‘all’}, default=None\n",
    "# Normalizes confusion matrix over the true (rows), predicted (columns) conditions or all the population. If None, confusion matrix will not be normalized.\n",
    "\n",
    "#criando list com as emoções\n",
    "emotion_class = ['Angry','Disgust','Fear','Happy','Sad','Surprise']\n",
    "\n",
    "df_matriz_de_confusao = pd.DataFrame(matriz_de_confusao, emotion_class, emotion_class)\n",
    "\n",
    "cfm = ConfusionMatrixDisplay(matriz_de_confusao)\n",
    "\n",
    "cfm.plot(ax=ax, cmap='RdBu')\n",
    "\n",
    "ax.set_xticklabels(labels=list(cat_dict.values()))\n",
    "ax.set_yticklabels(labels=list(cat_dict.values()))\n",
    "\n",
    "ax.grid(False)"
   ]
  },
  {
   "cell_type": "code",
   "execution_count": 59,
   "metadata": {},
   "outputs": [
    {
     "output_type": "execute_result",
     "data": {
      "text/plain": [
       "0.9759141395232747"
      ]
     },
     "metadata": {},
     "execution_count": 59
    }
   ],
   "source": [
    "accs[-1]"
   ]
  },
  {
   "cell_type": "code",
   "execution_count": 60,
   "metadata": {},
   "outputs": [
    {
     "output_type": "stream",
     "name": "stdout",
     "text": [
      "76.75%\n"
     ]
    }
   ],
   "source": [
    "test_acc = calc_accuracy(Y_pred_tensor.cpu(), y_true.cpu())     # calcula a taxa de acerto atual\n",
    "print(f'{100*test_acc:.2f}%')"
   ]
  },
  {
   "cell_type": "code",
   "execution_count": null,
   "metadata": {},
   "outputs": [],
   "source": []
  },
  {
   "cell_type": "code",
   "execution_count": null,
   "metadata": {},
   "outputs": [],
   "source": []
  },
  {
   "cell_type": "code",
   "execution_count": null,
   "metadata": {},
   "outputs": [],
   "source": []
  },
  {
   "cell_type": "code",
   "execution_count": null,
   "metadata": {},
   "outputs": [],
   "source": []
  },
  {
   "cell_type": "code",
   "execution_count": null,
   "metadata": {},
   "outputs": [],
   "source": []
  },
  {
   "cell_type": "code",
   "execution_count": null,
   "metadata": {},
   "outputs": [],
   "source": []
  },
  {
   "cell_type": "code",
   "execution_count": null,
   "metadata": {},
   "outputs": [],
   "source": []
  },
  {
   "cell_type": "code",
   "execution_count": null,
   "metadata": {},
   "outputs": [],
   "source": []
  },
  {
   "cell_type": "code",
   "execution_count": null,
   "metadata": {},
   "outputs": [],
   "source": []
  },
  {
   "cell_type": "code",
   "execution_count": null,
   "metadata": {},
   "outputs": [],
   "source": []
  },
  {
   "cell_type": "code",
   "execution_count": null,
   "metadata": {},
   "outputs": [],
   "source": []
  },
  {
   "cell_type": "code",
   "execution_count": null,
   "metadata": {},
   "outputs": [],
   "source": []
  }
 ]
}