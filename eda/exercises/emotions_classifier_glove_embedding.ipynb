{
 "metadata": {
  "language_info": {
   "codemirror_mode": {
    "name": "ipython",
    "version": 3
   },
   "file_extension": ".py",
   "mimetype": "text/x-python",
   "name": "python",
   "nbconvert_exporter": "python",
   "pygments_lexer": "ipython3",
   "version": "3.7.9"
  },
  "orig_nbformat": 2,
  "kernelspec": {
   "name": "python379jvsc74a57bd087208729ed90ceac3456c3150dcf8f8574a040aaeff28d3df5566e1287b044ae",
   "display_name": "Python 3.7.9 64-bit ('machinelearning': conda)"
  }
 },
 "nbformat": 4,
 "nbformat_minor": 2,
 "cells": [
  {
   "cell_type": "code",
   "execution_count": 1,
   "metadata": {},
   "outputs": [],
   "source": [
    "# Import packages\n",
    "import os\n",
    "\n",
    "import pandas as pd\n",
    "import numpy as np\n",
    "\n",
    "import matplotlib.pyplot as plt\n",
    "import seaborn as sns\n",
    "\n",
    "import re\n",
    "import string\n",
    "\n",
    "import nltk\n",
    "from nltk.corpus import stopwords \n",
    "# from nltk.stem import PorterStemmer\n",
    "from nltk.tokenize import TweetTokenizer\n",
    "\n",
    "from gensim.models import KeyedVectors\n",
    "from gensim.test.utils import datapath, get_tmpfile\n",
    "from gensim.scripts.glove2word2vec import glove2word2vec\n",
    "\n",
    "import torch\n",
    "from torch import nn\n",
    "\n",
    "from sklearn.model_selection import train_test_split\n",
    "from sklearn.metrics import confusion_matrix, ConfusionMatrixDisplay\n"
   ]
  },
  {
   "cell_type": "code",
   "execution_count": 2,
   "metadata": {},
   "outputs": [
    {
     "output_type": "execute_result",
     "data": {
      "text/plain": [
       "True"
      ]
     },
     "metadata": {},
     "execution_count": 2
    }
   ],
   "source": [
    "CUDA_flag = torch.cuda.is_available() # a flag to check if CUDA is available for GPU use\n",
    "CUDA_flag"
   ]
  },
  {
   "cell_type": "code",
   "execution_count": 3,
   "metadata": {},
   "outputs": [
    {
     "output_type": "stream",
     "name": "stderr",
     "text": [
      "[nltk_data] Downloading package punkt to\n[nltk_data]     C:\\Users\\fonta\\AppData\\Roaming\\nltk_data...\n[nltk_data]   Package punkt is already up-to-date!\n[nltk_data] Downloading package stopwords to\n[nltk_data]     C:\\Users\\fonta\\AppData\\Roaming\\nltk_data...\n[nltk_data]   Package stopwords is already up-to-date!\n"
     ]
    }
   ],
   "source": [
    "# Setup some variables\n",
    "tknzr = TweetTokenizer()\n",
    "# stemmer = PorterStemmer()\n",
    "nltk.download('punkt')\n",
    "nltk.download('stopwords')\n",
    "stopwords = nltk.corpus.stopwords.words(\"english\")"
   ]
  },
  {
   "source": [
    "----------------------------------------------------------------------"
   ],
   "cell_type": "markdown",
   "metadata": {}
  },
  {
   "source": [
    "## Declaring some functions"
   ],
   "cell_type": "markdown",
   "metadata": {}
  },
  {
   "cell_type": "code",
   "execution_count": 4,
   "metadata": {},
   "outputs": [],
   "source": [
    "# função de limpar texto\n",
    "def cleanText(words, stem=False):\n",
    "  \"\"\"\n",
    "    Esta função recebe um text e retorna o mesmo, já tratado com stopwords & punctuation\n",
    "  \"\"\"\n",
    "  newWords = list()\n",
    "  for word in words:\n",
    "    word = re.sub('http[s]?://(?:[a-zA-Z]|[0-9]|[$-_@.&+#]|[!*\\(\\),]|'\\\n",
    "                       '(?:%[0-9a-fA-F][0-9a-fA-F]))+','', word)\n",
    "    word = re.sub(\"(@[A-Za-z0-9_]+)\",\"\", word)\n",
    "    word = word.lower()\n",
    "    if len(word) > 0 and word not in string.punctuation and word not in stopwords and word != \"<br />\":\n",
    "      if stem:\n",
    "        word = stemmer.stem(word)\n",
    "        newWords.append(word)\n",
    "      else:\n",
    "        newWords.append(word)\n",
    "  return newWords"
   ]
  },
  {
   "cell_type": "code",
   "execution_count": 5,
   "metadata": {},
   "outputs": [],
   "source": [
    "# confusion matrix daora\n",
    "def plot_conf_mat(y_test, y_preds, norm=\"false\"):\n",
    "    fig, ax = plt.subplots(figsize=(3, 3))\n",
    "    ax = sns.heatmap(confusion_matrix(y_test, y_preds, normalize=norm),\n",
    "                    annot=True,\n",
    "                    cbar=False)\n",
    "    plt.xlabel(\"True label\")\n",
    "    plt.ylabel(\"Predicted label\")"
   ]
  },
  {
   "cell_type": "code",
   "execution_count": 6,
   "metadata": {},
   "outputs": [],
   "source": [
    "def plot_loss_and_accuracy(losses, accs):\n",
    "\n",
    "  fig, ax_tuple = plt.subplots(1, 2, figsize=(16,6))\n",
    "  fig.suptitle('Loss and accuracy')\n",
    "\n",
    "  for i, (y_label, y_values) in enumerate(zip(['BCE loss','Accuracy'],[losses, accs])):\n",
    "    ax_tuple[i].plot(range(len(y_values)),  y_values, label='train')\n",
    "    ax_tuple[i].set_xlabel('epochs')\n",
    "    ax_tuple[i].set_ylabel(y_label)\n",
    "    ax_tuple[i].legend()"
   ]
  },
  {
   "cell_type": "code",
   "execution_count": 7,
   "metadata": {},
   "outputs": [],
   "source": [
    "def label2Embedding(word):\n",
    "  ''' Recebe uma string (word) e devolve o embedding vector correspondente (se existir).\n",
    "  '''\n",
    "  if word in modelo.vocab:\n",
    "    embed = modelo.get_vector(word)\n",
    "    if embed is not None:\n",
    "      return embed"
   ]
  },
  {
   "source": [
    "-------------------------------------------------------------------------------"
   ],
   "cell_type": "markdown",
   "metadata": {}
  },
  {
   "source": [
    "### Importando o arquivo do GloVE de 50 dimensões e criando a variável *modelo* que será por onde iremos interagir com o *word embedding* já treinado"
   ],
   "cell_type": "markdown",
   "metadata": {}
  },
  {
   "cell_type": "code",
   "execution_count": 8,
   "metadata": {},
   "outputs": [
    {
     "output_type": "execute_result",
     "data": {
      "text/plain": [
       "'d:\\\\Dropbox\\\\GitHub\\\\2020_INF425_NLP_SeReS\\\\eda\\\\exercises'"
      ]
     },
     "metadata": {},
     "execution_count": 8
    }
   ],
   "source": [
    "cwd = os.getcwd()\n",
    "cwd"
   ]
  },
  {
   "cell_type": "code",
   "execution_count": 9,
   "metadata": {},
   "outputs": [],
   "source": [
    "num_dims = 100\n",
    "\n",
    "glove_file = datapath(cwd+f'/../data/glove.6B.{num_dims}d.txt')\n",
    "tmp_file   = get_tmpfile(cwd+f\"/../data/glove.6B.{num_dims}d_word2vec.txt\")\n",
    "_          = glove2word2vec(glove_file, tmp_file)\n",
    "\n",
    "filename_txt = cwd+f\"/../data/glove.6B.{num_dims}d_word2vec.txt\"\n",
    "modelo = KeyedVectors.load_word2vec_format(filename_txt)"
   ]
  },
  {
   "source": [
    "### Lendo o dataset"
   ],
   "cell_type": "markdown",
   "metadata": {}
  },
  {
   "cell_type": "code",
   "execution_count": 10,
   "metadata": {},
   "outputs": [
    {
     "output_type": "execute_result",
     "data": {
      "text/plain": [
       "   Sl no                                             Tweets     Search key  \\\n",
       "0      1   #1: @fe ed \"RT @MirayaDizon1: Time is ticking...  happy moments   \n",
       "1      2   #2: @蓮花 &はすか ed \"RT @ninjaryugo: ＃コナモンの日 だそうで...  happy moments   \n",
       "2      3   #3: @Ris ♡ ed \"Happy birthday to one smokin h...  happy moments   \n",
       "3      4   #4: @월월 [씍쯴사랑로봇] jwinnie is the best, cheer u...  happy moments   \n",
       "4      5   #5: @Madhurima wth u vc♥ ed \"Good morning dea...  happy moments   \n",
       "\n",
       "  Feeling  \n",
       "0   happy  \n",
       "1   happy  \n",
       "2   happy  \n",
       "3   happy  \n",
       "4   happy  "
      ],
      "text/html": "<div>\n<style scoped>\n    .dataframe tbody tr th:only-of-type {\n        vertical-align: middle;\n    }\n\n    .dataframe tbody tr th {\n        vertical-align: top;\n    }\n\n    .dataframe thead th {\n        text-align: right;\n    }\n</style>\n<table border=\"1\" class=\"dataframe\">\n  <thead>\n    <tr style=\"text-align: right;\">\n      <th></th>\n      <th>Sl no</th>\n      <th>Tweets</th>\n      <th>Search key</th>\n      <th>Feeling</th>\n    </tr>\n  </thead>\n  <tbody>\n    <tr>\n      <th>0</th>\n      <td>1</td>\n      <td>#1: @fe ed \"RT @MirayaDizon1: Time is ticking...</td>\n      <td>happy moments</td>\n      <td>happy</td>\n    </tr>\n    <tr>\n      <th>1</th>\n      <td>2</td>\n      <td>#2: @蓮花 &amp;はすか ed \"RT @ninjaryugo: ＃コナモンの日 だそうで...</td>\n      <td>happy moments</td>\n      <td>happy</td>\n    </tr>\n    <tr>\n      <th>2</th>\n      <td>3</td>\n      <td>#3: @Ris ♡ ed \"Happy birthday to one smokin h...</td>\n      <td>happy moments</td>\n      <td>happy</td>\n    </tr>\n    <tr>\n      <th>3</th>\n      <td>4</td>\n      <td>#4: @월월 [씍쯴사랑로봇] jwinnie is the best, cheer u...</td>\n      <td>happy moments</td>\n      <td>happy</td>\n    </tr>\n    <tr>\n      <th>4</th>\n      <td>5</td>\n      <td>#5: @Madhurima wth u vc♥ ed \"Good morning dea...</td>\n      <td>happy moments</td>\n      <td>happy</td>\n    </tr>\n  </tbody>\n</table>\n</div>"
     },
     "metadata": {},
     "execution_count": 10
    }
   ],
   "source": [
    "df = pd.read_csv(\"../data/data.csv\", encoding = \"utf-8\")\n",
    "df.head()"
   ]
  },
  {
   "source": [
    "### Copiando o dataset e fazendo transformações necessárias"
   ],
   "cell_type": "markdown",
   "metadata": {}
  },
  {
   "cell_type": "code",
   "execution_count": 11,
   "metadata": {},
   "outputs": [
    {
     "output_type": "execute_result",
     "data": {
      "text/plain": [
       "                                              Tweets Feeling\n",
       "0   #1: @fe ed \"RT @MirayaDizon1: Time is ticking...   happy\n",
       "1   #2: @蓮花 &はすか ed \"RT @ninjaryugo: ＃コナモンの日 だそうで...   happy\n",
       "2   #3: @Ris ♡ ed \"Happy birthday to one smokin h...   happy\n",
       "3   #4: @월월 [씍쯴사랑로봇] jwinnie is the best, cheer u...   happy\n",
       "4   #5: @Madhurima wth u vc♥ ed \"Good morning dea...   happy"
      ],
      "text/html": "<div>\n<style scoped>\n    .dataframe tbody tr th:only-of-type {\n        vertical-align: middle;\n    }\n\n    .dataframe tbody tr th {\n        vertical-align: top;\n    }\n\n    .dataframe thead th {\n        text-align: right;\n    }\n</style>\n<table border=\"1\" class=\"dataframe\">\n  <thead>\n    <tr style=\"text-align: right;\">\n      <th></th>\n      <th>Tweets</th>\n      <th>Feeling</th>\n    </tr>\n  </thead>\n  <tbody>\n    <tr>\n      <th>0</th>\n      <td>#1: @fe ed \"RT @MirayaDizon1: Time is ticking...</td>\n      <td>happy</td>\n    </tr>\n    <tr>\n      <th>1</th>\n      <td>#2: @蓮花 &amp;はすか ed \"RT @ninjaryugo: ＃コナモンの日 だそうで...</td>\n      <td>happy</td>\n    </tr>\n    <tr>\n      <th>2</th>\n      <td>#3: @Ris ♡ ed \"Happy birthday to one smokin h...</td>\n      <td>happy</td>\n    </tr>\n    <tr>\n      <th>3</th>\n      <td>#4: @월월 [씍쯴사랑로봇] jwinnie is the best, cheer u...</td>\n      <td>happy</td>\n    </tr>\n    <tr>\n      <th>4</th>\n      <td>#5: @Madhurima wth u vc♥ ed \"Good morning dea...</td>\n      <td>happy</td>\n    </tr>\n  </tbody>\n</table>\n</div>"
     },
     "metadata": {},
     "execution_count": 11
    }
   ],
   "source": [
    "dataset = df.copy()\n",
    "\n",
    "dataset = dataset.drop(columns=[\"Sl no\", \"Search key\"])\n",
    "dataset.head()"
   ]
  },
  {
   "cell_type": "code",
   "execution_count": 12,
   "metadata": {},
   "outputs": [
    {
     "output_type": "execute_result",
     "data": {
      "text/plain": [
       "happy       39.213337\n",
       "sad         28.441649\n",
       "angry       13.387242\n",
       "fear         8.615354\n",
       "disgust      6.359189\n",
       "surprise     3.983229\n",
       "Name: Feeling, dtype: float64"
      ]
     },
     "metadata": {},
     "execution_count": 12
    }
   ],
   "source": [
    "dataset['Feeling'].value_counts(normalize=True)*100"
   ]
  },
  {
   "cell_type": "code",
   "execution_count": 13,
   "metadata": {},
   "outputs": [],
   "source": [
    "# CONCATENAR COM O OUTRO DATASET"
   ]
  },
  {
   "source": [
    "### Criando uma categoria com o *pd.Categorical* para cada emoção na tabela de emoções, dessa forma, teremos algo do tipo: happy - 1 | angry - 2 | sad = 3\n",
    "\n",
    "Aplicando essas categorias na coluna *emotion_code*"
   ],
   "cell_type": "markdown",
   "metadata": {}
  },
  {
   "cell_type": "code",
   "execution_count": 14,
   "metadata": {},
   "outputs": [
    {
     "output_type": "stream",
     "name": "stdout",
     "text": [
      "<class 'pandas.core.frame.DataFrame'>\nRangeIndex: 10017 entries, 0 to 10016\nData columns (total 2 columns):\n #   Column   Non-Null Count  Dtype \n---  ------   --------------  ----- \n 0   Tweets   10017 non-null  object\n 1   Feeling  10017 non-null  object\ndtypes: object(2)\nmemory usage: 156.6+ KB\n"
     ]
    }
   ],
   "source": [
    "dataset.info()"
   ]
  },
  {
   "cell_type": "code",
   "execution_count": 15,
   "metadata": {},
   "outputs": [
    {
     "output_type": "execute_result",
     "data": {
      "text/plain": [
       "                                              Tweets Feeling  emotion_code\n",
       "0   #1: @fe ed \"RT @MirayaDizon1: Time is ticking...   happy             3\n",
       "1   #2: @蓮花 &はすか ed \"RT @ninjaryugo: ＃コナモンの日 だそうで...   happy             3\n",
       "2   #3: @Ris ♡ ed \"Happy birthday to one smokin h...   happy             3\n",
       "3   #4: @월월 [씍쯴사랑로봇] jwinnie is the best, cheer u...   happy             3\n",
       "4   #5: @Madhurima wth u vc♥ ed \"Good morning dea...   happy             3"
      ],
      "text/html": "<div>\n<style scoped>\n    .dataframe tbody tr th:only-of-type {\n        vertical-align: middle;\n    }\n\n    .dataframe tbody tr th {\n        vertical-align: top;\n    }\n\n    .dataframe thead th {\n        text-align: right;\n    }\n</style>\n<table border=\"1\" class=\"dataframe\">\n  <thead>\n    <tr style=\"text-align: right;\">\n      <th></th>\n      <th>Tweets</th>\n      <th>Feeling</th>\n      <th>emotion_code</th>\n    </tr>\n  </thead>\n  <tbody>\n    <tr>\n      <th>0</th>\n      <td>#1: @fe ed \"RT @MirayaDizon1: Time is ticking...</td>\n      <td>happy</td>\n      <td>3</td>\n    </tr>\n    <tr>\n      <th>1</th>\n      <td>#2: @蓮花 &amp;はすか ed \"RT @ninjaryugo: ＃コナモンの日 だそうで...</td>\n      <td>happy</td>\n      <td>3</td>\n    </tr>\n    <tr>\n      <th>2</th>\n      <td>#3: @Ris ♡ ed \"Happy birthday to one smokin h...</td>\n      <td>happy</td>\n      <td>3</td>\n    </tr>\n    <tr>\n      <th>3</th>\n      <td>#4: @월월 [씍쯴사랑로봇] jwinnie is the best, cheer u...</td>\n      <td>happy</td>\n      <td>3</td>\n    </tr>\n    <tr>\n      <th>4</th>\n      <td>#5: @Madhurima wth u vc♥ ed \"Good morning dea...</td>\n      <td>happy</td>\n      <td>3</td>\n    </tr>\n  </tbody>\n</table>\n</div>"
     },
     "metadata": {},
     "execution_count": 15
    }
   ],
   "source": [
    "dataset['Feeling'] = pd.Categorical(dataset['Feeling'])\n",
    "dataset['emotion_code'] = dataset['Feeling'].cat.codes\n",
    "dataset.head()"
   ]
  },
  {
   "cell_type": "code",
   "execution_count": 16,
   "metadata": {},
   "outputs": [
    {
     "output_type": "stream",
     "name": "stdout",
     "text": [
      "<class 'pandas.core.frame.DataFrame'>\nRangeIndex: 10017 entries, 0 to 10016\nData columns (total 3 columns):\n #   Column        Non-Null Count  Dtype   \n---  ------        --------------  -----   \n 0   Tweets        10017 non-null  object  \n 1   Feeling       10017 non-null  category\n 2   emotion_code  10017 non-null  int8    \ndtypes: category(1), int8(1), object(1)\nmemory usage: 98.2+ KB\n"
     ]
    }
   ],
   "source": [
    "dataset.info()"
   ]
  },
  {
   "cell_type": "code",
   "execution_count": 17,
   "metadata": {},
   "outputs": [
    {
     "output_type": "execute_result",
     "data": {
      "text/plain": [
       "Feeling   emotion_code\n",
       "angry     0               1341\n",
       "disgust   1                637\n",
       "fear      2                863\n",
       "happy     3               3928\n",
       "sad       4               2849\n",
       "surprise  5                399\n",
       "dtype: int64"
      ]
     },
     "metadata": {},
     "execution_count": 17
    }
   ],
   "source": [
    "dataset[['Feeling','emotion_code']].value_counts().sort_index()\n"
   ]
  },
  {
   "cell_type": "code",
   "execution_count": 18,
   "metadata": {},
   "outputs": [
    {
     "output_type": "execute_result",
     "data": {
      "text/plain": [
       "str"
      ]
     },
     "metadata": {},
     "execution_count": 18
    }
   ],
   "source": [
    "type(dataset['Tweets'][0])"
   ]
  },
  {
   "source": [
    "### Tokenizando os tweets com o *tknzr.tokenize*, e logo após, limpando os tokens com a função *cleanText*"
   ],
   "cell_type": "markdown",
   "metadata": {}
  },
  {
   "cell_type": "code",
   "execution_count": 19,
   "metadata": {},
   "outputs": [
    {
     "output_type": "execute_result",
     "data": {
      "text/plain": [
       "                                              Tweets Feeling  emotion_code  \\\n",
       "0   #1: @fe ed \"RT @MirayaDizon1: Time is ticking...   happy             3   \n",
       "1   #2: @蓮花 &はすか ed \"RT @ninjaryugo: ＃コナモンの日 だそうで...   happy             3   \n",
       "2   #3: @Ris ♡ ed \"Happy birthday to one smokin h...   happy             3   \n",
       "3   #4: @월월 [씍쯴사랑로봇] jwinnie is the best, cheer u...   happy             3   \n",
       "4   #5: @Madhurima wth u vc♥ ed \"Good morning dea...   happy             3   \n",
       "\n",
       "                                           CleanText  \n",
       "0  [1, ed, rt, time, ticking, fast, relive, past,...  \n",
       "1  [2, @蓮花, はすか, ed, rt, ＃, コナモンの日, だそうで, 、, コナモン...  \n",
       "2  [3, ♡, ed, happy, birthday, one, smokin, hot, ...  \n",
       "3  [4, @월월, 씍쯴사랑로봇, jwinnie, best, cheer, jwinnie...  \n",
       "4  [5, wth, u, vc, ♥, ed, good, morning, dear, ❤,...  "
      ],
      "text/html": "<div>\n<style scoped>\n    .dataframe tbody tr th:only-of-type {\n        vertical-align: middle;\n    }\n\n    .dataframe tbody tr th {\n        vertical-align: top;\n    }\n\n    .dataframe thead th {\n        text-align: right;\n    }\n</style>\n<table border=\"1\" class=\"dataframe\">\n  <thead>\n    <tr style=\"text-align: right;\">\n      <th></th>\n      <th>Tweets</th>\n      <th>Feeling</th>\n      <th>emotion_code</th>\n      <th>CleanText</th>\n    </tr>\n  </thead>\n  <tbody>\n    <tr>\n      <th>0</th>\n      <td>#1: @fe ed \"RT @MirayaDizon1: Time is ticking...</td>\n      <td>happy</td>\n      <td>3</td>\n      <td>[1, ed, rt, time, ticking, fast, relive, past,...</td>\n    </tr>\n    <tr>\n      <th>1</th>\n      <td>#2: @蓮花 &amp;はすか ed \"RT @ninjaryugo: ＃コナモンの日 だそうで...</td>\n      <td>happy</td>\n      <td>3</td>\n      <td>[2, @蓮花, はすか, ed, rt, ＃, コナモンの日, だそうで, 、, コナモン...</td>\n    </tr>\n    <tr>\n      <th>2</th>\n      <td>#3: @Ris ♡ ed \"Happy birthday to one smokin h...</td>\n      <td>happy</td>\n      <td>3</td>\n      <td>[3, ♡, ed, happy, birthday, one, smokin, hot, ...</td>\n    </tr>\n    <tr>\n      <th>3</th>\n      <td>#4: @월월 [씍쯴사랑로봇] jwinnie is the best, cheer u...</td>\n      <td>happy</td>\n      <td>3</td>\n      <td>[4, @월월, 씍쯴사랑로봇, jwinnie, best, cheer, jwinnie...</td>\n    </tr>\n    <tr>\n      <th>4</th>\n      <td>#5: @Madhurima wth u vc♥ ed \"Good morning dea...</td>\n      <td>happy</td>\n      <td>3</td>\n      <td>[5, wth, u, vc, ♥, ed, good, morning, dear, ❤,...</td>\n    </tr>\n  </tbody>\n</table>\n</div>"
     },
     "metadata": {},
     "execution_count": 19
    }
   ],
   "source": [
    "dataset[\"CleanText\"] = [tknzr.tokenize(sentence) for sentence in dataset[\"Tweets\"]]\n",
    "dataset[\"CleanText\"] = [cleanText(sentence) for sentence in dataset[\"CleanText\"]]\n",
    "dataset.head()"
   ]
  },
  {
   "cell_type": "code",
   "execution_count": 20,
   "metadata": {},
   "outputs": [],
   "source": [
    "# dataset['CleanText'][50]"
   ]
  },
  {
   "source": [
    "### Conversão dos textos em uma sequência de índices (correspondente ao token do texto)\n",
    "\n",
    "Limitar o tamanho máximo de um texto com ***max_len*** (truncar mensagem) e completar com <PAD> todos os textos que não cumprirem esse tamanho, para então termos variáveis do mesmo tamanho"
   ],
   "cell_type": "markdown",
   "metadata": {}
  },
  {
   "cell_type": "code",
   "execution_count": 21,
   "metadata": {
    "tags": []
   },
   "outputs": [],
   "source": [
    "max_len = 150        # comprimento máximo da mensagem (em número de palavras)\n",
    "encoded_docs = []    # inicializa a lista de documentos codificados\n",
    "\n",
    "for sentence in dataset['CleanText']: # para cada token\n",
    "  encoded_d = [label2Embedding(t) for t in sentence]\n",
    "  encoded_d = [vec.tolist() for vec in encoded_d if vec is not None]\n",
    "\n",
    "  # adiciona o padding, se necessário\n",
    "  padding_word_vecs = [np.zeros(num_dims).tolist()]*max(0, max_len-len(encoded_d)) \n",
    "  encoded_d = padding_word_vecs + encoded_d\n",
    "  \n",
    "  # trunca o documento e salva na lista de documentos codificados\n",
    "  encoded_docs.append(encoded_d[:max_len]) \n",
    "\n",
    "\n",
    "encoded_docs_arrays = [np.vstack(sentence) for sentence in encoded_docs]"
   ]
  },
  {
   "cell_type": "code",
   "execution_count": 22,
   "metadata": {},
   "outputs": [
    {
     "output_type": "execute_result",
     "data": {
      "text/plain": [
       "(list, numpy.ndarray, (150, 100))"
      ]
     },
     "metadata": {},
     "execution_count": 22
    }
   ],
   "source": [
    "type(encoded_docs_arrays), type(encoded_docs_arrays[0]), encoded_docs_arrays[0].shape"
   ]
  },
  {
   "source": [
    "### Agora os textos são os documentos codificados"
   ],
   "cell_type": "markdown",
   "metadata": {}
  },
  {
   "cell_type": "code",
   "execution_count": 23,
   "metadata": {},
   "outputs": [
    {
     "output_type": "execute_result",
     "data": {
      "text/plain": [
       "10012    [[0.0, 0.0, 0.0, 0.0, 0.0, 0.0, 0.0, 0.0, 0.0,...\n",
       "10013    [[0.0, 0.0, 0.0, 0.0, 0.0, 0.0, 0.0, 0.0, 0.0,...\n",
       "10014    [[0.0, 0.0, 0.0, 0.0, 0.0, 0.0, 0.0, 0.0, 0.0,...\n",
       "10015    [[0.0, 0.0, 0.0, 0.0, 0.0, 0.0, 0.0, 0.0, 0.0,...\n",
       "10016    [[0.0, 0.0, 0.0, 0.0, 0.0, 0.0, 0.0, 0.0, 0.0,...\n",
       "Name: X, dtype: object"
      ]
     },
     "metadata": {},
     "execution_count": 23
    }
   ],
   "source": [
    "dataset['X'] = pd.Series(encoded_docs_arrays)\n",
    "dataset['X'].tail() #.iloc[-1].shape"
   ]
  },
  {
   "source": [
    "### Verificando um exemplo de uma frase codificada"
   ],
   "cell_type": "markdown",
   "metadata": {}
  },
  {
   "cell_type": "code",
   "execution_count": 24,
   "metadata": {},
   "outputs": [
    {
     "output_type": "execute_result",
     "data": {
      "text/plain": [
       "((150, 100), dtype('float64'))"
      ]
     },
     "metadata": {},
     "execution_count": 24
    }
   ],
   "source": [
    "dataset['X'][0].shape, dataset['X'][0].dtype"
   ]
  },
  {
   "cell_type": "code",
   "execution_count": 25,
   "metadata": {
    "tags": []
   },
   "outputs": [
    {
     "output_type": "stream",
     "name": "stdout",
     "text": [
      " Mensagem codificada [[ 0.          0.          0.         ...  0.          0.\n   0.        ]\n [ 0.          0.          0.         ...  0.          0.\n   0.        ]\n [ 0.          0.          0.         ...  0.          0.\n   0.        ]\n ...\n [-0.19327     0.52160001 -0.22936    ...  0.90416998  0.73799998\n   0.72762001]\n [-0.20362     0.18005     0.38497001 ...  0.19208001 -0.14366999\n   0.29043999]\n [-0.026284    0.017938   -0.50164998 ... -0.86879998  0.94094002\n  -0.28815001]] \n Comprimento: 150 Dimensões: 100\n"
     ]
    }
   ],
   "source": [
    "msg_codificada_ex = dataset['X'].iloc[7]\n",
    "print(f' Mensagem codificada {msg_codificada_ex} \\n Comprimento: {msg_codificada_ex.shape[0]} Dimensões: {msg_codificada_ex.shape[1]}')"
   ]
  },
  {
   "source": [
    "### Agora, usaremos apenas as mensagens codificadas (vetores de variáveis categóricas, coluna do DataFrame 'X') e as saídas rotuladas em  das emoções  (coluna 'y' do DataFrame). Também vamos converter os objetos para arrays do numpy."
   ],
   "cell_type": "markdown",
   "metadata": {}
  },
  {
   "cell_type": "code",
   "execution_count": 26,
   "metadata": {},
   "outputs": [
    {
     "output_type": "execute_result",
     "data": {
      "text/plain": [
       "((10017, 150, 100), (150, 100), (10017, 1), (1,))"
      ]
     },
     "metadata": {},
     "execution_count": 26
    }
   ],
   "source": [
    "X = np.dstack(dataset['X'].values).transpose(2,0,1)\n",
    "Y = dataset['emotion_code'].values.reshape(-1,1)\n",
    "X.shape, X[0].shape, Y.shape, Y[0].shape"
   ]
  },
  {
   "source": [
    "### Separando com train_test_split"
   ],
   "cell_type": "markdown",
   "metadata": {}
  },
  {
   "cell_type": "code",
   "execution_count": 27,
   "metadata": {},
   "outputs": [
    {
     "output_type": "execute_result",
     "data": {
      "text/plain": [
       "((8013, 150, 100), (2004, 150, 100))"
      ]
     },
     "metadata": {},
     "execution_count": 27
    }
   ],
   "source": [
    "train_size = 0.8    # percentual de exemplos para o treino\n",
    "\n",
    "X_train, X_test, Y_train, Y_test = train_test_split(X,Y,                       # dataset para ser dividido, entrada X e saída Y\n",
    "                                                    train_size=train_size,     # percentual resevado para o treinamento\n",
    "                                                    stratify=Y,                # estratificação para manter a distribuição dos rótulos igual entre treino e teste\n",
    "                                                    shuffle=True)              # embaralhar os exemplos aleatoriamente\n",
    "\n",
    "X_train.shape, X_test.shape"
   ]
  },
  {
   "source": [
    "### Criando o modelo classificador"
   ],
   "cell_type": "markdown",
   "metadata": {}
  },
  {
   "cell_type": "code",
   "execution_count": 28,
   "metadata": {},
   "outputs": [],
   "source": [
    "\n",
    "class Torch_Mean_Layer(nn.Module):\n",
    "  '''Camada personalizada: calcula a média do tensor dentrada sobre a dimensão 1 (colunas).\n",
    "     Retorna um vetor linha, onde cada elemento é a média dos elementos da coluna correspondente do tensor de entrada.\n",
    "  '''\n",
    "  def forward(self, x, dim=1):\n",
    "    # print(\"-----------------------\",x)\n",
    "    x = torch.mean(x, dim=dim, keepdims=True)\n",
    "    return x\n",
    "\n",
    "class moodClassifier(nn.Module):\n",
    "  '''Modelo classificador de emoções\n",
    "  '''\n",
    "\n",
    "  # ----------------------------------------------#\n",
    "  # Método construtor\n",
    "  def __init__(self, dim_embed, n_units): \n",
    "    super().__init__()  \n",
    "\n",
    "    embedding_seq = [] # \n",
    "    ann_seq       = [] # \n",
    "    soft_seq      = []\n",
    "\n",
    "    #---------------------------------------------------------------#\n",
    "    # Embedding step: sequência de operações para converter X --> h\n",
    "    embedding_seq.append(Torch_Mean_Layer())\n",
    "    #---------------------------------------------------------------#\n",
    "\n",
    "    #--------------------------------------------------------------------------#\n",
    "    # ANN: Rede Neural Artifical Tradicional, com regressão logística na saída\n",
    "    ann_seq.append(nn.Linear(dim_embed, n_units))\n",
    "    ann_seq.append(nn.ReLU(inplace=True))\n",
    "    ann_seq.append(nn.Linear(n_units, 6))\n",
    "    \n",
    "    #--------------------------------------------------------------------------#\n",
    "    # Softmax :)\n",
    "    soft_seq.append(nn.LogSoftmax(dim=1))\n",
    "\n",
    "    #--------------------------------------------------------------------------#\n",
    "\n",
    "    #--------------------------------------------------------------------------#\n",
    "    # \"merge\" de todas as camamadas em uma layer sequencial \n",
    "    # (uma sequência para cada etapa)\n",
    "    self.embedding = nn.Sequential(*embedding_seq)     # etapa de embedding \n",
    "    self.ann       = nn.Sequential(*ann_seq)           # etapa ANN\n",
    "    self.soft      = nn.Sequential(*soft_seq)\n",
    "    #--------------------------------------------------------------------------#\n",
    "\n",
    "\n",
    "  def forward(self, x): \n",
    "    '''Processamento realizado ao chamar y=modelo(x)\n",
    "    '''\n",
    "    x = self.embedding(x)  # aplica a etapa de embedding\n",
    "    x = self.ann(x)        # passa o embedding médio pelas camadas da ANN\n",
    "    x = x.view(-1,6)\n",
    "    x = self.soft(x)\n",
    "    return x  "
   ]
  },
  {
   "source": [
    "### Função que irá treinar "
   ],
   "cell_type": "markdown",
   "metadata": {}
  },
  {
   "cell_type": "code",
   "execution_count": 29,
   "metadata": {},
   "outputs": [],
   "source": [
    "def train_loop(model, data, max_epochs = 1000, print_iters = 5):\n",
    "  X_train, Y_train = data # desempacotamento de tupla\n",
    "\n",
    "  if CUDA_flag: # usar GPU?\n",
    "      X_train = X_train.cuda()\n",
    "      Y_train = Y_train.cuda()\n",
    "\n",
    "  losses = []\n",
    "  accs = []\n",
    "  for i in range(max_epochs): # para cada época\n",
    "\n",
    "      #-----------------------------------#\n",
    "      # INÍCIO DO WORKFLOW DO TREINAMENTO #\n",
    "      # \n",
    "      Y_pred = model.forward(X_train)         # apresente os dados de entrada para o modelo, e obtenha a previsão    \n",
    "      loss = criterion(Y_pred.view(-1, 6), Y_train.view(-1))       # calcule a perda (o custo, o erro)\n",
    "      optimizer.zero_grad()                   # inicialize os gradientes\n",
    "      loss.backward()                         # backpropagation sobre a perda atual (cálculo dos novos gradientes) \n",
    "      optimizer.step()                        # atualização dos parâmetros da rede utilizando a regra do otimizador escolhido\n",
    "      # FIM DO WORKFLOW DO TREINAMENTO    #\n",
    "      #-----------------------------------#\n",
    "\n",
    "      # ------ Bloco Opcional ------ #\n",
    "      # Salvando métricas\n",
    "      losses.append(loss)                     # salvando a perda atual\n",
    "      acc = calc_accuracy(Y_pred, Y_train)     # calcula a taxa de acerto atual\n",
    "      accs.append(acc)\n",
    "\n",
    "\n",
    "      # INSERIR UM ACOMPANHAMENTO DA ACC DO TESTE\n",
    "      \n",
    "      # Imprimindo resultados parciais\n",
    "      if i % print_iters ==0: # a cada 10 iterações\n",
    "        print(f'epoch: {i:2}  loss: {loss.item():10.8f}') \n",
    "      #-----------------------------------#\n",
    "\n",
    "  #----------------------------------------------------------------------------# \n",
    "  print('\\n# Finished training!')\n",
    "  print(f'# --> epoch: {i}  \\n# --> initial loss: {losses[0]:10.8f} ,  \\n# --> accuracy: {acc:2.8f} , \\n# --> final loss: {losses[-1]:10.8f}')\n",
    "  \n",
    "  # retornando resultados\n",
    "  return model, losses, accs\n",
    "\n",
    "# Redefinindo cálculo da taxa de acerto \n",
    "def calc_accuracy(y_pred, y_true):\n",
    "  ''' Helper function para calcular a taxa de acerto deste exemplo.\n",
    "  '''\n",
    "  y_pred = torch.argmax(y_pred, dim=1)\n",
    "  y_pred = y_pred.float()\n",
    "  y_true = torch.squeeze(y_true) # tentar rexplicar dps\n",
    "  y_pred = torch.squeeze(y_pred)\n",
    "  num_hits  = torch.sum(y_pred==y_true).cpu().numpy()\n",
    "  num_total =  float(y_true.numel())\n",
    "  acc=  num_hits/num_total\n",
    "  return acc"
   ]
  },
  {
   "source": [
    "### Treinando com o modelo\n",
    "\n",
    "Convertendo os dados para tensores, instanciar o modelo, definir a função custo e o otimizador"
   ],
   "cell_type": "markdown",
   "metadata": {}
  },
  {
   "cell_type": "code",
   "execution_count": 30,
   "metadata": {
    "tags": [
     "outputPrepend"
    ]
   },
   "outputs": [
    {
     "output_type": "stream",
     "name": "stdout",
     "text": [
      "324\n",
      "epoch: 4338  loss: 0.09667332\n",
      "epoch: 4339  loss: 0.09663309\n",
      "epoch: 4340  loss: 0.09659249\n",
      "epoch: 4341  loss: 0.09655046\n",
      "epoch: 4342  loss: 0.09651082\n",
      "epoch: 4343  loss: 0.09647101\n",
      "epoch: 4344  loss: 0.09643126\n",
      "epoch: 4345  loss: 0.09639278\n",
      "epoch: 4346  loss: 0.09635334\n",
      "epoch: 4347  loss: 0.09631518\n",
      "epoch: 4348  loss: 0.09627648\n",
      "epoch: 4349  loss: 0.09623825\n",
      "epoch: 4350  loss: 0.09620294\n",
      "epoch: 4351  loss: 0.09616771\n",
      "epoch: 4352  loss: 0.09613265\n",
      "epoch: 4353  loss: 0.09609552\n",
      "epoch: 4354  loss: 0.09605600\n",
      "epoch: 4355  loss: 0.09601487\n",
      "epoch: 4356  loss: 0.09597188\n",
      "epoch: 4357  loss: 0.09593019\n",
      "epoch: 4358  loss: 0.09588960\n",
      "epoch: 4359  loss: 0.09584961\n",
      "epoch: 4360  loss: 0.09581215\n",
      "epoch: 4361  loss: 0.09577469\n",
      "epoch: 4362  loss: 0.09573752\n",
      "epoch: 4363  loss: 0.09570199\n",
      "epoch: 4364  loss: 0.09566487\n",
      "epoch: 4365  loss: 0.09562729\n",
      "epoch: 4366  loss: 0.09558903\n",
      "epoch: 4367  loss: 0.09554829\n",
      "epoch: 4368  loss: 0.09550899\n",
      "epoch: 4369  loss: 0.09546862\n",
      "epoch: 4370  loss: 0.09542938\n",
      "epoch: 4371  loss: 0.09538966\n",
      "epoch: 4372  loss: 0.09535120\n",
      "epoch: 4373  loss: 0.09531319\n",
      "epoch: 4374  loss: 0.09527445\n",
      "epoch: 4375  loss: 0.09523644\n",
      "epoch: 4376  loss: 0.09519879\n",
      "epoch: 4377  loss: 0.09516168\n",
      "epoch: 4378  loss: 0.09512493\n",
      "epoch: 4379  loss: 0.09508912\n",
      "epoch: 4380  loss: 0.09505390\n",
      "epoch: 4381  loss: 0.09501833\n",
      "epoch: 4382  loss: 0.09498253\n",
      "epoch: 4383  loss: 0.09494340\n",
      "epoch: 4384  loss: 0.09490316\n",
      "epoch: 4385  loss: 0.09486331\n",
      "epoch: 4386  loss: 0.09482410\n",
      "epoch: 4387  loss: 0.09478425\n",
      "epoch: 4388  loss: 0.09474492\n",
      "epoch: 4389  loss: 0.09470747\n",
      "epoch: 4390  loss: 0.09467000\n",
      "epoch: 4391  loss: 0.09463162\n",
      "epoch: 4392  loss: 0.09459431\n",
      "epoch: 4393  loss: 0.09455715\n",
      "epoch: 4394  loss: 0.09452037\n",
      "epoch: 4395  loss: 0.09448417\n",
      "epoch: 4396  loss: 0.09444907\n",
      "epoch: 4397  loss: 0.09441502\n",
      "epoch: 4398  loss: 0.09437989\n",
      "epoch: 4399  loss: 0.09434301\n",
      "epoch: 4400  loss: 0.09430417\n",
      "epoch: 4401  loss: 0.09426578\n",
      "epoch: 4402  loss: 0.09422535\n",
      "epoch: 4403  loss: 0.09418694\n",
      "epoch: 4404  loss: 0.09414871\n",
      "epoch: 4405  loss: 0.09411026\n",
      "epoch: 4406  loss: 0.09407282\n",
      "epoch: 4407  loss: 0.09403624\n",
      "epoch: 4408  loss: 0.09400076\n",
      "epoch: 4409  loss: 0.09396424\n",
      "epoch: 4410  loss: 0.09392746\n",
      "epoch: 4411  loss: 0.09389303\n",
      "epoch: 4412  loss: 0.09385879\n",
      "epoch: 4413  loss: 0.09382156\n",
      "epoch: 4414  loss: 0.09378494\n",
      "epoch: 4415  loss: 0.09374797\n",
      "epoch: 4416  loss: 0.09371041\n",
      "epoch: 4417  loss: 0.09367087\n",
      "epoch: 4418  loss: 0.09363317\n",
      "epoch: 4419  loss: 0.09359534\n",
      "epoch: 4420  loss: 0.09355844\n",
      "epoch: 4421  loss: 0.09352111\n",
      "epoch: 4422  loss: 0.09348369\n",
      "epoch: 4423  loss: 0.09344844\n",
      "epoch: 4424  loss: 0.09341261\n",
      "epoch: 4425  loss: 0.09337575\n",
      "epoch: 4426  loss: 0.09334166\n",
      "epoch: 4427  loss: 0.09330654\n",
      "epoch: 4428  loss: 0.09327224\n",
      "epoch: 4429  loss: 0.09323674\n",
      "epoch: 4430  loss: 0.09320131\n",
      "epoch: 4431  loss: 0.09316514\n",
      "epoch: 4432  loss: 0.09312546\n",
      "epoch: 4433  loss: 0.09308764\n",
      "epoch: 4434  loss: 0.09304973\n",
      "epoch: 4435  loss: 0.09301203\n",
      "epoch: 4436  loss: 0.09297512\n",
      "epoch: 4437  loss: 0.09293924\n",
      "epoch: 4438  loss: 0.09290408\n",
      "epoch: 4439  loss: 0.09286981\n",
      "epoch: 4440  loss: 0.09283534\n",
      "epoch: 4441  loss: 0.09279906\n",
      "epoch: 4442  loss: 0.09276374\n",
      "epoch: 4443  loss: 0.09272712\n",
      "epoch: 4444  loss: 0.09268919\n",
      "epoch: 4445  loss: 0.09265321\n",
      "epoch: 4446  loss: 0.09261695\n",
      "epoch: 4447  loss: 0.09258085\n",
      "epoch: 4448  loss: 0.09254471\n",
      "epoch: 4449  loss: 0.09250943\n",
      "epoch: 4450  loss: 0.09247392\n",
      "epoch: 4451  loss: 0.09243906\n",
      "epoch: 4452  loss: 0.09240322\n",
      "epoch: 4453  loss: 0.09236717\n",
      "epoch: 4454  loss: 0.09233178\n",
      "epoch: 4455  loss: 0.09229708\n",
      "epoch: 4456  loss: 0.09226212\n",
      "epoch: 4457  loss: 0.09222832\n",
      "epoch: 4458  loss: 0.09219273\n",
      "epoch: 4459  loss: 0.09215686\n",
      "epoch: 4460  loss: 0.09212141\n",
      "epoch: 4461  loss: 0.09208384\n",
      "epoch: 4462  loss: 0.09204619\n",
      "epoch: 4463  loss: 0.09201019\n",
      "epoch: 4464  loss: 0.09197345\n",
      "epoch: 4465  loss: 0.09193797\n",
      "epoch: 4466  loss: 0.09190219\n",
      "epoch: 4467  loss: 0.09186636\n",
      "epoch: 4468  loss: 0.09183184\n",
      "epoch: 4469  loss: 0.09179615\n",
      "epoch: 4470  loss: 0.09176306\n",
      "epoch: 4471  loss: 0.09173118\n",
      "epoch: 4472  loss: 0.09169894\n",
      "epoch: 4473  loss: 0.09166778\n",
      "epoch: 4474  loss: 0.09163491\n",
      "epoch: 4475  loss: 0.09159914\n",
      "epoch: 4476  loss: 0.09156042\n",
      "epoch: 4477  loss: 0.09152099\n",
      "epoch: 4478  loss: 0.09148207\n",
      "epoch: 4479  loss: 0.09144552\n",
      "epoch: 4480  loss: 0.09141020\n",
      "epoch: 4481  loss: 0.09137598\n",
      "epoch: 4482  loss: 0.09134333\n",
      "epoch: 4483  loss: 0.09131051\n",
      "epoch: 4484  loss: 0.09127932\n",
      "epoch: 4485  loss: 0.09124656\n",
      "epoch: 4486  loss: 0.09120984\n",
      "epoch: 4487  loss: 0.09117191\n",
      "epoch: 4488  loss: 0.09113422\n",
      "epoch: 4489  loss: 0.09109700\n",
      "epoch: 4490  loss: 0.09106161\n",
      "epoch: 4491  loss: 0.09102620\n",
      "epoch: 4492  loss: 0.09099213\n",
      "epoch: 4493  loss: 0.09095893\n",
      "epoch: 4494  loss: 0.09092662\n",
      "epoch: 4495  loss: 0.09089430\n",
      "epoch: 4496  loss: 0.09086239\n",
      "epoch: 4497  loss: 0.09082947\n",
      "epoch: 4498  loss: 0.09079410\n",
      "epoch: 4499  loss: 0.09075695\n",
      "epoch: 4500  loss: 0.09071936\n",
      "epoch: 4501  loss: 0.09068353\n",
      "epoch: 4502  loss: 0.09064845\n",
      "epoch: 4503  loss: 0.09061381\n",
      "epoch: 4504  loss: 0.09057995\n",
      "epoch: 4505  loss: 0.09054771\n",
      "epoch: 4506  loss: 0.09051549\n",
      "epoch: 4507  loss: 0.09048320\n",
      "epoch: 4508  loss: 0.09045114\n",
      "epoch: 4509  loss: 0.09041733\n",
      "epoch: 4510  loss: 0.09038226\n",
      "epoch: 4511  loss: 0.09034555\n",
      "epoch: 4512  loss: 0.09030892\n",
      "epoch: 4513  loss: 0.09027400\n",
      "epoch: 4514  loss: 0.09023917\n",
      "epoch: 4515  loss: 0.09020403\n",
      "epoch: 4516  loss: 0.09017025\n",
      "epoch: 4517  loss: 0.09013551\n",
      "epoch: 4518  loss: 0.09010131\n",
      "epoch: 4519  loss: 0.09006783\n",
      "epoch: 4520  loss: 0.09003469\n",
      "epoch: 4521  loss: 0.09000182\n",
      "epoch: 4522  loss: 0.08996987\n",
      "epoch: 4523  loss: 0.08993789\n",
      "epoch: 4524  loss: 0.08990736\n",
      "epoch: 4525  loss: 0.08987596\n",
      "epoch: 4526  loss: 0.08984292\n",
      "epoch: 4527  loss: 0.08980791\n",
      "epoch: 4528  loss: 0.08977107\n",
      "epoch: 4529  loss: 0.08973376\n",
      "epoch: 4530  loss: 0.08969697\n",
      "epoch: 4531  loss: 0.08966381\n",
      "epoch: 4532  loss: 0.08962948\n",
      "epoch: 4533  loss: 0.08959623\n",
      "epoch: 4534  loss: 0.08956495\n",
      "epoch: 4535  loss: 0.08953319\n",
      "epoch: 4536  loss: 0.08950161\n",
      "epoch: 4537  loss: 0.08947067\n",
      "epoch: 4538  loss: 0.08943845\n",
      "epoch: 4539  loss: 0.08940426\n",
      "epoch: 4540  loss: 0.08936976\n",
      "epoch: 4541  loss: 0.08933413\n",
      "epoch: 4542  loss: 0.08929946\n",
      "epoch: 4543  loss: 0.08926570\n",
      "epoch: 4544  loss: 0.08923174\n",
      "epoch: 4545  loss: 0.08919800\n",
      "epoch: 4546  loss: 0.08916439\n",
      "epoch: 4547  loss: 0.08913144\n",
      "epoch: 4548  loss: 0.08909824\n",
      "epoch: 4549  loss: 0.08906505\n",
      "epoch: 4550  loss: 0.08903237\n",
      "epoch: 4551  loss: 0.08900040\n",
      "epoch: 4552  loss: 0.08896806\n",
      "epoch: 4553  loss: 0.08893640\n",
      "epoch: 4554  loss: 0.08890665\n",
      "epoch: 4555  loss: 0.08887681\n",
      "epoch: 4556  loss: 0.08884461\n",
      "epoch: 4557  loss: 0.08881313\n",
      "epoch: 4558  loss: 0.08877956\n",
      "epoch: 4559  loss: 0.08874492\n",
      "epoch: 4560  loss: 0.08870902\n",
      "epoch: 4561  loss: 0.08867446\n",
      "epoch: 4562  loss: 0.08863948\n",
      "epoch: 4563  loss: 0.08860604\n",
      "epoch: 4564  loss: 0.08857270\n",
      "epoch: 4565  loss: 0.08854058\n",
      "epoch: 4566  loss: 0.08850844\n",
      "epoch: 4567  loss: 0.08847795\n",
      "epoch: 4568  loss: 0.08844734\n",
      "epoch: 4569  loss: 0.08841718\n",
      "epoch: 4570  loss: 0.08838686\n",
      "epoch: 4571  loss: 0.08835509\n",
      "epoch: 4572  loss: 0.08832155\n",
      "epoch: 4573  loss: 0.08828709\n",
      "epoch: 4574  loss: 0.08825204\n",
      "epoch: 4575  loss: 0.08821759\n",
      "epoch: 4576  loss: 0.08818480\n",
      "epoch: 4577  loss: 0.08815242\n",
      "epoch: 4578  loss: 0.08811911\n",
      "epoch: 4579  loss: 0.08808704\n",
      "epoch: 4580  loss: 0.08805532\n",
      "epoch: 4581  loss: 0.08802322\n",
      "epoch: 4582  loss: 0.08799151\n",
      "epoch: 4583  loss: 0.08796021\n",
      "epoch: 4584  loss: 0.08792894\n",
      "epoch: 4585  loss: 0.08789941\n",
      "epoch: 4586  loss: 0.08787023\n",
      "epoch: 4587  loss: 0.08784197\n",
      "epoch: 4588  loss: 0.08781166\n",
      "epoch: 4589  loss: 0.08777882\n",
      "epoch: 4590  loss: 0.08774217\n",
      "epoch: 4591  loss: 0.08770652\n",
      "epoch: 4592  loss: 0.08767341\n",
      "epoch: 4593  loss: 0.08763918\n",
      "epoch: 4594  loss: 0.08760729\n",
      "epoch: 4595  loss: 0.08757603\n",
      "epoch: 4596  loss: 0.08754571\n",
      "epoch: 4597  loss: 0.08751596\n",
      "epoch: 4598  loss: 0.08748706\n",
      "epoch: 4599  loss: 0.08745822\n",
      "epoch: 4600  loss: 0.08742803\n",
      "epoch: 4601  loss: 0.08739481\n",
      "epoch: 4602  loss: 0.08736001\n",
      "epoch: 4603  loss: 0.08732510\n",
      "epoch: 4604  loss: 0.08729023\n",
      "epoch: 4605  loss: 0.08725749\n",
      "epoch: 4606  loss: 0.08722617\n",
      "epoch: 4607  loss: 0.08719470\n",
      "epoch: 4608  loss: 0.08716384\n",
      "epoch: 4609  loss: 0.08713386\n",
      "epoch: 4610  loss: 0.08710289\n",
      "epoch: 4611  loss: 0.08707345\n",
      "epoch: 4612  loss: 0.08704251\n",
      "epoch: 4613  loss: 0.08701161\n",
      "epoch: 4614  loss: 0.08698016\n",
      "epoch: 4615  loss: 0.08694693\n",
      "epoch: 4616  loss: 0.08691446\n",
      "epoch: 4617  loss: 0.08688245\n",
      "epoch: 4618  loss: 0.08685014\n",
      "epoch: 4619  loss: 0.08681802\n",
      "epoch: 4620  loss: 0.08678613\n",
      "epoch: 4621  loss: 0.08675489\n",
      "epoch: 4622  loss: 0.08672243\n",
      "epoch: 4623  loss: 0.08669131\n",
      "epoch: 4624  loss: 0.08665933\n",
      "epoch: 4625  loss: 0.08662885\n",
      "epoch: 4626  loss: 0.08659705\n",
      "epoch: 4627  loss: 0.08656581\n",
      "epoch: 4628  loss: 0.08653419\n",
      "epoch: 4629  loss: 0.08650336\n",
      "epoch: 4630  loss: 0.08647176\n",
      "epoch: 4631  loss: 0.08644092\n",
      "epoch: 4632  loss: 0.08641016\n",
      "epoch: 4633  loss: 0.08637986\n",
      "epoch: 4634  loss: 0.08635046\n",
      "epoch: 4635  loss: 0.08632167\n",
      "epoch: 4636  loss: 0.08629505\n",
      "epoch: 4637  loss: 0.08626726\n",
      "epoch: 4638  loss: 0.08623884\n",
      "epoch: 4639  loss: 0.08620697\n",
      "epoch: 4640  loss: 0.08617081\n",
      "epoch: 4641  loss: 0.08613524\n",
      "epoch: 4642  loss: 0.08610184\n",
      "epoch: 4643  loss: 0.08607060\n",
      "epoch: 4644  loss: 0.08604233\n",
      "epoch: 4645  loss: 0.08601400\n",
      "epoch: 4646  loss: 0.08598618\n",
      "epoch: 4647  loss: 0.08595681\n",
      "epoch: 4648  loss: 0.08592454\n",
      "epoch: 4649  loss: 0.08589080\n",
      "epoch: 4650  loss: 0.08585791\n",
      "epoch: 4651  loss: 0.08582586\n",
      "epoch: 4652  loss: 0.08579541\n",
      "epoch: 4653  loss: 0.08576585\n",
      "epoch: 4654  loss: 0.08573726\n",
      "epoch: 4655  loss: 0.08570833\n",
      "epoch: 4656  loss: 0.08567826\n",
      "epoch: 4657  loss: 0.08564743\n",
      "epoch: 4658  loss: 0.08561581\n",
      "epoch: 4659  loss: 0.08558460\n",
      "epoch: 4660  loss: 0.08555353\n",
      "epoch: 4661  loss: 0.08552237\n",
      "epoch: 4662  loss: 0.08549231\n",
      "epoch: 4663  loss: 0.08546086\n",
      "epoch: 4664  loss: 0.08543102\n",
      "epoch: 4665  loss: 0.08540076\n",
      "epoch: 4666  loss: 0.08537003\n",
      "epoch: 4667  loss: 0.08534039\n",
      "epoch: 4668  loss: 0.08530977\n",
      "epoch: 4669  loss: 0.08528036\n",
      "epoch: 4670  loss: 0.08525012\n",
      "epoch: 4671  loss: 0.08522040\n",
      "epoch: 4672  loss: 0.08519159\n",
      "epoch: 4673  loss: 0.08516211\n",
      "epoch: 4674  loss: 0.08513416\n",
      "epoch: 4675  loss: 0.08510634\n",
      "epoch: 4676  loss: 0.08507876\n",
      "epoch: 4677  loss: 0.08504929\n",
      "epoch: 4678  loss: 0.08501858\n",
      "epoch: 4679  loss: 0.08498707\n",
      "epoch: 4680  loss: 0.08495416\n",
      "epoch: 4681  loss: 0.08492207\n",
      "epoch: 4682  loss: 0.08489065\n",
      "epoch: 4683  loss: 0.08485976\n",
      "epoch: 4684  loss: 0.08483001\n",
      "epoch: 4685  loss: 0.08480093\n",
      "epoch: 4686  loss: 0.08477160\n",
      "epoch: 4687  loss: 0.08474394\n",
      "epoch: 4688  loss: 0.08471600\n",
      "epoch: 4689  loss: 0.08468679\n",
      "epoch: 4690  loss: 0.08465791\n",
      "epoch: 4691  loss: 0.08462836\n",
      "epoch: 4692  loss: 0.08459833\n",
      "epoch: 4693  loss: 0.08456896\n",
      "epoch: 4694  loss: 0.08453806\n",
      "epoch: 4695  loss: 0.08450731\n",
      "epoch: 4696  loss: 0.08447725\n",
      "epoch: 4697  loss: 0.08444705\n",
      "epoch: 4698  loss: 0.08441731\n",
      "epoch: 4699  loss: 0.08438762\n",
      "epoch: 4700  loss: 0.08435717\n",
      "epoch: 4701  loss: 0.08432918\n",
      "epoch: 4702  loss: 0.08429870\n",
      "epoch: 4703  loss: 0.08426984\n",
      "epoch: 4704  loss: 0.08424053\n",
      "epoch: 4705  loss: 0.08421127\n",
      "epoch: 4706  loss: 0.08418226\n",
      "epoch: 4707  loss: 0.08415368\n",
      "epoch: 4708  loss: 0.08412565\n",
      "epoch: 4709  loss: 0.08409920\n",
      "epoch: 4710  loss: 0.08407457\n",
      "epoch: 4711  loss: 0.08404873\n",
      "epoch: 4712  loss: 0.08402190\n",
      "epoch: 4713  loss: 0.08399080\n",
      "epoch: 4714  loss: 0.08395665\n",
      "epoch: 4715  loss: 0.08392344\n",
      "epoch: 4716  loss: 0.08389214\n",
      "epoch: 4717  loss: 0.08386191\n",
      "epoch: 4718  loss: 0.08383420\n",
      "epoch: 4719  loss: 0.08380669\n",
      "epoch: 4720  loss: 0.08378017\n",
      "epoch: 4721  loss: 0.08375351\n",
      "epoch: 4722  loss: 0.08372470\n",
      "epoch: 4723  loss: 0.08369441\n",
      "epoch: 4724  loss: 0.08366441\n",
      "epoch: 4725  loss: 0.08363384\n",
      "epoch: 4726  loss: 0.08360314\n",
      "epoch: 4727  loss: 0.08357322\n",
      "epoch: 4728  loss: 0.08354392\n",
      "epoch: 4729  loss: 0.08351514\n",
      "epoch: 4730  loss: 0.08348642\n",
      "epoch: 4731  loss: 0.08345862\n",
      "epoch: 4732  loss: 0.08343158\n",
      "epoch: 4733  loss: 0.08340468\n",
      "epoch: 4734  loss: 0.08337706\n",
      "epoch: 4735  loss: 0.08335001\n",
      "epoch: 4736  loss: 0.08332218\n",
      "epoch: 4737  loss: 0.08329305\n",
      "epoch: 4738  loss: 0.08326242\n",
      "epoch: 4739  loss: 0.08323103\n",
      "epoch: 4740  loss: 0.08320038\n",
      "epoch: 4741  loss: 0.08317070\n",
      "epoch: 4742  loss: 0.08314158\n",
      "epoch: 4743  loss: 0.08311309\n",
      "epoch: 4744  loss: 0.08308500\n",
      "epoch: 4745  loss: 0.08305688\n",
      "epoch: 4746  loss: 0.08302833\n",
      "epoch: 4747  loss: 0.08300083\n",
      "epoch: 4748  loss: 0.08297353\n",
      "epoch: 4749  loss: 0.08294597\n",
      "epoch: 4750  loss: 0.08291969\n",
      "epoch: 4751  loss: 0.08289210\n",
      "epoch: 4752  loss: 0.08286455\n",
      "epoch: 4753  loss: 0.08283513\n",
      "epoch: 4754  loss: 0.08280599\n",
      "epoch: 4755  loss: 0.08277708\n",
      "epoch: 4756  loss: 0.08274716\n",
      "epoch: 4757  loss: 0.08271756\n",
      "epoch: 4758  loss: 0.08268829\n",
      "epoch: 4759  loss: 0.08265968\n",
      "epoch: 4760  loss: 0.08263087\n",
      "epoch: 4761  loss: 0.08260220\n",
      "epoch: 4762  loss: 0.08257377\n",
      "epoch: 4763  loss: 0.08254569\n",
      "epoch: 4764  loss: 0.08251792\n",
      "epoch: 4765  loss: 0.08249032\n",
      "epoch: 4766  loss: 0.08246391\n",
      "epoch: 4767  loss: 0.08243801\n",
      "epoch: 4768  loss: 0.08241247\n",
      "epoch: 4769  loss: 0.08238742\n",
      "epoch: 4770  loss: 0.08235903\n",
      "epoch: 4771  loss: 0.08233108\n",
      "epoch: 4772  loss: 0.08230223\n",
      "epoch: 4773  loss: 0.08227185\n",
      "epoch: 4774  loss: 0.08224136\n",
      "epoch: 4775  loss: 0.08221181\n",
      "epoch: 4776  loss: 0.08218264\n",
      "epoch: 4777  loss: 0.08215422\n",
      "epoch: 4778  loss: 0.08212709\n",
      "epoch: 4779  loss: 0.08209989\n",
      "epoch: 4780  loss: 0.08207309\n",
      "epoch: 4781  loss: 0.08204652\n",
      "epoch: 4782  loss: 0.08202051\n",
      "epoch: 4783  loss: 0.08199456\n",
      "epoch: 4784  loss: 0.08196809\n",
      "epoch: 4785  loss: 0.08194023\n",
      "epoch: 4786  loss: 0.08191190\n",
      "epoch: 4787  loss: 0.08188265\n",
      "epoch: 4788  loss: 0.08185358\n",
      "epoch: 4789  loss: 0.08182493\n",
      "epoch: 4790  loss: 0.08179650\n",
      "epoch: 4791  loss: 0.08176780\n",
      "epoch: 4792  loss: 0.08173984\n",
      "epoch: 4793  loss: 0.08171214\n",
      "epoch: 4794  loss: 0.08168476\n",
      "epoch: 4795  loss: 0.08165737\n",
      "epoch: 4796  loss: 0.08162984\n",
      "epoch: 4797  loss: 0.08160252\n",
      "epoch: 4798  loss: 0.08157594\n",
      "epoch: 4799  loss: 0.08154968\n",
      "epoch: 4800  loss: 0.08152371\n",
      "epoch: 4801  loss: 0.08149830\n",
      "epoch: 4802  loss: 0.08147487\n",
      "epoch: 4803  loss: 0.08145033\n",
      "epoch: 4804  loss: 0.08142351\n",
      "epoch: 4805  loss: 0.08139659\n",
      "epoch: 4806  loss: 0.08136628\n",
      "epoch: 4807  loss: 0.08133582\n",
      "epoch: 4808  loss: 0.08130582\n",
      "epoch: 4809  loss: 0.08127689\n",
      "epoch: 4810  loss: 0.08125028\n",
      "epoch: 4811  loss: 0.08122297\n",
      "epoch: 4812  loss: 0.08119861\n",
      "epoch: 4813  loss: 0.08117285\n",
      "epoch: 4814  loss: 0.08114665\n",
      "epoch: 4815  loss: 0.08112030\n",
      "epoch: 4816  loss: 0.08109272\n",
      "epoch: 4817  loss: 0.08106457\n",
      "epoch: 4818  loss: 0.08103675\n",
      "epoch: 4819  loss: 0.08100845\n",
      "epoch: 4820  loss: 0.08098045\n",
      "epoch: 4821  loss: 0.08095336\n",
      "epoch: 4822  loss: 0.08092626\n",
      "epoch: 4823  loss: 0.08089956\n",
      "epoch: 4824  loss: 0.08087207\n",
      "epoch: 4825  loss: 0.08084604\n",
      "epoch: 4826  loss: 0.08081988\n",
      "epoch: 4827  loss: 0.08079417\n",
      "epoch: 4828  loss: 0.08076983\n",
      "epoch: 4829  loss: 0.08074670\n",
      "epoch: 4830  loss: 0.08072384\n",
      "epoch: 4831  loss: 0.08070069\n",
      "epoch: 4832  loss: 0.08067320\n",
      "epoch: 4833  loss: 0.08064272\n",
      "epoch: 4834  loss: 0.08061102\n",
      "epoch: 4835  loss: 0.08058084\n",
      "epoch: 4836  loss: 0.08055342\n",
      "epoch: 4837  loss: 0.08052722\n",
      "epoch: 4838  loss: 0.08050148\n",
      "epoch: 4839  loss: 0.08047660\n",
      "epoch: 4840  loss: 0.08045225\n",
      "epoch: 4841  loss: 0.08042625\n",
      "epoch: 4842  loss: 0.08040129\n",
      "epoch: 4843  loss: 0.08037502\n",
      "epoch: 4844  loss: 0.08034794\n",
      "epoch: 4845  loss: 0.08032105\n",
      "epoch: 4846  loss: 0.08029335\n",
      "epoch: 4847  loss: 0.08026680\n",
      "epoch: 4848  loss: 0.08023935\n",
      "epoch: 4849  loss: 0.08021185\n",
      "epoch: 4850  loss: 0.08018550\n",
      "epoch: 4851  loss: 0.08015867\n",
      "epoch: 4852  loss: 0.08013247\n",
      "epoch: 4853  loss: 0.08010551\n",
      "epoch: 4854  loss: 0.08007915\n",
      "epoch: 4855  loss: 0.08005366\n",
      "epoch: 4856  loss: 0.08002707\n",
      "epoch: 4857  loss: 0.08000125\n",
      "epoch: 4858  loss: 0.07997574\n",
      "epoch: 4859  loss: 0.07994897\n",
      "epoch: 4860  loss: 0.07992263\n",
      "epoch: 4861  loss: 0.07989687\n",
      "epoch: 4862  loss: 0.07987124\n",
      "epoch: 4863  loss: 0.07984612\n",
      "epoch: 4864  loss: 0.07982291\n",
      "epoch: 4865  loss: 0.07980014\n",
      "epoch: 4866  loss: 0.07977817\n",
      "epoch: 4867  loss: 0.07975517\n",
      "epoch: 4868  loss: 0.07972953\n",
      "epoch: 4869  loss: 0.07970092\n",
      "epoch: 4870  loss: 0.07967021\n",
      "epoch: 4871  loss: 0.07964017\n",
      "epoch: 4872  loss: 0.07961252\n",
      "epoch: 4873  loss: 0.07958663\n",
      "epoch: 4874  loss: 0.07956186\n",
      "epoch: 4875  loss: 0.07953899\n",
      "epoch: 4876  loss: 0.07951529\n",
      "epoch: 4877  loss: 0.07949175\n",
      "epoch: 4878  loss: 0.07946622\n",
      "epoch: 4879  loss: 0.07943980\n",
      "epoch: 4880  loss: 0.07941271\n",
      "epoch: 4881  loss: 0.07938462\n",
      "epoch: 4882  loss: 0.07935838\n",
      "epoch: 4883  loss: 0.07933110\n",
      "epoch: 4884  loss: 0.07930424\n",
      "epoch: 4885  loss: 0.07927859\n",
      "epoch: 4886  loss: 0.07925287\n",
      "epoch: 4887  loss: 0.07922716\n",
      "epoch: 4888  loss: 0.07920190\n",
      "epoch: 4889  loss: 0.07917694\n",
      "epoch: 4890  loss: 0.07915204\n",
      "epoch: 4891  loss: 0.07912662\n",
      "epoch: 4892  loss: 0.07910348\n",
      "epoch: 4893  loss: 0.07907975\n",
      "epoch: 4894  loss: 0.07905637\n",
      "epoch: 4895  loss: 0.07903302\n",
      "epoch: 4896  loss: 0.07900839\n",
      "epoch: 4897  loss: 0.07898143\n",
      "epoch: 4898  loss: 0.07895417\n",
      "epoch: 4899  loss: 0.07892652\n",
      "epoch: 4900  loss: 0.07889917\n",
      "epoch: 4901  loss: 0.07887251\n",
      "epoch: 4902  loss: 0.07884738\n",
      "epoch: 4903  loss: 0.07882155\n",
      "epoch: 4904  loss: 0.07879663\n",
      "epoch: 4905  loss: 0.07877190\n",
      "epoch: 4906  loss: 0.07874752\n",
      "epoch: 4907  loss: 0.07872389\n",
      "epoch: 4908  loss: 0.07869960\n",
      "epoch: 4909  loss: 0.07867552\n",
      "epoch: 4910  loss: 0.07865193\n",
      "epoch: 4911  loss: 0.07862673\n",
      "epoch: 4912  loss: 0.07860025\n",
      "epoch: 4913  loss: 0.07857464\n",
      "epoch: 4914  loss: 0.07854895\n",
      "epoch: 4915  loss: 0.07852292\n",
      "epoch: 4916  loss: 0.07849753\n",
      "epoch: 4917  loss: 0.07847194\n",
      "epoch: 4918  loss: 0.07844725\n",
      "epoch: 4919  loss: 0.07842231\n",
      "epoch: 4920  loss: 0.07839710\n",
      "epoch: 4921  loss: 0.07837213\n",
      "epoch: 4922  loss: 0.07834736\n",
      "epoch: 4923  loss: 0.07832184\n",
      "epoch: 4924  loss: 0.07829775\n",
      "epoch: 4925  loss: 0.07827298\n",
      "epoch: 4926  loss: 0.07824807\n",
      "epoch: 4927  loss: 0.07822358\n",
      "epoch: 4928  loss: 0.07819863\n",
      "epoch: 4929  loss: 0.07817350\n",
      "epoch: 4930  loss: 0.07814989\n",
      "epoch: 4931  loss: 0.07812588\n",
      "epoch: 4932  loss: 0.07810321\n",
      "epoch: 4933  loss: 0.07808247\n",
      "epoch: 4934  loss: 0.07806172\n",
      "epoch: 4935  loss: 0.07804033\n",
      "epoch: 4936  loss: 0.07801567\n",
      "epoch: 4937  loss: 0.07798722\n",
      "epoch: 4938  loss: 0.07795827\n",
      "epoch: 4939  loss: 0.07793017\n",
      "epoch: 4940  loss: 0.07790488\n",
      "epoch: 4941  loss: 0.07788053\n",
      "epoch: 4942  loss: 0.07785751\n",
      "epoch: 4943  loss: 0.07783561\n",
      "epoch: 4944  loss: 0.07781347\n",
      "epoch: 4945  loss: 0.07779059\n",
      "epoch: 4946  loss: 0.07776599\n",
      "epoch: 4947  loss: 0.07774001\n",
      "epoch: 4948  loss: 0.07771397\n",
      "epoch: 4949  loss: 0.07768801\n",
      "epoch: 4950  loss: 0.07766173\n",
      "epoch: 4951  loss: 0.07763759\n",
      "epoch: 4952  loss: 0.07761394\n",
      "epoch: 4953  loss: 0.07759093\n",
      "epoch: 4954  loss: 0.07756701\n",
      "epoch: 4955  loss: 0.07754441\n",
      "epoch: 4956  loss: 0.07752111\n",
      "epoch: 4957  loss: 0.07749695\n",
      "epoch: 4958  loss: 0.07747289\n",
      "epoch: 4959  loss: 0.07744706\n",
      "epoch: 4960  loss: 0.07742206\n",
      "epoch: 4961  loss: 0.07739716\n",
      "epoch: 4962  loss: 0.07737226\n",
      "epoch: 4963  loss: 0.07734767\n",
      "epoch: 4964  loss: 0.07732335\n",
      "epoch: 4965  loss: 0.07729936\n",
      "epoch: 4966  loss: 0.07727510\n",
      "epoch: 4967  loss: 0.07725081\n",
      "epoch: 4968  loss: 0.07722724\n",
      "epoch: 4969  loss: 0.07720368\n",
      "epoch: 4970  loss: 0.07718026\n",
      "epoch: 4971  loss: 0.07715666\n",
      "epoch: 4972  loss: 0.07713427\n",
      "epoch: 4973  loss: 0.07711268\n",
      "epoch: 4974  loss: 0.07709152\n",
      "epoch: 4975  loss: 0.07706998\n",
      "epoch: 4976  loss: 0.07704850\n",
      "epoch: 4977  loss: 0.07702382\n",
      "epoch: 4978  loss: 0.07699819\n",
      "epoch: 4979  loss: 0.07697102\n",
      "epoch: 4980  loss: 0.07694409\n",
      "epoch: 4981  loss: 0.07691876\n",
      "epoch: 4982  loss: 0.07689472\n",
      "epoch: 4983  loss: 0.07687110\n",
      "epoch: 4984  loss: 0.07684947\n",
      "epoch: 4985  loss: 0.07682806\n",
      "epoch: 4986  loss: 0.07680719\n",
      "epoch: 4987  loss: 0.07678553\n",
      "epoch: 4988  loss: 0.07676204\n",
      "epoch: 4989  loss: 0.07673642\n",
      "epoch: 4990  loss: 0.07671021\n",
      "epoch: 4991  loss: 0.07668465\n",
      "epoch: 4992  loss: 0.07665979\n",
      "epoch: 4993  loss: 0.07663549\n",
      "epoch: 4994  loss: 0.07661232\n",
      "epoch: 4995  loss: 0.07658900\n",
      "epoch: 4996  loss: 0.07656677\n",
      "epoch: 4997  loss: 0.07654537\n",
      "epoch: 4998  loss: 0.07652377\n",
      "epoch: 4999  loss: 0.07650194\n",
      "\n",
      "# Finished training!\n",
      "# --> epoch: 4999  \n",
      "# --> initial loss: 1.77557945 ,  \n",
      "# --> accuracy: 0.97578934 , \n",
      "# --> final loss: 0.07650194\n"
     ]
    }
   ],
   "source": [
    "data_train = (torch.FloatTensor(X_train), torch.LongTensor(Y_train))\n",
    "\n",
    "Model = moodClassifier(dim_embed=num_dims, n_units=500)\n",
    "if CUDA_flag:         # se houver GPUs disponíveis\n",
    "  Model.cuda()       # converte o modelo para CUDA\n",
    "\n",
    "print(Model)\n",
    "\n",
    "criterion = nn.NLLLoss() # cross entropy loss\n",
    "optimizer = torch.optim.Adam(Model.parameters(), lr = 0.001) \n",
    "\n",
    "Model, losses, accs = train_loop(Model, data_train, max_epochs=5000, print_iters=1) # note que o modelo é sobrescrito pela saída treinada"
   ]
  },
  {
   "cell_type": "code",
   "execution_count": 31,
   "metadata": {},
   "outputs": [],
   "source": [
    "# Rodando o Modelo treinado com o Dataset de Teste\n",
    "data_test = (torch.FloatTensor(X_test), torch.LongTensor(Y_test))\n",
    "X_test_tensor, Y_test_tensor = data_test\n",
    "\n",
    "if CUDA_flag: # usar GPU?\n",
    "      X_test_tensor = X_test_tensor.cuda()\n",
    "\n",
    "Y_pred_tensor = Model.forward(X_test_tensor) \n",
    "\n",
    "# hard-decision e pós-processamento da saída \n",
    "y_pred = torch.argmax(Y_pred_tensor, dim=1)\n",
    "y_pred = y_pred.float()\n",
    "y_true = torch.squeeze(Y_test_tensor) \n",
    "y_pred = torch.squeeze(y_pred)"
   ]
  },
  {
   "source": [
    "### Mostrando a *Confusion Matrix*"
   ],
   "cell_type": "markdown",
   "metadata": {}
  },
  {
   "cell_type": "code",
   "execution_count": 32,
   "metadata": {},
   "outputs": [
    {
     "output_type": "display_data",
     "data": {
      "text/plain": "<Figure size 792x792 with 2 Axes>",
      "image/svg+xml": "<?xml version=\"1.0\" encoding=\"utf-8\" standalone=\"no\"?>\r\n<!DOCTYPE svg PUBLIC \"-//W3C//DTD SVG 1.1//EN\"\r\n  \"http://www.w3.org/Graphics/SVG/1.1/DTD/svg11.dtd\">\r\n<!-- Created with matplotlib (https://matplotlib.org/) -->\r\n<svg height=\"618.238906pt\" version=\"1.1\" viewBox=\"0 0 646.688937 618.238906\" width=\"646.688937pt\" xmlns=\"http://www.w3.org/2000/svg\" xmlns:xlink=\"http://www.w3.org/1999/xlink\">\r\n <metadata>\r\n  <rdf:RDF xmlns:cc=\"http://creativecommons.org/ns#\" xmlns:dc=\"http://purl.org/dc/elements/1.1/\" xmlns:rdf=\"http://www.w3.org/1999/02/22-rdf-syntax-ns#\">\r\n   <cc:Work>\r\n    <dc:type rdf:resource=\"http://purl.org/dc/dcmitype/StillImage\"/>\r\n    <dc:date>2021-04-23T09:42:34.109003</dc:date>\r\n    <dc:format>image/svg+xml</dc:format>\r\n    <dc:creator>\r\n     <cc:Agent>\r\n      <dc:title>Matplotlib v3.3.2, https://matplotlib.org/</dc:title>\r\n     </cc:Agent>\r\n    </dc:creator>\r\n   </cc:Work>\r\n  </rdf:RDF>\r\n </metadata>\r\n <defs>\r\n  <style type=\"text/css\">*{stroke-linecap:butt;stroke-linejoin:round;}</style>\r\n </defs>\r\n <g id=\"figure_1\">\r\n  <g id=\"patch_1\">\r\n   <path d=\"M -0 618.238906 \r\nL 646.688937 618.238906 \r\nL 646.688937 0 \r\nL -0 0 \r\nz\r\n\" style=\"fill:none;\"/>\r\n  </g>\r\n  <g id=\"axes_1\">\r\n   <g id=\"patch_2\">\r\n    <path d=\"M 68.135938 551.7 \r\nL 559.175938 551.7 \r\nL 559.175938 60.66 \r\nL 68.135938 60.66 \r\nz\r\n\" style=\"fill:#ffffff;\"/>\r\n   </g>\r\n   <g clip-path=\"url(#p176e3a3ca9)\">\r\n    <image height=\"492\" id=\"image72e9e1b1af\" transform=\"scale(1 -1)translate(0 -492)\" width=\"492\" x=\"68.135938\" xlink:href=\"data:image/png;base64,\r\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\" y=\"-59.7\"/>\r\n   </g>\r\n   <g id=\"matplotlib.axis_1\">\r\n    <g id=\"xtick_1\">\r\n     <g id=\"line2d_1\">\r\n      <defs>\r\n       <path d=\"M 0 0 \r\nL 0 3.5 \r\n\" id=\"mf72c5bdcdb\" style=\"stroke:#000000;stroke-width:0.8;\"/>\r\n      </defs>\r\n      <g>\r\n       <use style=\"stroke:#000000;stroke-width:0.8;\" x=\"109.055938\" xlink:href=\"#mf72c5bdcdb\" y=\"551.7\"/>\r\n      </g>\r\n     </g>\r\n     <g id=\"text_1\">\r\n      <!-- angry -->\r\n      <g transform=\"translate(94.634063 566.298437)scale(0.1 -0.1)\">\r\n       <defs>\r\n        <path d=\"M 34.28125 27.484375 \r\nQ 23.390625 27.484375 19.1875 25 \r\nQ 14.984375 22.515625 14.984375 16.5 \r\nQ 14.984375 11.71875 18.140625 8.90625 \r\nQ 21.296875 6.109375 26.703125 6.109375 \r\nQ 34.1875 6.109375 38.703125 11.40625 \r\nQ 43.21875 16.703125 43.21875 25.484375 \r\nL 43.21875 27.484375 \r\nz\r\nM 52.203125 31.203125 \r\nL 52.203125 0 \r\nL 43.21875 0 \r\nL 43.21875 8.296875 \r\nQ 40.140625 3.328125 35.546875 0.953125 \r\nQ 30.953125 -1.421875 24.3125 -1.421875 \r\nQ 15.921875 -1.421875 10.953125 3.296875 \r\nQ 6 8.015625 6 15.921875 \r\nQ 6 25.140625 12.171875 29.828125 \r\nQ 18.359375 34.515625 30.609375 34.515625 \r\nL 43.21875 34.515625 \r\nL 43.21875 35.40625 \r\nQ 43.21875 41.609375 39.140625 45 \r\nQ 35.0625 48.390625 27.6875 48.390625 \r\nQ 23 48.390625 18.546875 47.265625 \r\nQ 14.109375 46.140625 10.015625 43.890625 \r\nL 10.015625 52.203125 \r\nQ 14.9375 54.109375 19.578125 55.046875 \r\nQ 24.21875 56 28.609375 56 \r\nQ 40.484375 56 46.34375 49.84375 \r\nQ 52.203125 43.703125 52.203125 31.203125 \r\nz\r\n\" id=\"DejaVuSans-97\"/>\r\n        <path d=\"M 54.890625 33.015625 \r\nL 54.890625 0 \r\nL 45.90625 0 \r\nL 45.90625 32.71875 \r\nQ 45.90625 40.484375 42.875 44.328125 \r\nQ 39.84375 48.1875 33.796875 48.1875 \r\nQ 26.515625 48.1875 22.3125 43.546875 \r\nQ 18.109375 38.921875 18.109375 30.90625 \r\nL 18.109375 0 \r\nL 9.078125 0 \r\nL 9.078125 54.6875 \r\nL 18.109375 54.6875 \r\nL 18.109375 46.1875 \r\nQ 21.34375 51.125 25.703125 53.5625 \r\nQ 30.078125 56 35.796875 56 \r\nQ 45.21875 56 50.046875 50.171875 \r\nQ 54.890625 44.34375 54.890625 33.015625 \r\nz\r\n\" id=\"DejaVuSans-110\"/>\r\n        <path d=\"M 45.40625 27.984375 \r\nQ 45.40625 37.75 41.375 43.109375 \r\nQ 37.359375 48.484375 30.078125 48.484375 \r\nQ 22.859375 48.484375 18.828125 43.109375 \r\nQ 14.796875 37.75 14.796875 27.984375 \r\nQ 14.796875 18.265625 18.828125 12.890625 \r\nQ 22.859375 7.515625 30.078125 7.515625 \r\nQ 37.359375 7.515625 41.375 12.890625 \r\nQ 45.40625 18.265625 45.40625 27.984375 \r\nz\r\nM 54.390625 6.78125 \r\nQ 54.390625 -7.171875 48.1875 -13.984375 \r\nQ 42 -20.796875 29.203125 -20.796875 \r\nQ 24.46875 -20.796875 20.265625 -20.09375 \r\nQ 16.0625 -19.390625 12.109375 -17.921875 \r\nL 12.109375 -9.1875 \r\nQ 16.0625 -11.328125 19.921875 -12.34375 \r\nQ 23.78125 -13.375 27.78125 -13.375 \r\nQ 36.625 -13.375 41.015625 -8.765625 \r\nQ 45.40625 -4.15625 45.40625 5.171875 \r\nL 45.40625 9.625 \r\nQ 42.625 4.78125 38.28125 2.390625 \r\nQ 33.9375 0 27.875 0 \r\nQ 17.828125 0 11.671875 7.65625 \r\nQ 5.515625 15.328125 5.515625 27.984375 \r\nQ 5.515625 40.671875 11.671875 48.328125 \r\nQ 17.828125 56 27.875 56 \r\nQ 33.9375 56 38.28125 53.609375 \r\nQ 42.625 51.21875 45.40625 46.390625 \r\nL 45.40625 54.6875 \r\nL 54.390625 54.6875 \r\nz\r\n\" id=\"DejaVuSans-103\"/>\r\n        <path d=\"M 41.109375 46.296875 \r\nQ 39.59375 47.171875 37.8125 47.578125 \r\nQ 36.03125 48 33.890625 48 \r\nQ 26.265625 48 22.1875 43.046875 \r\nQ 18.109375 38.09375 18.109375 28.8125 \r\nL 18.109375 0 \r\nL 9.078125 0 \r\nL 9.078125 54.6875 \r\nL 18.109375 54.6875 \r\nL 18.109375 46.1875 \r\nQ 20.953125 51.171875 25.484375 53.578125 \r\nQ 30.03125 56 36.53125 56 \r\nQ 37.453125 56 38.578125 55.875 \r\nQ 39.703125 55.765625 41.0625 55.515625 \r\nz\r\n\" id=\"DejaVuSans-114\"/>\r\n        <path d=\"M 32.171875 -5.078125 \r\nQ 28.375 -14.84375 24.75 -17.8125 \r\nQ 21.140625 -20.796875 15.09375 -20.796875 \r\nL 7.90625 -20.796875 \r\nL 7.90625 -13.28125 \r\nL 13.1875 -13.28125 \r\nQ 16.890625 -13.28125 18.9375 -11.515625 \r\nQ 21 -9.765625 23.484375 -3.21875 \r\nL 25.09375 0.875 \r\nL 2.984375 54.6875 \r\nL 12.5 54.6875 \r\nL 29.59375 11.921875 \r\nL 46.6875 54.6875 \r\nL 56.203125 54.6875 \r\nz\r\n\" id=\"DejaVuSans-121\"/>\r\n       </defs>\r\n       <use xlink:href=\"#DejaVuSans-97\"/>\r\n       <use x=\"61.279297\" xlink:href=\"#DejaVuSans-110\"/>\r\n       <use x=\"124.658203\" xlink:href=\"#DejaVuSans-103\"/>\r\n       <use x=\"188.134766\" xlink:href=\"#DejaVuSans-114\"/>\r\n       <use x=\"229.248047\" xlink:href=\"#DejaVuSans-121\"/>\r\n      </g>\r\n     </g>\r\n    </g>\r\n    <g id=\"xtick_2\">\r\n     <g id=\"line2d_2\">\r\n      <g>\r\n       <use style=\"stroke:#000000;stroke-width:0.8;\" x=\"190.895938\" xlink:href=\"#mf72c5bdcdb\" y=\"551.7\"/>\r\n      </g>\r\n     </g>\r\n     <g id=\"text_2\">\r\n      <!-- disgust -->\r\n      <g transform=\"translate(172.820156 566.298437)scale(0.1 -0.1)\">\r\n       <defs>\r\n        <path d=\"M 45.40625 46.390625 \r\nL 45.40625 75.984375 \r\nL 54.390625 75.984375 \r\nL 54.390625 0 \r\nL 45.40625 0 \r\nL 45.40625 8.203125 \r\nQ 42.578125 3.328125 38.25 0.953125 \r\nQ 33.9375 -1.421875 27.875 -1.421875 \r\nQ 17.96875 -1.421875 11.734375 6.484375 \r\nQ 5.515625 14.40625 5.515625 27.296875 \r\nQ 5.515625 40.1875 11.734375 48.09375 \r\nQ 17.96875 56 27.875 56 \r\nQ 33.9375 56 38.25 53.625 \r\nQ 42.578125 51.265625 45.40625 46.390625 \r\nz\r\nM 14.796875 27.296875 \r\nQ 14.796875 17.390625 18.875 11.75 \r\nQ 22.953125 6.109375 30.078125 6.109375 \r\nQ 37.203125 6.109375 41.296875 11.75 \r\nQ 45.40625 17.390625 45.40625 27.296875 \r\nQ 45.40625 37.203125 41.296875 42.84375 \r\nQ 37.203125 48.484375 30.078125 48.484375 \r\nQ 22.953125 48.484375 18.875 42.84375 \r\nQ 14.796875 37.203125 14.796875 27.296875 \r\nz\r\n\" id=\"DejaVuSans-100\"/>\r\n        <path d=\"M 9.421875 54.6875 \r\nL 18.40625 54.6875 \r\nL 18.40625 0 \r\nL 9.421875 0 \r\nz\r\nM 9.421875 75.984375 \r\nL 18.40625 75.984375 \r\nL 18.40625 64.59375 \r\nL 9.421875 64.59375 \r\nz\r\n\" id=\"DejaVuSans-105\"/>\r\n        <path d=\"M 44.28125 53.078125 \r\nL 44.28125 44.578125 \r\nQ 40.484375 46.53125 36.375 47.5 \r\nQ 32.28125 48.484375 27.875 48.484375 \r\nQ 21.1875 48.484375 17.84375 46.4375 \r\nQ 14.5 44.390625 14.5 40.28125 \r\nQ 14.5 37.15625 16.890625 35.375 \r\nQ 19.28125 33.59375 26.515625 31.984375 \r\nL 29.59375 31.296875 \r\nQ 39.15625 29.25 43.1875 25.515625 \r\nQ 47.21875 21.78125 47.21875 15.09375 \r\nQ 47.21875 7.46875 41.1875 3.015625 \r\nQ 35.15625 -1.421875 24.609375 -1.421875 \r\nQ 20.21875 -1.421875 15.453125 -0.5625 \r\nQ 10.6875 0.296875 5.421875 2 \r\nL 5.421875 11.28125 \r\nQ 10.40625 8.6875 15.234375 7.390625 \r\nQ 20.0625 6.109375 24.8125 6.109375 \r\nQ 31.15625 6.109375 34.5625 8.28125 \r\nQ 37.984375 10.453125 37.984375 14.40625 \r\nQ 37.984375 18.0625 35.515625 20.015625 \r\nQ 33.0625 21.96875 24.703125 23.78125 \r\nL 21.578125 24.515625 \r\nQ 13.234375 26.265625 9.515625 29.90625 \r\nQ 5.8125 33.546875 5.8125 39.890625 \r\nQ 5.8125 47.609375 11.28125 51.796875 \r\nQ 16.75 56 26.8125 56 \r\nQ 31.78125 56 36.171875 55.265625 \r\nQ 40.578125 54.546875 44.28125 53.078125 \r\nz\r\n\" id=\"DejaVuSans-115\"/>\r\n        <path d=\"M 8.5 21.578125 \r\nL 8.5 54.6875 \r\nL 17.484375 54.6875 \r\nL 17.484375 21.921875 \r\nQ 17.484375 14.15625 20.5 10.265625 \r\nQ 23.53125 6.390625 29.59375 6.390625 \r\nQ 36.859375 6.390625 41.078125 11.03125 \r\nQ 45.3125 15.671875 45.3125 23.6875 \r\nL 45.3125 54.6875 \r\nL 54.296875 54.6875 \r\nL 54.296875 0 \r\nL 45.3125 0 \r\nL 45.3125 8.40625 \r\nQ 42.046875 3.421875 37.71875 1 \r\nQ 33.40625 -1.421875 27.6875 -1.421875 \r\nQ 18.265625 -1.421875 13.375 4.4375 \r\nQ 8.5 10.296875 8.5 21.578125 \r\nz\r\nM 31.109375 56 \r\nz\r\n\" id=\"DejaVuSans-117\"/>\r\n        <path d=\"M 18.3125 70.21875 \r\nL 18.3125 54.6875 \r\nL 36.8125 54.6875 \r\nL 36.8125 47.703125 \r\nL 18.3125 47.703125 \r\nL 18.3125 18.015625 \r\nQ 18.3125 11.328125 20.140625 9.421875 \r\nQ 21.96875 7.515625 27.59375 7.515625 \r\nL 36.8125 7.515625 \r\nL 36.8125 0 \r\nL 27.59375 0 \r\nQ 17.1875 0 13.234375 3.875 \r\nQ 9.28125 7.765625 9.28125 18.015625 \r\nL 9.28125 47.703125 \r\nL 2.6875 47.703125 \r\nL 2.6875 54.6875 \r\nL 9.28125 54.6875 \r\nL 9.28125 70.21875 \r\nz\r\n\" id=\"DejaVuSans-116\"/>\r\n       </defs>\r\n       <use xlink:href=\"#DejaVuSans-100\"/>\r\n       <use x=\"63.476562\" xlink:href=\"#DejaVuSans-105\"/>\r\n       <use x=\"91.259766\" xlink:href=\"#DejaVuSans-115\"/>\r\n       <use x=\"143.359375\" xlink:href=\"#DejaVuSans-103\"/>\r\n       <use x=\"206.835938\" xlink:href=\"#DejaVuSans-117\"/>\r\n       <use x=\"270.214844\" xlink:href=\"#DejaVuSans-115\"/>\r\n       <use x=\"322.314453\" xlink:href=\"#DejaVuSans-116\"/>\r\n      </g>\r\n     </g>\r\n    </g>\r\n    <g id=\"xtick_3\">\r\n     <g id=\"line2d_3\">\r\n      <g>\r\n       <use style=\"stroke:#000000;stroke-width:0.8;\" x=\"272.735938\" xlink:href=\"#mf72c5bdcdb\" y=\"551.7\"/>\r\n      </g>\r\n     </g>\r\n     <g id=\"text_3\">\r\n      <!-- fear -->\r\n      <g transform=\"translate(262.779688 566.298437)scale(0.1 -0.1)\">\r\n       <defs>\r\n        <path d=\"M 37.109375 75.984375 \r\nL 37.109375 68.5 \r\nL 28.515625 68.5 \r\nQ 23.6875 68.5 21.796875 66.546875 \r\nQ 19.921875 64.59375 19.921875 59.515625 \r\nL 19.921875 54.6875 \r\nL 34.71875 54.6875 \r\nL 34.71875 47.703125 \r\nL 19.921875 47.703125 \r\nL 19.921875 0 \r\nL 10.890625 0 \r\nL 10.890625 47.703125 \r\nL 2.296875 47.703125 \r\nL 2.296875 54.6875 \r\nL 10.890625 54.6875 \r\nL 10.890625 58.5 \r\nQ 10.890625 67.625 15.140625 71.796875 \r\nQ 19.390625 75.984375 28.609375 75.984375 \r\nz\r\n\" id=\"DejaVuSans-102\"/>\r\n        <path d=\"M 56.203125 29.59375 \r\nL 56.203125 25.203125 \r\nL 14.890625 25.203125 \r\nQ 15.484375 15.921875 20.484375 11.0625 \r\nQ 25.484375 6.203125 34.421875 6.203125 \r\nQ 39.59375 6.203125 44.453125 7.46875 \r\nQ 49.3125 8.734375 54.109375 11.28125 \r\nL 54.109375 2.78125 \r\nQ 49.265625 0.734375 44.1875 -0.34375 \r\nQ 39.109375 -1.421875 33.890625 -1.421875 \r\nQ 20.796875 -1.421875 13.15625 6.1875 \r\nQ 5.515625 13.8125 5.515625 26.8125 \r\nQ 5.515625 40.234375 12.765625 48.109375 \r\nQ 20.015625 56 32.328125 56 \r\nQ 43.359375 56 49.78125 48.890625 \r\nQ 56.203125 41.796875 56.203125 29.59375 \r\nz\r\nM 47.21875 32.234375 \r\nQ 47.125 39.59375 43.09375 43.984375 \r\nQ 39.0625 48.390625 32.421875 48.390625 \r\nQ 24.90625 48.390625 20.390625 44.140625 \r\nQ 15.875 39.890625 15.1875 32.171875 \r\nz\r\n\" id=\"DejaVuSans-101\"/>\r\n       </defs>\r\n       <use xlink:href=\"#DejaVuSans-102\"/>\r\n       <use x=\"35.205078\" xlink:href=\"#DejaVuSans-101\"/>\r\n       <use x=\"96.728516\" xlink:href=\"#DejaVuSans-97\"/>\r\n       <use x=\"158.007812\" xlink:href=\"#DejaVuSans-114\"/>\r\n      </g>\r\n     </g>\r\n    </g>\r\n    <g id=\"xtick_4\">\r\n     <g id=\"line2d_4\">\r\n      <g>\r\n       <use style=\"stroke:#000000;stroke-width:0.8;\" x=\"354.575938\" xlink:href=\"#mf72c5bdcdb\" y=\"551.7\"/>\r\n      </g>\r\n     </g>\r\n     <g id=\"text_4\">\r\n      <!-- happy -->\r\n      <g transform=\"translate(339.035313 566.298437)scale(0.1 -0.1)\">\r\n       <defs>\r\n        <path d=\"M 54.890625 33.015625 \r\nL 54.890625 0 \r\nL 45.90625 0 \r\nL 45.90625 32.71875 \r\nQ 45.90625 40.484375 42.875 44.328125 \r\nQ 39.84375 48.1875 33.796875 48.1875 \r\nQ 26.515625 48.1875 22.3125 43.546875 \r\nQ 18.109375 38.921875 18.109375 30.90625 \r\nL 18.109375 0 \r\nL 9.078125 0 \r\nL 9.078125 75.984375 \r\nL 18.109375 75.984375 \r\nL 18.109375 46.1875 \r\nQ 21.34375 51.125 25.703125 53.5625 \r\nQ 30.078125 56 35.796875 56 \r\nQ 45.21875 56 50.046875 50.171875 \r\nQ 54.890625 44.34375 54.890625 33.015625 \r\nz\r\n\" id=\"DejaVuSans-104\"/>\r\n        <path d=\"M 18.109375 8.203125 \r\nL 18.109375 -20.796875 \r\nL 9.078125 -20.796875 \r\nL 9.078125 54.6875 \r\nL 18.109375 54.6875 \r\nL 18.109375 46.390625 \r\nQ 20.953125 51.265625 25.265625 53.625 \r\nQ 29.59375 56 35.59375 56 \r\nQ 45.5625 56 51.78125 48.09375 \r\nQ 58.015625 40.1875 58.015625 27.296875 \r\nQ 58.015625 14.40625 51.78125 6.484375 \r\nQ 45.5625 -1.421875 35.59375 -1.421875 \r\nQ 29.59375 -1.421875 25.265625 0.953125 \r\nQ 20.953125 3.328125 18.109375 8.203125 \r\nz\r\nM 48.6875 27.296875 \r\nQ 48.6875 37.203125 44.609375 42.84375 \r\nQ 40.53125 48.484375 33.40625 48.484375 \r\nQ 26.265625 48.484375 22.1875 42.84375 \r\nQ 18.109375 37.203125 18.109375 27.296875 \r\nQ 18.109375 17.390625 22.1875 11.75 \r\nQ 26.265625 6.109375 33.40625 6.109375 \r\nQ 40.53125 6.109375 44.609375 11.75 \r\nQ 48.6875 17.390625 48.6875 27.296875 \r\nz\r\n\" id=\"DejaVuSans-112\"/>\r\n       </defs>\r\n       <use xlink:href=\"#DejaVuSans-104\"/>\r\n       <use x=\"63.378906\" xlink:href=\"#DejaVuSans-97\"/>\r\n       <use x=\"124.658203\" xlink:href=\"#DejaVuSans-112\"/>\r\n       <use x=\"188.134766\" xlink:href=\"#DejaVuSans-112\"/>\r\n       <use x=\"251.611328\" xlink:href=\"#DejaVuSans-121\"/>\r\n      </g>\r\n     </g>\r\n    </g>\r\n    <g id=\"xtick_5\">\r\n     <g id=\"line2d_5\">\r\n      <g>\r\n       <use style=\"stroke:#000000;stroke-width:0.8;\" x=\"436.415938\" xlink:href=\"#mf72c5bdcdb\" y=\"551.7\"/>\r\n      </g>\r\n     </g>\r\n     <g id=\"text_5\">\r\n      <!-- sad -->\r\n      <g transform=\"translate(427.572969 566.298437)scale(0.1 -0.1)\">\r\n       <use xlink:href=\"#DejaVuSans-115\"/>\r\n       <use x=\"52.099609\" xlink:href=\"#DejaVuSans-97\"/>\r\n       <use x=\"113.378906\" xlink:href=\"#DejaVuSans-100\"/>\r\n      </g>\r\n     </g>\r\n    </g>\r\n    <g id=\"xtick_6\">\r\n     <g id=\"line2d_6\">\r\n      <g>\r\n       <use style=\"stroke:#000000;stroke-width:0.8;\" x=\"518.255938\" xlink:href=\"#mf72c5bdcdb\" y=\"551.7\"/>\r\n      </g>\r\n     </g>\r\n     <g id=\"text_6\">\r\n      <!-- surprise -->\r\n      <g transform=\"translate(498.127031 566.298437)scale(0.1 -0.1)\">\r\n       <use xlink:href=\"#DejaVuSans-115\"/>\r\n       <use x=\"52.099609\" xlink:href=\"#DejaVuSans-117\"/>\r\n       <use x=\"115.478516\" xlink:href=\"#DejaVuSans-114\"/>\r\n       <use x=\"156.591797\" xlink:href=\"#DejaVuSans-112\"/>\r\n       <use x=\"220.068359\" xlink:href=\"#DejaVuSans-114\"/>\r\n       <use x=\"261.181641\" xlink:href=\"#DejaVuSans-105\"/>\r\n       <use x=\"288.964844\" xlink:href=\"#DejaVuSans-115\"/>\r\n       <use x=\"341.064453\" xlink:href=\"#DejaVuSans-101\"/>\r\n      </g>\r\n     </g>\r\n    </g>\r\n    <g id=\"text_7\">\r\n     <!-- Predicted label -->\r\n     <g transform=\"translate(276.503594 579.976562)scale(0.1 -0.1)\">\r\n      <defs>\r\n       <path d=\"M 19.671875 64.796875 \r\nL 19.671875 37.40625 \r\nL 32.078125 37.40625 \r\nQ 38.96875 37.40625 42.71875 40.96875 \r\nQ 46.484375 44.53125 46.484375 51.125 \r\nQ 46.484375 57.671875 42.71875 61.234375 \r\nQ 38.96875 64.796875 32.078125 64.796875 \r\nz\r\nM 9.8125 72.90625 \r\nL 32.078125 72.90625 \r\nQ 44.34375 72.90625 50.609375 67.359375 \r\nQ 56.890625 61.8125 56.890625 51.125 \r\nQ 56.890625 40.328125 50.609375 34.8125 \r\nQ 44.34375 29.296875 32.078125 29.296875 \r\nL 19.671875 29.296875 \r\nL 19.671875 0 \r\nL 9.8125 0 \r\nz\r\n\" id=\"DejaVuSans-80\"/>\r\n       <path d=\"M 48.78125 52.59375 \r\nL 48.78125 44.1875 \r\nQ 44.96875 46.296875 41.140625 47.34375 \r\nQ 37.3125 48.390625 33.40625 48.390625 \r\nQ 24.65625 48.390625 19.8125 42.84375 \r\nQ 14.984375 37.3125 14.984375 27.296875 \r\nQ 14.984375 17.28125 19.8125 11.734375 \r\nQ 24.65625 6.203125 33.40625 6.203125 \r\nQ 37.3125 6.203125 41.140625 7.25 \r\nQ 44.96875 8.296875 48.78125 10.40625 \r\nL 48.78125 2.09375 \r\nQ 45.015625 0.34375 40.984375 -0.53125 \r\nQ 36.96875 -1.421875 32.421875 -1.421875 \r\nQ 20.0625 -1.421875 12.78125 6.34375 \r\nQ 5.515625 14.109375 5.515625 27.296875 \r\nQ 5.515625 40.671875 12.859375 48.328125 \r\nQ 20.21875 56 33.015625 56 \r\nQ 37.15625 56 41.109375 55.140625 \r\nQ 45.0625 54.296875 48.78125 52.59375 \r\nz\r\n\" id=\"DejaVuSans-99\"/>\r\n       <path id=\"DejaVuSans-32\"/>\r\n       <path d=\"M 9.421875 75.984375 \r\nL 18.40625 75.984375 \r\nL 18.40625 0 \r\nL 9.421875 0 \r\nz\r\n\" id=\"DejaVuSans-108\"/>\r\n       <path d=\"M 48.6875 27.296875 \r\nQ 48.6875 37.203125 44.609375 42.84375 \r\nQ 40.53125 48.484375 33.40625 48.484375 \r\nQ 26.265625 48.484375 22.1875 42.84375 \r\nQ 18.109375 37.203125 18.109375 27.296875 \r\nQ 18.109375 17.390625 22.1875 11.75 \r\nQ 26.265625 6.109375 33.40625 6.109375 \r\nQ 40.53125 6.109375 44.609375 11.75 \r\nQ 48.6875 17.390625 48.6875 27.296875 \r\nz\r\nM 18.109375 46.390625 \r\nQ 20.953125 51.265625 25.265625 53.625 \r\nQ 29.59375 56 35.59375 56 \r\nQ 45.5625 56 51.78125 48.09375 \r\nQ 58.015625 40.1875 58.015625 27.296875 \r\nQ 58.015625 14.40625 51.78125 6.484375 \r\nQ 45.5625 -1.421875 35.59375 -1.421875 \r\nQ 29.59375 -1.421875 25.265625 0.953125 \r\nQ 20.953125 3.328125 18.109375 8.203125 \r\nL 18.109375 0 \r\nL 9.078125 0 \r\nL 9.078125 75.984375 \r\nL 18.109375 75.984375 \r\nz\r\n\" id=\"DejaVuSans-98\"/>\r\n      </defs>\r\n      <use xlink:href=\"#DejaVuSans-80\"/>\r\n      <use x=\"58.552734\" xlink:href=\"#DejaVuSans-114\"/>\r\n      <use x=\"97.416016\" xlink:href=\"#DejaVuSans-101\"/>\r\n      <use x=\"158.939453\" xlink:href=\"#DejaVuSans-100\"/>\r\n      <use x=\"222.416016\" xlink:href=\"#DejaVuSans-105\"/>\r\n      <use x=\"250.199219\" xlink:href=\"#DejaVuSans-99\"/>\r\n      <use x=\"305.179688\" xlink:href=\"#DejaVuSans-116\"/>\r\n      <use x=\"344.388672\" xlink:href=\"#DejaVuSans-101\"/>\r\n      <use x=\"405.912109\" xlink:href=\"#DejaVuSans-100\"/>\r\n      <use x=\"469.388672\" xlink:href=\"#DejaVuSans-32\"/>\r\n      <use x=\"501.175781\" xlink:href=\"#DejaVuSans-108\"/>\r\n      <use x=\"528.958984\" xlink:href=\"#DejaVuSans-97\"/>\r\n      <use x=\"590.238281\" xlink:href=\"#DejaVuSans-98\"/>\r\n      <use x=\"653.714844\" xlink:href=\"#DejaVuSans-101\"/>\r\n      <use x=\"715.238281\" xlink:href=\"#DejaVuSans-108\"/>\r\n     </g>\r\n    </g>\r\n   </g>\r\n   <g id=\"matplotlib.axis_2\">\r\n    <g id=\"ytick_1\">\r\n     <g id=\"line2d_7\">\r\n      <defs>\r\n       <path d=\"M 0 0 \r\nL -3.5 0 \r\n\" id=\"mc2ed4bc0ab\" style=\"stroke:#000000;stroke-width:0.8;\"/>\r\n      </defs>\r\n      <g>\r\n       <use style=\"stroke:#000000;stroke-width:0.8;\" x=\"68.135938\" xlink:href=\"#mc2ed4bc0ab\" y=\"101.58\"/>\r\n      </g>\r\n     </g>\r\n     <g id=\"text_8\">\r\n      <!-- angry -->\r\n      <g transform=\"translate(32.292188 105.379219)scale(0.1 -0.1)\">\r\n       <use xlink:href=\"#DejaVuSans-97\"/>\r\n       <use x=\"61.279297\" xlink:href=\"#DejaVuSans-110\"/>\r\n       <use x=\"124.658203\" xlink:href=\"#DejaVuSans-103\"/>\r\n       <use x=\"188.134766\" xlink:href=\"#DejaVuSans-114\"/>\r\n       <use x=\"229.248047\" xlink:href=\"#DejaVuSans-121\"/>\r\n      </g>\r\n     </g>\r\n    </g>\r\n    <g id=\"ytick_2\">\r\n     <g id=\"line2d_8\">\r\n      <g>\r\n       <use style=\"stroke:#000000;stroke-width:0.8;\" x=\"68.135938\" xlink:href=\"#mc2ed4bc0ab\" y=\"183.42\"/>\r\n      </g>\r\n     </g>\r\n     <g id=\"text_9\">\r\n      <!-- disgust -->\r\n      <g transform=\"translate(24.984375 187.219219)scale(0.1 -0.1)\">\r\n       <use xlink:href=\"#DejaVuSans-100\"/>\r\n       <use x=\"63.476562\" xlink:href=\"#DejaVuSans-105\"/>\r\n       <use x=\"91.259766\" xlink:href=\"#DejaVuSans-115\"/>\r\n       <use x=\"143.359375\" xlink:href=\"#DejaVuSans-103\"/>\r\n       <use x=\"206.835938\" xlink:href=\"#DejaVuSans-117\"/>\r\n       <use x=\"270.214844\" xlink:href=\"#DejaVuSans-115\"/>\r\n       <use x=\"322.314453\" xlink:href=\"#DejaVuSans-116\"/>\r\n      </g>\r\n     </g>\r\n    </g>\r\n    <g id=\"ytick_3\">\r\n     <g id=\"line2d_9\">\r\n      <g>\r\n       <use style=\"stroke:#000000;stroke-width:0.8;\" x=\"68.135938\" xlink:href=\"#mc2ed4bc0ab\" y=\"265.26\"/>\r\n      </g>\r\n     </g>\r\n     <g id=\"text_10\">\r\n      <!-- fear -->\r\n      <g transform=\"translate(41.223438 269.059219)scale(0.1 -0.1)\">\r\n       <use xlink:href=\"#DejaVuSans-102\"/>\r\n       <use x=\"35.205078\" xlink:href=\"#DejaVuSans-101\"/>\r\n       <use x=\"96.728516\" xlink:href=\"#DejaVuSans-97\"/>\r\n       <use x=\"158.007812\" xlink:href=\"#DejaVuSans-114\"/>\r\n      </g>\r\n     </g>\r\n    </g>\r\n    <g id=\"ytick_4\">\r\n     <g id=\"line2d_10\">\r\n      <g>\r\n       <use style=\"stroke:#000000;stroke-width:0.8;\" x=\"68.135938\" xlink:href=\"#mc2ed4bc0ab\" y=\"347.1\"/>\r\n      </g>\r\n     </g>\r\n     <g id=\"text_11\">\r\n      <!-- happy -->\r\n      <g transform=\"translate(30.054688 350.899219)scale(0.1 -0.1)\">\r\n       <use xlink:href=\"#DejaVuSans-104\"/>\r\n       <use x=\"63.378906\" xlink:href=\"#DejaVuSans-97\"/>\r\n       <use x=\"124.658203\" xlink:href=\"#DejaVuSans-112\"/>\r\n       <use x=\"188.134766\" xlink:href=\"#DejaVuSans-112\"/>\r\n       <use x=\"251.611328\" xlink:href=\"#DejaVuSans-121\"/>\r\n      </g>\r\n     </g>\r\n    </g>\r\n    <g id=\"ytick_5\">\r\n     <g id=\"line2d_11\">\r\n      <g>\r\n       <use style=\"stroke:#000000;stroke-width:0.8;\" x=\"68.135938\" xlink:href=\"#mc2ed4bc0ab\" y=\"428.94\"/>\r\n      </g>\r\n     </g>\r\n     <g id=\"text_12\">\r\n      <!-- sad -->\r\n      <g transform=\"translate(43.45 432.739219)scale(0.1 -0.1)\">\r\n       <use xlink:href=\"#DejaVuSans-115\"/>\r\n       <use x=\"52.099609\" xlink:href=\"#DejaVuSans-97\"/>\r\n       <use x=\"113.378906\" xlink:href=\"#DejaVuSans-100\"/>\r\n      </g>\r\n     </g>\r\n    </g>\r\n    <g id=\"ytick_6\">\r\n     <g id=\"line2d_12\">\r\n      <g>\r\n       <use style=\"stroke:#000000;stroke-width:0.8;\" x=\"68.135938\" xlink:href=\"#mc2ed4bc0ab\" y=\"510.78\"/>\r\n      </g>\r\n     </g>\r\n     <g id=\"text_13\">\r\n      <!-- surprise -->\r\n      <g transform=\"translate(20.878125 514.579219)scale(0.1 -0.1)\">\r\n       <use xlink:href=\"#DejaVuSans-115\"/>\r\n       <use x=\"52.099609\" xlink:href=\"#DejaVuSans-117\"/>\r\n       <use x=\"115.478516\" xlink:href=\"#DejaVuSans-114\"/>\r\n       <use x=\"156.591797\" xlink:href=\"#DejaVuSans-112\"/>\r\n       <use x=\"220.068359\" xlink:href=\"#DejaVuSans-114\"/>\r\n       <use x=\"261.181641\" xlink:href=\"#DejaVuSans-105\"/>\r\n       <use x=\"288.964844\" xlink:href=\"#DejaVuSans-115\"/>\r\n       <use x=\"341.064453\" xlink:href=\"#DejaVuSans-101\"/>\r\n      </g>\r\n     </g>\r\n    </g>\r\n    <g id=\"text_14\">\r\n     <!-- True label -->\r\n     <g transform=\"translate(14.798438 330.479219)rotate(-90)scale(0.1 -0.1)\">\r\n      <defs>\r\n       <path d=\"M -0.296875 72.90625 \r\nL 61.375 72.90625 \r\nL 61.375 64.59375 \r\nL 35.5 64.59375 \r\nL 35.5 0 \r\nL 25.59375 0 \r\nL 25.59375 64.59375 \r\nL -0.296875 64.59375 \r\nz\r\n\" id=\"DejaVuSans-84\"/>\r\n      </defs>\r\n      <use xlink:href=\"#DejaVuSans-84\"/>\r\n      <use x=\"46.333984\" xlink:href=\"#DejaVuSans-114\"/>\r\n      <use x=\"87.447266\" xlink:href=\"#DejaVuSans-117\"/>\r\n      <use x=\"150.826172\" xlink:href=\"#DejaVuSans-101\"/>\r\n      <use x=\"212.349609\" xlink:href=\"#DejaVuSans-32\"/>\r\n      <use x=\"244.136719\" xlink:href=\"#DejaVuSans-108\"/>\r\n      <use x=\"271.919922\" xlink:href=\"#DejaVuSans-97\"/>\r\n      <use x=\"333.199219\" xlink:href=\"#DejaVuSans-98\"/>\r\n      <use x=\"396.675781\" xlink:href=\"#DejaVuSans-101\"/>\r\n      <use x=\"458.199219\" xlink:href=\"#DejaVuSans-108\"/>\r\n     </g>\r\n    </g>\r\n   </g>\r\n   <g id=\"patch_3\">\r\n    <path d=\"M 68.135938 551.7 \r\nL 68.135938 60.66 \r\n\" style=\"fill:none;stroke:#000000;stroke-linecap:square;stroke-linejoin:miter;stroke-width:0.8;\"/>\r\n   </g>\r\n   <g id=\"patch_4\">\r\n    <path d=\"M 559.175938 551.7 \r\nL 559.175938 60.66 \r\n\" style=\"fill:none;stroke:#000000;stroke-linecap:square;stroke-linejoin:miter;stroke-width:0.8;\"/>\r\n   </g>\r\n   <g id=\"patch_5\">\r\n    <path d=\"M 68.135938 551.7 \r\nL 559.175938 551.7 \r\n\" style=\"fill:none;stroke:#000000;stroke-linecap:square;stroke-linejoin:miter;stroke-width:0.8;\"/>\r\n   </g>\r\n   <g id=\"patch_6\">\r\n    <path d=\"M 68.135938 60.66 \r\nL 559.175938 60.66 \r\n\" style=\"fill:none;stroke:#000000;stroke-linecap:square;stroke-linejoin:miter;stroke-width:0.8;\"/>\r\n   </g>\r\n   <g id=\"text_15\">\r\n    <!-- 77 -->\r\n    <g style=\"fill:#67001f;\" transform=\"translate(102.693438 104.339375)scale(0.1 -0.1)\">\r\n     <defs>\r\n      <path d=\"M 8.203125 72.90625 \r\nL 55.078125 72.90625 \r\nL 55.078125 68.703125 \r\nL 28.609375 0 \r\nL 18.3125 0 \r\nL 43.21875 64.59375 \r\nL 8.203125 64.59375 \r\nz\r\n\" id=\"DejaVuSans-55\"/>\r\n     </defs>\r\n     <use xlink:href=\"#DejaVuSans-55\"/>\r\n     <use x=\"63.623047\" xlink:href=\"#DejaVuSans-55\"/>\r\n    </g>\r\n   </g>\r\n   <g id=\"text_16\">\r\n    <!-- 3.1 -->\r\n    <g style=\"fill:#053061;\" transform=\"translate(182.944375 104.339375)scale(0.1 -0.1)\">\r\n     <defs>\r\n      <path d=\"M 40.578125 39.3125 \r\nQ 47.65625 37.796875 51.625 33 \r\nQ 55.609375 28.21875 55.609375 21.1875 \r\nQ 55.609375 10.40625 48.1875 4.484375 \r\nQ 40.765625 -1.421875 27.09375 -1.421875 \r\nQ 22.515625 -1.421875 17.65625 -0.515625 \r\nQ 12.796875 0.390625 7.625 2.203125 \r\nL 7.625 11.71875 \r\nQ 11.71875 9.328125 16.59375 8.109375 \r\nQ 21.484375 6.890625 26.8125 6.890625 \r\nQ 36.078125 6.890625 40.9375 10.546875 \r\nQ 45.796875 14.203125 45.796875 21.1875 \r\nQ 45.796875 27.640625 41.28125 31.265625 \r\nQ 36.765625 34.90625 28.71875 34.90625 \r\nL 20.21875 34.90625 \r\nL 20.21875 43.015625 \r\nL 29.109375 43.015625 \r\nQ 36.375 43.015625 40.234375 45.921875 \r\nQ 44.09375 48.828125 44.09375 54.296875 \r\nQ 44.09375 59.90625 40.109375 62.90625 \r\nQ 36.140625 65.921875 28.71875 65.921875 \r\nQ 24.65625 65.921875 20.015625 65.03125 \r\nQ 15.375 64.15625 9.8125 62.3125 \r\nL 9.8125 71.09375 \r\nQ 15.4375 72.65625 20.34375 73.4375 \r\nQ 25.25 74.21875 29.59375 74.21875 \r\nQ 40.828125 74.21875 47.359375 69.109375 \r\nQ 53.90625 64.015625 53.90625 55.328125 \r\nQ 53.90625 49.265625 50.4375 45.09375 \r\nQ 46.96875 40.921875 40.578125 39.3125 \r\nz\r\n\" id=\"DejaVuSans-51\"/>\r\n      <path d=\"M 10.6875 12.40625 \r\nL 21 12.40625 \r\nL 21 0 \r\nL 10.6875 0 \r\nz\r\n\" id=\"DejaVuSans-46\"/>\r\n      <path d=\"M 12.40625 8.296875 \r\nL 28.515625 8.296875 \r\nL 28.515625 63.921875 \r\nL 10.984375 60.40625 \r\nL 10.984375 69.390625 \r\nL 28.421875 72.90625 \r\nL 38.28125 72.90625 \r\nL 38.28125 8.296875 \r\nL 54.390625 8.296875 \r\nL 54.390625 0 \r\nL 12.40625 0 \r\nz\r\n\" id=\"DejaVuSans-49\"/>\r\n     </defs>\r\n     <use xlink:href=\"#DejaVuSans-51\"/>\r\n     <use x=\"63.623047\" xlink:href=\"#DejaVuSans-46\"/>\r\n     <use x=\"95.410156\" xlink:href=\"#DejaVuSans-49\"/>\r\n    </g>\r\n   </g>\r\n   <g id=\"text_17\">\r\n    <!-- 3.9 -->\r\n    <g style=\"fill:#053061;\" transform=\"translate(264.784375 104.339375)scale(0.1 -0.1)\">\r\n     <defs>\r\n      <path d=\"M 10.984375 1.515625 \r\nL 10.984375 10.5 \r\nQ 14.703125 8.734375 18.5 7.8125 \r\nQ 22.3125 6.890625 25.984375 6.890625 \r\nQ 35.75 6.890625 40.890625 13.453125 \r\nQ 46.046875 20.015625 46.78125 33.40625 \r\nQ 43.953125 29.203125 39.59375 26.953125 \r\nQ 35.25 24.703125 29.984375 24.703125 \r\nQ 19.046875 24.703125 12.671875 31.3125 \r\nQ 6.296875 37.9375 6.296875 49.421875 \r\nQ 6.296875 60.640625 12.9375 67.421875 \r\nQ 19.578125 74.21875 30.609375 74.21875 \r\nQ 43.265625 74.21875 49.921875 64.515625 \r\nQ 56.59375 54.828125 56.59375 36.375 \r\nQ 56.59375 19.140625 48.40625 8.859375 \r\nQ 40.234375 -1.421875 26.421875 -1.421875 \r\nQ 22.703125 -1.421875 18.890625 -0.6875 \r\nQ 15.09375 0.046875 10.984375 1.515625 \r\nz\r\nM 30.609375 32.421875 \r\nQ 37.25 32.421875 41.125 36.953125 \r\nQ 45.015625 41.5 45.015625 49.421875 \r\nQ 45.015625 57.28125 41.125 61.84375 \r\nQ 37.25 66.40625 30.609375 66.40625 \r\nQ 23.96875 66.40625 20.09375 61.84375 \r\nQ 16.21875 57.28125 16.21875 49.421875 \r\nQ 16.21875 41.5 20.09375 36.953125 \r\nQ 23.96875 32.421875 30.609375 32.421875 \r\nz\r\n\" id=\"DejaVuSans-57\"/>\r\n     </defs>\r\n     <use xlink:href=\"#DejaVuSans-51\"/>\r\n     <use x=\"63.623047\" xlink:href=\"#DejaVuSans-46\"/>\r\n     <use x=\"95.410156\" xlink:href=\"#DejaVuSans-57\"/>\r\n    </g>\r\n   </g>\r\n   <g id=\"text_18\">\r\n    <!-- 6.6 -->\r\n    <g style=\"fill:#053061;\" transform=\"translate(346.624375 104.339375)scale(0.1 -0.1)\">\r\n     <defs>\r\n      <path d=\"M 33.015625 40.375 \r\nQ 26.375 40.375 22.484375 35.828125 \r\nQ 18.609375 31.296875 18.609375 23.390625 \r\nQ 18.609375 15.53125 22.484375 10.953125 \r\nQ 26.375 6.390625 33.015625 6.390625 \r\nQ 39.65625 6.390625 43.53125 10.953125 \r\nQ 47.40625 15.53125 47.40625 23.390625 \r\nQ 47.40625 31.296875 43.53125 35.828125 \r\nQ 39.65625 40.375 33.015625 40.375 \r\nz\r\nM 52.59375 71.296875 \r\nL 52.59375 62.3125 \r\nQ 48.875 64.0625 45.09375 64.984375 \r\nQ 41.3125 65.921875 37.59375 65.921875 \r\nQ 27.828125 65.921875 22.671875 59.328125 \r\nQ 17.53125 52.734375 16.796875 39.40625 \r\nQ 19.671875 43.65625 24.015625 45.921875 \r\nQ 28.375 48.1875 33.59375 48.1875 \r\nQ 44.578125 48.1875 50.953125 41.515625 \r\nQ 57.328125 34.859375 57.328125 23.390625 \r\nQ 57.328125 12.15625 50.6875 5.359375 \r\nQ 44.046875 -1.421875 33.015625 -1.421875 \r\nQ 20.359375 -1.421875 13.671875 8.265625 \r\nQ 6.984375 17.96875 6.984375 36.375 \r\nQ 6.984375 53.65625 15.1875 63.9375 \r\nQ 23.390625 74.21875 37.203125 74.21875 \r\nQ 40.921875 74.21875 44.703125 73.484375 \r\nQ 48.484375 72.75 52.59375 71.296875 \r\nz\r\n\" id=\"DejaVuSans-54\"/>\r\n     </defs>\r\n     <use xlink:href=\"#DejaVuSans-54\"/>\r\n     <use x=\"63.623047\" xlink:href=\"#DejaVuSans-46\"/>\r\n     <use x=\"95.410156\" xlink:href=\"#DejaVuSans-54\"/>\r\n    </g>\r\n   </g>\r\n   <g id=\"text_19\">\r\n    <!-- 9.6 -->\r\n    <g style=\"fill:#053061;\" transform=\"translate(428.464375 104.339375)scale(0.1 -0.1)\">\r\n     <use xlink:href=\"#DejaVuSans-57\"/>\r\n     <use x=\"63.623047\" xlink:href=\"#DejaVuSans-46\"/>\r\n     <use x=\"95.410156\" xlink:href=\"#DejaVuSans-54\"/>\r\n    </g>\r\n   </g>\r\n   <g id=\"text_20\">\r\n    <!-- 0 -->\r\n    <g style=\"fill:#053061;\" transform=\"translate(515.074688 104.339375)scale(0.1 -0.1)\">\r\n     <defs>\r\n      <path d=\"M 31.78125 66.40625 \r\nQ 24.171875 66.40625 20.328125 58.90625 \r\nQ 16.5 51.421875 16.5 36.375 \r\nQ 16.5 21.390625 20.328125 13.890625 \r\nQ 24.171875 6.390625 31.78125 6.390625 \r\nQ 39.453125 6.390625 43.28125 13.890625 \r\nQ 47.125 21.390625 47.125 36.375 \r\nQ 47.125 51.421875 43.28125 58.90625 \r\nQ 39.453125 66.40625 31.78125 66.40625 \r\nz\r\nM 31.78125 74.21875 \r\nQ 44.046875 74.21875 50.515625 64.515625 \r\nQ 56.984375 54.828125 56.984375 36.375 \r\nQ 56.984375 17.96875 50.515625 8.265625 \r\nQ 44.046875 -1.421875 31.78125 -1.421875 \r\nQ 19.53125 -1.421875 13.0625 8.265625 \r\nQ 6.59375 17.96875 6.59375 36.375 \r\nQ 6.59375 54.828125 13.0625 64.515625 \r\nQ 19.53125 74.21875 31.78125 74.21875 \r\nz\r\n\" id=\"DejaVuSans-48\"/>\r\n     </defs>\r\n     <use xlink:href=\"#DejaVuSans-48\"/>\r\n    </g>\r\n   </g>\r\n   <g id=\"text_21\">\r\n    <!-- 3.6 -->\r\n    <g style=\"fill:#053061;\" transform=\"translate(101.104375 186.179375)scale(0.1 -0.1)\">\r\n     <use xlink:href=\"#DejaVuSans-51\"/>\r\n     <use x=\"63.623047\" xlink:href=\"#DejaVuSans-46\"/>\r\n     <use x=\"95.410156\" xlink:href=\"#DejaVuSans-54\"/>\r\n    </g>\r\n   </g>\r\n   <g id=\"text_22\">\r\n    <!-- 70 -->\r\n    <g style=\"fill:#67001f;\" transform=\"translate(184.533437 186.179375)scale(0.1 -0.1)\">\r\n     <use xlink:href=\"#DejaVuSans-55\"/>\r\n     <use x=\"63.623047\" xlink:href=\"#DejaVuSans-48\"/>\r\n    </g>\r\n   </g>\r\n   <g id=\"text_23\">\r\n    <!-- 3.6 -->\r\n    <g style=\"fill:#053061;\" transform=\"translate(264.784375 186.179375)scale(0.1 -0.1)\">\r\n     <use xlink:href=\"#DejaVuSans-51\"/>\r\n     <use x=\"63.623047\" xlink:href=\"#DejaVuSans-46\"/>\r\n     <use x=\"95.410156\" xlink:href=\"#DejaVuSans-54\"/>\r\n    </g>\r\n   </g>\r\n   <g id=\"text_24\">\r\n    <!-- 13 -->\r\n    <g style=\"fill:#053061;\" transform=\"translate(348.213437 186.179375)scale(0.1 -0.1)\">\r\n     <use xlink:href=\"#DejaVuSans-49\"/>\r\n     <use x=\"63.623047\" xlink:href=\"#DejaVuSans-51\"/>\r\n    </g>\r\n   </g>\r\n   <g id=\"text_25\">\r\n    <!-- 8.1 -->\r\n    <g style=\"fill:#053061;\" transform=\"translate(428.464375 186.179375)scale(0.1 -0.1)\">\r\n     <defs>\r\n      <path d=\"M 31.78125 34.625 \r\nQ 24.75 34.625 20.71875 30.859375 \r\nQ 16.703125 27.09375 16.703125 20.515625 \r\nQ 16.703125 13.921875 20.71875 10.15625 \r\nQ 24.75 6.390625 31.78125 6.390625 \r\nQ 38.8125 6.390625 42.859375 10.171875 \r\nQ 46.921875 13.96875 46.921875 20.515625 \r\nQ 46.921875 27.09375 42.890625 30.859375 \r\nQ 38.875 34.625 31.78125 34.625 \r\nz\r\nM 21.921875 38.8125 \r\nQ 15.578125 40.375 12.03125 44.71875 \r\nQ 8.5 49.078125 8.5 55.328125 \r\nQ 8.5 64.0625 14.71875 69.140625 \r\nQ 20.953125 74.21875 31.78125 74.21875 \r\nQ 42.671875 74.21875 48.875 69.140625 \r\nQ 55.078125 64.0625 55.078125 55.328125 \r\nQ 55.078125 49.078125 51.53125 44.71875 \r\nQ 48 40.375 41.703125 38.8125 \r\nQ 48.828125 37.15625 52.796875 32.3125 \r\nQ 56.78125 27.484375 56.78125 20.515625 \r\nQ 56.78125 9.90625 50.3125 4.234375 \r\nQ 43.84375 -1.421875 31.78125 -1.421875 \r\nQ 19.734375 -1.421875 13.25 4.234375 \r\nQ 6.78125 9.90625 6.78125 20.515625 \r\nQ 6.78125 27.484375 10.78125 32.3125 \r\nQ 14.796875 37.15625 21.921875 38.8125 \r\nz\r\nM 18.3125 54.390625 \r\nQ 18.3125 48.734375 21.84375 45.5625 \r\nQ 25.390625 42.390625 31.78125 42.390625 \r\nQ 38.140625 42.390625 41.71875 45.5625 \r\nQ 45.3125 48.734375 45.3125 54.390625 \r\nQ 45.3125 60.0625 41.71875 63.234375 \r\nQ 38.140625 66.40625 31.78125 66.40625 \r\nQ 25.390625 66.40625 21.84375 63.234375 \r\nQ 18.3125 60.0625 18.3125 54.390625 \r\nz\r\n\" id=\"DejaVuSans-56\"/>\r\n     </defs>\r\n     <use xlink:href=\"#DejaVuSans-56\"/>\r\n     <use x=\"63.623047\" xlink:href=\"#DejaVuSans-46\"/>\r\n     <use x=\"95.410156\" xlink:href=\"#DejaVuSans-49\"/>\r\n    </g>\r\n   </g>\r\n   <g id=\"text_26\">\r\n    <!-- 1.8 -->\r\n    <g style=\"fill:#053061;\" transform=\"translate(510.304375 186.179375)scale(0.1 -0.1)\">\r\n     <use xlink:href=\"#DejaVuSans-49\"/>\r\n     <use x=\"63.623047\" xlink:href=\"#DejaVuSans-46\"/>\r\n     <use x=\"95.410156\" xlink:href=\"#DejaVuSans-56\"/>\r\n    </g>\r\n   </g>\r\n   <g id=\"text_27\">\r\n    <!-- 4.8 -->\r\n    <g style=\"fill:#053061;\" transform=\"translate(101.104375 268.019375)scale(0.1 -0.1)\">\r\n     <defs>\r\n      <path d=\"M 37.796875 64.3125 \r\nL 12.890625 25.390625 \r\nL 37.796875 25.390625 \r\nz\r\nM 35.203125 72.90625 \r\nL 47.609375 72.90625 \r\nL 47.609375 25.390625 \r\nL 58.015625 25.390625 \r\nL 58.015625 17.1875 \r\nL 47.609375 17.1875 \r\nL 47.609375 0 \r\nL 37.796875 0 \r\nL 37.796875 17.1875 \r\nL 4.890625 17.1875 \r\nL 4.890625 26.703125 \r\nz\r\n\" id=\"DejaVuSans-52\"/>\r\n     </defs>\r\n     <use xlink:href=\"#DejaVuSans-52\"/>\r\n     <use x=\"63.623047\" xlink:href=\"#DejaVuSans-46\"/>\r\n     <use x=\"95.410156\" xlink:href=\"#DejaVuSans-56\"/>\r\n    </g>\r\n   </g>\r\n   <g id=\"text_28\">\r\n    <!-- 4.8 -->\r\n    <g style=\"fill:#053061;\" transform=\"translate(182.944375 268.019375)scale(0.1 -0.1)\">\r\n     <use xlink:href=\"#DejaVuSans-52\"/>\r\n     <use x=\"63.623047\" xlink:href=\"#DejaVuSans-46\"/>\r\n     <use x=\"95.410156\" xlink:href=\"#DejaVuSans-56\"/>\r\n    </g>\r\n   </g>\r\n   <g id=\"text_29\">\r\n    <!-- 69 -->\r\n    <g style=\"fill:#67001f;\" transform=\"translate(266.373438 268.019375)scale(0.1 -0.1)\">\r\n     <use xlink:href=\"#DejaVuSans-54\"/>\r\n     <use x=\"63.623047\" xlink:href=\"#DejaVuSans-57\"/>\r\n    </g>\r\n   </g>\r\n   <g id=\"text_30\">\r\n    <!-- 8.8 -->\r\n    <g style=\"fill:#053061;\" transform=\"translate(346.624375 268.019375)scale(0.1 -0.1)\">\r\n     <use xlink:href=\"#DejaVuSans-56\"/>\r\n     <use x=\"63.623047\" xlink:href=\"#DejaVuSans-46\"/>\r\n     <use x=\"95.410156\" xlink:href=\"#DejaVuSans-56\"/>\r\n    </g>\r\n   </g>\r\n   <g id=\"text_31\">\r\n    <!-- 9.5 -->\r\n    <g style=\"fill:#053061;\" transform=\"translate(428.464375 268.019375)scale(0.1 -0.1)\">\r\n     <defs>\r\n      <path d=\"M 10.796875 72.90625 \r\nL 49.515625 72.90625 \r\nL 49.515625 64.59375 \r\nL 19.828125 64.59375 \r\nL 19.828125 46.734375 \r\nQ 21.96875 47.46875 24.109375 47.828125 \r\nQ 26.265625 48.1875 28.421875 48.1875 \r\nQ 40.625 48.1875 47.75 41.5 \r\nQ 54.890625 34.8125 54.890625 23.390625 \r\nQ 54.890625 11.625 47.5625 5.09375 \r\nQ 40.234375 -1.421875 26.90625 -1.421875 \r\nQ 22.3125 -1.421875 17.546875 -0.640625 \r\nQ 12.796875 0.140625 7.71875 1.703125 \r\nL 7.71875 11.625 \r\nQ 12.109375 9.234375 16.796875 8.0625 \r\nQ 21.484375 6.890625 26.703125 6.890625 \r\nQ 35.15625 6.890625 40.078125 11.328125 \r\nQ 45.015625 15.765625 45.015625 23.390625 \r\nQ 45.015625 31 40.078125 35.4375 \r\nQ 35.15625 39.890625 26.703125 39.890625 \r\nQ 22.75 39.890625 18.8125 39.015625 \r\nQ 14.890625 38.140625 10.796875 36.28125 \r\nz\r\n\" id=\"DejaVuSans-53\"/>\r\n     </defs>\r\n     <use xlink:href=\"#DejaVuSans-57\"/>\r\n     <use x=\"63.623047\" xlink:href=\"#DejaVuSans-46\"/>\r\n     <use x=\"95.410156\" xlink:href=\"#DejaVuSans-53\"/>\r\n    </g>\r\n   </g>\r\n   <g id=\"text_32\">\r\n    <!-- 2.7 -->\r\n    <g style=\"fill:#053061;\" transform=\"translate(510.304375 268.019375)scale(0.1 -0.1)\">\r\n     <defs>\r\n      <path d=\"M 19.1875 8.296875 \r\nL 53.609375 8.296875 \r\nL 53.609375 0 \r\nL 7.328125 0 \r\nL 7.328125 8.296875 \r\nQ 12.9375 14.109375 22.625 23.890625 \r\nQ 32.328125 33.6875 34.8125 36.53125 \r\nQ 39.546875 41.84375 41.421875 45.53125 \r\nQ 43.3125 49.21875 43.3125 52.78125 \r\nQ 43.3125 58.59375 39.234375 62.25 \r\nQ 35.15625 65.921875 28.609375 65.921875 \r\nQ 23.96875 65.921875 18.8125 64.3125 \r\nQ 13.671875 62.703125 7.8125 59.421875 \r\nL 7.8125 69.390625 \r\nQ 13.765625 71.78125 18.9375 73 \r\nQ 24.125 74.21875 28.421875 74.21875 \r\nQ 39.75 74.21875 46.484375 68.546875 \r\nQ 53.21875 62.890625 53.21875 53.421875 \r\nQ 53.21875 48.921875 51.53125 44.890625 \r\nQ 49.859375 40.875 45.40625 35.40625 \r\nQ 44.1875 33.984375 37.640625 27.21875 \r\nQ 31.109375 20.453125 19.1875 8.296875 \r\nz\r\n\" id=\"DejaVuSans-50\"/>\r\n     </defs>\r\n     <use xlink:href=\"#DejaVuSans-50\"/>\r\n     <use x=\"63.623047\" xlink:href=\"#DejaVuSans-46\"/>\r\n     <use x=\"95.410156\" xlink:href=\"#DejaVuSans-55\"/>\r\n    </g>\r\n   </g>\r\n   <g id=\"text_33\">\r\n    <!-- 4.4 -->\r\n    <g style=\"fill:#053061;\" transform=\"translate(101.104375 349.859375)scale(0.1 -0.1)\">\r\n     <use xlink:href=\"#DejaVuSans-52\"/>\r\n     <use x=\"63.623047\" xlink:href=\"#DejaVuSans-46\"/>\r\n     <use x=\"95.410156\" xlink:href=\"#DejaVuSans-52\"/>\r\n    </g>\r\n   </g>\r\n   <g id=\"text_34\">\r\n    <!-- 2.3 -->\r\n    <g style=\"fill:#053061;\" transform=\"translate(182.944375 349.859375)scale(0.1 -0.1)\">\r\n     <use xlink:href=\"#DejaVuSans-50\"/>\r\n     <use x=\"63.623047\" xlink:href=\"#DejaVuSans-46\"/>\r\n     <use x=\"95.410156\" xlink:href=\"#DejaVuSans-51\"/>\r\n    </g>\r\n   </g>\r\n   <g id=\"text_35\">\r\n    <!-- 4.4 -->\r\n    <g style=\"fill:#053061;\" transform=\"translate(264.784375 349.859375)scale(0.1 -0.1)\">\r\n     <use xlink:href=\"#DejaVuSans-52\"/>\r\n     <use x=\"63.623047\" xlink:href=\"#DejaVuSans-46\"/>\r\n     <use x=\"95.410156\" xlink:href=\"#DejaVuSans-52\"/>\r\n    </g>\r\n   </g>\r\n   <g id=\"text_36\">\r\n    <!-- 76 -->\r\n    <g style=\"fill:#67001f;\" transform=\"translate(348.213437 349.859375)scale(0.1 -0.1)\">\r\n     <use xlink:href=\"#DejaVuSans-55\"/>\r\n     <use x=\"63.623047\" xlink:href=\"#DejaVuSans-54\"/>\r\n    </g>\r\n   </g>\r\n   <g id=\"text_37\">\r\n    <!-- 10 -->\r\n    <g style=\"fill:#053061;\" transform=\"translate(430.053438 349.859375)scale(0.1 -0.1)\">\r\n     <use xlink:href=\"#DejaVuSans-49\"/>\r\n     <use x=\"63.623047\" xlink:href=\"#DejaVuSans-48\"/>\r\n    </g>\r\n   </g>\r\n   <g id=\"text_38\">\r\n    <!-- 2.8 -->\r\n    <g style=\"fill:#053061;\" transform=\"translate(510.304375 349.859375)scale(0.1 -0.1)\">\r\n     <use xlink:href=\"#DejaVuSans-50\"/>\r\n     <use x=\"63.623047\" xlink:href=\"#DejaVuSans-46\"/>\r\n     <use x=\"95.410156\" xlink:href=\"#DejaVuSans-56\"/>\r\n    </g>\r\n   </g>\r\n   <g id=\"text_39\">\r\n    <!-- 7.2 -->\r\n    <g style=\"fill:#053061;\" transform=\"translate(101.104375 431.699375)scale(0.1 -0.1)\">\r\n     <use xlink:href=\"#DejaVuSans-55\"/>\r\n     <use x=\"63.623047\" xlink:href=\"#DejaVuSans-46\"/>\r\n     <use x=\"95.410156\" xlink:href=\"#DejaVuSans-50\"/>\r\n    </g>\r\n   </g>\r\n   <g id=\"text_40\">\r\n    <!-- 2.3 -->\r\n    <g style=\"fill:#053061;\" transform=\"translate(182.944375 431.699375)scale(0.1 -0.1)\">\r\n     <use xlink:href=\"#DejaVuSans-50\"/>\r\n     <use x=\"63.623047\" xlink:href=\"#DejaVuSans-46\"/>\r\n     <use x=\"95.410156\" xlink:href=\"#DejaVuSans-51\"/>\r\n    </g>\r\n   </g>\r\n   <g id=\"text_41\">\r\n    <!-- 3 -->\r\n    <g style=\"fill:#053061;\" transform=\"translate(269.554688 431.699375)scale(0.1 -0.1)\">\r\n     <use xlink:href=\"#DejaVuSans-51\"/>\r\n    </g>\r\n   </g>\r\n   <g id=\"text_42\">\r\n    <!-- 14 -->\r\n    <g style=\"fill:#053061;\" transform=\"translate(348.213437 431.699375)scale(0.1 -0.1)\">\r\n     <use xlink:href=\"#DejaVuSans-49\"/>\r\n     <use x=\"63.623047\" xlink:href=\"#DejaVuSans-52\"/>\r\n    </g>\r\n   </g>\r\n   <g id=\"text_43\">\r\n    <!-- 72 -->\r\n    <g style=\"fill:#67001f;\" transform=\"translate(430.053438 431.699375)scale(0.1 -0.1)\">\r\n     <use xlink:href=\"#DejaVuSans-55\"/>\r\n     <use x=\"63.623047\" xlink:href=\"#DejaVuSans-50\"/>\r\n    </g>\r\n   </g>\r\n   <g id=\"text_44\">\r\n    <!-- 1.8 -->\r\n    <g style=\"fill:#053061;\" transform=\"translate(510.304375 431.699375)scale(0.1 -0.1)\">\r\n     <use xlink:href=\"#DejaVuSans-49\"/>\r\n     <use x=\"63.623047\" xlink:href=\"#DejaVuSans-46\"/>\r\n     <use x=\"95.410156\" xlink:href=\"#DejaVuSans-56\"/>\r\n    </g>\r\n   </g>\r\n   <g id=\"text_45\">\r\n    <!-- 0 -->\r\n    <g style=\"fill:#053061;\" transform=\"translate(105.874688 513.539375)scale(0.1 -0.1)\">\r\n     <use xlink:href=\"#DejaVuSans-48\"/>\r\n    </g>\r\n   </g>\r\n   <g id=\"text_46\">\r\n    <!-- 2 -->\r\n    <g style=\"fill:#053061;\" transform=\"translate(187.714687 513.539375)scale(0.1 -0.1)\">\r\n     <use xlink:href=\"#DejaVuSans-50\"/>\r\n    </g>\r\n   </g>\r\n   <g id=\"text_47\">\r\n    <!-- 4 -->\r\n    <g style=\"fill:#053061;\" transform=\"translate(269.554688 513.539375)scale(0.1 -0.1)\">\r\n     <use xlink:href=\"#DejaVuSans-52\"/>\r\n    </g>\r\n   </g>\r\n   <g id=\"text_48\">\r\n    <!-- 6 -->\r\n    <g style=\"fill:#053061;\" transform=\"translate(351.394688 513.539375)scale(0.1 -0.1)\">\r\n     <use xlink:href=\"#DejaVuSans-54\"/>\r\n    </g>\r\n   </g>\r\n   <g id=\"text_49\">\r\n    <!-- 10 -->\r\n    <g style=\"fill:#053061;\" transform=\"translate(430.053438 513.539375)scale(0.1 -0.1)\">\r\n     <use xlink:href=\"#DejaVuSans-49\"/>\r\n     <use x=\"63.623047\" xlink:href=\"#DejaVuSans-48\"/>\r\n    </g>\r\n   </g>\r\n   <g id=\"text_50\">\r\n    <!-- 78 -->\r\n    <g style=\"fill:#67001f;\" transform=\"translate(511.893438 513.539375)scale(0.1 -0.1)\">\r\n     <use xlink:href=\"#DejaVuSans-55\"/>\r\n     <use x=\"63.623047\" xlink:href=\"#DejaVuSans-56\"/>\r\n    </g>\r\n   </g>\r\n  </g>\r\n  <g id=\"axes_2\">\r\n   <g id=\"patch_7\">\r\n    <path clip-path=\"url(#p6d34334e4b)\" d=\"M 589.865938 605.16 \r\nL 589.865938 602.824219 \r\nL 589.865938 9.535781 \r\nL 589.865938 7.2 \r\nL 619.763937 7.2 \r\nL 619.763937 9.535781 \r\nL 619.763937 602.824219 \r\nL 619.763937 605.16 \r\nz\r\n\" style=\"fill:#ffffff;stroke:#ffffff;stroke-linejoin:miter;stroke-width:0.01;\"/>\r\n   </g>\r\n   <image height=\"598\" id=\"image79187aa277\" transform=\"scale(1 -1)translate(0 -598)\" width=\"30\" x=\"590\" xlink:href=\"data:image/png;base64,\r\niVBORw0KGgoAAAANSUhEUgAAAB4AAAJWCAYAAABPpDeKAAAC60lEQVR4nO2cwXGEQBDEFtg8HJ7z/xtwFpoqJCUw1bvdzXC+8/G7ft41wDkxdK219nXMDJ5UPCN5THHmwvCZy3fHmQvDZy7fHc8d9dTkzIXhK5DMheEzl++OMxeGz1y+O+6oMYoThjJOmYuhO/7+4MyFMfhxk03x3FEfQ3kaNJdO8XHNzC5OGMUJYx9ncWIwmkuouDgxGON02hSfxQlC2dU2xcWJwmgu3dOpZY/CuOwJFRcnBmOcdE+nlj2KuhqjD8q/P9jXXMY42RTXXBj7uK6RwcXp+4P3KYxTihmEcTI+nVLMIIyT8N2pAoEQxkl31MI4nba3xeKEYVRsK5DMhWFUXJwg9nHKFoG9hIqLE4PwrzDGOMkUtwhg+MzlU1ycMHzm8ilu2cPwvUkUJwzlRxG2OOnuuObCMMbJtoEUJwyhYt37cebC2OvIXAy+o96vTrHujieP2vZTb9+bhK5Aai6MFGMI46RrLp+5fBtI5sIwFohtvS1OGCnGEMZJ2NVCxS17DEJzVSAUwji9tuba7zszeE7xMyTZGKehwZPmmhk8WSDFicForqHB3fH3B/uaaz9Dg1tvvz/Y11wVCIYwTrrm8r2Y+9bbnk4YxgJZsgLJXBgVCIYwTrrm8pnLt97OHfU99J6auTD2bVOcuTAqEAxhnHTNJXx3uockC+Oka6596+Kku+OaC8NnLl+BZC6M/egKpDhRCOMkfFu0FUjNhVGBYBjjZGuuFGMUJ4wUY/gUd9QYKcYoThhziv90inV33FFj+F7MfXfcUWMoFc98TbE4YaQYw7feZi6MFGMUJ4wUY+zXprgvoGAI/5NRcaIwxkn380FdgRQnDF9X+xT3hVAMn7l8ins6YfhWH996W5wwfF3tU9yyh+Ezl09xTycM5bInU1ycMPb73CODU/z9wb6j3u+tU2y7444aI8UYxQljcr2VKc5cGEbFtmUvc2GkGEMZJ9nvFn3m8ilur8bwrT7FCcN31CnG8MXpH0wxak794XJPAAAAAElFTkSuQmCC\" y=\"-7\"/>\r\n   <g id=\"matplotlib.axis_3\"/>\r\n   <g id=\"matplotlib.axis_4\">\r\n    <g id=\"ytick_7\">\r\n     <g id=\"line2d_13\">\r\n      <defs>\r\n       <path d=\"M 0 0 \r\nL 3.5 0 \r\n\" id=\"m0fc96443f9\" style=\"stroke:#000000;stroke-width:0.8;\"/>\r\n      </defs>\r\n      <g>\r\n       <use style=\"stroke:#000000;stroke-width:0.8;\" x=\"619.763937\" xlink:href=\"#m0fc96443f9\" y=\"605.16\"/>\r\n      </g>\r\n     </g>\r\n     <g id=\"text_51\">\r\n      <!-- 0 -->\r\n      <g transform=\"translate(626.763937 608.959219)scale(0.1 -0.1)\">\r\n       <use xlink:href=\"#DejaVuSans-48\"/>\r\n      </g>\r\n     </g>\r\n    </g>\r\n    <g id=\"ytick_8\">\r\n     <g id=\"line2d_14\">\r\n      <g>\r\n       <use style=\"stroke:#000000;stroke-width:0.8;\" x=\"619.763937\" xlink:href=\"#m0fc96443f9\" y=\"528.498462\"/>\r\n      </g>\r\n     </g>\r\n     <g id=\"text_52\">\r\n      <!-- 10 -->\r\n      <g transform=\"translate(626.763937 532.29768)scale(0.1 -0.1)\">\r\n       <use xlink:href=\"#DejaVuSans-49\"/>\r\n       <use x=\"63.623047\" xlink:href=\"#DejaVuSans-48\"/>\r\n      </g>\r\n     </g>\r\n    </g>\r\n    <g id=\"ytick_9\">\r\n     <g id=\"line2d_15\">\r\n      <g>\r\n       <use style=\"stroke:#000000;stroke-width:0.8;\" x=\"619.763937\" xlink:href=\"#m0fc96443f9\" y=\"451.836923\"/>\r\n      </g>\r\n     </g>\r\n     <g id=\"text_53\">\r\n      <!-- 20 -->\r\n      <g transform=\"translate(626.763937 455.636142)scale(0.1 -0.1)\">\r\n       <use xlink:href=\"#DejaVuSans-50\"/>\r\n       <use x=\"63.623047\" xlink:href=\"#DejaVuSans-48\"/>\r\n      </g>\r\n     </g>\r\n    </g>\r\n    <g id=\"ytick_10\">\r\n     <g id=\"line2d_16\">\r\n      <g>\r\n       <use style=\"stroke:#000000;stroke-width:0.8;\" x=\"619.763937\" xlink:href=\"#m0fc96443f9\" y=\"375.175385\"/>\r\n      </g>\r\n     </g>\r\n     <g id=\"text_54\">\r\n      <!-- 30 -->\r\n      <g transform=\"translate(626.763937 378.974603)scale(0.1 -0.1)\">\r\n       <use xlink:href=\"#DejaVuSans-51\"/>\r\n       <use x=\"63.623047\" xlink:href=\"#DejaVuSans-48\"/>\r\n      </g>\r\n     </g>\r\n    </g>\r\n    <g id=\"ytick_11\">\r\n     <g id=\"line2d_17\">\r\n      <g>\r\n       <use style=\"stroke:#000000;stroke-width:0.8;\" x=\"619.763937\" xlink:href=\"#m0fc96443f9\" y=\"298.513846\"/>\r\n      </g>\r\n     </g>\r\n     <g id=\"text_55\">\r\n      <!-- 40 -->\r\n      <g transform=\"translate(626.763937 302.313065)scale(0.1 -0.1)\">\r\n       <use xlink:href=\"#DejaVuSans-52\"/>\r\n       <use x=\"63.623047\" xlink:href=\"#DejaVuSans-48\"/>\r\n      </g>\r\n     </g>\r\n    </g>\r\n    <g id=\"ytick_12\">\r\n     <g id=\"line2d_18\">\r\n      <g>\r\n       <use style=\"stroke:#000000;stroke-width:0.8;\" x=\"619.763937\" xlink:href=\"#m0fc96443f9\" y=\"221.852308\"/>\r\n      </g>\r\n     </g>\r\n     <g id=\"text_56\">\r\n      <!-- 50 -->\r\n      <g transform=\"translate(626.763937 225.651526)scale(0.1 -0.1)\">\r\n       <use xlink:href=\"#DejaVuSans-53\"/>\r\n       <use x=\"63.623047\" xlink:href=\"#DejaVuSans-48\"/>\r\n      </g>\r\n     </g>\r\n    </g>\r\n    <g id=\"ytick_13\">\r\n     <g id=\"line2d_19\">\r\n      <g>\r\n       <use style=\"stroke:#000000;stroke-width:0.8;\" x=\"619.763937\" xlink:href=\"#m0fc96443f9\" y=\"145.190769\"/>\r\n      </g>\r\n     </g>\r\n     <g id=\"text_57\">\r\n      <!-- 60 -->\r\n      <g transform=\"translate(626.763937 148.989988)scale(0.1 -0.1)\">\r\n       <use xlink:href=\"#DejaVuSans-54\"/>\r\n       <use x=\"63.623047\" xlink:href=\"#DejaVuSans-48\"/>\r\n      </g>\r\n     </g>\r\n    </g>\r\n    <g id=\"ytick_14\">\r\n     <g id=\"line2d_20\">\r\n      <g>\r\n       <use style=\"stroke:#000000;stroke-width:0.8;\" x=\"619.763937\" xlink:href=\"#m0fc96443f9\" y=\"68.529231\"/>\r\n      </g>\r\n     </g>\r\n     <g id=\"text_58\">\r\n      <!-- 70 -->\r\n      <g transform=\"translate(626.763937 72.32845)scale(0.1 -0.1)\">\r\n       <use xlink:href=\"#DejaVuSans-55\"/>\r\n       <use x=\"63.623047\" xlink:href=\"#DejaVuSans-48\"/>\r\n      </g>\r\n     </g>\r\n    </g>\r\n   </g>\r\n   <g id=\"patch_8\">\r\n    <path d=\"M 589.865938 605.16 \r\nL 589.865938 602.824219 \r\nL 589.865938 9.535781 \r\nL 589.865938 7.2 \r\nL 619.763937 7.2 \r\nL 619.763937 9.535781 \r\nL 619.763937 602.824219 \r\nL 619.763937 605.16 \r\nz\r\n\" style=\"fill:none;stroke:#000000;stroke-linejoin:miter;stroke-width:0.8;\"/>\r\n   </g>\r\n  </g>\r\n </g>\r\n <defs>\r\n  <clipPath id=\"p176e3a3ca9\">\r\n   <rect height=\"491.04\" width=\"491.04\" x=\"68.135938\" y=\"60.66\"/>\r\n  </clipPath>\r\n  <clipPath id=\"p6d34334e4b\">\r\n   <rect height=\"597.96\" width=\"29.898\" x=\"589.865938\" y=\"7.2\"/>\r\n  </clipPath>\r\n </defs>\r\n</svg>\r\n",
      "image/png": "[encoded data removed]"
     },
     "metadata": {
      "needs_background": "light"
     }
    }
   ],
   "source": [
    "# sns.set(font_scale=1.5)\n",
    "fig, ax = plt.subplots(1,1,figsize=(11,11))\n",
    "\n",
    "cat_dict = dict( enumerate(dataset['Feeling'].cat.categories ) )\n",
    "\n",
    "y_pred_cats = [cat_dict[i] for i in y_pred.cpu().numpy().tolist()]\n",
    "y_true_cats = [cat_dict[i] for i in y_true.cpu().numpy().tolist()]\n",
    "\n",
    "matriz_de_confusao = 100*confusion_matrix(y_pred_cats, y_true_cats, normalize='true', labels=list(cat_dict.values()))\n",
    "# normalize{‘true’, ‘pred’, ‘all’}, default=None\n",
    "# Normalizes confusion matrix over the true (rows), predicted (columns) conditions or all the population. If None, confusion matrix will not be normalized.\n",
    "\n",
    "#criando list com as emoções\n",
    "emotion_class = ['Angry','Disgust','Fear','Happy','Sad','Surprise']\n",
    "\n",
    "df_matriz_de_confusao = pd.DataFrame(matriz_de_confusao, emotion_class, emotion_class)\n",
    "\n",
    "cfm = ConfusionMatrixDisplay(matriz_de_confusao)\n",
    "\n",
    "cfm.plot(ax=ax, cmap='RdBu')\n",
    "\n",
    "ax.set_xticklabels(labels=list(cat_dict.values()))\n",
    "ax.set_yticklabels(labels=list(cat_dict.values()))\n",
    "\n",
    "ax.grid(False)"
   ]
  },
  {
   "cell_type": "code",
   "execution_count": 33,
   "metadata": {},
   "outputs": [],
   "source": [
    "# matriz_de_confusao"
   ]
  },
  {
   "cell_type": "code",
   "execution_count": 34,
   "metadata": {},
   "outputs": [
    {
     "output_type": "execute_result",
     "data": {
      "text/plain": [
       "0.975789342318732"
      ]
     },
     "metadata": {},
     "execution_count": 34
    }
   ],
   "source": [
    "accs[-1]"
   ]
  },
  {
   "cell_type": "code",
   "execution_count": 35,
   "metadata": {},
   "outputs": [
    {
     "output_type": "stream",
     "name": "stdout",
     "text": [
      "74.10%\n"
     ]
    }
   ],
   "source": [
    "test_acc = calc_accuracy(Y_pred_tensor.cpu(), y_true.cpu())     # calcula a taxa de acerto atual\n",
    "print(f'{100*test_acc:.2f}%')"
   ]
  },
  {
   "source": [
    "### Gráfico de *loss* e *accuracy*"
   ],
   "cell_type": "markdown",
   "metadata": {}
  },
  {
   "cell_type": "code",
   "execution_count": 36,
   "metadata": {},
   "outputs": [
    {
     "output_type": "display_data",
     "data": {
      "text/plain": "<Figure size 1152x432 with 2 Axes>",
      "image/svg+xml": "<?xml version=\"1.0\" encoding=\"utf-8\" standalone=\"no\"?>\r\n<!DOCTYPE svg PUBLIC \"-//W3C//DTD SVG 1.1//EN\"\r\n  \"http://www.w3.org/Graphics/SVG/1.1/DTD/svg11.dtd\">\r\n<!-- Created with matplotlib (https://matplotlib.org/) -->\r\n<svg height=\"414.11625pt\" version=\"1.1\" viewBox=\"0 0 950.14375 414.11625\" width=\"950.14375pt\" xmlns=\"http://www.w3.org/2000/svg\" xmlns:xlink=\"http://www.w3.org/1999/xlink\">\r\n <metadata>\r\n  <rdf:RDF xmlns:cc=\"http://creativecommons.org/ns#\" xmlns:dc=\"http://purl.org/dc/elements/1.1/\" xmlns:rdf=\"http://www.w3.org/1999/02/22-rdf-syntax-ns#\">\r\n   <cc:Work>\r\n    <dc:type rdf:resource=\"http://purl.org/dc/dcmitype/StillImage\"/>\r\n    <dc:date>2021-04-23T09:42:34.775766</dc:date>\r\n    <dc:format>image/svg+xml</dc:format>\r\n    <dc:creator>\r\n     <cc:Agent>\r\n      <dc:title>Matplotlib v3.3.2, https://matplotlib.org/</dc:title>\r\n     </cc:Agent>\r\n    </dc:creator>\r\n   </cc:Work>\r\n  </rdf:RDF>\r\n </metadata>\r\n <defs>\r\n  <style type=\"text/css\">*{stroke-linecap:butt;stroke-linejoin:round;}</style>\r\n </defs>\r\n <g id=\"figure_1\">\r\n  <g id=\"patch_1\">\r\n   <path d=\"M 0 414.11625 \r\nL 950.14375 414.11625 \r\nL 950.14375 0 \r\nL 0 0 \r\nz\r\n\" style=\"fill:none;\"/>\r\n  </g>\r\n  <g id=\"axes_1\">\r\n   <g id=\"patch_2\">\r\n    <path d=\"M 50.14375 376.56 \r\nL 455.961932 376.56 \r\nL 455.961932 50.4 \r\nL 50.14375 50.4 \r\nz\r\n\" style=\"fill:#ffffff;\"/>\r\n   </g>\r\n   <g id=\"matplotlib.axis_1\">\r\n    <g id=\"xtick_1\">\r\n     <g id=\"line2d_1\">\r\n      <defs>\r\n       <path d=\"M 0 0 \r\nL 0 3.5 \r\n\" id=\"m6fbc7b3817\" style=\"stroke:#000000;stroke-width:0.8;\"/>\r\n      </defs>\r\n      <g>\r\n       <use style=\"stroke:#000000;stroke-width:0.8;\" x=\"68.590031\" xlink:href=\"#m6fbc7b3817\" y=\"376.56\"/>\r\n      </g>\r\n     </g>\r\n     <g id=\"text_1\">\r\n      <!-- 0 -->\r\n      <g transform=\"translate(65.408781 391.158437)scale(0.1 -0.1)\">\r\n       <defs>\r\n        <path d=\"M 31.78125 66.40625 \r\nQ 24.171875 66.40625 20.328125 58.90625 \r\nQ 16.5 51.421875 16.5 36.375 \r\nQ 16.5 21.390625 20.328125 13.890625 \r\nQ 24.171875 6.390625 31.78125 6.390625 \r\nQ 39.453125 6.390625 43.28125 13.890625 \r\nQ 47.125 21.390625 47.125 36.375 \r\nQ 47.125 51.421875 43.28125 58.90625 \r\nQ 39.453125 66.40625 31.78125 66.40625 \r\nz\r\nM 31.78125 74.21875 \r\nQ 44.046875 74.21875 50.515625 64.515625 \r\nQ 56.984375 54.828125 56.984375 36.375 \r\nQ 56.984375 17.96875 50.515625 8.265625 \r\nQ 44.046875 -1.421875 31.78125 -1.421875 \r\nQ 19.53125 -1.421875 13.0625 8.265625 \r\nQ 6.59375 17.96875 6.59375 36.375 \r\nQ 6.59375 54.828125 13.0625 64.515625 \r\nQ 19.53125 74.21875 31.78125 74.21875 \r\nz\r\n\" id=\"DejaVuSans-48\"/>\r\n       </defs>\r\n       <use xlink:href=\"#DejaVuSans-48\"/>\r\n      </g>\r\n     </g>\r\n    </g>\r\n    <g id=\"xtick_2\">\r\n     <g id=\"line2d_2\">\r\n      <g>\r\n       <use style=\"stroke:#000000;stroke-width:0.8;\" x=\"142.389915\" xlink:href=\"#m6fbc7b3817\" y=\"376.56\"/>\r\n      </g>\r\n     </g>\r\n     <g id=\"text_2\">\r\n      <!-- 1000 -->\r\n      <g transform=\"translate(129.664915 391.158437)scale(0.1 -0.1)\">\r\n       <defs>\r\n        <path d=\"M 12.40625 8.296875 \r\nL 28.515625 8.296875 \r\nL 28.515625 63.921875 \r\nL 10.984375 60.40625 \r\nL 10.984375 69.390625 \r\nL 28.421875 72.90625 \r\nL 38.28125 72.90625 \r\nL 38.28125 8.296875 \r\nL 54.390625 8.296875 \r\nL 54.390625 0 \r\nL 12.40625 0 \r\nz\r\n\" id=\"DejaVuSans-49\"/>\r\n       </defs>\r\n       <use xlink:href=\"#DejaVuSans-49\"/>\r\n       <use x=\"63.623047\" xlink:href=\"#DejaVuSans-48\"/>\r\n       <use x=\"127.246094\" xlink:href=\"#DejaVuSans-48\"/>\r\n       <use x=\"190.869141\" xlink:href=\"#DejaVuSans-48\"/>\r\n      </g>\r\n     </g>\r\n    </g>\r\n    <g id=\"xtick_3\">\r\n     <g id=\"line2d_3\">\r\n      <g>\r\n       <use style=\"stroke:#000000;stroke-width:0.8;\" x=\"216.189799\" xlink:href=\"#m6fbc7b3817\" y=\"376.56\"/>\r\n      </g>\r\n     </g>\r\n     <g id=\"text_3\">\r\n      <!-- 2000 -->\r\n      <g transform=\"translate(203.464799 391.158437)scale(0.1 -0.1)\">\r\n       <defs>\r\n        <path d=\"M 19.1875 8.296875 \r\nL 53.609375 8.296875 \r\nL 53.609375 0 \r\nL 7.328125 0 \r\nL 7.328125 8.296875 \r\nQ 12.9375 14.109375 22.625 23.890625 \r\nQ 32.328125 33.6875 34.8125 36.53125 \r\nQ 39.546875 41.84375 41.421875 45.53125 \r\nQ 43.3125 49.21875 43.3125 52.78125 \r\nQ 43.3125 58.59375 39.234375 62.25 \r\nQ 35.15625 65.921875 28.609375 65.921875 \r\nQ 23.96875 65.921875 18.8125 64.3125 \r\nQ 13.671875 62.703125 7.8125 59.421875 \r\nL 7.8125 69.390625 \r\nQ 13.765625 71.78125 18.9375 73 \r\nQ 24.125 74.21875 28.421875 74.21875 \r\nQ 39.75 74.21875 46.484375 68.546875 \r\nQ 53.21875 62.890625 53.21875 53.421875 \r\nQ 53.21875 48.921875 51.53125 44.890625 \r\nQ 49.859375 40.875 45.40625 35.40625 \r\nQ 44.1875 33.984375 37.640625 27.21875 \r\nQ 31.109375 20.453125 19.1875 8.296875 \r\nz\r\n\" id=\"DejaVuSans-50\"/>\r\n       </defs>\r\n       <use xlink:href=\"#DejaVuSans-50\"/>\r\n       <use x=\"63.623047\" xlink:href=\"#DejaVuSans-48\"/>\r\n       <use x=\"127.246094\" xlink:href=\"#DejaVuSans-48\"/>\r\n       <use x=\"190.869141\" xlink:href=\"#DejaVuSans-48\"/>\r\n      </g>\r\n     </g>\r\n    </g>\r\n    <g id=\"xtick_4\">\r\n     <g id=\"line2d_4\">\r\n      <g>\r\n       <use style=\"stroke:#000000;stroke-width:0.8;\" x=\"289.989683\" xlink:href=\"#m6fbc7b3817\" y=\"376.56\"/>\r\n      </g>\r\n     </g>\r\n     <g id=\"text_4\">\r\n      <!-- 3000 -->\r\n      <g transform=\"translate(277.264683 391.158437)scale(0.1 -0.1)\">\r\n       <defs>\r\n        <path d=\"M 40.578125 39.3125 \r\nQ 47.65625 37.796875 51.625 33 \r\nQ 55.609375 28.21875 55.609375 21.1875 \r\nQ 55.609375 10.40625 48.1875 4.484375 \r\nQ 40.765625 -1.421875 27.09375 -1.421875 \r\nQ 22.515625 -1.421875 17.65625 -0.515625 \r\nQ 12.796875 0.390625 7.625 2.203125 \r\nL 7.625 11.71875 \r\nQ 11.71875 9.328125 16.59375 8.109375 \r\nQ 21.484375 6.890625 26.8125 6.890625 \r\nQ 36.078125 6.890625 40.9375 10.546875 \r\nQ 45.796875 14.203125 45.796875 21.1875 \r\nQ 45.796875 27.640625 41.28125 31.265625 \r\nQ 36.765625 34.90625 28.71875 34.90625 \r\nL 20.21875 34.90625 \r\nL 20.21875 43.015625 \r\nL 29.109375 43.015625 \r\nQ 36.375 43.015625 40.234375 45.921875 \r\nQ 44.09375 48.828125 44.09375 54.296875 \r\nQ 44.09375 59.90625 40.109375 62.90625 \r\nQ 36.140625 65.921875 28.71875 65.921875 \r\nQ 24.65625 65.921875 20.015625 65.03125 \r\nQ 15.375 64.15625 9.8125 62.3125 \r\nL 9.8125 71.09375 \r\nQ 15.4375 72.65625 20.34375 73.4375 \r\nQ 25.25 74.21875 29.59375 74.21875 \r\nQ 40.828125 74.21875 47.359375 69.109375 \r\nQ 53.90625 64.015625 53.90625 55.328125 \r\nQ 53.90625 49.265625 50.4375 45.09375 \r\nQ 46.96875 40.921875 40.578125 39.3125 \r\nz\r\n\" id=\"DejaVuSans-51\"/>\r\n       </defs>\r\n       <use xlink:href=\"#DejaVuSans-51\"/>\r\n       <use x=\"63.623047\" xlink:href=\"#DejaVuSans-48\"/>\r\n       <use x=\"127.246094\" xlink:href=\"#DejaVuSans-48\"/>\r\n       <use x=\"190.869141\" xlink:href=\"#DejaVuSans-48\"/>\r\n      </g>\r\n     </g>\r\n    </g>\r\n    <g id=\"xtick_5\">\r\n     <g id=\"line2d_5\">\r\n      <g>\r\n       <use style=\"stroke:#000000;stroke-width:0.8;\" x=\"363.789567\" xlink:href=\"#m6fbc7b3817\" y=\"376.56\"/>\r\n      </g>\r\n     </g>\r\n     <g id=\"text_5\">\r\n      <!-- 4000 -->\r\n      <g transform=\"translate(351.064567 391.158437)scale(0.1 -0.1)\">\r\n       <defs>\r\n        <path d=\"M 37.796875 64.3125 \r\nL 12.890625 25.390625 \r\nL 37.796875 25.390625 \r\nz\r\nM 35.203125 72.90625 \r\nL 47.609375 72.90625 \r\nL 47.609375 25.390625 \r\nL 58.015625 25.390625 \r\nL 58.015625 17.1875 \r\nL 47.609375 17.1875 \r\nL 47.609375 0 \r\nL 37.796875 0 \r\nL 37.796875 17.1875 \r\nL 4.890625 17.1875 \r\nL 4.890625 26.703125 \r\nz\r\n\" id=\"DejaVuSans-52\"/>\r\n       </defs>\r\n       <use xlink:href=\"#DejaVuSans-52\"/>\r\n       <use x=\"63.623047\" xlink:href=\"#DejaVuSans-48\"/>\r\n       <use x=\"127.246094\" xlink:href=\"#DejaVuSans-48\"/>\r\n       <use x=\"190.869141\" xlink:href=\"#DejaVuSans-48\"/>\r\n      </g>\r\n     </g>\r\n    </g>\r\n    <g id=\"xtick_6\">\r\n     <g id=\"line2d_6\">\r\n      <g>\r\n       <use style=\"stroke:#000000;stroke-width:0.8;\" x=\"437.589451\" xlink:href=\"#m6fbc7b3817\" y=\"376.56\"/>\r\n      </g>\r\n     </g>\r\n     <g id=\"text_6\">\r\n      <!-- 5000 -->\r\n      <g transform=\"translate(424.864451 391.158437)scale(0.1 -0.1)\">\r\n       <defs>\r\n        <path d=\"M 10.796875 72.90625 \r\nL 49.515625 72.90625 \r\nL 49.515625 64.59375 \r\nL 19.828125 64.59375 \r\nL 19.828125 46.734375 \r\nQ 21.96875 47.46875 24.109375 47.828125 \r\nQ 26.265625 48.1875 28.421875 48.1875 \r\nQ 40.625 48.1875 47.75 41.5 \r\nQ 54.890625 34.8125 54.890625 23.390625 \r\nQ 54.890625 11.625 47.5625 5.09375 \r\nQ 40.234375 -1.421875 26.90625 -1.421875 \r\nQ 22.3125 -1.421875 17.546875 -0.640625 \r\nQ 12.796875 0.140625 7.71875 1.703125 \r\nL 7.71875 11.625 \r\nQ 12.109375 9.234375 16.796875 8.0625 \r\nQ 21.484375 6.890625 26.703125 6.890625 \r\nQ 35.15625 6.890625 40.078125 11.328125 \r\nQ 45.015625 15.765625 45.015625 23.390625 \r\nQ 45.015625 31 40.078125 35.4375 \r\nQ 35.15625 39.890625 26.703125 39.890625 \r\nQ 22.75 39.890625 18.8125 39.015625 \r\nQ 14.890625 38.140625 10.796875 36.28125 \r\nz\r\n\" id=\"DejaVuSans-53\"/>\r\n       </defs>\r\n       <use xlink:href=\"#DejaVuSans-53\"/>\r\n       <use x=\"63.623047\" xlink:href=\"#DejaVuSans-48\"/>\r\n       <use x=\"127.246094\" xlink:href=\"#DejaVuSans-48\"/>\r\n       <use x=\"190.869141\" xlink:href=\"#DejaVuSans-48\"/>\r\n      </g>\r\n     </g>\r\n    </g>\r\n    <g id=\"text_7\">\r\n     <!-- epochs -->\r\n     <g transform=\"translate(235.220028 404.836562)scale(0.1 -0.1)\">\r\n      <defs>\r\n       <path d=\"M 56.203125 29.59375 \r\nL 56.203125 25.203125 \r\nL 14.890625 25.203125 \r\nQ 15.484375 15.921875 20.484375 11.0625 \r\nQ 25.484375 6.203125 34.421875 6.203125 \r\nQ 39.59375 6.203125 44.453125 7.46875 \r\nQ 49.3125 8.734375 54.109375 11.28125 \r\nL 54.109375 2.78125 \r\nQ 49.265625 0.734375 44.1875 -0.34375 \r\nQ 39.109375 -1.421875 33.890625 -1.421875 \r\nQ 20.796875 -1.421875 13.15625 6.1875 \r\nQ 5.515625 13.8125 5.515625 26.8125 \r\nQ 5.515625 40.234375 12.765625 48.109375 \r\nQ 20.015625 56 32.328125 56 \r\nQ 43.359375 56 49.78125 48.890625 \r\nQ 56.203125 41.796875 56.203125 29.59375 \r\nz\r\nM 47.21875 32.234375 \r\nQ 47.125 39.59375 43.09375 43.984375 \r\nQ 39.0625 48.390625 32.421875 48.390625 \r\nQ 24.90625 48.390625 20.390625 44.140625 \r\nQ 15.875 39.890625 15.1875 32.171875 \r\nz\r\n\" id=\"DejaVuSans-101\"/>\r\n       <path d=\"M 18.109375 8.203125 \r\nL 18.109375 -20.796875 \r\nL 9.078125 -20.796875 \r\nL 9.078125 54.6875 \r\nL 18.109375 54.6875 \r\nL 18.109375 46.390625 \r\nQ 20.953125 51.265625 25.265625 53.625 \r\nQ 29.59375 56 35.59375 56 \r\nQ 45.5625 56 51.78125 48.09375 \r\nQ 58.015625 40.1875 58.015625 27.296875 \r\nQ 58.015625 14.40625 51.78125 6.484375 \r\nQ 45.5625 -1.421875 35.59375 -1.421875 \r\nQ 29.59375 -1.421875 25.265625 0.953125 \r\nQ 20.953125 3.328125 18.109375 8.203125 \r\nz\r\nM 48.6875 27.296875 \r\nQ 48.6875 37.203125 44.609375 42.84375 \r\nQ 40.53125 48.484375 33.40625 48.484375 \r\nQ 26.265625 48.484375 22.1875 42.84375 \r\nQ 18.109375 37.203125 18.109375 27.296875 \r\nQ 18.109375 17.390625 22.1875 11.75 \r\nQ 26.265625 6.109375 33.40625 6.109375 \r\nQ 40.53125 6.109375 44.609375 11.75 \r\nQ 48.6875 17.390625 48.6875 27.296875 \r\nz\r\n\" id=\"DejaVuSans-112\"/>\r\n       <path d=\"M 30.609375 48.390625 \r\nQ 23.390625 48.390625 19.1875 42.75 \r\nQ 14.984375 37.109375 14.984375 27.296875 \r\nQ 14.984375 17.484375 19.15625 11.84375 \r\nQ 23.34375 6.203125 30.609375 6.203125 \r\nQ 37.796875 6.203125 41.984375 11.859375 \r\nQ 46.1875 17.53125 46.1875 27.296875 \r\nQ 46.1875 37.015625 41.984375 42.703125 \r\nQ 37.796875 48.390625 30.609375 48.390625 \r\nz\r\nM 30.609375 56 \r\nQ 42.328125 56 49.015625 48.375 \r\nQ 55.71875 40.765625 55.71875 27.296875 \r\nQ 55.71875 13.875 49.015625 6.21875 \r\nQ 42.328125 -1.421875 30.609375 -1.421875 \r\nQ 18.84375 -1.421875 12.171875 6.21875 \r\nQ 5.515625 13.875 5.515625 27.296875 \r\nQ 5.515625 40.765625 12.171875 48.375 \r\nQ 18.84375 56 30.609375 56 \r\nz\r\n\" id=\"DejaVuSans-111\"/>\r\n       <path d=\"M 48.78125 52.59375 \r\nL 48.78125 44.1875 \r\nQ 44.96875 46.296875 41.140625 47.34375 \r\nQ 37.3125 48.390625 33.40625 48.390625 \r\nQ 24.65625 48.390625 19.8125 42.84375 \r\nQ 14.984375 37.3125 14.984375 27.296875 \r\nQ 14.984375 17.28125 19.8125 11.734375 \r\nQ 24.65625 6.203125 33.40625 6.203125 \r\nQ 37.3125 6.203125 41.140625 7.25 \r\nQ 44.96875 8.296875 48.78125 10.40625 \r\nL 48.78125 2.09375 \r\nQ 45.015625 0.34375 40.984375 -0.53125 \r\nQ 36.96875 -1.421875 32.421875 -1.421875 \r\nQ 20.0625 -1.421875 12.78125 6.34375 \r\nQ 5.515625 14.109375 5.515625 27.296875 \r\nQ 5.515625 40.671875 12.859375 48.328125 \r\nQ 20.21875 56 33.015625 56 \r\nQ 37.15625 56 41.109375 55.140625 \r\nQ 45.0625 54.296875 48.78125 52.59375 \r\nz\r\n\" id=\"DejaVuSans-99\"/>\r\n       <path d=\"M 54.890625 33.015625 \r\nL 54.890625 0 \r\nL 45.90625 0 \r\nL 45.90625 32.71875 \r\nQ 45.90625 40.484375 42.875 44.328125 \r\nQ 39.84375 48.1875 33.796875 48.1875 \r\nQ 26.515625 48.1875 22.3125 43.546875 \r\nQ 18.109375 38.921875 18.109375 30.90625 \r\nL 18.109375 0 \r\nL 9.078125 0 \r\nL 9.078125 75.984375 \r\nL 18.109375 75.984375 \r\nL 18.109375 46.1875 \r\nQ 21.34375 51.125 25.703125 53.5625 \r\nQ 30.078125 56 35.796875 56 \r\nQ 45.21875 56 50.046875 50.171875 \r\nQ 54.890625 44.34375 54.890625 33.015625 \r\nz\r\n\" id=\"DejaVuSans-104\"/>\r\n       <path d=\"M 44.28125 53.078125 \r\nL 44.28125 44.578125 \r\nQ 40.484375 46.53125 36.375 47.5 \r\nQ 32.28125 48.484375 27.875 48.484375 \r\nQ 21.1875 48.484375 17.84375 46.4375 \r\nQ 14.5 44.390625 14.5 40.28125 \r\nQ 14.5 37.15625 16.890625 35.375 \r\nQ 19.28125 33.59375 26.515625 31.984375 \r\nL 29.59375 31.296875 \r\nQ 39.15625 29.25 43.1875 25.515625 \r\nQ 47.21875 21.78125 47.21875 15.09375 \r\nQ 47.21875 7.46875 41.1875 3.015625 \r\nQ 35.15625 -1.421875 24.609375 -1.421875 \r\nQ 20.21875 -1.421875 15.453125 -0.5625 \r\nQ 10.6875 0.296875 5.421875 2 \r\nL 5.421875 11.28125 \r\nQ 10.40625 8.6875 15.234375 7.390625 \r\nQ 20.0625 6.109375 24.8125 6.109375 \r\nQ 31.15625 6.109375 34.5625 8.28125 \r\nQ 37.984375 10.453125 37.984375 14.40625 \r\nQ 37.984375 18.0625 35.515625 20.015625 \r\nQ 33.0625 21.96875 24.703125 23.78125 \r\nL 21.578125 24.515625 \r\nQ 13.234375 26.265625 9.515625 29.90625 \r\nQ 5.8125 33.546875 5.8125 39.890625 \r\nQ 5.8125 47.609375 11.28125 51.796875 \r\nQ 16.75 56 26.8125 56 \r\nQ 31.78125 56 36.171875 55.265625 \r\nQ 40.578125 54.546875 44.28125 53.078125 \r\nz\r\n\" id=\"DejaVuSans-115\"/>\r\n      </defs>\r\n      <use xlink:href=\"#DejaVuSans-101\"/>\r\n      <use x=\"61.523438\" xlink:href=\"#DejaVuSans-112\"/>\r\n      <use x=\"125\" xlink:href=\"#DejaVuSans-111\"/>\r\n      <use x=\"186.181641\" xlink:href=\"#DejaVuSans-99\"/>\r\n      <use x=\"241.162109\" xlink:href=\"#DejaVuSans-104\"/>\r\n      <use x=\"304.541016\" xlink:href=\"#DejaVuSans-115\"/>\r\n     </g>\r\n    </g>\r\n   </g>\r\n   <g id=\"matplotlib.axis_2\">\r\n    <g id=\"ytick_1\">\r\n     <g id=\"line2d_7\">\r\n      <defs>\r\n       <path d=\"M 0 0 \r\nL -3.5 0 \r\n\" id=\"m00a76d7354\" style=\"stroke:#000000;stroke-width:0.8;\"/>\r\n      </defs>\r\n      <g>\r\n       <use style=\"stroke:#000000;stroke-width:0.8;\" x=\"50.14375\" xlink:href=\"#m00a76d7354\" y=\"375.085037\"/>\r\n      </g>\r\n     </g>\r\n     <g id=\"text_8\">\r\n      <!-- 0.00 -->\r\n      <g transform=\"translate(20.878125 378.884255)scale(0.1 -0.1)\">\r\n       <defs>\r\n        <path d=\"M 10.6875 12.40625 \r\nL 21 12.40625 \r\nL 21 0 \r\nL 10.6875 0 \r\nz\r\n\" id=\"DejaVuSans-46\"/>\r\n       </defs>\r\n       <use xlink:href=\"#DejaVuSans-48\"/>\r\n       <use x=\"63.623047\" xlink:href=\"#DejaVuSans-46\"/>\r\n       <use x=\"95.410156\" xlink:href=\"#DejaVuSans-48\"/>\r\n       <use x=\"159.033203\" xlink:href=\"#DejaVuSans-48\"/>\r\n      </g>\r\n     </g>\r\n    </g>\r\n    <g id=\"ytick_2\">\r\n     <g id=\"line2d_8\">\r\n      <g>\r\n       <use style=\"stroke:#000000;stroke-width:0.8;\" x=\"50.14375\" xlink:href=\"#m00a76d7354\" y=\"331.457084\"/>\r\n      </g>\r\n     </g>\r\n     <g id=\"text_9\">\r\n      <!-- 0.25 -->\r\n      <g transform=\"translate(20.878125 335.256303)scale(0.1 -0.1)\">\r\n       <use xlink:href=\"#DejaVuSans-48\"/>\r\n       <use x=\"63.623047\" xlink:href=\"#DejaVuSans-46\"/>\r\n       <use x=\"95.410156\" xlink:href=\"#DejaVuSans-50\"/>\r\n       <use x=\"159.033203\" xlink:href=\"#DejaVuSans-53\"/>\r\n      </g>\r\n     </g>\r\n    </g>\r\n    <g id=\"ytick_3\">\r\n     <g id=\"line2d_9\">\r\n      <g>\r\n       <use style=\"stroke:#000000;stroke-width:0.8;\" x=\"50.14375\" xlink:href=\"#m00a76d7354\" y=\"287.829132\"/>\r\n      </g>\r\n     </g>\r\n     <g id=\"text_10\">\r\n      <!-- 0.50 -->\r\n      <g transform=\"translate(20.878125 291.628351)scale(0.1 -0.1)\">\r\n       <use xlink:href=\"#DejaVuSans-48\"/>\r\n       <use x=\"63.623047\" xlink:href=\"#DejaVuSans-46\"/>\r\n       <use x=\"95.410156\" xlink:href=\"#DejaVuSans-53\"/>\r\n       <use x=\"159.033203\" xlink:href=\"#DejaVuSans-48\"/>\r\n      </g>\r\n     </g>\r\n    </g>\r\n    <g id=\"ytick_4\">\r\n     <g id=\"line2d_10\">\r\n      <g>\r\n       <use style=\"stroke:#000000;stroke-width:0.8;\" x=\"50.14375\" xlink:href=\"#m00a76d7354\" y=\"244.20118\"/>\r\n      </g>\r\n     </g>\r\n     <g id=\"text_11\">\r\n      <!-- 0.75 -->\r\n      <g transform=\"translate(20.878125 248.000399)scale(0.1 -0.1)\">\r\n       <defs>\r\n        <path d=\"M 8.203125 72.90625 \r\nL 55.078125 72.90625 \r\nL 55.078125 68.703125 \r\nL 28.609375 0 \r\nL 18.3125 0 \r\nL 43.21875 64.59375 \r\nL 8.203125 64.59375 \r\nz\r\n\" id=\"DejaVuSans-55\"/>\r\n       </defs>\r\n       <use xlink:href=\"#DejaVuSans-48\"/>\r\n       <use x=\"63.623047\" xlink:href=\"#DejaVuSans-46\"/>\r\n       <use x=\"95.410156\" xlink:href=\"#DejaVuSans-55\"/>\r\n       <use x=\"159.033203\" xlink:href=\"#DejaVuSans-53\"/>\r\n      </g>\r\n     </g>\r\n    </g>\r\n    <g id=\"ytick_5\">\r\n     <g id=\"line2d_11\">\r\n      <g>\r\n       <use style=\"stroke:#000000;stroke-width:0.8;\" x=\"50.14375\" xlink:href=\"#m00a76d7354\" y=\"200.573228\"/>\r\n      </g>\r\n     </g>\r\n     <g id=\"text_12\">\r\n      <!-- 1.00 -->\r\n      <g transform=\"translate(20.878125 204.372446)scale(0.1 -0.1)\">\r\n       <use xlink:href=\"#DejaVuSans-49\"/>\r\n       <use x=\"63.623047\" xlink:href=\"#DejaVuSans-46\"/>\r\n       <use x=\"95.410156\" xlink:href=\"#DejaVuSans-48\"/>\r\n       <use x=\"159.033203\" xlink:href=\"#DejaVuSans-48\"/>\r\n      </g>\r\n     </g>\r\n    </g>\r\n    <g id=\"ytick_6\">\r\n     <g id=\"line2d_12\">\r\n      <g>\r\n       <use style=\"stroke:#000000;stroke-width:0.8;\" x=\"50.14375\" xlink:href=\"#m00a76d7354\" y=\"156.945276\"/>\r\n      </g>\r\n     </g>\r\n     <g id=\"text_13\">\r\n      <!-- 1.25 -->\r\n      <g transform=\"translate(20.878125 160.744494)scale(0.1 -0.1)\">\r\n       <use xlink:href=\"#DejaVuSans-49\"/>\r\n       <use x=\"63.623047\" xlink:href=\"#DejaVuSans-46\"/>\r\n       <use x=\"95.410156\" xlink:href=\"#DejaVuSans-50\"/>\r\n       <use x=\"159.033203\" xlink:href=\"#DejaVuSans-53\"/>\r\n      </g>\r\n     </g>\r\n    </g>\r\n    <g id=\"ytick_7\">\r\n     <g id=\"line2d_13\">\r\n      <g>\r\n       <use style=\"stroke:#000000;stroke-width:0.8;\" x=\"50.14375\" xlink:href=\"#m00a76d7354\" y=\"113.317323\"/>\r\n      </g>\r\n     </g>\r\n     <g id=\"text_14\">\r\n      <!-- 1.50 -->\r\n      <g transform=\"translate(20.878125 117.116542)scale(0.1 -0.1)\">\r\n       <use xlink:href=\"#DejaVuSans-49\"/>\r\n       <use x=\"63.623047\" xlink:href=\"#DejaVuSans-46\"/>\r\n       <use x=\"95.410156\" xlink:href=\"#DejaVuSans-53\"/>\r\n       <use x=\"159.033203\" xlink:href=\"#DejaVuSans-48\"/>\r\n      </g>\r\n     </g>\r\n    </g>\r\n    <g id=\"ytick_8\">\r\n     <g id=\"line2d_14\">\r\n      <g>\r\n       <use style=\"stroke:#000000;stroke-width:0.8;\" x=\"50.14375\" xlink:href=\"#m00a76d7354\" y=\"69.689371\"/>\r\n      </g>\r\n     </g>\r\n     <g id=\"text_15\">\r\n      <!-- 1.75 -->\r\n      <g transform=\"translate(20.878125 73.48859)scale(0.1 -0.1)\">\r\n       <use xlink:href=\"#DejaVuSans-49\"/>\r\n       <use x=\"63.623047\" xlink:href=\"#DejaVuSans-46\"/>\r\n       <use x=\"95.410156\" xlink:href=\"#DejaVuSans-55\"/>\r\n       <use x=\"159.033203\" xlink:href=\"#DejaVuSans-53\"/>\r\n      </g>\r\n     </g>\r\n    </g>\r\n    <g id=\"text_16\">\r\n     <!-- BCE loss -->\r\n     <g transform=\"translate(14.798438 234.720625)rotate(-90)scale(0.1 -0.1)\">\r\n      <defs>\r\n       <path d=\"M 19.671875 34.8125 \r\nL 19.671875 8.109375 \r\nL 35.5 8.109375 \r\nQ 43.453125 8.109375 47.28125 11.40625 \r\nQ 51.125 14.703125 51.125 21.484375 \r\nQ 51.125 28.328125 47.28125 31.5625 \r\nQ 43.453125 34.8125 35.5 34.8125 \r\nz\r\nM 19.671875 64.796875 \r\nL 19.671875 42.828125 \r\nL 34.28125 42.828125 \r\nQ 41.5 42.828125 45.03125 45.53125 \r\nQ 48.578125 48.25 48.578125 53.8125 \r\nQ 48.578125 59.328125 45.03125 62.0625 \r\nQ 41.5 64.796875 34.28125 64.796875 \r\nz\r\nM 9.8125 72.90625 \r\nL 35.015625 72.90625 \r\nQ 46.296875 72.90625 52.390625 68.21875 \r\nQ 58.5 63.53125 58.5 54.890625 \r\nQ 58.5 48.1875 55.375 44.234375 \r\nQ 52.25 40.28125 46.1875 39.3125 \r\nQ 53.46875 37.75 57.5 32.78125 \r\nQ 61.53125 27.828125 61.53125 20.40625 \r\nQ 61.53125 10.640625 54.890625 5.3125 \r\nQ 48.25 0 35.984375 0 \r\nL 9.8125 0 \r\nz\r\n\" id=\"DejaVuSans-66\"/>\r\n       <path d=\"M 64.40625 67.28125 \r\nL 64.40625 56.890625 \r\nQ 59.421875 61.53125 53.78125 63.8125 \r\nQ 48.140625 66.109375 41.796875 66.109375 \r\nQ 29.296875 66.109375 22.65625 58.46875 \r\nQ 16.015625 50.828125 16.015625 36.375 \r\nQ 16.015625 21.96875 22.65625 14.328125 \r\nQ 29.296875 6.6875 41.796875 6.6875 \r\nQ 48.140625 6.6875 53.78125 8.984375 \r\nQ 59.421875 11.28125 64.40625 15.921875 \r\nL 64.40625 5.609375 \r\nQ 59.234375 2.09375 53.4375 0.328125 \r\nQ 47.65625 -1.421875 41.21875 -1.421875 \r\nQ 24.65625 -1.421875 15.125 8.703125 \r\nQ 5.609375 18.84375 5.609375 36.375 \r\nQ 5.609375 53.953125 15.125 64.078125 \r\nQ 24.65625 74.21875 41.21875 74.21875 \r\nQ 47.75 74.21875 53.53125 72.484375 \r\nQ 59.328125 70.75 64.40625 67.28125 \r\nz\r\n\" id=\"DejaVuSans-67\"/>\r\n       <path d=\"M 9.8125 72.90625 \r\nL 55.90625 72.90625 \r\nL 55.90625 64.59375 \r\nL 19.671875 64.59375 \r\nL 19.671875 43.015625 \r\nL 54.390625 43.015625 \r\nL 54.390625 34.71875 \r\nL 19.671875 34.71875 \r\nL 19.671875 8.296875 \r\nL 56.78125 8.296875 \r\nL 56.78125 0 \r\nL 9.8125 0 \r\nz\r\n\" id=\"DejaVuSans-69\"/>\r\n       <path id=\"DejaVuSans-32\"/>\r\n       <path d=\"M 9.421875 75.984375 \r\nL 18.40625 75.984375 \r\nL 18.40625 0 \r\nL 9.421875 0 \r\nz\r\n\" id=\"DejaVuSans-108\"/>\r\n      </defs>\r\n      <use xlink:href=\"#DejaVuSans-66\"/>\r\n      <use x=\"66.853516\" xlink:href=\"#DejaVuSans-67\"/>\r\n      <use x=\"136.677734\" xlink:href=\"#DejaVuSans-69\"/>\r\n      <use x=\"199.861328\" xlink:href=\"#DejaVuSans-32\"/>\r\n      <use x=\"231.648438\" xlink:href=\"#DejaVuSans-108\"/>\r\n      <use x=\"259.431641\" xlink:href=\"#DejaVuSans-111\"/>\r\n      <use x=\"320.613281\" xlink:href=\"#DejaVuSans-115\"/>\r\n      <use x=\"372.712891\" xlink:href=\"#DejaVuSans-115\"/>\r\n     </g>\r\n    </g>\r\n   </g>\r\n   <g id=\"line2d_15\">\r\n    <path clip-path=\"url(#p3d984e7af3)\" d=\"M 68.590031 65.225455 \r\nL 69.549429 93.016443 \r\nL 70.139829 105.447137 \r\nL 70.582628 110.569502 \r\nL 70.951627 112.539733 \r\nL 72.280025 117.607739 \r\nL 73.387023 122.221461 \r\nL 74.494022 128.239123 \r\nL 75.89622 137.367502 \r\nL 78.257816 152.73774 \r\nL 79.586214 159.851868 \r\nL 80.914612 165.78821 \r\nL 82.464409 171.672023 \r\nL 84.235606 177.512377 \r\nL 86.154403 183.106815 \r\nL 88.147 188.267376 \r\nL 90.065797 192.627275 \r\nL 92.058394 196.606804 \r\nL 94.050991 200.099222 \r\nL 96.117388 203.251867 \r\nL 98.405184 206.317731 \r\nL 100.91438 209.295981 \r\nL 103.571176 212.073779 \r\nL 106.965971 215.329505 \r\nL 111.098764 219.063971 \r\nL 128.220337 234.290479 \r\nL 139.733119 244.896836 \r\nL 162.168284 265.692453 \r\nL 169.326873 272.043428 \r\nL 178.035259 279.519109 \r\nL 187.260244 287.108054 \r\nL 195.156832 293.323895 \r\nL 203.939018 299.82649 \r\nL 211.909406 305.374141 \r\nL 220.765392 311.09822 \r\nL 229.399978 316.199907 \r\nL 232.647173 317.999731 \r\nL 242.093558 322.919248 \r\nL 254.491939 328.678875 \r\nL 265.266722 333.072705 \r\nL 273.384709 336.041679 \r\nL 277.369903 337.395036 \r\nL 284.233292 339.593292 \r\nL 295.081875 342.72599 \r\nL 307.480255 345.862806 \r\nL 315.745842 347.714571 \r\nL 327.111024 349.993972 \r\nL 334.564813 351.326236 \r\nL 343.346999 352.751914 \r\nL 356.188179 354.589646 \r\nL 374.121551 356.749221 \r\nL 394.342719 358.718458 \r\nL 409.840694 359.961959 \r\nL 429.840463 361.292841 \r\nL 437.515651 361.734545 \r\nL 437.515651 361.734545 \r\n\" style=\"fill:none;stroke:#1f77b4;stroke-linecap:square;stroke-width:1.5;\"/>\r\n   </g>\r\n   <g id=\"patch_3\">\r\n    <path d=\"M 50.14375 376.56 \r\nL 50.14375 50.4 \r\n\" style=\"fill:none;stroke:#000000;stroke-linecap:square;stroke-linejoin:miter;stroke-width:0.8;\"/>\r\n   </g>\r\n   <g id=\"patch_4\">\r\n    <path d=\"M 455.961932 376.56 \r\nL 455.961932 50.4 \r\n\" style=\"fill:none;stroke:#000000;stroke-linecap:square;stroke-linejoin:miter;stroke-width:0.8;\"/>\r\n   </g>\r\n   <g id=\"patch_5\">\r\n    <path d=\"M 50.14375 376.56 \r\nL 455.961932 376.56 \r\n\" style=\"fill:none;stroke:#000000;stroke-linecap:square;stroke-linejoin:miter;stroke-width:0.8;\"/>\r\n   </g>\r\n   <g id=\"patch_6\">\r\n    <path d=\"M 50.14375 50.4 \r\nL 455.961932 50.4 \r\n\" style=\"fill:none;stroke:#000000;stroke-linecap:square;stroke-linejoin:miter;stroke-width:0.8;\"/>\r\n   </g>\r\n   <g id=\"legend_1\">\r\n    <g id=\"patch_7\">\r\n     <path d=\"M 393.686932 73.078125 \r\nL 448.961932 73.078125 \r\nQ 450.961932 73.078125 450.961932 71.078125 \r\nL 450.961932 57.4 \r\nQ 450.961932 55.4 448.961932 55.4 \r\nL 393.686932 55.4 \r\nQ 391.686932 55.4 391.686932 57.4 \r\nL 391.686932 71.078125 \r\nQ 391.686932 73.078125 393.686932 73.078125 \r\nz\r\n\" style=\"fill:#ffffff;opacity:0.8;stroke:#cccccc;stroke-linejoin:miter;\"/>\r\n    </g>\r\n    <g id=\"line2d_16\">\r\n     <path d=\"M 395.686932 63.498437 \r\nL 415.686932 63.498437 \r\n\" style=\"fill:none;stroke:#1f77b4;stroke-linecap:square;stroke-width:1.5;\"/>\r\n    </g>\r\n    <g id=\"line2d_17\"/>\r\n    <g id=\"text_17\">\r\n     <!-- train -->\r\n     <g transform=\"translate(423.686932 66.998437)scale(0.1 -0.1)\">\r\n      <defs>\r\n       <path d=\"M 18.3125 70.21875 \r\nL 18.3125 54.6875 \r\nL 36.8125 54.6875 \r\nL 36.8125 47.703125 \r\nL 18.3125 47.703125 \r\nL 18.3125 18.015625 \r\nQ 18.3125 11.328125 20.140625 9.421875 \r\nQ 21.96875 7.515625 27.59375 7.515625 \r\nL 36.8125 7.515625 \r\nL 36.8125 0 \r\nL 27.59375 0 \r\nQ 17.1875 0 13.234375 3.875 \r\nQ 9.28125 7.765625 9.28125 18.015625 \r\nL 9.28125 47.703125 \r\nL 2.6875 47.703125 \r\nL 2.6875 54.6875 \r\nL 9.28125 54.6875 \r\nL 9.28125 70.21875 \r\nz\r\n\" id=\"DejaVuSans-116\"/>\r\n       <path d=\"M 41.109375 46.296875 \r\nQ 39.59375 47.171875 37.8125 47.578125 \r\nQ 36.03125 48 33.890625 48 \r\nQ 26.265625 48 22.1875 43.046875 \r\nQ 18.109375 38.09375 18.109375 28.8125 \r\nL 18.109375 0 \r\nL 9.078125 0 \r\nL 9.078125 54.6875 \r\nL 18.109375 54.6875 \r\nL 18.109375 46.1875 \r\nQ 20.953125 51.171875 25.484375 53.578125 \r\nQ 30.03125 56 36.53125 56 \r\nQ 37.453125 56 38.578125 55.875 \r\nQ 39.703125 55.765625 41.0625 55.515625 \r\nz\r\n\" id=\"DejaVuSans-114\"/>\r\n       <path d=\"M 34.28125 27.484375 \r\nQ 23.390625 27.484375 19.1875 25 \r\nQ 14.984375 22.515625 14.984375 16.5 \r\nQ 14.984375 11.71875 18.140625 8.90625 \r\nQ 21.296875 6.109375 26.703125 6.109375 \r\nQ 34.1875 6.109375 38.703125 11.40625 \r\nQ 43.21875 16.703125 43.21875 25.484375 \r\nL 43.21875 27.484375 \r\nz\r\nM 52.203125 31.203125 \r\nL 52.203125 0 \r\nL 43.21875 0 \r\nL 43.21875 8.296875 \r\nQ 40.140625 3.328125 35.546875 0.953125 \r\nQ 30.953125 -1.421875 24.3125 -1.421875 \r\nQ 15.921875 -1.421875 10.953125 3.296875 \r\nQ 6 8.015625 6 15.921875 \r\nQ 6 25.140625 12.171875 29.828125 \r\nQ 18.359375 34.515625 30.609375 34.515625 \r\nL 43.21875 34.515625 \r\nL 43.21875 35.40625 \r\nQ 43.21875 41.609375 39.140625 45 \r\nQ 35.0625 48.390625 27.6875 48.390625 \r\nQ 23 48.390625 18.546875 47.265625 \r\nQ 14.109375 46.140625 10.015625 43.890625 \r\nL 10.015625 52.203125 \r\nQ 14.9375 54.109375 19.578125 55.046875 \r\nQ 24.21875 56 28.609375 56 \r\nQ 40.484375 56 46.34375 49.84375 \r\nQ 52.203125 43.703125 52.203125 31.203125 \r\nz\r\n\" id=\"DejaVuSans-97\"/>\r\n       <path d=\"M 9.421875 54.6875 \r\nL 18.40625 54.6875 \r\nL 18.40625 0 \r\nL 9.421875 0 \r\nz\r\nM 9.421875 75.984375 \r\nL 18.40625 75.984375 \r\nL 18.40625 64.59375 \r\nL 9.421875 64.59375 \r\nz\r\n\" id=\"DejaVuSans-105\"/>\r\n       <path d=\"M 54.890625 33.015625 \r\nL 54.890625 0 \r\nL 45.90625 0 \r\nL 45.90625 32.71875 \r\nQ 45.90625 40.484375 42.875 44.328125 \r\nQ 39.84375 48.1875 33.796875 48.1875 \r\nQ 26.515625 48.1875 22.3125 43.546875 \r\nQ 18.109375 38.921875 18.109375 30.90625 \r\nL 18.109375 0 \r\nL 9.078125 0 \r\nL 9.078125 54.6875 \r\nL 18.109375 54.6875 \r\nL 18.109375 46.1875 \r\nQ 21.34375 51.125 25.703125 53.5625 \r\nQ 30.078125 56 35.796875 56 \r\nQ 45.21875 56 50.046875 50.171875 \r\nQ 54.890625 44.34375 54.890625 33.015625 \r\nz\r\n\" id=\"DejaVuSans-110\"/>\r\n      </defs>\r\n      <use xlink:href=\"#DejaVuSans-116\"/>\r\n      <use x=\"39.208984\" xlink:href=\"#DejaVuSans-114\"/>\r\n      <use x=\"80.322266\" xlink:href=\"#DejaVuSans-97\"/>\r\n      <use x=\"141.601562\" xlink:href=\"#DejaVuSans-105\"/>\r\n      <use x=\"169.384766\" xlink:href=\"#DejaVuSans-110\"/>\r\n     </g>\r\n    </g>\r\n   </g>\r\n  </g>\r\n  <g id=\"axes_2\">\r\n   <g id=\"patch_8\">\r\n    <path d=\"M 537.125568 376.56 \r\nL 942.94375 376.56 \r\nL 942.94375 50.4 \r\nL 537.125568 50.4 \r\nz\r\n\" style=\"fill:#ffffff;\"/>\r\n   </g>\r\n   <g id=\"matplotlib.axis_3\">\r\n    <g id=\"xtick_7\">\r\n     <g id=\"line2d_18\">\r\n      <g>\r\n       <use style=\"stroke:#000000;stroke-width:0.8;\" x=\"555.571849\" xlink:href=\"#m6fbc7b3817\" y=\"376.56\"/>\r\n      </g>\r\n     </g>\r\n     <g id=\"text_18\">\r\n      <!-- 0 -->\r\n      <g transform=\"translate(552.390599 391.158437)scale(0.1 -0.1)\">\r\n       <use xlink:href=\"#DejaVuSans-48\"/>\r\n      </g>\r\n     </g>\r\n    </g>\r\n    <g id=\"xtick_8\">\r\n     <g id=\"line2d_19\">\r\n      <g>\r\n       <use style=\"stroke:#000000;stroke-width:0.8;\" x=\"629.371733\" xlink:href=\"#m6fbc7b3817\" y=\"376.56\"/>\r\n      </g>\r\n     </g>\r\n     <g id=\"text_19\">\r\n      <!-- 1000 -->\r\n      <g transform=\"translate(616.646733 391.158437)scale(0.1 -0.1)\">\r\n       <use xlink:href=\"#DejaVuSans-49\"/>\r\n       <use x=\"63.623047\" xlink:href=\"#DejaVuSans-48\"/>\r\n       <use x=\"127.246094\" xlink:href=\"#DejaVuSans-48\"/>\r\n       <use x=\"190.869141\" xlink:href=\"#DejaVuSans-48\"/>\r\n      </g>\r\n     </g>\r\n    </g>\r\n    <g id=\"xtick_9\">\r\n     <g id=\"line2d_20\">\r\n      <g>\r\n       <use style=\"stroke:#000000;stroke-width:0.8;\" x=\"703.171617\" xlink:href=\"#m6fbc7b3817\" y=\"376.56\"/>\r\n      </g>\r\n     </g>\r\n     <g id=\"text_20\">\r\n      <!-- 2000 -->\r\n      <g transform=\"translate(690.446617 391.158437)scale(0.1 -0.1)\">\r\n       <use xlink:href=\"#DejaVuSans-50\"/>\r\n       <use x=\"63.623047\" xlink:href=\"#DejaVuSans-48\"/>\r\n       <use x=\"127.246094\" xlink:href=\"#DejaVuSans-48\"/>\r\n       <use x=\"190.869141\" xlink:href=\"#DejaVuSans-48\"/>\r\n      </g>\r\n     </g>\r\n    </g>\r\n    <g id=\"xtick_10\">\r\n     <g id=\"line2d_21\">\r\n      <g>\r\n       <use style=\"stroke:#000000;stroke-width:0.8;\" x=\"776.971501\" xlink:href=\"#m6fbc7b3817\" y=\"376.56\"/>\r\n      </g>\r\n     </g>\r\n     <g id=\"text_21\">\r\n      <!-- 3000 -->\r\n      <g transform=\"translate(764.246501 391.158437)scale(0.1 -0.1)\">\r\n       <use xlink:href=\"#DejaVuSans-51\"/>\r\n       <use x=\"63.623047\" xlink:href=\"#DejaVuSans-48\"/>\r\n       <use x=\"127.246094\" xlink:href=\"#DejaVuSans-48\"/>\r\n       <use x=\"190.869141\" xlink:href=\"#DejaVuSans-48\"/>\r\n      </g>\r\n     </g>\r\n    </g>\r\n    <g id=\"xtick_11\">\r\n     <g id=\"line2d_22\">\r\n      <g>\r\n       <use style=\"stroke:#000000;stroke-width:0.8;\" x=\"850.771385\" xlink:href=\"#m6fbc7b3817\" y=\"376.56\"/>\r\n      </g>\r\n     </g>\r\n     <g id=\"text_22\">\r\n      <!-- 4000 -->\r\n      <g transform=\"translate(838.046385 391.158437)scale(0.1 -0.1)\">\r\n       <use xlink:href=\"#DejaVuSans-52\"/>\r\n       <use x=\"63.623047\" xlink:href=\"#DejaVuSans-48\"/>\r\n       <use x=\"127.246094\" xlink:href=\"#DejaVuSans-48\"/>\r\n       <use x=\"190.869141\" xlink:href=\"#DejaVuSans-48\"/>\r\n      </g>\r\n     </g>\r\n    </g>\r\n    <g id=\"xtick_12\">\r\n     <g id=\"line2d_23\">\r\n      <g>\r\n       <use style=\"stroke:#000000;stroke-width:0.8;\" x=\"924.571269\" xlink:href=\"#m6fbc7b3817\" y=\"376.56\"/>\r\n      </g>\r\n     </g>\r\n     <g id=\"text_23\">\r\n      <!-- 5000 -->\r\n      <g transform=\"translate(911.846269 391.158437)scale(0.1 -0.1)\">\r\n       <use xlink:href=\"#DejaVuSans-53\"/>\r\n       <use x=\"63.623047\" xlink:href=\"#DejaVuSans-48\"/>\r\n       <use x=\"127.246094\" xlink:href=\"#DejaVuSans-48\"/>\r\n       <use x=\"190.869141\" xlink:href=\"#DejaVuSans-48\"/>\r\n      </g>\r\n     </g>\r\n    </g>\r\n    <g id=\"text_24\">\r\n     <!-- epochs -->\r\n     <g transform=\"translate(722.201847 404.836562)scale(0.1 -0.1)\">\r\n      <use xlink:href=\"#DejaVuSans-101\"/>\r\n      <use x=\"61.523438\" xlink:href=\"#DejaVuSans-112\"/>\r\n      <use x=\"125\" xlink:href=\"#DejaVuSans-111\"/>\r\n      <use x=\"186.181641\" xlink:href=\"#DejaVuSans-99\"/>\r\n      <use x=\"241.162109\" xlink:href=\"#DejaVuSans-104\"/>\r\n      <use x=\"304.541016\" xlink:href=\"#DejaVuSans-115\"/>\r\n     </g>\r\n    </g>\r\n   </g>\r\n   <g id=\"matplotlib.axis_4\">\r\n    <g id=\"ytick_9\">\r\n     <g id=\"line2d_24\">\r\n      <g>\r\n       <use style=\"stroke:#000000;stroke-width:0.8;\" x=\"537.125568\" xlink:href=\"#m00a76d7354\" y=\"357.602809\"/>\r\n      </g>\r\n     </g>\r\n     <g id=\"text_25\">\r\n      <!-- 0.4 -->\r\n      <g transform=\"translate(514.222443 361.402028)scale(0.1 -0.1)\">\r\n       <use xlink:href=\"#DejaVuSans-48\"/>\r\n       <use x=\"63.623047\" xlink:href=\"#DejaVuSans-46\"/>\r\n       <use x=\"95.410156\" xlink:href=\"#DejaVuSans-52\"/>\r\n      </g>\r\n     </g>\r\n    </g>\r\n    <g id=\"ytick_10\">\r\n     <g id=\"line2d_25\">\r\n      <g>\r\n       <use style=\"stroke:#000000;stroke-width:0.8;\" x=\"537.125568\" xlink:href=\"#m00a76d7354\" y=\"306.824281\"/>\r\n      </g>\r\n     </g>\r\n     <g id=\"text_26\">\r\n      <!-- 0.5 -->\r\n      <g transform=\"translate(514.222443 310.6235)scale(0.1 -0.1)\">\r\n       <use xlink:href=\"#DejaVuSans-48\"/>\r\n       <use x=\"63.623047\" xlink:href=\"#DejaVuSans-46\"/>\r\n       <use x=\"95.410156\" xlink:href=\"#DejaVuSans-53\"/>\r\n      </g>\r\n     </g>\r\n    </g>\r\n    <g id=\"ytick_11\">\r\n     <g id=\"line2d_26\">\r\n      <g>\r\n       <use style=\"stroke:#000000;stroke-width:0.8;\" x=\"537.125568\" xlink:href=\"#m00a76d7354\" y=\"256.045753\"/>\r\n      </g>\r\n     </g>\r\n     <g id=\"text_27\">\r\n      <!-- 0.6 -->\r\n      <g transform=\"translate(514.222443 259.844971)scale(0.1 -0.1)\">\r\n       <defs>\r\n        <path d=\"M 33.015625 40.375 \r\nQ 26.375 40.375 22.484375 35.828125 \r\nQ 18.609375 31.296875 18.609375 23.390625 \r\nQ 18.609375 15.53125 22.484375 10.953125 \r\nQ 26.375 6.390625 33.015625 6.390625 \r\nQ 39.65625 6.390625 43.53125 10.953125 \r\nQ 47.40625 15.53125 47.40625 23.390625 \r\nQ 47.40625 31.296875 43.53125 35.828125 \r\nQ 39.65625 40.375 33.015625 40.375 \r\nz\r\nM 52.59375 71.296875 \r\nL 52.59375 62.3125 \r\nQ 48.875 64.0625 45.09375 64.984375 \r\nQ 41.3125 65.921875 37.59375 65.921875 \r\nQ 27.828125 65.921875 22.671875 59.328125 \r\nQ 17.53125 52.734375 16.796875 39.40625 \r\nQ 19.671875 43.65625 24.015625 45.921875 \r\nQ 28.375 48.1875 33.59375 48.1875 \r\nQ 44.578125 48.1875 50.953125 41.515625 \r\nQ 57.328125 34.859375 57.328125 23.390625 \r\nQ 57.328125 12.15625 50.6875 5.359375 \r\nQ 44.046875 -1.421875 33.015625 -1.421875 \r\nQ 20.359375 -1.421875 13.671875 8.265625 \r\nQ 6.984375 17.96875 6.984375 36.375 \r\nQ 6.984375 53.65625 15.1875 63.9375 \r\nQ 23.390625 74.21875 37.203125 74.21875 \r\nQ 40.921875 74.21875 44.703125 73.484375 \r\nQ 48.484375 72.75 52.59375 71.296875 \r\nz\r\n\" id=\"DejaVuSans-54\"/>\r\n       </defs>\r\n       <use xlink:href=\"#DejaVuSans-48\"/>\r\n       <use x=\"63.623047\" xlink:href=\"#DejaVuSans-46\"/>\r\n       <use x=\"95.410156\" xlink:href=\"#DejaVuSans-54\"/>\r\n      </g>\r\n     </g>\r\n    </g>\r\n    <g id=\"ytick_12\">\r\n     <g id=\"line2d_27\">\r\n      <g>\r\n       <use style=\"stroke:#000000;stroke-width:0.8;\" x=\"537.125568\" xlink:href=\"#m00a76d7354\" y=\"205.267224\"/>\r\n      </g>\r\n     </g>\r\n     <g id=\"text_28\">\r\n      <!-- 0.7 -->\r\n      <g transform=\"translate(514.222443 209.066443)scale(0.1 -0.1)\">\r\n       <use xlink:href=\"#DejaVuSans-48\"/>\r\n       <use x=\"63.623047\" xlink:href=\"#DejaVuSans-46\"/>\r\n       <use x=\"95.410156\" xlink:href=\"#DejaVuSans-55\"/>\r\n      </g>\r\n     </g>\r\n    </g>\r\n    <g id=\"ytick_13\">\r\n     <g id=\"line2d_28\">\r\n      <g>\r\n       <use style=\"stroke:#000000;stroke-width:0.8;\" x=\"537.125568\" xlink:href=\"#m00a76d7354\" y=\"154.488696\"/>\r\n      </g>\r\n     </g>\r\n     <g id=\"text_29\">\r\n      <!-- 0.8 -->\r\n      <g transform=\"translate(514.222443 158.287914)scale(0.1 -0.1)\">\r\n       <defs>\r\n        <path d=\"M 31.78125 34.625 \r\nQ 24.75 34.625 20.71875 30.859375 \r\nQ 16.703125 27.09375 16.703125 20.515625 \r\nQ 16.703125 13.921875 20.71875 10.15625 \r\nQ 24.75 6.390625 31.78125 6.390625 \r\nQ 38.8125 6.390625 42.859375 10.171875 \r\nQ 46.921875 13.96875 46.921875 20.515625 \r\nQ 46.921875 27.09375 42.890625 30.859375 \r\nQ 38.875 34.625 31.78125 34.625 \r\nz\r\nM 21.921875 38.8125 \r\nQ 15.578125 40.375 12.03125 44.71875 \r\nQ 8.5 49.078125 8.5 55.328125 \r\nQ 8.5 64.0625 14.71875 69.140625 \r\nQ 20.953125 74.21875 31.78125 74.21875 \r\nQ 42.671875 74.21875 48.875 69.140625 \r\nQ 55.078125 64.0625 55.078125 55.328125 \r\nQ 55.078125 49.078125 51.53125 44.71875 \r\nQ 48 40.375 41.703125 38.8125 \r\nQ 48.828125 37.15625 52.796875 32.3125 \r\nQ 56.78125 27.484375 56.78125 20.515625 \r\nQ 56.78125 9.90625 50.3125 4.234375 \r\nQ 43.84375 -1.421875 31.78125 -1.421875 \r\nQ 19.734375 -1.421875 13.25 4.234375 \r\nQ 6.78125 9.90625 6.78125 20.515625 \r\nQ 6.78125 27.484375 10.78125 32.3125 \r\nQ 14.796875 37.15625 21.921875 38.8125 \r\nz\r\nM 18.3125 54.390625 \r\nQ 18.3125 48.734375 21.84375 45.5625 \r\nQ 25.390625 42.390625 31.78125 42.390625 \r\nQ 38.140625 42.390625 41.71875 45.5625 \r\nQ 45.3125 48.734375 45.3125 54.390625 \r\nQ 45.3125 60.0625 41.71875 63.234375 \r\nQ 38.140625 66.40625 31.78125 66.40625 \r\nQ 25.390625 66.40625 21.84375 63.234375 \r\nQ 18.3125 60.0625 18.3125 54.390625 \r\nz\r\n\" id=\"DejaVuSans-56\"/>\r\n       </defs>\r\n       <use xlink:href=\"#DejaVuSans-48\"/>\r\n       <use x=\"63.623047\" xlink:href=\"#DejaVuSans-46\"/>\r\n       <use x=\"95.410156\" xlink:href=\"#DejaVuSans-56\"/>\r\n      </g>\r\n     </g>\r\n    </g>\r\n    <g id=\"ytick_14\">\r\n     <g id=\"line2d_29\">\r\n      <g>\r\n       <use style=\"stroke:#000000;stroke-width:0.8;\" x=\"537.125568\" xlink:href=\"#m00a76d7354\" y=\"103.710167\"/>\r\n      </g>\r\n     </g>\r\n     <g id=\"text_30\">\r\n      <!-- 0.9 -->\r\n      <g transform=\"translate(514.222443 107.509386)scale(0.1 -0.1)\">\r\n       <defs>\r\n        <path d=\"M 10.984375 1.515625 \r\nL 10.984375 10.5 \r\nQ 14.703125 8.734375 18.5 7.8125 \r\nQ 22.3125 6.890625 25.984375 6.890625 \r\nQ 35.75 6.890625 40.890625 13.453125 \r\nQ 46.046875 20.015625 46.78125 33.40625 \r\nQ 43.953125 29.203125 39.59375 26.953125 \r\nQ 35.25 24.703125 29.984375 24.703125 \r\nQ 19.046875 24.703125 12.671875 31.3125 \r\nQ 6.296875 37.9375 6.296875 49.421875 \r\nQ 6.296875 60.640625 12.9375 67.421875 \r\nQ 19.578125 74.21875 30.609375 74.21875 \r\nQ 43.265625 74.21875 49.921875 64.515625 \r\nQ 56.59375 54.828125 56.59375 36.375 \r\nQ 56.59375 19.140625 48.40625 8.859375 \r\nQ 40.234375 -1.421875 26.421875 -1.421875 \r\nQ 22.703125 -1.421875 18.890625 -0.6875 \r\nQ 15.09375 0.046875 10.984375 1.515625 \r\nz\r\nM 30.609375 32.421875 \r\nQ 37.25 32.421875 41.125 36.953125 \r\nQ 45.015625 41.5 45.015625 49.421875 \r\nQ 45.015625 57.28125 41.125 61.84375 \r\nQ 37.25 66.40625 30.609375 66.40625 \r\nQ 23.96875 66.40625 20.09375 61.84375 \r\nQ 16.21875 57.28125 16.21875 49.421875 \r\nQ 16.21875 41.5 20.09375 36.953125 \r\nQ 23.96875 32.421875 30.609375 32.421875 \r\nz\r\n\" id=\"DejaVuSans-57\"/>\r\n       </defs>\r\n       <use xlink:href=\"#DejaVuSans-48\"/>\r\n       <use x=\"63.623047\" xlink:href=\"#DejaVuSans-46\"/>\r\n       <use x=\"95.410156\" xlink:href=\"#DejaVuSans-57\"/>\r\n      </g>\r\n     </g>\r\n    </g>\r\n    <g id=\"ytick_15\">\r\n     <g id=\"line2d_30\">\r\n      <g>\r\n       <use style=\"stroke:#000000;stroke-width:0.8;\" x=\"537.125568\" xlink:href=\"#m00a76d7354\" y=\"52.931639\"/>\r\n      </g>\r\n     </g>\r\n     <g id=\"text_31\">\r\n      <!-- 1.0 -->\r\n      <g transform=\"translate(514.222443 56.730858)scale(0.1 -0.1)\">\r\n       <use xlink:href=\"#DejaVuSans-49\"/>\r\n       <use x=\"63.623047\" xlink:href=\"#DejaVuSans-46\"/>\r\n       <use x=\"95.410156\" xlink:href=\"#DejaVuSans-48\"/>\r\n      </g>\r\n     </g>\r\n    </g>\r\n    <g id=\"text_32\">\r\n     <!-- Accuracy -->\r\n     <g transform=\"translate(508.142756 236.308125)rotate(-90)scale(0.1 -0.1)\">\r\n      <defs>\r\n       <path d=\"M 34.1875 63.1875 \r\nL 20.796875 26.90625 \r\nL 47.609375 26.90625 \r\nz\r\nM 28.609375 72.90625 \r\nL 39.796875 72.90625 \r\nL 67.578125 0 \r\nL 57.328125 0 \r\nL 50.6875 18.703125 \r\nL 17.828125 18.703125 \r\nL 11.1875 0 \r\nL 0.78125 0 \r\nz\r\n\" id=\"DejaVuSans-65\"/>\r\n       <path d=\"M 8.5 21.578125 \r\nL 8.5 54.6875 \r\nL 17.484375 54.6875 \r\nL 17.484375 21.921875 \r\nQ 17.484375 14.15625 20.5 10.265625 \r\nQ 23.53125 6.390625 29.59375 6.390625 \r\nQ 36.859375 6.390625 41.078125 11.03125 \r\nQ 45.3125 15.671875 45.3125 23.6875 \r\nL 45.3125 54.6875 \r\nL 54.296875 54.6875 \r\nL 54.296875 0 \r\nL 45.3125 0 \r\nL 45.3125 8.40625 \r\nQ 42.046875 3.421875 37.71875 1 \r\nQ 33.40625 -1.421875 27.6875 -1.421875 \r\nQ 18.265625 -1.421875 13.375 4.4375 \r\nQ 8.5 10.296875 8.5 21.578125 \r\nz\r\nM 31.109375 56 \r\nz\r\n\" id=\"DejaVuSans-117\"/>\r\n       <path d=\"M 32.171875 -5.078125 \r\nQ 28.375 -14.84375 24.75 -17.8125 \r\nQ 21.140625 -20.796875 15.09375 -20.796875 \r\nL 7.90625 -20.796875 \r\nL 7.90625 -13.28125 \r\nL 13.1875 -13.28125 \r\nQ 16.890625 -13.28125 18.9375 -11.515625 \r\nQ 21 -9.765625 23.484375 -3.21875 \r\nL 25.09375 0.875 \r\nL 2.984375 54.6875 \r\nL 12.5 54.6875 \r\nL 29.59375 11.921875 \r\nL 46.6875 54.6875 \r\nL 56.203125 54.6875 \r\nz\r\n\" id=\"DejaVuSans-121\"/>\r\n      </defs>\r\n      <use xlink:href=\"#DejaVuSans-65\"/>\r\n      <use x=\"66.658203\" xlink:href=\"#DejaVuSans-99\"/>\r\n      <use x=\"121.638672\" xlink:href=\"#DejaVuSans-99\"/>\r\n      <use x=\"176.619141\" xlink:href=\"#DejaVuSans-117\"/>\r\n      <use x=\"239.998047\" xlink:href=\"#DejaVuSans-114\"/>\r\n      <use x=\"281.111328\" xlink:href=\"#DejaVuSans-97\"/>\r\n      <use x=\"342.390625\" xlink:href=\"#DejaVuSans-99\"/>\r\n      <use x=\"397.371094\" xlink:href=\"#DejaVuSans-121\"/>\r\n     </g>\r\n    </g>\r\n   </g>\r\n   <g id=\"line2d_31\">\r\n    <path clip-path=\"url(#p8ef4f52973)\" d=\"M 555.571849 361.544435 \r\nL 555.719449 361.227584 \r\nL 555.940849 361.607805 \r\nL 559.188043 361.671175 \r\nL 559.261843 361.734545 \r\nL 559.557043 359.516589 \r\nL 559.704643 358.439296 \r\nL 560.073642 355.777748 \r\nL 560.442642 348.807028 \r\nL 560.737841 337.146914 \r\nL 561.32824 316.234753 \r\nL 561.771039 309.137293 \r\nL 562.140039 306.032154 \r\nL 562.730438 300.582318 \r\nL 562.804238 300.709058 \r\nL 563.247037 297.667289 \r\nL 563.320837 297.8574 \r\nL 563.394637 297.98414 \r\nL 563.763636 296.653366 \r\nL 563.911236 296.970217 \r\nL 563.985036 296.843477 \r\nL 564.058836 296.780107 \r\nL 564.206436 295.892924 \r\nL 564.501635 295.132482 \r\nL 564.870635 292.851155 \r\nL 564.944434 292.914526 \r\nL 565.018234 292.344194 \r\nL 565.239634 289.365795 \r\nL 565.534834 287.908281 \r\nL 565.608633 288.098392 \r\nL 566.199032 285.246733 \r\nL 566.420432 283.535738 \r\nL 566.494232 283.535738 \r\nL 567.45363 280.81082 \r\nL 567.52743 280.874191 \r\nL 567.74883 279.796898 \r\nL 567.89643 279.987008 \r\nL 568.117829 279.289936 \r\nL 568.191629 279.289936 \r\nL 568.413029 278.466124 \r\nL 568.486829 278.466124 \r\nL 568.634429 277.32546 \r\nL 569.003428 276.058057 \r\nL 569.151028 275.867946 \r\nL 569.520027 274.093581 \r\nL 569.593827 274.093581 \r\nL 569.889027 272.762807 \r\nL 570.036626 272.572697 \r\nL 570.405626 271.368663 \r\nL 570.553226 269.277447 \r\nL 570.848425 268.136784 \r\nL 570.922225 268.263524 \r\nL 571.069825 267.946673 \r\nL 571.217425 264.841534 \r\nL 571.660224 263.067169 \r\nL 571.734024 262.940429 \r\nL 571.881624 261.926506 \r\nL 572.029223 261.673025 \r\nL 572.324423 260.0254 \r\nL 572.472023 259.89866 \r\nL 572.693422 258.251035 \r\nL 572.841022 257.934184 \r\nL 573.062422 257.173742 \r\nL 573.283821 256.66678 \r\nL 573.87422 254.385454 \r\nL 573.94802 254.322084 \r\nL 574.16942 253.371531 \r\nL 574.39082 252.547718 \r\nL 574.464619 252.801199 \r\nL 574.538419 252.674459 \r\nL 574.833619 251.977387 \r\nL 574.907419 252.040757 \r\nL 575.276418 250.329762 \r\nL 575.571618 249.56932 \r\nL 575.645418 249.50595 \r\nL 575.719217 249.63269 \r\nL 575.793017 249.56932 \r\nL 576.014417 248.808878 \r\nL 576.162017 248.238546 \r\nL 576.235817 248.238546 \r\nL 576.457216 247.097883 \r\nL 577.269015 244.816556 \r\nL 577.416615 244.372965 \r\nL 577.638014 244.056114 \r\nL 577.711814 244.182854 \r\nL 578.007014 243.105561 \r\nL 578.080814 243.232301 \r\nL 578.302213 242.091638 \r\nL 578.449813 242.155008 \r\nL 578.966412 240.887605 \r\nL 579.114012 240.190533 \r\nL 579.556811 239.493461 \r\nL 579.630611 239.556831 \r\nL 579.704411 239.36672 \r\nL 579.778211 239.493461 \r\nL 580.147211 238.986499 \r\nL 580.29481 238.416167 \r\nL 580.36861 238.416167 \r\nL 580.66381 237.845836 \r\nL 580.73761 238.035946 \r\nL 580.959009 237.022023 \r\nL 581.032809 237.022023 \r\nL 581.106609 237.148764 \r\nL 581.328009 236.515062 \r\nL 581.549408 236.578432 \r\nL 581.623208 236.578432 \r\nL 581.844608 236.071471 \r\nL 581.918408 236.324951 \r\nL 581.992208 236.261581 \r\nL 582.287407 235.627879 \r\nL 582.435007 235.184288 \r\nL 583.099206 234.487216 \r\nL 583.173006 234.360476 \r\nL 583.246806 234.423846 \r\nL 583.320606 234.550586 \r\nL 583.394405 234.487216 \r\nL 583.468205 234.423846 \r\nL 583.542005 234.043625 \r\nL 583.615805 234.106995 \r\nL 583.689605 234.170365 \r\nL 583.763405 234.423846 \r\nL 583.837205 234.233735 \r\nL 584.058604 232.58611 \r\nL 584.353804 232.33263 \r\nL 584.575204 231.635558 \r\nL 584.649003 231.698928 \r\nL 584.722803 231.762298 \r\nL 584.870403 231.445447 \r\nL 585.018003 231.001856 \r\nL 585.165603 230.748375 \r\nL 585.387002 230.431524 \r\nL 585.460802 230.621635 \r\nL 585.903601 229.480971 \r\nL 586.494001 228.530419 \r\nL 586.5678 228.657159 \r\nL 586.7892 227.960087 \r\nL 586.863 228.023457 \r\nL 587.379599 226.946164 \r\nL 587.674799 226.629313 \r\nL 588.781797 225.67876 \r\nL 588.855597 225.805501 \r\nL 588.929397 225.742131 \r\nL 589.372196 225.171799 \r\nL 589.519796 225.298539 \r\nL 589.888795 224.601467 \r\nL 589.962595 224.664837 \r\nL 590.110195 224.601467 \r\nL 590.257795 224.411357 \r\nL 590.700594 224.411357 \r\nL 590.848194 224.031136 \r\nL 590.995793 223.650915 \r\nL 591.290993 223.397434 \r\nL 591.438593 222.890472 \r\nL 591.586193 222.890472 \r\nL 591.955192 222.06666 \r\nL 592.028992 222.1934 \r\nL 592.102792 222.13003 \r\nL 592.250391 220.609146 \r\nL 592.471791 220.165554 \r\nL 592.619391 220.292295 \r\nL 592.693191 220.292295 \r\nL 593.35739 218.834781 \r\nL 594.021589 217.884228 \r\nL 594.390588 217.567377 \r\nL 594.538188 217.694117 \r\nL 594.611988 217.694117 \r\nL 594.907187 217.313896 \r\nL 595.054787 217.504007 \r\nL 595.349987 217.187156 \r\nL 595.497586 216.553454 \r\nL 595.940386 216.236603 \r\nL 596.161785 216.426714 \r\nL 596.530785 215.983122 \r\nL 597.416383 215.15931 \r\nL 597.490183 214.905829 \r\nL 597.563983 214.969199 \r\nL 597.637783 214.969199 \r\nL 597.785383 214.842459 \r\nL 597.859183 214.969199 \r\nL 597.932983 214.905829 \r\nL 598.154382 214.715719 \r\nL 598.375782 214.652348 \r\nL 598.449582 214.398868 \r\nL 598.523382 214.462238 \r\nL 598.670981 214.335497 \r\nL 598.818581 214.398868 \r\nL 598.892381 214.082017 \r\nL 598.966181 214.145387 \r\nL 599.039981 214.145387 \r\nL 599.187581 213.955276 \r\nL 599.33518 214.018647 \r\nL 599.48278 213.828536 \r\nL 599.70418 213.321575 \r\nL 599.77798 213.321575 \r\nL 599.925579 213.068094 \r\nL 599.999379 213.258204 \r\nL 600.146979 212.624503 \r\nL 600.294579 212.687873 \r\nL 600.368379 212.307652 \r\nL 600.442179 212.371022 \r\nL 601.032578 211.990801 \r\nL 601.180177 211.990801 \r\nL 601.549177 211.230358 \r\nL 601.622977 211.293729 \r\nL 601.696777 211.357099 \r\nL 601.918176 210.786767 \r\nL 601.991976 210.913508 \r\nL 602.213376 210.660027 \r\nL 602.287176 210.660027 \r\nL 602.508575 210.406546 \r\nL 602.656175 210.343176 \r\nL 602.877575 210.279806 \r\nL 603.025175 210.343176 \r\nL 603.394174 209.899585 \r\nL 603.467974 209.899585 \r\nL 603.541774 209.772844 \r\nL 603.615574 209.836214 \r\nL 603.689374 209.836214 \r\nL 603.836973 209.455993 \r\nL 603.910773 209.519364 \r\nL 604.058373 209.265883 \r\nL 604.132173 209.265883 \r\nL 604.353572 208.885662 \r\nL 605.017771 208.44207 \r\nL 605.312971 208.3787 \r\nL 605.386771 208.25196 \r\nL 605.460571 208.3787 \r\nL 605.534371 208.31533 \r\nL 605.68197 208.25196 \r\nL 606.05097 207.744998 \r\nL 606.272369 207.871739 \r\nL 606.493769 207.681628 \r\nL 606.641369 207.871739 \r\nL 606.862769 207.744998 \r\nL 606.936568 207.808369 \r\nL 607.157968 207.364777 \r\nL 607.231768 207.364777 \r\nL 607.379368 207.238037 \r\nL 607.600767 207.174667 \r\nL 608.043567 206.794446 \r\nL 608.117367 206.921186 \r\nL 608.338766 206.540965 \r\nL 608.486366 206.414224 \r\nL 608.560166 206.477595 \r\nL 608.929165 205.780523 \r\nL 609.002965 205.907263 \r\nL 609.076765 205.970633 \r\nL 609.371965 205.336931 \r\nL 610.995562 203.816047 \r\nL 611.290762 203.499196 \r\nL 611.438361 203.499196 \r\nL 611.512161 203.245715 \r\nL 611.585961 203.309085 \r\nL 611.807361 202.928864 \r\nL 611.881161 203.055605 \r\nL 612.02876 202.738754 \r\nL 612.10256 202.865494 \r\nL 612.619159 202.105052 \r\nL 612.766759 202.105052 \r\nL 612.988159 201.788201 \r\nL 613.061959 201.978312 \r\nL 613.209559 201.851571 \r\nL 613.283358 201.851571 \r\nL 613.430958 201.598091 \r\nL 613.504758 201.661461 \r\nL 613.652358 201.40798 \r\nL 613.799958 201.091129 \r\nL 613.873757 201.154499 \r\nL 614.168957 200.837648 \r\nL 614.316557 200.901018 \r\nL 614.537956 200.584168 \r\nL 614.833156 200.267317 \r\nL 615.054556 199.823725 \r\nL 615.128356 199.760355 \r\nL 615.349755 199.253394 \r\nL 615.423555 199.380134 \r\nL 615.571155 199.126653 \r\nL 615.644955 199.126653 \r\nL 615.718755 198.809802 \r\nL 615.792554 198.873173 \r\nL 615.866354 198.873173 \r\nL 616.087754 198.429581 \r\nL 616.161554 198.302841 \r\nL 616.309154 197.605769 \r\nL 616.678153 197.415658 \r\nL 616.825753 197.352288 \r\nL 617.194752 197.162178 \r\nL 617.342352 197.162178 \r\nL 617.711351 196.338365 \r\nL 617.858951 196.274995 \r\nL 618.080351 196.211625 \r\nL 618.227951 196.274995 \r\nL 618.301751 196.148255 \r\nL 618.37555 196.274995 \r\nL 618.44935 196.211625 \r\nL 618.59695 196.021514 \r\nL 618.74455 196.148255 \r\nL 618.81835 196.148255 \r\nL 619.039749 195.704663 \r\nL 619.113549 195.768034 \r\nL 619.334949 195.704663 \r\nL 619.408749 195.451183 \r\nL 619.482549 195.514553 \r\nL 619.703948 195.261072 \r\nL 619.925348 194.880851 \r\nL 620.589547 194.183779 \r\nL 620.810947 193.803558 \r\nL 621.401346 193.233226 \r\nL 621.548945 192.409414 \r\nL 621.770345 192.155933 \r\nL 621.844145 192.219303 \r\nL 622.508344 191.268751 \r\nL 622.582144 191.268751 \r\nL 622.655944 191.01527 \r\nL 622.729744 191.14201 \r\nL 623.098743 190.698419 \r\nL 623.246343 190.508308 \r\nL 623.467742 190.191457 \r\nL 623.762942 190.128087 \r\nL 623.836742 189.937977 \r\nL 623.910542 190.001347 \r\nL 624.279541 189.177534 \r\nL 624.500941 188.797313 \r\nL 624.79614 188.543833 \r\nL 624.94374 188.100241 \r\nL 625.09134 188.100241 \r\nL 625.31274 187.910131 \r\nL 625.460339 187.973501 \r\nL 625.534139 187.846761 \r\nL 625.681739 187.213059 \r\nL 625.976938 187.149689 \r\nL 626.124538 186.959578 \r\nL 626.345938 186.896208 \r\nL 626.419738 186.896208 \r\nL 626.567338 186.706097 \r\nL 626.641137 186.769467 \r\nL 626.714937 186.642727 \r\nL 626.862537 186.262506 \r\nL 626.936337 186.199136 \r\nL 627.083937 185.818915 \r\nL 627.157737 185.818915 \r\nL 627.305336 185.565434 \r\nL 627.526736 185.502064 \r\nL 627.600536 185.375323 \r\nL 627.748136 184.804992 \r\nL 627.821936 184.868362 \r\nL 627.969535 184.551511 \r\nL 628.117135 184.614881 \r\nL 628.338535 184.3614 \r\nL 628.412335 184.424771 \r\nL 628.855134 183.854439 \r\nL 629.002734 183.664328 \r\nL 629.593133 182.333555 \r\nL 629.666933 182.396925 \r\nL 629.888332 182.016704 \r\nL 630.257332 181.763223 \r\nL 630.478731 181.826593 \r\nL 630.552531 181.699853 \r\nL 630.626331 181.763223 \r\nL 630.847731 181.636483 \r\nL 631.06913 181.699853 \r\nL 631.29053 181.319632 \r\nL 631.65953 180.939411 \r\nL 632.028529 180.242338 \r\nL 632.176129 180.178968 \r\nL 632.397528 179.481896 \r\nL 632.471328 179.608637 \r\nL 633.135527 178.658084 \r\nL 633.209327 178.594714 \r\nL 633.430727 178.087752 \r\nL 633.578327 178.024382 \r\nL 634.021126 177.770901 \r\nL 634.094926 177.834272 \r\nL 634.316325 177.32731 \r\nL 634.463925 177.39068 \r\nL 634.832925 176.947089 \r\nL 634.906724 176.947089 \r\nL 635.275724 176.440127 \r\nL 635.349524 176.440127 \r\nL 635.718523 175.679685 \r\nL 635.792323 175.743055 \r\nL 635.939923 175.552945 \r\nL 637.046921 174.475652 \r\nL 637.120721 174.03206 \r\nL 637.194521 174.158801 \r\nL 637.342121 173.96869 \r\nL 637.48972 173.651839 \r\nL 637.56352 173.651839 \r\nL 637.71112 173.461729 \r\nL 637.78492 173.398359 \r\nL 637.85872 172.954767 \r\nL 637.93252 173.081508 \r\nL 638.153919 172.891397 \r\nL 638.227719 172.891397 \r\nL 638.596719 172.257695 \r\nL 638.670518 172.447806 \r\nL 638.744318 172.004215 \r\nL 638.818118 172.067585 \r\nL 639.039518 171.560623 \r\nL 639.113318 171.497253 \r\nL 639.187118 171.623993 \r\nL 639.260918 171.370513 \r\nL 639.334717 171.433883 \r\nL 639.408517 171.433883 \r\nL 639.482317 171.307143 \r\nL 639.556117 171.433883 \r\nL 639.629917 171.370513 \r\nL 639.851317 170.990292 \r\nL 639.925117 171.053662 \r\nL 640.072716 170.673441 \r\nL 640.146516 170.673441 \r\nL 640.441716 170.166479 \r\nL 640.515516 170.229849 \r\nL 641.253514 168.962446 \r\nL 641.327314 169.152556 \r\nL 641.622514 168.645595 \r\nL 641.696314 168.645595 \r\nL 641.843914 168.392114 \r\nL 641.991513 168.582225 \r\nL 642.286713 167.885153 \r\nL 642.360513 167.948523 \r\nL 642.508112 167.441561 \r\nL 642.581912 167.504932 \r\nL 642.655712 167.504932 \r\nL 643.024712 166.99797 \r\nL 643.098512 167.188081 \r\nL 643.319911 166.681119 \r\nL 643.393711 167.06134 \r\nL 643.467511 166.744489 \r\nL 643.541311 166.9346 \r\nL 643.615111 166.427638 \r\nL 643.688911 166.554379 \r\nL 643.83651 166.554379 \r\nL 644.13171 165.984047 \r\nL 644.20551 166.110787 \r\nL 644.500709 165.603826 \r\nL 644.795909 165.286975 \r\nL 644.869709 165.286975 \r\nL 645.312508 164.589903 \r\nL 645.460108 164.653273 \r\nL 645.755307 164.273052 \r\nL 645.829107 164.463163 \r\nL 646.050507 163.70272 \r\nL 646.567106 163.005648 \r\nL 647.009905 162.562057 \r\nL 647.083705 162.308576 \r\nL 647.157505 162.498687 \r\nL 647.600304 161.928355 \r\nL 647.674104 162.055096 \r\nL 647.747904 161.801615 \r\nL 647.821704 161.864985 \r\nL 648.043104 161.548134 \r\nL 648.116904 161.801615 \r\nL 648.190704 161.674875 \r\nL 648.264503 161.738245 \r\nL 648.485903 161.358024 \r\nL 648.854902 161.041173 \r\nL 649.076302 160.407471 \r\nL 649.150102 160.787692 \r\nL 649.223902 160.407471 \r\nL 649.297702 160.660952 \r\nL 649.371502 160.280731 \r\nL 649.445302 160.344101 \r\nL 649.519101 160.407471 \r\nL 649.592901 160.09062 \r\nL 649.666701 160.470841 \r\nL 649.740501 159.773769 \r\nL 649.814301 159.96388 \r\nL 650.035701 159.393548 \r\nL 650.4047 159.140067 \r\nL 650.4785 159.266808 \r\nL 650.6999 159.013327 \r\nL 650.773699 159.013327 \r\nL 650.847499 158.759846 \r\nL 650.921299 158.823216 \r\nL 651.216499 158.569736 \r\nL 651.437898 158.126144 \r\nL 651.511698 158.316255 \r\nL 651.733098 157.555813 \r\nL 652.028297 157.175592 \r\nL 652.102097 157.048851 \r\nL 652.175897 157.175592 \r\nL 652.249697 156.858741 \r\nL 652.323497 157.112221 \r\nL 652.544897 156.66863 \r\nL 652.766296 156.415149 \r\nL 652.840096 156.415149 \r\nL 652.913896 156.288409 \r\nL 653.061496 155.718077 \r\nL 653.135296 155.654707 \r\nL 653.209096 155.781447 \r\nL 653.282896 155.591337 \r\nL 653.356695 155.654707 \r\nL 653.947094 155.147746 \r\nL 654.168494 154.640784 \r\nL 654.242294 154.767525 \r\nL 654.906493 153.690231 \r\nL 654.980293 153.816972 \r\nL 655.054093 153.563491 \r\nL 655.127893 153.690231 \r\nL 655.201692 153.690231 \r\nL 655.792092 152.803049 \r\nL 655.865891 152.929789 \r\nL 655.939691 152.676308 \r\nL 656.013491 152.803049 \r\nL 656.161091 152.549568 \r\nL 656.308691 152.105977 \r\nL 656.382491 152.169347 \r\nL 656.67769 151.662386 \r\nL 656.82529 151.852496 \r\nL 657.194289 151.092054 \r\nL 657.268089 151.028684 \r\nL 657.341889 151.218794 \r\nL 657.637089 150.648463 \r\nL 657.710889 150.838573 \r\nL 657.858488 150.585092 \r\nL 657.932288 150.648463 \r\nL 658.006088 150.394982 \r\nL 658.079888 150.458352 \r\nL 658.153688 150.394982 \r\nL 658.375088 149.88802 \r\nL 658.448887 150.078131 \r\nL 658.522687 149.69791 \r\nL 658.596487 150.141501 \r\nL 658.670287 149.507799 \r\nL 658.744087 149.76128 \r\nL 658.965487 149.444429 \r\nL 659.113086 149.317689 \r\nL 659.260686 149.254319 \r\nL 659.334486 148.937468 \r\nL 659.408286 149.127578 \r\nL 659.482086 148.810727 \r\nL 659.555886 149.064208 \r\nL 659.629686 148.620617 \r\nL 659.703485 149.000838 \r\nL 659.777285 148.367136 \r\nL 659.851085 148.683987 \r\nL 660.072485 148.303766 \r\nL 660.146285 148.367136 \r\nL 660.589084 147.860174 \r\nL 660.662884 148.240396 \r\nL 660.884284 147.543324 \r\nL 660.958083 147.923545 \r\nL 661.031883 147.543324 \r\nL 661.105683 147.923545 \r\nL 661.179483 147.606694 \r\nL 661.253283 147.670064 \r\nL 661.474683 147.416583 \r\nL 661.548483 147.479953 \r\nL 661.917482 146.719511 \r\nL 661.991282 146.972992 \r\nL 662.065082 146.529401 \r\nL 662.138882 146.782881 \r\nL 662.212681 146.592771 \r\nL 662.286481 146.719511 \r\nL 662.507881 146.40266 \r\nL 662.581681 146.529401 \r\nL 662.729281 146.21255 \r\nL 662.87688 146.27592 \r\nL 662.95068 146.085809 \r\nL 663.02448 146.14918 \r\nL 663.24588 145.959069 \r\nL 663.31968 145.959069 \r\nL 663.39348 145.705588 \r\nL 663.467279 145.768958 \r\nL 663.910079 145.515478 \r\nL 663.983879 145.515478 \r\nL 664.057679 145.198627 \r\nL 664.131478 145.388737 \r\nL 664.205278 145.325367 \r\nL 664.500478 144.691665 \r\nL 664.574278 144.818406 \r\nL 664.795677 144.501555 \r\nL 664.869477 144.628295 \r\nL 664.943277 144.374814 \r\nL 665.017077 144.564925 \r\nL 665.090877 144.248074 \r\nL 665.164677 144.438185 \r\nL 665.238477 144.374814 \r\nL 665.312277 144.374814 \r\nL 665.386076 144.501555 \r\nL 665.533676 144.311444 \r\nL 665.607476 144.374814 \r\nL 665.681276 144.184704 \r\nL 665.755076 144.311444 \r\nL 665.828876 144.057963 \r\nL 665.902676 144.184704 \r\nL 666.197875 143.614372 \r\nL 666.271675 143.741113 \r\nL 666.345475 143.297521 \r\nL 666.419275 143.994593 \r\nL 666.493075 143.424262 \r\nL 666.566875 143.614372 \r\nL 666.640675 143.614372 \r\nL 666.862074 143.360891 \r\nL 666.935874 143.360891 \r\nL 667.009674 142.85393 \r\nL 667.083474 143.424262 \r\nL 667.231074 142.9173 \r\nL 667.304873 143.107411 \r\nL 667.526273 142.473709 \r\nL 667.673873 142.283598 \r\nL 667.747673 142.473709 \r\nL 667.895273 142.093488 \r\nL 668.116672 141.840007 \r\nL 668.190472 141.586526 \r\nL 668.264272 141.776637 \r\nL 668.485672 141.206305 \r\nL 668.559471 141.333046 \r\nL 668.633271 141.016195 \r\nL 668.707071 141.333046 \r\nL 669.002271 140.635973 \r\nL 669.076071 140.826084 \r\nL 669.149871 140.255752 \r\nL 669.22367 140.762714 \r\nL 669.29747 140.065642 \r\nL 669.37127 140.699344 \r\nL 669.44507 140.129012 \r\nL 669.51887 140.382493 \r\nL 669.74027 140.002272 \r\nL 669.961669 139.875531 \r\nL 670.183069 139.36857 \r\nL 670.330669 139.49531 \r\nL 670.625868 139.43194 \r\nL 670.699668 139.115089 \r\nL 670.773468 139.178459 \r\nL 670.921068 139.178459 \r\nL 671.142467 138.798238 \r\nL 671.216267 138.734868 \r\nL 671.290067 138.924979 \r\nL 671.363867 138.734868 \r\nL 671.437667 138.924979 \r\nL 671.511467 138.418017 \r\nL 671.585267 138.734868 \r\nL 671.659067 138.418017 \r\nL 671.732867 138.671498 \r\nL 671.806666 138.164536 \r\nL 671.880466 138.481387 \r\nL 671.954266 138.101166 \r\nL 672.028066 138.291277 \r\nL 672.101866 138.291277 \r\nL 672.175666 137.911056 \r\nL 672.249466 138.037796 \r\nL 672.397065 137.720945 \r\nL 672.470865 137.847685 \r\nL 672.618465 137.594205 \r\nL 672.839865 137.277354 \r\nL 672.913665 137.594205 \r\nL 673.135064 137.277354 \r\nL 673.208864 137.404094 \r\nL 673.430264 137.023873 \r\nL 673.504064 137.023873 \r\nL 673.577864 136.833762 \r\nL 673.651663 136.960503 \r\nL 673.725463 136.707022 \r\nL 673.799263 136.833762 \r\nL 673.873063 136.770392 \r\nL 674.168263 136.13669 \r\nL 674.242063 136.200061 \r\nL 674.389662 136.00995 \r\nL 674.463462 136.07332 \r\nL 674.537262 135.94658 \r\nL 674.611062 136.200061 \r\nL 674.684862 135.81984 \r\nL 674.758662 135.88321 \r\nL 674.832462 135.756469 \r\nL 674.906262 136.07332 \r\nL 675.053861 135.502989 \r\nL 675.127661 135.629729 \r\nL 675.275261 135.439618 \r\nL 675.57046 135.186138 \r\nL 675.64426 135.312878 \r\nL 675.71806 134.869287 \r\nL 675.86566 135.186138 \r\nL 675.93946 134.869287 \r\nL 676.01326 135.122767 \r\nL 676.08706 134.869287 \r\nL 676.16086 135.249508 \r\nL 676.234659 134.742546 \r\nL 676.308459 135.186138 \r\nL 676.382259 134.425695 \r\nL 676.456059 134.932657 \r\nL 676.529859 134.552436 \r\nL 676.603659 134.679176 \r\nL 676.677459 134.489066 \r\nL 676.751259 134.552436 \r\nL 676.898858 134.362325 \r\nL 676.972658 134.489066 \r\nL 677.046458 134.108845 \r\nL 677.120258 134.489066 \r\nL 677.194058 133.855364 \r\nL 677.267858 134.235585 \r\nL 677.341658 133.538513 \r\nL 677.415458 134.235585 \r\nL 677.489257 133.475143 \r\nL 677.563057 134.172215 \r\nL 677.636857 133.538513 \r\nL 677.710657 133.601883 \r\nL 677.784457 133.601883 \r\nL 677.858257 133.094922 \r\nL 677.932057 133.665253 \r\nL 678.005857 132.46122 \r\nL 678.079657 133.411773 \r\nL 678.153456 132.39785 \r\nL 678.227256 133.031551 \r\nL 678.374856 132.271109 \r\nL 678.670056 131.890888 \r\nL 678.743855 132.080999 \r\nL 678.817655 131.637407 \r\nL 678.891455 132.080999 \r\nL 678.965255 131.447297 \r\nL 679.039055 131.764148 \r\nL 679.186655 131.383927 \r\nL 679.481854 130.940335 \r\nL 679.555654 131.067076 \r\nL 679.998454 130.433374 \r\nL 680.146053 130.433374 \r\nL 680.367453 130.243263 \r\nL 680.515053 129.863042 \r\nL 680.588853 129.926412 \r\nL 680.662652 129.799672 \r\nL 680.736452 129.989783 \r\nL 680.884052 129.736302 \r\nL 681.031652 129.736302 \r\nL 681.105452 129.546191 \r\nL 681.179252 129.609561 \r\nL 681.695851 129.22934 \r\nL 681.769651 129.356081 \r\nL 681.91725 129.03923 \r\nL 682.13865 129.03923 \r\nL 682.21245 128.912489 \r\nL 682.28625 129.1026 \r\nL 682.36005 128.595639 \r\nL 682.43385 128.785749 \r\nL 682.50765 128.595639 \r\nL 682.581449 128.722379 \r\nL 682.802849 128.405528 \r\nL 682.876649 128.405528 \r\nL 682.950449 128.278788 \r\nL 683.024249 128.405528 \r\nL 683.171849 128.215417 \r\nL 683.319448 128.215417 \r\nL 683.393248 128.215417 \r\nL 683.467048 128.405528 \r\nL 683.688448 127.898567 \r\nL 683.762248 128.278788 \r\nL 683.909847 127.771826 \r\nL 683.983647 127.835196 \r\nL 684.057447 127.645086 \r\nL 684.131247 127.835196 \r\nL 684.205047 127.391605 \r\nL 684.278847 127.708456 \r\nL 684.426447 127.328235 \r\nL 684.721646 126.884644 \r\nL 684.869246 126.884644 \r\nL 685.090645 126.504422 \r\nL 685.164445 126.694533 \r\nL 685.385845 126.124201 \r\nL 685.459645 126.187572 \r\nL 685.681045 125.80735 \r\nL 685.754844 125.934091 \r\nL 686.050044 125.300389 \r\nL 686.123844 125.74398 \r\nL 686.197644 125.363759 \r\nL 686.271444 125.61724 \r\nL 686.345244 125.110278 \r\nL 686.419043 125.4905 \r\nL 686.492843 125.046908 \r\nL 686.566643 125.300389 \r\nL 686.714243 124.920168 \r\nL 686.861843 124.793428 \r\nL 686.935643 124.413206 \r\nL 687.009442 124.476577 \r\nL 687.083242 124.603317 \r\nL 687.599842 123.716134 \r\nL 687.673641 123.842875 \r\nL 687.821241 123.652764 \r\nL 687.895041 123.716134 \r\nL 688.042641 123.399283 \r\nL 688.190241 123.462654 \r\nL 688.264041 123.145803 \r\nL 688.33784 123.526024 \r\nL 688.41164 123.082433 \r\nL 688.48544 123.399283 \r\nL 688.63304 122.955692 \r\nL 688.85444 122.828952 \r\nL 688.928239 122.892322 \r\nL 689.075839 122.702211 \r\nL 689.149639 122.828952 \r\nL 689.371039 122.638841 \r\nL 689.592438 122.638841 \r\nL 689.666238 122.448731 \r\nL 689.740038 122.512101 \r\nL 689.961438 122.448731 \r\nL 690.035238 122.448731 \r\nL 690.256637 122.13188 \r\nL 690.404237 122.13188 \r\nL 690.478037 122.13188 \r\nL 690.699437 121.624918 \r\nL 690.847036 121.751659 \r\nL 690.920836 121.498178 \r\nL 690.994636 121.688288 \r\nL 691.068436 121.308067 \r\nL 691.142236 121.561548 \r\nL 691.216036 120.991216 \r\nL 691.289836 121.117957 \r\nL 691.363636 120.927846 \r\nL 691.437436 120.991216 \r\nL 691.658835 120.864476 \r\nL 691.732635 120.484255 \r\nL 691.806435 120.674366 \r\nL 692.027835 120.294144 \r\nL 692.101634 120.357515 \r\nL 692.175434 120.547625 \r\nL 692.249234 120.040664 \r\nL 692.323034 120.167404 \r\nL 692.396834 120.167404 \r\nL 692.470634 119.850553 \r\nL 692.544434 119.913923 \r\nL 692.692034 119.850553 \r\nL 692.765833 119.787183 \r\nL 692.839633 119.533702 \r\nL 692.913433 119.723813 \r\nL 692.987233 119.406962 \r\nL 693.061033 119.723813 \r\nL 693.208633 119.153481 \r\nL 693.282433 119.153481 \r\nL 693.356232 118.9 \r\nL 693.430032 119.153481 \r\nL 693.725232 118.456409 \r\nL 693.799032 118.583149 \r\nL 693.872832 118.519779 \r\nL 693.946632 118.519779 \r\nL 694.094231 118.076188 \r\nL 694.315631 117.822707 \r\nL 694.389431 118.012818 \r\nL 694.463231 117.886077 \r\nL 694.537031 118.012818 \r\nL 694.610831 117.759337 \r\nL 694.68463 118.012818 \r\nL 694.75843 117.759337 \r\nL 694.83223 117.949448 \r\nL 694.97983 117.632597 \r\nL 695.12743 117.569227 \r\nL 695.20123 117.632597 \r\nL 695.275029 117.379116 \r\nL 695.348829 117.695967 \r\nL 695.422629 117.315746 \r\nL 695.496429 117.569227 \r\nL 695.791629 117.062265 \r\nL 695.865429 117.252376 \r\nL 695.939228 116.935525 \r\nL 696.013028 117.189005 \r\nL 696.086828 117.062265 \r\nL 696.160628 117.189005 \r\nL 696.234428 116.998895 \r\nL 696.308228 117.252376 \r\nL 696.603427 116.618674 \r\nL 696.677227 116.745414 \r\nL 696.898627 116.555304 \r\nL 696.972427 116.618674 \r\nL 697.120027 116.428563 \r\nL 697.193826 116.428563 \r\nL 697.267626 116.175082 \r\nL 697.341426 116.365193 \r\nL 697.415226 116.238453 \r\nL 697.489026 116.428563 \r\nL 697.562826 115.984972 \r\nL 697.636626 116.365193 \r\nL 697.784226 115.858232 \r\nL 697.931825 115.604751 \r\nL 698.005625 115.794861 \r\nL 698.079425 115.541381 \r\nL 698.153225 116.111712 \r\nL 698.227025 115.2879 \r\nL 698.300825 115.731491 \r\nL 698.448424 115.35127 \r\nL 698.596024 115.097789 \r\nL 698.669824 115.41464 \r\nL 698.891224 115.034419 \r\nL 698.965024 115.22453 \r\nL 699.038824 115.034419 \r\nL 699.112623 115.16116 \r\nL 699.186423 114.907679 \r\nL 699.260223 115.16116 \r\nL 699.407823 114.717568 \r\nL 699.703023 114.717568 \r\nL 699.924422 114.400717 \r\nL 700.293422 114.147237 \r\nL 700.441021 114.337347 \r\nL 700.662421 113.767015 \r\nL 700.883821 113.830386 \r\nL 700.957621 113.830386 \r\nL 701.03142 113.640275 \r\nL 701.10522 113.893756 \r\nL 701.17902 113.513535 \r\nL 701.25282 113.703645 \r\nL 701.32662 113.450165 \r\nL 701.40042 113.640275 \r\nL 701.47422 113.386794 \r\nL 701.54802 113.576905 \r\nL 701.621819 113.260054 \r\nL 701.769419 113.513535 \r\nL 701.917019 113.323424 \r\nL 702.138419 113.006573 \r\nL 702.212219 113.260054 \r\nL 702.286018 112.689722 \r\nL 702.359818 113.260054 \r\nL 702.433618 112.626352 \r\nL 702.507418 113.196684 \r\nL 702.581218 112.499612 \r\nL 702.655018 113.006573 \r\nL 702.728818 112.436242 \r\nL 702.802618 112.626352 \r\nL 702.876418 112.372871 \r\nL 702.950217 112.436242 \r\nL 703.097817 112.246131 \r\nL 703.171617 112.499612 \r\nL 703.245417 112.056021 \r\nL 703.319217 112.436242 \r\nL 703.393017 111.80254 \r\nL 703.466817 112.372871 \r\nL 703.540616 111.73917 \r\nL 703.614416 112.372871 \r\nL 703.688216 111.675799 \r\nL 703.762016 112.056021 \r\nL 703.909616 111.80254 \r\nL 704.131016 111.80254 \r\nL 704.204815 111.549059 \r\nL 704.278615 111.99265 \r\nL 704.352415 111.422319 \r\nL 704.426215 111.86591 \r\nL 704.500015 111.168838 \r\nL 704.573815 111.73917 \r\nL 704.647615 110.978727 \r\nL 704.721415 111.675799 \r\nL 704.795215 111.105468 \r\nL 704.869014 111.612429 \r\nL 705.090414 111.042098 \r\nL 705.164214 111.168838 \r\nL 705.311814 111.042098 \r\nL 705.385614 111.042098 \r\nL 705.459413 110.788617 \r\nL 705.533213 111.168838 \r\nL 705.607013 110.661876 \r\nL 705.680813 110.915357 \r\nL 705.754613 110.725247 \r\nL 705.828413 110.851987 \r\nL 705.902213 110.598506 \r\nL 706.049813 110.978727 \r\nL 706.123612 110.408396 \r\nL 706.197412 110.788617 \r\nL 706.418812 110.028175 \r\nL 706.492612 110.218285 \r\nL 706.566412 110.028175 \r\nL 706.640212 110.218285 \r\nL 706.714011 109.964804 \r\nL 706.787811 110.281655 \r\nL 706.861611 110.154915 \r\nL 707.083011 109.774694 \r\nL 707.156811 109.901434 \r\nL 707.230611 109.647954 \r\nL 707.304411 109.838064 \r\nL 707.45201 109.647954 \r\nL 707.96861 109.331103 \r\nL 708.042409 109.394473 \r\nL 708.263809 109.014252 \r\nL 708.337609 109.140992 \r\nL 708.411409 108.887511 \r\nL 708.485209 108.950882 \r\nL 708.559009 109.014252 \r\nL 708.780408 108.57066 \r\nL 708.854208 108.887511 \r\nL 708.928008 108.50729 \r\nL 709.001808 108.760771 \r\nL 709.149408 108.44392 \r\nL 709.592207 108.38055 \r\nL 709.739807 108.190439 \r\nL 709.961206 107.873588 \r\nL 710.035006 108.000329 \r\nL 710.256406 107.620108 \r\nL 710.330206 107.683478 \r\nL 710.846805 106.986406 \r\nL 710.994405 107.049776 \r\nL 711.142005 106.669555 \r\nL 711.289604 106.859665 \r\nL 711.584804 106.606185 \r\nL 711.732404 106.225964 \r\nL 711.880003 106.416074 \r\nL 711.953803 106.416074 \r\nL 712.027603 106.099223 \r\nL 712.101403 106.225964 \r\nL 712.175203 106.225964 \r\nL 712.618002 105.592262 \r\nL 712.691802 105.719002 \r\nL 712.839402 105.402151 \r\nL 712.913202 105.592262 \r\nL 712.987002 105.275411 \r\nL 713.060802 105.528892 \r\nL 713.134601 105.0853 \r\nL 713.208401 105.212041 \r\nL 713.282201 104.89519 \r\nL 713.356001 105.338781 \r\nL 713.429801 104.83182 \r\nL 713.503601 105.14867 \r\nL 713.577401 104.578339 \r\nL 713.651201 104.768449 \r\nL 713.725 104.514969 \r\nL 713.7988 104.578339 \r\nL 713.8726 104.83182 \r\nL 713.9464 104.514969 \r\nL 714.0202 104.83182 \r\nL 714.094 104.261488 \r\nL 714.1678 104.768449 \r\nL 714.2416 104.261488 \r\nL 714.3154 104.578339 \r\nL 714.389199 104.008007 \r\nL 714.462999 104.451598 \r\nL 714.536799 103.944637 \r\nL 714.610599 104.198118 \r\nL 714.684399 104.198118 \r\nL 714.758199 103.817897 \r\nL 714.831999 104.134748 \r\nL 714.905799 103.817897 \r\nL 714.979598 104.198118 \r\nL 715.053398 103.881267 \r\nL 715.127198 104.071377 \r\nL 715.348598 103.564416 \r\nL 715.422398 103.564416 \r\nL 715.569998 103.437675 \r\nL 715.643797 103.437675 \r\nL 715.791397 103.120825 \r\nL 715.865197 103.247565 \r\nL 716.012797 103.057454 \r\nL 716.234197 103.120825 \r\nL 716.455596 102.740603 \r\nL 716.603196 102.740603 \r\nL 716.676996 102.677233 \r\nL 716.750796 102.803974 \r\nL 716.824596 102.550493 \r\nL 716.898395 102.740603 \r\nL 717.119795 102.423753 \r\nL 717.193595 102.613863 \r\nL 717.267395 102.297012 \r\nL 717.341195 102.360382 \r\nL 717.636394 101.980161 \r\nL 717.710194 102.106902 \r\nL 717.783994 101.66331 \r\nL 717.857794 101.980161 \r\nL 717.931594 101.726681 \r\nL 718.005394 101.916791 \r\nL 718.079194 101.59994 \r\nL 718.226793 101.916791 \r\nL 718.374393 101.916791 \r\nL 718.521993 101.53657 \r\nL 718.743393 101.59994 \r\nL 719.112392 101.346459 \r\nL 719.186192 101.40983 \r\nL 719.259992 101.029609 \r\nL 719.333792 101.156349 \r\nL 719.407592 101.156349 \r\nL 719.628991 100.966238 \r\nL 719.850391 101.029609 \r\nL 719.924191 100.966238 \r\nL 720.14559 100.586017 \r\nL 720.51459 100.586017 \r\nL 720.58839 100.966238 \r\nL 720.66219 100.649387 \r\nL 720.735989 101.029609 \r\nL 720.809789 100.586017 \r\nL 720.883589 100.776128 \r\nL 721.031189 100.395907 \r\nL 721.104989 100.522647 \r\nL 721.252589 100.205796 \r\nL 721.326389 100.395907 \r\nL 721.473988 100.269166 \r\nL 721.547788 100.395907 \r\nL 721.769188 99.952315 \r\nL 721.842988 100.079056 \r\nL 721.916788 100.015686 \r\nL 721.990587 100.079056 \r\nL 722.064387 99.825575 \r\nL 722.138187 99.952315 \r\nL 722.359587 100.015686 \r\nL 722.433387 99.762205 \r\nL 722.507187 99.952315 \r\nL 722.580987 99.635464 \r\nL 722.654786 99.762205 \r\nL 722.728586 99.762205 \r\nL 722.802386 99.572094 \r\nL 722.876186 99.635464 \r\nL 722.949986 99.508724 \r\nL 723.097586 99.635464 \r\nL 723.171386 99.381984 \r\nL 723.245185 99.508724 \r\nL 723.687985 98.684912 \r\nL 723.761785 99.001763 \r\nL 723.835585 98.494801 \r\nL 723.909384 98.938392 \r\nL 723.983184 98.684912 \r\nL 724.056984 98.748282 \r\nL 724.130784 98.938392 \r\nL 724.278384 98.558171 \r\nL 724.352184 98.684912 \r\nL 724.499784 98.431431 \r\nL 724.573583 98.494801 \r\nL 724.647383 98.17795 \r\nL 724.721183 98.494801 \r\nL 724.794983 98.11458 \r\nL 724.868783 98.431431 \r\nL 724.942583 98.05121 \r\nL 725.016383 98.368061 \r\nL 725.090183 97.924469 \r\nL 725.163982 98.304691 \r\nL 725.237782 97.861099 \r\nL 725.311582 98.11458 \r\nL 725.385382 97.670989 \r\nL 725.459182 97.924469 \r\nL 725.532982 97.480878 \r\nL 725.606782 97.607619 \r\nL 725.680582 97.354138 \r\nL 725.754382 97.480878 \r\nL 725.901981 97.417508 \r\nL 725.975781 96.847176 \r\nL 726.049581 97.670989 \r\nL 726.123381 96.783806 \r\nL 726.197181 97.670989 \r\nL 726.270981 96.720436 \r\nL 726.344781 97.417508 \r\nL 726.418581 96.657066 \r\nL 726.49238 97.227397 \r\nL 726.56618 96.593696 \r\nL 726.63998 96.657066 \r\nL 726.71378 96.973917 \r\nL 726.78758 96.466955 \r\nL 726.86138 97.037287 \r\nL 726.93518 96.403585 \r\nL 727.00898 97.037287 \r\nL 727.082779 96.213475 \r\nL 727.156579 96.657066 \r\nL 727.230379 96.466955 \r\nL 727.304179 96.466955 \r\nL 727.377979 96.720436 \r\nL 727.451779 96.213475 \r\nL 727.525579 96.530325 \r\nL 727.599379 96.150104 \r\nL 727.673179 96.593696 \r\nL 727.746978 96.150104 \r\nL 727.820778 96.213475 \r\nL 728.042178 95.959994 \r\nL 728.115978 96.150104 \r\nL 728.263578 95.769883 \r\nL 728.337377 96.023364 \r\nL 728.411177 95.706513 \r\nL 728.484977 96.023364 \r\nL 728.558777 95.643143 \r\nL 728.632577 95.769883 \r\nL 728.780177 95.516402 \r\nL 728.927777 95.706513 \r\nL 729.075376 95.389662 \r\nL 729.149176 95.453032 \r\nL 729.222976 95.262922 \r\nL 729.296776 95.643143 \r\nL 729.444376 95.262922 \r\nL 729.518176 95.199552 \r\nL 729.591976 95.389662 \r\nL 729.739575 95.136181 \r\nL 729.960975 94.946071 \r\nL 730.034775 95.072811 \r\nL 730.108575 94.882701 \r\nL 730.256174 95.009441 \r\nL 730.403774 94.882701 \r\nL 730.477574 95.009441 \r\nL 730.551374 94.882701 \r\nL 730.625174 94.946071 \r\nL 730.772774 94.81933 \r\nL 730.846574 94.946071 \r\nL 731.141773 94.312369 \r\nL 731.215573 94.56585 \r\nL 731.436973 94.185629 \r\nL 731.510772 94.56585 \r\nL 731.584572 94.439109 \r\nL 731.658372 94.058888 \r\nL 731.732172 94.312369 \r\nL 731.805972 93.995518 \r\nL 731.879772 94.248999 \r\nL 732.101172 93.805408 \r\nL 732.248771 94.058888 \r\nL 732.322571 93.615297 \r\nL 732.396371 93.932148 \r\nL 732.470171 93.425186 \r\nL 732.543971 93.932148 \r\nL 732.617771 93.298446 \r\nL 732.691571 93.805408 \r\nL 732.765371 93.425186 \r\nL 732.83917 93.488557 \r\nL 733.06057 93.551927 \r\nL 733.13437 93.171706 \r\nL 733.20817 93.298446 \r\nL 733.429569 93.108336 \r\nL 733.503369 93.235076 \r\nL 733.577169 92.918225 \r\nL 733.650969 93.235076 \r\nL 733.724769 92.854855 \r\nL 733.798569 93.044965 \r\nL 734.019969 92.728114 \r\nL 734.093768 92.918225 \r\nL 734.167568 92.854855 \r\nL 734.315168 92.791485 \r\nL 734.757967 92.538004 \r\nL 734.831767 92.538004 \r\nL 735.126967 92.157783 \r\nL 735.348366 92.094413 \r\nL 735.422166 92.284523 \r\nL 735.643566 91.967672 \r\nL 735.717366 92.094413 \r\nL 735.791166 92.031042 \r\nL 735.864966 91.904302 \r\nL 735.938766 92.031042 \r\nL 736.012565 91.967672 \r\nL 736.086365 91.904302 \r\nL 736.233965 92.031042 \r\nL 736.824364 91.460711 \r\nL 736.898164 91.20723 \r\nL 736.971964 91.397341 \r\nL 737.045764 91.14386 \r\nL 737.119564 91.397341 \r\nL 737.193364 91.20723 \r\nL 737.267163 91.524081 \r\nL 737.562363 90.890379 \r\nL 737.636163 91.08049 \r\nL 737.857563 90.700269 \r\nL 738.005162 90.953749 \r\nL 738.226562 90.446788 \r\nL 738.300362 90.700269 \r\nL 738.374162 90.383418 \r\nL 738.447962 90.827009 \r\nL 738.521761 90.320047 \r\nL 738.595561 90.763639 \r\nL 738.669361 90.256677 \r\nL 738.743161 90.700269 \r\nL 738.816961 90.003196 \r\nL 738.890761 90.573528 \r\nL 738.964561 90.129937 \r\nL 739.038361 90.383418 \r\nL 739.112161 90.066567 \r\nL 739.18596 90.193307 \r\nL 739.40736 90.003196 \r\nL 739.48116 90.129937 \r\nL 739.55496 89.876456 \r\nL 739.62876 90.129937 \r\nL 739.70256 90.066567 \r\nL 739.923959 90.129937 \r\nL 739.997759 89.749716 \r\nL 740.071559 89.939826 \r\nL 740.219159 89.622975 \r\nL 740.292959 89.813086 \r\nL 740.366759 89.622975 \r\nL 740.440558 89.939826 \r\nL 740.514358 89.559605 \r\nL 740.588158 89.876456 \r\nL 740.661958 89.496235 \r\nL 740.735758 89.939826 \r\nL 740.809558 89.432865 \r\nL 740.883358 89.876456 \r\nL 740.957158 89.369495 \r\nL 741.030958 89.496235 \r\nL 741.178557 89.306124 \r\nL 741.252357 89.686346 \r\nL 741.326157 89.179384 \r\nL 741.399957 89.496235 \r\nL 741.547557 89.242754 \r\nL 741.621357 89.179384 \r\nL 741.695156 89.306124 \r\nL 741.916556 89.116014 \r\nL 741.990356 89.179384 \r\nL 742.064156 88.862533 \r\nL 742.137956 88.989274 \r\nL 742.285556 88.862533 \r\nL 742.359355 88.862533 \r\nL 742.433155 88.609052 \r\nL 742.506955 88.735793 \r\nL 742.580755 88.672423 \r\nL 742.654555 88.862533 \r\nL 742.728355 88.609052 \r\nL 742.802155 88.735793 \r\nL 742.875955 88.545682 \r\nL 742.949755 88.735793 \r\nL 743.023554 88.482312 \r\nL 743.097354 88.609052 \r\nL 743.392554 88.292202 \r\nL 743.613953 88.165461 \r\nL 743.687753 88.292202 \r\nL 743.761553 88.228831 \r\nL 744.056753 88.228831 \r\nL 744.425752 87.78524 \r\nL 744.720952 88.038721 \r\nL 744.794752 87.595129 \r\nL 744.868551 88.038721 \r\nL 744.942351 87.72187 \r\nL 745.016151 87.78524 \r\nL 745.163751 87.6585 \r\nL 745.237551 87.72187 \r\nL 745.311351 87.531759 \r\nL 745.385151 87.84861 \r\nL 745.458951 87.341649 \r\nL 745.53275 87.6585 \r\nL 745.60655 87.341649 \r\nL 745.68035 87.84861 \r\nL 745.75415 87.278279 \r\nL 745.82795 87.531759 \r\nL 745.90175 87.341649 \r\nL 745.97555 87.531759 \r\nL 746.04935 87.341649 \r\nL 746.12315 87.468389 \r\nL 746.418349 87.088168 \r\nL 746.492149 87.595129 \r\nL 746.565949 87.088168 \r\nL 746.639749 87.468389 \r\nL 746.713549 87.088168 \r\nL 746.787348 87.405019 \r\nL 746.861148 86.834687 \r\nL 746.934948 87.024798 \r\nL 747.082548 86.898057 \r\nL 747.303948 86.898057 \r\nL 747.377748 86.707947 \r\nL 747.451547 86.771317 \r\nL 747.599147 86.771317 \r\nL 747.820547 86.581207 \r\nL 747.894347 86.771317 \r\nL 747.968147 86.517836 \r\nL 748.041946 86.581207 \r\nL 748.189546 86.581207 \r\nL 748.484746 86.454466 \r\nL 748.558546 86.517836 \r\nL 748.706145 86.391096 \r\nL 748.853745 86.517836 \r\nL 748.927545 86.137615 \r\nL 749.001345 86.771317 \r\nL 749.075145 86.200985 \r\nL 749.148945 86.581207 \r\nL 749.296545 86.137615 \r\nL 749.517944 86.200985 \r\nL 749.591744 86.010875 \r\nL 749.665544 86.327726 \r\nL 749.739344 85.947505 \r\nL 749.813144 86.074245 \r\nL 750.034543 85.884135 \r\nL 750.403543 85.820764 \r\nL 750.477343 85.630654 \r\nL 750.551143 85.820764 \r\nL 750.698742 85.630654 \r\nL 750.772542 85.567284 \r\nL 750.846342 85.694024 \r\nL 750.920142 85.503913 \r\nL 750.993942 85.630654 \r\nL 751.067742 85.503913 \r\nL 751.141542 85.567284 \r\nL 751.215342 85.630654 \r\nL 751.289141 85.503913 \r\nL 751.362941 85.757394 \r\nL 751.436741 85.377173 \r\nL 751.510541 85.630654 \r\nL 751.584341 85.313803 \r\nL 751.731941 85.503913 \r\nL 751.87954 85.313803 \r\nL 752.17474 85.377173 \r\nL 752.24854 85.187063 \r\nL 752.32234 85.313803 \r\nL 752.39614 85.060322 \r\nL 752.46994 85.187063 \r\nL 752.543739 85.060322 \r\nL 752.617539 85.123692 \r\nL 752.838939 85.060322 \r\nL 752.912739 85.060322 \r\nL 752.986539 84.870212 \r\nL 753.060339 84.996952 \r\nL 753.134138 84.743471 \r\nL 753.207938 84.806841 \r\nL 753.429338 84.806841 \r\nL 753.503138 84.616731 \r\nL 753.576938 84.680101 \r\nL 753.798337 84.553361 \r\nL 753.945937 84.553361 \r\nL 754.019737 84.42662 \r\nL 754.093537 84.553361 \r\nL 754.167337 84.48999 \r\nL 754.241137 84.36325 \r\nL 754.314937 84.42662 \r\nL 754.388737 84.42662 \r\nL 754.462536 84.29988 \r\nL 754.536336 84.36325 \r\nL 754.831536 84.17314 \r\nL 754.905336 84.29988 \r\nL 755.052935 84.109769 \r\nL 755.126735 84.17314 \r\nL 755.348135 83.919659 \r\nL 755.643335 83.919659 \r\nL 755.717134 83.792918 \r\nL 755.790934 83.919659 \r\nL 755.864734 83.666178 \r\nL 755.938534 83.729548 \r\nL 756.012334 83.729548 \r\nL 756.086134 83.602808 \r\nL 756.159934 83.666178 \r\nL 756.307534 83.476068 \r\nL 756.381333 83.666178 \r\nL 756.455133 83.476068 \r\nL 756.528933 83.539438 \r\nL 756.750333 83.349327 \r\nL 756.824133 83.539438 \r\nL 756.897933 83.349327 \r\nL 756.971732 83.476068 \r\nL 757.045532 83.412697 \r\nL 757.266932 83.159217 \r\nL 757.340732 83.349327 \r\nL 757.414532 83.095846 \r\nL 757.488332 83.285957 \r\nL 757.562132 83.095846 \r\nL 757.635931 83.349327 \r\nL 757.709731 82.969106 \r\nL 757.783531 83.222587 \r\nL 757.857331 83.159217 \r\nL 757.931131 83.285957 \r\nL 758.078731 83.095846 \r\nL 758.22633 83.032476 \r\nL 758.59533 82.778996 \r\nL 758.66913 83.032476 \r\nL 758.890529 82.652255 \r\nL 759.038129 82.715625 \r\nL 759.111929 82.525515 \r\nL 759.185729 82.588885 \r\nL 759.259529 82.525515 \r\nL 759.333329 82.652255 \r\nL 759.480929 82.462145 \r\nL 759.628528 82.398774 \r\nL 759.776128 82.462145 \r\nL 759.849928 82.272034 \r\nL 759.923728 82.335404 \r\nL 760.218927 81.891813 \r\nL 760.440327 82.208664 \r\nL 760.514127 82.272034 \r\nL 760.661727 82.145294 \r\nL 760.735527 82.145294 \r\nL 760.809326 82.018553 \r\nL 760.883126 82.208664 \r\nL 761.178326 81.701702 \r\nL 761.252126 81.828443 \r\nL 761.325926 81.574962 \r\nL 761.473525 81.955183 \r\nL 761.694925 81.891813 \r\nL 761.990125 81.891813 \r\nL 762.285324 81.194741 \r\nL 762.359124 81.638332 \r\nL 762.432924 81.194741 \r\nL 762.506724 81.574962 \r\nL 762.580524 81.194741 \r\nL 762.728123 81.574962 \r\nL 762.875723 81.574962 \r\nL 763.023323 81.574962 \r\nL 763.097123 81.131371 \r\nL 763.170923 81.448222 \r\nL 763.244723 80.94126 \r\nL 763.318522 81.384851 \r\nL 763.392322 80.87789 \r\nL 763.466122 81.384851 \r\nL 763.539922 80.81452 \r\nL 763.613722 81.384851 \r\nL 763.761322 81.00463 \r\nL 763.835122 80.94126 \r\nL 763.908922 80.624409 \r\nL 763.982721 80.87789 \r\nL 764.056521 80.624409 \r\nL 764.130321 81.00463 \r\nL 764.204121 80.687779 \r\nL 764.277921 80.81452 \r\nL 764.499321 80.624409 \r\nL 764.64692 80.81452 \r\nL 764.79452 80.687779 \r\nL 764.86832 80.687779 \r\nL 765.16352 80.307558 \r\nL 765.237319 80.497669 \r\nL 765.311119 80.370929 \r\nL 765.532519 80.561039 \r\nL 765.606319 80.117448 \r\nL 765.680119 80.370929 \r\nL 765.753919 80.244188 \r\nL 765.901518 80.370929 \r\nL 765.975318 80.117448 \r\nL 766.049118 80.307558 \r\nL 766.122918 79.990707 \r\nL 766.196718 80.370929 \r\nL 766.270518 79.863967 \r\nL 766.344318 80.307558 \r\nL 766.418118 79.737227 \r\nL 766.491917 80.244188 \r\nL 766.565717 79.673856 \r\nL 766.639517 79.800597 \r\nL 766.713317 79.863967 \r\nL 766.787117 79.610486 \r\nL 766.860917 80.180818 \r\nL 766.934717 79.673856 \r\nL 767.008517 80.180818 \r\nL 767.082317 79.673856 \r\nL 767.156116 80.054078 \r\nL 767.229916 79.610486 \r\nL 767.303716 79.990707 \r\nL 767.377516 79.547116 \r\nL 767.451316 79.927337 \r\nL 767.525116 79.547116 \r\nL 767.598916 79.863967 \r\nL 767.746516 79.547116 \r\nL 768.115515 79.547116 \r\nL 768.189315 79.420376 \r\nL 768.263115 79.863967 \r\nL 768.336915 79.420376 \r\nL 768.410714 79.610486 \r\nL 768.484514 79.483746 \r\nL 768.558314 79.547116 \r\nL 768.705914 79.610486 \r\nL 768.853514 79.230265 \r\nL 769.001114 79.357006 \r\nL 769.148713 79.357006 \r\nL 769.370113 79.420376 \r\nL 769.591513 79.357006 \r\nL 769.665312 79.420376 \r\nL 769.812912 79.230265 \r\nL 770.034312 79.293635 \r\nL 770.108112 79.293635 \r\nL 770.181912 79.040155 \r\nL 770.329511 79.230265 \r\nL 770.477111 79.230265 \r\nL 770.550911 79.230265 \r\nL 770.624711 78.913414 \r\nL 770.698511 79.166895 \r\nL 770.772311 78.913414 \r\nL 770.846111 79.040155 \r\nL 771.06751 78.976784 \r\nL 771.14131 78.850044 \r\nL 771.21511 78.976784 \r\nL 771.28891 78.913414 \r\nL 771.51031 78.913414 \r\nL 771.584109 78.723304 \r\nL 771.657909 78.913414 \r\nL 771.731709 78.659934 \r\nL 771.805509 78.913414 \r\nL 771.879309 78.723304 \r\nL 771.953109 78.786674 \r\nL 772.322108 78.533193 \r\nL 772.395908 78.659934 \r\nL 772.469708 78.596563 \r\nL 772.543508 78.659934 \r\nL 772.617308 78.533193 \r\nL 772.691108 78.596563 \r\nL 773.060107 78.343083 \r\nL 773.281507 78.469823 \r\nL 773.429107 78.279712 \r\nL 773.502906 78.343083 \r\nL 773.724306 78.026232 \r\nL 773.798106 78.216342 \r\nL 773.871906 78.026232 \r\nL 773.945706 78.152972 \r\nL 774.019506 77.962862 \r\nL 774.093306 78.026232 \r\nL 774.462305 77.836121 \r\nL 774.683705 77.899491 \r\nL 774.757504 77.772751 \r\nL 774.831304 77.899491 \r\nL 775.052704 77.58264 \r\nL 775.274104 77.709381 \r\nL 775.347904 77.646011 \r\nL 775.421703 77.772751 \r\nL 775.495503 77.58264 \r\nL 775.569303 77.709381 \r\nL 775.790703 77.51927 \r\nL 776.233502 77.4559 \r\nL 776.381102 77.39253 \r\nL 776.528702 77.39253 \r\nL 776.602502 77.32916 \r\nL 776.676301 77.51927 \r\nL 776.750101 77.26579 \r\nL 776.823901 77.51927 \r\nL 776.897701 77.26579 \r\nL 776.971501 77.39253 \r\nL 777.119101 77.26579 \r\nL 777.6357 77.32916 \r\nL 777.7095 77.075679 \r\nL 777.7833 77.26579 \r\nL 777.8571 77.202419 \r\nL 778.004699 77.26579 \r\nL 778.078499 77.139049 \r\nL 778.152299 77.26579 \r\nL 778.226099 77.075679 \r\nL 778.299899 77.26579 \r\nL 778.373699 77.012309 \r\nL 778.447499 77.26579 \r\nL 778.521299 76.948939 \r\nL 778.595098 77.139049 \r\nL 778.668898 76.885568 \r\nL 778.742698 77.202419 \r\nL 778.816498 77.075679 \r\nL 778.964098 77.075679 \r\nL 779.037898 76.885568 \r\nL 779.111698 77.075679 \r\nL 779.185498 76.822198 \r\nL 779.259297 77.075679 \r\nL 779.333097 76.822198 \r\nL 779.406897 77.075679 \r\nL 779.480697 76.822198 \r\nL 779.554497 77.012309 \r\nL 779.628297 76.822198 \r\nL 779.702097 76.948939 \r\nL 779.775897 76.885568 \r\nL 779.849696 76.822198 \r\nL 779.923496 76.948939 \r\nL 780.144896 76.758828 \r\nL 780.366296 76.822198 \r\nL 780.587695 76.758828 \r\nL 780.661495 76.885568 \r\nL 780.735295 76.822198 \r\nL 781.178094 76.758828 \r\nL 781.399494 76.695458 \r\nL 781.620894 76.632088 \r\nL 781.694694 76.568717 \r\nL 781.768493 76.695458 \r\nL 781.842293 76.632088 \r\nL 781.916093 76.568717 \r\nL 781.989893 76.695458 \r\nL 782.063693 76.568717 \r\nL 782.137493 76.695458 \r\nL 782.211293 76.568717 \r\nL 782.285093 76.695458 \r\nL 782.432692 76.568717 \r\nL 782.801692 76.505347 \r\nL 782.949292 76.505347 \r\nL 783.096891 76.505347 \r\nL 783.170691 76.378607 \r\nL 783.244491 76.505347 \r\nL 783.318291 76.315237 \r\nL 783.392091 76.505347 \r\nL 783.465891 76.315237 \r\nL 783.539691 76.378607 \r\nL 783.76109 76.188496 \r\nL 783.90869 76.251867 \r\nL 784.13009 76.188496 \r\nL 784.572889 76.125126 \r\nL 784.646689 75.998386 \r\nL 784.720489 76.061756 \r\nL 784.794289 76.061756 \r\nL 784.868089 75.935016 \r\nL 784.941888 75.998386 \r\nL 785.015688 75.935016 \r\nL 785.089488 76.061756 \r\nL 785.163288 75.871645 \r\nL 785.237088 76.125126 \r\nL 785.310888 75.871645 \r\nL 785.384688 76.125126 \r\nL 785.458488 75.808275 \r\nL 785.532288 75.935016 \r\nL 785.679887 75.808275 \r\nL 786.196486 75.744905 \r\nL 786.417886 75.618165 \r\nL 786.639286 75.681535 \r\nL 786.786886 75.618165 \r\nL 787.008285 75.554795 \r\nL 787.155885 75.618165 \r\nL 787.377285 75.491424 \r\nL 787.598684 75.554795 \r\nL 787.746284 75.491424 \r\nL 787.893884 75.491424 \r\nL 788.115283 75.428054 \r\nL 788.262883 75.428054 \r\nL 788.558083 75.428054 \r\nL 788.631883 75.301314 \r\nL 788.705683 75.428054 \r\nL 788.779482 75.364684 \r\nL 788.927082 75.428054 \r\nL 789.148482 75.301314 \r\nL 789.222282 75.428054 \r\nL 789.296082 75.301314 \r\nL 789.369882 75.428054 \r\nL 789.443681 75.301314 \r\nL 789.517481 75.428054 \r\nL 789.591281 75.364684 \r\nL 789.886481 75.364684 \r\nL 789.960281 75.237944 \r\nL 790.03408 75.428054 \r\nL 790.10788 75.174573 \r\nL 790.18168 75.364684 \r\nL 790.25548 75.174573 \r\nL 790.32928 75.364684 \r\nL 790.40308 75.111203 \r\nL 790.47688 75.364684 \r\nL 790.55068 75.174573 \r\nL 790.62448 75.237944 \r\nL 790.698279 75.111203 \r\nL 790.772079 75.174573 \r\nL 790.993479 75.174573 \r\nL 791.067279 75.047833 \r\nL 791.141079 75.174573 \r\nL 791.214879 74.921093 \r\nL 791.288678 75.174573 \r\nL 791.362478 74.921093 \r\nL 791.436278 75.174573 \r\nL 791.510078 74.921093 \r\nL 791.583878 75.111203 \r\nL 791.731478 74.921093 \r\nL 792.174277 74.857723 \r\nL 792.248077 75.047833 \r\nL 792.321877 74.794352 \r\nL 792.395677 74.984463 \r\nL 792.469477 74.857723 \r\nL 792.543277 74.921093 \r\nL 792.690876 74.857723 \r\nL 792.764676 74.921093 \r\nL 792.838476 74.794352 \r\nL 792.912276 74.984463 \r\nL 792.986076 74.794352 \r\nL 793.059876 74.984463 \r\nL 793.133676 74.730982 \r\nL 793.207475 74.921093 \r\nL 793.281275 74.730982 \r\nL 793.355075 74.857723 \r\nL 793.428875 74.730982 \r\nL 793.502675 74.794352 \r\nL 793.576475 74.857723 \r\nL 793.650275 74.667612 \r\nL 793.724075 74.857723 \r\nL 793.797875 74.604242 \r\nL 793.871674 74.857723 \r\nL 793.945474 74.540872 \r\nL 794.019274 74.730982 \r\nL 794.093074 74.540872 \r\nL 794.166874 74.604242 \r\nL 794.388274 74.540872 \r\nL 794.978673 74.477501 \r\nL 795.052473 74.287391 \r\nL 795.126272 74.477501 \r\nL 795.200072 74.350761 \r\nL 795.273872 74.414131 \r\nL 795.495272 74.477501 \r\nL 795.642872 74.414131 \r\nL 795.716672 74.477501 \r\nL 795.790471 74.287391 \r\nL 795.864271 74.350761 \r\nL 796.159471 73.97054 \r\nL 796.233271 74.287391 \r\nL 796.307071 73.97054 \r\nL 796.38087 74.224021 \r\nL 796.45467 73.97054 \r\nL 796.52847 74.224021 \r\nL 796.67607 73.97054 \r\nL 796.74987 74.03391 \r\nL 796.82367 73.8438 \r\nL 796.89747 74.03391 \r\nL 796.97127 73.780429 \r\nL 797.045069 74.09728 \r\nL 797.118869 73.717059 \r\nL 797.192669 74.09728 \r\nL 797.266469 73.717059 \r\nL 797.340269 73.97054 \r\nL 797.414069 73.717059 \r\nL 797.487869 73.8438 \r\nL 797.561669 73.717059 \r\nL 797.635469 73.780429 \r\nL 797.856868 73.717059 \r\nL 798.078268 73.653689 \r\nL 798.299667 73.526949 \r\nL 798.373467 73.780429 \r\nL 798.447267 73.463578 \r\nL 798.521067 73.8438 \r\nL 798.594867 73.400208 \r\nL 798.668667 73.717059 \r\nL 798.742467 73.400208 \r\nL 798.816267 73.653689 \r\nL 798.890067 73.463578 \r\nL 798.963866 73.526949 \r\nL 799.037666 73.526949 \r\nL 799.111466 73.400208 \r\nL 799.185266 73.590319 \r\nL 799.259066 73.400208 \r\nL 799.332866 73.463578 \r\nL 799.406666 73.336838 \r\nL 799.480466 73.463578 \r\nL 799.628065 73.336838 \r\nL 799.849465 73.400208 \r\nL 800.070865 73.336838 \r\nL 800.218464 73.273468 \r\nL 800.366064 73.273468 \r\nL 800.661264 73.083357 \r\nL 800.808864 73.083357 \r\nL 801.177863 73.083357 \r\nL 801.251663 72.893247 \r\nL 801.325463 73.083357 \r\nL 801.546862 72.893247 \r\nL 801.620662 72.956617 \r\nL 801.694462 72.829877 \r\nL 801.768262 72.956617 \r\nL 801.842062 72.829877 \r\nL 801.915862 72.956617 \r\nL 801.989662 72.766506 \r\nL 802.063462 72.829877 \r\nL 802.211061 72.766506 \r\nL 802.432461 72.829877 \r\nL 802.506261 72.703136 \r\nL 802.580061 72.766506 \r\nL 802.80146 72.703136 \r\nL 802.87526 72.766506 \r\nL 802.94906 72.639766 \r\nL 803.17046 72.829877 \r\nL 803.391859 72.576396 \r\nL 803.465659 72.703136 \r\nL 803.539459 72.513026 \r\nL 803.613259 72.576396 \r\nL 803.687059 72.639766 \r\nL 803.760859 72.513026 \r\nL 803.982259 72.703136 \r\nL 804.203658 72.513026 \r\nL 804.277458 72.639766 \r\nL 804.425058 72.513026 \r\nL 804.720257 72.513026 \r\nL 804.794057 72.639766 \r\nL 804.867857 72.513026 \r\nL 804.941657 72.639766 \r\nL 805.015457 72.513026 \r\nL 805.089257 72.639766 \r\nL 805.236857 72.513026 \r\nL 805.532056 72.449656 \r\nL 805.753456 72.386285 \r\nL 805.901056 72.386285 \r\nL 806.343855 72.386285 \r\nL 806.417655 72.259545 \r\nL 806.491455 72.322915 \r\nL 806.639054 72.322915 \r\nL 807.081854 72.259545 \r\nL 807.229453 72.259545 \r\nL 808.115052 72.196175 \r\nL 808.262652 72.196175 \r\nL 808.484051 72.259545 \r\nL 808.705451 72.132805 \r\nL 808.926851 72.196175 \r\nL 809.66485 72.132805 \r\nL 809.738649 72.006064 \r\nL 809.812449 72.196175 \r\nL 809.886249 72.006064 \r\nL 809.960049 72.259545 \r\nL 810.033849 72.069434 \r\nL 810.107649 72.132805 \r\nL 810.476648 72.069434 \r\nL 810.698048 72.006064 \r\nL 810.919448 72.069434 \r\nL 811.140847 72.006064 \r\nL 811.288447 72.006064 \r\nL 811.583647 72.006064 \r\nL 811.657446 71.815954 \r\nL 811.731246 71.942694 \r\nL 811.805046 71.752583 \r\nL 811.878846 71.879324 \r\nL 811.952646 71.815954 \r\nL 812.174046 71.879324 \r\nL 812.690645 71.815954 \r\nL 812.912044 71.752583 \r\nL 812.985844 71.879324 \r\nL 813.059644 71.752583 \r\nL 813.133444 71.879324 \r\nL 813.207244 71.752583 \r\nL 813.281044 71.815954 \r\nL 814.092843 71.815954 \r\nL 814.240442 71.689213 \r\nL 814.388042 71.752583 \r\nL 814.461842 71.879324 \r\nL 814.535642 71.752583 \r\nL 814.609442 71.879324 \r\nL 814.683242 71.689213 \r\nL 814.757042 71.879324 \r\nL 814.830841 71.689213 \r\nL 814.904641 71.879324 \r\nL 814.978441 71.562473 \r\nL 815.052241 71.689213 \r\nL 815.347441 71.499103 \r\nL 815.56884 71.625843 \r\nL 815.64264 71.499103 \r\nL 815.71644 71.689213 \r\nL 815.79024 71.562473 \r\nL 815.86404 71.689213 \r\nL 815.93784 71.499103 \r\nL 816.01164 71.689213 \r\nL 816.159239 71.499103 \r\nL 816.749638 71.435733 \r\nL 816.971038 71.372362 \r\nL 818.963635 71.308992 \r\nL 819.037435 71.245622 \r\nL 819.111235 71.372362 \r\nL 819.332634 71.182252 \r\nL 819.406434 71.308992 \r\nL 819.480234 71.118882 \r\nL 819.554034 71.245622 \r\nL 819.627834 71.055511 \r\nL 819.701634 71.118882 \r\nL 820.513433 71.182252 \r\nL 820.587232 70.865401 \r\nL 820.661032 71.182252 \r\nL 820.734832 70.865401 \r\nL 820.808632 71.182252 \r\nL 820.882432 70.928771 \r\nL 820.956232 71.055511 \r\nL 821.030032 71.055511 \r\nL 821.103832 70.928771 \r\nL 821.177631 71.055511 \r\nL 821.251431 70.865401 \r\nL 821.325231 70.992141 \r\nL 821.399031 70.865401 \r\nL 821.472831 70.992141 \r\nL 821.546631 70.865401 \r\nL 821.620431 70.992141 \r\nL 821.768031 70.865401 \r\nL 822.21083 70.865401 \r\nL 822.28463 70.738661 \r\nL 822.35843 70.865401 \r\nL 822.43223 70.802031 \r\nL 823.539228 70.802031 \r\nL 823.613028 70.67529 \r\nL 823.686828 70.738661 \r\nL 823.834427 70.738661 \r\nL 824.055827 70.738661 \r\nL 824.129627 70.61192 \r\nL 824.203427 70.802031 \r\nL 824.277227 70.61192 \r\nL 824.351026 70.802031 \r\nL 824.424826 70.61192 \r\nL 824.498626 70.738661 \r\nL 824.572426 70.61192 \r\nL 824.646226 70.738661 \r\nL 824.720026 70.61192 \r\nL 824.793826 70.67529 \r\nL 824.941426 70.67529 \r\nL 825.162825 70.67529 \r\nL 825.236625 70.54855 \r\nL 825.310425 70.61192 \r\nL 825.531825 70.54855 \r\nL 825.605625 70.61192 \r\nL 825.679424 70.42181 \r\nL 825.753224 70.738661 \r\nL 825.827024 70.42181 \r\nL 825.900824 70.802031 \r\nL 825.974624 70.42181 \r\nL 826.048424 70.67529 \r\nL 826.122224 70.42181 \r\nL 826.269823 70.61192 \r\nL 826.343623 70.42181 \r\nL 826.417423 70.61192 \r\nL 826.491223 70.358439 \r\nL 826.565023 70.67529 \r\nL 826.638823 70.358439 \r\nL 826.712623 70.67529 \r\nL 826.786423 70.42181 \r\nL 826.860223 70.61192 \r\nL 826.934022 70.358439 \r\nL 827.007822 70.48518 \r\nL 827.155422 70.358439 \r\nL 827.229222 70.54855 \r\nL 827.303022 70.358439 \r\nL 827.376822 70.54855 \r\nL 827.450622 70.358439 \r\nL 827.524422 70.54855 \r\nL 827.598221 70.231699 \r\nL 827.672021 70.54855 \r\nL 827.745821 70.231699 \r\nL 827.819621 70.48518 \r\nL 827.893421 70.231699 \r\nL 827.967221 70.42181 \r\nL 828.041021 70.358439 \r\nL 828.33622 70.168329 \r\nL 828.41002 70.295069 \r\nL 828.48382 70.168329 \r\nL 828.55762 70.358439 \r\nL 828.63142 70.168329 \r\nL 828.70522 70.358439 \r\nL 828.77902 70.041589 \r\nL 828.852819 70.42181 \r\nL 828.926619 70.041589 \r\nL 829.000419 70.358439 \r\nL 829.074219 70.041589 \r\nL 829.148019 70.168329 \r\nL 829.295619 69.978218 \r\nL 829.517018 70.104959 \r\nL 829.590818 69.978218 \r\nL 829.664618 70.168329 \r\nL 829.738418 69.978218 \r\nL 829.812218 70.168329 \r\nL 829.886018 69.978218 \r\nL 829.959818 70.041589 \r\nL 830.181217 69.978218 \r\nL 830.476417 69.978218 \r\nL 830.550217 69.851478 \r\nL 830.624017 70.104959 \r\nL 830.697817 69.851478 \r\nL 830.771616 70.168329 \r\nL 830.845416 69.851478 \r\nL 830.919216 70.041589 \r\nL 830.993016 69.851478 \r\nL 831.066816 69.914848 \r\nL 831.214416 69.851478 \r\nL 831.435815 69.914848 \r\nL 831.657215 69.851478 \r\nL 832.321414 69.788108 \r\nL 832.542814 69.724738 \r\nL 832.616613 69.788108 \r\nL 832.690413 69.661367 \r\nL 832.764213 69.851478 \r\nL 832.838013 69.661367 \r\nL 832.911813 69.851478 \r\nL 832.985613 69.661367 \r\nL 833.059413 69.724738 \r\nL 833.428412 69.661367 \r\nL 833.649812 69.597997 \r\nL 834.53541 69.534627 \r\nL 834.68301 69.534627 \r\nL 837.118406 69.471257 \r\nL 837.339806 69.407887 \r\nL 837.561206 69.471257 \r\nL 837.782605 69.407887 \r\nL 838.151605 69.407887 \r\nL 838.225405 69.281146 \r\nL 838.299205 69.407887 \r\nL 838.373004 69.344517 \r\nL 838.815804 69.344517 \r\nL 838.889604 69.217776 \r\nL 838.963404 69.407887 \r\nL 839.037203 69.217776 \r\nL 839.111003 69.407887 \r\nL 839.184803 69.217776 \r\nL 839.258603 69.344517 \r\nL 839.332403 69.281146 \r\nL 840.070402 69.217776 \r\nL 840.291801 69.154406 \r\nL 840.439401 69.154406 \r\nL 842.431998 69.154406 \r\nL 842.505798 69.027666 \r\nL 842.579598 69.091036 \r\nL 842.800997 69.027666 \r\nL 844.129395 68.964295 \r\nL 844.350795 68.900925 \r\nL 846.933791 68.837555 \r\nL 847.155191 68.710815 \r\nL 847.228991 68.837555 \r\nL 847.30279 68.647444 \r\nL 847.37659 68.900925 \r\nL 847.45039 68.647444 \r\nL 847.52419 68.837555 \r\nL 847.59799 68.647444 \r\nL 847.67179 68.710815 \r\nL 847.81939 68.584074 \r\nL 847.893189 68.710815 \r\nL 847.966989 68.647444 \r\nL 848.188389 68.710815 \r\nL 848.262189 68.584074 \r\nL 848.335989 68.710815 \r\nL 848.409789 68.647444 \r\nL 849.073988 68.584074 \r\nL 849.221587 68.520704 \r\nL 849.369187 68.520704 \r\nL 849.590587 68.457334 \r\nL 849.738187 68.584074 \r\nL 849.811986 68.457334 \r\nL 849.885786 68.520704 \r\nL 850.107186 68.457334 \r\nL 850.328586 68.520704 \r\nL 850.549985 68.457334 \r\nL 851.066584 68.393964 \r\nL 851.214184 68.330594 \r\nL 851.435584 68.393964 \r\nL 851.509384 68.267223 \r\nL 851.583184 68.330594 \r\nL 851.730783 68.330594 \r\nL 852.394982 68.267223 \r\nL 852.468782 68.140483 \r\nL 852.542582 68.267223 \r\nL 852.616382 68.203853 \r\nL 853.206781 68.140483 \r\nL 853.280581 68.013743 \r\nL 853.428181 68.140483 \r\nL 854.313779 68.077113 \r\nL 854.461379 68.013743 \r\nL 854.535179 68.140483 \r\nL 854.608979 68.013743 \r\nL 854.682779 68.077113 \r\nL 854.904178 68.013743 \r\nL 855.863577 67.950372 \r\nL 855.937377 67.823632 \r\nL 856.011177 67.950372 \r\nL 856.084977 67.887002 \r\nL 856.306376 67.950372 \r\nL 857.929974 67.887002 \r\nL 858.151373 67.823632 \r\nL 858.372773 67.887002 \r\nL 858.520373 67.887002 \r\nL 859.405971 67.823632 \r\nL 859.627371 67.760262 \r\nL 860.881969 67.696892 \r\nL 861.029569 67.633522 \r\nL 861.177169 67.633522 \r\nL 862.431767 67.570151 \r\nL 862.505566 67.380041 \r\nL 862.579366 67.633522 \r\nL 862.653166 67.380041 \r\nL 862.726966 67.570151 \r\nL 862.800766 67.506781 \r\nL 862.948366 67.506781 \r\nL 863.243565 67.506781 \r\nL 863.317365 67.380041 \r\nL 863.391165 67.443411 \r\nL 863.538765 67.443411 \r\nL 864.202964 67.380041 \r\nL 864.424363 67.316671 \r\nL 864.645763 67.380041 \r\nL 864.867163 67.316671 \r\nL 865.088562 67.380041 \r\nL 865.162362 67.380041 \r\nL 865.236162 67.2533 \r\nL 865.309962 67.380041 \r\nL 865.383762 67.2533 \r\nL 865.457562 67.380041 \r\nL 865.531362 67.18993 \r\nL 865.605162 67.380041 \r\nL 865.678962 67.2533 \r\nL 865.752761 67.380041 \r\nL 865.826561 67.18993 \r\nL 865.900361 67.380041 \r\nL 865.974161 67.18993 \r\nL 866.047961 67.380041 \r\nL 866.121761 67.18993 \r\nL 866.195561 67.2533 \r\nL 866.269361 67.380041 \r\nL 866.34316 67.18993 \r\nL 866.41696 67.380041 \r\nL 866.49076 67.18993 \r\nL 866.56456 67.380041 \r\nL 866.63836 67.18993 \r\nL 866.71216 67.380041 \r\nL 866.78596 67.18993 \r\nL 866.85976 67.316671 \r\nL 866.93356 67.18993 \r\nL 867.007359 67.380041 \r\nL 867.081159 67.18993 \r\nL 867.154959 67.316671 \r\nL 867.302559 67.18993 \r\nL 867.745358 67.18993 \r\nL 867.819158 67.316671 \r\nL 867.892958 67.18993 \r\nL 867.966758 67.2533 \r\nL 868.188158 67.18993 \r\nL 868.335757 67.18993 \r\nL 874.387348 67.12656 \r\nL 874.608747 67.06319 \r\nL 878.741541 66.99982 \r\nL 878.815341 66.873079 \r\nL 878.889141 66.99982 \r\nL 878.962941 66.873079 \r\nL 879.03674 66.99982 \r\nL 879.11054 66.873079 \r\nL 879.18434 66.99982 \r\nL 879.25814 66.873079 \r\nL 879.33194 66.99982 \r\nL 879.40574 66.93645 \r\nL 879.62714 66.99982 \r\nL 879.774739 66.873079 \r\nL 879.996139 66.93645 \r\nL 880.217539 66.809709 \r\nL 880.291339 66.93645 \r\nL 880.365138 66.809709 \r\nL 880.438938 66.93645 \r\nL 880.586538 66.746339 \r\nL 881.324537 66.746339 \r\nL 881.398337 66.619599 \r\nL 881.472137 66.746339 \r\nL 881.545937 66.619599 \r\nL 881.619736 66.682969 \r\nL 883.686133 66.619599 \r\nL 883.833733 66.619599 \r\nL 885.235931 66.556228 \r\nL 885.45733 66.492858 \r\nL 889.368724 66.429488 \r\nL 889.590124 66.366118 \r\nL 889.811524 66.429488 \r\nL 891.361321 66.366118 \r\nL 891.582721 66.302748 \r\nL 891.80412 66.366118 \r\nL 892.02552 66.302748 \r\nL 892.24692 66.366118 \r\nL 895.936914 66.366118 \r\nL 896.010714 66.239377 \r\nL 896.084514 66.366118 \r\nL 896.158314 66.302748 \r\nL 896.232113 66.366118 \r\nL 896.305913 66.239377 \r\nL 896.379713 66.302748 \r\nL 896.601113 66.239377 \r\nL 896.896312 66.239377 \r\nL 896.970112 66.112637 \r\nL 897.043912 66.239377 \r\nL 897.191512 66.112637 \r\nL 903.021703 66.049267 \r\nL 903.243102 65.922527 \r\nL 903.316902 66.049267 \r\nL 903.390702 65.922527 \r\nL 903.538302 66.049267 \r\nL 903.981101 65.985897 \r\nL 904.202501 65.922527 \r\nL 904.423901 65.985897 \r\nL 904.6453 65.985897 \r\nL 904.7191 65.859156 \r\nL 904.7929 65.985897 \r\nL 904.8667 65.922527 \r\nL 904.9405 65.985897 \r\nL 905.0143 65.859156 \r\nL 905.0881 65.985897 \r\nL 905.161899 65.859156 \r\nL 905.235699 65.985897 \r\nL 905.309499 65.922527 \r\nL 905.383299 65.985897 \r\nL 905.530899 65.859156 \r\nL 905.678499 65.922527 \r\nL 905.752298 65.985897 \r\nL 905.826098 65.859156 \r\nL 905.899898 65.985897 \r\nL 905.973698 65.859156 \r\nL 906.047498 65.985897 \r\nL 906.121298 65.859156 \r\nL 906.195098 65.985897 \r\nL 906.268898 65.859156 \r\nL 906.342698 65.985897 \r\nL 906.416497 65.859156 \r\nL 906.490297 65.985897 \r\nL 906.637897 65.859156 \r\nL 907.302096 65.859156 \r\nL 907.375896 65.985897 \r\nL 907.449696 65.859156 \r\nL 907.523496 65.922527 \r\nL 907.597296 65.859156 \r\nL 907.671095 65.985897 \r\nL 907.818695 65.859156 \r\nL 910.254091 65.795786 \r\nL 910.401691 65.795786 \r\nL 912.172888 65.795786 \r\nL 912.246688 65.669046 \r\nL 912.320488 65.795786 \r\nL 912.394288 65.732416 \r\nL 912.541888 65.795786 \r\nL 912.763287 65.669046 \r\nL 912.837087 65.795786 \r\nL 912.910887 65.669046 \r\nL 912.984687 65.795786 \r\nL 913.058487 65.669046 \r\nL 913.132287 65.795786 \r\nL 913.206087 65.669046 \r\nL 913.279887 65.795786 \r\nL 913.501286 65.605676 \r\nL 913.575086 65.732416 \r\nL 913.648886 65.605676 \r\nL 913.722686 65.732416 \r\nL 913.796486 65.605676 \r\nL 913.870286 65.669046 \r\nL 914.091685 65.605676 \r\nL 914.313085 65.669046 \r\nL 914.534485 65.605676 \r\nL 914.755884 65.669046 \r\nL 914.977284 65.605676 \r\nL 915.124884 65.605676 \r\nL 920.438475 65.542305 \r\nL 920.659875 65.478935 \r\nL 920.881275 65.542305 \r\nL 921.693073 65.478935 \r\nL 921.840673 65.478935 \r\nL 921.914473 65.478935 \r\nL 921.988273 65.352195 \r\nL 922.062073 65.415565 \r\nL 922.209673 65.352195 \r\nL 922.357272 65.415565 \r\nL 922.504872 65.415565 \r\nL 923.242871 65.352195 \r\nL 923.464271 65.288825 \r\nL 924.497469 65.225455 \r\nL 924.497469 65.225455 \r\n\" style=\"fill:none;stroke:#1f77b4;stroke-linecap:square;stroke-width:1.5;\"/>\r\n   </g>\r\n   <g id=\"patch_9\">\r\n    <path d=\"M 537.125568 376.56 \r\nL 537.125568 50.4 \r\n\" style=\"fill:none;stroke:#000000;stroke-linecap:square;stroke-linejoin:miter;stroke-width:0.8;\"/>\r\n   </g>\r\n   <g id=\"patch_10\">\r\n    <path d=\"M 942.94375 376.56 \r\nL 942.94375 50.4 \r\n\" style=\"fill:none;stroke:#000000;stroke-linecap:square;stroke-linejoin:miter;stroke-width:0.8;\"/>\r\n   </g>\r\n   <g id=\"patch_11\">\r\n    <path d=\"M 537.125568 376.56 \r\nL 942.94375 376.56 \r\n\" style=\"fill:none;stroke:#000000;stroke-linecap:square;stroke-linejoin:miter;stroke-width:0.8;\"/>\r\n   </g>\r\n   <g id=\"patch_12\">\r\n    <path d=\"M 537.125568 50.4 \r\nL 942.94375 50.4 \r\n\" style=\"fill:none;stroke:#000000;stroke-linecap:square;stroke-linejoin:miter;stroke-width:0.8;\"/>\r\n   </g>\r\n   <g id=\"legend_2\">\r\n    <g id=\"patch_13\">\r\n     <path d=\"M 544.125568 73.078125 \r\nL 599.400568 73.078125 \r\nQ 601.400568 73.078125 601.400568 71.078125 \r\nL 601.400568 57.4 \r\nQ 601.400568 55.4 599.400568 55.4 \r\nL 544.125568 55.4 \r\nQ 542.125568 55.4 542.125568 57.4 \r\nL 542.125568 71.078125 \r\nQ 542.125568 73.078125 544.125568 73.078125 \r\nz\r\n\" style=\"fill:#ffffff;opacity:0.8;stroke:#cccccc;stroke-linejoin:miter;\"/>\r\n    </g>\r\n    <g id=\"line2d_32\">\r\n     <path d=\"M 546.125568 63.498437 \r\nL 566.125568 63.498437 \r\n\" style=\"fill:none;stroke:#1f77b4;stroke-linecap:square;stroke-width:1.5;\"/>\r\n    </g>\r\n    <g id=\"line2d_33\"/>\r\n    <g id=\"text_33\">\r\n     <!-- train -->\r\n     <g transform=\"translate(574.125568 66.998437)scale(0.1 -0.1)\">\r\n      <use xlink:href=\"#DejaVuSans-116\"/>\r\n      <use x=\"39.208984\" xlink:href=\"#DejaVuSans-114\"/>\r\n      <use x=\"80.322266\" xlink:href=\"#DejaVuSans-97\"/>\r\n      <use x=\"141.601562\" xlink:href=\"#DejaVuSans-105\"/>\r\n      <use x=\"169.384766\" xlink:href=\"#DejaVuSans-110\"/>\r\n     </g>\r\n    </g>\r\n   </g>\r\n  </g>\r\n  <g id=\"text_34\">\r\n   <!-- Loss and accuracy -->\r\n   <g transform=\"translate(426.809687 16.318125)scale(0.12 -0.12)\">\r\n    <defs>\r\n     <path d=\"M 9.8125 72.90625 \r\nL 19.671875 72.90625 \r\nL 19.671875 8.296875 \r\nL 55.171875 8.296875 \r\nL 55.171875 0 \r\nL 9.8125 0 \r\nz\r\n\" id=\"DejaVuSans-76\"/>\r\n     <path d=\"M 45.40625 46.390625 \r\nL 45.40625 75.984375 \r\nL 54.390625 75.984375 \r\nL 54.390625 0 \r\nL 45.40625 0 \r\nL 45.40625 8.203125 \r\nQ 42.578125 3.328125 38.25 0.953125 \r\nQ 33.9375 -1.421875 27.875 -1.421875 \r\nQ 17.96875 -1.421875 11.734375 6.484375 \r\nQ 5.515625 14.40625 5.515625 27.296875 \r\nQ 5.515625 40.1875 11.734375 48.09375 \r\nQ 17.96875 56 27.875 56 \r\nQ 33.9375 56 38.25 53.625 \r\nQ 42.578125 51.265625 45.40625 46.390625 \r\nz\r\nM 14.796875 27.296875 \r\nQ 14.796875 17.390625 18.875 11.75 \r\nQ 22.953125 6.109375 30.078125 6.109375 \r\nQ 37.203125 6.109375 41.296875 11.75 \r\nQ 45.40625 17.390625 45.40625 27.296875 \r\nQ 45.40625 37.203125 41.296875 42.84375 \r\nQ 37.203125 48.484375 30.078125 48.484375 \r\nQ 22.953125 48.484375 18.875 42.84375 \r\nQ 14.796875 37.203125 14.796875 27.296875 \r\nz\r\n\" id=\"DejaVuSans-100\"/>\r\n    </defs>\r\n    <use xlink:href=\"#DejaVuSans-76\"/>\r\n    <use x=\"53.962891\" xlink:href=\"#DejaVuSans-111\"/>\r\n    <use x=\"115.144531\" xlink:href=\"#DejaVuSans-115\"/>\r\n    <use x=\"167.244141\" xlink:href=\"#DejaVuSans-115\"/>\r\n    <use x=\"219.34375\" xlink:href=\"#DejaVuSans-32\"/>\r\n    <use x=\"251.130859\" xlink:href=\"#DejaVuSans-97\"/>\r\n    <use x=\"312.410156\" xlink:href=\"#DejaVuSans-110\"/>\r\n    <use x=\"375.789062\" xlink:href=\"#DejaVuSans-100\"/>\r\n    <use x=\"439.265625\" xlink:href=\"#DejaVuSans-32\"/>\r\n    <use x=\"471.052734\" xlink:href=\"#DejaVuSans-97\"/>\r\n    <use x=\"532.332031\" xlink:href=\"#DejaVuSans-99\"/>\r\n    <use x=\"587.3125\" xlink:href=\"#DejaVuSans-99\"/>\r\n    <use x=\"642.292969\" xlink:href=\"#DejaVuSans-117\"/>\r\n    <use x=\"705.671875\" xlink:href=\"#DejaVuSans-114\"/>\r\n    <use x=\"746.785156\" xlink:href=\"#DejaVuSans-97\"/>\r\n    <use x=\"808.064453\" xlink:href=\"#DejaVuSans-99\"/>\r\n    <use x=\"863.044922\" xlink:href=\"#DejaVuSans-121\"/>\r\n   </g>\r\n  </g>\r\n </g>\r\n <defs>\r\n  <clipPath id=\"p3d984e7af3\">\r\n   <rect height=\"326.16\" width=\"405.818182\" x=\"50.14375\" y=\"50.4\"/>\r\n  </clipPath>\r\n  <clipPath id=\"p8ef4f52973\">\r\n   <rect height=\"326.16\" width=\"405.818182\" x=\"537.125568\" y=\"50.4\"/>\r\n  </clipPath>\r\n </defs>\r\n</svg>\r\n",
      "image/png": "[encoded data removed]"
     },
     "metadata": {
      "needs_background": "light"
     }
    }
   ],
   "source": [
    "plot_loss_and_accuracy(losses, accs)"
   ]
  },
  {
   "source": [
    "#### Salvando o modelo"
   ],
   "cell_type": "markdown",
   "metadata": {}
  },
  {
   "cell_type": "code",
   "execution_count": 37,
   "metadata": {},
   "outputs": [],
   "source": [
    "torch.save(Model, cwd+\"/../../models/emotions_classifier.pth\")"
   ]
  },
  {
   "source": [
    "#### Salvando o dict"
   ],
   "cell_type": "markdown",
   "metadata": {}
  },
  {
   "cell_type": "code",
   "execution_count": 38,
   "metadata": {},
   "outputs": [],
   "source": [
    "torch.save(Model.state_dict(), cwd+\"/../../dicts/emotions_classifier_dict\")"
   ]
  },
  {
   "cell_type": "code",
   "execution_count": 39,
   "metadata": {},
   "outputs": [
    {
     "output_type": "execute_result",
     "data": {
      "text/plain": [
       "moodClassifier(\n",
       "  (embedding): Sequential(\n",
       "    (0): Torch_Mean_Layer()\n",
       "  )\n",
       "  (ann): Sequential(\n",
       "    (0): Linear(in_features=100, out_features=500, bias=True)\n",
       "    (1): ReLU(inplace=True)\n",
       "    (2): Linear(in_features=500, out_features=6, bias=True)\n",
       "  )\n",
       "  (soft): Sequential(\n",
       "    (0): LogSoftmax(dim=1)\n",
       "  )\n",
       ")"
      ]
     },
     "metadata": {},
     "execution_count": 39
    }
   ],
   "source": [
    "model = torch.load(cwd+\"/../../models/emotions_classifier.pth\")\n",
    "model.eval()"
   ]
  },
  {
   "cell_type": "code",
   "execution_count": 40,
   "metadata": {},
   "outputs": [
    {
     "output_type": "execute_result",
     "data": {
      "text/plain": [
       "LSTM(3, 5, batch_first=True)"
      ]
     },
     "metadata": {},
     "execution_count": 40
    }
   ],
   "source": [
    "input_size  = 3 # tamanho do embedding: número de dimensões da entrada\n",
    "hidden_size = 5 # arbitrário: número de dimensões da saída da camada\n",
    "num_layers  = 1 # número de LSTMs em cascata \n",
    "# (cada saída h_t de uma hidden-layer é uma entrada na próxima camada, para t = 2, ... , seq_len)\n",
    "\n",
    "lstm = nn.LSTM(input_size=input_size,\n",
    "               hidden_size=hidden_size, \n",
    "               num_layers=num_layers, \n",
    "               batch_first=True) # primeira dimensão é o tamanho da batch (num. de exemplos)\n",
    "lstm"
   ]
  },
  {
   "cell_type": "code",
   "execution_count": 41,
   "metadata": {},
   "outputs": [
    {
     "output_type": "stream",
     "name": "stdout",
     "text": [
      "torch.Size([2, 10, 3]) torch.Size([1, 2, 5]) torch.Size([1, 2, 5])\n\ntensor([[[-0.1357,  1.5635, -0.2681],\n         [ 0.3040, -0.6824, -0.6212],\n         [-1.2098,  0.5869,  0.2462],\n         [ 1.3038,  0.1025, -0.9759],\n         [-0.3976,  1.0544,  0.6244],\n         [ 1.1182,  0.7386, -0.7173],\n         [-0.3684,  0.5446,  0.9168],\n         [-0.7652,  0.4203,  0.0629],\n         [-0.6541,  0.1509,  1.6619],\n         [ 0.1490,  0.5265, -0.0233]],\n\n        [[ 0.2093, -0.8682, -0.2156],\n         [ 1.0075, -0.1843, -0.8041],\n         [ 0.7094,  0.2445, -1.6516],\n         [-0.3902, -0.4557,  0.3327],\n         [ 0.4388,  1.4196,  1.5332],\n         [-0.6849, -1.3821,  1.0165],\n         [ 0.4395,  0.3294,  0.9789],\n         [ 1.6332,  0.4142,  0.7212],\n         [-1.4107, -0.0602,  2.2209],\n         [-0.3681, -0.5372,  0.8070]]])\ntensor([[[0., 0., 0., 0., 0.],\n         [0., 0., 0., 0., 0.]]])\ntensor([[[0., 0., 0., 0., 0.],\n         [0., 0., 0., 0., 0.]]])\n"
     ]
    }
   ],
   "source": [
    "seq_len = 10   # tamanho da sequência\n",
    "batch_size = 2 # num. de exemplos \n",
    "\n",
    "x  = torch.randn( size = (batch_size, seq_len, input_size) ) # 1 exemplo com 10 vetores de 3 dims.\n",
    "h0 = torch.zeros( size = (num_layers, batch_size, hidden_size) ) # hidden-state inicial de cada ex\n",
    "c0 = torch.zeros( size = (num_layers, batch_size, hidden_size) ) # cell-state inicial de cada ex\n",
    "\n",
    "print(x.shape, \n",
    "      h0.shape, \n",
    "      c0.shape, end=2*'\\n')\n",
    "print(*[x,h0,c0], sep='\\n')"
   ]
  },
  {
   "cell_type": "code",
   "execution_count": 42,
   "metadata": {},
   "outputs": [],
   "source": [
    "y, (h_n, c_n) = lstm(x, (h0,c0))"
   ]
  },
  {
   "cell_type": "code",
   "execution_count": 43,
   "metadata": {},
   "outputs": [
    {
     "output_type": "stream",
     "name": "stdout",
     "text": [
      "torch.Size([2, 10, 5]) torch.Size([1, 2, 5]) torch.Size([1, 2, 5])\n"
     ]
    }
   ],
   "source": [
    "print(y.shape, h_n.shape, c_n.shape)"
   ]
  },
  {
   "cell_type": "code",
   "execution_count": 44,
   "metadata": {},
   "outputs": [
    {
     "output_type": "stream",
     "name": "stdout",
     "text": [
      "tensor([[[ 0.0810,  0.0305, -0.0418,  0.1029,  0.0525],\n         [ 0.0081, -0.1386,  0.0628,  0.1213,  0.1562],\n         [-0.0175, -0.0449, -0.0146,  0.1221,  0.0673],\n         [ 0.0374, -0.1290,  0.0873,  0.1239,  0.2678],\n         [ 0.0079, -0.0806,  0.0569,  0.1423,  0.1485],\n         [ 0.1173, -0.1033,  0.1060,  0.1361,  0.2601],\n         [-0.0067, -0.1264,  0.1087,  0.1416,  0.1589],\n         [-0.0292, -0.0732,  0.0485,  0.1293,  0.1052],\n         [-0.0980, -0.1068,  0.0603,  0.0904,  0.1233],\n         [-0.1245, -0.0967,  0.0690,  0.1134,  0.1905]],\n\n        [[-0.1535, -0.1708,  0.1037,  0.0416,  0.1392],\n         [-0.1628, -0.1720,  0.1615,  0.1015,  0.2528],\n         [-0.0171, -0.1438,  0.1157,  0.1442,  0.1502],\n         [-0.1271, -0.2668,  0.1210,  0.1571,  0.1272],\n         [-0.0605, -0.0960,  0.1173,  0.1253,  0.2143],\n         [-0.2473, -0.2584,  0.1960,  0.1004,  0.1275],\n         [-0.2212, -0.1698,  0.1937,  0.1049,  0.2491],\n         [-0.2729, -0.1826,  0.2659,  0.1192,  0.3738],\n         [-0.1566, -0.2083,  0.1592,  0.0932,  0.1070],\n         [-0.2979, -0.2038,  0.1887,  0.0771,  0.1836]]],\n       grad_fn=<TransposeBackward0>)\ntensor([[[-0.1245, -0.0967,  0.0690,  0.1134,  0.1905],\n         [-0.2979, -0.2038,  0.1887,  0.0771,  0.1836]]],\n       grad_fn=<StackBackward>)\ntensor([[[-0.3247, -0.2827,  0.1376,  0.3336,  0.4353],\n         [-1.0086, -0.4017,  0.3940,  0.1695,  0.7128]]],\n       grad_fn=<StackBackward>)\n"
     ]
    }
   ],
   "source": [
    "print(*[y, h_n, c_n], sep='\\n')"
   ]
  },
  {
   "cell_type": "code",
   "execution_count": 45,
   "metadata": {},
   "outputs": [
    {
     "output_type": "execute_result",
     "data": {
      "text/plain": [
       "torch.Size([2, 1, 5])"
      ]
     },
     "metadata": {},
     "execution_count": 45
    }
   ],
   "source": [
    "h_n.transpose(1,0).shape"
   ]
  },
  {
   "cell_type": "code",
   "execution_count": 46,
   "metadata": {},
   "outputs": [],
   "source": [
    "class moodClassifierWithLasersOnSteroids(nn.Module):\n",
    "  '''Modelo classificador de emoções com LSTMs.\n",
    "  '''\n",
    "\n",
    "  # ----------------------------------------------#\n",
    "  # Método construtor\n",
    "  def __init__(self, dim_embed, n_units_lstm, n_units_linear): \n",
    "    super().__init__()  \n",
    "\n",
    "    embedding_seq = [] # \n",
    "    ann_seq       = [] # \n",
    "    soft_seq      = []\n",
    "\n",
    "    #---------------------------------------------------------------#\n",
    "    # Embedding step: sequência de operações para converter X --> h\n",
    "    embedding_seq.append(nn.LSTM(input_size=dim_embed,\n",
    "                                  hidden_size=n_units_lstm, \n",
    "                                  num_layers=1,\n",
    "                                  batch_first=True))\n",
    "    #---------------------------------------------------------------#\n",
    "\n",
    "    #--------------------------------------------------------------------------#\n",
    "    # ANN: Rede Neural Artifical Tradicional, com regressão logística na saída\n",
    "    ann_seq.append(nn.Linear(n_units_lstm, n_units_linear))\n",
    "    ann_seq.append(nn.ReLU(inplace=True))\n",
    "    ann_seq.append(nn.Linear(n_units_linear, 6))\n",
    "    \n",
    "    #--------------------------------------------------------------------------#\n",
    "    # Softmax :)\n",
    "    soft_seq.append(nn.LogSoftmax(dim=1))\n",
    "\n",
    "    #--------------------------------------------------------------------------#\n",
    "\n",
    "    #--------------------------------------------------------------------------#\n",
    "    # \"merge\" de todas as camamadas em uma layer sequencial \n",
    "    # (uma sequência para cada etapa)\n",
    "    self.embedding = nn.Sequential(*embedding_seq)     # etapa de embedding \n",
    "    self.ann       = nn.Sequential(*ann_seq)           # etapa ANN\n",
    "    self.soft      = nn.Sequential(*soft_seq)\n",
    "    #--------------------------------------------------------------------------#\n",
    "\n",
    "\n",
    "  def forward(self, x): \n",
    "    '''Processamento realizado ao chamar y=modelo(x)\n",
    "    '''\n",
    "    _, (x, _) = self.embedding(x)  # aplica a etapa de embedding\n",
    "    x = x.transpose(1,0)   # inverte dimensões (força \"batch first\" no hidden state)\n",
    "    x = self.ann(x)        # passa o embedding médio pelas camadas da ANN\n",
    "    x = x.view(-1,6)\n",
    "    x = self.soft(x)\n",
    "    return x  "
   ]
  },
  {
   "cell_type": "code",
   "execution_count": 47,
   "metadata": {
    "tags": [
     "outputPrepend"
    ]
   },
   "outputs": [
    {
     "output_type": "stream",
     "name": "stdout",
     "text": [
      "432\n",
      "epoch: 1338  loss: 0.05154763\n",
      "epoch: 1339  loss: 0.05153096\n",
      "epoch: 1340  loss: 0.05151436\n",
      "epoch: 1341  loss: 0.05149780\n",
      "epoch: 1342  loss: 0.05148128\n",
      "epoch: 1343  loss: 0.05146480\n",
      "epoch: 1344  loss: 0.05144840\n",
      "epoch: 1345  loss: 0.05143203\n",
      "epoch: 1346  loss: 0.05141571\n",
      "epoch: 1347  loss: 0.05139944\n",
      "epoch: 1348  loss: 0.05138319\n",
      "epoch: 1349  loss: 0.05136703\n",
      "epoch: 1350  loss: 0.05135090\n",
      "epoch: 1351  loss: 0.05133480\n",
      "epoch: 1352  loss: 0.05131875\n",
      "epoch: 1353  loss: 0.05130273\n",
      "epoch: 1354  loss: 0.05128678\n",
      "epoch: 1355  loss: 0.05127086\n",
      "epoch: 1356  loss: 0.05125501\n",
      "epoch: 1357  loss: 0.05123918\n",
      "epoch: 1358  loss: 0.05122338\n",
      "epoch: 1359  loss: 0.05120764\n",
      "epoch: 1360  loss: 0.05119196\n",
      "epoch: 1361  loss: 0.05117631\n",
      "epoch: 1362  loss: 0.05116073\n",
      "epoch: 1363  loss: 0.05114518\n",
      "epoch: 1364  loss: 0.05112966\n",
      "epoch: 1365  loss: 0.05111420\n",
      "epoch: 1366  loss: 0.05109877\n",
      "epoch: 1367  loss: 0.05108337\n",
      "epoch: 1368  loss: 0.05106805\n",
      "epoch: 1369  loss: 0.05105271\n",
      "epoch: 1370  loss: 0.05103745\n",
      "epoch: 1371  loss: 0.05102218\n",
      "epoch: 1372  loss: 0.05100697\n",
      "epoch: 1373  loss: 0.05099179\n",
      "epoch: 1374  loss: 0.05097666\n",
      "epoch: 1375  loss: 0.05096158\n",
      "epoch: 1376  loss: 0.05094651\n",
      "epoch: 1377  loss: 0.05093149\n",
      "epoch: 1378  loss: 0.05091655\n",
      "epoch: 1379  loss: 0.05090159\n",
      "epoch: 1380  loss: 0.05088674\n",
      "epoch: 1381  loss: 0.05087187\n",
      "epoch: 1382  loss: 0.05085703\n",
      "epoch: 1383  loss: 0.05084226\n",
      "epoch: 1384  loss: 0.05082750\n",
      "epoch: 1385  loss: 0.05081278\n",
      "epoch: 1386  loss: 0.05079814\n",
      "epoch: 1387  loss: 0.05078351\n",
      "epoch: 1388  loss: 0.05076895\n",
      "epoch: 1389  loss: 0.05075438\n",
      "epoch: 1390  loss: 0.05073992\n",
      "epoch: 1391  loss: 0.05072540\n",
      "epoch: 1392  loss: 0.05071102\n",
      "epoch: 1393  loss: 0.05069654\n",
      "epoch: 1394  loss: 0.05068221\n",
      "epoch: 1395  loss: 0.05066790\n",
      "epoch: 1396  loss: 0.05065361\n",
      "epoch: 1397  loss: 0.05063941\n",
      "epoch: 1398  loss: 0.05062521\n",
      "epoch: 1399  loss: 0.05061105\n",
      "epoch: 1400  loss: 0.05059691\n",
      "epoch: 1401  loss: 0.05058281\n",
      "epoch: 1402  loss: 0.05056879\n",
      "epoch: 1403  loss: 0.05055477\n",
      "epoch: 1404  loss: 0.05054082\n",
      "epoch: 1405  loss: 0.05052686\n",
      "epoch: 1406  loss: 0.05051297\n",
      "epoch: 1407  loss: 0.05049911\n",
      "epoch: 1408  loss: 0.05048531\n",
      "epoch: 1409  loss: 0.05047147\n",
      "epoch: 1410  loss: 0.05045781\n",
      "epoch: 1411  loss: 0.05044406\n",
      "epoch: 1412  loss: 0.05043034\n",
      "epoch: 1413  loss: 0.05041678\n",
      "epoch: 1414  loss: 0.05040308\n",
      "epoch: 1415  loss: 0.05038958\n",
      "epoch: 1416  loss: 0.05037594\n",
      "epoch: 1417  loss: 0.05036246\n",
      "epoch: 1418  loss: 0.05034895\n",
      "epoch: 1419  loss: 0.05033552\n",
      "epoch: 1420  loss: 0.05032209\n",
      "epoch: 1421  loss: 0.05030870\n",
      "epoch: 1422  loss: 0.05029538\n",
      "epoch: 1423  loss: 0.05028206\n",
      "epoch: 1424  loss: 0.05026882\n",
      "epoch: 1425  loss: 0.05025560\n",
      "epoch: 1426  loss: 0.05024240\n",
      "epoch: 1427  loss: 0.05022924\n",
      "epoch: 1428  loss: 0.05021613\n",
      "epoch: 1429  loss: 0.05020306\n",
      "epoch: 1430  loss: 0.05018999\n",
      "epoch: 1431  loss: 0.05017694\n",
      "epoch: 1432  loss: 0.05016395\n",
      "epoch: 1433  loss: 0.05015102\n",
      "epoch: 1434  loss: 0.05013809\n",
      "epoch: 1435  loss: 0.05012520\n",
      "epoch: 1436  loss: 0.05011233\n",
      "epoch: 1437  loss: 0.05009956\n",
      "epoch: 1438  loss: 0.05008677\n",
      "epoch: 1439  loss: 0.05007403\n",
      "epoch: 1440  loss: 0.05006129\n",
      "epoch: 1441  loss: 0.05004862\n",
      "epoch: 1442  loss: 0.05003593\n",
      "epoch: 1443  loss: 0.05002333\n",
      "epoch: 1444  loss: 0.05001069\n",
      "epoch: 1445  loss: 0.04999813\n",
      "epoch: 1446  loss: 0.04998558\n",
      "epoch: 1447  loss: 0.04997312\n",
      "epoch: 1448  loss: 0.04996058\n",
      "epoch: 1449  loss: 0.04994814\n",
      "epoch: 1450  loss: 0.04993573\n",
      "epoch: 1451  loss: 0.04992334\n",
      "epoch: 1452  loss: 0.04991082\n",
      "epoch: 1453  loss: 0.04989823\n",
      "epoch: 1454  loss: 0.04988547\n",
      "epoch: 1455  loss: 0.04987289\n",
      "epoch: 1456  loss: 0.04986002\n",
      "epoch: 1457  loss: 0.04984741\n",
      "epoch: 1458  loss: 0.04983453\n",
      "epoch: 1459  loss: 0.04982186\n",
      "epoch: 1460  loss: 0.04980903\n",
      "epoch: 1461  loss: 0.04979638\n",
      "epoch: 1462  loss: 0.04978361\n",
      "epoch: 1463  loss: 0.04977099\n",
      "epoch: 1464  loss: 0.04975834\n",
      "epoch: 1465  loss: 0.04974573\n",
      "epoch: 1466  loss: 0.04973323\n",
      "epoch: 1467  loss: 0.04972072\n",
      "epoch: 1468  loss: 0.04970830\n",
      "epoch: 1469  loss: 0.04969581\n",
      "epoch: 1470  loss: 0.04968340\n",
      "epoch: 1471  loss: 0.04967106\n",
      "epoch: 1472  loss: 0.04965873\n",
      "epoch: 1473  loss: 0.04964645\n",
      "epoch: 1474  loss: 0.04963418\n",
      "epoch: 1475  loss: 0.04962198\n",
      "epoch: 1476  loss: 0.04960982\n",
      "epoch: 1477  loss: 0.04959768\n",
      "epoch: 1478  loss: 0.04958564\n",
      "epoch: 1479  loss: 0.04957358\n",
      "epoch: 1480  loss: 0.04956159\n",
      "epoch: 1481  loss: 0.04954962\n",
      "epoch: 1482  loss: 0.04953767\n",
      "epoch: 1483  loss: 0.04952581\n",
      "epoch: 1484  loss: 0.04951396\n",
      "epoch: 1485  loss: 0.04950209\n",
      "epoch: 1486  loss: 0.04949030\n",
      "epoch: 1487  loss: 0.04947858\n",
      "epoch: 1488  loss: 0.04946686\n",
      "epoch: 1489  loss: 0.04945512\n",
      "epoch: 1490  loss: 0.04944348\n",
      "epoch: 1491  loss: 0.04943187\n",
      "epoch: 1492  loss: 0.04942025\n",
      "epoch: 1493  loss: 0.04940868\n",
      "epoch: 1494  loss: 0.04939722\n",
      "epoch: 1495  loss: 0.04938567\n",
      "epoch: 1496  loss: 0.04937420\n",
      "epoch: 1497  loss: 0.04936275\n",
      "epoch: 1498  loss: 0.04935134\n",
      "epoch: 1499  loss: 0.04934001\n",
      "epoch: 1500  loss: 0.04932869\n",
      "epoch: 1501  loss: 0.04931738\n",
      "epoch: 1502  loss: 0.04930610\n",
      "epoch: 1503  loss: 0.04929488\n",
      "epoch: 1504  loss: 0.04928365\n",
      "epoch: 1505  loss: 0.04927246\n",
      "epoch: 1506  loss: 0.04926139\n",
      "epoch: 1507  loss: 0.04925021\n",
      "epoch: 1508  loss: 0.04923907\n",
      "epoch: 1509  loss: 0.04922811\n",
      "epoch: 1510  loss: 0.04921698\n",
      "epoch: 1511  loss: 0.04920594\n",
      "epoch: 1512  loss: 0.04919504\n",
      "epoch: 1513  loss: 0.04918400\n",
      "epoch: 1514  loss: 0.04917309\n",
      "epoch: 1515  loss: 0.04916228\n",
      "epoch: 1516  loss: 0.04915135\n",
      "epoch: 1517  loss: 0.04914055\n",
      "epoch: 1518  loss: 0.04912984\n",
      "epoch: 1519  loss: 0.04911892\n",
      "epoch: 1520  loss: 0.04910831\n",
      "epoch: 1521  loss: 0.04909746\n",
      "epoch: 1522  loss: 0.04908682\n",
      "epoch: 1523  loss: 0.04907632\n",
      "epoch: 1524  loss: 0.04906541\n",
      "epoch: 1525  loss: 0.04905507\n",
      "epoch: 1526  loss: 0.04904417\n",
      "epoch: 1527  loss: 0.04903368\n",
      "epoch: 1528  loss: 0.04902318\n",
      "epoch: 1529  loss: 0.04901246\n",
      "epoch: 1530  loss: 0.04900214\n",
      "epoch: 1531  loss: 0.04899144\n",
      "epoch: 1532  loss: 0.04898106\n",
      "epoch: 1533  loss: 0.04897061\n",
      "epoch: 1534  loss: 0.04896006\n",
      "epoch: 1535  loss: 0.04894986\n",
      "epoch: 1536  loss: 0.04893928\n",
      "epoch: 1537  loss: 0.04892899\n",
      "epoch: 1538  loss: 0.04891866\n",
      "epoch: 1539  loss: 0.04890826\n",
      "epoch: 1540  loss: 0.04889809\n",
      "epoch: 1541  loss: 0.04888772\n",
      "epoch: 1542  loss: 0.04887755\n",
      "epoch: 1543  loss: 0.04886734\n",
      "epoch: 1544  loss: 0.04885701\n",
      "epoch: 1545  loss: 0.04884700\n",
      "epoch: 1546  loss: 0.04883674\n",
      "epoch: 1547  loss: 0.04882659\n",
      "epoch: 1548  loss: 0.04881658\n",
      "epoch: 1549  loss: 0.04880633\n",
      "epoch: 1550  loss: 0.04879633\n",
      "epoch: 1551  loss: 0.04878636\n",
      "epoch: 1552  loss: 0.04877621\n",
      "epoch: 1553  loss: 0.04876636\n",
      "epoch: 1554  loss: 0.04875631\n",
      "epoch: 1555  loss: 0.04874633\n",
      "epoch: 1556  loss: 0.04873641\n",
      "epoch: 1557  loss: 0.04872650\n",
      "epoch: 1558  loss: 0.04871662\n",
      "epoch: 1559  loss: 0.04870677\n",
      "epoch: 1560  loss: 0.04869694\n",
      "epoch: 1561  loss: 0.04868711\n",
      "epoch: 1562  loss: 0.04867732\n",
      "epoch: 1563  loss: 0.04866756\n",
      "epoch: 1564  loss: 0.04865779\n",
      "epoch: 1565  loss: 0.04864803\n",
      "epoch: 1566  loss: 0.04863834\n",
      "epoch: 1567  loss: 0.04862861\n",
      "epoch: 1568  loss: 0.04861895\n",
      "epoch: 1569  loss: 0.04860923\n",
      "epoch: 1570  loss: 0.04859969\n",
      "epoch: 1571  loss: 0.04859004\n",
      "epoch: 1572  loss: 0.04858039\n",
      "epoch: 1573  loss: 0.04857089\n",
      "epoch: 1574  loss: 0.04856138\n",
      "epoch: 1575  loss: 0.04855182\n",
      "epoch: 1576  loss: 0.04854224\n",
      "epoch: 1577  loss: 0.04853277\n",
      "epoch: 1578  loss: 0.04852327\n",
      "epoch: 1579  loss: 0.04851382\n",
      "epoch: 1580  loss: 0.04850445\n",
      "epoch: 1581  loss: 0.04849496\n",
      "epoch: 1582  loss: 0.04848560\n",
      "epoch: 1583  loss: 0.04847623\n",
      "epoch: 1584  loss: 0.04846685\n",
      "epoch: 1585  loss: 0.04845753\n",
      "epoch: 1586  loss: 0.04844819\n",
      "epoch: 1587  loss: 0.04843893\n",
      "epoch: 1588  loss: 0.04842966\n",
      "epoch: 1589  loss: 0.04842037\n",
      "epoch: 1590  loss: 0.04841115\n",
      "epoch: 1591  loss: 0.04840191\n",
      "epoch: 1592  loss: 0.04839280\n",
      "epoch: 1593  loss: 0.04838361\n",
      "epoch: 1594  loss: 0.04837440\n",
      "epoch: 1595  loss: 0.04836518\n",
      "epoch: 1596  loss: 0.04835606\n",
      "epoch: 1597  loss: 0.04834693\n",
      "epoch: 1598  loss: 0.04833774\n",
      "epoch: 1599  loss: 0.04832863\n",
      "epoch: 1600  loss: 0.04831954\n",
      "epoch: 1601  loss: 0.04831048\n",
      "epoch: 1602  loss: 0.04830149\n",
      "epoch: 1603  loss: 0.04829242\n",
      "epoch: 1604  loss: 0.04828336\n",
      "epoch: 1605  loss: 0.04827434\n",
      "epoch: 1606  loss: 0.04826550\n",
      "epoch: 1607  loss: 0.04825652\n",
      "epoch: 1608  loss: 0.04824742\n",
      "epoch: 1609  loss: 0.04823846\n",
      "epoch: 1610  loss: 0.04822968\n",
      "epoch: 1611  loss: 0.04822077\n",
      "epoch: 1612  loss: 0.04821176\n",
      "epoch: 1613  loss: 0.04820285\n",
      "epoch: 1614  loss: 0.04819406\n",
      "epoch: 1615  loss: 0.04818520\n",
      "epoch: 1616  loss: 0.04817638\n",
      "epoch: 1617  loss: 0.04816755\n",
      "epoch: 1618  loss: 0.04815876\n",
      "epoch: 1619  loss: 0.04815001\n",
      "epoch: 1620  loss: 0.04814125\n",
      "epoch: 1621  loss: 0.04813254\n",
      "epoch: 1622  loss: 0.04812384\n",
      "epoch: 1623  loss: 0.04811514\n",
      "epoch: 1624  loss: 0.04810641\n",
      "epoch: 1625  loss: 0.04809773\n",
      "epoch: 1626  loss: 0.04808911\n",
      "epoch: 1627  loss: 0.04808046\n",
      "epoch: 1628  loss: 0.04807185\n",
      "epoch: 1629  loss: 0.04806322\n",
      "epoch: 1630  loss: 0.04805469\n",
      "epoch: 1631  loss: 0.04804614\n",
      "epoch: 1632  loss: 0.04803761\n",
      "epoch: 1633  loss: 0.04802907\n",
      "epoch: 1634  loss: 0.04802054\n",
      "epoch: 1635  loss: 0.04801205\n",
      "epoch: 1636  loss: 0.04800357\n",
      "epoch: 1637  loss: 0.04799506\n",
      "epoch: 1638  loss: 0.04798661\n",
      "epoch: 1639  loss: 0.04797820\n",
      "epoch: 1640  loss: 0.04796978\n",
      "epoch: 1641  loss: 0.04796137\n",
      "epoch: 1642  loss: 0.04795299\n",
      "epoch: 1643  loss: 0.04794471\n",
      "epoch: 1644  loss: 0.04793643\n",
      "epoch: 1645  loss: 0.04792801\n",
      "epoch: 1646  loss: 0.04791959\n",
      "epoch: 1647  loss: 0.04791125\n",
      "epoch: 1648  loss: 0.04790293\n",
      "epoch: 1649  loss: 0.04789463\n",
      "epoch: 1650  loss: 0.04788634\n",
      "epoch: 1651  loss: 0.04787810\n",
      "epoch: 1652  loss: 0.04786983\n",
      "epoch: 1653  loss: 0.04786159\n",
      "epoch: 1654  loss: 0.04785337\n",
      "epoch: 1655  loss: 0.04784514\n",
      "epoch: 1656  loss: 0.04783696\n",
      "epoch: 1657  loss: 0.04782879\n",
      "epoch: 1658  loss: 0.04782064\n",
      "epoch: 1659  loss: 0.04781247\n",
      "epoch: 1660  loss: 0.04780437\n",
      "epoch: 1661  loss: 0.04779626\n",
      "epoch: 1662  loss: 0.04778819\n",
      "epoch: 1663  loss: 0.04778013\n",
      "epoch: 1664  loss: 0.04777204\n",
      "epoch: 1665  loss: 0.04776393\n",
      "epoch: 1666  loss: 0.04775589\n",
      "epoch: 1667  loss: 0.04774790\n",
      "epoch: 1668  loss: 0.04773983\n",
      "epoch: 1669  loss: 0.04773182\n",
      "epoch: 1670  loss: 0.04772392\n",
      "epoch: 1671  loss: 0.04771595\n",
      "epoch: 1672  loss: 0.04770797\n",
      "epoch: 1673  loss: 0.04769999\n",
      "epoch: 1674  loss: 0.04769202\n",
      "epoch: 1675  loss: 0.04768417\n",
      "epoch: 1676  loss: 0.04767629\n",
      "epoch: 1677  loss: 0.04766838\n",
      "epoch: 1678  loss: 0.04766042\n",
      "epoch: 1679  loss: 0.04765261\n",
      "epoch: 1680  loss: 0.04764486\n",
      "epoch: 1681  loss: 0.04763691\n",
      "epoch: 1682  loss: 0.04762908\n",
      "epoch: 1683  loss: 0.04762134\n",
      "epoch: 1684  loss: 0.04761356\n",
      "epoch: 1685  loss: 0.04760575\n",
      "epoch: 1686  loss: 0.04759800\n",
      "epoch: 1687  loss: 0.04759039\n",
      "epoch: 1688  loss: 0.04758282\n",
      "epoch: 1689  loss: 0.04757505\n",
      "epoch: 1690  loss: 0.04756721\n",
      "epoch: 1691  loss: 0.04755952\n",
      "epoch: 1692  loss: 0.04755192\n",
      "epoch: 1693  loss: 0.04754437\n",
      "epoch: 1694  loss: 0.04753675\n",
      "epoch: 1695  loss: 0.04752913\n",
      "epoch: 1696  loss: 0.04752148\n",
      "epoch: 1697  loss: 0.04751383\n",
      "epoch: 1698  loss: 0.04750638\n",
      "epoch: 1699  loss: 0.04749893\n",
      "epoch: 1700  loss: 0.04749139\n",
      "epoch: 1701  loss: 0.04748367\n",
      "epoch: 1702  loss: 0.04747623\n",
      "epoch: 1703  loss: 0.04746900\n",
      "epoch: 1704  loss: 0.04746152\n",
      "epoch: 1705  loss: 0.04745382\n",
      "epoch: 1706  loss: 0.04744623\n",
      "epoch: 1707  loss: 0.04743897\n",
      "epoch: 1708  loss: 0.04743172\n",
      "epoch: 1709  loss: 0.04742407\n",
      "epoch: 1710  loss: 0.04741650\n",
      "epoch: 1711  loss: 0.04740927\n",
      "epoch: 1712  loss: 0.04740206\n",
      "epoch: 1713  loss: 0.04739458\n",
      "epoch: 1714  loss: 0.04738700\n",
      "epoch: 1715  loss: 0.04737961\n",
      "epoch: 1716  loss: 0.04737238\n",
      "epoch: 1717  loss: 0.04736517\n",
      "epoch: 1718  loss: 0.04735794\n",
      "epoch: 1719  loss: 0.04735081\n",
      "epoch: 1720  loss: 0.04734348\n",
      "epoch: 1721  loss: 0.04733592\n",
      "epoch: 1722  loss: 0.04732858\n",
      "epoch: 1723  loss: 0.04732159\n",
      "epoch: 1724  loss: 0.04731503\n",
      "epoch: 1725  loss: 0.04730769\n",
      "epoch: 1726  loss: 0.04729983\n",
      "epoch: 1727  loss: 0.04729250\n",
      "epoch: 1728  loss: 0.04728549\n",
      "epoch: 1729  loss: 0.04727835\n",
      "epoch: 1730  loss: 0.04727106\n",
      "epoch: 1731  loss: 0.04726382\n",
      "epoch: 1732  loss: 0.04725667\n",
      "epoch: 1733  loss: 0.04724960\n",
      "epoch: 1734  loss: 0.04724281\n",
      "epoch: 1735  loss: 0.04723621\n",
      "epoch: 1736  loss: 0.04722901\n",
      "epoch: 1737  loss: 0.04722144\n",
      "epoch: 1738  loss: 0.04721416\n",
      "epoch: 1739  loss: 0.04720726\n",
      "epoch: 1740  loss: 0.04720018\n",
      "epoch: 1741  loss: 0.04719319\n",
      "epoch: 1742  loss: 0.04718621\n",
      "epoch: 1743  loss: 0.04717912\n",
      "epoch: 1744  loss: 0.04717213\n",
      "epoch: 1745  loss: 0.04716524\n",
      "epoch: 1746  loss: 0.04715831\n",
      "epoch: 1747  loss: 0.04715161\n",
      "epoch: 1748  loss: 0.04714470\n",
      "epoch: 1749  loss: 0.04713753\n",
      "epoch: 1750  loss: 0.04713028\n",
      "epoch: 1751  loss: 0.04712334\n",
      "epoch: 1752  loss: 0.04711661\n",
      "epoch: 1753  loss: 0.04710993\n",
      "epoch: 1754  loss: 0.04710300\n",
      "epoch: 1755  loss: 0.04709603\n",
      "epoch: 1756  loss: 0.04708897\n",
      "epoch: 1757  loss: 0.04708188\n",
      "epoch: 1758  loss: 0.04707502\n",
      "epoch: 1759  loss: 0.04706830\n",
      "epoch: 1760  loss: 0.04706149\n",
      "epoch: 1761  loss: 0.04705466\n",
      "epoch: 1762  loss: 0.04704811\n",
      "epoch: 1763  loss: 0.04704191\n",
      "epoch: 1764  loss: 0.04703564\n",
      "epoch: 1765  loss: 0.04702923\n",
      "epoch: 1766  loss: 0.04702226\n",
      "epoch: 1767  loss: 0.04701514\n",
      "epoch: 1768  loss: 0.04700762\n",
      "epoch: 1769  loss: 0.04700020\n",
      "epoch: 1770  loss: 0.04699371\n",
      "epoch: 1771  loss: 0.04698738\n",
      "epoch: 1772  loss: 0.04698073\n",
      "epoch: 1773  loss: 0.04697332\n",
      "epoch: 1774  loss: 0.04696608\n",
      "epoch: 1775  loss: 0.04695912\n",
      "epoch: 1776  loss: 0.04695242\n",
      "epoch: 1777  loss: 0.04694586\n",
      "epoch: 1778  loss: 0.04693900\n",
      "epoch: 1779  loss: 0.04693244\n",
      "epoch: 1780  loss: 0.04692552\n",
      "epoch: 1781  loss: 0.04691892\n",
      "epoch: 1782  loss: 0.04691219\n",
      "epoch: 1783  loss: 0.04690523\n",
      "epoch: 1784  loss: 0.04689851\n",
      "epoch: 1785  loss: 0.04689194\n",
      "epoch: 1786  loss: 0.04688558\n",
      "epoch: 1787  loss: 0.04687992\n",
      "epoch: 1788  loss: 0.04687385\n",
      "epoch: 1789  loss: 0.04686710\n",
      "epoch: 1790  loss: 0.04685961\n",
      "epoch: 1791  loss: 0.04685194\n",
      "epoch: 1792  loss: 0.04684443\n",
      "epoch: 1793  loss: 0.04683770\n",
      "epoch: 1794  loss: 0.04683138\n",
      "epoch: 1795  loss: 0.04682520\n",
      "epoch: 1796  loss: 0.04681929\n",
      "epoch: 1797  loss: 0.04681322\n",
      "epoch: 1798  loss: 0.04680777\n",
      "epoch: 1799  loss: 0.04680301\n",
      "epoch: 1800  loss: 0.04679847\n",
      "epoch: 1801  loss: 0.04679337\n",
      "epoch: 1802  loss: 0.04678651\n",
      "epoch: 1803  loss: 0.04677805\n",
      "epoch: 1804  loss: 0.04676880\n",
      "epoch: 1805  loss: 0.04675951\n",
      "epoch: 1806  loss: 0.04675252\n",
      "epoch: 1807  loss: 0.04674771\n",
      "epoch: 1808  loss: 0.04674324\n",
      "epoch: 1809  loss: 0.04673829\n",
      "epoch: 1810  loss: 0.04673264\n",
      "epoch: 1811  loss: 0.04672698\n",
      "epoch: 1812  loss: 0.04671987\n",
      "epoch: 1813  loss: 0.04671260\n",
      "epoch: 1814  loss: 0.04670432\n",
      "epoch: 1815  loss: 0.04669554\n",
      "epoch: 1816  loss: 0.04668780\n",
      "epoch: 1817  loss: 0.04668178\n",
      "epoch: 1818  loss: 0.04667667\n",
      "epoch: 1819  loss: 0.04667143\n",
      "epoch: 1820  loss: 0.04666534\n",
      "epoch: 1821  loss: 0.04665959\n",
      "epoch: 1822  loss: 0.04665473\n",
      "epoch: 1823  loss: 0.04665130\n",
      "epoch: 1824  loss: 0.04664975\n",
      "epoch: 1825  loss: 0.04664995\n",
      "epoch: 1826  loss: 0.04665074\n",
      "epoch: 1827  loss: 0.04664797\n",
      "epoch: 1828  loss: 0.04663998\n",
      "epoch: 1829  loss: 0.04662495\n",
      "epoch: 1830  loss: 0.04660869\n",
      "epoch: 1831  loss: 0.04659490\n",
      "epoch: 1832  loss: 0.04658823\n",
      "epoch: 1833  loss: 0.04658711\n",
      "epoch: 1834  loss: 0.04658456\n",
      "epoch: 1835  loss: 0.04657741\n",
      "epoch: 1836  loss: 0.04656778\n",
      "epoch: 1837  loss: 0.04655756\n",
      "epoch: 1838  loss: 0.04655015\n",
      "epoch: 1839  loss: 0.04654578\n",
      "epoch: 1840  loss: 0.04654210\n",
      "epoch: 1841  loss: 0.04653609\n",
      "epoch: 1842  loss: 0.04652836\n",
      "epoch: 1843  loss: 0.04652010\n",
      "epoch: 1844  loss: 0.04651305\n",
      "epoch: 1845  loss: 0.04650731\n",
      "epoch: 1846  loss: 0.04650295\n",
      "epoch: 1847  loss: 0.04650097\n",
      "epoch: 1848  loss: 0.04649935\n",
      "epoch: 1849  loss: 0.04649768\n",
      "epoch: 1850  loss: 0.04649506\n",
      "epoch: 1851  loss: 0.04649148\n",
      "epoch: 1852  loss: 0.04648475\n",
      "epoch: 1853  loss: 0.04647485\n",
      "epoch: 1854  loss: 0.04646223\n",
      "epoch: 1855  loss: 0.04644985\n",
      "epoch: 1856  loss: 0.04644099\n",
      "epoch: 1857  loss: 0.04643593\n",
      "epoch: 1858  loss: 0.04643259\n",
      "epoch: 1859  loss: 0.04642917\n",
      "epoch: 1860  loss: 0.04642367\n",
      "epoch: 1861  loss: 0.04641612\n",
      "epoch: 1862  loss: 0.04640768\n",
      "epoch: 1863  loss: 0.04639960\n",
      "epoch: 1864  loss: 0.04639336\n",
      "epoch: 1865  loss: 0.04638872\n",
      "epoch: 1866  loss: 0.04638558\n",
      "epoch: 1867  loss: 0.04638406\n",
      "epoch: 1868  loss: 0.04638268\n",
      "epoch: 1869  loss: 0.04638136\n",
      "epoch: 1870  loss: 0.04637941\n",
      "epoch: 1871  loss: 0.04637703\n",
      "epoch: 1872  loss: 0.04637155\n",
      "epoch: 1873  loss: 0.04636177\n",
      "epoch: 1874  loss: 0.04634859\n",
      "epoch: 1875  loss: 0.04633562\n",
      "epoch: 1876  loss: 0.04632489\n",
      "epoch: 1877  loss: 0.04631792\n",
      "epoch: 1878  loss: 0.04631450\n",
      "epoch: 1879  loss: 0.04631222\n",
      "epoch: 1880  loss: 0.04630841\n",
      "epoch: 1881  loss: 0.04630247\n",
      "epoch: 1882  loss: 0.04629442\n",
      "epoch: 1883  loss: 0.04628549\n",
      "epoch: 1884  loss: 0.04627744\n",
      "epoch: 1885  loss: 0.04627197\n",
      "epoch: 1886  loss: 0.04626850\n",
      "epoch: 1887  loss: 0.04626638\n",
      "epoch: 1888  loss: 0.04626496\n",
      "epoch: 1889  loss: 0.04626603\n",
      "epoch: 1890  loss: 0.04626966\n",
      "epoch: 1891  loss: 0.04627186\n",
      "epoch: 1892  loss: 0.04627518\n",
      "epoch: 1893  loss: 0.04626841\n",
      "epoch: 1894  loss: 0.04625813\n",
      "epoch: 1895  loss: 0.04623821\n",
      "epoch: 1896  loss: 0.04621991\n",
      "epoch: 1897  loss: 0.04620652\n",
      "epoch: 1898  loss: 0.04620153\n",
      "epoch: 1899  loss: 0.04620289\n",
      "epoch: 1900  loss: 0.04620404\n",
      "epoch: 1901  loss: 0.04620293\n",
      "epoch: 1902  loss: 0.04619290\n",
      "epoch: 1903  loss: 0.04617999\n",
      "epoch: 1904  loss: 0.04616794\n",
      "epoch: 1905  loss: 0.04616100\n",
      "epoch: 1906  loss: 0.04615864\n",
      "epoch: 1907  loss: 0.04615796\n",
      "epoch: 1908  loss: 0.04615479\n",
      "epoch: 1909  loss: 0.04614775\n",
      "epoch: 1910  loss: 0.04613895\n",
      "epoch: 1911  loss: 0.04613070\n",
      "epoch: 1912  loss: 0.04612315\n",
      "epoch: 1913  loss: 0.04611718\n",
      "epoch: 1914  loss: 0.04611241\n",
      "epoch: 1915  loss: 0.04610907\n",
      "epoch: 1916  loss: 0.04610828\n",
      "epoch: 1917  loss: 0.04611083\n",
      "epoch: 1918  loss: 0.04611462\n",
      "epoch: 1919  loss: 0.04611745\n",
      "epoch: 1920  loss: 0.04611460\n",
      "epoch: 1921  loss: 0.04610921\n",
      "epoch: 1922  loss: 0.04609871\n",
      "epoch: 1923  loss: 0.04608907\n",
      "epoch: 1924  loss: 0.04607710\n",
      "epoch: 1925  loss: 0.04606291\n",
      "epoch: 1926  loss: 0.04605197\n",
      "epoch: 1927  loss: 0.04604395\n",
      "epoch: 1928  loss: 0.04604201\n",
      "epoch: 1929  loss: 0.04604338\n",
      "epoch: 1930  loss: 0.04604476\n",
      "epoch: 1931  loss: 0.04604247\n",
      "epoch: 1932  loss: 0.04603988\n",
      "epoch: 1933  loss: 0.04603311\n",
      "epoch: 1934  loss: 0.04602470\n",
      "epoch: 1935  loss: 0.04601512\n",
      "epoch: 1936  loss: 0.04600377\n",
      "epoch: 1937  loss: 0.04599323\n",
      "epoch: 1938  loss: 0.04598569\n",
      "epoch: 1939  loss: 0.04598169\n",
      "epoch: 1940  loss: 0.04597990\n",
      "epoch: 1941  loss: 0.04597947\n",
      "epoch: 1942  loss: 0.04597790\n",
      "epoch: 1943  loss: 0.04597547\n",
      "epoch: 1944  loss: 0.04597190\n",
      "epoch: 1945  loss: 0.04596737\n",
      "epoch: 1946  loss: 0.04595881\n",
      "epoch: 1947  loss: 0.04595163\n",
      "epoch: 1948  loss: 0.04594519\n",
      "epoch: 1949  loss: 0.04593712\n",
      "epoch: 1950  loss: 0.04593128\n",
      "epoch: 1951  loss: 0.04592289\n",
      "epoch: 1952  loss: 0.04591568\n",
      "epoch: 1953  loss: 0.04591044\n",
      "epoch: 1954  loss: 0.04590760\n",
      "epoch: 1955  loss: 0.04590648\n",
      "epoch: 1956  loss: 0.04590672\n",
      "epoch: 1957  loss: 0.04590769\n",
      "epoch: 1958  loss: 0.04590734\n",
      "epoch: 1959  loss: 0.04590841\n",
      "epoch: 1960  loss: 0.04591841\n",
      "epoch: 1961  loss: 0.04593239\n",
      "epoch: 1962  loss: 0.04594370\n",
      "epoch: 1963  loss: 0.04592801\n",
      "epoch: 1964  loss: 0.04589286\n",
      "epoch: 1965  loss: 0.04585734\n",
      "epoch: 1966  loss: 0.04584711\n",
      "epoch: 1967  loss: 0.04585825\n",
      "epoch: 1968  loss: 0.04586303\n",
      "epoch: 1969  loss: 0.04585084\n",
      "epoch: 1970  loss: 0.04583061\n",
      "epoch: 1971  loss: 0.04582557\n",
      "epoch: 1972  loss: 0.04583150\n",
      "epoch: 1973  loss: 0.04583519\n",
      "epoch: 1974  loss: 0.04583576\n",
      "epoch: 1975  loss: 0.04583611\n",
      "epoch: 1976  loss: 0.04582630\n",
      "epoch: 1977  loss: 0.04582926\n",
      "epoch: 1978  loss: 0.04579924\n",
      "epoch: 1979  loss: 0.04578616\n",
      "epoch: 1980  loss: 0.04578772\n",
      "epoch: 1981  loss: 0.04579086\n",
      "epoch: 1982  loss: 0.04578953\n",
      "epoch: 1983  loss: 0.04576956\n",
      "epoch: 1984  loss: 0.04575626\n",
      "epoch: 1985  loss: 0.04575315\n",
      "epoch: 1986  loss: 0.04575577\n",
      "epoch: 1987  loss: 0.04575727\n",
      "epoch: 1988  loss: 0.04574647\n",
      "epoch: 1989  loss: 0.04573550\n",
      "epoch: 1990  loss: 0.04572919\n",
      "epoch: 1991  loss: 0.04572919\n",
      "epoch: 1992  loss: 0.04573198\n",
      "epoch: 1993  loss: 0.04572521\n",
      "epoch: 1994  loss: 0.04571814\n",
      "epoch: 1995  loss: 0.04571017\n",
      "epoch: 1996  loss: 0.04570648\n",
      "epoch: 1997  loss: 0.04570579\n",
      "epoch: 1998  loss: 0.04570824\n",
      "epoch: 1999  loss: 0.04570882\n",
      "\n",
      "# Finished training!\n",
      "# --> epoch: 1999  \n",
      "# --> initial loss: 1.77156973 ,  \n",
      "# --> accuracy: 0.97915887 , \n",
      "# --> final loss: 0.04570882\n"
     ]
    }
   ],
   "source": [
    "import gc\n",
    "torch.cuda.empty_cache() #free up some memory\n",
    "gc.collect()             #free up some memory\n",
    "\n",
    "data_train = (torch.FloatTensor(X_train), torch.LongTensor(Y_train))\n",
    "\n",
    "Model = moodClassifierWithLasersOnSteroids(dim_embed=num_dims, n_units_lstm=50, n_units_linear=50)\n",
    "if CUDA_flag:         # se houver GPUs disponíveis\n",
    "  Model.cuda()       # converte o modelo para CUDA\n",
    "print(Model)\n",
    "\n",
    "criterion = nn.NLLLoss() # cross entropy loss\n",
    "optimizer = torch.optim.Adam(Model.parameters(), lr = 0.001) \n",
    "\n",
    "Model, losses, accs = train_loop(Model, data_train, max_epochs=2000, print_iters=1) # note que o modelo é sobrescrito pela saída treinada"
   ]
  },
  {
   "cell_type": "code",
   "execution_count": 48,
   "metadata": {},
   "outputs": [
    {
     "output_type": "stream",
     "name": "stdout",
     "text": [
      "moodClassifierWithLasersOnSteroids(\n  (embedding): Sequential(\n    (0): LSTM(100, 50, batch_first=True)\n  )\n  (ann): Sequential(\n    (0): Linear(in_features=50, out_features=50, bias=True)\n    (1): ReLU(inplace=True)\n    (2): Linear(in_features=50, out_features=6, bias=True)\n  )\n  (soft): Sequential(\n    (0): LogSoftmax(dim=1)\n  )\n)\n0.9791588668413828\n"
     ]
    },
    {
     "output_type": "display_data",
     "data": {
      "text/plain": "<Figure size 1152x432 with 2 Axes>",
      "image/svg+xml": "<?xml version=\"1.0\" encoding=\"utf-8\" standalone=\"no\"?>\r\n<!DOCTYPE svg PUBLIC \"-//W3C//DTD SVG 1.1//EN\"\r\n  \"http://www.w3.org/Graphics/SVG/1.1/DTD/svg11.dtd\">\r\n<!-- Created with matplotlib (https://matplotlib.org/) -->\r\n<svg height=\"414.11625pt\" version=\"1.1\" viewBox=\"0 0 950.14375 414.11625\" width=\"950.14375pt\" xmlns=\"http://www.w3.org/2000/svg\" xmlns:xlink=\"http://www.w3.org/1999/xlink\">\r\n <metadata>\r\n  <rdf:RDF xmlns:cc=\"http://creativecommons.org/ns#\" xmlns:dc=\"http://purl.org/dc/elements/1.1/\" xmlns:rdf=\"http://www.w3.org/1999/02/22-rdf-syntax-ns#\">\r\n   <cc:Work>\r\n    <dc:type rdf:resource=\"http://purl.org/dc/dcmitype/StillImage\"/>\r\n    <dc:date>2021-04-23T09:47:40.370833</dc:date>\r\n    <dc:format>image/svg+xml</dc:format>\r\n    <dc:creator>\r\n     <cc:Agent>\r\n      <dc:title>Matplotlib v3.3.2, https://matplotlib.org/</dc:title>\r\n     </cc:Agent>\r\n    </dc:creator>\r\n   </cc:Work>\r\n  </rdf:RDF>\r\n </metadata>\r\n <defs>\r\n  <style type=\"text/css\">*{stroke-linecap:butt;stroke-linejoin:round;}</style>\r\n </defs>\r\n <g id=\"figure_1\">\r\n  <g id=\"patch_1\">\r\n   <path d=\"M 0 414.11625 \r\nL 950.14375 414.11625 \r\nL 950.14375 0 \r\nL 0 0 \r\nz\r\n\" style=\"fill:none;\"/>\r\n  </g>\r\n  <g id=\"axes_1\">\r\n   <g id=\"patch_2\">\r\n    <path d=\"M 50.14375 376.56 \r\nL 455.961932 376.56 \r\nL 455.961932 50.4 \r\nL 50.14375 50.4 \r\nz\r\n\" style=\"fill:#ffffff;\"/>\r\n   </g>\r\n   <g id=\"matplotlib.axis_1\">\r\n    <g id=\"xtick_1\">\r\n     <g id=\"line2d_1\">\r\n      <defs>\r\n       <path d=\"M 0 0 \r\nL 0 3.5 \r\n\" id=\"md3d1f58205\" style=\"stroke:#000000;stroke-width:0.8;\"/>\r\n      </defs>\r\n      <g>\r\n       <use style=\"stroke:#000000;stroke-width:0.8;\" x=\"68.590031\" xlink:href=\"#md3d1f58205\" y=\"376.56\"/>\r\n      </g>\r\n     </g>\r\n     <g id=\"text_1\">\r\n      <!-- 0 -->\r\n      <g transform=\"translate(65.408781 391.158437)scale(0.1 -0.1)\">\r\n       <defs>\r\n        <path d=\"M 31.78125 66.40625 \r\nQ 24.171875 66.40625 20.328125 58.90625 \r\nQ 16.5 51.421875 16.5 36.375 \r\nQ 16.5 21.390625 20.328125 13.890625 \r\nQ 24.171875 6.390625 31.78125 6.390625 \r\nQ 39.453125 6.390625 43.28125 13.890625 \r\nQ 47.125 21.390625 47.125 36.375 \r\nQ 47.125 51.421875 43.28125 58.90625 \r\nQ 39.453125 66.40625 31.78125 66.40625 \r\nz\r\nM 31.78125 74.21875 \r\nQ 44.046875 74.21875 50.515625 64.515625 \r\nQ 56.984375 54.828125 56.984375 36.375 \r\nQ 56.984375 17.96875 50.515625 8.265625 \r\nQ 44.046875 -1.421875 31.78125 -1.421875 \r\nQ 19.53125 -1.421875 13.0625 8.265625 \r\nQ 6.59375 17.96875 6.59375 36.375 \r\nQ 6.59375 54.828125 13.0625 64.515625 \r\nQ 19.53125 74.21875 31.78125 74.21875 \r\nz\r\n\" id=\"DejaVuSans-48\"/>\r\n       </defs>\r\n       <use xlink:href=\"#DejaVuSans-48\"/>\r\n      </g>\r\n     </g>\r\n    </g>\r\n    <g id=\"xtick_2\">\r\n     <g id=\"line2d_2\">\r\n      <g>\r\n       <use style=\"stroke:#000000;stroke-width:0.8;\" x=\"114.728803\" xlink:href=\"#md3d1f58205\" y=\"376.56\"/>\r\n      </g>\r\n     </g>\r\n     <g id=\"text_2\">\r\n      <!-- 250 -->\r\n      <g transform=\"translate(105.185053 391.158437)scale(0.1 -0.1)\">\r\n       <defs>\r\n        <path d=\"M 19.1875 8.296875 \r\nL 53.609375 8.296875 \r\nL 53.609375 0 \r\nL 7.328125 0 \r\nL 7.328125 8.296875 \r\nQ 12.9375 14.109375 22.625 23.890625 \r\nQ 32.328125 33.6875 34.8125 36.53125 \r\nQ 39.546875 41.84375 41.421875 45.53125 \r\nQ 43.3125 49.21875 43.3125 52.78125 \r\nQ 43.3125 58.59375 39.234375 62.25 \r\nQ 35.15625 65.921875 28.609375 65.921875 \r\nQ 23.96875 65.921875 18.8125 64.3125 \r\nQ 13.671875 62.703125 7.8125 59.421875 \r\nL 7.8125 69.390625 \r\nQ 13.765625 71.78125 18.9375 73 \r\nQ 24.125 74.21875 28.421875 74.21875 \r\nQ 39.75 74.21875 46.484375 68.546875 \r\nQ 53.21875 62.890625 53.21875 53.421875 \r\nQ 53.21875 48.921875 51.53125 44.890625 \r\nQ 49.859375 40.875 45.40625 35.40625 \r\nQ 44.1875 33.984375 37.640625 27.21875 \r\nQ 31.109375 20.453125 19.1875 8.296875 \r\nz\r\n\" id=\"DejaVuSans-50\"/>\r\n        <path d=\"M 10.796875 72.90625 \r\nL 49.515625 72.90625 \r\nL 49.515625 64.59375 \r\nL 19.828125 64.59375 \r\nL 19.828125 46.734375 \r\nQ 21.96875 47.46875 24.109375 47.828125 \r\nQ 26.265625 48.1875 28.421875 48.1875 \r\nQ 40.625 48.1875 47.75 41.5 \r\nQ 54.890625 34.8125 54.890625 23.390625 \r\nQ 54.890625 11.625 47.5625 5.09375 \r\nQ 40.234375 -1.421875 26.90625 -1.421875 \r\nQ 22.3125 -1.421875 17.546875 -0.640625 \r\nQ 12.796875 0.140625 7.71875 1.703125 \r\nL 7.71875 11.625 \r\nQ 12.109375 9.234375 16.796875 8.0625 \r\nQ 21.484375 6.890625 26.703125 6.890625 \r\nQ 35.15625 6.890625 40.078125 11.328125 \r\nQ 45.015625 15.765625 45.015625 23.390625 \r\nQ 45.015625 31 40.078125 35.4375 \r\nQ 35.15625 39.890625 26.703125 39.890625 \r\nQ 22.75 39.890625 18.8125 39.015625 \r\nQ 14.890625 38.140625 10.796875 36.28125 \r\nz\r\n\" id=\"DejaVuSans-53\"/>\r\n       </defs>\r\n       <use xlink:href=\"#DejaVuSans-50\"/>\r\n       <use x=\"63.623047\" xlink:href=\"#DejaVuSans-53\"/>\r\n       <use x=\"127.246094\" xlink:href=\"#DejaVuSans-48\"/>\r\n      </g>\r\n     </g>\r\n    </g>\r\n    <g id=\"xtick_3\">\r\n     <g id=\"line2d_3\">\r\n      <g>\r\n       <use style=\"stroke:#000000;stroke-width:0.8;\" x=\"160.867575\" xlink:href=\"#md3d1f58205\" y=\"376.56\"/>\r\n      </g>\r\n     </g>\r\n     <g id=\"text_3\">\r\n      <!-- 500 -->\r\n      <g transform=\"translate(151.323825 391.158437)scale(0.1 -0.1)\">\r\n       <use xlink:href=\"#DejaVuSans-53\"/>\r\n       <use x=\"63.623047\" xlink:href=\"#DejaVuSans-48\"/>\r\n       <use x=\"127.246094\" xlink:href=\"#DejaVuSans-48\"/>\r\n      </g>\r\n     </g>\r\n    </g>\r\n    <g id=\"xtick_4\">\r\n     <g id=\"line2d_4\">\r\n      <g>\r\n       <use style=\"stroke:#000000;stroke-width:0.8;\" x=\"207.006347\" xlink:href=\"#md3d1f58205\" y=\"376.56\"/>\r\n      </g>\r\n     </g>\r\n     <g id=\"text_4\">\r\n      <!-- 750 -->\r\n      <g transform=\"translate(197.462597 391.158437)scale(0.1 -0.1)\">\r\n       <defs>\r\n        <path d=\"M 8.203125 72.90625 \r\nL 55.078125 72.90625 \r\nL 55.078125 68.703125 \r\nL 28.609375 0 \r\nL 18.3125 0 \r\nL 43.21875 64.59375 \r\nL 8.203125 64.59375 \r\nz\r\n\" id=\"DejaVuSans-55\"/>\r\n       </defs>\r\n       <use xlink:href=\"#DejaVuSans-55\"/>\r\n       <use x=\"63.623047\" xlink:href=\"#DejaVuSans-53\"/>\r\n       <use x=\"127.246094\" xlink:href=\"#DejaVuSans-48\"/>\r\n      </g>\r\n     </g>\r\n    </g>\r\n    <g id=\"xtick_5\">\r\n     <g id=\"line2d_5\">\r\n      <g>\r\n       <use style=\"stroke:#000000;stroke-width:0.8;\" x=\"253.145118\" xlink:href=\"#md3d1f58205\" y=\"376.56\"/>\r\n      </g>\r\n     </g>\r\n     <g id=\"text_5\">\r\n      <!-- 1000 -->\r\n      <g transform=\"translate(240.420118 391.158437)scale(0.1 -0.1)\">\r\n       <defs>\r\n        <path d=\"M 12.40625 8.296875 \r\nL 28.515625 8.296875 \r\nL 28.515625 63.921875 \r\nL 10.984375 60.40625 \r\nL 10.984375 69.390625 \r\nL 28.421875 72.90625 \r\nL 38.28125 72.90625 \r\nL 38.28125 8.296875 \r\nL 54.390625 8.296875 \r\nL 54.390625 0 \r\nL 12.40625 0 \r\nz\r\n\" id=\"DejaVuSans-49\"/>\r\n       </defs>\r\n       <use xlink:href=\"#DejaVuSans-49\"/>\r\n       <use x=\"63.623047\" xlink:href=\"#DejaVuSans-48\"/>\r\n       <use x=\"127.246094\" xlink:href=\"#DejaVuSans-48\"/>\r\n       <use x=\"190.869141\" xlink:href=\"#DejaVuSans-48\"/>\r\n      </g>\r\n     </g>\r\n    </g>\r\n    <g id=\"xtick_6\">\r\n     <g id=\"line2d_6\">\r\n      <g>\r\n       <use style=\"stroke:#000000;stroke-width:0.8;\" x=\"299.28389\" xlink:href=\"#md3d1f58205\" y=\"376.56\"/>\r\n      </g>\r\n     </g>\r\n     <g id=\"text_6\">\r\n      <!-- 1250 -->\r\n      <g transform=\"translate(286.55889 391.158437)scale(0.1 -0.1)\">\r\n       <use xlink:href=\"#DejaVuSans-49\"/>\r\n       <use x=\"63.623047\" xlink:href=\"#DejaVuSans-50\"/>\r\n       <use x=\"127.246094\" xlink:href=\"#DejaVuSans-53\"/>\r\n       <use x=\"190.869141\" xlink:href=\"#DejaVuSans-48\"/>\r\n      </g>\r\n     </g>\r\n    </g>\r\n    <g id=\"xtick_7\">\r\n     <g id=\"line2d_7\">\r\n      <g>\r\n       <use style=\"stroke:#000000;stroke-width:0.8;\" x=\"345.422662\" xlink:href=\"#md3d1f58205\" y=\"376.56\"/>\r\n      </g>\r\n     </g>\r\n     <g id=\"text_7\">\r\n      <!-- 1500 -->\r\n      <g transform=\"translate(332.697662 391.158437)scale(0.1 -0.1)\">\r\n       <use xlink:href=\"#DejaVuSans-49\"/>\r\n       <use x=\"63.623047\" xlink:href=\"#DejaVuSans-53\"/>\r\n       <use x=\"127.246094\" xlink:href=\"#DejaVuSans-48\"/>\r\n       <use x=\"190.869141\" xlink:href=\"#DejaVuSans-48\"/>\r\n      </g>\r\n     </g>\r\n    </g>\r\n    <g id=\"xtick_8\">\r\n     <g id=\"line2d_8\">\r\n      <g>\r\n       <use style=\"stroke:#000000;stroke-width:0.8;\" x=\"391.561434\" xlink:href=\"#md3d1f58205\" y=\"376.56\"/>\r\n      </g>\r\n     </g>\r\n     <g id=\"text_8\">\r\n      <!-- 1750 -->\r\n      <g transform=\"translate(378.836434 391.158437)scale(0.1 -0.1)\">\r\n       <use xlink:href=\"#DejaVuSans-49\"/>\r\n       <use x=\"63.623047\" xlink:href=\"#DejaVuSans-55\"/>\r\n       <use x=\"127.246094\" xlink:href=\"#DejaVuSans-53\"/>\r\n       <use x=\"190.869141\" xlink:href=\"#DejaVuSans-48\"/>\r\n      </g>\r\n     </g>\r\n    </g>\r\n    <g id=\"xtick_9\">\r\n     <g id=\"line2d_9\">\r\n      <g>\r\n       <use style=\"stroke:#000000;stroke-width:0.8;\" x=\"437.700206\" xlink:href=\"#md3d1f58205\" y=\"376.56\"/>\r\n      </g>\r\n     </g>\r\n     <g id=\"text_9\">\r\n      <!-- 2000 -->\r\n      <g transform=\"translate(424.975206 391.158437)scale(0.1 -0.1)\">\r\n       <use xlink:href=\"#DejaVuSans-50\"/>\r\n       <use x=\"63.623047\" xlink:href=\"#DejaVuSans-48\"/>\r\n       <use x=\"127.246094\" xlink:href=\"#DejaVuSans-48\"/>\r\n       <use x=\"190.869141\" xlink:href=\"#DejaVuSans-48\"/>\r\n      </g>\r\n     </g>\r\n    </g>\r\n    <g id=\"text_10\">\r\n     <!-- epochs -->\r\n     <g transform=\"translate(235.220028 404.836562)scale(0.1 -0.1)\">\r\n      <defs>\r\n       <path d=\"M 56.203125 29.59375 \r\nL 56.203125 25.203125 \r\nL 14.890625 25.203125 \r\nQ 15.484375 15.921875 20.484375 11.0625 \r\nQ 25.484375 6.203125 34.421875 6.203125 \r\nQ 39.59375 6.203125 44.453125 7.46875 \r\nQ 49.3125 8.734375 54.109375 11.28125 \r\nL 54.109375 2.78125 \r\nQ 49.265625 0.734375 44.1875 -0.34375 \r\nQ 39.109375 -1.421875 33.890625 -1.421875 \r\nQ 20.796875 -1.421875 13.15625 6.1875 \r\nQ 5.515625 13.8125 5.515625 26.8125 \r\nQ 5.515625 40.234375 12.765625 48.109375 \r\nQ 20.015625 56 32.328125 56 \r\nQ 43.359375 56 49.78125 48.890625 \r\nQ 56.203125 41.796875 56.203125 29.59375 \r\nz\r\nM 47.21875 32.234375 \r\nQ 47.125 39.59375 43.09375 43.984375 \r\nQ 39.0625 48.390625 32.421875 48.390625 \r\nQ 24.90625 48.390625 20.390625 44.140625 \r\nQ 15.875 39.890625 15.1875 32.171875 \r\nz\r\n\" id=\"DejaVuSans-101\"/>\r\n       <path d=\"M 18.109375 8.203125 \r\nL 18.109375 -20.796875 \r\nL 9.078125 -20.796875 \r\nL 9.078125 54.6875 \r\nL 18.109375 54.6875 \r\nL 18.109375 46.390625 \r\nQ 20.953125 51.265625 25.265625 53.625 \r\nQ 29.59375 56 35.59375 56 \r\nQ 45.5625 56 51.78125 48.09375 \r\nQ 58.015625 40.1875 58.015625 27.296875 \r\nQ 58.015625 14.40625 51.78125 6.484375 \r\nQ 45.5625 -1.421875 35.59375 -1.421875 \r\nQ 29.59375 -1.421875 25.265625 0.953125 \r\nQ 20.953125 3.328125 18.109375 8.203125 \r\nz\r\nM 48.6875 27.296875 \r\nQ 48.6875 37.203125 44.609375 42.84375 \r\nQ 40.53125 48.484375 33.40625 48.484375 \r\nQ 26.265625 48.484375 22.1875 42.84375 \r\nQ 18.109375 37.203125 18.109375 27.296875 \r\nQ 18.109375 17.390625 22.1875 11.75 \r\nQ 26.265625 6.109375 33.40625 6.109375 \r\nQ 40.53125 6.109375 44.609375 11.75 \r\nQ 48.6875 17.390625 48.6875 27.296875 \r\nz\r\n\" id=\"DejaVuSans-112\"/>\r\n       <path d=\"M 30.609375 48.390625 \r\nQ 23.390625 48.390625 19.1875 42.75 \r\nQ 14.984375 37.109375 14.984375 27.296875 \r\nQ 14.984375 17.484375 19.15625 11.84375 \r\nQ 23.34375 6.203125 30.609375 6.203125 \r\nQ 37.796875 6.203125 41.984375 11.859375 \r\nQ 46.1875 17.53125 46.1875 27.296875 \r\nQ 46.1875 37.015625 41.984375 42.703125 \r\nQ 37.796875 48.390625 30.609375 48.390625 \r\nz\r\nM 30.609375 56 \r\nQ 42.328125 56 49.015625 48.375 \r\nQ 55.71875 40.765625 55.71875 27.296875 \r\nQ 55.71875 13.875 49.015625 6.21875 \r\nQ 42.328125 -1.421875 30.609375 -1.421875 \r\nQ 18.84375 -1.421875 12.171875 6.21875 \r\nQ 5.515625 13.875 5.515625 27.296875 \r\nQ 5.515625 40.765625 12.171875 48.375 \r\nQ 18.84375 56 30.609375 56 \r\nz\r\n\" id=\"DejaVuSans-111\"/>\r\n       <path d=\"M 48.78125 52.59375 \r\nL 48.78125 44.1875 \r\nQ 44.96875 46.296875 41.140625 47.34375 \r\nQ 37.3125 48.390625 33.40625 48.390625 \r\nQ 24.65625 48.390625 19.8125 42.84375 \r\nQ 14.984375 37.3125 14.984375 27.296875 \r\nQ 14.984375 17.28125 19.8125 11.734375 \r\nQ 24.65625 6.203125 33.40625 6.203125 \r\nQ 37.3125 6.203125 41.140625 7.25 \r\nQ 44.96875 8.296875 48.78125 10.40625 \r\nL 48.78125 2.09375 \r\nQ 45.015625 0.34375 40.984375 -0.53125 \r\nQ 36.96875 -1.421875 32.421875 -1.421875 \r\nQ 20.0625 -1.421875 12.78125 6.34375 \r\nQ 5.515625 14.109375 5.515625 27.296875 \r\nQ 5.515625 40.671875 12.859375 48.328125 \r\nQ 20.21875 56 33.015625 56 \r\nQ 37.15625 56 41.109375 55.140625 \r\nQ 45.0625 54.296875 48.78125 52.59375 \r\nz\r\n\" id=\"DejaVuSans-99\"/>\r\n       <path d=\"M 54.890625 33.015625 \r\nL 54.890625 0 \r\nL 45.90625 0 \r\nL 45.90625 32.71875 \r\nQ 45.90625 40.484375 42.875 44.328125 \r\nQ 39.84375 48.1875 33.796875 48.1875 \r\nQ 26.515625 48.1875 22.3125 43.546875 \r\nQ 18.109375 38.921875 18.109375 30.90625 \r\nL 18.109375 0 \r\nL 9.078125 0 \r\nL 9.078125 75.984375 \r\nL 18.109375 75.984375 \r\nL 18.109375 46.1875 \r\nQ 21.34375 51.125 25.703125 53.5625 \r\nQ 30.078125 56 35.796875 56 \r\nQ 45.21875 56 50.046875 50.171875 \r\nQ 54.890625 44.34375 54.890625 33.015625 \r\nz\r\n\" id=\"DejaVuSans-104\"/>\r\n       <path d=\"M 44.28125 53.078125 \r\nL 44.28125 44.578125 \r\nQ 40.484375 46.53125 36.375 47.5 \r\nQ 32.28125 48.484375 27.875 48.484375 \r\nQ 21.1875 48.484375 17.84375 46.4375 \r\nQ 14.5 44.390625 14.5 40.28125 \r\nQ 14.5 37.15625 16.890625 35.375 \r\nQ 19.28125 33.59375 26.515625 31.984375 \r\nL 29.59375 31.296875 \r\nQ 39.15625 29.25 43.1875 25.515625 \r\nQ 47.21875 21.78125 47.21875 15.09375 \r\nQ 47.21875 7.46875 41.1875 3.015625 \r\nQ 35.15625 -1.421875 24.609375 -1.421875 \r\nQ 20.21875 -1.421875 15.453125 -0.5625 \r\nQ 10.6875 0.296875 5.421875 2 \r\nL 5.421875 11.28125 \r\nQ 10.40625 8.6875 15.234375 7.390625 \r\nQ 20.0625 6.109375 24.8125 6.109375 \r\nQ 31.15625 6.109375 34.5625 8.28125 \r\nQ 37.984375 10.453125 37.984375 14.40625 \r\nQ 37.984375 18.0625 35.515625 20.015625 \r\nQ 33.0625 21.96875 24.703125 23.78125 \r\nL 21.578125 24.515625 \r\nQ 13.234375 26.265625 9.515625 29.90625 \r\nQ 5.8125 33.546875 5.8125 39.890625 \r\nQ 5.8125 47.609375 11.28125 51.796875 \r\nQ 16.75 56 26.8125 56 \r\nQ 31.78125 56 36.171875 55.265625 \r\nQ 40.578125 54.546875 44.28125 53.078125 \r\nz\r\n\" id=\"DejaVuSans-115\"/>\r\n      </defs>\r\n      <use xlink:href=\"#DejaVuSans-101\"/>\r\n      <use x=\"61.523438\" xlink:href=\"#DejaVuSans-112\"/>\r\n      <use x=\"125\" xlink:href=\"#DejaVuSans-111\"/>\r\n      <use x=\"186.181641\" xlink:href=\"#DejaVuSans-99\"/>\r\n      <use x=\"241.162109\" xlink:href=\"#DejaVuSans-104\"/>\r\n      <use x=\"304.541016\" xlink:href=\"#DejaVuSans-115\"/>\r\n     </g>\r\n    </g>\r\n   </g>\r\n   <g id=\"matplotlib.axis_2\">\r\n    <g id=\"ytick_1\">\r\n     <g id=\"line2d_10\">\r\n      <defs>\r\n       <path d=\"M 0 0 \r\nL -3.5 0 \r\n\" id=\"ma4423e3942\" style=\"stroke:#000000;stroke-width:0.8;\"/>\r\n      </defs>\r\n      <g>\r\n       <use style=\"stroke:#000000;stroke-width:0.8;\" x=\"50.14375\" xlink:href=\"#ma4423e3942\" y=\"369.586951\"/>\r\n      </g>\r\n     </g>\r\n     <g id=\"text_11\">\r\n      <!-- 0.00 -->\r\n      <g transform=\"translate(20.878125 373.386169)scale(0.1 -0.1)\">\r\n       <defs>\r\n        <path d=\"M 10.6875 12.40625 \r\nL 21 12.40625 \r\nL 21 0 \r\nL 10.6875 0 \r\nz\r\n\" id=\"DejaVuSans-46\"/>\r\n       </defs>\r\n       <use xlink:href=\"#DejaVuSans-48\"/>\r\n       <use x=\"63.623047\" xlink:href=\"#DejaVuSans-46\"/>\r\n       <use x=\"95.410156\" xlink:href=\"#DejaVuSans-48\"/>\r\n       <use x=\"159.033203\" xlink:href=\"#DejaVuSans-48\"/>\r\n      </g>\r\n     </g>\r\n    </g>\r\n    <g id=\"ytick_2\">\r\n     <g id=\"line2d_11\">\r\n      <g>\r\n       <use style=\"stroke:#000000;stroke-width:0.8;\" x=\"50.14375\" xlink:href=\"#ma4423e3942\" y=\"326.63613\"/>\r\n      </g>\r\n     </g>\r\n     <g id=\"text_12\">\r\n      <!-- 0.25 -->\r\n      <g transform=\"translate(20.878125 330.435348)scale(0.1 -0.1)\">\r\n       <use xlink:href=\"#DejaVuSans-48\"/>\r\n       <use x=\"63.623047\" xlink:href=\"#DejaVuSans-46\"/>\r\n       <use x=\"95.410156\" xlink:href=\"#DejaVuSans-50\"/>\r\n       <use x=\"159.033203\" xlink:href=\"#DejaVuSans-53\"/>\r\n      </g>\r\n     </g>\r\n    </g>\r\n    <g id=\"ytick_3\">\r\n     <g id=\"line2d_12\">\r\n      <g>\r\n       <use style=\"stroke:#000000;stroke-width:0.8;\" x=\"50.14375\" xlink:href=\"#ma4423e3942\" y=\"283.685309\"/>\r\n      </g>\r\n     </g>\r\n     <g id=\"text_13\">\r\n      <!-- 0.50 -->\r\n      <g transform=\"translate(20.878125 287.484528)scale(0.1 -0.1)\">\r\n       <use xlink:href=\"#DejaVuSans-48\"/>\r\n       <use x=\"63.623047\" xlink:href=\"#DejaVuSans-46\"/>\r\n       <use x=\"95.410156\" xlink:href=\"#DejaVuSans-53\"/>\r\n       <use x=\"159.033203\" xlink:href=\"#DejaVuSans-48\"/>\r\n      </g>\r\n     </g>\r\n    </g>\r\n    <g id=\"ytick_4\">\r\n     <g id=\"line2d_13\">\r\n      <g>\r\n       <use style=\"stroke:#000000;stroke-width:0.8;\" x=\"50.14375\" xlink:href=\"#ma4423e3942\" y=\"240.734488\"/>\r\n      </g>\r\n     </g>\r\n     <g id=\"text_14\">\r\n      <!-- 0.75 -->\r\n      <g transform=\"translate(20.878125 244.533707)scale(0.1 -0.1)\">\r\n       <use xlink:href=\"#DejaVuSans-48\"/>\r\n       <use x=\"63.623047\" xlink:href=\"#DejaVuSans-46\"/>\r\n       <use x=\"95.410156\" xlink:href=\"#DejaVuSans-55\"/>\r\n       <use x=\"159.033203\" xlink:href=\"#DejaVuSans-53\"/>\r\n      </g>\r\n     </g>\r\n    </g>\r\n    <g id=\"ytick_5\">\r\n     <g id=\"line2d_14\">\r\n      <g>\r\n       <use style=\"stroke:#000000;stroke-width:0.8;\" x=\"50.14375\" xlink:href=\"#ma4423e3942\" y=\"197.783667\"/>\r\n      </g>\r\n     </g>\r\n     <g id=\"text_15\">\r\n      <!-- 1.00 -->\r\n      <g transform=\"translate(20.878125 201.582886)scale(0.1 -0.1)\">\r\n       <use xlink:href=\"#DejaVuSans-49\"/>\r\n       <use x=\"63.623047\" xlink:href=\"#DejaVuSans-46\"/>\r\n       <use x=\"95.410156\" xlink:href=\"#DejaVuSans-48\"/>\r\n       <use x=\"159.033203\" xlink:href=\"#DejaVuSans-48\"/>\r\n      </g>\r\n     </g>\r\n    </g>\r\n    <g id=\"ytick_6\">\r\n     <g id=\"line2d_15\">\r\n      <g>\r\n       <use style=\"stroke:#000000;stroke-width:0.8;\" x=\"50.14375\" xlink:href=\"#ma4423e3942\" y=\"154.832846\"/>\r\n      </g>\r\n     </g>\r\n     <g id=\"text_16\">\r\n      <!-- 1.25 -->\r\n      <g transform=\"translate(20.878125 158.632065)scale(0.1 -0.1)\">\r\n       <use xlink:href=\"#DejaVuSans-49\"/>\r\n       <use x=\"63.623047\" xlink:href=\"#DejaVuSans-46\"/>\r\n       <use x=\"95.410156\" xlink:href=\"#DejaVuSans-50\"/>\r\n       <use x=\"159.033203\" xlink:href=\"#DejaVuSans-53\"/>\r\n      </g>\r\n     </g>\r\n    </g>\r\n    <g id=\"ytick_7\">\r\n     <g id=\"line2d_16\">\r\n      <g>\r\n       <use style=\"stroke:#000000;stroke-width:0.8;\" x=\"50.14375\" xlink:href=\"#ma4423e3942\" y=\"111.882026\"/>\r\n      </g>\r\n     </g>\r\n     <g id=\"text_17\">\r\n      <!-- 1.50 -->\r\n      <g transform=\"translate(20.878125 115.681244)scale(0.1 -0.1)\">\r\n       <use xlink:href=\"#DejaVuSans-49\"/>\r\n       <use x=\"63.623047\" xlink:href=\"#DejaVuSans-46\"/>\r\n       <use x=\"95.410156\" xlink:href=\"#DejaVuSans-53\"/>\r\n       <use x=\"159.033203\" xlink:href=\"#DejaVuSans-48\"/>\r\n      </g>\r\n     </g>\r\n    </g>\r\n    <g id=\"ytick_8\">\r\n     <g id=\"line2d_17\">\r\n      <g>\r\n       <use style=\"stroke:#000000;stroke-width:0.8;\" x=\"50.14375\" xlink:href=\"#ma4423e3942\" y=\"68.931205\"/>\r\n      </g>\r\n     </g>\r\n     <g id=\"text_18\">\r\n      <!-- 1.75 -->\r\n      <g transform=\"translate(20.878125 72.730424)scale(0.1 -0.1)\">\r\n       <use xlink:href=\"#DejaVuSans-49\"/>\r\n       <use x=\"63.623047\" xlink:href=\"#DejaVuSans-46\"/>\r\n       <use x=\"95.410156\" xlink:href=\"#DejaVuSans-55\"/>\r\n       <use x=\"159.033203\" xlink:href=\"#DejaVuSans-53\"/>\r\n      </g>\r\n     </g>\r\n    </g>\r\n    <g id=\"text_19\">\r\n     <!-- BCE loss -->\r\n     <g transform=\"translate(14.798438 234.720625)rotate(-90)scale(0.1 -0.1)\">\r\n      <defs>\r\n       <path d=\"M 19.671875 34.8125 \r\nL 19.671875 8.109375 \r\nL 35.5 8.109375 \r\nQ 43.453125 8.109375 47.28125 11.40625 \r\nQ 51.125 14.703125 51.125 21.484375 \r\nQ 51.125 28.328125 47.28125 31.5625 \r\nQ 43.453125 34.8125 35.5 34.8125 \r\nz\r\nM 19.671875 64.796875 \r\nL 19.671875 42.828125 \r\nL 34.28125 42.828125 \r\nQ 41.5 42.828125 45.03125 45.53125 \r\nQ 48.578125 48.25 48.578125 53.8125 \r\nQ 48.578125 59.328125 45.03125 62.0625 \r\nQ 41.5 64.796875 34.28125 64.796875 \r\nz\r\nM 9.8125 72.90625 \r\nL 35.015625 72.90625 \r\nQ 46.296875 72.90625 52.390625 68.21875 \r\nQ 58.5 63.53125 58.5 54.890625 \r\nQ 58.5 48.1875 55.375 44.234375 \r\nQ 52.25 40.28125 46.1875 39.3125 \r\nQ 53.46875 37.75 57.5 32.78125 \r\nQ 61.53125 27.828125 61.53125 20.40625 \r\nQ 61.53125 10.640625 54.890625 5.3125 \r\nQ 48.25 0 35.984375 0 \r\nL 9.8125 0 \r\nz\r\n\" id=\"DejaVuSans-66\"/>\r\n       <path d=\"M 64.40625 67.28125 \r\nL 64.40625 56.890625 \r\nQ 59.421875 61.53125 53.78125 63.8125 \r\nQ 48.140625 66.109375 41.796875 66.109375 \r\nQ 29.296875 66.109375 22.65625 58.46875 \r\nQ 16.015625 50.828125 16.015625 36.375 \r\nQ 16.015625 21.96875 22.65625 14.328125 \r\nQ 29.296875 6.6875 41.796875 6.6875 \r\nQ 48.140625 6.6875 53.78125 8.984375 \r\nQ 59.421875 11.28125 64.40625 15.921875 \r\nL 64.40625 5.609375 \r\nQ 59.234375 2.09375 53.4375 0.328125 \r\nQ 47.65625 -1.421875 41.21875 -1.421875 \r\nQ 24.65625 -1.421875 15.125 8.703125 \r\nQ 5.609375 18.84375 5.609375 36.375 \r\nQ 5.609375 53.953125 15.125 64.078125 \r\nQ 24.65625 74.21875 41.21875 74.21875 \r\nQ 47.75 74.21875 53.53125 72.484375 \r\nQ 59.328125 70.75 64.40625 67.28125 \r\nz\r\n\" id=\"DejaVuSans-67\"/>\r\n       <path d=\"M 9.8125 72.90625 \r\nL 55.90625 72.90625 \r\nL 55.90625 64.59375 \r\nL 19.671875 64.59375 \r\nL 19.671875 43.015625 \r\nL 54.390625 43.015625 \r\nL 54.390625 34.71875 \r\nL 19.671875 34.71875 \r\nL 19.671875 8.296875 \r\nL 56.78125 8.296875 \r\nL 56.78125 0 \r\nL 9.8125 0 \r\nz\r\n\" id=\"DejaVuSans-69\"/>\r\n       <path id=\"DejaVuSans-32\"/>\r\n       <path d=\"M 9.421875 75.984375 \r\nL 18.40625 75.984375 \r\nL 18.40625 0 \r\nL 9.421875 0 \r\nz\r\n\" id=\"DejaVuSans-108\"/>\r\n      </defs>\r\n      <use xlink:href=\"#DejaVuSans-66\"/>\r\n      <use x=\"66.853516\" xlink:href=\"#DejaVuSans-67\"/>\r\n      <use x=\"136.677734\" xlink:href=\"#DejaVuSans-69\"/>\r\n      <use x=\"199.861328\" xlink:href=\"#DejaVuSans-32\"/>\r\n      <use x=\"231.648438\" xlink:href=\"#DejaVuSans-108\"/>\r\n      <use x=\"259.431641\" xlink:href=\"#DejaVuSans-111\"/>\r\n      <use x=\"320.613281\" xlink:href=\"#DejaVuSans-115\"/>\r\n      <use x=\"372.712891\" xlink:href=\"#DejaVuSans-115\"/>\r\n     </g>\r\n    </g>\r\n   </g>\r\n   <g id=\"line2d_18\">\r\n    <path clip-path=\"url(#pc2a3ba3cdd)\" d=\"M 68.590031 65.225455 \r\nL 69.881917 79.408193 \r\nL 70.620137 90.026435 \r\nL 71.727467 107.540272 \r\nL 72.096578 110.290892 \r\nL 72.281133 110.638385 \r\nL 72.650243 110.565004 \r\nL 72.834798 110.750291 \r\nL 73.203908 111.961552 \r\nL 73.942129 114.77394 \r\nL 74.311239 115.386882 \r\nL 74.864904 116.010904 \r\nL 75.234014 116.811714 \r\nL 75.787679 118.616214 \r\nL 77.079565 123.8561 \r\nL 77.817785 128.890895 \r\nL 78.740561 137.283373 \r\nL 79.478781 143.695914 \r\nL 80.217002 149.027922 \r\nL 80.955222 154.55087 \r\nL 81.693442 159.840668 \r\nL 82.985328 171.105461 \r\nL 83.354438 173.666451 \r\nL 83.538993 172.675909 \r\nL 83.723548 175.979544 \r\nL 83.908103 177.258267 \r\nL 84.092658 177.099687 \r\nL 84.277213 180.018492 \r\nL 84.461769 180.867124 \r\nL 84.646324 181.121943 \r\nL 85.015434 184.620389 \r\nL 85.199989 184.987954 \r\nL 85.569099 187.862911 \r\nL 85.753654 188.420145 \r\nL 86.122764 190.848913 \r\nL 86.307319 191.354782 \r\nL 86.67643 193.660134 \r\nL 86.860985 194.32821 \r\nL 87.230095 196.632824 \r\nL 87.41465 197.3546 \r\nL 88.15287 201.57477 \r\nL 91.474862 220.417048 \r\nL 99.04162 264.873854 \r\nL 99.410731 266.151769 \r\nL 99.964396 269.553608 \r\nL 100.702616 273.253276 \r\nL 101.071726 275.153738 \r\nL 104.024608 288.243644 \r\nL 104.393718 289.248056 \r\nL 104.762828 291.542435 \r\nL 104.947383 291.816747 \r\nL 105.131938 292.38309 \r\nL 105.501048 294.174739 \r\nL 105.685604 294.529206 \r\nL 106.054714 296.264425 \r\nL 106.239269 296.667247 \r\nL 108.269375 303.884535 \r\nL 109.376705 306.584133 \r\nL 109.56126 305.918013 \r\nL 109.745815 306.170717 \r\nL 109.930371 307.59709 \r\nL 110.114926 308.150162 \r\nL 110.484036 310.240095 \r\nL 110.668591 310.10927 \r\nL 110.853146 311.317868 \r\nL 111.222256 311.474078 \r\nL 111.406811 312.702184 \r\nL 111.591366 312.41368 \r\nL 112.329587 314.61413 \r\nL 112.514142 314.574383 \r\nL 112.698697 315.779945 \r\nL 112.883252 315.723833 \r\nL 113.621472 317.733389 \r\nL 113.806027 317.895723 \r\nL 113.990583 318.596225 \r\nL 114.359693 319.068654 \r\nL 114.544248 319.708754 \r\nL 114.728803 319.922709 \r\nL 114.913358 320.443826 \r\nL 115.097913 320.603149 \r\nL 116.020688 322.560409 \r\nL 116.205244 322.810942 \r\nL 116.574354 323.661218 \r\nL 116.943464 324.416197 \r\nL 117.128019 324.639855 \r\nL 117.866239 326.202091 \r\nL 119.34268 328.4251 \r\nL 119.527235 328.154176 \r\nL 119.71179 324.605197 \r\nL 119.896345 309.868096 \r\nL 120.0809 310.293293 \r\nL 120.265455 325.28364 \r\nL 120.450011 318.206787 \r\nL 120.634566 323.842931 \r\nL 120.819121 325.322482 \r\nL 121.003676 321.980507 \r\nL 121.188231 327.294129 \r\nL 121.372786 324.441547 \r\nL 121.557341 326.493119 \r\nL 121.926451 327.388815 \r\nL 122.111006 328.989342 \r\nL 122.480117 327.947366 \r\nL 122.849227 330.649216 \r\nL 123.033782 329.466068 \r\nL 123.402892 331.53638 \r\nL 123.587447 330.980182 \r\nL 123.772002 331.107614 \r\nL 123.956557 332.130613 \r\nL 124.141112 332.345955 \r\nL 124.325667 332.020304 \r\nL 124.879333 333.283619 \r\nL 125.063888 333.191569 \r\nL 125.617553 334.046291 \r\nL 125.802108 334.085291 \r\nL 126.171218 334.718053 \r\nL 126.355773 334.735569 \r\nL 129.677765 337.846869 \r\nL 130.969651 338.856258 \r\nL 134.660752 341.491001 \r\nL 137.798189 343.481818 \r\nL 141.673846 345.701778 \r\nL 145.549502 347.688612 \r\nL 149.609714 349.510528 \r\nL 153.300816 350.932362 \r\nL 157.176473 352.195583 \r\nL 161.605795 353.404718 \r\nL 162.344015 353.509974 \r\nL 162.528571 353.056444 \r\nL 162.713126 332.423802 \r\nL 163.082236 196.098118 \r\nL 163.451346 306.176508 \r\nL 163.635901 269.19228 \r\nL 163.820456 287.377117 \r\nL 164.005011 333.83217 \r\nL 164.374121 304.059997 \r\nL 164.743232 323.95922 \r\nL 164.927787 318.167434 \r\nL 165.112342 323.512933 \r\nL 165.296897 335.11577 \r\nL 165.481452 334.662756 \r\nL 165.666007 326.854721 \r\nL 165.850562 327.680343 \r\nL 166.219672 338.844179 \r\nL 166.588782 336.238601 \r\nL 167.142448 341.88305 \r\nL 167.327003 341.326245 \r\nL 167.511558 342.035279 \r\nL 167.880668 345.994133 \r\nL 168.065223 345.902764 \r\nL 168.249778 345.029246 \r\nL 168.434333 345.095895 \r\nL 168.803443 347.628112 \r\nL 168.987999 347.94863 \r\nL 169.172554 347.885012 \r\nL 169.357109 348.287714 \r\nL 169.726219 349.409103 \r\nL 169.910774 349.445721 \r\nL 170.095329 349.293261 \r\nL 170.279884 349.428145 \r\nL 170.648994 350.42899 \r\nL 170.833549 350.623423 \r\nL 171.20266 350.740547 \r\nL 171.756325 351.299468 \r\nL 172.125435 351.43072 \r\nL 172.863655 351.978303 \r\nL 173.232766 352.088943 \r\nL 173.970986 352.427102 \r\nL 176.185647 353.119687 \r\nL 177.846643 353.494446 \r\nL 182.46052 354.245761 \r\nL 188.919948 355.009116 \r\nL 198.147702 355.861118 \r\nL 210.882003 356.804418 \r\nL 227.676516 357.816196 \r\nL 245.94747 358.693104 \r\nL 270.124186 359.628755 \r\nL 293.009017 360.288782 \r\nL 320.876836 360.81066 \r\nL 358.895184 361.242313 \r\nL 415.184485 361.629968 \r\nL 437.515651 361.734026 \r\nL 437.515651 361.734026 \r\n\" style=\"fill:none;stroke:#1f77b4;stroke-linecap:square;stroke-width:1.5;\"/>\r\n   </g>\r\n   <g id=\"patch_3\">\r\n    <path d=\"M 50.14375 376.56 \r\nL 50.14375 50.4 \r\n\" style=\"fill:none;stroke:#000000;stroke-linecap:square;stroke-linejoin:miter;stroke-width:0.8;\"/>\r\n   </g>\r\n   <g id=\"patch_4\">\r\n    <path d=\"M 455.961932 376.56 \r\nL 455.961932 50.4 \r\n\" style=\"fill:none;stroke:#000000;stroke-linecap:square;stroke-linejoin:miter;stroke-width:0.8;\"/>\r\n   </g>\r\n   <g id=\"patch_5\">\r\n    <path d=\"M 50.14375 376.56 \r\nL 455.961932 376.56 \r\n\" style=\"fill:none;stroke:#000000;stroke-linecap:square;stroke-linejoin:miter;stroke-width:0.8;\"/>\r\n   </g>\r\n   <g id=\"patch_6\">\r\n    <path d=\"M 50.14375 50.4 \r\nL 455.961932 50.4 \r\n\" style=\"fill:none;stroke:#000000;stroke-linecap:square;stroke-linejoin:miter;stroke-width:0.8;\"/>\r\n   </g>\r\n   <g id=\"legend_1\">\r\n    <g id=\"patch_7\">\r\n     <path d=\"M 393.686932 73.078125 \r\nL 448.961932 73.078125 \r\nQ 450.961932 73.078125 450.961932 71.078125 \r\nL 450.961932 57.4 \r\nQ 450.961932 55.4 448.961932 55.4 \r\nL 393.686932 55.4 \r\nQ 391.686932 55.4 391.686932 57.4 \r\nL 391.686932 71.078125 \r\nQ 391.686932 73.078125 393.686932 73.078125 \r\nz\r\n\" style=\"fill:#ffffff;opacity:0.8;stroke:#cccccc;stroke-linejoin:miter;\"/>\r\n    </g>\r\n    <g id=\"line2d_19\">\r\n     <path d=\"M 395.686932 63.498437 \r\nL 415.686932 63.498437 \r\n\" style=\"fill:none;stroke:#1f77b4;stroke-linecap:square;stroke-width:1.5;\"/>\r\n    </g>\r\n    <g id=\"line2d_20\"/>\r\n    <g id=\"text_20\">\r\n     <!-- train -->\r\n     <g transform=\"translate(423.686932 66.998437)scale(0.1 -0.1)\">\r\n      <defs>\r\n       <path d=\"M 18.3125 70.21875 \r\nL 18.3125 54.6875 \r\nL 36.8125 54.6875 \r\nL 36.8125 47.703125 \r\nL 18.3125 47.703125 \r\nL 18.3125 18.015625 \r\nQ 18.3125 11.328125 20.140625 9.421875 \r\nQ 21.96875 7.515625 27.59375 7.515625 \r\nL 36.8125 7.515625 \r\nL 36.8125 0 \r\nL 27.59375 0 \r\nQ 17.1875 0 13.234375 3.875 \r\nQ 9.28125 7.765625 9.28125 18.015625 \r\nL 9.28125 47.703125 \r\nL 2.6875 47.703125 \r\nL 2.6875 54.6875 \r\nL 9.28125 54.6875 \r\nL 9.28125 70.21875 \r\nz\r\n\" id=\"DejaVuSans-116\"/>\r\n       <path d=\"M 41.109375 46.296875 \r\nQ 39.59375 47.171875 37.8125 47.578125 \r\nQ 36.03125 48 33.890625 48 \r\nQ 26.265625 48 22.1875 43.046875 \r\nQ 18.109375 38.09375 18.109375 28.8125 \r\nL 18.109375 0 \r\nL 9.078125 0 \r\nL 9.078125 54.6875 \r\nL 18.109375 54.6875 \r\nL 18.109375 46.1875 \r\nQ 20.953125 51.171875 25.484375 53.578125 \r\nQ 30.03125 56 36.53125 56 \r\nQ 37.453125 56 38.578125 55.875 \r\nQ 39.703125 55.765625 41.0625 55.515625 \r\nz\r\n\" id=\"DejaVuSans-114\"/>\r\n       <path d=\"M 34.28125 27.484375 \r\nQ 23.390625 27.484375 19.1875 25 \r\nQ 14.984375 22.515625 14.984375 16.5 \r\nQ 14.984375 11.71875 18.140625 8.90625 \r\nQ 21.296875 6.109375 26.703125 6.109375 \r\nQ 34.1875 6.109375 38.703125 11.40625 \r\nQ 43.21875 16.703125 43.21875 25.484375 \r\nL 43.21875 27.484375 \r\nz\r\nM 52.203125 31.203125 \r\nL 52.203125 0 \r\nL 43.21875 0 \r\nL 43.21875 8.296875 \r\nQ 40.140625 3.328125 35.546875 0.953125 \r\nQ 30.953125 -1.421875 24.3125 -1.421875 \r\nQ 15.921875 -1.421875 10.953125 3.296875 \r\nQ 6 8.015625 6 15.921875 \r\nQ 6 25.140625 12.171875 29.828125 \r\nQ 18.359375 34.515625 30.609375 34.515625 \r\nL 43.21875 34.515625 \r\nL 43.21875 35.40625 \r\nQ 43.21875 41.609375 39.140625 45 \r\nQ 35.0625 48.390625 27.6875 48.390625 \r\nQ 23 48.390625 18.546875 47.265625 \r\nQ 14.109375 46.140625 10.015625 43.890625 \r\nL 10.015625 52.203125 \r\nQ 14.9375 54.109375 19.578125 55.046875 \r\nQ 24.21875 56 28.609375 56 \r\nQ 40.484375 56 46.34375 49.84375 \r\nQ 52.203125 43.703125 52.203125 31.203125 \r\nz\r\n\" id=\"DejaVuSans-97\"/>\r\n       <path d=\"M 9.421875 54.6875 \r\nL 18.40625 54.6875 \r\nL 18.40625 0 \r\nL 9.421875 0 \r\nz\r\nM 9.421875 75.984375 \r\nL 18.40625 75.984375 \r\nL 18.40625 64.59375 \r\nL 9.421875 64.59375 \r\nz\r\n\" id=\"DejaVuSans-105\"/>\r\n       <path d=\"M 54.890625 33.015625 \r\nL 54.890625 0 \r\nL 45.90625 0 \r\nL 45.90625 32.71875 \r\nQ 45.90625 40.484375 42.875 44.328125 \r\nQ 39.84375 48.1875 33.796875 48.1875 \r\nQ 26.515625 48.1875 22.3125 43.546875 \r\nQ 18.109375 38.921875 18.109375 30.90625 \r\nL 18.109375 0 \r\nL 9.078125 0 \r\nL 9.078125 54.6875 \r\nL 18.109375 54.6875 \r\nL 18.109375 46.1875 \r\nQ 21.34375 51.125 25.703125 53.5625 \r\nQ 30.078125 56 35.796875 56 \r\nQ 45.21875 56 50.046875 50.171875 \r\nQ 54.890625 44.34375 54.890625 33.015625 \r\nz\r\n\" id=\"DejaVuSans-110\"/>\r\n      </defs>\r\n      <use xlink:href=\"#DejaVuSans-116\"/>\r\n      <use x=\"39.208984\" xlink:href=\"#DejaVuSans-114\"/>\r\n      <use x=\"80.322266\" xlink:href=\"#DejaVuSans-97\"/>\r\n      <use x=\"141.601562\" xlink:href=\"#DejaVuSans-105\"/>\r\n      <use x=\"169.384766\" xlink:href=\"#DejaVuSans-110\"/>\r\n     </g>\r\n    </g>\r\n   </g>\r\n  </g>\r\n  <g id=\"axes_2\">\r\n   <g id=\"patch_8\">\r\n    <path d=\"M 537.125568 376.56 \r\nL 942.94375 376.56 \r\nL 942.94375 50.4 \r\nL 537.125568 50.4 \r\nz\r\n\" style=\"fill:#ffffff;\"/>\r\n   </g>\r\n   <g id=\"matplotlib.axis_3\">\r\n    <g id=\"xtick_10\">\r\n     <g id=\"line2d_21\">\r\n      <g>\r\n       <use style=\"stroke:#000000;stroke-width:0.8;\" x=\"555.571849\" xlink:href=\"#md3d1f58205\" y=\"376.56\"/>\r\n      </g>\r\n     </g>\r\n     <g id=\"text_21\">\r\n      <!-- 0 -->\r\n      <g transform=\"translate(552.390599 391.158437)scale(0.1 -0.1)\">\r\n       <use xlink:href=\"#DejaVuSans-48\"/>\r\n      </g>\r\n     </g>\r\n    </g>\r\n    <g id=\"xtick_11\">\r\n     <g id=\"line2d_22\">\r\n      <g>\r\n       <use style=\"stroke:#000000;stroke-width:0.8;\" x=\"601.710621\" xlink:href=\"#md3d1f58205\" y=\"376.56\"/>\r\n      </g>\r\n     </g>\r\n     <g id=\"text_22\">\r\n      <!-- 250 -->\r\n      <g transform=\"translate(592.166871 391.158437)scale(0.1 -0.1)\">\r\n       <use xlink:href=\"#DejaVuSans-50\"/>\r\n       <use x=\"63.623047\" xlink:href=\"#DejaVuSans-53\"/>\r\n       <use x=\"127.246094\" xlink:href=\"#DejaVuSans-48\"/>\r\n      </g>\r\n     </g>\r\n    </g>\r\n    <g id=\"xtick_12\">\r\n     <g id=\"line2d_23\">\r\n      <g>\r\n       <use style=\"stroke:#000000;stroke-width:0.8;\" x=\"647.849393\" xlink:href=\"#md3d1f58205\" y=\"376.56\"/>\r\n      </g>\r\n     </g>\r\n     <g id=\"text_23\">\r\n      <!-- 500 -->\r\n      <g transform=\"translate(638.305643 391.158437)scale(0.1 -0.1)\">\r\n       <use xlink:href=\"#DejaVuSans-53\"/>\r\n       <use x=\"63.623047\" xlink:href=\"#DejaVuSans-48\"/>\r\n       <use x=\"127.246094\" xlink:href=\"#DejaVuSans-48\"/>\r\n      </g>\r\n     </g>\r\n    </g>\r\n    <g id=\"xtick_13\">\r\n     <g id=\"line2d_24\">\r\n      <g>\r\n       <use style=\"stroke:#000000;stroke-width:0.8;\" x=\"693.988165\" xlink:href=\"#md3d1f58205\" y=\"376.56\"/>\r\n      </g>\r\n     </g>\r\n     <g id=\"text_24\">\r\n      <!-- 750 -->\r\n      <g transform=\"translate(684.444415 391.158437)scale(0.1 -0.1)\">\r\n       <use xlink:href=\"#DejaVuSans-55\"/>\r\n       <use x=\"63.623047\" xlink:href=\"#DejaVuSans-53\"/>\r\n       <use x=\"127.246094\" xlink:href=\"#DejaVuSans-48\"/>\r\n      </g>\r\n     </g>\r\n    </g>\r\n    <g id=\"xtick_14\">\r\n     <g id=\"line2d_25\">\r\n      <g>\r\n       <use style=\"stroke:#000000;stroke-width:0.8;\" x=\"740.126937\" xlink:href=\"#md3d1f58205\" y=\"376.56\"/>\r\n      </g>\r\n     </g>\r\n     <g id=\"text_25\">\r\n      <!-- 1000 -->\r\n      <g transform=\"translate(727.401937 391.158437)scale(0.1 -0.1)\">\r\n       <use xlink:href=\"#DejaVuSans-49\"/>\r\n       <use x=\"63.623047\" xlink:href=\"#DejaVuSans-48\"/>\r\n       <use x=\"127.246094\" xlink:href=\"#DejaVuSans-48\"/>\r\n       <use x=\"190.869141\" xlink:href=\"#DejaVuSans-48\"/>\r\n      </g>\r\n     </g>\r\n    </g>\r\n    <g id=\"xtick_15\">\r\n     <g id=\"line2d_26\">\r\n      <g>\r\n       <use style=\"stroke:#000000;stroke-width:0.8;\" x=\"786.265708\" xlink:href=\"#md3d1f58205\" y=\"376.56\"/>\r\n      </g>\r\n     </g>\r\n     <g id=\"text_26\">\r\n      <!-- 1250 -->\r\n      <g transform=\"translate(773.540708 391.158437)scale(0.1 -0.1)\">\r\n       <use xlink:href=\"#DejaVuSans-49\"/>\r\n       <use x=\"63.623047\" xlink:href=\"#DejaVuSans-50\"/>\r\n       <use x=\"127.246094\" xlink:href=\"#DejaVuSans-53\"/>\r\n       <use x=\"190.869141\" xlink:href=\"#DejaVuSans-48\"/>\r\n      </g>\r\n     </g>\r\n    </g>\r\n    <g id=\"xtick_16\">\r\n     <g id=\"line2d_27\">\r\n      <g>\r\n       <use style=\"stroke:#000000;stroke-width:0.8;\" x=\"832.40448\" xlink:href=\"#md3d1f58205\" y=\"376.56\"/>\r\n      </g>\r\n     </g>\r\n     <g id=\"text_27\">\r\n      <!-- 1500 -->\r\n      <g transform=\"translate(819.67948 391.158437)scale(0.1 -0.1)\">\r\n       <use xlink:href=\"#DejaVuSans-49\"/>\r\n       <use x=\"63.623047\" xlink:href=\"#DejaVuSans-53\"/>\r\n       <use x=\"127.246094\" xlink:href=\"#DejaVuSans-48\"/>\r\n       <use x=\"190.869141\" xlink:href=\"#DejaVuSans-48\"/>\r\n      </g>\r\n     </g>\r\n    </g>\r\n    <g id=\"xtick_17\">\r\n     <g id=\"line2d_28\">\r\n      <g>\r\n       <use style=\"stroke:#000000;stroke-width:0.8;\" x=\"878.543252\" xlink:href=\"#md3d1f58205\" y=\"376.56\"/>\r\n      </g>\r\n     </g>\r\n     <g id=\"text_28\">\r\n      <!-- 1750 -->\r\n      <g transform=\"translate(865.818252 391.158437)scale(0.1 -0.1)\">\r\n       <use xlink:href=\"#DejaVuSans-49\"/>\r\n       <use x=\"63.623047\" xlink:href=\"#DejaVuSans-55\"/>\r\n       <use x=\"127.246094\" xlink:href=\"#DejaVuSans-53\"/>\r\n       <use x=\"190.869141\" xlink:href=\"#DejaVuSans-48\"/>\r\n      </g>\r\n     </g>\r\n    </g>\r\n    <g id=\"xtick_18\">\r\n     <g id=\"line2d_29\">\r\n      <g>\r\n       <use style=\"stroke:#000000;stroke-width:0.8;\" x=\"924.682024\" xlink:href=\"#md3d1f58205\" y=\"376.56\"/>\r\n      </g>\r\n     </g>\r\n     <g id=\"text_29\">\r\n      <!-- 2000 -->\r\n      <g transform=\"translate(911.957024 391.158437)scale(0.1 -0.1)\">\r\n       <use xlink:href=\"#DejaVuSans-50\"/>\r\n       <use x=\"63.623047\" xlink:href=\"#DejaVuSans-48\"/>\r\n       <use x=\"127.246094\" xlink:href=\"#DejaVuSans-48\"/>\r\n       <use x=\"190.869141\" xlink:href=\"#DejaVuSans-48\"/>\r\n      </g>\r\n     </g>\r\n    </g>\r\n    <g id=\"text_30\">\r\n     <!-- epochs -->\r\n     <g transform=\"translate(722.201847 404.836562)scale(0.1 -0.1)\">\r\n      <use xlink:href=\"#DejaVuSans-101\"/>\r\n      <use x=\"61.523438\" xlink:href=\"#DejaVuSans-112\"/>\r\n      <use x=\"125\" xlink:href=\"#DejaVuSans-111\"/>\r\n      <use x=\"186.181641\" xlink:href=\"#DejaVuSans-99\"/>\r\n      <use x=\"241.162109\" xlink:href=\"#DejaVuSans-104\"/>\r\n      <use x=\"304.541016\" xlink:href=\"#DejaVuSans-115\"/>\r\n     </g>\r\n    </g>\r\n   </g>\r\n   <g id=\"matplotlib.axis_4\">\r\n    <g id=\"ytick_9\">\r\n     <g id=\"line2d_30\">\r\n      <g>\r\n       <use style=\"stroke:#000000;stroke-width:0.8;\" x=\"537.125568\" xlink:href=\"#ma4423e3942\" y=\"348.370829\"/>\r\n      </g>\r\n     </g>\r\n     <g id=\"text_31\">\r\n      <!-- 0.3 -->\r\n      <g transform=\"translate(514.222443 352.170047)scale(0.1 -0.1)\">\r\n       <defs>\r\n        <path d=\"M 40.578125 39.3125 \r\nQ 47.65625 37.796875 51.625 33 \r\nQ 55.609375 28.21875 55.609375 21.1875 \r\nQ 55.609375 10.40625 48.1875 4.484375 \r\nQ 40.765625 -1.421875 27.09375 -1.421875 \r\nQ 22.515625 -1.421875 17.65625 -0.515625 \r\nQ 12.796875 0.390625 7.625 2.203125 \r\nL 7.625 11.71875 \r\nQ 11.71875 9.328125 16.59375 8.109375 \r\nQ 21.484375 6.890625 26.8125 6.890625 \r\nQ 36.078125 6.890625 40.9375 10.546875 \r\nQ 45.796875 14.203125 45.796875 21.1875 \r\nQ 45.796875 27.640625 41.28125 31.265625 \r\nQ 36.765625 34.90625 28.71875 34.90625 \r\nL 20.21875 34.90625 \r\nL 20.21875 43.015625 \r\nL 29.109375 43.015625 \r\nQ 36.375 43.015625 40.234375 45.921875 \r\nQ 44.09375 48.828125 44.09375 54.296875 \r\nQ 44.09375 59.90625 40.109375 62.90625 \r\nQ 36.140625 65.921875 28.71875 65.921875 \r\nQ 24.65625 65.921875 20.015625 65.03125 \r\nQ 15.375 64.15625 9.8125 62.3125 \r\nL 9.8125 71.09375 \r\nQ 15.4375 72.65625 20.34375 73.4375 \r\nQ 25.25 74.21875 29.59375 74.21875 \r\nQ 40.828125 74.21875 47.359375 69.109375 \r\nQ 53.90625 64.015625 53.90625 55.328125 \r\nQ 53.90625 49.265625 50.4375 45.09375 \r\nQ 46.96875 40.921875 40.578125 39.3125 \r\nz\r\n\" id=\"DejaVuSans-51\"/>\r\n       </defs>\r\n       <use xlink:href=\"#DejaVuSans-48\"/>\r\n       <use x=\"63.623047\" xlink:href=\"#DejaVuSans-46\"/>\r\n       <use x=\"95.410156\" xlink:href=\"#DejaVuSans-51\"/>\r\n      </g>\r\n     </g>\r\n    </g>\r\n    <g id=\"ytick_10\">\r\n     <g id=\"line2d_31\">\r\n      <g>\r\n       <use style=\"stroke:#000000;stroke-width:0.8;\" x=\"537.125568\" xlink:href=\"#ma4423e3942\" y=\"306.687893\"/>\r\n      </g>\r\n     </g>\r\n     <g id=\"text_32\">\r\n      <!-- 0.4 -->\r\n      <g transform=\"translate(514.222443 310.487112)scale(0.1 -0.1)\">\r\n       <defs>\r\n        <path d=\"M 37.796875 64.3125 \r\nL 12.890625 25.390625 \r\nL 37.796875 25.390625 \r\nz\r\nM 35.203125 72.90625 \r\nL 47.609375 72.90625 \r\nL 47.609375 25.390625 \r\nL 58.015625 25.390625 \r\nL 58.015625 17.1875 \r\nL 47.609375 17.1875 \r\nL 47.609375 0 \r\nL 37.796875 0 \r\nL 37.796875 17.1875 \r\nL 4.890625 17.1875 \r\nL 4.890625 26.703125 \r\nz\r\n\" id=\"DejaVuSans-52\"/>\r\n       </defs>\r\n       <use xlink:href=\"#DejaVuSans-48\"/>\r\n       <use x=\"63.623047\" xlink:href=\"#DejaVuSans-46\"/>\r\n       <use x=\"95.410156\" xlink:href=\"#DejaVuSans-52\"/>\r\n      </g>\r\n     </g>\r\n    </g>\r\n    <g id=\"ytick_11\">\r\n     <g id=\"line2d_32\">\r\n      <g>\r\n       <use style=\"stroke:#000000;stroke-width:0.8;\" x=\"537.125568\" xlink:href=\"#ma4423e3942\" y=\"265.004957\"/>\r\n      </g>\r\n     </g>\r\n     <g id=\"text_33\">\r\n      <!-- 0.5 -->\r\n      <g transform=\"translate(514.222443 268.804176)scale(0.1 -0.1)\">\r\n       <use xlink:href=\"#DejaVuSans-48\"/>\r\n       <use x=\"63.623047\" xlink:href=\"#DejaVuSans-46\"/>\r\n       <use x=\"95.410156\" xlink:href=\"#DejaVuSans-53\"/>\r\n      </g>\r\n     </g>\r\n    </g>\r\n    <g id=\"ytick_12\">\r\n     <g id=\"line2d_33\">\r\n      <g>\r\n       <use style=\"stroke:#000000;stroke-width:0.8;\" x=\"537.125568\" xlink:href=\"#ma4423e3942\" y=\"223.322021\"/>\r\n      </g>\r\n     </g>\r\n     <g id=\"text_34\">\r\n      <!-- 0.6 -->\r\n      <g transform=\"translate(514.222443 227.12124)scale(0.1 -0.1)\">\r\n       <defs>\r\n        <path d=\"M 33.015625 40.375 \r\nQ 26.375 40.375 22.484375 35.828125 \r\nQ 18.609375 31.296875 18.609375 23.390625 \r\nQ 18.609375 15.53125 22.484375 10.953125 \r\nQ 26.375 6.390625 33.015625 6.390625 \r\nQ 39.65625 6.390625 43.53125 10.953125 \r\nQ 47.40625 15.53125 47.40625 23.390625 \r\nQ 47.40625 31.296875 43.53125 35.828125 \r\nQ 39.65625 40.375 33.015625 40.375 \r\nz\r\nM 52.59375 71.296875 \r\nL 52.59375 62.3125 \r\nQ 48.875 64.0625 45.09375 64.984375 \r\nQ 41.3125 65.921875 37.59375 65.921875 \r\nQ 27.828125 65.921875 22.671875 59.328125 \r\nQ 17.53125 52.734375 16.796875 39.40625 \r\nQ 19.671875 43.65625 24.015625 45.921875 \r\nQ 28.375 48.1875 33.59375 48.1875 \r\nQ 44.578125 48.1875 50.953125 41.515625 \r\nQ 57.328125 34.859375 57.328125 23.390625 \r\nQ 57.328125 12.15625 50.6875 5.359375 \r\nQ 44.046875 -1.421875 33.015625 -1.421875 \r\nQ 20.359375 -1.421875 13.671875 8.265625 \r\nQ 6.984375 17.96875 6.984375 36.375 \r\nQ 6.984375 53.65625 15.1875 63.9375 \r\nQ 23.390625 74.21875 37.203125 74.21875 \r\nQ 40.921875 74.21875 44.703125 73.484375 \r\nQ 48.484375 72.75 52.59375 71.296875 \r\nz\r\n\" id=\"DejaVuSans-54\"/>\r\n       </defs>\r\n       <use xlink:href=\"#DejaVuSans-48\"/>\r\n       <use x=\"63.623047\" xlink:href=\"#DejaVuSans-46\"/>\r\n       <use x=\"95.410156\" xlink:href=\"#DejaVuSans-54\"/>\r\n      </g>\r\n     </g>\r\n    </g>\r\n    <g id=\"ytick_13\">\r\n     <g id=\"line2d_34\">\r\n      <g>\r\n       <use style=\"stroke:#000000;stroke-width:0.8;\" x=\"537.125568\" xlink:href=\"#ma4423e3942\" y=\"181.639085\"/>\r\n      </g>\r\n     </g>\r\n     <g id=\"text_35\">\r\n      <!-- 0.7 -->\r\n      <g transform=\"translate(514.222443 185.438304)scale(0.1 -0.1)\">\r\n       <use xlink:href=\"#DejaVuSans-48\"/>\r\n       <use x=\"63.623047\" xlink:href=\"#DejaVuSans-46\"/>\r\n       <use x=\"95.410156\" xlink:href=\"#DejaVuSans-55\"/>\r\n      </g>\r\n     </g>\r\n    </g>\r\n    <g id=\"ytick_14\">\r\n     <g id=\"line2d_35\">\r\n      <g>\r\n       <use style=\"stroke:#000000;stroke-width:0.8;\" x=\"537.125568\" xlink:href=\"#ma4423e3942\" y=\"139.956149\"/>\r\n      </g>\r\n     </g>\r\n     <g id=\"text_36\">\r\n      <!-- 0.8 -->\r\n      <g transform=\"translate(514.222443 143.755368)scale(0.1 -0.1)\">\r\n       <defs>\r\n        <path d=\"M 31.78125 34.625 \r\nQ 24.75 34.625 20.71875 30.859375 \r\nQ 16.703125 27.09375 16.703125 20.515625 \r\nQ 16.703125 13.921875 20.71875 10.15625 \r\nQ 24.75 6.390625 31.78125 6.390625 \r\nQ 38.8125 6.390625 42.859375 10.171875 \r\nQ 46.921875 13.96875 46.921875 20.515625 \r\nQ 46.921875 27.09375 42.890625 30.859375 \r\nQ 38.875 34.625 31.78125 34.625 \r\nz\r\nM 21.921875 38.8125 \r\nQ 15.578125 40.375 12.03125 44.71875 \r\nQ 8.5 49.078125 8.5 55.328125 \r\nQ 8.5 64.0625 14.71875 69.140625 \r\nQ 20.953125 74.21875 31.78125 74.21875 \r\nQ 42.671875 74.21875 48.875 69.140625 \r\nQ 55.078125 64.0625 55.078125 55.328125 \r\nQ 55.078125 49.078125 51.53125 44.71875 \r\nQ 48 40.375 41.703125 38.8125 \r\nQ 48.828125 37.15625 52.796875 32.3125 \r\nQ 56.78125 27.484375 56.78125 20.515625 \r\nQ 56.78125 9.90625 50.3125 4.234375 \r\nQ 43.84375 -1.421875 31.78125 -1.421875 \r\nQ 19.734375 -1.421875 13.25 4.234375 \r\nQ 6.78125 9.90625 6.78125 20.515625 \r\nQ 6.78125 27.484375 10.78125 32.3125 \r\nQ 14.796875 37.15625 21.921875 38.8125 \r\nz\r\nM 18.3125 54.390625 \r\nQ 18.3125 48.734375 21.84375 45.5625 \r\nQ 25.390625 42.390625 31.78125 42.390625 \r\nQ 38.140625 42.390625 41.71875 45.5625 \r\nQ 45.3125 48.734375 45.3125 54.390625 \r\nQ 45.3125 60.0625 41.71875 63.234375 \r\nQ 38.140625 66.40625 31.78125 66.40625 \r\nQ 25.390625 66.40625 21.84375 63.234375 \r\nQ 18.3125 60.0625 18.3125 54.390625 \r\nz\r\n\" id=\"DejaVuSans-56\"/>\r\n       </defs>\r\n       <use xlink:href=\"#DejaVuSans-48\"/>\r\n       <use x=\"63.623047\" xlink:href=\"#DejaVuSans-46\"/>\r\n       <use x=\"95.410156\" xlink:href=\"#DejaVuSans-56\"/>\r\n      </g>\r\n     </g>\r\n    </g>\r\n    <g id=\"ytick_15\">\r\n     <g id=\"line2d_36\">\r\n      <g>\r\n       <use style=\"stroke:#000000;stroke-width:0.8;\" x=\"537.125568\" xlink:href=\"#ma4423e3942\" y=\"98.273213\"/>\r\n      </g>\r\n     </g>\r\n     <g id=\"text_37\">\r\n      <!-- 0.9 -->\r\n      <g transform=\"translate(514.222443 102.072432)scale(0.1 -0.1)\">\r\n       <defs>\r\n        <path d=\"M 10.984375 1.515625 \r\nL 10.984375 10.5 \r\nQ 14.703125 8.734375 18.5 7.8125 \r\nQ 22.3125 6.890625 25.984375 6.890625 \r\nQ 35.75 6.890625 40.890625 13.453125 \r\nQ 46.046875 20.015625 46.78125 33.40625 \r\nQ 43.953125 29.203125 39.59375 26.953125 \r\nQ 35.25 24.703125 29.984375 24.703125 \r\nQ 19.046875 24.703125 12.671875 31.3125 \r\nQ 6.296875 37.9375 6.296875 49.421875 \r\nQ 6.296875 60.640625 12.9375 67.421875 \r\nQ 19.578125 74.21875 30.609375 74.21875 \r\nQ 43.265625 74.21875 49.921875 64.515625 \r\nQ 56.59375 54.828125 56.59375 36.375 \r\nQ 56.59375 19.140625 48.40625 8.859375 \r\nQ 40.234375 -1.421875 26.421875 -1.421875 \r\nQ 22.703125 -1.421875 18.890625 -0.6875 \r\nQ 15.09375 0.046875 10.984375 1.515625 \r\nz\r\nM 30.609375 32.421875 \r\nQ 37.25 32.421875 41.125 36.953125 \r\nQ 45.015625 41.5 45.015625 49.421875 \r\nQ 45.015625 57.28125 41.125 61.84375 \r\nQ 37.25 66.40625 30.609375 66.40625 \r\nQ 23.96875 66.40625 20.09375 61.84375 \r\nQ 16.21875 57.28125 16.21875 49.421875 \r\nQ 16.21875 41.5 20.09375 36.953125 \r\nQ 23.96875 32.421875 30.609375 32.421875 \r\nz\r\n\" id=\"DejaVuSans-57\"/>\r\n       </defs>\r\n       <use xlink:href=\"#DejaVuSans-48\"/>\r\n       <use x=\"63.623047\" xlink:href=\"#DejaVuSans-46\"/>\r\n       <use x=\"95.410156\" xlink:href=\"#DejaVuSans-57\"/>\r\n      </g>\r\n     </g>\r\n    </g>\r\n    <g id=\"ytick_16\">\r\n     <g id=\"line2d_37\">\r\n      <g>\r\n       <use style=\"stroke:#000000;stroke-width:0.8;\" x=\"537.125568\" xlink:href=\"#ma4423e3942\" y=\"56.590278\"/>\r\n      </g>\r\n     </g>\r\n     <g id=\"text_38\">\r\n      <!-- 1.0 -->\r\n      <g transform=\"translate(514.222443 60.389496)scale(0.1 -0.1)\">\r\n       <use xlink:href=\"#DejaVuSans-49\"/>\r\n       <use x=\"63.623047\" xlink:href=\"#DejaVuSans-46\"/>\r\n       <use x=\"95.410156\" xlink:href=\"#DejaVuSans-48\"/>\r\n      </g>\r\n     </g>\r\n    </g>\r\n    <g id=\"text_39\">\r\n     <!-- Accuracy -->\r\n     <g transform=\"translate(508.142756 236.308125)rotate(-90)scale(0.1 -0.1)\">\r\n      <defs>\r\n       <path d=\"M 34.1875 63.1875 \r\nL 20.796875 26.90625 \r\nL 47.609375 26.90625 \r\nz\r\nM 28.609375 72.90625 \r\nL 39.796875 72.90625 \r\nL 67.578125 0 \r\nL 57.328125 0 \r\nL 50.6875 18.703125 \r\nL 17.828125 18.703125 \r\nL 11.1875 0 \r\nL 0.78125 0 \r\nz\r\n\" id=\"DejaVuSans-65\"/>\r\n       <path d=\"M 8.5 21.578125 \r\nL 8.5 54.6875 \r\nL 17.484375 54.6875 \r\nL 17.484375 21.921875 \r\nQ 17.484375 14.15625 20.5 10.265625 \r\nQ 23.53125 6.390625 29.59375 6.390625 \r\nQ 36.859375 6.390625 41.078125 11.03125 \r\nQ 45.3125 15.671875 45.3125 23.6875 \r\nL 45.3125 54.6875 \r\nL 54.296875 54.6875 \r\nL 54.296875 0 \r\nL 45.3125 0 \r\nL 45.3125 8.40625 \r\nQ 42.046875 3.421875 37.71875 1 \r\nQ 33.40625 -1.421875 27.6875 -1.421875 \r\nQ 18.265625 -1.421875 13.375 4.4375 \r\nQ 8.5 10.296875 8.5 21.578125 \r\nz\r\nM 31.109375 56 \r\nz\r\n\" id=\"DejaVuSans-117\"/>\r\n       <path d=\"M 32.171875 -5.078125 \r\nQ 28.375 -14.84375 24.75 -17.8125 \r\nQ 21.140625 -20.796875 15.09375 -20.796875 \r\nL 7.90625 -20.796875 \r\nL 7.90625 -13.28125 \r\nL 13.1875 -13.28125 \r\nQ 16.890625 -13.28125 18.9375 -11.515625 \r\nQ 21 -9.765625 23.484375 -3.21875 \r\nL 25.09375 0.875 \r\nL 2.984375 54.6875 \r\nL 12.5 54.6875 \r\nL 29.59375 11.921875 \r\nL 46.6875 54.6875 \r\nL 56.203125 54.6875 \r\nz\r\n\" id=\"DejaVuSans-121\"/>\r\n      </defs>\r\n      <use xlink:href=\"#DejaVuSans-65\"/>\r\n      <use x=\"66.658203\" xlink:href=\"#DejaVuSans-99\"/>\r\n      <use x=\"121.638672\" xlink:href=\"#DejaVuSans-99\"/>\r\n      <use x=\"176.619141\" xlink:href=\"#DejaVuSans-117\"/>\r\n      <use x=\"239.998047\" xlink:href=\"#DejaVuSans-114\"/>\r\n      <use x=\"281.111328\" xlink:href=\"#DejaVuSans-97\"/>\r\n      <use x=\"342.390625\" xlink:href=\"#DejaVuSans-99\"/>\r\n      <use x=\"397.371094\" xlink:href=\"#DejaVuSans-121\"/>\r\n     </g>\r\n    </g>\r\n   </g>\r\n   <g id=\"line2d_38\">\r\n    <path clip-path=\"url(#p6f314dd2f4)\" d=\"M 555.571849 361.734545 \r\nL 555.940959 345.76467 \r\nL 556.31007 336.505263 \r\nL 556.494625 329.222584 \r\nL 556.863735 311.119923 \r\nL 557.04829 311.119923 \r\nL 557.232845 308.206852 \r\nL 557.601955 310.079541 \r\nL 557.78651 310.183579 \r\nL 557.971065 309.195215 \r\nL 558.15562 309.351273 \r\nL 558.524731 309.871464 \r\nL 560.185726 309.871464 \r\nL 560.923947 309.143196 \r\nL 561.108502 308.102813 \r\nL 561.662167 307.218488 \r\nL 562.031277 307.478584 \r\nL 562.215832 307.374545 \r\nL 562.769498 307.634641 \r\nL 563.138608 307.530603 \r\nL 563.692273 305.970029 \r\nL 564.061383 302.796861 \r\nL 564.430493 295.61822 \r\nL 565.168714 280.168536 \r\nL 565.353269 279.648344 \r\nL 565.537824 279.596325 \r\nL 565.906934 275.122679 \r\nL 566.091489 270.649033 \r\nL 566.276044 269.868746 \r\nL 566.460599 268.412211 \r\nL 566.82971 263.782507 \r\nL 567.56793 257.748287 \r\nL 568.121595 254.939254 \r\nL 568.30615 252.390316 \r\nL 568.490705 251.55801 \r\nL 569.413481 244.015234 \r\nL 569.967146 236.316402 \r\nL 570.151701 235.276019 \r\nL 570.336256 235.900249 \r\nL 570.705366 231.842756 \r\nL 571.074477 236.732555 \r\nL 571.259032 230.490258 \r\nL 571.443587 228.669589 \r\nL 571.628142 228.097378 \r\nL 571.812697 226.224689 \r\nL 571.997252 227.525167 \r\nL 572.181807 227.889301 \r\nL 572.366362 227.317091 \r\nL 572.920027 221.95912 \r\nL 573.104582 222.739407 \r\nL 573.289138 222.739407 \r\nL 573.473693 221.751043 \r\nL 573.842803 217.953646 \r\nL 574.027358 214.624421 \r\nL 574.211913 215.820861 \r\nL 574.396468 214.572402 \r\nL 574.581023 210.358852 \r\nL 574.765578 211.0351 \r\nL 575.503799 204.844823 \r\nL 576.057464 200.1631 \r\nL 576.426574 195.533397 \r\nL 576.611129 194.493014 \r\nL 576.980239 190.383502 \r\nL 577.164794 190.071388 \r\nL 577.533905 187.262354 \r\nL 578.272125 185.129569 \r\nL 580.117676 172.905072 \r\nL 580.486786 169.055656 \r\nL 580.671341 168.535464 \r\nL 581.225006 165.622392 \r\nL 581.594117 164.425952 \r\nL 582.332337 160.524517 \r\nL 582.701447 158.755866 \r\nL 582.886002 157.767502 \r\nL 583.070557 157.611445 \r\nL 583.808778 153.814048 \r\nL 584.177888 150.6929 \r\nL 584.362443 150.016651 \r\nL 586.023439 139.716861 \r\nL 586.207994 140.653206 \r\nL 586.392549 137.896191 \r\nL 586.577104 139.456766 \r\nL 586.946214 135.659368 \r\nL 587.130769 137.376 \r\nL 587.315324 134.566967 \r\nL 588.053545 131.237742 \r\nL 588.2381 130.925627 \r\nL 588.422655 129.469091 \r\nL 588.60721 128.89688 \r\nL 588.791765 128.792842 \r\nL 588.97632 126.660057 \r\nL 589.160875 126.451981 \r\nL 589.34543 126.556019 \r\nL 589.71454 123.851024 \r\nL 589.899095 124.423234 \r\nL 590.268206 122.342469 \r\nL 590.452761 122.030354 \r\nL 591.006426 119.689493 \r\nL 591.190981 119.949589 \r\nL 591.375536 120.417761 \r\nL 591.560091 117.764785 \r\nL 591.744646 117.400651 \r\nL 591.929201 117.764785 \r\nL 592.113756 115.892096 \r\nL 592.298312 116.204211 \r\nL 592.482867 115.788057 \r\nL 592.667422 113.759311 \r\nL 592.851977 115.059789 \r\nL 593.036532 114.331522 \r\nL 593.221087 111.938641 \r\nL 593.405642 113.551234 \r\nL 593.774752 110.950278 \r\nL 593.959307 111.782584 \r\nL 594.143862 110.16999 \r\nL 594.512973 109.701818 \r\nL 594.697528 108.089225 \r\nL 594.882083 108.817493 \r\nL 595.066638 107.256919 \r\nL 595.804858 105.696344 \r\nL 595.989413 105.020096 \r\nL 596.173968 105.020096 \r\nL 596.358524 105.228172 \r\nL 596.543079 105.124134 \r\nL 596.727634 106.996823 \r\nL 596.912189 102.471158 \r\nL 597.096744 104.187789 \r\nL 597.465854 101.378756 \r\nL 597.650409 102.783273 \r\nL 597.834964 100.442411 \r\nL 598.019519 100.494431 \r\nL 598.204074 101.690871 \r\nL 598.388629 99.245971 \r\nL 598.573185 99.610105 \r\nL 598.75774 100.650488 \r\nL 598.942295 98.621742 \r\nL 599.12685 98.049531 \r\nL 599.311405 98.621742 \r\nL 599.680515 97.269244 \r\nL 599.86507 97.321263 \r\nL 600.049625 97.165206 \r\nL 600.418735 96.3329 \r\nL 600.603291 95.136459 \r\nL 600.787846 96.228861 \r\nL 601.156956 94.096077 \r\nL 601.341511 94.980402 \r\nL 601.526066 93.523866 \r\nL 601.895176 94.044057 \r\nL 602.079731 92.587522 \r\nL 602.264286 92.847617 \r\nL 602.448841 92.171368 \r\nL 602.817952 92.015311 \r\nL 603.002507 91.391081 \r\nL 603.187062 92.119349 \r\nL 603.371617 90.87089 \r\nL 603.556172 91.183005 \r\nL 603.740727 90.24666 \r\nL 603.925282 90.038584 \r\nL 604.109837 90.298679 \r\nL 604.294392 89.518392 \r\nL 604.478947 89.778488 \r\nL 604.848058 88.42599 \r\nL 605.032613 88.373971 \r\nL 605.401723 87.801761 \r\nL 605.586278 87.22955 \r\nL 605.770833 87.593684 \r\nL 605.955388 86.553301 \r\nL 606.139943 87.385608 \r\nL 606.324498 86.137148 \r\nL 606.693608 90.454737 \r\nL 606.878163 107.673072 \r\nL 607.062719 105.332211 \r\nL 607.247274 90.038584 \r\nL 607.431829 100.858565 \r\nL 607.800939 89.102239 \r\nL 607.985494 92.431464 \r\nL 608.170049 88.47801 \r\nL 608.354604 92.639541 \r\nL 608.539159 90.454737 \r\nL 608.723714 89.882526 \r\nL 608.908269 88.946182 \r\nL 609.092825 86.969455 \r\nL 609.461935 89.466373 \r\nL 609.831045 84.888689 \r\nL 610.0156 85.825033 \r\nL 610.38471 84.784651 \r\nL 610.569265 85.200804 \r\nL 610.75382 84.888689 \r\nL 610.938375 83.952344 \r\nL 611.12293 83.848306 \r\nL 611.307486 84.160421 \r\nL 611.492041 84.004364 \r\nL 611.676596 84.316478 \r\nL 611.861151 84.264459 \r\nL 612.599371 83.068019 \r\nL 612.783926 83.380134 \r\nL 613.153036 82.495809 \r\nL 613.337592 82.755904 \r\nL 613.706702 82.079656 \r\nL 613.891257 81.715522 \r\nL 614.075812 81.871579 \r\nL 614.444922 81.351388 \r\nL 614.629477 81.767541 \r\nL 614.998587 81.767541 \r\nL 615.183142 81.507445 \r\nL 615.367698 80.5711 \r\nL 615.552253 80.727158 \r\nL 615.736808 80.675139 \r\nL 615.921363 81.039273 \r\nL 616.475028 80.258986 \r\nL 616.659583 80.050909 \r\nL 616.844138 80.154947 \r\nL 617.213248 79.842833 \r\nL 617.397803 79.37466 \r\nL 618.136024 79.218603 \r\nL 618.320579 78.906488 \r\nL 618.689689 78.958507 \r\nL 619.058799 78.542354 \r\nL 619.427909 78.230239 \r\nL 619.79702 78.074182 \r\nL 619.981575 77.918124 \r\nL 620.53524 77.970144 \r\nL 620.90435 77.55399 \r\nL 622.565346 76.98178 \r\nL 622.934456 76.773703 \r\nL 623.303566 76.877742 \r\nL 623.488121 76.773703 \r\nL 623.672676 76.513608 \r\nL 625.333672 76.045435 \r\nL 625.518227 75.78534 \r\nL 626.071893 75.681301 \r\nL 628.286554 74.953033 \r\nL 628.840219 74.640919 \r\nL 629.024774 74.380823 \r\nL 629.578439 74.328804 \r\nL 630.68577 73.808612 \r\nL 631.05488 73.704574 \r\nL 633.269541 73.184383 \r\nL 633.823206 73.080344 \r\nL 634.192316 72.976306 \r\nL 636.960643 72.300057 \r\nL 637.514308 72.248038 \r\nL 638.252528 71.935923 \r\nL 642.866406 70.739483 \r\nL 643.973736 70.635445 \r\nL 644.527401 70.427368 \r\nL 644.896512 70.375349 \r\nL 645.450177 70.167273 \r\nL 647.295728 69.75112 \r\nL 648.587613 69.647081 \r\nL 649.141279 69.543043 \r\nL 649.510389 69.855158 \r\nL 649.694944 83.796287 \r\nL 650.064054 133.994756 \r\nL 650.433164 101.014622 \r\nL 650.617719 116.25623 \r\nL 650.802274 110.22201 \r\nL 650.986829 86.241187 \r\nL 651.35594 103.251445 \r\nL 651.72505 91.078967 \r\nL 651.909605 96.3329 \r\nL 652.09416 93.940019 \r\nL 652.278715 84.784651 \r\nL 652.46327 86.501282 \r\nL 652.647825 91.911273 \r\nL 652.83238 91.078967 \r\nL 653.20149 82.235713 \r\nL 653.386046 84.056383 \r\nL 653.570601 84.732632 \r\nL 654.124266 78.646392 \r\nL 654.308821 79.218603 \r\nL 654.493376 78.80245 \r\nL 654.677931 75.889378 \r\nL 654.862486 75.473225 \r\nL 655.231596 77.60601 \r\nL 655.416151 77.241876 \r\nL 655.785262 74.172746 \r\nL 655.969817 74.016689 \r\nL 656.154372 74.224766 \r\nL 656.338927 73.96467 \r\nL 656.708037 72.664191 \r\nL 656.892592 72.76823 \r\nL 657.077147 72.664191 \r\nL 657.261702 72.716211 \r\nL 657.446257 72.404096 \r\nL 657.630813 71.779866 \r\nL 657.815368 71.883904 \r\nL 658.184478 71.155636 \r\nL 658.553588 70.583426 \r\nL 658.738143 70.479388 \r\nL 658.922698 70.635445 \r\nL 659.476363 70.479388 \r\nL 659.845474 70.167273 \r\nL 660.399139 70.063234 \r\nL 661.691024 69.75112 \r\nL 661.87558 69.907177 \r\nL 663.536575 69.543043 \r\nL 667.043122 69.439005 \r\nL 667.596787 69.386986 \r\nL 669.626893 69.282947 \r\nL 669.996003 69.230928 \r\nL 670.365114 69.230928 \r\nL 671.841554 69.12689 \r\nL 672.39522 69.074871 \r\nL 682.361194 68.970833 \r\nL 682.91486 68.918813 \r\nL 689.558843 68.814775 \r\nL 690.112508 68.762756 \r\nL 698.417487 68.658718 \r\nL 699.155707 68.554679 \r\nL 703.585029 68.50266 \r\nL 703.954139 68.398622 \r\nL 705.06147 68.294584 \r\nL 705.615135 68.242565 \r\nL 708.937127 68.138526 \r\nL 709.490792 68.086507 \r\nL 710.782678 68.034488 \r\nL 711.336343 67.774392 \r\nL 714.289224 67.670354 \r\nL 714.84289 67.618335 \r\nL 720.194987 67.514297 \r\nL 720.748652 67.462278 \r\nL 727.023525 67.358239 \r\nL 727.761746 67.254201 \r\nL 732.560178 67.150163 \r\nL 733.113843 67.098144 \r\nL 735.143949 66.994105 \r\nL 735.697615 66.942086 \r\nL 739.204161 66.838048 \r\nL 740.126937 66.68199 \r\nL 749.170136 66.577952 \r\nL 749.723801 66.525933 \r\nL 761.350772 66.421895 \r\nL 761.904437 66.369876 \r\nL 767.256534 66.265837 \r\nL 767.8102 66.213818 \r\nL 772.054967 66.10978 \r\nL 772.608632 66.057761 \r\nL 783.497382 66.005742 \r\nL 783.866492 65.901703 \r\nL 786.450264 65.797665 \r\nL 787.188484 65.693627 \r\nL 843.846896 65.589589 \r\nL 844.400561 65.537569 \r\nL 875.774926 65.48555 \r\nL 875.959481 65.381512 \r\nL 876.328591 65.48555 \r\nL 883.710795 65.433531 \r\nL 884.079905 65.329493 \r\nL 917.299821 65.225455 \r\nL 917.484376 65.589589 \r\nL 917.668931 65.329493 \r\nL 917.853486 65.537569 \r\nL 918.038041 65.277474 \r\nL 924.497469 65.277474 \r\nL 924.497469 65.277474 \r\n\" style=\"fill:none;stroke:#1f77b4;stroke-linecap:square;stroke-width:1.5;\"/>\r\n   </g>\r\n   <g id=\"patch_9\">\r\n    <path d=\"M 537.125568 376.56 \r\nL 537.125568 50.4 \r\n\" style=\"fill:none;stroke:#000000;stroke-linecap:square;stroke-linejoin:miter;stroke-width:0.8;\"/>\r\n   </g>\r\n   <g id=\"patch_10\">\r\n    <path d=\"M 942.94375 376.56 \r\nL 942.94375 50.4 \r\n\" style=\"fill:none;stroke:#000000;stroke-linecap:square;stroke-linejoin:miter;stroke-width:0.8;\"/>\r\n   </g>\r\n   <g id=\"patch_11\">\r\n    <path d=\"M 537.125568 376.56 \r\nL 942.94375 376.56 \r\n\" style=\"fill:none;stroke:#000000;stroke-linecap:square;stroke-linejoin:miter;stroke-width:0.8;\"/>\r\n   </g>\r\n   <g id=\"patch_12\">\r\n    <path d=\"M 537.125568 50.4 \r\nL 942.94375 50.4 \r\n\" style=\"fill:none;stroke:#000000;stroke-linecap:square;stroke-linejoin:miter;stroke-width:0.8;\"/>\r\n   </g>\r\n   <g id=\"legend_2\">\r\n    <g id=\"patch_13\">\r\n     <path d=\"M 544.125568 73.078125 \r\nL 599.400568 73.078125 \r\nQ 601.400568 73.078125 601.400568 71.078125 \r\nL 601.400568 57.4 \r\nQ 601.400568 55.4 599.400568 55.4 \r\nL 544.125568 55.4 \r\nQ 542.125568 55.4 542.125568 57.4 \r\nL 542.125568 71.078125 \r\nQ 542.125568 73.078125 544.125568 73.078125 \r\nz\r\n\" style=\"fill:#ffffff;opacity:0.8;stroke:#cccccc;stroke-linejoin:miter;\"/>\r\n    </g>\r\n    <g id=\"line2d_39\">\r\n     <path d=\"M 546.125568 63.498437 \r\nL 566.125568 63.498437 \r\n\" style=\"fill:none;stroke:#1f77b4;stroke-linecap:square;stroke-width:1.5;\"/>\r\n    </g>\r\n    <g id=\"line2d_40\"/>\r\n    <g id=\"text_40\">\r\n     <!-- train -->\r\n     <g transform=\"translate(574.125568 66.998437)scale(0.1 -0.1)\">\r\n      <use xlink:href=\"#DejaVuSans-116\"/>\r\n      <use x=\"39.208984\" xlink:href=\"#DejaVuSans-114\"/>\r\n      <use x=\"80.322266\" xlink:href=\"#DejaVuSans-97\"/>\r\n      <use x=\"141.601562\" xlink:href=\"#DejaVuSans-105\"/>\r\n      <use x=\"169.384766\" xlink:href=\"#DejaVuSans-110\"/>\r\n     </g>\r\n    </g>\r\n   </g>\r\n  </g>\r\n  <g id=\"text_41\">\r\n   <!-- Loss and accuracy -->\r\n   <g transform=\"translate(426.809687 16.318125)scale(0.12 -0.12)\">\r\n    <defs>\r\n     <path d=\"M 9.8125 72.90625 \r\nL 19.671875 72.90625 \r\nL 19.671875 8.296875 \r\nL 55.171875 8.296875 \r\nL 55.171875 0 \r\nL 9.8125 0 \r\nz\r\n\" id=\"DejaVuSans-76\"/>\r\n     <path d=\"M 45.40625 46.390625 \r\nL 45.40625 75.984375 \r\nL 54.390625 75.984375 \r\nL 54.390625 0 \r\nL 45.40625 0 \r\nL 45.40625 8.203125 \r\nQ 42.578125 3.328125 38.25 0.953125 \r\nQ 33.9375 -1.421875 27.875 -1.421875 \r\nQ 17.96875 -1.421875 11.734375 6.484375 \r\nQ 5.515625 14.40625 5.515625 27.296875 \r\nQ 5.515625 40.1875 11.734375 48.09375 \r\nQ 17.96875 56 27.875 56 \r\nQ 33.9375 56 38.25 53.625 \r\nQ 42.578125 51.265625 45.40625 46.390625 \r\nz\r\nM 14.796875 27.296875 \r\nQ 14.796875 17.390625 18.875 11.75 \r\nQ 22.953125 6.109375 30.078125 6.109375 \r\nQ 37.203125 6.109375 41.296875 11.75 \r\nQ 45.40625 17.390625 45.40625 27.296875 \r\nQ 45.40625 37.203125 41.296875 42.84375 \r\nQ 37.203125 48.484375 30.078125 48.484375 \r\nQ 22.953125 48.484375 18.875 42.84375 \r\nQ 14.796875 37.203125 14.796875 27.296875 \r\nz\r\n\" id=\"DejaVuSans-100\"/>\r\n    </defs>\r\n    <use xlink:href=\"#DejaVuSans-76\"/>\r\n    <use x=\"53.962891\" xlink:href=\"#DejaVuSans-111\"/>\r\n    <use x=\"115.144531\" xlink:href=\"#DejaVuSans-115\"/>\r\n    <use x=\"167.244141\" xlink:href=\"#DejaVuSans-115\"/>\r\n    <use x=\"219.34375\" xlink:href=\"#DejaVuSans-32\"/>\r\n    <use x=\"251.130859\" xlink:href=\"#DejaVuSans-97\"/>\r\n    <use x=\"312.410156\" xlink:href=\"#DejaVuSans-110\"/>\r\n    <use x=\"375.789062\" xlink:href=\"#DejaVuSans-100\"/>\r\n    <use x=\"439.265625\" xlink:href=\"#DejaVuSans-32\"/>\r\n    <use x=\"471.052734\" xlink:href=\"#DejaVuSans-97\"/>\r\n    <use x=\"532.332031\" xlink:href=\"#DejaVuSans-99\"/>\r\n    <use x=\"587.3125\" xlink:href=\"#DejaVuSans-99\"/>\r\n    <use x=\"642.292969\" xlink:href=\"#DejaVuSans-117\"/>\r\n    <use x=\"705.671875\" xlink:href=\"#DejaVuSans-114\"/>\r\n    <use x=\"746.785156\" xlink:href=\"#DejaVuSans-97\"/>\r\n    <use x=\"808.064453\" xlink:href=\"#DejaVuSans-99\"/>\r\n    <use x=\"863.044922\" xlink:href=\"#DejaVuSans-121\"/>\r\n   </g>\r\n  </g>\r\n </g>\r\n <defs>\r\n  <clipPath id=\"pc2a3ba3cdd\">\r\n   <rect height=\"326.16\" width=\"405.818182\" x=\"50.14375\" y=\"50.4\"/>\r\n  </clipPath>\r\n  <clipPath id=\"p6f314dd2f4\">\r\n   <rect height=\"326.16\" width=\"405.818182\" x=\"537.125568\" y=\"50.4\"/>\r\n  </clipPath>\r\n </defs>\r\n</svg>\r\n",
      "image/png": "[encoded data removed]"
     },
     "metadata": {
      "needs_background": "light"
     }
    }
   ],
   "source": [
    "print(Model)\n",
    "plot_loss_and_accuracy(losses, accs)\n",
    "print(accs[-1])"
   ]
  },
  {
   "cell_type": "code",
   "execution_count": 49,
   "metadata": {},
   "outputs": [],
   "source": [
    "# Rodando o Modelo treinado com o Dataset de Teste\n",
    "data_test = (torch.FloatTensor(X_test), torch.LongTensor(Y_test))\n",
    "X_test_tensor, Y_test_tensor = data_test\n",
    "\n",
    "if CUDA_flag: # usar GPU?\n",
    "      X_test_tensor = X_test_tensor.cuda()\n",
    "      \n",
    "Y_pred_tensor = Model.forward(X_test_tensor) \n",
    "\n",
    "# hard-decision e pós-processamento da saída\n",
    "y_pred = torch.argmax(Y_pred_tensor, dim=1)\n",
    "y_pred = y_pred.float()\n",
    "y_true = torch.squeeze(Y_test_tensor) \n",
    "y_pred = torch.squeeze(y_pred)"
   ]
  },
  {
   "cell_type": "code",
   "execution_count": 50,
   "metadata": {},
   "outputs": [
    {
     "output_type": "display_data",
     "data": {
      "text/plain": "<Figure size 792x792 with 2 Axes>",
      "image/svg+xml": "<?xml version=\"1.0\" encoding=\"utf-8\" standalone=\"no\"?>\r\n<!DOCTYPE svg PUBLIC \"-//W3C//DTD SVG 1.1//EN\"\r\n  \"http://www.w3.org/Graphics/SVG/1.1/DTD/svg11.dtd\">\r\n<!-- Created with matplotlib (https://matplotlib.org/) -->\r\n<svg height=\"612.36pt\" version=\"1.1\" viewBox=\"0 0 646.688937 612.36\" width=\"646.688937pt\" xmlns=\"http://www.w3.org/2000/svg\" xmlns:xlink=\"http://www.w3.org/1999/xlink\">\r\n <metadata>\r\n  <rdf:RDF xmlns:cc=\"http://creativecommons.org/ns#\" xmlns:dc=\"http://purl.org/dc/elements/1.1/\" xmlns:rdf=\"http://www.w3.org/1999/02/22-rdf-syntax-ns#\">\r\n   <cc:Work>\r\n    <dc:type rdf:resource=\"http://purl.org/dc/dcmitype/StillImage\"/>\r\n    <dc:date>2021-04-23T09:47:40.862372</dc:date>\r\n    <dc:format>image/svg+xml</dc:format>\r\n    <dc:creator>\r\n     <cc:Agent>\r\n      <dc:title>Matplotlib v3.3.2, https://matplotlib.org/</dc:title>\r\n     </cc:Agent>\r\n    </dc:creator>\r\n   </cc:Work>\r\n  </rdf:RDF>\r\n </metadata>\r\n <defs>\r\n  <style type=\"text/css\">*{stroke-linecap:butt;stroke-linejoin:round;}</style>\r\n </defs>\r\n <g id=\"figure_1\">\r\n  <g id=\"patch_1\">\r\n   <path d=\"M -0 612.36 \r\nL 646.688937 612.36 \r\nL 646.688937 0 \r\nL -0 0 \r\nz\r\n\" style=\"fill:none;\"/>\r\n  </g>\r\n  <g id=\"axes_1\">\r\n   <g id=\"patch_2\">\r\n    <path d=\"M 68.135938 551.7 \r\nL 559.175938 551.7 \r\nL 559.175938 60.66 \r\nL 68.135938 60.66 \r\nz\r\n\" style=\"fill:#ffffff;\"/>\r\n   </g>\r\n   <g clip-path=\"url(#ped7739c3bd)\">\r\n    <image height=\"492\" id=\"image0ca86c7271\" transform=\"scale(1 -1)translate(0 -492)\" width=\"492\" x=\"68.135938\" xlink:href=\"data:image/png;base64,\r\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\" y=\"-59.7\"/>\r\n   </g>\r\n   <g id=\"matplotlib.axis_1\">\r\n    <g id=\"xtick_1\">\r\n     <g id=\"line2d_1\">\r\n      <defs>\r\n       <path d=\"M 0 0 \r\nL 0 3.5 \r\n\" id=\"mb2b5dfbf0d\" style=\"stroke:#000000;stroke-width:0.8;\"/>\r\n      </defs>\r\n      <g>\r\n       <use style=\"stroke:#000000;stroke-width:0.8;\" x=\"109.055938\" xlink:href=\"#mb2b5dfbf0d\" y=\"551.7\"/>\r\n      </g>\r\n     </g>\r\n     <g id=\"text_1\">\r\n      <!-- angry -->\r\n      <g transform=\"translate(94.634063 566.298437)scale(0.1 -0.1)\">\r\n       <defs>\r\n        <path d=\"M 34.28125 27.484375 \r\nQ 23.390625 27.484375 19.1875 25 \r\nQ 14.984375 22.515625 14.984375 16.5 \r\nQ 14.984375 11.71875 18.140625 8.90625 \r\nQ 21.296875 6.109375 26.703125 6.109375 \r\nQ 34.1875 6.109375 38.703125 11.40625 \r\nQ 43.21875 16.703125 43.21875 25.484375 \r\nL 43.21875 27.484375 \r\nz\r\nM 52.203125 31.203125 \r\nL 52.203125 0 \r\nL 43.21875 0 \r\nL 43.21875 8.296875 \r\nQ 40.140625 3.328125 35.546875 0.953125 \r\nQ 30.953125 -1.421875 24.3125 -1.421875 \r\nQ 15.921875 -1.421875 10.953125 3.296875 \r\nQ 6 8.015625 6 15.921875 \r\nQ 6 25.140625 12.171875 29.828125 \r\nQ 18.359375 34.515625 30.609375 34.515625 \r\nL 43.21875 34.515625 \r\nL 43.21875 35.40625 \r\nQ 43.21875 41.609375 39.140625 45 \r\nQ 35.0625 48.390625 27.6875 48.390625 \r\nQ 23 48.390625 18.546875 47.265625 \r\nQ 14.109375 46.140625 10.015625 43.890625 \r\nL 10.015625 52.203125 \r\nQ 14.9375 54.109375 19.578125 55.046875 \r\nQ 24.21875 56 28.609375 56 \r\nQ 40.484375 56 46.34375 49.84375 \r\nQ 52.203125 43.703125 52.203125 31.203125 \r\nz\r\n\" id=\"DejaVuSans-97\"/>\r\n        <path d=\"M 54.890625 33.015625 \r\nL 54.890625 0 \r\nL 45.90625 0 \r\nL 45.90625 32.71875 \r\nQ 45.90625 40.484375 42.875 44.328125 \r\nQ 39.84375 48.1875 33.796875 48.1875 \r\nQ 26.515625 48.1875 22.3125 43.546875 \r\nQ 18.109375 38.921875 18.109375 30.90625 \r\nL 18.109375 0 \r\nL 9.078125 0 \r\nL 9.078125 54.6875 \r\nL 18.109375 54.6875 \r\nL 18.109375 46.1875 \r\nQ 21.34375 51.125 25.703125 53.5625 \r\nQ 30.078125 56 35.796875 56 \r\nQ 45.21875 56 50.046875 50.171875 \r\nQ 54.890625 44.34375 54.890625 33.015625 \r\nz\r\n\" id=\"DejaVuSans-110\"/>\r\n        <path d=\"M 45.40625 27.984375 \r\nQ 45.40625 37.75 41.375 43.109375 \r\nQ 37.359375 48.484375 30.078125 48.484375 \r\nQ 22.859375 48.484375 18.828125 43.109375 \r\nQ 14.796875 37.75 14.796875 27.984375 \r\nQ 14.796875 18.265625 18.828125 12.890625 \r\nQ 22.859375 7.515625 30.078125 7.515625 \r\nQ 37.359375 7.515625 41.375 12.890625 \r\nQ 45.40625 18.265625 45.40625 27.984375 \r\nz\r\nM 54.390625 6.78125 \r\nQ 54.390625 -7.171875 48.1875 -13.984375 \r\nQ 42 -20.796875 29.203125 -20.796875 \r\nQ 24.46875 -20.796875 20.265625 -20.09375 \r\nQ 16.0625 -19.390625 12.109375 -17.921875 \r\nL 12.109375 -9.1875 \r\nQ 16.0625 -11.328125 19.921875 -12.34375 \r\nQ 23.78125 -13.375 27.78125 -13.375 \r\nQ 36.625 -13.375 41.015625 -8.765625 \r\nQ 45.40625 -4.15625 45.40625 5.171875 \r\nL 45.40625 9.625 \r\nQ 42.625 4.78125 38.28125 2.390625 \r\nQ 33.9375 0 27.875 0 \r\nQ 17.828125 0 11.671875 7.65625 \r\nQ 5.515625 15.328125 5.515625 27.984375 \r\nQ 5.515625 40.671875 11.671875 48.328125 \r\nQ 17.828125 56 27.875 56 \r\nQ 33.9375 56 38.28125 53.609375 \r\nQ 42.625 51.21875 45.40625 46.390625 \r\nL 45.40625 54.6875 \r\nL 54.390625 54.6875 \r\nz\r\n\" id=\"DejaVuSans-103\"/>\r\n        <path d=\"M 41.109375 46.296875 \r\nQ 39.59375 47.171875 37.8125 47.578125 \r\nQ 36.03125 48 33.890625 48 \r\nQ 26.265625 48 22.1875 43.046875 \r\nQ 18.109375 38.09375 18.109375 28.8125 \r\nL 18.109375 0 \r\nL 9.078125 0 \r\nL 9.078125 54.6875 \r\nL 18.109375 54.6875 \r\nL 18.109375 46.1875 \r\nQ 20.953125 51.171875 25.484375 53.578125 \r\nQ 30.03125 56 36.53125 56 \r\nQ 37.453125 56 38.578125 55.875 \r\nQ 39.703125 55.765625 41.0625 55.515625 \r\nz\r\n\" id=\"DejaVuSans-114\"/>\r\n        <path d=\"M 32.171875 -5.078125 \r\nQ 28.375 -14.84375 24.75 -17.8125 \r\nQ 21.140625 -20.796875 15.09375 -20.796875 \r\nL 7.90625 -20.796875 \r\nL 7.90625 -13.28125 \r\nL 13.1875 -13.28125 \r\nQ 16.890625 -13.28125 18.9375 -11.515625 \r\nQ 21 -9.765625 23.484375 -3.21875 \r\nL 25.09375 0.875 \r\nL 2.984375 54.6875 \r\nL 12.5 54.6875 \r\nL 29.59375 11.921875 \r\nL 46.6875 54.6875 \r\nL 56.203125 54.6875 \r\nz\r\n\" id=\"DejaVuSans-121\"/>\r\n       </defs>\r\n       <use xlink:href=\"#DejaVuSans-97\"/>\r\n       <use x=\"61.279297\" xlink:href=\"#DejaVuSans-110\"/>\r\n       <use x=\"124.658203\" xlink:href=\"#DejaVuSans-103\"/>\r\n       <use x=\"188.134766\" xlink:href=\"#DejaVuSans-114\"/>\r\n       <use x=\"229.248047\" xlink:href=\"#DejaVuSans-121\"/>\r\n      </g>\r\n     </g>\r\n    </g>\r\n    <g id=\"xtick_2\">\r\n     <g id=\"line2d_2\">\r\n      <g>\r\n       <use style=\"stroke:#000000;stroke-width:0.8;\" x=\"190.895938\" xlink:href=\"#mb2b5dfbf0d\" y=\"551.7\"/>\r\n      </g>\r\n     </g>\r\n     <g id=\"text_2\">\r\n      <!-- disgust -->\r\n      <g transform=\"translate(172.820156 566.298437)scale(0.1 -0.1)\">\r\n       <defs>\r\n        <path d=\"M 45.40625 46.390625 \r\nL 45.40625 75.984375 \r\nL 54.390625 75.984375 \r\nL 54.390625 0 \r\nL 45.40625 0 \r\nL 45.40625 8.203125 \r\nQ 42.578125 3.328125 38.25 0.953125 \r\nQ 33.9375 -1.421875 27.875 -1.421875 \r\nQ 17.96875 -1.421875 11.734375 6.484375 \r\nQ 5.515625 14.40625 5.515625 27.296875 \r\nQ 5.515625 40.1875 11.734375 48.09375 \r\nQ 17.96875 56 27.875 56 \r\nQ 33.9375 56 38.25 53.625 \r\nQ 42.578125 51.265625 45.40625 46.390625 \r\nz\r\nM 14.796875 27.296875 \r\nQ 14.796875 17.390625 18.875 11.75 \r\nQ 22.953125 6.109375 30.078125 6.109375 \r\nQ 37.203125 6.109375 41.296875 11.75 \r\nQ 45.40625 17.390625 45.40625 27.296875 \r\nQ 45.40625 37.203125 41.296875 42.84375 \r\nQ 37.203125 48.484375 30.078125 48.484375 \r\nQ 22.953125 48.484375 18.875 42.84375 \r\nQ 14.796875 37.203125 14.796875 27.296875 \r\nz\r\n\" id=\"DejaVuSans-100\"/>\r\n        <path d=\"M 9.421875 54.6875 \r\nL 18.40625 54.6875 \r\nL 18.40625 0 \r\nL 9.421875 0 \r\nz\r\nM 9.421875 75.984375 \r\nL 18.40625 75.984375 \r\nL 18.40625 64.59375 \r\nL 9.421875 64.59375 \r\nz\r\n\" id=\"DejaVuSans-105\"/>\r\n        <path d=\"M 44.28125 53.078125 \r\nL 44.28125 44.578125 \r\nQ 40.484375 46.53125 36.375 47.5 \r\nQ 32.28125 48.484375 27.875 48.484375 \r\nQ 21.1875 48.484375 17.84375 46.4375 \r\nQ 14.5 44.390625 14.5 40.28125 \r\nQ 14.5 37.15625 16.890625 35.375 \r\nQ 19.28125 33.59375 26.515625 31.984375 \r\nL 29.59375 31.296875 \r\nQ 39.15625 29.25 43.1875 25.515625 \r\nQ 47.21875 21.78125 47.21875 15.09375 \r\nQ 47.21875 7.46875 41.1875 3.015625 \r\nQ 35.15625 -1.421875 24.609375 -1.421875 \r\nQ 20.21875 -1.421875 15.453125 -0.5625 \r\nQ 10.6875 0.296875 5.421875 2 \r\nL 5.421875 11.28125 \r\nQ 10.40625 8.6875 15.234375 7.390625 \r\nQ 20.0625 6.109375 24.8125 6.109375 \r\nQ 31.15625 6.109375 34.5625 8.28125 \r\nQ 37.984375 10.453125 37.984375 14.40625 \r\nQ 37.984375 18.0625 35.515625 20.015625 \r\nQ 33.0625 21.96875 24.703125 23.78125 \r\nL 21.578125 24.515625 \r\nQ 13.234375 26.265625 9.515625 29.90625 \r\nQ 5.8125 33.546875 5.8125 39.890625 \r\nQ 5.8125 47.609375 11.28125 51.796875 \r\nQ 16.75 56 26.8125 56 \r\nQ 31.78125 56 36.171875 55.265625 \r\nQ 40.578125 54.546875 44.28125 53.078125 \r\nz\r\n\" id=\"DejaVuSans-115\"/>\r\n        <path d=\"M 8.5 21.578125 \r\nL 8.5 54.6875 \r\nL 17.484375 54.6875 \r\nL 17.484375 21.921875 \r\nQ 17.484375 14.15625 20.5 10.265625 \r\nQ 23.53125 6.390625 29.59375 6.390625 \r\nQ 36.859375 6.390625 41.078125 11.03125 \r\nQ 45.3125 15.671875 45.3125 23.6875 \r\nL 45.3125 54.6875 \r\nL 54.296875 54.6875 \r\nL 54.296875 0 \r\nL 45.3125 0 \r\nL 45.3125 8.40625 \r\nQ 42.046875 3.421875 37.71875 1 \r\nQ 33.40625 -1.421875 27.6875 -1.421875 \r\nQ 18.265625 -1.421875 13.375 4.4375 \r\nQ 8.5 10.296875 8.5 21.578125 \r\nz\r\nM 31.109375 56 \r\nz\r\n\" id=\"DejaVuSans-117\"/>\r\n        <path d=\"M 18.3125 70.21875 \r\nL 18.3125 54.6875 \r\nL 36.8125 54.6875 \r\nL 36.8125 47.703125 \r\nL 18.3125 47.703125 \r\nL 18.3125 18.015625 \r\nQ 18.3125 11.328125 20.140625 9.421875 \r\nQ 21.96875 7.515625 27.59375 7.515625 \r\nL 36.8125 7.515625 \r\nL 36.8125 0 \r\nL 27.59375 0 \r\nQ 17.1875 0 13.234375 3.875 \r\nQ 9.28125 7.765625 9.28125 18.015625 \r\nL 9.28125 47.703125 \r\nL 2.6875 47.703125 \r\nL 2.6875 54.6875 \r\nL 9.28125 54.6875 \r\nL 9.28125 70.21875 \r\nz\r\n\" id=\"DejaVuSans-116\"/>\r\n       </defs>\r\n       <use xlink:href=\"#DejaVuSans-100\"/>\r\n       <use x=\"63.476562\" xlink:href=\"#DejaVuSans-105\"/>\r\n       <use x=\"91.259766\" xlink:href=\"#DejaVuSans-115\"/>\r\n       <use x=\"143.359375\" xlink:href=\"#DejaVuSans-103\"/>\r\n       <use x=\"206.835938\" xlink:href=\"#DejaVuSans-117\"/>\r\n       <use x=\"270.214844\" xlink:href=\"#DejaVuSans-115\"/>\r\n       <use x=\"322.314453\" xlink:href=\"#DejaVuSans-116\"/>\r\n      </g>\r\n     </g>\r\n    </g>\r\n    <g id=\"xtick_3\">\r\n     <g id=\"line2d_3\">\r\n      <g>\r\n       <use style=\"stroke:#000000;stroke-width:0.8;\" x=\"272.735938\" xlink:href=\"#mb2b5dfbf0d\" y=\"551.7\"/>\r\n      </g>\r\n     </g>\r\n     <g id=\"text_3\">\r\n      <!-- fear -->\r\n      <g transform=\"translate(262.779688 566.298437)scale(0.1 -0.1)\">\r\n       <defs>\r\n        <path d=\"M 37.109375 75.984375 \r\nL 37.109375 68.5 \r\nL 28.515625 68.5 \r\nQ 23.6875 68.5 21.796875 66.546875 \r\nQ 19.921875 64.59375 19.921875 59.515625 \r\nL 19.921875 54.6875 \r\nL 34.71875 54.6875 \r\nL 34.71875 47.703125 \r\nL 19.921875 47.703125 \r\nL 19.921875 0 \r\nL 10.890625 0 \r\nL 10.890625 47.703125 \r\nL 2.296875 47.703125 \r\nL 2.296875 54.6875 \r\nL 10.890625 54.6875 \r\nL 10.890625 58.5 \r\nQ 10.890625 67.625 15.140625 71.796875 \r\nQ 19.390625 75.984375 28.609375 75.984375 \r\nz\r\n\" id=\"DejaVuSans-102\"/>\r\n        <path d=\"M 56.203125 29.59375 \r\nL 56.203125 25.203125 \r\nL 14.890625 25.203125 \r\nQ 15.484375 15.921875 20.484375 11.0625 \r\nQ 25.484375 6.203125 34.421875 6.203125 \r\nQ 39.59375 6.203125 44.453125 7.46875 \r\nQ 49.3125 8.734375 54.109375 11.28125 \r\nL 54.109375 2.78125 \r\nQ 49.265625 0.734375 44.1875 -0.34375 \r\nQ 39.109375 -1.421875 33.890625 -1.421875 \r\nQ 20.796875 -1.421875 13.15625 6.1875 \r\nQ 5.515625 13.8125 5.515625 26.8125 \r\nQ 5.515625 40.234375 12.765625 48.109375 \r\nQ 20.015625 56 32.328125 56 \r\nQ 43.359375 56 49.78125 48.890625 \r\nQ 56.203125 41.796875 56.203125 29.59375 \r\nz\r\nM 47.21875 32.234375 \r\nQ 47.125 39.59375 43.09375 43.984375 \r\nQ 39.0625 48.390625 32.421875 48.390625 \r\nQ 24.90625 48.390625 20.390625 44.140625 \r\nQ 15.875 39.890625 15.1875 32.171875 \r\nz\r\n\" id=\"DejaVuSans-101\"/>\r\n       </defs>\r\n       <use xlink:href=\"#DejaVuSans-102\"/>\r\n       <use x=\"35.205078\" xlink:href=\"#DejaVuSans-101\"/>\r\n       <use x=\"96.728516\" xlink:href=\"#DejaVuSans-97\"/>\r\n       <use x=\"158.007812\" xlink:href=\"#DejaVuSans-114\"/>\r\n      </g>\r\n     </g>\r\n    </g>\r\n    <g id=\"xtick_4\">\r\n     <g id=\"line2d_4\">\r\n      <g>\r\n       <use style=\"stroke:#000000;stroke-width:0.8;\" x=\"354.575938\" xlink:href=\"#mb2b5dfbf0d\" y=\"551.7\"/>\r\n      </g>\r\n     </g>\r\n     <g id=\"text_4\">\r\n      <!-- happy -->\r\n      <g transform=\"translate(339.035313 566.298437)scale(0.1 -0.1)\">\r\n       <defs>\r\n        <path d=\"M 54.890625 33.015625 \r\nL 54.890625 0 \r\nL 45.90625 0 \r\nL 45.90625 32.71875 \r\nQ 45.90625 40.484375 42.875 44.328125 \r\nQ 39.84375 48.1875 33.796875 48.1875 \r\nQ 26.515625 48.1875 22.3125 43.546875 \r\nQ 18.109375 38.921875 18.109375 30.90625 \r\nL 18.109375 0 \r\nL 9.078125 0 \r\nL 9.078125 75.984375 \r\nL 18.109375 75.984375 \r\nL 18.109375 46.1875 \r\nQ 21.34375 51.125 25.703125 53.5625 \r\nQ 30.078125 56 35.796875 56 \r\nQ 45.21875 56 50.046875 50.171875 \r\nQ 54.890625 44.34375 54.890625 33.015625 \r\nz\r\n\" id=\"DejaVuSans-104\"/>\r\n        <path d=\"M 18.109375 8.203125 \r\nL 18.109375 -20.796875 \r\nL 9.078125 -20.796875 \r\nL 9.078125 54.6875 \r\nL 18.109375 54.6875 \r\nL 18.109375 46.390625 \r\nQ 20.953125 51.265625 25.265625 53.625 \r\nQ 29.59375 56 35.59375 56 \r\nQ 45.5625 56 51.78125 48.09375 \r\nQ 58.015625 40.1875 58.015625 27.296875 \r\nQ 58.015625 14.40625 51.78125 6.484375 \r\nQ 45.5625 -1.421875 35.59375 -1.421875 \r\nQ 29.59375 -1.421875 25.265625 0.953125 \r\nQ 20.953125 3.328125 18.109375 8.203125 \r\nz\r\nM 48.6875 27.296875 \r\nQ 48.6875 37.203125 44.609375 42.84375 \r\nQ 40.53125 48.484375 33.40625 48.484375 \r\nQ 26.265625 48.484375 22.1875 42.84375 \r\nQ 18.109375 37.203125 18.109375 27.296875 \r\nQ 18.109375 17.390625 22.1875 11.75 \r\nQ 26.265625 6.109375 33.40625 6.109375 \r\nQ 40.53125 6.109375 44.609375 11.75 \r\nQ 48.6875 17.390625 48.6875 27.296875 \r\nz\r\n\" id=\"DejaVuSans-112\"/>\r\n       </defs>\r\n       <use xlink:href=\"#DejaVuSans-104\"/>\r\n       <use x=\"63.378906\" xlink:href=\"#DejaVuSans-97\"/>\r\n       <use x=\"124.658203\" xlink:href=\"#DejaVuSans-112\"/>\r\n       <use x=\"188.134766\" xlink:href=\"#DejaVuSans-112\"/>\r\n       <use x=\"251.611328\" xlink:href=\"#DejaVuSans-121\"/>\r\n      </g>\r\n     </g>\r\n    </g>\r\n    <g id=\"xtick_5\">\r\n     <g id=\"line2d_5\">\r\n      <g>\r\n       <use style=\"stroke:#000000;stroke-width:0.8;\" x=\"436.415938\" xlink:href=\"#mb2b5dfbf0d\" y=\"551.7\"/>\r\n      </g>\r\n     </g>\r\n     <g id=\"text_5\">\r\n      <!-- sad -->\r\n      <g transform=\"translate(427.572969 566.298437)scale(0.1 -0.1)\">\r\n       <use xlink:href=\"#DejaVuSans-115\"/>\r\n       <use x=\"52.099609\" xlink:href=\"#DejaVuSans-97\"/>\r\n       <use x=\"113.378906\" xlink:href=\"#DejaVuSans-100\"/>\r\n      </g>\r\n     </g>\r\n    </g>\r\n    <g id=\"xtick_6\">\r\n     <g id=\"line2d_6\">\r\n      <g>\r\n       <use style=\"stroke:#000000;stroke-width:0.8;\" x=\"518.255938\" xlink:href=\"#mb2b5dfbf0d\" y=\"551.7\"/>\r\n      </g>\r\n     </g>\r\n     <g id=\"text_6\">\r\n      <!-- surprise -->\r\n      <g transform=\"translate(498.127031 566.298437)scale(0.1 -0.1)\">\r\n       <use xlink:href=\"#DejaVuSans-115\"/>\r\n       <use x=\"52.099609\" xlink:href=\"#DejaVuSans-117\"/>\r\n       <use x=\"115.478516\" xlink:href=\"#DejaVuSans-114\"/>\r\n       <use x=\"156.591797\" xlink:href=\"#DejaVuSans-112\"/>\r\n       <use x=\"220.068359\" xlink:href=\"#DejaVuSans-114\"/>\r\n       <use x=\"261.181641\" xlink:href=\"#DejaVuSans-105\"/>\r\n       <use x=\"288.964844\" xlink:href=\"#DejaVuSans-115\"/>\r\n       <use x=\"341.064453\" xlink:href=\"#DejaVuSans-101\"/>\r\n      </g>\r\n     </g>\r\n    </g>\r\n    <g id=\"text_7\">\r\n     <!-- Predicted label -->\r\n     <g transform=\"translate(276.503594 579.976562)scale(0.1 -0.1)\">\r\n      <defs>\r\n       <path d=\"M 19.671875 64.796875 \r\nL 19.671875 37.40625 \r\nL 32.078125 37.40625 \r\nQ 38.96875 37.40625 42.71875 40.96875 \r\nQ 46.484375 44.53125 46.484375 51.125 \r\nQ 46.484375 57.671875 42.71875 61.234375 \r\nQ 38.96875 64.796875 32.078125 64.796875 \r\nz\r\nM 9.8125 72.90625 \r\nL 32.078125 72.90625 \r\nQ 44.34375 72.90625 50.609375 67.359375 \r\nQ 56.890625 61.8125 56.890625 51.125 \r\nQ 56.890625 40.328125 50.609375 34.8125 \r\nQ 44.34375 29.296875 32.078125 29.296875 \r\nL 19.671875 29.296875 \r\nL 19.671875 0 \r\nL 9.8125 0 \r\nz\r\n\" id=\"DejaVuSans-80\"/>\r\n       <path d=\"M 48.78125 52.59375 \r\nL 48.78125 44.1875 \r\nQ 44.96875 46.296875 41.140625 47.34375 \r\nQ 37.3125 48.390625 33.40625 48.390625 \r\nQ 24.65625 48.390625 19.8125 42.84375 \r\nQ 14.984375 37.3125 14.984375 27.296875 \r\nQ 14.984375 17.28125 19.8125 11.734375 \r\nQ 24.65625 6.203125 33.40625 6.203125 \r\nQ 37.3125 6.203125 41.140625 7.25 \r\nQ 44.96875 8.296875 48.78125 10.40625 \r\nL 48.78125 2.09375 \r\nQ 45.015625 0.34375 40.984375 -0.53125 \r\nQ 36.96875 -1.421875 32.421875 -1.421875 \r\nQ 20.0625 -1.421875 12.78125 6.34375 \r\nQ 5.515625 14.109375 5.515625 27.296875 \r\nQ 5.515625 40.671875 12.859375 48.328125 \r\nQ 20.21875 56 33.015625 56 \r\nQ 37.15625 56 41.109375 55.140625 \r\nQ 45.0625 54.296875 48.78125 52.59375 \r\nz\r\n\" id=\"DejaVuSans-99\"/>\r\n       <path id=\"DejaVuSans-32\"/>\r\n       <path d=\"M 9.421875 75.984375 \r\nL 18.40625 75.984375 \r\nL 18.40625 0 \r\nL 9.421875 0 \r\nz\r\n\" id=\"DejaVuSans-108\"/>\r\n       <path d=\"M 48.6875 27.296875 \r\nQ 48.6875 37.203125 44.609375 42.84375 \r\nQ 40.53125 48.484375 33.40625 48.484375 \r\nQ 26.265625 48.484375 22.1875 42.84375 \r\nQ 18.109375 37.203125 18.109375 27.296875 \r\nQ 18.109375 17.390625 22.1875 11.75 \r\nQ 26.265625 6.109375 33.40625 6.109375 \r\nQ 40.53125 6.109375 44.609375 11.75 \r\nQ 48.6875 17.390625 48.6875 27.296875 \r\nz\r\nM 18.109375 46.390625 \r\nQ 20.953125 51.265625 25.265625 53.625 \r\nQ 29.59375 56 35.59375 56 \r\nQ 45.5625 56 51.78125 48.09375 \r\nQ 58.015625 40.1875 58.015625 27.296875 \r\nQ 58.015625 14.40625 51.78125 6.484375 \r\nQ 45.5625 -1.421875 35.59375 -1.421875 \r\nQ 29.59375 -1.421875 25.265625 0.953125 \r\nQ 20.953125 3.328125 18.109375 8.203125 \r\nL 18.109375 0 \r\nL 9.078125 0 \r\nL 9.078125 75.984375 \r\nL 18.109375 75.984375 \r\nz\r\n\" id=\"DejaVuSans-98\"/>\r\n      </defs>\r\n      <use xlink:href=\"#DejaVuSans-80\"/>\r\n      <use x=\"58.552734\" xlink:href=\"#DejaVuSans-114\"/>\r\n      <use x=\"97.416016\" xlink:href=\"#DejaVuSans-101\"/>\r\n      <use x=\"158.939453\" xlink:href=\"#DejaVuSans-100\"/>\r\n      <use x=\"222.416016\" xlink:href=\"#DejaVuSans-105\"/>\r\n      <use x=\"250.199219\" xlink:href=\"#DejaVuSans-99\"/>\r\n      <use x=\"305.179688\" xlink:href=\"#DejaVuSans-116\"/>\r\n      <use x=\"344.388672\" xlink:href=\"#DejaVuSans-101\"/>\r\n      <use x=\"405.912109\" xlink:href=\"#DejaVuSans-100\"/>\r\n      <use x=\"469.388672\" xlink:href=\"#DejaVuSans-32\"/>\r\n      <use x=\"501.175781\" xlink:href=\"#DejaVuSans-108\"/>\r\n      <use x=\"528.958984\" xlink:href=\"#DejaVuSans-97\"/>\r\n      <use x=\"590.238281\" xlink:href=\"#DejaVuSans-98\"/>\r\n      <use x=\"653.714844\" xlink:href=\"#DejaVuSans-101\"/>\r\n      <use x=\"715.238281\" xlink:href=\"#DejaVuSans-108\"/>\r\n     </g>\r\n    </g>\r\n   </g>\r\n   <g id=\"matplotlib.axis_2\">\r\n    <g id=\"ytick_1\">\r\n     <g id=\"line2d_7\">\r\n      <defs>\r\n       <path d=\"M 0 0 \r\nL -3.5 0 \r\n\" id=\"m7af975db21\" style=\"stroke:#000000;stroke-width:0.8;\"/>\r\n      </defs>\r\n      <g>\r\n       <use style=\"stroke:#000000;stroke-width:0.8;\" x=\"68.135938\" xlink:href=\"#m7af975db21\" y=\"101.58\"/>\r\n      </g>\r\n     </g>\r\n     <g id=\"text_8\">\r\n      <!-- angry -->\r\n      <g transform=\"translate(32.292188 105.379219)scale(0.1 -0.1)\">\r\n       <use xlink:href=\"#DejaVuSans-97\"/>\r\n       <use x=\"61.279297\" xlink:href=\"#DejaVuSans-110\"/>\r\n       <use x=\"124.658203\" xlink:href=\"#DejaVuSans-103\"/>\r\n       <use x=\"188.134766\" xlink:href=\"#DejaVuSans-114\"/>\r\n       <use x=\"229.248047\" xlink:href=\"#DejaVuSans-121\"/>\r\n      </g>\r\n     </g>\r\n    </g>\r\n    <g id=\"ytick_2\">\r\n     <g id=\"line2d_8\">\r\n      <g>\r\n       <use style=\"stroke:#000000;stroke-width:0.8;\" x=\"68.135938\" xlink:href=\"#m7af975db21\" y=\"183.42\"/>\r\n      </g>\r\n     </g>\r\n     <g id=\"text_9\">\r\n      <!-- disgust -->\r\n      <g transform=\"translate(24.984375 187.219219)scale(0.1 -0.1)\">\r\n       <use xlink:href=\"#DejaVuSans-100\"/>\r\n       <use x=\"63.476562\" xlink:href=\"#DejaVuSans-105\"/>\r\n       <use x=\"91.259766\" xlink:href=\"#DejaVuSans-115\"/>\r\n       <use x=\"143.359375\" xlink:href=\"#DejaVuSans-103\"/>\r\n       <use x=\"206.835938\" xlink:href=\"#DejaVuSans-117\"/>\r\n       <use x=\"270.214844\" xlink:href=\"#DejaVuSans-115\"/>\r\n       <use x=\"322.314453\" xlink:href=\"#DejaVuSans-116\"/>\r\n      </g>\r\n     </g>\r\n    </g>\r\n    <g id=\"ytick_3\">\r\n     <g id=\"line2d_9\">\r\n      <g>\r\n       <use style=\"stroke:#000000;stroke-width:0.8;\" x=\"68.135938\" xlink:href=\"#m7af975db21\" y=\"265.26\"/>\r\n      </g>\r\n     </g>\r\n     <g id=\"text_10\">\r\n      <!-- fear -->\r\n      <g transform=\"translate(41.223438 269.059219)scale(0.1 -0.1)\">\r\n       <use xlink:href=\"#DejaVuSans-102\"/>\r\n       <use x=\"35.205078\" xlink:href=\"#DejaVuSans-101\"/>\r\n       <use x=\"96.728516\" xlink:href=\"#DejaVuSans-97\"/>\r\n       <use x=\"158.007812\" xlink:href=\"#DejaVuSans-114\"/>\r\n      </g>\r\n     </g>\r\n    </g>\r\n    <g id=\"ytick_4\">\r\n     <g id=\"line2d_10\">\r\n      <g>\r\n       <use style=\"stroke:#000000;stroke-width:0.8;\" x=\"68.135938\" xlink:href=\"#m7af975db21\" y=\"347.1\"/>\r\n      </g>\r\n     </g>\r\n     <g id=\"text_11\">\r\n      <!-- happy -->\r\n      <g transform=\"translate(30.054688 350.899219)scale(0.1 -0.1)\">\r\n       <use xlink:href=\"#DejaVuSans-104\"/>\r\n       <use x=\"63.378906\" xlink:href=\"#DejaVuSans-97\"/>\r\n       <use x=\"124.658203\" xlink:href=\"#DejaVuSans-112\"/>\r\n       <use x=\"188.134766\" xlink:href=\"#DejaVuSans-112\"/>\r\n       <use x=\"251.611328\" xlink:href=\"#DejaVuSans-121\"/>\r\n      </g>\r\n     </g>\r\n    </g>\r\n    <g id=\"ytick_5\">\r\n     <g id=\"line2d_11\">\r\n      <g>\r\n       <use style=\"stroke:#000000;stroke-width:0.8;\" x=\"68.135938\" xlink:href=\"#m7af975db21\" y=\"428.94\"/>\r\n      </g>\r\n     </g>\r\n     <g id=\"text_12\">\r\n      <!-- sad -->\r\n      <g transform=\"translate(43.45 432.739219)scale(0.1 -0.1)\">\r\n       <use xlink:href=\"#DejaVuSans-115\"/>\r\n       <use x=\"52.099609\" xlink:href=\"#DejaVuSans-97\"/>\r\n       <use x=\"113.378906\" xlink:href=\"#DejaVuSans-100\"/>\r\n      </g>\r\n     </g>\r\n    </g>\r\n    <g id=\"ytick_6\">\r\n     <g id=\"line2d_12\">\r\n      <g>\r\n       <use style=\"stroke:#000000;stroke-width:0.8;\" x=\"68.135938\" xlink:href=\"#m7af975db21\" y=\"510.78\"/>\r\n      </g>\r\n     </g>\r\n     <g id=\"text_13\">\r\n      <!-- surprise -->\r\n      <g transform=\"translate(20.878125 514.579219)scale(0.1 -0.1)\">\r\n       <use xlink:href=\"#DejaVuSans-115\"/>\r\n       <use x=\"52.099609\" xlink:href=\"#DejaVuSans-117\"/>\r\n       <use x=\"115.478516\" xlink:href=\"#DejaVuSans-114\"/>\r\n       <use x=\"156.591797\" xlink:href=\"#DejaVuSans-112\"/>\r\n       <use x=\"220.068359\" xlink:href=\"#DejaVuSans-114\"/>\r\n       <use x=\"261.181641\" xlink:href=\"#DejaVuSans-105\"/>\r\n       <use x=\"288.964844\" xlink:href=\"#DejaVuSans-115\"/>\r\n       <use x=\"341.064453\" xlink:href=\"#DejaVuSans-101\"/>\r\n      </g>\r\n     </g>\r\n    </g>\r\n    <g id=\"text_14\">\r\n     <!-- True label -->\r\n     <g transform=\"translate(14.798438 330.479219)rotate(-90)scale(0.1 -0.1)\">\r\n      <defs>\r\n       <path d=\"M -0.296875 72.90625 \r\nL 61.375 72.90625 \r\nL 61.375 64.59375 \r\nL 35.5 64.59375 \r\nL 35.5 0 \r\nL 25.59375 0 \r\nL 25.59375 64.59375 \r\nL -0.296875 64.59375 \r\nz\r\n\" id=\"DejaVuSans-84\"/>\r\n      </defs>\r\n      <use xlink:href=\"#DejaVuSans-84\"/>\r\n      <use x=\"46.333984\" xlink:href=\"#DejaVuSans-114\"/>\r\n      <use x=\"87.447266\" xlink:href=\"#DejaVuSans-117\"/>\r\n      <use x=\"150.826172\" xlink:href=\"#DejaVuSans-101\"/>\r\n      <use x=\"212.349609\" xlink:href=\"#DejaVuSans-32\"/>\r\n      <use x=\"244.136719\" xlink:href=\"#DejaVuSans-108\"/>\r\n      <use x=\"271.919922\" xlink:href=\"#DejaVuSans-97\"/>\r\n      <use x=\"333.199219\" xlink:href=\"#DejaVuSans-98\"/>\r\n      <use x=\"396.675781\" xlink:href=\"#DejaVuSans-101\"/>\r\n      <use x=\"458.199219\" xlink:href=\"#DejaVuSans-108\"/>\r\n     </g>\r\n    </g>\r\n   </g>\r\n   <g id=\"patch_3\">\r\n    <path d=\"M 68.135938 551.7 \r\nL 68.135938 60.66 \r\n\" style=\"fill:none;stroke:#000000;stroke-linecap:square;stroke-linejoin:miter;stroke-width:0.8;\"/>\r\n   </g>\r\n   <g id=\"patch_4\">\r\n    <path d=\"M 559.175938 551.7 \r\nL 559.175938 60.66 \r\n\" style=\"fill:none;stroke:#000000;stroke-linecap:square;stroke-linejoin:miter;stroke-width:0.8;\"/>\r\n   </g>\r\n   <g id=\"patch_5\">\r\n    <path d=\"M 68.135938 551.7 \r\nL 559.175938 551.7 \r\n\" style=\"fill:none;stroke:#000000;stroke-linecap:square;stroke-linejoin:miter;stroke-width:0.8;\"/>\r\n   </g>\r\n   <g id=\"patch_6\">\r\n    <path d=\"M 68.135938 60.66 \r\nL 559.175938 60.66 \r\n\" style=\"fill:none;stroke:#000000;stroke-linecap:square;stroke-linejoin:miter;stroke-width:0.8;\"/>\r\n   </g>\r\n   <g id=\"text_15\">\r\n    <!-- 81 -->\r\n    <g style=\"fill:#67001f;\" transform=\"translate(102.693438 104.339375)scale(0.1 -0.1)\">\r\n     <defs>\r\n      <path d=\"M 31.78125 34.625 \r\nQ 24.75 34.625 20.71875 30.859375 \r\nQ 16.703125 27.09375 16.703125 20.515625 \r\nQ 16.703125 13.921875 20.71875 10.15625 \r\nQ 24.75 6.390625 31.78125 6.390625 \r\nQ 38.8125 6.390625 42.859375 10.171875 \r\nQ 46.921875 13.96875 46.921875 20.515625 \r\nQ 46.921875 27.09375 42.890625 30.859375 \r\nQ 38.875 34.625 31.78125 34.625 \r\nz\r\nM 21.921875 38.8125 \r\nQ 15.578125 40.375 12.03125 44.71875 \r\nQ 8.5 49.078125 8.5 55.328125 \r\nQ 8.5 64.0625 14.71875 69.140625 \r\nQ 20.953125 74.21875 31.78125 74.21875 \r\nQ 42.671875 74.21875 48.875 69.140625 \r\nQ 55.078125 64.0625 55.078125 55.328125 \r\nQ 55.078125 49.078125 51.53125 44.71875 \r\nQ 48 40.375 41.703125 38.8125 \r\nQ 48.828125 37.15625 52.796875 32.3125 \r\nQ 56.78125 27.484375 56.78125 20.515625 \r\nQ 56.78125 9.90625 50.3125 4.234375 \r\nQ 43.84375 -1.421875 31.78125 -1.421875 \r\nQ 19.734375 -1.421875 13.25 4.234375 \r\nQ 6.78125 9.90625 6.78125 20.515625 \r\nQ 6.78125 27.484375 10.78125 32.3125 \r\nQ 14.796875 37.15625 21.921875 38.8125 \r\nz\r\nM 18.3125 54.390625 \r\nQ 18.3125 48.734375 21.84375 45.5625 \r\nQ 25.390625 42.390625 31.78125 42.390625 \r\nQ 38.140625 42.390625 41.71875 45.5625 \r\nQ 45.3125 48.734375 45.3125 54.390625 \r\nQ 45.3125 60.0625 41.71875 63.234375 \r\nQ 38.140625 66.40625 31.78125 66.40625 \r\nQ 25.390625 66.40625 21.84375 63.234375 \r\nQ 18.3125 60.0625 18.3125 54.390625 \r\nz\r\n\" id=\"DejaVuSans-56\"/>\r\n      <path d=\"M 12.40625 8.296875 \r\nL 28.515625 8.296875 \r\nL 28.515625 63.921875 \r\nL 10.984375 60.40625 \r\nL 10.984375 69.390625 \r\nL 28.421875 72.90625 \r\nL 38.28125 72.90625 \r\nL 38.28125 8.296875 \r\nL 54.390625 8.296875 \r\nL 54.390625 0 \r\nL 12.40625 0 \r\nz\r\n\" id=\"DejaVuSans-49\"/>\r\n     </defs>\r\n     <use xlink:href=\"#DejaVuSans-56\"/>\r\n     <use x=\"63.623047\" xlink:href=\"#DejaVuSans-49\"/>\r\n    </g>\r\n   </g>\r\n   <g id=\"text_16\">\r\n    <!-- 3.1 -->\r\n    <g style=\"fill:#053061;\" transform=\"translate(182.944375 104.339375)scale(0.1 -0.1)\">\r\n     <defs>\r\n      <path d=\"M 40.578125 39.3125 \r\nQ 47.65625 37.796875 51.625 33 \r\nQ 55.609375 28.21875 55.609375 21.1875 \r\nQ 55.609375 10.40625 48.1875 4.484375 \r\nQ 40.765625 -1.421875 27.09375 -1.421875 \r\nQ 22.515625 -1.421875 17.65625 -0.515625 \r\nQ 12.796875 0.390625 7.625 2.203125 \r\nL 7.625 11.71875 \r\nQ 11.71875 9.328125 16.59375 8.109375 \r\nQ 21.484375 6.890625 26.8125 6.890625 \r\nQ 36.078125 6.890625 40.9375 10.546875 \r\nQ 45.796875 14.203125 45.796875 21.1875 \r\nQ 45.796875 27.640625 41.28125 31.265625 \r\nQ 36.765625 34.90625 28.71875 34.90625 \r\nL 20.21875 34.90625 \r\nL 20.21875 43.015625 \r\nL 29.109375 43.015625 \r\nQ 36.375 43.015625 40.234375 45.921875 \r\nQ 44.09375 48.828125 44.09375 54.296875 \r\nQ 44.09375 59.90625 40.109375 62.90625 \r\nQ 36.140625 65.921875 28.71875 65.921875 \r\nQ 24.65625 65.921875 20.015625 65.03125 \r\nQ 15.375 64.15625 9.8125 62.3125 \r\nL 9.8125 71.09375 \r\nQ 15.4375 72.65625 20.34375 73.4375 \r\nQ 25.25 74.21875 29.59375 74.21875 \r\nQ 40.828125 74.21875 47.359375 69.109375 \r\nQ 53.90625 64.015625 53.90625 55.328125 \r\nQ 53.90625 49.265625 50.4375 45.09375 \r\nQ 46.96875 40.921875 40.578125 39.3125 \r\nz\r\n\" id=\"DejaVuSans-51\"/>\r\n      <path d=\"M 10.6875 12.40625 \r\nL 21 12.40625 \r\nL 21 0 \r\nL 10.6875 0 \r\nz\r\n\" id=\"DejaVuSans-46\"/>\r\n     </defs>\r\n     <use xlink:href=\"#DejaVuSans-51\"/>\r\n     <use x=\"63.623047\" xlink:href=\"#DejaVuSans-46\"/>\r\n     <use x=\"95.410156\" xlink:href=\"#DejaVuSans-49\"/>\r\n    </g>\r\n   </g>\r\n   <g id=\"text_17\">\r\n    <!-- 1.5 -->\r\n    <g style=\"fill:#053061;\" transform=\"translate(264.784375 104.339375)scale(0.1 -0.1)\">\r\n     <defs>\r\n      <path d=\"M 10.796875 72.90625 \r\nL 49.515625 72.90625 \r\nL 49.515625 64.59375 \r\nL 19.828125 64.59375 \r\nL 19.828125 46.734375 \r\nQ 21.96875 47.46875 24.109375 47.828125 \r\nQ 26.265625 48.1875 28.421875 48.1875 \r\nQ 40.625 48.1875 47.75 41.5 \r\nQ 54.890625 34.8125 54.890625 23.390625 \r\nQ 54.890625 11.625 47.5625 5.09375 \r\nQ 40.234375 -1.421875 26.90625 -1.421875 \r\nQ 22.3125 -1.421875 17.546875 -0.640625 \r\nQ 12.796875 0.140625 7.71875 1.703125 \r\nL 7.71875 11.625 \r\nQ 12.109375 9.234375 16.796875 8.0625 \r\nQ 21.484375 6.890625 26.703125 6.890625 \r\nQ 35.15625 6.890625 40.078125 11.328125 \r\nQ 45.015625 15.765625 45.015625 23.390625 \r\nQ 45.015625 31 40.078125 35.4375 \r\nQ 35.15625 39.890625 26.703125 39.890625 \r\nQ 22.75 39.890625 18.8125 39.015625 \r\nQ 14.890625 38.140625 10.796875 36.28125 \r\nz\r\n\" id=\"DejaVuSans-53\"/>\r\n     </defs>\r\n     <use xlink:href=\"#DejaVuSans-49\"/>\r\n     <use x=\"63.623047\" xlink:href=\"#DejaVuSans-46\"/>\r\n     <use x=\"95.410156\" xlink:href=\"#DejaVuSans-53\"/>\r\n    </g>\r\n   </g>\r\n   <g id=\"text_18\">\r\n    <!-- 7.3 -->\r\n    <g style=\"fill:#053061;\" transform=\"translate(346.624375 104.339375)scale(0.1 -0.1)\">\r\n     <defs>\r\n      <path d=\"M 8.203125 72.90625 \r\nL 55.078125 72.90625 \r\nL 55.078125 68.703125 \r\nL 28.609375 0 \r\nL 18.3125 0 \r\nL 43.21875 64.59375 \r\nL 8.203125 64.59375 \r\nz\r\n\" id=\"DejaVuSans-55\"/>\r\n     </defs>\r\n     <use xlink:href=\"#DejaVuSans-55\"/>\r\n     <use x=\"63.623047\" xlink:href=\"#DejaVuSans-46\"/>\r\n     <use x=\"95.410156\" xlink:href=\"#DejaVuSans-51\"/>\r\n    </g>\r\n   </g>\r\n   <g id=\"text_19\">\r\n    <!-- 6.2 -->\r\n    <g style=\"fill:#053061;\" transform=\"translate(428.464375 104.339375)scale(0.1 -0.1)\">\r\n     <defs>\r\n      <path d=\"M 33.015625 40.375 \r\nQ 26.375 40.375 22.484375 35.828125 \r\nQ 18.609375 31.296875 18.609375 23.390625 \r\nQ 18.609375 15.53125 22.484375 10.953125 \r\nQ 26.375 6.390625 33.015625 6.390625 \r\nQ 39.65625 6.390625 43.53125 10.953125 \r\nQ 47.40625 15.53125 47.40625 23.390625 \r\nQ 47.40625 31.296875 43.53125 35.828125 \r\nQ 39.65625 40.375 33.015625 40.375 \r\nz\r\nM 52.59375 71.296875 \r\nL 52.59375 62.3125 \r\nQ 48.875 64.0625 45.09375 64.984375 \r\nQ 41.3125 65.921875 37.59375 65.921875 \r\nQ 27.828125 65.921875 22.671875 59.328125 \r\nQ 17.53125 52.734375 16.796875 39.40625 \r\nQ 19.671875 43.65625 24.015625 45.921875 \r\nQ 28.375 48.1875 33.59375 48.1875 \r\nQ 44.578125 48.1875 50.953125 41.515625 \r\nQ 57.328125 34.859375 57.328125 23.390625 \r\nQ 57.328125 12.15625 50.6875 5.359375 \r\nQ 44.046875 -1.421875 33.015625 -1.421875 \r\nQ 20.359375 -1.421875 13.671875 8.265625 \r\nQ 6.984375 17.96875 6.984375 36.375 \r\nQ 6.984375 53.65625 15.1875 63.9375 \r\nQ 23.390625 74.21875 37.203125 74.21875 \r\nQ 40.921875 74.21875 44.703125 73.484375 \r\nQ 48.484375 72.75 52.59375 71.296875 \r\nz\r\n\" id=\"DejaVuSans-54\"/>\r\n      <path d=\"M 19.1875 8.296875 \r\nL 53.609375 8.296875 \r\nL 53.609375 0 \r\nL 7.328125 0 \r\nL 7.328125 8.296875 \r\nQ 12.9375 14.109375 22.625 23.890625 \r\nQ 32.328125 33.6875 34.8125 36.53125 \r\nQ 39.546875 41.84375 41.421875 45.53125 \r\nQ 43.3125 49.21875 43.3125 52.78125 \r\nQ 43.3125 58.59375 39.234375 62.25 \r\nQ 35.15625 65.921875 28.609375 65.921875 \r\nQ 23.96875 65.921875 18.8125 64.3125 \r\nQ 13.671875 62.703125 7.8125 59.421875 \r\nL 7.8125 69.390625 \r\nQ 13.765625 71.78125 18.9375 73 \r\nQ 24.125 74.21875 28.421875 74.21875 \r\nQ 39.75 74.21875 46.484375 68.546875 \r\nQ 53.21875 62.890625 53.21875 53.421875 \r\nQ 53.21875 48.921875 51.53125 44.890625 \r\nQ 49.859375 40.875 45.40625 35.40625 \r\nQ 44.1875 33.984375 37.640625 27.21875 \r\nQ 31.109375 20.453125 19.1875 8.296875 \r\nz\r\n\" id=\"DejaVuSans-50\"/>\r\n     </defs>\r\n     <use xlink:href=\"#DejaVuSans-54\"/>\r\n     <use x=\"63.623047\" xlink:href=\"#DejaVuSans-46\"/>\r\n     <use x=\"95.410156\" xlink:href=\"#DejaVuSans-50\"/>\r\n    </g>\r\n   </g>\r\n   <g id=\"text_20\">\r\n    <!-- 0.39 -->\r\n    <g style=\"fill:#053061;\" transform=\"translate(507.123125 104.339375)scale(0.1 -0.1)\">\r\n     <defs>\r\n      <path d=\"M 31.78125 66.40625 \r\nQ 24.171875 66.40625 20.328125 58.90625 \r\nQ 16.5 51.421875 16.5 36.375 \r\nQ 16.5 21.390625 20.328125 13.890625 \r\nQ 24.171875 6.390625 31.78125 6.390625 \r\nQ 39.453125 6.390625 43.28125 13.890625 \r\nQ 47.125 21.390625 47.125 36.375 \r\nQ 47.125 51.421875 43.28125 58.90625 \r\nQ 39.453125 66.40625 31.78125 66.40625 \r\nz\r\nM 31.78125 74.21875 \r\nQ 44.046875 74.21875 50.515625 64.515625 \r\nQ 56.984375 54.828125 56.984375 36.375 \r\nQ 56.984375 17.96875 50.515625 8.265625 \r\nQ 44.046875 -1.421875 31.78125 -1.421875 \r\nQ 19.53125 -1.421875 13.0625 8.265625 \r\nQ 6.59375 17.96875 6.59375 36.375 \r\nQ 6.59375 54.828125 13.0625 64.515625 \r\nQ 19.53125 74.21875 31.78125 74.21875 \r\nz\r\n\" id=\"DejaVuSans-48\"/>\r\n      <path d=\"M 10.984375 1.515625 \r\nL 10.984375 10.5 \r\nQ 14.703125 8.734375 18.5 7.8125 \r\nQ 22.3125 6.890625 25.984375 6.890625 \r\nQ 35.75 6.890625 40.890625 13.453125 \r\nQ 46.046875 20.015625 46.78125 33.40625 \r\nQ 43.953125 29.203125 39.59375 26.953125 \r\nQ 35.25 24.703125 29.984375 24.703125 \r\nQ 19.046875 24.703125 12.671875 31.3125 \r\nQ 6.296875 37.9375 6.296875 49.421875 \r\nQ 6.296875 60.640625 12.9375 67.421875 \r\nQ 19.578125 74.21875 30.609375 74.21875 \r\nQ 43.265625 74.21875 49.921875 64.515625 \r\nQ 56.59375 54.828125 56.59375 36.375 \r\nQ 56.59375 19.140625 48.40625 8.859375 \r\nQ 40.234375 -1.421875 26.421875 -1.421875 \r\nQ 22.703125 -1.421875 18.890625 -0.6875 \r\nQ 15.09375 0.046875 10.984375 1.515625 \r\nz\r\nM 30.609375 32.421875 \r\nQ 37.25 32.421875 41.125 36.953125 \r\nQ 45.015625 41.5 45.015625 49.421875 \r\nQ 45.015625 57.28125 41.125 61.84375 \r\nQ 37.25 66.40625 30.609375 66.40625 \r\nQ 23.96875 66.40625 20.09375 61.84375 \r\nQ 16.21875 57.28125 16.21875 49.421875 \r\nQ 16.21875 41.5 20.09375 36.953125 \r\nQ 23.96875 32.421875 30.609375 32.421875 \r\nz\r\n\" id=\"DejaVuSans-57\"/>\r\n     </defs>\r\n     <use xlink:href=\"#DejaVuSans-48\"/>\r\n     <use x=\"63.623047\" xlink:href=\"#DejaVuSans-46\"/>\r\n     <use x=\"95.410156\" xlink:href=\"#DejaVuSans-51\"/>\r\n     <use x=\"159.033203\" xlink:href=\"#DejaVuSans-57\"/>\r\n    </g>\r\n   </g>\r\n   <g id=\"text_21\">\r\n    <!-- 4.2 -->\r\n    <g style=\"fill:#053061;\" transform=\"translate(101.104375 186.179375)scale(0.1 -0.1)\">\r\n     <defs>\r\n      <path d=\"M 37.796875 64.3125 \r\nL 12.890625 25.390625 \r\nL 37.796875 25.390625 \r\nz\r\nM 35.203125 72.90625 \r\nL 47.609375 72.90625 \r\nL 47.609375 25.390625 \r\nL 58.015625 25.390625 \r\nL 58.015625 17.1875 \r\nL 47.609375 17.1875 \r\nL 47.609375 0 \r\nL 37.796875 0 \r\nL 37.796875 17.1875 \r\nL 4.890625 17.1875 \r\nL 4.890625 26.703125 \r\nz\r\n\" id=\"DejaVuSans-52\"/>\r\n     </defs>\r\n     <use xlink:href=\"#DejaVuSans-52\"/>\r\n     <use x=\"63.623047\" xlink:href=\"#DejaVuSans-46\"/>\r\n     <use x=\"95.410156\" xlink:href=\"#DejaVuSans-50\"/>\r\n    </g>\r\n   </g>\r\n   <g id=\"text_22\">\r\n    <!-- 77 -->\r\n    <g style=\"fill:#67001f;\" transform=\"translate(184.533437 186.179375)scale(0.1 -0.1)\">\r\n     <use xlink:href=\"#DejaVuSans-55\"/>\r\n     <use x=\"63.623047\" xlink:href=\"#DejaVuSans-55\"/>\r\n    </g>\r\n   </g>\r\n   <g id=\"text_23\">\r\n    <!-- 3.4 -->\r\n    <g style=\"fill:#053061;\" transform=\"translate(264.784375 186.179375)scale(0.1 -0.1)\">\r\n     <use xlink:href=\"#DejaVuSans-51\"/>\r\n     <use x=\"63.623047\" xlink:href=\"#DejaVuSans-46\"/>\r\n     <use x=\"95.410156\" xlink:href=\"#DejaVuSans-52\"/>\r\n    </g>\r\n   </g>\r\n   <g id=\"text_24\">\r\n    <!-- 9.2 -->\r\n    <g style=\"fill:#053061;\" transform=\"translate(346.624375 186.179375)scale(0.1 -0.1)\">\r\n     <use xlink:href=\"#DejaVuSans-57\"/>\r\n     <use x=\"63.623047\" xlink:href=\"#DejaVuSans-46\"/>\r\n     <use x=\"95.410156\" xlink:href=\"#DejaVuSans-50\"/>\r\n    </g>\r\n   </g>\r\n   <g id=\"text_25\">\r\n    <!-- 2.5 -->\r\n    <g style=\"fill:#053061;\" transform=\"translate(428.464375 186.179375)scale(0.1 -0.1)\">\r\n     <use xlink:href=\"#DejaVuSans-50\"/>\r\n     <use x=\"63.623047\" xlink:href=\"#DejaVuSans-46\"/>\r\n     <use x=\"95.410156\" xlink:href=\"#DejaVuSans-53\"/>\r\n    </g>\r\n   </g>\r\n   <g id=\"text_26\">\r\n    <!-- 3.4 -->\r\n    <g style=\"fill:#053061;\" transform=\"translate(510.304375 186.179375)scale(0.1 -0.1)\">\r\n     <use xlink:href=\"#DejaVuSans-51\"/>\r\n     <use x=\"63.623047\" xlink:href=\"#DejaVuSans-46\"/>\r\n     <use x=\"95.410156\" xlink:href=\"#DejaVuSans-52\"/>\r\n    </g>\r\n   </g>\r\n   <g id=\"text_27\">\r\n    <!-- 2.5 -->\r\n    <g style=\"fill:#053061;\" transform=\"translate(101.104375 268.019375)scale(0.1 -0.1)\">\r\n     <use xlink:href=\"#DejaVuSans-50\"/>\r\n     <use x=\"63.623047\" xlink:href=\"#DejaVuSans-46\"/>\r\n     <use x=\"95.410156\" xlink:href=\"#DejaVuSans-53\"/>\r\n    </g>\r\n   </g>\r\n   <g id=\"text_28\">\r\n    <!-- 1.9 -->\r\n    <g style=\"fill:#053061;\" transform=\"translate(182.944375 268.019375)scale(0.1 -0.1)\">\r\n     <use xlink:href=\"#DejaVuSans-49\"/>\r\n     <use x=\"63.623047\" xlink:href=\"#DejaVuSans-46\"/>\r\n     <use x=\"95.410156\" xlink:href=\"#DejaVuSans-57\"/>\r\n    </g>\r\n   </g>\r\n   <g id=\"text_29\">\r\n    <!-- 71 -->\r\n    <g style=\"fill:#67001f;\" transform=\"translate(266.373438 268.019375)scale(0.1 -0.1)\">\r\n     <use xlink:href=\"#DejaVuSans-55\"/>\r\n     <use x=\"63.623047\" xlink:href=\"#DejaVuSans-49\"/>\r\n    </g>\r\n   </g>\r\n   <g id=\"text_30\">\r\n    <!-- 15 -->\r\n    <g style=\"fill:#053061;\" transform=\"translate(348.213437 268.019375)scale(0.1 -0.1)\">\r\n     <use xlink:href=\"#DejaVuSans-49\"/>\r\n     <use x=\"63.623047\" xlink:href=\"#DejaVuSans-53\"/>\r\n    </g>\r\n   </g>\r\n   <g id=\"text_31\">\r\n    <!-- 6.8 -->\r\n    <g style=\"fill:#053061;\" transform=\"translate(428.464375 268.019375)scale(0.1 -0.1)\">\r\n     <use xlink:href=\"#DejaVuSans-54\"/>\r\n     <use x=\"63.623047\" xlink:href=\"#DejaVuSans-46\"/>\r\n     <use x=\"95.410156\" xlink:href=\"#DejaVuSans-56\"/>\r\n    </g>\r\n   </g>\r\n   <g id=\"text_32\">\r\n    <!-- 2.5 -->\r\n    <g style=\"fill:#053061;\" transform=\"translate(510.304375 268.019375)scale(0.1 -0.1)\">\r\n     <use xlink:href=\"#DejaVuSans-50\"/>\r\n     <use x=\"63.623047\" xlink:href=\"#DejaVuSans-46\"/>\r\n     <use x=\"95.410156\" xlink:href=\"#DejaVuSans-53\"/>\r\n    </g>\r\n   </g>\r\n   <g id=\"text_33\">\r\n    <!-- 2.5 -->\r\n    <g style=\"fill:#053061;\" transform=\"translate(101.104375 349.859375)scale(0.1 -0.1)\">\r\n     <use xlink:href=\"#DejaVuSans-50\"/>\r\n     <use x=\"63.623047\" xlink:href=\"#DejaVuSans-46\"/>\r\n     <use x=\"95.410156\" xlink:href=\"#DejaVuSans-53\"/>\r\n    </g>\r\n   </g>\r\n   <g id=\"text_34\">\r\n    <!-- 1.3 -->\r\n    <g style=\"fill:#053061;\" transform=\"translate(182.944375 349.859375)scale(0.1 -0.1)\">\r\n     <use xlink:href=\"#DejaVuSans-49\"/>\r\n     <use x=\"63.623047\" xlink:href=\"#DejaVuSans-46\"/>\r\n     <use x=\"95.410156\" xlink:href=\"#DejaVuSans-51\"/>\r\n    </g>\r\n   </g>\r\n   <g id=\"text_35\">\r\n    <!-- 4.5 -->\r\n    <g style=\"fill:#053061;\" transform=\"translate(264.784375 349.859375)scale(0.1 -0.1)\">\r\n     <use xlink:href=\"#DejaVuSans-52\"/>\r\n     <use x=\"63.623047\" xlink:href=\"#DejaVuSans-46\"/>\r\n     <use x=\"95.410156\" xlink:href=\"#DejaVuSans-53\"/>\r\n    </g>\r\n   </g>\r\n   <g id=\"text_36\">\r\n    <!-- 82 -->\r\n    <g style=\"fill:#67001f;\" transform=\"translate(348.213437 349.859375)scale(0.1 -0.1)\">\r\n     <use xlink:href=\"#DejaVuSans-56\"/>\r\n     <use x=\"63.623047\" xlink:href=\"#DejaVuSans-50\"/>\r\n    </g>\r\n   </g>\r\n   <g id=\"text_37\">\r\n    <!-- 7.8 -->\r\n    <g style=\"fill:#053061;\" transform=\"translate(428.464375 349.859375)scale(0.1 -0.1)\">\r\n     <use xlink:href=\"#DejaVuSans-55\"/>\r\n     <use x=\"63.623047\" xlink:href=\"#DejaVuSans-46\"/>\r\n     <use x=\"95.410156\" xlink:href=\"#DejaVuSans-56\"/>\r\n    </g>\r\n   </g>\r\n   <g id=\"text_38\">\r\n    <!-- 1.9 -->\r\n    <g style=\"fill:#053061;\" transform=\"translate(510.304375 349.859375)scale(0.1 -0.1)\">\r\n     <use xlink:href=\"#DejaVuSans-49\"/>\r\n     <use x=\"63.623047\" xlink:href=\"#DejaVuSans-46\"/>\r\n     <use x=\"95.410156\" xlink:href=\"#DejaVuSans-57\"/>\r\n    </g>\r\n   </g>\r\n   <g id=\"text_39\">\r\n    <!-- 4.5 -->\r\n    <g style=\"fill:#053061;\" transform=\"translate(101.104375 431.699375)scale(0.1 -0.1)\">\r\n     <use xlink:href=\"#DejaVuSans-52\"/>\r\n     <use x=\"63.623047\" xlink:href=\"#DejaVuSans-46\"/>\r\n     <use x=\"95.410156\" xlink:href=\"#DejaVuSans-53\"/>\r\n    </g>\r\n   </g>\r\n   <g id=\"text_40\">\r\n    <!-- 2 -->\r\n    <g style=\"fill:#053061;\" transform=\"translate(187.714687 431.699375)scale(0.1 -0.1)\">\r\n     <use xlink:href=\"#DejaVuSans-50\"/>\r\n    </g>\r\n   </g>\r\n   <g id=\"text_41\">\r\n    <!-- 1.8 -->\r\n    <g style=\"fill:#053061;\" transform=\"translate(264.784375 431.699375)scale(0.1 -0.1)\">\r\n     <use xlink:href=\"#DejaVuSans-49\"/>\r\n     <use x=\"63.623047\" xlink:href=\"#DejaVuSans-46\"/>\r\n     <use x=\"95.410156\" xlink:href=\"#DejaVuSans-56\"/>\r\n    </g>\r\n   </g>\r\n   <g id=\"text_42\">\r\n    <!-- 11 -->\r\n    <g style=\"fill:#053061;\" transform=\"translate(348.213437 431.699375)scale(0.1 -0.1)\">\r\n     <use xlink:href=\"#DejaVuSans-49\"/>\r\n     <use x=\"63.623047\" xlink:href=\"#DejaVuSans-49\"/>\r\n    </g>\r\n   </g>\r\n   <g id=\"text_43\">\r\n    <!-- 79 -->\r\n    <g style=\"fill:#67001f;\" transform=\"translate(430.053438 431.699375)scale(0.1 -0.1)\">\r\n     <use xlink:href=\"#DejaVuSans-55\"/>\r\n     <use x=\"63.623047\" xlink:href=\"#DejaVuSans-57\"/>\r\n    </g>\r\n   </g>\r\n   <g id=\"text_44\">\r\n    <!-- 2.2 -->\r\n    <g style=\"fill:#053061;\" transform=\"translate(510.304375 431.699375)scale(0.1 -0.1)\">\r\n     <use xlink:href=\"#DejaVuSans-50\"/>\r\n     <use x=\"63.623047\" xlink:href=\"#DejaVuSans-46\"/>\r\n     <use x=\"95.410156\" xlink:href=\"#DejaVuSans-50\"/>\r\n    </g>\r\n   </g>\r\n   <g id=\"text_45\">\r\n    <!-- 1.5 -->\r\n    <g style=\"fill:#053061;\" transform=\"translate(101.104375 513.539375)scale(0.1 -0.1)\">\r\n     <use xlink:href=\"#DejaVuSans-49\"/>\r\n     <use x=\"63.623047\" xlink:href=\"#DejaVuSans-46\"/>\r\n     <use x=\"95.410156\" xlink:href=\"#DejaVuSans-53\"/>\r\n    </g>\r\n   </g>\r\n   <g id=\"text_46\">\r\n    <!-- 3 -->\r\n    <g style=\"fill:#053061;\" transform=\"translate(187.714687 513.539375)scale(0.1 -0.1)\">\r\n     <use xlink:href=\"#DejaVuSans-51\"/>\r\n    </g>\r\n   </g>\r\n   <g id=\"text_47\">\r\n    <!-- 4.5 -->\r\n    <g style=\"fill:#053061;\" transform=\"translate(264.784375 513.539375)scale(0.1 -0.1)\">\r\n     <use xlink:href=\"#DejaVuSans-52\"/>\r\n     <use x=\"63.623047\" xlink:href=\"#DejaVuSans-46\"/>\r\n     <use x=\"95.410156\" xlink:href=\"#DejaVuSans-53\"/>\r\n    </g>\r\n   </g>\r\n   <g id=\"text_48\">\r\n    <!-- 16 -->\r\n    <g style=\"fill:#053061;\" transform=\"translate(348.213437 513.539375)scale(0.1 -0.1)\">\r\n     <use xlink:href=\"#DejaVuSans-49\"/>\r\n     <use x=\"63.623047\" xlink:href=\"#DejaVuSans-54\"/>\r\n    </g>\r\n   </g>\r\n   <g id=\"text_49\">\r\n    <!-- 10 -->\r\n    <g style=\"fill:#053061;\" transform=\"translate(430.053438 513.539375)scale(0.1 -0.1)\">\r\n     <use xlink:href=\"#DejaVuSans-49\"/>\r\n     <use x=\"63.623047\" xlink:href=\"#DejaVuSans-48\"/>\r\n    </g>\r\n   </g>\r\n   <g id=\"text_50\">\r\n    <!-- 64 -->\r\n    <g style=\"fill:#67001f;\" transform=\"translate(511.893438 513.539375)scale(0.1 -0.1)\">\r\n     <use xlink:href=\"#DejaVuSans-54\"/>\r\n     <use x=\"63.623047\" xlink:href=\"#DejaVuSans-52\"/>\r\n    </g>\r\n   </g>\r\n  </g>\r\n  <g id=\"axes_2\">\r\n   <g id=\"patch_7\">\r\n    <path clip-path=\"url(#p14de453af1)\" d=\"M 589.865938 605.16 \r\nL 589.865938 602.824219 \r\nL 589.865938 9.535781 \r\nL 589.865938 7.2 \r\nL 619.763937 7.2 \r\nL 619.763937 9.535781 \r\nL 619.763937 602.824219 \r\nL 619.763937 605.16 \r\nz\r\n\" style=\"fill:#ffffff;stroke:#ffffff;stroke-linejoin:miter;stroke-width:0.01;\"/>\r\n   </g>\r\n   <image height=\"598\" id=\"image3ca5682ec3\" transform=\"scale(1 -1)translate(0 -598)\" width=\"30\" x=\"590\" xlink:href=\"data:image/png;base64,\r\niVBORw0KGgoAAAANSUhEUgAAAB4AAAJWCAYAAABPpDeKAAAC50lEQVR4nO2cwXGDQBAED7g8HJ7z/xtwFr1VdHcCV7M3MywqScfv+nnXAOfEoWutta9j5uBJxTOSxxRnLgyfuXx3nLkwfOby3fHcqKdOzlwYvgLJXBg+c/nuOHNh+Mzlu+NGjVGcMJRxylwM3fH3D85cGIMfN9kUz436GMrToLl0io9r5uzihFGcMPZxFicGo7mEiosTgzFOp03xWZwglF1tU1ycKIzm0j2dWvYojMueUHFxYjDGSfd0atmjqKsx+qD8+wf7mssXp0aN4WuufVzXyMHFCWPycy6bYt0dN2oM5dNJprhRYxjfnWwFUpwwjIqLE8Q+ba+pxjjZFNdcGD5z+RQXJ4x9nLbn8bIpnhy1Lk669bY4UfhGLXwe6+64UWMUJ4zihNGyh+Fb6IsThvKjiOLEoDSXT3FxYlCuPilmMMbJ1lw+c+11yO64UWPsV6dYd8eTo7b91Fv3JuErkJoLI8UYwjjpmstnLt8GkrkwjAViW2+LE0aKMYRxEna1UHHLHoPQXBUIhTBOr6259vvOHDyn+BmSbIzT0MGT5po5eLJAihOD0VxDB3fH3z/Y11z7GTq49fb7B/uaqwLBEMZJ11y+F3PfetvTCcNYIEtWIJkLowLBEMZJ11w+c/nW27lR30PvqZkLY982xZkLowLBEMZJ11zCd6d7SLIwTrrm2rcuTro7rrkwfObyFUjmwtiPrkCKE4UwTsK3RVuB1FwYFQiGMU625koxRnHCSDGGT3GjxkgxRnHCmFP8Z1OcuTCMinsxhzCaK8UQyjjNfD8yc2H4FLdXY/jM5VPcqDFSjCGM02sbte8LKL5/MipOGMY42X4+WHNhKOMkU9yoMYRfCNXdcaPGMD6dbAXSXo1hjJNNcaPGaNnDKE4YPZ0wWvYwihPG5B3fIwcr4yQbtVHxLVOcuTBSjFGcMFKMsR+b4syFYVTcsgdhNFeKIZRxsv18UGcun+L2agzf6lOcMHyjTjGGL07/hsFqThj/bBkAAAAASUVORK5CYII=\" y=\"-7\"/>\r\n   <g id=\"matplotlib.axis_3\"/>\r\n   <g id=\"matplotlib.axis_4\">\r\n    <g id=\"ytick_7\">\r\n     <g id=\"line2d_13\">\r\n      <defs>\r\n       <path d=\"M 0 0 \r\nL 3.5 0 \r\n\" id=\"m5d8d3d3d87\" style=\"stroke:#000000;stroke-width:0.8;\"/>\r\n      </defs>\r\n      <g>\r\n       <use style=\"stroke:#000000;stroke-width:0.8;\" x=\"619.763937\" xlink:href=\"#m5d8d3d3d87\" y=\"534.791058\"/>\r\n      </g>\r\n     </g>\r\n     <g id=\"text_51\">\r\n      <!-- 10 -->\r\n      <g transform=\"translate(626.763937 538.590277)scale(0.1 -0.1)\">\r\n       <use xlink:href=\"#DejaVuSans-49\"/>\r\n       <use x=\"63.623047\" xlink:href=\"#DejaVuSans-48\"/>\r\n      </g>\r\n     </g>\r\n    </g>\r\n    <g id=\"ytick_8\">\r\n     <g id=\"line2d_14\">\r\n      <g>\r\n       <use style=\"stroke:#000000;stroke-width:0.8;\" x=\"619.763937\" xlink:href=\"#m5d8d3d3d87\" y=\"461.596054\"/>\r\n      </g>\r\n     </g>\r\n     <g id=\"text_52\">\r\n      <!-- 20 -->\r\n      <g transform=\"translate(626.763937 465.395272)scale(0.1 -0.1)\">\r\n       <use xlink:href=\"#DejaVuSans-50\"/>\r\n       <use x=\"63.623047\" xlink:href=\"#DejaVuSans-48\"/>\r\n      </g>\r\n     </g>\r\n    </g>\r\n    <g id=\"ytick_9\">\r\n     <g id=\"line2d_15\">\r\n      <g>\r\n       <use style=\"stroke:#000000;stroke-width:0.8;\" x=\"619.763937\" xlink:href=\"#m5d8d3d3d87\" y=\"388.401049\"/>\r\n      </g>\r\n     </g>\r\n     <g id=\"text_53\">\r\n      <!-- 30 -->\r\n      <g transform=\"translate(626.763937 392.200268)scale(0.1 -0.1)\">\r\n       <use xlink:href=\"#DejaVuSans-51\"/>\r\n       <use x=\"63.623047\" xlink:href=\"#DejaVuSans-48\"/>\r\n      </g>\r\n     </g>\r\n    </g>\r\n    <g id=\"ytick_10\">\r\n     <g id=\"line2d_16\">\r\n      <g>\r\n       <use style=\"stroke:#000000;stroke-width:0.8;\" x=\"619.763937\" xlink:href=\"#m5d8d3d3d87\" y=\"315.206045\"/>\r\n      </g>\r\n     </g>\r\n     <g id=\"text_54\">\r\n      <!-- 40 -->\r\n      <g transform=\"translate(626.763937 319.005264)scale(0.1 -0.1)\">\r\n       <use xlink:href=\"#DejaVuSans-52\"/>\r\n       <use x=\"63.623047\" xlink:href=\"#DejaVuSans-48\"/>\r\n      </g>\r\n     </g>\r\n    </g>\r\n    <g id=\"ytick_11\">\r\n     <g id=\"line2d_17\">\r\n      <g>\r\n       <use style=\"stroke:#000000;stroke-width:0.8;\" x=\"619.763937\" xlink:href=\"#m5d8d3d3d87\" y=\"242.011041\"/>\r\n      </g>\r\n     </g>\r\n     <g id=\"text_55\">\r\n      <!-- 50 -->\r\n      <g transform=\"translate(626.763937 245.81026)scale(0.1 -0.1)\">\r\n       <use xlink:href=\"#DejaVuSans-53\"/>\r\n       <use x=\"63.623047\" xlink:href=\"#DejaVuSans-48\"/>\r\n      </g>\r\n     </g>\r\n    </g>\r\n    <g id=\"ytick_12\">\r\n     <g id=\"line2d_18\">\r\n      <g>\r\n       <use style=\"stroke:#000000;stroke-width:0.8;\" x=\"619.763937\" xlink:href=\"#m5d8d3d3d87\" y=\"168.816037\"/>\r\n      </g>\r\n     </g>\r\n     <g id=\"text_56\">\r\n      <!-- 60 -->\r\n      <g transform=\"translate(626.763937 172.615256)scale(0.1 -0.1)\">\r\n       <use xlink:href=\"#DejaVuSans-54\"/>\r\n       <use x=\"63.623047\" xlink:href=\"#DejaVuSans-48\"/>\r\n      </g>\r\n     </g>\r\n    </g>\r\n    <g id=\"ytick_13\">\r\n     <g id=\"line2d_19\">\r\n      <g>\r\n       <use style=\"stroke:#000000;stroke-width:0.8;\" x=\"619.763937\" xlink:href=\"#m5d8d3d3d87\" y=\"95.621033\"/>\r\n      </g>\r\n     </g>\r\n     <g id=\"text_57\">\r\n      <!-- 70 -->\r\n      <g transform=\"translate(626.763937 99.420251)scale(0.1 -0.1)\">\r\n       <use xlink:href=\"#DejaVuSans-55\"/>\r\n       <use x=\"63.623047\" xlink:href=\"#DejaVuSans-48\"/>\r\n      </g>\r\n     </g>\r\n    </g>\r\n    <g id=\"ytick_14\">\r\n     <g id=\"line2d_20\">\r\n      <g>\r\n       <use style=\"stroke:#000000;stroke-width:0.8;\" x=\"619.763937\" xlink:href=\"#m5d8d3d3d87\" y=\"22.426028\"/>\r\n      </g>\r\n     </g>\r\n     <g id=\"text_58\">\r\n      <!-- 80 -->\r\n      <g transform=\"translate(626.763937 26.225247)scale(0.1 -0.1)\">\r\n       <use xlink:href=\"#DejaVuSans-56\"/>\r\n       <use x=\"63.623047\" xlink:href=\"#DejaVuSans-48\"/>\r\n      </g>\r\n     </g>\r\n    </g>\r\n   </g>\r\n   <g id=\"patch_8\">\r\n    <path d=\"M 589.865938 605.16 \r\nL 589.865938 602.824219 \r\nL 589.865938 9.535781 \r\nL 589.865938 7.2 \r\nL 619.763937 7.2 \r\nL 619.763937 9.535781 \r\nL 619.763937 602.824219 \r\nL 619.763937 605.16 \r\nz\r\n\" style=\"fill:none;stroke:#000000;stroke-linejoin:miter;stroke-width:0.8;\"/>\r\n   </g>\r\n  </g>\r\n </g>\r\n <defs>\r\n  <clipPath id=\"ped7739c3bd\">\r\n   <rect height=\"491.04\" width=\"491.04\" x=\"68.135938\" y=\"60.66\"/>\r\n  </clipPath>\r\n  <clipPath id=\"p14de453af1\">\r\n   <rect height=\"597.96\" width=\"29.898\" x=\"589.865938\" y=\"7.2\"/>\r\n  </clipPath>\r\n </defs>\r\n</svg>\r\n",
      "image/png": "[encoded data removed]"
     },
     "metadata": {
      "needs_background": "light"
     }
    }
   ],
   "source": [
    "# sns.set(font_scale=1.5)\n",
    "fig, ax = plt.subplots(1,1,figsize=(11,11))\n",
    "\n",
    "cat_dict = dict( enumerate(dataset['Feeling'].cat.categories ) )\n",
    "\n",
    "y_pred_cats = [cat_dict[i] for i in y_pred.cpu().numpy().tolist()]\n",
    "y_true_cats = [cat_dict[i] for i in y_true.cpu().numpy().tolist()]\n",
    "\n",
    "matriz_de_confusao = 100*confusion_matrix(y_pred_cats, y_true_cats, normalize='true', labels=list(cat_dict.values()))\n",
    "# normalize{‘true’, ‘pred’, ‘all’}, default=None\n",
    "# Normalizes confusion matrix over the true (rows), predicted (columns) conditions or all the population. If None, confusion matrix will not be normalized.\n",
    "\n",
    "#criando list com as emoções\n",
    "emotion_class = ['Angry','Disgust','Fear','Happy','Sad','Surprise']\n",
    "\n",
    "df_matriz_de_confusao = pd.DataFrame(matriz_de_confusao, emotion_class, emotion_class)\n",
    "\n",
    "cfm = ConfusionMatrixDisplay(matriz_de_confusao)\n",
    "\n",
    "cfm.plot(ax=ax, cmap='RdBu')\n",
    "\n",
    "ax.set_xticklabels(labels=list(cat_dict.values()))\n",
    "ax.set_yticklabels(labels=list(cat_dict.values()))\n",
    "\n",
    "ax.grid(False)"
   ]
  },
  {
   "cell_type": "code",
   "execution_count": 51,
   "metadata": {},
   "outputs": [
    {
     "output_type": "execute_result",
     "data": {
      "text/plain": [
       "0.9791588668413828"
      ]
     },
     "metadata": {},
     "execution_count": 51
    }
   ],
   "source": [
    "accs[-1]"
   ]
  },
  {
   "cell_type": "code",
   "execution_count": 52,
   "metadata": {},
   "outputs": [
    {
     "output_type": "stream",
     "name": "stdout",
     "text": [
      "79.19%\n"
     ]
    }
   ],
   "source": [
    "test_acc = calc_accuracy(Y_pred_tensor.cpu(), y_true.cpu())     # calcula a taxa de acerto atual\n",
    "print(f'{100*test_acc:.2f}%')"
   ]
  },
  {
   "cell_type": "code",
   "execution_count": null,
   "metadata": {},
   "outputs": [],
   "source": []
  },
  {
   "cell_type": "code",
   "execution_count": null,
   "metadata": {},
   "outputs": [],
   "source": []
  },
  {
   "cell_type": "code",
   "execution_count": null,
   "metadata": {},
   "outputs": [],
   "source": []
  },
  {
   "cell_type": "code",
   "execution_count": null,
   "metadata": {},
   "outputs": [],
   "source": []
  },
  {
   "cell_type": "code",
   "execution_count": null,
   "metadata": {},
   "outputs": [],
   "source": []
  },
  {
   "cell_type": "code",
   "execution_count": null,
   "metadata": {},
   "outputs": [],
   "source": []
  },
  {
   "cell_type": "code",
   "execution_count": null,
   "metadata": {},
   "outputs": [],
   "source": []
  },
  {
   "cell_type": "code",
   "execution_count": null,
   "metadata": {},
   "outputs": [],
   "source": []
  },
  {
   "cell_type": "code",
   "execution_count": null,
   "metadata": {},
   "outputs": [],
   "source": []
  },
  {
   "cell_type": "code",
   "execution_count": null,
   "metadata": {},
   "outputs": [],
   "source": []
  },
  {
   "cell_type": "code",
   "execution_count": null,
   "metadata": {},
   "outputs": [],
   "source": []
  },
  {
   "cell_type": "code",
   "execution_count": null,
   "metadata": {},
   "outputs": [],
   "source": []
  }
 ]
}