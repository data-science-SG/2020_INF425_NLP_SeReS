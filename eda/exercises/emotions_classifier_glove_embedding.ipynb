{
 "metadata": {
  "language_info": {
   "codemirror_mode": {
    "name": "ipython",
    "version": 3
   },
   "file_extension": ".py",
   "mimetype": "text/x-python",
   "name": "python",
   "nbconvert_exporter": "python",
   "pygments_lexer": "ipython3",
   "version": "3.7.9"
  },
  "orig_nbformat": 2,
  "kernelspec": {
   "name": "python379jvsc74a57bd087208729ed90ceac3456c3150dcf8f8574a040aaeff28d3df5566e1287b044ae",
   "display_name": "Python 3.7.9 64-bit ('machinelearning': conda)"
  }
 },
 "nbformat": 4,
 "nbformat_minor": 2,
 "cells": [
  {
   "cell_type": "code",
   "execution_count": 1,
   "metadata": {},
   "outputs": [],
   "source": [
    "# Import packages\n",
    "import os\n",
    "\n",
    "import pandas as pd\n",
    "import numpy as np\n",
    "\n",
    "import matplotlib.pyplot as plt\n",
    "import seaborn as sns\n",
    "\n",
    "import re\n",
    "import string\n",
    "\n",
    "import nltk\n",
    "from nltk.corpus import stopwords \n",
    "# from nltk.stem import PorterStemmer\n",
    "from nltk.tokenize import TweetTokenizer\n",
    "\n",
    "from gensim.models import KeyedVectors\n",
    "from gensim.test.utils import datapath, get_tmpfile\n",
    "from gensim.scripts.glove2word2vec import glove2word2vec\n",
    "\n",
    "import torch\n",
    "from torch import nn\n",
    "\n",
    "from sklearn.model_selection import train_test_split\n",
    "from sklearn.metrics import confusion_matrix, ConfusionMatrixDisplay\n"
   ]
  },
  {
   "cell_type": "code",
   "execution_count": 2,
   "metadata": {},
   "outputs": [
    {
     "output_type": "execute_result",
     "data": {
      "text/plain": [
       "True"
      ]
     },
     "metadata": {},
     "execution_count": 2
    }
   ],
   "source": [
    "CUDA_flag = torch.cuda.is_available() # a flag to check if CUDA is available for GPU use\n",
    "CUDA_flag"
   ]
  },
  {
   "cell_type": "code",
   "execution_count": 3,
   "metadata": {},
   "outputs": [
    {
     "output_type": "stream",
     "name": "stderr",
     "text": [
      "[nltk_data] Downloading package punkt to\n[nltk_data]     C:\\Users\\fonta\\AppData\\Roaming\\nltk_data...\n[nltk_data]   Package punkt is already up-to-date!\n[nltk_data] Downloading package stopwords to\n[nltk_data]     C:\\Users\\fonta\\AppData\\Roaming\\nltk_data...\n[nltk_data]   Package stopwords is already up-to-date!\n"
     ]
    }
   ],
   "source": [
    "# Setup some variables\n",
    "tknzr = TweetTokenizer()\n",
    "# stemmer = PorterStemmer()\n",
    "nltk.download('punkt')\n",
    "nltk.download('stopwords')\n",
    "stopwords = nltk.corpus.stopwords.words(\"english\")"
   ]
  },
  {
   "source": [
    "----------------------------------------------------------------------"
   ],
   "cell_type": "markdown",
   "metadata": {}
  },
  {
   "source": [
    "## Declaring some functions"
   ],
   "cell_type": "markdown",
   "metadata": {}
  },
  {
   "cell_type": "code",
   "execution_count": 4,
   "metadata": {},
   "outputs": [],
   "source": [
    "# função de limpar texto\n",
    "def cleanText(words, stem=False):\n",
    "  \"\"\"\n",
    "    Esta função recebe um text e retorna o mesmo, já tratado com stopwords & punctuation\n",
    "  \"\"\"\n",
    "  newWords = list()\n",
    "  for word in words:\n",
    "    word = re.sub('http[s]?://(?:[a-zA-Z]|[0-9]|[$-_@.&+#]|[!*\\(\\),]|'\\\n",
    "                       '(?:%[0-9a-fA-F][0-9a-fA-F]))+','', word)\n",
    "    word = re.sub(\"(@[A-Za-z0-9_]+)\",\"\", word)\n",
    "    word = word.lower()\n",
    "    if len(word) > 0 and word not in string.punctuation and word not in stopwords and word != \"<br />\":\n",
    "      if stem:\n",
    "        word = stemmer.stem(word)\n",
    "        newWords.append(word)\n",
    "      else:\n",
    "        newWords.append(word)\n",
    "  return newWords"
   ]
  },
  {
   "cell_type": "code",
   "execution_count": 5,
   "metadata": {},
   "outputs": [],
   "source": [
    "# confusion matrix daora\n",
    "def plot_conf_mat(y_test, y_preds, norm=\"false\"):\n",
    "    fig, ax = plt.subplots(figsize=(3, 3))\n",
    "    ax = sns.heatmap(confusion_matrix(y_test, y_preds, normalize=norm),\n",
    "                    annot=True,\n",
    "                    cbar=False)\n",
    "    plt.xlabel(\"True label\")\n",
    "    plt.ylabel(\"Predicted label\")"
   ]
  },
  {
   "cell_type": "code",
   "execution_count": 6,
   "metadata": {},
   "outputs": [],
   "source": [
    "def plot_loss_and_accuracy(losses, accs):\n",
    "\n",
    "  fig, ax_tuple = plt.subplots(1, 2, figsize=(16,6))\n",
    "  fig.suptitle('Loss and accuracy')\n",
    "\n",
    "  for i, (y_label, y_values) in enumerate(zip(['BCE loss','Accuracy'],[losses, accs])):\n",
    "    ax_tuple[i].plot(range(len(y_values)),  y_values, label='train')\n",
    "    ax_tuple[i].set_xlabel('epochs')\n",
    "    ax_tuple[i].set_ylabel(y_label)\n",
    "    ax_tuple[i].legend()"
   ]
  },
  {
   "cell_type": "code",
   "execution_count": 7,
   "metadata": {},
   "outputs": [],
   "source": [
    "def label2Embedding(word):\n",
    "  ''' Recebe uma string (word) e devolve o embedding vector correspondente (se existir).\n",
    "  '''\n",
    "  if word in modelo.vocab:\n",
    "    embed = modelo.get_vector(word)\n",
    "    if embed is not None:\n",
    "      return embed"
   ]
  },
  {
   "source": [
    "-------------------------------------------------------------------------------"
   ],
   "cell_type": "markdown",
   "metadata": {}
  },
  {
   "source": [
    "### Importando o arquivo do GloVE de 50 dimensões e criando a variável *modelo* que será por onde iremos interagir com o *word embedding* já treinado"
   ],
   "cell_type": "markdown",
   "metadata": {}
  },
  {
   "cell_type": "code",
   "execution_count": 8,
   "metadata": {},
   "outputs": [
    {
     "output_type": "execute_result",
     "data": {
      "text/plain": [
       "'d:\\\\Dropbox\\\\GitHub\\\\2020_INF425_NLP_SeReS\\\\eda\\\\exercises'"
      ]
     },
     "metadata": {},
     "execution_count": 8
    }
   ],
   "source": [
    "cwd = os.getcwd()\n",
    "cwd"
   ]
  },
  {
   "cell_type": "code",
   "execution_count": 9,
   "metadata": {},
   "outputs": [],
   "source": [
    "num_dims = 50\n",
    "glove_file = datapath(cwd+f'/../data/glove.6B.{num_dims}d.txt')\n",
    "tmp_file   = get_tmpfile(cwd+f\"/../data/glove.6B.{num_dims}d_word2vec.txt\")\n",
    "_          = glove2word2vec(glove_file, tmp_file)\n",
    "\n",
    "filename_txt = cwd+f\"/../data/glove.6B.{num_dims}d_word2vec.txt\"\n",
    "modelo = KeyedVectors.load_word2vec_format(filename_txt)"
   ]
  },
  {
   "source": [
    "### Lendo o dataset"
   ],
   "cell_type": "markdown",
   "metadata": {}
  },
  {
   "cell_type": "code",
   "execution_count": 10,
   "metadata": {},
   "outputs": [
    {
     "output_type": "execute_result",
     "data": {
      "text/plain": [
       "   Sl no                                             Tweets     Search key  \\\n",
       "0      1   #1: @fe ed \"RT @MirayaDizon1: Time is ticking...  happy moments   \n",
       "1      2   #2: @蓮花 &はすか ed \"RT @ninjaryugo: ＃コナモンの日 だそうで...  happy moments   \n",
       "2      3   #3: @Ris ♡ ed \"Happy birthday to one smokin h...  happy moments   \n",
       "3      4   #4: @월월 [씍쯴사랑로봇] jwinnie is the best, cheer u...  happy moments   \n",
       "4      5   #5: @Madhurima wth u vc♥ ed \"Good morning dea...  happy moments   \n",
       "\n",
       "  Feeling  \n",
       "0   happy  \n",
       "1   happy  \n",
       "2   happy  \n",
       "3   happy  \n",
       "4   happy  "
      ],
      "text/html": "<div>\n<style scoped>\n    .dataframe tbody tr th:only-of-type {\n        vertical-align: middle;\n    }\n\n    .dataframe tbody tr th {\n        vertical-align: top;\n    }\n\n    .dataframe thead th {\n        text-align: right;\n    }\n</style>\n<table border=\"1\" class=\"dataframe\">\n  <thead>\n    <tr style=\"text-align: right;\">\n      <th></th>\n      <th>Sl no</th>\n      <th>Tweets</th>\n      <th>Search key</th>\n      <th>Feeling</th>\n    </tr>\n  </thead>\n  <tbody>\n    <tr>\n      <th>0</th>\n      <td>1</td>\n      <td>#1: @fe ed \"RT @MirayaDizon1: Time is ticking...</td>\n      <td>happy moments</td>\n      <td>happy</td>\n    </tr>\n    <tr>\n      <th>1</th>\n      <td>2</td>\n      <td>#2: @蓮花 &amp;はすか ed \"RT @ninjaryugo: ＃コナモンの日 だそうで...</td>\n      <td>happy moments</td>\n      <td>happy</td>\n    </tr>\n    <tr>\n      <th>2</th>\n      <td>3</td>\n      <td>#3: @Ris ♡ ed \"Happy birthday to one smokin h...</td>\n      <td>happy moments</td>\n      <td>happy</td>\n    </tr>\n    <tr>\n      <th>3</th>\n      <td>4</td>\n      <td>#4: @월월 [씍쯴사랑로봇] jwinnie is the best, cheer u...</td>\n      <td>happy moments</td>\n      <td>happy</td>\n    </tr>\n    <tr>\n      <th>4</th>\n      <td>5</td>\n      <td>#5: @Madhurima wth u vc♥ ed \"Good morning dea...</td>\n      <td>happy moments</td>\n      <td>happy</td>\n    </tr>\n  </tbody>\n</table>\n</div>"
     },
     "metadata": {},
     "execution_count": 10
    }
   ],
   "source": [
    "df = pd.read_csv(\"../data/data.csv\", encoding = \"utf-8\")\n",
    "df.head()"
   ]
  },
  {
   "source": [
    "### Copiando o dataset e fazendo transformações necessárias"
   ],
   "cell_type": "markdown",
   "metadata": {}
  },
  {
   "cell_type": "code",
   "execution_count": 11,
   "metadata": {},
   "outputs": [
    {
     "output_type": "execute_result",
     "data": {
      "text/plain": [
       "                                              Tweets Feeling\n",
       "0   #1: @fe ed \"RT @MirayaDizon1: Time is ticking...   happy\n",
       "1   #2: @蓮花 &はすか ed \"RT @ninjaryugo: ＃コナモンの日 だそうで...   happy\n",
       "2   #3: @Ris ♡ ed \"Happy birthday to one smokin h...   happy\n",
       "3   #4: @월월 [씍쯴사랑로봇] jwinnie is the best, cheer u...   happy\n",
       "4   #5: @Madhurima wth u vc♥ ed \"Good morning dea...   happy"
      ],
      "text/html": "<div>\n<style scoped>\n    .dataframe tbody tr th:only-of-type {\n        vertical-align: middle;\n    }\n\n    .dataframe tbody tr th {\n        vertical-align: top;\n    }\n\n    .dataframe thead th {\n        text-align: right;\n    }\n</style>\n<table border=\"1\" class=\"dataframe\">\n  <thead>\n    <tr style=\"text-align: right;\">\n      <th></th>\n      <th>Tweets</th>\n      <th>Feeling</th>\n    </tr>\n  </thead>\n  <tbody>\n    <tr>\n      <th>0</th>\n      <td>#1: @fe ed \"RT @MirayaDizon1: Time is ticking...</td>\n      <td>happy</td>\n    </tr>\n    <tr>\n      <th>1</th>\n      <td>#2: @蓮花 &amp;はすか ed \"RT @ninjaryugo: ＃コナモンの日 だそうで...</td>\n      <td>happy</td>\n    </tr>\n    <tr>\n      <th>2</th>\n      <td>#3: @Ris ♡ ed \"Happy birthday to one smokin h...</td>\n      <td>happy</td>\n    </tr>\n    <tr>\n      <th>3</th>\n      <td>#4: @월월 [씍쯴사랑로봇] jwinnie is the best, cheer u...</td>\n      <td>happy</td>\n    </tr>\n    <tr>\n      <th>4</th>\n      <td>#5: @Madhurima wth u vc♥ ed \"Good morning dea...</td>\n      <td>happy</td>\n    </tr>\n  </tbody>\n</table>\n</div>"
     },
     "metadata": {},
     "execution_count": 11
    }
   ],
   "source": [
    "dataset = df.copy()\n",
    "\n",
    "dataset = dataset.drop(columns=[\"Sl no\", \"Search key\"])\n",
    "dataset.head()"
   ]
  },
  {
   "cell_type": "code",
   "execution_count": 12,
   "metadata": {},
   "outputs": [
    {
     "output_type": "execute_result",
     "data": {
      "text/plain": [
       "happy       39.213337\n",
       "sad         28.441649\n",
       "angry       13.387242\n",
       "fear         8.615354\n",
       "disgust      6.359189\n",
       "surprise     3.983229\n",
       "Name: Feeling, dtype: float64"
      ]
     },
     "metadata": {},
     "execution_count": 12
    }
   ],
   "source": [
    "dataset['Feeling'].value_counts(normalize=True)*100"
   ]
  },
  {
   "cell_type": "code",
   "execution_count": 13,
   "metadata": {},
   "outputs": [],
   "source": [
    "# CONCATENAR COM O OUTRO DATASET"
   ]
  },
  {
   "source": [
    "### Criando uma categoria com o *pd.Categorical* para cada emoção na tabela de emoções, dessa forma, teremos algo do tipo: happy - 1 | angry - 2 | sad = 3\n",
    "\n",
    "Aplicando essas categorias na coluna *emotion_code*"
   ],
   "cell_type": "markdown",
   "metadata": {}
  },
  {
   "cell_type": "code",
   "execution_count": 14,
   "metadata": {},
   "outputs": [
    {
     "output_type": "stream",
     "name": "stdout",
     "text": [
      "<class 'pandas.core.frame.DataFrame'>\nRangeIndex: 10017 entries, 0 to 10016\nData columns (total 2 columns):\n #   Column   Non-Null Count  Dtype \n---  ------   --------------  ----- \n 0   Tweets   10017 non-null  object\n 1   Feeling  10017 non-null  object\ndtypes: object(2)\nmemory usage: 156.6+ KB\n"
     ]
    }
   ],
   "source": [
    "dataset.info()"
   ]
  },
  {
   "cell_type": "code",
   "execution_count": 15,
   "metadata": {},
   "outputs": [
    {
     "output_type": "execute_result",
     "data": {
      "text/plain": [
       "                                              Tweets Feeling  emotion_code\n",
       "0   #1: @fe ed \"RT @MirayaDizon1: Time is ticking...   happy             3\n",
       "1   #2: @蓮花 &はすか ed \"RT @ninjaryugo: ＃コナモンの日 だそうで...   happy             3\n",
       "2   #3: @Ris ♡ ed \"Happy birthday to one smokin h...   happy             3\n",
       "3   #4: @월월 [씍쯴사랑로봇] jwinnie is the best, cheer u...   happy             3\n",
       "4   #5: @Madhurima wth u vc♥ ed \"Good morning dea...   happy             3"
      ],
      "text/html": "<div>\n<style scoped>\n    .dataframe tbody tr th:only-of-type {\n        vertical-align: middle;\n    }\n\n    .dataframe tbody tr th {\n        vertical-align: top;\n    }\n\n    .dataframe thead th {\n        text-align: right;\n    }\n</style>\n<table border=\"1\" class=\"dataframe\">\n  <thead>\n    <tr style=\"text-align: right;\">\n      <th></th>\n      <th>Tweets</th>\n      <th>Feeling</th>\n      <th>emotion_code</th>\n    </tr>\n  </thead>\n  <tbody>\n    <tr>\n      <th>0</th>\n      <td>#1: @fe ed \"RT @MirayaDizon1: Time is ticking...</td>\n      <td>happy</td>\n      <td>3</td>\n    </tr>\n    <tr>\n      <th>1</th>\n      <td>#2: @蓮花 &amp;はすか ed \"RT @ninjaryugo: ＃コナモンの日 だそうで...</td>\n      <td>happy</td>\n      <td>3</td>\n    </tr>\n    <tr>\n      <th>2</th>\n      <td>#3: @Ris ♡ ed \"Happy birthday to one smokin h...</td>\n      <td>happy</td>\n      <td>3</td>\n    </tr>\n    <tr>\n      <th>3</th>\n      <td>#4: @월월 [씍쯴사랑로봇] jwinnie is the best, cheer u...</td>\n      <td>happy</td>\n      <td>3</td>\n    </tr>\n    <tr>\n      <th>4</th>\n      <td>#5: @Madhurima wth u vc♥ ed \"Good morning dea...</td>\n      <td>happy</td>\n      <td>3</td>\n    </tr>\n  </tbody>\n</table>\n</div>"
     },
     "metadata": {},
     "execution_count": 15
    }
   ],
   "source": [
    "dataset['Feeling'] = pd.Categorical(dataset['Feeling'])\n",
    "dataset['emotion_code'] = dataset['Feeling'].cat.codes\n",
    "dataset.head()"
   ]
  },
  {
   "cell_type": "code",
   "execution_count": 16,
   "metadata": {},
   "outputs": [
    {
     "output_type": "stream",
     "name": "stdout",
     "text": [
      "<class 'pandas.core.frame.DataFrame'>\nRangeIndex: 10017 entries, 0 to 10016\nData columns (total 3 columns):\n #   Column        Non-Null Count  Dtype   \n---  ------        --------------  -----   \n 0   Tweets        10017 non-null  object  \n 1   Feeling       10017 non-null  category\n 2   emotion_code  10017 non-null  int8    \ndtypes: category(1), int8(1), object(1)\nmemory usage: 98.2+ KB\n"
     ]
    }
   ],
   "source": [
    "dataset.info()"
   ]
  },
  {
   "cell_type": "code",
   "execution_count": 17,
   "metadata": {},
   "outputs": [
    {
     "output_type": "execute_result",
     "data": {
      "text/plain": [
       "Feeling   emotion_code\n",
       "angry     0               1341\n",
       "disgust   1                637\n",
       "fear      2                863\n",
       "happy     3               3928\n",
       "sad       4               2849\n",
       "surprise  5                399\n",
       "dtype: int64"
      ]
     },
     "metadata": {},
     "execution_count": 17
    }
   ],
   "source": [
    "dataset[['Feeling','emotion_code']].value_counts().sort_index()\n"
   ]
  },
  {
   "cell_type": "code",
   "execution_count": 18,
   "metadata": {},
   "outputs": [
    {
     "output_type": "execute_result",
     "data": {
      "text/plain": [
       "str"
      ]
     },
     "metadata": {},
     "execution_count": 18
    }
   ],
   "source": [
    "type(dataset['Tweets'][0])"
   ]
  },
  {
   "source": [
    "### Tokenizando os tweets com o *tknzr.tokenize*, e logo após, limpando os tokens com a função *cleanText*"
   ],
   "cell_type": "markdown",
   "metadata": {}
  },
  {
   "cell_type": "code",
   "execution_count": 19,
   "metadata": {},
   "outputs": [
    {
     "output_type": "execute_result",
     "data": {
      "text/plain": [
       "                                              Tweets Feeling  emotion_code  \\\n",
       "0   #1: @fe ed \"RT @MirayaDizon1: Time is ticking...   happy             3   \n",
       "1   #2: @蓮花 &はすか ed \"RT @ninjaryugo: ＃コナモンの日 だそうで...   happy             3   \n",
       "2   #3: @Ris ♡ ed \"Happy birthday to one smokin h...   happy             3   \n",
       "3   #4: @월월 [씍쯴사랑로봇] jwinnie is the best, cheer u...   happy             3   \n",
       "4   #5: @Madhurima wth u vc♥ ed \"Good morning dea...   happy             3   \n",
       "\n",
       "                                           CleanText  \n",
       "0  [1, ed, rt, time, ticking, fast, relive, past,...  \n",
       "1  [2, @蓮花, はすか, ed, rt, ＃, コナモンの日, だそうで, 、, コナモン...  \n",
       "2  [3, ♡, ed, happy, birthday, one, smokin, hot, ...  \n",
       "3  [4, @월월, 씍쯴사랑로봇, jwinnie, best, cheer, jwinnie...  \n",
       "4  [5, wth, u, vc, ♥, ed, good, morning, dear, ❤,...  "
      ],
      "text/html": "<div>\n<style scoped>\n    .dataframe tbody tr th:only-of-type {\n        vertical-align: middle;\n    }\n\n    .dataframe tbody tr th {\n        vertical-align: top;\n    }\n\n    .dataframe thead th {\n        text-align: right;\n    }\n</style>\n<table border=\"1\" class=\"dataframe\">\n  <thead>\n    <tr style=\"text-align: right;\">\n      <th></th>\n      <th>Tweets</th>\n      <th>Feeling</th>\n      <th>emotion_code</th>\n      <th>CleanText</th>\n    </tr>\n  </thead>\n  <tbody>\n    <tr>\n      <th>0</th>\n      <td>#1: @fe ed \"RT @MirayaDizon1: Time is ticking...</td>\n      <td>happy</td>\n      <td>3</td>\n      <td>[1, ed, rt, time, ticking, fast, relive, past,...</td>\n    </tr>\n    <tr>\n      <th>1</th>\n      <td>#2: @蓮花 &amp;はすか ed \"RT @ninjaryugo: ＃コナモンの日 だそうで...</td>\n      <td>happy</td>\n      <td>3</td>\n      <td>[2, @蓮花, はすか, ed, rt, ＃, コナモンの日, だそうで, 、, コナモン...</td>\n    </tr>\n    <tr>\n      <th>2</th>\n      <td>#3: @Ris ♡ ed \"Happy birthday to one smokin h...</td>\n      <td>happy</td>\n      <td>3</td>\n      <td>[3, ♡, ed, happy, birthday, one, smokin, hot, ...</td>\n    </tr>\n    <tr>\n      <th>3</th>\n      <td>#4: @월월 [씍쯴사랑로봇] jwinnie is the best, cheer u...</td>\n      <td>happy</td>\n      <td>3</td>\n      <td>[4, @월월, 씍쯴사랑로봇, jwinnie, best, cheer, jwinnie...</td>\n    </tr>\n    <tr>\n      <th>4</th>\n      <td>#5: @Madhurima wth u vc♥ ed \"Good morning dea...</td>\n      <td>happy</td>\n      <td>3</td>\n      <td>[5, wth, u, vc, ♥, ed, good, morning, dear, ❤,...</td>\n    </tr>\n  </tbody>\n</table>\n</div>"
     },
     "metadata": {},
     "execution_count": 19
    }
   ],
   "source": [
    "dataset[\"CleanText\"] = [tknzr.tokenize(sentence) for sentence in dataset[\"Tweets\"]]\n",
    "dataset[\"CleanText\"] = [cleanText(sentence) for sentence in dataset[\"CleanText\"]]\n",
    "dataset.head()"
   ]
  },
  {
   "cell_type": "code",
   "execution_count": 20,
   "metadata": {},
   "outputs": [],
   "source": [
    "# dataset['CleanText'][50]"
   ]
  },
  {
   "source": [
    "### Conversão dos textos em uma sequência de índices (correspondente ao token do texto)\n",
    "\n",
    "Limitar o tamanho máximo de um texto com ***max_len*** (truncar mensagem) e completar com <PAD> todos os textos que não cumprirem esse tamanho, para então termos variáveis do mesmo tamanho"
   ],
   "cell_type": "markdown",
   "metadata": {}
  },
  {
   "cell_type": "code",
   "execution_count": 21,
   "metadata": {
    "tags": []
   },
   "outputs": [],
   "source": [
    "max_len = 150        # comprimento máximo da mensagem (em número de palavras)\n",
    "encoded_docs = []    # inicializa a lista de documentos codificados\n",
    "\n",
    "for sentence in dataset['CleanText']: # para cada token\n",
    "  encoded_d = [label2Embedding(t) for t in sentence]\n",
    "  encoded_d = [vec.tolist() for vec in encoded_d if vec is not None]\n",
    "\n",
    "  # adiciona o padding, se necessário\n",
    "  padding_word_vecs = [np.zeros(num_dims).tolist()]*max(0, max_len-len(encoded_d)) \n",
    "  encoded_d = padding_word_vecs + encoded_d\n",
    "  \n",
    "  # trunca o documento e salva na lista de documentos codificados\n",
    "  encoded_docs.append(encoded_d[:max_len]) \n",
    "\n",
    "\n",
    "encoded_docs_arrays = [np.vstack(sentence) for sentence in encoded_docs]"
   ]
  },
  {
   "cell_type": "code",
   "execution_count": 22,
   "metadata": {},
   "outputs": [
    {
     "output_type": "execute_result",
     "data": {
      "text/plain": [
       "(list, numpy.ndarray, (150, 50))"
      ]
     },
     "metadata": {},
     "execution_count": 22
    }
   ],
   "source": [
    "type(encoded_docs_arrays), type(encoded_docs_arrays[0]), encoded_docs_arrays[0].shape"
   ]
  },
  {
   "source": [
    "### Agora os textos são os documentos codificados"
   ],
   "cell_type": "markdown",
   "metadata": {}
  },
  {
   "cell_type": "code",
   "execution_count": 23,
   "metadata": {},
   "outputs": [
    {
     "output_type": "execute_result",
     "data": {
      "text/plain": [
       "10012    [[0.0, 0.0, 0.0, 0.0, 0.0, 0.0, 0.0, 0.0, 0.0,...\n",
       "10013    [[0.0, 0.0, 0.0, 0.0, 0.0, 0.0, 0.0, 0.0, 0.0,...\n",
       "10014    [[0.0, 0.0, 0.0, 0.0, 0.0, 0.0, 0.0, 0.0, 0.0,...\n",
       "10015    [[0.0, 0.0, 0.0, 0.0, 0.0, 0.0, 0.0, 0.0, 0.0,...\n",
       "10016    [[0.0, 0.0, 0.0, 0.0, 0.0, 0.0, 0.0, 0.0, 0.0,...\n",
       "Name: X, dtype: object"
      ]
     },
     "metadata": {},
     "execution_count": 23
    }
   ],
   "source": [
    "dataset['X'] = pd.Series(encoded_docs_arrays)\n",
    "dataset['X'].tail() #.iloc[-1].shape"
   ]
  },
  {
   "source": [
    "### Verificando um exemplo de uma frase codificada"
   ],
   "cell_type": "markdown",
   "metadata": {}
  },
  {
   "cell_type": "code",
   "execution_count": 24,
   "metadata": {},
   "outputs": [
    {
     "output_type": "execute_result",
     "data": {
      "text/plain": [
       "((150, 50), dtype('float64'))"
      ]
     },
     "metadata": {},
     "execution_count": 24
    }
   ],
   "source": [
    "dataset['X'][0].shape, dataset['X'][0].dtype"
   ]
  },
  {
   "cell_type": "code",
   "execution_count": 25,
   "metadata": {
    "tags": []
   },
   "outputs": [
    {
     "output_type": "stream",
     "name": "stdout",
     "text": [
      " Mensagem codificada [[ 0.          0.          0.         ...  0.          0.\n   0.        ]\n [ 0.          0.          0.         ...  0.          0.\n   0.        ]\n [ 0.          0.          0.         ...  0.          0.\n   0.        ]\n ...\n [ 0.359       0.72350001  0.15195    ... -0.53805    -1.07599998\n   0.24003001]\n [ 0.067025   -0.010427    0.61778003 ... -0.42741001 -0.19243\n   0.42443001]\n [-0.29115999  1.17639995 -0.20423999 ... -0.58471     0.64288998\n   0.15782   ]] \n Comprimento: 150 Dimensões: 50\n"
     ]
    }
   ],
   "source": [
    "msg_codificada_ex = dataset['X'].iloc[7]\n",
    "print(f' Mensagem codificada {msg_codificada_ex} \\n Comprimento: {msg_codificada_ex.shape[0]} Dimensões: {msg_codificada_ex.shape[1]}')"
   ]
  },
  {
   "source": [
    "### Agora, usaremos apenas as mensagens codificadas (vetores de variáveis categóricas, coluna do DataFrame 'X') e as saídas rotuladas em  das emoções  (coluna 'y' do DataFrame). Também vamos converter os objetos para arrays do numpy."
   ],
   "cell_type": "markdown",
   "metadata": {}
  },
  {
   "cell_type": "code",
   "execution_count": 26,
   "metadata": {},
   "outputs": [
    {
     "output_type": "execute_result",
     "data": {
      "text/plain": [
       "((10017, 150, 50), (150, 50), (10017, 1), (1,))"
      ]
     },
     "metadata": {},
     "execution_count": 26
    }
   ],
   "source": [
    "X = np.dstack(dataset['X'].values).transpose(2,0,1)\n",
    "Y = dataset['emotion_code'].values.reshape(-1,1)\n",
    "X.shape, X[0].shape, Y.shape, Y[0].shape"
   ]
  },
  {
   "source": [
    "### Separando com train_test_split"
   ],
   "cell_type": "markdown",
   "metadata": {}
  },
  {
   "cell_type": "code",
   "execution_count": 27,
   "metadata": {},
   "outputs": [
    {
     "output_type": "execute_result",
     "data": {
      "text/plain": [
       "((8013, 150, 50), (2004, 150, 50))"
      ]
     },
     "metadata": {},
     "execution_count": 27
    }
   ],
   "source": [
    "train_size = 0.8    # percentual de exemplos para o treino\n",
    "\n",
    "X_train, X_test, Y_train, Y_test = train_test_split(X,Y,                       # dataset para ser dividido, entrada X e saída Y\n",
    "                                                    train_size=train_size,     # percentual resevado para o treinamento\n",
    "                                                    stratify=Y,                # estratificação para manter a distribuição dos rótulos igual entre treino e teste\n",
    "                                                    shuffle=True)              # embaralhar os exemplos aleatoriamente\n",
    "\n",
    "X_train.shape, X_test.shape"
   ]
  },
  {
   "source": [
    "### Criando o modelo classificador"
   ],
   "cell_type": "markdown",
   "metadata": {}
  },
  {
   "cell_type": "code",
   "execution_count": 28,
   "metadata": {},
   "outputs": [],
   "source": [
    "\n",
    "class Torch_Mean_Layer(nn.Module):\n",
    "  '''Camada personalizada: calcula a média do tensor dentrada sobre a dimensão 1 (colunas).\n",
    "     Retorna um vetor linha, onde cada elemento é a média dos elementos da coluna correspondente do tensor de entrada.\n",
    "  '''\n",
    "  def forward(self, x, dim=1):\n",
    "    # print(\"-----------------------\",x)\n",
    "    x = torch.mean(x, dim=dim, keepdims=True)\n",
    "    return x\n",
    "\n",
    "class moodClassifier(nn.Module):\n",
    "  '''Modelo classificador de emoções\n",
    "  '''\n",
    "\n",
    "  # ----------------------------------------------#\n",
    "  # Método construtor\n",
    "  def __init__(self, dim_embed, n_units): \n",
    "    super().__init__()  \n",
    "\n",
    "    embedding_seq = [] # \n",
    "    ann_seq       = [] # \n",
    "    soft_seq      = []\n",
    "\n",
    "    #---------------------------------------------------------------#\n",
    "    # Embedding step: sequência de operações para converter X --> h\n",
    "    embedding_seq.append(Torch_Mean_Layer())\n",
    "    #---------------------------------------------------------------#\n",
    "\n",
    "    #--------------------------------------------------------------------------#\n",
    "    # ANN: Rede Neural Artifical Tradicional, com regressão logística na saída\n",
    "    ann_seq.append(nn.Linear(dim_embed, n_units))\n",
    "    ann_seq.append(nn.ReLU(inplace=True))\n",
    "    ann_seq.append(nn.Linear(n_units, 6))\n",
    "    \n",
    "    #--------------------------------------------------------------------------#\n",
    "    # Softmax :)\n",
    "    soft_seq.append(nn.LogSoftmax(dim=1))\n",
    "\n",
    "    #--------------------------------------------------------------------------#\n",
    "\n",
    "    #--------------------------------------------------------------------------#\n",
    "    # \"merge\" de todas as camamadas em uma layer sequencial \n",
    "    # (uma sequência para cada etapa)\n",
    "    self.embedding = nn.Sequential(*embedding_seq)     # etapa de embedding \n",
    "    self.ann       = nn.Sequential(*ann_seq)           # etapa ANN\n",
    "    self.soft      = nn.Sequential(*soft_seq)\n",
    "    #--------------------------------------------------------------------------#\n",
    "\n",
    "\n",
    "  def forward(self, x): \n",
    "    '''Processamento realizado ao chamar y=modelo(x)\n",
    "    '''\n",
    "    x = self.embedding(x)  # aplica a etapa de embedding\n",
    "    x = self.ann(x)        # passa o embedding médio pelas camadas da ANN\n",
    "    x = x.view(-1,6)\n",
    "    x = self.soft(x)\n",
    "    return x  "
   ]
  },
  {
   "source": [
    "### Função que irá treinar "
   ],
   "cell_type": "markdown",
   "metadata": {}
  },
  {
   "cell_type": "code",
   "execution_count": 29,
   "metadata": {},
   "outputs": [],
   "source": [
    "def train_loop(model, data, max_epochs = 1000, print_iters = 5):\n",
    "  X_train, Y_train = data # desempacotamento de tupla\n",
    "\n",
    "  if CUDA_flag: # usar GPU?\n",
    "      X_train = X_train.cuda()\n",
    "      Y_train = Y_train.cuda()\n",
    "\n",
    "  losses = []\n",
    "  accs = []\n",
    "  for i in range(max_epochs): # para cada época\n",
    "\n",
    "      #-----------------------------------#\n",
    "      # INÍCIO DO WORKFLOW DO TREINAMENTO #\n",
    "      # \n",
    "      Y_pred = model.forward(X_train)         # apresente os dados de entrada para o modelo, e obtenha a previsão    \n",
    "      loss = criterion(Y_pred.view(-1, 6), Y_train.view(-1))       # calcule a perda (o custo, o erro)\n",
    "      optimizer.zero_grad()                   # inicialize os gradientes\n",
    "      loss.backward()                         # backpropagation sobre a perda atual (cálculo dos novos gradientes) \n",
    "      optimizer.step()                        # atualização dos parâmetros da rede utilizando a regra do otimizador escolhido\n",
    "      # FIM DO WORKFLOW DO TREINAMENTO    #\n",
    "      #-----------------------------------#\n",
    "\n",
    "      # ------ Bloco Opcional ------ #\n",
    "      # Salvando métricas\n",
    "      losses.append(loss)                     # salvando a perda atual\n",
    "      acc = calc_accuracy(Y_pred, Y_train)     # calcula a taxa de acerto atual\n",
    "      accs.append(acc)\n",
    "\n",
    "\n",
    "      # INSERIR UM ACOMPANHAMENTO DA ACC DO TESTE\n",
    "      \n",
    "      # Imprimindo resultados parciais\n",
    "      if i % print_iters ==0: # a cada 10 iterações\n",
    "        print(f'epoch: {i:2}  loss: {loss.item():10.8f}') \n",
    "      #-----------------------------------#\n",
    "\n",
    "  #----------------------------------------------------------------------------# \n",
    "  print('\\n# Finished training!')\n",
    "  print(f'# --> epoch: {i}  \\n# --> initial loss: {losses[0]:10.8f} ,  \\n# --> accuracy: {acc:2.8f} , \\n# --> final loss: {losses[-1]:10.8f}')\n",
    "  \n",
    "  # retornando resultados\n",
    "  return model, losses, accs\n",
    "\n",
    "# Redefinindo cálculo da taxa de acerto \n",
    "def calc_accuracy(y_pred, y_true):\n",
    "  ''' Helper function para calcular a taxa de acerto deste exemplo.\n",
    "  '''\n",
    "  y_pred = torch.argmax(y_pred, dim=1)\n",
    "  y_pred = y_pred.float()\n",
    "  y_true = torch.squeeze(y_true) # tentar rexplicar dps\n",
    "  y_pred = torch.squeeze(y_pred)\n",
    "  num_hits  = torch.sum(y_pred==y_true).cpu().numpy()\n",
    "  num_total =  float(y_true.numel())\n",
    "  acc=  num_hits/num_total\n",
    "  return acc"
   ]
  },
  {
   "source": [
    "### Treinando com o modelo\n",
    "\n",
    "Convertendo os dados para tensores, instanciar o modelo, definir a função custo e o otimizador"
   ],
   "cell_type": "markdown",
   "metadata": {}
  },
  {
   "cell_type": "code",
   "execution_count": 30,
   "metadata": {
    "tags": [
     "outputPrepend"
    ]
   },
   "outputs": [
    {
     "output_type": "stream",
     "name": "stdout",
     "text": [
      "500\n",
      "epoch: 4338  loss: 0.25861135\n",
      "epoch: 4339  loss: 0.25851259\n",
      "epoch: 4340  loss: 0.25841936\n",
      "epoch: 4341  loss: 0.25832993\n",
      "epoch: 4342  loss: 0.25824293\n",
      "epoch: 4343  loss: 0.25815791\n",
      "epoch: 4344  loss: 0.25807190\n",
      "epoch: 4345  loss: 0.25798401\n",
      "epoch: 4346  loss: 0.25789163\n",
      "epoch: 4347  loss: 0.25779617\n",
      "epoch: 4348  loss: 0.25769767\n",
      "epoch: 4349  loss: 0.25759804\n",
      "epoch: 4350  loss: 0.25750291\n",
      "epoch: 4351  loss: 0.25740686\n",
      "epoch: 4352  loss: 0.25731453\n",
      "epoch: 4353  loss: 0.25722370\n",
      "epoch: 4354  loss: 0.25713459\n",
      "epoch: 4355  loss: 0.25704837\n",
      "epoch: 4356  loss: 0.25696462\n",
      "epoch: 4357  loss: 0.25688246\n",
      "epoch: 4358  loss: 0.25680262\n",
      "epoch: 4359  loss: 0.25671965\n",
      "epoch: 4360  loss: 0.25662744\n",
      "epoch: 4361  loss: 0.25653055\n",
      "epoch: 4362  loss: 0.25642791\n",
      "epoch: 4363  loss: 0.25632480\n",
      "epoch: 4364  loss: 0.25622571\n",
      "epoch: 4365  loss: 0.25612980\n",
      "epoch: 4366  loss: 0.25604042\n",
      "epoch: 4367  loss: 0.25595173\n",
      "epoch: 4368  loss: 0.25586656\n",
      "epoch: 4369  loss: 0.25578338\n",
      "epoch: 4370  loss: 0.25570172\n",
      "epoch: 4371  loss: 0.25561959\n",
      "epoch: 4372  loss: 0.25553656\n",
      "epoch: 4373  loss: 0.25545007\n",
      "epoch: 4374  loss: 0.25535721\n",
      "epoch: 4375  loss: 0.25525749\n",
      "epoch: 4376  loss: 0.25515512\n",
      "epoch: 4377  loss: 0.25505430\n",
      "epoch: 4378  loss: 0.25495869\n",
      "epoch: 4379  loss: 0.25486562\n",
      "epoch: 4380  loss: 0.25477615\n",
      "epoch: 4381  loss: 0.25468901\n",
      "epoch: 4382  loss: 0.25460455\n",
      "epoch: 4383  loss: 0.25452268\n",
      "epoch: 4384  loss: 0.25444257\n",
      "epoch: 4385  loss: 0.25436416\n",
      "epoch: 4386  loss: 0.25428274\n",
      "epoch: 4387  loss: 0.25419724\n",
      "epoch: 4388  loss: 0.25410172\n",
      "epoch: 4389  loss: 0.25400129\n",
      "epoch: 4390  loss: 0.25389907\n",
      "epoch: 4391  loss: 0.25380033\n",
      "epoch: 4392  loss: 0.25370237\n",
      "epoch: 4393  loss: 0.25361058\n",
      "epoch: 4394  loss: 0.25352329\n",
      "epoch: 4395  loss: 0.25343531\n",
      "epoch: 4396  loss: 0.25335243\n",
      "epoch: 4397  loss: 0.25327197\n",
      "epoch: 4398  loss: 0.25319177\n",
      "epoch: 4399  loss: 0.25310650\n",
      "epoch: 4400  loss: 0.25301722\n",
      "epoch: 4401  loss: 0.25292361\n",
      "epoch: 4402  loss: 0.25282899\n",
      "epoch: 4403  loss: 0.25273553\n",
      "epoch: 4404  loss: 0.25264806\n",
      "epoch: 4405  loss: 0.25256240\n",
      "epoch: 4406  loss: 0.25247467\n",
      "epoch: 4407  loss: 0.25238520\n",
      "epoch: 4408  loss: 0.25229126\n",
      "epoch: 4409  loss: 0.25219557\n",
      "epoch: 4410  loss: 0.25210083\n",
      "epoch: 4411  loss: 0.25200975\n",
      "epoch: 4412  loss: 0.25192091\n",
      "epoch: 4413  loss: 0.25183436\n",
      "epoch: 4414  loss: 0.25175351\n",
      "epoch: 4415  loss: 0.25167584\n",
      "epoch: 4416  loss: 0.25160280\n",
      "epoch: 4417  loss: 0.25152394\n",
      "epoch: 4418  loss: 0.25144050\n",
      "epoch: 4419  loss: 0.25134864\n",
      "epoch: 4420  loss: 0.25124905\n",
      "epoch: 4421  loss: 0.25114822\n",
      "epoch: 4422  loss: 0.25104994\n",
      "epoch: 4423  loss: 0.25095522\n",
      "epoch: 4424  loss: 0.25086391\n",
      "epoch: 4425  loss: 0.25077748\n",
      "epoch: 4426  loss: 0.25069204\n",
      "epoch: 4427  loss: 0.25060841\n",
      "epoch: 4428  loss: 0.25052476\n",
      "epoch: 4429  loss: 0.25044134\n",
      "epoch: 4430  loss: 0.25035390\n",
      "epoch: 4431  loss: 0.25026223\n",
      "epoch: 4432  loss: 0.25017112\n",
      "epoch: 4433  loss: 0.25007787\n",
      "epoch: 4434  loss: 0.24998651\n",
      "epoch: 4435  loss: 0.24989477\n",
      "epoch: 4436  loss: 0.24980390\n",
      "epoch: 4437  loss: 0.24971490\n",
      "epoch: 4438  loss: 0.24962732\n",
      "epoch: 4439  loss: 0.24954046\n",
      "epoch: 4440  loss: 0.24945417\n",
      "epoch: 4441  loss: 0.24936648\n",
      "epoch: 4442  loss: 0.24928220\n",
      "epoch: 4443  loss: 0.24919778\n",
      "epoch: 4444  loss: 0.24911341\n",
      "epoch: 4445  loss: 0.24903102\n",
      "epoch: 4446  loss: 0.24894455\n",
      "epoch: 4447  loss: 0.24885909\n",
      "epoch: 4448  loss: 0.24877171\n",
      "epoch: 4449  loss: 0.24867997\n",
      "epoch: 4450  loss: 0.24858470\n",
      "epoch: 4451  loss: 0.24848959\n",
      "epoch: 4452  loss: 0.24839577\n",
      "epoch: 4453  loss: 0.24830531\n",
      "epoch: 4454  loss: 0.24821545\n",
      "epoch: 4455  loss: 0.24812795\n",
      "epoch: 4456  loss: 0.24804020\n",
      "epoch: 4457  loss: 0.24795511\n",
      "epoch: 4458  loss: 0.24787165\n",
      "epoch: 4459  loss: 0.24778856\n",
      "epoch: 4460  loss: 0.24770755\n",
      "epoch: 4461  loss: 0.24763100\n",
      "epoch: 4462  loss: 0.24755299\n",
      "epoch: 4463  loss: 0.24746849\n",
      "epoch: 4464  loss: 0.24738020\n",
      "epoch: 4465  loss: 0.24728501\n",
      "epoch: 4466  loss: 0.24718444\n",
      "epoch: 4467  loss: 0.24708623\n",
      "epoch: 4468  loss: 0.24699247\n",
      "epoch: 4469  loss: 0.24690497\n",
      "epoch: 4470  loss: 0.24682105\n",
      "epoch: 4471  loss: 0.24674158\n",
      "epoch: 4472  loss: 0.24666560\n",
      "epoch: 4473  loss: 0.24658696\n",
      "epoch: 4474  loss: 0.24650499\n",
      "epoch: 4475  loss: 0.24641922\n",
      "epoch: 4476  loss: 0.24632704\n",
      "epoch: 4477  loss: 0.24623363\n",
      "epoch: 4478  loss: 0.24614178\n",
      "epoch: 4479  loss: 0.24605121\n",
      "epoch: 4480  loss: 0.24596278\n",
      "epoch: 4481  loss: 0.24587479\n",
      "epoch: 4482  loss: 0.24578635\n",
      "epoch: 4483  loss: 0.24569999\n",
      "epoch: 4484  loss: 0.24561374\n",
      "epoch: 4485  loss: 0.24552765\n",
      "epoch: 4486  loss: 0.24544443\n",
      "epoch: 4487  loss: 0.24536134\n",
      "epoch: 4488  loss: 0.24528077\n",
      "epoch: 4489  loss: 0.24520390\n",
      "epoch: 4490  loss: 0.24512517\n",
      "epoch: 4491  loss: 0.24504018\n",
      "epoch: 4492  loss: 0.24495037\n",
      "epoch: 4493  loss: 0.24485722\n",
      "epoch: 4494  loss: 0.24476200\n",
      "epoch: 4495  loss: 0.24466951\n",
      "epoch: 4496  loss: 0.24457745\n",
      "epoch: 4497  loss: 0.24448696\n",
      "epoch: 4498  loss: 0.24439900\n",
      "epoch: 4499  loss: 0.24431233\n",
      "epoch: 4500  loss: 0.24422780\n",
      "epoch: 4501  loss: 0.24414267\n",
      "epoch: 4502  loss: 0.24406128\n",
      "epoch: 4503  loss: 0.24398401\n",
      "epoch: 4504  loss: 0.24390943\n",
      "epoch: 4505  loss: 0.24383567\n",
      "epoch: 4506  loss: 0.24375790\n",
      "epoch: 4507  loss: 0.24367410\n",
      "epoch: 4508  loss: 0.24357806\n",
      "epoch: 4509  loss: 0.24348003\n",
      "epoch: 4510  loss: 0.24338421\n",
      "epoch: 4511  loss: 0.24329200\n",
      "epoch: 4512  loss: 0.24320163\n",
      "epoch: 4513  loss: 0.24311452\n",
      "epoch: 4514  loss: 0.24303092\n",
      "epoch: 4515  loss: 0.24295059\n",
      "epoch: 4516  loss: 0.24287248\n",
      "epoch: 4517  loss: 0.24279501\n",
      "epoch: 4518  loss: 0.24271755\n",
      "epoch: 4519  loss: 0.24263534\n",
      "epoch: 4520  loss: 0.24255171\n",
      "epoch: 4521  loss: 0.24246301\n",
      "epoch: 4522  loss: 0.24237067\n",
      "epoch: 4523  loss: 0.24227987\n",
      "epoch: 4524  loss: 0.24218830\n",
      "epoch: 4525  loss: 0.24210005\n",
      "epoch: 4526  loss: 0.24201435\n",
      "epoch: 4527  loss: 0.24193130\n",
      "epoch: 4528  loss: 0.24184871\n",
      "epoch: 4529  loss: 0.24176668\n",
      "epoch: 4530  loss: 0.24168202\n",
      "epoch: 4531  loss: 0.24159561\n",
      "epoch: 4532  loss: 0.24150845\n",
      "epoch: 4533  loss: 0.24141976\n",
      "epoch: 4534  loss: 0.24133147\n",
      "epoch: 4535  loss: 0.24124451\n",
      "epoch: 4536  loss: 0.24115874\n",
      "epoch: 4537  loss: 0.24107359\n",
      "epoch: 4538  loss: 0.24098952\n",
      "epoch: 4539  loss: 0.24090670\n",
      "epoch: 4540  loss: 0.24082583\n",
      "epoch: 4541  loss: 0.24074990\n",
      "epoch: 4542  loss: 0.24067926\n",
      "epoch: 4543  loss: 0.24061148\n",
      "epoch: 4544  loss: 0.24054325\n",
      "epoch: 4545  loss: 0.24046420\n",
      "epoch: 4546  loss: 0.24037074\n",
      "epoch: 4547  loss: 0.24026698\n",
      "epoch: 4548  loss: 0.24016029\n",
      "epoch: 4549  loss: 0.24006271\n",
      "epoch: 4550  loss: 0.23997657\n",
      "epoch: 4551  loss: 0.23989806\n",
      "epoch: 4552  loss: 0.23982523\n",
      "epoch: 4553  loss: 0.23975506\n",
      "epoch: 4554  loss: 0.23968129\n",
      "epoch: 4555  loss: 0.23959915\n",
      "epoch: 4556  loss: 0.23950747\n",
      "epoch: 4557  loss: 0.23941077\n",
      "epoch: 4558  loss: 0.23931400\n",
      "epoch: 4559  loss: 0.23922409\n",
      "epoch: 4560  loss: 0.23914066\n",
      "epoch: 4561  loss: 0.23906045\n",
      "epoch: 4562  loss: 0.23898496\n",
      "epoch: 4563  loss: 0.23890920\n",
      "epoch: 4564  loss: 0.23883177\n",
      "epoch: 4565  loss: 0.23874882\n",
      "epoch: 4566  loss: 0.23866011\n",
      "epoch: 4567  loss: 0.23856908\n",
      "epoch: 4568  loss: 0.23847871\n",
      "epoch: 4569  loss: 0.23839371\n",
      "epoch: 4570  loss: 0.23831211\n",
      "epoch: 4571  loss: 0.23823319\n",
      "epoch: 4572  loss: 0.23815340\n",
      "epoch: 4573  loss: 0.23807311\n",
      "epoch: 4574  loss: 0.23798980\n",
      "epoch: 4575  loss: 0.23790409\n",
      "epoch: 4576  loss: 0.23781730\n",
      "epoch: 4577  loss: 0.23773113\n",
      "epoch: 4578  loss: 0.23764230\n",
      "epoch: 4579  loss: 0.23755452\n",
      "epoch: 4580  loss: 0.23747040\n",
      "epoch: 4581  loss: 0.23738682\n",
      "epoch: 4582  loss: 0.23730622\n",
      "epoch: 4583  loss: 0.23722981\n",
      "epoch: 4584  loss: 0.23715471\n",
      "epoch: 4585  loss: 0.23708580\n",
      "epoch: 4586  loss: 0.23701644\n",
      "epoch: 4587  loss: 0.23694123\n",
      "epoch: 4588  loss: 0.23686031\n",
      "epoch: 4589  loss: 0.23677425\n",
      "epoch: 4590  loss: 0.23668963\n",
      "epoch: 4591  loss: 0.23660606\n",
      "epoch: 4592  loss: 0.23652306\n",
      "epoch: 4593  loss: 0.23643640\n",
      "epoch: 4594  loss: 0.23634334\n",
      "epoch: 4595  loss: 0.23624742\n",
      "epoch: 4596  loss: 0.23615603\n",
      "epoch: 4597  loss: 0.23607345\n",
      "epoch: 4598  loss: 0.23599780\n",
      "epoch: 4599  loss: 0.23592819\n",
      "epoch: 4600  loss: 0.23585938\n",
      "epoch: 4601  loss: 0.23578671\n",
      "epoch: 4602  loss: 0.23570195\n",
      "epoch: 4603  loss: 0.23560910\n",
      "epoch: 4604  loss: 0.23551296\n",
      "epoch: 4605  loss: 0.23542261\n",
      "epoch: 4606  loss: 0.23533775\n",
      "epoch: 4607  loss: 0.23525733\n",
      "epoch: 4608  loss: 0.23518050\n",
      "epoch: 4609  loss: 0.23510168\n",
      "epoch: 4610  loss: 0.23501903\n",
      "epoch: 4611  loss: 0.23493461\n",
      "epoch: 4612  loss: 0.23484983\n",
      "epoch: 4613  loss: 0.23476779\n",
      "epoch: 4614  loss: 0.23469023\n",
      "epoch: 4615  loss: 0.23461707\n",
      "epoch: 4616  loss: 0.23454386\n",
      "epoch: 4617  loss: 0.23447035\n",
      "epoch: 4618  loss: 0.23439141\n",
      "epoch: 4619  loss: 0.23430830\n",
      "epoch: 4620  loss: 0.23421693\n",
      "epoch: 4621  loss: 0.23412456\n",
      "epoch: 4622  loss: 0.23403527\n",
      "epoch: 4623  loss: 0.23395160\n",
      "epoch: 4624  loss: 0.23386937\n",
      "epoch: 4625  loss: 0.23378824\n",
      "epoch: 4626  loss: 0.23370855\n",
      "epoch: 4627  loss: 0.23362553\n",
      "epoch: 4628  loss: 0.23354192\n",
      "epoch: 4629  loss: 0.23345999\n",
      "epoch: 4630  loss: 0.23337905\n",
      "epoch: 4631  loss: 0.23330174\n",
      "epoch: 4632  loss: 0.23322730\n",
      "epoch: 4633  loss: 0.23315577\n",
      "epoch: 4634  loss: 0.23308632\n",
      "epoch: 4635  loss: 0.23301278\n",
      "epoch: 4636  loss: 0.23293042\n",
      "epoch: 4637  loss: 0.23283970\n",
      "epoch: 4638  loss: 0.23274508\n",
      "epoch: 4639  loss: 0.23265077\n",
      "epoch: 4640  loss: 0.23256385\n",
      "epoch: 4641  loss: 0.23248266\n",
      "epoch: 4642  loss: 0.23240519\n",
      "epoch: 4643  loss: 0.23233181\n",
      "epoch: 4644  loss: 0.23226124\n",
      "epoch: 4645  loss: 0.23218645\n",
      "epoch: 4646  loss: 0.23210938\n",
      "epoch: 4647  loss: 0.23202732\n",
      "epoch: 4648  loss: 0.23194344\n",
      "epoch: 4649  loss: 0.23185809\n",
      "epoch: 4650  loss: 0.23177457\n",
      "epoch: 4651  loss: 0.23169324\n",
      "epoch: 4652  loss: 0.23161209\n",
      "epoch: 4653  loss: 0.23152958\n",
      "epoch: 4654  loss: 0.23144765\n",
      "epoch: 4655  loss: 0.23136386\n",
      "epoch: 4656  loss: 0.23128000\n",
      "epoch: 4657  loss: 0.23119853\n",
      "epoch: 4658  loss: 0.23111875\n",
      "epoch: 4659  loss: 0.23104009\n",
      "epoch: 4660  loss: 0.23096396\n",
      "epoch: 4661  loss: 0.23089162\n",
      "epoch: 4662  loss: 0.23082240\n",
      "epoch: 4663  loss: 0.23075593\n",
      "epoch: 4664  loss: 0.23068507\n",
      "epoch: 4665  loss: 0.23060793\n",
      "epoch: 4666  loss: 0.23052184\n",
      "epoch: 4667  loss: 0.23043124\n",
      "epoch: 4668  loss: 0.23033810\n",
      "epoch: 4669  loss: 0.23024799\n",
      "epoch: 4670  loss: 0.23016392\n",
      "epoch: 4671  loss: 0.23008341\n",
      "epoch: 4672  loss: 0.23000532\n",
      "epoch: 4673  loss: 0.22993116\n",
      "epoch: 4674  loss: 0.22985674\n",
      "epoch: 4675  loss: 0.22978279\n",
      "epoch: 4676  loss: 0.22970767\n",
      "epoch: 4677  loss: 0.22963029\n",
      "epoch: 4678  loss: 0.22955117\n",
      "epoch: 4679  loss: 0.22946920\n",
      "epoch: 4680  loss: 0.22938783\n",
      "epoch: 4681  loss: 0.22930914\n",
      "epoch: 4682  loss: 0.22923161\n",
      "epoch: 4683  loss: 0.22915117\n",
      "epoch: 4684  loss: 0.22907193\n",
      "epoch: 4685  loss: 0.22898978\n",
      "epoch: 4686  loss: 0.22890542\n",
      "epoch: 4687  loss: 0.22882132\n",
      "epoch: 4688  loss: 0.22873785\n",
      "epoch: 4689  loss: 0.22865614\n",
      "epoch: 4690  loss: 0.22857693\n",
      "epoch: 4691  loss: 0.22849868\n",
      "epoch: 4692  loss: 0.22842264\n",
      "epoch: 4693  loss: 0.22834881\n",
      "epoch: 4694  loss: 0.22827893\n",
      "epoch: 4695  loss: 0.22821356\n",
      "epoch: 4696  loss: 0.22815163\n",
      "epoch: 4697  loss: 0.22808704\n",
      "epoch: 4698  loss: 0.22801171\n",
      "epoch: 4699  loss: 0.22792581\n",
      "epoch: 4700  loss: 0.22783200\n",
      "epoch: 4701  loss: 0.22773516\n",
      "epoch: 4702  loss: 0.22764446\n",
      "epoch: 4703  loss: 0.22756015\n",
      "epoch: 4704  loss: 0.22748156\n",
      "epoch: 4705  loss: 0.22740524\n",
      "epoch: 4706  loss: 0.22733341\n",
      "epoch: 4707  loss: 0.22726366\n",
      "epoch: 4708  loss: 0.22719714\n",
      "epoch: 4709  loss: 0.22712868\n",
      "epoch: 4710  loss: 0.22705540\n",
      "epoch: 4711  loss: 0.22697537\n",
      "epoch: 4712  loss: 0.22688793\n",
      "epoch: 4713  loss: 0.22680020\n",
      "epoch: 4714  loss: 0.22671621\n",
      "epoch: 4715  loss: 0.22663511\n",
      "epoch: 4716  loss: 0.22655751\n",
      "epoch: 4717  loss: 0.22648336\n",
      "epoch: 4718  loss: 0.22640632\n",
      "epoch: 4719  loss: 0.22632843\n",
      "epoch: 4720  loss: 0.22625054\n",
      "epoch: 4721  loss: 0.22617395\n",
      "epoch: 4722  loss: 0.22609644\n",
      "epoch: 4723  loss: 0.22602040\n",
      "epoch: 4724  loss: 0.22595052\n",
      "epoch: 4725  loss: 0.22588252\n",
      "epoch: 4726  loss: 0.22581618\n",
      "epoch: 4727  loss: 0.22574772\n",
      "epoch: 4728  loss: 0.22567281\n",
      "epoch: 4729  loss: 0.22558872\n",
      "epoch: 4730  loss: 0.22550111\n",
      "epoch: 4731  loss: 0.22540878\n",
      "epoch: 4732  loss: 0.22532028\n",
      "epoch: 4733  loss: 0.22524066\n",
      "epoch: 4734  loss: 0.22516577\n",
      "epoch: 4735  loss: 0.22509272\n",
      "epoch: 4736  loss: 0.22502173\n",
      "epoch: 4737  loss: 0.22494937\n",
      "epoch: 4738  loss: 0.22487342\n",
      "epoch: 4739  loss: 0.22479548\n",
      "epoch: 4740  loss: 0.22471836\n",
      "epoch: 4741  loss: 0.22464132\n",
      "epoch: 4742  loss: 0.22456694\n",
      "epoch: 4743  loss: 0.22449259\n",
      "epoch: 4744  loss: 0.22441919\n",
      "epoch: 4745  loss: 0.22434261\n",
      "epoch: 4746  loss: 0.22426130\n",
      "epoch: 4747  loss: 0.22417842\n",
      "epoch: 4748  loss: 0.22409639\n",
      "epoch: 4749  loss: 0.22401477\n",
      "epoch: 4750  loss: 0.22393492\n",
      "epoch: 4751  loss: 0.22385715\n",
      "epoch: 4752  loss: 0.22378118\n",
      "epoch: 4753  loss: 0.22370563\n",
      "epoch: 4754  loss: 0.22363289\n",
      "epoch: 4755  loss: 0.22356175\n",
      "epoch: 4756  loss: 0.22349298\n",
      "epoch: 4757  loss: 0.22342221\n",
      "epoch: 4758  loss: 0.22334981\n",
      "epoch: 4759  loss: 0.22327682\n",
      "epoch: 4760  loss: 0.22320168\n",
      "epoch: 4761  loss: 0.22312944\n",
      "epoch: 4762  loss: 0.22305708\n",
      "epoch: 4763  loss: 0.22298433\n",
      "epoch: 4764  loss: 0.22290790\n",
      "epoch: 4765  loss: 0.22282477\n",
      "epoch: 4766  loss: 0.22273703\n",
      "epoch: 4767  loss: 0.22264780\n",
      "epoch: 4768  loss: 0.22256193\n",
      "epoch: 4769  loss: 0.22248216\n",
      "epoch: 4770  loss: 0.22240719\n",
      "epoch: 4771  loss: 0.22233488\n",
      "epoch: 4772  loss: 0.22226724\n",
      "epoch: 4773  loss: 0.22220212\n",
      "epoch: 4774  loss: 0.22213756\n",
      "epoch: 4775  loss: 0.22206925\n",
      "epoch: 4776  loss: 0.22199437\n",
      "epoch: 4777  loss: 0.22191693\n",
      "epoch: 4778  loss: 0.22183418\n",
      "epoch: 4779  loss: 0.22174928\n",
      "epoch: 4780  loss: 0.22166772\n",
      "epoch: 4781  loss: 0.22158454\n",
      "epoch: 4782  loss: 0.22150452\n",
      "epoch: 4783  loss: 0.22142783\n",
      "epoch: 4784  loss: 0.22135115\n",
      "epoch: 4785  loss: 0.22127745\n",
      "epoch: 4786  loss: 0.22120757\n",
      "epoch: 4787  loss: 0.22114094\n",
      "epoch: 4788  loss: 0.22107999\n",
      "epoch: 4789  loss: 0.22101909\n",
      "epoch: 4790  loss: 0.22094910\n",
      "epoch: 4791  loss: 0.22086759\n",
      "epoch: 4792  loss: 0.22077988\n",
      "epoch: 4793  loss: 0.22068883\n",
      "epoch: 4794  loss: 0.22060066\n",
      "epoch: 4795  loss: 0.22052033\n",
      "epoch: 4796  loss: 0.22044489\n",
      "epoch: 4797  loss: 0.22037101\n",
      "epoch: 4798  loss: 0.22030079\n",
      "epoch: 4799  loss: 0.22023179\n",
      "epoch: 4800  loss: 0.22016184\n",
      "epoch: 4801  loss: 0.22008933\n",
      "epoch: 4802  loss: 0.22001578\n",
      "epoch: 4803  loss: 0.21994239\n",
      "epoch: 4804  loss: 0.21986914\n",
      "epoch: 4805  loss: 0.21979704\n",
      "epoch: 4806  loss: 0.21972533\n",
      "epoch: 4807  loss: 0.21964775\n",
      "epoch: 4808  loss: 0.21956970\n",
      "epoch: 4809  loss: 0.21949027\n",
      "epoch: 4810  loss: 0.21940872\n",
      "epoch: 4811  loss: 0.21932688\n",
      "epoch: 4812  loss: 0.21924980\n",
      "epoch: 4813  loss: 0.21917440\n",
      "epoch: 4814  loss: 0.21909760\n",
      "epoch: 4815  loss: 0.21902411\n",
      "epoch: 4816  loss: 0.21895158\n",
      "epoch: 4817  loss: 0.21887834\n",
      "epoch: 4818  loss: 0.21880698\n",
      "epoch: 4819  loss: 0.21873355\n",
      "epoch: 4820  loss: 0.21866079\n",
      "epoch: 4821  loss: 0.21858656\n",
      "epoch: 4822  loss: 0.21851096\n",
      "epoch: 4823  loss: 0.21843643\n",
      "epoch: 4824  loss: 0.21836241\n",
      "epoch: 4825  loss: 0.21829034\n",
      "epoch: 4826  loss: 0.21822490\n",
      "epoch: 4827  loss: 0.21816970\n",
      "epoch: 4828  loss: 0.21811774\n",
      "epoch: 4829  loss: 0.21806145\n",
      "epoch: 4830  loss: 0.21798943\n",
      "epoch: 4831  loss: 0.21789664\n",
      "epoch: 4832  loss: 0.21779491\n",
      "epoch: 4833  loss: 0.21769816\n",
      "epoch: 4834  loss: 0.21761373\n",
      "epoch: 4835  loss: 0.21754323\n",
      "epoch: 4836  loss: 0.21748292\n",
      "epoch: 4837  loss: 0.21742678\n",
      "epoch: 4838  loss: 0.21736604\n",
      "epoch: 4839  loss: 0.21729402\n",
      "epoch: 4840  loss: 0.21720840\n",
      "epoch: 4841  loss: 0.21711935\n",
      "epoch: 4842  loss: 0.21703652\n",
      "epoch: 4843  loss: 0.21696283\n",
      "epoch: 4844  loss: 0.21689484\n",
      "epoch: 4845  loss: 0.21682581\n",
      "epoch: 4846  loss: 0.21675500\n",
      "epoch: 4847  loss: 0.21668078\n",
      "epoch: 4848  loss: 0.21660185\n",
      "epoch: 4849  loss: 0.21652216\n",
      "epoch: 4850  loss: 0.21645224\n",
      "epoch: 4851  loss: 0.21638586\n",
      "epoch: 4852  loss: 0.21631876\n",
      "epoch: 4853  loss: 0.21624717\n",
      "epoch: 4854  loss: 0.21616693\n",
      "epoch: 4855  loss: 0.21608308\n",
      "epoch: 4856  loss: 0.21600384\n",
      "epoch: 4857  loss: 0.21592851\n",
      "epoch: 4858  loss: 0.21585879\n",
      "epoch: 4859  loss: 0.21579187\n",
      "epoch: 4860  loss: 0.21572337\n",
      "epoch: 4861  loss: 0.21565327\n",
      "epoch: 4862  loss: 0.21557815\n",
      "epoch: 4863  loss: 0.21550402\n",
      "epoch: 4864  loss: 0.21543139\n",
      "epoch: 4865  loss: 0.21536408\n",
      "epoch: 4866  loss: 0.21530282\n",
      "epoch: 4867  loss: 0.21524127\n",
      "epoch: 4868  loss: 0.21517685\n",
      "epoch: 4869  loss: 0.21510392\n",
      "epoch: 4870  loss: 0.21501938\n",
      "epoch: 4871  loss: 0.21493077\n",
      "epoch: 4872  loss: 0.21484767\n",
      "epoch: 4873  loss: 0.21476936\n",
      "epoch: 4874  loss: 0.21469712\n",
      "epoch: 4875  loss: 0.21462807\n",
      "epoch: 4876  loss: 0.21455957\n",
      "epoch: 4877  loss: 0.21449153\n",
      "epoch: 4878  loss: 0.21441832\n",
      "epoch: 4879  loss: 0.21434288\n",
      "epoch: 4880  loss: 0.21427169\n",
      "epoch: 4881  loss: 0.21420422\n",
      "epoch: 4882  loss: 0.21414107\n",
      "epoch: 4883  loss: 0.21408224\n",
      "epoch: 4884  loss: 0.21402158\n",
      "epoch: 4885  loss: 0.21395060\n",
      "epoch: 4886  loss: 0.21387070\n",
      "epoch: 4887  loss: 0.21378605\n",
      "epoch: 4888  loss: 0.21370222\n",
      "epoch: 4889  loss: 0.21362196\n",
      "epoch: 4890  loss: 0.21354777\n",
      "epoch: 4891  loss: 0.21347697\n",
      "epoch: 4892  loss: 0.21340612\n",
      "epoch: 4893  loss: 0.21333383\n",
      "epoch: 4894  loss: 0.21326227\n",
      "epoch: 4895  loss: 0.21318868\n",
      "epoch: 4896  loss: 0.21311527\n",
      "epoch: 4897  loss: 0.21304299\n",
      "epoch: 4898  loss: 0.21297675\n",
      "epoch: 4899  loss: 0.21291235\n",
      "epoch: 4900  loss: 0.21285042\n",
      "epoch: 4901  loss: 0.21278943\n",
      "epoch: 4902  loss: 0.21272083\n",
      "epoch: 4903  loss: 0.21264456\n",
      "epoch: 4904  loss: 0.21256393\n",
      "epoch: 4905  loss: 0.21248345\n",
      "epoch: 4906  loss: 0.21240611\n",
      "epoch: 4907  loss: 0.21233419\n",
      "epoch: 4908  loss: 0.21226378\n",
      "epoch: 4909  loss: 0.21219224\n",
      "epoch: 4910  loss: 0.21211846\n",
      "epoch: 4911  loss: 0.21204501\n",
      "epoch: 4912  loss: 0.21197321\n",
      "epoch: 4913  loss: 0.21190397\n",
      "epoch: 4914  loss: 0.21183883\n",
      "epoch: 4915  loss: 0.21177807\n",
      "epoch: 4916  loss: 0.21171829\n",
      "epoch: 4917  loss: 0.21165501\n",
      "epoch: 4918  loss: 0.21158162\n",
      "epoch: 4919  loss: 0.21150488\n",
      "epoch: 4920  loss: 0.21142398\n",
      "epoch: 4921  loss: 0.21134298\n",
      "epoch: 4922  loss: 0.21126615\n",
      "epoch: 4923  loss: 0.21119182\n",
      "epoch: 4924  loss: 0.21112019\n",
      "epoch: 4925  loss: 0.21104923\n",
      "epoch: 4926  loss: 0.21097794\n",
      "epoch: 4927  loss: 0.21090582\n",
      "epoch: 4928  loss: 0.21083517\n",
      "epoch: 4929  loss: 0.21076840\n",
      "epoch: 4930  loss: 0.21070105\n",
      "epoch: 4931  loss: 0.21063693\n",
      "epoch: 4932  loss: 0.21057434\n",
      "epoch: 4933  loss: 0.21051088\n",
      "epoch: 4934  loss: 0.21044397\n",
      "epoch: 4935  loss: 0.21037687\n",
      "epoch: 4936  loss: 0.21030419\n",
      "epoch: 4937  loss: 0.21022622\n",
      "epoch: 4938  loss: 0.21014823\n",
      "epoch: 4939  loss: 0.21006957\n",
      "epoch: 4940  loss: 0.20999086\n",
      "epoch: 4941  loss: 0.20991659\n",
      "epoch: 4942  loss: 0.20984720\n",
      "epoch: 4943  loss: 0.20977776\n",
      "epoch: 4944  loss: 0.20970888\n",
      "epoch: 4945  loss: 0.20964192\n",
      "epoch: 4946  loss: 0.20957620\n",
      "epoch: 4947  loss: 0.20951095\n",
      "epoch: 4948  loss: 0.20944647\n",
      "epoch: 4949  loss: 0.20937987\n",
      "epoch: 4950  loss: 0.20931146\n",
      "epoch: 4951  loss: 0.20923701\n",
      "epoch: 4952  loss: 0.20915866\n",
      "epoch: 4953  loss: 0.20908189\n",
      "epoch: 4954  loss: 0.20900474\n",
      "epoch: 4955  loss: 0.20893072\n",
      "epoch: 4956  loss: 0.20885843\n",
      "epoch: 4957  loss: 0.20878719\n",
      "epoch: 4958  loss: 0.20871718\n",
      "epoch: 4959  loss: 0.20864800\n",
      "epoch: 4960  loss: 0.20857981\n",
      "epoch: 4961  loss: 0.20851269\n",
      "epoch: 4962  loss: 0.20844679\n",
      "epoch: 4963  loss: 0.20838019\n",
      "epoch: 4964  loss: 0.20831396\n",
      "epoch: 4965  loss: 0.20824581\n",
      "epoch: 4966  loss: 0.20817800\n",
      "epoch: 4967  loss: 0.20811394\n",
      "epoch: 4968  loss: 0.20805146\n",
      "epoch: 4969  loss: 0.20798658\n",
      "epoch: 4970  loss: 0.20791739\n",
      "epoch: 4971  loss: 0.20784043\n",
      "epoch: 4972  loss: 0.20775706\n",
      "epoch: 4973  loss: 0.20767605\n",
      "epoch: 4974  loss: 0.20759903\n",
      "epoch: 4975  loss: 0.20752765\n",
      "epoch: 4976  loss: 0.20746256\n",
      "epoch: 4977  loss: 0.20739746\n",
      "epoch: 4978  loss: 0.20733498\n",
      "epoch: 4979  loss: 0.20726922\n",
      "epoch: 4980  loss: 0.20720109\n",
      "epoch: 4981  loss: 0.20712788\n",
      "epoch: 4982  loss: 0.20705841\n",
      "epoch: 4983  loss: 0.20699473\n",
      "epoch: 4984  loss: 0.20693220\n",
      "epoch: 4985  loss: 0.20686953\n",
      "epoch: 4986  loss: 0.20680027\n",
      "epoch: 4987  loss: 0.20672353\n",
      "epoch: 4988  loss: 0.20664068\n",
      "epoch: 4989  loss: 0.20656082\n",
      "epoch: 4990  loss: 0.20648989\n",
      "epoch: 4991  loss: 0.20642224\n",
      "epoch: 4992  loss: 0.20635529\n",
      "epoch: 4993  loss: 0.20628966\n",
      "epoch: 4994  loss: 0.20621850\n",
      "epoch: 4995  loss: 0.20614456\n",
      "epoch: 4996  loss: 0.20607287\n",
      "epoch: 4997  loss: 0.20600483\n",
      "epoch: 4998  loss: 0.20594087\n",
      "epoch: 4999  loss: 0.20588404\n",
      "\n",
      "# Finished training!\n",
      "# --> epoch: 4999  \n",
      "# --> initial loss: 1.78788996 ,  \n",
      "# --> accuracy: 0.94521403 , \n",
      "# --> final loss: 0.20588404\n"
     ]
    }
   ],
   "source": [
    "data_train = (torch.FloatTensor(X_train), torch.LongTensor(Y_train))\n",
    "\n",
    "Model = moodClassifier(dim_embed=num_dims, n_units=500)\n",
    "if CUDA_flag:         # se houver GPUs disponíveis\n",
    "  Model.cuda()       # converte o modelo para CUDA\n",
    "\n",
    "print(Model)\n",
    "\n",
    "criterion = nn.NLLLoss() # cross entropy loss\n",
    "optimizer = torch.optim.Adam(Model.parameters(), lr = 0.001) \n",
    "\n",
    "Model, losses, accs = train_loop(Model, data_train, max_epochs=5000, print_iters=1) # note que o modelo é sobrescrito pela saída treinada"
   ]
  },
  {
   "cell_type": "code",
   "execution_count": 31,
   "metadata": {},
   "outputs": [],
   "source": [
    "# Rodando o Modelo treinado com o Dataset de Teste\n",
    "data_test = (torch.FloatTensor(X_test), torch.LongTensor(Y_test))\n",
    "X_test_tensor, Y_test_tensor = data_test\n",
    "\n",
    "if CUDA_flag: # usar GPU?\n",
    "      X_test_tensor = X_test_tensor.cuda()\n",
    "\n",
    "Y_pred_tensor = Model.forward(X_test_tensor) \n",
    "\n",
    "# hard-decision e pós-processamento da saída \n",
    "y_pred = torch.argmax(Y_pred_tensor, dim=1)\n",
    "y_pred = y_pred.float()\n",
    "y_true = torch.squeeze(Y_test_tensor) \n",
    "y_pred = torch.squeeze(y_pred)"
   ]
  },
  {
   "source": [
    "### Mostrando a *Confusion Matrix*"
   ],
   "cell_type": "markdown",
   "metadata": {}
  },
  {
   "cell_type": "code",
   "execution_count": 32,
   "metadata": {},
   "outputs": [
    {
     "output_type": "display_data",
     "data": {
      "text/plain": "<Figure size 792x792 with 2 Axes>",
      "image/svg+xml": "<?xml version=\"1.0\" encoding=\"utf-8\" standalone=\"no\"?>\r\n<!DOCTYPE svg PUBLIC \"-//W3C//DTD SVG 1.1//EN\"\r\n  \"http://www.w3.org/Graphics/SVG/1.1/DTD/svg11.dtd\">\r\n<!-- Created with matplotlib (https://matplotlib.org/) -->\r\n<svg height=\"612.36pt\" version=\"1.1\" viewBox=\"0 0 646.688937 612.36\" width=\"646.688937pt\" xmlns=\"http://www.w3.org/2000/svg\" xmlns:xlink=\"http://www.w3.org/1999/xlink\">\r\n <metadata>\r\n  <rdf:RDF xmlns:cc=\"http://creativecommons.org/ns#\" xmlns:dc=\"http://purl.org/dc/elements/1.1/\" xmlns:rdf=\"http://www.w3.org/1999/02/22-rdf-syntax-ns#\">\r\n   <cc:Work>\r\n    <dc:type rdf:resource=\"http://purl.org/dc/dcmitype/StillImage\"/>\r\n    <dc:date>2021-05-04T18:50:12.995655</dc:date>\r\n    <dc:format>image/svg+xml</dc:format>\r\n    <dc:creator>\r\n     <cc:Agent>\r\n      <dc:title>Matplotlib v3.3.2, https://matplotlib.org/</dc:title>\r\n     </cc:Agent>\r\n    </dc:creator>\r\n   </cc:Work>\r\n  </rdf:RDF>\r\n </metadata>\r\n <defs>\r\n  <style type=\"text/css\">*{stroke-linecap:butt;stroke-linejoin:round;}</style>\r\n </defs>\r\n <g id=\"figure_1\">\r\n  <g id=\"patch_1\">\r\n   <path d=\"M -0 612.36 \r\nL 646.688937 612.36 \r\nL 646.688937 0 \r\nL -0 0 \r\nz\r\n\" style=\"fill:none;\"/>\r\n  </g>\r\n  <g id=\"axes_1\">\r\n   <g id=\"patch_2\">\r\n    <path d=\"M 68.135938 551.7 \r\nL 559.175938 551.7 \r\nL 559.175938 60.66 \r\nL 68.135938 60.66 \r\nz\r\n\" style=\"fill:#ffffff;\"/>\r\n   </g>\r\n   <g clip-path=\"url(#p6558d51dd0)\">\r\n    <image height=\"492\" id=\"image4c2aa90228\" transform=\"scale(1 -1)translate(0 -492)\" width=\"492\" x=\"68.135938\" xlink:href=\"data:image/png;base64,\r\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\" y=\"-59.7\"/>\r\n   </g>\r\n   <g id=\"matplotlib.axis_1\">\r\n    <g id=\"xtick_1\">\r\n     <g id=\"line2d_1\">\r\n      <defs>\r\n       <path d=\"M 0 0 \r\nL 0 3.5 \r\n\" id=\"me59df79177\" style=\"stroke:#000000;stroke-width:0.8;\"/>\r\n      </defs>\r\n      <g>\r\n       <use style=\"stroke:#000000;stroke-width:0.8;\" x=\"109.055938\" xlink:href=\"#me59df79177\" y=\"551.7\"/>\r\n      </g>\r\n     </g>\r\n     <g id=\"text_1\">\r\n      <!-- angry -->\r\n      <g transform=\"translate(94.634063 566.298437)scale(0.1 -0.1)\">\r\n       <defs>\r\n        <path d=\"M 34.28125 27.484375 \r\nQ 23.390625 27.484375 19.1875 25 \r\nQ 14.984375 22.515625 14.984375 16.5 \r\nQ 14.984375 11.71875 18.140625 8.90625 \r\nQ 21.296875 6.109375 26.703125 6.109375 \r\nQ 34.1875 6.109375 38.703125 11.40625 \r\nQ 43.21875 16.703125 43.21875 25.484375 \r\nL 43.21875 27.484375 \r\nz\r\nM 52.203125 31.203125 \r\nL 52.203125 0 \r\nL 43.21875 0 \r\nL 43.21875 8.296875 \r\nQ 40.140625 3.328125 35.546875 0.953125 \r\nQ 30.953125 -1.421875 24.3125 -1.421875 \r\nQ 15.921875 -1.421875 10.953125 3.296875 \r\nQ 6 8.015625 6 15.921875 \r\nQ 6 25.140625 12.171875 29.828125 \r\nQ 18.359375 34.515625 30.609375 34.515625 \r\nL 43.21875 34.515625 \r\nL 43.21875 35.40625 \r\nQ 43.21875 41.609375 39.140625 45 \r\nQ 35.0625 48.390625 27.6875 48.390625 \r\nQ 23 48.390625 18.546875 47.265625 \r\nQ 14.109375 46.140625 10.015625 43.890625 \r\nL 10.015625 52.203125 \r\nQ 14.9375 54.109375 19.578125 55.046875 \r\nQ 24.21875 56 28.609375 56 \r\nQ 40.484375 56 46.34375 49.84375 \r\nQ 52.203125 43.703125 52.203125 31.203125 \r\nz\r\n\" id=\"DejaVuSans-97\"/>\r\n        <path d=\"M 54.890625 33.015625 \r\nL 54.890625 0 \r\nL 45.90625 0 \r\nL 45.90625 32.71875 \r\nQ 45.90625 40.484375 42.875 44.328125 \r\nQ 39.84375 48.1875 33.796875 48.1875 \r\nQ 26.515625 48.1875 22.3125 43.546875 \r\nQ 18.109375 38.921875 18.109375 30.90625 \r\nL 18.109375 0 \r\nL 9.078125 0 \r\nL 9.078125 54.6875 \r\nL 18.109375 54.6875 \r\nL 18.109375 46.1875 \r\nQ 21.34375 51.125 25.703125 53.5625 \r\nQ 30.078125 56 35.796875 56 \r\nQ 45.21875 56 50.046875 50.171875 \r\nQ 54.890625 44.34375 54.890625 33.015625 \r\nz\r\n\" id=\"DejaVuSans-110\"/>\r\n        <path d=\"M 45.40625 27.984375 \r\nQ 45.40625 37.75 41.375 43.109375 \r\nQ 37.359375 48.484375 30.078125 48.484375 \r\nQ 22.859375 48.484375 18.828125 43.109375 \r\nQ 14.796875 37.75 14.796875 27.984375 \r\nQ 14.796875 18.265625 18.828125 12.890625 \r\nQ 22.859375 7.515625 30.078125 7.515625 \r\nQ 37.359375 7.515625 41.375 12.890625 \r\nQ 45.40625 18.265625 45.40625 27.984375 \r\nz\r\nM 54.390625 6.78125 \r\nQ 54.390625 -7.171875 48.1875 -13.984375 \r\nQ 42 -20.796875 29.203125 -20.796875 \r\nQ 24.46875 -20.796875 20.265625 -20.09375 \r\nQ 16.0625 -19.390625 12.109375 -17.921875 \r\nL 12.109375 -9.1875 \r\nQ 16.0625 -11.328125 19.921875 -12.34375 \r\nQ 23.78125 -13.375 27.78125 -13.375 \r\nQ 36.625 -13.375 41.015625 -8.765625 \r\nQ 45.40625 -4.15625 45.40625 5.171875 \r\nL 45.40625 9.625 \r\nQ 42.625 4.78125 38.28125 2.390625 \r\nQ 33.9375 0 27.875 0 \r\nQ 17.828125 0 11.671875 7.65625 \r\nQ 5.515625 15.328125 5.515625 27.984375 \r\nQ 5.515625 40.671875 11.671875 48.328125 \r\nQ 17.828125 56 27.875 56 \r\nQ 33.9375 56 38.28125 53.609375 \r\nQ 42.625 51.21875 45.40625 46.390625 \r\nL 45.40625 54.6875 \r\nL 54.390625 54.6875 \r\nz\r\n\" id=\"DejaVuSans-103\"/>\r\n        <path d=\"M 41.109375 46.296875 \r\nQ 39.59375 47.171875 37.8125 47.578125 \r\nQ 36.03125 48 33.890625 48 \r\nQ 26.265625 48 22.1875 43.046875 \r\nQ 18.109375 38.09375 18.109375 28.8125 \r\nL 18.109375 0 \r\nL 9.078125 0 \r\nL 9.078125 54.6875 \r\nL 18.109375 54.6875 \r\nL 18.109375 46.1875 \r\nQ 20.953125 51.171875 25.484375 53.578125 \r\nQ 30.03125 56 36.53125 56 \r\nQ 37.453125 56 38.578125 55.875 \r\nQ 39.703125 55.765625 41.0625 55.515625 \r\nz\r\n\" id=\"DejaVuSans-114\"/>\r\n        <path d=\"M 32.171875 -5.078125 \r\nQ 28.375 -14.84375 24.75 -17.8125 \r\nQ 21.140625 -20.796875 15.09375 -20.796875 \r\nL 7.90625 -20.796875 \r\nL 7.90625 -13.28125 \r\nL 13.1875 -13.28125 \r\nQ 16.890625 -13.28125 18.9375 -11.515625 \r\nQ 21 -9.765625 23.484375 -3.21875 \r\nL 25.09375 0.875 \r\nL 2.984375 54.6875 \r\nL 12.5 54.6875 \r\nL 29.59375 11.921875 \r\nL 46.6875 54.6875 \r\nL 56.203125 54.6875 \r\nz\r\n\" id=\"DejaVuSans-121\"/>\r\n       </defs>\r\n       <use xlink:href=\"#DejaVuSans-97\"/>\r\n       <use x=\"61.279297\" xlink:href=\"#DejaVuSans-110\"/>\r\n       <use x=\"124.658203\" xlink:href=\"#DejaVuSans-103\"/>\r\n       <use x=\"188.134766\" xlink:href=\"#DejaVuSans-114\"/>\r\n       <use x=\"229.248047\" xlink:href=\"#DejaVuSans-121\"/>\r\n      </g>\r\n     </g>\r\n    </g>\r\n    <g id=\"xtick_2\">\r\n     <g id=\"line2d_2\">\r\n      <g>\r\n       <use style=\"stroke:#000000;stroke-width:0.8;\" x=\"190.895938\" xlink:href=\"#me59df79177\" y=\"551.7\"/>\r\n      </g>\r\n     </g>\r\n     <g id=\"text_2\">\r\n      <!-- disgust -->\r\n      <g transform=\"translate(172.820156 566.298437)scale(0.1 -0.1)\">\r\n       <defs>\r\n        <path d=\"M 45.40625 46.390625 \r\nL 45.40625 75.984375 \r\nL 54.390625 75.984375 \r\nL 54.390625 0 \r\nL 45.40625 0 \r\nL 45.40625 8.203125 \r\nQ 42.578125 3.328125 38.25 0.953125 \r\nQ 33.9375 -1.421875 27.875 -1.421875 \r\nQ 17.96875 -1.421875 11.734375 6.484375 \r\nQ 5.515625 14.40625 5.515625 27.296875 \r\nQ 5.515625 40.1875 11.734375 48.09375 \r\nQ 17.96875 56 27.875 56 \r\nQ 33.9375 56 38.25 53.625 \r\nQ 42.578125 51.265625 45.40625 46.390625 \r\nz\r\nM 14.796875 27.296875 \r\nQ 14.796875 17.390625 18.875 11.75 \r\nQ 22.953125 6.109375 30.078125 6.109375 \r\nQ 37.203125 6.109375 41.296875 11.75 \r\nQ 45.40625 17.390625 45.40625 27.296875 \r\nQ 45.40625 37.203125 41.296875 42.84375 \r\nQ 37.203125 48.484375 30.078125 48.484375 \r\nQ 22.953125 48.484375 18.875 42.84375 \r\nQ 14.796875 37.203125 14.796875 27.296875 \r\nz\r\n\" id=\"DejaVuSans-100\"/>\r\n        <path d=\"M 9.421875 54.6875 \r\nL 18.40625 54.6875 \r\nL 18.40625 0 \r\nL 9.421875 0 \r\nz\r\nM 9.421875 75.984375 \r\nL 18.40625 75.984375 \r\nL 18.40625 64.59375 \r\nL 9.421875 64.59375 \r\nz\r\n\" id=\"DejaVuSans-105\"/>\r\n        <path d=\"M 44.28125 53.078125 \r\nL 44.28125 44.578125 \r\nQ 40.484375 46.53125 36.375 47.5 \r\nQ 32.28125 48.484375 27.875 48.484375 \r\nQ 21.1875 48.484375 17.84375 46.4375 \r\nQ 14.5 44.390625 14.5 40.28125 \r\nQ 14.5 37.15625 16.890625 35.375 \r\nQ 19.28125 33.59375 26.515625 31.984375 \r\nL 29.59375 31.296875 \r\nQ 39.15625 29.25 43.1875 25.515625 \r\nQ 47.21875 21.78125 47.21875 15.09375 \r\nQ 47.21875 7.46875 41.1875 3.015625 \r\nQ 35.15625 -1.421875 24.609375 -1.421875 \r\nQ 20.21875 -1.421875 15.453125 -0.5625 \r\nQ 10.6875 0.296875 5.421875 2 \r\nL 5.421875 11.28125 \r\nQ 10.40625 8.6875 15.234375 7.390625 \r\nQ 20.0625 6.109375 24.8125 6.109375 \r\nQ 31.15625 6.109375 34.5625 8.28125 \r\nQ 37.984375 10.453125 37.984375 14.40625 \r\nQ 37.984375 18.0625 35.515625 20.015625 \r\nQ 33.0625 21.96875 24.703125 23.78125 \r\nL 21.578125 24.515625 \r\nQ 13.234375 26.265625 9.515625 29.90625 \r\nQ 5.8125 33.546875 5.8125 39.890625 \r\nQ 5.8125 47.609375 11.28125 51.796875 \r\nQ 16.75 56 26.8125 56 \r\nQ 31.78125 56 36.171875 55.265625 \r\nQ 40.578125 54.546875 44.28125 53.078125 \r\nz\r\n\" id=\"DejaVuSans-115\"/>\r\n        <path d=\"M 8.5 21.578125 \r\nL 8.5 54.6875 \r\nL 17.484375 54.6875 \r\nL 17.484375 21.921875 \r\nQ 17.484375 14.15625 20.5 10.265625 \r\nQ 23.53125 6.390625 29.59375 6.390625 \r\nQ 36.859375 6.390625 41.078125 11.03125 \r\nQ 45.3125 15.671875 45.3125 23.6875 \r\nL 45.3125 54.6875 \r\nL 54.296875 54.6875 \r\nL 54.296875 0 \r\nL 45.3125 0 \r\nL 45.3125 8.40625 \r\nQ 42.046875 3.421875 37.71875 1 \r\nQ 33.40625 -1.421875 27.6875 -1.421875 \r\nQ 18.265625 -1.421875 13.375 4.4375 \r\nQ 8.5 10.296875 8.5 21.578125 \r\nz\r\nM 31.109375 56 \r\nz\r\n\" id=\"DejaVuSans-117\"/>\r\n        <path d=\"M 18.3125 70.21875 \r\nL 18.3125 54.6875 \r\nL 36.8125 54.6875 \r\nL 36.8125 47.703125 \r\nL 18.3125 47.703125 \r\nL 18.3125 18.015625 \r\nQ 18.3125 11.328125 20.140625 9.421875 \r\nQ 21.96875 7.515625 27.59375 7.515625 \r\nL 36.8125 7.515625 \r\nL 36.8125 0 \r\nL 27.59375 0 \r\nQ 17.1875 0 13.234375 3.875 \r\nQ 9.28125 7.765625 9.28125 18.015625 \r\nL 9.28125 47.703125 \r\nL 2.6875 47.703125 \r\nL 2.6875 54.6875 \r\nL 9.28125 54.6875 \r\nL 9.28125 70.21875 \r\nz\r\n\" id=\"DejaVuSans-116\"/>\r\n       </defs>\r\n       <use xlink:href=\"#DejaVuSans-100\"/>\r\n       <use x=\"63.476562\" xlink:href=\"#DejaVuSans-105\"/>\r\n       <use x=\"91.259766\" xlink:href=\"#DejaVuSans-115\"/>\r\n       <use x=\"143.359375\" xlink:href=\"#DejaVuSans-103\"/>\r\n       <use x=\"206.835938\" xlink:href=\"#DejaVuSans-117\"/>\r\n       <use x=\"270.214844\" xlink:href=\"#DejaVuSans-115\"/>\r\n       <use x=\"322.314453\" xlink:href=\"#DejaVuSans-116\"/>\r\n      </g>\r\n     </g>\r\n    </g>\r\n    <g id=\"xtick_3\">\r\n     <g id=\"line2d_3\">\r\n      <g>\r\n       <use style=\"stroke:#000000;stroke-width:0.8;\" x=\"272.735938\" xlink:href=\"#me59df79177\" y=\"551.7\"/>\r\n      </g>\r\n     </g>\r\n     <g id=\"text_3\">\r\n      <!-- fear -->\r\n      <g transform=\"translate(262.779688 566.298437)scale(0.1 -0.1)\">\r\n       <defs>\r\n        <path d=\"M 37.109375 75.984375 \r\nL 37.109375 68.5 \r\nL 28.515625 68.5 \r\nQ 23.6875 68.5 21.796875 66.546875 \r\nQ 19.921875 64.59375 19.921875 59.515625 \r\nL 19.921875 54.6875 \r\nL 34.71875 54.6875 \r\nL 34.71875 47.703125 \r\nL 19.921875 47.703125 \r\nL 19.921875 0 \r\nL 10.890625 0 \r\nL 10.890625 47.703125 \r\nL 2.296875 47.703125 \r\nL 2.296875 54.6875 \r\nL 10.890625 54.6875 \r\nL 10.890625 58.5 \r\nQ 10.890625 67.625 15.140625 71.796875 \r\nQ 19.390625 75.984375 28.609375 75.984375 \r\nz\r\n\" id=\"DejaVuSans-102\"/>\r\n        <path d=\"M 56.203125 29.59375 \r\nL 56.203125 25.203125 \r\nL 14.890625 25.203125 \r\nQ 15.484375 15.921875 20.484375 11.0625 \r\nQ 25.484375 6.203125 34.421875 6.203125 \r\nQ 39.59375 6.203125 44.453125 7.46875 \r\nQ 49.3125 8.734375 54.109375 11.28125 \r\nL 54.109375 2.78125 \r\nQ 49.265625 0.734375 44.1875 -0.34375 \r\nQ 39.109375 -1.421875 33.890625 -1.421875 \r\nQ 20.796875 -1.421875 13.15625 6.1875 \r\nQ 5.515625 13.8125 5.515625 26.8125 \r\nQ 5.515625 40.234375 12.765625 48.109375 \r\nQ 20.015625 56 32.328125 56 \r\nQ 43.359375 56 49.78125 48.890625 \r\nQ 56.203125 41.796875 56.203125 29.59375 \r\nz\r\nM 47.21875 32.234375 \r\nQ 47.125 39.59375 43.09375 43.984375 \r\nQ 39.0625 48.390625 32.421875 48.390625 \r\nQ 24.90625 48.390625 20.390625 44.140625 \r\nQ 15.875 39.890625 15.1875 32.171875 \r\nz\r\n\" id=\"DejaVuSans-101\"/>\r\n       </defs>\r\n       <use xlink:href=\"#DejaVuSans-102\"/>\r\n       <use x=\"35.205078\" xlink:href=\"#DejaVuSans-101\"/>\r\n       <use x=\"96.728516\" xlink:href=\"#DejaVuSans-97\"/>\r\n       <use x=\"158.007812\" xlink:href=\"#DejaVuSans-114\"/>\r\n      </g>\r\n     </g>\r\n    </g>\r\n    <g id=\"xtick_4\">\r\n     <g id=\"line2d_4\">\r\n      <g>\r\n       <use style=\"stroke:#000000;stroke-width:0.8;\" x=\"354.575938\" xlink:href=\"#me59df79177\" y=\"551.7\"/>\r\n      </g>\r\n     </g>\r\n     <g id=\"text_4\">\r\n      <!-- happy -->\r\n      <g transform=\"translate(339.035313 566.298437)scale(0.1 -0.1)\">\r\n       <defs>\r\n        <path d=\"M 54.890625 33.015625 \r\nL 54.890625 0 \r\nL 45.90625 0 \r\nL 45.90625 32.71875 \r\nQ 45.90625 40.484375 42.875 44.328125 \r\nQ 39.84375 48.1875 33.796875 48.1875 \r\nQ 26.515625 48.1875 22.3125 43.546875 \r\nQ 18.109375 38.921875 18.109375 30.90625 \r\nL 18.109375 0 \r\nL 9.078125 0 \r\nL 9.078125 75.984375 \r\nL 18.109375 75.984375 \r\nL 18.109375 46.1875 \r\nQ 21.34375 51.125 25.703125 53.5625 \r\nQ 30.078125 56 35.796875 56 \r\nQ 45.21875 56 50.046875 50.171875 \r\nQ 54.890625 44.34375 54.890625 33.015625 \r\nz\r\n\" id=\"DejaVuSans-104\"/>\r\n        <path d=\"M 18.109375 8.203125 \r\nL 18.109375 -20.796875 \r\nL 9.078125 -20.796875 \r\nL 9.078125 54.6875 \r\nL 18.109375 54.6875 \r\nL 18.109375 46.390625 \r\nQ 20.953125 51.265625 25.265625 53.625 \r\nQ 29.59375 56 35.59375 56 \r\nQ 45.5625 56 51.78125 48.09375 \r\nQ 58.015625 40.1875 58.015625 27.296875 \r\nQ 58.015625 14.40625 51.78125 6.484375 \r\nQ 45.5625 -1.421875 35.59375 -1.421875 \r\nQ 29.59375 -1.421875 25.265625 0.953125 \r\nQ 20.953125 3.328125 18.109375 8.203125 \r\nz\r\nM 48.6875 27.296875 \r\nQ 48.6875 37.203125 44.609375 42.84375 \r\nQ 40.53125 48.484375 33.40625 48.484375 \r\nQ 26.265625 48.484375 22.1875 42.84375 \r\nQ 18.109375 37.203125 18.109375 27.296875 \r\nQ 18.109375 17.390625 22.1875 11.75 \r\nQ 26.265625 6.109375 33.40625 6.109375 \r\nQ 40.53125 6.109375 44.609375 11.75 \r\nQ 48.6875 17.390625 48.6875 27.296875 \r\nz\r\n\" id=\"DejaVuSans-112\"/>\r\n       </defs>\r\n       <use xlink:href=\"#DejaVuSans-104\"/>\r\n       <use x=\"63.378906\" xlink:href=\"#DejaVuSans-97\"/>\r\n       <use x=\"124.658203\" xlink:href=\"#DejaVuSans-112\"/>\r\n       <use x=\"188.134766\" xlink:href=\"#DejaVuSans-112\"/>\r\n       <use x=\"251.611328\" xlink:href=\"#DejaVuSans-121\"/>\r\n      </g>\r\n     </g>\r\n    </g>\r\n    <g id=\"xtick_5\">\r\n     <g id=\"line2d_5\">\r\n      <g>\r\n       <use style=\"stroke:#000000;stroke-width:0.8;\" x=\"436.415938\" xlink:href=\"#me59df79177\" y=\"551.7\"/>\r\n      </g>\r\n     </g>\r\n     <g id=\"text_5\">\r\n      <!-- sad -->\r\n      <g transform=\"translate(427.572969 566.298437)scale(0.1 -0.1)\">\r\n       <use xlink:href=\"#DejaVuSans-115\"/>\r\n       <use x=\"52.099609\" xlink:href=\"#DejaVuSans-97\"/>\r\n       <use x=\"113.378906\" xlink:href=\"#DejaVuSans-100\"/>\r\n      </g>\r\n     </g>\r\n    </g>\r\n    <g id=\"xtick_6\">\r\n     <g id=\"line2d_6\">\r\n      <g>\r\n       <use style=\"stroke:#000000;stroke-width:0.8;\" x=\"518.255938\" xlink:href=\"#me59df79177\" y=\"551.7\"/>\r\n      </g>\r\n     </g>\r\n     <g id=\"text_6\">\r\n      <!-- surprise -->\r\n      <g transform=\"translate(498.127031 566.298437)scale(0.1 -0.1)\">\r\n       <use xlink:href=\"#DejaVuSans-115\"/>\r\n       <use x=\"52.099609\" xlink:href=\"#DejaVuSans-117\"/>\r\n       <use x=\"115.478516\" xlink:href=\"#DejaVuSans-114\"/>\r\n       <use x=\"156.591797\" xlink:href=\"#DejaVuSans-112\"/>\r\n       <use x=\"220.068359\" xlink:href=\"#DejaVuSans-114\"/>\r\n       <use x=\"261.181641\" xlink:href=\"#DejaVuSans-105\"/>\r\n       <use x=\"288.964844\" xlink:href=\"#DejaVuSans-115\"/>\r\n       <use x=\"341.064453\" xlink:href=\"#DejaVuSans-101\"/>\r\n      </g>\r\n     </g>\r\n    </g>\r\n    <g id=\"text_7\">\r\n     <!-- Predicted label -->\r\n     <g transform=\"translate(276.503594 579.976562)scale(0.1 -0.1)\">\r\n      <defs>\r\n       <path d=\"M 19.671875 64.796875 \r\nL 19.671875 37.40625 \r\nL 32.078125 37.40625 \r\nQ 38.96875 37.40625 42.71875 40.96875 \r\nQ 46.484375 44.53125 46.484375 51.125 \r\nQ 46.484375 57.671875 42.71875 61.234375 \r\nQ 38.96875 64.796875 32.078125 64.796875 \r\nz\r\nM 9.8125 72.90625 \r\nL 32.078125 72.90625 \r\nQ 44.34375 72.90625 50.609375 67.359375 \r\nQ 56.890625 61.8125 56.890625 51.125 \r\nQ 56.890625 40.328125 50.609375 34.8125 \r\nQ 44.34375 29.296875 32.078125 29.296875 \r\nL 19.671875 29.296875 \r\nL 19.671875 0 \r\nL 9.8125 0 \r\nz\r\n\" id=\"DejaVuSans-80\"/>\r\n       <path d=\"M 48.78125 52.59375 \r\nL 48.78125 44.1875 \r\nQ 44.96875 46.296875 41.140625 47.34375 \r\nQ 37.3125 48.390625 33.40625 48.390625 \r\nQ 24.65625 48.390625 19.8125 42.84375 \r\nQ 14.984375 37.3125 14.984375 27.296875 \r\nQ 14.984375 17.28125 19.8125 11.734375 \r\nQ 24.65625 6.203125 33.40625 6.203125 \r\nQ 37.3125 6.203125 41.140625 7.25 \r\nQ 44.96875 8.296875 48.78125 10.40625 \r\nL 48.78125 2.09375 \r\nQ 45.015625 0.34375 40.984375 -0.53125 \r\nQ 36.96875 -1.421875 32.421875 -1.421875 \r\nQ 20.0625 -1.421875 12.78125 6.34375 \r\nQ 5.515625 14.109375 5.515625 27.296875 \r\nQ 5.515625 40.671875 12.859375 48.328125 \r\nQ 20.21875 56 33.015625 56 \r\nQ 37.15625 56 41.109375 55.140625 \r\nQ 45.0625 54.296875 48.78125 52.59375 \r\nz\r\n\" id=\"DejaVuSans-99\"/>\r\n       <path id=\"DejaVuSans-32\"/>\r\n       <path d=\"M 9.421875 75.984375 \r\nL 18.40625 75.984375 \r\nL 18.40625 0 \r\nL 9.421875 0 \r\nz\r\n\" id=\"DejaVuSans-108\"/>\r\n       <path d=\"M 48.6875 27.296875 \r\nQ 48.6875 37.203125 44.609375 42.84375 \r\nQ 40.53125 48.484375 33.40625 48.484375 \r\nQ 26.265625 48.484375 22.1875 42.84375 \r\nQ 18.109375 37.203125 18.109375 27.296875 \r\nQ 18.109375 17.390625 22.1875 11.75 \r\nQ 26.265625 6.109375 33.40625 6.109375 \r\nQ 40.53125 6.109375 44.609375 11.75 \r\nQ 48.6875 17.390625 48.6875 27.296875 \r\nz\r\nM 18.109375 46.390625 \r\nQ 20.953125 51.265625 25.265625 53.625 \r\nQ 29.59375 56 35.59375 56 \r\nQ 45.5625 56 51.78125 48.09375 \r\nQ 58.015625 40.1875 58.015625 27.296875 \r\nQ 58.015625 14.40625 51.78125 6.484375 \r\nQ 45.5625 -1.421875 35.59375 -1.421875 \r\nQ 29.59375 -1.421875 25.265625 0.953125 \r\nQ 20.953125 3.328125 18.109375 8.203125 \r\nL 18.109375 0 \r\nL 9.078125 0 \r\nL 9.078125 75.984375 \r\nL 18.109375 75.984375 \r\nz\r\n\" id=\"DejaVuSans-98\"/>\r\n      </defs>\r\n      <use xlink:href=\"#DejaVuSans-80\"/>\r\n      <use x=\"58.552734\" xlink:href=\"#DejaVuSans-114\"/>\r\n      <use x=\"97.416016\" xlink:href=\"#DejaVuSans-101\"/>\r\n      <use x=\"158.939453\" xlink:href=\"#DejaVuSans-100\"/>\r\n      <use x=\"222.416016\" xlink:href=\"#DejaVuSans-105\"/>\r\n      <use x=\"250.199219\" xlink:href=\"#DejaVuSans-99\"/>\r\n      <use x=\"305.179688\" xlink:href=\"#DejaVuSans-116\"/>\r\n      <use x=\"344.388672\" xlink:href=\"#DejaVuSans-101\"/>\r\n      <use x=\"405.912109\" xlink:href=\"#DejaVuSans-100\"/>\r\n      <use x=\"469.388672\" xlink:href=\"#DejaVuSans-32\"/>\r\n      <use x=\"501.175781\" xlink:href=\"#DejaVuSans-108\"/>\r\n      <use x=\"528.958984\" xlink:href=\"#DejaVuSans-97\"/>\r\n      <use x=\"590.238281\" xlink:href=\"#DejaVuSans-98\"/>\r\n      <use x=\"653.714844\" xlink:href=\"#DejaVuSans-101\"/>\r\n      <use x=\"715.238281\" xlink:href=\"#DejaVuSans-108\"/>\r\n     </g>\r\n    </g>\r\n   </g>\r\n   <g id=\"matplotlib.axis_2\">\r\n    <g id=\"ytick_1\">\r\n     <g id=\"line2d_7\">\r\n      <defs>\r\n       <path d=\"M 0 0 \r\nL -3.5 0 \r\n\" id=\"m65884d1ffb\" style=\"stroke:#000000;stroke-width:0.8;\"/>\r\n      </defs>\r\n      <g>\r\n       <use style=\"stroke:#000000;stroke-width:0.8;\" x=\"68.135938\" xlink:href=\"#m65884d1ffb\" y=\"101.58\"/>\r\n      </g>\r\n     </g>\r\n     <g id=\"text_8\">\r\n      <!-- angry -->\r\n      <g transform=\"translate(32.292188 105.379219)scale(0.1 -0.1)\">\r\n       <use xlink:href=\"#DejaVuSans-97\"/>\r\n       <use x=\"61.279297\" xlink:href=\"#DejaVuSans-110\"/>\r\n       <use x=\"124.658203\" xlink:href=\"#DejaVuSans-103\"/>\r\n       <use x=\"188.134766\" xlink:href=\"#DejaVuSans-114\"/>\r\n       <use x=\"229.248047\" xlink:href=\"#DejaVuSans-121\"/>\r\n      </g>\r\n     </g>\r\n    </g>\r\n    <g id=\"ytick_2\">\r\n     <g id=\"line2d_8\">\r\n      <g>\r\n       <use style=\"stroke:#000000;stroke-width:0.8;\" x=\"68.135938\" xlink:href=\"#m65884d1ffb\" y=\"183.42\"/>\r\n      </g>\r\n     </g>\r\n     <g id=\"text_9\">\r\n      <!-- disgust -->\r\n      <g transform=\"translate(24.984375 187.219219)scale(0.1 -0.1)\">\r\n       <use xlink:href=\"#DejaVuSans-100\"/>\r\n       <use x=\"63.476562\" xlink:href=\"#DejaVuSans-105\"/>\r\n       <use x=\"91.259766\" xlink:href=\"#DejaVuSans-115\"/>\r\n       <use x=\"143.359375\" xlink:href=\"#DejaVuSans-103\"/>\r\n       <use x=\"206.835938\" xlink:href=\"#DejaVuSans-117\"/>\r\n       <use x=\"270.214844\" xlink:href=\"#DejaVuSans-115\"/>\r\n       <use x=\"322.314453\" xlink:href=\"#DejaVuSans-116\"/>\r\n      </g>\r\n     </g>\r\n    </g>\r\n    <g id=\"ytick_3\">\r\n     <g id=\"line2d_9\">\r\n      <g>\r\n       <use style=\"stroke:#000000;stroke-width:0.8;\" x=\"68.135938\" xlink:href=\"#m65884d1ffb\" y=\"265.26\"/>\r\n      </g>\r\n     </g>\r\n     <g id=\"text_10\">\r\n      <!-- fear -->\r\n      <g transform=\"translate(41.223438 269.059219)scale(0.1 -0.1)\">\r\n       <use xlink:href=\"#DejaVuSans-102\"/>\r\n       <use x=\"35.205078\" xlink:href=\"#DejaVuSans-101\"/>\r\n       <use x=\"96.728516\" xlink:href=\"#DejaVuSans-97\"/>\r\n       <use x=\"158.007812\" xlink:href=\"#DejaVuSans-114\"/>\r\n      </g>\r\n     </g>\r\n    </g>\r\n    <g id=\"ytick_4\">\r\n     <g id=\"line2d_10\">\r\n      <g>\r\n       <use style=\"stroke:#000000;stroke-width:0.8;\" x=\"68.135938\" xlink:href=\"#m65884d1ffb\" y=\"347.1\"/>\r\n      </g>\r\n     </g>\r\n     <g id=\"text_11\">\r\n      <!-- happy -->\r\n      <g transform=\"translate(30.054688 350.899219)scale(0.1 -0.1)\">\r\n       <use xlink:href=\"#DejaVuSans-104\"/>\r\n       <use x=\"63.378906\" xlink:href=\"#DejaVuSans-97\"/>\r\n       <use x=\"124.658203\" xlink:href=\"#DejaVuSans-112\"/>\r\n       <use x=\"188.134766\" xlink:href=\"#DejaVuSans-112\"/>\r\n       <use x=\"251.611328\" xlink:href=\"#DejaVuSans-121\"/>\r\n      </g>\r\n     </g>\r\n    </g>\r\n    <g id=\"ytick_5\">\r\n     <g id=\"line2d_11\">\r\n      <g>\r\n       <use style=\"stroke:#000000;stroke-width:0.8;\" x=\"68.135938\" xlink:href=\"#m65884d1ffb\" y=\"428.94\"/>\r\n      </g>\r\n     </g>\r\n     <g id=\"text_12\">\r\n      <!-- sad -->\r\n      <g transform=\"translate(43.45 432.739219)scale(0.1 -0.1)\">\r\n       <use xlink:href=\"#DejaVuSans-115\"/>\r\n       <use x=\"52.099609\" xlink:href=\"#DejaVuSans-97\"/>\r\n       <use x=\"113.378906\" xlink:href=\"#DejaVuSans-100\"/>\r\n      </g>\r\n     </g>\r\n    </g>\r\n    <g id=\"ytick_6\">\r\n     <g id=\"line2d_12\">\r\n      <g>\r\n       <use style=\"stroke:#000000;stroke-width:0.8;\" x=\"68.135938\" xlink:href=\"#m65884d1ffb\" y=\"510.78\"/>\r\n      </g>\r\n     </g>\r\n     <g id=\"text_13\">\r\n      <!-- surprise -->\r\n      <g transform=\"translate(20.878125 514.579219)scale(0.1 -0.1)\">\r\n       <use xlink:href=\"#DejaVuSans-115\"/>\r\n       <use x=\"52.099609\" xlink:href=\"#DejaVuSans-117\"/>\r\n       <use x=\"115.478516\" xlink:href=\"#DejaVuSans-114\"/>\r\n       <use x=\"156.591797\" xlink:href=\"#DejaVuSans-112\"/>\r\n       <use x=\"220.068359\" xlink:href=\"#DejaVuSans-114\"/>\r\n       <use x=\"261.181641\" xlink:href=\"#DejaVuSans-105\"/>\r\n       <use x=\"288.964844\" xlink:href=\"#DejaVuSans-115\"/>\r\n       <use x=\"341.064453\" xlink:href=\"#DejaVuSans-101\"/>\r\n      </g>\r\n     </g>\r\n    </g>\r\n    <g id=\"text_14\">\r\n     <!-- True label -->\r\n     <g transform=\"translate(14.798438 330.479219)rotate(-90)scale(0.1 -0.1)\">\r\n      <defs>\r\n       <path d=\"M -0.296875 72.90625 \r\nL 61.375 72.90625 \r\nL 61.375 64.59375 \r\nL 35.5 64.59375 \r\nL 35.5 0 \r\nL 25.59375 0 \r\nL 25.59375 64.59375 \r\nL -0.296875 64.59375 \r\nz\r\n\" id=\"DejaVuSans-84\"/>\r\n      </defs>\r\n      <use xlink:href=\"#DejaVuSans-84\"/>\r\n      <use x=\"46.333984\" xlink:href=\"#DejaVuSans-114\"/>\r\n      <use x=\"87.447266\" xlink:href=\"#DejaVuSans-117\"/>\r\n      <use x=\"150.826172\" xlink:href=\"#DejaVuSans-101\"/>\r\n      <use x=\"212.349609\" xlink:href=\"#DejaVuSans-32\"/>\r\n      <use x=\"244.136719\" xlink:href=\"#DejaVuSans-108\"/>\r\n      <use x=\"271.919922\" xlink:href=\"#DejaVuSans-97\"/>\r\n      <use x=\"333.199219\" xlink:href=\"#DejaVuSans-98\"/>\r\n      <use x=\"396.675781\" xlink:href=\"#DejaVuSans-101\"/>\r\n      <use x=\"458.199219\" xlink:href=\"#DejaVuSans-108\"/>\r\n     </g>\r\n    </g>\r\n   </g>\r\n   <g id=\"patch_3\">\r\n    <path d=\"M 68.135938 551.7 \r\nL 68.135938 60.66 \r\n\" style=\"fill:none;stroke:#000000;stroke-linecap:square;stroke-linejoin:miter;stroke-width:0.8;\"/>\r\n   </g>\r\n   <g id=\"patch_4\">\r\n    <path d=\"M 559.175938 551.7 \r\nL 559.175938 60.66 \r\n\" style=\"fill:none;stroke:#000000;stroke-linecap:square;stroke-linejoin:miter;stroke-width:0.8;\"/>\r\n   </g>\r\n   <g id=\"patch_5\">\r\n    <path d=\"M 68.135938 551.7 \r\nL 559.175938 551.7 \r\n\" style=\"fill:none;stroke:#000000;stroke-linecap:square;stroke-linejoin:miter;stroke-width:0.8;\"/>\r\n   </g>\r\n   <g id=\"patch_6\">\r\n    <path d=\"M 68.135938 60.66 \r\nL 559.175938 60.66 \r\n\" style=\"fill:none;stroke:#000000;stroke-linecap:square;stroke-linejoin:miter;stroke-width:0.8;\"/>\r\n   </g>\r\n   <g id=\"text_15\">\r\n    <!-- 64 -->\r\n    <g style=\"fill:#67001f;\" transform=\"translate(102.693438 104.339375)scale(0.1 -0.1)\">\r\n     <defs>\r\n      <path d=\"M 33.015625 40.375 \r\nQ 26.375 40.375 22.484375 35.828125 \r\nQ 18.609375 31.296875 18.609375 23.390625 \r\nQ 18.609375 15.53125 22.484375 10.953125 \r\nQ 26.375 6.390625 33.015625 6.390625 \r\nQ 39.65625 6.390625 43.53125 10.953125 \r\nQ 47.40625 15.53125 47.40625 23.390625 \r\nQ 47.40625 31.296875 43.53125 35.828125 \r\nQ 39.65625 40.375 33.015625 40.375 \r\nz\r\nM 52.59375 71.296875 \r\nL 52.59375 62.3125 \r\nQ 48.875 64.0625 45.09375 64.984375 \r\nQ 41.3125 65.921875 37.59375 65.921875 \r\nQ 27.828125 65.921875 22.671875 59.328125 \r\nQ 17.53125 52.734375 16.796875 39.40625 \r\nQ 19.671875 43.65625 24.015625 45.921875 \r\nQ 28.375 48.1875 33.59375 48.1875 \r\nQ 44.578125 48.1875 50.953125 41.515625 \r\nQ 57.328125 34.859375 57.328125 23.390625 \r\nQ 57.328125 12.15625 50.6875 5.359375 \r\nQ 44.046875 -1.421875 33.015625 -1.421875 \r\nQ 20.359375 -1.421875 13.671875 8.265625 \r\nQ 6.984375 17.96875 6.984375 36.375 \r\nQ 6.984375 53.65625 15.1875 63.9375 \r\nQ 23.390625 74.21875 37.203125 74.21875 \r\nQ 40.921875 74.21875 44.703125 73.484375 \r\nQ 48.484375 72.75 52.59375 71.296875 \r\nz\r\n\" id=\"DejaVuSans-54\"/>\r\n      <path d=\"M 37.796875 64.3125 \r\nL 12.890625 25.390625 \r\nL 37.796875 25.390625 \r\nz\r\nM 35.203125 72.90625 \r\nL 47.609375 72.90625 \r\nL 47.609375 25.390625 \r\nL 58.015625 25.390625 \r\nL 58.015625 17.1875 \r\nL 47.609375 17.1875 \r\nL 47.609375 0 \r\nL 37.796875 0 \r\nL 37.796875 17.1875 \r\nL 4.890625 17.1875 \r\nL 4.890625 26.703125 \r\nz\r\n\" id=\"DejaVuSans-52\"/>\r\n     </defs>\r\n     <use xlink:href=\"#DejaVuSans-54\"/>\r\n     <use x=\"63.623047\" xlink:href=\"#DejaVuSans-52\"/>\r\n    </g>\r\n   </g>\r\n   <g id=\"text_16\">\r\n    <!-- 3.8 -->\r\n    <g style=\"fill:#053061;\" transform=\"translate(182.944375 104.339375)scale(0.1 -0.1)\">\r\n     <defs>\r\n      <path d=\"M 40.578125 39.3125 \r\nQ 47.65625 37.796875 51.625 33 \r\nQ 55.609375 28.21875 55.609375 21.1875 \r\nQ 55.609375 10.40625 48.1875 4.484375 \r\nQ 40.765625 -1.421875 27.09375 -1.421875 \r\nQ 22.515625 -1.421875 17.65625 -0.515625 \r\nQ 12.796875 0.390625 7.625 2.203125 \r\nL 7.625 11.71875 \r\nQ 11.71875 9.328125 16.59375 8.109375 \r\nQ 21.484375 6.890625 26.8125 6.890625 \r\nQ 36.078125 6.890625 40.9375 10.546875 \r\nQ 45.796875 14.203125 45.796875 21.1875 \r\nQ 45.796875 27.640625 41.28125 31.265625 \r\nQ 36.765625 34.90625 28.71875 34.90625 \r\nL 20.21875 34.90625 \r\nL 20.21875 43.015625 \r\nL 29.109375 43.015625 \r\nQ 36.375 43.015625 40.234375 45.921875 \r\nQ 44.09375 48.828125 44.09375 54.296875 \r\nQ 44.09375 59.90625 40.109375 62.90625 \r\nQ 36.140625 65.921875 28.71875 65.921875 \r\nQ 24.65625 65.921875 20.015625 65.03125 \r\nQ 15.375 64.15625 9.8125 62.3125 \r\nL 9.8125 71.09375 \r\nQ 15.4375 72.65625 20.34375 73.4375 \r\nQ 25.25 74.21875 29.59375 74.21875 \r\nQ 40.828125 74.21875 47.359375 69.109375 \r\nQ 53.90625 64.015625 53.90625 55.328125 \r\nQ 53.90625 49.265625 50.4375 45.09375 \r\nQ 46.96875 40.921875 40.578125 39.3125 \r\nz\r\n\" id=\"DejaVuSans-51\"/>\r\n      <path d=\"M 10.6875 12.40625 \r\nL 21 12.40625 \r\nL 21 0 \r\nL 10.6875 0 \r\nz\r\n\" id=\"DejaVuSans-46\"/>\r\n      <path d=\"M 31.78125 34.625 \r\nQ 24.75 34.625 20.71875 30.859375 \r\nQ 16.703125 27.09375 16.703125 20.515625 \r\nQ 16.703125 13.921875 20.71875 10.15625 \r\nQ 24.75 6.390625 31.78125 6.390625 \r\nQ 38.8125 6.390625 42.859375 10.171875 \r\nQ 46.921875 13.96875 46.921875 20.515625 \r\nQ 46.921875 27.09375 42.890625 30.859375 \r\nQ 38.875 34.625 31.78125 34.625 \r\nz\r\nM 21.921875 38.8125 \r\nQ 15.578125 40.375 12.03125 44.71875 \r\nQ 8.5 49.078125 8.5 55.328125 \r\nQ 8.5 64.0625 14.71875 69.140625 \r\nQ 20.953125 74.21875 31.78125 74.21875 \r\nQ 42.671875 74.21875 48.875 69.140625 \r\nQ 55.078125 64.0625 55.078125 55.328125 \r\nQ 55.078125 49.078125 51.53125 44.71875 \r\nQ 48 40.375 41.703125 38.8125 \r\nQ 48.828125 37.15625 52.796875 32.3125 \r\nQ 56.78125 27.484375 56.78125 20.515625 \r\nQ 56.78125 9.90625 50.3125 4.234375 \r\nQ 43.84375 -1.421875 31.78125 -1.421875 \r\nQ 19.734375 -1.421875 13.25 4.234375 \r\nQ 6.78125 9.90625 6.78125 20.515625 \r\nQ 6.78125 27.484375 10.78125 32.3125 \r\nQ 14.796875 37.15625 21.921875 38.8125 \r\nz\r\nM 18.3125 54.390625 \r\nQ 18.3125 48.734375 21.84375 45.5625 \r\nQ 25.390625 42.390625 31.78125 42.390625 \r\nQ 38.140625 42.390625 41.71875 45.5625 \r\nQ 45.3125 48.734375 45.3125 54.390625 \r\nQ 45.3125 60.0625 41.71875 63.234375 \r\nQ 38.140625 66.40625 31.78125 66.40625 \r\nQ 25.390625 66.40625 21.84375 63.234375 \r\nQ 18.3125 60.0625 18.3125 54.390625 \r\nz\r\n\" id=\"DejaVuSans-56\"/>\r\n     </defs>\r\n     <use xlink:href=\"#DejaVuSans-51\"/>\r\n     <use x=\"63.623047\" xlink:href=\"#DejaVuSans-46\"/>\r\n     <use x=\"95.410156\" xlink:href=\"#DejaVuSans-56\"/>\r\n    </g>\r\n   </g>\r\n   <g id=\"text_17\">\r\n    <!-- 4.6 -->\r\n    <g style=\"fill:#053061;\" transform=\"translate(264.784375 104.339375)scale(0.1 -0.1)\">\r\n     <use xlink:href=\"#DejaVuSans-52\"/>\r\n     <use x=\"63.623047\" xlink:href=\"#DejaVuSans-46\"/>\r\n     <use x=\"95.410156\" xlink:href=\"#DejaVuSans-54\"/>\r\n    </g>\r\n   </g>\r\n   <g id=\"text_18\">\r\n    <!-- 11 -->\r\n    <g style=\"fill:#053061;\" transform=\"translate(348.213437 104.339375)scale(0.1 -0.1)\">\r\n     <defs>\r\n      <path d=\"M 12.40625 8.296875 \r\nL 28.515625 8.296875 \r\nL 28.515625 63.921875 \r\nL 10.984375 60.40625 \r\nL 10.984375 69.390625 \r\nL 28.421875 72.90625 \r\nL 38.28125 72.90625 \r\nL 38.28125 8.296875 \r\nL 54.390625 8.296875 \r\nL 54.390625 0 \r\nL 12.40625 0 \r\nz\r\n\" id=\"DejaVuSans-49\"/>\r\n     </defs>\r\n     <use xlink:href=\"#DejaVuSans-49\"/>\r\n     <use x=\"63.623047\" xlink:href=\"#DejaVuSans-49\"/>\r\n    </g>\r\n   </g>\r\n   <g id=\"text_19\">\r\n    <!-- 14 -->\r\n    <g style=\"fill:#053061;\" transform=\"translate(430.053438 104.339375)scale(0.1 -0.1)\">\r\n     <use xlink:href=\"#DejaVuSans-49\"/>\r\n     <use x=\"63.623047\" xlink:href=\"#DejaVuSans-52\"/>\r\n    </g>\r\n   </g>\r\n   <g id=\"text_20\">\r\n    <!-- 1.9 -->\r\n    <g style=\"fill:#053061;\" transform=\"translate(510.304375 104.339375)scale(0.1 -0.1)\">\r\n     <defs>\r\n      <path d=\"M 10.984375 1.515625 \r\nL 10.984375 10.5 \r\nQ 14.703125 8.734375 18.5 7.8125 \r\nQ 22.3125 6.890625 25.984375 6.890625 \r\nQ 35.75 6.890625 40.890625 13.453125 \r\nQ 46.046875 20.015625 46.78125 33.40625 \r\nQ 43.953125 29.203125 39.59375 26.953125 \r\nQ 35.25 24.703125 29.984375 24.703125 \r\nQ 19.046875 24.703125 12.671875 31.3125 \r\nQ 6.296875 37.9375 6.296875 49.421875 \r\nQ 6.296875 60.640625 12.9375 67.421875 \r\nQ 19.578125 74.21875 30.609375 74.21875 \r\nQ 43.265625 74.21875 49.921875 64.515625 \r\nQ 56.59375 54.828125 56.59375 36.375 \r\nQ 56.59375 19.140625 48.40625 8.859375 \r\nQ 40.234375 -1.421875 26.421875 -1.421875 \r\nQ 22.703125 -1.421875 18.890625 -0.6875 \r\nQ 15.09375 0.046875 10.984375 1.515625 \r\nz\r\nM 30.609375 32.421875 \r\nQ 37.25 32.421875 41.125 36.953125 \r\nQ 45.015625 41.5 45.015625 49.421875 \r\nQ 45.015625 57.28125 41.125 61.84375 \r\nQ 37.25 66.40625 30.609375 66.40625 \r\nQ 23.96875 66.40625 20.09375 61.84375 \r\nQ 16.21875 57.28125 16.21875 49.421875 \r\nQ 16.21875 41.5 20.09375 36.953125 \r\nQ 23.96875 32.421875 30.609375 32.421875 \r\nz\r\n\" id=\"DejaVuSans-57\"/>\r\n     </defs>\r\n     <use xlink:href=\"#DejaVuSans-49\"/>\r\n     <use x=\"63.623047\" xlink:href=\"#DejaVuSans-46\"/>\r\n     <use x=\"95.410156\" xlink:href=\"#DejaVuSans-57\"/>\r\n    </g>\r\n   </g>\r\n   <g id=\"text_21\">\r\n    <!-- 6.1 -->\r\n    <g style=\"fill:#053061;\" transform=\"translate(101.104375 186.179375)scale(0.1 -0.1)\">\r\n     <use xlink:href=\"#DejaVuSans-54\"/>\r\n     <use x=\"63.623047\" xlink:href=\"#DejaVuSans-46\"/>\r\n     <use x=\"95.410156\" xlink:href=\"#DejaVuSans-49\"/>\r\n    </g>\r\n   </g>\r\n   <g id=\"text_22\">\r\n    <!-- 60 -->\r\n    <g style=\"fill:#67001f;\" transform=\"translate(184.533437 186.179375)scale(0.1 -0.1)\">\r\n     <defs>\r\n      <path d=\"M 31.78125 66.40625 \r\nQ 24.171875 66.40625 20.328125 58.90625 \r\nQ 16.5 51.421875 16.5 36.375 \r\nQ 16.5 21.390625 20.328125 13.890625 \r\nQ 24.171875 6.390625 31.78125 6.390625 \r\nQ 39.453125 6.390625 43.28125 13.890625 \r\nQ 47.125 21.390625 47.125 36.375 \r\nQ 47.125 51.421875 43.28125 58.90625 \r\nQ 39.453125 66.40625 31.78125 66.40625 \r\nz\r\nM 31.78125 74.21875 \r\nQ 44.046875 74.21875 50.515625 64.515625 \r\nQ 56.984375 54.828125 56.984375 36.375 \r\nQ 56.984375 17.96875 50.515625 8.265625 \r\nQ 44.046875 -1.421875 31.78125 -1.421875 \r\nQ 19.53125 -1.421875 13.0625 8.265625 \r\nQ 6.59375 17.96875 6.59375 36.375 \r\nQ 6.59375 54.828125 13.0625 64.515625 \r\nQ 19.53125 74.21875 31.78125 74.21875 \r\nz\r\n\" id=\"DejaVuSans-48\"/>\r\n     </defs>\r\n     <use xlink:href=\"#DejaVuSans-54\"/>\r\n     <use x=\"63.623047\" xlink:href=\"#DejaVuSans-48\"/>\r\n    </g>\r\n   </g>\r\n   <g id=\"text_23\">\r\n    <!-- 11 -->\r\n    <g style=\"fill:#053061;\" transform=\"translate(266.373438 186.179375)scale(0.1 -0.1)\">\r\n     <use xlink:href=\"#DejaVuSans-49\"/>\r\n     <use x=\"63.623047\" xlink:href=\"#DejaVuSans-49\"/>\r\n    </g>\r\n   </g>\r\n   <g id=\"text_24\">\r\n    <!-- 12 -->\r\n    <g style=\"fill:#053061;\" transform=\"translate(348.213437 186.179375)scale(0.1 -0.1)\">\r\n     <defs>\r\n      <path d=\"M 19.1875 8.296875 \r\nL 53.609375 8.296875 \r\nL 53.609375 0 \r\nL 7.328125 0 \r\nL 7.328125 8.296875 \r\nQ 12.9375 14.109375 22.625 23.890625 \r\nQ 32.328125 33.6875 34.8125 36.53125 \r\nQ 39.546875 41.84375 41.421875 45.53125 \r\nQ 43.3125 49.21875 43.3125 52.78125 \r\nQ 43.3125 58.59375 39.234375 62.25 \r\nQ 35.15625 65.921875 28.609375 65.921875 \r\nQ 23.96875 65.921875 18.8125 64.3125 \r\nQ 13.671875 62.703125 7.8125 59.421875 \r\nL 7.8125 69.390625 \r\nQ 13.765625 71.78125 18.9375 73 \r\nQ 24.125 74.21875 28.421875 74.21875 \r\nQ 39.75 74.21875 46.484375 68.546875 \r\nQ 53.21875 62.890625 53.21875 53.421875 \r\nQ 53.21875 48.921875 51.53125 44.890625 \r\nQ 49.859375 40.875 45.40625 35.40625 \r\nQ 44.1875 33.984375 37.640625 27.21875 \r\nQ 31.109375 20.453125 19.1875 8.296875 \r\nz\r\n\" id=\"DejaVuSans-50\"/>\r\n     </defs>\r\n     <use xlink:href=\"#DejaVuSans-49\"/>\r\n     <use x=\"63.623047\" xlink:href=\"#DejaVuSans-50\"/>\r\n    </g>\r\n   </g>\r\n   <g id=\"text_25\">\r\n    <!-- 6.8 -->\r\n    <g style=\"fill:#053061;\" transform=\"translate(428.464375 186.179375)scale(0.1 -0.1)\">\r\n     <use xlink:href=\"#DejaVuSans-54\"/>\r\n     <use x=\"63.623047\" xlink:href=\"#DejaVuSans-46\"/>\r\n     <use x=\"95.410156\" xlink:href=\"#DejaVuSans-56\"/>\r\n    </g>\r\n   </g>\r\n   <g id=\"text_26\">\r\n    <!-- 4.5 -->\r\n    <g style=\"fill:#053061;\" transform=\"translate(510.304375 186.179375)scale(0.1 -0.1)\">\r\n     <defs>\r\n      <path d=\"M 10.796875 72.90625 \r\nL 49.515625 72.90625 \r\nL 49.515625 64.59375 \r\nL 19.828125 64.59375 \r\nL 19.828125 46.734375 \r\nQ 21.96875 47.46875 24.109375 47.828125 \r\nQ 26.265625 48.1875 28.421875 48.1875 \r\nQ 40.625 48.1875 47.75 41.5 \r\nQ 54.890625 34.8125 54.890625 23.390625 \r\nQ 54.890625 11.625 47.5625 5.09375 \r\nQ 40.234375 -1.421875 26.90625 -1.421875 \r\nQ 22.3125 -1.421875 17.546875 -0.640625 \r\nQ 12.796875 0.140625 7.71875 1.703125 \r\nL 7.71875 11.625 \r\nQ 12.109375 9.234375 16.796875 8.0625 \r\nQ 21.484375 6.890625 26.703125 6.890625 \r\nQ 35.15625 6.890625 40.078125 11.328125 \r\nQ 45.015625 15.765625 45.015625 23.390625 \r\nQ 45.015625 31 40.078125 35.4375 \r\nQ 35.15625 39.890625 26.703125 39.890625 \r\nQ 22.75 39.890625 18.8125 39.015625 \r\nQ 14.890625 38.140625 10.796875 36.28125 \r\nz\r\n\" id=\"DejaVuSans-53\"/>\r\n     </defs>\r\n     <use xlink:href=\"#DejaVuSans-52\"/>\r\n     <use x=\"63.623047\" xlink:href=\"#DejaVuSans-46\"/>\r\n     <use x=\"95.410156\" xlink:href=\"#DejaVuSans-53\"/>\r\n    </g>\r\n   </g>\r\n   <g id=\"text_27\">\r\n    <!-- 9.4 -->\r\n    <g style=\"fill:#053061;\" transform=\"translate(101.104375 268.019375)scale(0.1 -0.1)\">\r\n     <use xlink:href=\"#DejaVuSans-57\"/>\r\n     <use x=\"63.623047\" xlink:href=\"#DejaVuSans-46\"/>\r\n     <use x=\"95.410156\" xlink:href=\"#DejaVuSans-52\"/>\r\n    </g>\r\n   </g>\r\n   <g id=\"text_28\">\r\n    <!-- 5.8 -->\r\n    <g style=\"fill:#053061;\" transform=\"translate(182.944375 268.019375)scale(0.1 -0.1)\">\r\n     <use xlink:href=\"#DejaVuSans-53\"/>\r\n     <use x=\"63.623047\" xlink:href=\"#DejaVuSans-46\"/>\r\n     <use x=\"95.410156\" xlink:href=\"#DejaVuSans-56\"/>\r\n    </g>\r\n   </g>\r\n   <g id=\"text_29\">\r\n    <!-- 54 -->\r\n    <g style=\"fill:#67001f;\" transform=\"translate(266.373438 268.019375)scale(0.1 -0.1)\">\r\n     <use xlink:href=\"#DejaVuSans-53\"/>\r\n     <use x=\"63.623047\" xlink:href=\"#DejaVuSans-52\"/>\r\n    </g>\r\n   </g>\r\n   <g id=\"text_30\">\r\n    <!-- 19 -->\r\n    <g style=\"fill:#053061;\" transform=\"translate(348.213437 268.019375)scale(0.1 -0.1)\">\r\n     <use xlink:href=\"#DejaVuSans-49\"/>\r\n     <use x=\"63.623047\" xlink:href=\"#DejaVuSans-57\"/>\r\n    </g>\r\n   </g>\r\n   <g id=\"text_31\">\r\n    <!-- 10 -->\r\n    <g style=\"fill:#053061;\" transform=\"translate(430.053438 268.019375)scale(0.1 -0.1)\">\r\n     <use xlink:href=\"#DejaVuSans-49\"/>\r\n     <use x=\"63.623047\" xlink:href=\"#DejaVuSans-48\"/>\r\n    </g>\r\n   </g>\r\n   <g id=\"text_32\">\r\n    <!-- 2.2 -->\r\n    <g style=\"fill:#053061;\" transform=\"translate(510.304375 268.019375)scale(0.1 -0.1)\">\r\n     <use xlink:href=\"#DejaVuSans-50\"/>\r\n     <use x=\"63.623047\" xlink:href=\"#DejaVuSans-46\"/>\r\n     <use x=\"95.410156\" xlink:href=\"#DejaVuSans-50\"/>\r\n    </g>\r\n   </g>\r\n   <g id=\"text_33\">\r\n    <!-- 4.3 -->\r\n    <g style=\"fill:#053061;\" transform=\"translate(101.104375 349.859375)scale(0.1 -0.1)\">\r\n     <use xlink:href=\"#DejaVuSans-52\"/>\r\n     <use x=\"63.623047\" xlink:href=\"#DejaVuSans-46\"/>\r\n     <use x=\"95.410156\" xlink:href=\"#DejaVuSans-51\"/>\r\n    </g>\r\n   </g>\r\n   <g id=\"text_34\">\r\n    <!-- 2.1 -->\r\n    <g style=\"fill:#053061;\" transform=\"translate(182.944375 349.859375)scale(0.1 -0.1)\">\r\n     <use xlink:href=\"#DejaVuSans-50\"/>\r\n     <use x=\"63.623047\" xlink:href=\"#DejaVuSans-46\"/>\r\n     <use x=\"95.410156\" xlink:href=\"#DejaVuSans-49\"/>\r\n    </g>\r\n   </g>\r\n   <g id=\"text_35\">\r\n    <!-- 4.9 -->\r\n    <g style=\"fill:#053061;\" transform=\"translate(264.784375 349.859375)scale(0.1 -0.1)\">\r\n     <use xlink:href=\"#DejaVuSans-52\"/>\r\n     <use x=\"63.623047\" xlink:href=\"#DejaVuSans-46\"/>\r\n     <use x=\"95.410156\" xlink:href=\"#DejaVuSans-57\"/>\r\n    </g>\r\n   </g>\r\n   <g id=\"text_36\">\r\n    <!-- 74 -->\r\n    <g style=\"fill:#67001f;\" transform=\"translate(348.213437 349.859375)scale(0.1 -0.1)\">\r\n     <defs>\r\n      <path d=\"M 8.203125 72.90625 \r\nL 55.078125 72.90625 \r\nL 55.078125 68.703125 \r\nL 28.609375 0 \r\nL 18.3125 0 \r\nL 43.21875 64.59375 \r\nL 8.203125 64.59375 \r\nz\r\n\" id=\"DejaVuSans-55\"/>\r\n     </defs>\r\n     <use xlink:href=\"#DejaVuSans-55\"/>\r\n     <use x=\"63.623047\" xlink:href=\"#DejaVuSans-52\"/>\r\n    </g>\r\n   </g>\r\n   <g id=\"text_37\">\r\n    <!-- 12 -->\r\n    <g style=\"fill:#053061;\" transform=\"translate(430.053438 349.859375)scale(0.1 -0.1)\">\r\n     <use xlink:href=\"#DejaVuSans-49\"/>\r\n     <use x=\"63.623047\" xlink:href=\"#DejaVuSans-50\"/>\r\n    </g>\r\n   </g>\r\n   <g id=\"text_38\">\r\n    <!-- 3.4 -->\r\n    <g style=\"fill:#053061;\" transform=\"translate(510.304375 349.859375)scale(0.1 -0.1)\">\r\n     <use xlink:href=\"#DejaVuSans-51\"/>\r\n     <use x=\"63.623047\" xlink:href=\"#DejaVuSans-46\"/>\r\n     <use x=\"95.410156\" xlink:href=\"#DejaVuSans-52\"/>\r\n    </g>\r\n   </g>\r\n   <g id=\"text_39\">\r\n    <!-- 7.3 -->\r\n    <g style=\"fill:#053061;\" transform=\"translate(101.104375 431.699375)scale(0.1 -0.1)\">\r\n     <use xlink:href=\"#DejaVuSans-55\"/>\r\n     <use x=\"63.623047\" xlink:href=\"#DejaVuSans-46\"/>\r\n     <use x=\"95.410156\" xlink:href=\"#DejaVuSans-51\"/>\r\n    </g>\r\n   </g>\r\n   <g id=\"text_40\">\r\n    <!-- 2 -->\r\n    <g style=\"fill:#053061;\" transform=\"translate(187.714687 431.699375)scale(0.1 -0.1)\">\r\n     <use xlink:href=\"#DejaVuSans-50\"/>\r\n    </g>\r\n   </g>\r\n   <g id=\"text_41\">\r\n    <!-- 4.5 -->\r\n    <g style=\"fill:#053061;\" transform=\"translate(264.784375 431.699375)scale(0.1 -0.1)\">\r\n     <use xlink:href=\"#DejaVuSans-52\"/>\r\n     <use x=\"63.623047\" xlink:href=\"#DejaVuSans-46\"/>\r\n     <use x=\"95.410156\" xlink:href=\"#DejaVuSans-53\"/>\r\n    </g>\r\n   </g>\r\n   <g id=\"text_42\">\r\n    <!-- 13 -->\r\n    <g style=\"fill:#053061;\" transform=\"translate(348.213437 431.699375)scale(0.1 -0.1)\">\r\n     <use xlink:href=\"#DejaVuSans-49\"/>\r\n     <use x=\"63.623047\" xlink:href=\"#DejaVuSans-51\"/>\r\n    </g>\r\n   </g>\r\n   <g id=\"text_43\">\r\n    <!-- 72 -->\r\n    <g style=\"fill:#67001f;\" transform=\"translate(430.053438 431.699375)scale(0.1 -0.1)\">\r\n     <use xlink:href=\"#DejaVuSans-55\"/>\r\n     <use x=\"63.623047\" xlink:href=\"#DejaVuSans-50\"/>\r\n    </g>\r\n   </g>\r\n   <g id=\"text_44\">\r\n    <!-- 0.89 -->\r\n    <g style=\"fill:#053061;\" transform=\"translate(507.123125 431.699375)scale(0.1 -0.1)\">\r\n     <use xlink:href=\"#DejaVuSans-48\"/>\r\n     <use x=\"63.623047\" xlink:href=\"#DejaVuSans-46\"/>\r\n     <use x=\"95.410156\" xlink:href=\"#DejaVuSans-56\"/>\r\n     <use x=\"159.033203\" xlink:href=\"#DejaVuSans-57\"/>\r\n    </g>\r\n   </g>\r\n   <g id=\"text_45\">\r\n    <!-- 2.1 -->\r\n    <g style=\"fill:#053061;\" transform=\"translate(101.104375 513.539375)scale(0.1 -0.1)\">\r\n     <use xlink:href=\"#DejaVuSans-50\"/>\r\n     <use x=\"63.623047\" xlink:href=\"#DejaVuSans-46\"/>\r\n     <use x=\"95.410156\" xlink:href=\"#DejaVuSans-49\"/>\r\n    </g>\r\n   </g>\r\n   <g id=\"text_46\">\r\n    <!-- 2.1 -->\r\n    <g style=\"fill:#053061;\" transform=\"translate(182.944375 513.539375)scale(0.1 -0.1)\">\r\n     <use xlink:href=\"#DejaVuSans-50\"/>\r\n     <use x=\"63.623047\" xlink:href=\"#DejaVuSans-46\"/>\r\n     <use x=\"95.410156\" xlink:href=\"#DejaVuSans-49\"/>\r\n    </g>\r\n   </g>\r\n   <g id=\"text_47\">\r\n    <!-- 12 -->\r\n    <g style=\"fill:#053061;\" transform=\"translate(266.373438 513.539375)scale(0.1 -0.1)\">\r\n     <use xlink:href=\"#DejaVuSans-49\"/>\r\n     <use x=\"63.623047\" xlink:href=\"#DejaVuSans-50\"/>\r\n    </g>\r\n   </g>\r\n   <g id=\"text_48\">\r\n    <!-- 8.3 -->\r\n    <g style=\"fill:#053061;\" transform=\"translate(346.624375 513.539375)scale(0.1 -0.1)\">\r\n     <use xlink:href=\"#DejaVuSans-56\"/>\r\n     <use x=\"63.623047\" xlink:href=\"#DejaVuSans-46\"/>\r\n     <use x=\"95.410156\" xlink:href=\"#DejaVuSans-51\"/>\r\n    </g>\r\n   </g>\r\n   <g id=\"text_49\">\r\n    <!-- 8.3 -->\r\n    <g style=\"fill:#053061;\" transform=\"translate(428.464375 513.539375)scale(0.1 -0.1)\">\r\n     <use xlink:href=\"#DejaVuSans-56\"/>\r\n     <use x=\"63.623047\" xlink:href=\"#DejaVuSans-46\"/>\r\n     <use x=\"95.410156\" xlink:href=\"#DejaVuSans-51\"/>\r\n    </g>\r\n   </g>\r\n   <g id=\"text_50\">\r\n    <!-- 67 -->\r\n    <g style=\"fill:#67001f;\" transform=\"translate(511.893438 513.539375)scale(0.1 -0.1)\">\r\n     <use xlink:href=\"#DejaVuSans-54\"/>\r\n     <use x=\"63.623047\" xlink:href=\"#DejaVuSans-55\"/>\r\n    </g>\r\n   </g>\r\n  </g>\r\n  <g id=\"axes_2\">\r\n   <g id=\"patch_7\">\r\n    <path clip-path=\"url(#pae26641e39)\" d=\"M 589.865938 605.16 \r\nL 589.865938 602.824219 \r\nL 589.865938 9.535781 \r\nL 589.865938 7.2 \r\nL 619.763937 7.2 \r\nL 619.763937 9.535781 \r\nL 619.763937 602.824219 \r\nL 619.763937 605.16 \r\nz\r\n\" style=\"fill:#ffffff;stroke:#ffffff;stroke-linejoin:miter;stroke-width:0.01;\"/>\r\n   </g>\r\n   <image height=\"598\" id=\"image0933f88727\" transform=\"scale(1 -1)translate(0 -598)\" width=\"30\" x=\"590\" xlink:href=\"data:image/png;base64,\r\niVBORw0KGgoAAAANSUhEUgAAAB4AAAJWCAYAAABPpDeKAAAC50lEQVR4nO2cwXGDQBAED7g8HJ7z/xtwFr1VdHcCV7M3MywqScfv+nnXAOfEoWutta9j5uBJxTOSxxRnLgyfuXx3nLkwfOby3fHcqKdOzlwYvgLJXBg+c/nuOHNh+Mzlu+NGjVGcMJRxylwM3fH3D85cGIMfN9kUz436GMrToLl0io9r5uzihFGcMPZxFicGo7mEiosTgzFOp03xWZwglF1tU1ycKIzm0j2dWvYojMueUHFxYjDGSfd0atmjqKsx+qD8+wf7mssXp0aN4WuufVzXyMHFCWPycy6bYt0dN2oM5dNJprhRYxjfnWwFUpwwjIqLE8Q+ba+pxjjZFNdcGD5z+RQXJ4x9nLbn8bIpnhy1Lk669bY4UfhGLXwe6+64UWMUJ4zihNGyh+Fb6IsThvKjiOLEoDSXT3FxYlCuPilmMMbJ1lw+c+11yO64UWPsV6dYd8eTo7b91Fv3JuErkJoLI8UYwjjpmstnLt8GkrkwjAViW2+LE0aKMYRxEna1UHHLHoPQXBUIhTBOr6259vvOHDyn+BmSbIzT0MGT5po5eLJAihOD0VxDB3fH3z/Y11z7GTq49fb7B/uaqwLBEMZJ11y+F3PfetvTCcNYIEtWIJkLowLBEMZJ11w+c/nW27lR30PvqZkLY982xZkLowLBEMZJ11zCd6d7SLIwTrrm2rcuTro7rrkwfObyFUjmwtiPrkCKE4UwTsK3RVuB1FwYFQiGMU625koxRnHCSDGGT3GjxkgxRnHCmFP8Z1OcuTCMinsxhzCaK8UQyjjNfD8yc2H4FLdXY/jM5VPcqDFSjCGM02sbte8LKL5/MipOGMY42X4+WHNhKOMkU9yoMYRfCNXdcaPGMD6dbAXSXo1hjJNNcaPGaNnDKE4YPZ0wWvYwihPG5B3fIwcr4yQbtVHxLVOcuTBSjFGcMFKMsR+b4syFYVTcsgdhNFeKIZRxsv18UGcun+L2agzf6lOcMHyjTjGGL07/hsFqThj/bBkAAAAASUVORK5CYII=\" y=\"-7\"/>\r\n   <g id=\"matplotlib.axis_3\"/>\r\n   <g id=\"matplotlib.axis_4\">\r\n    <g id=\"ytick_7\">\r\n     <g id=\"line2d_13\">\r\n      <defs>\r\n       <path d=\"M 0 0 \r\nL 3.5 0 \r\n\" id=\"mff7b29f8fa\" style=\"stroke:#000000;stroke-width:0.8;\"/>\r\n      </defs>\r\n      <g>\r\n       <use style=\"stroke:#000000;stroke-width:0.8;\" x=\"619.763937\" xlink:href=\"#mff7b29f8fa\" y=\"530.317174\"/>\r\n      </g>\r\n     </g>\r\n     <g id=\"text_51\">\r\n      <!-- 10 -->\r\n      <g transform=\"translate(626.763937 534.116392)scale(0.1 -0.1)\">\r\n       <use xlink:href=\"#DejaVuSans-49\"/>\r\n       <use x=\"63.623047\" xlink:href=\"#DejaVuSans-48\"/>\r\n      </g>\r\n     </g>\r\n    </g>\r\n    <g id=\"ytick_8\">\r\n     <g id=\"line2d_14\">\r\n      <g>\r\n       <use style=\"stroke:#000000;stroke-width:0.8;\" x=\"619.763937\" xlink:href=\"#mff7b29f8fa\" y=\"448.151174\"/>\r\n      </g>\r\n     </g>\r\n     <g id=\"text_52\">\r\n      <!-- 20 -->\r\n      <g transform=\"translate(626.763937 451.950393)scale(0.1 -0.1)\">\r\n       <use xlink:href=\"#DejaVuSans-50\"/>\r\n       <use x=\"63.623047\" xlink:href=\"#DejaVuSans-48\"/>\r\n      </g>\r\n     </g>\r\n    </g>\r\n    <g id=\"ytick_9\">\r\n     <g id=\"line2d_15\">\r\n      <g>\r\n       <use style=\"stroke:#000000;stroke-width:0.8;\" x=\"619.763937\" xlink:href=\"#mff7b29f8fa\" y=\"365.985175\"/>\r\n      </g>\r\n     </g>\r\n     <g id=\"text_53\">\r\n      <!-- 30 -->\r\n      <g transform=\"translate(626.763937 369.784394)scale(0.1 -0.1)\">\r\n       <use xlink:href=\"#DejaVuSans-51\"/>\r\n       <use x=\"63.623047\" xlink:href=\"#DejaVuSans-48\"/>\r\n      </g>\r\n     </g>\r\n    </g>\r\n    <g id=\"ytick_10\">\r\n     <g id=\"line2d_16\">\r\n      <g>\r\n       <use style=\"stroke:#000000;stroke-width:0.8;\" x=\"619.763937\" xlink:href=\"#mff7b29f8fa\" y=\"283.819176\"/>\r\n      </g>\r\n     </g>\r\n     <g id=\"text_54\">\r\n      <!-- 40 -->\r\n      <g transform=\"translate(626.763937 287.618395)scale(0.1 -0.1)\">\r\n       <use xlink:href=\"#DejaVuSans-52\"/>\r\n       <use x=\"63.623047\" xlink:href=\"#DejaVuSans-48\"/>\r\n      </g>\r\n     </g>\r\n    </g>\r\n    <g id=\"ytick_11\">\r\n     <g id=\"line2d_17\">\r\n      <g>\r\n       <use style=\"stroke:#000000;stroke-width:0.8;\" x=\"619.763937\" xlink:href=\"#mff7b29f8fa\" y=\"201.653177\"/>\r\n      </g>\r\n     </g>\r\n     <g id=\"text_55\">\r\n      <!-- 50 -->\r\n      <g transform=\"translate(626.763937 205.452396)scale(0.1 -0.1)\">\r\n       <use xlink:href=\"#DejaVuSans-53\"/>\r\n       <use x=\"63.623047\" xlink:href=\"#DejaVuSans-48\"/>\r\n      </g>\r\n     </g>\r\n    </g>\r\n    <g id=\"ytick_12\">\r\n     <g id=\"line2d_18\">\r\n      <g>\r\n       <use style=\"stroke:#000000;stroke-width:0.8;\" x=\"619.763937\" xlink:href=\"#mff7b29f8fa\" y=\"119.487178\"/>\r\n      </g>\r\n     </g>\r\n     <g id=\"text_56\">\r\n      <!-- 60 -->\r\n      <g transform=\"translate(626.763937 123.286396)scale(0.1 -0.1)\">\r\n       <use xlink:href=\"#DejaVuSans-54\"/>\r\n       <use x=\"63.623047\" xlink:href=\"#DejaVuSans-48\"/>\r\n      </g>\r\n     </g>\r\n    </g>\r\n    <g id=\"ytick_13\">\r\n     <g id=\"line2d_19\">\r\n      <g>\r\n       <use style=\"stroke:#000000;stroke-width:0.8;\" x=\"619.763937\" xlink:href=\"#mff7b29f8fa\" y=\"37.321178\"/>\r\n      </g>\r\n     </g>\r\n     <g id=\"text_57\">\r\n      <!-- 70 -->\r\n      <g transform=\"translate(626.763937 41.120397)scale(0.1 -0.1)\">\r\n       <use xlink:href=\"#DejaVuSans-55\"/>\r\n       <use x=\"63.623047\" xlink:href=\"#DejaVuSans-48\"/>\r\n      </g>\r\n     </g>\r\n    </g>\r\n   </g>\r\n   <g id=\"patch_8\">\r\n    <path d=\"M 589.865938 605.16 \r\nL 589.865938 602.824219 \r\nL 589.865938 9.535781 \r\nL 589.865938 7.2 \r\nL 619.763937 7.2 \r\nL 619.763937 9.535781 \r\nL 619.763937 602.824219 \r\nL 619.763937 605.16 \r\nz\r\n\" style=\"fill:none;stroke:#000000;stroke-linejoin:miter;stroke-width:0.8;\"/>\r\n   </g>\r\n  </g>\r\n </g>\r\n <defs>\r\n  <clipPath id=\"p6558d51dd0\">\r\n   <rect height=\"491.04\" width=\"491.04\" x=\"68.135938\" y=\"60.66\"/>\r\n  </clipPath>\r\n  <clipPath id=\"pae26641e39\">\r\n   <rect height=\"597.96\" width=\"29.898\" x=\"589.865938\" y=\"7.2\"/>\r\n  </clipPath>\r\n </defs>\r\n</svg>\r\n",
      "image/png": "[encoded data removed]"
     },
     "metadata": {
      "needs_background": "light"
     }
    }
   ],
   "source": [
    "# sns.set(font_scale=1.5)\n",
    "fig, ax = plt.subplots(1,1,figsize=(11,11))\n",
    "\n",
    "cat_dict = dict( enumerate(dataset['Feeling'].cat.categories ) )\n",
    "\n",
    "y_pred_cats = [cat_dict[i] for i in y_pred.cpu().numpy().tolist()]\n",
    "y_true_cats = [cat_dict[i] for i in y_true.cpu().numpy().tolist()]\n",
    "\n",
    "matriz_de_confusao = 100*confusion_matrix(y_pred_cats, y_true_cats, normalize='true', labels=list(cat_dict.values()))\n",
    "# normalize{‘true’, ‘pred’, ‘all’}, default=None\n",
    "# Normalizes confusion matrix over the true (rows), predicted (columns) conditions or all the population. If None, confusion matrix will not be normalized.\n",
    "\n",
    "#criando list com as emoções\n",
    "emotion_class = ['Angry','Disgust','Fear','Happy','Sad','Surprise']\n",
    "\n",
    "df_matriz_de_confusao = pd.DataFrame(matriz_de_confusao, emotion_class, emotion_class)\n",
    "\n",
    "cfm = ConfusionMatrixDisplay(matriz_de_confusao)\n",
    "\n",
    "cfm.plot(ax=ax, cmap='RdBu')\n",
    "\n",
    "ax.set_xticklabels(labels=list(cat_dict.values()))\n",
    "ax.set_yticklabels(labels=list(cat_dict.values()))\n",
    "\n",
    "ax.grid(False)"
   ]
  },
  {
   "cell_type": "code",
   "execution_count": 33,
   "metadata": {},
   "outputs": [],
   "source": [
    "# matriz_de_confusao"
   ]
  },
  {
   "cell_type": "code",
   "execution_count": 34,
   "metadata": {},
   "outputs": [
    {
     "output_type": "execute_result",
     "data": {
      "text/plain": [
       "0.9452140272057906"
      ]
     },
     "metadata": {},
     "execution_count": 34
    }
   ],
   "source": [
    "accs[-1]"
   ]
  },
  {
   "cell_type": "code",
   "execution_count": 35,
   "metadata": {},
   "outputs": [
    {
     "output_type": "stream",
     "name": "stdout",
     "text": [
      "69.46%\n"
     ]
    }
   ],
   "source": [
    "test_acc = calc_accuracy(Y_pred_tensor.cpu(), y_true.cpu())     # calcula a taxa de acerto atual\n",
    "print(f'{100*test_acc:.2f}%')"
   ]
  },
  {
   "source": [
    "### Gráfico de *loss* e *accuracy*"
   ],
   "cell_type": "markdown",
   "metadata": {}
  },
  {
   "cell_type": "code",
   "execution_count": 36,
   "metadata": {},
   "outputs": [
    {
     "output_type": "display_data",
     "data": {
      "text/plain": "<Figure size 1152x432 with 2 Axes>",
      "image/svg+xml": "<?xml version=\"1.0\" encoding=\"utf-8\" standalone=\"no\"?>\r\n<!DOCTYPE svg PUBLIC \"-//W3C//DTD SVG 1.1//EN\"\r\n  \"http://www.w3.org/Graphics/SVG/1.1/DTD/svg11.dtd\">\r\n<!-- Created with matplotlib (https://matplotlib.org/) -->\r\n<svg height=\"414.11625pt\" version=\"1.1\" viewBox=\"0 0 943.78125 414.11625\" width=\"943.78125pt\" xmlns=\"http://www.w3.org/2000/svg\" xmlns:xlink=\"http://www.w3.org/1999/xlink\">\r\n <metadata>\r\n  <rdf:RDF xmlns:cc=\"http://creativecommons.org/ns#\" xmlns:dc=\"http://purl.org/dc/elements/1.1/\" xmlns:rdf=\"http://www.w3.org/1999/02/22-rdf-syntax-ns#\">\r\n   <cc:Work>\r\n    <dc:type rdf:resource=\"http://purl.org/dc/dcmitype/StillImage\"/>\r\n    <dc:date>2021-05-04T18:50:13.736880</dc:date>\r\n    <dc:format>image/svg+xml</dc:format>\r\n    <dc:creator>\r\n     <cc:Agent>\r\n      <dc:title>Matplotlib v3.3.2, https://matplotlib.org/</dc:title>\r\n     </cc:Agent>\r\n    </dc:creator>\r\n   </cc:Work>\r\n  </rdf:RDF>\r\n </metadata>\r\n <defs>\r\n  <style type=\"text/css\">*{stroke-linecap:butt;stroke-linejoin:round;}</style>\r\n </defs>\r\n <g id=\"figure_1\">\r\n  <g id=\"patch_1\">\r\n   <path d=\"M 0 414.11625 \r\nL 943.78125 414.11625 \r\nL 943.78125 0 \r\nL 0 0 \r\nz\r\n\" style=\"fill:none;\"/>\r\n  </g>\r\n  <g id=\"axes_1\">\r\n   <g id=\"patch_2\">\r\n    <path d=\"M 43.78125 376.56 \r\nL 449.599432 376.56 \r\nL 449.599432 50.4 \r\nL 43.78125 50.4 \r\nz\r\n\" style=\"fill:#ffffff;\"/>\r\n   </g>\r\n   <g id=\"matplotlib.axis_1\">\r\n    <g id=\"xtick_1\">\r\n     <g id=\"line2d_1\">\r\n      <defs>\r\n       <path d=\"M 0 0 \r\nL 0 3.5 \r\n\" id=\"m335743e6b8\" style=\"stroke:#000000;stroke-width:0.8;\"/>\r\n      </defs>\r\n      <g>\r\n       <use style=\"stroke:#000000;stroke-width:0.8;\" x=\"62.227531\" xlink:href=\"#m335743e6b8\" y=\"376.56\"/>\r\n      </g>\r\n     </g>\r\n     <g id=\"text_1\">\r\n      <!-- 0 -->\r\n      <g transform=\"translate(59.046281 391.158437)scale(0.1 -0.1)\">\r\n       <defs>\r\n        <path d=\"M 31.78125 66.40625 \r\nQ 24.171875 66.40625 20.328125 58.90625 \r\nQ 16.5 51.421875 16.5 36.375 \r\nQ 16.5 21.390625 20.328125 13.890625 \r\nQ 24.171875 6.390625 31.78125 6.390625 \r\nQ 39.453125 6.390625 43.28125 13.890625 \r\nQ 47.125 21.390625 47.125 36.375 \r\nQ 47.125 51.421875 43.28125 58.90625 \r\nQ 39.453125 66.40625 31.78125 66.40625 \r\nz\r\nM 31.78125 74.21875 \r\nQ 44.046875 74.21875 50.515625 64.515625 \r\nQ 56.984375 54.828125 56.984375 36.375 \r\nQ 56.984375 17.96875 50.515625 8.265625 \r\nQ 44.046875 -1.421875 31.78125 -1.421875 \r\nQ 19.53125 -1.421875 13.0625 8.265625 \r\nQ 6.59375 17.96875 6.59375 36.375 \r\nQ 6.59375 54.828125 13.0625 64.515625 \r\nQ 19.53125 74.21875 31.78125 74.21875 \r\nz\r\n\" id=\"DejaVuSans-48\"/>\r\n       </defs>\r\n       <use xlink:href=\"#DejaVuSans-48\"/>\r\n      </g>\r\n     </g>\r\n    </g>\r\n    <g id=\"xtick_2\">\r\n     <g id=\"line2d_2\">\r\n      <g>\r\n       <use style=\"stroke:#000000;stroke-width:0.8;\" x=\"136.027415\" xlink:href=\"#m335743e6b8\" y=\"376.56\"/>\r\n      </g>\r\n     </g>\r\n     <g id=\"text_2\">\r\n      <!-- 1000 -->\r\n      <g transform=\"translate(123.302415 391.158437)scale(0.1 -0.1)\">\r\n       <defs>\r\n        <path d=\"M 12.40625 8.296875 \r\nL 28.515625 8.296875 \r\nL 28.515625 63.921875 \r\nL 10.984375 60.40625 \r\nL 10.984375 69.390625 \r\nL 28.421875 72.90625 \r\nL 38.28125 72.90625 \r\nL 38.28125 8.296875 \r\nL 54.390625 8.296875 \r\nL 54.390625 0 \r\nL 12.40625 0 \r\nz\r\n\" id=\"DejaVuSans-49\"/>\r\n       </defs>\r\n       <use xlink:href=\"#DejaVuSans-49\"/>\r\n       <use x=\"63.623047\" xlink:href=\"#DejaVuSans-48\"/>\r\n       <use x=\"127.246094\" xlink:href=\"#DejaVuSans-48\"/>\r\n       <use x=\"190.869141\" xlink:href=\"#DejaVuSans-48\"/>\r\n      </g>\r\n     </g>\r\n    </g>\r\n    <g id=\"xtick_3\">\r\n     <g id=\"line2d_3\">\r\n      <g>\r\n       <use style=\"stroke:#000000;stroke-width:0.8;\" x=\"209.827299\" xlink:href=\"#m335743e6b8\" y=\"376.56\"/>\r\n      </g>\r\n     </g>\r\n     <g id=\"text_3\">\r\n      <!-- 2000 -->\r\n      <g transform=\"translate(197.102299 391.158437)scale(0.1 -0.1)\">\r\n       <defs>\r\n        <path d=\"M 19.1875 8.296875 \r\nL 53.609375 8.296875 \r\nL 53.609375 0 \r\nL 7.328125 0 \r\nL 7.328125 8.296875 \r\nQ 12.9375 14.109375 22.625 23.890625 \r\nQ 32.328125 33.6875 34.8125 36.53125 \r\nQ 39.546875 41.84375 41.421875 45.53125 \r\nQ 43.3125 49.21875 43.3125 52.78125 \r\nQ 43.3125 58.59375 39.234375 62.25 \r\nQ 35.15625 65.921875 28.609375 65.921875 \r\nQ 23.96875 65.921875 18.8125 64.3125 \r\nQ 13.671875 62.703125 7.8125 59.421875 \r\nL 7.8125 69.390625 \r\nQ 13.765625 71.78125 18.9375 73 \r\nQ 24.125 74.21875 28.421875 74.21875 \r\nQ 39.75 74.21875 46.484375 68.546875 \r\nQ 53.21875 62.890625 53.21875 53.421875 \r\nQ 53.21875 48.921875 51.53125 44.890625 \r\nQ 49.859375 40.875 45.40625 35.40625 \r\nQ 44.1875 33.984375 37.640625 27.21875 \r\nQ 31.109375 20.453125 19.1875 8.296875 \r\nz\r\n\" id=\"DejaVuSans-50\"/>\r\n       </defs>\r\n       <use xlink:href=\"#DejaVuSans-50\"/>\r\n       <use x=\"63.623047\" xlink:href=\"#DejaVuSans-48\"/>\r\n       <use x=\"127.246094\" xlink:href=\"#DejaVuSans-48\"/>\r\n       <use x=\"190.869141\" xlink:href=\"#DejaVuSans-48\"/>\r\n      </g>\r\n     </g>\r\n    </g>\r\n    <g id=\"xtick_4\">\r\n     <g id=\"line2d_4\">\r\n      <g>\r\n       <use style=\"stroke:#000000;stroke-width:0.8;\" x=\"283.627183\" xlink:href=\"#m335743e6b8\" y=\"376.56\"/>\r\n      </g>\r\n     </g>\r\n     <g id=\"text_4\">\r\n      <!-- 3000 -->\r\n      <g transform=\"translate(270.902183 391.158437)scale(0.1 -0.1)\">\r\n       <defs>\r\n        <path d=\"M 40.578125 39.3125 \r\nQ 47.65625 37.796875 51.625 33 \r\nQ 55.609375 28.21875 55.609375 21.1875 \r\nQ 55.609375 10.40625 48.1875 4.484375 \r\nQ 40.765625 -1.421875 27.09375 -1.421875 \r\nQ 22.515625 -1.421875 17.65625 -0.515625 \r\nQ 12.796875 0.390625 7.625 2.203125 \r\nL 7.625 11.71875 \r\nQ 11.71875 9.328125 16.59375 8.109375 \r\nQ 21.484375 6.890625 26.8125 6.890625 \r\nQ 36.078125 6.890625 40.9375 10.546875 \r\nQ 45.796875 14.203125 45.796875 21.1875 \r\nQ 45.796875 27.640625 41.28125 31.265625 \r\nQ 36.765625 34.90625 28.71875 34.90625 \r\nL 20.21875 34.90625 \r\nL 20.21875 43.015625 \r\nL 29.109375 43.015625 \r\nQ 36.375 43.015625 40.234375 45.921875 \r\nQ 44.09375 48.828125 44.09375 54.296875 \r\nQ 44.09375 59.90625 40.109375 62.90625 \r\nQ 36.140625 65.921875 28.71875 65.921875 \r\nQ 24.65625 65.921875 20.015625 65.03125 \r\nQ 15.375 64.15625 9.8125 62.3125 \r\nL 9.8125 71.09375 \r\nQ 15.4375 72.65625 20.34375 73.4375 \r\nQ 25.25 74.21875 29.59375 74.21875 \r\nQ 40.828125 74.21875 47.359375 69.109375 \r\nQ 53.90625 64.015625 53.90625 55.328125 \r\nQ 53.90625 49.265625 50.4375 45.09375 \r\nQ 46.96875 40.921875 40.578125 39.3125 \r\nz\r\n\" id=\"DejaVuSans-51\"/>\r\n       </defs>\r\n       <use xlink:href=\"#DejaVuSans-51\"/>\r\n       <use x=\"63.623047\" xlink:href=\"#DejaVuSans-48\"/>\r\n       <use x=\"127.246094\" xlink:href=\"#DejaVuSans-48\"/>\r\n       <use x=\"190.869141\" xlink:href=\"#DejaVuSans-48\"/>\r\n      </g>\r\n     </g>\r\n    </g>\r\n    <g id=\"xtick_5\">\r\n     <g id=\"line2d_5\">\r\n      <g>\r\n       <use style=\"stroke:#000000;stroke-width:0.8;\" x=\"357.427067\" xlink:href=\"#m335743e6b8\" y=\"376.56\"/>\r\n      </g>\r\n     </g>\r\n     <g id=\"text_5\">\r\n      <!-- 4000 -->\r\n      <g transform=\"translate(344.702067 391.158437)scale(0.1 -0.1)\">\r\n       <defs>\r\n        <path d=\"M 37.796875 64.3125 \r\nL 12.890625 25.390625 \r\nL 37.796875 25.390625 \r\nz\r\nM 35.203125 72.90625 \r\nL 47.609375 72.90625 \r\nL 47.609375 25.390625 \r\nL 58.015625 25.390625 \r\nL 58.015625 17.1875 \r\nL 47.609375 17.1875 \r\nL 47.609375 0 \r\nL 37.796875 0 \r\nL 37.796875 17.1875 \r\nL 4.890625 17.1875 \r\nL 4.890625 26.703125 \r\nz\r\n\" id=\"DejaVuSans-52\"/>\r\n       </defs>\r\n       <use xlink:href=\"#DejaVuSans-52\"/>\r\n       <use x=\"63.623047\" xlink:href=\"#DejaVuSans-48\"/>\r\n       <use x=\"127.246094\" xlink:href=\"#DejaVuSans-48\"/>\r\n       <use x=\"190.869141\" xlink:href=\"#DejaVuSans-48\"/>\r\n      </g>\r\n     </g>\r\n    </g>\r\n    <g id=\"xtick_6\">\r\n     <g id=\"line2d_6\">\r\n      <g>\r\n       <use style=\"stroke:#000000;stroke-width:0.8;\" x=\"431.226951\" xlink:href=\"#m335743e6b8\" y=\"376.56\"/>\r\n      </g>\r\n     </g>\r\n     <g id=\"text_6\">\r\n      <!-- 5000 -->\r\n      <g transform=\"translate(418.501951 391.158437)scale(0.1 -0.1)\">\r\n       <defs>\r\n        <path d=\"M 10.796875 72.90625 \r\nL 49.515625 72.90625 \r\nL 49.515625 64.59375 \r\nL 19.828125 64.59375 \r\nL 19.828125 46.734375 \r\nQ 21.96875 47.46875 24.109375 47.828125 \r\nQ 26.265625 48.1875 28.421875 48.1875 \r\nQ 40.625 48.1875 47.75 41.5 \r\nQ 54.890625 34.8125 54.890625 23.390625 \r\nQ 54.890625 11.625 47.5625 5.09375 \r\nQ 40.234375 -1.421875 26.90625 -1.421875 \r\nQ 22.3125 -1.421875 17.546875 -0.640625 \r\nQ 12.796875 0.140625 7.71875 1.703125 \r\nL 7.71875 11.625 \r\nQ 12.109375 9.234375 16.796875 8.0625 \r\nQ 21.484375 6.890625 26.703125 6.890625 \r\nQ 35.15625 6.890625 40.078125 11.328125 \r\nQ 45.015625 15.765625 45.015625 23.390625 \r\nQ 45.015625 31 40.078125 35.4375 \r\nQ 35.15625 39.890625 26.703125 39.890625 \r\nQ 22.75 39.890625 18.8125 39.015625 \r\nQ 14.890625 38.140625 10.796875 36.28125 \r\nz\r\n\" id=\"DejaVuSans-53\"/>\r\n       </defs>\r\n       <use xlink:href=\"#DejaVuSans-53\"/>\r\n       <use x=\"63.623047\" xlink:href=\"#DejaVuSans-48\"/>\r\n       <use x=\"127.246094\" xlink:href=\"#DejaVuSans-48\"/>\r\n       <use x=\"190.869141\" xlink:href=\"#DejaVuSans-48\"/>\r\n      </g>\r\n     </g>\r\n    </g>\r\n    <g id=\"text_7\">\r\n     <!-- epochs -->\r\n     <g transform=\"translate(228.857528 404.836562)scale(0.1 -0.1)\">\r\n      <defs>\r\n       <path d=\"M 56.203125 29.59375 \r\nL 56.203125 25.203125 \r\nL 14.890625 25.203125 \r\nQ 15.484375 15.921875 20.484375 11.0625 \r\nQ 25.484375 6.203125 34.421875 6.203125 \r\nQ 39.59375 6.203125 44.453125 7.46875 \r\nQ 49.3125 8.734375 54.109375 11.28125 \r\nL 54.109375 2.78125 \r\nQ 49.265625 0.734375 44.1875 -0.34375 \r\nQ 39.109375 -1.421875 33.890625 -1.421875 \r\nQ 20.796875 -1.421875 13.15625 6.1875 \r\nQ 5.515625 13.8125 5.515625 26.8125 \r\nQ 5.515625 40.234375 12.765625 48.109375 \r\nQ 20.015625 56 32.328125 56 \r\nQ 43.359375 56 49.78125 48.890625 \r\nQ 56.203125 41.796875 56.203125 29.59375 \r\nz\r\nM 47.21875 32.234375 \r\nQ 47.125 39.59375 43.09375 43.984375 \r\nQ 39.0625 48.390625 32.421875 48.390625 \r\nQ 24.90625 48.390625 20.390625 44.140625 \r\nQ 15.875 39.890625 15.1875 32.171875 \r\nz\r\n\" id=\"DejaVuSans-101\"/>\r\n       <path d=\"M 18.109375 8.203125 \r\nL 18.109375 -20.796875 \r\nL 9.078125 -20.796875 \r\nL 9.078125 54.6875 \r\nL 18.109375 54.6875 \r\nL 18.109375 46.390625 \r\nQ 20.953125 51.265625 25.265625 53.625 \r\nQ 29.59375 56 35.59375 56 \r\nQ 45.5625 56 51.78125 48.09375 \r\nQ 58.015625 40.1875 58.015625 27.296875 \r\nQ 58.015625 14.40625 51.78125 6.484375 \r\nQ 45.5625 -1.421875 35.59375 -1.421875 \r\nQ 29.59375 -1.421875 25.265625 0.953125 \r\nQ 20.953125 3.328125 18.109375 8.203125 \r\nz\r\nM 48.6875 27.296875 \r\nQ 48.6875 37.203125 44.609375 42.84375 \r\nQ 40.53125 48.484375 33.40625 48.484375 \r\nQ 26.265625 48.484375 22.1875 42.84375 \r\nQ 18.109375 37.203125 18.109375 27.296875 \r\nQ 18.109375 17.390625 22.1875 11.75 \r\nQ 26.265625 6.109375 33.40625 6.109375 \r\nQ 40.53125 6.109375 44.609375 11.75 \r\nQ 48.6875 17.390625 48.6875 27.296875 \r\nz\r\n\" id=\"DejaVuSans-112\"/>\r\n       <path d=\"M 30.609375 48.390625 \r\nQ 23.390625 48.390625 19.1875 42.75 \r\nQ 14.984375 37.109375 14.984375 27.296875 \r\nQ 14.984375 17.484375 19.15625 11.84375 \r\nQ 23.34375 6.203125 30.609375 6.203125 \r\nQ 37.796875 6.203125 41.984375 11.859375 \r\nQ 46.1875 17.53125 46.1875 27.296875 \r\nQ 46.1875 37.015625 41.984375 42.703125 \r\nQ 37.796875 48.390625 30.609375 48.390625 \r\nz\r\nM 30.609375 56 \r\nQ 42.328125 56 49.015625 48.375 \r\nQ 55.71875 40.765625 55.71875 27.296875 \r\nQ 55.71875 13.875 49.015625 6.21875 \r\nQ 42.328125 -1.421875 30.609375 -1.421875 \r\nQ 18.84375 -1.421875 12.171875 6.21875 \r\nQ 5.515625 13.875 5.515625 27.296875 \r\nQ 5.515625 40.765625 12.171875 48.375 \r\nQ 18.84375 56 30.609375 56 \r\nz\r\n\" id=\"DejaVuSans-111\"/>\r\n       <path d=\"M 48.78125 52.59375 \r\nL 48.78125 44.1875 \r\nQ 44.96875 46.296875 41.140625 47.34375 \r\nQ 37.3125 48.390625 33.40625 48.390625 \r\nQ 24.65625 48.390625 19.8125 42.84375 \r\nQ 14.984375 37.3125 14.984375 27.296875 \r\nQ 14.984375 17.28125 19.8125 11.734375 \r\nQ 24.65625 6.203125 33.40625 6.203125 \r\nQ 37.3125 6.203125 41.140625 7.25 \r\nQ 44.96875 8.296875 48.78125 10.40625 \r\nL 48.78125 2.09375 \r\nQ 45.015625 0.34375 40.984375 -0.53125 \r\nQ 36.96875 -1.421875 32.421875 -1.421875 \r\nQ 20.0625 -1.421875 12.78125 6.34375 \r\nQ 5.515625 14.109375 5.515625 27.296875 \r\nQ 5.515625 40.671875 12.859375 48.328125 \r\nQ 20.21875 56 33.015625 56 \r\nQ 37.15625 56 41.109375 55.140625 \r\nQ 45.0625 54.296875 48.78125 52.59375 \r\nz\r\n\" id=\"DejaVuSans-99\"/>\r\n       <path d=\"M 54.890625 33.015625 \r\nL 54.890625 0 \r\nL 45.90625 0 \r\nL 45.90625 32.71875 \r\nQ 45.90625 40.484375 42.875 44.328125 \r\nQ 39.84375 48.1875 33.796875 48.1875 \r\nQ 26.515625 48.1875 22.3125 43.546875 \r\nQ 18.109375 38.921875 18.109375 30.90625 \r\nL 18.109375 0 \r\nL 9.078125 0 \r\nL 9.078125 75.984375 \r\nL 18.109375 75.984375 \r\nL 18.109375 46.1875 \r\nQ 21.34375 51.125 25.703125 53.5625 \r\nQ 30.078125 56 35.796875 56 \r\nQ 45.21875 56 50.046875 50.171875 \r\nQ 54.890625 44.34375 54.890625 33.015625 \r\nz\r\n\" id=\"DejaVuSans-104\"/>\r\n       <path d=\"M 44.28125 53.078125 \r\nL 44.28125 44.578125 \r\nQ 40.484375 46.53125 36.375 47.5 \r\nQ 32.28125 48.484375 27.875 48.484375 \r\nQ 21.1875 48.484375 17.84375 46.4375 \r\nQ 14.5 44.390625 14.5 40.28125 \r\nQ 14.5 37.15625 16.890625 35.375 \r\nQ 19.28125 33.59375 26.515625 31.984375 \r\nL 29.59375 31.296875 \r\nQ 39.15625 29.25 43.1875 25.515625 \r\nQ 47.21875 21.78125 47.21875 15.09375 \r\nQ 47.21875 7.46875 41.1875 3.015625 \r\nQ 35.15625 -1.421875 24.609375 -1.421875 \r\nQ 20.21875 -1.421875 15.453125 -0.5625 \r\nQ 10.6875 0.296875 5.421875 2 \r\nL 5.421875 11.28125 \r\nQ 10.40625 8.6875 15.234375 7.390625 \r\nQ 20.0625 6.109375 24.8125 6.109375 \r\nQ 31.15625 6.109375 34.5625 8.28125 \r\nQ 37.984375 10.453125 37.984375 14.40625 \r\nQ 37.984375 18.0625 35.515625 20.015625 \r\nQ 33.0625 21.96875 24.703125 23.78125 \r\nL 21.578125 24.515625 \r\nQ 13.234375 26.265625 9.515625 29.90625 \r\nQ 5.8125 33.546875 5.8125 39.890625 \r\nQ 5.8125 47.609375 11.28125 51.796875 \r\nQ 16.75 56 26.8125 56 \r\nQ 31.78125 56 36.171875 55.265625 \r\nQ 40.578125 54.546875 44.28125 53.078125 \r\nz\r\n\" id=\"DejaVuSans-115\"/>\r\n      </defs>\r\n      <use xlink:href=\"#DejaVuSans-101\"/>\r\n      <use x=\"61.523438\" xlink:href=\"#DejaVuSans-112\"/>\r\n      <use x=\"125\" xlink:href=\"#DejaVuSans-111\"/>\r\n      <use x=\"186.181641\" xlink:href=\"#DejaVuSans-99\"/>\r\n      <use x=\"241.162109\" xlink:href=\"#DejaVuSans-104\"/>\r\n      <use x=\"304.541016\" xlink:href=\"#DejaVuSans-115\"/>\r\n     </g>\r\n    </g>\r\n   </g>\r\n   <g id=\"matplotlib.axis_2\">\r\n    <g id=\"ytick_1\">\r\n     <g id=\"line2d_7\">\r\n      <defs>\r\n       <path d=\"M 0 0 \r\nL -3.5 0 \r\n\" id=\"mf7879d8127\" style=\"stroke:#000000;stroke-width:0.8;\"/>\r\n      </defs>\r\n      <g>\r\n       <use style=\"stroke:#000000;stroke-width:0.8;\" x=\"43.78125\" xlink:href=\"#mf7879d8127\" y=\"362.837368\"/>\r\n      </g>\r\n     </g>\r\n     <g id=\"text_8\">\r\n      <!-- 0.2 -->\r\n      <g transform=\"translate(20.878125 366.636586)scale(0.1 -0.1)\">\r\n       <defs>\r\n        <path d=\"M 10.6875 12.40625 \r\nL 21 12.40625 \r\nL 21 0 \r\nL 10.6875 0 \r\nz\r\n\" id=\"DejaVuSans-46\"/>\r\n       </defs>\r\n       <use xlink:href=\"#DejaVuSans-48\"/>\r\n       <use x=\"63.623047\" xlink:href=\"#DejaVuSans-46\"/>\r\n       <use x=\"95.410156\" xlink:href=\"#DejaVuSans-50\"/>\r\n      </g>\r\n     </g>\r\n    </g>\r\n    <g id=\"ytick_2\">\r\n     <g id=\"line2d_8\">\r\n      <g>\r\n       <use style=\"stroke:#000000;stroke-width:0.8;\" x=\"43.78125\" xlink:href=\"#mf7879d8127\" y=\"325.352161\"/>\r\n      </g>\r\n     </g>\r\n     <g id=\"text_9\">\r\n      <!-- 0.4 -->\r\n      <g transform=\"translate(20.878125 329.15138)scale(0.1 -0.1)\">\r\n       <use xlink:href=\"#DejaVuSans-48\"/>\r\n       <use x=\"63.623047\" xlink:href=\"#DejaVuSans-46\"/>\r\n       <use x=\"95.410156\" xlink:href=\"#DejaVuSans-52\"/>\r\n      </g>\r\n     </g>\r\n    </g>\r\n    <g id=\"ytick_3\">\r\n     <g id=\"line2d_9\">\r\n      <g>\r\n       <use style=\"stroke:#000000;stroke-width:0.8;\" x=\"43.78125\" xlink:href=\"#mf7879d8127\" y=\"287.866955\"/>\r\n      </g>\r\n     </g>\r\n     <g id=\"text_10\">\r\n      <!-- 0.6 -->\r\n      <g transform=\"translate(20.878125 291.666174)scale(0.1 -0.1)\">\r\n       <defs>\r\n        <path d=\"M 33.015625 40.375 \r\nQ 26.375 40.375 22.484375 35.828125 \r\nQ 18.609375 31.296875 18.609375 23.390625 \r\nQ 18.609375 15.53125 22.484375 10.953125 \r\nQ 26.375 6.390625 33.015625 6.390625 \r\nQ 39.65625 6.390625 43.53125 10.953125 \r\nQ 47.40625 15.53125 47.40625 23.390625 \r\nQ 47.40625 31.296875 43.53125 35.828125 \r\nQ 39.65625 40.375 33.015625 40.375 \r\nz\r\nM 52.59375 71.296875 \r\nL 52.59375 62.3125 \r\nQ 48.875 64.0625 45.09375 64.984375 \r\nQ 41.3125 65.921875 37.59375 65.921875 \r\nQ 27.828125 65.921875 22.671875 59.328125 \r\nQ 17.53125 52.734375 16.796875 39.40625 \r\nQ 19.671875 43.65625 24.015625 45.921875 \r\nQ 28.375 48.1875 33.59375 48.1875 \r\nQ 44.578125 48.1875 50.953125 41.515625 \r\nQ 57.328125 34.859375 57.328125 23.390625 \r\nQ 57.328125 12.15625 50.6875 5.359375 \r\nQ 44.046875 -1.421875 33.015625 -1.421875 \r\nQ 20.359375 -1.421875 13.671875 8.265625 \r\nQ 6.984375 17.96875 6.984375 36.375 \r\nQ 6.984375 53.65625 15.1875 63.9375 \r\nQ 23.390625 74.21875 37.203125 74.21875 \r\nQ 40.921875 74.21875 44.703125 73.484375 \r\nQ 48.484375 72.75 52.59375 71.296875 \r\nz\r\n\" id=\"DejaVuSans-54\"/>\r\n       </defs>\r\n       <use xlink:href=\"#DejaVuSans-48\"/>\r\n       <use x=\"63.623047\" xlink:href=\"#DejaVuSans-46\"/>\r\n       <use x=\"95.410156\" xlink:href=\"#DejaVuSans-54\"/>\r\n      </g>\r\n     </g>\r\n    </g>\r\n    <g id=\"ytick_4\">\r\n     <g id=\"line2d_10\">\r\n      <g>\r\n       <use style=\"stroke:#000000;stroke-width:0.8;\" x=\"43.78125\" xlink:href=\"#mf7879d8127\" y=\"250.381749\"/>\r\n      </g>\r\n     </g>\r\n     <g id=\"text_11\">\r\n      <!-- 0.8 -->\r\n      <g transform=\"translate(20.878125 254.180968)scale(0.1 -0.1)\">\r\n       <defs>\r\n        <path d=\"M 31.78125 34.625 \r\nQ 24.75 34.625 20.71875 30.859375 \r\nQ 16.703125 27.09375 16.703125 20.515625 \r\nQ 16.703125 13.921875 20.71875 10.15625 \r\nQ 24.75 6.390625 31.78125 6.390625 \r\nQ 38.8125 6.390625 42.859375 10.171875 \r\nQ 46.921875 13.96875 46.921875 20.515625 \r\nQ 46.921875 27.09375 42.890625 30.859375 \r\nQ 38.875 34.625 31.78125 34.625 \r\nz\r\nM 21.921875 38.8125 \r\nQ 15.578125 40.375 12.03125 44.71875 \r\nQ 8.5 49.078125 8.5 55.328125 \r\nQ 8.5 64.0625 14.71875 69.140625 \r\nQ 20.953125 74.21875 31.78125 74.21875 \r\nQ 42.671875 74.21875 48.875 69.140625 \r\nQ 55.078125 64.0625 55.078125 55.328125 \r\nQ 55.078125 49.078125 51.53125 44.71875 \r\nQ 48 40.375 41.703125 38.8125 \r\nQ 48.828125 37.15625 52.796875 32.3125 \r\nQ 56.78125 27.484375 56.78125 20.515625 \r\nQ 56.78125 9.90625 50.3125 4.234375 \r\nQ 43.84375 -1.421875 31.78125 -1.421875 \r\nQ 19.734375 -1.421875 13.25 4.234375 \r\nQ 6.78125 9.90625 6.78125 20.515625 \r\nQ 6.78125 27.484375 10.78125 32.3125 \r\nQ 14.796875 37.15625 21.921875 38.8125 \r\nz\r\nM 18.3125 54.390625 \r\nQ 18.3125 48.734375 21.84375 45.5625 \r\nQ 25.390625 42.390625 31.78125 42.390625 \r\nQ 38.140625 42.390625 41.71875 45.5625 \r\nQ 45.3125 48.734375 45.3125 54.390625 \r\nQ 45.3125 60.0625 41.71875 63.234375 \r\nQ 38.140625 66.40625 31.78125 66.40625 \r\nQ 25.390625 66.40625 21.84375 63.234375 \r\nQ 18.3125 60.0625 18.3125 54.390625 \r\nz\r\n\" id=\"DejaVuSans-56\"/>\r\n       </defs>\r\n       <use xlink:href=\"#DejaVuSans-48\"/>\r\n       <use x=\"63.623047\" xlink:href=\"#DejaVuSans-46\"/>\r\n       <use x=\"95.410156\" xlink:href=\"#DejaVuSans-56\"/>\r\n      </g>\r\n     </g>\r\n    </g>\r\n    <g id=\"ytick_5\">\r\n     <g id=\"line2d_11\">\r\n      <g>\r\n       <use style=\"stroke:#000000;stroke-width:0.8;\" x=\"43.78125\" xlink:href=\"#mf7879d8127\" y=\"212.896542\"/>\r\n      </g>\r\n     </g>\r\n     <g id=\"text_12\">\r\n      <!-- 1.0 -->\r\n      <g transform=\"translate(20.878125 216.695761)scale(0.1 -0.1)\">\r\n       <use xlink:href=\"#DejaVuSans-49\"/>\r\n       <use x=\"63.623047\" xlink:href=\"#DejaVuSans-46\"/>\r\n       <use x=\"95.410156\" xlink:href=\"#DejaVuSans-48\"/>\r\n      </g>\r\n     </g>\r\n    </g>\r\n    <g id=\"ytick_6\">\r\n     <g id=\"line2d_12\">\r\n      <g>\r\n       <use style=\"stroke:#000000;stroke-width:0.8;\" x=\"43.78125\" xlink:href=\"#mf7879d8127\" y=\"175.411336\"/>\r\n      </g>\r\n     </g>\r\n     <g id=\"text_13\">\r\n      <!-- 1.2 -->\r\n      <g transform=\"translate(20.878125 179.210555)scale(0.1 -0.1)\">\r\n       <use xlink:href=\"#DejaVuSans-49\"/>\r\n       <use x=\"63.623047\" xlink:href=\"#DejaVuSans-46\"/>\r\n       <use x=\"95.410156\" xlink:href=\"#DejaVuSans-50\"/>\r\n      </g>\r\n     </g>\r\n    </g>\r\n    <g id=\"ytick_7\">\r\n     <g id=\"line2d_13\">\r\n      <g>\r\n       <use style=\"stroke:#000000;stroke-width:0.8;\" x=\"43.78125\" xlink:href=\"#mf7879d8127\" y=\"137.92613\"/>\r\n      </g>\r\n     </g>\r\n     <g id=\"text_14\">\r\n      <!-- 1.4 -->\r\n      <g transform=\"translate(20.878125 141.725349)scale(0.1 -0.1)\">\r\n       <use xlink:href=\"#DejaVuSans-49\"/>\r\n       <use x=\"63.623047\" xlink:href=\"#DejaVuSans-46\"/>\r\n       <use x=\"95.410156\" xlink:href=\"#DejaVuSans-52\"/>\r\n      </g>\r\n     </g>\r\n    </g>\r\n    <g id=\"ytick_8\">\r\n     <g id=\"line2d_14\">\r\n      <g>\r\n       <use style=\"stroke:#000000;stroke-width:0.8;\" x=\"43.78125\" xlink:href=\"#mf7879d8127\" y=\"100.440924\"/>\r\n      </g>\r\n     </g>\r\n     <g id=\"text_15\">\r\n      <!-- 1.6 -->\r\n      <g transform=\"translate(20.878125 104.240142)scale(0.1 -0.1)\">\r\n       <use xlink:href=\"#DejaVuSans-49\"/>\r\n       <use x=\"63.623047\" xlink:href=\"#DejaVuSans-46\"/>\r\n       <use x=\"95.410156\" xlink:href=\"#DejaVuSans-54\"/>\r\n      </g>\r\n     </g>\r\n    </g>\r\n    <g id=\"ytick_9\">\r\n     <g id=\"line2d_15\">\r\n      <g>\r\n       <use style=\"stroke:#000000;stroke-width:0.8;\" x=\"43.78125\" xlink:href=\"#mf7879d8127\" y=\"62.955717\"/>\r\n      </g>\r\n     </g>\r\n     <g id=\"text_16\">\r\n      <!-- 1.8 -->\r\n      <g transform=\"translate(20.878125 66.754936)scale(0.1 -0.1)\">\r\n       <use xlink:href=\"#DejaVuSans-49\"/>\r\n       <use x=\"63.623047\" xlink:href=\"#DejaVuSans-46\"/>\r\n       <use x=\"95.410156\" xlink:href=\"#DejaVuSans-56\"/>\r\n      </g>\r\n     </g>\r\n    </g>\r\n    <g id=\"text_17\">\r\n     <!-- BCE loss -->\r\n     <g transform=\"translate(14.798438 234.720625)rotate(-90)scale(0.1 -0.1)\">\r\n      <defs>\r\n       <path d=\"M 19.671875 34.8125 \r\nL 19.671875 8.109375 \r\nL 35.5 8.109375 \r\nQ 43.453125 8.109375 47.28125 11.40625 \r\nQ 51.125 14.703125 51.125 21.484375 \r\nQ 51.125 28.328125 47.28125 31.5625 \r\nQ 43.453125 34.8125 35.5 34.8125 \r\nz\r\nM 19.671875 64.796875 \r\nL 19.671875 42.828125 \r\nL 34.28125 42.828125 \r\nQ 41.5 42.828125 45.03125 45.53125 \r\nQ 48.578125 48.25 48.578125 53.8125 \r\nQ 48.578125 59.328125 45.03125 62.0625 \r\nQ 41.5 64.796875 34.28125 64.796875 \r\nz\r\nM 9.8125 72.90625 \r\nL 35.015625 72.90625 \r\nQ 46.296875 72.90625 52.390625 68.21875 \r\nQ 58.5 63.53125 58.5 54.890625 \r\nQ 58.5 48.1875 55.375 44.234375 \r\nQ 52.25 40.28125 46.1875 39.3125 \r\nQ 53.46875 37.75 57.5 32.78125 \r\nQ 61.53125 27.828125 61.53125 20.40625 \r\nQ 61.53125 10.640625 54.890625 5.3125 \r\nQ 48.25 0 35.984375 0 \r\nL 9.8125 0 \r\nz\r\n\" id=\"DejaVuSans-66\"/>\r\n       <path d=\"M 64.40625 67.28125 \r\nL 64.40625 56.890625 \r\nQ 59.421875 61.53125 53.78125 63.8125 \r\nQ 48.140625 66.109375 41.796875 66.109375 \r\nQ 29.296875 66.109375 22.65625 58.46875 \r\nQ 16.015625 50.828125 16.015625 36.375 \r\nQ 16.015625 21.96875 22.65625 14.328125 \r\nQ 29.296875 6.6875 41.796875 6.6875 \r\nQ 48.140625 6.6875 53.78125 8.984375 \r\nQ 59.421875 11.28125 64.40625 15.921875 \r\nL 64.40625 5.609375 \r\nQ 59.234375 2.09375 53.4375 0.328125 \r\nQ 47.65625 -1.421875 41.21875 -1.421875 \r\nQ 24.65625 -1.421875 15.125 8.703125 \r\nQ 5.609375 18.84375 5.609375 36.375 \r\nQ 5.609375 53.953125 15.125 64.078125 \r\nQ 24.65625 74.21875 41.21875 74.21875 \r\nQ 47.75 74.21875 53.53125 72.484375 \r\nQ 59.328125 70.75 64.40625 67.28125 \r\nz\r\n\" id=\"DejaVuSans-67\"/>\r\n       <path d=\"M 9.8125 72.90625 \r\nL 55.90625 72.90625 \r\nL 55.90625 64.59375 \r\nL 19.671875 64.59375 \r\nL 19.671875 43.015625 \r\nL 54.390625 43.015625 \r\nL 54.390625 34.71875 \r\nL 19.671875 34.71875 \r\nL 19.671875 8.296875 \r\nL 56.78125 8.296875 \r\nL 56.78125 0 \r\nL 9.8125 0 \r\nz\r\n\" id=\"DejaVuSans-69\"/>\r\n       <path id=\"DejaVuSans-32\"/>\r\n       <path d=\"M 9.421875 75.984375 \r\nL 18.40625 75.984375 \r\nL 18.40625 0 \r\nL 9.421875 0 \r\nz\r\n\" id=\"DejaVuSans-108\"/>\r\n      </defs>\r\n      <use xlink:href=\"#DejaVuSans-66\"/>\r\n      <use x=\"66.853516\" xlink:href=\"#DejaVuSans-67\"/>\r\n      <use x=\"136.677734\" xlink:href=\"#DejaVuSans-69\"/>\r\n      <use x=\"199.861328\" xlink:href=\"#DejaVuSans-32\"/>\r\n      <use x=\"231.648438\" xlink:href=\"#DejaVuSans-108\"/>\r\n      <use x=\"259.431641\" xlink:href=\"#DejaVuSans-111\"/>\r\n      <use x=\"320.613281\" xlink:href=\"#DejaVuSans-115\"/>\r\n      <use x=\"372.712891\" xlink:href=\"#DejaVuSans-115\"/>\r\n     </g>\r\n    </g>\r\n   </g>\r\n   <g id=\"line2d_16\">\r\n    <path clip-path=\"url(#pd09f65f190)\" d=\"M 62.227531 65.225455 \r\nL 63.11313 93.291831 \r\nL 63.777329 108.762027 \r\nL 64.220128 115.013555 \r\nL 64.589127 117.703844 \r\nL 65.031927 119.266888 \r\nL 65.843725 121.801939 \r\nL 67.983922 130.136341 \r\nL 69.16472 136.183051 \r\nL 72.928514 156.324058 \r\nL 74.183112 161.338324 \r\nL 75.43771 165.476769 \r\nL 76.766108 169.107673 \r\nL 78.242106 172.482483 \r\nL 79.865703 175.634086 \r\nL 81.7845 178.862616 \r\nL 84.072297 182.251703 \r\nL 86.360093 185.245722 \r\nL 88.869289 188.158814 \r\nL 91.452285 190.85031 \r\nL 95.216079 194.424307 \r\nL 98.610874 197.433251 \r\nL 106.212262 203.852239 \r\nL 128.868826 222.73497 \r\nL 141.193407 232.97662 \r\nL 157.650781 246.02024 \r\nL 168.794563 254.400322 \r\nL 180.159746 262.661574 \r\nL 192.410526 271.096408 \r\nL 205.694505 279.753565 \r\nL 214.329092 285.049229 \r\nL 221.266281 289.133884 \r\nL 233.959861 296.297025 \r\nL 251.155234 305.299235 \r\nL 261.044418 310.120967 \r\nL 279.641989 318.536407 \r\nL 293.073568 324.12025 \r\nL 308.866743 330.143695 \r\nL 313.294736 331.72868 \r\nL 328.571312 336.882103 \r\nL 347.611682 342.725001 \r\nL 357.648466 345.570853 \r\nL 383.626026 352.145018 \r\nL 392.703411 354.189198 \r\nL 400.452399 355.859532 \r\nL 408.127587 357.435502 \r\nL 414.695777 358.71505 \r\nL 425.765759 360.779816 \r\nL 431.153151 361.734545 \r\nL 431.153151 361.734545 \r\n\" style=\"fill:none;stroke:#1f77b4;stroke-linecap:square;stroke-width:1.5;\"/>\r\n   </g>\r\n   <g id=\"patch_3\">\r\n    <path d=\"M 43.78125 376.56 \r\nL 43.78125 50.4 \r\n\" style=\"fill:none;stroke:#000000;stroke-linecap:square;stroke-linejoin:miter;stroke-width:0.8;\"/>\r\n   </g>\r\n   <g id=\"patch_4\">\r\n    <path d=\"M 449.599432 376.56 \r\nL 449.599432 50.4 \r\n\" style=\"fill:none;stroke:#000000;stroke-linecap:square;stroke-linejoin:miter;stroke-width:0.8;\"/>\r\n   </g>\r\n   <g id=\"patch_5\">\r\n    <path d=\"M 43.78125 376.56 \r\nL 449.599432 376.56 \r\n\" style=\"fill:none;stroke:#000000;stroke-linecap:square;stroke-linejoin:miter;stroke-width:0.8;\"/>\r\n   </g>\r\n   <g id=\"patch_6\">\r\n    <path d=\"M 43.78125 50.4 \r\nL 449.599432 50.4 \r\n\" style=\"fill:none;stroke:#000000;stroke-linecap:square;stroke-linejoin:miter;stroke-width:0.8;\"/>\r\n   </g>\r\n   <g id=\"legend_1\">\r\n    <g id=\"patch_7\">\r\n     <path d=\"M 387.324432 73.078125 \r\nL 442.599432 73.078125 \r\nQ 444.599432 73.078125 444.599432 71.078125 \r\nL 444.599432 57.4 \r\nQ 444.599432 55.4 442.599432 55.4 \r\nL 387.324432 55.4 \r\nQ 385.324432 55.4 385.324432 57.4 \r\nL 385.324432 71.078125 \r\nQ 385.324432 73.078125 387.324432 73.078125 \r\nz\r\n\" style=\"fill:#ffffff;opacity:0.8;stroke:#cccccc;stroke-linejoin:miter;\"/>\r\n    </g>\r\n    <g id=\"line2d_17\">\r\n     <path d=\"M 389.324432 63.498437 \r\nL 409.324432 63.498437 \r\n\" style=\"fill:none;stroke:#1f77b4;stroke-linecap:square;stroke-width:1.5;\"/>\r\n    </g>\r\n    <g id=\"line2d_18\"/>\r\n    <g id=\"text_18\">\r\n     <!-- train -->\r\n     <g transform=\"translate(417.324432 66.998437)scale(0.1 -0.1)\">\r\n      <defs>\r\n       <path d=\"M 18.3125 70.21875 \r\nL 18.3125 54.6875 \r\nL 36.8125 54.6875 \r\nL 36.8125 47.703125 \r\nL 18.3125 47.703125 \r\nL 18.3125 18.015625 \r\nQ 18.3125 11.328125 20.140625 9.421875 \r\nQ 21.96875 7.515625 27.59375 7.515625 \r\nL 36.8125 7.515625 \r\nL 36.8125 0 \r\nL 27.59375 0 \r\nQ 17.1875 0 13.234375 3.875 \r\nQ 9.28125 7.765625 9.28125 18.015625 \r\nL 9.28125 47.703125 \r\nL 2.6875 47.703125 \r\nL 2.6875 54.6875 \r\nL 9.28125 54.6875 \r\nL 9.28125 70.21875 \r\nz\r\n\" id=\"DejaVuSans-116\"/>\r\n       <path d=\"M 41.109375 46.296875 \r\nQ 39.59375 47.171875 37.8125 47.578125 \r\nQ 36.03125 48 33.890625 48 \r\nQ 26.265625 48 22.1875 43.046875 \r\nQ 18.109375 38.09375 18.109375 28.8125 \r\nL 18.109375 0 \r\nL 9.078125 0 \r\nL 9.078125 54.6875 \r\nL 18.109375 54.6875 \r\nL 18.109375 46.1875 \r\nQ 20.953125 51.171875 25.484375 53.578125 \r\nQ 30.03125 56 36.53125 56 \r\nQ 37.453125 56 38.578125 55.875 \r\nQ 39.703125 55.765625 41.0625 55.515625 \r\nz\r\n\" id=\"DejaVuSans-114\"/>\r\n       <path d=\"M 34.28125 27.484375 \r\nQ 23.390625 27.484375 19.1875 25 \r\nQ 14.984375 22.515625 14.984375 16.5 \r\nQ 14.984375 11.71875 18.140625 8.90625 \r\nQ 21.296875 6.109375 26.703125 6.109375 \r\nQ 34.1875 6.109375 38.703125 11.40625 \r\nQ 43.21875 16.703125 43.21875 25.484375 \r\nL 43.21875 27.484375 \r\nz\r\nM 52.203125 31.203125 \r\nL 52.203125 0 \r\nL 43.21875 0 \r\nL 43.21875 8.296875 \r\nQ 40.140625 3.328125 35.546875 0.953125 \r\nQ 30.953125 -1.421875 24.3125 -1.421875 \r\nQ 15.921875 -1.421875 10.953125 3.296875 \r\nQ 6 8.015625 6 15.921875 \r\nQ 6 25.140625 12.171875 29.828125 \r\nQ 18.359375 34.515625 30.609375 34.515625 \r\nL 43.21875 34.515625 \r\nL 43.21875 35.40625 \r\nQ 43.21875 41.609375 39.140625 45 \r\nQ 35.0625 48.390625 27.6875 48.390625 \r\nQ 23 48.390625 18.546875 47.265625 \r\nQ 14.109375 46.140625 10.015625 43.890625 \r\nL 10.015625 52.203125 \r\nQ 14.9375 54.109375 19.578125 55.046875 \r\nQ 24.21875 56 28.609375 56 \r\nQ 40.484375 56 46.34375 49.84375 \r\nQ 52.203125 43.703125 52.203125 31.203125 \r\nz\r\n\" id=\"DejaVuSans-97\"/>\r\n       <path d=\"M 9.421875 54.6875 \r\nL 18.40625 54.6875 \r\nL 18.40625 0 \r\nL 9.421875 0 \r\nz\r\nM 9.421875 75.984375 \r\nL 18.40625 75.984375 \r\nL 18.40625 64.59375 \r\nL 9.421875 64.59375 \r\nz\r\n\" id=\"DejaVuSans-105\"/>\r\n       <path d=\"M 54.890625 33.015625 \r\nL 54.890625 0 \r\nL 45.90625 0 \r\nL 45.90625 32.71875 \r\nQ 45.90625 40.484375 42.875 44.328125 \r\nQ 39.84375 48.1875 33.796875 48.1875 \r\nQ 26.515625 48.1875 22.3125 43.546875 \r\nQ 18.109375 38.921875 18.109375 30.90625 \r\nL 18.109375 0 \r\nL 9.078125 0 \r\nL 9.078125 54.6875 \r\nL 18.109375 54.6875 \r\nL 18.109375 46.1875 \r\nQ 21.34375 51.125 25.703125 53.5625 \r\nQ 30.078125 56 35.796875 56 \r\nQ 45.21875 56 50.046875 50.171875 \r\nQ 54.890625 44.34375 54.890625 33.015625 \r\nz\r\n\" id=\"DejaVuSans-110\"/>\r\n      </defs>\r\n      <use xlink:href=\"#DejaVuSans-116\"/>\r\n      <use x=\"39.208984\" xlink:href=\"#DejaVuSans-114\"/>\r\n      <use x=\"80.322266\" xlink:href=\"#DejaVuSans-97\"/>\r\n      <use x=\"141.601562\" xlink:href=\"#DejaVuSans-105\"/>\r\n      <use x=\"169.384766\" xlink:href=\"#DejaVuSans-110\"/>\r\n     </g>\r\n    </g>\r\n   </g>\r\n  </g>\r\n  <g id=\"axes_2\">\r\n   <g id=\"patch_8\">\r\n    <path d=\"M 530.763068 376.56 \r\nL 936.58125 376.56 \r\nL 936.58125 50.4 \r\nL 530.763068 50.4 \r\nz\r\n\" style=\"fill:#ffffff;\"/>\r\n   </g>\r\n   <g id=\"matplotlib.axis_3\">\r\n    <g id=\"xtick_7\">\r\n     <g id=\"line2d_19\">\r\n      <g>\r\n       <use style=\"stroke:#000000;stroke-width:0.8;\" x=\"549.209349\" xlink:href=\"#m335743e6b8\" y=\"376.56\"/>\r\n      </g>\r\n     </g>\r\n     <g id=\"text_19\">\r\n      <!-- 0 -->\r\n      <g transform=\"translate(546.028099 391.158437)scale(0.1 -0.1)\">\r\n       <use xlink:href=\"#DejaVuSans-48\"/>\r\n      </g>\r\n     </g>\r\n    </g>\r\n    <g id=\"xtick_8\">\r\n     <g id=\"line2d_20\">\r\n      <g>\r\n       <use style=\"stroke:#000000;stroke-width:0.8;\" x=\"623.009233\" xlink:href=\"#m335743e6b8\" y=\"376.56\"/>\r\n      </g>\r\n     </g>\r\n     <g id=\"text_20\">\r\n      <!-- 1000 -->\r\n      <g transform=\"translate(610.284233 391.158437)scale(0.1 -0.1)\">\r\n       <use xlink:href=\"#DejaVuSans-49\"/>\r\n       <use x=\"63.623047\" xlink:href=\"#DejaVuSans-48\"/>\r\n       <use x=\"127.246094\" xlink:href=\"#DejaVuSans-48\"/>\r\n       <use x=\"190.869141\" xlink:href=\"#DejaVuSans-48\"/>\r\n      </g>\r\n     </g>\r\n    </g>\r\n    <g id=\"xtick_9\">\r\n     <g id=\"line2d_21\">\r\n      <g>\r\n       <use style=\"stroke:#000000;stroke-width:0.8;\" x=\"696.809117\" xlink:href=\"#m335743e6b8\" y=\"376.56\"/>\r\n      </g>\r\n     </g>\r\n     <g id=\"text_21\">\r\n      <!-- 2000 -->\r\n      <g transform=\"translate(684.084117 391.158437)scale(0.1 -0.1)\">\r\n       <use xlink:href=\"#DejaVuSans-50\"/>\r\n       <use x=\"63.623047\" xlink:href=\"#DejaVuSans-48\"/>\r\n       <use x=\"127.246094\" xlink:href=\"#DejaVuSans-48\"/>\r\n       <use x=\"190.869141\" xlink:href=\"#DejaVuSans-48\"/>\r\n      </g>\r\n     </g>\r\n    </g>\r\n    <g id=\"xtick_10\">\r\n     <g id=\"line2d_22\">\r\n      <g>\r\n       <use style=\"stroke:#000000;stroke-width:0.8;\" x=\"770.609001\" xlink:href=\"#m335743e6b8\" y=\"376.56\"/>\r\n      </g>\r\n     </g>\r\n     <g id=\"text_22\">\r\n      <!-- 3000 -->\r\n      <g transform=\"translate(757.884001 391.158437)scale(0.1 -0.1)\">\r\n       <use xlink:href=\"#DejaVuSans-51\"/>\r\n       <use x=\"63.623047\" xlink:href=\"#DejaVuSans-48\"/>\r\n       <use x=\"127.246094\" xlink:href=\"#DejaVuSans-48\"/>\r\n       <use x=\"190.869141\" xlink:href=\"#DejaVuSans-48\"/>\r\n      </g>\r\n     </g>\r\n    </g>\r\n    <g id=\"xtick_11\">\r\n     <g id=\"line2d_23\">\r\n      <g>\r\n       <use style=\"stroke:#000000;stroke-width:0.8;\" x=\"844.408885\" xlink:href=\"#m335743e6b8\" y=\"376.56\"/>\r\n      </g>\r\n     </g>\r\n     <g id=\"text_23\">\r\n      <!-- 4000 -->\r\n      <g transform=\"translate(831.683885 391.158437)scale(0.1 -0.1)\">\r\n       <use xlink:href=\"#DejaVuSans-52\"/>\r\n       <use x=\"63.623047\" xlink:href=\"#DejaVuSans-48\"/>\r\n       <use x=\"127.246094\" xlink:href=\"#DejaVuSans-48\"/>\r\n       <use x=\"190.869141\" xlink:href=\"#DejaVuSans-48\"/>\r\n      </g>\r\n     </g>\r\n    </g>\r\n    <g id=\"xtick_12\">\r\n     <g id=\"line2d_24\">\r\n      <g>\r\n       <use style=\"stroke:#000000;stroke-width:0.8;\" x=\"918.208769\" xlink:href=\"#m335743e6b8\" y=\"376.56\"/>\r\n      </g>\r\n     </g>\r\n     <g id=\"text_24\">\r\n      <!-- 5000 -->\r\n      <g transform=\"translate(905.483769 391.158437)scale(0.1 -0.1)\">\r\n       <use xlink:href=\"#DejaVuSans-53\"/>\r\n       <use x=\"63.623047\" xlink:href=\"#DejaVuSans-48\"/>\r\n       <use x=\"127.246094\" xlink:href=\"#DejaVuSans-48\"/>\r\n       <use x=\"190.869141\" xlink:href=\"#DejaVuSans-48\"/>\r\n      </g>\r\n     </g>\r\n    </g>\r\n    <g id=\"text_25\">\r\n     <!-- epochs -->\r\n     <g transform=\"translate(715.839347 404.836562)scale(0.1 -0.1)\">\r\n      <use xlink:href=\"#DejaVuSans-101\"/>\r\n      <use x=\"61.523438\" xlink:href=\"#DejaVuSans-112\"/>\r\n      <use x=\"125\" xlink:href=\"#DejaVuSans-111\"/>\r\n      <use x=\"186.181641\" xlink:href=\"#DejaVuSans-99\"/>\r\n      <use x=\"241.162109\" xlink:href=\"#DejaVuSans-104\"/>\r\n      <use x=\"304.541016\" xlink:href=\"#DejaVuSans-115\"/>\r\n     </g>\r\n    </g>\r\n   </g>\r\n   <g id=\"matplotlib.axis_4\">\r\n    <g id=\"ytick_10\">\r\n     <g id=\"line2d_25\">\r\n      <g>\r\n       <use style=\"stroke:#000000;stroke-width:0.8;\" x=\"530.763068\" xlink:href=\"#mf7879d8127\" y=\"357.111195\"/>\r\n      </g>\r\n     </g>\r\n     <g id=\"text_26\">\r\n      <!-- 0.4 -->\r\n      <g transform=\"translate(507.859943 360.910414)scale(0.1 -0.1)\">\r\n       <use xlink:href=\"#DejaVuSans-48\"/>\r\n       <use x=\"63.623047\" xlink:href=\"#DejaVuSans-46\"/>\r\n       <use x=\"95.410156\" xlink:href=\"#DejaVuSans-52\"/>\r\n      </g>\r\n     </g>\r\n    </g>\r\n    <g id=\"ytick_11\">\r\n     <g id=\"line2d_26\">\r\n      <g>\r\n       <use style=\"stroke:#000000;stroke-width:0.8;\" x=\"530.763068\" xlink:href=\"#mf7879d8127\" y=\"303.575203\"/>\r\n      </g>\r\n     </g>\r\n     <g id=\"text_27\">\r\n      <!-- 0.5 -->\r\n      <g transform=\"translate(507.859943 307.374421)scale(0.1 -0.1)\">\r\n       <use xlink:href=\"#DejaVuSans-48\"/>\r\n       <use x=\"63.623047\" xlink:href=\"#DejaVuSans-46\"/>\r\n       <use x=\"95.410156\" xlink:href=\"#DejaVuSans-53\"/>\r\n      </g>\r\n     </g>\r\n    </g>\r\n    <g id=\"ytick_12\">\r\n     <g id=\"line2d_27\">\r\n      <g>\r\n       <use style=\"stroke:#000000;stroke-width:0.8;\" x=\"530.763068\" xlink:href=\"#mf7879d8127\" y=\"250.03921\"/>\r\n      </g>\r\n     </g>\r\n     <g id=\"text_28\">\r\n      <!-- 0.6 -->\r\n      <g transform=\"translate(507.859943 253.838429)scale(0.1 -0.1)\">\r\n       <use xlink:href=\"#DejaVuSans-48\"/>\r\n       <use x=\"63.623047\" xlink:href=\"#DejaVuSans-46\"/>\r\n       <use x=\"95.410156\" xlink:href=\"#DejaVuSans-54\"/>\r\n      </g>\r\n     </g>\r\n    </g>\r\n    <g id=\"ytick_13\">\r\n     <g id=\"line2d_28\">\r\n      <g>\r\n       <use style=\"stroke:#000000;stroke-width:0.8;\" x=\"530.763068\" xlink:href=\"#mf7879d8127\" y=\"196.503218\"/>\r\n      </g>\r\n     </g>\r\n     <g id=\"text_29\">\r\n      <!-- 0.7 -->\r\n      <g transform=\"translate(507.859943 200.302436)scale(0.1 -0.1)\">\r\n       <defs>\r\n        <path d=\"M 8.203125 72.90625 \r\nL 55.078125 72.90625 \r\nL 55.078125 68.703125 \r\nL 28.609375 0 \r\nL 18.3125 0 \r\nL 43.21875 64.59375 \r\nL 8.203125 64.59375 \r\nz\r\n\" id=\"DejaVuSans-55\"/>\r\n       </defs>\r\n       <use xlink:href=\"#DejaVuSans-48\"/>\r\n       <use x=\"63.623047\" xlink:href=\"#DejaVuSans-46\"/>\r\n       <use x=\"95.410156\" xlink:href=\"#DejaVuSans-55\"/>\r\n      </g>\r\n     </g>\r\n    </g>\r\n    <g id=\"ytick_14\">\r\n     <g id=\"line2d_29\">\r\n      <g>\r\n       <use style=\"stroke:#000000;stroke-width:0.8;\" x=\"530.763068\" xlink:href=\"#mf7879d8127\" y=\"142.967225\"/>\r\n      </g>\r\n     </g>\r\n     <g id=\"text_30\">\r\n      <!-- 0.8 -->\r\n      <g transform=\"translate(507.859943 146.766444)scale(0.1 -0.1)\">\r\n       <use xlink:href=\"#DejaVuSans-48\"/>\r\n       <use x=\"63.623047\" xlink:href=\"#DejaVuSans-46\"/>\r\n       <use x=\"95.410156\" xlink:href=\"#DejaVuSans-56\"/>\r\n      </g>\r\n     </g>\r\n    </g>\r\n    <g id=\"ytick_15\">\r\n     <g id=\"line2d_30\">\r\n      <g>\r\n       <use style=\"stroke:#000000;stroke-width:0.8;\" x=\"530.763068\" xlink:href=\"#mf7879d8127\" y=\"89.431233\"/>\r\n      </g>\r\n     </g>\r\n     <g id=\"text_31\">\r\n      <!-- 0.9 -->\r\n      <g transform=\"translate(507.859943 93.230451)scale(0.1 -0.1)\">\r\n       <defs>\r\n        <path d=\"M 10.984375 1.515625 \r\nL 10.984375 10.5 \r\nQ 14.703125 8.734375 18.5 7.8125 \r\nQ 22.3125 6.890625 25.984375 6.890625 \r\nQ 35.75 6.890625 40.890625 13.453125 \r\nQ 46.046875 20.015625 46.78125 33.40625 \r\nQ 43.953125 29.203125 39.59375 26.953125 \r\nQ 35.25 24.703125 29.984375 24.703125 \r\nQ 19.046875 24.703125 12.671875 31.3125 \r\nQ 6.296875 37.9375 6.296875 49.421875 \r\nQ 6.296875 60.640625 12.9375 67.421875 \r\nQ 19.578125 74.21875 30.609375 74.21875 \r\nQ 43.265625 74.21875 49.921875 64.515625 \r\nQ 56.59375 54.828125 56.59375 36.375 \r\nQ 56.59375 19.140625 48.40625 8.859375 \r\nQ 40.234375 -1.421875 26.421875 -1.421875 \r\nQ 22.703125 -1.421875 18.890625 -0.6875 \r\nQ 15.09375 0.046875 10.984375 1.515625 \r\nz\r\nM 30.609375 32.421875 \r\nQ 37.25 32.421875 41.125 36.953125 \r\nQ 45.015625 41.5 45.015625 49.421875 \r\nQ 45.015625 57.28125 41.125 61.84375 \r\nQ 37.25 66.40625 30.609375 66.40625 \r\nQ 23.96875 66.40625 20.09375 61.84375 \r\nQ 16.21875 57.28125 16.21875 49.421875 \r\nQ 16.21875 41.5 20.09375 36.953125 \r\nQ 23.96875 32.421875 30.609375 32.421875 \r\nz\r\n\" id=\"DejaVuSans-57\"/>\r\n       </defs>\r\n       <use xlink:href=\"#DejaVuSans-48\"/>\r\n       <use x=\"63.623047\" xlink:href=\"#DejaVuSans-46\"/>\r\n       <use x=\"95.410156\" xlink:href=\"#DejaVuSans-57\"/>\r\n      </g>\r\n     </g>\r\n    </g>\r\n    <g id=\"text_32\">\r\n     <!-- Accuracy -->\r\n     <g transform=\"translate(501.780256 236.308125)rotate(-90)scale(0.1 -0.1)\">\r\n      <defs>\r\n       <path d=\"M 34.1875 63.1875 \r\nL 20.796875 26.90625 \r\nL 47.609375 26.90625 \r\nz\r\nM 28.609375 72.90625 \r\nL 39.796875 72.90625 \r\nL 67.578125 0 \r\nL 57.328125 0 \r\nL 50.6875 18.703125 \r\nL 17.828125 18.703125 \r\nL 11.1875 0 \r\nL 0.78125 0 \r\nz\r\n\" id=\"DejaVuSans-65\"/>\r\n       <path d=\"M 8.5 21.578125 \r\nL 8.5 54.6875 \r\nL 17.484375 54.6875 \r\nL 17.484375 21.921875 \r\nQ 17.484375 14.15625 20.5 10.265625 \r\nQ 23.53125 6.390625 29.59375 6.390625 \r\nQ 36.859375 6.390625 41.078125 11.03125 \r\nQ 45.3125 15.671875 45.3125 23.6875 \r\nL 45.3125 54.6875 \r\nL 54.296875 54.6875 \r\nL 54.296875 0 \r\nL 45.3125 0 \r\nL 45.3125 8.40625 \r\nQ 42.046875 3.421875 37.71875 1 \r\nQ 33.40625 -1.421875 27.6875 -1.421875 \r\nQ 18.265625 -1.421875 13.375 4.4375 \r\nQ 8.5 10.296875 8.5 21.578125 \r\nz\r\nM 31.109375 56 \r\nz\r\n\" id=\"DejaVuSans-117\"/>\r\n       <path d=\"M 32.171875 -5.078125 \r\nQ 28.375 -14.84375 24.75 -17.8125 \r\nQ 21.140625 -20.796875 15.09375 -20.796875 \r\nL 7.90625 -20.796875 \r\nL 7.90625 -13.28125 \r\nL 13.1875 -13.28125 \r\nQ 16.890625 -13.28125 18.9375 -11.515625 \r\nQ 21 -9.765625 23.484375 -3.21875 \r\nL 25.09375 0.875 \r\nL 2.984375 54.6875 \r\nL 12.5 54.6875 \r\nL 29.59375 11.921875 \r\nL 46.6875 54.6875 \r\nL 56.203125 54.6875 \r\nz\r\n\" id=\"DejaVuSans-121\"/>\r\n      </defs>\r\n      <use xlink:href=\"#DejaVuSans-65\"/>\r\n      <use x=\"66.658203\" xlink:href=\"#DejaVuSans-99\"/>\r\n      <use x=\"121.638672\" xlink:href=\"#DejaVuSans-99\"/>\r\n      <use x=\"176.619141\" xlink:href=\"#DejaVuSans-117\"/>\r\n      <use x=\"239.998047\" xlink:href=\"#DejaVuSans-114\"/>\r\n      <use x=\"281.111328\" xlink:href=\"#DejaVuSans-97\"/>\r\n      <use x=\"342.390625\" xlink:href=\"#DejaVuSans-99\"/>\r\n      <use x=\"397.371094\" xlink:href=\"#DejaVuSans-121\"/>\r\n     </g>\r\n    </g>\r\n   </g>\r\n   <g id=\"line2d_31\">\r\n    <path clip-path=\"url(#pba00e9af53)\" d=\"M 549.209349 361.734545 \r\nL 549.356949 361.333677 \r\nL 552.382744 361.266866 \r\nL 552.604144 361.200054 \r\nL 552.899343 361.200054 \r\nL 553.046943 360.99962 \r\nL 553.120743 361.066431 \r\nL 553.489742 360.331506 \r\nL 554.006342 357.124557 \r\nL 554.227741 355.38746 \r\nL 554.375341 354.385289 \r\nL 554.81814 346.568353 \r\nL 555.777539 322.315806 \r\nL 555.851339 321.914938 \r\nL 556.367938 313.429887 \r\nL 556.810737 307.617294 \r\nL 557.032137 303.341363 \r\nL 557.105937 303.274551 \r\nL 557.253537 301.403831 \r\nL 557.327336 301.33702 \r\nL 557.770136 299.800357 \r\nL 558.139135 298.196883 \r\nL 558.508135 296.526598 \r\nL 558.655734 296.19254 \r\nL 558.803334 296.392975 \r\nL 558.877134 296.392975 \r\nL 559.024734 295.925295 \r\nL 559.098534 295.992106 \r\nL 559.172334 295.591238 \r\nL 559.319933 293.987764 \r\nL 559.393733 293.854141 \r\nL 559.836532 291.916609 \r\nL 559.910332 291.983421 \r\nL 559.984132 291.315307 \r\nL 560.057932 291.515741 \r\nL 560.205532 291.181684 \r\nL 560.279332 291.448929 \r\nL 560.426932 290.780815 \r\nL 560.574531 289.979078 \r\nL 560.648331 289.979078 \r\nL 560.795931 289.444587 \r\nL 561.09113 288.843284 \r\nL 561.16493 289.043718 \r\nL 561.31253 288.241981 \r\nL 561.38633 288.17517 \r\nL 561.755329 287.23981 \r\nL 561.829129 287.23981 \r\nL 562.124329 286.571696 \r\nL 562.198129 286.571696 \r\nL 562.419528 285.83677 \r\nL 562.567128 286.104016 \r\nL 562.936128 285.168656 \r\nL 563.009927 285.36909 \r\nL 563.378927 284.366919 \r\nL 563.452727 284.43373 \r\nL 563.600327 283.565182 \r\nL 563.821726 283.631993 \r\nL 564.043126 282.963879 \r\nL 564.116926 283.164313 \r\nL 564.338325 282.629822 \r\nL 564.485925 282.56301 \r\nL 564.781125 282.696633 \r\nL 564.928724 282.56301 \r\nL 565.076324 282.56301 \r\nL 565.223924 282.028519 \r\nL 565.297724 282.162142 \r\nL 565.445324 282.228953 \r\nL 565.666723 281.828085 \r\nL 565.961923 281.427216 \r\nL 566.257122 280.759102 \r\nL 566.330922 280.825913 \r\nL 566.995121 278.754759 \r\nL 567.142721 278.621136 \r\nL 567.216521 278.821571 \r\nL 567.58552 277.819399 \r\nL 567.73312 277.685777 \r\nL 567.80692 277.819399 \r\nL 567.88072 277.752588 \r\nL 567.95452 277.685777 \r\nL 568.102119 278.019834 \r\nL 568.175919 277.953022 \r\nL 568.323519 275.681434 \r\nL 568.692519 275.01332 \r\nL 568.913918 274.278394 \r\nL 569.135318 273.743903 \r\nL 569.578117 272.073617 \r\nL 569.725717 271.672749 \r\nL 569.873317 270.470143 \r\nL 569.947117 270.470143 \r\nL 570.168516 269.802029 \r\nL 570.242316 269.86884 \r\nL 570.316116 269.802029 \r\nL 570.685115 268.733046 \r\nL 570.832715 268.733046 \r\nL 570.980315 268.666235 \r\nL 571.127915 268.332177 \r\nL 571.275514 268.064932 \r\nL 571.349314 267.797686 \r\nL 571.423114 266.862326 \r\nL 571.496914 266.929138 \r\nL 571.644514 266.661892 \r\nL 572.013513 265.860155 \r\nL 572.308713 266.060589 \r\nL 572.530112 265.726532 \r\nL 572.603912 265.860155 \r\nL 572.677712 265.192041 \r\nL 572.751512 265.258852 \r\nL 573.046712 264.724361 \r\nL 573.268111 264.457115 \r\nL 573.489511 263.855812 \r\nL 573.563311 263.855812 \r\nL 573.784711 263.187698 \r\nL 573.93231 262.987264 \r\nL 574.37511 261.985092 \r\nL 574.522709 261.985092 \r\nL 574.596509 261.85147 \r\nL 574.744109 262.051904 \r\nL 574.891709 259.713504 \r\nL 575.039309 259.579881 \r\nL 575.186908 259.646693 \r\nL 575.408308 258.57771 \r\nL 575.629708 258.510898 \r\nL 575.703508 258.57771 \r\nL 576.220107 257.842784 \r\nL 576.441506 257.775973 \r\nL 577.253305 256.506556 \r\nL 577.327105 256.70699 \r\nL 577.769904 255.437573 \r\nL 577.843704 255.437573 \r\nL 577.991304 255.103516 \r\nL 578.729303 254.301779 \r\nL 579.024502 253.967722 \r\nL 579.098302 253.967722 \r\nL 579.245902 254.101345 \r\nL 580.2791 253.232796 \r\nL 580.3529 253.366419 \r\nL 580.4267 253.299608 \r\nL 580.6481 253.232796 \r\nL 581.017099 253.032362 \r\nL 581.164699 253.032362 \r\nL 581.386099 253.032362 \r\nL 581.607498 252.831928 \r\nL 581.681298 252.831928 \r\nL 582.197897 251.896568 \r\nL 582.271697 251.963379 \r\nL 582.419297 251.896568 \r\nL 582.493097 251.562511 \r\nL 582.566897 251.629322 \r\nL 583.304896 251.562511 \r\nL 583.378695 251.495699 \r\nL 583.821495 249.959036 \r\nL 584.116694 249.892225 \r\nL 584.338094 249.624979 \r\nL 584.411894 249.624979 \r\nL 584.559494 249.157299 \r\nL 584.633293 249.224111 \r\nL 584.854693 249.023677 \r\nL 585.002293 248.823242 \r\nL 585.223693 248.221939 \r\nL 585.666492 247.821071 \r\nL 585.814092 247.954694 \r\nL 585.887891 247.821071 \r\nL 586.035491 246.952522 \r\nL 586.183091 247.086145 \r\nL 586.55209 246.618465 \r\nL 587.216289 246.150785 \r\nL 587.363889 246.083974 \r\nL 588.028088 244.814557 \r\nL 588.101888 244.881368 \r\nL 588.249488 244.881368 \r\nL 588.692287 244.213254 \r\nL 589.061287 244.4805 \r\nL 589.208886 243.745574 \r\nL 589.282686 243.812386 \r\nL 589.356486 243.812386 \r\nL 589.577886 243.54514 \r\nL 589.651686 243.678763 \r\nL 589.799285 243.211083 \r\nL 590.020685 243.010649 \r\nL 590.094485 243.144271 \r\nL 590.389684 242.60978 \r\nL 590.537284 242.743403 \r\nL 590.758684 242.676591 \r\nL 591.201483 241.67442 \r\nL 591.349083 241.407174 \r\nL 591.865682 241.073117 \r\nL 592.013282 240.538626 \r\nL 592.087082 240.672249 \r\nL 592.308481 240.338192 \r\nL 592.529881 240.070946 \r\nL 592.751281 240.137757 \r\nL 593.04648 239.736889 \r\nL 593.34168 239.937323 \r\nL 593.563079 239.603266 \r\nL 594.153478 239.202397 \r\nL 594.301078 239.202397 \r\nL 594.374878 239.202397 \r\nL 594.596278 238.86834 \r\nL 594.891477 238.734718 \r\nL 594.965277 238.86834 \r\nL 595.112877 238.734718 \r\nL 595.186677 238.801529 \r\nL 595.481876 238.40066 \r\nL 595.629476 238.333849 \r\nL 595.924676 237.999792 \r\nL 595.998476 237.999792 \r\nL 596.219875 237.799358 \r\nL 596.293675 237.93298 \r\nL 596.367475 237.866169 \r\nL 596.588875 237.799358 \r\nL 596.736474 237.398489 \r\nL 596.810274 237.465301 \r\nL 596.884074 237.131243 \r\nL 596.957874 237.198055 \r\nL 597.253074 236.863998 \r\nL 597.400673 236.863998 \r\nL 597.474473 236.997621 \r\nL 597.991072 236.195883 \r\nL 598.212472 236.195883 \r\nL 598.360072 235.861826 \r\nL 598.433872 235.928638 \r\nL 598.655271 235.594581 \r\nL 598.802871 234.792844 \r\nL 599.024271 234.726032 \r\nL 599.098071 234.726032 \r\nL 599.39327 234.325164 \r\nL 599.46707 234.458787 \r\nL 599.76227 233.924295 \r\nL 599.83607 233.991107 \r\nL 599.983669 232.654878 \r\nL 600.205069 232.454444 \r\nL 600.574068 231.986764 \r\nL 600.721668 231.853141 \r\nL 601.016868 231.78633 \r\nL 601.533467 231.452273 \r\nL 601.681067 231.385461 \r\nL 601.754867 231.31865 \r\nL 601.902466 231.519084 \r\nL 602.050066 231.118215 \r\nL 602.197666 231.251838 \r\nL 602.419065 230.784158 \r\nL 602.566665 230.85097 \r\nL 602.861865 230.717347 \r\nL 602.935665 230.717347 \r\nL 603.157064 230.38329 \r\nL 603.747463 229.982421 \r\nL 604.190263 229.91561 \r\nL 604.633062 229.581553 \r\nL 604.706862 229.715176 \r\nL 604.928262 229.180684 \r\nL 605.002061 229.247496 \r\nL 605.149661 229.648364 \r\nL 606.256659 228.713004 \r\nL 606.404259 228.713004 \r\nL 606.551859 228.779816 \r\nL 606.625659 228.846627 \r\nL 606.773259 228.378947 \r\nL 606.847059 228.378947 \r\nL 606.994658 228.111701 \r\nL 607.068458 228.178513 \r\nL 607.142258 228.178513 \r\nL 607.216058 228.312136 \r\nL 607.289858 228.245324 \r\nL 607.511257 227.911267 \r\nL 607.658857 227.911267 \r\nL 607.806457 227.911267 \r\nL 607.880257 227.644021 \r\nL 607.954057 227.777644 \r\nL 608.101657 227.710833 \r\nL 608.323056 227.510399 \r\nL 608.544456 227.510399 \r\nL 608.692056 227.243153 \r\nL 608.765856 227.309964 \r\nL 609.061055 226.508227 \r\nL 609.430054 226.107359 \r\nL 609.503854 225.906924 \r\nL 609.577654 225.973736 \r\nL 609.799054 225.906924 \r\nL 610.168053 225.639679 \r\nL 610.315653 225.305622 \r\nL 610.389453 225.372433 \r\nL 610.906052 224.637507 \r\nL 610.979852 224.637507 \r\nL 611.053652 224.503885 \r\nL 611.127452 224.570696 \r\nL 611.201252 224.704319 \r\nL 611.348851 224.437073 \r\nL 611.422651 224.570696 \r\nL 611.570251 224.103016 \r\nL 611.717851 224.103016 \r\nL 611.939251 224.169828 \r\nL 612.30825 223.902582 \r\nL 612.45585 224.169828 \r\nL 612.603449 223.83577 \r\nL 612.972449 223.36809 \r\nL 613.046249 223.234468 \r\nL 613.120049 223.301279 \r\nL 613.415248 223.167656 \r\nL 613.710448 223.36809 \r\nL 614.300847 222.432731 \r\nL 614.374647 222.432731 \r\nL 615.038846 221.363748 \r\nL 615.112646 221.564182 \r\nL 615.260245 221.296936 \r\nL 615.334045 221.296936 \r\nL 615.998244 220.294765 \r\nL 616.145844 220.294765 \r\nL 616.219644 220.361576 \r\nL 616.441043 220.161142 \r\nL 616.514843 220.161142 \r\nL 616.588643 220.027519 \r\nL 616.736243 220.227954 \r\nL 616.957643 220.027519 \r\nL 617.031443 220.094331 \r\nL 617.252842 219.559839 \r\nL 617.326642 219.626651 \r\nL 617.474242 219.158971 \r\nL 617.548042 219.225782 \r\nL 617.695641 219.092159 \r\nL 617.843241 219.092159 \r\nL 618.212241 218.691291 \r\nL 618.286041 218.490857 \r\nL 618.35984 218.557668 \r\nL 618.58124 218.290422 \r\nL 618.72884 218.089988 \r\nL 618.95024 218.089988 \r\nL 619.097839 217.755931 \r\nL 619.171639 217.822742 \r\nL 619.319239 217.555497 \r\nL 619.393039 217.555497 \r\nL 619.909638 216.152457 \r\nL 619.983438 216.219268 \r\nL 620.057238 216.219268 \r\nL 620.204838 215.751588 \r\nL 620.352437 215.484343 \r\nL 620.500037 215.283908 \r\nL 620.795237 214.88304 \r\nL 621.016636 214.548983 \r\nL 621.238036 214.482171 \r\nL 621.533235 214.348548 \r\nL 621.607035 214.348548 \r\nL 621.754635 214.148114 \r\nL 621.902235 214.148114 \r\nL 622.123635 213.94768 \r\nL 622.271234 213.94768 \r\nL 622.345034 213.814057 \r\nL 622.418834 213.880869 \r\nL 622.640234 213.880869 \r\nL 622.714034 213.747246 \r\nL 622.787833 213.814057 \r\nL 622.935433 213.814057 \r\nL 623.009233 213.680434 \r\nL 623.156833 214.014491 \r\nL 623.230633 213.94768 \r\nL 623.894832 212.878697 \r\nL 623.968632 212.878697 \r\nL 624.190031 212.344206 \r\nL 624.485231 212.07696 \r\nL 624.70663 211.60928 \r\nL 624.78043 211.742903 \r\nL 624.92803 211.208412 \r\nL 625.07563 211.408846 \r\nL 625.370829 211.1416 \r\nL 625.518429 210.273052 \r\nL 625.592229 210.273052 \r\nL 625.666029 210.005806 \r\nL 625.739829 210.072617 \r\nL 625.961228 209.73856 \r\nL 626.035028 209.872183 \r\nL 626.256428 209.404503 \r\nL 626.330228 209.337692 \r\nL 626.551628 208.936823 \r\nL 626.625427 208.870012 \r\nL 626.699227 209.070446 \r\nL 626.920627 208.669578 \r\nL 627.437226 208.268709 \r\nL 627.511026 208.402332 \r\nL 627.806226 208.001463 \r\nL 627.880025 208.068275 \r\nL 628.396625 207.266538 \r\nL 628.470425 207.333349 \r\nL 628.618024 207.066103 \r\nL 628.691824 207.066103 \r\nL 628.839424 206.865669 \r\nL 628.913224 206.932481 \r\nL 629.060824 206.732046 \r\nL 629.872622 206.063932 \r\nL 630.094022 206.197555 \r\nL 630.241622 206.063932 \r\nL 630.389222 205.997121 \r\nL 630.536821 205.796686 \r\nL 630.684421 205.596252 \r\nL 630.832021 205.529441 \r\nL 631.12722 205.395818 \r\nL 631.20102 205.395818 \r\nL 631.34862 205.195384 \r\nL 631.42242 205.596252 \r\nL 631.57002 204.994949 \r\nL 631.64382 205.262195 \r\nL 631.791419 204.928138 \r\nL 631.865219 204.861327 \r\nL 631.939019 204.059589 \r\nL 632.012819 204.928138 \r\nL 632.160419 203.859155 \r\nL 632.234219 203.925967 \r\nL 632.308018 203.391475 \r\nL 632.381818 203.458287 \r\nL 632.750818 202.990607 \r\nL 632.824618 203.324664 \r\nL 633.415017 201.921624 \r\nL 633.488817 202.255681 \r\nL 633.562617 202.122058 \r\nL 633.710216 202.055247 \r\nL 633.784016 202.122058 \r\nL 634.226815 201.119887 \r\nL 634.964814 200.31815 \r\nL 635.112414 199.917281 \r\nL 635.186214 199.917281 \r\nL 635.333814 199.650036 \r\nL 635.481414 199.650036 \r\nL 635.776613 199.449601 \r\nL 635.998013 198.91511 \r\nL 636.071813 198.91511 \r\nL 636.293212 198.581053 \r\nL 637.62161 197.244824 \r\nL 637.69541 197.111202 \r\nL 637.84301 197.311636 \r\nL 638.138209 196.977579 \r\nL 638.359609 196.643522 \r\nL 638.507209 196.710333 \r\nL 638.654809 196.509899 \r\nL 638.876208 196.309465 \r\nL 638.950008 196.509899 \r\nL 639.023808 196.376276 \r\nL 639.097608 196.443087 \r\nL 639.245208 196.509899 \r\nL 639.392807 196.242653 \r\nL 639.614207 196.175842 \r\nL 639.835607 195.908596 \r\nL 640.278406 195.841785 \r\nL 640.426006 195.240482 \r\nL 640.499806 195.240482 \r\nL 640.721205 194.906425 \r\nL 640.868805 194.906425 \r\nL 640.942605 194.906425 \r\nL 641.237804 194.305122 \r\nL 641.311604 194.505556 \r\nL 641.385404 194.438745 \r\nL 641.533004 194.305122 \r\nL 641.606804 194.037876 \r\nL 641.680604 194.104688 \r\nL 641.754404 194.23831 \r\nL 641.828204 193.436573 \r\nL 641.902003 193.837442 \r\nL 641.975803 193.169328 \r\nL 642.049603 193.436573 \r\nL 642.271003 192.568025 \r\nL 642.344803 192.835271 \r\nL 642.566202 192.233968 \r\nL 642.861402 192.167156 \r\nL 643.156601 191.899911 \r\nL 643.230401 192.033534 \r\nL 643.525601 191.699476 \r\nL 643.747001 191.632665 \r\nL 643.8208 191.899911 \r\nL 643.8946 191.499042 \r\nL 643.9684 191.632665 \r\nL 644.0422 191.632665 \r\nL 644.2636 191.164985 \r\nL 644.411199 191.499042 \r\nL 644.558799 191.231796 \r\nL 644.632599 191.365419 \r\nL 644.706399 191.098174 \r\nL 644.780199 191.298608 \r\nL 645.222998 190.363248 \r\nL 645.296798 190.229625 \r\nL 645.370598 190.296437 \r\nL 645.739597 190.096002 \r\nL 645.813397 190.162814 \r\nL 645.960997 189.962379 \r\nL 646.034797 190.029191 \r\nL 646.182397 189.828757 \r\nL 646.256197 189.962379 \r\nL 646.329996 189.695134 \r\nL 646.403796 189.895568 \r\nL 646.551396 189.695134 \r\nL 646.625196 189.695134 \r\nL 646.772796 189.828757 \r\nL 646.846596 189.628322 \r\nL 646.920396 189.695134 \r\nL 647.215595 189.093831 \r\nL 647.289395 189.160642 \r\nL 647.363195 189.160642 \r\nL 647.436995 188.960208 \r\nL 647.510795 189.093831 \r\nL 647.584594 188.960208 \r\nL 647.658394 189.02702 \r\nL 648.174994 188.425717 \r\nL 648.248793 188.158471 \r\nL 648.322593 188.425717 \r\nL 648.396393 188.358905 \r\nL 648.617793 188.024848 \r\nL 648.691593 188.158471 \r\nL 648.839192 187.690791 \r\nL 648.912992 187.891225 \r\nL 649.060592 187.557168 \r\nL 649.134392 187.824414 \r\nL 649.208192 187.490357 \r\nL 649.281992 187.62398 \r\nL 649.724791 187.089488 \r\nL 649.798591 187.423545 \r\nL 649.872391 187.022677 \r\nL 649.946191 187.223111 \r\nL 650.093791 186.822243 \r\nL 650.16759 186.955865 \r\nL 650.24139 186.889054 \r\nL 650.31519 186.955865 \r\nL 650.46279 186.822243 \r\nL 650.68419 186.822243 \r\nL 650.757989 186.421374 \r\nL 650.831789 186.755431 \r\nL 650.905589 186.554997 \r\nL 650.979389 186.68862 \r\nL 651.053189 186.554997 \r\nL 651.126989 186.020506 \r\nL 651.200789 186.354563 \r\nL 651.274589 185.953694 \r\nL 651.348389 186.354563 \r\nL 651.422188 186.154128 \r\nL 651.495988 186.087317 \r\nL 651.569788 185.820071 \r\nL 651.643588 186.087317 \r\nL 651.717388 185.486014 \r\nL 651.791188 185.886883 \r\nL 651.938788 185.486014 \r\nL 652.086387 185.28558 \r\nL 652.160187 185.419203 \r\nL 652.233987 185.218768 \r\nL 652.307787 185.486014 \r\nL 652.529187 184.751089 \r\nL 652.602987 184.684277 \r\nL 652.676786 185.218768 \r\nL 652.750586 184.617466 \r\nL 652.824386 184.751089 \r\nL 653.045786 184.283409 \r\nL 653.119586 184.417031 \r\nL 653.193386 184.35022 \r\nL 653.636185 183.88254 \r\nL 653.709985 183.682106 \r\nL 653.783785 183.949351 \r\nL 654.005184 183.548483 \r\nL 654.078984 183.615294 \r\nL 654.226584 183.147614 \r\nL 654.300384 183.214426 \r\nL 654.521784 182.746746 \r\nL 654.595583 182.746746 \r\nL 654.743183 182.4795 \r\nL 654.816983 182.613123 \r\nL 654.890783 182.412689 \r\nL 654.964583 182.4795 \r\nL 655.185983 182.145443 \r\nL 655.259782 182.412689 \r\nL 655.333582 181.945009 \r\nL 655.407382 182.078632 \r\nL 655.481182 181.878197 \r\nL 655.554982 181.945009 \r\nL 655.628782 182.01182 \r\nL 655.702582 181.811386 \r\nL 655.776382 182.01182 \r\nL 655.850181 181.744575 \r\nL 655.923981 182.145443 \r\nL 655.997781 181.744575 \r\nL 656.071581 182.01182 \r\nL 656.292981 181.610952 \r\nL 656.366781 181.878197 \r\nL 656.51438 181.610952 \r\nL 656.73578 181.54414 \r\nL 656.95718 181.143272 \r\nL 657.03098 181.276895 \r\nL 657.178579 181.009649 \r\nL 657.252379 181.143272 \r\nL 657.326179 181.07646 \r\nL 657.473779 181.009649 \r\nL 657.547579 181.07646 \r\nL 657.768978 180.742403 \r\nL 657.842778 180.809215 \r\nL 657.916578 179.807043 \r\nL 657.990378 179.940666 \r\nL 658.064178 179.740232 \r\nL 658.137978 180.074289 \r\nL 658.211778 179.740232 \r\nL 658.285578 179.807043 \r\nL 658.359378 179.606609 \r\nL 658.433177 179.740232 \r\nL 658.506977 179.539798 \r\nL 658.580777 179.606609 \r\nL 658.802177 179.606609 \r\nL 658.875977 179.205741 \r\nL 658.949777 179.539798 \r\nL 659.244976 179.005306 \r\nL 659.318776 179.138929 \r\nL 659.540176 178.404003 \r\nL 659.687775 178.537626 \r\nL 659.982975 178.003135 \r\nL 660.204375 178.069946 \r\nL 660.573374 177.401832 \r\nL 660.647174 177.669078 \r\nL 660.720974 177.268209 \r\nL 660.794774 177.669078 \r\nL 660.868574 177.201398 \r\nL 660.942373 177.468644 \r\nL 661.016173 177.000964 \r\nL 661.089973 177.134586 \r\nL 661.237573 176.800529 \r\nL 661.827972 176.266038 \r\nL 662.049372 175.397489 \r\nL 662.123172 175.464301 \r\nL 662.270771 175.263867 \r\nL 662.344571 175.330678 \r\nL 662.418371 174.796187 \r\nL 662.492171 175.197055 \r\nL 662.565971 175.063432 \r\nL 662.639771 174.862998 \r\nL 662.713571 174.996621 \r\nL 662.93497 174.662564 \r\nL 663.08257 174.595752 \r\nL 663.15637 174.261695 \r\nL 663.23017 174.528941 \r\nL 663.45157 174.194884 \r\nL 663.525369 174.261695 \r\nL 663.746769 173.927638 \r\nL 663.820569 173.99445 \r\nL 664.115768 173.660392 \r\nL 664.189568 173.593581 \r\nL 664.410968 173.05909 \r\nL 664.484768 173.393147 \r\nL 664.632368 172.925467 \r\nL 664.853767 172.992278 \r\nL 664.927567 172.725033 \r\nL 665.001367 172.925467 \r\nL 665.075167 172.524598 \r\nL 665.148967 172.925467 \r\nL 665.222767 172.390975 \r\nL 665.296567 172.658221 \r\nL 665.591766 172.324164 \r\nL 665.665566 172.324164 \r\nL 665.960766 171.856484 \r\nL 666.108365 172.056918 \r\nL 666.255965 171.789673 \r\nL 666.403565 171.65605 \r\nL 666.477365 171.789673 \r\nL 666.551165 171.455616 \r\nL 666.624965 171.65605 \r\nL 666.846364 171.255181 \r\nL 666.920164 171.455616 \r\nL 666.993964 171.18837 \r\nL 667.067764 171.388804 \r\nL 667.436763 170.520256 \r\nL 667.510563 170.653878 \r\nL 667.879563 170.186199 \r\nL 667.953362 170.386633 \r\nL 668.174762 170.186199 \r\nL 668.543762 169.918953 \r\nL 668.617561 169.584896 \r\nL 668.691361 169.852141 \r\nL 668.912761 169.451273 \r\nL 668.986561 169.451273 \r\nL 669.060361 169.250839 \r\nL 669.134161 169.651707 \r\nL 669.20796 169.31765 \r\nL 669.28176 169.384461 \r\nL 669.42936 169.117216 \r\nL 669.57696 169.117216 \r\nL 669.65076 168.916782 \r\nL 669.72456 169.117216 \r\nL 669.79836 168.783159 \r\nL 669.872159 168.983593 \r\nL 670.093559 168.449102 \r\nL 670.167359 168.515913 \r\nL 670.241159 168.315479 \r\nL 670.314959 168.515913 \r\nL 670.388759 168.449102 \r\nL 670.462558 168.449102 \r\nL 670.536358 168.315479 \r\nL 670.610158 168.515913 \r\nL 670.683958 168.048233 \r\nL 670.757758 168.515913 \r\nL 670.979158 167.91461 \r\nL 671.126757 168.048233 \r\nL 671.200557 167.513742 \r\nL 671.274357 168.115044 \r\nL 671.348157 167.580553 \r\nL 671.421957 168.048233 \r\nL 671.495757 167.714176 \r\nL 671.569557 167.847799 \r\nL 671.790956 167.380119 \r\nL 671.864756 167.580553 \r\nL 671.938556 167.246496 \r\nL 672.012356 167.44693 \r\nL 672.086156 167.380119 \r\nL 672.233756 166.97925 \r\nL 672.307556 167.046062 \r\nL 672.528955 166.845627 \r\nL 672.602755 166.845627 \r\nL 672.676555 166.578382 \r\nL 672.750355 166.712005 \r\nL 672.971755 166.377947 \r\nL 673.045554 166.645193 \r\nL 673.266954 166.244325 \r\nL 673.340754 166.444759 \r\nL 673.414554 166.110702 \r\nL 673.488354 166.177513 \r\nL 673.562154 166.177513 \r\nL 673.635954 166.04389 \r\nL 673.709753 166.110702 \r\nL 673.783553 166.244325 \r\nL 673.857353 165.843456 \r\nL 673.931153 165.977079 \r\nL 674.078753 165.910268 \r\nL 674.152553 166.04389 \r\nL 674.373952 165.709833 \r\nL 674.447752 165.709833 \r\nL 674.816752 164.841285 \r\nL 674.890552 165.175342 \r\nL 674.964351 164.640851 \r\nL 675.038151 165.10853 \r\nL 675.185751 164.507228 \r\nL 675.480951 164.440416 \r\nL 675.55475 164.373605 \r\nL 675.62855 164.106359 \r\nL 675.70235 164.239982 \r\nL 675.77615 164.106359 \r\nL 675.84995 164.239982 \r\nL 675.92375 163.972736 \r\nL 675.99755 164.106359 \r\nL 676.07135 164.106359 \r\nL 676.292749 163.638679 \r\nL 676.366549 163.772302 \r\nL 676.440349 163.505056 \r\nL 676.514149 163.705491 \r\nL 676.735549 163.304622 \r\nL 676.956948 163.304622 \r\nL 677.178348 162.770131 \r\nL 677.252148 163.170999 \r\nL 677.473547 162.436074 \r\nL 677.547347 162.770131 \r\nL 677.768747 162.235639 \r\nL 677.842547 162.369262 \r\nL 677.916347 161.901582 \r\nL 677.990147 162.168828 \r\nL 678.211546 161.634337 \r\nL 678.285346 161.901582 \r\nL 678.359146 161.834771 \r\nL 678.580546 161.300279 \r\nL 678.654346 161.767959 \r\nL 678.728145 161.099845 \r\nL 678.801945 161.901582 \r\nL 678.875745 161.099845 \r\nL 678.949545 161.834771 \r\nL 679.170945 160.765788 \r\nL 679.318545 160.899411 \r\nL 679.392344 160.765788 \r\nL 679.466144 160.832599 \r\nL 679.539944 160.832599 \r\nL 679.761344 160.097674 \r\nL 679.835144 160.632165 \r\nL 679.908944 159.964051 \r\nL 679.982744 160.698977 \r\nL 680.056543 159.629994 \r\nL 680.130343 160.765788 \r\nL 680.204143 159.496371 \r\nL 680.277943 160.030862 \r\nL 680.351743 159.496371 \r\nL 680.425543 159.696805 \r\nL 680.720742 159.563182 \r\nL 680.794542 159.563182 \r\nL 680.942142 159.362748 \r\nL 681.089742 159.362748 \r\nL 681.237342 159.028691 \r\nL 681.311141 159.095502 \r\nL 681.384941 158.895068 \r\nL 681.458741 158.96188 \r\nL 681.532541 158.895068 \r\nL 681.606341 159.028691 \r\nL 681.680141 158.96188 \r\nL 681.901541 158.761445 \r\nL 681.97534 159.028691 \r\nL 682.04914 158.427388 \r\nL 682.12294 159.095502 \r\nL 682.19674 158.427388 \r\nL 682.27054 159.028691 \r\nL 682.34434 158.360577 \r\nL 682.41814 158.627823 \r\nL 682.49194 158.4942 \r\nL 682.565739 158.627823 \r\nL 682.787139 158.293765 \r\nL 682.860939 158.4942 \r\nL 682.934739 158.160143 \r\nL 683.008539 158.4942 \r\nL 683.082339 158.02652 \r\nL 683.156139 158.226954 \r\nL 683.229938 157.959708 \r\nL 683.303738 158.160143 \r\nL 683.377538 158.093331 \r\nL 683.451338 157.692463 \r\nL 683.525138 157.959708 \r\nL 683.598938 157.492028 \r\nL 683.672738 158.02652 \r\nL 683.746538 157.358406 \r\nL 683.820337 158.093331 \r\nL 683.894137 157.358406 \r\nL 683.967937 158.4942 \r\nL 684.041737 157.224783 \r\nL 684.115537 158.093331 \r\nL 684.189337 157.358406 \r\nL 684.263137 157.759274 \r\nL 684.336937 157.625651 \r\nL 684.410737 157.157971 \r\nL 684.484536 157.625651 \r\nL 684.558336 156.957537 \r\nL 684.632136 157.759274 \r\nL 684.705936 156.890726 \r\nL 684.779736 157.425217 \r\nL 684.927336 156.823914 \r\nL 685.001136 157.492028 \r\nL 685.074936 156.890726 \r\nL 685.148735 157.492028 \r\nL 685.222535 156.823914 \r\nL 685.296335 157.224783 \r\nL 685.443935 156.757103 \r\nL 685.517735 157.024348 \r\nL 685.591535 156.890726 \r\nL 685.665335 157.09116 \r\nL 685.739134 156.690291 \r\nL 685.812934 157.09116 \r\nL 685.886734 156.62348 \r\nL 685.960534 157.09116 \r\nL 686.108134 156.690291 \r\nL 686.181934 156.690291 \r\nL 686.255734 156.556668 \r\nL 686.329534 156.757103 \r\nL 686.403333 156.356234 \r\nL 686.477133 156.62348 \r\nL 686.550933 156.088988 \r\nL 686.624733 156.556668 \r\nL 686.698533 156.088988 \r\nL 686.772333 156.222611 \r\nL 686.846133 156.1558 \r\nL 687.067532 155.754931 \r\nL 687.141332 155.821743 \r\nL 687.215132 155.354063 \r\nL 687.288932 155.955366 \r\nL 687.362732 155.153629 \r\nL 687.436532 156.022177 \r\nL 687.510332 155.22044 \r\nL 687.584132 155.354063 \r\nL 687.731731 155.086817 \r\nL 687.805531 155.354063 \r\nL 687.879331 154.819571 \r\nL 687.953131 155.420874 \r\nL 688.026931 154.75276 \r\nL 688.100731 155.086817 \r\nL 688.248331 154.886383 \r\nL 688.32213 155.086817 \r\nL 688.39593 154.619137 \r\nL 688.46973 154.953194 \r\nL 688.61733 154.619137 \r\nL 688.83873 154.75276 \r\nL 688.986329 154.485514 \r\nL 689.060129 154.619137 \r\nL 689.207729 154.351892 \r\nL 689.281529 154.351892 \r\nL 689.355329 154.151457 \r\nL 689.429129 154.218269 \r\nL 689.502929 154.351892 \r\nL 689.576728 154.017834 \r\nL 689.650528 154.218269 \r\nL 689.724328 153.951023 \r\nL 689.798128 154.151457 \r\nL 689.871928 153.750589 \r\nL 689.945728 154.151457 \r\nL 690.019528 153.8174 \r\nL 690.093328 154.151457 \r\nL 690.314727 153.750589 \r\nL 690.388527 153.884212 \r\nL 690.462327 153.8174 \r\nL 690.905126 153.483343 \r\nL 691.126526 153.550154 \r\nL 691.200326 153.216097 \r\nL 691.274126 153.282909 \r\nL 691.347926 153.149286 \r\nL 691.421726 153.34972 \r\nL 691.643125 152.280737 \r\nL 691.790725 152.41436 \r\nL 691.864525 152.681606 \r\nL 691.938325 152.213926 \r\nL 692.012125 152.547983 \r\nL 692.085924 152.013492 \r\nL 692.159724 152.147115 \r\nL 692.454924 151.545812 \r\nL 692.897723 151.01132 \r\nL 692.971523 151.345378 \r\nL 693.266723 150.54364 \r\nL 693.340523 151.078132 \r\nL 693.414322 150.410018 \r\nL 693.488122 151.01132 \r\nL 693.561922 150.209583 \r\nL 693.635722 150.877698 \r\nL 693.709522 150.142772 \r\nL 693.783322 150.744075 \r\nL 693.857122 150.209583 \r\nL 693.930922 150.744075 \r\nL 694.004721 150.142772 \r\nL 694.078521 150.54364 \r\nL 694.152321 150.142772 \r\nL 694.226121 150.410018 \r\nL 694.299921 150.209583 \r\nL 694.373721 150.276395 \r\nL 694.74272 149.808715 \r\nL 694.89032 149.675092 \r\nL 694.96412 149.808715 \r\nL 695.18552 149.207412 \r\nL 695.259319 149.407846 \r\nL 695.480719 148.873355 \r\nL 695.702119 149.073789 \r\nL 695.775919 148.672921 \r\nL 695.849719 148.940166 \r\nL 695.923518 148.338864 \r\nL 695.997318 149.073789 \r\nL 696.071118 147.937995 \r\nL 696.144918 148.940166 \r\nL 696.218718 148.138429 \r\nL 696.292518 148.606109 \r\nL 696.366318 148.405675 \r\nL 696.440118 148.672921 \r\nL 696.587717 148.071618 \r\nL 696.661517 148.405675 \r\nL 696.735317 147.804372 \r\nL 696.809117 148.405675 \r\nL 696.956717 147.937995 \r\nL 697.104317 147.937995 \r\nL 697.399516 147.737561 \r\nL 697.473316 148.071618 \r\nL 697.547116 147.336692 \r\nL 697.620916 148.004806 \r\nL 697.694716 147.269881 \r\nL 697.768516 147.804372 \r\nL 697.842315 147.336692 \r\nL 697.916115 147.603938 \r\nL 697.989915 147.470315 \r\nL 698.063715 147.269881 \r\nL 698.137515 147.603938 \r\nL 698.211315 147.002635 \r\nL 698.285115 147.069447 \r\nL 698.358915 146.869012 \r\nL 698.432715 147.069447 \r\nL 698.506514 147.002635 \r\nL 698.580314 147.136258 \r\nL 698.875514 146.401332 \r\nL 698.949314 146.468144 \r\nL 699.023114 146.334521 \r\nL 699.096913 146.468144 \r\nL 699.170713 146.200898 \r\nL 699.244513 146.802201 \r\nL 699.318313 146.200898 \r\nL 699.392113 146.534955 \r\nL 699.613513 145.532784 \r\nL 699.687313 145.866841 \r\nL 699.761112 145.532784 \r\nL 699.834912 145.866841 \r\nL 699.908712 145.399161 \r\nL 699.982512 145.733218 \r\nL 700.130112 145.399161 \r\nL 700.277712 145.399161 \r\nL 700.499111 144.797858 \r\nL 700.572911 145.265538 \r\nL 700.646711 144.530612 \r\nL 700.720511 145.198727 \r\nL 700.794311 144.463801 \r\nL 700.868111 144.931481 \r\nL 701.01571 144.129744 \r\nL 701.08951 144.129744 \r\nL 701.16331 143.795687 \r\nL 701.23711 144.062933 \r\nL 701.31091 143.92931 \r\nL 701.38471 143.996121 \r\nL 701.45851 143.728875 \r\nL 701.53231 144.129744 \r\nL 701.679909 143.728875 \r\nL 701.753709 143.595253 \r\nL 701.827509 143.662064 \r\nL 701.901309 143.662064 \r\nL 701.975109 143.394818 \r\nL 702.048909 143.795687 \r\nL 702.122709 143.394818 \r\nL 702.196509 143.662064 \r\nL 702.417908 143.261195 \r\nL 702.491708 143.595253 \r\nL 702.565508 143.127573 \r\nL 702.639308 143.528441 \r\nL 702.713108 143.060761 \r\nL 702.786908 143.261195 \r\nL 702.860708 142.99395 \r\nL 702.934507 143.060761 \r\nL 703.008307 143.194384 \r\nL 703.229707 142.860327 \r\nL 703.377307 142.860327 \r\nL 703.451107 142.726704 \r\nL 703.524906 142.860327 \r\nL 703.598706 142.793516 \r\nL 703.672506 142.659893 \r\nL 703.746306 142.726704 \r\nL 704.262905 142.192213 \r\nL 704.336705 142.392647 \r\nL 704.410505 142.325836 \r\nL 704.484305 141.991778 \r\nL 704.558105 142.192213 \r\nL 704.631905 141.724533 \r\nL 704.705705 142.125401 \r\nL 704.779505 141.791344 \r\nL 704.853304 141.991778 \r\nL 704.927104 141.724533 \r\nL 705.000904 141.858156 \r\nL 705.738903 141.056419 \r\nL 705.812703 141.390476 \r\nL 705.886503 140.989607 \r\nL 705.960303 141.256853 \r\nL 706.107902 140.989607 \r\nL 706.181702 141.190041 \r\nL 706.255502 140.789173 \r\nL 706.329302 141.056419 \r\nL 706.403102 140.65555 \r\nL 706.476902 140.855984 \r\nL 706.624502 140.588739 \r\nL 706.698302 140.789173 \r\nL 706.772101 140.321493 \r\nL 706.845901 140.65555 \r\nL 706.919701 140.121059 \r\nL 706.993501 140.722361 \r\nL 707.067301 140.054247 \r\nL 707.141101 140.388304 \r\nL 707.4363 139.853813 \r\nL 707.5101 140.254681 \r\nL 707.5839 139.853813 \r\nL 707.6577 140.18787 \r\nL 707.7315 139.72019 \r\nL 707.8053 140.054247 \r\nL 707.8791 139.72019 \r\nL 707.9529 139.987436 \r\nL 708.026699 139.853813 \r\nL 708.174299 139.853813 \r\nL 708.248099 139.787002 \r\nL 708.321899 139.920624 \r\nL 708.395699 139.586567 \r\nL 708.469499 140.054247 \r\nL 708.543299 139.452944 \r\nL 708.617098 140.054247 \r\nL 708.690898 139.319322 \r\nL 708.764698 139.853813 \r\nL 708.838498 139.319322 \r\nL 708.912298 139.586567 \r\nL 708.986098 139.25251 \r\nL 709.133698 139.452944 \r\nL 709.207498 139.052076 \r\nL 709.281297 139.319322 \r\nL 709.355097 138.651207 \r\nL 709.428897 139.319322 \r\nL 709.502697 138.851642 \r\nL 709.576497 139.185699 \r\nL 709.650297 138.78483 \r\nL 709.724097 138.985264 \r\nL 709.797897 138.985264 \r\nL 709.871697 138.851642 \r\nL 709.945496 139.052076 \r\nL 710.019296 138.851642 \r\nL 710.093096 139.052076 \r\nL 710.240696 138.78483 \r\nL 710.314496 138.851642 \r\nL 710.388296 138.584396 \r\nL 710.462096 138.78483 \r\nL 710.535895 138.517584 \r\nL 710.609695 138.651207 \r\nL 710.831095 138.183527 \r\nL 710.904895 138.450773 \r\nL 710.978695 138.116716 \r\nL 711.052495 138.383962 \r\nL 711.126295 138.183527 \r\nL 711.200094 138.450773 \r\nL 711.273894 138.250339 \r\nL 711.347694 138.383962 \r\nL 711.421494 137.916282 \r\nL 711.495294 137.983093 \r\nL 711.790494 137.582225 \r\nL 711.864293 137.84947 \r\nL 711.938093 137.715847 \r\nL 712.011893 137.84947 \r\nL 712.159493 137.649036 \r\nL 712.233293 137.84947 \r\nL 712.307093 137.448602 \r\nL 712.380893 137.515413 \r\nL 712.454692 137.314979 \r\nL 712.528492 137.448602 \r\nL 712.676092 137.181356 \r\nL 712.749892 137.314979 \r\nL 712.823692 137.248167 \r\nL 712.971292 137.248167 \r\nL 713.192691 137.047733 \r\nL 713.266491 137.181356 \r\nL 713.340291 136.847299 \r\nL 713.414091 136.980922 \r\nL 713.561691 136.980922 \r\nL 713.70929 136.980922 \r\nL 714.00449 136.646865 \r\nL 714.07829 136.847299 \r\nL 714.15209 136.513242 \r\nL 714.22589 136.780488 \r\nL 714.29969 136.44643 \r\nL 714.373489 136.847299 \r\nL 714.447289 136.312808 \r\nL 714.521089 136.44643 \r\nL 714.594889 136.312808 \r\nL 714.668689 136.379619 \r\nL 714.890089 136.312808 \r\nL 715.111488 135.97875 \r\nL 715.185288 136.379619 \r\nL 715.259088 135.845128 \r\nL 715.332888 136.245996 \r\nL 715.406688 135.644693 \r\nL 715.480488 135.711505 \r\nL 715.628087 135.310636 \r\nL 715.701887 135.377448 \r\nL 715.775687 135.110202 \r\nL 715.849487 135.511071 \r\nL 715.923287 135.110202 \r\nL 715.997087 135.644693 \r\nL 716.070887 134.976579 \r\nL 716.144687 135.711505 \r\nL 716.218487 135.243825 \r\nL 716.292286 135.511071 \r\nL 716.366086 134.909768 \r\nL 716.439886 135.377448 \r\nL 716.587486 134.709333 \r\nL 716.661286 135.243825 \r\nL 716.735086 134.709333 \r\nL 716.808886 135.444259 \r\nL 716.882685 134.642522 \r\nL 716.956485 135.243825 \r\nL 717.030285 134.709333 \r\nL 717.104085 135.310636 \r\nL 717.177885 134.642522 \r\nL 717.251685 134.842956 \r\nL 717.325485 135.043391 \r\nL 717.399285 134.709333 \r\nL 717.473085 135.110202 \r\nL 717.546884 134.442088 \r\nL 717.620684 135.177013 \r\nL 717.694484 134.508899 \r\nL 717.768284 134.976579 \r\nL 717.915884 134.642522 \r\nL 717.989684 134.842956 \r\nL 718.063484 134.508899 \r\nL 718.137284 134.976579 \r\nL 718.211083 134.108031 \r\nL 718.284883 134.842956 \r\nL 718.358683 134.174842 \r\nL 718.432483 134.842956 \r\nL 718.506283 134.174842 \r\nL 718.580083 134.642522 \r\nL 718.653883 134.442088 \r\nL 718.727683 134.241653 \r\nL 718.801482 134.508899 \r\nL 718.875282 134.174842 \r\nL 718.949082 134.508899 \r\nL 719.022882 134.041219 \r\nL 719.096682 134.375276 \r\nL 719.170482 133.974408 \r\nL 719.244282 134.241653 \r\nL 719.318082 133.907596 \r\nL 719.391882 134.241653 \r\nL 719.465681 134.041219 \r\nL 719.539481 134.174842 \r\nL 719.687081 133.907596 \r\nL 719.834681 133.974408 \r\nL 720.12988 133.640351 \r\nL 720.20368 133.707162 \r\nL 720.27748 133.573539 \r\nL 720.35128 133.773974 \r\nL 720.57268 133.306294 \r\nL 720.64648 133.640351 \r\nL 720.720279 133.439916 \r\nL 720.794079 133.773974 \r\nL 720.867879 133.439916 \r\nL 720.941679 133.707162 \r\nL 721.015479 133.105859 \r\nL 721.089279 133.439916 \r\nL 721.163079 133.306294 \r\nL 721.236879 133.306294 \r\nL 721.458278 132.972236 \r\nL 721.532078 133.172671 \r\nL 721.605878 132.838614 \r\nL 721.679678 133.172671 \r\nL 721.753478 132.370934 \r\nL 721.827278 132.972236 \r\nL 721.901078 132.437745 \r\nL 721.974877 132.638179 \r\nL 722.122477 132.237311 \r\nL 722.196277 132.437745 \r\nL 722.270077 132.103688 \r\nL 722.343877 132.437745 \r\nL 722.417677 132.370934 \r\nL 722.491477 132.571368 \r\nL 722.639076 132.237311 \r\nL 722.786676 132.103688 \r\nL 722.860476 132.237311 \r\nL 722.934276 132.170499 \r\nL 723.008076 132.103688 \r\nL 723.155676 131.769631 \r\nL 723.377075 131.502385 \r\nL 723.450875 131.769631 \r\nL 723.524675 131.502385 \r\nL 723.598475 131.569197 \r\nL 723.746075 131.636008 \r\nL 723.893674 131.435574 \r\nL 723.967474 131.636008 \r\nL 724.262674 131.301951 \r\nL 724.336474 131.368762 \r\nL 724.410274 130.967894 \r\nL 724.631673 131.502385 \r\nL 724.853073 131.168328 \r\nL 724.926873 131.368762 \r\nL 725.074473 131.034705 \r\nL 725.148272 131.235139 \r\nL 725.222072 131.168328 \r\nL 725.295872 131.235139 \r\nL 725.517272 130.633837 \r\nL 725.591072 130.700648 \r\nL 725.960071 130.633837 \r\nL 726.033871 130.567025 \r\nL 726.107671 130.700648 \r\nL 726.181471 130.433402 \r\nL 726.255271 130.500214 \r\nL 726.329071 130.433402 \r\nL 726.55047 130.76746 \r\nL 726.62427 130.366591 \r\nL 726.69807 130.76746 \r\nL 726.77187 130.366591 \r\nL 726.84567 130.633837 \r\nL 726.91947 130.166157 \r\nL 726.99327 130.366591 \r\nL 727.140869 130.232968 \r\nL 727.214669 130.232968 \r\nL 727.288469 130.032534 \r\nL 727.362269 130.166157 \r\nL 727.657469 129.698477 \r\nL 727.731268 129.965722 \r\nL 727.878868 129.631665 \r\nL 728.026468 129.898911 \r\nL 728.100268 129.898911 \r\nL 728.247868 129.498043 \r\nL 728.321668 129.698477 \r\nL 728.469267 129.36442 \r\nL 728.690667 129.36442 \r\nL 728.764467 129.230797 \r\nL 728.838267 129.498043 \r\nL 729.059666 129.030363 \r\nL 729.133466 129.297608 \r\nL 729.354866 128.629494 \r\nL 729.650065 128.89674 \r\nL 729.723865 128.562683 \r\nL 729.797665 128.763117 \r\nL 729.871465 128.228626 \r\nL 729.945265 128.562683 \r\nL 730.019065 128.295437 \r\nL 730.092865 128.763117 \r\nL 730.166665 128.362248 \r\nL 730.240464 128.763117 \r\nL 730.314264 128.228626 \r\nL 730.388064 128.696305 \r\nL 730.535664 128.028191 \r\nL 730.609464 128.228626 \r\nL 730.683264 127.894568 \r\nL 730.757064 128.42906 \r\nL 730.830864 128.028191 \r\nL 730.904663 128.295437 \r\nL 730.978463 128.028191 \r\nL 731.052263 128.095003 \r\nL 731.126063 127.96138 \r\nL 731.199863 128.228626 \r\nL 731.347463 127.760946 \r\nL 731.568862 127.4937 \r\nL 731.642662 127.827757 \r\nL 731.716462 127.627323 \r\nL 731.790262 127.827757 \r\nL 731.864062 127.560511 \r\nL 731.937862 127.827757 \r\nL 732.011662 127.426888 \r\nL 732.085462 127.760946 \r\nL 732.159261 127.4937 \r\nL 732.233061 127.760946 \r\nL 732.306861 127.226454 \r\nL 732.380661 127.694134 \r\nL 732.454461 127.092831 \r\nL 732.528261 127.4937 \r\nL 732.602061 127.02602 \r\nL 732.675861 127.092831 \r\nL 732.82346 126.892397 \r\nL 732.89726 127.360077 \r\nL 732.97106 126.892397 \r\nL 733.04486 127.627323 \r\nL 733.11866 126.758774 \r\nL 733.19246 127.627323 \r\nL 733.26626 126.758774 \r\nL 733.34006 126.959208 \r\nL 733.487659 126.892397 \r\nL 733.561459 127.02602 \r\nL 733.635259 126.825586 \r\nL 733.709059 127.159643 \r\nL 733.782859 126.625151 \r\nL 733.856659 126.691963 \r\nL 734.078058 126.55834 \r\nL 734.151858 126.625151 \r\nL 734.299458 126.291094 \r\nL 734.373258 126.491529 \r\nL 734.447058 126.291094 \r\nL 734.520858 126.424717 \r\nL 734.816057 126.09066 \r\nL 734.889857 126.023849 \r\nL 734.963657 126.224283 \r\nL 735.037457 125.957037 \r\nL 735.258857 126.357906 \r\nL 735.406456 126.224283 \r\nL 735.480256 126.224283 \r\nL 735.627856 126.023849 \r\nL 735.849256 125.823414 \r\nL 735.923056 125.957037 \r\nL 735.996855 125.890226 \r\nL 736.292055 125.689791 \r\nL 736.513455 125.756603 \r\nL 736.587255 125.689791 \r\nL 736.661054 125.957037 \r\nL 736.734854 125.556169 \r\nL 736.808654 125.823414 \r\nL 736.882454 125.355734 \r\nL 736.956254 125.556169 \r\nL 737.103854 125.222112 \r\nL 737.177654 125.422546 \r\nL 737.251453 124.954866 \r\nL 737.325253 125.222112 \r\nL 737.399053 124.821243 \r\nL 737.472853 125.288923 \r\nL 737.546653 124.754432 \r\nL 737.620453 125.288923 \r\nL 737.694253 124.620809 \r\nL 737.768053 125.088489 \r\nL 737.841853 124.553997 \r\nL 737.915652 125.021677 \r\nL 737.989452 124.68762 \r\nL 738.063252 125.021677 \r\nL 738.210852 124.754432 \r\nL 738.284652 124.821243 \r\nL 738.358452 124.487186 \r\nL 738.432252 124.754432 \r\nL 738.506051 124.353563 \r\nL 738.579851 124.487186 \r\nL 738.653651 124.286752 \r\nL 738.727451 124.620809 \r\nL 738.801251 124.153129 \r\nL 738.875051 124.620809 \r\nL 738.948851 124.019506 \r\nL 739.022651 124.68762 \r\nL 739.096451 123.885883 \r\nL 739.17025 124.553997 \r\nL 739.24405 123.819072 \r\nL 739.31785 124.487186 \r\nL 739.39165 123.885883 \r\nL 739.46545 124.086317 \r\nL 739.61305 123.819072 \r\nL 739.68685 123.952694 \r\nL 739.76065 123.618637 \r\nL 739.834449 124.019506 \r\nL 739.908249 123.618637 \r\nL 739.982049 123.885883 \r\nL 740.055849 123.75226 \r\nL 740.203449 123.685449 \r\nL 740.424848 123.28458 \r\nL 740.498648 123.685449 \r\nL 740.572448 123.217769 \r\nL 740.646248 123.551826 \r\nL 740.793848 123.217769 \r\nL 741.015248 123.217769 \r\nL 741.236647 122.883712 \r\nL 741.310447 123.150957 \r\nL 741.384247 122.8169 \r\nL 741.458047 123.150957 \r\nL 741.531847 122.950523 \r\nL 741.605647 123.084146 \r\nL 741.753246 122.8169 \r\nL 741.827046 123.017335 \r\nL 741.900846 122.616466 \r\nL 741.974646 123.017335 \r\nL 742.048446 122.616466 \r\nL 742.122246 123.150957 \r\nL 742.196046 122.616466 \r\nL 742.269846 122.883712 \r\nL 742.417445 122.683277 \r\nL 742.491245 122.750089 \r\nL 742.565045 122.616466 \r\nL 742.638845 122.8169 \r\nL 742.712645 122.683277 \r\nL 742.786445 122.8169 \r\nL 742.860245 122.549655 \r\nL 742.934045 122.616466 \r\nL 743.007844 122.549655 \r\nL 743.081644 122.683277 \r\nL 743.155444 122.34922 \r\nL 743.229244 122.482843 \r\nL 743.303044 122.215598 \r\nL 743.376844 122.282409 \r\nL 743.450644 122.215598 \r\nL 743.524444 122.34922 \r\nL 743.598243 122.282409 \r\nL 743.745843 122.081975 \r\nL 743.819643 122.215598 \r\nL 743.893443 121.814729 \r\nL 743.967243 122.282409 \r\nL 744.041043 121.681106 \r\nL 744.114843 122.081975 \r\nL 744.188643 121.480672 \r\nL 744.262442 122.215598 \r\nL 744.336242 121.747918 \r\nL 744.410042 122.081975 \r\nL 744.483842 121.547483 \r\nL 744.557642 121.948352 \r\nL 744.631442 121.614295 \r\nL 744.705242 121.681106 \r\nL 744.779042 121.547483 \r\nL 744.852842 121.681106 \r\nL 745.148041 121.146615 \r\nL 745.221841 121.347049 \r\nL 745.443241 121.012992 \r\nL 745.51704 121.280238 \r\nL 745.59084 120.946181 \r\nL 745.66464 121.280238 \r\nL 745.73844 120.879369 \r\nL 745.81224 121.280238 \r\nL 745.88604 120.745746 \r\nL 745.95984 121.146615 \r\nL 746.03364 120.678935 \r\nL 746.10744 120.946181 \r\nL 746.181239 120.545312 \r\nL 746.255039 120.612123 \r\nL 746.328839 120.678935 \r\nL 746.402639 120.545312 \r\nL 746.476439 120.745746 \r\nL 746.550239 120.612123 \r\nL 746.624039 120.812558 \r\nL 746.771638 120.478501 \r\nL 746.845438 120.545312 \r\nL 746.993038 120.278066 \r\nL 747.066838 120.211255 \r\nL 747.288238 120.411689 \r\nL 747.362038 120.278066 \r\nL 747.435837 120.344878 \r\nL 747.509637 120.278066 \r\nL 747.731037 119.676763 \r\nL 747.804837 120.144443 \r\nL 747.878637 119.543141 \r\nL 747.952437 120.211255 \r\nL 748.026237 119.743575 \r\nL 748.100036 120.344878 \r\nL 748.173836 119.609952 \r\nL 748.247636 120.211255 \r\nL 748.321436 119.609952 \r\nL 748.395236 120.077632 \r\nL 748.469036 119.676763 \r\nL 748.542836 119.810386 \r\nL 748.690435 119.543141 \r\nL 748.764235 120.077632 \r\nL 748.838035 119.476329 \r\nL 748.911835 120.010821 \r\nL 748.985635 119.342706 \r\nL 749.059435 119.944009 \r\nL 749.133235 119.275895 \r\nL 749.207035 119.609952 \r\nL 749.280835 119.142272 \r\nL 749.354634 119.342706 \r\nL 749.576034 119.476329 \r\nL 749.649834 119.209084 \r\nL 749.723634 119.476329 \r\nL 749.797434 119.342706 \r\nL 749.871234 119.342706 \r\nL 749.945034 119.209084 \r\nL 750.018833 119.409518 \r\nL 750.092633 118.941838 \r\nL 750.166433 119.476329 \r\nL 750.240233 119.075461 \r\nL 750.314033 119.142272 \r\nL 750.461633 118.941838 \r\nL 750.535433 119.008649 \r\nL 750.683032 118.875026 \r\nL 750.756832 119.209084 \r\nL 750.830632 118.808215 \r\nL 750.904432 118.941838 \r\nL 751.052032 119.008649 \r\nL 751.125832 118.741404 \r\nL 751.199632 118.941838 \r\nL 751.347231 118.474158 \r\nL 751.642431 118.407346 \r\nL 751.716231 118.674592 \r\nL 751.790031 118.273724 \r\nL 751.86383 118.741404 \r\nL 751.93763 118.340535 \r\nL 752.01143 118.808215 \r\nL 752.08523 118.273724 \r\nL 752.15903 118.474158 \r\nL 752.30663 118.206912 \r\nL 752.38043 118.273724 \r\nL 752.601829 117.872855 \r\nL 752.675629 118.273724 \r\nL 752.749429 117.605609 \r\nL 752.823229 118.273724 \r\nL 752.897029 118.073289 \r\nL 753.192228 118.140101 \r\nL 753.266028 117.605609 \r\nL 753.339828 118.140101 \r\nL 753.413628 117.538798 \r\nL 753.487428 117.939667 \r\nL 753.561228 117.338364 \r\nL 753.635028 117.739232 \r\nL 753.708828 117.471987 \r\nL 753.782627 117.538798 \r\nL 753.856427 117.672421 \r\nL 753.930227 117.271552 \r\nL 754.004027 117.338364 \r\nL 754.077827 117.137929 \r\nL 754.151627 117.806044 \r\nL 754.225427 117.071118 \r\nL 754.299227 117.137929 \r\nL 754.373027 116.870684 \r\nL 754.446826 117.137929 \r\nL 754.520626 117.071118 \r\nL 754.668226 117.137929 \r\nL 754.742026 116.737061 \r\nL 754.815826 117.204741 \r\nL 754.889626 116.670249 \r\nL 754.963426 117.271552 \r\nL 755.037225 116.603438 \r\nL 755.111025 117.071118 \r\nL 755.184825 116.536627 \r\nL 755.258625 116.870684 \r\nL 755.406225 116.336192 \r\nL 755.480025 116.603438 \r\nL 755.553825 116.336192 \r\nL 755.627625 116.670249 \r\nL 755.701424 116.20257 \r\nL 755.775224 117.004307 \r\nL 755.922824 116.336192 \r\nL 755.996624 116.536627 \r\nL 756.070424 116.469815 \r\nL 756.144224 116.603438 \r\nL 756.218024 116.20257 \r\nL 756.291824 116.336192 \r\nL 756.365623 116.20257 \r\nL 756.439423 116.403004 \r\nL 756.513223 116.20257 \r\nL 756.660823 116.403004 \r\nL 756.734623 116.269381 \r\nL 756.808423 116.336192 \r\nL 756.882223 116.336192 \r\nL 756.956022 116.20257 \r\nL 757.103622 116.336192 \r\nL 757.325022 116.269381 \r\nL 757.620221 116.135758 \r\nL 757.694021 116.135758 \r\nL 757.767821 116.336192 \r\nL 757.915421 116.002135 \r\nL 757.989221 115.935324 \r\nL 758.063021 115.668078 \r\nL 758.136821 116.002135 \r\nL 758.210621 115.534455 \r\nL 758.43202 116.068947 \r\nL 758.65342 115.73489 \r\nL 758.72722 115.467644 \r\nL 758.80102 115.668078 \r\nL 758.948619 115.26721 \r\nL 759.022419 115.334021 \r\nL 759.096219 115.601267 \r\nL 759.170019 115.467644 \r\nL 759.317619 115.400832 \r\nL 759.465219 115.400832 \r\nL 759.539018 115.200398 \r\nL 759.612818 115.26721 \r\nL 759.981818 114.933153 \r\nL 760.055618 115.066775 \r\nL 760.203217 114.933153 \r\nL 760.424617 114.933153 \r\nL 760.498417 114.732718 \r\nL 760.572217 115.133587 \r\nL 760.646017 114.665907 \r\nL 760.719817 114.79953 \r\nL 761.457815 114.265038 \r\nL 761.531615 114.33185 \r\nL 761.605415 114.131415 \r\nL 761.679215 114.465473 \r\nL 761.753015 114.131415 \r\nL 761.826815 114.398661 \r\nL 761.900615 113.997793 \r\nL 761.974415 114.33185 \r\nL 762.048214 113.930981 \r\nL 762.122014 114.198227 \r\nL 762.195814 113.997793 \r\nL 762.343414 114.131415 \r\nL 762.417214 113.997793 \r\nL 762.491014 114.064604 \r\nL 762.564814 114.064604 \r\nL 762.638614 113.930981 \r\nL 762.712413 113.997793 \r\nL 763.007613 113.86417 \r\nL 763.081413 113.86417 \r\nL 763.155213 113.596924 \r\nL 763.229013 113.86417 \r\nL 763.302812 113.596924 \r\nL 763.376612 113.997793 \r\nL 763.450412 113.663736 \r\nL 763.524212 113.997793 \r\nL 763.598012 113.329678 \r\nL 763.671812 113.86417 \r\nL 763.745612 113.329678 \r\nL 763.819412 113.86417 \r\nL 763.893212 113.329678 \r\nL 763.967011 113.530113 \r\nL 764.040811 113.196056 \r\nL 764.114611 113.463301 \r\nL 764.188411 113.329678 \r\nL 764.262211 113.463301 \r\nL 764.336011 113.262867 \r\nL 764.557411 113.596924 \r\nL 764.63121 113.39649 \r\nL 764.70501 113.463301 \r\nL 764.92641 113.062433 \r\nL 765.221609 113.39649 \r\nL 765.443009 113.062433 \r\nL 765.516809 113.262867 \r\nL 765.590609 112.795187 \r\nL 765.664409 113.129244 \r\nL 765.738209 112.995621 \r\nL 765.812009 113.129244 \r\nL 765.959608 112.861998 \r\nL 766.033408 112.92881 \r\nL 766.107208 112.661564 \r\nL 766.181008 112.795187 \r\nL 766.328608 112.661564 \r\nL 766.550007 112.861998 \r\nL 766.771407 112.193884 \r\nL 766.845207 112.594753 \r\nL 767.066607 111.99345 \r\nL 767.140406 112.193884 \r\nL 767.214206 111.99345 \r\nL 767.288006 112.127073 \r\nL 767.361806 112.060261 \r\nL 767.435606 112.060261 \r\nL 767.509406 112.193884 \r\nL 767.583206 111.99345 \r\nL 767.657006 112.193884 \r\nL 767.878405 111.726204 \r\nL 767.952205 111.859827 \r\nL 768.026005 111.793016 \r\nL 768.099805 111.392147 \r\nL 768.173605 111.726204 \r\nL 768.247405 111.458959 \r\nL 768.321205 111.659393 \r\nL 768.395004 111.52577 \r\nL 768.468804 111.592581 \r\nL 768.764004 111.392147 \r\nL 768.837804 111.726204 \r\nL 768.911604 111.258524 \r\nL 768.985404 111.592581 \r\nL 769.059203 111.191713 \r\nL 769.133003 111.659393 \r\nL 769.206803 111.325336 \r\nL 769.280603 111.592581 \r\nL 769.354403 111.458959 \r\nL 769.502003 111.392147 \r\nL 769.575803 111.458959 \r\nL 769.649603 111.191713 \r\nL 769.723402 111.325336 \r\nL 770.092402 110.857656 \r\nL 770.166202 111.124901 \r\nL 770.387601 110.724033 \r\nL 770.461401 110.924467 \r\nL 770.535201 110.724033 \r\nL 770.609001 110.857656 \r\nL 770.682801 110.790844 \r\nL 770.756601 110.59041 \r\nL 770.830401 110.790844 \r\nL 770.978 110.389976 \r\nL 771.1994 110.456787 \r\nL 771.2732 110.389976 \r\nL 771.347 110.523599 \r\nL 771.4208 110.055919 \r\nL 771.568399 110.323164 \r\nL 771.715999 110.055919 \r\nL 771.789799 110.323164 \r\nL 771.937399 110.055919 \r\nL 772.011199 110.12273 \r\nL 772.084999 109.989107 \r\nL 772.158799 110.12273 \r\nL 772.232598 109.922296 \r\nL 772.306398 110.055919 \r\nL 772.380198 109.788673 \r\nL 772.453998 109.855484 \r\nL 772.675398 109.721862 \r\nL 772.749198 109.989107 \r\nL 772.822998 109.721862 \r\nL 772.896797 109.788673 \r\nL 772.970597 109.788673 \r\nL 773.191997 109.387804 \r\nL 773.413397 109.454616 \r\nL 773.487196 109.454616 \r\nL 773.560996 109.120559 \r\nL 773.634796 109.387804 \r\nL 773.708596 109.120559 \r\nL 773.782396 109.454616 \r\nL 773.856196 109.120559 \r\nL 773.929996 109.387804 \r\nL 774.003796 109.053747 \r\nL 774.077596 109.18737 \r\nL 774.225195 108.986936 \r\nL 774.298995 108.986936 \r\nL 774.372795 109.120559 \r\nL 774.594195 108.71969 \r\nL 775.036994 108.652879 \r\nL 775.110794 108.853313 \r\nL 775.258394 108.586067 \r\nL 775.332194 108.786502 \r\nL 775.405993 108.385633 \r\nL 775.479793 108.652879 \r\nL 775.553593 108.452445 \r\nL 775.627393 108.652879 \r\nL 775.701193 108.452445 \r\nL 775.774993 108.586067 \r\nL 775.922593 108.25201 \r\nL 776.070192 108.452445 \r\nL 776.365392 108.185199 \r\nL 776.439192 108.385633 \r\nL 776.512992 107.917953 \r\nL 776.586792 108.318822 \r\nL 776.660591 107.717519 \r\nL 776.734391 108.318822 \r\nL 776.808191 107.583896 \r\nL 776.881991 108.185199 \r\nL 776.955791 107.851142 \r\nL 777.029591 108.25201 \r\nL 777.250991 107.78433 \r\nL 777.47239 107.383462 \r\nL 777.54619 107.583896 \r\nL 777.61999 107.450273 \r\nL 777.69379 107.717519 \r\nL 777.76759 107.650708 \r\nL 777.84139 107.717519 \r\nL 778.062789 107.249839 \r\nL 778.136589 107.650708 \r\nL 778.210389 107.183028 \r\nL 778.284189 107.650708 \r\nL 778.431789 107.249839 \r\nL 778.505589 107.31665 \r\nL 778.579388 106.915782 \r\nL 778.653188 107.116216 \r\nL 779.022188 107.116216 \r\nL 779.095988 106.915782 \r\nL 779.169788 107.183028 \r\nL 779.243587 107.049405 \r\nL 779.391187 107.249839 \r\nL 779.760187 106.514913 \r\nL 779.907786 106.782159 \r\nL 780.129186 106.381291 \r\nL 780.202986 106.648536 \r\nL 780.276786 106.448102 \r\nL 780.350586 106.782159 \r\nL 780.424386 106.581725 \r\nL 780.498185 106.782159 \r\nL 780.571985 106.247668 \r\nL 780.645785 106.448102 \r\nL 780.867185 106.114045 \r\nL 780.940985 106.047233 \r\nL 781.014785 106.180856 \r\nL 781.309984 105.846799 \r\nL 781.383784 106.047233 \r\nL 781.457584 105.913611 \r\nL 781.531384 105.980422 \r\nL 781.678984 105.980422 \r\nL 781.826583 105.713176 \r\nL 781.900383 105.913611 \r\nL 781.974183 105.512742 \r\nL 782.047983 105.579553 \r\nL 782.121783 105.512742 \r\nL 782.195583 105.779988 \r\nL 782.269383 105.379119 \r\nL 782.343183 105.512742 \r\nL 782.490782 105.312308 \r\nL 782.564582 105.379119 \r\nL 782.638382 105.178685 \r\nL 782.712182 105.646365 \r\nL 782.859782 104.978251 \r\nL 783.154981 104.978251 \r\nL 783.228781 105.111873 \r\nL 783.376381 104.911439 \r\nL 783.450181 105.045062 \r\nL 783.523981 104.911439 \r\nL 783.597781 104.978251 \r\nL 783.89298 104.711005 \r\nL 783.96678 104.443759 \r\nL 784.04058 104.577382 \r\nL 784.11438 104.376948 \r\nL 784.26198 104.711005 \r\nL 784.335779 104.376948 \r\nL 784.409579 104.577382 \r\nL 784.483379 104.243325 \r\nL 784.557179 104.644194 \r\nL 784.630979 104.310136 \r\nL 784.704779 104.644194 \r\nL 784.778579 104.042891 \r\nL 784.852379 104.510571 \r\nL 784.926178 104.310136 \r\nL 785.073778 104.310136 \r\nL 785.147578 103.909268 \r\nL 785.221378 104.042891 \r\nL 785.516578 103.708834 \r\nL 785.590377 103.909268 \r\nL 785.664177 103.508399 \r\nL 785.737977 104.176514 \r\nL 785.811777 103.642022 \r\nL 785.885577 104.109702 \r\nL 785.959377 103.508399 \r\nL 786.033177 103.909268 \r\nL 786.106977 103.708834 \r\nL 786.180777 103.842456 \r\nL 786.475976 103.374777 \r\nL 786.549776 103.575211 \r\nL 786.623576 103.241154 \r\nL 786.697376 103.508399 \r\nL 786.771176 103.107531 \r\nL 786.844975 103.575211 \r\nL 786.918775 103.174342 \r\nL 786.992575 103.642022 \r\nL 787.066375 102.973908 \r\nL 787.140175 103.575211 \r\nL 787.213975 103.040719 \r\nL 787.287775 103.307965 \r\nL 787.435375 103.107531 \r\nL 787.509174 103.241154 \r\nL 787.582974 102.840285 \r\nL 787.656774 103.174342 \r\nL 787.730574 102.639851 \r\nL 787.804374 103.107531 \r\nL 787.878174 102.639851 \r\nL 787.951974 103.040719 \r\nL 788.025774 102.639851 \r\nL 788.099573 102.773474 \r\nL 788.173373 102.639851 \r\nL 788.247173 102.773474 \r\nL 788.320973 102.506228 \r\nL 788.394773 102.840285 \r\nL 788.468573 102.439417 \r\nL 788.542373 102.706662 \r\nL 788.616173 102.305794 \r\nL 788.689973 102.840285 \r\nL 788.763772 102.238982 \r\nL 788.837572 102.706662 \r\nL 788.911372 102.038548 \r\nL 788.985172 102.506228 \r\nL 789.058972 102.305794 \r\nL 789.132772 102.105359 \r\nL 789.206572 102.372605 \r\nL 789.280372 102.172171 \r\nL 789.354172 102.506228 \r\nL 789.427971 102.105359 \r\nL 789.501771 102.238982 \r\nL 789.575571 101.971737 \r\nL 789.649371 102.105359 \r\nL 789.723171 102.172171 \r\nL 789.796971 101.771302 \r\nL 789.870771 102.038548 \r\nL 789.944571 101.771302 \r\nL 790.01837 102.105359 \r\nL 790.09217 101.771302 \r\nL 790.16597 101.904925 \r\nL 790.23977 101.838114 \r\nL 790.31357 101.971737 \r\nL 790.53497 101.771302 \r\nL 790.903969 101.504057 \r\nL 791.051569 101.63768 \r\nL 791.199169 101.437245 \r\nL 791.346768 101.437245 \r\nL 791.420568 101.437245 \r\nL 791.494368 101.570868 \r\nL 791.568168 101.504057 \r\nL 791.863368 101.437245 \r\nL 791.937167 101.17 \r\nL 792.010967 101.504057 \r\nL 792.084767 101.236811 \r\nL 792.158567 101.437245 \r\nL 792.232367 101.103188 \r\nL 792.306167 101.437245 \r\nL 792.379967 101.103188 \r\nL 792.453767 101.370434 \r\nL 792.601366 100.969565 \r\nL 792.675166 101.236811 \r\nL 792.748966 100.969565 \r\nL 792.822766 101.303622 \r\nL 792.896566 100.902754 \r\nL 792.970366 101.103188 \r\nL 793.044166 100.902754 \r\nL 793.117966 101.103188 \r\nL 793.191765 100.835942 \r\nL 793.265565 100.969565 \r\nL 793.339365 101.103188 \r\nL 793.413165 100.769131 \r\nL 793.486965 100.902754 \r\nL 793.560765 100.769131 \r\nL 793.634565 100.902754 \r\nL 793.708365 100.635508 \r\nL 793.855964 100.835942 \r\nL 793.929764 100.70232 \r\nL 794.003564 100.769131 \r\nL 794.151164 100.70232 \r\nL 794.372564 100.368263 \r\nL 794.520163 100.368263 \r\nL 794.593963 100.23464 \r\nL 794.667763 100.301451 \r\nL 794.741563 100.301451 \r\nL 794.889163 100.034205 \r\nL 794.962963 100.23464 \r\nL 795.184362 99.967394 \r\nL 795.331962 100.101017 \r\nL 795.405762 99.700148 \r\nL 795.479562 100.101017 \r\nL 795.553362 99.700148 \r\nL 795.627162 99.967394 \r\nL 795.922361 99.232468 \r\nL 795.996161 99.76696 \r\nL 796.069961 99.098846 \r\nL 796.143761 99.566525 \r\nL 796.217561 99.165657 \r\nL 796.291361 99.499714 \r\nL 796.43896 99.165657 \r\nL 796.51276 99.432903 \r\nL 796.58656 99.032034 \r\nL 796.66036 99.366091 \r\nL 796.73416 98.898411 \r\nL 796.80796 99.165657 \r\nL 796.88176 98.965223 \r\nL 796.95556 99.098846 \r\nL 797.103159 98.631166 \r\nL 797.176959 98.965223 \r\nL 797.250759 98.430731 \r\nL 797.324559 98.8316 \r\nL 797.398359 98.697977 \r\nL 797.472159 98.631166 \r\nL 797.545959 99.032034 \r\nL 797.619759 98.430731 \r\nL 797.693558 98.8316 \r\nL 797.767358 98.297108 \r\nL 797.841158 98.631166 \r\nL 797.914958 98.230297 \r\nL 797.988758 98.564354 \r\nL 798.062558 98.430731 \r\nL 798.136358 98.564354 \r\nL 798.431557 98.163486 \r\nL 798.505357 98.163486 \r\nL 798.652957 97.762617 \r\nL 798.726757 98.096674 \r\nL 798.800557 97.695806 \r\nL 798.874357 98.096674 \r\nL 798.948156 97.89624 \r\nL 799.021956 97.963051 \r\nL 799.317156 97.628994 \r\nL 799.390956 97.89624 \r\nL 799.464756 97.562183 \r\nL 799.538556 97.89624 \r\nL 799.612355 97.495371 \r\nL 799.686155 97.89624 \r\nL 799.759955 97.361749 \r\nL 799.833755 97.762617 \r\nL 800.055155 97.161314 \r\nL 800.128955 97.094503 \r\nL 800.202754 97.228126 \r\nL 800.276554 97.161314 \r\nL 800.350354 97.228126 \r\nL 800.424154 96.827257 \r\nL 800.497954 97.027691 \r\nL 800.571754 96.827257 \r\nL 800.645554 96.96088 \r\nL 800.719354 96.894069 \r\nL 800.793154 96.693634 \r\nL 800.866953 97.094503 \r\nL 800.940753 96.560011 \r\nL 801.014553 97.094503 \r\nL 801.088353 96.4932 \r\nL 801.162153 96.894069 \r\nL 801.235953 96.426389 \r\nL 801.309753 96.560011 \r\nL 801.457352 96.292766 \r\nL 801.531152 96.4932 \r\nL 801.604952 95.958709 \r\nL 801.678752 96.560011 \r\nL 801.752552 96.02552 \r\nL 801.826352 96.159143 \r\nL 801.900152 95.891897 \r\nL 802.047752 96.292766 \r\nL 802.121551 96.092332 \r\nL 802.195351 96.225954 \r\nL 802.269151 96.02552 \r\nL 802.342951 96.092332 \r\nL 802.416751 96.159143 \r\nL 802.490551 95.758274 \r\nL 802.564351 95.891897 \r\nL 802.638151 95.624652 \r\nL 802.711951 96.02552 \r\nL 802.78575 95.691463 \r\nL 802.85955 96.02552 \r\nL 802.93335 95.691463 \r\nL 803.00715 95.758274 \r\nL 803.15475 95.55784 \r\nL 803.22855 95.624652 \r\nL 803.30235 95.491029 \r\nL 803.376149 95.624652 \r\nL 803.449949 95.290594 \r\nL 803.523749 95.55784 \r\nL 803.597549 95.09016 \r\nL 803.671349 95.424217 \r\nL 803.745149 95.290594 \r\nL 804.040348 95.290594 \r\nL 804.114148 95.156972 \r\nL 804.187948 95.290594 \r\nL 804.409348 95.09016 \r\nL 804.630748 94.756103 \r\nL 804.704547 95.023349 \r\nL 804.778347 94.889726 \r\nL 804.925947 94.889726 \r\nL 805.073547 94.889726 \r\nL 805.147347 94.355235 \r\nL 805.221147 95.09016 \r\nL 805.294946 94.422046 \r\nL 805.368746 94.689292 \r\nL 805.442546 94.221612 \r\nL 805.516346 94.555669 \r\nL 805.590146 94.422046 \r\nL 805.663946 94.422046 \r\nL 805.737746 94.555669 \r\nL 805.811546 94.1548 \r\nL 805.885346 94.555669 \r\nL 805.959145 94.1548 \r\nL 806.032945 94.62248 \r\nL 806.106745 94.1548 \r\nL 806.180545 94.488857 \r\nL 806.254345 94.087989 \r\nL 806.328145 94.355235 \r\nL 806.401945 94.021177 \r\nL 806.475745 94.355235 \r\nL 806.549544 94.221612 \r\nL 806.623344 94.087989 \r\nL 806.697144 94.221612 \r\nL 806.770944 94.021177 \r\nL 806.844744 94.1548 \r\nL 806.918544 93.753932 \r\nL 806.992344 94.021177 \r\nL 807.066144 93.68712 \r\nL 807.139944 94.021177 \r\nL 807.213743 93.753932 \r\nL 807.287543 94.021177 \r\nL 807.361343 93.887555 \r\nL 807.435143 94.087989 \r\nL 807.508943 93.954366 \r\nL 807.582743 94.021177 \r\nL 808.025542 93.753932 \r\nL 808.099342 93.753932 \r\nL 808.246942 93.486686 \r\nL 808.468341 93.419875 \r\nL 808.542141 93.419875 \r\nL 808.615941 93.553497 \r\nL 808.689741 93.486686 \r\nL 808.837341 93.620309 \r\nL 808.911141 93.21944 \r\nL 808.984941 93.486686 \r\nL 809.058741 92.952195 \r\nL 809.13254 93.353063 \r\nL 809.20634 92.885383 \r\nL 809.35394 93.419875 \r\nL 809.42774 93.085818 \r\nL 809.50154 93.286252 \r\nL 809.57534 92.952195 \r\nL 809.64914 93.152629 \r\nL 809.722939 92.75176 \r\nL 809.796739 93.085818 \r\nL 809.870539 92.818572 \r\nL 809.944339 92.952195 \r\nL 810.091939 92.818572 \r\nL 810.460938 92.818572 \r\nL 810.534738 92.618138 \r\nL 810.608538 92.75176 \r\nL 810.756138 92.484515 \r\nL 810.829938 92.684949 \r\nL 810.903738 92.417703 \r\nL 810.977538 92.551326 \r\nL 811.051337 92.618138 \r\nL 811.125137 92.28408 \r\nL 811.198937 92.618138 \r\nL 811.272737 92.350892 \r\nL 811.346537 92.618138 \r\nL 811.420337 92.083646 \r\nL 811.494137 92.818572 \r\nL 811.567937 91.883212 \r\nL 811.641736 92.417703 \r\nL 811.715536 92.083646 \r\nL 811.789336 92.350892 \r\nL 811.936936 92.016835 \r\nL 812.010736 92.217269 \r\nL 812.084536 91.883212 \r\nL 812.158336 92.618138 \r\nL 812.232136 91.950023 \r\nL 812.305935 92.417703 \r\nL 812.379735 91.816401 \r\nL 812.453535 91.950023 \r\nL 812.527335 92.016835 \r\nL 812.674935 91.883212 \r\nL 812.896335 91.816401 \r\nL 812.970134 92.28408 \r\nL 813.043934 91.482343 \r\nL 813.117734 92.016835 \r\nL 813.191534 91.415532 \r\nL 813.265334 91.950023 \r\nL 813.339134 91.482343 \r\nL 813.412934 92.016835 \r\nL 813.486734 91.816401 \r\nL 813.560533 91.615966 \r\nL 813.634333 92.016835 \r\nL 813.708133 91.348721 \r\nL 813.781933 91.950023 \r\nL 813.855733 91.348721 \r\nL 813.929533 91.950023 \r\nL 814.003333 91.482343 \r\nL 814.077133 91.749589 \r\nL 814.150933 91.615966 \r\nL 814.298532 91.415532 \r\nL 814.446132 91.682778 \r\nL 814.519932 91.348721 \r\nL 814.593732 91.615966 \r\nL 814.667532 91.281909 \r\nL 814.741332 91.415532 \r\nL 814.888931 91.215098 \r\nL 814.962731 91.348721 \r\nL 815.036531 91.215098 \r\nL 815.110331 91.281909 \r\nL 815.184131 91.281909 \r\nL 815.405531 90.947852 \r\nL 815.62693 90.881041 \r\nL 815.70073 90.881041 \r\nL 815.77453 90.680606 \r\nL 816.06973 91.014663 \r\nL 816.143529 90.814229 \r\nL 816.217329 90.947852 \r\nL 816.291129 90.747418 \r\nL 816.364929 90.947852 \r\nL 816.438729 90.613795 \r\nL 816.512529 91.014663 \r\nL 816.660129 90.346549 \r\nL 816.733928 90.546983 \r\nL 816.807728 90.279738 \r\nL 816.881528 90.613795 \r\nL 817.029128 90.413361 \r\nL 817.102928 90.413361 \r\nL 817.176728 90.079304 \r\nL 817.250528 90.212926 \r\nL 817.324328 90.012492 \r\nL 817.398127 90.079304 \r\nL 817.471927 90.146115 \r\nL 817.619527 89.945681 \r\nL 817.693327 90.079304 \r\nL 817.914727 89.878869 \r\nL 818.136126 89.611624 \r\nL 818.209926 90.079304 \r\nL 818.283726 89.544812 \r\nL 818.357526 90.012492 \r\nL 818.431326 89.478001 \r\nL 818.505126 89.678435 \r\nL 818.726525 89.143944 \r\nL 818.800325 89.478001 \r\nL 819.021725 89.077132 \r\nL 819.095525 89.478001 \r\nL 819.169325 89.344378 \r\nL 819.243125 89.210755 \r\nL 819.316924 89.344378 \r\nL 819.390724 88.943509 \r\nL 819.464524 89.277566 \r\nL 819.538324 88.809887 \r\nL 819.612124 89.077132 \r\nL 819.685924 88.542641 \r\nL 819.759724 89.010321 \r\nL 819.833524 88.409018 \r\nL 819.907323 89.143944 \r\nL 819.981123 88.475829 \r\nL 820.054923 89.143944 \r\nL 820.128723 88.609452 \r\nL 820.202523 88.876698 \r\nL 820.497723 88.074961 \r\nL 820.571522 88.809887 \r\nL 820.645322 87.874527 \r\nL 820.719122 88.809887 \r\nL 820.792922 87.674092 \r\nL 820.866722 88.542641 \r\nL 820.940522 88.008149 \r\nL 821.014322 88.342207 \r\nL 821.161922 87.807715 \r\nL 821.235721 88.342207 \r\nL 821.309521 87.674092 \r\nL 821.383321 88.141772 \r\nL 821.457121 87.406847 \r\nL 821.530921 88.074961 \r\nL 821.604721 87.607281 \r\nL 821.678521 87.941338 \r\nL 821.752321 87.607281 \r\nL 821.82612 87.740904 \r\nL 821.89992 87.607281 \r\nL 821.97372 87.874527 \r\nL 822.19512 87.473658 \r\nL 822.26892 87.740904 \r\nL 822.34272 87.406847 \r\nL 822.41652 87.941338 \r\nL 822.490319 87.273224 \r\nL 822.564119 88.008149 \r\nL 822.637919 87.206412 \r\nL 822.711719 87.674092 \r\nL 822.785519 86.872355 \r\nL 822.859319 87.540469 \r\nL 822.933119 87.139601 \r\nL 823.006919 87.340035 \r\nL 823.154518 87.139601 \r\nL 823.228318 87.206412 \r\nL 823.302118 86.872355 \r\nL 823.375918 87.005978 \r\nL 823.523518 86.872355 \r\nL 823.671118 86.939167 \r\nL 823.744917 87.07279 \r\nL 823.818717 86.805544 \r\nL 823.892517 87.340035 \r\nL 823.966317 86.471487 \r\nL 824.040117 87.206412 \r\nL 824.113917 86.204241 \r\nL 824.187717 86.939167 \r\nL 824.261517 86.404675 \r\nL 824.335317 86.671921 \r\nL 824.409116 86.671921 \r\nL 824.630516 86.003807 \r\nL 824.704316 86.671921 \r\nL 824.778116 86.003807 \r\nL 824.851916 86.538298 \r\nL 824.925716 86.003807 \r\nL 824.999515 86.404675 \r\nL 825.147115 86.070618 \r\nL 825.220915 86.337864 \r\nL 825.294715 85.936995 \r\nL 825.368515 86.204241 \r\nL 825.516115 85.736561 \r\nL 825.589915 85.803373 \r\nL 825.663714 85.936995 \r\nL 825.737514 85.870184 \r\nL 825.811314 85.936995 \r\nL 825.958914 85.736561 \r\nL 826.106514 85.736561 \r\nL 826.549313 85.469315 \r\nL 826.696913 85.469315 \r\nL 826.770713 85.66975 \r\nL 826.992112 85.20207 \r\nL 827.065912 85.469315 \r\nL 827.139712 85.402504 \r\nL 827.361112 85.20207 \r\nL 827.434912 85.268881 \r\nL 827.508712 85.135258 \r\nL 827.582511 85.20207 \r\nL 827.803911 84.934824 \r\nL 827.877711 85.135258 \r\nL 827.951511 84.801201 \r\nL 828.099111 85.068447 \r\nL 828.32051 85.001635 \r\nL 828.39431 85.068447 \r\nL 828.46811 84.73439 \r\nL 828.54191 84.934824 \r\nL 828.61571 84.667578 \r\nL 828.68951 85.001635 \r\nL 828.76331 84.73439 \r\nL 828.837109 84.934824 \r\nL 828.910909 84.868013 \r\nL 828.984709 84.868013 \r\nL 829.132309 84.667578 \r\nL 829.206109 84.73439 \r\nL 829.279909 84.600767 \r\nL 829.353709 84.667578 \r\nL 829.427509 84.600767 \r\nL 829.501308 84.73439 \r\nL 829.575108 84.467144 \r\nL 829.648908 84.667578 \r\nL 829.722708 84.333521 \r\nL 829.796508 84.73439 \r\nL 829.870308 84.400333 \r\nL 829.944108 84.73439 \r\nL 830.017908 84.333521 \r\nL 830.091707 84.600767 \r\nL 830.165507 83.999464 \r\nL 830.313107 84.400333 \r\nL 830.534507 84.199898 \r\nL 830.682107 84.199898 \r\nL 830.903506 83.932653 \r\nL 831.051106 83.932653 \r\nL 831.124906 84.26671 \r\nL 831.198706 83.932653 \r\nL 831.272506 84.199898 \r\nL 831.346305 83.865841 \r\nL 831.493905 84.066276 \r\nL 831.641505 84.133087 \r\nL 831.715305 83.865841 \r\nL 831.789105 83.932653 \r\nL 832.010504 83.932653 \r\nL 832.158104 83.665407 \r\nL 832.231904 83.665407 \r\nL 832.379504 83.999464 \r\nL 832.453304 83.79903 \r\nL 832.527104 83.999464 \r\nL 832.600904 83.665407 \r\nL 832.674703 83.999464 \r\nL 832.748503 83.665407 \r\nL 832.822303 83.732218 \r\nL 832.896103 83.732218 \r\nL 833.043703 83.33135 \r\nL 833.117503 83.531784 \r\nL 833.191303 83.33135 \r\nL 833.338902 83.665407 \r\nL 833.412702 83.464973 \r\nL 833.486502 83.531784 \r\nL 833.560302 83.598596 \r\nL 833.929301 83.130916 \r\nL 834.003101 83.33135 \r\nL 834.076901 83.197727 \r\nL 834.224501 83.33135 \r\nL 834.445901 83.264538 \r\nL 834.519701 83.264538 \r\nL 834.5935 83.130916 \r\nL 834.6673 83.264538 \r\nL 834.7411 82.997293 \r\nL 834.8149 83.197727 \r\nL 834.8887 82.930481 \r\nL 834.9625 83.130916 \r\nL 835.1101 82.997293 \r\nL 835.257699 83.064104 \r\nL 835.331499 82.86367 \r\nL 835.405299 82.997293 \r\nL 835.552899 82.86367 \r\nL 835.700499 82.796859 \r\nL 835.921898 82.730047 \r\nL 835.995698 82.796859 \r\nL 836.069498 82.596424 \r\nL 836.143298 82.663236 \r\nL 836.217098 82.529613 \r\nL 836.290898 82.796859 \r\nL 836.364698 82.39599 \r\nL 836.438497 82.529613 \r\nL 836.512297 82.329179 \r\nL 836.586097 82.529613 \r\nL 836.659897 82.462801 \r\nL 836.881297 82.663236 \r\nL 836.955097 82.39599 \r\nL 837.028897 82.596424 \r\nL 837.176496 82.329179 \r\nL 837.250296 82.39599 \r\nL 837.324096 82.262367 \r\nL 837.397896 82.529613 \r\nL 837.471696 82.061933 \r\nL 837.545496 82.262367 \r\nL 837.619296 82.262367 \r\nL 837.693096 82.061933 \r\nL 837.766895 82.128744 \r\nL 838.062095 82.195556 \r\nL 838.135895 81.92831 \r\nL 838.209695 82.329179 \r\nL 838.283495 81.92831 \r\nL 838.357294 82.329179 \r\nL 838.504894 81.995121 \r\nL 838.873894 81.92831 \r\nL 838.947694 81.727876 \r\nL 839.021493 82.061933 \r\nL 839.095293 81.527442 \r\nL 839.169093 82.128744 \r\nL 839.242893 81.393819 \r\nL 839.316693 81.995121 \r\nL 839.390493 81.46063 \r\nL 839.464293 81.995121 \r\nL 839.538093 81.594253 \r\nL 839.611892 81.861499 \r\nL 839.685692 81.661064 \r\nL 839.759492 81.861499 \r\nL 839.833292 81.594253 \r\nL 839.907092 81.861499 \r\nL 839.980892 81.661064 \r\nL 840.054692 81.727876 \r\nL 840.128492 81.727876 \r\nL 840.276091 81.92831 \r\nL 840.866491 81.46063 \r\nL 841.08789 81.527442 \r\nL 841.16169 81.327007 \r\nL 841.23549 81.594253 \r\nL 841.30929 81.260196 \r\nL 841.38309 81.661064 \r\nL 841.45689 81.126573 \r\nL 841.530689 81.727876 \r\nL 841.604489 81.059762 \r\nL 841.678289 81.727876 \r\nL 841.752089 81.594253 \r\nL 841.825889 81.327007 \r\nL 841.899689 81.46063 \r\nL 841.973489 81.327007 \r\nL 842.047289 81.46063 \r\nL 842.121089 81.126573 \r\nL 842.194888 81.46063 \r\nL 842.268688 81.393819 \r\nL 842.416288 81.527442 \r\nL 842.490088 81.327007 \r\nL 842.563888 81.46063 \r\nL 842.637688 80.99295 \r\nL 842.711488 81.46063 \r\nL 842.785288 81.126573 \r\nL 842.859087 81.327007 \r\nL 842.932887 81.126573 \r\nL 843.080487 81.260196 \r\nL 843.154287 80.99295 \r\nL 843.375687 81.393819 \r\nL 843.449486 80.99295 \r\nL 843.523286 81.260196 \r\nL 843.597086 80.926139 \r\nL 843.670886 81.193384 \r\nL 843.744686 80.792516 \r\nL 843.818486 81.126573 \r\nL 843.892286 80.859327 \r\nL 843.966086 81.059762 \r\nL 844.039886 80.658893 \r\nL 844.113685 81.059762 \r\nL 844.187485 80.658893 \r\nL 844.261285 81.059762 \r\nL 844.335085 80.658893 \r\nL 844.408885 80.99295 \r\nL 844.556485 80.725704 \r\nL 844.630285 80.859327 \r\nL 844.851684 80.52527 \r\nL 844.925484 80.792516 \r\nL 844.999284 80.52527 \r\nL 845.073084 80.725704 \r\nL 845.146884 80.391647 \r\nL 845.220684 80.859327 \r\nL 845.294484 80.191213 \r\nL 845.368283 80.792516 \r\nL 845.442083 80.391647 \r\nL 845.515883 80.859327 \r\nL 845.589683 80.05759 \r\nL 845.663483 80.926139 \r\nL 845.737283 79.990779 \r\nL 845.811083 80.725704 \r\nL 845.884883 79.990779 \r\nL 845.958683 80.458459 \r\nL 846.032482 80.324836 \r\nL 846.106282 80.191213 \r\nL 846.180082 80.458459 \r\nL 846.401482 79.923967 \r\nL 846.475282 80.458459 \r\nL 846.549082 79.857156 \r\nL 846.622881 80.592082 \r\nL 846.696681 79.58991 \r\nL 846.770481 80.391647 \r\nL 846.844281 79.58991 \r\nL 846.918081 80.458459 \r\nL 846.991881 79.723533 \r\nL 847.065681 80.124402 \r\nL 847.213281 79.723533 \r\nL 847.43468 79.790345 \r\nL 847.50848 79.857156 \r\nL 847.72988 79.656722 \r\nL 847.80368 79.790345 \r\nL 847.877479 79.523099 \r\nL 847.951279 79.857156 \r\nL 848.025079 79.523099 \r\nL 848.098879 79.58991 \r\nL 848.246479 79.523099 \r\nL 848.320279 79.656722 \r\nL 848.394079 79.055419 \r\nL 848.467879 79.790345 \r\nL 848.541678 78.988607 \r\nL 848.615478 79.656722 \r\nL 848.689278 78.988607 \r\nL 848.763078 79.656722 \r\nL 848.836878 79.322665 \r\nL 848.910678 79.189042 \r\nL 848.984478 79.523099 \r\nL 849.058278 78.988607 \r\nL 849.132078 79.58991 \r\nL 849.205877 78.854985 \r\nL 849.279677 79.58991 \r\nL 849.353477 78.921796 \r\nL 849.427277 79.389476 \r\nL 849.501077 78.921796 \r\nL 849.574877 79.12223 \r\nL 849.648677 79.189042 \r\nL 849.722477 78.988607 \r\nL 849.796276 79.189042 \r\nL 849.943876 78.854985 \r\nL 850.017676 79.055419 \r\nL 850.091476 78.65455 \r\nL 850.165276 79.189042 \r\nL 850.239076 78.520928 \r\nL 850.312876 79.255853 \r\nL 850.386676 78.520928 \r\nL 850.460475 79.189042 \r\nL 850.534275 78.65455 \r\nL 850.608075 78.854985 \r\nL 850.755675 78.721362 \r\nL 850.829475 79.055419 \r\nL 850.903275 78.454116 \r\nL 850.977075 78.988607 \r\nL 851.050875 78.454116 \r\nL 851.124674 78.988607 \r\nL 851.198474 78.387305 \r\nL 851.272274 78.788173 \r\nL 851.346074 78.387305 \r\nL 851.419874 78.721362 \r\nL 851.493674 78.387305 \r\nL 851.567474 78.454116 \r\nL 851.641274 78.387305 \r\nL 851.715073 78.520928 \r\nL 851.788873 78.320493 \r\nL 851.862673 78.520928 \r\nL 851.936473 78.18687 \r\nL 852.010273 78.520928 \r\nL 852.084073 78.253682 \r\nL 852.157873 78.387305 \r\nL 852.231673 78.320493 \r\nL 852.305473 78.053248 \r\nL 852.379272 78.253682 \r\nL 852.453072 78.053248 \r\nL 852.526872 78.587739 \r\nL 852.600672 77.852813 \r\nL 852.674472 78.454116 \r\nL 852.748272 77.919625 \r\nL 852.822072 78.520928 \r\nL 852.895872 77.919625 \r\nL 852.969671 78.320493 \r\nL 853.043471 78.120059 \r\nL 853.117271 78.253682 \r\nL 853.264871 77.786002 \r\nL 853.338671 78.18687 \r\nL 853.412471 77.585568 \r\nL 853.486271 78.320493 \r\nL 853.560071 77.71919 \r\nL 853.63387 78.120059 \r\nL 853.70767 77.786002 \r\nL 853.85527 78.120059 \r\nL 853.92907 77.919625 \r\nL 854.00287 78.253682 \r\nL 854.07667 77.786002 \r\nL 854.15047 78.320493 \r\nL 854.22427 77.786002 \r\nL 854.298069 78.253682 \r\nL 854.371869 77.786002 \r\nL 854.445669 77.986436 \r\nL 854.519469 77.852813 \r\nL 854.593269 77.986436 \r\nL 854.814669 77.652379 \r\nL 854.888468 77.652379 \r\nL 854.962268 77.786002 \r\nL 855.036068 77.251511 \r\nL 855.109868 77.652379 \r\nL 855.183668 77.451945 \r\nL 855.478868 77.786002 \r\nL 855.700267 77.251511 \r\nL 855.774067 77.585568 \r\nL 855.847867 77.117888 \r\nL 855.995467 77.385133 \r\nL 856.069267 77.251511 \r\nL 856.143066 77.318322 \r\nL 856.290666 77.585568 \r\nL 856.512066 77.117888 \r\nL 856.585866 77.184699 \r\nL 856.659666 76.917453 \r\nL 856.733466 77.117888 \r\nL 856.807265 76.850642 \r\nL 856.881065 77.117888 \r\nL 856.954865 76.850642 \r\nL 857.028665 76.984265 \r\nL 857.102465 76.850642 \r\nL 857.250065 77.117888 \r\nL 857.323865 76.984265 \r\nL 857.397665 77.385133 \r\nL 857.471464 76.850642 \r\nL 857.545264 77.385133 \r\nL 857.619064 76.717019 \r\nL 857.692864 77.451945 \r\nL 857.766664 76.516585 \r\nL 857.840464 77.184699 \r\nL 857.914264 76.717019 \r\nL 857.988064 76.917453 \r\nL 858.135663 76.650208 \r\nL 858.209463 76.850642 \r\nL 858.283263 76.316151 \r\nL 858.357063 76.984265 \r\nL 858.430863 76.316151 \r\nL 858.504663 76.984265 \r\nL 858.578463 76.382962 \r\nL 858.652263 76.583396 \r\nL 858.726062 76.583396 \r\nL 858.799862 76.382962 \r\nL 858.873662 76.917453 \r\nL 858.947462 76.316151 \r\nL 859.021262 76.984265 \r\nL 859.095062 76.316151 \r\nL 859.168862 76.650208 \r\nL 859.316462 76.316151 \r\nL 859.390261 76.449773 \r\nL 859.464061 76.249339 \r\nL 859.537861 76.650208 \r\nL 859.611661 76.249339 \r\nL 859.685461 76.516585 \r\nL 859.759261 76.182528 \r\nL 859.833061 76.382962 \r\nL 859.906861 76.316151 \r\nL 859.98066 76.115716 \r\nL 860.05446 76.316151 \r\nL 860.12826 76.048905 \r\nL 860.20206 76.583396 \r\nL 860.27586 76.048905 \r\nL 860.34966 76.316151 \r\nL 860.42346 75.982093 \r\nL 860.49726 76.316151 \r\nL 860.644859 76.115716 \r\nL 860.792459 75.982093 \r\nL 860.866259 76.316151 \r\nL 860.940059 75.915282 \r\nL 861.013859 76.182528 \r\nL 861.087659 76.115716 \r\nL 861.161459 75.848471 \r\nL 861.235258 76.115716 \r\nL 861.309058 75.982093 \r\nL 861.456658 75.848471 \r\nL 861.530458 76.048905 \r\nL 861.604258 75.648036 \r\nL 861.678058 75.848471 \r\nL 861.751858 75.714848 \r\nL 861.825658 75.915282 \r\nL 861.899457 75.714848 \r\nL 861.973257 75.915282 \r\nL 862.047057 75.848471 \r\nL 862.120857 75.514414 \r\nL 862.194657 75.781659 \r\nL 862.268457 75.447602 \r\nL 862.342257 75.781659 \r\nL 862.416057 75.514414 \r\nL 862.489857 75.714848 \r\nL 862.563656 75.648036 \r\nL 862.711256 75.648036 \r\nL 862.858856 75.648036 \r\nL 862.932656 75.447602 \r\nL 863.006456 75.714848 \r\nL 863.080256 75.514414 \r\nL 863.154055 75.781659 \r\nL 863.227855 75.180356 \r\nL 863.301655 75.514414 \r\nL 863.375455 75.180356 \r\nL 863.449255 75.581225 \r\nL 863.523055 75.313979 \r\nL 863.596855 75.447602 \r\nL 863.818254 75.247168 \r\nL 863.892054 75.380791 \r\nL 863.965854 75.247168 \r\nL 864.113454 75.447602 \r\nL 864.187254 74.913111 \r\nL 864.261054 75.313979 \r\nL 864.334854 74.979922 \r\nL 864.408653 75.247168 \r\nL 864.482453 75.046734 \r\nL 864.556253 75.247168 \r\nL 864.630053 75.046734 \r\nL 864.703853 75.380791 \r\nL 864.777653 74.846299 \r\nL 864.851453 75.247168 \r\nL 864.925253 74.913111 \r\nL 864.999053 75.247168 \r\nL 865.072852 74.979922 \r\nL 865.146652 75.046734 \r\nL 865.294252 74.846299 \r\nL 865.368052 75.046734 \r\nL 865.441852 74.846299 \r\nL 865.515652 75.046734 \r\nL 865.589452 74.779488 \r\nL 865.663252 75.180356 \r\nL 865.737051 74.779488 \r\nL 865.810851 75.113545 \r\nL 865.884651 74.779488 \r\nL 865.958451 74.979922 \r\nL 866.032251 74.913111 \r\nL 866.106051 75.046734 \r\nL 866.253651 74.779488 \r\nL 866.40125 74.712676 \r\nL 866.47505 74.913111 \r\nL 866.54885 74.779488 \r\nL 866.62265 74.913111 \r\nL 866.69645 74.645865 \r\nL 866.77025 74.779488 \r\nL 866.991649 74.579054 \r\nL 867.065449 74.779488 \r\nL 867.139249 74.579054 \r\nL 867.213049 74.779488 \r\nL 867.286849 74.512242 \r\nL 867.360649 74.712676 \r\nL 867.508249 74.512242 \r\nL 867.582049 74.779488 \r\nL 867.655848 74.579054 \r\nL 867.729648 74.712676 \r\nL 867.803448 74.645865 \r\nL 867.877248 74.645865 \r\nL 867.951048 74.512242 \r\nL 868.024848 74.712676 \r\nL 868.098648 74.378619 \r\nL 868.172448 74.712676 \r\nL 868.246247 74.378619 \r\nL 868.320047 74.512242 \r\nL 868.467647 74.244997 \r\nL 868.541447 74.311808 \r\nL 868.836647 74.579054 \r\nL 868.910446 74.311808 \r\nL 868.984246 74.512242 \r\nL 869.058046 74.244997 \r\nL 869.131846 74.512242 \r\nL 869.205646 74.111374 \r\nL 869.279446 74.579054 \r\nL 869.500845 74.111374 \r\nL 869.722245 74.512242 \r\nL 869.796045 74.579054 \r\nL 869.869845 74.111374 \r\nL 869.943645 74.579054 \r\nL 870.017445 73.977751 \r\nL 870.091245 74.645865 \r\nL 870.165044 74.111374 \r\nL 870.238844 74.178185 \r\nL 870.312644 74.044562 \r\nL 870.386444 74.111374 \r\nL 870.460244 74.044562 \r\nL 870.607844 74.311808 \r\nL 870.681644 74.111374 \r\nL 870.755444 74.445431 \r\nL 870.829243 73.977751 \r\nL 870.903043 74.445431 \r\nL 870.976843 73.977751 \r\nL 871.050643 74.378619 \r\nL 871.124443 73.777317 \r\nL 871.198243 74.311808 \r\nL 871.272043 73.910939 \r\nL 871.345843 73.977751 \r\nL 871.419642 73.910939 \r\nL 871.567242 74.111374 \r\nL 871.641042 73.844128 \r\nL 871.714842 74.244997 \r\nL 871.788642 73.844128 \r\nL 871.862442 74.178185 \r\nL 871.936242 73.510071 \r\nL 872.010042 74.178185 \r\nL 872.083841 73.443259 \r\nL 872.157641 74.111374 \r\nL 872.231441 73.910939 \r\nL 872.526641 73.777317 \r\nL 872.67424 74.044562 \r\nL 872.74804 73.376448 \r\nL 872.82184 74.044562 \r\nL 872.89564 73.309637 \r\nL 872.96944 73.977751 \r\nL 873.04324 73.242825 \r\nL 873.11704 74.044562 \r\nL 873.19084 73.309637 \r\nL 873.26464 73.977751 \r\nL 873.338439 73.510071 \r\nL 873.412239 73.710505 \r\nL 873.486039 73.710505 \r\nL 873.559839 73.309637 \r\nL 873.633639 73.844128 \r\nL 873.707439 73.242825 \r\nL 873.781239 73.777317 \r\nL 873.855039 72.908768 \r\nL 873.928839 73.643694 \r\nL 874.002638 72.975579 \r\nL 874.076438 73.576882 \r\nL 874.150238 73.309637 \r\nL 874.224038 73.242825 \r\nL 874.297838 73.576882 \r\nL 874.371638 73.109202 \r\nL 874.445438 73.777317 \r\nL 874.519238 73.109202 \r\nL 874.593037 73.443259 \r\nL 874.666837 73.109202 \r\nL 874.740637 73.309637 \r\nL 874.888237 73.042391 \r\nL 874.962037 73.242825 \r\nL 875.109637 73.042391 \r\nL 875.183437 73.242825 \r\nL 875.257236 72.908768 \r\nL 875.331036 73.309637 \r\nL 875.552436 72.708334 \r\nL 875.626236 73.042391 \r\nL 875.700036 72.708334 \r\nL 875.773836 73.109202 \r\nL 875.847636 72.708334 \r\nL 875.921435 73.109202 \r\nL 875.995235 72.908768 \r\nL 876.142835 72.908768 \r\nL 876.216635 72.775145 \r\nL 876.290435 72.908768 \r\nL 876.364235 72.641522 \r\nL 876.438035 72.908768 \r\nL 876.511834 72.641522 \r\nL 876.585634 72.841957 \r\nL 876.659434 72.641522 \r\nL 876.733234 72.841957 \r\nL 876.807034 72.5079 \r\nL 876.880834 72.841957 \r\nL 876.954634 72.374277 \r\nL 877.028434 72.841957 \r\nL 877.176033 72.441088 \r\nL 877.249833 72.574711 \r\nL 877.323633 72.374277 \r\nL 877.397433 72.641522 \r\nL 877.471233 72.173842 \r\nL 877.545033 72.708334 \r\nL 877.618833 72.107031 \r\nL 877.692633 72.5079 \r\nL 877.766432 72.374277 \r\nL 877.840232 72.5079 \r\nL 877.914032 72.374277 \r\nL 877.987832 72.574711 \r\nL 878.061632 72.107031 \r\nL 878.135432 72.374277 \r\nL 878.209232 72.107031 \r\nL 878.356832 72.374277 \r\nL 878.430631 71.973408 \r\nL 878.504431 72.374277 \r\nL 878.578231 71.973408 \r\nL 878.652031 72.173842 \r\nL 878.725831 72.04022 \r\nL 878.799631 72.374277 \r\nL 878.873431 71.906597 \r\nL 878.947231 72.240654 \r\nL 879.021031 71.839785 \r\nL 879.09483 71.973408 \r\nL 879.24243 71.973408 \r\nL 879.31623 72.107031 \r\nL 879.39003 72.04022 \r\nL 879.46383 72.04022 \r\nL 879.53763 71.839785 \r\nL 879.61143 72.107031 \r\nL 879.685229 71.706162 \r\nL 879.759029 72.173842 \r\nL 879.832829 71.505728 \r\nL 879.906629 72.173842 \r\nL 879.980429 71.706162 \r\nL 880.054229 71.772974 \r\nL 880.128029 71.839785 \r\nL 880.201829 71.57254 \r\nL 880.275629 71.906597 \r\nL 880.349428 71.505728 \r\nL 880.423228 71.973408 \r\nL 880.497028 71.57254 \r\nL 880.570828 71.906597 \r\nL 880.644628 71.505728 \r\nL 880.718428 71.906597 \r\nL 880.792228 71.57254 \r\nL 880.866028 71.839785 \r\nL 880.939828 71.505728 \r\nL 881.013627 71.57254 \r\nL 881.087427 71.505728 \r\nL 881.161227 71.639351 \r\nL 881.235027 71.57254 \r\nL 881.382627 71.505728 \r\nL 881.456427 71.438917 \r\nL 881.530227 71.706162 \r\nL 881.604026 71.305294 \r\nL 881.677826 71.772974 \r\nL 881.751626 71.238483 \r\nL 881.825426 71.57254 \r\nL 881.899226 71.171671 \r\nL 881.973026 71.639351 \r\nL 882.046826 71.171671 \r\nL 882.120626 71.305294 \r\nL 882.268225 71.305294 \r\nL 882.342025 71.10486 \r\nL 882.489625 71.305294 \r\nL 882.563425 71.10486 \r\nL 882.637225 71.372105 \r\nL 882.711025 71.10486 \r\nL 882.784825 71.438917 \r\nL 882.858624 71.038048 \r\nL 882.932424 71.505728 \r\nL 883.006224 70.837614 \r\nL 883.080024 71.238483 \r\nL 883.153824 71.10486 \r\nL 883.301424 70.904425 \r\nL 883.375224 71.171671 \r\nL 883.449024 70.971237 \r\nL 883.522823 71.038048 \r\nL 883.670423 71.10486 \r\nL 883.744223 70.837614 \r\nL 883.818023 71.038048 \r\nL 883.891823 70.770803 \r\nL 883.965623 70.971237 \r\nL 884.039423 70.770803 \r\nL 884.113223 70.904425 \r\nL 884.187022 70.63718 \r\nL 884.260822 70.971237 \r\nL 884.334622 70.570368 \r\nL 884.408422 71.171671 \r\nL 884.482222 70.503557 \r\nL 884.556022 71.171671 \r\nL 884.629822 70.503557 \r\nL 884.703622 71.10486 \r\nL 884.777421 70.503557 \r\nL 884.851221 70.904425 \r\nL 884.925021 70.570368 \r\nL 884.998821 70.703991 \r\nL 885.072621 70.770803 \r\nL 885.146421 70.436745 \r\nL 885.220221 70.837614 \r\nL 885.294021 70.369934 \r\nL 885.367821 70.837614 \r\nL 885.44162 70.303123 \r\nL 885.51542 70.837614 \r\nL 885.58922 70.436745 \r\nL 885.66302 70.63718 \r\nL 885.81062 70.303123 \r\nL 885.88442 70.503557 \r\nL 885.95822 70.236311 \r\nL 886.032019 70.570368 \r\nL 886.105819 70.102688 \r\nL 886.179619 70.63718 \r\nL 886.253419 70.1695 \r\nL 886.327219 70.703991 \r\nL 886.401019 70.236311 \r\nL 886.474819 70.570368 \r\nL 886.548619 70.303123 \r\nL 886.622419 70.570368 \r\nL 886.696218 70.303123 \r\nL 886.770018 70.503557 \r\nL 886.843818 70.1695 \r\nL 886.917618 70.436745 \r\nL 886.991418 70.236311 \r\nL 887.065218 70.436745 \r\nL 887.139018 70.102688 \r\nL 887.212818 70.236311 \r\nL 887.286618 70.102688 \r\nL 887.360417 70.236311 \r\nL 887.434217 70.035877 \r\nL 887.508017 70.303123 \r\nL 887.581817 69.835443 \r\nL 887.655617 70.503557 \r\nL 887.729417 69.902254 \r\nL 887.803217 70.436745 \r\nL 887.877017 70.035877 \r\nL 887.950816 70.369934 \r\nL 888.024616 69.902254 \r\nL 888.098416 70.436745 \r\nL 888.172216 69.969066 \r\nL 888.246016 70.236311 \r\nL 888.393616 69.768631 \r\nL 888.467416 70.102688 \r\nL 888.541216 69.835443 \r\nL 888.615015 70.303123 \r\nL 888.688815 69.902254 \r\nL 888.762615 70.035877 \r\nL 888.836415 69.902254 \r\nL 888.910215 70.236311 \r\nL 888.984015 69.835443 \r\nL 889.057815 70.236311 \r\nL 889.131615 69.70182 \r\nL 889.205415 69.969066 \r\nL 889.279214 69.835443 \r\nL 889.353014 69.902254 \r\nL 889.500614 69.835443 \r\nL 889.574414 70.1695 \r\nL 889.648214 69.768631 \r\nL 889.722014 70.1695 \r\nL 889.795814 69.635008 \r\nL 889.869613 70.1695 \r\nL 889.943413 69.70182 \r\nL 890.017213 70.102688 \r\nL 890.091013 69.635008 \r\nL 890.164813 70.1695 \r\nL 890.238613 69.635008 \r\nL 890.312413 70.102688 \r\nL 890.460013 69.70182 \r\nL 890.533812 69.835443 \r\nL 890.607612 69.568197 \r\nL 890.681412 69.835443 \r\nL 890.755212 69.568197 \r\nL 890.829012 69.768631 \r\nL 890.902812 69.568197 \r\nL 890.976612 69.902254 \r\nL 891.050412 69.568197 \r\nL 891.124211 69.835443 \r\nL 891.198011 69.434574 \r\nL 891.271811 69.768631 \r\nL 891.345611 69.434574 \r\nL 891.419411 69.768631 \r\nL 891.493211 69.501386 \r\nL 891.567011 69.768631 \r\nL 891.640811 69.568197 \r\nL 891.714611 69.70182 \r\nL 891.78841 69.434574 \r\nL 891.86221 69.568197 \r\nL 892.08361 69.568197 \r\nL 892.15741 69.434574 \r\nL 892.23121 69.635008 \r\nL 892.30501 69.434574 \r\nL 892.37881 69.635008 \r\nL 892.452609 69.300951 \r\nL 892.526409 69.902254 \r\nL 892.600209 69.033706 \r\nL 892.674009 69.568197 \r\nL 892.747809 69.367763 \r\nL 892.821609 69.568197 \r\nL 892.895409 69.367763 \r\nL 892.969209 69.434574 \r\nL 893.190608 69.501386 \r\nL 893.264408 69.23414 \r\nL 893.338208 69.434574 \r\nL 893.412008 69.167328 \r\nL 893.485808 69.434574 \r\nL 893.559608 69.100517 \r\nL 893.633408 69.367763 \r\nL 893.707207 69.100517 \r\nL 893.781007 69.367763 \r\nL 893.928607 69.033706 \r\nL 894.002407 69.23414 \r\nL 894.076207 68.833271 \r\nL 894.150007 69.300951 \r\nL 894.223807 68.833271 \r\nL 894.297606 69.367763 \r\nL 894.371406 68.699648 \r\nL 894.445206 69.367763 \r\nL 894.519006 68.76646 \r\nL 894.592806 69.300951 \r\nL 894.666606 68.900083 \r\nL 894.740406 69.167328 \r\nL 894.814206 68.966894 \r\nL 894.888006 69.033706 \r\nL 895.330805 68.632837 \r\nL 895.404605 68.833271 \r\nL 895.478405 68.632837 \r\nL 895.552205 68.966894 \r\nL 895.626004 68.632837 \r\nL 895.699804 69.100517 \r\nL 895.773604 68.365591 \r\nL 895.847404 69.167328 \r\nL 895.921204 68.432403 \r\nL 895.995004 69.100517 \r\nL 896.068804 68.432403 \r\nL 896.142604 68.966894 \r\nL 896.216403 68.365591 \r\nL 896.290203 68.76646 \r\nL 896.364003 68.699648 \r\nL 896.437803 68.499214 \r\nL 896.511603 68.833271 \r\nL 896.585403 68.432403 \r\nL 896.659203 68.966894 \r\nL 896.733003 68.098346 \r\nL 896.806803 68.966894 \r\nL 896.880602 68.098346 \r\nL 896.954402 68.900083 \r\nL 897.028202 68.365591 \r\nL 897.102002 68.76646 \r\nL 897.175802 68.365591 \r\nL 897.249602 68.566026 \r\nL 897.397202 68.165157 \r\nL 897.471002 68.699648 \r\nL 897.544801 68.165157 \r\nL 897.618601 68.632837 \r\nL 897.692401 68.165157 \r\nL 897.766201 68.632837 \r\nL 897.840001 68.29878 \r\nL 897.913801 68.566026 \r\nL 897.987601 68.098346 \r\nL 898.061401 68.566026 \r\nL 898.1352 68.031534 \r\nL 898.209 68.566026 \r\nL 898.2828 68.098346 \r\nL 898.3566 68.432403 \r\nL 898.4304 68.098346 \r\nL 898.5042 68.432403 \r\nL 898.6518 68.098346 \r\nL 898.7256 68.29878 \r\nL 898.799399 68.165157 \r\nL 898.873199 68.365591 \r\nL 898.946999 68.031534 \r\nL 899.020799 68.432403 \r\nL 899.094599 67.8311 \r\nL 899.168399 68.432403 \r\nL 899.242199 67.8311 \r\nL 899.315999 68.365591 \r\nL 899.389798 67.764289 \r\nL 899.463598 68.499214 \r\nL 899.537398 67.764289 \r\nL 899.611198 68.432403 \r\nL 899.684998 67.8311 \r\nL 899.758798 68.165157 \r\nL 899.832598 67.964723 \r\nL 899.906398 68.098346 \r\nL 899.980198 67.8311 \r\nL 900.053997 68.165157 \r\nL 900.127797 67.897911 \r\nL 900.201597 68.231969 \r\nL 900.275397 67.764289 \r\nL 900.349197 68.29878 \r\nL 900.422997 67.697477 \r\nL 900.496797 68.231969 \r\nL 900.570597 67.563854 \r\nL 900.644397 68.365591 \r\nL 900.718196 67.563854 \r\nL 900.791996 68.231969 \r\nL 900.865796 67.563854 \r\nL 900.939596 68.231969 \r\nL 901.013396 67.630666 \r\nL 901.087196 67.764289 \r\nL 901.234796 67.8311 \r\nL 901.308595 68.165157 \r\nL 901.382395 67.630666 \r\nL 901.456195 68.231969 \r\nL 901.529995 67.430231 \r\nL 901.603795 68.098346 \r\nL 901.677595 67.430231 \r\nL 901.751395 68.031534 \r\nL 901.825195 67.36342 \r\nL 901.898995 68.031534 \r\nL 901.972794 67.36342 \r\nL 902.046594 67.8311 \r\nL 902.120394 67.430231 \r\nL 902.194194 67.697477 \r\nL 902.341794 67.36342 \r\nL 902.415594 67.897911 \r\nL 902.489394 67.296609 \r\nL 902.563193 67.964723 \r\nL 902.636993 67.162986 \r\nL 902.710793 67.964723 \r\nL 902.784593 67.162986 \r\nL 902.858393 67.897911 \r\nL 902.932193 67.229797 \r\nL 903.005993 67.897911 \r\nL 903.153593 67.162986 \r\nL 903.227392 67.36342 \r\nL 903.301192 67.162986 \r\nL 903.374992 67.630666 \r\nL 903.448792 67.162986 \r\nL 903.522592 67.764289 \r\nL 903.596392 67.229797 \r\nL 903.670192 67.764289 \r\nL 903.743992 67.162986 \r\nL 903.817792 67.764289 \r\nL 903.891591 67.162986 \r\nL 903.965391 67.764289 \r\nL 904.039191 67.296609 \r\nL 904.112991 67.563854 \r\nL 904.260591 67.162986 \r\nL 904.334391 67.096174 \r\nL 904.408191 67.229797 \r\nL 904.48199 67.162986 \r\nL 904.70339 67.029363 \r\nL 904.92479 67.096174 \r\nL 905.219989 67.096174 \r\nL 905.293789 67.36342 \r\nL 905.367589 66.962552 \r\nL 905.441389 67.497043 \r\nL 905.515189 66.762117 \r\nL 905.588989 67.430231 \r\nL 905.662789 66.828929 \r\nL 905.736589 67.497043 \r\nL 905.810388 67.029363 \r\nL 905.884188 67.36342 \r\nL 906.031788 66.962552 \r\nL 906.105588 67.296609 \r\nL 906.179388 66.962552 \r\nL 906.253188 67.36342 \r\nL 906.326988 66.695306 \r\nL 906.400787 67.296609 \r\nL 906.474587 66.89574 \r\nL 906.548387 67.096174 \r\nL 906.622187 66.89574 \r\nL 906.695987 66.962552 \r\nL 906.769787 66.962552 \r\nL 906.843587 66.828929 \r\nL 906.917387 67.162986 \r\nL 906.991187 66.695306 \r\nL 907.064986 67.162986 \r\nL 907.138786 66.828929 \r\nL 907.212586 67.029363 \r\nL 907.286386 66.695306 \r\nL 907.360186 66.962552 \r\nL 907.433986 66.828929 \r\nL 907.729185 66.695306 \r\nL 907.802985 66.762117 \r\nL 907.876785 66.628494 \r\nL 908.098185 67.029363 \r\nL 908.171985 66.628494 \r\nL 908.245785 67.096174 \r\nL 908.319584 66.561683 \r\nL 908.393384 67.162986 \r\nL 908.467184 66.494872 \r\nL 908.540984 67.162986 \r\nL 908.614784 66.561683 \r\nL 908.688584 66.89574 \r\nL 908.909984 66.561683 \r\nL 909.131383 66.628494 \r\nL 909.278983 66.628494 \r\nL 909.500383 66.89574 \r\nL 909.574182 66.361249 \r\nL 909.647982 66.962552 \r\nL 909.721782 66.42806 \r\nL 909.795582 66.828929 \r\nL 909.869382 66.42806 \r\nL 909.943182 66.828929 \r\nL 910.016982 66.628494 \r\nL 910.090782 66.42806 \r\nL 910.164582 66.494872 \r\nL 910.238381 66.561683 \r\nL 910.312181 66.42806 \r\nL 910.385981 66.494872 \r\nL 910.681181 66.494872 \r\nL 910.754981 66.762117 \r\nL 910.82878 66.227626 \r\nL 910.90258 66.695306 \r\nL 910.97638 66.160814 \r\nL 911.05018 66.695306 \r\nL 911.12398 66.094003 \r\nL 911.19778 66.762117 \r\nL 911.27158 66.494872 \r\nL 911.41918 66.494872 \r\nL 911.492979 66.227626 \r\nL 911.566779 66.494872 \r\nL 911.640579 66.294437 \r\nL 911.714379 66.42806 \r\nL 911.788179 66.227626 \r\nL 911.861979 66.561683 \r\nL 911.935779 66.160814 \r\nL 912.009579 66.628494 \r\nL 912.083379 65.96038 \r\nL 912.157178 66.561683 \r\nL 912.230978 65.96038 \r\nL 912.304778 66.561683 \r\nL 912.378578 65.96038 \r\nL 912.452378 66.361249 \r\nL 912.526178 66.227626 \r\nL 912.599978 66.294437 \r\nL 912.673778 66.094003 \r\nL 912.747577 66.294437 \r\nL 912.821377 66.160814 \r\nL 912.968977 66.361249 \r\nL 913.042777 65.893569 \r\nL 913.116577 66.42806 \r\nL 913.190377 65.893569 \r\nL 913.264177 66.361249 \r\nL 913.337977 65.893569 \r\nL 913.411776 66.42806 \r\nL 913.485576 65.893569 \r\nL 913.559376 66.361249 \r\nL 913.633176 65.893569 \r\nL 913.706976 66.027192 \r\nL 913.780776 66.027192 \r\nL 913.854576 66.160814 \r\nL 913.928376 66.027192 \r\nL 914.002176 66.094003 \r\nL 914.075975 66.160814 \r\nL 914.149775 66.027192 \r\nL 914.223575 66.294437 \r\nL 914.297375 65.826757 \r\nL 914.371175 66.094003 \r\nL 914.444975 65.693134 \r\nL 914.518775 66.094003 \r\nL 914.592575 65.693134 \r\nL 914.666374 66.160814 \r\nL 914.740174 65.693134 \r\nL 914.813974 66.027192 \r\nL 914.887774 65.826757 \r\nL 914.961574 65.96038 \r\nL 915.035374 65.759946 \r\nL 915.109174 65.893569 \r\nL 915.182974 65.826757 \r\nL 915.330573 65.826757 \r\nL 915.404373 65.96038 \r\nL 915.478173 65.693134 \r\nL 915.551973 65.826757 \r\nL 915.625773 65.693134 \r\nL 915.699573 65.96038 \r\nL 915.773373 65.626323 \r\nL 915.847173 66.094003 \r\nL 915.920972 65.4927 \r\nL 915.994772 66.027192 \r\nL 916.068572 65.4927 \r\nL 916.142372 66.027192 \r\nL 916.216172 65.759946 \r\nL 916.363772 65.559512 \r\nL 916.511372 65.759946 \r\nL 916.658971 65.759946 \r\nL 916.732771 65.4927 \r\nL 916.806571 65.759946 \r\nL 916.880371 65.425889 \r\nL 916.954171 65.826757 \r\nL 917.027971 65.359077 \r\nL 917.101771 65.693134 \r\nL 917.175571 65.359077 \r\nL 917.24937 65.559512 \r\nL 917.32317 65.425889 \r\nL 917.39697 65.693134 \r\nL 917.47077 65.4927 \r\nL 917.54457 65.626323 \r\nL 917.61837 65.559512 \r\nL 917.76597 65.425889 \r\nL 917.913569 65.4927 \r\nL 917.987369 65.292266 \r\nL 918.061169 65.626323 \r\nL 918.134969 65.225455 \r\nL 918.134969 65.225455 \r\n\" style=\"fill:none;stroke:#1f77b4;stroke-linecap:square;stroke-width:1.5;\"/>\r\n   </g>\r\n   <g id=\"patch_9\">\r\n    <path d=\"M 530.763068 376.56 \r\nL 530.763068 50.4 \r\n\" style=\"fill:none;stroke:#000000;stroke-linecap:square;stroke-linejoin:miter;stroke-width:0.8;\"/>\r\n   </g>\r\n   <g id=\"patch_10\">\r\n    <path d=\"M 936.58125 376.56 \r\nL 936.58125 50.4 \r\n\" style=\"fill:none;stroke:#000000;stroke-linecap:square;stroke-linejoin:miter;stroke-width:0.8;\"/>\r\n   </g>\r\n   <g id=\"patch_11\">\r\n    <path d=\"M 530.763068 376.56 \r\nL 936.58125 376.56 \r\n\" style=\"fill:none;stroke:#000000;stroke-linecap:square;stroke-linejoin:miter;stroke-width:0.8;\"/>\r\n   </g>\r\n   <g id=\"patch_12\">\r\n    <path d=\"M 530.763068 50.4 \r\nL 936.58125 50.4 \r\n\" style=\"fill:none;stroke:#000000;stroke-linecap:square;stroke-linejoin:miter;stroke-width:0.8;\"/>\r\n   </g>\r\n   <g id=\"legend_2\">\r\n    <g id=\"patch_13\">\r\n     <path d=\"M 537.763068 73.078125 \r\nL 593.038068 73.078125 \r\nQ 595.038068 73.078125 595.038068 71.078125 \r\nL 595.038068 57.4 \r\nQ 595.038068 55.4 593.038068 55.4 \r\nL 537.763068 55.4 \r\nQ 535.763068 55.4 535.763068 57.4 \r\nL 535.763068 71.078125 \r\nQ 535.763068 73.078125 537.763068 73.078125 \r\nz\r\n\" style=\"fill:#ffffff;opacity:0.8;stroke:#cccccc;stroke-linejoin:miter;\"/>\r\n    </g>\r\n    <g id=\"line2d_32\">\r\n     <path d=\"M 539.763068 63.498437 \r\nL 559.763068 63.498437 \r\n\" style=\"fill:none;stroke:#1f77b4;stroke-linecap:square;stroke-width:1.5;\"/>\r\n    </g>\r\n    <g id=\"line2d_33\"/>\r\n    <g id=\"text_33\">\r\n     <!-- train -->\r\n     <g transform=\"translate(567.763068 66.998437)scale(0.1 -0.1)\">\r\n      <use xlink:href=\"#DejaVuSans-116\"/>\r\n      <use x=\"39.208984\" xlink:href=\"#DejaVuSans-114\"/>\r\n      <use x=\"80.322266\" xlink:href=\"#DejaVuSans-97\"/>\r\n      <use x=\"141.601562\" xlink:href=\"#DejaVuSans-105\"/>\r\n      <use x=\"169.384766\" xlink:href=\"#DejaVuSans-110\"/>\r\n     </g>\r\n    </g>\r\n   </g>\r\n  </g>\r\n  <g id=\"text_34\">\r\n   <!-- Loss and accuracy -->\r\n   <g transform=\"translate(420.447187 16.318125)scale(0.12 -0.12)\">\r\n    <defs>\r\n     <path d=\"M 9.8125 72.90625 \r\nL 19.671875 72.90625 \r\nL 19.671875 8.296875 \r\nL 55.171875 8.296875 \r\nL 55.171875 0 \r\nL 9.8125 0 \r\nz\r\n\" id=\"DejaVuSans-76\"/>\r\n     <path d=\"M 45.40625 46.390625 \r\nL 45.40625 75.984375 \r\nL 54.390625 75.984375 \r\nL 54.390625 0 \r\nL 45.40625 0 \r\nL 45.40625 8.203125 \r\nQ 42.578125 3.328125 38.25 0.953125 \r\nQ 33.9375 -1.421875 27.875 -1.421875 \r\nQ 17.96875 -1.421875 11.734375 6.484375 \r\nQ 5.515625 14.40625 5.515625 27.296875 \r\nQ 5.515625 40.1875 11.734375 48.09375 \r\nQ 17.96875 56 27.875 56 \r\nQ 33.9375 56 38.25 53.625 \r\nQ 42.578125 51.265625 45.40625 46.390625 \r\nz\r\nM 14.796875 27.296875 \r\nQ 14.796875 17.390625 18.875 11.75 \r\nQ 22.953125 6.109375 30.078125 6.109375 \r\nQ 37.203125 6.109375 41.296875 11.75 \r\nQ 45.40625 17.390625 45.40625 27.296875 \r\nQ 45.40625 37.203125 41.296875 42.84375 \r\nQ 37.203125 48.484375 30.078125 48.484375 \r\nQ 22.953125 48.484375 18.875 42.84375 \r\nQ 14.796875 37.203125 14.796875 27.296875 \r\nz\r\n\" id=\"DejaVuSans-100\"/>\r\n    </defs>\r\n    <use xlink:href=\"#DejaVuSans-76\"/>\r\n    <use x=\"53.962891\" xlink:href=\"#DejaVuSans-111\"/>\r\n    <use x=\"115.144531\" xlink:href=\"#DejaVuSans-115\"/>\r\n    <use x=\"167.244141\" xlink:href=\"#DejaVuSans-115\"/>\r\n    <use x=\"219.34375\" xlink:href=\"#DejaVuSans-32\"/>\r\n    <use x=\"251.130859\" xlink:href=\"#DejaVuSans-97\"/>\r\n    <use x=\"312.410156\" xlink:href=\"#DejaVuSans-110\"/>\r\n    <use x=\"375.789062\" xlink:href=\"#DejaVuSans-100\"/>\r\n    <use x=\"439.265625\" xlink:href=\"#DejaVuSans-32\"/>\r\n    <use x=\"471.052734\" xlink:href=\"#DejaVuSans-97\"/>\r\n    <use x=\"532.332031\" xlink:href=\"#DejaVuSans-99\"/>\r\n    <use x=\"587.3125\" xlink:href=\"#DejaVuSans-99\"/>\r\n    <use x=\"642.292969\" xlink:href=\"#DejaVuSans-117\"/>\r\n    <use x=\"705.671875\" xlink:href=\"#DejaVuSans-114\"/>\r\n    <use x=\"746.785156\" xlink:href=\"#DejaVuSans-97\"/>\r\n    <use x=\"808.064453\" xlink:href=\"#DejaVuSans-99\"/>\r\n    <use x=\"863.044922\" xlink:href=\"#DejaVuSans-121\"/>\r\n   </g>\r\n  </g>\r\n </g>\r\n <defs>\r\n  <clipPath id=\"pd09f65f190\">\r\n   <rect height=\"326.16\" width=\"405.818182\" x=\"43.78125\" y=\"50.4\"/>\r\n  </clipPath>\r\n  <clipPath id=\"pba00e9af53\">\r\n   <rect height=\"326.16\" width=\"405.818182\" x=\"530.763068\" y=\"50.4\"/>\r\n  </clipPath>\r\n </defs>\r\n</svg>\r\n",
      "image/png": "[encoded data removed]"
     },
     "metadata": {
      "needs_background": "light"
     }
    }
   ],
   "source": [
    "plot_loss_and_accuracy(losses, accs)"
   ]
  },
  {
   "source": [
    "#### Salvando o modelo"
   ],
   "cell_type": "markdown",
   "metadata": {}
  },
  {
   "cell_type": "code",
   "execution_count": 37,
   "metadata": {},
   "outputs": [],
   "source": [
    "torch.save(Model, cwd+\"/../../models/emotions_classifier.pth\")"
   ]
  },
  {
   "source": [
    "#### Salvando o dict"
   ],
   "cell_type": "markdown",
   "metadata": {}
  },
  {
   "cell_type": "code",
   "execution_count": 38,
   "metadata": {},
   "outputs": [],
   "source": [
    "torch.save(Model.state_dict(), cwd+\"/../../dicts/emotions_classifier_dict\")"
   ]
  },
  {
   "cell_type": "code",
   "execution_count": 39,
   "metadata": {},
   "outputs": [
    {
     "output_type": "execute_result",
     "data": {
      "text/plain": [
       "moodClassifier(\n",
       "  (embedding): Sequential(\n",
       "    (0): Torch_Mean_Layer()\n",
       "  )\n",
       "  (ann): Sequential(\n",
       "    (0): Linear(in_features=50, out_features=500, bias=True)\n",
       "    (1): ReLU(inplace=True)\n",
       "    (2): Linear(in_features=500, out_features=6, bias=True)\n",
       "  )\n",
       "  (soft): Sequential(\n",
       "    (0): LogSoftmax(dim=1)\n",
       "  )\n",
       ")"
      ]
     },
     "metadata": {},
     "execution_count": 39
    }
   ],
   "source": [
    "model = torch.load(cwd+\"/../../models/emotions_classifier.pth\")\n",
    "model.eval()"
   ]
  },
  {
   "cell_type": "code",
   "execution_count": 40,
   "metadata": {},
   "outputs": [
    {
     "output_type": "execute_result",
     "data": {
      "text/plain": [
       "LSTM(3, 5, batch_first=True)"
      ]
     },
     "metadata": {},
     "execution_count": 40
    }
   ],
   "source": [
    "input_size  = 3 # tamanho do embedding: número de dimensões da entrada\n",
    "hidden_size = 5 # arbitrário: número de dimensões da saída da camada\n",
    "num_layers  = 1 # número de LSTMs em cascata \n",
    "# (cada saída h_t de uma hidden-layer é uma entrada na próxima camada, para t = 2, ... , seq_len)\n",
    "\n",
    "lstm = nn.LSTM(input_size=input_size,\n",
    "               hidden_size=hidden_size, \n",
    "               num_layers=num_layers, \n",
    "               batch_first=True) # primeira dimensão é o tamanho da batch (num. de exemplos)\n",
    "lstm"
   ]
  },
  {
   "cell_type": "code",
   "execution_count": 41,
   "metadata": {},
   "outputs": [
    {
     "output_type": "stream",
     "name": "stdout",
     "text": [
      "torch.Size([2, 10, 3]) torch.Size([1, 2, 5]) torch.Size([1, 2, 5])\n\ntensor([[[-6.9345e-01, -4.7387e-01,  6.4501e-01],\n         [ 2.0727e+00,  8.4026e-02,  1.1144e-01],\n         [-6.7912e-01,  4.8461e-01,  7.3253e-01],\n         [-9.3624e-01,  7.0389e-01, -8.4242e-01],\n         [-5.3468e-01,  8.5519e-01,  1.4117e+00],\n         [-4.6687e-01,  3.4177e-01,  2.8179e+00],\n         [-3.9001e-01, -8.3794e-01, -3.6824e-02],\n         [-2.0690e-01,  1.0211e-01,  6.8321e-01],\n         [-7.1442e-01,  2.8526e+00,  1.7435e-01],\n         [-8.7560e-01,  2.5924e+00, -4.4738e-01]],\n\n        [[ 2.7887e-01,  5.9597e-01, -5.0588e-01],\n         [-1.2272e-03, -2.2433e-01, -9.2277e-01],\n         [ 7.3742e-01,  1.2382e+00, -2.0301e-01],\n         [-1.1979e+00,  6.0527e-01,  1.1546e+00],\n         [-2.1095e-02, -4.7845e-01,  6.7179e-01],\n         [-7.0716e-01,  3.5133e-01, -7.9429e-01],\n         [-3.1840e-02, -4.5093e-01,  1.1215e+00],\n         [ 5.7709e-01, -4.6723e-01, -2.9674e-01],\n         [-5.6170e-02, -1.9782e+00,  2.6561e-01],\n         [ 1.0757e+00, -2.6688e-01, -1.4070e-01]]])\ntensor([[[0., 0., 0., 0., 0.],\n         [0., 0., 0., 0., 0.]]])\ntensor([[[0., 0., 0., 0., 0.],\n         [0., 0., 0., 0., 0.]]])\n"
     ]
    }
   ],
   "source": [
    "seq_len = 10   # tamanho da sequência\n",
    "batch_size = 2 # num. de exemplos \n",
    "\n",
    "x  = torch.randn( size = (batch_size, seq_len, input_size) ) # 1 exemplo com 10 vetores de 3 dims.\n",
    "h0 = torch.zeros( size = (num_layers, batch_size, hidden_size) ) # hidden-state inicial de cada ex\n",
    "c0 = torch.zeros( size = (num_layers, batch_size, hidden_size) ) # cell-state inicial de cada ex\n",
    "\n",
    "print(x.shape, \n",
    "      h0.shape, \n",
    "      c0.shape, end=2*'\\n')\n",
    "print(*[x,h0,c0], sep='\\n')"
   ]
  },
  {
   "cell_type": "code",
   "execution_count": 42,
   "metadata": {},
   "outputs": [],
   "source": [
    "y, (h_n, c_n) = lstm(x, (h0,c0))"
   ]
  },
  {
   "cell_type": "code",
   "execution_count": 43,
   "metadata": {},
   "outputs": [
    {
     "output_type": "stream",
     "name": "stdout",
     "text": [
      "torch.Size([2, 10, 5]) torch.Size([1, 2, 5]) torch.Size([1, 2, 5])\n"
     ]
    }
   ],
   "source": [
    "print(y.shape, h_n.shape, c_n.shape)"
   ]
  },
  {
   "cell_type": "code",
   "execution_count": 44,
   "metadata": {},
   "outputs": [
    {
     "output_type": "stream",
     "name": "stdout",
     "text": [
      "tensor([[[ 0.0700,  0.1127, -0.0027,  0.0437, -0.0145],\n         [ 0.2011, -0.0060, -0.0231,  0.0747, -0.1613],\n         [ 0.2389,  0.1299, -0.0710,  0.0541, -0.1775],\n         [ 0.1387,  0.1203, -0.2148, -0.0690, -0.1682],\n         [ 0.2726,  0.2191, -0.0635, -0.0710, -0.2553],\n         [ 0.4039,  0.3247,  0.0555, -0.0354, -0.2943],\n         [ 0.2484,  0.1856,  0.0237,  0.0239, -0.1579],\n         [ 0.2765,  0.2203, -0.0208,  0.0253, -0.2161],\n         [ 0.1801,  0.1560, -0.3491, -0.0612, -0.3092],\n         [ 0.1777,  0.1094, -0.4593, -0.1291, -0.2978]],\n\n        [[ 0.0997,  0.0397, -0.0778, -0.0367, -0.1213],\n         [ 0.1353,  0.0608, -0.1063, -0.0378, -0.1126],\n         [ 0.1913,  0.0735, -0.1745, -0.0723, -0.2528],\n         [ 0.2632,  0.2051, -0.0898, -0.1050, -0.2010],\n         [ 0.3014,  0.1622, -0.0446, -0.0097, -0.1891],\n         [ 0.1620,  0.1446, -0.1760, -0.0787, -0.1713],\n         [ 0.3052,  0.1909, -0.0321, -0.0033, -0.1851],\n         [ 0.2838,  0.1136, -0.0675,  0.0320, -0.2022],\n         [ 0.2397,  0.1307, -0.0262,  0.1468, -0.0314],\n         [ 0.2685,  0.1059, -0.0608,  0.0995, -0.1466]]],\n       grad_fn=<TransposeBackward0>)\ntensor([[[ 0.1777,  0.1094, -0.4593, -0.1291, -0.2978],\n         [ 0.2685,  0.1059, -0.0608,  0.0995, -0.1466]]],\n       grad_fn=<StackBackward>)\ntensor([[[ 0.6430,  0.1548, -0.7447, -0.2824, -0.4420],\n         [ 0.5463,  0.3005, -0.1798,  0.2802, -0.2748]]],\n       grad_fn=<StackBackward>)\n"
     ]
    }
   ],
   "source": [
    "print(*[y, h_n, c_n], sep='\\n')"
   ]
  },
  {
   "cell_type": "code",
   "execution_count": 45,
   "metadata": {},
   "outputs": [
    {
     "output_type": "execute_result",
     "data": {
      "text/plain": [
       "torch.Size([2, 1, 5])"
      ]
     },
     "metadata": {},
     "execution_count": 45
    }
   ],
   "source": [
    "h_n.transpose(1,0).shape"
   ]
  },
  {
   "cell_type": "code",
   "execution_count": 46,
   "metadata": {},
   "outputs": [],
   "source": [
    "class moodClassifierWithLasersOnSteroids(nn.Module):\n",
    "  '''Modelo classificador de emoções com LSTMs.\n",
    "  '''\n",
    "\n",
    "  # ----------------------------------------------#\n",
    "  # Método construtor\n",
    "  def __init__(self, dim_embed, n_units_lstm, n_units_linear): \n",
    "    super().__init__()  \n",
    "\n",
    "    embedding_seq = [] # \n",
    "    ann_seq       = [] # \n",
    "    soft_seq      = []\n",
    "\n",
    "    #---------------------------------------------------------------#\n",
    "    # Embedding step: sequência de operações para converter X --> h\n",
    "    embedding_seq.append(nn.LSTM(input_size=dim_embed,\n",
    "                                  hidden_size=n_units_lstm, \n",
    "                                  num_layers=1,\n",
    "                                  batch_first=True))\n",
    "    #---------------------------------------------------------------#\n",
    "\n",
    "    #--------------------------------------------------------------------------#\n",
    "    # ANN: Rede Neural Artifical Tradicional, com regressão logística na saída\n",
    "    ann_seq.append(nn.Linear(n_units_lstm, n_units_linear))\n",
    "    ann_seq.append(nn.ReLU(inplace=True))\n",
    "    ann_seq.append(nn.Linear(n_units_linear, 6))\n",
    "    \n",
    "    #--------------------------------------------------------------------------#\n",
    "    # Softmax :)\n",
    "    soft_seq.append(nn.LogSoftmax(dim=1))\n",
    "\n",
    "    #--------------------------------------------------------------------------#\n",
    "\n",
    "    #--------------------------------------------------------------------------#\n",
    "    # \"merge\" de todas as camamadas em uma layer sequencial \n",
    "    # (uma sequência para cada etapa)\n",
    "    self.embedding = nn.Sequential(*embedding_seq)     # etapa de embedding \n",
    "    self.ann       = nn.Sequential(*ann_seq)           # etapa ANN\n",
    "    self.soft      = nn.Sequential(*soft_seq)\n",
    "    #--------------------------------------------------------------------------#\n",
    "\n",
    "\n",
    "  def forward(self, x): \n",
    "    '''Processamento realizado ao chamar y=modelo(x)\n",
    "    '''\n",
    "    _, (x, _) = self.embedding(x)  # aplica a etapa de embedding\n",
    "    x = x.transpose(1,0)   # inverte dimensões (força \"batch first\" no hidden state)\n",
    "    x = self.ann(x)        # passa o embedding médio pelas camadas da ANN\n",
    "    x = x.view(-1,6)\n",
    "    x = self.soft(x)\n",
    "    return x  "
   ]
  },
  {
   "cell_type": "code",
   "execution_count": 47,
   "metadata": {
    "tags": [
     "outputPrepend"
    ]
   },
   "outputs": [
    {
     "output_type": "stream",
     "name": "stdout",
     "text": [
      "580\n",
      "epoch: 1338  loss: 0.07634674\n",
      "epoch: 1339  loss: 0.07625788\n",
      "epoch: 1340  loss: 0.07616963\n",
      "epoch: 1341  loss: 0.07608199\n",
      "epoch: 1342  loss: 0.07599480\n",
      "epoch: 1343  loss: 0.07590815\n",
      "epoch: 1344  loss: 0.07582203\n",
      "epoch: 1345  loss: 0.07573637\n",
      "epoch: 1346  loss: 0.07565121\n",
      "epoch: 1347  loss: 0.07556660\n",
      "epoch: 1348  loss: 0.07548236\n",
      "epoch: 1349  loss: 0.07539852\n",
      "epoch: 1350  loss: 0.07531535\n",
      "epoch: 1351  loss: 0.07523245\n",
      "epoch: 1352  loss: 0.07515006\n",
      "epoch: 1353  loss: 0.07506812\n",
      "epoch: 1354  loss: 0.07498655\n",
      "epoch: 1355  loss: 0.07490566\n",
      "epoch: 1356  loss: 0.07482491\n",
      "epoch: 1357  loss: 0.07474468\n",
      "epoch: 1358  loss: 0.07466486\n",
      "epoch: 1359  loss: 0.07458536\n",
      "epoch: 1360  loss: 0.07450645\n",
      "epoch: 1361  loss: 0.07442783\n",
      "epoch: 1362  loss: 0.07434956\n",
      "epoch: 1363  loss: 0.07427172\n",
      "epoch: 1364  loss: 0.07419425\n",
      "epoch: 1365  loss: 0.07411726\n",
      "epoch: 1366  loss: 0.07404050\n",
      "epoch: 1367  loss: 0.07396422\n",
      "epoch: 1368  loss: 0.07388826\n",
      "epoch: 1369  loss: 0.07381264\n",
      "epoch: 1370  loss: 0.07373737\n",
      "epoch: 1371  loss: 0.07366238\n",
      "epoch: 1372  loss: 0.07358770\n",
      "epoch: 1373  loss: 0.07351331\n",
      "epoch: 1374  loss: 0.07343921\n",
      "epoch: 1375  loss: 0.07336534\n",
      "epoch: 1376  loss: 0.07329182\n",
      "epoch: 1377  loss: 0.07321871\n",
      "epoch: 1378  loss: 0.07314575\n",
      "epoch: 1379  loss: 0.07307328\n",
      "epoch: 1380  loss: 0.07300092\n",
      "epoch: 1381  loss: 0.07292896\n",
      "epoch: 1382  loss: 0.07285750\n",
      "epoch: 1383  loss: 0.07278596\n",
      "epoch: 1384  loss: 0.07271504\n",
      "epoch: 1385  loss: 0.07264411\n",
      "epoch: 1386  loss: 0.07257355\n",
      "epoch: 1387  loss: 0.07250331\n",
      "epoch: 1388  loss: 0.07243332\n",
      "epoch: 1389  loss: 0.07236370\n",
      "epoch: 1390  loss: 0.07229412\n",
      "epoch: 1391  loss: 0.07222504\n",
      "epoch: 1392  loss: 0.07215603\n",
      "epoch: 1393  loss: 0.07208753\n",
      "epoch: 1394  loss: 0.07201909\n",
      "epoch: 1395  loss: 0.07195085\n",
      "epoch: 1396  loss: 0.07188302\n",
      "epoch: 1397  loss: 0.07181545\n",
      "epoch: 1398  loss: 0.07174803\n",
      "epoch: 1399  loss: 0.07168087\n",
      "epoch: 1400  loss: 0.07161392\n",
      "epoch: 1401  loss: 0.07154717\n",
      "epoch: 1402  loss: 0.07148077\n",
      "epoch: 1403  loss: 0.07141443\n",
      "epoch: 1404  loss: 0.07134844\n",
      "epoch: 1405  loss: 0.07128260\n",
      "epoch: 1406  loss: 0.07121698\n",
      "epoch: 1407  loss: 0.07115149\n",
      "epoch: 1408  loss: 0.07108614\n",
      "epoch: 1409  loss: 0.07102099\n",
      "epoch: 1410  loss: 0.07095599\n",
      "epoch: 1411  loss: 0.07089116\n",
      "epoch: 1412  loss: 0.07082659\n",
      "epoch: 1413  loss: 0.07076236\n",
      "epoch: 1414  loss: 0.07069833\n",
      "epoch: 1415  loss: 0.07063445\n",
      "epoch: 1416  loss: 0.07057073\n",
      "epoch: 1417  loss: 0.07050731\n",
      "epoch: 1418  loss: 0.07044398\n",
      "epoch: 1419  loss: 0.07038111\n",
      "epoch: 1420  loss: 0.07031819\n",
      "epoch: 1421  loss: 0.07025561\n",
      "epoch: 1422  loss: 0.07019323\n",
      "epoch: 1423  loss: 0.07013110\n",
      "epoch: 1424  loss: 0.07006919\n",
      "epoch: 1425  loss: 0.07000736\n",
      "epoch: 1426  loss: 0.06994567\n",
      "epoch: 1427  loss: 0.06988401\n",
      "epoch: 1428  loss: 0.06982275\n",
      "epoch: 1429  loss: 0.06976178\n",
      "epoch: 1430  loss: 0.06970087\n",
      "epoch: 1431  loss: 0.06964014\n",
      "epoch: 1432  loss: 0.06957986\n",
      "epoch: 1433  loss: 0.06951971\n",
      "epoch: 1434  loss: 0.06945986\n",
      "epoch: 1435  loss: 0.06940030\n",
      "epoch: 1436  loss: 0.06934083\n",
      "epoch: 1437  loss: 0.06928180\n",
      "epoch: 1438  loss: 0.06922309\n",
      "epoch: 1439  loss: 0.06916454\n",
      "epoch: 1440  loss: 0.06910618\n",
      "epoch: 1441  loss: 0.06904831\n",
      "epoch: 1442  loss: 0.06899055\n",
      "epoch: 1443  loss: 0.06893323\n",
      "epoch: 1444  loss: 0.06887598\n",
      "epoch: 1445  loss: 0.06881905\n",
      "epoch: 1446  loss: 0.06876242\n",
      "epoch: 1447  loss: 0.06870604\n",
      "epoch: 1448  loss: 0.06864997\n",
      "epoch: 1449  loss: 0.06859421\n",
      "epoch: 1450  loss: 0.06853858\n",
      "epoch: 1451  loss: 0.06848330\n",
      "epoch: 1452  loss: 0.06842831\n",
      "epoch: 1453  loss: 0.06837357\n",
      "epoch: 1454  loss: 0.06831915\n",
      "epoch: 1455  loss: 0.06826484\n",
      "epoch: 1456  loss: 0.06821068\n",
      "epoch: 1457  loss: 0.06815679\n",
      "epoch: 1458  loss: 0.06810294\n",
      "epoch: 1459  loss: 0.06804952\n",
      "epoch: 1460  loss: 0.06799601\n",
      "epoch: 1461  loss: 0.06794256\n",
      "epoch: 1462  loss: 0.06788926\n",
      "epoch: 1463  loss: 0.06783623\n",
      "epoch: 1464  loss: 0.06778321\n",
      "epoch: 1465  loss: 0.06773048\n",
      "epoch: 1466  loss: 0.06767786\n",
      "epoch: 1467  loss: 0.06762544\n",
      "epoch: 1468  loss: 0.06757335\n",
      "epoch: 1469  loss: 0.06752118\n",
      "epoch: 1470  loss: 0.06746937\n",
      "epoch: 1471  loss: 0.06741768\n",
      "epoch: 1472  loss: 0.06736609\n",
      "epoch: 1473  loss: 0.06731489\n",
      "epoch: 1474  loss: 0.06726373\n",
      "epoch: 1475  loss: 0.06721281\n",
      "epoch: 1476  loss: 0.06716207\n",
      "epoch: 1477  loss: 0.06711155\n",
      "epoch: 1478  loss: 0.06706123\n",
      "epoch: 1479  loss: 0.06701121\n",
      "epoch: 1480  loss: 0.06696133\n",
      "epoch: 1481  loss: 0.06691167\n",
      "epoch: 1482  loss: 0.06686216\n",
      "epoch: 1483  loss: 0.06681285\n",
      "epoch: 1484  loss: 0.06676369\n",
      "epoch: 1485  loss: 0.06671481\n",
      "epoch: 1486  loss: 0.06666593\n",
      "epoch: 1487  loss: 0.06661732\n",
      "epoch: 1488  loss: 0.06656884\n",
      "epoch: 1489  loss: 0.06652047\n",
      "epoch: 1490  loss: 0.06647237\n",
      "epoch: 1491  loss: 0.06642438\n",
      "epoch: 1492  loss: 0.06637672\n",
      "epoch: 1493  loss: 0.06632910\n",
      "epoch: 1494  loss: 0.06628163\n",
      "epoch: 1495  loss: 0.06623432\n",
      "epoch: 1496  loss: 0.06618726\n",
      "epoch: 1497  loss: 0.06614026\n",
      "epoch: 1498  loss: 0.06609362\n",
      "epoch: 1499  loss: 0.06604705\n",
      "epoch: 1500  loss: 0.06600042\n",
      "epoch: 1501  loss: 0.06595435\n",
      "epoch: 1502  loss: 0.06590821\n",
      "epoch: 1503  loss: 0.06586219\n",
      "epoch: 1504  loss: 0.06581645\n",
      "epoch: 1505  loss: 0.06577076\n",
      "epoch: 1506  loss: 0.06572539\n",
      "epoch: 1507  loss: 0.06568001\n",
      "epoch: 1508  loss: 0.06563478\n",
      "epoch: 1509  loss: 0.06558993\n",
      "epoch: 1510  loss: 0.06554484\n",
      "epoch: 1511  loss: 0.06550036\n",
      "epoch: 1512  loss: 0.06545585\n",
      "epoch: 1513  loss: 0.06541123\n",
      "epoch: 1514  loss: 0.06536726\n",
      "epoch: 1515  loss: 0.06532316\n",
      "epoch: 1516  loss: 0.06527893\n",
      "epoch: 1517  loss: 0.06523544\n",
      "epoch: 1518  loss: 0.06519183\n",
      "epoch: 1519  loss: 0.06514812\n",
      "epoch: 1520  loss: 0.06510483\n",
      "epoch: 1521  loss: 0.06506161\n",
      "epoch: 1522  loss: 0.06501826\n",
      "epoch: 1523  loss: 0.06497544\n",
      "epoch: 1524  loss: 0.06493255\n",
      "epoch: 1525  loss: 0.06488986\n",
      "epoch: 1526  loss: 0.06484736\n",
      "epoch: 1527  loss: 0.06480490\n",
      "epoch: 1528  loss: 0.06476264\n",
      "epoch: 1529  loss: 0.06472050\n",
      "epoch: 1530  loss: 0.06467855\n",
      "epoch: 1531  loss: 0.06463664\n",
      "epoch: 1532  loss: 0.06459483\n",
      "epoch: 1533  loss: 0.06455326\n",
      "epoch: 1534  loss: 0.06451162\n",
      "epoch: 1535  loss: 0.06447029\n",
      "epoch: 1536  loss: 0.06442900\n",
      "epoch: 1537  loss: 0.06438784\n",
      "epoch: 1538  loss: 0.06434688\n",
      "epoch: 1539  loss: 0.06430601\n",
      "epoch: 1540  loss: 0.06426535\n",
      "epoch: 1541  loss: 0.06422465\n",
      "epoch: 1542  loss: 0.06418419\n",
      "epoch: 1543  loss: 0.06414375\n",
      "epoch: 1544  loss: 0.06410360\n",
      "epoch: 1545  loss: 0.06406349\n",
      "epoch: 1546  loss: 0.06402358\n",
      "epoch: 1547  loss: 0.06398369\n",
      "epoch: 1548  loss: 0.06394392\n",
      "epoch: 1549  loss: 0.06390426\n",
      "epoch: 1550  loss: 0.06386473\n",
      "epoch: 1551  loss: 0.06382535\n",
      "epoch: 1552  loss: 0.06378613\n",
      "epoch: 1553  loss: 0.06374695\n",
      "epoch: 1554  loss: 0.06370783\n",
      "epoch: 1555  loss: 0.06366892\n",
      "epoch: 1556  loss: 0.06363007\n",
      "epoch: 1557  loss: 0.06359133\n",
      "epoch: 1558  loss: 0.06355269\n",
      "epoch: 1559  loss: 0.06351418\n",
      "epoch: 1560  loss: 0.06347582\n",
      "epoch: 1561  loss: 0.06343745\n",
      "epoch: 1562  loss: 0.06339922\n",
      "epoch: 1563  loss: 0.06336115\n",
      "epoch: 1564  loss: 0.06332311\n",
      "epoch: 1565  loss: 0.06328522\n",
      "epoch: 1566  loss: 0.06324733\n",
      "epoch: 1567  loss: 0.06320963\n",
      "epoch: 1568  loss: 0.06317193\n",
      "epoch: 1569  loss: 0.06313444\n",
      "epoch: 1570  loss: 0.06309686\n",
      "epoch: 1571  loss: 0.06305933\n",
      "epoch: 1572  loss: 0.06302195\n",
      "epoch: 1573  loss: 0.06298461\n",
      "epoch: 1574  loss: 0.06294756\n",
      "epoch: 1575  loss: 0.06291031\n",
      "epoch: 1576  loss: 0.06287336\n",
      "epoch: 1577  loss: 0.06283646\n",
      "epoch: 1578  loss: 0.06279948\n",
      "epoch: 1579  loss: 0.06276276\n",
      "epoch: 1580  loss: 0.06272610\n",
      "epoch: 1581  loss: 0.06268943\n",
      "epoch: 1582  loss: 0.06265302\n",
      "epoch: 1583  loss: 0.06261664\n",
      "epoch: 1584  loss: 0.06258031\n",
      "epoch: 1585  loss: 0.06254422\n",
      "epoch: 1586  loss: 0.06250820\n",
      "epoch: 1587  loss: 0.06247215\n",
      "epoch: 1588  loss: 0.06243623\n",
      "epoch: 1589  loss: 0.06240037\n",
      "epoch: 1590  loss: 0.06236466\n",
      "epoch: 1591  loss: 0.06232903\n",
      "epoch: 1592  loss: 0.06229348\n",
      "epoch: 1593  loss: 0.06225794\n",
      "epoch: 1594  loss: 0.06222260\n",
      "epoch: 1595  loss: 0.06218733\n",
      "epoch: 1596  loss: 0.06215195\n",
      "epoch: 1597  loss: 0.06211652\n",
      "epoch: 1598  loss: 0.06208130\n",
      "epoch: 1599  loss: 0.06204591\n",
      "epoch: 1600  loss: 0.06201057\n",
      "epoch: 1601  loss: 0.06197535\n",
      "epoch: 1602  loss: 0.06194006\n",
      "epoch: 1603  loss: 0.06190486\n",
      "epoch: 1604  loss: 0.06186977\n",
      "epoch: 1605  loss: 0.06183461\n",
      "epoch: 1606  loss: 0.06179971\n",
      "epoch: 1607  loss: 0.06176500\n",
      "epoch: 1608  loss: 0.06173027\n",
      "epoch: 1609  loss: 0.06169560\n",
      "epoch: 1610  loss: 0.06166101\n",
      "epoch: 1611  loss: 0.06162666\n",
      "epoch: 1612  loss: 0.06159221\n",
      "epoch: 1613  loss: 0.06155790\n",
      "epoch: 1614  loss: 0.06152385\n",
      "epoch: 1615  loss: 0.06148978\n",
      "epoch: 1616  loss: 0.06145578\n",
      "epoch: 1617  loss: 0.06142192\n",
      "epoch: 1618  loss: 0.06138822\n",
      "epoch: 1619  loss: 0.06135453\n",
      "epoch: 1620  loss: 0.06132090\n",
      "epoch: 1621  loss: 0.06128737\n",
      "epoch: 1622  loss: 0.06125392\n",
      "epoch: 1623  loss: 0.06122056\n",
      "epoch: 1624  loss: 0.06118708\n",
      "epoch: 1625  loss: 0.06115377\n",
      "epoch: 1626  loss: 0.06112049\n",
      "epoch: 1627  loss: 0.06108727\n",
      "epoch: 1628  loss: 0.06105420\n",
      "epoch: 1629  loss: 0.06102107\n",
      "epoch: 1630  loss: 0.06098815\n",
      "epoch: 1631  loss: 0.06095521\n",
      "epoch: 1632  loss: 0.06092232\n",
      "epoch: 1633  loss: 0.06088973\n",
      "epoch: 1634  loss: 0.06085714\n",
      "epoch: 1635  loss: 0.06082457\n",
      "epoch: 1636  loss: 0.06079208\n",
      "epoch: 1637  loss: 0.06075975\n",
      "epoch: 1638  loss: 0.06072735\n",
      "epoch: 1639  loss: 0.06069522\n",
      "epoch: 1640  loss: 0.06066308\n",
      "epoch: 1641  loss: 0.06063101\n",
      "epoch: 1642  loss: 0.06059914\n",
      "epoch: 1643  loss: 0.06056723\n",
      "epoch: 1644  loss: 0.06053548\n",
      "epoch: 1645  loss: 0.06050372\n",
      "epoch: 1646  loss: 0.06047198\n",
      "epoch: 1647  loss: 0.06044051\n",
      "epoch: 1648  loss: 0.06040903\n",
      "epoch: 1649  loss: 0.06037763\n",
      "epoch: 1650  loss: 0.06034619\n",
      "epoch: 1651  loss: 0.06031492\n",
      "epoch: 1652  loss: 0.06028355\n",
      "epoch: 1653  loss: 0.06025228\n",
      "epoch: 1654  loss: 0.06022113\n",
      "epoch: 1655  loss: 0.06019001\n",
      "epoch: 1656  loss: 0.06015897\n",
      "epoch: 1657  loss: 0.06012799\n",
      "epoch: 1658  loss: 0.06009712\n",
      "epoch: 1659  loss: 0.06006629\n",
      "epoch: 1660  loss: 0.06003558\n",
      "epoch: 1661  loss: 0.06000495\n",
      "epoch: 1662  loss: 0.05997424\n",
      "epoch: 1663  loss: 0.05994371\n",
      "epoch: 1664  loss: 0.05991327\n",
      "epoch: 1665  loss: 0.05988275\n",
      "epoch: 1666  loss: 0.05985244\n",
      "epoch: 1667  loss: 0.05982215\n",
      "epoch: 1668  loss: 0.05979195\n",
      "epoch: 1669  loss: 0.05976179\n",
      "epoch: 1670  loss: 0.05973173\n",
      "epoch: 1671  loss: 0.05970174\n",
      "epoch: 1672  loss: 0.05967175\n",
      "epoch: 1673  loss: 0.05964190\n",
      "epoch: 1674  loss: 0.05961201\n",
      "epoch: 1675  loss: 0.05958240\n",
      "epoch: 1676  loss: 0.05955263\n",
      "epoch: 1677  loss: 0.05952293\n",
      "epoch: 1678  loss: 0.05949348\n",
      "epoch: 1679  loss: 0.05946395\n",
      "epoch: 1680  loss: 0.05943458\n",
      "epoch: 1681  loss: 0.05940514\n",
      "epoch: 1682  loss: 0.05937591\n",
      "epoch: 1683  loss: 0.05934670\n",
      "epoch: 1684  loss: 0.05931751\n",
      "epoch: 1685  loss: 0.05928854\n",
      "epoch: 1686  loss: 0.05925942\n",
      "epoch: 1687  loss: 0.05923050\n",
      "epoch: 1688  loss: 0.05920167\n",
      "epoch: 1689  loss: 0.05917287\n",
      "epoch: 1690  loss: 0.05914415\n",
      "epoch: 1691  loss: 0.05911540\n",
      "epoch: 1692  loss: 0.05908687\n",
      "epoch: 1693  loss: 0.05905831\n",
      "epoch: 1694  loss: 0.05902985\n",
      "epoch: 1695  loss: 0.05900148\n",
      "epoch: 1696  loss: 0.05897315\n",
      "epoch: 1697  loss: 0.05894493\n",
      "epoch: 1698  loss: 0.05891670\n",
      "epoch: 1699  loss: 0.05888862\n",
      "epoch: 1700  loss: 0.05886050\n",
      "epoch: 1701  loss: 0.05883242\n",
      "epoch: 1702  loss: 0.05880449\n",
      "epoch: 1703  loss: 0.05877663\n",
      "epoch: 1704  loss: 0.05874883\n",
      "epoch: 1705  loss: 0.05872101\n",
      "epoch: 1706  loss: 0.05869323\n",
      "epoch: 1707  loss: 0.05866558\n",
      "epoch: 1708  loss: 0.05863803\n",
      "epoch: 1709  loss: 0.05861043\n",
      "epoch: 1710  loss: 0.05858294\n",
      "epoch: 1711  loss: 0.05855554\n",
      "epoch: 1712  loss: 0.05852817\n",
      "epoch: 1713  loss: 0.05850087\n",
      "epoch: 1714  loss: 0.05847359\n",
      "epoch: 1715  loss: 0.05844636\n",
      "epoch: 1716  loss: 0.05841925\n",
      "epoch: 1717  loss: 0.05839226\n",
      "epoch: 1718  loss: 0.05836510\n",
      "epoch: 1719  loss: 0.05833812\n",
      "epoch: 1720  loss: 0.05831131\n",
      "epoch: 1721  loss: 0.05828431\n",
      "epoch: 1722  loss: 0.05825755\n",
      "epoch: 1723  loss: 0.05823079\n",
      "epoch: 1724  loss: 0.05820396\n",
      "epoch: 1725  loss: 0.05817734\n",
      "epoch: 1726  loss: 0.05815078\n",
      "epoch: 1727  loss: 0.05812411\n",
      "epoch: 1728  loss: 0.05809763\n",
      "epoch: 1729  loss: 0.05807124\n",
      "epoch: 1730  loss: 0.05804479\n",
      "epoch: 1731  loss: 0.05801842\n",
      "epoch: 1732  loss: 0.05799222\n",
      "epoch: 1733  loss: 0.05796590\n",
      "epoch: 1734  loss: 0.05793966\n",
      "epoch: 1735  loss: 0.05791344\n",
      "epoch: 1736  loss: 0.05788732\n",
      "epoch: 1737  loss: 0.05786112\n",
      "epoch: 1738  loss: 0.05783502\n",
      "epoch: 1739  loss: 0.05780887\n",
      "epoch: 1740  loss: 0.05778285\n",
      "epoch: 1741  loss: 0.05775675\n",
      "epoch: 1742  loss: 0.05773077\n",
      "epoch: 1743  loss: 0.05770482\n",
      "epoch: 1744  loss: 0.05767884\n",
      "epoch: 1745  loss: 0.05765294\n",
      "epoch: 1746  loss: 0.05762700\n",
      "epoch: 1747  loss: 0.05760134\n",
      "epoch: 1748  loss: 0.05757557\n",
      "epoch: 1749  loss: 0.05754980\n",
      "epoch: 1750  loss: 0.05752422\n",
      "epoch: 1751  loss: 0.05749866\n",
      "epoch: 1752  loss: 0.05747313\n",
      "epoch: 1753  loss: 0.05744759\n",
      "epoch: 1754  loss: 0.05742215\n",
      "epoch: 1755  loss: 0.05739671\n",
      "epoch: 1756  loss: 0.05737148\n",
      "epoch: 1757  loss: 0.05734624\n",
      "epoch: 1758  loss: 0.05732094\n",
      "epoch: 1759  loss: 0.05729583\n",
      "epoch: 1760  loss: 0.05727073\n",
      "epoch: 1761  loss: 0.05724573\n",
      "epoch: 1762  loss: 0.05722073\n",
      "epoch: 1763  loss: 0.05719586\n",
      "epoch: 1764  loss: 0.05717085\n",
      "epoch: 1765  loss: 0.05714605\n",
      "epoch: 1766  loss: 0.05712133\n",
      "epoch: 1767  loss: 0.05709654\n",
      "epoch: 1768  loss: 0.05707179\n",
      "epoch: 1769  loss: 0.05704713\n",
      "epoch: 1770  loss: 0.05702257\n",
      "epoch: 1771  loss: 0.05699808\n",
      "epoch: 1772  loss: 0.05697359\n",
      "epoch: 1773  loss: 0.05694918\n",
      "epoch: 1774  loss: 0.05692476\n",
      "epoch: 1775  loss: 0.05690051\n",
      "epoch: 1776  loss: 0.05687628\n",
      "epoch: 1777  loss: 0.05685209\n",
      "epoch: 1778  loss: 0.05682790\n",
      "epoch: 1779  loss: 0.05680393\n",
      "epoch: 1780  loss: 0.05677982\n",
      "epoch: 1781  loss: 0.05675569\n",
      "epoch: 1782  loss: 0.05673185\n",
      "epoch: 1783  loss: 0.05670794\n",
      "epoch: 1784  loss: 0.05668407\n",
      "epoch: 1785  loss: 0.05666019\n",
      "epoch: 1786  loss: 0.05663653\n",
      "epoch: 1787  loss: 0.05661288\n",
      "epoch: 1788  loss: 0.05658918\n",
      "epoch: 1789  loss: 0.05656564\n",
      "epoch: 1790  loss: 0.05654209\n",
      "epoch: 1791  loss: 0.05651869\n",
      "epoch: 1792  loss: 0.05649519\n",
      "epoch: 1793  loss: 0.05647197\n",
      "epoch: 1794  loss: 0.05644869\n",
      "epoch: 1795  loss: 0.05642536\n",
      "epoch: 1796  loss: 0.05640213\n",
      "epoch: 1797  loss: 0.05637898\n",
      "epoch: 1798  loss: 0.05635592\n",
      "epoch: 1799  loss: 0.05633287\n",
      "epoch: 1800  loss: 0.05630976\n",
      "epoch: 1801  loss: 0.05628680\n",
      "epoch: 1802  loss: 0.05626390\n",
      "epoch: 1803  loss: 0.05624099\n",
      "epoch: 1804  loss: 0.05621815\n",
      "epoch: 1805  loss: 0.05619542\n",
      "epoch: 1806  loss: 0.05617271\n",
      "epoch: 1807  loss: 0.05614997\n",
      "epoch: 1808  loss: 0.05612728\n",
      "epoch: 1809  loss: 0.05610482\n",
      "epoch: 1810  loss: 0.05608229\n",
      "epoch: 1811  loss: 0.05605979\n",
      "epoch: 1812  loss: 0.05603724\n",
      "epoch: 1813  loss: 0.05601478\n",
      "epoch: 1814  loss: 0.05599236\n",
      "epoch: 1815  loss: 0.05596993\n",
      "epoch: 1816  loss: 0.05594761\n",
      "epoch: 1817  loss: 0.05592531\n",
      "epoch: 1818  loss: 0.05590304\n",
      "epoch: 1819  loss: 0.05588084\n",
      "epoch: 1820  loss: 0.05585865\n",
      "epoch: 1821  loss: 0.05583662\n",
      "epoch: 1822  loss: 0.05581451\n",
      "epoch: 1823  loss: 0.05579245\n",
      "epoch: 1824  loss: 0.05577052\n",
      "epoch: 1825  loss: 0.05574851\n",
      "epoch: 1826  loss: 0.05572662\n",
      "epoch: 1827  loss: 0.05570478\n",
      "epoch: 1828  loss: 0.05568295\n",
      "epoch: 1829  loss: 0.05566115\n",
      "epoch: 1830  loss: 0.05563942\n",
      "epoch: 1831  loss: 0.05561778\n",
      "epoch: 1832  loss: 0.05559605\n",
      "epoch: 1833  loss: 0.05557451\n",
      "epoch: 1834  loss: 0.05555297\n",
      "epoch: 1835  loss: 0.05553140\n",
      "epoch: 1836  loss: 0.05550992\n",
      "epoch: 1837  loss: 0.05548847\n",
      "epoch: 1838  loss: 0.05546713\n",
      "epoch: 1839  loss: 0.05544577\n",
      "epoch: 1840  loss: 0.05542442\n",
      "epoch: 1841  loss: 0.05540307\n",
      "epoch: 1842  loss: 0.05538177\n",
      "epoch: 1843  loss: 0.05536050\n",
      "epoch: 1844  loss: 0.05533930\n",
      "epoch: 1845  loss: 0.05531813\n",
      "epoch: 1846  loss: 0.05529697\n",
      "epoch: 1847  loss: 0.05527589\n",
      "epoch: 1848  loss: 0.05525479\n",
      "epoch: 1849  loss: 0.05523375\n",
      "epoch: 1850  loss: 0.05521276\n",
      "epoch: 1851  loss: 0.05519182\n",
      "epoch: 1852  loss: 0.05517087\n",
      "epoch: 1853  loss: 0.05514999\n",
      "epoch: 1854  loss: 0.05512918\n",
      "epoch: 1855  loss: 0.05510836\n",
      "epoch: 1856  loss: 0.05508763\n",
      "epoch: 1857  loss: 0.05506681\n",
      "epoch: 1858  loss: 0.05504618\n",
      "epoch: 1859  loss: 0.05502548\n",
      "epoch: 1860  loss: 0.05500491\n",
      "epoch: 1861  loss: 0.05498436\n",
      "epoch: 1862  loss: 0.05496379\n",
      "epoch: 1863  loss: 0.05494330\n",
      "epoch: 1864  loss: 0.05492280\n",
      "epoch: 1865  loss: 0.05490237\n",
      "epoch: 1866  loss: 0.05488201\n",
      "epoch: 1867  loss: 0.05486172\n",
      "epoch: 1868  loss: 0.05484134\n",
      "epoch: 1869  loss: 0.05482111\n",
      "epoch: 1870  loss: 0.05480086\n",
      "epoch: 1871  loss: 0.05478069\n",
      "epoch: 1872  loss: 0.05476057\n",
      "epoch: 1873  loss: 0.05474049\n",
      "epoch: 1874  loss: 0.05472047\n",
      "epoch: 1875  loss: 0.05470048\n",
      "epoch: 1876  loss: 0.05468046\n",
      "epoch: 1877  loss: 0.05466054\n",
      "epoch: 1878  loss: 0.05464064\n",
      "epoch: 1879  loss: 0.05462077\n",
      "epoch: 1880  loss: 0.05460106\n",
      "epoch: 1881  loss: 0.05458128\n",
      "epoch: 1882  loss: 0.05456155\n",
      "epoch: 1883  loss: 0.05454188\n",
      "epoch: 1884  loss: 0.05452224\n",
      "epoch: 1885  loss: 0.05450259\n",
      "epoch: 1886  loss: 0.05448305\n",
      "epoch: 1887  loss: 0.05446350\n",
      "epoch: 1888  loss: 0.05444399\n",
      "epoch: 1889  loss: 0.05442457\n",
      "epoch: 1890  loss: 0.05440512\n",
      "epoch: 1891  loss: 0.05438577\n",
      "epoch: 1892  loss: 0.05436643\n",
      "epoch: 1893  loss: 0.05434711\n",
      "epoch: 1894  loss: 0.05432787\n",
      "epoch: 1895  loss: 0.05430861\n",
      "epoch: 1896  loss: 0.05428947\n",
      "epoch: 1897  loss: 0.05427035\n",
      "epoch: 1898  loss: 0.05425123\n",
      "epoch: 1899  loss: 0.05423217\n",
      "epoch: 1900  loss: 0.05421315\n",
      "epoch: 1901  loss: 0.05419414\n",
      "epoch: 1902  loss: 0.05417518\n",
      "epoch: 1903  loss: 0.05415635\n",
      "epoch: 1904  loss: 0.05413738\n",
      "epoch: 1905  loss: 0.05411853\n",
      "epoch: 1906  loss: 0.05409970\n",
      "epoch: 1907  loss: 0.05408090\n",
      "epoch: 1908  loss: 0.05406220\n",
      "epoch: 1909  loss: 0.05404347\n",
      "epoch: 1910  loss: 0.05402479\n",
      "epoch: 1911  loss: 0.05400616\n",
      "epoch: 1912  loss: 0.05398750\n",
      "epoch: 1913  loss: 0.05396893\n",
      "epoch: 1914  loss: 0.05395044\n",
      "epoch: 1915  loss: 0.05393190\n",
      "epoch: 1916  loss: 0.05391341\n",
      "epoch: 1917  loss: 0.05389496\n",
      "epoch: 1918  loss: 0.05387659\n",
      "epoch: 1919  loss: 0.05385822\n",
      "epoch: 1920  loss: 0.05383983\n",
      "epoch: 1921  loss: 0.05382158\n",
      "epoch: 1922  loss: 0.05380323\n",
      "epoch: 1923  loss: 0.05378499\n",
      "epoch: 1924  loss: 0.05376679\n",
      "epoch: 1925  loss: 0.05374863\n",
      "epoch: 1926  loss: 0.05373045\n",
      "epoch: 1927  loss: 0.05371232\n",
      "epoch: 1928  loss: 0.05369425\n",
      "epoch: 1929  loss: 0.05367620\n",
      "epoch: 1930  loss: 0.05365824\n",
      "epoch: 1931  loss: 0.05364025\n",
      "epoch: 1932  loss: 0.05362233\n",
      "epoch: 1933  loss: 0.05360441\n",
      "epoch: 1934  loss: 0.05358652\n",
      "epoch: 1935  loss: 0.05356868\n",
      "epoch: 1936  loss: 0.05355089\n",
      "epoch: 1937  loss: 0.05353308\n",
      "epoch: 1938  loss: 0.05351536\n",
      "epoch: 1939  loss: 0.05349766\n",
      "epoch: 1940  loss: 0.05347997\n",
      "epoch: 1941  loss: 0.05346238\n",
      "epoch: 1942  loss: 0.05344476\n",
      "epoch: 1943  loss: 0.05342718\n",
      "epoch: 1944  loss: 0.05340962\n",
      "epoch: 1945  loss: 0.05339212\n",
      "epoch: 1946  loss: 0.05337464\n",
      "epoch: 1947  loss: 0.05335720\n",
      "epoch: 1948  loss: 0.05333987\n",
      "epoch: 1949  loss: 0.05332244\n",
      "epoch: 1950  loss: 0.05330520\n",
      "epoch: 1951  loss: 0.05328790\n",
      "epoch: 1952  loss: 0.05327060\n",
      "epoch: 1953  loss: 0.05325336\n",
      "epoch: 1954  loss: 0.05323611\n",
      "epoch: 1955  loss: 0.05321896\n",
      "epoch: 1956  loss: 0.05320185\n",
      "epoch: 1957  loss: 0.05318475\n",
      "epoch: 1958  loss: 0.05316765\n",
      "epoch: 1959  loss: 0.05315063\n",
      "epoch: 1960  loss: 0.05313368\n",
      "epoch: 1961  loss: 0.05311667\n",
      "epoch: 1962  loss: 0.05309975\n",
      "epoch: 1963  loss: 0.05308278\n",
      "epoch: 1964  loss: 0.05306575\n",
      "epoch: 1965  loss: 0.05304871\n",
      "epoch: 1966  loss: 0.05303175\n",
      "epoch: 1967  loss: 0.05301476\n",
      "epoch: 1968  loss: 0.05299781\n",
      "epoch: 1969  loss: 0.05298083\n",
      "epoch: 1970  loss: 0.05296399\n",
      "epoch: 1971  loss: 0.05294703\n",
      "epoch: 1972  loss: 0.05293019\n",
      "epoch: 1973  loss: 0.05291335\n",
      "epoch: 1974  loss: 0.05289660\n",
      "epoch: 1975  loss: 0.05287979\n",
      "epoch: 1976  loss: 0.05286302\n",
      "epoch: 1977  loss: 0.05284636\n",
      "epoch: 1978  loss: 0.05282974\n",
      "epoch: 1979  loss: 0.05281311\n",
      "epoch: 1980  loss: 0.05279645\n",
      "epoch: 1981  loss: 0.05277992\n",
      "epoch: 1982  loss: 0.05276333\n",
      "epoch: 1983  loss: 0.05274681\n",
      "epoch: 1984  loss: 0.05273029\n",
      "epoch: 1985  loss: 0.05271383\n",
      "epoch: 1986  loss: 0.05269742\n",
      "epoch: 1987  loss: 0.05268099\n",
      "epoch: 1988  loss: 0.05266459\n",
      "epoch: 1989  loss: 0.05264826\n",
      "epoch: 1990  loss: 0.05263193\n",
      "epoch: 1991  loss: 0.05261569\n",
      "epoch: 1992  loss: 0.05259942\n",
      "epoch: 1993  loss: 0.05258324\n",
      "epoch: 1994  loss: 0.05256702\n",
      "epoch: 1995  loss: 0.05255091\n",
      "epoch: 1996  loss: 0.05253486\n",
      "epoch: 1997  loss: 0.05251893\n",
      "epoch: 1998  loss: 0.05250288\n",
      "epoch: 1999  loss: 0.05248697\n",
      "\n",
      "# Finished training!\n",
      "# --> epoch: 1999  \n",
      "# --> initial loss: 1.80247676 ,  \n",
      "# --> accuracy: 0.97841008 , \n",
      "# --> final loss: 0.05248697\n"
     ]
    }
   ],
   "source": [
    "import gc\n",
    "torch.cuda.empty_cache() #free up some memory\n",
    "gc.collect()             #free up some memory\n",
    "\n",
    "data_train = (torch.FloatTensor(X_train), torch.LongTensor(Y_train))\n",
    "\n",
    "Model = moodClassifierWithLasersOnSteroids(dim_embed=num_dims, n_units_lstm=50, n_units_linear=50)\n",
    "if CUDA_flag:         # se houver GPUs disponíveis\n",
    "  Model.cuda()       # converte o modelo para CUDA\n",
    "print(Model)\n",
    "\n",
    "criterion = nn.NLLLoss() # cross entropy loss\n",
    "optimizer = torch.optim.Adam(Model.parameters(), lr = 0.001) \n",
    "\n",
    "Model, losses, accs = train_loop(Model, data_train, max_epochs=2000, print_iters=1) # note que o modelo é sobrescrito pela saída treinada"
   ]
  },
  {
   "cell_type": "code",
   "execution_count": 48,
   "metadata": {},
   "outputs": [
    {
     "output_type": "stream",
     "name": "stdout",
     "text": [
      "moodClassifierWithLasersOnSteroids(\n",
      "  (embedding): Sequential(\n",
      "    (0): LSTM(50, 50, batch_first=True)\n",
      "  )\n",
      "  (ann): Sequential(\n",
      "    (0): Linear(in_features=50, out_features=50, bias=True)\n",
      "    (1): ReLU(inplace=True)\n",
      "    (2): Linear(in_features=50, out_features=6, bias=True)\n",
      "  )\n",
      "  (soft): Sequential(\n",
      "    (0): LogSoftmax(dim=1)\n",
      "  )\n",
      ")\n",
      "0.9784100836141271\n"
     ]
    },
    {
     "output_type": "display_data",
     "data": {
      "text/plain": "<Figure size 1152x432 with 2 Axes>",
      "image/svg+xml": "<?xml version=\"1.0\" encoding=\"utf-8\" standalone=\"no\"?>\r\n<!DOCTYPE svg PUBLIC \"-//W3C//DTD SVG 1.1//EN\"\r\n  \"http://www.w3.org/Graphics/SVG/1.1/DTD/svg11.dtd\">\r\n<!-- Created with matplotlib (https://matplotlib.org/) -->\r\n<svg height=\"414.11625pt\" version=\"1.1\" viewBox=\"0 0 943.78125 414.11625\" width=\"943.78125pt\" xmlns=\"http://www.w3.org/2000/svg\" xmlns:xlink=\"http://www.w3.org/1999/xlink\">\r\n <metadata>\r\n  <rdf:RDF xmlns:cc=\"http://creativecommons.org/ns#\" xmlns:dc=\"http://purl.org/dc/elements/1.1/\" xmlns:rdf=\"http://www.w3.org/1999/02/22-rdf-syntax-ns#\">\r\n   <cc:Work>\r\n    <dc:type rdf:resource=\"http://purl.org/dc/dcmitype/StillImage\"/>\r\n    <dc:date>2021-05-04T18:54:25.935452</dc:date>\r\n    <dc:format>image/svg+xml</dc:format>\r\n    <dc:creator>\r\n     <cc:Agent>\r\n      <dc:title>Matplotlib v3.3.2, https://matplotlib.org/</dc:title>\r\n     </cc:Agent>\r\n    </dc:creator>\r\n   </cc:Work>\r\n  </rdf:RDF>\r\n </metadata>\r\n <defs>\r\n  <style type=\"text/css\">*{stroke-linecap:butt;stroke-linejoin:round;}</style>\r\n </defs>\r\n <g id=\"figure_1\">\r\n  <g id=\"patch_1\">\r\n   <path d=\"M 0 414.11625 \r\nL 943.78125 414.11625 \r\nL 943.78125 0 \r\nL 0 0 \r\nz\r\n\" style=\"fill:none;\"/>\r\n  </g>\r\n  <g id=\"axes_1\">\r\n   <g id=\"patch_2\">\r\n    <path d=\"M 43.78125 376.56 \r\nL 449.599432 376.56 \r\nL 449.599432 50.4 \r\nL 43.78125 50.4 \r\nz\r\n\" style=\"fill:#ffffff;\"/>\r\n   </g>\r\n   <g id=\"matplotlib.axis_1\">\r\n    <g id=\"xtick_1\">\r\n     <g id=\"line2d_1\">\r\n      <defs>\r\n       <path d=\"M 0 0 \r\nL 0 3.5 \r\n\" id=\"m4bc1f291e7\" style=\"stroke:#000000;stroke-width:0.8;\"/>\r\n      </defs>\r\n      <g>\r\n       <use style=\"stroke:#000000;stroke-width:0.8;\" x=\"62.227531\" xlink:href=\"#m4bc1f291e7\" y=\"376.56\"/>\r\n      </g>\r\n     </g>\r\n     <g id=\"text_1\">\r\n      <!-- 0 -->\r\n      <g transform=\"translate(59.046281 391.158437)scale(0.1 -0.1)\">\r\n       <defs>\r\n        <path d=\"M 31.78125 66.40625 \r\nQ 24.171875 66.40625 20.328125 58.90625 \r\nQ 16.5 51.421875 16.5 36.375 \r\nQ 16.5 21.390625 20.328125 13.890625 \r\nQ 24.171875 6.390625 31.78125 6.390625 \r\nQ 39.453125 6.390625 43.28125 13.890625 \r\nQ 47.125 21.390625 47.125 36.375 \r\nQ 47.125 51.421875 43.28125 58.90625 \r\nQ 39.453125 66.40625 31.78125 66.40625 \r\nz\r\nM 31.78125 74.21875 \r\nQ 44.046875 74.21875 50.515625 64.515625 \r\nQ 56.984375 54.828125 56.984375 36.375 \r\nQ 56.984375 17.96875 50.515625 8.265625 \r\nQ 44.046875 -1.421875 31.78125 -1.421875 \r\nQ 19.53125 -1.421875 13.0625 8.265625 \r\nQ 6.59375 17.96875 6.59375 36.375 \r\nQ 6.59375 54.828125 13.0625 64.515625 \r\nQ 19.53125 74.21875 31.78125 74.21875 \r\nz\r\n\" id=\"DejaVuSans-48\"/>\r\n       </defs>\r\n       <use xlink:href=\"#DejaVuSans-48\"/>\r\n      </g>\r\n     </g>\r\n    </g>\r\n    <g id=\"xtick_2\">\r\n     <g id=\"line2d_2\">\r\n      <g>\r\n       <use style=\"stroke:#000000;stroke-width:0.8;\" x=\"108.366303\" xlink:href=\"#m4bc1f291e7\" y=\"376.56\"/>\r\n      </g>\r\n     </g>\r\n     <g id=\"text_2\">\r\n      <!-- 250 -->\r\n      <g transform=\"translate(98.822553 391.158437)scale(0.1 -0.1)\">\r\n       <defs>\r\n        <path d=\"M 19.1875 8.296875 \r\nL 53.609375 8.296875 \r\nL 53.609375 0 \r\nL 7.328125 0 \r\nL 7.328125 8.296875 \r\nQ 12.9375 14.109375 22.625 23.890625 \r\nQ 32.328125 33.6875 34.8125 36.53125 \r\nQ 39.546875 41.84375 41.421875 45.53125 \r\nQ 43.3125 49.21875 43.3125 52.78125 \r\nQ 43.3125 58.59375 39.234375 62.25 \r\nQ 35.15625 65.921875 28.609375 65.921875 \r\nQ 23.96875 65.921875 18.8125 64.3125 \r\nQ 13.671875 62.703125 7.8125 59.421875 \r\nL 7.8125 69.390625 \r\nQ 13.765625 71.78125 18.9375 73 \r\nQ 24.125 74.21875 28.421875 74.21875 \r\nQ 39.75 74.21875 46.484375 68.546875 \r\nQ 53.21875 62.890625 53.21875 53.421875 \r\nQ 53.21875 48.921875 51.53125 44.890625 \r\nQ 49.859375 40.875 45.40625 35.40625 \r\nQ 44.1875 33.984375 37.640625 27.21875 \r\nQ 31.109375 20.453125 19.1875 8.296875 \r\nz\r\n\" id=\"DejaVuSans-50\"/>\r\n        <path d=\"M 10.796875 72.90625 \r\nL 49.515625 72.90625 \r\nL 49.515625 64.59375 \r\nL 19.828125 64.59375 \r\nL 19.828125 46.734375 \r\nQ 21.96875 47.46875 24.109375 47.828125 \r\nQ 26.265625 48.1875 28.421875 48.1875 \r\nQ 40.625 48.1875 47.75 41.5 \r\nQ 54.890625 34.8125 54.890625 23.390625 \r\nQ 54.890625 11.625 47.5625 5.09375 \r\nQ 40.234375 -1.421875 26.90625 -1.421875 \r\nQ 22.3125 -1.421875 17.546875 -0.640625 \r\nQ 12.796875 0.140625 7.71875 1.703125 \r\nL 7.71875 11.625 \r\nQ 12.109375 9.234375 16.796875 8.0625 \r\nQ 21.484375 6.890625 26.703125 6.890625 \r\nQ 35.15625 6.890625 40.078125 11.328125 \r\nQ 45.015625 15.765625 45.015625 23.390625 \r\nQ 45.015625 31 40.078125 35.4375 \r\nQ 35.15625 39.890625 26.703125 39.890625 \r\nQ 22.75 39.890625 18.8125 39.015625 \r\nQ 14.890625 38.140625 10.796875 36.28125 \r\nz\r\n\" id=\"DejaVuSans-53\"/>\r\n       </defs>\r\n       <use xlink:href=\"#DejaVuSans-50\"/>\r\n       <use x=\"63.623047\" xlink:href=\"#DejaVuSans-53\"/>\r\n       <use x=\"127.246094\" xlink:href=\"#DejaVuSans-48\"/>\r\n      </g>\r\n     </g>\r\n    </g>\r\n    <g id=\"xtick_3\">\r\n     <g id=\"line2d_3\">\r\n      <g>\r\n       <use style=\"stroke:#000000;stroke-width:0.8;\" x=\"154.505075\" xlink:href=\"#m4bc1f291e7\" y=\"376.56\"/>\r\n      </g>\r\n     </g>\r\n     <g id=\"text_3\">\r\n      <!-- 500 -->\r\n      <g transform=\"translate(144.961325 391.158437)scale(0.1 -0.1)\">\r\n       <use xlink:href=\"#DejaVuSans-53\"/>\r\n       <use x=\"63.623047\" xlink:href=\"#DejaVuSans-48\"/>\r\n       <use x=\"127.246094\" xlink:href=\"#DejaVuSans-48\"/>\r\n      </g>\r\n     </g>\r\n    </g>\r\n    <g id=\"xtick_4\">\r\n     <g id=\"line2d_4\">\r\n      <g>\r\n       <use style=\"stroke:#000000;stroke-width:0.8;\" x=\"200.643847\" xlink:href=\"#m4bc1f291e7\" y=\"376.56\"/>\r\n      </g>\r\n     </g>\r\n     <g id=\"text_4\">\r\n      <!-- 750 -->\r\n      <g transform=\"translate(191.100097 391.158437)scale(0.1 -0.1)\">\r\n       <defs>\r\n        <path d=\"M 8.203125 72.90625 \r\nL 55.078125 72.90625 \r\nL 55.078125 68.703125 \r\nL 28.609375 0 \r\nL 18.3125 0 \r\nL 43.21875 64.59375 \r\nL 8.203125 64.59375 \r\nz\r\n\" id=\"DejaVuSans-55\"/>\r\n       </defs>\r\n       <use xlink:href=\"#DejaVuSans-55\"/>\r\n       <use x=\"63.623047\" xlink:href=\"#DejaVuSans-53\"/>\r\n       <use x=\"127.246094\" xlink:href=\"#DejaVuSans-48\"/>\r\n      </g>\r\n     </g>\r\n    </g>\r\n    <g id=\"xtick_5\">\r\n     <g id=\"line2d_5\">\r\n      <g>\r\n       <use style=\"stroke:#000000;stroke-width:0.8;\" x=\"246.782618\" xlink:href=\"#m4bc1f291e7\" y=\"376.56\"/>\r\n      </g>\r\n     </g>\r\n     <g id=\"text_5\">\r\n      <!-- 1000 -->\r\n      <g transform=\"translate(234.057618 391.158437)scale(0.1 -0.1)\">\r\n       <defs>\r\n        <path d=\"M 12.40625 8.296875 \r\nL 28.515625 8.296875 \r\nL 28.515625 63.921875 \r\nL 10.984375 60.40625 \r\nL 10.984375 69.390625 \r\nL 28.421875 72.90625 \r\nL 38.28125 72.90625 \r\nL 38.28125 8.296875 \r\nL 54.390625 8.296875 \r\nL 54.390625 0 \r\nL 12.40625 0 \r\nz\r\n\" id=\"DejaVuSans-49\"/>\r\n       </defs>\r\n       <use xlink:href=\"#DejaVuSans-49\"/>\r\n       <use x=\"63.623047\" xlink:href=\"#DejaVuSans-48\"/>\r\n       <use x=\"127.246094\" xlink:href=\"#DejaVuSans-48\"/>\r\n       <use x=\"190.869141\" xlink:href=\"#DejaVuSans-48\"/>\r\n      </g>\r\n     </g>\r\n    </g>\r\n    <g id=\"xtick_6\">\r\n     <g id=\"line2d_6\">\r\n      <g>\r\n       <use style=\"stroke:#000000;stroke-width:0.8;\" x=\"292.92139\" xlink:href=\"#m4bc1f291e7\" y=\"376.56\"/>\r\n      </g>\r\n     </g>\r\n     <g id=\"text_6\">\r\n      <!-- 1250 -->\r\n      <g transform=\"translate(280.19639 391.158437)scale(0.1 -0.1)\">\r\n       <use xlink:href=\"#DejaVuSans-49\"/>\r\n       <use x=\"63.623047\" xlink:href=\"#DejaVuSans-50\"/>\r\n       <use x=\"127.246094\" xlink:href=\"#DejaVuSans-53\"/>\r\n       <use x=\"190.869141\" xlink:href=\"#DejaVuSans-48\"/>\r\n      </g>\r\n     </g>\r\n    </g>\r\n    <g id=\"xtick_7\">\r\n     <g id=\"line2d_7\">\r\n      <g>\r\n       <use style=\"stroke:#000000;stroke-width:0.8;\" x=\"339.060162\" xlink:href=\"#m4bc1f291e7\" y=\"376.56\"/>\r\n      </g>\r\n     </g>\r\n     <g id=\"text_7\">\r\n      <!-- 1500 -->\r\n      <g transform=\"translate(326.335162 391.158437)scale(0.1 -0.1)\">\r\n       <use xlink:href=\"#DejaVuSans-49\"/>\r\n       <use x=\"63.623047\" xlink:href=\"#DejaVuSans-53\"/>\r\n       <use x=\"127.246094\" xlink:href=\"#DejaVuSans-48\"/>\r\n       <use x=\"190.869141\" xlink:href=\"#DejaVuSans-48\"/>\r\n      </g>\r\n     </g>\r\n    </g>\r\n    <g id=\"xtick_8\">\r\n     <g id=\"line2d_8\">\r\n      <g>\r\n       <use style=\"stroke:#000000;stroke-width:0.8;\" x=\"385.198934\" xlink:href=\"#m4bc1f291e7\" y=\"376.56\"/>\r\n      </g>\r\n     </g>\r\n     <g id=\"text_8\">\r\n      <!-- 1750 -->\r\n      <g transform=\"translate(372.473934 391.158437)scale(0.1 -0.1)\">\r\n       <use xlink:href=\"#DejaVuSans-49\"/>\r\n       <use x=\"63.623047\" xlink:href=\"#DejaVuSans-55\"/>\r\n       <use x=\"127.246094\" xlink:href=\"#DejaVuSans-53\"/>\r\n       <use x=\"190.869141\" xlink:href=\"#DejaVuSans-48\"/>\r\n      </g>\r\n     </g>\r\n    </g>\r\n    <g id=\"xtick_9\">\r\n     <g id=\"line2d_9\">\r\n      <g>\r\n       <use style=\"stroke:#000000;stroke-width:0.8;\" x=\"431.337706\" xlink:href=\"#m4bc1f291e7\" y=\"376.56\"/>\r\n      </g>\r\n     </g>\r\n     <g id=\"text_9\">\r\n      <!-- 2000 -->\r\n      <g transform=\"translate(418.612706 391.158437)scale(0.1 -0.1)\">\r\n       <use xlink:href=\"#DejaVuSans-50\"/>\r\n       <use x=\"63.623047\" xlink:href=\"#DejaVuSans-48\"/>\r\n       <use x=\"127.246094\" xlink:href=\"#DejaVuSans-48\"/>\r\n       <use x=\"190.869141\" xlink:href=\"#DejaVuSans-48\"/>\r\n      </g>\r\n     </g>\r\n    </g>\r\n    <g id=\"text_10\">\r\n     <!-- epochs -->\r\n     <g transform=\"translate(228.857528 404.836562)scale(0.1 -0.1)\">\r\n      <defs>\r\n       <path d=\"M 56.203125 29.59375 \r\nL 56.203125 25.203125 \r\nL 14.890625 25.203125 \r\nQ 15.484375 15.921875 20.484375 11.0625 \r\nQ 25.484375 6.203125 34.421875 6.203125 \r\nQ 39.59375 6.203125 44.453125 7.46875 \r\nQ 49.3125 8.734375 54.109375 11.28125 \r\nL 54.109375 2.78125 \r\nQ 49.265625 0.734375 44.1875 -0.34375 \r\nQ 39.109375 -1.421875 33.890625 -1.421875 \r\nQ 20.796875 -1.421875 13.15625 6.1875 \r\nQ 5.515625 13.8125 5.515625 26.8125 \r\nQ 5.515625 40.234375 12.765625 48.109375 \r\nQ 20.015625 56 32.328125 56 \r\nQ 43.359375 56 49.78125 48.890625 \r\nQ 56.203125 41.796875 56.203125 29.59375 \r\nz\r\nM 47.21875 32.234375 \r\nQ 47.125 39.59375 43.09375 43.984375 \r\nQ 39.0625 48.390625 32.421875 48.390625 \r\nQ 24.90625 48.390625 20.390625 44.140625 \r\nQ 15.875 39.890625 15.1875 32.171875 \r\nz\r\n\" id=\"DejaVuSans-101\"/>\r\n       <path d=\"M 18.109375 8.203125 \r\nL 18.109375 -20.796875 \r\nL 9.078125 -20.796875 \r\nL 9.078125 54.6875 \r\nL 18.109375 54.6875 \r\nL 18.109375 46.390625 \r\nQ 20.953125 51.265625 25.265625 53.625 \r\nQ 29.59375 56 35.59375 56 \r\nQ 45.5625 56 51.78125 48.09375 \r\nQ 58.015625 40.1875 58.015625 27.296875 \r\nQ 58.015625 14.40625 51.78125 6.484375 \r\nQ 45.5625 -1.421875 35.59375 -1.421875 \r\nQ 29.59375 -1.421875 25.265625 0.953125 \r\nQ 20.953125 3.328125 18.109375 8.203125 \r\nz\r\nM 48.6875 27.296875 \r\nQ 48.6875 37.203125 44.609375 42.84375 \r\nQ 40.53125 48.484375 33.40625 48.484375 \r\nQ 26.265625 48.484375 22.1875 42.84375 \r\nQ 18.109375 37.203125 18.109375 27.296875 \r\nQ 18.109375 17.390625 22.1875 11.75 \r\nQ 26.265625 6.109375 33.40625 6.109375 \r\nQ 40.53125 6.109375 44.609375 11.75 \r\nQ 48.6875 17.390625 48.6875 27.296875 \r\nz\r\n\" id=\"DejaVuSans-112\"/>\r\n       <path d=\"M 30.609375 48.390625 \r\nQ 23.390625 48.390625 19.1875 42.75 \r\nQ 14.984375 37.109375 14.984375 27.296875 \r\nQ 14.984375 17.484375 19.15625 11.84375 \r\nQ 23.34375 6.203125 30.609375 6.203125 \r\nQ 37.796875 6.203125 41.984375 11.859375 \r\nQ 46.1875 17.53125 46.1875 27.296875 \r\nQ 46.1875 37.015625 41.984375 42.703125 \r\nQ 37.796875 48.390625 30.609375 48.390625 \r\nz\r\nM 30.609375 56 \r\nQ 42.328125 56 49.015625 48.375 \r\nQ 55.71875 40.765625 55.71875 27.296875 \r\nQ 55.71875 13.875 49.015625 6.21875 \r\nQ 42.328125 -1.421875 30.609375 -1.421875 \r\nQ 18.84375 -1.421875 12.171875 6.21875 \r\nQ 5.515625 13.875 5.515625 27.296875 \r\nQ 5.515625 40.765625 12.171875 48.375 \r\nQ 18.84375 56 30.609375 56 \r\nz\r\n\" id=\"DejaVuSans-111\"/>\r\n       <path d=\"M 48.78125 52.59375 \r\nL 48.78125 44.1875 \r\nQ 44.96875 46.296875 41.140625 47.34375 \r\nQ 37.3125 48.390625 33.40625 48.390625 \r\nQ 24.65625 48.390625 19.8125 42.84375 \r\nQ 14.984375 37.3125 14.984375 27.296875 \r\nQ 14.984375 17.28125 19.8125 11.734375 \r\nQ 24.65625 6.203125 33.40625 6.203125 \r\nQ 37.3125 6.203125 41.140625 7.25 \r\nQ 44.96875 8.296875 48.78125 10.40625 \r\nL 48.78125 2.09375 \r\nQ 45.015625 0.34375 40.984375 -0.53125 \r\nQ 36.96875 -1.421875 32.421875 -1.421875 \r\nQ 20.0625 -1.421875 12.78125 6.34375 \r\nQ 5.515625 14.109375 5.515625 27.296875 \r\nQ 5.515625 40.671875 12.859375 48.328125 \r\nQ 20.21875 56 33.015625 56 \r\nQ 37.15625 56 41.109375 55.140625 \r\nQ 45.0625 54.296875 48.78125 52.59375 \r\nz\r\n\" id=\"DejaVuSans-99\"/>\r\n       <path d=\"M 54.890625 33.015625 \r\nL 54.890625 0 \r\nL 45.90625 0 \r\nL 45.90625 32.71875 \r\nQ 45.90625 40.484375 42.875 44.328125 \r\nQ 39.84375 48.1875 33.796875 48.1875 \r\nQ 26.515625 48.1875 22.3125 43.546875 \r\nQ 18.109375 38.921875 18.109375 30.90625 \r\nL 18.109375 0 \r\nL 9.078125 0 \r\nL 9.078125 75.984375 \r\nL 18.109375 75.984375 \r\nL 18.109375 46.1875 \r\nQ 21.34375 51.125 25.703125 53.5625 \r\nQ 30.078125 56 35.796875 56 \r\nQ 45.21875 56 50.046875 50.171875 \r\nQ 54.890625 44.34375 54.890625 33.015625 \r\nz\r\n\" id=\"DejaVuSans-104\"/>\r\n       <path d=\"M 44.28125 53.078125 \r\nL 44.28125 44.578125 \r\nQ 40.484375 46.53125 36.375 47.5 \r\nQ 32.28125 48.484375 27.875 48.484375 \r\nQ 21.1875 48.484375 17.84375 46.4375 \r\nQ 14.5 44.390625 14.5 40.28125 \r\nQ 14.5 37.15625 16.890625 35.375 \r\nQ 19.28125 33.59375 26.515625 31.984375 \r\nL 29.59375 31.296875 \r\nQ 39.15625 29.25 43.1875 25.515625 \r\nQ 47.21875 21.78125 47.21875 15.09375 \r\nQ 47.21875 7.46875 41.1875 3.015625 \r\nQ 35.15625 -1.421875 24.609375 -1.421875 \r\nQ 20.21875 -1.421875 15.453125 -0.5625 \r\nQ 10.6875 0.296875 5.421875 2 \r\nL 5.421875 11.28125 \r\nQ 10.40625 8.6875 15.234375 7.390625 \r\nQ 20.0625 6.109375 24.8125 6.109375 \r\nQ 31.15625 6.109375 34.5625 8.28125 \r\nQ 37.984375 10.453125 37.984375 14.40625 \r\nQ 37.984375 18.0625 35.515625 20.015625 \r\nQ 33.0625 21.96875 24.703125 23.78125 \r\nL 21.578125 24.515625 \r\nQ 13.234375 26.265625 9.515625 29.90625 \r\nQ 5.8125 33.546875 5.8125 39.890625 \r\nQ 5.8125 47.609375 11.28125 51.796875 \r\nQ 16.75 56 26.8125 56 \r\nQ 31.78125 56 36.171875 55.265625 \r\nQ 40.578125 54.546875 44.28125 53.078125 \r\nz\r\n\" id=\"DejaVuSans-115\"/>\r\n      </defs>\r\n      <use xlink:href=\"#DejaVuSans-101\"/>\r\n      <use x=\"61.523438\" xlink:href=\"#DejaVuSans-112\"/>\r\n      <use x=\"125\" xlink:href=\"#DejaVuSans-111\"/>\r\n      <use x=\"186.181641\" xlink:href=\"#DejaVuSans-99\"/>\r\n      <use x=\"241.162109\" xlink:href=\"#DejaVuSans-104\"/>\r\n      <use x=\"304.541016\" xlink:href=\"#DejaVuSans-115\"/>\r\n     </g>\r\n    </g>\r\n   </g>\r\n   <g id=\"matplotlib.axis_2\">\r\n    <g id=\"ytick_1\">\r\n     <g id=\"line2d_10\">\r\n      <defs>\r\n       <path d=\"M 0 0 \r\nL -3.5 0 \r\n\" id=\"m138eb84243\" style=\"stroke:#000000;stroke-width:0.8;\"/>\r\n      </defs>\r\n      <g>\r\n       <use style=\"stroke:#000000;stroke-width:0.8;\" x=\"43.78125\" xlink:href=\"#m138eb84243\" y=\"367.127567\"/>\r\n      </g>\r\n     </g>\r\n     <g id=\"text_11\">\r\n      <!-- 0.0 -->\r\n      <g transform=\"translate(20.878125 370.926786)scale(0.1 -0.1)\">\r\n       <defs>\r\n        <path d=\"M 10.6875 12.40625 \r\nL 21 12.40625 \r\nL 21 0 \r\nL 10.6875 0 \r\nz\r\n\" id=\"DejaVuSans-46\"/>\r\n       </defs>\r\n       <use xlink:href=\"#DejaVuSans-48\"/>\r\n       <use x=\"63.623047\" xlink:href=\"#DejaVuSans-46\"/>\r\n       <use x=\"95.410156\" xlink:href=\"#DejaVuSans-48\"/>\r\n      </g>\r\n     </g>\r\n    </g>\r\n    <g id=\"ytick_2\">\r\n     <g id=\"line2d_11\">\r\n      <g>\r\n       <use style=\"stroke:#000000;stroke-width:0.8;\" x=\"43.78125\" xlink:href=\"#m138eb84243\" y=\"315.752704\"/>\r\n      </g>\r\n     </g>\r\n     <g id=\"text_12\">\r\n      <!-- 0.5 -->\r\n      <g transform=\"translate(20.878125 319.551923)scale(0.1 -0.1)\">\r\n       <use xlink:href=\"#DejaVuSans-48\"/>\r\n       <use x=\"63.623047\" xlink:href=\"#DejaVuSans-46\"/>\r\n       <use x=\"95.410156\" xlink:href=\"#DejaVuSans-53\"/>\r\n      </g>\r\n     </g>\r\n    </g>\r\n    <g id=\"ytick_3\">\r\n     <g id=\"line2d_12\">\r\n      <g>\r\n       <use style=\"stroke:#000000;stroke-width:0.8;\" x=\"43.78125\" xlink:href=\"#m138eb84243\" y=\"264.377841\"/>\r\n      </g>\r\n     </g>\r\n     <g id=\"text_13\">\r\n      <!-- 1.0 -->\r\n      <g transform=\"translate(20.878125 268.177059)scale(0.1 -0.1)\">\r\n       <use xlink:href=\"#DejaVuSans-49\"/>\r\n       <use x=\"63.623047\" xlink:href=\"#DejaVuSans-46\"/>\r\n       <use x=\"95.410156\" xlink:href=\"#DejaVuSans-48\"/>\r\n      </g>\r\n     </g>\r\n    </g>\r\n    <g id=\"ytick_4\">\r\n     <g id=\"line2d_13\">\r\n      <g>\r\n       <use style=\"stroke:#000000;stroke-width:0.8;\" x=\"43.78125\" xlink:href=\"#m138eb84243\" y=\"213.002977\"/>\r\n      </g>\r\n     </g>\r\n     <g id=\"text_14\">\r\n      <!-- 1.5 -->\r\n      <g transform=\"translate(20.878125 216.802196)scale(0.1 -0.1)\">\r\n       <use xlink:href=\"#DejaVuSans-49\"/>\r\n       <use x=\"63.623047\" xlink:href=\"#DejaVuSans-46\"/>\r\n       <use x=\"95.410156\" xlink:href=\"#DejaVuSans-53\"/>\r\n      </g>\r\n     </g>\r\n    </g>\r\n    <g id=\"ytick_5\">\r\n     <g id=\"line2d_14\">\r\n      <g>\r\n       <use style=\"stroke:#000000;stroke-width:0.8;\" x=\"43.78125\" xlink:href=\"#m138eb84243\" y=\"161.628114\"/>\r\n      </g>\r\n     </g>\r\n     <g id=\"text_15\">\r\n      <!-- 2.0 -->\r\n      <g transform=\"translate(20.878125 165.427333)scale(0.1 -0.1)\">\r\n       <use xlink:href=\"#DejaVuSans-50\"/>\r\n       <use x=\"63.623047\" xlink:href=\"#DejaVuSans-46\"/>\r\n       <use x=\"95.410156\" xlink:href=\"#DejaVuSans-48\"/>\r\n      </g>\r\n     </g>\r\n    </g>\r\n    <g id=\"ytick_6\">\r\n     <g id=\"line2d_15\">\r\n      <g>\r\n       <use style=\"stroke:#000000;stroke-width:0.8;\" x=\"43.78125\" xlink:href=\"#m138eb84243\" y=\"110.253251\"/>\r\n      </g>\r\n     </g>\r\n     <g id=\"text_16\">\r\n      <!-- 2.5 -->\r\n      <g transform=\"translate(20.878125 114.052469)scale(0.1 -0.1)\">\r\n       <use xlink:href=\"#DejaVuSans-50\"/>\r\n       <use x=\"63.623047\" xlink:href=\"#DejaVuSans-46\"/>\r\n       <use x=\"95.410156\" xlink:href=\"#DejaVuSans-53\"/>\r\n      </g>\r\n     </g>\r\n    </g>\r\n    <g id=\"ytick_7\">\r\n     <g id=\"line2d_16\">\r\n      <g>\r\n       <use style=\"stroke:#000000;stroke-width:0.8;\" x=\"43.78125\" xlink:href=\"#m138eb84243\" y=\"58.878387\"/>\r\n      </g>\r\n     </g>\r\n     <g id=\"text_17\">\r\n      <!-- 3.0 -->\r\n      <g transform=\"translate(20.878125 62.677606)scale(0.1 -0.1)\">\r\n       <defs>\r\n        <path d=\"M 40.578125 39.3125 \r\nQ 47.65625 37.796875 51.625 33 \r\nQ 55.609375 28.21875 55.609375 21.1875 \r\nQ 55.609375 10.40625 48.1875 4.484375 \r\nQ 40.765625 -1.421875 27.09375 -1.421875 \r\nQ 22.515625 -1.421875 17.65625 -0.515625 \r\nQ 12.796875 0.390625 7.625 2.203125 \r\nL 7.625 11.71875 \r\nQ 11.71875 9.328125 16.59375 8.109375 \r\nQ 21.484375 6.890625 26.8125 6.890625 \r\nQ 36.078125 6.890625 40.9375 10.546875 \r\nQ 45.796875 14.203125 45.796875 21.1875 \r\nQ 45.796875 27.640625 41.28125 31.265625 \r\nQ 36.765625 34.90625 28.71875 34.90625 \r\nL 20.21875 34.90625 \r\nL 20.21875 43.015625 \r\nL 29.109375 43.015625 \r\nQ 36.375 43.015625 40.234375 45.921875 \r\nQ 44.09375 48.828125 44.09375 54.296875 \r\nQ 44.09375 59.90625 40.109375 62.90625 \r\nQ 36.140625 65.921875 28.71875 65.921875 \r\nQ 24.65625 65.921875 20.015625 65.03125 \r\nQ 15.375 64.15625 9.8125 62.3125 \r\nL 9.8125 71.09375 \r\nQ 15.4375 72.65625 20.34375 73.4375 \r\nQ 25.25 74.21875 29.59375 74.21875 \r\nQ 40.828125 74.21875 47.359375 69.109375 \r\nQ 53.90625 64.015625 53.90625 55.328125 \r\nQ 53.90625 49.265625 50.4375 45.09375 \r\nQ 46.96875 40.921875 40.578125 39.3125 \r\nz\r\n\" id=\"DejaVuSans-51\"/>\r\n       </defs>\r\n       <use xlink:href=\"#DejaVuSans-51\"/>\r\n       <use x=\"63.623047\" xlink:href=\"#DejaVuSans-46\"/>\r\n       <use x=\"95.410156\" xlink:href=\"#DejaVuSans-48\"/>\r\n      </g>\r\n     </g>\r\n    </g>\r\n    <g id=\"text_18\">\r\n     <!-- BCE loss -->\r\n     <g transform=\"translate(14.798438 234.720625)rotate(-90)scale(0.1 -0.1)\">\r\n      <defs>\r\n       <path d=\"M 19.671875 34.8125 \r\nL 19.671875 8.109375 \r\nL 35.5 8.109375 \r\nQ 43.453125 8.109375 47.28125 11.40625 \r\nQ 51.125 14.703125 51.125 21.484375 \r\nQ 51.125 28.328125 47.28125 31.5625 \r\nQ 43.453125 34.8125 35.5 34.8125 \r\nz\r\nM 19.671875 64.796875 \r\nL 19.671875 42.828125 \r\nL 34.28125 42.828125 \r\nQ 41.5 42.828125 45.03125 45.53125 \r\nQ 48.578125 48.25 48.578125 53.8125 \r\nQ 48.578125 59.328125 45.03125 62.0625 \r\nQ 41.5 64.796875 34.28125 64.796875 \r\nz\r\nM 9.8125 72.90625 \r\nL 35.015625 72.90625 \r\nQ 46.296875 72.90625 52.390625 68.21875 \r\nQ 58.5 63.53125 58.5 54.890625 \r\nQ 58.5 48.1875 55.375 44.234375 \r\nQ 52.25 40.28125 46.1875 39.3125 \r\nQ 53.46875 37.75 57.5 32.78125 \r\nQ 61.53125 27.828125 61.53125 20.40625 \r\nQ 61.53125 10.640625 54.890625 5.3125 \r\nQ 48.25 0 35.984375 0 \r\nL 9.8125 0 \r\nz\r\n\" id=\"DejaVuSans-66\"/>\r\n       <path d=\"M 64.40625 67.28125 \r\nL 64.40625 56.890625 \r\nQ 59.421875 61.53125 53.78125 63.8125 \r\nQ 48.140625 66.109375 41.796875 66.109375 \r\nQ 29.296875 66.109375 22.65625 58.46875 \r\nQ 16.015625 50.828125 16.015625 36.375 \r\nQ 16.015625 21.96875 22.65625 14.328125 \r\nQ 29.296875 6.6875 41.796875 6.6875 \r\nQ 48.140625 6.6875 53.78125 8.984375 \r\nQ 59.421875 11.28125 64.40625 15.921875 \r\nL 64.40625 5.609375 \r\nQ 59.234375 2.09375 53.4375 0.328125 \r\nQ 47.65625 -1.421875 41.21875 -1.421875 \r\nQ 24.65625 -1.421875 15.125 8.703125 \r\nQ 5.609375 18.84375 5.609375 36.375 \r\nQ 5.609375 53.953125 15.125 64.078125 \r\nQ 24.65625 74.21875 41.21875 74.21875 \r\nQ 47.75 74.21875 53.53125 72.484375 \r\nQ 59.328125 70.75 64.40625 67.28125 \r\nz\r\n\" id=\"DejaVuSans-67\"/>\r\n       <path d=\"M 9.8125 72.90625 \r\nL 55.90625 72.90625 \r\nL 55.90625 64.59375 \r\nL 19.671875 64.59375 \r\nL 19.671875 43.015625 \r\nL 54.390625 43.015625 \r\nL 54.390625 34.71875 \r\nL 19.671875 34.71875 \r\nL 19.671875 8.296875 \r\nL 56.78125 8.296875 \r\nL 56.78125 0 \r\nL 9.8125 0 \r\nz\r\n\" id=\"DejaVuSans-69\"/>\r\n       <path id=\"DejaVuSans-32\"/>\r\n       <path d=\"M 9.421875 75.984375 \r\nL 18.40625 75.984375 \r\nL 18.40625 0 \r\nL 9.421875 0 \r\nz\r\n\" id=\"DejaVuSans-108\"/>\r\n      </defs>\r\n      <use xlink:href=\"#DejaVuSans-66\"/>\r\n      <use x=\"66.853516\" xlink:href=\"#DejaVuSans-67\"/>\r\n      <use x=\"136.677734\" xlink:href=\"#DejaVuSans-69\"/>\r\n      <use x=\"199.861328\" xlink:href=\"#DejaVuSans-32\"/>\r\n      <use x=\"231.648438\" xlink:href=\"#DejaVuSans-108\"/>\r\n      <use x=\"259.431641\" xlink:href=\"#DejaVuSans-111\"/>\r\n      <use x=\"320.613281\" xlink:href=\"#DejaVuSans-115\"/>\r\n      <use x=\"372.712891\" xlink:href=\"#DejaVuSans-115\"/>\r\n     </g>\r\n    </g>\r\n   </g>\r\n   <g id=\"line2d_17\">\r\n    <path clip-path=\"url(#p658508d84f)\" d=\"M 62.227531 181.923573 \r\nL 63.334862 187.173118 \r\nL 64.257637 192.672487 \r\nL 64.995857 198.515434 \r\nL 66.472298 211.557065 \r\nL 66.656853 212.033087 \r\nL 66.841408 212.093914 \r\nL 67.210518 211.842141 \r\nL 67.395073 211.939764 \r\nL 67.764184 212.668918 \r\nL 68.317849 213.854655 \r\nL 68.686959 214.279025 \r\nL 70.347955 215.526949 \r\nL 72.008951 217.572339 \r\nL 72.931726 219.23754 \r\nL 73.485391 220.670518 \r\nL 74.408167 223.965865 \r\nL 75.884607 230.448477 \r\nL 76.807383 234.689927 \r\nL 76.991938 235.213291 \r\nL 77.176493 236.31875 \r\nL 77.361048 236.662437 \r\nL 77.730158 238.348229 \r\nL 78.283824 240.871772 \r\nL 79.391154 245.221464 \r\nL 80.129374 247.735355 \r\nL 81.42126 251.159608 \r\nL 81.605815 251.418191 \r\nL 82.15948 252.825434 \r\nL 82.713146 254.064895 \r\nL 82.897701 65.225455 \r\nL 83.082256 92.519159 \r\nL 83.266811 251.34155 \r\nL 83.451366 250.921554 \r\nL 83.635921 249.505198 \r\nL 83.820476 248.982912 \r\nL 84.005031 249.374026 \r\nL 84.189586 250.195609 \r\nL 84.374141 250.507315 \r\nL 84.743252 248.681998 \r\nL 84.927807 248.951372 \r\nL 85.296917 249.933964 \r\nL 85.666027 250.084415 \r\nL 86.035137 250.760924 \r\nL 88.065243 256.035555 \r\nL 88.803464 257.52375 \r\nL 89.726239 259.153761 \r\nL 91.9409 262.711488 \r\nL 95.262892 268.222476 \r\nL 98.215773 273.60694 \r\nL 99.507659 276.012167 \r\nL 99.692214 275.790992 \r\nL 101.537765 279.871751 \r\nL 101.72232 280.07704 \r\nL 102.275985 281.324591 \r\nL 102.645095 282.038967 \r\nL 106.336197 289.463425 \r\nL 107.258972 291.175411 \r\nL 107.997193 292.677704 \r\nL 108.181748 292.853284 \r\nL 109.473633 295.314168 \r\nL 110.765519 297.646698 \r\nL 111.503739 298.987137 \r\nL 111.87285 299.364839 \r\nL 112.057405 299.371588 \r\nL 112.24196 299.534251 \r\nL 112.61107 300.8276 \r\nL 112.98018 301.121397 \r\nL 113.34929 301.933322 \r\nL 113.533845 302.09925 \r\nL 114.087511 303.07246 \r\nL 114.456621 303.723081 \r\nL 116.302172 306.506615 \r\nL 119.993273 311.973042 \r\nL 120.362384 312.428781 \r\nL 120.546939 312.391814 \r\nL 120.731494 311.51761 \r\nL 120.916049 308.308206 \r\nL 121.100604 308.541238 \r\nL 121.285159 312.5884 \r\nL 121.469714 310.921092 \r\nL 121.654269 312.690854 \r\nL 121.838824 311.930956 \r\nL 122.023379 313.580142 \r\nL 122.207934 312.691081 \r\nL 122.39249 314.197484 \r\nL 122.577045 313.426335 \r\nL 122.7616 314.533772 \r\nL 122.946155 314.383021 \r\nL 123.13071 314.618013 \r\nL 123.315265 315.308204 \r\nL 123.49982 314.973587 \r\nL 123.684375 315.77598 \r\nL 123.86893 315.512274 \r\nL 124.053485 316.151317 \r\nL 124.23804 316.098479 \r\nL 124.422595 316.591402 \r\nL 124.607151 316.577129 \r\nL 124.791706 316.95269 \r\nL 124.976261 317.03302 \r\nL 125.345371 317.485944 \r\nL 126.452701 318.739543 \r\nL 129.774693 322.083379 \r\nL 130.328358 322.394047 \r\nL 130.882024 322.167972 \r\nL 131.066579 321.196544 \r\nL 131.251134 322.687878 \r\nL 131.435689 323.185253 \r\nL 131.620244 322.52904 \r\nL 131.804799 323.765628 \r\nL 131.989354 323.227885 \r\nL 132.173909 323.412298 \r\nL 132.358464 324.122776 \r\nL 132.543019 323.768938 \r\nL 132.912129 324.442575 \r\nL 133.096685 324.51009 \r\nL 133.28124 324.95986 \r\nL 133.465795 324.936909 \r\nL 133.65035 325.074621 \r\nL 133.834905 325.483502 \r\nL 134.01946 325.36961 \r\nL 134.204015 325.806685 \r\nL 134.38857 325.826476 \r\nL 136.234121 327.440695 \r\nL 137.156897 328.195893 \r\nL 137.526007 328.507047 \r\nL 141.401664 331.200887 \r\nL 141.770774 331.550095 \r\nL 142.139884 331.957564 \r\nL 142.693549 332.128253 \r\nL 142.878104 332.121204 \r\nL 143.80088 333.048696 \r\nL 144.16999 333.066006 \r\nL 145.27732 334.022086 \r\nL 146.015541 334.117421 \r\nL 146.200096 334.208732 \r\nL 146.569206 334.903461 \r\nL 146.938316 334.906634 \r\nL 147.122871 334.881628 \r\nL 147.676536 335.564843 \r\nL 148.230202 335.658518 \r\nL 148.783867 336.214981 \r\nL 149.152977 336.231973 \r\nL 149.337532 336.354678 \r\nL 149.706642 336.775629 \r\nL 150.075753 336.645184 \r\nL 150.260308 336.728034 \r\nL 150.629418 337.282644 \r\nL 150.813973 337.17951 \r\nL 150.998528 337.252824 \r\nL 151.367638 337.806372 \r\nL 151.736748 337.765317 \r\nL 152.105859 338.255967 \r\nL 152.474969 338.238522 \r\nL 153.028634 338.72859 \r\nL 153.397744 338.837371 \r\nL 153.951409 339.260179 \r\nL 154.505075 339.434279 \r\nL 154.874185 339.671984 \r\nL 155.243295 338.977059 \r\nL 155.42785 337.421753 \r\nL 155.612405 337.628658 \r\nL 155.981515 335.882541 \r\nL 156.166071 327.121499 \r\nL 156.350626 336.15834 \r\nL 156.535181 331.691176 \r\nL 156.719736 334.352226 \r\nL 156.904291 334.626071 \r\nL 157.088846 337.82804 \r\nL 157.273401 334.181344 \r\nL 157.457956 338.385004 \r\nL 157.642511 336.513222 \r\nL 158.011621 339.249455 \r\nL 158.196176 336.960778 \r\nL 158.380732 339.299962 \r\nL 158.565287 338.712502 \r\nL 158.749842 338.721308 \r\nL 158.934397 340.140892 \r\nL 159.118952 339.021834 \r\nL 159.488062 340.545048 \r\nL 159.672617 339.517249 \r\nL 159.857172 340.569576 \r\nL 160.041727 340.784275 \r\nL 160.226282 340.118918 \r\nL 160.410838 341.11032 \r\nL 160.779948 340.881456 \r\nL 160.964503 341.496054 \r\nL 161.149058 341.360412 \r\nL 161.333613 341.424139 \r\nL 161.518168 341.739697 \r\nL 161.887278 341.803044 \r\nL 162.071833 342.110099 \r\nL 162.256388 342.025886 \r\nL 162.994609 342.531959 \r\nL 163.179164 342.546722 \r\nL 163.548274 342.730857 \r\nL 163.917384 342.990446 \r\nL 164.101939 342.996801 \r\nL 164.471049 343.209732 \r\nL 165.57838 343.67774 \r\nL 165.94749 343.848144 \r\nL 168.715816 344.932422 \r\nL 174.806134 347.045472 \r\nL 179.789122 348.568517 \r\nL 179.973677 348.571244 \r\nL 180.158232 348.454253 \r\nL 180.342787 347.732223 \r\nL 180.527342 342.937524 \r\nL 180.711897 321.796729 \r\nL 180.896452 314.573324 \r\nL 181.081007 345.255305 \r\nL 181.265562 322.990474 \r\nL 181.450117 341.463362 \r\nL 181.634673 332.809922 \r\nL 182.003783 340.775003 \r\nL 182.188338 334.080742 \r\nL 182.372893 344.468606 \r\nL 182.557448 340.312923 \r\nL 182.742003 339.233865 \r\nL 182.926558 344.029545 \r\nL 183.111113 342.506912 \r\nL 183.295668 342.388144 \r\nL 183.480223 345.97084 \r\nL 183.849334 344.037695 \r\nL 184.033889 346.470047 \r\nL 184.402999 345.165235 \r\nL 184.587554 347.278201 \r\nL 184.772109 347.152228 \r\nL 184.956664 346.37988 \r\nL 185.141219 347.656191 \r\nL 185.325774 347.761225 \r\nL 185.510329 346.953135 \r\nL 185.87944 348.282189 \r\nL 186.063995 347.940229 \r\nL 186.433105 348.582215 \r\nL 186.61766 348.357107 \r\nL 186.802215 348.416435 \r\nL 186.98677 348.750971 \r\nL 187.35588 348.836027 \r\nL 187.540435 349.037534 \r\nL 187.909546 349.154641 \r\nL 188.647766 349.493572 \r\nL 189.016876 349.56157 \r\nL 189.201431 349.711466 \r\nL 189.570541 349.715956 \r\nL 189.939652 349.898602 \r\nL 190.308762 349.994406 \r\nL 191.046982 350.21204 \r\nL 192.523423 350.567436 \r\nL 195.845414 351.262397 \r\nL 203.596728 352.594489 \r\nL 212.824482 353.924428 \r\nL 223.897788 355.283168 \r\nL 236.078423 356.560512 \r\nL 251.211941 357.931816 \r\nL 269.852004 359.277185 \r\nL 270.959335 359.241591 \r\nL 271.14389 357.686765 \r\nL 271.328445 306.210056 \r\nL 271.513 205.202685 \r\nL 271.697555 306.727754 \r\nL 271.88211 263.811362 \r\nL 272.066665 274.823685 \r\nL 272.251221 277.78659 \r\nL 272.435776 295.667734 \r\nL 272.620331 300.888764 \r\nL 272.804886 310.246781 \r\nL 272.989441 301.468508 \r\nL 273.173996 305.64343 \r\nL 273.543106 324.150235 \r\nL 273.727661 325.702347 \r\nL 273.912216 320.809828 \r\nL 274.096771 322.829121 \r\nL 274.281326 327.263021 \r\nL 274.465882 328.167687 \r\nL 274.834992 334.511861 \r\nL 275.019547 334.993352 \r\nL 275.204102 334.911389 \r\nL 275.388657 336.122917 \r\nL 275.757767 342.017839 \r\nL 275.942322 342.061164 \r\nL 276.126877 341.886194 \r\nL 276.311432 342.961641 \r\nL 276.680543 346.273077 \r\nL 277.234208 346.874364 \r\nL 277.972428 349.986867 \r\nL 278.710649 351.699901 \r\nL 279.079759 352.531781 \r\nL 279.633424 353.164775 \r\nL 280.002534 353.801621 \r\nL 280.371644 354.06533 \r\nL 281.109865 354.900034 \r\nL 283.324526 356.194238 \r\nL 286.092852 357.083667 \r\nL 288.307513 357.531983 \r\nL 291.629505 357.994034 \r\nL 297.166157 358.524964 \r\nL 305.840246 359.108427 \r\nL 317.651772 359.656117 \r\nL 335.553616 360.252412 \r\nL 358.623001 360.777665 \r\nL 391.658362 361.305748 \r\nL 431.153151 361.734545 \r\nL 431.153151 361.734545 \r\n\" style=\"fill:none;stroke:#1f77b4;stroke-linecap:square;stroke-width:1.5;\"/>\r\n   </g>\r\n   <g id=\"patch_3\">\r\n    <path d=\"M 43.78125 376.56 \r\nL 43.78125 50.4 \r\n\" style=\"fill:none;stroke:#000000;stroke-linecap:square;stroke-linejoin:miter;stroke-width:0.8;\"/>\r\n   </g>\r\n   <g id=\"patch_4\">\r\n    <path d=\"M 449.599432 376.56 \r\nL 449.599432 50.4 \r\n\" style=\"fill:none;stroke:#000000;stroke-linecap:square;stroke-linejoin:miter;stroke-width:0.8;\"/>\r\n   </g>\r\n   <g id=\"patch_5\">\r\n    <path d=\"M 43.78125 376.56 \r\nL 449.599432 376.56 \r\n\" style=\"fill:none;stroke:#000000;stroke-linecap:square;stroke-linejoin:miter;stroke-width:0.8;\"/>\r\n   </g>\r\n   <g id=\"patch_6\">\r\n    <path d=\"M 43.78125 50.4 \r\nL 449.599432 50.4 \r\n\" style=\"fill:none;stroke:#000000;stroke-linecap:square;stroke-linejoin:miter;stroke-width:0.8;\"/>\r\n   </g>\r\n   <g id=\"legend_1\">\r\n    <g id=\"patch_7\">\r\n     <path d=\"M 387.324432 73.078125 \r\nL 442.599432 73.078125 \r\nQ 444.599432 73.078125 444.599432 71.078125 \r\nL 444.599432 57.4 \r\nQ 444.599432 55.4 442.599432 55.4 \r\nL 387.324432 55.4 \r\nQ 385.324432 55.4 385.324432 57.4 \r\nL 385.324432 71.078125 \r\nQ 385.324432 73.078125 387.324432 73.078125 \r\nz\r\n\" style=\"fill:#ffffff;opacity:0.8;stroke:#cccccc;stroke-linejoin:miter;\"/>\r\n    </g>\r\n    <g id=\"line2d_18\">\r\n     <path d=\"M 389.324432 63.498437 \r\nL 409.324432 63.498437 \r\n\" style=\"fill:none;stroke:#1f77b4;stroke-linecap:square;stroke-width:1.5;\"/>\r\n    </g>\r\n    <g id=\"line2d_19\"/>\r\n    <g id=\"text_19\">\r\n     <!-- train -->\r\n     <g transform=\"translate(417.324432 66.998437)scale(0.1 -0.1)\">\r\n      <defs>\r\n       <path d=\"M 18.3125 70.21875 \r\nL 18.3125 54.6875 \r\nL 36.8125 54.6875 \r\nL 36.8125 47.703125 \r\nL 18.3125 47.703125 \r\nL 18.3125 18.015625 \r\nQ 18.3125 11.328125 20.140625 9.421875 \r\nQ 21.96875 7.515625 27.59375 7.515625 \r\nL 36.8125 7.515625 \r\nL 36.8125 0 \r\nL 27.59375 0 \r\nQ 17.1875 0 13.234375 3.875 \r\nQ 9.28125 7.765625 9.28125 18.015625 \r\nL 9.28125 47.703125 \r\nL 2.6875 47.703125 \r\nL 2.6875 54.6875 \r\nL 9.28125 54.6875 \r\nL 9.28125 70.21875 \r\nz\r\n\" id=\"DejaVuSans-116\"/>\r\n       <path d=\"M 41.109375 46.296875 \r\nQ 39.59375 47.171875 37.8125 47.578125 \r\nQ 36.03125 48 33.890625 48 \r\nQ 26.265625 48 22.1875 43.046875 \r\nQ 18.109375 38.09375 18.109375 28.8125 \r\nL 18.109375 0 \r\nL 9.078125 0 \r\nL 9.078125 54.6875 \r\nL 18.109375 54.6875 \r\nL 18.109375 46.1875 \r\nQ 20.953125 51.171875 25.484375 53.578125 \r\nQ 30.03125 56 36.53125 56 \r\nQ 37.453125 56 38.578125 55.875 \r\nQ 39.703125 55.765625 41.0625 55.515625 \r\nz\r\n\" id=\"DejaVuSans-114\"/>\r\n       <path d=\"M 34.28125 27.484375 \r\nQ 23.390625 27.484375 19.1875 25 \r\nQ 14.984375 22.515625 14.984375 16.5 \r\nQ 14.984375 11.71875 18.140625 8.90625 \r\nQ 21.296875 6.109375 26.703125 6.109375 \r\nQ 34.1875 6.109375 38.703125 11.40625 \r\nQ 43.21875 16.703125 43.21875 25.484375 \r\nL 43.21875 27.484375 \r\nz\r\nM 52.203125 31.203125 \r\nL 52.203125 0 \r\nL 43.21875 0 \r\nL 43.21875 8.296875 \r\nQ 40.140625 3.328125 35.546875 0.953125 \r\nQ 30.953125 -1.421875 24.3125 -1.421875 \r\nQ 15.921875 -1.421875 10.953125 3.296875 \r\nQ 6 8.015625 6 15.921875 \r\nQ 6 25.140625 12.171875 29.828125 \r\nQ 18.359375 34.515625 30.609375 34.515625 \r\nL 43.21875 34.515625 \r\nL 43.21875 35.40625 \r\nQ 43.21875 41.609375 39.140625 45 \r\nQ 35.0625 48.390625 27.6875 48.390625 \r\nQ 23 48.390625 18.546875 47.265625 \r\nQ 14.109375 46.140625 10.015625 43.890625 \r\nL 10.015625 52.203125 \r\nQ 14.9375 54.109375 19.578125 55.046875 \r\nQ 24.21875 56 28.609375 56 \r\nQ 40.484375 56 46.34375 49.84375 \r\nQ 52.203125 43.703125 52.203125 31.203125 \r\nz\r\n\" id=\"DejaVuSans-97\"/>\r\n       <path d=\"M 9.421875 54.6875 \r\nL 18.40625 54.6875 \r\nL 18.40625 0 \r\nL 9.421875 0 \r\nz\r\nM 9.421875 75.984375 \r\nL 18.40625 75.984375 \r\nL 18.40625 64.59375 \r\nL 9.421875 64.59375 \r\nz\r\n\" id=\"DejaVuSans-105\"/>\r\n       <path d=\"M 54.890625 33.015625 \r\nL 54.890625 0 \r\nL 45.90625 0 \r\nL 45.90625 32.71875 \r\nQ 45.90625 40.484375 42.875 44.328125 \r\nQ 39.84375 48.1875 33.796875 48.1875 \r\nQ 26.515625 48.1875 22.3125 43.546875 \r\nQ 18.109375 38.921875 18.109375 30.90625 \r\nL 18.109375 0 \r\nL 9.078125 0 \r\nL 9.078125 54.6875 \r\nL 18.109375 54.6875 \r\nL 18.109375 46.1875 \r\nQ 21.34375 51.125 25.703125 53.5625 \r\nQ 30.078125 56 35.796875 56 \r\nQ 45.21875 56 50.046875 50.171875 \r\nQ 54.890625 44.34375 54.890625 33.015625 \r\nz\r\n\" id=\"DejaVuSans-110\"/>\r\n      </defs>\r\n      <use xlink:href=\"#DejaVuSans-116\"/>\r\n      <use x=\"39.208984\" xlink:href=\"#DejaVuSans-114\"/>\r\n      <use x=\"80.322266\" xlink:href=\"#DejaVuSans-97\"/>\r\n      <use x=\"141.601562\" xlink:href=\"#DejaVuSans-105\"/>\r\n      <use x=\"169.384766\" xlink:href=\"#DejaVuSans-110\"/>\r\n     </g>\r\n    </g>\r\n   </g>\r\n  </g>\r\n  <g id=\"axes_2\">\r\n   <g id=\"patch_8\">\r\n    <path d=\"M 530.763068 376.56 \r\nL 936.58125 376.56 \r\nL 936.58125 50.4 \r\nL 530.763068 50.4 \r\nz\r\n\" style=\"fill:#ffffff;\"/>\r\n   </g>\r\n   <g id=\"matplotlib.axis_3\">\r\n    <g id=\"xtick_10\">\r\n     <g id=\"line2d_20\">\r\n      <g>\r\n       <use style=\"stroke:#000000;stroke-width:0.8;\" x=\"549.209349\" xlink:href=\"#m4bc1f291e7\" y=\"376.56\"/>\r\n      </g>\r\n     </g>\r\n     <g id=\"text_20\">\r\n      <!-- 0 -->\r\n      <g transform=\"translate(546.028099 391.158437)scale(0.1 -0.1)\">\r\n       <use xlink:href=\"#DejaVuSans-48\"/>\r\n      </g>\r\n     </g>\r\n    </g>\r\n    <g id=\"xtick_11\">\r\n     <g id=\"line2d_21\">\r\n      <g>\r\n       <use style=\"stroke:#000000;stroke-width:0.8;\" x=\"595.348121\" xlink:href=\"#m4bc1f291e7\" y=\"376.56\"/>\r\n      </g>\r\n     </g>\r\n     <g id=\"text_21\">\r\n      <!-- 250 -->\r\n      <g transform=\"translate(585.804371 391.158437)scale(0.1 -0.1)\">\r\n       <use xlink:href=\"#DejaVuSans-50\"/>\r\n       <use x=\"63.623047\" xlink:href=\"#DejaVuSans-53\"/>\r\n       <use x=\"127.246094\" xlink:href=\"#DejaVuSans-48\"/>\r\n      </g>\r\n     </g>\r\n    </g>\r\n    <g id=\"xtick_12\">\r\n     <g id=\"line2d_22\">\r\n      <g>\r\n       <use style=\"stroke:#000000;stroke-width:0.8;\" x=\"641.486893\" xlink:href=\"#m4bc1f291e7\" y=\"376.56\"/>\r\n      </g>\r\n     </g>\r\n     <g id=\"text_22\">\r\n      <!-- 500 -->\r\n      <g transform=\"translate(631.943143 391.158437)scale(0.1 -0.1)\">\r\n       <use xlink:href=\"#DejaVuSans-53\"/>\r\n       <use x=\"63.623047\" xlink:href=\"#DejaVuSans-48\"/>\r\n       <use x=\"127.246094\" xlink:href=\"#DejaVuSans-48\"/>\r\n      </g>\r\n     </g>\r\n    </g>\r\n    <g id=\"xtick_13\">\r\n     <g id=\"line2d_23\">\r\n      <g>\r\n       <use style=\"stroke:#000000;stroke-width:0.8;\" x=\"687.625665\" xlink:href=\"#m4bc1f291e7\" y=\"376.56\"/>\r\n      </g>\r\n     </g>\r\n     <g id=\"text_23\">\r\n      <!-- 750 -->\r\n      <g transform=\"translate(678.081915 391.158437)scale(0.1 -0.1)\">\r\n       <use xlink:href=\"#DejaVuSans-55\"/>\r\n       <use x=\"63.623047\" xlink:href=\"#DejaVuSans-53\"/>\r\n       <use x=\"127.246094\" xlink:href=\"#DejaVuSans-48\"/>\r\n      </g>\r\n     </g>\r\n    </g>\r\n    <g id=\"xtick_14\">\r\n     <g id=\"line2d_24\">\r\n      <g>\r\n       <use style=\"stroke:#000000;stroke-width:0.8;\" x=\"733.764437\" xlink:href=\"#m4bc1f291e7\" y=\"376.56\"/>\r\n      </g>\r\n     </g>\r\n     <g id=\"text_24\">\r\n      <!-- 1000 -->\r\n      <g transform=\"translate(721.039437 391.158437)scale(0.1 -0.1)\">\r\n       <use xlink:href=\"#DejaVuSans-49\"/>\r\n       <use x=\"63.623047\" xlink:href=\"#DejaVuSans-48\"/>\r\n       <use x=\"127.246094\" xlink:href=\"#DejaVuSans-48\"/>\r\n       <use x=\"190.869141\" xlink:href=\"#DejaVuSans-48\"/>\r\n      </g>\r\n     </g>\r\n    </g>\r\n    <g id=\"xtick_15\">\r\n     <g id=\"line2d_25\">\r\n      <g>\r\n       <use style=\"stroke:#000000;stroke-width:0.8;\" x=\"779.903208\" xlink:href=\"#m4bc1f291e7\" y=\"376.56\"/>\r\n      </g>\r\n     </g>\r\n     <g id=\"text_25\">\r\n      <!-- 1250 -->\r\n      <g transform=\"translate(767.178208 391.158437)scale(0.1 -0.1)\">\r\n       <use xlink:href=\"#DejaVuSans-49\"/>\r\n       <use x=\"63.623047\" xlink:href=\"#DejaVuSans-50\"/>\r\n       <use x=\"127.246094\" xlink:href=\"#DejaVuSans-53\"/>\r\n       <use x=\"190.869141\" xlink:href=\"#DejaVuSans-48\"/>\r\n      </g>\r\n     </g>\r\n    </g>\r\n    <g id=\"xtick_16\">\r\n     <g id=\"line2d_26\">\r\n      <g>\r\n       <use style=\"stroke:#000000;stroke-width:0.8;\" x=\"826.04198\" xlink:href=\"#m4bc1f291e7\" y=\"376.56\"/>\r\n      </g>\r\n     </g>\r\n     <g id=\"text_26\">\r\n      <!-- 1500 -->\r\n      <g transform=\"translate(813.31698 391.158437)scale(0.1 -0.1)\">\r\n       <use xlink:href=\"#DejaVuSans-49\"/>\r\n       <use x=\"63.623047\" xlink:href=\"#DejaVuSans-53\"/>\r\n       <use x=\"127.246094\" xlink:href=\"#DejaVuSans-48\"/>\r\n       <use x=\"190.869141\" xlink:href=\"#DejaVuSans-48\"/>\r\n      </g>\r\n     </g>\r\n    </g>\r\n    <g id=\"xtick_17\">\r\n     <g id=\"line2d_27\">\r\n      <g>\r\n       <use style=\"stroke:#000000;stroke-width:0.8;\" x=\"872.180752\" xlink:href=\"#m4bc1f291e7\" y=\"376.56\"/>\r\n      </g>\r\n     </g>\r\n     <g id=\"text_27\">\r\n      <!-- 1750 -->\r\n      <g transform=\"translate(859.455752 391.158437)scale(0.1 -0.1)\">\r\n       <use xlink:href=\"#DejaVuSans-49\"/>\r\n       <use x=\"63.623047\" xlink:href=\"#DejaVuSans-55\"/>\r\n       <use x=\"127.246094\" xlink:href=\"#DejaVuSans-53\"/>\r\n       <use x=\"190.869141\" xlink:href=\"#DejaVuSans-48\"/>\r\n      </g>\r\n     </g>\r\n    </g>\r\n    <g id=\"xtick_18\">\r\n     <g id=\"line2d_28\">\r\n      <g>\r\n       <use style=\"stroke:#000000;stroke-width:0.8;\" x=\"918.319524\" xlink:href=\"#m4bc1f291e7\" y=\"376.56\"/>\r\n      </g>\r\n     </g>\r\n     <g id=\"text_28\">\r\n      <!-- 2000 -->\r\n      <g transform=\"translate(905.594524 391.158437)scale(0.1 -0.1)\">\r\n       <use xlink:href=\"#DejaVuSans-50\"/>\r\n       <use x=\"63.623047\" xlink:href=\"#DejaVuSans-48\"/>\r\n       <use x=\"127.246094\" xlink:href=\"#DejaVuSans-48\"/>\r\n       <use x=\"190.869141\" xlink:href=\"#DejaVuSans-48\"/>\r\n      </g>\r\n     </g>\r\n    </g>\r\n    <g id=\"text_29\">\r\n     <!-- epochs -->\r\n     <g transform=\"translate(715.839347 404.836562)scale(0.1 -0.1)\">\r\n      <use xlink:href=\"#DejaVuSans-101\"/>\r\n      <use x=\"61.523438\" xlink:href=\"#DejaVuSans-112\"/>\r\n      <use x=\"125\" xlink:href=\"#DejaVuSans-111\"/>\r\n      <use x=\"186.181641\" xlink:href=\"#DejaVuSans-99\"/>\r\n      <use x=\"241.162109\" xlink:href=\"#DejaVuSans-104\"/>\r\n      <use x=\"304.541016\" xlink:href=\"#DejaVuSans-115\"/>\r\n     </g>\r\n    </g>\r\n   </g>\r\n   <g id=\"matplotlib.axis_4\">\r\n    <g id=\"ytick_8\">\r\n     <g id=\"line2d_29\">\r\n      <g>\r\n       <use style=\"stroke:#000000;stroke-width:0.8;\" x=\"530.763068\" xlink:href=\"#m138eb84243\" y=\"342.961722\"/>\r\n      </g>\r\n     </g>\r\n     <g id=\"text_30\">\r\n      <!-- 0.2 -->\r\n      <g transform=\"translate(507.859943 346.760941)scale(0.1 -0.1)\">\r\n       <use xlink:href=\"#DejaVuSans-48\"/>\r\n       <use x=\"63.623047\" xlink:href=\"#DejaVuSans-46\"/>\r\n       <use x=\"95.410156\" xlink:href=\"#DejaVuSans-50\"/>\r\n      </g>\r\n     </g>\r\n    </g>\r\n    <g id=\"ytick_9\">\r\n     <g id=\"line2d_30\">\r\n      <g>\r\n       <use style=\"stroke:#000000;stroke-width:0.8;\" x=\"530.763068\" xlink:href=\"#m138eb84243\" y=\"271.601838\"/>\r\n      </g>\r\n     </g>\r\n     <g id=\"text_31\">\r\n      <!-- 0.4 -->\r\n      <g transform=\"translate(507.859943 275.401056)scale(0.1 -0.1)\">\r\n       <defs>\r\n        <path d=\"M 37.796875 64.3125 \r\nL 12.890625 25.390625 \r\nL 37.796875 25.390625 \r\nz\r\nM 35.203125 72.90625 \r\nL 47.609375 72.90625 \r\nL 47.609375 25.390625 \r\nL 58.015625 25.390625 \r\nL 58.015625 17.1875 \r\nL 47.609375 17.1875 \r\nL 47.609375 0 \r\nL 37.796875 0 \r\nL 37.796875 17.1875 \r\nL 4.890625 17.1875 \r\nL 4.890625 26.703125 \r\nz\r\n\" id=\"DejaVuSans-52\"/>\r\n       </defs>\r\n       <use xlink:href=\"#DejaVuSans-48\"/>\r\n       <use x=\"63.623047\" xlink:href=\"#DejaVuSans-46\"/>\r\n       <use x=\"95.410156\" xlink:href=\"#DejaVuSans-52\"/>\r\n      </g>\r\n     </g>\r\n    </g>\r\n    <g id=\"ytick_10\">\r\n     <g id=\"line2d_31\">\r\n      <g>\r\n       <use style=\"stroke:#000000;stroke-width:0.8;\" x=\"530.763068\" xlink:href=\"#m138eb84243\" y=\"200.241953\"/>\r\n      </g>\r\n     </g>\r\n     <g id=\"text_32\">\r\n      <!-- 0.6 -->\r\n      <g transform=\"translate(507.859943 204.041172)scale(0.1 -0.1)\">\r\n       <defs>\r\n        <path d=\"M 33.015625 40.375 \r\nQ 26.375 40.375 22.484375 35.828125 \r\nQ 18.609375 31.296875 18.609375 23.390625 \r\nQ 18.609375 15.53125 22.484375 10.953125 \r\nQ 26.375 6.390625 33.015625 6.390625 \r\nQ 39.65625 6.390625 43.53125 10.953125 \r\nQ 47.40625 15.53125 47.40625 23.390625 \r\nQ 47.40625 31.296875 43.53125 35.828125 \r\nQ 39.65625 40.375 33.015625 40.375 \r\nz\r\nM 52.59375 71.296875 \r\nL 52.59375 62.3125 \r\nQ 48.875 64.0625 45.09375 64.984375 \r\nQ 41.3125 65.921875 37.59375 65.921875 \r\nQ 27.828125 65.921875 22.671875 59.328125 \r\nQ 17.53125 52.734375 16.796875 39.40625 \r\nQ 19.671875 43.65625 24.015625 45.921875 \r\nQ 28.375 48.1875 33.59375 48.1875 \r\nQ 44.578125 48.1875 50.953125 41.515625 \r\nQ 57.328125 34.859375 57.328125 23.390625 \r\nQ 57.328125 12.15625 50.6875 5.359375 \r\nQ 44.046875 -1.421875 33.015625 -1.421875 \r\nQ 20.359375 -1.421875 13.671875 8.265625 \r\nQ 6.984375 17.96875 6.984375 36.375 \r\nQ 6.984375 53.65625 15.1875 63.9375 \r\nQ 23.390625 74.21875 37.203125 74.21875 \r\nQ 40.921875 74.21875 44.703125 73.484375 \r\nQ 48.484375 72.75 52.59375 71.296875 \r\nz\r\n\" id=\"DejaVuSans-54\"/>\r\n       </defs>\r\n       <use xlink:href=\"#DejaVuSans-48\"/>\r\n       <use x=\"63.623047\" xlink:href=\"#DejaVuSans-46\"/>\r\n       <use x=\"95.410156\" xlink:href=\"#DejaVuSans-54\"/>\r\n      </g>\r\n     </g>\r\n    </g>\r\n    <g id=\"ytick_11\">\r\n     <g id=\"line2d_32\">\r\n      <g>\r\n       <use style=\"stroke:#000000;stroke-width:0.8;\" x=\"530.763068\" xlink:href=\"#m138eb84243\" y=\"128.882069\"/>\r\n      </g>\r\n     </g>\r\n     <g id=\"text_33\">\r\n      <!-- 0.8 -->\r\n      <g transform=\"translate(507.859943 132.681288)scale(0.1 -0.1)\">\r\n       <defs>\r\n        <path d=\"M 31.78125 34.625 \r\nQ 24.75 34.625 20.71875 30.859375 \r\nQ 16.703125 27.09375 16.703125 20.515625 \r\nQ 16.703125 13.921875 20.71875 10.15625 \r\nQ 24.75 6.390625 31.78125 6.390625 \r\nQ 38.8125 6.390625 42.859375 10.171875 \r\nQ 46.921875 13.96875 46.921875 20.515625 \r\nQ 46.921875 27.09375 42.890625 30.859375 \r\nQ 38.875 34.625 31.78125 34.625 \r\nz\r\nM 21.921875 38.8125 \r\nQ 15.578125 40.375 12.03125 44.71875 \r\nQ 8.5 49.078125 8.5 55.328125 \r\nQ 8.5 64.0625 14.71875 69.140625 \r\nQ 20.953125 74.21875 31.78125 74.21875 \r\nQ 42.671875 74.21875 48.875 69.140625 \r\nQ 55.078125 64.0625 55.078125 55.328125 \r\nQ 55.078125 49.078125 51.53125 44.71875 \r\nQ 48 40.375 41.703125 38.8125 \r\nQ 48.828125 37.15625 52.796875 32.3125 \r\nQ 56.78125 27.484375 56.78125 20.515625 \r\nQ 56.78125 9.90625 50.3125 4.234375 \r\nQ 43.84375 -1.421875 31.78125 -1.421875 \r\nQ 19.734375 -1.421875 13.25 4.234375 \r\nQ 6.78125 9.90625 6.78125 20.515625 \r\nQ 6.78125 27.484375 10.78125 32.3125 \r\nQ 14.796875 37.15625 21.921875 38.8125 \r\nz\r\nM 18.3125 54.390625 \r\nQ 18.3125 48.734375 21.84375 45.5625 \r\nQ 25.390625 42.390625 31.78125 42.390625 \r\nQ 38.140625 42.390625 41.71875 45.5625 \r\nQ 45.3125 48.734375 45.3125 54.390625 \r\nQ 45.3125 60.0625 41.71875 63.234375 \r\nQ 38.140625 66.40625 31.78125 66.40625 \r\nQ 25.390625 66.40625 21.84375 63.234375 \r\nQ 18.3125 60.0625 18.3125 54.390625 \r\nz\r\n\" id=\"DejaVuSans-56\"/>\r\n       </defs>\r\n       <use xlink:href=\"#DejaVuSans-48\"/>\r\n       <use x=\"63.623047\" xlink:href=\"#DejaVuSans-46\"/>\r\n       <use x=\"95.410156\" xlink:href=\"#DejaVuSans-56\"/>\r\n      </g>\r\n     </g>\r\n    </g>\r\n    <g id=\"ytick_12\">\r\n     <g id=\"line2d_33\">\r\n      <g>\r\n       <use style=\"stroke:#000000;stroke-width:0.8;\" x=\"530.763068\" xlink:href=\"#m138eb84243\" y=\"57.522185\"/>\r\n      </g>\r\n     </g>\r\n     <g id=\"text_34\">\r\n      <!-- 1.0 -->\r\n      <g transform=\"translate(507.859943 61.321404)scale(0.1 -0.1)\">\r\n       <use xlink:href=\"#DejaVuSans-49\"/>\r\n       <use x=\"63.623047\" xlink:href=\"#DejaVuSans-46\"/>\r\n       <use x=\"95.410156\" xlink:href=\"#DejaVuSans-48\"/>\r\n      </g>\r\n     </g>\r\n    </g>\r\n    <g id=\"text_35\">\r\n     <!-- Accuracy -->\r\n     <g transform=\"translate(501.780256 236.308125)rotate(-90)scale(0.1 -0.1)\">\r\n      <defs>\r\n       <path d=\"M 34.1875 63.1875 \r\nL 20.796875 26.90625 \r\nL 47.609375 26.90625 \r\nz\r\nM 28.609375 72.90625 \r\nL 39.796875 72.90625 \r\nL 67.578125 0 \r\nL 57.328125 0 \r\nL 50.6875 18.703125 \r\nL 17.828125 18.703125 \r\nL 11.1875 0 \r\nL 0.78125 0 \r\nz\r\n\" id=\"DejaVuSans-65\"/>\r\n       <path d=\"M 8.5 21.578125 \r\nL 8.5 54.6875 \r\nL 17.484375 54.6875 \r\nL 17.484375 21.921875 \r\nQ 17.484375 14.15625 20.5 10.265625 \r\nQ 23.53125 6.390625 29.59375 6.390625 \r\nQ 36.859375 6.390625 41.078125 11.03125 \r\nQ 45.3125 15.671875 45.3125 23.6875 \r\nL 45.3125 54.6875 \r\nL 54.296875 54.6875 \r\nL 54.296875 0 \r\nL 45.3125 0 \r\nL 45.3125 8.40625 \r\nQ 42.046875 3.421875 37.71875 1 \r\nQ 33.40625 -1.421875 27.6875 -1.421875 \r\nQ 18.265625 -1.421875 13.375 4.4375 \r\nQ 8.5 10.296875 8.5 21.578125 \r\nz\r\nM 31.109375 56 \r\nz\r\n\" id=\"DejaVuSans-117\"/>\r\n       <path d=\"M 32.171875 -5.078125 \r\nQ 28.375 -14.84375 24.75 -17.8125 \r\nQ 21.140625 -20.796875 15.09375 -20.796875 \r\nL 7.90625 -20.796875 \r\nL 7.90625 -13.28125 \r\nL 13.1875 -13.28125 \r\nQ 16.890625 -13.28125 18.9375 -11.515625 \r\nQ 21 -9.765625 23.484375 -3.21875 \r\nL 25.09375 0.875 \r\nL 2.984375 54.6875 \r\nL 12.5 54.6875 \r\nL 29.59375 11.921875 \r\nL 46.6875 54.6875 \r\nL 56.203125 54.6875 \r\nz\r\n\" id=\"DejaVuSans-121\"/>\r\n      </defs>\r\n      <use xlink:href=\"#DejaVuSans-65\"/>\r\n      <use x=\"66.658203\" xlink:href=\"#DejaVuSans-99\"/>\r\n      <use x=\"121.638672\" xlink:href=\"#DejaVuSans-99\"/>\r\n      <use x=\"176.619141\" xlink:href=\"#DejaVuSans-117\"/>\r\n      <use x=\"239.998047\" xlink:href=\"#DejaVuSans-114\"/>\r\n      <use x=\"281.111328\" xlink:href=\"#DejaVuSans-97\"/>\r\n      <use x=\"342.390625\" xlink:href=\"#DejaVuSans-99\"/>\r\n      <use x=\"397.371094\" xlink:href=\"#DejaVuSans-121\"/>\r\n     </g>\r\n    </g>\r\n   </g>\r\n   <g id=\"line2d_34\">\r\n    <path clip-path=\"url(#pcba5efc2b6)\" d=\"M 549.209349 361.734545 \r\nL 549.763014 340.673005 \r\nL 549.94757 331.322215 \r\nL 550.31668 294.052639 \r\nL 550.501235 274.505035 \r\nL 550.68579 269.696058 \r\nL 550.870345 268.760979 \r\nL 551.0549 268.939089 \r\nL 551.239455 270.898302 \r\nL 551.977675 273.436373 \r\nL 552.346786 274.148815 \r\nL 552.531341 273.703539 \r\nL 552.715896 273.748066 \r\nL 552.900451 274.059759 \r\nL 553.085006 274.104287 \r\nL 553.269561 274.371452 \r\nL 553.454116 274.282397 \r\nL 553.823226 274.41598 \r\nL 554.746002 274.41598 \r\nL 555.115112 273.926177 \r\nL 555.299667 273.12468 \r\nL 555.484222 272.94657 \r\nL 555.853332 270.274916 \r\nL 556.222442 268.493813 \r\nL 556.406998 267.959482 \r\nL 556.960663 269.428892 \r\nL 557.329773 270.809247 \r\nL 557.514328 270.809247 \r\nL 557.883438 271.521688 \r\nL 558.067993 271.432633 \r\nL 558.252548 271.566216 \r\nL 558.437104 271.388105 \r\nL 559.175324 269.161727 \r\nL 559.544434 265.554994 \r\nL 559.728989 261.859205 \r\nL 559.913544 260.790543 \r\nL 560.46721 254.022353 \r\nL 560.651765 253.398967 \r\nL 561.20543 248.233769 \r\nL 561.57454 241.510106 \r\nL 561.94365 239.41731 \r\nL 562.31276 237.012821 \r\nL 562.497315 235.988687 \r\nL 562.866426 232.827229 \r\nL 563.050981 231.090654 \r\nL 563.235536 230.556323 \r\nL 563.420091 228.864276 \r\nL 563.789201 228.419 \r\nL 564.158311 225.747346 \r\nL 564.342866 226.504314 \r\nL 564.527421 223.65455 \r\nL 564.711977 223.520967 \r\nL 564.896532 222.36325 \r\nL 565.081087 222.763998 \r\nL 565.265642 222.585888 \r\nL 565.450197 220.092344 \r\nL 565.634752 219.602541 \r\nL 565.819307 220.53762 \r\nL 566.003862 220.092344 \r\nL 566.372972 218.133131 \r\nL 566.557527 217.821438 \r\nL 566.742082 218.177659 \r\nL 566.926638 215.416949 \r\nL 567.295748 214.437343 \r\nL 567.849413 211.097775 \r\nL 568.033968 210.207224 \r\nL 568.218523 208.158955 \r\nL 568.403078 207.758207 \r\nL 568.587633 208.158955 \r\nL 568.772188 207.580097 \r\nL 568.956744 204.908443 \r\nL 569.141299 204.997498 \r\nL 569.325854 204.95297 \r\nL 569.694964 204.017891 \r\nL 569.879519 312.665163 \r\nL 570.064074 312.487053 \r\nL 570.248629 206.645018 \r\nL 570.433184 205.309191 \r\nL 570.617739 206.288797 \r\nL 570.986849 205.709939 \r\nL 571.35596 203.439033 \r\nL 571.540515 204.106946 \r\nL 571.72507 206.689546 \r\nL 571.909625 206.06616 \r\nL 572.09418 203.973364 \r\nL 572.278735 203.617143 \r\nL 572.46329 201.613403 \r\nL 573.386066 201.079072 \r\nL 573.570621 201.524347 \r\nL 573.939731 200.054938 \r\nL 574.124286 198.986276 \r\nL 574.308841 199.119859 \r\nL 574.493396 199.075331 \r\nL 574.677951 198.808166 \r\nL 574.862506 199.164386 \r\nL 575.047061 199.075331 \r\nL 575.231617 198.229307 \r\nL 575.416172 197.917614 \r\nL 575.785282 196.225566 \r\nL 576.154392 194.889739 \r\nL 576.338947 195.112377 \r\nL 576.892612 194.310881 \r\nL 577.630833 192.885999 \r\nL 577.815388 191.817337 \r\nL 577.999943 192.218085 \r\nL 578.184498 192.351668 \r\nL 578.369053 191.772809 \r\nL 578.738163 188.433242 \r\nL 578.922718 188.433242 \r\nL 579.476384 187.720801 \r\nL 580.030049 186.206863 \r\nL 580.214604 186.028753 \r\nL 580.952824 184.292178 \r\nL 581.321934 183.312571 \r\nL 582.060155 182.733713 \r\nL 582.429265 182.021272 \r\nL 582.798375 180.329224 \r\nL 582.98293 179.928476 \r\nL 583.167485 179.171507 \r\nL 583.536595 177.256822 \r\nL 583.721151 177.034184 \r\nL 584.274816 174.585167 \r\nL 585.382146 171.201072 \r\nL 585.751256 169.77619 \r\nL 585.935812 169.330914 \r\nL 586.120367 168.48489 \r\nL 586.304922 168.262252 \r\nL 586.489477 168.48489 \r\nL 586.674032 166.970953 \r\nL 586.858587 168.707528 \r\nL 587.043142 165.18985 \r\nL 587.227697 164.477409 \r\nL 587.412252 165.457015 \r\nL 587.596807 165.501543 \r\nL 587.781362 163.631385 \r\nL 588.150473 162.829889 \r\nL 588.335028 163.72044 \r\nL 588.704138 161.093313 \r\nL 588.888693 160.915203 \r\nL 589.073248 161.538589 \r\nL 589.257803 159.579376 \r\nL 589.442358 158.911463 \r\nL 589.626913 159.579376 \r\nL 589.811468 158.911463 \r\nL 589.996024 157.575635 \r\nL 590.180579 157.219415 \r\nL 590.365134 157.263942 \r\nL 590.734244 155.928115 \r\nL 590.918799 155.438312 \r\nL 591.287909 153.612682 \r\nL 591.472464 153.390044 \r\nL 592.026129 151.608941 \r\nL 592.210685 151.208193 \r\nL 592.579795 149.738783 \r\nL 592.948905 148.358428 \r\nL 593.13346 148.313901 \r\nL 593.318015 147.512405 \r\nL 593.50257 147.824098 \r\nL 593.687125 146.889019 \r\nL 593.87168 147.200712 \r\nL 594.056235 146.710908 \r\nL 594.240791 145.464136 \r\nL 594.794456 144.395475 \r\nL 594.979011 144.306419 \r\nL 595.163566 143.19323 \r\nL 595.348121 143.104175 \r\nL 596.455452 140.432521 \r\nL 596.824562 139.007639 \r\nL 597.193672 137.849922 \r\nL 597.378227 137.716339 \r\nL 597.562782 136.914843 \r\nL 597.747337 137.048426 \r\nL 597.931892 135.846181 \r\nL 598.116447 135.712598 \r\nL 598.485558 134.732992 \r\nL 598.670113 134.732992 \r\nL 598.854668 133.886968 \r\nL 599.039223 135.579016 \r\nL 599.777443 132.729251 \r\nL 599.961998 132.684724 \r\nL 600.146553 131.972282 \r\nL 600.331108 130.591928 \r\nL 600.515663 131.081731 \r\nL 600.700219 131.037204 \r\nL 600.884774 129.745904 \r\nL 601.069329 129.968542 \r\nL 601.253884 130.013069 \r\nL 601.438439 129.122518 \r\nL 601.622994 128.988935 \r\nL 602.361214 127.519525 \r\nL 602.545769 127.296888 \r\nL 602.730325 126.718029 \r\nL 602.91488 126.673502 \r\nL 603.099435 125.649367 \r\nL 603.28399 125.78295 \r\nL 603.468545 124.981454 \r\nL 603.837655 124.625233 \r\nL 604.02221 123.289406 \r\nL 604.206765 124.224485 \r\nL 604.39132 122.755075 \r\nL 604.76043 123.244879 \r\nL 604.944986 122.131689 \r\nL 605.129541 122.710548 \r\nL 605.314096 121.864524 \r\nL 605.498651 121.641886 \r\nL 605.683206 121.241138 \r\nL 605.867761 120.528697 \r\nL 606.052316 120.795862 \r\nL 606.236871 119.816256 \r\nL 606.421426 120.306059 \r\nL 606.605981 119.281925 \r\nL 606.790536 119.281925 \r\nL 607.159647 118.435901 \r\nL 607.344202 118.747594 \r\nL 607.528757 118.836649 \r\nL 607.713312 121.285666 \r\nL 607.897867 125.337675 \r\nL 608.082422 126.539919 \r\nL 608.266977 119.103815 \r\nL 608.451532 121.508303 \r\nL 608.636087 119.460035 \r\nL 608.820642 121.374721 \r\nL 609.005198 117.72346 \r\nL 609.189753 118.524956 \r\nL 609.374308 117.367239 \r\nL 609.558863 119.059287 \r\nL 609.743418 116.298578 \r\nL 609.927973 116.788381 \r\nL 610.112528 116.788381 \r\nL 610.297083 115.363499 \r\nL 610.481638 116.654798 \r\nL 610.666193 115.630664 \r\nL 610.850748 115.318971 \r\nL 611.035303 114.116727 \r\nL 611.219859 114.651058 \r\nL 611.404414 114.027672 \r\nL 611.588969 114.294837 \r\nL 611.773524 113.270703 \r\nL 611.958079 113.270703 \r\nL 612.142634 112.825427 \r\nL 612.327189 113.315231 \r\nL 612.511744 112.95901 \r\nL 612.880854 111.712238 \r\nL 613.249965 111.845821 \r\nL 613.43452 111.044324 \r\nL 613.80363 110.688104 \r\nL 613.988185 110.821687 \r\nL 614.17274 110.109245 \r\nL 614.357295 110.064718 \r\nL 614.54185 109.797552 \r\nL 614.726405 109.307749 \r\nL 615.095515 109.352277 \r\nL 615.649181 108.328143 \r\nL 615.833736 108.506253 \r\nL 616.018291 107.971922 \r\nL 616.387401 107.704757 \r\nL 616.571956 107.304009 \r\nL 616.941066 107.304009 \r\nL 617.125621 107.214953 \r\nL 617.310176 107.259481 \r\nL 617.494732 108.01645 \r\nL 617.679287 107.838339 \r\nL 617.863842 108.105505 \r\nL 618.048397 109.753025 \r\nL 618.232952 107.660229 \r\nL 618.417507 107.081371 \r\nL 618.602062 107.526646 \r\nL 618.786617 105.790071 \r\nL 618.971172 106.457985 \r\nL 619.155727 106.502512 \r\nL 619.340282 105.389323 \r\nL 619.524837 106.190819 \r\nL 619.709393 104.810465 \r\nL 619.893948 104.454244 \r\nL 620.078503 104.543299 \r\nL 620.263058 104.008968 \r\nL 620.447613 104.320661 \r\nL 620.816723 103.385582 \r\nL 621.001278 103.964441 \r\nL 621.185833 103.073889 \r\nL 621.370388 102.984834 \r\nL 621.554943 103.252 \r\nL 621.739499 102.762196 \r\nL 622.293164 102.584086 \r\nL 622.477719 101.916173 \r\nL 622.846829 102.005228 \r\nL 623.215939 101.426369 \r\nL 623.400494 101.693535 \r\nL 623.769605 100.981094 \r\nL 624.138715 100.847511 \r\nL 624.32327 100.580345 \r\nL 624.507825 100.535818 \r\nL 624.69238 100.090542 \r\nL 624.876935 100.13507 \r\nL 625.06149 99.689794 \r\nL 625.4306 99.511684 \r\nL 625.615155 99.02188 \r\nL 625.79971 99.511684 \r\nL 625.984266 98.443022 \r\nL 626.168821 98.754715 \r\nL 626.537931 98.086801 \r\nL 626.722486 98.086801 \r\nL 627.276151 97.37436 \r\nL 627.460706 97.819636 \r\nL 627.645261 96.706447 \r\nL 627.829816 97.730581 \r\nL 628.014372 96.572864 \r\nL 628.198927 97.285305 \r\nL 628.383482 96.083061 \r\nL 628.568037 97.285305 \r\nL 628.752592 96.127588 \r\nL 628.937147 96.261171 \r\nL 629.306257 95.326092 \r\nL 629.490812 95.815895 \r\nL 629.675367 95.058927 \r\nL 629.859922 96.172116 \r\nL 630.044477 94.658179 \r\nL 630.229033 95.147982 \r\nL 630.413588 94.168375 \r\nL 630.598143 94.301958 \r\nL 630.782698 94.658179 \r\nL 630.967253 93.812155 \r\nL 631.151808 95.014399 \r\nL 631.336363 93.544989 \r\nL 631.520918 94.301958 \r\nL 631.705473 93.277824 \r\nL 632.259139 93.099714 \r\nL 632.443694 94.07932 \r\nL 632.628249 92.654438 \r\nL 632.812804 94.480068 \r\nL 632.997359 92.921603 \r\nL 633.181914 94.301958 \r\nL 633.366469 92.164635 \r\nL 633.551024 92.209162 \r\nL 633.735579 93.010658 \r\nL 633.920134 91.852942 \r\nL 634.104689 93.144241 \r\nL 634.289244 91.585776 \r\nL 634.4738 91.719359 \r\nL 634.658355 92.031052 \r\nL 634.84291 91.051445 \r\nL 635.027465 92.520855 \r\nL 635.21202 91.051445 \r\nL 635.396575 91.808414 \r\nL 635.58113 90.917863 \r\nL 635.765685 90.650697 \r\nL 635.95024 91.719359 \r\nL 636.134795 90.517114 \r\nL 636.31935 91.1405 \r\nL 636.503906 90.383532 \r\nL 636.688461 90.116366 \r\nL 636.873016 91.274083 \r\nL 637.057571 90.205422 \r\nL 637.242126 91.006918 \r\nL 637.426681 89.804673 \r\nL 637.611236 89.582036 \r\nL 637.795791 90.60617 \r\nL 637.980346 89.49298 \r\nL 638.164901 90.071839 \r\nL 638.349456 89.225815 \r\nL 638.534012 89.092232 \r\nL 638.718567 89.671091 \r\nL 638.903122 88.825067 \r\nL 639.272232 89.13676 \r\nL 639.456787 88.736012 \r\nL 639.641342 88.825067 \r\nL 639.825897 88.335264 \r\nL 640.010452 88.335264 \r\nL 640.195007 88.602429 \r\nL 640.379562 88.023571 \r\nL 640.564117 88.023571 \r\nL 640.748673 87.622822 \r\nL 640.933228 87.622822 \r\nL 641.117783 88.157153 \r\nL 641.302338 87.266602 \r\nL 641.486893 87.934515 \r\nL 641.671448 86.910381 \r\nL 641.856003 87.979043 \r\nL 642.040558 87.979043 \r\nL 642.225113 88.602429 \r\nL 642.409668 91.274083 \r\nL 642.594223 91.274083 \r\nL 642.778779 92.743493 \r\nL 642.963334 92.209162 \r\nL 643.147889 104.810465 \r\nL 643.332444 93.589517 \r\nL 643.516999 98.443022 \r\nL 643.701554 95.771368 \r\nL 643.886109 96.439281 \r\nL 644.070664 90.428059 \r\nL 644.255219 96.795502 \r\nL 644.439774 89.893729 \r\nL 644.624329 93.767627 \r\nL 644.99344 88.112626 \r\nL 645.177995 92.164635 \r\nL 645.36255 88.646957 \r\nL 645.547105 89.760146 \r\nL 645.73166 89.893729 \r\nL 645.916215 87.578295 \r\nL 646.10077 89.448453 \r\nL 646.46988 86.821326 \r\nL 646.654435 89.403925 \r\nL 646.83899 86.554161 \r\nL 647.023546 86.19794 \r\nL 647.208101 87.800933 \r\nL 647.392656 85.797192 \r\nL 647.577211 86.331523 \r\nL 647.761766 87.66735 \r\nL 648.130876 85.440971 \r\nL 648.315431 85.530027 \r\nL 648.499986 85.396444 \r\nL 648.684541 85.440971 \r\nL 648.869096 85.708137 \r\nL 649.053651 84.817585 \r\nL 649.238207 85.129278 \r\nL 649.422762 84.461365 \r\nL 649.791872 84.72853 \r\nL 649.976427 84.416837 \r\nL 650.160982 84.327782 \r\nL 650.345537 83.971562 \r\nL 650.714647 83.882507 \r\nL 650.899202 83.526286 \r\nL 651.083757 83.615341 \r\nL 651.452868 83.392703 \r\nL 651.637423 83.659869 \r\nL 651.821978 83.348176 \r\nL 652.006533 83.348176 \r\nL 652.375643 83.125538 \r\nL 652.560198 83.214593 \r\nL 652.929308 82.680262 \r\nL 653.113863 82.813845 \r\nL 653.667529 82.190459 \r\nL 654.036639 82.368569 \r\nL 654.405749 81.789711 \r\nL 654.774859 81.6116 \r\nL 655.697635 81.210852 \r\nL 655.88219 81.299907 \r\nL 656.2513 81.07727 \r\nL 656.435855 80.810104 \r\nL 656.804965 81.121797 \r\nL 657.35863 80.765577 \r\nL 657.912296 80.810104 \r\nL 658.096851 80.631994 \r\nL 658.650516 80.676521 \r\nL 659.019626 80.409356 \r\nL 659.388736 80.453884 \r\nL 659.573291 80.409356 \r\nL 659.942402 80.097663 \r\nL 660.126957 80.231246 \r\nL 660.311512 80.142191 \r\nL 660.496067 79.875025 \r\nL 660.865177 79.830498 \r\nL 661.049732 79.875025 \r\nL 662.526173 78.895419 \r\nL 662.895283 78.850891 \r\nL 664.002614 78.31656 \r\nL 664.371724 78.361088 \r\nL 664.740834 78.227505 \r\nL 664.925389 78.13845 \r\nL 665.109944 78.227505 \r\nL 665.294499 78.13845 \r\nL 665.479054 78.272033 \r\nL 665.848164 78.13845 \r\nL 666.217275 78.049395 \r\nL 666.40183 78.049395 \r\nL 666.586385 77.826757 \r\nL 666.77094 78.004867 \r\nL 666.955495 77.826757 \r\nL 667.14005 78.049395 \r\nL 667.324605 79.251639 \r\nL 667.50916 86.331523 \r\nL 667.693715 106.54704 \r\nL 667.87827 113.315231 \r\nL 668.062825 82.680262 \r\nL 668.247381 107.348536 \r\nL 668.431936 87.177547 \r\nL 668.616491 96.127588 \r\nL 668.801046 93.544989 \r\nL 668.985601 88.468846 \r\nL 669.170156 96.127588 \r\nL 669.354711 83.570814 \r\nL 669.539266 88.513374 \r\nL 669.723821 90.160894 \r\nL 669.908376 85.084751 \r\nL 670.092931 86.420578 \r\nL 670.277487 85.84172 \r\nL 670.462042 81.923293 \r\nL 670.831152 85.218334 \r\nL 671.015707 80.854632 \r\nL 671.384817 82.947428 \r\nL 671.569372 79.741442 \r\nL 671.938482 81.967821 \r\nL 672.123037 79.741442 \r\nL 672.307593 79.207112 \r\nL 672.492148 80.320301 \r\nL 672.676703 79.162584 \r\nL 672.861258 78.895419 \r\nL 673.045813 79.385222 \r\nL 673.230368 79.118056 \r\nL 673.414923 78.182978 \r\nL 673.599478 78.628253 \r\nL 673.968588 78.049395 \r\nL 674.153143 78.227505 \r\nL 674.522254 77.871285 \r\nL 674.706809 77.648647 \r\nL 674.891364 77.871285 \r\nL 675.260474 77.515064 \r\nL 675.445029 77.381481 \r\nL 675.629584 77.025261 \r\nL 675.814139 77.114316 \r\nL 676.183249 76.84715 \r\nL 676.367804 77.025261 \r\nL 676.55236 76.980733 \r\nL 676.92147 76.535457 \r\nL 677.106025 76.579985 \r\nL 677.29058 76.446402 \r\nL 677.475135 76.49093 \r\nL 677.65969 76.802623 \r\nL 677.844245 76.802623 \r\nL 678.0288 76.223764 \r\nL 678.213355 76.31282 \r\nL 679.689796 75.644906 \r\nL 679.874351 75.867544 \r\nL 680.243461 75.600378 \r\nL 680.612571 75.511323 \r\nL 680.981682 75.600378 \r\nL 681.166237 75.288685 \r\nL 681.350792 75.377741 \r\nL 681.535347 75.288685 \r\nL 681.719902 75.377741 \r\nL 684.303673 74.84341 \r\nL 684.672783 74.887937 \r\nL 685.041894 74.665299 \r\nL 686.702889 74.175496 \r\nL 687.072 74.041913 \r\nL 687.625665 73.952858 \r\nL 688.732995 73.596638 \r\nL 689.102105 73.507583 \r\nL 690.578546 73.418527 \r\nL 692.977762 72.928724 \r\nL 693.900538 72.839669 \r\nL 696.299754 72.349866 \r\nL 696.668864 72.349866 \r\nL 697.037974 72.216283 \r\nL 698.145305 72.038173 \r\nL 699.06808 71.949118 \r\nL 699.621745 71.90459 \r\nL 699.990856 71.860063 \r\nL 700.359966 71.72648 \r\nL 701.836407 71.637425 \r\nL 702.205517 71.54837 \r\nL 703.312847 71.503842 \r\nL 703.681957 71.414787 \r\nL 704.235623 71.325732 \r\nL 704.789288 71.147621 \r\nL 705.896618 70.969511 \r\nL 706.265729 70.880456 \r\nL 707.373059 70.702346 \r\nL 708.111279 70.657818 \r\nL 708.48039 70.568763 \r\nL 708.8495 70.568763 \r\nL 709.21861 70.479708 \r\nL 712.171491 70.390653 \r\nL 712.909712 70.301598 \r\nL 713.832487 70.25707 \r\nL 714.386152 70.07896 \r\nL 714.939818 70.034432 \r\nL 721.030136 69.945377 \r\nL 722.691131 69.633684 \r\nL 723.060242 69.544629 \r\nL 723.613907 69.455574 \r\nL 723.983017 69.455574 \r\nL 724.536682 69.411046 \r\nL 725.090348 69.411046 \r\nL 725.459458 69.277463 \r\nL 726.197678 69.188408 \r\nL 728.781449 69.099353 \r\nL 730.073335 68.832188 \r\nL 730.442445 68.832188 \r\nL 732.287996 68.743133 \r\nL 732.841661 68.698605 \r\nL 735.979098 68.654077 \r\nL 736.163653 68.565022 \r\nL 736.348208 68.654077 \r\nL 736.532763 68.565022 \r\nL 736.901873 68.565022 \r\nL 737.455538 68.520495 \r\nL 739.116534 68.475967 \r\nL 739.301089 68.386912 \r\nL 739.854755 68.43144 \r\nL 740.962085 68.253329 \r\nL 741.331195 68.253329 \r\nL 741.51575 68.164274 \r\nL 741.700305 68.253329 \r\nL 741.88486 68.164274 \r\nL 742.438526 68.208802 \r\nL 743.176746 68.119747 \r\nL 743.730411 68.075219 \r\nL 743.914966 67.986164 \r\nL 744.284077 68.075219 \r\nL 744.468632 67.941636 \r\nL 744.653187 68.030691 \r\nL 745.391407 67.897109 \r\nL 745.575962 67.986164 \r\nL 745.760517 67.897109 \r\nL 746.129627 67.897109 \r\nL 747.421513 67.852581 \r\nL 747.790623 67.763526 \r\nL 748.897954 67.674471 \r\nL 749.451619 67.629943 \r\nL 750.374395 67.585416 \r\nL 750.55895 67.496361 \r\nL 750.743505 67.585416 \r\nL 750.92806 67.407305 \r\nL 751.112615 67.629943 \r\nL 751.29717 67.451833 \r\nL 751.481725 67.540888 \r\nL 751.66628 67.451833 \r\nL 752.219945 67.540888 \r\nL 752.589056 67.362778 \r\nL 752.773611 67.496361 \r\nL 752.958166 67.362778 \r\nL 753.142721 67.451833 \r\nL 753.511831 67.31825 \r\nL 755.172827 67.229195 \r\nL 755.357382 67.14014 \r\nL 755.726492 67.229195 \r\nL 755.911047 67.095612 \r\nL 756.095602 67.14014 \r\nL 756.280157 67.051085 \r\nL 756.464712 67.14014 \r\nL 756.833823 67.006557 \r\nL 757.202933 67.14014 \r\nL 757.941153 66.96203 \r\nL 758.125708 69.143881 \r\nL 758.494818 146.755436 \r\nL 758.679373 108.996056 \r\nL 758.863929 130.502873 \r\nL 759.048484 120.306059 \r\nL 759.417594 117.278184 \r\nL 759.786704 110.242828 \r\nL 759.971259 114.116727 \r\nL 760.155814 112.112986 \r\nL 760.524924 101.070149 \r\nL 760.709479 99.467156 \r\nL 760.894034 102.227865 \r\nL 761.07859 100.402235 \r\nL 761.263145 96.706447 \r\nL 761.4477 97.908691 \r\nL 761.632255 96.617392 \r\nL 761.81681 92.743493 \r\nL 762.18592 95.504202 \r\nL 762.370475 94.346486 \r\nL 762.739585 89.092232 \r\nL 763.477806 85.173806 \r\nL 763.662361 83.303648 \r\nL 763.846916 83.348176 \r\nL 764.216026 82.947428 \r\nL 764.400581 82.190459 \r\nL 764.954246 78.494671 \r\nL 765.323357 77.470536 \r\nL 765.507912 77.247899 \r\nL 765.692467 76.624513 \r\nL 765.877022 75.333213 \r\nL 766.246132 74.754355 \r\nL 766.430687 74.84341 \r\nL 766.615242 74.709827 \r\nL 766.984352 73.240417 \r\nL 767.168907 73.418527 \r\nL 767.538018 72.795142 \r\nL 767.907128 71.72648 \r\nL 768.091683 71.637425 \r\nL 768.460793 71.281204 \r\nL 768.829903 70.301598 \r\nL 769.383569 70.07896 \r\nL 769.568124 70.07896 \r\nL 770.121789 69.455574 \r\nL 770.675454 69.366519 \r\nL 771.59823 68.78766 \r\nL 772.151895 68.743133 \r\nL 772.70556 68.698605 \r\nL 773.44378 68.43144 \r\nL 775.842997 68.342384 \r\nL 776.027552 68.119747 \r\nL 777.134882 68.030691 \r\nL 778.795878 67.718998 \r\nL 781.564204 67.629943 \r\nL 782.11787 67.585416 \r\nL 784.886196 67.496361 \r\nL 785.439861 67.451833 \r\nL 792.822065 67.362778 \r\nL 793.191175 67.229195 \r\nL 796.882277 67.14014 \r\nL 797.435942 67.095612 \r\nL 803.52626 67.006557 \r\nL 804.079925 66.96203 \r\nL 809.985688 66.872975 \r\nL 810.539353 66.694864 \r\nL 822.719989 66.605809 \r\nL 823.089099 66.516754 \r\nL 832.685964 66.427699 \r\nL 833.239629 66.383171 \r\nL 834.162404 66.294116 \r\nL 834.716069 66.249589 \r\nL 841.544608 66.160534 \r\nL 842.098273 66.116006 \r\nL 845.235709 66.071478 \r\nL 845.60482 65.982423 \r\nL 857.047235 65.893368 \r\nL 857.6009 65.848841 \r\nL 864.983104 65.759785 \r\nL 865.536769 65.715258 \r\nL 880.116621 65.626203 \r\nL 880.670286 65.581675 \r\nL 894.327363 65.49262 \r\nL 894.881028 65.448092 \r\nL 904.108782 65.359037 \r\nL 904.662448 65.31451 \r\nL 918.134969 65.225455 \r\nL 918.134969 65.225455 \r\n\" style=\"fill:none;stroke:#1f77b4;stroke-linecap:square;stroke-width:1.5;\"/>\r\n   </g>\r\n   <g id=\"patch_9\">\r\n    <path d=\"M 530.763068 376.56 \r\nL 530.763068 50.4 \r\n\" style=\"fill:none;stroke:#000000;stroke-linecap:square;stroke-linejoin:miter;stroke-width:0.8;\"/>\r\n   </g>\r\n   <g id=\"patch_10\">\r\n    <path d=\"M 936.58125 376.56 \r\nL 936.58125 50.4 \r\n\" style=\"fill:none;stroke:#000000;stroke-linecap:square;stroke-linejoin:miter;stroke-width:0.8;\"/>\r\n   </g>\r\n   <g id=\"patch_11\">\r\n    <path d=\"M 530.763068 376.56 \r\nL 936.58125 376.56 \r\n\" style=\"fill:none;stroke:#000000;stroke-linecap:square;stroke-linejoin:miter;stroke-width:0.8;\"/>\r\n   </g>\r\n   <g id=\"patch_12\">\r\n    <path d=\"M 530.763068 50.4 \r\nL 936.58125 50.4 \r\n\" style=\"fill:none;stroke:#000000;stroke-linecap:square;stroke-linejoin:miter;stroke-width:0.8;\"/>\r\n   </g>\r\n   <g id=\"legend_2\">\r\n    <g id=\"patch_13\">\r\n     <path d=\"M 537.763068 73.078125 \r\nL 593.038068 73.078125 \r\nQ 595.038068 73.078125 595.038068 71.078125 \r\nL 595.038068 57.4 \r\nQ 595.038068 55.4 593.038068 55.4 \r\nL 537.763068 55.4 \r\nQ 535.763068 55.4 535.763068 57.4 \r\nL 535.763068 71.078125 \r\nQ 535.763068 73.078125 537.763068 73.078125 \r\nz\r\n\" style=\"fill:#ffffff;opacity:0.8;stroke:#cccccc;stroke-linejoin:miter;\"/>\r\n    </g>\r\n    <g id=\"line2d_35\">\r\n     <path d=\"M 539.763068 63.498437 \r\nL 559.763068 63.498437 \r\n\" style=\"fill:none;stroke:#1f77b4;stroke-linecap:square;stroke-width:1.5;\"/>\r\n    </g>\r\n    <g id=\"line2d_36\"/>\r\n    <g id=\"text_36\">\r\n     <!-- train -->\r\n     <g transform=\"translate(567.763068 66.998437)scale(0.1 -0.1)\">\r\n      <use xlink:href=\"#DejaVuSans-116\"/>\r\n      <use x=\"39.208984\" xlink:href=\"#DejaVuSans-114\"/>\r\n      <use x=\"80.322266\" xlink:href=\"#DejaVuSans-97\"/>\r\n      <use x=\"141.601562\" xlink:href=\"#DejaVuSans-105\"/>\r\n      <use x=\"169.384766\" xlink:href=\"#DejaVuSans-110\"/>\r\n     </g>\r\n    </g>\r\n   </g>\r\n  </g>\r\n  <g id=\"text_37\">\r\n   <!-- Loss and accuracy -->\r\n   <g transform=\"translate(420.447187 16.318125)scale(0.12 -0.12)\">\r\n    <defs>\r\n     <path d=\"M 9.8125 72.90625 \r\nL 19.671875 72.90625 \r\nL 19.671875 8.296875 \r\nL 55.171875 8.296875 \r\nL 55.171875 0 \r\nL 9.8125 0 \r\nz\r\n\" id=\"DejaVuSans-76\"/>\r\n     <path d=\"M 45.40625 46.390625 \r\nL 45.40625 75.984375 \r\nL 54.390625 75.984375 \r\nL 54.390625 0 \r\nL 45.40625 0 \r\nL 45.40625 8.203125 \r\nQ 42.578125 3.328125 38.25 0.953125 \r\nQ 33.9375 -1.421875 27.875 -1.421875 \r\nQ 17.96875 -1.421875 11.734375 6.484375 \r\nQ 5.515625 14.40625 5.515625 27.296875 \r\nQ 5.515625 40.1875 11.734375 48.09375 \r\nQ 17.96875 56 27.875 56 \r\nQ 33.9375 56 38.25 53.625 \r\nQ 42.578125 51.265625 45.40625 46.390625 \r\nz\r\nM 14.796875 27.296875 \r\nQ 14.796875 17.390625 18.875 11.75 \r\nQ 22.953125 6.109375 30.078125 6.109375 \r\nQ 37.203125 6.109375 41.296875 11.75 \r\nQ 45.40625 17.390625 45.40625 27.296875 \r\nQ 45.40625 37.203125 41.296875 42.84375 \r\nQ 37.203125 48.484375 30.078125 48.484375 \r\nQ 22.953125 48.484375 18.875 42.84375 \r\nQ 14.796875 37.203125 14.796875 27.296875 \r\nz\r\n\" id=\"DejaVuSans-100\"/>\r\n    </defs>\r\n    <use xlink:href=\"#DejaVuSans-76\"/>\r\n    <use x=\"53.962891\" xlink:href=\"#DejaVuSans-111\"/>\r\n    <use x=\"115.144531\" xlink:href=\"#DejaVuSans-115\"/>\r\n    <use x=\"167.244141\" xlink:href=\"#DejaVuSans-115\"/>\r\n    <use x=\"219.34375\" xlink:href=\"#DejaVuSans-32\"/>\r\n    <use x=\"251.130859\" xlink:href=\"#DejaVuSans-97\"/>\r\n    <use x=\"312.410156\" xlink:href=\"#DejaVuSans-110\"/>\r\n    <use x=\"375.789062\" xlink:href=\"#DejaVuSans-100\"/>\r\n    <use x=\"439.265625\" xlink:href=\"#DejaVuSans-32\"/>\r\n    <use x=\"471.052734\" xlink:href=\"#DejaVuSans-97\"/>\r\n    <use x=\"532.332031\" xlink:href=\"#DejaVuSans-99\"/>\r\n    <use x=\"587.3125\" xlink:href=\"#DejaVuSans-99\"/>\r\n    <use x=\"642.292969\" xlink:href=\"#DejaVuSans-117\"/>\r\n    <use x=\"705.671875\" xlink:href=\"#DejaVuSans-114\"/>\r\n    <use x=\"746.785156\" xlink:href=\"#DejaVuSans-97\"/>\r\n    <use x=\"808.064453\" xlink:href=\"#DejaVuSans-99\"/>\r\n    <use x=\"863.044922\" xlink:href=\"#DejaVuSans-121\"/>\r\n   </g>\r\n  </g>\r\n </g>\r\n <defs>\r\n  <clipPath id=\"p658508d84f\">\r\n   <rect height=\"326.16\" width=\"405.818182\" x=\"43.78125\" y=\"50.4\"/>\r\n  </clipPath>\r\n  <clipPath id=\"pcba5efc2b6\">\r\n   <rect height=\"326.16\" width=\"405.818182\" x=\"530.763068\" y=\"50.4\"/>\r\n  </clipPath>\r\n </defs>\r\n</svg>\r\n",
      "image/png": "[encoded data removed]"
     },
     "metadata": {
      "needs_background": "light"
     }
    }
   ],
   "source": [
    "print(Model)\n",
    "plot_loss_and_accuracy(losses, accs)\n",
    "print(accs[-1])"
   ]
  },
  {
   "cell_type": "code",
   "execution_count": 49,
   "metadata": {},
   "outputs": [],
   "source": [
    "# Rodando o Modelo treinado com o Dataset de Teste\n",
    "data_test = (torch.FloatTensor(X_test), torch.LongTensor(Y_test))\n",
    "X_test_tensor, Y_test_tensor = data_test\n",
    "\n",
    "if CUDA_flag: # usar GPU?\n",
    "      X_test_tensor = X_test_tensor.cuda()\n",
    "      \n",
    "Y_pred_tensor = Model.forward(X_test_tensor) \n",
    "\n",
    "# hard-decision e pós-processamento da saída\n",
    "y_pred = torch.argmax(Y_pred_tensor, dim=1)\n",
    "y_pred = y_pred.float()\n",
    "y_true = torch.squeeze(Y_test_tensor) \n",
    "y_pred = torch.squeeze(y_pred)"
   ]
  },
  {
   "cell_type": "code",
   "execution_count": 50,
   "metadata": {},
   "outputs": [
    {
     "output_type": "display_data",
     "data": {
      "text/plain": "<Figure size 792x792 with 2 Axes>",
      "image/svg+xml": "<?xml version=\"1.0\" encoding=\"utf-8\" standalone=\"no\"?>\r\n<!DOCTYPE svg PUBLIC \"-//W3C//DTD SVG 1.1//EN\"\r\n  \"http://www.w3.org/Graphics/SVG/1.1/DTD/svg11.dtd\">\r\n<!-- Created with matplotlib (https://matplotlib.org/) -->\r\n<svg height=\"618.238906pt\" version=\"1.1\" viewBox=\"0 0 646.688937 618.238906\" width=\"646.688937pt\" xmlns=\"http://www.w3.org/2000/svg\" xmlns:xlink=\"http://www.w3.org/1999/xlink\">\r\n <metadata>\r\n  <rdf:RDF xmlns:cc=\"http://creativecommons.org/ns#\" xmlns:dc=\"http://purl.org/dc/elements/1.1/\" xmlns:rdf=\"http://www.w3.org/1999/02/22-rdf-syntax-ns#\">\r\n   <cc:Work>\r\n    <dc:type rdf:resource=\"http://purl.org/dc/dcmitype/StillImage\"/>\r\n    <dc:date>2021-05-04T18:54:26.355748</dc:date>\r\n    <dc:format>image/svg+xml</dc:format>\r\n    <dc:creator>\r\n     <cc:Agent>\r\n      <dc:title>Matplotlib v3.3.2, https://matplotlib.org/</dc:title>\r\n     </cc:Agent>\r\n    </dc:creator>\r\n   </cc:Work>\r\n  </rdf:RDF>\r\n </metadata>\r\n <defs>\r\n  <style type=\"text/css\">*{stroke-linecap:butt;stroke-linejoin:round;}</style>\r\n </defs>\r\n <g id=\"figure_1\">\r\n  <g id=\"patch_1\">\r\n   <path d=\"M -0 618.238906 \r\nL 646.688937 618.238906 \r\nL 646.688937 0 \r\nL -0 0 \r\nz\r\n\" style=\"fill:none;\"/>\r\n  </g>\r\n  <g id=\"axes_1\">\r\n   <g id=\"patch_2\">\r\n    <path d=\"M 68.135938 551.7 \r\nL 559.175938 551.7 \r\nL 559.175938 60.66 \r\nL 68.135938 60.66 \r\nz\r\n\" style=\"fill:#ffffff;\"/>\r\n   </g>\r\n   <g clip-path=\"url(#p00f1604787)\">\r\n    <image height=\"492\" id=\"imagefe85222c69\" transform=\"scale(1 -1)translate(0 -492)\" width=\"492\" x=\"68.135938\" xlink:href=\"data:image/png;base64,\r\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\" y=\"-59.7\"/>\r\n   </g>\r\n   <g id=\"matplotlib.axis_1\">\r\n    <g id=\"xtick_1\">\r\n     <g id=\"line2d_1\">\r\n      <defs>\r\n       <path d=\"M 0 0 \r\nL 0 3.5 \r\n\" id=\"m231701f3f8\" style=\"stroke:#000000;stroke-width:0.8;\"/>\r\n      </defs>\r\n      <g>\r\n       <use style=\"stroke:#000000;stroke-width:0.8;\" x=\"109.055938\" xlink:href=\"#m231701f3f8\" y=\"551.7\"/>\r\n      </g>\r\n     </g>\r\n     <g id=\"text_1\">\r\n      <!-- angry -->\r\n      <g transform=\"translate(94.634063 566.298437)scale(0.1 -0.1)\">\r\n       <defs>\r\n        <path d=\"M 34.28125 27.484375 \r\nQ 23.390625 27.484375 19.1875 25 \r\nQ 14.984375 22.515625 14.984375 16.5 \r\nQ 14.984375 11.71875 18.140625 8.90625 \r\nQ 21.296875 6.109375 26.703125 6.109375 \r\nQ 34.1875 6.109375 38.703125 11.40625 \r\nQ 43.21875 16.703125 43.21875 25.484375 \r\nL 43.21875 27.484375 \r\nz\r\nM 52.203125 31.203125 \r\nL 52.203125 0 \r\nL 43.21875 0 \r\nL 43.21875 8.296875 \r\nQ 40.140625 3.328125 35.546875 0.953125 \r\nQ 30.953125 -1.421875 24.3125 -1.421875 \r\nQ 15.921875 -1.421875 10.953125 3.296875 \r\nQ 6 8.015625 6 15.921875 \r\nQ 6 25.140625 12.171875 29.828125 \r\nQ 18.359375 34.515625 30.609375 34.515625 \r\nL 43.21875 34.515625 \r\nL 43.21875 35.40625 \r\nQ 43.21875 41.609375 39.140625 45 \r\nQ 35.0625 48.390625 27.6875 48.390625 \r\nQ 23 48.390625 18.546875 47.265625 \r\nQ 14.109375 46.140625 10.015625 43.890625 \r\nL 10.015625 52.203125 \r\nQ 14.9375 54.109375 19.578125 55.046875 \r\nQ 24.21875 56 28.609375 56 \r\nQ 40.484375 56 46.34375 49.84375 \r\nQ 52.203125 43.703125 52.203125 31.203125 \r\nz\r\n\" id=\"DejaVuSans-97\"/>\r\n        <path d=\"M 54.890625 33.015625 \r\nL 54.890625 0 \r\nL 45.90625 0 \r\nL 45.90625 32.71875 \r\nQ 45.90625 40.484375 42.875 44.328125 \r\nQ 39.84375 48.1875 33.796875 48.1875 \r\nQ 26.515625 48.1875 22.3125 43.546875 \r\nQ 18.109375 38.921875 18.109375 30.90625 \r\nL 18.109375 0 \r\nL 9.078125 0 \r\nL 9.078125 54.6875 \r\nL 18.109375 54.6875 \r\nL 18.109375 46.1875 \r\nQ 21.34375 51.125 25.703125 53.5625 \r\nQ 30.078125 56 35.796875 56 \r\nQ 45.21875 56 50.046875 50.171875 \r\nQ 54.890625 44.34375 54.890625 33.015625 \r\nz\r\n\" id=\"DejaVuSans-110\"/>\r\n        <path d=\"M 45.40625 27.984375 \r\nQ 45.40625 37.75 41.375 43.109375 \r\nQ 37.359375 48.484375 30.078125 48.484375 \r\nQ 22.859375 48.484375 18.828125 43.109375 \r\nQ 14.796875 37.75 14.796875 27.984375 \r\nQ 14.796875 18.265625 18.828125 12.890625 \r\nQ 22.859375 7.515625 30.078125 7.515625 \r\nQ 37.359375 7.515625 41.375 12.890625 \r\nQ 45.40625 18.265625 45.40625 27.984375 \r\nz\r\nM 54.390625 6.78125 \r\nQ 54.390625 -7.171875 48.1875 -13.984375 \r\nQ 42 -20.796875 29.203125 -20.796875 \r\nQ 24.46875 -20.796875 20.265625 -20.09375 \r\nQ 16.0625 -19.390625 12.109375 -17.921875 \r\nL 12.109375 -9.1875 \r\nQ 16.0625 -11.328125 19.921875 -12.34375 \r\nQ 23.78125 -13.375 27.78125 -13.375 \r\nQ 36.625 -13.375 41.015625 -8.765625 \r\nQ 45.40625 -4.15625 45.40625 5.171875 \r\nL 45.40625 9.625 \r\nQ 42.625 4.78125 38.28125 2.390625 \r\nQ 33.9375 0 27.875 0 \r\nQ 17.828125 0 11.671875 7.65625 \r\nQ 5.515625 15.328125 5.515625 27.984375 \r\nQ 5.515625 40.671875 11.671875 48.328125 \r\nQ 17.828125 56 27.875 56 \r\nQ 33.9375 56 38.28125 53.609375 \r\nQ 42.625 51.21875 45.40625 46.390625 \r\nL 45.40625 54.6875 \r\nL 54.390625 54.6875 \r\nz\r\n\" id=\"DejaVuSans-103\"/>\r\n        <path d=\"M 41.109375 46.296875 \r\nQ 39.59375 47.171875 37.8125 47.578125 \r\nQ 36.03125 48 33.890625 48 \r\nQ 26.265625 48 22.1875 43.046875 \r\nQ 18.109375 38.09375 18.109375 28.8125 \r\nL 18.109375 0 \r\nL 9.078125 0 \r\nL 9.078125 54.6875 \r\nL 18.109375 54.6875 \r\nL 18.109375 46.1875 \r\nQ 20.953125 51.171875 25.484375 53.578125 \r\nQ 30.03125 56 36.53125 56 \r\nQ 37.453125 56 38.578125 55.875 \r\nQ 39.703125 55.765625 41.0625 55.515625 \r\nz\r\n\" id=\"DejaVuSans-114\"/>\r\n        <path d=\"M 32.171875 -5.078125 \r\nQ 28.375 -14.84375 24.75 -17.8125 \r\nQ 21.140625 -20.796875 15.09375 -20.796875 \r\nL 7.90625 -20.796875 \r\nL 7.90625 -13.28125 \r\nL 13.1875 -13.28125 \r\nQ 16.890625 -13.28125 18.9375 -11.515625 \r\nQ 21 -9.765625 23.484375 -3.21875 \r\nL 25.09375 0.875 \r\nL 2.984375 54.6875 \r\nL 12.5 54.6875 \r\nL 29.59375 11.921875 \r\nL 46.6875 54.6875 \r\nL 56.203125 54.6875 \r\nz\r\n\" id=\"DejaVuSans-121\"/>\r\n       </defs>\r\n       <use xlink:href=\"#DejaVuSans-97\"/>\r\n       <use x=\"61.279297\" xlink:href=\"#DejaVuSans-110\"/>\r\n       <use x=\"124.658203\" xlink:href=\"#DejaVuSans-103\"/>\r\n       <use x=\"188.134766\" xlink:href=\"#DejaVuSans-114\"/>\r\n       <use x=\"229.248047\" xlink:href=\"#DejaVuSans-121\"/>\r\n      </g>\r\n     </g>\r\n    </g>\r\n    <g id=\"xtick_2\">\r\n     <g id=\"line2d_2\">\r\n      <g>\r\n       <use style=\"stroke:#000000;stroke-width:0.8;\" x=\"190.895938\" xlink:href=\"#m231701f3f8\" y=\"551.7\"/>\r\n      </g>\r\n     </g>\r\n     <g id=\"text_2\">\r\n      <!-- disgust -->\r\n      <g transform=\"translate(172.820156 566.298437)scale(0.1 -0.1)\">\r\n       <defs>\r\n        <path d=\"M 45.40625 46.390625 \r\nL 45.40625 75.984375 \r\nL 54.390625 75.984375 \r\nL 54.390625 0 \r\nL 45.40625 0 \r\nL 45.40625 8.203125 \r\nQ 42.578125 3.328125 38.25 0.953125 \r\nQ 33.9375 -1.421875 27.875 -1.421875 \r\nQ 17.96875 -1.421875 11.734375 6.484375 \r\nQ 5.515625 14.40625 5.515625 27.296875 \r\nQ 5.515625 40.1875 11.734375 48.09375 \r\nQ 17.96875 56 27.875 56 \r\nQ 33.9375 56 38.25 53.625 \r\nQ 42.578125 51.265625 45.40625 46.390625 \r\nz\r\nM 14.796875 27.296875 \r\nQ 14.796875 17.390625 18.875 11.75 \r\nQ 22.953125 6.109375 30.078125 6.109375 \r\nQ 37.203125 6.109375 41.296875 11.75 \r\nQ 45.40625 17.390625 45.40625 27.296875 \r\nQ 45.40625 37.203125 41.296875 42.84375 \r\nQ 37.203125 48.484375 30.078125 48.484375 \r\nQ 22.953125 48.484375 18.875 42.84375 \r\nQ 14.796875 37.203125 14.796875 27.296875 \r\nz\r\n\" id=\"DejaVuSans-100\"/>\r\n        <path d=\"M 9.421875 54.6875 \r\nL 18.40625 54.6875 \r\nL 18.40625 0 \r\nL 9.421875 0 \r\nz\r\nM 9.421875 75.984375 \r\nL 18.40625 75.984375 \r\nL 18.40625 64.59375 \r\nL 9.421875 64.59375 \r\nz\r\n\" id=\"DejaVuSans-105\"/>\r\n        <path d=\"M 44.28125 53.078125 \r\nL 44.28125 44.578125 \r\nQ 40.484375 46.53125 36.375 47.5 \r\nQ 32.28125 48.484375 27.875 48.484375 \r\nQ 21.1875 48.484375 17.84375 46.4375 \r\nQ 14.5 44.390625 14.5 40.28125 \r\nQ 14.5 37.15625 16.890625 35.375 \r\nQ 19.28125 33.59375 26.515625 31.984375 \r\nL 29.59375 31.296875 \r\nQ 39.15625 29.25 43.1875 25.515625 \r\nQ 47.21875 21.78125 47.21875 15.09375 \r\nQ 47.21875 7.46875 41.1875 3.015625 \r\nQ 35.15625 -1.421875 24.609375 -1.421875 \r\nQ 20.21875 -1.421875 15.453125 -0.5625 \r\nQ 10.6875 0.296875 5.421875 2 \r\nL 5.421875 11.28125 \r\nQ 10.40625 8.6875 15.234375 7.390625 \r\nQ 20.0625 6.109375 24.8125 6.109375 \r\nQ 31.15625 6.109375 34.5625 8.28125 \r\nQ 37.984375 10.453125 37.984375 14.40625 \r\nQ 37.984375 18.0625 35.515625 20.015625 \r\nQ 33.0625 21.96875 24.703125 23.78125 \r\nL 21.578125 24.515625 \r\nQ 13.234375 26.265625 9.515625 29.90625 \r\nQ 5.8125 33.546875 5.8125 39.890625 \r\nQ 5.8125 47.609375 11.28125 51.796875 \r\nQ 16.75 56 26.8125 56 \r\nQ 31.78125 56 36.171875 55.265625 \r\nQ 40.578125 54.546875 44.28125 53.078125 \r\nz\r\n\" id=\"DejaVuSans-115\"/>\r\n        <path d=\"M 8.5 21.578125 \r\nL 8.5 54.6875 \r\nL 17.484375 54.6875 \r\nL 17.484375 21.921875 \r\nQ 17.484375 14.15625 20.5 10.265625 \r\nQ 23.53125 6.390625 29.59375 6.390625 \r\nQ 36.859375 6.390625 41.078125 11.03125 \r\nQ 45.3125 15.671875 45.3125 23.6875 \r\nL 45.3125 54.6875 \r\nL 54.296875 54.6875 \r\nL 54.296875 0 \r\nL 45.3125 0 \r\nL 45.3125 8.40625 \r\nQ 42.046875 3.421875 37.71875 1 \r\nQ 33.40625 -1.421875 27.6875 -1.421875 \r\nQ 18.265625 -1.421875 13.375 4.4375 \r\nQ 8.5 10.296875 8.5 21.578125 \r\nz\r\nM 31.109375 56 \r\nz\r\n\" id=\"DejaVuSans-117\"/>\r\n        <path d=\"M 18.3125 70.21875 \r\nL 18.3125 54.6875 \r\nL 36.8125 54.6875 \r\nL 36.8125 47.703125 \r\nL 18.3125 47.703125 \r\nL 18.3125 18.015625 \r\nQ 18.3125 11.328125 20.140625 9.421875 \r\nQ 21.96875 7.515625 27.59375 7.515625 \r\nL 36.8125 7.515625 \r\nL 36.8125 0 \r\nL 27.59375 0 \r\nQ 17.1875 0 13.234375 3.875 \r\nQ 9.28125 7.765625 9.28125 18.015625 \r\nL 9.28125 47.703125 \r\nL 2.6875 47.703125 \r\nL 2.6875 54.6875 \r\nL 9.28125 54.6875 \r\nL 9.28125 70.21875 \r\nz\r\n\" id=\"DejaVuSans-116\"/>\r\n       </defs>\r\n       <use xlink:href=\"#DejaVuSans-100\"/>\r\n       <use x=\"63.476562\" xlink:href=\"#DejaVuSans-105\"/>\r\n       <use x=\"91.259766\" xlink:href=\"#DejaVuSans-115\"/>\r\n       <use x=\"143.359375\" xlink:href=\"#DejaVuSans-103\"/>\r\n       <use x=\"206.835938\" xlink:href=\"#DejaVuSans-117\"/>\r\n       <use x=\"270.214844\" xlink:href=\"#DejaVuSans-115\"/>\r\n       <use x=\"322.314453\" xlink:href=\"#DejaVuSans-116\"/>\r\n      </g>\r\n     </g>\r\n    </g>\r\n    <g id=\"xtick_3\">\r\n     <g id=\"line2d_3\">\r\n      <g>\r\n       <use style=\"stroke:#000000;stroke-width:0.8;\" x=\"272.735938\" xlink:href=\"#m231701f3f8\" y=\"551.7\"/>\r\n      </g>\r\n     </g>\r\n     <g id=\"text_3\">\r\n      <!-- fear -->\r\n      <g transform=\"translate(262.779688 566.298437)scale(0.1 -0.1)\">\r\n       <defs>\r\n        <path d=\"M 37.109375 75.984375 \r\nL 37.109375 68.5 \r\nL 28.515625 68.5 \r\nQ 23.6875 68.5 21.796875 66.546875 \r\nQ 19.921875 64.59375 19.921875 59.515625 \r\nL 19.921875 54.6875 \r\nL 34.71875 54.6875 \r\nL 34.71875 47.703125 \r\nL 19.921875 47.703125 \r\nL 19.921875 0 \r\nL 10.890625 0 \r\nL 10.890625 47.703125 \r\nL 2.296875 47.703125 \r\nL 2.296875 54.6875 \r\nL 10.890625 54.6875 \r\nL 10.890625 58.5 \r\nQ 10.890625 67.625 15.140625 71.796875 \r\nQ 19.390625 75.984375 28.609375 75.984375 \r\nz\r\n\" id=\"DejaVuSans-102\"/>\r\n        <path d=\"M 56.203125 29.59375 \r\nL 56.203125 25.203125 \r\nL 14.890625 25.203125 \r\nQ 15.484375 15.921875 20.484375 11.0625 \r\nQ 25.484375 6.203125 34.421875 6.203125 \r\nQ 39.59375 6.203125 44.453125 7.46875 \r\nQ 49.3125 8.734375 54.109375 11.28125 \r\nL 54.109375 2.78125 \r\nQ 49.265625 0.734375 44.1875 -0.34375 \r\nQ 39.109375 -1.421875 33.890625 -1.421875 \r\nQ 20.796875 -1.421875 13.15625 6.1875 \r\nQ 5.515625 13.8125 5.515625 26.8125 \r\nQ 5.515625 40.234375 12.765625 48.109375 \r\nQ 20.015625 56 32.328125 56 \r\nQ 43.359375 56 49.78125 48.890625 \r\nQ 56.203125 41.796875 56.203125 29.59375 \r\nz\r\nM 47.21875 32.234375 \r\nQ 47.125 39.59375 43.09375 43.984375 \r\nQ 39.0625 48.390625 32.421875 48.390625 \r\nQ 24.90625 48.390625 20.390625 44.140625 \r\nQ 15.875 39.890625 15.1875 32.171875 \r\nz\r\n\" id=\"DejaVuSans-101\"/>\r\n       </defs>\r\n       <use xlink:href=\"#DejaVuSans-102\"/>\r\n       <use x=\"35.205078\" xlink:href=\"#DejaVuSans-101\"/>\r\n       <use x=\"96.728516\" xlink:href=\"#DejaVuSans-97\"/>\r\n       <use x=\"158.007812\" xlink:href=\"#DejaVuSans-114\"/>\r\n      </g>\r\n     </g>\r\n    </g>\r\n    <g id=\"xtick_4\">\r\n     <g id=\"line2d_4\">\r\n      <g>\r\n       <use style=\"stroke:#000000;stroke-width:0.8;\" x=\"354.575938\" xlink:href=\"#m231701f3f8\" y=\"551.7\"/>\r\n      </g>\r\n     </g>\r\n     <g id=\"text_4\">\r\n      <!-- happy -->\r\n      <g transform=\"translate(339.035313 566.298437)scale(0.1 -0.1)\">\r\n       <defs>\r\n        <path d=\"M 54.890625 33.015625 \r\nL 54.890625 0 \r\nL 45.90625 0 \r\nL 45.90625 32.71875 \r\nQ 45.90625 40.484375 42.875 44.328125 \r\nQ 39.84375 48.1875 33.796875 48.1875 \r\nQ 26.515625 48.1875 22.3125 43.546875 \r\nQ 18.109375 38.921875 18.109375 30.90625 \r\nL 18.109375 0 \r\nL 9.078125 0 \r\nL 9.078125 75.984375 \r\nL 18.109375 75.984375 \r\nL 18.109375 46.1875 \r\nQ 21.34375 51.125 25.703125 53.5625 \r\nQ 30.078125 56 35.796875 56 \r\nQ 45.21875 56 50.046875 50.171875 \r\nQ 54.890625 44.34375 54.890625 33.015625 \r\nz\r\n\" id=\"DejaVuSans-104\"/>\r\n        <path d=\"M 18.109375 8.203125 \r\nL 18.109375 -20.796875 \r\nL 9.078125 -20.796875 \r\nL 9.078125 54.6875 \r\nL 18.109375 54.6875 \r\nL 18.109375 46.390625 \r\nQ 20.953125 51.265625 25.265625 53.625 \r\nQ 29.59375 56 35.59375 56 \r\nQ 45.5625 56 51.78125 48.09375 \r\nQ 58.015625 40.1875 58.015625 27.296875 \r\nQ 58.015625 14.40625 51.78125 6.484375 \r\nQ 45.5625 -1.421875 35.59375 -1.421875 \r\nQ 29.59375 -1.421875 25.265625 0.953125 \r\nQ 20.953125 3.328125 18.109375 8.203125 \r\nz\r\nM 48.6875 27.296875 \r\nQ 48.6875 37.203125 44.609375 42.84375 \r\nQ 40.53125 48.484375 33.40625 48.484375 \r\nQ 26.265625 48.484375 22.1875 42.84375 \r\nQ 18.109375 37.203125 18.109375 27.296875 \r\nQ 18.109375 17.390625 22.1875 11.75 \r\nQ 26.265625 6.109375 33.40625 6.109375 \r\nQ 40.53125 6.109375 44.609375 11.75 \r\nQ 48.6875 17.390625 48.6875 27.296875 \r\nz\r\n\" id=\"DejaVuSans-112\"/>\r\n       </defs>\r\n       <use xlink:href=\"#DejaVuSans-104\"/>\r\n       <use x=\"63.378906\" xlink:href=\"#DejaVuSans-97\"/>\r\n       <use x=\"124.658203\" xlink:href=\"#DejaVuSans-112\"/>\r\n       <use x=\"188.134766\" xlink:href=\"#DejaVuSans-112\"/>\r\n       <use x=\"251.611328\" xlink:href=\"#DejaVuSans-121\"/>\r\n      </g>\r\n     </g>\r\n    </g>\r\n    <g id=\"xtick_5\">\r\n     <g id=\"line2d_5\">\r\n      <g>\r\n       <use style=\"stroke:#000000;stroke-width:0.8;\" x=\"436.415938\" xlink:href=\"#m231701f3f8\" y=\"551.7\"/>\r\n      </g>\r\n     </g>\r\n     <g id=\"text_5\">\r\n      <!-- sad -->\r\n      <g transform=\"translate(427.572969 566.298437)scale(0.1 -0.1)\">\r\n       <use xlink:href=\"#DejaVuSans-115\"/>\r\n       <use x=\"52.099609\" xlink:href=\"#DejaVuSans-97\"/>\r\n       <use x=\"113.378906\" xlink:href=\"#DejaVuSans-100\"/>\r\n      </g>\r\n     </g>\r\n    </g>\r\n    <g id=\"xtick_6\">\r\n     <g id=\"line2d_6\">\r\n      <g>\r\n       <use style=\"stroke:#000000;stroke-width:0.8;\" x=\"518.255938\" xlink:href=\"#m231701f3f8\" y=\"551.7\"/>\r\n      </g>\r\n     </g>\r\n     <g id=\"text_6\">\r\n      <!-- surprise -->\r\n      <g transform=\"translate(498.127031 566.298437)scale(0.1 -0.1)\">\r\n       <use xlink:href=\"#DejaVuSans-115\"/>\r\n       <use x=\"52.099609\" xlink:href=\"#DejaVuSans-117\"/>\r\n       <use x=\"115.478516\" xlink:href=\"#DejaVuSans-114\"/>\r\n       <use x=\"156.591797\" xlink:href=\"#DejaVuSans-112\"/>\r\n       <use x=\"220.068359\" xlink:href=\"#DejaVuSans-114\"/>\r\n       <use x=\"261.181641\" xlink:href=\"#DejaVuSans-105\"/>\r\n       <use x=\"288.964844\" xlink:href=\"#DejaVuSans-115\"/>\r\n       <use x=\"341.064453\" xlink:href=\"#DejaVuSans-101\"/>\r\n      </g>\r\n     </g>\r\n    </g>\r\n    <g id=\"text_7\">\r\n     <!-- Predicted label -->\r\n     <g transform=\"translate(276.503594 579.976562)scale(0.1 -0.1)\">\r\n      <defs>\r\n       <path d=\"M 19.671875 64.796875 \r\nL 19.671875 37.40625 \r\nL 32.078125 37.40625 \r\nQ 38.96875 37.40625 42.71875 40.96875 \r\nQ 46.484375 44.53125 46.484375 51.125 \r\nQ 46.484375 57.671875 42.71875 61.234375 \r\nQ 38.96875 64.796875 32.078125 64.796875 \r\nz\r\nM 9.8125 72.90625 \r\nL 32.078125 72.90625 \r\nQ 44.34375 72.90625 50.609375 67.359375 \r\nQ 56.890625 61.8125 56.890625 51.125 \r\nQ 56.890625 40.328125 50.609375 34.8125 \r\nQ 44.34375 29.296875 32.078125 29.296875 \r\nL 19.671875 29.296875 \r\nL 19.671875 0 \r\nL 9.8125 0 \r\nz\r\n\" id=\"DejaVuSans-80\"/>\r\n       <path d=\"M 48.78125 52.59375 \r\nL 48.78125 44.1875 \r\nQ 44.96875 46.296875 41.140625 47.34375 \r\nQ 37.3125 48.390625 33.40625 48.390625 \r\nQ 24.65625 48.390625 19.8125 42.84375 \r\nQ 14.984375 37.3125 14.984375 27.296875 \r\nQ 14.984375 17.28125 19.8125 11.734375 \r\nQ 24.65625 6.203125 33.40625 6.203125 \r\nQ 37.3125 6.203125 41.140625 7.25 \r\nQ 44.96875 8.296875 48.78125 10.40625 \r\nL 48.78125 2.09375 \r\nQ 45.015625 0.34375 40.984375 -0.53125 \r\nQ 36.96875 -1.421875 32.421875 -1.421875 \r\nQ 20.0625 -1.421875 12.78125 6.34375 \r\nQ 5.515625 14.109375 5.515625 27.296875 \r\nQ 5.515625 40.671875 12.859375 48.328125 \r\nQ 20.21875 56 33.015625 56 \r\nQ 37.15625 56 41.109375 55.140625 \r\nQ 45.0625 54.296875 48.78125 52.59375 \r\nz\r\n\" id=\"DejaVuSans-99\"/>\r\n       <path id=\"DejaVuSans-32\"/>\r\n       <path d=\"M 9.421875 75.984375 \r\nL 18.40625 75.984375 \r\nL 18.40625 0 \r\nL 9.421875 0 \r\nz\r\n\" id=\"DejaVuSans-108\"/>\r\n       <path d=\"M 48.6875 27.296875 \r\nQ 48.6875 37.203125 44.609375 42.84375 \r\nQ 40.53125 48.484375 33.40625 48.484375 \r\nQ 26.265625 48.484375 22.1875 42.84375 \r\nQ 18.109375 37.203125 18.109375 27.296875 \r\nQ 18.109375 17.390625 22.1875 11.75 \r\nQ 26.265625 6.109375 33.40625 6.109375 \r\nQ 40.53125 6.109375 44.609375 11.75 \r\nQ 48.6875 17.390625 48.6875 27.296875 \r\nz\r\nM 18.109375 46.390625 \r\nQ 20.953125 51.265625 25.265625 53.625 \r\nQ 29.59375 56 35.59375 56 \r\nQ 45.5625 56 51.78125 48.09375 \r\nQ 58.015625 40.1875 58.015625 27.296875 \r\nQ 58.015625 14.40625 51.78125 6.484375 \r\nQ 45.5625 -1.421875 35.59375 -1.421875 \r\nQ 29.59375 -1.421875 25.265625 0.953125 \r\nQ 20.953125 3.328125 18.109375 8.203125 \r\nL 18.109375 0 \r\nL 9.078125 0 \r\nL 9.078125 75.984375 \r\nL 18.109375 75.984375 \r\nz\r\n\" id=\"DejaVuSans-98\"/>\r\n      </defs>\r\n      <use xlink:href=\"#DejaVuSans-80\"/>\r\n      <use x=\"58.552734\" xlink:href=\"#DejaVuSans-114\"/>\r\n      <use x=\"97.416016\" xlink:href=\"#DejaVuSans-101\"/>\r\n      <use x=\"158.939453\" xlink:href=\"#DejaVuSans-100\"/>\r\n      <use x=\"222.416016\" xlink:href=\"#DejaVuSans-105\"/>\r\n      <use x=\"250.199219\" xlink:href=\"#DejaVuSans-99\"/>\r\n      <use x=\"305.179688\" xlink:href=\"#DejaVuSans-116\"/>\r\n      <use x=\"344.388672\" xlink:href=\"#DejaVuSans-101\"/>\r\n      <use x=\"405.912109\" xlink:href=\"#DejaVuSans-100\"/>\r\n      <use x=\"469.388672\" xlink:href=\"#DejaVuSans-32\"/>\r\n      <use x=\"501.175781\" xlink:href=\"#DejaVuSans-108\"/>\r\n      <use x=\"528.958984\" xlink:href=\"#DejaVuSans-97\"/>\r\n      <use x=\"590.238281\" xlink:href=\"#DejaVuSans-98\"/>\r\n      <use x=\"653.714844\" xlink:href=\"#DejaVuSans-101\"/>\r\n      <use x=\"715.238281\" xlink:href=\"#DejaVuSans-108\"/>\r\n     </g>\r\n    </g>\r\n   </g>\r\n   <g id=\"matplotlib.axis_2\">\r\n    <g id=\"ytick_1\">\r\n     <g id=\"line2d_7\">\r\n      <defs>\r\n       <path d=\"M 0 0 \r\nL -3.5 0 \r\n\" id=\"m48c07e4ec1\" style=\"stroke:#000000;stroke-width:0.8;\"/>\r\n      </defs>\r\n      <g>\r\n       <use style=\"stroke:#000000;stroke-width:0.8;\" x=\"68.135938\" xlink:href=\"#m48c07e4ec1\" y=\"101.58\"/>\r\n      </g>\r\n     </g>\r\n     <g id=\"text_8\">\r\n      <!-- angry -->\r\n      <g transform=\"translate(32.292188 105.379219)scale(0.1 -0.1)\">\r\n       <use xlink:href=\"#DejaVuSans-97\"/>\r\n       <use x=\"61.279297\" xlink:href=\"#DejaVuSans-110\"/>\r\n       <use x=\"124.658203\" xlink:href=\"#DejaVuSans-103\"/>\r\n       <use x=\"188.134766\" xlink:href=\"#DejaVuSans-114\"/>\r\n       <use x=\"229.248047\" xlink:href=\"#DejaVuSans-121\"/>\r\n      </g>\r\n     </g>\r\n    </g>\r\n    <g id=\"ytick_2\">\r\n     <g id=\"line2d_8\">\r\n      <g>\r\n       <use style=\"stroke:#000000;stroke-width:0.8;\" x=\"68.135938\" xlink:href=\"#m48c07e4ec1\" y=\"183.42\"/>\r\n      </g>\r\n     </g>\r\n     <g id=\"text_9\">\r\n      <!-- disgust -->\r\n      <g transform=\"translate(24.984375 187.219219)scale(0.1 -0.1)\">\r\n       <use xlink:href=\"#DejaVuSans-100\"/>\r\n       <use x=\"63.476562\" xlink:href=\"#DejaVuSans-105\"/>\r\n       <use x=\"91.259766\" xlink:href=\"#DejaVuSans-115\"/>\r\n       <use x=\"143.359375\" xlink:href=\"#DejaVuSans-103\"/>\r\n       <use x=\"206.835938\" xlink:href=\"#DejaVuSans-117\"/>\r\n       <use x=\"270.214844\" xlink:href=\"#DejaVuSans-115\"/>\r\n       <use x=\"322.314453\" xlink:href=\"#DejaVuSans-116\"/>\r\n      </g>\r\n     </g>\r\n    </g>\r\n    <g id=\"ytick_3\">\r\n     <g id=\"line2d_9\">\r\n      <g>\r\n       <use style=\"stroke:#000000;stroke-width:0.8;\" x=\"68.135938\" xlink:href=\"#m48c07e4ec1\" y=\"265.26\"/>\r\n      </g>\r\n     </g>\r\n     <g id=\"text_10\">\r\n      <!-- fear -->\r\n      <g transform=\"translate(41.223438 269.059219)scale(0.1 -0.1)\">\r\n       <use xlink:href=\"#DejaVuSans-102\"/>\r\n       <use x=\"35.205078\" xlink:href=\"#DejaVuSans-101\"/>\r\n       <use x=\"96.728516\" xlink:href=\"#DejaVuSans-97\"/>\r\n       <use x=\"158.007812\" xlink:href=\"#DejaVuSans-114\"/>\r\n      </g>\r\n     </g>\r\n    </g>\r\n    <g id=\"ytick_4\">\r\n     <g id=\"line2d_10\">\r\n      <g>\r\n       <use style=\"stroke:#000000;stroke-width:0.8;\" x=\"68.135938\" xlink:href=\"#m48c07e4ec1\" y=\"347.1\"/>\r\n      </g>\r\n     </g>\r\n     <g id=\"text_11\">\r\n      <!-- happy -->\r\n      <g transform=\"translate(30.054688 350.899219)scale(0.1 -0.1)\">\r\n       <use xlink:href=\"#DejaVuSans-104\"/>\r\n       <use x=\"63.378906\" xlink:href=\"#DejaVuSans-97\"/>\r\n       <use x=\"124.658203\" xlink:href=\"#DejaVuSans-112\"/>\r\n       <use x=\"188.134766\" xlink:href=\"#DejaVuSans-112\"/>\r\n       <use x=\"251.611328\" xlink:href=\"#DejaVuSans-121\"/>\r\n      </g>\r\n     </g>\r\n    </g>\r\n    <g id=\"ytick_5\">\r\n     <g id=\"line2d_11\">\r\n      <g>\r\n       <use style=\"stroke:#000000;stroke-width:0.8;\" x=\"68.135938\" xlink:href=\"#m48c07e4ec1\" y=\"428.94\"/>\r\n      </g>\r\n     </g>\r\n     <g id=\"text_12\">\r\n      <!-- sad -->\r\n      <g transform=\"translate(43.45 432.739219)scale(0.1 -0.1)\">\r\n       <use xlink:href=\"#DejaVuSans-115\"/>\r\n       <use x=\"52.099609\" xlink:href=\"#DejaVuSans-97\"/>\r\n       <use x=\"113.378906\" xlink:href=\"#DejaVuSans-100\"/>\r\n      </g>\r\n     </g>\r\n    </g>\r\n    <g id=\"ytick_6\">\r\n     <g id=\"line2d_12\">\r\n      <g>\r\n       <use style=\"stroke:#000000;stroke-width:0.8;\" x=\"68.135938\" xlink:href=\"#m48c07e4ec1\" y=\"510.78\"/>\r\n      </g>\r\n     </g>\r\n     <g id=\"text_13\">\r\n      <!-- surprise -->\r\n      <g transform=\"translate(20.878125 514.579219)scale(0.1 -0.1)\">\r\n       <use xlink:href=\"#DejaVuSans-115\"/>\r\n       <use x=\"52.099609\" xlink:href=\"#DejaVuSans-117\"/>\r\n       <use x=\"115.478516\" xlink:href=\"#DejaVuSans-114\"/>\r\n       <use x=\"156.591797\" xlink:href=\"#DejaVuSans-112\"/>\r\n       <use x=\"220.068359\" xlink:href=\"#DejaVuSans-114\"/>\r\n       <use x=\"261.181641\" xlink:href=\"#DejaVuSans-105\"/>\r\n       <use x=\"288.964844\" xlink:href=\"#DejaVuSans-115\"/>\r\n       <use x=\"341.064453\" xlink:href=\"#DejaVuSans-101\"/>\r\n      </g>\r\n     </g>\r\n    </g>\r\n    <g id=\"text_14\">\r\n     <!-- True label -->\r\n     <g transform=\"translate(14.798438 330.479219)rotate(-90)scale(0.1 -0.1)\">\r\n      <defs>\r\n       <path d=\"M -0.296875 72.90625 \r\nL 61.375 72.90625 \r\nL 61.375 64.59375 \r\nL 35.5 64.59375 \r\nL 35.5 0 \r\nL 25.59375 0 \r\nL 25.59375 64.59375 \r\nL -0.296875 64.59375 \r\nz\r\n\" id=\"DejaVuSans-84\"/>\r\n      </defs>\r\n      <use xlink:href=\"#DejaVuSans-84\"/>\r\n      <use x=\"46.333984\" xlink:href=\"#DejaVuSans-114\"/>\r\n      <use x=\"87.447266\" xlink:href=\"#DejaVuSans-117\"/>\r\n      <use x=\"150.826172\" xlink:href=\"#DejaVuSans-101\"/>\r\n      <use x=\"212.349609\" xlink:href=\"#DejaVuSans-32\"/>\r\n      <use x=\"244.136719\" xlink:href=\"#DejaVuSans-108\"/>\r\n      <use x=\"271.919922\" xlink:href=\"#DejaVuSans-97\"/>\r\n      <use x=\"333.199219\" xlink:href=\"#DejaVuSans-98\"/>\r\n      <use x=\"396.675781\" xlink:href=\"#DejaVuSans-101\"/>\r\n      <use x=\"458.199219\" xlink:href=\"#DejaVuSans-108\"/>\r\n     </g>\r\n    </g>\r\n   </g>\r\n   <g id=\"patch_3\">\r\n    <path d=\"M 68.135938 551.7 \r\nL 68.135938 60.66 \r\n\" style=\"fill:none;stroke:#000000;stroke-linecap:square;stroke-linejoin:miter;stroke-width:0.8;\"/>\r\n   </g>\r\n   <g id=\"patch_4\">\r\n    <path d=\"M 559.175938 551.7 \r\nL 559.175938 60.66 \r\n\" style=\"fill:none;stroke:#000000;stroke-linecap:square;stroke-linejoin:miter;stroke-width:0.8;\"/>\r\n   </g>\r\n   <g id=\"patch_5\">\r\n    <path d=\"M 68.135938 551.7 \r\nL 559.175938 551.7 \r\n\" style=\"fill:none;stroke:#000000;stroke-linecap:square;stroke-linejoin:miter;stroke-width:0.8;\"/>\r\n   </g>\r\n   <g id=\"patch_6\">\r\n    <path d=\"M 68.135938 60.66 \r\nL 559.175938 60.66 \r\n\" style=\"fill:none;stroke:#000000;stroke-linecap:square;stroke-linejoin:miter;stroke-width:0.8;\"/>\r\n   </g>\r\n   <g id=\"text_15\">\r\n    <!-- 73 -->\r\n    <g style=\"fill:#67001f;\" transform=\"translate(102.693438 104.339375)scale(0.1 -0.1)\">\r\n     <defs>\r\n      <path d=\"M 8.203125 72.90625 \r\nL 55.078125 72.90625 \r\nL 55.078125 68.703125 \r\nL 28.609375 0 \r\nL 18.3125 0 \r\nL 43.21875 64.59375 \r\nL 8.203125 64.59375 \r\nz\r\n\" id=\"DejaVuSans-55\"/>\r\n      <path d=\"M 40.578125 39.3125 \r\nQ 47.65625 37.796875 51.625 33 \r\nQ 55.609375 28.21875 55.609375 21.1875 \r\nQ 55.609375 10.40625 48.1875 4.484375 \r\nQ 40.765625 -1.421875 27.09375 -1.421875 \r\nQ 22.515625 -1.421875 17.65625 -0.515625 \r\nQ 12.796875 0.390625 7.625 2.203125 \r\nL 7.625 11.71875 \r\nQ 11.71875 9.328125 16.59375 8.109375 \r\nQ 21.484375 6.890625 26.8125 6.890625 \r\nQ 36.078125 6.890625 40.9375 10.546875 \r\nQ 45.796875 14.203125 45.796875 21.1875 \r\nQ 45.796875 27.640625 41.28125 31.265625 \r\nQ 36.765625 34.90625 28.71875 34.90625 \r\nL 20.21875 34.90625 \r\nL 20.21875 43.015625 \r\nL 29.109375 43.015625 \r\nQ 36.375 43.015625 40.234375 45.921875 \r\nQ 44.09375 48.828125 44.09375 54.296875 \r\nQ 44.09375 59.90625 40.109375 62.90625 \r\nQ 36.140625 65.921875 28.71875 65.921875 \r\nQ 24.65625 65.921875 20.015625 65.03125 \r\nQ 15.375 64.15625 9.8125 62.3125 \r\nL 9.8125 71.09375 \r\nQ 15.4375 72.65625 20.34375 73.4375 \r\nQ 25.25 74.21875 29.59375 74.21875 \r\nQ 40.828125 74.21875 47.359375 69.109375 \r\nQ 53.90625 64.015625 53.90625 55.328125 \r\nQ 53.90625 49.265625 50.4375 45.09375 \r\nQ 46.96875 40.921875 40.578125 39.3125 \r\nz\r\n\" id=\"DejaVuSans-51\"/>\r\n     </defs>\r\n     <use xlink:href=\"#DejaVuSans-55\"/>\r\n     <use x=\"63.623047\" xlink:href=\"#DejaVuSans-51\"/>\r\n    </g>\r\n   </g>\r\n   <g id=\"text_16\">\r\n    <!-- 4.2 -->\r\n    <g style=\"fill:#053061;\" transform=\"translate(182.944375 104.339375)scale(0.1 -0.1)\">\r\n     <defs>\r\n      <path d=\"M 37.796875 64.3125 \r\nL 12.890625 25.390625 \r\nL 37.796875 25.390625 \r\nz\r\nM 35.203125 72.90625 \r\nL 47.609375 72.90625 \r\nL 47.609375 25.390625 \r\nL 58.015625 25.390625 \r\nL 58.015625 17.1875 \r\nL 47.609375 17.1875 \r\nL 47.609375 0 \r\nL 37.796875 0 \r\nL 37.796875 17.1875 \r\nL 4.890625 17.1875 \r\nL 4.890625 26.703125 \r\nz\r\n\" id=\"DejaVuSans-52\"/>\r\n      <path d=\"M 10.6875 12.40625 \r\nL 21 12.40625 \r\nL 21 0 \r\nL 10.6875 0 \r\nz\r\n\" id=\"DejaVuSans-46\"/>\r\n      <path d=\"M 19.1875 8.296875 \r\nL 53.609375 8.296875 \r\nL 53.609375 0 \r\nL 7.328125 0 \r\nL 7.328125 8.296875 \r\nQ 12.9375 14.109375 22.625 23.890625 \r\nQ 32.328125 33.6875 34.8125 36.53125 \r\nQ 39.546875 41.84375 41.421875 45.53125 \r\nQ 43.3125 49.21875 43.3125 52.78125 \r\nQ 43.3125 58.59375 39.234375 62.25 \r\nQ 35.15625 65.921875 28.609375 65.921875 \r\nQ 23.96875 65.921875 18.8125 64.3125 \r\nQ 13.671875 62.703125 7.8125 59.421875 \r\nL 7.8125 69.390625 \r\nQ 13.765625 71.78125 18.9375 73 \r\nQ 24.125 74.21875 28.421875 74.21875 \r\nQ 39.75 74.21875 46.484375 68.546875 \r\nQ 53.21875 62.890625 53.21875 53.421875 \r\nQ 53.21875 48.921875 51.53125 44.890625 \r\nQ 49.859375 40.875 45.40625 35.40625 \r\nQ 44.1875 33.984375 37.640625 27.21875 \r\nQ 31.109375 20.453125 19.1875 8.296875 \r\nz\r\n\" id=\"DejaVuSans-50\"/>\r\n     </defs>\r\n     <use xlink:href=\"#DejaVuSans-52\"/>\r\n     <use x=\"63.623047\" xlink:href=\"#DejaVuSans-46\"/>\r\n     <use x=\"95.410156\" xlink:href=\"#DejaVuSans-50\"/>\r\n    </g>\r\n   </g>\r\n   <g id=\"text_17\">\r\n    <!-- 2.8 -->\r\n    <g style=\"fill:#053061;\" transform=\"translate(264.784375 104.339375)scale(0.1 -0.1)\">\r\n     <defs>\r\n      <path d=\"M 31.78125 34.625 \r\nQ 24.75 34.625 20.71875 30.859375 \r\nQ 16.703125 27.09375 16.703125 20.515625 \r\nQ 16.703125 13.921875 20.71875 10.15625 \r\nQ 24.75 6.390625 31.78125 6.390625 \r\nQ 38.8125 6.390625 42.859375 10.171875 \r\nQ 46.921875 13.96875 46.921875 20.515625 \r\nQ 46.921875 27.09375 42.890625 30.859375 \r\nQ 38.875 34.625 31.78125 34.625 \r\nz\r\nM 21.921875 38.8125 \r\nQ 15.578125 40.375 12.03125 44.71875 \r\nQ 8.5 49.078125 8.5 55.328125 \r\nQ 8.5 64.0625 14.71875 69.140625 \r\nQ 20.953125 74.21875 31.78125 74.21875 \r\nQ 42.671875 74.21875 48.875 69.140625 \r\nQ 55.078125 64.0625 55.078125 55.328125 \r\nQ 55.078125 49.078125 51.53125 44.71875 \r\nQ 48 40.375 41.703125 38.8125 \r\nQ 48.828125 37.15625 52.796875 32.3125 \r\nQ 56.78125 27.484375 56.78125 20.515625 \r\nQ 56.78125 9.90625 50.3125 4.234375 \r\nQ 43.84375 -1.421875 31.78125 -1.421875 \r\nQ 19.734375 -1.421875 13.25 4.234375 \r\nQ 6.78125 9.90625 6.78125 20.515625 \r\nQ 6.78125 27.484375 10.78125 32.3125 \r\nQ 14.796875 37.15625 21.921875 38.8125 \r\nz\r\nM 18.3125 54.390625 \r\nQ 18.3125 48.734375 21.84375 45.5625 \r\nQ 25.390625 42.390625 31.78125 42.390625 \r\nQ 38.140625 42.390625 41.71875 45.5625 \r\nQ 45.3125 48.734375 45.3125 54.390625 \r\nQ 45.3125 60.0625 41.71875 63.234375 \r\nQ 38.140625 66.40625 31.78125 66.40625 \r\nQ 25.390625 66.40625 21.84375 63.234375 \r\nQ 18.3125 60.0625 18.3125 54.390625 \r\nz\r\n\" id=\"DejaVuSans-56\"/>\r\n     </defs>\r\n     <use xlink:href=\"#DejaVuSans-50\"/>\r\n     <use x=\"63.623047\" xlink:href=\"#DejaVuSans-46\"/>\r\n     <use x=\"95.410156\" xlink:href=\"#DejaVuSans-56\"/>\r\n    </g>\r\n   </g>\r\n   <g id=\"text_18\">\r\n    <!-- 10 -->\r\n    <g style=\"fill:#053061;\" transform=\"translate(348.213437 104.339375)scale(0.1 -0.1)\">\r\n     <defs>\r\n      <path d=\"M 12.40625 8.296875 \r\nL 28.515625 8.296875 \r\nL 28.515625 63.921875 \r\nL 10.984375 60.40625 \r\nL 10.984375 69.390625 \r\nL 28.421875 72.90625 \r\nL 38.28125 72.90625 \r\nL 38.28125 8.296875 \r\nL 54.390625 8.296875 \r\nL 54.390625 0 \r\nL 12.40625 0 \r\nz\r\n\" id=\"DejaVuSans-49\"/>\r\n      <path d=\"M 31.78125 66.40625 \r\nQ 24.171875 66.40625 20.328125 58.90625 \r\nQ 16.5 51.421875 16.5 36.375 \r\nQ 16.5 21.390625 20.328125 13.890625 \r\nQ 24.171875 6.390625 31.78125 6.390625 \r\nQ 39.453125 6.390625 43.28125 13.890625 \r\nQ 47.125 21.390625 47.125 36.375 \r\nQ 47.125 51.421875 43.28125 58.90625 \r\nQ 39.453125 66.40625 31.78125 66.40625 \r\nz\r\nM 31.78125 74.21875 \r\nQ 44.046875 74.21875 50.515625 64.515625 \r\nQ 56.984375 54.828125 56.984375 36.375 \r\nQ 56.984375 17.96875 50.515625 8.265625 \r\nQ 44.046875 -1.421875 31.78125 -1.421875 \r\nQ 19.53125 -1.421875 13.0625 8.265625 \r\nQ 6.59375 17.96875 6.59375 36.375 \r\nQ 6.59375 54.828125 13.0625 64.515625 \r\nQ 19.53125 74.21875 31.78125 74.21875 \r\nz\r\n\" id=\"DejaVuSans-48\"/>\r\n     </defs>\r\n     <use xlink:href=\"#DejaVuSans-49\"/>\r\n     <use x=\"63.623047\" xlink:href=\"#DejaVuSans-48\"/>\r\n    </g>\r\n   </g>\r\n   <g id=\"text_19\">\r\n    <!-- 9.5 -->\r\n    <g style=\"fill:#053061;\" transform=\"translate(428.464375 104.339375)scale(0.1 -0.1)\">\r\n     <defs>\r\n      <path d=\"M 10.984375 1.515625 \r\nL 10.984375 10.5 \r\nQ 14.703125 8.734375 18.5 7.8125 \r\nQ 22.3125 6.890625 25.984375 6.890625 \r\nQ 35.75 6.890625 40.890625 13.453125 \r\nQ 46.046875 20.015625 46.78125 33.40625 \r\nQ 43.953125 29.203125 39.59375 26.953125 \r\nQ 35.25 24.703125 29.984375 24.703125 \r\nQ 19.046875 24.703125 12.671875 31.3125 \r\nQ 6.296875 37.9375 6.296875 49.421875 \r\nQ 6.296875 60.640625 12.9375 67.421875 \r\nQ 19.578125 74.21875 30.609375 74.21875 \r\nQ 43.265625 74.21875 49.921875 64.515625 \r\nQ 56.59375 54.828125 56.59375 36.375 \r\nQ 56.59375 19.140625 48.40625 8.859375 \r\nQ 40.234375 -1.421875 26.421875 -1.421875 \r\nQ 22.703125 -1.421875 18.890625 -0.6875 \r\nQ 15.09375 0.046875 10.984375 1.515625 \r\nz\r\nM 30.609375 32.421875 \r\nQ 37.25 32.421875 41.125 36.953125 \r\nQ 45.015625 41.5 45.015625 49.421875 \r\nQ 45.015625 57.28125 41.125 61.84375 \r\nQ 37.25 66.40625 30.609375 66.40625 \r\nQ 23.96875 66.40625 20.09375 61.84375 \r\nQ 16.21875 57.28125 16.21875 49.421875 \r\nQ 16.21875 41.5 20.09375 36.953125 \r\nQ 23.96875 32.421875 30.609375 32.421875 \r\nz\r\n\" id=\"DejaVuSans-57\"/>\r\n      <path d=\"M 10.796875 72.90625 \r\nL 49.515625 72.90625 \r\nL 49.515625 64.59375 \r\nL 19.828125 64.59375 \r\nL 19.828125 46.734375 \r\nQ 21.96875 47.46875 24.109375 47.828125 \r\nQ 26.265625 48.1875 28.421875 48.1875 \r\nQ 40.625 48.1875 47.75 41.5 \r\nQ 54.890625 34.8125 54.890625 23.390625 \r\nQ 54.890625 11.625 47.5625 5.09375 \r\nQ 40.234375 -1.421875 26.90625 -1.421875 \r\nQ 22.3125 -1.421875 17.546875 -0.640625 \r\nQ 12.796875 0.140625 7.71875 1.703125 \r\nL 7.71875 11.625 \r\nQ 12.109375 9.234375 16.796875 8.0625 \r\nQ 21.484375 6.890625 26.703125 6.890625 \r\nQ 35.15625 6.890625 40.078125 11.328125 \r\nQ 45.015625 15.765625 45.015625 23.390625 \r\nQ 45.015625 31 40.078125 35.4375 \r\nQ 35.15625 39.890625 26.703125 39.890625 \r\nQ 22.75 39.890625 18.8125 39.015625 \r\nQ 14.890625 38.140625 10.796875 36.28125 \r\nz\r\n\" id=\"DejaVuSans-53\"/>\r\n     </defs>\r\n     <use xlink:href=\"#DejaVuSans-57\"/>\r\n     <use x=\"63.623047\" xlink:href=\"#DejaVuSans-46\"/>\r\n     <use x=\"95.410156\" xlink:href=\"#DejaVuSans-53\"/>\r\n    </g>\r\n   </g>\r\n   <g id=\"text_20\">\r\n    <!-- 0.35 -->\r\n    <g style=\"fill:#053061;\" transform=\"translate(507.123125 104.339375)scale(0.1 -0.1)\">\r\n     <use xlink:href=\"#DejaVuSans-48\"/>\r\n     <use x=\"63.623047\" xlink:href=\"#DejaVuSans-46\"/>\r\n     <use x=\"95.410156\" xlink:href=\"#DejaVuSans-51\"/>\r\n     <use x=\"159.033203\" xlink:href=\"#DejaVuSans-53\"/>\r\n    </g>\r\n   </g>\r\n   <g id=\"text_21\">\r\n    <!-- 5.6 -->\r\n    <g style=\"fill:#053061;\" transform=\"translate(101.104375 186.179375)scale(0.1 -0.1)\">\r\n     <defs>\r\n      <path d=\"M 33.015625 40.375 \r\nQ 26.375 40.375 22.484375 35.828125 \r\nQ 18.609375 31.296875 18.609375 23.390625 \r\nQ 18.609375 15.53125 22.484375 10.953125 \r\nQ 26.375 6.390625 33.015625 6.390625 \r\nQ 39.65625 6.390625 43.53125 10.953125 \r\nQ 47.40625 15.53125 47.40625 23.390625 \r\nQ 47.40625 31.296875 43.53125 35.828125 \r\nQ 39.65625 40.375 33.015625 40.375 \r\nz\r\nM 52.59375 71.296875 \r\nL 52.59375 62.3125 \r\nQ 48.875 64.0625 45.09375 64.984375 \r\nQ 41.3125 65.921875 37.59375 65.921875 \r\nQ 27.828125 65.921875 22.671875 59.328125 \r\nQ 17.53125 52.734375 16.796875 39.40625 \r\nQ 19.671875 43.65625 24.015625 45.921875 \r\nQ 28.375 48.1875 33.59375 48.1875 \r\nQ 44.578125 48.1875 50.953125 41.515625 \r\nQ 57.328125 34.859375 57.328125 23.390625 \r\nQ 57.328125 12.15625 50.6875 5.359375 \r\nQ 44.046875 -1.421875 33.015625 -1.421875 \r\nQ 20.359375 -1.421875 13.671875 8.265625 \r\nQ 6.984375 17.96875 6.984375 36.375 \r\nQ 6.984375 53.65625 15.1875 63.9375 \r\nQ 23.390625 74.21875 37.203125 74.21875 \r\nQ 40.921875 74.21875 44.703125 73.484375 \r\nQ 48.484375 72.75 52.59375 71.296875 \r\nz\r\n\" id=\"DejaVuSans-54\"/>\r\n     </defs>\r\n     <use xlink:href=\"#DejaVuSans-53\"/>\r\n     <use x=\"63.623047\" xlink:href=\"#DejaVuSans-46\"/>\r\n     <use x=\"95.410156\" xlink:href=\"#DejaVuSans-54\"/>\r\n    </g>\r\n   </g>\r\n   <g id=\"text_22\">\r\n    <!-- 74 -->\r\n    <g style=\"fill:#67001f;\" transform=\"translate(184.533437 186.179375)scale(0.1 -0.1)\">\r\n     <use xlink:href=\"#DejaVuSans-55\"/>\r\n     <use x=\"63.623047\" xlink:href=\"#DejaVuSans-52\"/>\r\n    </g>\r\n   </g>\r\n   <g id=\"text_23\">\r\n    <!-- 4.8 -->\r\n    <g style=\"fill:#053061;\" transform=\"translate(264.784375 186.179375)scale(0.1 -0.1)\">\r\n     <use xlink:href=\"#DejaVuSans-52\"/>\r\n     <use x=\"63.623047\" xlink:href=\"#DejaVuSans-46\"/>\r\n     <use x=\"95.410156\" xlink:href=\"#DejaVuSans-56\"/>\r\n    </g>\r\n   </g>\r\n   <g id=\"text_24\">\r\n    <!-- 8.9 -->\r\n    <g style=\"fill:#053061;\" transform=\"translate(346.624375 186.179375)scale(0.1 -0.1)\">\r\n     <use xlink:href=\"#DejaVuSans-56\"/>\r\n     <use x=\"63.623047\" xlink:href=\"#DejaVuSans-46\"/>\r\n     <use x=\"95.410156\" xlink:href=\"#DejaVuSans-57\"/>\r\n    </g>\r\n   </g>\r\n   <g id=\"text_25\">\r\n    <!-- 4.8 -->\r\n    <g style=\"fill:#053061;\" transform=\"translate(428.464375 186.179375)scale(0.1 -0.1)\">\r\n     <use xlink:href=\"#DejaVuSans-52\"/>\r\n     <use x=\"63.623047\" xlink:href=\"#DejaVuSans-46\"/>\r\n     <use x=\"95.410156\" xlink:href=\"#DejaVuSans-56\"/>\r\n    </g>\r\n   </g>\r\n   <g id=\"text_26\">\r\n    <!-- 1.6 -->\r\n    <g style=\"fill:#053061;\" transform=\"translate(510.304375 186.179375)scale(0.1 -0.1)\">\r\n     <use xlink:href=\"#DejaVuSans-49\"/>\r\n     <use x=\"63.623047\" xlink:href=\"#DejaVuSans-46\"/>\r\n     <use x=\"95.410156\" xlink:href=\"#DejaVuSans-54\"/>\r\n    </g>\r\n   </g>\r\n   <g id=\"text_27\">\r\n    <!-- 2.7 -->\r\n    <g style=\"fill:#053061;\" transform=\"translate(101.104375 268.019375)scale(0.1 -0.1)\">\r\n     <use xlink:href=\"#DejaVuSans-50\"/>\r\n     <use x=\"63.623047\" xlink:href=\"#DejaVuSans-46\"/>\r\n     <use x=\"95.410156\" xlink:href=\"#DejaVuSans-55\"/>\r\n    </g>\r\n   </g>\r\n   <g id=\"text_28\">\r\n    <!-- 4 -->\r\n    <g style=\"fill:#053061;\" transform=\"translate(187.714687 268.019375)scale(0.1 -0.1)\">\r\n     <use xlink:href=\"#DejaVuSans-52\"/>\r\n    </g>\r\n   </g>\r\n   <g id=\"text_29\">\r\n    <!-- 68 -->\r\n    <g style=\"fill:#67001f;\" transform=\"translate(266.373438 268.019375)scale(0.1 -0.1)\">\r\n     <use xlink:href=\"#DejaVuSans-54\"/>\r\n     <use x=\"63.623047\" xlink:href=\"#DejaVuSans-56\"/>\r\n    </g>\r\n   </g>\r\n   <g id=\"text_30\">\r\n    <!-- 14 -->\r\n    <g style=\"fill:#053061;\" transform=\"translate(348.213437 268.019375)scale(0.1 -0.1)\">\r\n     <use xlink:href=\"#DejaVuSans-49\"/>\r\n     <use x=\"63.623047\" xlink:href=\"#DejaVuSans-52\"/>\r\n    </g>\r\n   </g>\r\n   <g id=\"text_31\">\r\n    <!-- 7.4 -->\r\n    <g style=\"fill:#053061;\" transform=\"translate(428.464375 268.019375)scale(0.1 -0.1)\">\r\n     <use xlink:href=\"#DejaVuSans-55\"/>\r\n     <use x=\"63.623047\" xlink:href=\"#DejaVuSans-46\"/>\r\n     <use x=\"95.410156\" xlink:href=\"#DejaVuSans-52\"/>\r\n    </g>\r\n   </g>\r\n   <g id=\"text_32\">\r\n    <!-- 4 -->\r\n    <g style=\"fill:#053061;\" transform=\"translate(515.074688 268.019375)scale(0.1 -0.1)\">\r\n     <use xlink:href=\"#DejaVuSans-52\"/>\r\n    </g>\r\n   </g>\r\n   <g id=\"text_33\">\r\n    <!-- 2.7 -->\r\n    <g style=\"fill:#053061;\" transform=\"translate(101.104375 349.859375)scale(0.1 -0.1)\">\r\n     <use xlink:href=\"#DejaVuSans-50\"/>\r\n     <use x=\"63.623047\" xlink:href=\"#DejaVuSans-46\"/>\r\n     <use x=\"95.410156\" xlink:href=\"#DejaVuSans-55\"/>\r\n    </g>\r\n   </g>\r\n   <g id=\"text_34\">\r\n    <!-- 1 -->\r\n    <g style=\"fill:#053061;\" transform=\"translate(187.714687 349.859375)scale(0.1 -0.1)\">\r\n     <use xlink:href=\"#DejaVuSans-49\"/>\r\n    </g>\r\n   </g>\r\n   <g id=\"text_35\">\r\n    <!-- 3.6 -->\r\n    <g style=\"fill:#053061;\" transform=\"translate(264.784375 349.859375)scale(0.1 -0.1)\">\r\n     <use xlink:href=\"#DejaVuSans-51\"/>\r\n     <use x=\"63.623047\" xlink:href=\"#DejaVuSans-46\"/>\r\n     <use x=\"95.410156\" xlink:href=\"#DejaVuSans-54\"/>\r\n    </g>\r\n   </g>\r\n   <g id=\"text_36\">\r\n    <!-- 82 -->\r\n    <g style=\"fill:#67001f;\" transform=\"translate(348.213437 349.859375)scale(0.1 -0.1)\">\r\n     <use xlink:href=\"#DejaVuSans-56\"/>\r\n     <use x=\"63.623047\" xlink:href=\"#DejaVuSans-50\"/>\r\n    </g>\r\n   </g>\r\n   <g id=\"text_37\">\r\n    <!-- 8.6 -->\r\n    <g style=\"fill:#053061;\" transform=\"translate(428.464375 349.859375)scale(0.1 -0.1)\">\r\n     <use xlink:href=\"#DejaVuSans-56\"/>\r\n     <use x=\"63.623047\" xlink:href=\"#DejaVuSans-46\"/>\r\n     <use x=\"95.410156\" xlink:href=\"#DejaVuSans-54\"/>\r\n    </g>\r\n   </g>\r\n   <g id=\"text_38\">\r\n    <!-- 2.2 -->\r\n    <g style=\"fill:#053061;\" transform=\"translate(510.304375 349.859375)scale(0.1 -0.1)\">\r\n     <use xlink:href=\"#DejaVuSans-50\"/>\r\n     <use x=\"63.623047\" xlink:href=\"#DejaVuSans-46\"/>\r\n     <use x=\"95.410156\" xlink:href=\"#DejaVuSans-50\"/>\r\n    </g>\r\n   </g>\r\n   <g id=\"text_39\">\r\n    <!-- 4.5 -->\r\n    <g style=\"fill:#053061;\" transform=\"translate(101.104375 431.699375)scale(0.1 -0.1)\">\r\n     <use xlink:href=\"#DejaVuSans-52\"/>\r\n     <use x=\"63.623047\" xlink:href=\"#DejaVuSans-46\"/>\r\n     <use x=\"95.410156\" xlink:href=\"#DejaVuSans-53\"/>\r\n    </g>\r\n   </g>\r\n   <g id=\"text_40\">\r\n    <!-- 1.5 -->\r\n    <g style=\"fill:#053061;\" transform=\"translate(182.944375 431.699375)scale(0.1 -0.1)\">\r\n     <use xlink:href=\"#DejaVuSans-49\"/>\r\n     <use x=\"63.623047\" xlink:href=\"#DejaVuSans-46\"/>\r\n     <use x=\"95.410156\" xlink:href=\"#DejaVuSans-53\"/>\r\n    </g>\r\n   </g>\r\n   <g id=\"text_41\">\r\n    <!-- 4 -->\r\n    <g style=\"fill:#053061;\" transform=\"translate(269.554688 431.699375)scale(0.1 -0.1)\">\r\n     <use xlink:href=\"#DejaVuSans-52\"/>\r\n    </g>\r\n   </g>\r\n   <g id=\"text_42\">\r\n    <!-- 13 -->\r\n    <g style=\"fill:#053061;\" transform=\"translate(348.213437 431.699375)scale(0.1 -0.1)\">\r\n     <use xlink:href=\"#DejaVuSans-49\"/>\r\n     <use x=\"63.623047\" xlink:href=\"#DejaVuSans-51\"/>\r\n    </g>\r\n   </g>\r\n   <g id=\"text_43\">\r\n    <!-- 75 -->\r\n    <g style=\"fill:#67001f;\" transform=\"translate(430.053438 431.699375)scale(0.1 -0.1)\">\r\n     <use xlink:href=\"#DejaVuSans-55\"/>\r\n     <use x=\"63.623047\" xlink:href=\"#DejaVuSans-53\"/>\r\n    </g>\r\n   </g>\r\n   <g id=\"text_44\">\r\n    <!-- 2.3 -->\r\n    <g style=\"fill:#053061;\" transform=\"translate(510.304375 431.699375)scale(0.1 -0.1)\">\r\n     <use xlink:href=\"#DejaVuSans-50\"/>\r\n     <use x=\"63.623047\" xlink:href=\"#DejaVuSans-46\"/>\r\n     <use x=\"95.410156\" xlink:href=\"#DejaVuSans-51\"/>\r\n    </g>\r\n   </g>\r\n   <g id=\"text_45\">\r\n    <!-- 2.9 -->\r\n    <g style=\"fill:#053061;\" transform=\"translate(101.104375 513.539375)scale(0.1 -0.1)\">\r\n     <use xlink:href=\"#DejaVuSans-50\"/>\r\n     <use x=\"63.623047\" xlink:href=\"#DejaVuSans-46\"/>\r\n     <use x=\"95.410156\" xlink:href=\"#DejaVuSans-57\"/>\r\n    </g>\r\n   </g>\r\n   <g id=\"text_46\">\r\n    <!-- 0 -->\r\n    <g style=\"fill:#053061;\" transform=\"translate(187.714687 513.539375)scale(0.1 -0.1)\">\r\n     <use xlink:href=\"#DejaVuSans-48\"/>\r\n    </g>\r\n   </g>\r\n   <g id=\"text_47\">\r\n    <!-- 8.6 -->\r\n    <g style=\"fill:#053061;\" transform=\"translate(264.784375 513.539375)scale(0.1 -0.1)\">\r\n     <use xlink:href=\"#DejaVuSans-56\"/>\r\n     <use x=\"63.623047\" xlink:href=\"#DejaVuSans-46\"/>\r\n     <use x=\"95.410156\" xlink:href=\"#DejaVuSans-54\"/>\r\n    </g>\r\n   </g>\r\n   <g id=\"text_48\">\r\n    <!-- 14 -->\r\n    <g style=\"fill:#053061;\" transform=\"translate(348.213437 513.539375)scale(0.1 -0.1)\">\r\n     <use xlink:href=\"#DejaVuSans-49\"/>\r\n     <use x=\"63.623047\" xlink:href=\"#DejaVuSans-52\"/>\r\n    </g>\r\n   </g>\r\n   <g id=\"text_49\">\r\n    <!-- 17 -->\r\n    <g style=\"fill:#053061;\" transform=\"translate(430.053438 513.539375)scale(0.1 -0.1)\">\r\n     <use xlink:href=\"#DejaVuSans-49\"/>\r\n     <use x=\"63.623047\" xlink:href=\"#DejaVuSans-55\"/>\r\n    </g>\r\n   </g>\r\n   <g id=\"text_50\">\r\n    <!-- 57 -->\r\n    <g style=\"fill:#67001f;\" transform=\"translate(511.893438 513.539375)scale(0.1 -0.1)\">\r\n     <use xlink:href=\"#DejaVuSans-53\"/>\r\n     <use x=\"63.623047\" xlink:href=\"#DejaVuSans-55\"/>\r\n    </g>\r\n   </g>\r\n  </g>\r\n  <g id=\"axes_2\">\r\n   <g id=\"patch_7\">\r\n    <path clip-path=\"url(#pd39c0c059e)\" d=\"M 589.865938 605.16 \r\nL 589.865938 602.824219 \r\nL 589.865938 9.535781 \r\nL 589.865938 7.2 \r\nL 619.763937 7.2 \r\nL 619.763937 9.535781 \r\nL 619.763937 602.824219 \r\nL 619.763937 605.16 \r\nz\r\n\" style=\"fill:#ffffff;stroke:#ffffff;stroke-linejoin:miter;stroke-width:0.01;\"/>\r\n   </g>\r\n   <image height=\"598\" id=\"image8c0ebd3b0a\" transform=\"scale(1 -1)translate(0 -598)\" width=\"30\" x=\"590\" xlink:href=\"data:image/png;base64,\r\niVBORw0KGgoAAAANSUhEUgAAAB4AAAJWCAYAAABPpDeKAAAC60lEQVR4nO2cwXGEQBDEFtg8HJ7z/xtwFpoqJCUw1bvdzXC+8/G7ft41wDkxdK219nXMDJ5UPCN5THHmwvCZy3fHmQvDZy7fHc8d9dTkzIXhK5DMheEzl++OMxeGz1y+O+6oMYoThjJOmYuhO/7+4MyFMfhxk03x3FEfQ3kaNJdO8XHNzC5OGMUJYx9ncWIwmkuouDgxGON02hSfxQlC2dU2xcWJwmgu3dOpZY/CuOwJFRcnBmOcdE+nlj2KuhqjD8q/P9jXXMY42RTXXBj7uK6RwcXp+4P3KYxTihmEcTI+nVLMIIyT8N2pAoEQxkl31MI4nba3xeKEYVRsK5DMhWFUXJwg9nHKFoG9hIqLE4PwrzDGOMkUtwhg+MzlU1ycMHzm8ilu2cPwvUkUJwzlRxG2OOnuuObCMMbJtoEUJwyhYt37cebC2OvIXAy+o96vTrHujieP2vZTb9+bhK5Aai6MFGMI46RrLp+5fBtI5sIwFohtvS1OGCnGEMZJ2NVCxS17DEJzVSAUwji9tuba7zszeE7xMyTZGKehwZPmmhk8WSDFicForqHB3fH3B/uaaz9Dg1tvvz/Y11wVCIYwTrrm8r2Y+9bbnk4YxgJZsgLJXBgVCIYwTrrm8pnLt97OHfU99J6auTD2bVOcuTAqEAxhnHTNJXx3uockC+Oka6596+Kku+OaC8NnLl+BZC6M/egKpDhRCOMkfFu0FUjNhVGBYBjjZGuuFGMUJ4wUY/gUd9QYKcYoThhziv90inV33FFj+F7MfXfcUWMoFc98TbE4YaQYw7feZi6MFGMUJ4wUY+zXprgvoGAI/5NRcaIwxkn380FdgRQnDF9X+xT3hVAMn7l8ins6YfhWH996W5wwfF3tU9yyh+Ezl09xTycM5bInU1ycMPb73CODU/z9wb6j3u+tU2y7444aI8UYxQljcr2VKc5cGEbFtmUvc2GkGEMZJ9nvFn3m8ilur8bwrT7FCcN31CnG8MXpH0wxak794XJPAAAAAElFTkSuQmCC\" y=\"-7\"/>\r\n   <g id=\"matplotlib.axis_3\"/>\r\n   <g id=\"matplotlib.axis_4\">\r\n    <g id=\"ytick_7\">\r\n     <g id=\"line2d_13\">\r\n      <defs>\r\n       <path d=\"M 0 0 \r\nL 3.5 0 \r\n\" id=\"m2403b486fc\" style=\"stroke:#000000;stroke-width:0.8;\"/>\r\n      </defs>\r\n      <g>\r\n       <use style=\"stroke:#000000;stroke-width:0.8;\" x=\"619.763937\" xlink:href=\"#m2403b486fc\" y=\"605.16\"/>\r\n      </g>\r\n     </g>\r\n     <g id=\"text_51\">\r\n      <!-- 0 -->\r\n      <g transform=\"translate(626.763937 608.959219)scale(0.1 -0.1)\">\r\n       <use xlink:href=\"#DejaVuSans-48\"/>\r\n      </g>\r\n     </g>\r\n    </g>\r\n    <g id=\"ytick_8\">\r\n     <g id=\"line2d_14\">\r\n      <g>\r\n       <use style=\"stroke:#000000;stroke-width:0.8;\" x=\"619.763937\" xlink:href=\"#m2403b486fc\" y=\"532.148897\"/>\r\n      </g>\r\n     </g>\r\n     <g id=\"text_52\">\r\n      <!-- 10 -->\r\n      <g transform=\"translate(626.763937 535.948115)scale(0.1 -0.1)\">\r\n       <use xlink:href=\"#DejaVuSans-49\"/>\r\n       <use x=\"63.623047\" xlink:href=\"#DejaVuSans-48\"/>\r\n      </g>\r\n     </g>\r\n    </g>\r\n    <g id=\"ytick_9\">\r\n     <g id=\"line2d_15\">\r\n      <g>\r\n       <use style=\"stroke:#000000;stroke-width:0.8;\" x=\"619.763937\" xlink:href=\"#m2403b486fc\" y=\"459.137793\"/>\r\n      </g>\r\n     </g>\r\n     <g id=\"text_53\">\r\n      <!-- 20 -->\r\n      <g transform=\"translate(626.763937 462.937012)scale(0.1 -0.1)\">\r\n       <use xlink:href=\"#DejaVuSans-50\"/>\r\n       <use x=\"63.623047\" xlink:href=\"#DejaVuSans-48\"/>\r\n      </g>\r\n     </g>\r\n    </g>\r\n    <g id=\"ytick_10\">\r\n     <g id=\"line2d_16\">\r\n      <g>\r\n       <use style=\"stroke:#000000;stroke-width:0.8;\" x=\"619.763937\" xlink:href=\"#m2403b486fc\" y=\"386.12669\"/>\r\n      </g>\r\n     </g>\r\n     <g id=\"text_54\">\r\n      <!-- 30 -->\r\n      <g transform=\"translate(626.763937 389.925908)scale(0.1 -0.1)\">\r\n       <use xlink:href=\"#DejaVuSans-51\"/>\r\n       <use x=\"63.623047\" xlink:href=\"#DejaVuSans-48\"/>\r\n      </g>\r\n     </g>\r\n    </g>\r\n    <g id=\"ytick_11\">\r\n     <g id=\"line2d_17\">\r\n      <g>\r\n       <use style=\"stroke:#000000;stroke-width:0.8;\" x=\"619.763937\" xlink:href=\"#m2403b486fc\" y=\"313.115586\"/>\r\n      </g>\r\n     </g>\r\n     <g id=\"text_55\">\r\n      <!-- 40 -->\r\n      <g transform=\"translate(626.763937 316.914805)scale(0.1 -0.1)\">\r\n       <use xlink:href=\"#DejaVuSans-52\"/>\r\n       <use x=\"63.623047\" xlink:href=\"#DejaVuSans-48\"/>\r\n      </g>\r\n     </g>\r\n    </g>\r\n    <g id=\"ytick_12\">\r\n     <g id=\"line2d_18\">\r\n      <g>\r\n       <use style=\"stroke:#000000;stroke-width:0.8;\" x=\"619.763937\" xlink:href=\"#m2403b486fc\" y=\"240.104483\"/>\r\n      </g>\r\n     </g>\r\n     <g id=\"text_56\">\r\n      <!-- 50 -->\r\n      <g transform=\"translate(626.763937 243.903702)scale(0.1 -0.1)\">\r\n       <use xlink:href=\"#DejaVuSans-53\"/>\r\n       <use x=\"63.623047\" xlink:href=\"#DejaVuSans-48\"/>\r\n      </g>\r\n     </g>\r\n    </g>\r\n    <g id=\"ytick_13\">\r\n     <g id=\"line2d_19\">\r\n      <g>\r\n       <use style=\"stroke:#000000;stroke-width:0.8;\" x=\"619.763937\" xlink:href=\"#m2403b486fc\" y=\"167.093379\"/>\r\n      </g>\r\n     </g>\r\n     <g id=\"text_57\">\r\n      <!-- 60 -->\r\n      <g transform=\"translate(626.763937 170.892598)scale(0.1 -0.1)\">\r\n       <use xlink:href=\"#DejaVuSans-54\"/>\r\n       <use x=\"63.623047\" xlink:href=\"#DejaVuSans-48\"/>\r\n      </g>\r\n     </g>\r\n    </g>\r\n    <g id=\"ytick_14\">\r\n     <g id=\"line2d_20\">\r\n      <g>\r\n       <use style=\"stroke:#000000;stroke-width:0.8;\" x=\"619.763937\" xlink:href=\"#m2403b486fc\" y=\"94.082276\"/>\r\n      </g>\r\n     </g>\r\n     <g id=\"text_58\">\r\n      <!-- 70 -->\r\n      <g transform=\"translate(626.763937 97.881495)scale(0.1 -0.1)\">\r\n       <use xlink:href=\"#DejaVuSans-55\"/>\r\n       <use x=\"63.623047\" xlink:href=\"#DejaVuSans-48\"/>\r\n      </g>\r\n     </g>\r\n    </g>\r\n    <g id=\"ytick_15\">\r\n     <g id=\"line2d_21\">\r\n      <g>\r\n       <use style=\"stroke:#000000;stroke-width:0.8;\" x=\"619.763937\" xlink:href=\"#m2403b486fc\" y=\"21.071172\"/>\r\n      </g>\r\n     </g>\r\n     <g id=\"text_59\">\r\n      <!-- 80 -->\r\n      <g transform=\"translate(626.763937 24.870391)scale(0.1 -0.1)\">\r\n       <use xlink:href=\"#DejaVuSans-56\"/>\r\n       <use x=\"63.623047\" xlink:href=\"#DejaVuSans-48\"/>\r\n      </g>\r\n     </g>\r\n    </g>\r\n   </g>\r\n   <g id=\"patch_8\">\r\n    <path d=\"M 589.865938 605.16 \r\nL 589.865938 602.824219 \r\nL 589.865938 9.535781 \r\nL 589.865938 7.2 \r\nL 619.763937 7.2 \r\nL 619.763937 9.535781 \r\nL 619.763937 602.824219 \r\nL 619.763937 605.16 \r\nz\r\n\" style=\"fill:none;stroke:#000000;stroke-linejoin:miter;stroke-width:0.8;\"/>\r\n   </g>\r\n  </g>\r\n </g>\r\n <defs>\r\n  <clipPath id=\"p00f1604787\">\r\n   <rect height=\"491.04\" width=\"491.04\" x=\"68.135938\" y=\"60.66\"/>\r\n  </clipPath>\r\n  <clipPath id=\"pd39c0c059e\">\r\n   <rect height=\"597.96\" width=\"29.898\" x=\"589.865938\" y=\"7.2\"/>\r\n  </clipPath>\r\n </defs>\r\n</svg>\r\n",
      "image/png": "[encoded data removed]"
     },
     "metadata": {
      "needs_background": "light"
     }
    }
   ],
   "source": [
    "# sns.set(font_scale=1.5)\n",
    "fig, ax = plt.subplots(1,1,figsize=(11,11))\n",
    "\n",
    "cat_dict = dict( enumerate(dataset['Feeling'].cat.categories ) )\n",
    "\n",
    "y_pred_cats = [cat_dict[i] for i in y_pred.cpu().numpy().tolist()]\n",
    "y_true_cats = [cat_dict[i] for i in y_true.cpu().numpy().tolist()]\n",
    "\n",
    "matriz_de_confusao = 100*confusion_matrix(y_pred_cats, y_true_cats, normalize='true', labels=list(cat_dict.values()))\n",
    "# normalize{‘true’, ‘pred’, ‘all’}, default=None\n",
    "# Normalizes confusion matrix over the true (rows), predicted (columns) conditions or all the population. If None, confusion matrix will not be normalized.\n",
    "\n",
    "#criando list com as emoções\n",
    "emotion_class = ['Angry','Disgust','Fear','Happy','Sad','Surprise']\n",
    "\n",
    "df_matriz_de_confusao = pd.DataFrame(matriz_de_confusao, emotion_class, emotion_class)\n",
    "\n",
    "cfm = ConfusionMatrixDisplay(matriz_de_confusao)\n",
    "\n",
    "cfm.plot(ax=ax, cmap='RdBu')\n",
    "\n",
    "ax.set_xticklabels(labels=list(cat_dict.values()))\n",
    "ax.set_yticklabels(labels=list(cat_dict.values()))\n",
    "\n",
    "ax.grid(False)"
   ]
  },
  {
   "cell_type": "code",
   "execution_count": 51,
   "metadata": {},
   "outputs": [
    {
     "output_type": "execute_result",
     "data": {
      "text/plain": [
       "0.9784100836141271"
      ]
     },
     "metadata": {},
     "execution_count": 51
    }
   ],
   "source": [
    "accs[-1]"
   ]
  },
  {
   "cell_type": "code",
   "execution_count": 52,
   "metadata": {},
   "outputs": [
    {
     "output_type": "stream",
     "name": "stdout",
     "text": [
      "76.10%\n"
     ]
    }
   ],
   "source": [
    "test_acc = calc_accuracy(Y_pred_tensor.cpu(), y_true.cpu())     # calcula a taxa de acerto atual\n",
    "print(f'{100*test_acc:.2f}%')"
   ]
  },
  {
   "cell_type": "code",
   "execution_count": 53,
   "metadata": {},
   "outputs": [],
   "source": [
    "torch.save(Model, cwd+f\"/../../models/emotions_classifier_lstm_glove_{str(num_dims)}.pth\")\n",
    "torch.save(Model.state_dict(), cwd+f\"/../../dicts/emotions_classifier_dict_lstm_glove_{str(num_dims)}\")"
   ]
  },
  {
   "cell_type": "code",
   "execution_count": 55,
   "metadata": {},
   "outputs": [
    {
     "output_type": "execute_result",
     "data": {
      "text/plain": [
       "'d:\\\\Dropbox\\\\GitHub\\\\2020_INF425_NLP_SeReS\\\\eda\\\\exercises/../../models/emotions_classifier_lstm_glove_50.pth'"
      ]
     },
     "metadata": {},
     "execution_count": 55
    }
   ],
   "source": [
    "cwd+f\"/../../models/emotions_classifier_lstm_glove_{str(num_dims)}.pth\""
   ]
  },
  {
   "cell_type": "code",
   "execution_count": null,
   "metadata": {},
   "outputs": [],
   "source": []
  },
  {
   "cell_type": "code",
   "execution_count": null,
   "metadata": {},
   "outputs": [],
   "source": []
  },
  {
   "cell_type": "code",
   "execution_count": null,
   "metadata": {},
   "outputs": [],
   "source": []
  },
  {
   "cell_type": "code",
   "execution_count": null,
   "metadata": {},
   "outputs": [],
   "source": []
  },
  {
   "cell_type": "code",
   "execution_count": null,
   "metadata": {},
   "outputs": [],
   "source": []
  },
  {
   "cell_type": "code",
   "execution_count": null,
   "metadata": {},
   "outputs": [],
   "source": []
  },
  {
   "cell_type": "code",
   "execution_count": null,
   "metadata": {},
   "outputs": [],
   "source": []
  },
  {
   "cell_type": "code",
   "execution_count": null,
   "metadata": {},
   "outputs": [],
   "source": []
  },
  {
   "cell_type": "code",
   "execution_count": null,
   "metadata": {},
   "outputs": [],
   "source": []
  },
  {
   "cell_type": "code",
   "execution_count": null,
   "metadata": {},
   "outputs": [],
   "source": []
  }
 ]
}